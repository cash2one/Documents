{
 "cells": [
  {
   "cell_type": "code",
   "execution_count": 24,
   "metadata": {
    "collapsed": false
   },
   "outputs": [
    {
     "name": "stdout",
     "output_type": "stream",
     "text": [
      "['105', '555', '564']\n"
     ]
    }
   ],
   "source": [
    "# This connects to the sgz platform server\n",
    "# and list all files in /home/admin\n",
    "import pexpect\n",
    "password = 'Skymoons&2013%crimoon@2015*!+&weiwubaQi'\n",
    "ssh_opt= \"-p2009 admin@175.25.18.161 ls /home/admin/server/ | grep '^gameserver'\".split()\n",
    "\n",
    "ssh_child = pexpect.spawn('ssh', ssh_opt)\n",
    "try:\n",
    "    index = ssh_child.expect(['password:', '(yes/no)?'])\n",
    "    if index == 0:\n",
    "        ssh_child.sendline(password)\n",
    "    elif index == 1:\n",
    "        ssh_child.sendline('yes')\n",
    "        ssh_child.expect('password:')\n",
    "        ssh_child.sendline(password)\n",
    "    #ssh_child.sendline('ls -lhtr /home/admin/')\n",
    "except pexpect.EOF:\n",
    "    print \"EOF\"\n",
    "    ssh_child.close()\n",
    "except pexpect.TIMEOUT:\n",
    "    print \"TIMEOUT\"\n",
    "    ssh_child.close()\n",
    "    \n",
    "ls_output = ssh_child.read().split('\\r\\n')\n",
    "numbers = map(lambda x:x.lstrip('gameserver'), ls_output[1:len(ls_output)-1])\n",
    "print numbers"
   ]
  },
  {
   "cell_type": "code",
   "execution_count": 10,
   "metadata": {
    "collapsed": false
   },
   "outputs": [],
   "source": [
    "from pexpect import pxssh\n",
    "try:\n",
    "    s = pxssh.pxssh()\n",
    "    hostname = '175.25.18.136'\n",
    "    username = 'admin'\n",
    "    password = 'Skymoons&2013%crimoon@2015*!+&weiwubaQi'\n",
    "    #cmd = \"ls -lh /etc/init.d/\\r\\n\"\n",
    "    cmd = 'mysql -uroot -S /tmp/mysqlzz65.sock -e \"show databases;\"  2> /dev/null;echo $?'\n",
    "    s.login(hostname, username, password, port=2009)\n",
    "    s.sendline(cmd)\n",
    "    s.prompt(timeout=600)\n",
    "    output = s.before.split('\\r\\n')\n",
    "    for i in output[1:len(output)-1]:\n",
    "        if i == 0:\n",
    "            slave_status = 'mysql -uroot -S /tmp/mysqlzz65.sock -e \"show slave status\\G\"'\n",
    "            s.sendline(slave_status)\n",
    "            s.prompt()\n",
    "            print s.before\n",
    "    s.logout()\n",
    "except pxssh.ExceptionPxssh as e:\n",
    "    print 'pxssh failed on login.'\n",
    "    print e"
   ]
  },
  {
   "cell_type": "code",
   "execution_count": 58,
   "metadata": {
    "collapsed": false
   },
   "outputs": [
    {
     "name": "stdout",
     "output_type": "stream",
     "text": [
      "['        mysql -uroot -S /tmp/mysqlzz65.sock -e \"show databases;\" > /d \\rev/null 2>&1;[ $(echo $?) == 0 ] &&         mysql -uroot -S /tmp/mysqlzz65.sock  \\r-e \"show slave status\\\\G\" | grep \"Running\" | sed \"s/^ *//\" ||         mysql -uroo \\rt -S /tmp/mysqlzz65.sock -pdsdxfsh2013game65 -e \"show slave status\\\\G\" | grep \"Ru \\rnning\" | sed \"s/^ *//\"', 'Slave_IO_Running: Yes', 'Slave_SQL_Running: Yes', '']\n",
      "Slave_IO_Running: Yes\n",
      "Slave_SQL_Running: Yes\n"
     ]
    }
   ],
   "source": [
    "# check MySQL slave status\n",
    "# demo 1\n",
    "from pexpect import pxssh\n",
    "try:\n",
    "    s = pxssh.pxssh()\n",
    "    hostname = '175.25.18.136'\n",
    "    username = 'admin'\n",
    "    password = 'Skymoons&2013%crimoon@2015*!+&weiwubaQi'\n",
    "    #cmd = \"ls -lh /etc/init.d/\\r\\n\"\n",
    "    cmd = '''\\\n",
    "        mysql -uroot -S /tmp/mysqlzz{0}.sock -e \"show databases;\" > /dev/null 2>&1;[ $(echo $?) == 0 ] && \\\n",
    "        mysql -uroot -S /tmp/mysqlzz{0}.sock -e \"show slave status\\G\" | grep \"Running\" | sed \"s/^ *//\" || \\\n",
    "        mysql -uroot -S /tmp/mysqlzz{0}.sock -p{1} -e \"show slave status\\G\" | grep \"Running\" | sed \"s/^ *//\"\n",
    "        '''.format('65', 'dsdxfsh2013game65')\n",
    "    s.login(hostname, username, password, port=2009)\n",
    "    s.sendline(cmd)\n",
    "    s.prompt(timeout=60)\n",
    "    output = s.before.split('\\r\\n')\n",
    "    print output\n",
    "    print output[1]\n",
    "    print output[2]\n",
    "    s.logout()\n",
    "except pxssh.ExceptionPxssh as e:\n",
    "    print 'pxssh failed on login.'\n",
    "    print e"
   ]
  },
  {
   "cell_type": "code",
   "execution_count": null,
   "metadata": {
    "collapsed": false
   },
   "outputs": [],
   "source": [
    "# check MySQL slave status\n",
    "# demo 2\n",
    "import sys \n",
    "import getopt\n",
    "import pexpect\n",
    "from pexpect import pxssh\n",
    "from sh import awk,sed,cat,tr,echo\n",
    "\n",
    "# active gameserver alias\n",
    "active_alias = list(awk(awk('$14 ~ /^0$/ { print $0 }', 'zz_full.info'), '{print $1}'))\n",
    "active_alias = map(lambda x: str(x.rstrip()), active_alias)\n",
    "# active gameserver ip(public)\n",
    "active_ip = list(awk(awk('$14 ~ /^0$/ { print $0 }', 'zz_full.info'), '{print $3}'))\n",
    "active_ip = map(lambda x: str(x.rstrip()), active_ip)\n",
    "# gameserver intranet ip\n",
    "intra_ip = list(awk(awk('$14 ~ /^0$/ { print $0 }', 'zz_full.info'), '{print $3}'))\n",
    "# mysql slave login passwd\n",
    "sql_passwd = list(awk(awk('$14 ~ /^0$/ { print $0 }', 'zz_full.info'), '{print $10}'))\n",
    "sql_passwd = map(lambda x: str(x.rstrip()), sql_passwd)\n",
    "\n",
    "number = map(lambda x:x.lstrip('z_'), active_alias)\n",
    "alias_ip_passwd = dict(zip(active_alias, zip(number,active_ip, sql_passwd)))\n",
    "alias_index = sorted(alias_ip_passwd)\n"
   ]
  },
  {
   "cell_type": "code",
   "execution_count": null,
   "metadata": {
    "collapsed": true
   },
   "outputs": [],
   "source": [
    "# check MySQL slave status\n",
    "# demo 3\n",
    "def single_gameserver(num, hostname, passwd):\n",
    "    try:\n",
    "        cmd = '''\\\n",
    "        mysql -uroot -S /tmp/mysqlzz{0}.sock -e \"show databases;\" > /dev/null 2>&1;[ $(echo $?) == 0 ] && \\\n",
    "        mysql -uroot -S /tmp/mysqlzz{0}.sock -e \"show slave status\\G\" | grep \"Running\" | sed \"s/^ *//\" || \\\n",
    "        mysql -uroot -S /tmp/mysqlzz{0}.sock -p{1} -e \"show slave status\\G\" | grep \"Running\" | sed \"s/^ *//\"\n",
    "        '''.format('65', 'dsdxfsh2013game65')\n",
    "        \n",
    "        s = pxssh.pxssh()\n",
    "        s.login(hostname, username, password, port=2009)\n",
    "        s.sendline(cmd)\n",
    "        s.prompt(timeout=60)\n",
    "        output = s.before.split('\\r\\n')\n",
    "        print 'gameserver' + num\n",
    "        print output[1]\n",
    "        print output[2]\n",
    "        s.logout()\n",
    "    except pxssh.ExceptionPxssh as e:\n",
    "        print 'pxssh failed on login.'\n",
    "        print e"
   ]
  }
 ],
 "metadata": {
  "kernelspec": {
   "display_name": "Python 2",
   "language": "python",
   "name": "python2"
  },
  "language_info": {
   "codemirror_mode": {
    "name": "ipython",
    "version": 2
   },
   "file_extension": ".py",
   "mimetype": "text/x-python",
   "name": "python",
   "nbconvert_exporter": "python",
   "pygments_lexer": "ipython2",
   "version": "2.7.11"
  }
 },
 "nbformat": 4,
 "nbformat_minor": 0
}
