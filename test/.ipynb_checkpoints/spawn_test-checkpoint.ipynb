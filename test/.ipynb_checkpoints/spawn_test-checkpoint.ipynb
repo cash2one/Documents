{
 "cells": [
  {
   "cell_type": "code",
   "execution_count": 23,
   "metadata": {
    "collapsed": false
   },
   "outputs": [
    {
     "name": "stdout",
     "output_type": "stream",
     "text": [
      "['105', '555', '564']\n"
     ]
    }
   ],
   "source": [
    "# This connects to the sgz platform server\n",
    "# and list all files in /home/admin\n",
    "import pexpect\n",
    "password = 'Skymoons&2013%crimoon@2015*!+&weiwubaQi'\n",
    "ssh_opt= \"-p2009 admin@175.25.18.161 ls /home/admin/server/ | grep '^gameserver'\".split()\n",
    "\n",
    "ssh_child = pexpect.spawn('ssh', ssh_opt)\n",
    "try:\n",
    "    index = ssh_child.expect(['password:', '(yes/no)?'])\n",
    "    if index == 0:\n",
    "        ssh_child.sendline(password)\n",
    "    elif index == 1:\n",
    "        ssh_child.sendline('yes')\n",
    "        ssh_child.expect('password:')\n",
    "        ssh_child.sendline(password)\n",
    "    #ssh_child.sendline('ls -lhtr /home/admin/')\n",
    "except pexpect.EOF:\n",
    "    print \"EOF\"\n",
    "    ssh_child.close()\n",
    "except pexpect.TIMEOUT:\n",
    "    print \"TIMEOUT\"\n",
    "    ssh_child.close()\n",
    "    \n",
    "ls_output = ssh_child.read().split('\\r\\n')\n",
    "numbers = map(lambda x:x.lstrip('gameserver'), ls_output[1:len(ls_output)-1])\n",
    "print numbers"
   ]
  },
  {
   "cell_type": "code",
   "execution_count": 1,
   "metadata": {
    "collapsed": false
   },
   "outputs": [
    {
     "name": "stdout",
     "output_type": "stream",
     "text": [
      "pxssh failed on login.\n",
      "could not synchronize with original prompt\n"
     ]
    }
   ],
   "source": [
    "from pexpect import pxssh\n",
    "try:\n",
    "    s = pxssh.pxssh()\n",
    "    hostname = '175.25.18.153'\n",
    "    username = 'admin'\n",
    "    password = 'Skymoons&2013%crimoon@2015*!+&weiwubaQi'\n",
    "    cmd = \"ls -lh /etc/init.d/\\r\\n\"\n",
    "    \n",
    "    s.login(hostname, username, password, port=2009)\n",
    "    s.sendline(cmd)\n",
    "    s.prompt()\n",
    "    print s.before\n",
    "    print \n",
    "    s.logout()\n",
    "except pxssh.ExceptionPxssh as e:\n",
    "    print 'pxssh failed on login.'\n",
    "    print e"
   ]
  },
  {
   "cell_type": "code",
   "execution_count": null,
   "metadata": {
    "collapsed": true
   },
   "outputs": [],
   "source": []
  }
 ],
 "metadata": {
  "kernelspec": {
   "display_name": "Python 2",
   "language": "python",
   "name": "python2"
  },
  "language_info": {
   "codemirror_mode": {
    "name": "ipython",
    "version": 2
   },
   "file_extension": ".py",
   "mimetype": "text/x-python",
   "name": "python",
   "nbconvert_exporter": "python",
   "pygments_lexer": "ipython2",
   "version": "2.7.11"
  }
 },
 "nbformat": 4,
 "nbformat_minor": 0
}
