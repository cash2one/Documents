{
 "cells": [
  {
   "cell_type": "code",
   "execution_count": 28,
   "metadata": {
    "collapsed": false
   },
   "outputs": [
    {
     "name": "stdout",
     "output_type": "stream",
     "text": [
      " \r\n",
      "total 440K\r\n",
      "-rw-rw-r--    1 admin admin  74K 7月  28 2014 script0728.tar.gz\r\n",
      "drwxrwxr-x    2 admin admin 4.0K 11月  3 2014 gameserbk_20141103\r\n",
      "drwxrwxr-x    6 admin admin 4.0K 11月  4 2014 gameserbk_20141016\r\n",
      "drwxrwxr-x    2 admin admin 4.0K 11月  4 2014 gameserbk_20141104\r\n",
      "drwxrwxr-x    2 admin admin 4.0K 1月  24 2015 gameserbk_20141208\r\n",
      "drwxrwxr-x    2 admin admin 4.0K 2月   3 2015 gameserbk_20150203\r\n",
      "drwxrwxr-x    2 admin admin 4.0K 4月  27 2015 appgroup_bkdb\r\n",
      "drwxrwxr-x    2 admin admin 4.0K 5月  25 2015 upmysql\r\n",
      "drwxrwxr-x    7 admin admin 4.0K 12月  8 2015 python\r\n",
      "drwxrwxr-x   10 admin admin 4.0K 3月  24 23:56 rsync\r\n",
      "-rw-r-----    1 admin admin 284K 3月  25 17:00 erl_crash.dump\r\n",
      "drwxr-xr-x    4 root  root  4.0K 5月   4 15:41 backup\r\n",
      "drwxrwxr-x    2 admin admin 4.0K 6月   5 10:35 20160605\r\n",
      "drwxrwxr-x    4 admin admin 4.0K 6月  30 14:22 ad_server\r\n",
      "drwxrwxr-x   17 admin admin 4.0K 7月   1 00:16 anaconda2\r\n",
      "drwxr-xr-x.  13 admin admin 4.0K 7月   1 18:06 server\r\n",
      "drwxrwxr-x    5 admin admin 4.0K 7月  15 12:53 kanri\r\n",
      "drwxrwxr-x. 568 admin admin  20K 7月  16 23:47 upload\r\n",
      "\n"
     ]
    }
   ],
   "source": [
    "# This connects to the sgz platform server\n",
    "# and list all files in /home/admin\n",
    "import pexpect\n",
    "password = 'Skymoons&2013%crimoon@2015*!+&weiwubaQi'\n",
    "ssh_opt= \"-p2009 admin@175.25.18.153 ls -lhtr /home/admin\".split()\n",
    "\n",
    "ssh_child = pexpect.spawn('ssh', ssh_opt)\n",
    "try:\n",
    "    index = ssh_child.expect(['password:', '(yes/no)?'])\n",
    "    if index == 0:\n",
    "        ssh_child.sendline(password)\n",
    "    elif index == 1:\n",
    "        ssh_child.sendline('yes')\n",
    "        ssh_child.expect('password:')\n",
    "        ssh_child.sendline(password)\n",
    "    \n",
    "    #ssh_child.sendline('ls -lhtr /home/admin/')\n",
    "    ls_output = ssh_child.read()\n",
    "    print ls_output\n",
    "except pexpect.EOF:\n",
    "    print \"EOF\"\n",
    "    ssh_child.close()\n",
    "except pexpect.TIMEOUT:\n",
    "    print \"TIMEOUT\"\n",
    "    ssh_child.close()"
   ]
  },
  {
   "cell_type": "code",
   "execution_count": 26,
   "metadata": {
    "collapsed": false
   },
   "outputs": [
    {
     "name": "stdout",
     "output_type": "stream",
     "text": [
      "uptime\r\n",
      " 16:03:56 up 277 days,  7:05,  3 users,  load average: 0.09, 0.15, 0.11\r\n",
      "\n"
     ]
    }
   ],
   "source": [
    "from pexpect import pxssh\n",
    "try:\n",
    "    s = pxssh.pxssh()\n",
    "    hostname = '175.25.18.153'\n",
    "    username = 'admin'\n",
    "    password = 'Skymoons&2013%crimoon@2015*!+&weiwubaQi'\n",
    "    \n",
    "    s.login(hostname, username, password, port=2009)\n",
    "    s.sendline('uptime')\n",
    "    s.prompt()\n",
    "    print s.before\n",
    "    print \n",
    "    s.logout()\n",
    "except pxssh.ExceptionPxssh as e:\n",
    "    print 'pxssh failed on login.'\n",
    "    print e"
   ]
  }
 ],
 "metadata": {
  "kernelspec": {
   "display_name": "Python 2",
   "language": "python",
   "name": "python2"
  },
  "language_info": {
   "codemirror_mode": {
    "name": "ipython",
    "version": 2
   },
   "file_extension": ".py",
   "mimetype": "text/x-python",
   "name": "python",
   "nbconvert_exporter": "python",
   "pygments_lexer": "ipython2",
   "version": "2.7.11"
  }
 },
 "nbformat": 4,
 "nbformat_minor": 0
}
