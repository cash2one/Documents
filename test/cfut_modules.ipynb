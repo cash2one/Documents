{
 "cells": [
  {
   "cell_type": "code",
   "execution_count": null,
   "metadata": {
    "collapsed": true
   },
   "outputs": [],
   "source": [
    "# A simple attempt -- parse linux command line\n",
    "# python cfut.py -s 127.0.0.1 -uadmin -P2009 -pdousan2014 data_box.config data_fire.config\n",
    "import sys\n",
    "import getopt\n",
    "\n",
    "optlist, args = getopt.getopt(sys.argv[1:], 's:u:P:p:')\n",
    "#print optlist\n",
    "#print args\n",
    "options = dict(optlist)"
   ]
  },
  {
   "cell_type": "code",
   "execution_count": null,
   "metadata": {
    "collapsed": true
   },
   "outputs": [],
   "source": [
    "# parse hostname\n",
    "ALL_SERVERS=False\n",
    "if '-s' in options:\n",
    "    hostname = options['-s']\n",
    "    if 'zz' in hostname:\n",
    "        if hostname in alias_to_ip.keys():\n",
    "            num = tr(echo(hostname), '-dc', '[0-9]') # gameserver{number}\n",
    "            hostname = alias_to_ip[hostname]\n",
    "        else:\n",
    "            pass  # exception and exit \n",
    "    if '192' in hostname:\n",
    "        if hostname in intra_to_ip.keys():\n",
    "            hostname = intra_to_ip[hostname]\n",
    "        else:\n",
    "            pass  # exception and exit\n",
    "    if '175' in hostname:\n",
    "        if hostname in ip_list:\n",
    "            pass  # Right,do nothing\n",
    "        else \n",
    "            pass  # exception and exit\n",
    "else\n",
    "    ALL_SERVERS=True"
   ]
  },
  {
   "cell_type": "code",
   "execution_count": null,
   "metadata": {
    "collapsed": true
   },
   "outputs": [],
   "source": [
    "# parse username\n",
    "if '-u' in options:\n",
    "    username = options['-u']\n",
    "    if 'admin' is username:\n",
    "        pass\n",
    "    else:\n",
    "        pass  # exception and exit\n",
    "else:\n",
    "    username = 'admin'"
   ]
  },
  {
   "cell_type": "code",
   "execution_count": null,
   "metadata": {
    "collapsed": true
   },
   "outputs": [],
   "source": [
    "# parse port\n",
    "if '-p' in options:\n",
    "    port = options['-p']\n",
    "    if '2009' is port:\n",
    "        pass\n",
    "    else:\n",
    "        pass  # exception and exit\n",
    "else:\n",
    "    port = '2009'"
   ]
  },
  {
   "cell_type": "code",
   "execution_count": null,
   "metadata": {
    "collapsed": true
   },
   "outputs": [],
   "source": [
    "# read config file zz_full.info,\n",
    "# parse and generate alias_to_ip,intra_to_ip dicts,\n",
    "# and ip_list list:\n",
    "\n",
    "# hostname alise list\n",
    "alias = list(awk((sed(cat('zz_full.info'), \"1d\")), \"{print $1}\"))\n",
    "alias = [ str(x.rstrip()) for x in alias ]\n",
    "alias = filter(None, alias)\n",
    "# Of course, you can merge the two above statements:\n",
    "# alias = filter(None,  [ str(x.rstrip()) for x in alias ])\n",
    "# or, the three above statements:\n",
    "# alias = filter(None,  \n",
    "#               [ str(x.rstrip()) for x in list(awk((sed(cat('zz_full.info'), \"1d\")), \"{print $1}\"))])\n",
    "\n",
    "# intranet ip list\n",
    "intra = list(awk((sed(cat('zz_full.info'), \"1d\")), \"{print $6}\"))\n",
    "intra = [ str(x.rstrip()) for x in intra ]\n",
    "intra = filter(None, intra)\n",
    "\n",
    "# public ip list\n",
    "ip_list = list(awk((sed(cat('zz_full.info'), \"1d\")), \"{print $3}\"))\n",
    "ip_list = [ str(x.rstrip()) for x in ip_list ]\n",
    "ip_list = filter(None, ip_list)\n",
    "\n",
    "alias_to_ip = dict(zip(alias, ip_list))\n",
    "intra_to_ip = dict(zip(intra, ip_list))\n"
   ]
  },
  {
   "cell_type": "code",
   "execution_count": null,
   "metadata": {
    "collapsed": true
   },
   "outputs": [],
   "source": [
    "# login remote server\n",
    "# and running\n",
    "# single gameserver\n",
    "from pexpect import pxssh\n",
    "try:\n",
    "    s = pxssh.pxssh()\n",
    "    #ostname = '175.25.18.153'\n",
    "    #sername = 'admin'\n",
    "    password = 'Skymoons&2013%crimoon@2015*!+&weiwubaQi'\n",
    "    cmd = \"ls -l /home/admin/gameserver\" + str(num) + \"/config/\" + args[0] + '\\r\\n'\n",
    "    #md = \"ls -l /home/admin/server/gameserver153/config/data_box.config\\r\\n\"\n",
    "    \n",
    "    s.login(hostname, username, password, port=2009)\n",
    "    s.sendline(cmd)\n",
    "    s.prompt()\n",
    "    print s.before\n",
    "    s.logout()\n",
    "except pxssh.ExceptionPxssh as e:\n",
    "    print 'pxssh failed on login.'\n",
    "    print e"
   ]
  }
 ],
 "metadata": {
  "kernelspec": {
   "display_name": "Python 2",
   "language": "python",
   "name": "python2"
  },
  "language_info": {
   "codemirror_mode": {
    "name": "ipython",
    "version": 2
   },
   "file_extension": ".py",
   "mimetype": "text/x-python",
   "name": "python",
   "nbconvert_exporter": "python",
   "pygments_lexer": "ipython2",
   "version": "2.7.11"
  }
 },
 "nbformat": 4,
 "nbformat_minor": 0
}
