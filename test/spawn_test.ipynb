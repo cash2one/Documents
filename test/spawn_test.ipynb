{
 "cells": [
  {
   "cell_type": "code",
   "execution_count": 28,
   "metadata": {
    "collapsed": false
   },
   "outputs": [
    {
     "name": "stdout",
     "output_type": "stream",
     "text": [
      " \r\n",
      "total 440K\r\n",
      "-rw-rw-r--    1 admin admin  74K 7月  28 2014 script0728.tar.gz\r\n",
      "drwxrwxr-x    2 admin admin 4.0K 11月  3 2014 gameserbk_20141103\r\n",
      "drwxrwxr-x    6 admin admin 4.0K 11月  4 2014 gameserbk_20141016\r\n",
      "drwxrwxr-x    2 admin admin 4.0K 11月  4 2014 gameserbk_20141104\r\n",
      "drwxrwxr-x    2 admin admin 4.0K 1月  24 2015 gameserbk_20141208\r\n",
      "drwxrwxr-x    2 admin admin 4.0K 2月   3 2015 gameserbk_20150203\r\n",
      "drwxrwxr-x    2 admin admin 4.0K 4月  27 2015 appgroup_bkdb\r\n",
      "drwxrwxr-x    2 admin admin 4.0K 5月  25 2015 upmysql\r\n",
      "drwxrwxr-x    7 admin admin 4.0K 12月  8 2015 python\r\n",
      "drwxrwxr-x   10 admin admin 4.0K 3月  24 23:56 rsync\r\n",
      "-rw-r-----    1 admin admin 284K 3月  25 17:00 erl_crash.dump\r\n",
      "drwxr-xr-x    4 root  root  4.0K 5月   4 15:41 backup\r\n",
      "drwxrwxr-x    2 admin admin 4.0K 6月   5 10:35 20160605\r\n",
      "drwxrwxr-x    4 admin admin 4.0K 6月  30 14:22 ad_server\r\n",
      "drwxrwxr-x   17 admin admin 4.0K 7月   1 00:16 anaconda2\r\n",
      "drwxr-xr-x.  13 admin admin 4.0K 7月   1 18:06 server\r\n",
      "drwxrwxr-x    5 admin admin 4.0K 7月  15 12:53 kanri\r\n",
      "drwxrwxr-x. 568 admin admin  20K 7月  16 23:47 upload\r\n",
      "\n"
     ]
    }
   ],
   "source": [
    "# This connects to the sgz platform server\n",
    "# and list all files in /home/admin\n",
    "import pexpect\n",
    "password = 'Skymoons&2013%crimoon@2015*!+&weiwubaQi'\n",
    "ssh_opt= \"-p2009 admin@175.25.18.153 ls -lhtr /home/admin\".split()\n",
    "\n",
    "ssh_child = pexpect.spawn('ssh', ssh_opt)\n",
    "try:\n",
    "    index = ssh_child.expect(['password:', '(yes/no)?'])\n",
    "    if index == 0:\n",
    "        ssh_child.sendline(password)\n",
    "    elif index == 1:\n",
    "        ssh_child.sendline('yes')\n",
    "        ssh_child.expect('password:')\n",
    "        ssh_child.sendline(password)\n",
    "    \n",
    "    #ssh_child.sendline('ls -lhtr /home/admin/')\n",
    "    ls_output = ssh_child.read()\n",
    "    print ls_output\n",
    "except pexpect.EOF:\n",
    "    print \"EOF\"\n",
    "    ssh_child.close()\n",
    "except pexpect.TIMEOUT:\n",
    "    print \"TIMEOUT\"\n",
    "    ssh_child.close()"
   ]
  },
  {
   "cell_type": "code",
   "execution_count": 6,
   "metadata": {
    "collapsed": false
   },
   "outputs": [
    {
     "name": "stdout",
     "output_type": "stream",
     "text": [
      "ls -lh /etc/init.d/\r\n",
      "total 332K\r\n",
      "-rwxr-xr-x. 1 root root  3.3K 6月  22 2012 \u001b[0m\u001b[01;32mauditd\u001b[0m\r\n",
      "-rwxr-xr-x. 1 root root  2.5K 7月  19 2011 \u001b[01;32mavahi-daemon\u001b[0m\r\n",
      "-rwxr-xr-x. 1 root root  5.4K 6月  22 2012 \u001b[01;32mcgconfig\u001b[0m\r\n",
      "-rwxr-xr-x. 1 root root  3.6K 6月  22 2012 \u001b[01;32mcgred\u001b[0m\r\n",
      "-rwxr-xr-x. 1 root root  2.8K 11月 23 2013 \u001b[01;32mcrond\u001b[0m\r\n",
      "-rwxr-xr-x  1 root root  2.0K 4月   7 17:58 \u001b[01;32mfilebeat\u001b[0m\r\n",
      "-rw-r--r--. 1 root root   18K 4月  27 2012 functions\r\n",
      "-rwxr-xr-x. 1 root root  1.8K 7月  20 2011 \u001b[01;32mhaldaemon\u001b[0m\r\n",
      "-rwxr-xr-x. 1 root root  5.7K 4月  27 2012 \u001b[01;32mhalt\u001b[0m\r\n",
      "-rwxr-xr-x. 1 root root   18K 6月  22 2012 \u001b[01;32mhsqldb\u001b[0m\r\n",
      "-rwxr-xr-x. 1 root root  3.3K 2月  14 2012 \u001b[01;32mhttpd\u001b[0m\r\n",
      "-rwxr-xr-x. 1 root root  1.8K 6月  22 2012 \u001b[01;32mibacm\u001b[0m\r\n",
      "-rwxr-xr-x. 1 root root  8.6K 2月  25 2012 \u001b[01;32mip6tables\u001b[0m\r\n",
      "-rwxr-xr-x. 1 root root  8.5K 2月  25 2012 \u001b[01;32miptables\u001b[0m\r\n",
      "-rwxr-xr-x. 1 root root  4.5K 4月  10 2012 \u001b[01;32miscsi\u001b[0m\r\n",
      "-rwxr-xr-x. 1 root root  3.9K 4月  10 2012 \u001b[01;32miscsid\u001b[0m\r\n",
      "-rwxr-xr-x. 1 root root   652 4月  27 2012 \u001b[01;32mkillall\u001b[0m\r\n",
      "-rwxr-xr-x. 1 root root   14K 6月  22 2012 \u001b[01;32mlibvirt-guests\u001b[0m\r\n",
      "-rwxr-xr-x. 1 root root  2.6K 4月  27 2012 \u001b[01;32mmdmonitor\u001b[0m\r\n",
      "-rwxr-xr-x. 1 root root  2.2K 9月  23 2011 \u001b[01;32mmessagebus\u001b[0m\r\n",
      "-rwxr-xr-x. 1 root root   11K 12月 10 2013 \u001b[01;32mmysqld\u001b[0m\r\n",
      "-rwxr-xr-x. 1 root root  7.2K 12月  8 2011 \u001b[01;32mnetcf-transaction\u001b[0m\r\n",
      "-rwxr-xr-x. 1 root root  3.0K 4月  27 2012 \u001b[01;32mnetconsole\u001b[0m\r\n",
      "-rwxr-xr-x. 1 root root  5.4K 4月  27 2012 \u001b[01;32mnetfs\u001b[0m\r\n",
      "-rwxr-xr-x. 1 root root  6.2K 4月  27 2012 \u001b[01;32mnetwork\u001b[0m\r\n",
      "-rwxr-xr-x. 1 root root  6.2K 6月  22 2012 \u001b[01;32mnfs\u001b[0m\r\n",
      "-rwxr-xr-x. 1 root root  3.5K 6月  22 2012 \u001b[01;32mnfslock\u001b[0m\r\n",
      "-rwxr-xr-x. 1 root root  3.5K 6月  22 2012 \u001b[01;32mnfs-rdma\u001b[0m\r\n",
      "-rwxr-xr-x. 1 root root  2.0K 7月  15 2013 \u001b[01;32mntpdate\u001b[0m\r\n",
      "-r-xr-xr-x  1 root ossec 1.1K 9月   9 2014 \u001b[01;32mossec\u001b[0m\r\n",
      "-rwxr-xr-x. 1 root root  3.8K 12月  3 2011 \u001b[01;32mpostfix\u001b[0m\r\n",
      "-rwxr-xr-x. 1 root root  1.2K 12月 10 2013 \u001b[01;32mpure-ftpd\u001b[0m\r\n",
      "-rwxr-xr-x. 1 root root  1.6K 5月  20 2009 \u001b[01;32mrdisc\u001b[0m\r\n",
      "-rwxr-xr-x. 1 root root   13K 6月  22 2012 \u001b[01;32mrdma\u001b[0m\r\n",
      "-rwxr-xr-x. 1 root root  1.8K 6月  22 2012 \u001b[01;32mrestorecond\u001b[0m\r\n",
      "-rwxr-xr-x. 1 root root  2.1K 6月  22 2012 \u001b[01;32mrpcbind\u001b[0m\r\n",
      "-rwxr-xr-x. 1 root root  2.5K 6月  22 2012 \u001b[01;32mrpcgssd\u001b[0m\r\n",
      "-rwxr-xr-x. 1 root root  2.3K 6月  22 2012 \u001b[01;32mrpcidmapd\u001b[0m\r\n",
      "-rwxr-xr-x. 1 root root  2.5K 6月  22 2012 \u001b[01;32mrpcsvcgssd\u001b[0m\r\n",
      "-rwxr-xr-x. 1 root root  2.0K 5月  17 2012 \u001b[01;32mrsyslog\u001b[0m\r\n",
      "-rwxr-xr-x  1 root root  3.1K 8月  10 2014 \u001b[01;32msalt-master\u001b[0m\r\n",
      "-rwxr-xr-x  1 root root  3.7K 8月  10 2014 \u001b[01;32msalt-minion\u001b[0m\r\n",
      "-rwxr-xr-x  1 root root  3.0K 8月  10 2014 \u001b[01;32msalt-syndic\u001b[0m\r\n",
      "-rwxr-xr-x. 1 root root  1.7K 6月  22 2012 \u001b[01;32msandbox\u001b[0m\r\n",
      "-rwxr-xr-x. 1 root root  2.1K 4月  12 2010 \u001b[01;32msaslauthd\u001b[0m\r\n",
      "-rwxr-xr-x. 1 root root   647 4月  27 2012 \u001b[01;32msingle\u001b[0m\r\n",
      "-rwxr-xr-x  1 root root  2.2K 3月  25 2014 \u001b[01;32msnmpd\u001b[0m\r\n",
      "-rwxr-xr-x  1 root root  1.7K 3月  25 2014 \u001b[01;32msnmptrapd\u001b[0m\r\n",
      "-rwxr-xr-x  1 root root  1.7K 5月  17 2009 \u001b[01;32msnmptt\u001b[0m\r\n",
      "-rwxr-xr-x. 1 root root  4.6K 6月  22 2012 \u001b[01;32msshd\u001b[0m\r\n",
      "-rwxr-xr-x. 1 root root  2.3K 4月  12 2012 \u001b[01;32msvnserve\u001b[0m\r\n",
      "-rwxr-xr-x. 1 root root  1.2K 11月 23 2013 \u001b[01;32msysstat\u001b[0m\r\n",
      "-rwxr-xr-x. 1 root root  2.3K 6月  22 2012 \u001b[01;32mudev-post\u001b[0m\r\n",
      "-rwxr-xr-x. 1 root root  3.5K 10月  8 2013 \u001b[01;32mxinetd\u001b[0m\r\n",
      "-rwxr-xr-x  1  755 root  2.2K 10月 25 2014 \u001b[01;32mzabbix_agentd\u001b[0m\r\n",
      "\u001b[m\n",
      "\n"
     ]
    }
   ],
   "source": [
    "from pexpect import pxssh\n",
    "try:\n",
    "    s = pxssh.pxssh()\n",
    "    hostname = '175.25.18.153'\n",
    "    username = 'admin'\n",
    "    password = 'Skymoons&2013%crimoon@2015*!+&weiwubaQi'\n",
    "    cmd = \"ls -lh /etc/init.d/\\r\\n\"\n",
    "    \n",
    "    s.login(hostname, username, password, port=2009)\n",
    "    s.sendline(cmd)\n",
    "    s.prompt()\n",
    "    print s.before\n",
    "    print \n",
    "    s.logout()\n",
    "except pxssh.ExceptionPxssh as e:\n",
    "    print 'pxssh failed on login.'\n",
    "    print e"
   ]
  }
 ],
 "metadata": {
  "kernelspec": {
   "display_name": "Python 2",
   "language": "python",
   "name": "python2"
  },
  "language_info": {
   "codemirror_mode": {
    "name": "ipython",
    "version": 2
   },
   "file_extension": ".py",
   "mimetype": "text/x-python",
   "name": "python",
   "nbconvert_exporter": "python",
   "pygments_lexer": "ipython2",
   "version": "2.7.11"
  }
 },
 "nbformat": 4,
 "nbformat_minor": 0
}
