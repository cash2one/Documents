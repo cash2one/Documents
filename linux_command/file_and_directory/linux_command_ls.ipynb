{
 "cells": [
  {
   "cell_type": "markdown",
   "metadata": {},
   "source": [
    "### NAME\n",
    "##### ls - list directory contents\n",
    "\n",
    "### SYNOPSIS\n",
    "##### ls [OPTION]... [FILE]...\n",
    "\n",
    "### DESCRIPTION\n",
    "List information about the FILEs (the current directory by default).  Sort entries alphabetically if none of -cftuvSUX nor --sort is specified.\n",
    "### OPTIONS"
   ]
  },
  {
   "cell_type": "markdown",
   "metadata": {},
   "source": [
    "#### -a, --all\n",
    "do not ignore entries starting with ."
   ]
  },
  {
   "cell_type": "code",
   "execution_count": 4,
   "metadata": {
    "collapsed": false
   },
   "outputs": [
    {
     "name": "stdout",
     "output_type": "stream",
     "text": [
      ".  ..  bash  .git  .ipynb_checkpoints  linux_command  python  README  start.sh\r\n"
     ]
    }
   ],
   "source": [
    "ls -a ~/jupyter/"
   ]
  },
  {
   "cell_type": "markdown",
   "metadata": {},
   "source": [
    "#### -A, --almost-all\n",
    "do not list implied . and .."
   ]
  },
  {
   "cell_type": "code",
   "execution_count": 5,
   "metadata": {
    "collapsed": false
   },
   "outputs": [
    {
     "name": "stdout",
     "output_type": "stream",
     "text": [
      "bash  .git  .ipynb_checkpoints\tlinux_command  python  README  start.sh\r\n"
     ]
    }
   ],
   "source": [
    "ls -A ~/jupyter/"
   ]
  },
  {
   "cell_type": "markdown",
   "metadata": {},
   "source": [
    "#### --author\n",
    "with -l, print the author of each file"
   ]
  },
  {
   "cell_type": "code",
   "execution_count": 6,
   "metadata": {
    "collapsed": false
   },
   "outputs": [
    {
     "name": "stdout",
     "output_type": "stream",
     "text": [
      "total 20\r\n",
      "drwxrwxr-x 3 liheyi liheyi 4096  6月 30 17:40 bash\r\n",
      "drwxrwxr-x 3 liheyi liheyi 4096  6月 30 13:39 linux_command\r\n",
      "drwxrwxr-x 3 liheyi liheyi 4096  7月  7 12:29 python\r\n",
      "-rw-rw-r-- 1 liheyi liheyi   70  7月  6 17:27 README\r\n",
      "-rwxr-xr-x 1 liheyi liheyi   62  6月 25 07:47 start.sh\r\n"
     ]
    }
   ],
   "source": [
    "ls -l ~/jupyter"
   ]
  },
  {
   "cell_type": "code",
   "execution_count": 7,
   "metadata": {
    "collapsed": false
   },
   "outputs": [
    {
     "name": "stdout",
     "output_type": "stream",
     "text": [
      "total 20\r\n",
      "drwxrwxr-x 3 liheyi liheyi liheyi 4096  6月 30 17:40 bash\r\n",
      "drwxrwxr-x 3 liheyi liheyi liheyi 4096  6月 30 13:39 linux_command\r\n",
      "drwxrwxr-x 3 liheyi liheyi liheyi 4096  7月  7 12:29 python\r\n",
      "-rw-rw-r-- 1 liheyi liheyi liheyi   70  7月  6 17:27 README\r\n",
      "-rwxr-xr-x 1 liheyi liheyi liheyi   62  6月 25 07:47 start.sh\r\n"
     ]
    }
   ],
   "source": [
    "ls -l --author ~/jupyter/"
   ]
  },
  {
   "cell_type": "markdown",
   "metadata": {},
   "source": [
    "#### -b, --escape\n",
    "print C-style escapes for nongraphic characters"
   ]
  },
  {
   "cell_type": "code",
   "execution_count": null,
   "metadata": {
    "collapsed": true
   },
   "outputs": [],
   "source": []
  },
  {
   "cell_type": "markdown",
   "metadata": {},
   "source": [
    "#### --block-size=SIZE\n",
    "scale sizes by SIZE before printing them.  \n",
    "E.g., '--block-size=M' prints sizes in units of 1,048,576 bytes.  \n",
    "See SIZE format below."
   ]
  },
  {
   "cell_type": "raw",
   "metadata": {},
   "source": [
    "SIZE is an integer and optional unit (example: 10M is 10*1024*1024).\n",
    "Units are K, M, G, T, P, E, Z, Y (powers of 1024) or KB, MB, ... (powers of 1000)."
   ]
  },
  {
   "cell_type": "code",
   "execution_count": 8,
   "metadata": {
    "collapsed": false
   },
   "outputs": [
    {
     "name": "stdout",
     "output_type": "stream",
     "text": [
      "total 20\r\n",
      "drwxrwxr-x 3 liheyi liheyi 4096  6月 30 17:40 bash\r\n",
      "drwxrwxr-x 3 liheyi liheyi 4096  6月 30 13:39 linux_command\r\n",
      "drwxrwxr-x 3 liheyi liheyi 4096  7月  7 12:29 python\r\n",
      "-rw-rw-r-- 1 liheyi liheyi   70  7月  6 17:27 README\r\n",
      "-rwxr-xr-x 1 liheyi liheyi   62  6月 25 07:47 start.sh\r\n"
     ]
    }
   ],
   "source": [
    "ls -l ~/jupyter"
   ]
  },
  {
   "cell_type": "code",
   "execution_count": 9,
   "metadata": {
    "collapsed": false
   },
   "outputs": [
    {
     "name": "stdout",
     "output_type": "stream",
     "text": [
      "total 1M\r\n",
      "drwxrwxr-x 3 liheyi liheyi 1M  6月 30 17:40 bash\r\n",
      "drwxrwxr-x 3 liheyi liheyi 1M  6月 30 13:39 linux_command\r\n",
      "drwxrwxr-x 3 liheyi liheyi 1M  7月  7 12:29 python\r\n",
      "-rw-rw-r-- 1 liheyi liheyi 1M  7月  6 17:27 README\r\n",
      "-rwxr-xr-x 1 liheyi liheyi 1M  6月 25 07:47 start.sh\r\n"
     ]
    }
   ],
   "source": [
    "ls -l --block-size=M ~/jupyter"
   ]
  },
  {
   "cell_type": "markdown",
   "metadata": {},
   "source": [
    "#### -B, --ignore-backups\n",
    "do not list implied entries ending with ~"
   ]
  },
  {
   "cell_type": "code",
   "execution_count": 10,
   "metadata": {
    "collapsed": false
   },
   "outputs": [
    {
     "name": "stdout",
     "output_type": "stream",
     "text": [
      "total 24\r\n",
      "drwxrwxr-x 3 liheyi liheyi 4096  6月 30 17:40 bash\r\n",
      "drwxrwxr-x 3 liheyi liheyi 4096  6月 30 13:39 linux_command\r\n",
      "drwxrwxr-x 3 liheyi liheyi 4096  7月  7 12:29 python\r\n",
      "-rw-rw-r-- 1 liheyi liheyi   70  7月  6 17:27 README\r\n",
      "-rwxr-xr-x 1 liheyi liheyi   62  6月 25 07:47 start.sh\r\n",
      "-rwxr-xr-x 1 liheyi liheyi   62  7月  7 14:54 start.sh~\r\n"
     ]
    }
   ],
   "source": [
    "ls -l ~/jupyter"
   ]
  },
  {
   "cell_type": "code",
   "execution_count": 12,
   "metadata": {
    "collapsed": false
   },
   "outputs": [
    {
     "name": "stdout",
     "output_type": "stream",
     "text": [
      "total 20\r\n",
      "drwxrwxr-x 3 liheyi liheyi 4096  6月 30 17:40 bash\r\n",
      "drwxrwxr-x 3 liheyi liheyi 4096  6月 30 13:39 linux_command\r\n",
      "drwxrwxr-x 3 liheyi liheyi 4096  7月  7 12:29 python\r\n",
      "-rw-rw-r-- 1 liheyi liheyi   70  7月  6 17:27 README\r\n",
      "-rwxr-xr-x 1 liheyi liheyi   62  6月 25 07:47 start.sh\r\n"
     ]
    }
   ],
   "source": [
    "ls -lB ~/jupyter"
   ]
  },
  {
   "cell_type": "markdown",
   "metadata": {},
   "source": [
    "#### -c "
   ]
  },
  {
   "cell_type": "code",
   "execution_count": 13,
   "metadata": {
    "collapsed": false
   },
   "outputs": [
    {
     "name": "stdout",
     "output_type": "stream",
     "text": [
      "total 20\r\n",
      "drwxrwxr-x 3 liheyi liheyi 4096  6月 30 17:40 bash\r\n",
      "drwxrwxr-x 3 liheyi liheyi 4096  6月 30 13:39 linux_command\r\n",
      "drwxrwxr-x 3 liheyi liheyi 4096  7月  7 12:29 python\r\n",
      "-rw-rw-r-- 1 liheyi liheyi   70  7月  6 17:27 README\r\n",
      "-rwxr-xr-x 1 liheyi liheyi   62  7月  7 14:59 start.sh\r\n"
     ]
    }
   ],
   "source": [
    "ls -l ~/jupyter"
   ]
  },
  {
   "cell_type": "markdown",
   "metadata": {},
   "source": [
    "with  -lt: sort  by, and show, ctime (time of last modification of file status information)  "
   ]
  },
  {
   "cell_type": "code",
   "execution_count": 15,
   "metadata": {
    "collapsed": false
   },
   "outputs": [
    {
     "name": "stdout",
     "output_type": "stream",
     "text": [
      "total 20\r\n",
      "-rwxr-xr-x 1 liheyi liheyi   62  7月  7 14:59 start.sh\r\n",
      "drwxrwxr-x 3 liheyi liheyi 4096  7月  7 12:29 python\r\n",
      "-rw-rw-r-- 1 liheyi liheyi   70  7月  6 17:27 README\r\n",
      "drwxrwxr-x 3 liheyi liheyi 4096  6月 25 00:05 bash\r\n",
      "drwxrwxr-x 3 liheyi liheyi 4096  6月 25 00:05 linux_command\r\n"
     ]
    }
   ],
   "source": [
    "ls -lt -c ~/jupyter"
   ]
  },
  {
   "cell_type": "markdown",
   "metadata": {},
   "source": [
    "with -l: show ctime and sort by name   "
   ]
  },
  {
   "cell_type": "code",
   "execution_count": 17,
   "metadata": {
    "collapsed": false
   },
   "outputs": [
    {
     "name": "stdout",
     "output_type": "stream",
     "text": [
      "total 20\r\n",
      "drwxrwxr-x 3 liheyi liheyi 4096  6月 25 00:05 bash\r\n",
      "drwxrwxr-x 3 liheyi liheyi 4096  6月 25 00:05 linux_command\r\n",
      "drwxrwxr-x 3 liheyi liheyi 4096  7月  7 12:29 python\r\n",
      "-rw-rw-r-- 1 liheyi liheyi   70  7月  6 17:27 README\r\n",
      "-rwxr-xr-x 1 liheyi liheyi   62  7月  7 14:59 start.sh\r\n"
     ]
    }
   ],
   "source": [
    "ls -l -c ~/jupyter"
   ]
  },
  {
   "cell_type": "markdown",
   "metadata": {},
   "source": [
    "otherwise: sort by ctime, newest first"
   ]
  },
  {
   "cell_type": "code",
   "execution_count": 18,
   "metadata": {
    "collapsed": false
   },
   "outputs": [
    {
     "name": "stdout",
     "output_type": "stream",
     "text": [
      "start.sh  python  README  bash\tlinux_command\r\n"
     ]
    }
   ],
   "source": [
    "ls -c ~/jupyter"
   ]
  },
  {
   "cell_type": "markdown",
   "metadata": {},
   "source": [
    "#### -C  \n",
    "list entries by columns"
   ]
  },
  {
   "cell_type": "code",
   "execution_count": 19,
   "metadata": {
    "collapsed": false
   },
   "outputs": [
    {
     "name": "stdout",
     "output_type": "stream",
     "text": [
      "bash  linux_command  python  README  start.sh\r\n"
     ]
    }
   ],
   "source": [
    "ls -C ~/jupyter"
   ]
  },
  {
   "cell_type": "code",
   "execution_count": 21,
   "metadata": {
    "collapsed": false
   },
   "outputs": [
    {
     "name": "stdout",
     "output_type": "stream",
     "text": [
      "bash  linux_command  python  README  start.sh\r\n"
     ]
    }
   ],
   "source": [
    "# -l option seem to be invalid\n",
    "ls -lC ~/jupyter"
   ]
  },
  {
   "cell_type": "markdown",
   "metadata": {},
   "source": [
    "#### --color[=WHEN]\n",
    "colorize the output.  \n",
    "WHEN defaults to 'always' or can be 'never' or 'auto'.  \n",
    "More info below"
   ]
  },
  {
   "cell_type": "raw",
   "metadata": {},
   "source": [
    "Using color  to  distinguish  file  types  is  disabled  both  by  default  and  with  --color=never.   \n",
    "With  --color=auto,  ls  emits  color  codes  only when standard output is connected to a terminal.  \n",
    "The LS_COLORS environment variable can change the settings.  \n",
    "Use the dircolors command to set it."
   ]
  },
  {
   "cell_type": "code",
   "execution_count": 23,
   "metadata": {
    "collapsed": false
   },
   "outputs": [
    {
     "name": "stdout",
     "output_type": "stream",
     "text": [
      "total 20\r\n",
      "drwxrwxr-x 3 liheyi liheyi 4096  6月 30 17:40 bash\r\n",
      "drwxrwxr-x 3 liheyi liheyi 4096  6月 30 13:39 linux_command\r\n",
      "drwxrwxr-x 3 liheyi liheyi 4096  7月  7 12:29 python\r\n",
      "-rw-rw-r-- 1 liheyi liheyi   70  7月  6 17:27 README\r\n",
      "-rwxr-xr-x 1 liheyi liheyi   62  7月  7 14:59 start.sh\r\n"
     ]
    }
   ],
   "source": [
    "ls -l ~/jupyter"
   ]
  },
  {
   "cell_type": "code",
   "execution_count": 24,
   "metadata": {
    "collapsed": false
   },
   "outputs": [
    {
     "name": "stdout",
     "output_type": "stream",
     "text": [
      "total 20\r\n",
      "drwxrwxr-x 3 liheyi liheyi 4096  6月 30 17:40 \u001b[0m\u001b[01;34mbash\u001b[0m\r\n",
      "drwxrwxr-x 3 liheyi liheyi 4096  6月 30 13:39 \u001b[01;34mlinux_command\u001b[0m\r\n",
      "drwxrwxr-x 3 liheyi liheyi 4096  7月  7 12:29 \u001b[01;34mpython\u001b[0m\r\n",
      "-rw-rw-r-- 1 liheyi liheyi   70  7月  6 17:27 README\r\n",
      "-rwxr-xr-x 1 liheyi liheyi   62  7月  7 14:59 \u001b[01;32mstart.sh\u001b[0m\r\n"
     ]
    }
   ],
   "source": [
    "ls -l --color=auto ~/jupyter"
   ]
  },
  {
   "cell_type": "markdown",
   "metadata": {},
   "source": [
    "#### -d, --directory\n",
    "list directory entries instead of contents, and do not dereference symbolic links  \n",
    "说明:-d选项用于限制当前目录或者指定目录，不显示任何的目录项"
   ]
  },
  {
   "cell_type": "code",
   "execution_count": 26,
   "metadata": {
    "collapsed": false
   },
   "outputs": [
    {
     "name": "stdout",
     "output_type": "stream",
     "text": [
      ".\r\n"
     ]
    }
   ],
   "source": [
    "ls -d"
   ]
  },
  {
   "cell_type": "code",
   "execution_count": 27,
   "metadata": {
    "collapsed": false
   },
   "outputs": [
    {
     "name": "stdout",
     "output_type": "stream",
     "text": [
      "drwxrwxr-x 3 liheyi liheyi 4096  7月  7 15:50 .\r\n"
     ]
    }
   ],
   "source": [
    "ls -ld"
   ]
  },
  {
   "cell_type": "code",
   "execution_count": 30,
   "metadata": {
    "collapsed": false
   },
   "outputs": [
    {
     "name": "stdout",
     "output_type": "stream",
     "text": [
      "drwxrwxr-x 7 liheyi liheyi 4096  7月  7 14:59 /home/liheyi/jupyter\r\n"
     ]
    }
   ],
   "source": [
    "ls -ld ~/jupyter"
   ]
  },
  {
   "cell_type": "markdown",
   "metadata": {},
   "source": [
    "#### -D, --dired\n",
    "generate output designed for Emacs' dired mode"
   ]
  },
  {
   "cell_type": "code",
   "execution_count": 31,
   "metadata": {
    "collapsed": false
   },
   "outputs": [
    {
     "name": "stdout",
     "output_type": "stream",
     "text": [
      "total 20\r\n",
      "drwxrwxr-x 3 liheyi liheyi 4096  6月 30 17:40 bash\r\n",
      "drwxrwxr-x 3 liheyi liheyi 4096  6月 30 13:39 linux_command\r\n",
      "drwxrwxr-x 3 liheyi liheyi 4096  7月  7 12:29 python\r\n",
      "-rw-rw-r-- 1 liheyi liheyi   70  7月  6 17:27 README\r\n",
      "-rwxr-xr-x 1 liheyi liheyi   62  7月  7 14:59 start.sh\r\n"
     ]
    }
   ],
   "source": [
    "ls -l ~/jupyter"
   ]
  },
  {
   "cell_type": "code",
   "execution_count": 32,
   "metadata": {
    "collapsed": false
   },
   "outputs": [
    {
     "name": "stdout",
     "output_type": "stream",
     "text": [
      "  total 20\r\n",
      "  drwxrwxr-x 3 liheyi liheyi 4096  6月 30 17:40 bash\r\n",
      "  drwxrwxr-x 3 liheyi liheyi 4096  6月 30 13:39 linux_command\r\n",
      "  drwxrwxr-x 3 liheyi liheyi 4096  7月  7 12:29 python\r\n",
      "  -rw-rw-r-- 1 liheyi liheyi   70  7月  6 17:27 README\r\n",
      "  -rwxr-xr-x 1 liheyi liheyi   62  7月  7 14:59 start.sh\r\n",
      "//DIRED// 60 64 114 127 177 183 233 239 289 297\r\n",
      "//DIRED-OPTIONS// --quoting-style=literal\r\n"
     ]
    }
   ],
   "source": [
    "ls -lD ~/jupyter"
   ]
  },
  {
   "cell_type": "markdown",
   "metadata": {},
   "source": [
    "#### -f     \n",
    "do not sort, enable -aU, disable -ls --color"
   ]
  },
  {
   "cell_type": "code",
   "execution_count": 33,
   "metadata": {
    "collapsed": false
   },
   "outputs": [
    {
     "name": "stdout",
     "output_type": "stream",
     "text": [
      ".  bash  README  linux_command\tpython\t.ipynb_checkpoints  .git  ..  start.sh\r\n"
     ]
    }
   ],
   "source": [
    "ls -f ~/jupyter"
   ]
  },
  {
   "cell_type": "code",
   "execution_count": 34,
   "metadata": {
    "collapsed": false
   },
   "outputs": [
    {
     "name": "stdout",
     "output_type": "stream",
     "text": [
      ".  bash  README  linux_command\tpython\t.ipynb_checkpoints  .git  ..  start.sh\r\n"
     ]
    }
   ],
   "source": [
    "ls -lf ~/jupyter"
   ]
  },
  {
   "cell_type": "code",
   "execution_count": 37,
   "metadata": {
    "collapsed": false
   },
   "outputs": [
    {
     "name": "stdout",
     "output_type": "stream",
     "text": [
      "\u001b[0m\u001b[01;34m.\u001b[0m  \u001b[01;34mbash\u001b[0m  README  \u001b[01;34mlinux_command\u001b[0m  \u001b[01;34mpython\u001b[0m  \u001b[01;34m.ipynb_checkpoints\u001b[0m  \u001b[01;34m.git\u001b[0m  \u001b[01;34m..\u001b[0m  \u001b[01;32mstart.sh\u001b[0m\r\n"
     ]
    }
   ],
   "source": [
    "ls -lf --color=auto ~/jupyter"
   ]
  },
  {
   "cell_type": "markdown",
   "metadata": {},
   "source": [
    "#### -F, --classify\n",
    "append indicator (one of */=>@|) to entries"
   ]
  },
  {
   "cell_type": "code",
   "execution_count": 38,
   "metadata": {
    "collapsed": false
   },
   "outputs": [
    {
     "name": "stdout",
     "output_type": "stream",
     "text": [
      "total 20\r\n",
      "drwxrwxr-x 3 liheyi liheyi 4096  6月 30 17:40 \u001b[0m\u001b[01;34mbash\u001b[0m\r\n",
      "drwxrwxr-x 3 liheyi liheyi 4096  6月 30 13:39 \u001b[01;34mlinux_command\u001b[0m\r\n",
      "drwxrwxr-x 3 liheyi liheyi 4096  7月  7 12:29 \u001b[01;34mpython\u001b[0m\r\n",
      "-rw-rw-r-- 1 liheyi liheyi   70  7月  6 17:27 README\r\n",
      "-rwxr-xr-x 1 liheyi liheyi   62  7月  7 14:59 \u001b[01;32mstart.sh\u001b[0m\r\n"
     ]
    }
   ],
   "source": [
    "ls -l --color=auto ~/jupyter"
   ]
  },
  {
   "cell_type": "code",
   "execution_count": 39,
   "metadata": {
    "collapsed": false
   },
   "outputs": [
    {
     "name": "stdout",
     "output_type": "stream",
     "text": [
      "total 20\r\n",
      "drwxrwxr-x 3 liheyi liheyi 4096  6月 30 17:40 \u001b[0m\u001b[01;34mbash\u001b[0m/\r\n",
      "drwxrwxr-x 3 liheyi liheyi 4096  6月 30 13:39 \u001b[01;34mlinux_command\u001b[0m/\r\n",
      "drwxrwxr-x 3 liheyi liheyi 4096  7月  7 12:29 \u001b[01;34mpython\u001b[0m/\r\n",
      "-rw-rw-r-- 1 liheyi liheyi   70  7月  6 17:27 README\r\n",
      "-rwxr-xr-x 1 liheyi liheyi   62  7月  7 14:59 \u001b[01;32mstart.sh\u001b[0m*\r\n"
     ]
    }
   ],
   "source": [
    "ls -lF --color=auto ~/jupyter"
   ]
  },
  {
   "cell_type": "markdown",
   "metadata": {},
   "source": [
    "#### --file-type\n",
    "likewise, except do not append '*'"
   ]
  },
  {
   "cell_type": "code",
   "execution_count": 42,
   "metadata": {
    "collapsed": false
   },
   "outputs": [
    {
     "name": "stdout",
     "output_type": "stream",
     "text": [
      "total 20\r\n",
      "drwxrwxr-x 3 liheyi liheyi 4096  6月 30 17:40 \u001b[0m\u001b[01;34mbash\u001b[0m\r\n",
      "drwxrwxr-x 3 liheyi liheyi 4096  6月 30 13:39 \u001b[01;34mlinux_command\u001b[0m\r\n",
      "drwxrwxr-x 3 liheyi liheyi 4096  7月  7 12:29 \u001b[01;34mpython\u001b[0m\r\n",
      "-rw-rw-r-- 1 liheyi liheyi   70  7月  6 17:27 README\r\n",
      "-rwxr-xr-x 1 liheyi liheyi   62  7月  7 14:59 \u001b[01;32mstart.sh\u001b[0m\r\n"
     ]
    }
   ],
   "source": [
    "ls -l --color=auto ~/jupyter"
   ]
  },
  {
   "cell_type": "code",
   "execution_count": 43,
   "metadata": {
    "collapsed": false
   },
   "outputs": [
    {
     "name": "stdout",
     "output_type": "stream",
     "text": [
      "total 20\r\n",
      "drwxrwxr-x 3 liheyi liheyi 4096  6月 30 17:40 \u001b[0m\u001b[01;34mbash\u001b[0m/\r\n",
      "drwxrwxr-x 3 liheyi liheyi 4096  6月 30 13:39 \u001b[01;34mlinux_command\u001b[0m/\r\n",
      "drwxrwxr-x 3 liheyi liheyi 4096  7月  7 12:29 \u001b[01;34mpython\u001b[0m/\r\n",
      "-rw-rw-r-- 1 liheyi liheyi   70  7月  6 17:27 README\r\n",
      "-rwxr-xr-x 1 liheyi liheyi   62  7月  7 14:59 \u001b[01;32mstart.sh\u001b[0m\r\n"
     ]
    }
   ],
   "source": [
    "ls -l --file-type --color=auto  ~/jupyter"
   ]
  },
  {
   "cell_type": "markdown",
   "metadata": {},
   "source": [
    "#### --format=WORD\n",
    "across -x,  \n",
    "commas -m,  \n",
    "horizontal -x,  \n",
    "long -l,  \n",
    "single-column -1,  \n",
    "verbose -l,  \n",
    "vertical -C"
   ]
  },
  {
   "cell_type": "code",
   "execution_count": 47,
   "metadata": {
    "collapsed": false
   },
   "outputs": [
    {
     "name": "stdout",
     "output_type": "stream",
     "text": [
      "bash, linux_command, python, README, start.sh\r\n"
     ]
    }
   ],
   "source": [
    "## Long options\n",
    "ls --format=commas ~/jupyter"
   ]
  },
  {
   "cell_type": "code",
   "execution_count": 48,
   "metadata": {
    "collapsed": false
   },
   "outputs": [
    {
     "name": "stdout",
     "output_type": "stream",
     "text": [
      "bash, linux_command, python, README, start.sh\r\n"
     ]
    }
   ],
   "source": [
    "# Short options\n",
    "ls -m ~/jupyter"
   ]
  },
  {
   "cell_type": "markdown",
   "metadata": {},
   "source": [
    "#### --full-time\n",
    "like -l --time-style=full-iso"
   ]
  },
  {
   "cell_type": "code",
   "execution_count": 49,
   "metadata": {
    "collapsed": false
   },
   "outputs": [
    {
     "name": "stdout",
     "output_type": "stream",
     "text": [
      "total 20\r\n",
      "drwxrwxr-x 3 liheyi liheyi 4096  6月 30 17:40 bash\r\n",
      "drwxrwxr-x 3 liheyi liheyi 4096  6月 30 13:39 linux_command\r\n",
      "drwxrwxr-x 3 liheyi liheyi 4096  7月  7 12:29 python\r\n",
      "-rw-rw-r-- 1 liheyi liheyi   70  7月  6 17:27 README\r\n",
      "-rwxr-xr-x 1 liheyi liheyi   62  7月  7 14:59 start.sh\r\n"
     ]
    }
   ],
   "source": [
    "ls -l ~/jupyter"
   ]
  },
  {
   "cell_type": "code",
   "execution_count": 50,
   "metadata": {
    "collapsed": false
   },
   "outputs": [
    {
     "name": "stdout",
     "output_type": "stream",
     "text": [
      "total 20\r\n",
      "drwxrwxr-x 3 liheyi liheyi 4096 2016-06-30 17:40:41.000000000 +0800 bash\r\n",
      "drwxrwxr-x 3 liheyi liheyi 4096 2016-06-30 13:39:22.000000000 +0800 linux_command\r\n",
      "drwxrwxr-x 3 liheyi liheyi 4096 2016-07-07 12:29:16.419872472 +0800 python\r\n",
      "-rw-rw-r-- 1 liheyi liheyi   70 2016-07-06 17:27:57.668245341 +0800 README\r\n",
      "-rwxr-xr-x 1 liheyi liheyi   62 2016-07-07 14:59:11.880027317 +0800 start.sh\r\n"
     ]
    }
   ],
   "source": [
    "ls --full-time ~/jupyter"
   ]
  },
  {
   "cell_type": "markdown",
   "metadata": {},
   "source": [
    "#### -g     \n",
    "like -l, but do not list owner"
   ]
  },
  {
   "cell_type": "code",
   "execution_count": 55,
   "metadata": {
    "collapsed": false
   },
   "outputs": [
    {
     "name": "stdout",
     "output_type": "stream",
     "text": [
      "total 20\r\n",
      "drwxrwxr-x 3 liheyi root 4096  7月  7 16:14 bash\r\n",
      "drwxrwxr-x 3 liheyi root 4096  6月 30 13:39 linux_command\r\n",
      "drwxrwxr-x 3 liheyi root 4096  7月  7 12:29 python\r\n",
      "-rw-rw-r-- 1 liheyi root   70  7月  7 16:15 README\r\n",
      "-rwxr-xr-x 1 liheyi root   62  7月  7 14:59 start.sh\r\n"
     ]
    }
   ],
   "source": [
    "ls -l ~/jupyter"
   ]
  },
  {
   "cell_type": "code",
   "execution_count": 56,
   "metadata": {
    "collapsed": false
   },
   "outputs": [
    {
     "name": "stdout",
     "output_type": "stream",
     "text": [
      "total 20\r\n",
      "drwxrwxr-x 3 root 4096  7月  7 16:14 bash\r\n",
      "drwxrwxr-x 3 root 4096  6月 30 13:39 linux_command\r\n",
      "drwxrwxr-x 3 root 4096  7月  7 12:29 python\r\n",
      "-rw-rw-r-- 1 root   70  7月  7 16:15 README\r\n",
      "-rwxr-xr-x 1 root   62  7月  7 14:59 start.sh\r\n"
     ]
    }
   ],
   "source": [
    "ls -g ~/jupyter"
   ]
  },
  {
   "cell_type": "markdown",
   "metadata": {},
   "source": [
    "#### --group-directories-first\n",
    "group directories before files.  \n",
    "augment with a --sort option, but any use of --sort=none (-U) disables grouping"
   ]
  },
  {
   "cell_type": "code",
   "execution_count": 58,
   "metadata": {
    "collapsed": false
   },
   "outputs": [
    {
     "name": "stdout",
     "output_type": "stream",
     "text": [
      "total 20\r\n",
      "drwxrwxr-x 3 liheyi root 4096  7月  7 16:14 bash\r\n",
      "drwxrwxr-x 3 liheyi root 4096  6月 30 13:39 linux_command\r\n",
      "drwxrwxr-x 3 liheyi root 4096  7月  7 12:29 python\r\n",
      "-rw-rw-r-- 1 liheyi root   70  7月  7 16:15 README\r\n",
      "-rwxr-xr-x 1 liheyi root   62  7月  7 14:59 start.sh\r\n"
     ]
    }
   ],
   "source": [
    "ls -l --group-directories-first ~/jupyter"
   ]
  },
  {
   "cell_type": "markdown",
   "metadata": {},
   "source": [
    "#### -G, --no-group\n",
    "in a long listing, don't print group names"
   ]
  },
  {
   "cell_type": "code",
   "execution_count": 59,
   "metadata": {
    "collapsed": false
   },
   "outputs": [
    {
     "name": "stdout",
     "output_type": "stream",
     "text": [
      "total 20\r\n",
      "drwxrwxr-x 3 liheyi root 4096  7月  7 16:14 bash\r\n",
      "drwxrwxr-x 3 liheyi root 4096  6月 30 13:39 linux_command\r\n",
      "drwxrwxr-x 3 liheyi root 4096  7月  7 12:29 python\r\n",
      "-rw-rw-r-- 1 liheyi root   70  7月  7 16:15 README\r\n",
      "-rwxr-xr-x 1 liheyi root   62  7月  7 14:59 start.sh\r\n"
     ]
    }
   ],
   "source": [
    "ls -l ~/jupyter"
   ]
  },
  {
   "cell_type": "code",
   "execution_count": 61,
   "metadata": {
    "collapsed": false
   },
   "outputs": [
    {
     "name": "stdout",
     "output_type": "stream",
     "text": [
      "total 20\r\n",
      "drwxrwxr-x 3 liheyi 4096  7月  7 16:14 bash\r\n",
      "drwxrwxr-x 3 liheyi 4096  6月 30 13:39 linux_command\r\n",
      "drwxrwxr-x 3 liheyi 4096  7月  7 12:29 python\r\n",
      "-rw-rw-r-- 1 liheyi   70  7月  7 16:15 README\r\n",
      "-rwxr-xr-x 1 liheyi   62  7月  7 14:59 start.sh\r\n"
     ]
    }
   ],
   "source": [
    "ls -lG ~/jupyter"
   ]
  },
  {
   "cell_type": "markdown",
   "metadata": {},
   "source": [
    "#### -h, --human-readable\n",
    "with -l, print sizes in human readable format (e.g., 1K 234M 2G)"
   ]
  },
  {
   "cell_type": "code",
   "execution_count": 63,
   "metadata": {
    "collapsed": false
   },
   "outputs": [
    {
     "name": "stdout",
     "output_type": "stream",
     "text": [
      "total 7596\r\n",
      "drwxrwxr-x 18 liheyi liheyi    4096  7月  5 19:13 anaconda2\r\n",
      "drwxrwxr-x  2 liheyi liheyi    4096  6月 15 23:37 analysis\r\n",
      "-rw-r--r--  1 liheyi liheyi    8980  6月 12 17:41 examples.desktop\r\n",
      "-rw-rw-r--  1 liheyi liheyi     315  7月  6 13:04 file\r\n",
      "drwxrwxr-x 68 liheyi liheyi    4096  6月 25 10:24 glibc\r\n",
      "drwxrwxr-x  7 liheyi liheyi    4096  7月  7 14:59 jupyter\r\n",
      "-rw-rw-r--  1 liheyi liheyi 7738738  7月  7 16:20 log\r\n",
      "drwxrwxr-x  3 liheyi liheyi    4096  6月 25 00:06 test\r\n"
     ]
    }
   ],
   "source": [
    "ls -l /home/liheyi/"
   ]
  },
  {
   "cell_type": "code",
   "execution_count": 64,
   "metadata": {
    "collapsed": false
   },
   "outputs": [
    {
     "name": "stdout",
     "output_type": "stream",
     "text": [
      "total 7.5M\r\n",
      "drwxrwxr-x 18 liheyi liheyi 4.0K  7月  5 19:13 anaconda2\r\n",
      "drwxrwxr-x  2 liheyi liheyi 4.0K  6月 15 23:37 analysis\r\n",
      "-rw-r--r--  1 liheyi liheyi 8.8K  6月 12 17:41 examples.desktop\r\n",
      "-rw-rw-r--  1 liheyi liheyi  315  7月  6 13:04 file\r\n",
      "drwxrwxr-x 68 liheyi liheyi 4.0K  6月 25 10:24 glibc\r\n",
      "drwxrwxr-x  7 liheyi liheyi 4.0K  7月  7 14:59 jupyter\r\n",
      "-rw-rw-r--  1 liheyi liheyi 7.4M  7月  7 16:20 log\r\n",
      "drwxrwxr-x  3 liheyi liheyi 4.0K  6月 25 00:06 test\r\n"
     ]
    }
   ],
   "source": [
    "ls -lh /home/liheyi/"
   ]
  },
  {
   "cell_type": "markdown",
   "metadata": {},
   "source": [
    "#### --si   \n",
    "likewise, but use powers of 1000 not 1024"
   ]
  },
  {
   "cell_type": "code",
   "execution_count": 65,
   "metadata": {
    "collapsed": false
   },
   "outputs": [
    {
     "name": "stdout",
     "output_type": "stream",
     "text": [
      "total 7.8M\r\n",
      "drwxrwxr-x 18 liheyi liheyi 4.1k  7月  5 19:13 anaconda2\r\n",
      "drwxrwxr-x  2 liheyi liheyi 4.1k  6月 15 23:37 analysis\r\n",
      "-rw-r--r--  1 liheyi liheyi 9.0k  6月 12 17:41 examples.desktop\r\n",
      "-rw-rw-r--  1 liheyi liheyi  315  7月  6 13:04 file\r\n",
      "drwxrwxr-x 68 liheyi liheyi 4.1k  6月 25 10:24 glibc\r\n",
      "drwxrwxr-x  7 liheyi liheyi 4.1k  7月  7 14:59 jupyter\r\n",
      "-rw-rw-r--  1 liheyi liheyi 7.8M  7月  7 16:20 log\r\n",
      "drwxrwxr-x  3 liheyi liheyi 4.1k  6月 25 00:06 test\r\n"
     ]
    }
   ],
   "source": [
    "ls -l --si /home/liheyi/"
   ]
  },
  {
   "cell_type": "markdown",
   "metadata": {},
   "source": [
    "#### -H, --dereference-command-line\n",
    "follow symbolic links listed on the command line"
   ]
  },
  {
   "cell_type": "code",
   "execution_count": 67,
   "metadata": {
    "collapsed": false
   },
   "outputs": [
    {
     "name": "stdout",
     "output_type": "stream",
     "text": [
      "lrwxrwxrwx 1 liheyi liheyi 16  7月  7 16:33 /home/liheyi/zipgrep -> /usr/bin/zipgrep\r\n"
     ]
    }
   ],
   "source": [
    "# Display symbol connection file\n",
    "ls -l /home/liheyi/zipgrep"
   ]
  },
  {
   "cell_type": "code",
   "execution_count": 68,
   "metadata": {
    "collapsed": false
   },
   "outputs": [
    {
     "name": "stdout",
     "output_type": "stream",
     "text": [
      "-rwxr-xr-x 1 root root 2953  2月 18  2015 /home/liheyi/zipgrep\r\n"
     ]
    }
   ],
   "source": [
    "# Displays the file that are pointed to by the symbolic connection file\n",
    "ls -l --dereference-command-line /home/liheyi/zipgrep"
   ]
  },
  {
   "cell_type": "markdown",
   "metadata": {},
   "source": [
    "#### --dereference-command-line-symlink-to-dir\n",
    "follow each command line symbolic link that points to a directory"
   ]
  },
  {
   "cell_type": "code",
   "execution_count": 70,
   "metadata": {
    "collapsed": false
   },
   "outputs": [
    {
     "name": "stdout",
     "output_type": "stream",
     "text": [
      "total 28\r\n",
      "drwxrwxr-x 18 liheyi liheyi 4096  7月  5 19:13 anaconda2\r\n",
      "drwxrwxr-x  2 liheyi liheyi 4096  6月 15 23:37 analysis\r\n",
      "lrwxrwxrwx  1 liheyi liheyi    8  7月  7 16:41 bin -> /usr/bin\r\n",
      "-rw-r--r--  1 liheyi liheyi 8980  6月 12 17:41 examples.desktop\r\n",
      "drwxrwxr-x  7 liheyi liheyi 4096  7月  7 14:59 jupyter\r\n",
      "drwxrwxr-x  4 liheyi liheyi 4096  7月  7 16:44 test\r\n"
     ]
    }
   ],
   "source": [
    "ls -l /home/liheyi"
   ]
  },
  {
   "cell_type": "code",
   "execution_count": 72,
   "metadata": {
    "collapsed": false
   },
   "outputs": [
    {
     "name": "stdout",
     "output_type": "stream",
     "text": [
      "lrwxrwxrwx 1 liheyi liheyi 8  7月  7 16:41 /home/liheyi/bin -> /usr/bin\r\n"
     ]
    }
   ],
   "source": [
    "ls -l /home/liheyi/bin"
   ]
  },
  {
   "cell_type": "code",
   "execution_count": 77,
   "metadata": {
    "collapsed": false
   },
   "outputs": [
    {
     "name": "stdout",
     "output_type": "stream",
     "text": [
      "total 179944\r\n",
      "-rwxr-xr-x 1 root root      39552  1月 14  2015 [\r\n",
      "lrwxrwxrwx 1 root root          8  6月 12 17:31 2to3 -> 2to3-2.7\r\n",
      "-rwxr-xr-x 1 root root         96  6月 23  2015 2to3-2.7\r\n",
      "-rwxr-xr-x 1 root root         96  4月 11  2014 2to3-3.4\r\n",
      "-rwxr-xr-x 1 root root     106296  3月 28  2014 a2p\r\n",
      "-rwxr-xr-x 1 root root      19008  1月 17  2014 aconnect\r\n",
      "-rwxr-xr-x 1 root root      15008  4月  4  2014 acpi_listen\r\n",
      "-rwxr-xr-x 1 root root     194216  1月 29  2015 activity-log-manager\r\n",
      "-rwxr-xr-x 1 root root       6123  1月 21  2015 add-apt-repository\r\n",
      "ls: write error: Broken pipe\r\n"
     ]
    }
   ],
   "source": [
    "ls -l --dereference-command-line-symlink-to-dir /home/liheyi/bin | head "
   ]
  },
  {
   "cell_type": "markdown",
   "metadata": {},
   "source": [
    "说明:如果是 'ls -l /home/liheyi/bin/' 这样的形式的话，则相当于默认使用参数'--dereference-command-line-symlink-to-dir'"
   ]
  },
  {
   "cell_type": "code",
   "execution_count": 78,
   "metadata": {
    "collapsed": false
   },
   "outputs": [
    {
     "name": "stdout",
     "output_type": "stream",
     "text": [
      "total 179944\r\n",
      "-rwxr-xr-x 1 root root      39552  1月 14  2015 [\r\n",
      "lrwxrwxrwx 1 root root          8  6月 12 17:31 2to3 -> 2to3-2.7\r\n",
      "-rwxr-xr-x 1 root root         96  6月 23  2015 2to3-2.7\r\n",
      "-rwxr-xr-x 1 root root         96  4月 11  2014 2to3-3.4\r\n",
      "-rwxr-xr-x 1 root root     106296  3月 28  2014 a2p\r\n",
      "-rwxr-xr-x 1 root root      19008  1月 17  2014 aconnect\r\n",
      "-rwxr-xr-x 1 root root      15008  4月  4  2014 acpi_listen\r\n",
      "-rwxr-xr-x 1 root root     194216  1月 29  2015 activity-log-manager\r\n",
      "-rwxr-xr-x 1 root root       6123  1月 21  2015 add-apt-repository\r\n",
      "ls: write error: Broken pipe\r\n"
     ]
    }
   ],
   "source": [
    "ls -l /home/liheyi/bin/ | head"
   ]
  },
  {
   "cell_type": "markdown",
   "metadata": {},
   "source": [
    "#### --hide=PATTERN\n",
    "do not list implied entries matching shell PATTERN (overridden by -a or -A)"
   ]
  },
  {
   "cell_type": "code",
   "execution_count": 81,
   "metadata": {
    "collapsed": false
   },
   "outputs": [
    {
     "name": "stdout",
     "output_type": "stream",
     "text": [
      "total 24\r\n",
      "drwxrwxr-x 3 liheyi liheyi 4096  7月  7 16:14 bash\r\n",
      "-rwxr-xr-x 1 liheyi liheyi   62  7月  7 17:16 finish.sh\r\n",
      "drwxrwxr-x 3 liheyi liheyi 4096  6月 30 13:39 linux_command\r\n",
      "drwxrwxr-x 3 liheyi liheyi 4096  7月  7 12:29 python\r\n",
      "-rw-rw-r-- 1 liheyi liheyi   70  7月  7 16:15 README\r\n",
      "-rwxr-xr-x 1 liheyi liheyi   62  7月  7 14:59 start.sh\r\n"
     ]
    }
   ],
   "source": [
    "ls -l ~/jupyter"
   ]
  },
  {
   "cell_type": "code",
   "execution_count": 82,
   "metadata": {
    "collapsed": false
   },
   "outputs": [
    {
     "name": "stdout",
     "output_type": "stream",
     "text": [
      "total 16\r\n",
      "drwxrwxr-x 3 liheyi liheyi 4096  7月  7 16:14 bash\r\n",
      "drwxrwxr-x 3 liheyi liheyi 4096  6月 30 13:39 linux_command\r\n",
      "drwxrwxr-x 3 liheyi liheyi 4096  7月  7 12:29 python\r\n",
      "-rw-rw-r-- 1 liheyi liheyi   70  7月  7 16:15 README\r\n"
     ]
    }
   ],
   "source": [
    "# hide all bash file(s).\n",
    "ls -l --hide='*.sh' ~/jupyter"
   ]
  },
  {
   "cell_type": "markdown",
   "metadata": {},
   "source": [
    "#### --indicator-style=WORD\n",
    "append indicator with style WORD to entry names:   \n",
    "none (default),   \n",
    "slash (-p),   \n",
    "file-type (--file-type),  \n",
    "classify (-F)"
   ]
  },
  {
   "cell_type": "code",
   "execution_count": 83,
   "metadata": {
    "collapsed": false
   },
   "outputs": [
    {
     "name": "stdout",
     "output_type": "stream",
     "text": [
      "total 20\r\n",
      "drwxrwxr-x 3 liheyi liheyi 4096  7月  7 16:14 bash\r\n",
      "drwxrwxr-x 3 liheyi liheyi 4096  6月 30 13:39 linux_command\r\n",
      "drwxrwxr-x 3 liheyi liheyi 4096  7月  7 12:29 python\r\n",
      "-rw-rw-r-- 1 liheyi liheyi   70  7月  7 16:15 README\r\n",
      "-rwxr-xr-x 1 liheyi liheyi   62  7月  7 14:59 start.sh\r\n"
     ]
    }
   ],
   "source": [
    "ls -l ~/jupyter"
   ]
  },
  {
   "cell_type": "code",
   "execution_count": 86,
   "metadata": {
    "collapsed": false
   },
   "outputs": [
    {
     "name": "stdout",
     "output_type": "stream",
     "text": [
      "total 20\r\n",
      "drwxrwxr-x 3 liheyi liheyi 4096  7月  7 16:14 bash/\r\n",
      "drwxrwxr-x 3 liheyi liheyi 4096  6月 30 13:39 linux_command/\r\n",
      "drwxrwxr-x 3 liheyi liheyi 4096  7月  7 12:29 python/\r\n",
      "-rw-rw-r-- 1 liheyi liheyi   70  7月  7 16:15 README\r\n",
      "-rwxr-xr-x 1 liheyi liheyi   62  7月  7 14:59 start.sh\r\n"
     ]
    }
   ],
   "source": [
    "# Long options\n",
    "ls -l --indicator-style=slash ~/jupyter"
   ]
  },
  {
   "cell_type": "code",
   "execution_count": 87,
   "metadata": {
    "collapsed": false
   },
   "outputs": [
    {
     "name": "stdout",
     "output_type": "stream",
     "text": [
      "total 20\r\n",
      "drwxrwxr-x 3 liheyi liheyi 4096  7月  7 16:14 bash/\r\n",
      "drwxrwxr-x 3 liheyi liheyi 4096  6月 30 13:39 linux_command/\r\n",
      "drwxrwxr-x 3 liheyi liheyi 4096  7月  7 12:29 python/\r\n",
      "-rw-rw-r-- 1 liheyi liheyi   70  7月  7 16:15 README\r\n",
      "-rwxr-xr-x 1 liheyi liheyi   62  7月  7 14:59 start.sh\r\n"
     ]
    }
   ],
   "source": [
    "# Short options\n",
    "ls -l -p ~/jupyter"
   ]
  },
  {
   "cell_type": "markdown",
   "metadata": {},
   "source": [
    "#### -i, --inode  \n",
    "print the index number of each file"
   ]
  },
  {
   "cell_type": "code",
   "execution_count": 88,
   "metadata": {
    "collapsed": false
   },
   "outputs": [
    {
     "name": "stdout",
     "output_type": "stream",
     "text": [
      "total 20\r\n",
      "drwxrwxr-x 3 liheyi liheyi 4096  7月  7 16:14 bash\r\n",
      "drwxrwxr-x 3 liheyi liheyi 4096  6月 30 13:39 linux_command\r\n",
      "drwxrwxr-x 3 liheyi liheyi 4096  7月  7 12:29 python\r\n",
      "-rw-rw-r-- 1 liheyi liheyi   70  7月  7 16:15 README\r\n",
      "-rwxr-xr-x 1 liheyi liheyi   62  7月  7 14:59 start.sh\r\n"
     ]
    }
   ],
   "source": [
    "ls -l ~/jupyter"
   ]
  },
  {
   "cell_type": "code",
   "execution_count": 89,
   "metadata": {
    "collapsed": false
   },
   "outputs": [
    {
     "name": "stdout",
     "output_type": "stream",
     "text": [
      "total 20\r\n",
      "1191640 drwxrwxr-x 3 liheyi liheyi 4096  7月  7 16:14 bash\r\n",
      "1191645 drwxrwxr-x 3 liheyi liheyi 4096  6月 30 13:39 linux_command\r\n",
      "1191636 drwxrwxr-x 3 liheyi liheyi 4096  7月  7 12:29 python\r\n",
      "1191751 -rw-rw-r-- 1 liheyi liheyi   70  7月  7 16:15 README\r\n",
      "1191760 -rwxr-xr-x 1 liheyi liheyi   62  7月  7 14:59 start.sh\r\n"
     ]
    }
   ],
   "source": [
    "ls -li ~/jupyter"
   ]
  },
  {
   "cell_type": "markdown",
   "metadata": {},
   "source": [
    "#### -I, --ignore=PATTERN\n",
    "do not list implied entries matching shell PATTERN"
   ]
  },
  {
   "cell_type": "code",
   "execution_count": 90,
   "metadata": {
    "collapsed": false
   },
   "outputs": [
    {
     "name": "stdout",
     "output_type": "stream",
     "text": [
      "total 24\r\n",
      "drwxrwxr-x 3 liheyi liheyi 4096  7月  7 16:14 bash\r\n",
      "-rwxr-xr-x 1 liheyi liheyi   62  7月  7 17:33 finish.sh\r\n",
      "drwxrwxr-x 3 liheyi liheyi 4096  6月 30 13:39 linux_command\r\n",
      "drwxrwxr-x 3 liheyi liheyi 4096  7月  7 12:29 python\r\n",
      "-rw-rw-r-- 1 liheyi liheyi   70  7月  7 16:15 README\r\n",
      "-rwxr-xr-x 1 liheyi liheyi   62  7月  7 14:59 start.sh\r\n"
     ]
    }
   ],
   "source": [
    "ls -l ~/jupyter"
   ]
  },
  {
   "cell_type": "code",
   "execution_count": 91,
   "metadata": {
    "collapsed": false
   },
   "outputs": [
    {
     "name": "stdout",
     "output_type": "stream",
     "text": [
      "total 16\r\n",
      "drwxrwxr-x 3 liheyi liheyi 4096  7月  7 16:14 bash\r\n",
      "drwxrwxr-x 3 liheyi liheyi 4096  6月 30 13:39 linux_command\r\n",
      "drwxrwxr-x 3 liheyi liheyi 4096  7月  7 12:29 python\r\n",
      "-rw-rw-r-- 1 liheyi liheyi   70  7月  7 16:15 README\r\n"
     ]
    }
   ],
   "source": [
    "ls -l --ignore=\"*.sh\" ~/jupyter"
   ]
  },
  {
   "cell_type": "markdown",
   "metadata": {},
   "source": [
    "#### -k, --kibibytes\n",
    "use 1024-byte blocks"
   ]
  },
  {
   "cell_type": "code",
   "execution_count": 93,
   "metadata": {
    "collapsed": false
   },
   "outputs": [
    {
     "name": "stdout",
     "output_type": "stream",
     "text": [
      "total 90416\r\n",
      "drwxrwxr-x 18 liheyi liheyi     4096  7月  5 19:13 anaconda2\r\n",
      "drwxrwxr-x  2 liheyi liheyi     4096  6月 15 23:37 analysis\r\n",
      "-rw-r--r--  1 liheyi liheyi     8980  6月 12 17:41 examples.desktop\r\n",
      "drwxrwxr-x  7 liheyi liheyi     4096  7月  7 17:33 jupyter\r\n",
      "-rw-rw-r--  1 liheyi liheyi 92555496  7月  7 17:44 log\r\n",
      "drwxrwxr-x  4 liheyi liheyi     4096  7月  7 16:44 test\r\n"
     ]
    }
   ],
   "source": [
    "ls -l /home/liheyi/"
   ]
  },
  {
   "cell_type": "code",
   "execution_count": 94,
   "metadata": {
    "collapsed": false
   },
   "outputs": [
    {
     "name": "stdout",
     "output_type": "stream",
     "text": [
      "total 90416\r\n",
      "drwxrwxr-x 18 liheyi liheyi     4096  7月  5 19:13 anaconda2\r\n",
      "drwxrwxr-x  2 liheyi liheyi     4096  6月 15 23:37 analysis\r\n",
      "-rw-r--r--  1 liheyi liheyi     8980  6月 12 17:41 examples.desktop\r\n",
      "drwxrwxr-x  7 liheyi liheyi     4096  7月  7 17:33 jupyter\r\n",
      "-rw-rw-r--  1 liheyi liheyi 92555496  7月  7 17:44 log\r\n",
      "drwxrwxr-x  4 liheyi liheyi     4096  7月  7 16:44 test\r\n"
     ]
    }
   ],
   "source": [
    "ls -lk /home/liheyi/"
   ]
  },
  {
   "cell_type": "markdown",
   "metadata": {},
   "source": [
    "#### -l     \n",
    "use a long listing format"
   ]
  },
  {
   "cell_type": "code",
   "execution_count": 95,
   "metadata": {
    "collapsed": false
   },
   "outputs": [
    {
     "name": "stdout",
     "output_type": "stream",
     "text": [
      "anaconda2  analysis  examples.desktop  jupyter\tlog  test\r\n"
     ]
    }
   ],
   "source": [
    "ls /home/liheyi"
   ]
  },
  {
   "cell_type": "code",
   "execution_count": 96,
   "metadata": {
    "collapsed": false
   },
   "outputs": [
    {
     "name": "stdout",
     "output_type": "stream",
     "text": [
      "total 90416\r\n",
      "drwxrwxr-x 18 liheyi liheyi     4096  7月  5 19:13 anaconda2\r\n",
      "drwxrwxr-x  2 liheyi liheyi     4096  6月 15 23:37 analysis\r\n",
      "-rw-r--r--  1 liheyi liheyi     8980  6月 12 17:41 examples.desktop\r\n",
      "drwxrwxr-x  7 liheyi liheyi     4096  7月  7 17:33 jupyter\r\n",
      "-rw-rw-r--  1 liheyi liheyi 92555496  7月  7 17:44 log\r\n",
      "drwxrwxr-x  4 liheyi liheyi     4096  7月  7 16:44 test\r\n"
     ]
    }
   ],
   "source": [
    "ls -l /home/liheyi"
   ]
  },
  {
   "cell_type": "markdown",
   "metadata": {},
   "source": [
    "#### -L, --dereference\n",
    "when  showing file information for a symbolic link, show information for the file the link references rather than for the link itself"
   ]
  },
  {
   "cell_type": "code",
   "execution_count": 97,
   "metadata": {
    "collapsed": false
   },
   "outputs": [
    {
     "name": "stdout",
     "output_type": "stream",
     "text": [
      "total 90416\r\n",
      "drwxrwxr-x 18 liheyi liheyi     4096  7月  5 19:13 anaconda2\r\n",
      "drwxrwxr-x  2 liheyi liheyi     4096  6月 15 23:37 analysis\r\n",
      "-rw-r--r--  1 liheyi liheyi     8980  6月 12 17:41 examples.desktop\r\n",
      "drwxrwxr-x  7 liheyi liheyi     4096  7月  7 17:33 jupyter\r\n",
      "-rw-rw-r--  1 liheyi liheyi 92555496  7月  7 17:44 log\r\n",
      "drwxrwxr-x  4 liheyi liheyi     4096  7月  7 16:44 test\r\n",
      "lrwxrwxrwx  1 liheyi liheyi       16  7月  7 17:48 zipgrep -> /usr/bin/zipgrep\r\n"
     ]
    }
   ],
   "source": [
    "ls -l /home/liheyi/"
   ]
  },
  {
   "cell_type": "code",
   "execution_count": 98,
   "metadata": {
    "collapsed": false
   },
   "outputs": [
    {
     "name": "stdout",
     "output_type": "stream",
     "text": [
      "total 90420\r\n",
      "drwxrwxr-x 18 liheyi liheyi     4096  7月  5 19:13 anaconda2\r\n",
      "drwxrwxr-x  2 liheyi liheyi     4096  6月 15 23:37 analysis\r\n",
      "-rw-r--r--  1 liheyi liheyi     8980  6月 12 17:41 examples.desktop\r\n",
      "drwxrwxr-x  7 liheyi liheyi     4096  7月  7 17:33 jupyter\r\n",
      "-rw-rw-r--  1 liheyi liheyi 92555496  7月  7 17:44 log\r\n",
      "drwxrwxr-x  4 liheyi liheyi     4096  7月  7 16:44 test\r\n",
      "-rwxr-xr-x  1 root   root       2953  2月 18  2015 zipgrep\r\n"
     ]
    }
   ],
   "source": [
    "ls -lL /home/liheyi/"
   ]
  },
  {
   "cell_type": "markdown",
   "metadata": {},
   "source": [
    "#### -m     \n",
    "fill width with a comma separated list of entries"
   ]
  },
  {
   "cell_type": "code",
   "execution_count": 99,
   "metadata": {
    "collapsed": false
   },
   "outputs": [
    {
     "name": "stdout",
     "output_type": "stream",
     "text": [
      "anaconda2  analysis  examples.desktop  jupyter\tlog  test  zipgrep\r\n"
     ]
    }
   ],
   "source": [
    "ls /home/liheyi/"
   ]
  },
  {
   "cell_type": "code",
   "execution_count": 101,
   "metadata": {
    "collapsed": false
   },
   "outputs": [
    {
     "name": "stdout",
     "output_type": "stream",
     "text": [
      "anaconda2, analysis, examples.desktop, jupyter, log, test, zipgrep\r\n"
     ]
    }
   ],
   "source": [
    "ls -m /home/liheyi/"
   ]
  },
  {
   "cell_type": "code",
   "execution_count": 103,
   "metadata": {
    "collapsed": false
   },
   "outputs": [
    {
     "name": "stdout",
     "output_type": "stream",
     "text": [
      "anaconda2, analysis, examples.desktop, jupyter, log, test, zipgrep\r\n"
     ]
    }
   ],
   "source": [
    "# -m options override -l option\n",
    "ls -lm /home/liheyi/"
   ]
  },
  {
   "cell_type": "markdown",
   "metadata": {},
   "source": [
    "#### -n, --numeric-uid-gid\n",
    "like -l, but list numeric user and group IDs"
   ]
  },
  {
   "cell_type": "code",
   "execution_count": 104,
   "metadata": {
    "collapsed": false
   },
   "outputs": [
    {
     "name": "stdout",
     "output_type": "stream",
     "text": [
      "total 24\r\n",
      "drwxrwxr-x 3 liheyi liheyi 4096  7月  7 16:14 bash\r\n",
      "-rwxr-xr-x 1 liheyi liheyi   62  7月  7 17:33 finish.sh\r\n",
      "drwxrwxr-x 3 liheyi liheyi 4096  6月 30 13:39 linux_command\r\n",
      "drwxrwxr-x 3 liheyi liheyi 4096  7月  7 12:29 python\r\n",
      "-rw-rw-r-- 1 liheyi liheyi   70  7月  7 16:15 README\r\n",
      "-rwxr-xr-x 1 liheyi liheyi   62  7月  7 14:59 start.sh\r\n"
     ]
    }
   ],
   "source": [
    "ls -l ~/jupyter"
   ]
  },
  {
   "cell_type": "code",
   "execution_count": 105,
   "metadata": {
    "collapsed": false
   },
   "outputs": [
    {
     "name": "stdout",
     "output_type": "stream",
     "text": [
      "total 24\r\n",
      "drwxrwxr-x 3 1000 1000 4096  7月  7 16:14 bash\r\n",
      "-rwxr-xr-x 1 1000 1000   62  7月  7 17:33 finish.sh\r\n",
      "drwxrwxr-x 3 1000 1000 4096  6月 30 13:39 linux_command\r\n",
      "drwxrwxr-x 3 1000 1000 4096  7月  7 12:29 python\r\n",
      "-rw-rw-r-- 1 1000 1000   70  7月  7 16:15 README\r\n",
      "-rwxr-xr-x 1 1000 1000   62  7月  7 14:59 start.sh\r\n"
     ]
    }
   ],
   "source": [
    "ls -n ~/jupyter"
   ]
  },
  {
   "cell_type": "markdown",
   "metadata": {},
   "source": [
    "#### -N, --literal\n",
    "print raw entry names (don't treat e.g. control characters specially)"
   ]
  },
  {
   "cell_type": "code",
   "execution_count": null,
   "metadata": {
    "collapsed": true
   },
   "outputs": [],
   "source": []
  },
  {
   "cell_type": "markdown",
   "metadata": {},
   "source": [
    "#### -o     \n",
    "like -l, but do not list group information"
   ]
  },
  {
   "cell_type": "code",
   "execution_count": 106,
   "metadata": {
    "collapsed": false
   },
   "outputs": [
    {
     "name": "stdout",
     "output_type": "stream",
     "text": [
      "total 24\r\n",
      "drwxrwxr-x 3 liheyi liheyi 4096  7月  7 16:14 bash\r\n",
      "-rwxr-xr-x 1 liheyi liheyi   62  7月  7 17:33 finish.sh\r\n",
      "drwxrwxr-x 3 liheyi liheyi 4096  6月 30 13:39 linux_command\r\n",
      "drwxrwxr-x 3 liheyi liheyi 4096  7月  7 12:29 python\r\n",
      "-rw-rw-r-- 1 liheyi liheyi   70  7月  7 16:15 README\r\n",
      "-rwxr-xr-x 1 liheyi liheyi   62  7月  7 14:59 start.sh\r\n"
     ]
    }
   ],
   "source": [
    "ls -l ~/jupyter"
   ]
  },
  {
   "cell_type": "code",
   "execution_count": 107,
   "metadata": {
    "collapsed": false
   },
   "outputs": [
    {
     "name": "stdout",
     "output_type": "stream",
     "text": [
      "total 24\r\n",
      "drwxrwxr-x 3 liheyi 4096  7月  7 16:14 bash\r\n",
      "-rwxr-xr-x 1 liheyi   62  7月  7 17:33 finish.sh\r\n",
      "drwxrwxr-x 3 liheyi 4096  6月 30 13:39 linux_command\r\n",
      "drwxrwxr-x 3 liheyi 4096  7月  7 12:29 python\r\n",
      "-rw-rw-r-- 1 liheyi   70  7月  7 16:15 README\r\n",
      "-rwxr-xr-x 1 liheyi   62  7月  7 14:59 start.sh\r\n"
     ]
    }
   ],
   "source": [
    "ls -o ~/jupyter"
   ]
  },
  {
   "cell_type": "markdown",
   "metadata": {},
   "source": [
    "#### -p, --indicator-style=slash\n",
    "append / indicator to directories"
   ]
  },
  {
   "cell_type": "code",
   "execution_count": 108,
   "metadata": {
    "collapsed": false
   },
   "outputs": [
    {
     "name": "stdout",
     "output_type": "stream",
     "text": [
      "total 24\r\n",
      "drwxrwxr-x 3 liheyi liheyi 4096  7月  7 16:14 bash\r\n",
      "-rwxr-xr-x 1 liheyi liheyi   62  7月  7 17:33 finish.sh\r\n",
      "drwxrwxr-x 3 liheyi liheyi 4096  6月 30 13:39 linux_command\r\n",
      "drwxrwxr-x 3 liheyi liheyi 4096  7月  7 12:29 python\r\n",
      "-rw-rw-r-- 1 liheyi liheyi   70  7月  7 16:15 README\r\n",
      "-rwxr-xr-x 1 liheyi liheyi   62  7月  7 14:59 start.sh\r\n"
     ]
    }
   ],
   "source": [
    "ls -l ~/jupyter"
   ]
  },
  {
   "cell_type": "code",
   "execution_count": 110,
   "metadata": {
    "collapsed": false
   },
   "outputs": [
    {
     "name": "stdout",
     "output_type": "stream",
     "text": [
      "total 24\r\n",
      "drwxrwxr-x 3 liheyi liheyi 4096  7月  7 16:14 bash/\r\n",
      "-rwxr-xr-x 1 liheyi liheyi   62  7月  7 17:33 finish.sh\r\n",
      "drwxrwxr-x 3 liheyi liheyi 4096  6月 30 13:39 linux_command/\r\n",
      "drwxrwxr-x 3 liheyi liheyi 4096  7月  7 12:29 python/\r\n",
      "-rw-rw-r-- 1 liheyi liheyi   70  7月  7 16:15 README\r\n",
      "-rwxr-xr-x 1 liheyi liheyi   62  7月  7 14:59 start.sh\r\n"
     ]
    }
   ],
   "source": [
    "ls -lp ~/jupyter"
   ]
  },
  {
   "cell_type": "code",
   "execution_count": 111,
   "metadata": {
    "collapsed": false
   },
   "outputs": [
    {
     "name": "stdout",
     "output_type": "stream",
     "text": [
      "total 24\r\n",
      "drwxrwxr-x 3 liheyi liheyi 4096  7月  7 16:14 bash/\r\n",
      "-rwxr-xr-x 1 liheyi liheyi   62  7月  7 17:33 finish.sh\r\n",
      "drwxrwxr-x 3 liheyi liheyi 4096  6月 30 13:39 linux_command/\r\n",
      "drwxrwxr-x 3 liheyi liheyi 4096  7月  7 12:29 python/\r\n",
      "-rw-rw-r-- 1 liheyi liheyi   70  7月  7 16:15 README\r\n",
      "-rwxr-xr-x 1 liheyi liheyi   62  7月  7 14:59 start.sh\r\n"
     ]
    }
   ],
   "source": [
    "ls -l  --indicator-style=slash ~/jupyter"
   ]
  },
  {
   "cell_type": "markdown",
   "metadata": {},
   "source": [
    "#### -q, --hide-control-chars\n",
    "print ? instead of non graphic characters"
   ]
  },
  {
   "cell_type": "code",
   "execution_count": null,
   "metadata": {
    "collapsed": true
   },
   "outputs": [],
   "source": []
  },
  {
   "cell_type": "markdown",
   "metadata": {},
   "source": [
    "#### --show-control-chars\n",
    "show non graphic characters as-is (default unless program is 'ls' and output is a terminal)"
   ]
  },
  {
   "cell_type": "code",
   "execution_count": null,
   "metadata": {
    "collapsed": true
   },
   "outputs": [],
   "source": []
  },
  {
   "cell_type": "markdown",
   "metadata": {},
   "source": [
    "#### -Q, --quote-name\n",
    "enclose entry names in double quotes"
   ]
  },
  {
   "cell_type": "code",
   "execution_count": 113,
   "metadata": {
    "collapsed": false
   },
   "outputs": [
    {
     "name": "stdout",
     "output_type": "stream",
     "text": [
      "bash  finish.sh  linux_command\tpython\tREADME\tstart.sh\r\n"
     ]
    }
   ],
   "source": [
    "ls ~/jupyter"
   ]
  },
  {
   "cell_type": "code",
   "execution_count": 114,
   "metadata": {
    "collapsed": false
   },
   "outputs": [
    {
     "name": "stdout",
     "output_type": "stream",
     "text": [
      "\"bash\"\t\"finish.sh\"  \"linux_command\"  \"python\"\t\"README\"  \"start.sh\"\r\n"
     ]
    }
   ],
   "source": [
    "ls -Q ~/jupyter"
   ]
  },
  {
   "cell_type": "code",
   "execution_count": 115,
   "metadata": {
    "collapsed": false
   },
   "outputs": [
    {
     "name": "stdout",
     "output_type": "stream",
     "text": [
      "total 24\r\n",
      "drwxrwxr-x 3 liheyi liheyi 4096  7月  7 16:14 bash\r\n",
      "-rwxr-xr-x 1 liheyi liheyi   62  7月  7 17:33 finish.sh\r\n",
      "drwxrwxr-x 3 liheyi liheyi 4096  6月 30 13:39 linux_command\r\n",
      "drwxrwxr-x 3 liheyi liheyi 4096  7月  7 12:29 python\r\n",
      "-rw-rw-r-- 1 liheyi liheyi   70  7月  7 16:15 README\r\n",
      "-rwxr-xr-x 1 liheyi liheyi   62  7月  7 14:59 start.sh\r\n"
     ]
    }
   ],
   "source": [
    "ls -l ~/jupyter"
   ]
  },
  {
   "cell_type": "code",
   "execution_count": 116,
   "metadata": {
    "collapsed": false
   },
   "outputs": [
    {
     "name": "stdout",
     "output_type": "stream",
     "text": [
      "total 24\r\n",
      "drwxrwxr-x 3 liheyi liheyi 4096  7月  7 16:14 \"bash\"\r\n",
      "-rwxr-xr-x 1 liheyi liheyi   62  7月  7 17:33 \"finish.sh\"\r\n",
      "drwxrwxr-x 3 liheyi liheyi 4096  6月 30 13:39 \"linux_command\"\r\n",
      "drwxrwxr-x 3 liheyi liheyi 4096  7月  7 12:29 \"python\"\r\n",
      "-rw-rw-r-- 1 liheyi liheyi   70  7月  7 16:15 \"README\"\r\n",
      "-rwxr-xr-x 1 liheyi liheyi   62  7月  7 14:59 \"start.sh\"\r\n"
     ]
    }
   ],
   "source": [
    "ls -lQ ~/jupyter"
   ]
  },
  {
   "cell_type": "markdown",
   "metadata": {},
   "source": [
    "#### --quoting-style=WORD\n",
    "use quoting style WORD for entry names:   \n",
    "literal,   \n",
    "locale,   \n",
    "shell,  \n",
    "shell-always,   \n",
    "c,   \n",
    "escape  "
   ]
  },
  {
   "cell_type": "code",
   "execution_count": 117,
   "metadata": {
    "collapsed": false
   },
   "outputs": [
    {
     "name": "stdout",
     "output_type": "stream",
     "text": [
      "total 24\r\n",
      "drwxrwxr-x 3 liheyi liheyi 4096  7月  7 16:14 bash\r\n",
      "-rwxr-xr-x 1 liheyi liheyi   62  7月  7 17:33 finish.sh\r\n",
      "drwxrwxr-x 3 liheyi liheyi 4096  6月 30 13:39 linux_command\r\n",
      "drwxrwxr-x 3 liheyi liheyi 4096  7月  7 12:29 python\r\n",
      "-rw-rw-r-- 1 liheyi liheyi   70  7月  7 16:15 README\r\n",
      "-rwxr-xr-x 1 liheyi liheyi   62  7月  7 14:59 start.sh\r\n"
     ]
    }
   ],
   "source": [
    "ls -l --quoting-style=literal ~/jupyter"
   ]
  },
  {
   "cell_type": "code",
   "execution_count": 118,
   "metadata": {
    "collapsed": false
   },
   "outputs": [
    {
     "name": "stdout",
     "output_type": "stream",
     "text": [
      "total 24\r\n",
      "drwxrwxr-x 3 liheyi liheyi 4096  7月  7 16:14 ‘bash’\r\n",
      "-rwxr-xr-x 1 liheyi liheyi   62  7月  7 17:33 ‘finish.sh’\r\n",
      "drwxrwxr-x 3 liheyi liheyi 4096  6月 30 13:39 ‘linux_command’\r\n",
      "drwxrwxr-x 3 liheyi liheyi 4096  7月  7 12:29 ‘python’\r\n",
      "-rw-rw-r-- 1 liheyi liheyi   70  7月  7 16:15 ‘README’\r\n",
      "-rwxr-xr-x 1 liheyi liheyi   62  7月  7 14:59 ‘start.sh’\r\n"
     ]
    }
   ],
   "source": [
    "ls -l --quoting-style=locale ~/jupyter"
   ]
  },
  {
   "cell_type": "code",
   "execution_count": 120,
   "metadata": {
    "collapsed": false
   },
   "outputs": [
    {
     "name": "stdout",
     "output_type": "stream",
     "text": [
      "total 24\r\n",
      "drwxrwxr-x 3 liheyi liheyi 4096  7月  7 16:14 bash\r\n",
      "-rwxr-xr-x 1 liheyi liheyi   62  7月  7 17:33 finish.sh\r\n",
      "drwxrwxr-x 3 liheyi liheyi 4096  6月 30 13:39 linux_command\r\n",
      "drwxrwxr-x 3 liheyi liheyi 4096  7月  7 12:29 python\r\n",
      "-rw-rw-r-- 1 liheyi liheyi   70  7月  7 16:15 README\r\n",
      "-rwxr-xr-x 1 liheyi liheyi   62  7月  7 14:59 start.sh\r\n"
     ]
    }
   ],
   "source": [
    "# default\n",
    "ls -l --quoting-style=shell ~/jupyter"
   ]
  },
  {
   "cell_type": "code",
   "execution_count": 121,
   "metadata": {
    "collapsed": false
   },
   "outputs": [
    {
     "name": "stdout",
     "output_type": "stream",
     "text": [
      "total 24\r\n",
      "drwxrwxr-x 3 liheyi liheyi 4096  7月  7 16:14 'bash'\r\n",
      "-rwxr-xr-x 1 liheyi liheyi   62  7月  7 17:33 'finish.sh'\r\n",
      "drwxrwxr-x 3 liheyi liheyi 4096  6月 30 13:39 'linux_command'\r\n",
      "drwxrwxr-x 3 liheyi liheyi 4096  7月  7 12:29 'python'\r\n",
      "-rw-rw-r-- 1 liheyi liheyi   70  7月  7 16:15 'README'\r\n",
      "-rwxr-xr-x 1 liheyi liheyi   62  7月  7 14:59 'start.sh'\r\n"
     ]
    }
   ],
   "source": [
    "ls -l --quoting-style=shell-always ~/jupyter"
   ]
  },
  {
   "cell_type": "code",
   "execution_count": 122,
   "metadata": {
    "collapsed": false
   },
   "outputs": [
    {
     "name": "stdout",
     "output_type": "stream",
     "text": [
      "total 24\r\n",
      "drwxrwxr-x 3 liheyi liheyi 4096  7月  7 16:14 \"bash\"\r\n",
      "-rwxr-xr-x 1 liheyi liheyi   62  7月  7 17:33 \"finish.sh\"\r\n",
      "drwxrwxr-x 3 liheyi liheyi 4096  6月 30 13:39 \"linux_command\"\r\n",
      "drwxrwxr-x 3 liheyi liheyi 4096  7月  7 12:29 \"python\"\r\n",
      "-rw-rw-r-- 1 liheyi liheyi   70  7月  7 16:15 \"README\"\r\n",
      "-rwxr-xr-x 1 liheyi liheyi   62  7月  7 14:59 \"start.sh\"\r\n"
     ]
    }
   ],
   "source": [
    "ls -l --quoting-style=c ~/jupyter"
   ]
  },
  {
   "cell_type": "code",
   "execution_count": 123,
   "metadata": {
    "collapsed": false
   },
   "outputs": [
    {
     "name": "stdout",
     "output_type": "stream",
     "text": [
      "total 24\r\n",
      "drwxrwxr-x 3 liheyi liheyi 4096  7月  7 16:14 bash\r\n",
      "-rwxr-xr-x 1 liheyi liheyi   62  7月  7 17:33 finish.sh\r\n",
      "drwxrwxr-x 3 liheyi liheyi 4096  6月 30 13:39 linux_command\r\n",
      "drwxrwxr-x 3 liheyi liheyi 4096  7月  7 12:29 python\r\n",
      "-rw-rw-r-- 1 liheyi liheyi   70  7月  7 16:15 README\r\n",
      "-rwxr-xr-x 1 liheyi liheyi   62  7月  7 14:59 start.sh\r\n"
     ]
    }
   ],
   "source": [
    "ls -l --quoting-style=escape ~/jupyter"
   ]
  },
  {
   "cell_type": "code",
   "execution_count": null,
   "metadata": {
    "collapsed": true
   },
   "outputs": [],
   "source": []
  }
 ],
 "metadata": {
  "kernelspec": {
   "display_name": "Bash",
   "language": "bash",
   "name": "bash"
  },
  "language_info": {
   "codemirror_mode": "shell",
   "file_extension": ".sh",
   "mimetype": "text/x-sh",
   "name": "bash"
  }
 },
 "nbformat": 4,
 "nbformat_minor": 0
}
