{
 "cells": [
  {
   "cell_type": "markdown",
   "metadata": {},
   "source": [
    "### NAME\n",
    "make links between files\n",
    "### SYNOPSIS\n",
    "ln [OPTION]... [-T] TARGET LINK_NAME    (1st form)  \n",
    "ln [OPTION]... TARGET                   (2nd form)  \n",
    "ln [OPTION]... TARGET... DIRECTORY      (3rd form)  \n",
    "ln [OPTION]... -t DIRECTORY TARGET...   (4th form)  \n",
    "### DESCRIPTION  \n",
    "In the 1st form,create a link to TARGET with the name LINK_NAME.  \n",
    "In the 2nd form, create a link to TARGET in the current directory.   \n",
    "In the 3rd and 4th forms, create links to each  TARGET  in  DIRECTORY.  \n",
    "\n",
    "Create hard links by default, symbolic links with --symbolic.   \n",
    "By default, each destination (name of new link) should not already exist.   \n",
    "When creating hard links, each TARGET must exist.  \n",
    "    \n",
    "Symbolic links can hold arbitrary text; if later resolved, a relative link is interpreted in relation to its parent directory.  \n",
    "\n",
    "#### Soft Link\n",
    "Linux OS recognizes the data part of this special file as a reference to another file path.  \n",
    "The data in the original file can be accessed through the special file, which is called as Soft Link.  \n",
    "To create a soft link, do the following (ln command with -s option):  \n",
    "ln -s /full/path/of/original/file /full/path/of/soft/link/file  \n",
    "#### Hard Link  \n",
    "With Hard Link, more than one file name reference the same inode number.    \n",
    "Once you create a directory, you would see the hidden directories '.' and '..'.   \n",
    "In this,'.'directory is hard linked to the current directory and the '..' is hard linked to the parent directory.  \n",
    "When you use link files, it helps us to reduce the disk space by having single copy of the original file and ease the administration tasks as the modification in original file reflects in other places.  \n",
    "To create a hard link, do the following (ln command with no option):  \n",
    "ln /full/path/of/original/file /full/path/of/hard/link/file"
   ]
  },
  {
   "cell_type": "markdown",
   "metadata": {},
   "source": [
    "### OPTIONS\n",
    "#### --backup[=CONTROL]  \n",
    "Make a backup of each existing destination file"
   ]
  }
 ],
 "metadata": {
  "kernelspec": {
   "display_name": "Bash",
   "language": "bash",
   "name": "bash"
  },
  "language_info": {
   "codemirror_mode": "shell",
   "file_extension": ".sh",
   "mimetype": "text/x-sh",
   "name": "bash"
  }
 },
 "nbformat": 4,
 "nbformat_minor": 0
}
