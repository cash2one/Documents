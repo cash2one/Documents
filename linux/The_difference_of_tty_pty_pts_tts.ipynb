{
 "cells": [
  {
   "cell_type": "markdown",
   "metadata": {
    "collapsed": true
   },
   "source": [
    "## Linux tty pty pts tts difference between the concept "
   ]
  },
  {
   "cell_type": "raw",
   "metadata": {},
   "source": [
    "参考：\n",
    "    1.http://no001.blog.51cto.com/1142339/350730/\n",
    "    2.http://clinuxembedded.blogspot.hk/2012/02/linux-tty-pty-pts-tts-difference.html"
   ]
  },
  {
   "cell_type": "markdown",
   "metadata": {},
   "source": [
    "### 1. tty (terminal equipment referred to)\n",
    "tty word from Teletypes,or teletypewriters,originally referring to the teletype,a printer via a serial line using the keyboard to read and send messages through things,then this thing is to replace the keyboard and monitor, so now more appropriate to call the terminal."
   ]
  },
  {
   "cell_type": "markdown",
   "metadata": {},
   "source": [
    "Terminal is a character device, it has many types, usually referred to tty to various types of terminal equipment."
   ]
  },
  {
   "cell_type": "markdown",
   "metadata": {},
   "source": [
    "### 2. pty (virtual terminal)\n",
    "But if we telnet to the remote host or to use the xterm terminal does not need to interact with a what?   \n",
    "Yes, this is the virtual terminal pty (pseudo-tty) "
   ]
  },
  {
   "cell_type": "markdown",
   "metadata": {},
   "source": [
    "### 3. pts / ptmx (pts / ptmx combination, thus achieving pty)\n",
    "pts (pseudo-terminal slave) is the pty implementation, and ptmx (pseudo-terminal master) used in conjunction to achieve pty."
   ]
  },
  {
   "cell_type": "markdown",
   "metadata": {},
   "source": [
    "### Linux terminal"
   ]
  },
  {
   "cell_type": "markdown",
   "metadata": {},
   "source": [
    "In the Linux system the device special file directory /dev/,  \n",
    "the terminal special device file generally have the following: "
   ]
  },
  {
   "cell_type": "markdown",
   "metadata": {},
   "source": [
    "#### 1. serial port terminal (/dev/ttySn)\n",
    "Serial Port Terminal (Serial Port Terminal) is a computer serial port to connect the terminal equipment.Serial port of each computer as a character device.There was a time the serial port device is often referred to as terminal equipment, because then it’s biggest use is to connect the terminal. These serial ports corresponding to the device name is /dev/ttyS0, /dev/ttyS1, etc.,the device number are (4,64), ( 4,65), etc.,corresponding to the DOS system’s COM1, COM2 and so on.To send data to a port, the command line to standard output redirected to a special file on the can. For example, at the command prompt type: echo test> / dev/ttyS1 would change the word “test” to the terminal on ttyS1 (COM2) port of the device. Serial port can be connected to the experiment."
   ]
  },
  {
   "cell_type": "code",
   "execution_count": 1,
   "metadata": {
    "collapsed": false
   },
   "outputs": [
    {
     "name": "stdout",
     "output_type": "stream",
     "text": [
      "crw-rw---- 1 root dialout 4, 64  6月 16 04:35 /dev/ttyS0\r\n",
      "crw-rw---- 1 root dialout 4, 65  6月 16 04:35 /dev/ttyS1\r\n",
      "crw-rw---- 1 root dialout 4, 66  6月 16 04:35 /dev/ttyS2\r\n",
      "crw-rw---- 1 root dialout 4, 67  6月 16 04:35 /dev/ttyS3\r\n",
      "crw-rw---- 1 root dialout 4, 68  6月 16 04:35 /dev/ttyS4\r\n",
      "crw-rw---- 1 root dialout 4, 69  6月 16 04:35 /dev/ttyS5\r\n",
      "crw-rw---- 1 root dialout 4, 70  6月 16 04:35 /dev/ttyS6\r\n",
      "crw-rw---- 1 root dialout 4, 71  6月 16 04:35 /dev/ttyS7\r\n",
      "crw-rw---- 1 root dialout 4, 72  6月 16 04:35 /dev/ttyS8\r\n",
      "crw-rw---- 1 root dialout 4, 73  6月 16 04:35 /dev/ttyS9\r\n",
      "crw-rw---- 1 root dialout 4, 74  6月 16 04:35 /dev/ttyS10\r\n",
      "crw-rw---- 1 root dialout 4, 75  6月 16 04:35 /dev/ttyS11\r\n",
      "crw-rw---- 1 root dialout 4, 76  6月 16 04:35 /dev/ttyS12\r\n",
      "crw-rw---- 1 root dialout 4, 77  6月 16 04:35 /dev/ttyS13\r\n",
      "crw-rw---- 1 root dialout 4, 78  6月 16 04:35 /dev/ttyS14\r\n",
      "crw-rw---- 1 root dialout 4, 79  6月 16 04:35 /dev/ttyS15\r\n",
      "crw-rw---- 1 root dialout 4, 80  6月 16 04:35 /dev/ttyS16\r\n",
      "crw-rw---- 1 root dialout 4, 81  6月 16 04:35 /dev/ttyS17\r\n",
      "crw-rw---- 1 root dialout 4, 82  6月 16 04:35 /dev/ttyS18\r\n",
      "crw-rw---- 1 root dialout 4, 83  6月 16 04:35 /dev/ttyS19\r\n",
      "crw-rw---- 1 root dialout 4, 84  6月 16 04:35 /dev/ttyS20\r\n",
      "crw-rw---- 1 root dialout 4, 85  6月 16 04:35 /dev/ttyS21\r\n",
      "crw-rw---- 1 root dialout 4, 86  6月 16 04:35 /dev/ttyS22\r\n",
      "crw-rw---- 1 root dialout 4, 87  6月 16 04:35 /dev/ttyS23\r\n",
      "crw-rw---- 1 root dialout 4, 88  6月 16 04:35 /dev/ttyS24\r\n",
      "crw-rw---- 1 root dialout 4, 89  6月 16 04:35 /dev/ttyS25\r\n",
      "crw-rw---- 1 root dialout 4, 90  6月 16 04:35 /dev/ttyS26\r\n",
      "crw-rw---- 1 root dialout 4, 91  6月 16 04:35 /dev/ttyS27\r\n",
      "crw-rw---- 1 root dialout 4, 92  6月 16 04:35 /dev/ttyS28\r\n",
      "crw-rw---- 1 root dialout 4, 93  6月 16 04:35 /dev/ttyS29\r\n",
      "crw-rw---- 1 root dialout 4, 94  6月 16 04:35 /dev/ttyS30\r\n",
      "crw-rw---- 1 root dialout 4, 95  6月 16 04:35 /dev/ttyS31\r\n"
     ]
    }
   ],
   "source": [
    "ls -l /dev/ttyS* | sort -k10V"
   ]
  },
  {
   "cell_type": "markdown",
   "metadata": {},
   "source": [
    "#### 2. pseudo-terminals (/dev/pty/) \n",
    "Pseudo-terminal (Pseudo Terminal) is a pair of logical terminal equipment   \n",
    "(ie, master and slave device, the operation will be reflected on the master to the slave). "
   ]
  },
  {
   "cell_type": "markdown",
   "metadata": {},
   "source": [
    "For example, /dev/ptyp3 and/dev/ttyp3 (or, respectively, in the device file system is /dev/pty/m3 and /dev/pty/s3). They are not directly related to the actual physical device. If a program to ptyp3 (master device) as a serial port device, the port it’s read/write operations will be reflected in the corresponding terminal device to another logical ttyp3 (slave device) above. The ttyp3 is another program to read and write operations for a logical device."
   ]
  },
  {
   "cell_type": "markdown",
   "metadata": {},
   "source": [
    "Thus,two procedures can be through this logic devices communicate with each other,which is a program used ttyp3 think they are communicating with a serial port.This is like a logical pipe between the operating equipment.For ttyp3 (s3), any design to use a serial port device program can use the logical device. However, the procedures for the use of ptyp3, you need to use specially designed ptyp3 (m3) logic devices."
   ]
  },
  {
   "cell_type": "markdown",
   "metadata": {},
   "source": [
    "For example, if someone on the Internet using telnet to connect to your computer, you may start the telnet program to connect to the device ptyp2 (m2) on (a pseudo terminal port). At this time a getty program should be run in the corresponding ttyp2 (s2) port. When the telnet from the remote access to a character, the character will pass m2, s2 is passed to the getty program, and the getty program will be by s2, m2, and the telnet program on the network to return to the “login:” string information. In this way, the login program and the telnet program through the “pseudo-terminal” to communicate. By using appropriate software, you can put two or more pseudo-terminal device is connected to the same physical serial port. "
   ]
  },
  {
   "cell_type": "markdown",
   "metadata": {},
   "source": [
    "In the device file system (device filesystem) before, in order to get a lot of pseudo-terminal device special file, use the more complex file name named. Because there is only 16 ttyp (ttyp0-ttypf) the device file, in order to get more logic devices, the use of as q, r, s and other characters instead of p. For example, ttys8 and ptys8 is a pseudo-terminal device pair. However, this naming is still on RedHat and other Linux system with. "
   ]
  },
  {
   "cell_type": "markdown",
   "metadata": {},
   "source": [
    "But Linux does not use the system on Unix98 above, the use of a “pty master”, for example /dev/ptm3. It corresponds to the end will be automatically created as /dev/pts/3. This can be necessary to provide a pty pseudo terminal. Directory /dev/pts is a devpts file system type, and can be loaded to see the list of file system. Although the “File” /dev/pts/3 appears to be a device file system, but in fact it is a completely different file system. \n",
    "\n",
    "Namely: TELNET —> TTYP3 (S3: slave) —> PTYP3 (M3: master) —> GETTY"
   ]
  },
  {
   "cell_type": "code",
   "execution_count": 2,
   "metadata": {
    "collapsed": false
   },
   "outputs": [
    {
     "name": "stdout",
     "output_type": "stream",
     "text": [
      "   PID TTY      STAT   TIME COMMAND\r\n",
      "  1283 tty4     Ss+    0:00 /sbin/getty -8 38400 tty4\r\n",
      "  1287 tty5     Ss+    0:00 /sbin/getty -8 38400 tty5\r\n",
      "  1293 tty2     Ss+    0:00 /sbin/getty -8 38400 tty2\r\n",
      "  1294 tty3     Ss+    0:00 /sbin/getty -8 38400 tty3\r\n",
      "  1298 tty6     Ss+    0:00 /sbin/getty -8 38400 tty6\r\n",
      " 18172 tty1     Ss     0:00 /bin/login --  \r\n",
      " 36357 tty1     S+     0:05 -bash\r\n",
      " 90613 pts/1    Ss+    0:00 -bash\r\n",
      " 90767 pts/3    Ss+    0:00 /bin/bash --rcfile /home/liheyi/anaconda2/lib/python\r\n",
      " 90953 pts/2    Ss+    0:00 -bash\r\n",
      " 91032 pts/4    Ss     0:00 /bin/bash --rcfile /home/liheyi/anaconda2/lib/python\r\n",
      " 91350 pts/4    R+     0:00 ps a\r\n"
     ]
    }
   ],
   "source": [
    "ps a"
   ]
  },
  {
   "cell_type": "markdown",
   "metadata": {},
   "source": [
    "'pts/1'与'pts/2'对应通过xterm/ssh(xshell)程序连接到的伪终端;  \n",
    "'pts/3'与'pts/4'对应通过jupyter程序连接到的伪终端.  \n",
    "如果在增加2个xterm连接与2个jupyter连接的话，则会看到对应的变化"
   ]
  },
  {
   "cell_type": "code",
   "execution_count": 21,
   "metadata": {
    "collapsed": false
   },
   "outputs": [
    {
     "name": "stdout",
     "output_type": "stream",
     "text": [
      "total 0\r\n",
      "crw--w---- 1 root   tty  136,  0  6月 16 04:35 0\r\n",
      "crw--w---- 1 liheyi tty  136,  1  8月 25 15:42 1\r\n",
      "crw--w---- 1 liheyi tty  136, 10  8月 25 15:50 10\r\n",
      "crw--w---- 1 liheyi tty  136, 11  8月 25 15:50 11\r\n",
      "crw--w---- 1 liheyi tty  136,  2  8月 25 14:41 2\r\n",
      "crw--w---- 1 liheyi tty  136,  3  8月 25 15:02 3\r\n",
      "crw--w---- 1 liheyi tty  136,  4  8月 25 15:47 4\r\n",
      "crw--w---- 1 root   tty  136,  5  6月 16 04:35 5\r\n",
      "crw--w---- 1 root   tty  136,  6  6月 16 04:35 6\r\n",
      "crw--w---- 1 liheyi tty  136,  7  8月 25 15:49 7\r\n",
      "crw--w---- 1 root   tty  136,  8  6月 16 04:35 8\r\n",
      "crw--w---- 1 liheyi tty  136,  9  8月 25 15:49 9\r\n",
      "c--------- 1 root   root   5,  2  6月 16 04:35 ptmx\r\n"
     ]
    }
   ],
   "source": [
    "ls -l /dev/pts/"
   ]
  },
  {
   "cell_type": "markdown",
   "metadata": {},
   "source": [
    "#### 3.the console terminal (/dev/ttyn, /dev/console) \n",
    "On Linux systems, the computer monitor is usually called the console terminal (Console). It emulates a terminal of type Linux (TERM = Linux), and there are a number of device special files associated with it: tty0, tty1, tty2, etc. When you log on the console, using tty1. Use Alt + [F1-F6] key combination, we can switch to tty2, tty3 such as the above go. tty1 tty6 such as virtual terminals, and tty0 is the current virtual terminal used an alias, the system generated information will be sent to the terminal. So regardless of which virtual terminal is currently being used, system information is sent to the console terminal. You can log in to different virtual terminals and thus the system can have several different sessions at the same time period there."
   ]
  },
  {
   "cell_type": "code",
   "execution_count": 23,
   "metadata": {
    "collapsed": false
   },
   "outputs": [
    {
     "name": "stdout",
     "output_type": "stream",
     "text": [
      "crw--w---- 1 root   tty 4, 0  6月 16 04:35 /dev/tty0\r\n",
      "crw------- 1 liheyi tty 4, 1  8月 25 14:27 /dev/tty1\r\n",
      "crw-rw---- 1 root   tty 4, 2  6月 16 04:35 /dev/tty2\r\n",
      "crw-rw---- 1 root   tty 4, 3  6月 16 04:35 /dev/tty3\r\n",
      "crw-rw---- 1 root   tty 4, 4  6月 16 04:35 /dev/tty4\r\n",
      "crw-rw---- 1 root   tty 4, 5  6月 16 04:35 /dev/tty5\r\n",
      "crw-rw---- 1 root   tty 4, 6  6月 16 04:35 /dev/tty6\r\n",
      "crw--w---- 1 root   tty 4, 7  6月 23 14:49 /dev/tty7\r\n",
      "crw--w---- 1 root   tty 4, 8  6月 16 04:35 /dev/tty8\r\n",
      "crw--w---- 1 root   tty 4, 9  6月 16 04:35 /dev/tty9\r\n"
     ]
    }
   ],
   "source": [
    "# When you log on the console, using tty1.\n",
    "ls -l /dev/tty?"
   ]
  },
  {
   "cell_type": "code",
   "execution_count": 19,
   "metadata": {
    "collapsed": false,
    "scrolled": true
   },
   "outputs": [
    {
     "name": "stdout",
     "output_type": "stream",
     "text": [
      "total 0\r\n",
      "crw--w---- 1 root   tty  136, 0  6月 16 04:35 0\r\n",
      "crw--w---- 1 liheyi tty  136, 1  8月 25 15:42 1\r\n",
      "crw--w---- 1 liheyi tty  136, 2  8月 25 14:41 2\r\n",
      "crw--w---- 1 liheyi tty  136, 3  8月 25 15:02 3\r\n",
      "crw--w---- 1 liheyi tty  136, 4  8月 25 15:47 4\r\n",
      "crw--w---- 1 root   tty  136, 5  6月 16 04:35 5\r\n",
      "crw--w---- 1 root   tty  136, 6  6月 16 04:35 6\r\n",
      "crw--w---- 1 root   tty  136, 8  6月 16 04:35 8\r\n",
      "c--------- 1 root   root   5, 2  6月 16 04:35 ptmx\r\n"
     ]
    }
   ],
   "source": [
    "ls -l /dev/pts/"
   ]
  },
  {
   "cell_type": "code",
   "execution_count": 20,
   "metadata": {
    "collapsed": false,
    "scrolled": true
   },
   "outputs": [
    {
     "name": "stdout",
     "output_type": "stream",
     "text": [
      "  1283 tty4     Ss+    0:00 /sbin/getty -8 38400 tty4\r\n",
      "  1287 tty5     Ss+    0:00 /sbin/getty -8 38400 tty5\r\n",
      "  1293 tty2     Ss+    0:00 /sbin/getty -8 38400 tty2\r\n",
      "  1294 tty3     Ss+    0:00 /sbin/getty -8 38400 tty3\r\n",
      "  1298 tty6     Ss+    0:00 /sbin/getty -8 38400 tty6\r\n",
      " 18172 tty1     Ss     0:00 /bin/login --  \r\n",
      " 36357 tty1     S+     0:05 -bash\r\n",
      " 91032 pts/4    Ss     0:00 /bin/bash --rcfile /home/liheyi/anaconda2/lib/python2.7/site-packages/pexpect/bashrc.sh\r\n",
      " 91612 ?        S      0:01 sshd: liheyi@pts/1  \r\n",
      " 91613 pts/1    Ss+    0:00 -bash\r\n",
      " 91664 ?        S      0:00 sshd: liheyi@pts/2  \r\n",
      " 91665 pts/2    Ss+    0:00 -bash\r\n",
      " 91768 pts/3    Ss+    0:00 /bin/bash --rcfile /home/liheyi/anaconda2/lib/python2.7/site-packages/pexpect/bashrc.sh\r\n",
      " 91786 pts/4    R+     0:00 ps ax\r\n",
      " 91787 pts/4    R+     0:00 [bash]\r\n"
     ]
    }
   ],
   "source": [
    "ps ax | egrep 'tty|pts'"
   ]
  },
  {
   "cell_type": "markdown",
   "metadata": {},
   "source": [
    "上述输出解释:"
   ]
  },
  {
   "cell_type": "raw",
   "metadata": {},
   "source": [
    "36357   tty1   S+    0:05   -bash"
   ]
  },
  {
   "cell_type": "markdown",
   "metadata": {},
   "source": [
    "1.对于当前登录的控制台来说,所使用的终端设备为'/dev/tty1'"
   ]
  },
  {
   "cell_type": "raw",
   "metadata": {},
   "source": [
    "18172 tty1     Ss     0:00 /bin/login -- \n",
    "36357 tty1     S+     0:05 -bash"
   ]
  },
  {
   "cell_type": "markdown",
   "metadata": {},
   "source": [
    "2.与终端设备'/dev/tty1'相关联的进程有login与bash程序"
   ]
  },
  {
   "cell_type": "raw",
   "metadata": {},
   "source": [
    "91612 ?        S      0:00 sshd: liheyi@pts/1\n",
    "91664 ?        S      0:00 sshd: liheyi@pts/2  "
   ]
  },
  {
   "cell_type": "markdown",
   "metadata": {},
   "source": [
    "3.上述输出表明目前有两个ssh远程连接(通过xterm/xshell实现的连接)  \n",
    "  对应的伪终端分别是'/dev/pts/1'和'/dev/pts/2'，连接的用户名为'liheyi'"
   ]
  },
  {
   "cell_type": "raw",
   "metadata": {},
   "source": [
    "91613 pts/1    Ss+    0:00 -bash\n",
    "91665 pts/2    Ss+    0:00 -bash"
   ]
  },
  {
   "cell_type": "markdown",
   "metadata": {},
   "source": [
    "4.两个伪终端'/dev/pts/1'和'/dev/pts/2'上当前运行的进程为bash程序"
   ]
  },
  {
   "cell_type": "raw",
   "metadata": {},
   "source": [
    "91768 pts/3    Ss+    0:00 /bin/bash --rcfile /home/liheyi/anaconda2/lib/python2.7/site-packages/pexpect/bashrc.sh\n",
    "91032 pts/4    Ss     0:00 /bin/bash --rcfile /home/liheyi/anaconda2/lib/python2.7/site-packages/pexpect/bashrc.sh\n",
    "91724 pts/4    R+     0:00 ps ax\n",
    "91776 pts/4    S+     0:00 egrep tty|pts"
   ]
  },
  {
   "cell_type": "markdown",
   "metadata": {},
   "source": [
    "5.上述输出表明目前有两个jupyter程序远程连接,对应的伪终端分别是'/dev/pts/3'和'/dev/pts/4/';  \n",
    "  其上正在运行的进程均是bash程序,同时伪终端'/dev/pts/4'上当前还运行了'ps ax'和'egrep tty|pts'程序"
   ]
  },
  {
   "cell_type": "code",
   "execution_count": 12,
   "metadata": {
    "collapsed": false
   },
   "outputs": [
    {
     "name": "stdout",
     "output_type": "stream",
     "text": [
      "crw--w---- 1 root   tty 4, 0  6月 16 04:35 /dev/tty0\r\n",
      "crw------- 1 liheyi tty 4, 1  8月 25 14:10 /dev/tty1\r\n",
      "crw-rw---- 1 root   tty 4, 2  6月 16 04:35 /dev/tty2\r\n",
      "crw-rw---- 1 root   tty 4, 3  6月 16 04:35 /dev/tty3\r\n",
      "crw-rw---- 1 root   tty 4, 4  6月 16 04:35 /dev/tty4\r\n",
      "crw-rw---- 1 root   tty 4, 5  6月 16 04:35 /dev/tty5\r\n",
      "crw-rw---- 1 root   tty 4, 6  6月 16 04:35 /dev/tty6\r\n",
      "crw--w---- 1 root   tty 4, 7  6月 23 14:49 /dev/tty7\r\n",
      "crw--w---- 1 root   tty 4, 8  6月 16 04:35 /dev/tty8\r\n",
      "crw--w---- 1 root   tty 4, 9  6月 16 04:35 /dev/tty9\r\n"
     ]
    }
   ],
   "source": [
    "ls -l /dev/tty?"
   ]
  },
  {
   "cell_type": "code",
   "execution_count": 24,
   "metadata": {
    "collapsed": false
   },
   "outputs": [
    {
     "name": "stdout",
     "output_type": "stream",
     "text": [
      "/dev/pts/4\r\n"
     ]
    }
   ],
   "source": [
    "# Use the command “tty” to see \n",
    "# what it actually corresponds to the specific terminal device\n",
    "tty"
   ]
  },
  {
   "cell_type": "raw",
   "metadata": {},
   "source": [
    "If you use the command 'tty' on xshell session,that is,in a bash session,the result is:\n",
    "\n",
    "liheyi@analysis:~$ tty\n",
    "/dev/pts/1"
   ]
  },
  {
   "cell_type": "markdown",
   "metadata": {
    "collapsed": true
   },
   "source": [
    "#### 4. the control terminal (/dev/tty) \n",
    "If the current process has the control terminal (Controlling Terminal), then /dev/tty controlling terminal of the current process is the device special file. You can use the command “ps ax” to see the process and the control terminal which is connected to. For your login shell, /dev/tty is the terminal you use, the device number is (5,0). Use the command “tty” to see what it actually corresponds to the specific terminal device. /dev/tty is similar to the actual terminal equipment used by a connection. "
   ]
  },
  {
   "cell_type": "code",
   "execution_count": 25,
   "metadata": {
    "collapsed": false
   },
   "outputs": [
    {
     "name": "stdout",
     "output_type": "stream",
     "text": [
      "crw-rw-rw- 1 root tty 5, 0  8月  2 09:59 /dev/tty\r\n"
     ]
    }
   ],
   "source": [
    "ls -l /dev/tty"
   ]
  },
  {
   "cell_type": "code",
   "execution_count": 27,
   "metadata": {
    "collapsed": false
   },
   "outputs": [
    {
     "name": "stdout",
     "output_type": "stream",
     "text": [
      "hello, current control terminal\r\n"
     ]
    }
   ],
   "source": [
    "echo \"hello, current control terminal\" > /dev/tty"
   ]
  },
  {
   "cell_type": "markdown",
   "metadata": {},
   "source": [
    "#### 5. virtual terminal (/dev/pts/n) "
   ]
  },
  {
   "cell_type": "markdown",
   "metadata": {},
   "source": [
    "Xwindows mode in the pseudo-terminal. \n",
    "\n",
    "But in Linux,this can be necessary to provide a pty pseudo terminal. Directory /dev/pts is a devpts file system type, and can be loaded to see the list of file system. Although the “File” /dev/pts/3 appears to be a device file system, but in fact it is a completely different file system. "
   ]
  },
  {
   "cell_type": "code",
   "execution_count": 26,
   "metadata": {
    "collapsed": false
   },
   "outputs": [
    {
     "name": "stdout",
     "output_type": "stream",
     "text": [
      "total 0\r\n",
      "crw--w---- 1 root   tty  136, 0  6月 16 04:35 0\r\n",
      "crw------- 1 liheyi tty  136, 1  8月 25 16:09 1\r\n",
      "crw------- 1 liheyi tty  136, 2  8月 25 16:15 2\r\n",
      "crw--w---- 1 liheyi tty  136, 3  8月 25 15:02 3\r\n",
      "crw--w---- 1 liheyi tty  136, 4  8月 25 16:13 4\r\n",
      "crw--w---- 1 root   tty  136, 5  6月 16 04:35 5\r\n",
      "crw--w---- 1 root   tty  136, 6  6月 16 04:35 6\r\n",
      "crw--w---- 1 liheyi tty  136, 7  8月 25 15:49 7\r\n",
      "crw--w---- 1 root   tty  136, 8  6月 16 04:35 8\r\n",
      "crw--w---- 1 liheyi tty  136, 9  8月 25 15:49 9\r\n",
      "c--------- 1 root   root   5, 2  6月 16 04:35 ptmx\r\n"
     ]
    }
   ],
   "source": [
    "ls -l /dev/pts/"
   ]
  },
  {
   "cell_type": "markdown",
   "metadata": {},
   "source": [
    "#### 6. other types \n",
    "Linux systems also for the many different characters there are many other types of equipment, the terminal device special file. For example, for ISDN devices /dev/ ttyIn terminal equipment. Not repeat them here."
   ]
  },
  {
   "cell_type": "markdown",
   "metadata": {},
   "source": [
    "### FAQ"
   ]
  },
  {
   "cell_type": "markdown",
   "metadata": {},
   "source": [
    "#### 1. What is /dev/console ?"
   ]
  },
  {
   "cell_type": "markdown",
   "metadata": {},
   "source": [
    "/dev/console即控制台，是与操作系统交互的设备，系统将一些信息直接输出到控制台上。  \n",
    "比如刚刚登录成功时，打印到屏幕上的相关信息："
   ]
  },
  {
   "cell_type": "raw",
   "metadata": {},
   "source": [
    "Connecting to 192.168.115.128:22...\n",
    "Connection established.\n",
    "To escape to local shell, press 'Ctrl+Alt+]'.\n",
    "\n",
    "Welcome to Ubuntu 14.04.2 LTS (GNU/Linux 3.16.0-30-generic x86_64)\n",
    "\n",
    " * Documentation:  https://help.ubuntu.com/\n",
    "\n",
    "New release '16.04.1 LTS' available.\n",
    "Run 'do-release-upgrade' to upgrade to it.\n",
    "\n",
    "Last login: Thu Aug 25 16:09:10 2016 from 192.168.115.1\n",
    "liheyi@analysis:~$ "
   ]
  },
  {
   "cell_type": "markdown",
   "metadata": {},
   "source": [
    "目前只有在单用户模式下，才允许用户登录控制台。"
   ]
  },
  {
   "cell_type": "markdown",
   "metadata": {},
   "source": [
    "#### 2.What is /dev/tty ?"
   ]
  },
  {
   "cell_type": "markdown",
   "metadata": {},
   "source": [
    "tty设备包括虚拟控制台，串口以及伪终端设备。  \n",
    "/dev/tty代表当前tty设备，在当前的终端中输入 echo “hello” > /dev/tty ，都会直接显示在当前的终端中。"
   ]
  },
  {
   "cell_type": "code",
   "execution_count": 28,
   "metadata": {
    "collapsed": false
   },
   "outputs": [
    {
     "name": "stdout",
     "output_type": "stream",
     "text": [
      "hello\r\n"
     ]
    }
   ],
   "source": [
    "echo \"hello\" > /dev/tty"
   ]
  },
  {
   "cell_type": "markdown",
   "metadata": {},
   "source": [
    "#### 3.What is /dev/ttyS* ?"
   ]
  },
  {
   "cell_type": "markdown",
   "metadata": {},
   "source": [
    "/dev/ttyS*是串行终端设备。"
   ]
  },
  {
   "cell_type": "markdown",
   "metadata": {},
   "source": [
    "#### 4.What is /dev/pty* ?"
   ]
  },
  {
   "cell_type": "markdown",
   "metadata": {},
   "source": [
    "/dev/pty*即伪终端，所谓伪终端是逻辑上的终端设备，多用于模拟终端程序。  \n",
    "例如，我们在X Window下打开的终端，以及我们在Windows使用telnet或ssh等方式登录Linux主机，  \n",
    "此时均在使用pty设备(准确的说应该pty从设备)。"
   ]
  },
  {
   "cell_type": "markdown",
   "metadata": {},
   "source": [
    "#### 5./dev/tty0与/dev/tty1 …/dev/tty63是什么？它们之间有什么区别？"
   ]
  },
  {
   "cell_type": "code",
   "execution_count": 29,
   "metadata": {
    "collapsed": false
   },
   "outputs": [
    {
     "name": "stdout",
     "output_type": "stream",
     "text": [
      "crw--w---- 1 root   tty 4,  0  8月 25 16:09 /dev/tty0\r\n",
      "crw------- 1 liheyi tty 4,  1  8月 25 14:27 /dev/tty1\r\n",
      "crw-rw---- 1 root   tty 4,  2  6月 16 04:35 /dev/tty2\r\n",
      "crw-rw---- 1 root   tty 4,  3  6月 16 04:35 /dev/tty3\r\n",
      "crw-rw---- 1 root   tty 4,  4  6月 16 04:35 /dev/tty4\r\n",
      "crw-rw---- 1 root   tty 4,  5  6月 16 04:35 /dev/tty5\r\n",
      "crw-rw---- 1 root   tty 4,  6  6月 16 04:35 /dev/tty6\r\n",
      "crw--w---- 1 root   tty 4,  7  6月 23 14:49 /dev/tty7\r\n",
      "crw--w---- 1 root   tty 4,  8  6月 16 04:35 /dev/tty8\r\n",
      "crw--w---- 1 root   tty 4,  9  6月 16 04:35 /dev/tty9\r\n",
      "crw--w---- 1 root   tty 4, 10  6月 16 04:35 /dev/tty10\r\n",
      "crw--w---- 1 root   tty 4, 11  6月 16 04:35 /dev/tty11\r\n",
      "crw--w---- 1 root   tty 4, 12  6月 16 04:35 /dev/tty12\r\n",
      "crw--w---- 1 root   tty 4, 13  6月 16 04:35 /dev/tty13\r\n",
      "crw--w---- 1 root   tty 4, 14  6月 16 04:35 /dev/tty14\r\n",
      "crw--w---- 1 root   tty 4, 15  6月 16 04:35 /dev/tty15\r\n",
      "crw--w---- 1 root   tty 4, 16  6月 16 04:35 /dev/tty16\r\n",
      "crw--w---- 1 root   tty 4, 17  6月 16 04:35 /dev/tty17\r\n",
      "crw--w---- 1 root   tty 4, 18  6月 16 04:35 /dev/tty18\r\n",
      "crw--w---- 1 root   tty 4, 19  6月 16 04:35 /dev/tty19\r\n",
      "crw--w---- 1 root   tty 4, 20  6月 16 04:35 /dev/tty20\r\n",
      "crw--w---- 1 root   tty 4, 21  6月 16 04:35 /dev/tty21\r\n",
      "crw--w---- 1 root   tty 4, 22  6月 16 04:35 /dev/tty22\r\n",
      "crw--w---- 1 root   tty 4, 23  6月 16 04:35 /dev/tty23\r\n",
      "crw--w---- 1 root   tty 4, 24  6月 16 04:35 /dev/tty24\r\n",
      "crw--w---- 1 root   tty 4, 25  6月 16 04:35 /dev/tty25\r\n",
      "crw--w---- 1 root   tty 4, 26  6月 16 04:35 /dev/tty26\r\n",
      "crw--w---- 1 root   tty 4, 27  6月 16 04:35 /dev/tty27\r\n",
      "crw--w---- 1 root   tty 4, 28  6月 16 04:35 /dev/tty28\r\n",
      "crw--w---- 1 root   tty 4, 29  6月 16 04:35 /dev/tty29\r\n",
      "crw--w---- 1 root   tty 4, 30  6月 16 04:35 /dev/tty30\r\n",
      "crw--w---- 1 root   tty 4, 31  6月 16 04:35 /dev/tty31\r\n",
      "crw--w---- 1 root   tty 4, 32  6月 16 04:35 /dev/tty32\r\n",
      "crw--w---- 1 root   tty 4, 33  6月 16 04:35 /dev/tty33\r\n",
      "crw--w---- 1 root   tty 4, 34  6月 16 04:35 /dev/tty34\r\n",
      "crw--w---- 1 root   tty 4, 35  6月 16 04:35 /dev/tty35\r\n",
      "crw--w---- 1 root   tty 4, 36  6月 16 04:35 /dev/tty36\r\n",
      "crw--w---- 1 root   tty 4, 37  6月 16 04:35 /dev/tty37\r\n",
      "crw--w---- 1 root   tty 4, 38  6月 16 04:35 /dev/tty38\r\n",
      "crw--w---- 1 root   tty 4, 39  6月 16 04:35 /dev/tty39\r\n",
      "crw--w---- 1 root   tty 4, 40  6月 16 04:35 /dev/tty40\r\n",
      "crw--w---- 1 root   tty 4, 41  6月 16 04:35 /dev/tty41\r\n",
      "crw--w---- 1 root   tty 4, 42  6月 16 04:35 /dev/tty42\r\n",
      "crw--w---- 1 root   tty 4, 43  6月 16 04:35 /dev/tty43\r\n",
      "crw--w---- 1 root   tty 4, 44  6月 16 04:35 /dev/tty44\r\n",
      "crw--w---- 1 root   tty 4, 45  6月 16 04:35 /dev/tty45\r\n",
      "crw--w---- 1 root   tty 4, 46  6月 16 04:35 /dev/tty46\r\n",
      "crw--w---- 1 root   tty 4, 47  6月 16 04:35 /dev/tty47\r\n",
      "crw--w---- 1 root   tty 4, 48  6月 16 04:35 /dev/tty48\r\n",
      "crw--w---- 1 root   tty 4, 49  6月 16 04:35 /dev/tty49\r\n",
      "crw--w---- 1 root   tty 4, 50  6月 16 04:35 /dev/tty50\r\n",
      "crw--w---- 1 root   tty 4, 51  6月 16 04:35 /dev/tty51\r\n",
      "crw--w---- 1 root   tty 4, 52  6月 16 04:35 /dev/tty52\r\n",
      "crw--w---- 1 root   tty 4, 53  6月 16 04:35 /dev/tty53\r\n",
      "crw--w---- 1 root   tty 4, 54  6月 16 04:35 /dev/tty54\r\n",
      "crw--w---- 1 root   tty 4, 55  6月 16 04:35 /dev/tty55\r\n",
      "crw--w---- 1 root   tty 4, 56  6月 16 04:35 /dev/tty56\r\n",
      "crw--w---- 1 root   tty 4, 57  6月 16 04:35 /dev/tty57\r\n",
      "crw--w---- 1 root   tty 4, 58  6月 16 04:35 /dev/tty58\r\n",
      "crw--w---- 1 root   tty 4, 59  6月 16 04:35 /dev/tty59\r\n",
      "crw--w---- 1 root   tty 4, 60  6月 16 04:35 /dev/tty60\r\n",
      "crw--w---- 1 root   tty 4, 61  6月 16 04:35 /dev/tty61\r\n",
      "crw--w---- 1 root   tty 4, 62  6月 16 04:35 /dev/tty62\r\n",
      "crw--w---- 1 root   tty 4, 63  6月 16 04:35 /dev/tty63\r\n"
     ]
    }
   ],
   "source": [
    "ls -l /dev/tty[0-9]* | sort -k10V"
   ]
  },
  {
   "cell_type": "markdown",
   "metadata": {},
   "source": [
    "/dev/tty0代表当前虚拟控制台，而/dev/tty1代表第一个虚拟控制台，以此类推。   \n",
    "例如当使用ALT+F2进行切换时，系统的虚拟控制台为/dev/tty2 ，当前的控制台则指向/dev/tty2"
   ]
  },
  {
   "cell_type": "markdown",
   "metadata": {},
   "source": [
    "#### 6./dev/console是到/dev/tty0的符号链接吗？"
   ]
  },
  {
   "cell_type": "markdown",
   "metadata": {},
   "source": [
    "目前的大多数文本中都称/dev/console是到/dev/tty0的链接，但是这样说是不确切的。  \n",
    "根据内核文档：  \n",
    "    1.在2.1.71之前，/dev/console根据不同系统的设定可以链接到/dev/tty0或者其他tty*上，   \n",
    "    2.在2.1.71版本之后则完全由内核控制。    \n",
    "目前，只有在单用户模式下可以登录/dev/console（可以在单用户模式下输入tty命令进行确认）。"
   ]
  }
 ],
 "metadata": {
  "kernelspec": {
   "display_name": "Bash",
   "language": "bash",
   "name": "bash"
  },
  "language_info": {
   "codemirror_mode": "shell",
   "file_extension": ".sh",
   "mimetype": "text/x-sh",
   "name": "bash"
  }
 },
 "nbformat": 4,
 "nbformat_minor": 0
}
