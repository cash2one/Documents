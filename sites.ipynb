{
 "cells": [
  {
   "cell_type": "markdown",
   "metadata": {},
   "source": [
    "###### 0.慕课网手记\n",
    "http://www.imooc.com/article"
   ]
  },
  {
   "cell_type": "markdown",
   "metadata": {},
   "source": [
    "###### 1.Python 2.7 Quick Reference\n",
    "https://github.com/justmarkham/python-reference"
   ]
  },
  {
   "cell_type": "markdown",
   "metadata": {},
   "source": [
    "###### 2.General Assembly's Data Science course in Washington, DC\n",
    "https://github.com/justmarkham/DAT8"
   ]
  },
  {
   "cell_type": "markdown",
   "metadata": {},
   "source": [
    "###### 3.Python正则表达式指南\n",
    "http://www.imooc.com/article/1141"
   ]
  },
  {
   "cell_type": "markdown",
   "metadata": {},
   "source": [
    "###### 4.什么才算是真正的编程能力？\n",
    "http://www.imooc.com/article/1097"
   ]
  },
  {
   "cell_type": "markdown",
   "metadata": {},
   "source": [
    "###### 5.慢速编程：做一个会思考的程序员\n",
    "http://www.imooc.com/article/1156"
   ]
  },
  {
   "cell_type": "markdown",
   "metadata": {
    "collapsed": true
   },
   "source": [
    "###### 6.Hey!Linux.\n",
    "http://heylinux.com/"
   ]
  },
  {
   "cell_type": "markdown",
   "metadata": {},
   "source": [
    "###### 7.脚本分享 之 天朝全静态路由\n",
    "http://heylinux.com/archives/3252.html"
   ]
  },
  {
   "cell_type": "markdown",
   "metadata": {
    "collapsed": true
   },
   "source": [
    "###### 8.Linux分类命令\n",
    "http://man.linuxde.net/"
   ]
  },
  {
   "cell_type": "markdown",
   "metadata": {
    "collapsed": true
   },
   "source": [
    "###### 9.UNIX 高手的 10 个习惯\n",
    "http://www.ibm.com/developerworks/cn/aix/library/au-badunixhabits.html"
   ]
  },
  {
   "cell_type": "markdown",
   "metadata": {},
   "source": [
    "###### 10.掘金--高质量的技术社区\n",
    "http://gold.xitu.io/welcome"
   ]
  },
  {
   "cell_type": "markdown",
   "metadata": {},
   "source": [
    "###### 11.ansible-examples\n",
    "https://github.com/ansible/ansible-examples"
   ]
  },
  {
   "cell_type": "markdown",
   "metadata": {},
   "source": [
    "###### 12.如何发现优秀的开源项目？\n",
    "http://stormzhang.com/github/2016/07/28/learn-github-from-zero7/"
   ]
  },
  {
   "cell_type": "markdown",
   "metadata": {
    "collapsed": true
   },
   "source": [
    "###### 13. awesome everything\n",
    "https://github.com/sindresorhus/awesome"
   ]
  },
  {
   "cell_type": "markdown",
   "metadata": {},
   "source": [
    "###### 14.awesome-shell\n",
    "https://github.com/alebcay/awesome-shell"
   ]
  },
  {
   "cell_type": "markdown",
   "metadata": {
    "collapsed": true
   },
   "source": [
    "###### 15.The Unix School\n",
    "http://www.theunixschool.com/"
   ]
  },
  {
   "cell_type": "markdown",
   "metadata": {},
   "source": [
    "###### 16.Python进阶必读汇总\n",
    "http://www.dongwm.com/archives/pythonjin-jie-bi-du-hui-zong/"
   ]
  },
  {
   "cell_type": "markdown",
   "metadata": {},
   "source": [
    "###### 17.python china\n",
    "http://python-china.org/"
   ]
  },
  {
   "cell_type": "markdown",
   "metadata": {
    "collapsed": true
   },
   "source": [
    "###### 18.Awesome Flask\n",
    "https://github.com/humiaozuzu/awesome-flask"
   ]
  },
  {
   "cell_type": "markdown",
   "metadata": {
    "collapsed": true
   },
   "source": [
    "###### 19.fluentpython/example-code\n",
    "https://github.com/fluentpython/example-code"
   ]
  },
  {
   "cell_type": "markdown",
   "metadata": {},
   "source": [
    "###### 20.geekan/scrapy-examples\n",
    "https://github.com/geekan/scrapy-examples"
   ]
  },
  {
   "cell_type": "markdown",
   "metadata": {
    "collapsed": true
   },
   "source": [
    "###### 21.flask document\n",
    "http://flask.pocoo.org/docs/0.11/"
   ]
  },
  {
   "cell_type": "markdown",
   "metadata": {
    "collapsed": true
   },
   "source": [
    "###### 22.编程入门指南 v1.5\n",
    "https://zhuanlan.zhihu.com/p/19959253"
   ]
  },
  {
   "cell_type": "markdown",
   "metadata": {},
   "source": [
    "###### 23.哈佛大学公开课：计算机科学cs50\n",
    "http://open.163.com/special/opencourse/cs50.html"
   ]
  },
  {
   "cell_type": "markdown",
   "metadata": {
    "collapsed": true
   },
   "source": [
    "##### 24.Get started with GAWK: AWK language fundamentals\n",
    "https://www6.software.ibm.com/developerworks/education/au-gawk/au-gawk-a4.pdf"
   ]
  },
  {
   "cell_type": "code",
   "execution_count": null,
   "metadata": {
    "collapsed": true
   },
   "outputs": [],
   "source": []
  }
 ],
 "metadata": {
  "kernelspec": {
   "display_name": "Python [Root]",
   "language": "python",
   "name": "Python [Root]"
  },
  "language_info": {
   "codemirror_mode": {
    "name": "ipython",
    "version": 2
   },
   "file_extension": ".py",
   "mimetype": "text/x-python",
   "name": "python",
   "nbconvert_exporter": "python",
   "pygments_lexer": "ipython2",
   "version": "2.7.12"
  }
 },
 "nbformat": 4,
 "nbformat_minor": 0
}
