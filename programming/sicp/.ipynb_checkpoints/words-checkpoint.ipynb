{
 "cells": [
  {
   "cell_type": "raw",
   "metadata": {},
   "source": [
    "dietician/dieticians                 饮食学家,营养师\n",
    "psychologists                      心理学家\n",
    "assault                          攻击,袭击\n",
    "en route                         途中,在途中"
   ]
  },
  {
   "cell_type": "raw",
   "metadata": {},
   "source": [
    "An assault on large problems employs a succession of programs, most of which spring into existence en route.\n",
    "解决大规模问题需要经过一些列规划，其中的大部分东西只有在工作进程中才能做出来。"
   ]
  },
  {
   "cell_type": "raw",
   "metadata": {},
   "source": [
    "are rife with                      充斥着\n",
    "appreciate                        欣赏\n",
    "fit with                         配合\n",
    "foci                            焦点,中心\n",
    "hatch                           孵化\n",
    "intricate                         复杂\n",
    "mosaics                          马赛克,镶嵌\n",
    "metastable                        亚稳的,亚稳态\n",
    "exhilaration                       兴奋,高兴\n",
    "perception                        感知\n",
    "guise                           伪装\n",
    "harsh                           严厉的,严格的\n",
    "taskmaster                        监工,工头\n",
    "it is crucial that                   这是至关重要的\n",
    "arsenal                          兵工厂,军火库\n",
    "stimulate                         刺激,推动"
   ]
  },
  {
   "cell_type": "raw",
   "metadata": {},
   "source": [
    "exquisite                         精致的\n",
    "conjure                          召唤\n",
    "sorcerer's                        魔法\n",
    "disburse                         支付,出纳\n",
    "arcane                           神秘的,晦涩难解的\n",
    "esoteric                         深奥的\n",
    "prescribe                         指定,规定\n",
    "apprentice                        学徒\n",
    "novice                           新手,初学者\n",
    "anticipate                        预见,预期\n",
    "consequences                       结果,后果\n",
    "glitches                         故障\n",
    "catastrophic collapse                 灾难性的崩溃\n",
    "industrial robot                    工业机器人\n",
    "self-destruction                    自我毁灭\n",
    "automobiles                        汽车\n",
    "nuclear reactors                    反应堆"
   ]
  },
  {
   "cell_type": "raw",
   "metadata": {},
   "source": [
    "inception                         初期,开端\n",
    "carry out                         完成,开展\n",
    "strikingly                        醒目地,惊人地\n",
    "promulgate                        颁布\n",
    "encompass                         包围,完成\n",
    "possess                          拥有\n",
    "linguistic                        语言的,语言学的\n",
    "blur                            模糊,使难以区分\n"
   ]
  }
 ],
 "metadata": {
  "kernelspec": {
   "display_name": "Python 2",
   "language": "python",
   "name": "python2"
  },
  "language_info": {
   "codemirror_mode": {
    "name": "ipython",
    "version": 2
   },
   "file_extension": ".py",
   "mimetype": "text/x-python",
   "name": "python",
   "nbconvert_exporter": "python",
   "pygments_lexer": "ipython2",
   "version": "2.7.11"
  }
 },
 "nbformat": 4,
 "nbformat_minor": 0
}
