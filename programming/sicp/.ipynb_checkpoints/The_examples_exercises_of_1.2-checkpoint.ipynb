{
 "cells": [
  {
   "cell_type": "markdown",
   "metadata": {},
   "source": [
    "## 1.2.1 Linear Recursion and Iteration"
   ]
  },
  {
   "cell_type": "markdown",
   "metadata": {},
   "source": [
    "### Example 1: compute factorials"
   ]
  },
  {
   "cell_type": "raw",
   "metadata": {},
   "source": [
    "Mathematical Expression of the Factorial Function：\n",
    "\n",
    "    n! = n \u0001 (n - 1) \u0001 (n - 2) \u0001 \u0001 \u0001 3 \u0001 2 \u0001 1\n",
    "    "
   ]
  },
  {
   "cell_type": "markdown",
   "metadata": {},
   "source": [
    "#### A-1.The recursive process described by mit-scheme from 1.2/factorial_by_recursion.scm"
   ]
  },
  {
   "cell_type": "code",
   "execution_count": 1,
   "metadata": {
    "collapsed": false,
    "scrolled": true
   },
   "outputs": [
    {
     "name": "stdout",
     "output_type": "stream",
     "text": [
      "(define (factorial n)\r\n",
      "  (if (= n 1)\r\n",
      "      1\r\n",
      "      (* n (factorial (- n 1)))\r\n",
      "  )\r\n",
      ")\r\n"
     ]
    }
   ],
   "source": [
    "cat 1.2/factorial_by_recursion.scm"
   ]
  },
  {
   "cell_type": "raw",
   "metadata": {},
   "source": [
    "A.Running Instance:\n",
    "\n",
    "1 ]=> (load \"1.2/factorial_by_recursion.scm\")\n",
    "\n",
    ";Loading \"1.2/factorial_by_recursion.scm\"... done\n",
    ";Value: factorial\n",
    "\n",
    "1 ]=> (factorial 6)\n",
    "\n",
    ";Value: 720\n",
    "\n",
    "B.The procedure in action computing 6!\n",
    "\n",
    "(factorial 6)\n",
    "(* 6 (factorial 5))\n",
    "(* 6 (* 5 (factorial 4)))\n",
    "(* 6 (* 5 (* 4 (factorial 3))))\n",
    "(* 6 (* 5 (* 4 (* 3 (factorial 2)))))\n",
    "(* 6 (* 5 (* 4 (* 3 (* 2 (factorial 1))))))\n",
    "(* 6 (* 5 (* 4 (* 3 (* 2 1)))))\n",
    "(* 6 (* 5 (* 4 (* 3 2))))\n",
    "(* 6 (* 5 (* 4 6)))\n",
    "(* 6 (* 5 24))\n",
    "(* 6 120)\n",
    "720"
   ]
  },
  {
   "cell_type": "markdown",
   "metadata": {},
   "source": [
    "#### A-2.The recursive process described by python2.7"
   ]
  },
  {
   "cell_type": "code",
   "execution_count": 2,
   "metadata": {
    "collapsed": false
   },
   "outputs": [
    {
     "data": {
      "text/plain": [
       "720"
      ]
     },
     "execution_count": 2,
     "metadata": {},
     "output_type": "execute_result"
    }
   ],
   "source": [
    "def factorial(n):\n",
    "    if 1 == n:\n",
    "        return 1\n",
    "    return n * factorial(n-1)\n",
    "\n",
    "factorial(6)"
   ]
  },
  {
   "cell_type": "markdown",
   "metadata": {},
   "source": [
    "#### B-1.The iterative process described by mit-scheme from 1.2/factorial_by_iteration.scm"
   ]
  },
  {
   "cell_type": "code",
   "execution_count": 4,
   "metadata": {
    "collapsed": false,
    "scrolled": true
   },
   "outputs": [
    {
     "name": "stdout",
     "output_type": "stream",
     "text": [
      "(define (factorial n)\r\n",
      "  (fact-iter 1 1 n)\r\n",
      ")\r\n",
      "\r\n",
      "(define (fact-iter product counter max-count)\r\n",
      "  (if (> counter max-count)\r\n",
      "      product\r\n",
      "      (fact-iter (* counter product)\r\n",
      "                 (+ counter 1)\r\n",
      "                  max-count\r\n",
      "      )\r\n",
      "  )\r\n",
      ")\r\n"
     ]
    }
   ],
   "source": [
    "cat 1.2/factorial_by_iteration.scm"
   ]
  },
  {
   "cell_type": "raw",
   "metadata": {},
   "source": [
    "A.Running Instance:\n",
    "\n",
    "1 ]=> (load \"1.2/factorial_by_iteration.scm\")\n",
    "\n",
    ";Loading \"1.2/factorial_by_iteration.scm\"... done\n",
    ";Value: fact-iter\n",
    "\n",
    "1 ]=> (factorial 6)\n",
    "\n",
    ";Value: 720\n",
    "\n",
    "B.The procedure in action computing 6!\n",
    "\n",
    "(factorial 6)\n",
    "(fact-iter 1 1 6)\n",
    "(fact-iter 1 2 6)\n",
    "(fact-iter 2 3 6)\n",
    "(fact-iter 6 4 6)\n",
    "(fact-iter 24 5 6)\n",
    "(fact-iter 120 6 6)\n",
    "(fact-iter 720 7 6)\n",
    "720"
   ]
  },
  {
   "cell_type": "markdown",
   "metadata": {},
   "source": [
    "#### B-2.The iterative process described by python2.7"
   ]
  },
  {
   "cell_type": "code",
   "execution_count": 7,
   "metadata": {
    "collapsed": false
   },
   "outputs": [
    {
     "data": {
      "text/plain": [
       "720"
      ]
     },
     "execution_count": 7,
     "metadata": {},
     "output_type": "execute_result"
    }
   ],
   "source": [
    "# basic\n",
    "def factorial(n):\n",
    "    product = 1\n",
    "    for counter in range(1,n+1):\n",
    "        product *= counter\n",
    "    return product\n",
    "\n",
    "factorial(6)"
   ]
  },
  {
   "cell_type": "code",
   "execution_count": 8,
   "metadata": {
    "collapsed": false
   },
   "outputs": [
    {
     "data": {
      "text/plain": [
       "720"
      ]
     },
     "execution_count": 8,
     "metadata": {},
     "output_type": "execute_result"
    }
   ],
   "source": [
    "# advanced\n",
    "def factorial(n):\n",
    "    return reduce(lambda x, y: x*y, xrange(1, n+1))\n",
    "\n",
    "factorial(6)"
   ]
  },
  {
   "cell_type": "code",
   "execution_count": 11,
   "metadata": {
    "collapsed": false
   },
   "outputs": [
    {
     "data": {
      "text/plain": [
       "720"
      ]
     },
     "execution_count": 11,
     "metadata": {},
     "output_type": "execute_result"
    }
   ],
   "source": [
    "# look like Recursive process\n",
    "def factorial(n):\n",
    "    return fact_iter(1, 1, n)\n",
    "\n",
    "def fact_iter(product, counter, max_count):\n",
    "    if counter > max_count:\n",
    "        return product\n",
    "    else:\n",
    "        return fact_iter(counter*product, counter+1, max_count)\n",
    "    \n",
    "factorial(6)"
   ]
  },
  {
   "cell_type": "markdown",
   "metadata": {
    "collapsed": true
   },
   "source": [
    "### Exercise 1.9: \n",
    "Each of the following two procedures defines a method for adding two positive integers in terms of the procedures inc, which increments its argument by 1, and dec, which decrements its argument by 1."
   ]
  },
  {
   "cell_type": "raw",
   "metadata": {},
   "source": [
    "(define (+ a b)\n",
    "  (if (= a 0) b (inc (+ (dec a) b))))\n",
    "\n",
    "(define (+ a b)\n",
    "  (if (= a 0) b (+ (dec a) (inc b))))"
   ]
  },
  {
   "cell_type": "markdown",
   "metadata": {},
   "source": [
    "Using the substitution model, illustrate the process generated by each procedure in \n",
    "evaluating (+ 4 5). Are these processes iterative or recursive?"
   ]
  },
  {
   "cell_type": "raw",
   "metadata": {},
   "source": [
    "(define (+ a b)\n",
    "  (if (= a 0) \n",
    "     b \n",
    "     (inc (+ (dec a) b))\n",
    "  )\n",
    ")\n",
    "\n",
    "Because:\n",
    "\n",
    "(+ 4 5)\n",
    "(1 + (+ 3 5))\n",
    "(1 + (1 + (+ 2 5)))\n",
    "(1 + (1 + (1 + (+ 1 5))))\n",
    "(1 + (1 + (1 + (1 + (+ 0 5)))))\n",
    "(1 + (1 + (1 + (1 + 5))))\n",
    "(1 + (1 + (1 + 6)))\n",
    "(1 + (1 + 7))\n",
    "(1 + 8)\n",
    "9\n",
    "\n",
    "So,this process is recursive."
   ]
  },
  {
   "cell_type": "raw",
   "metadata": {},
   "source": [
    "(define (+ a b)\n",
    "  (if (= a 0) \n",
    "     b \n",
    "     (+ (dec a) (inc b))\n",
    "  )\n",
    ")\n",
    "\n",
    "Because:\n",
    "\n",
    "(+ 4 5)\n",
    "(+ 3 6)\n",
    "(+ 2 7)\n",
    "(+ 1 8)\n",
    "(+ 0 9)\n",
    "9\n",
    "\n",
    "So,this process is iterative."
   ]
  },
  {
   "cell_type": "markdown",
   "metadata": {},
   "source": [
    "### Exercise 1.10: \n",
    "The following procedure computes a mathematical function called Ackermann’s function."
   ]
  },
  {
   "cell_type": "raw",
   "metadata": {},
   "source": [
    "(define (A x y)\n",
    "  (cond ((= y 0) 0)\n",
    "      ((= x 0) (* 2 y))\n",
    "      ((= y 1) 2)\n",
    "      (else (A (- x 1) (A x (- y 1))))\n",
    "  )\n",
    ")"
   ]
  },
  {
   "cell_type": "markdown",
   "metadata": {},
   "source": [
    "What are the values of the following expressions?  \n",
    "(A 1 10)  \n",
    "(A 2 4)  \n",
    "(A 3 3)  "
   ]
  },
  {
   "cell_type": "markdown",
   "metadata": {},
   "source": [
    "(A 1 10)\n",
    "(A 0 (A 1 9))\n",
    "(2 * (A 0 (A 1 8)))\n",
    "(2 * (2 * (A 0 (A 1 7))))\n",
    "(2 * (2 * (2 * (A 0 (A 1 6)))))\n",
    "(2 * (2 * (2 * (2 * (A 0 (A 1 5))))))\n",
    "(2 * (2 * (2 * (2 * (2 * (A 0 (A 1 4)))))))\n",
    "(2 * (2 * (2 * (2 * (2 * (2 * (A 0 (A 1 3))))))))\n",
    "(2 * (2 * (2 * (2 * (2 * (2 * (2 * (A 0 (A 1 2)))))))))\n",
    "(2 * (2 * (2 * (2 * (2 * (2 * (2 * (2 * (A 0 A(1 1))))))))))\n",
    "(2 * (2 * (2 * (2 * (2 * (2 * (2 * (2 * (2 * 2)))))))))\n",
    "(2 * (2 * (2 * (2 * (2 * (2 * (2 * (2 * 4))))))))\n",
    "(2 * (2 * (2 * (2 * (2 * (2 * (2 * 8)))))))\n",
    "(2 * (2 * (2 * (2 * (2 * (2 * 16))))))\n",
    "(2 * (2 * (2 * (2 * (2 * 32)))))\n",
    "(2 * (2 * (2 * (2 * 64))))\n",
    "(2 * (2 * (2 * 128)))\n",
    "(2 * (2 * 256))\n",
    "(2 * 512)\n",
    "1024=2^10\n",
    "\n",
    "So,\n",
    "(A 1 n)=2^n"
   ]
  },
  {
   "cell_type": "raw",
   "metadata": {},
   "source": [
    "(A 2 4)\n",
    "(A 1 (A 2 3))\n",
    "(A 1 (A 1 (A 2 2)))\n",
    "(A 1 (A 1 (A 1 (A 2 1))))  ==> (A 2 1)=2\n",
    "(A 1 (A 1 (A 1 2)))      ==> (A 1 2)=2^2\n",
    "(A 1 (A 1 4))          ==> (A 1 4)=2^4\n",
    "(A 1 16)             ==> (A 1 16)=2^16\n",
    "2^16=2^2^4\n",
    "\n",
    "So,\n",
    "(A 2 n)=2^2^n"
   ]
  },
  {
   "cell_type": "raw",
   "metadata": {},
   "source": [
    "(A 3 3)\n",
    "(A 2 (A 3 2))\n",
    "(A 2 (A 2 (A 3 1)))     ==> (A 3 1)=2\n",
    "(A 2 (A 2 2))         ==> (A 2 2)=2^2^2\n",
    "(A 2 8)\n",
    "2^2^8=2^2^2^3\n",
    "\n",
    "So,\n",
    "(A 3 n)=2^2^2^n"
   ]
  },
  {
   "cell_type": "markdown",
   "metadata": {},
   "source": [
    "Consider the following procedures, where A is the procedure defined above:  \n",
    "(define (f n) (A 0 n))  \n",
    "(define (g n) (A 1 n))  \n",
    "(define (h n) (A 2 n))  \n",
    "(define (k n) (* 5 n n))  "
   ]
  },
  {
   "cell_type": "markdown",
   "metadata": {},
   "source": [
    "Give concise mathematical definitions for the functions computed by the procedures f, g, and h for positive integer values of n. For example, (k n) computes 5n^2."
   ]
  },
  {
   "cell_type": "raw",
   "metadata": {},
   "source": [
    "(define (f n) (A 0 n))\n",
    "f(n)=2n"
   ]
  },
  {
   "cell_type": "raw",
   "metadata": {},
   "source": [
    "(define (g n) (A 1 n))\n",
    "g(n)=2^n"
   ]
  },
  {
   "cell_type": "raw",
   "metadata": {},
   "source": [
    "(define (h n) (A 2 n))\n",
    "h(n)=2^2^n"
   ]
  },
  {
   "cell_type": "markdown",
   "metadata": {},
   "source": [
    "## 1.2.2 Tree Recursion"
   ]
  },
  {
   "cell_type": "markdown",
   "metadata": {},
   "source": [
    "### Example 2: compute Fibonacci numbers"
   ]
  },
  {
   "cell_type": "raw",
   "metadata": {},
   "source": [
    "Mathematical Expression of Fibonacci numbers:\n",
    "\n",
    "    0, 1, 1, 2, 3, 5, 8, 13, 21, ....\n"
   ]
  },
  {
   "cell_type": "markdown",
   "metadata": {},
   "source": [
    "#### A-1.The recursive process described by mit-scheme from 1.2/fibonacci_by_recursion.scm"
   ]
  },
  {
   "cell_type": "code",
   "execution_count": 2,
   "metadata": {
    "collapsed": false
   },
   "outputs": [
    {
     "name": "stdout",
     "output_type": "stream",
     "text": [
      "(define (fib n)\r\n",
      "  (cond ((= n 0) 0)\r\n",
      "        ((= n 1) 1)\r\n",
      "        (else (+ (fib (- n 1))\r\n",
      "                 (fib (- n 2))\r\n",
      "              )\r\n",
      "        )\r\n",
      "  )\r\n",
      ")\r\n"
     ]
    }
   ],
   "source": [
    "cat 1.2/fibonacci_by_recursion.scm"
   ]
  },
  {
   "cell_type": "raw",
   "metadata": {},
   "source": [
    "Running Instance:\n",
    "\n",
    "1 ]=> (load \"1.2/fibonacci_by_recursion.scm\")\n",
    "\n",
    ";Loading \"1.2/fibonacci_by_recursion.scm\"... done\n",
    ";Value: fib\n",
    "\n",
    "1 ]=> (fib 20)\n",
    "\n",
    ";Value: 6765"
   ]
  },
  {
   "cell_type": "markdown",
   "metadata": {},
   "source": [
    "#### A-2.The recursive process described by python2.7"
   ]
  },
  {
   "cell_type": "code",
   "execution_count": 3,
   "metadata": {
    "collapsed": false
   },
   "outputs": [
    {
     "data": {
      "text/plain": [
       "6765"
      ]
     },
     "execution_count": 3,
     "metadata": {},
     "output_type": "execute_result"
    }
   ],
   "source": [
    "def fib(n):\n",
    "    if 0 == n:\n",
    "        return 0\n",
    "    elif 1 == n:\n",
    "        return 1\n",
    "    else:\n",
    "        return fib(n-1) + fib(n-2)\n",
    "    \n",
    "fib(20)"
   ]
  },
  {
   "cell_type": "markdown",
   "metadata": {},
   "source": [
    "#### B-1.The iterative process described by mit-scheme from 1.2/fibonacci_by_iteration.scm"
   ]
  },
  {
   "cell_type": "code",
   "execution_count": 11,
   "metadata": {
    "collapsed": false
   },
   "outputs": [
    {
     "name": "stdout",
     "output_type": "stream",
     "text": [
      "(define (fib_iter a b count)\r\n",
      "  (if (= count 0)\r\n",
      "      b\r\n",
      "      (fib_iter (+ a b) a (- count 1))\r\n",
      "  )\r\n",
      ")\r\n",
      "\r\n",
      "(define (fib n)\r\n",
      "  (fib_iter 1 0 n)\r\n",
      ")\r\n"
     ]
    }
   ],
   "source": [
    "cat 1.2/fibonacci_by_iteration.scm"
   ]
  },
  {
   "cell_type": "raw",
   "metadata": {},
   "source": [
    "Running Instance:\n",
    "\n",
    "1 ]=> (load \"1.2/fibonacci_by_iteration.scm\")\n",
    "\n",
    ";Loading \"1.2/fibonacci_by_iteration.scm\"... done\n",
    ";Value: fib\n",
    "\n",
    "1 ]=> (fib 20)\n",
    "\n",
    ";Value: 6765"
   ]
  },
  {
   "cell_type": "markdown",
   "metadata": {},
   "source": [
    "#### B-2.The iterative process described by python2.7"
   ]
  },
  {
   "cell_type": "code",
   "execution_count": 5,
   "metadata": {
    "collapsed": false
   },
   "outputs": [
    {
     "data": {
      "text/plain": [
       "6765"
      ]
     },
     "execution_count": 5,
     "metadata": {},
     "output_type": "execute_result"
    }
   ],
   "source": [
    "# basic\n",
    "def fib(n):\n",
    "    a, b = 1, 0\n",
    "    for i in xrange(1,n+1):\n",
    "        a, b = a+b, a\n",
    "    return b\n",
    "\n",
    "fib(20)"
   ]
  },
  {
   "cell_type": "code",
   "execution_count": 6,
   "metadata": {
    "collapsed": false
   },
   "outputs": [
    {
     "data": {
      "text/plain": [
       "6765"
      ]
     },
     "execution_count": 6,
     "metadata": {},
     "output_type": "execute_result"
    }
   ],
   "source": [
    "# look like Recursive process\n",
    "def fib(n):\n",
    "    return fib_iter(1, 0, n)\n",
    "\n",
    "def fib_iter(a, b, count):\n",
    "    if 0 == count:\n",
    "        return b\n",
    "    else:\n",
    "        return fib_iter(a+b, a, count-1)\n",
    "\n",
    "fib(20)"
   ]
  },
  {
   "cell_type": "markdown",
   "metadata": {},
   "source": [
    "### Example 3: Counting change"
   ]
  },
  {
   "cell_type": "markdown",
   "metadata": {},
   "source": [
    "#### A-1.The recursive process described by mit-scheme from 1.2/cc_by_recursion.scm"
   ]
  },
  {
   "cell_type": "code",
   "execution_count": 10,
   "metadata": {
    "collapsed": false
   },
   "outputs": [
    {
     "name": "stdout",
     "output_type": "stream",
     "text": [
      "(define (first_denomination kinds_of_coins)\r\n",
      "  (cond ((= kinds_of_coins 1) 1)\r\n",
      "        ((= kinds_of_coins 2) 5)\r\n",
      "        ((= kinds_of_coins 3) 10)\r\n",
      "        ((= kinds_of_coins 4) 25)\r\n",
      "        ((= kinds_of_coins 5) 50)\r\n",
      "  )\r\n",
      ")\r\n",
      "\r\n",
      "(define (cc amount kinds_of_coins)\r\n",
      "  (cond ((= amount 0) 1)\r\n",
      "        ((or (< amount 0) (= kinds_of_coins 0)) 0)\r\n",
      "        (else (+ (cc amount (- kinds_of_coins 1))\r\n",
      "                 (cc (- amount (first_denomination kinds_of_coins)) kinds_of_coins)\r\n",
      "              )\r\n",
      "        )\r\n",
      "  )\r\n",
      ")\r\n",
      "\r\n",
      "(define (count_change amount)\r\n",
      "  (cc amount 5)\r\n",
      ")\r\n"
     ]
    }
   ],
   "source": [
    "cat 1.2/cc_by_recursion.scm"
   ]
  },
  {
   "cell_type": "raw",
   "metadata": {},
   "source": [
    "Running Instance:\n",
    "\n",
    "1 ]=> (load \"1.2/cc_by_recursion.scm\")\n",
    "\n",
    ";Loading \"1.2/cc_by_recursion.scm\"... done\n",
    ";Value: count_change\n",
    "\n",
    "1 ]=> (count_change 100)\n",
    "\n",
    ";Value: 292"
   ]
  },
  {
   "cell_type": "markdown",
   "metadata": {},
   "source": [
    "#### A-2.The iterative process described by python2.7"
   ]
  },
  {
   "cell_type": "code",
   "execution_count": null,
   "metadata": {
    "collapsed": true
   },
   "outputs": [],
   "source": []
  },
  {
   "cell_type": "code",
   "execution_count": null,
   "metadata": {
    "collapsed": true
   },
   "outputs": [],
   "source": []
  },
  {
   "cell_type": "code",
   "execution_count": null,
   "metadata": {
    "collapsed": true
   },
   "outputs": [],
   "source": []
  },
  {
   "cell_type": "code",
   "execution_count": null,
   "metadata": {
    "collapsed": true
   },
   "outputs": [],
   "source": []
  },
  {
   "cell_type": "code",
   "execution_count": null,
   "metadata": {
    "collapsed": true
   },
   "outputs": [],
   "source": []
  },
  {
   "cell_type": "code",
   "execution_count": null,
   "metadata": {
    "collapsed": true
   },
   "outputs": [],
   "source": []
  },
  {
   "cell_type": "code",
   "execution_count": null,
   "metadata": {
    "collapsed": true
   },
   "outputs": [],
   "source": []
  },
  {
   "cell_type": "code",
   "execution_count": null,
   "metadata": {
    "collapsed": true
   },
   "outputs": [],
   "source": []
  },
  {
   "cell_type": "code",
   "execution_count": null,
   "metadata": {
    "collapsed": true
   },
   "outputs": [],
   "source": []
  },
  {
   "cell_type": "code",
   "execution_count": null,
   "metadata": {
    "collapsed": true
   },
   "outputs": [],
   "source": []
  },
  {
   "cell_type": "code",
   "execution_count": null,
   "metadata": {
    "collapsed": true
   },
   "outputs": [],
   "source": []
  },
  {
   "cell_type": "code",
   "execution_count": null,
   "metadata": {
    "collapsed": true
   },
   "outputs": [],
   "source": []
  },
  {
   "cell_type": "code",
   "execution_count": null,
   "metadata": {
    "collapsed": true
   },
   "outputs": [],
   "source": []
  },
  {
   "cell_type": "code",
   "execution_count": null,
   "metadata": {
    "collapsed": true
   },
   "outputs": [],
   "source": []
  },
  {
   "cell_type": "code",
   "execution_count": null,
   "metadata": {
    "collapsed": true
   },
   "outputs": [],
   "source": []
  },
  {
   "cell_type": "code",
   "execution_count": null,
   "metadata": {
    "collapsed": true
   },
   "outputs": [],
   "source": []
  }
 ],
 "metadata": {
  "kernelspec": {
   "display_name": "Python [Root]",
   "language": "python",
   "name": "Python [Root]"
  },
  "language_info": {
   "codemirror_mode": {
    "name": "ipython",
    "version": 2
   },
   "file_extension": ".py",
   "mimetype": "text/x-python",
   "name": "python",
   "nbconvert_exporter": "python",
   "pygments_lexer": "ipython2",
   "version": "2.7.12"
  }
 },
 "nbformat": 4,
 "nbformat_minor": 0
}
