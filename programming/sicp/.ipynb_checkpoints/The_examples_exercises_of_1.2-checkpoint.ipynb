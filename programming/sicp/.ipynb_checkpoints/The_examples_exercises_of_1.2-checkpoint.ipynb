{
 "cells": [
  {
   "cell_type": "markdown",
   "metadata": {},
   "source": [
    "## 1.2.1 Linear Recursion and Iteration"
   ]
  },
  {
   "cell_type": "markdown",
   "metadata": {},
   "source": [
    "### Example 1: compute factorials"
   ]
  },
  {
   "cell_type": "raw",
   "metadata": {},
   "source": [
    "Mathematical Expression of the Factorial Function：\n",
    "\n",
    "    n! = n \u0001 (n 􀀀 1) \u0001 (n 􀀀 2) \u0001 \u0001 \u0001 3 \u0001 2 \u0001 1\n",
    "    "
   ]
  },
  {
   "cell_type": "markdown",
   "metadata": {},
   "source": [
    "#### A-1.The recursive process described by mit-scheme from 1.2/factorial_by_recursion.scm"
   ]
  },
  {
   "cell_type": "code",
   "execution_count": 1,
   "metadata": {
    "collapsed": false,
    "scrolled": true
   },
   "outputs": [
    {
     "name": "stdout",
     "output_type": "stream",
     "text": [
      "(define (factorial n)\r\n",
      "  (if (= n 1)\r\n",
      "      1\r\n",
      "      (* n (factorial (- n 1)))\r\n",
      "  )\r\n",
      ")\r\n"
     ]
    }
   ],
   "source": [
    "cat 1.2/factorial_by_recursion.scm"
   ]
  },
  {
   "cell_type": "raw",
   "metadata": {},
   "source": [
    "A.Running Instance:\n",
    "\n",
    "1 ]=> (load \"1.2/factorial_by_recursion.scm\")\n",
    "\n",
    ";Loading \"1.2/factorial_by_recursion.scm\"... done\n",
    ";Value: factorial\n",
    "\n",
    "1 ]=> (factorial 6)\n",
    "\n",
    ";Value: 720\n",
    "\n",
    "B.The procedure in action computing 6!\n",
    "\n",
    "(factorial 6)\n",
    "(* 6 (factorial 5))\n",
    "(* 6 (* 5 (factorial 4)))\n",
    "(* 6 (* 5 (* 4 (factorial 3))))\n",
    "(* 6 (* 5 (* 4 (* 3 (factorial 2)))))\n",
    "(* 6 (* 5 (* 4 (* 3 (* 2 (factorial 1))))))\n",
    "(* 6 (* 5 (* 4 (* 3 (* 2 1)))))\n",
    "(* 6 (* 5 (* 4 (* 3 2))))\n",
    "(* 6 (* 5 (* 4 6)))\n",
    "(* 6 (* 5 24))\n",
    "(* 6 120)\n",
    "720"
   ]
  },
  {
   "cell_type": "markdown",
   "metadata": {},
   "source": [
    "#### A-2.The recursive process described by python2.7"
   ]
  },
  {
   "cell_type": "code",
   "execution_count": 2,
   "metadata": {
    "collapsed": false
   },
   "outputs": [
    {
     "data": {
      "text/plain": [
       "720"
      ]
     },
     "execution_count": 2,
     "metadata": {},
     "output_type": "execute_result"
    }
   ],
   "source": [
    "def factorial(n):\n",
    "    if 1 == n:\n",
    "        return 1\n",
    "    return n * factorial(n-1)\n",
    "\n",
    "factorial(6)"
   ]
  },
  {
   "cell_type": "markdown",
   "metadata": {},
   "source": [
    "#### B-1.The iterative process described by mit-scheme from 1.2/factorial_by_iteration.scm"
   ]
  },
  {
   "cell_type": "code",
   "execution_count": 4,
   "metadata": {
    "collapsed": false,
    "scrolled": true
   },
   "outputs": [
    {
     "name": "stdout",
     "output_type": "stream",
     "text": [
      "(define (factorial n)\r\n",
      "  (fact-iter 1 1 n)\r\n",
      ")\r\n",
      "\r\n",
      "(define (fact-iter product counter max-count)\r\n",
      "  (if (> counter max-count)\r\n",
      "      product\r\n",
      "      (fact-iter (* counter product)\r\n",
      "                 (+ counter 1)\r\n",
      "                  max-count\r\n",
      "      )\r\n",
      "  )\r\n",
      ")\r\n"
     ]
    }
   ],
   "source": [
    "cat 1.2/factorial_by_iteration.scm"
   ]
  },
  {
   "cell_type": "raw",
   "metadata": {},
   "source": [
    "A.Running Instance:\n",
    "\n",
    "1 ]=> (load \"1.2/factorial_by_iteration.scm\")\n",
    "\n",
    ";Loading \"1.2/factorial_by_iteration.scm\"... done\n",
    ";Value: fact-iter\n",
    "\n",
    "1 ]=> (factorial 6)\n",
    "\n",
    ";Value: 720\n",
    "\n",
    "B.The procedure in action computing 6!\n",
    "\n",
    "(factorial 6)\n",
    "(fact-iter 1 1 6)\n",
    "(fact-iter 1 2 6)\n",
    "(fact-iter 2 3 6)\n",
    "(fact-iter 6 4 6)\n",
    "(fact-iter 24 5 6)\n",
    "(fact-iter 120 6 6)\n",
    "(fact-iter 720 7 6)\n",
    "720"
   ]
  },
  {
   "cell_type": "markdown",
   "metadata": {},
   "source": [
    "#### B-2.The iterative process described by python2.7"
   ]
  },
  {
   "cell_type": "code",
   "execution_count": 7,
   "metadata": {
    "collapsed": false
   },
   "outputs": [
    {
     "data": {
      "text/plain": [
       "720"
      ]
     },
     "execution_count": 7,
     "metadata": {},
     "output_type": "execute_result"
    }
   ],
   "source": [
    "# basic\n",
    "def factorial(n):\n",
    "    product = 1\n",
    "    for counter in range(1,n+1):\n",
    "        product *= counter\n",
    "    return product\n",
    "\n",
    "factorial(6)"
   ]
  },
  {
   "cell_type": "code",
   "execution_count": 8,
   "metadata": {
    "collapsed": false
   },
   "outputs": [
    {
     "data": {
      "text/plain": [
       "720"
      ]
     },
     "execution_count": 8,
     "metadata": {},
     "output_type": "execute_result"
    }
   ],
   "source": [
    "# advanced\n",
    "def factorial(n):\n",
    "    return reduce(lambda x, y: x*y, xrange(1, n+1))\n",
    "\n",
    "factorial(6)"
   ]
  },
  {
   "cell_type": "code",
   "execution_count": 11,
   "metadata": {
    "collapsed": false
   },
   "outputs": [
    {
     "data": {
      "text/plain": [
       "720"
      ]
     },
     "execution_count": 11,
     "metadata": {},
     "output_type": "execute_result"
    }
   ],
   "source": [
    "# look like Recursive process\n",
    "def factorial(n):\n",
    "    return fact_iter(1, 1, n)\n",
    "\n",
    "def fact_iter(product, counter, max_count):\n",
    "    if counter > max_count:\n",
    "        return product\n",
    "    else:\n",
    "        return fact_iter(counter*product, counter+1, max_count)\n",
    "    \n",
    "factorial(6)"
   ]
  },
  {
   "cell_type": "code",
   "execution_count": null,
   "metadata": {
    "collapsed": true
   },
   "outputs": [],
   "source": []
  }
 ],
 "metadata": {
  "kernelspec": {
   "display_name": "Python 2",
   "language": "python",
   "name": "python2"
  },
  "language_info": {
   "codemirror_mode": {
    "name": "ipython",
    "version": 2
   },
   "file_extension": ".py",
   "mimetype": "text/x-python",
   "name": "python",
   "nbconvert_exporter": "python",
   "pygments_lexer": "ipython2",
   "version": "2.7.11"
  }
 },
 "nbformat": 4,
 "nbformat_minor": 0
}
