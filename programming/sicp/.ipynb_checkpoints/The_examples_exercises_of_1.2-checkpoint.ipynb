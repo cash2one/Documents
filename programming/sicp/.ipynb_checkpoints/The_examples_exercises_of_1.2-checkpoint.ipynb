{
 "cells": [
  {
   "cell_type": "markdown",
   "metadata": {},
   "source": [
    "## 1.2.1 Linear Recursion and Iteration"
   ]
  },
  {
   "cell_type": "markdown",
   "metadata": {},
   "source": [
    "### Example 1: compute factorials"
   ]
  },
  {
   "cell_type": "markdown",
   "metadata": {},
   "source": [
    "Mathematical Expression of the Factorial Function：\n",
    "$$n! = n * (n - 1) * (n - 2) * ... * 3 * 2 * 1$$"
   ]
  },
  {
   "cell_type": "markdown",
   "metadata": {},
   "source": [
    "#### A-1.The recursive process described by mit-scheme from 1.2/factorial_by_recursion.scm"
   ]
  },
  {
   "cell_type": "code",
   "execution_count": 1,
   "metadata": {
    "collapsed": false,
    "scrolled": true
   },
   "outputs": [
    {
     "name": "stdout",
     "output_type": "stream",
     "text": [
      "(define (factorial n)\r\n",
      "  (if (= n 1)\r\n",
      "      1\r\n",
      "      (* n (factorial (- n 1)))\r\n",
      "  )\r\n",
      ")\r\n"
     ]
    }
   ],
   "source": [
    "cat 1.2/factorial_by_recursion.scm"
   ]
  },
  {
   "cell_type": "raw",
   "metadata": {},
   "source": [
    "A.Running Instance:\n",
    "\n",
    "1 ]=> (load \"1.2/factorial_by_recursion.scm\")\n",
    "\n",
    ";Loading \"1.2/factorial_by_recursion.scm\"... done\n",
    ";Value: factorial\n",
    "\n",
    "1 ]=> (factorial 6)\n",
    "\n",
    ";Value: 720\n",
    "\n",
    "B.The procedure in action computing 6!\n",
    "\n",
    "(factorial 6)\n",
    "(* 6 (factorial 5))\n",
    "(* 6 (* 5 (factorial 4)))\n",
    "(* 6 (* 5 (* 4 (factorial 3))))\n",
    "(* 6 (* 5 (* 4 (* 3 (factorial 2)))))\n",
    "(* 6 (* 5 (* 4 (* 3 (* 2 (factorial 1))))))\n",
    "(* 6 (* 5 (* 4 (* 3 (* 2 1)))))\n",
    "(* 6 (* 5 (* 4 (* 3 2))))\n",
    "(* 6 (* 5 (* 4 6)))\n",
    "(* 6 (* 5 24))\n",
    "(* 6 120)\n",
    "720"
   ]
  },
  {
   "cell_type": "markdown",
   "metadata": {},
   "source": [
    "#### A-2.The recursive process described by python2.7"
   ]
  },
  {
   "cell_type": "code",
   "execution_count": 2,
   "metadata": {
    "collapsed": false
   },
   "outputs": [
    {
     "data": {
      "text/plain": [
       "720"
      ]
     },
     "execution_count": 2,
     "metadata": {},
     "output_type": "execute_result"
    }
   ],
   "source": [
    "def factorial(n):\n",
    "    if 1 == n:\n",
    "        return 1\n",
    "    return n * factorial(n-1)\n",
    "\n",
    "factorial(6)"
   ]
  },
  {
   "cell_type": "markdown",
   "metadata": {},
   "source": [
    "#### B-1.The iterative process described by mit-scheme from 1.2/factorial_by_iteration.scm"
   ]
  },
  {
   "cell_type": "code",
   "execution_count": 15,
   "metadata": {
    "collapsed": false,
    "scrolled": true
   },
   "outputs": [
    {
     "name": "stdout",
     "output_type": "stream",
     "text": [
      "(define (fact-iter product counter max-count)\r\n",
      "  (if (> counter max-count)\r\n",
      "     product\r\n",
      "     (fact-iter (* counter product)\r\n",
      "             (+ counter 1)\r\n",
      "              max-count\r\n",
      "      )\r\n",
      "  )\r\n",
      ")\r\n",
      "\r\n",
      "(define (factorial n)\r\n",
      "  (fact-iter 1 1 n)\r\n",
      ")\r\n"
     ]
    }
   ],
   "source": [
    "cat 1.2/factorial_by_iteration.scm"
   ]
  },
  {
   "cell_type": "raw",
   "metadata": {},
   "source": [
    "A.Running Instance:\n",
    "\n",
    "1 ]=> (load \"1.2/factorial_by_iteration.scm\")\n",
    "\n",
    ";Loading \"1.2/factorial_by_iteration.scm\"... done\n",
    ";Value: fact-iter\n",
    "\n",
    "1 ]=> (factorial 6)\n",
    "\n",
    ";Value: 720\n",
    "\n",
    "B.The procedure in action computing 6!\n",
    "\n",
    "(factorial 6)\n",
    "(fact-iter 1 1 6)\n",
    "(fact-iter 1 2 6)\n",
    "(fact-iter 2 3 6)\n",
    "(fact-iter 6 4 6)\n",
    "(fact-iter 24 5 6)\n",
    "(fact-iter 120 6 6)\n",
    "(fact-iter 720 7 6)\n",
    "720"
   ]
  },
  {
   "cell_type": "markdown",
   "metadata": {},
   "source": [
    "#### B-2.The iterative process described by python2.7"
   ]
  },
  {
   "cell_type": "code",
   "execution_count": 7,
   "metadata": {
    "collapsed": false
   },
   "outputs": [
    {
     "data": {
      "text/plain": [
       "720"
      ]
     },
     "execution_count": 7,
     "metadata": {},
     "output_type": "execute_result"
    }
   ],
   "source": [
    "# basic\n",
    "def factorial(n):\n",
    "    product = 1\n",
    "    for counter in range(1,n+1):\n",
    "        product *= counter\n",
    "    return product\n",
    "\n",
    "factorial(6)"
   ]
  },
  {
   "cell_type": "code",
   "execution_count": 8,
   "metadata": {
    "collapsed": false
   },
   "outputs": [
    {
     "data": {
      "text/plain": [
       "720"
      ]
     },
     "execution_count": 8,
     "metadata": {},
     "output_type": "execute_result"
    }
   ],
   "source": [
    "# advanced\n",
    "def factorial(n):\n",
    "    return reduce(lambda x, y: x*y, xrange(1, n+1))\n",
    "\n",
    "factorial(6)"
   ]
  },
  {
   "cell_type": "code",
   "execution_count": 11,
   "metadata": {
    "collapsed": false
   },
   "outputs": [
    {
     "data": {
      "text/plain": [
       "720"
      ]
     },
     "execution_count": 11,
     "metadata": {},
     "output_type": "execute_result"
    }
   ],
   "source": [
    "# look like Recursive process\n",
    "def factorial(n):\n",
    "    return fact_iter(1, 1, n)\n",
    "\n",
    "def fact_iter(product, counter, max_count):\n",
    "    if counter > max_count:\n",
    "        return product\n",
    "    else:\n",
    "        return fact_iter(counter*product, counter+1, max_count)\n",
    "    \n",
    "factorial(6)"
   ]
  },
  {
   "cell_type": "markdown",
   "metadata": {
    "collapsed": true
   },
   "source": [
    "### Exercise 1.9: \n",
    "Each of the following two procedures defines a method for adding two positive integers in terms of the procedures inc, which increments its argument by 1, and dec, which decrements its argument by 1."
   ]
  },
  {
   "cell_type": "raw",
   "metadata": {},
   "source": [
    "(define (+ a b)\n",
    "  (if (= a 0) b (inc (+ (dec a) b))))\n",
    "\n",
    "(define (+ a b)\n",
    "  (if (= a 0) b (+ (dec a) (inc b))))"
   ]
  },
  {
   "cell_type": "markdown",
   "metadata": {},
   "source": [
    "Using the substitution model, illustrate the process generated by each procedure in \n",
    "evaluating (+ 4 5). Are these processes iterative or recursive?"
   ]
  },
  {
   "cell_type": "raw",
   "metadata": {},
   "source": [
    "(define (+ a b)\n",
    "  (if (= a 0) \n",
    "     b \n",
    "     (inc (+ (dec a) b))\n",
    "  )\n",
    ")\n",
    "\n",
    "Because:\n",
    "\n",
    "(+ 4 5)\n",
    "(1 + (+ 3 5))\n",
    "(1 + (1 + (+ 2 5)))\n",
    "(1 + (1 + (1 + (+ 1 5))))\n",
    "(1 + (1 + (1 + (1 + (+ 0 5)))))\n",
    "(1 + (1 + (1 + (1 + 5))))\n",
    "(1 + (1 + (1 + 6)))\n",
    "(1 + (1 + 7))\n",
    "(1 + 8)\n",
    "9\n",
    "\n",
    "So,this process is recursive."
   ]
  },
  {
   "cell_type": "raw",
   "metadata": {},
   "source": [
    "(define (+ a b)\n",
    "  (if (= a 0) \n",
    "     b \n",
    "     (+ (dec a) (inc b))\n",
    "  )\n",
    ")\n",
    "\n",
    "Because:\n",
    "\n",
    "(+ 4 5)\n",
    "(+ 3 6)\n",
    "(+ 2 7)\n",
    "(+ 1 8)\n",
    "(+ 0 9)\n",
    "9\n",
    "\n",
    "So,this process is iterative."
   ]
  },
  {
   "cell_type": "markdown",
   "metadata": {},
   "source": [
    "### Exercise 1.10: \n",
    "The following procedure computes a mathematical function called Ackermann’s function."
   ]
  },
  {
   "cell_type": "raw",
   "metadata": {},
   "source": [
    "(define (A x y)\n",
    "  (cond ((= y 0) 0)\n",
    "      ((= x 0) (* 2 y))\n",
    "      ((= y 1) 2)\n",
    "      (else (A (- x 1) (A x (- y 1))))\n",
    "  )\n",
    ")"
   ]
  },
  {
   "cell_type": "markdown",
   "metadata": {},
   "source": [
    "What are the values of the following expressions?  \n",
    "(A 1 10)  \n",
    "(A 2 4)  \n",
    "(A 3 3)  "
   ]
  },
  {
   "cell_type": "raw",
   "metadata": {},
   "source": [
    "(A 1 10)\n",
    "(A 0 (A 1 9))\n",
    "(2 * (A 0 (A 1 8)))\n",
    "(2 * (2 * (A 0 (A 1 7))))\n",
    "(2 * (2 * (2 * (A 0 (A 1 6)))))\n",
    "(2 * (2 * (2 * (2 * (A 0 (A 1 5))))))\n",
    "(2 * (2 * (2 * (2 * (2 * (A 0 (A 1 4)))))))\n",
    "(2 * (2 * (2 * (2 * (2 * (2 * (A 0 (A 1 3))))))))\n",
    "(2 * (2 * (2 * (2 * (2 * (2 * (2 * (A 0 (A 1 2)))))))))\n",
    "(2 * (2 * (2 * (2 * (2 * (2 * (2 * (2 * (A 0 A(1 1))))))))))\n",
    "(2 * (2 * (2 * (2 * (2 * (2 * (2 * (2 * (2 * 2)))))))))\n",
    "(2 * (2 * (2 * (2 * (2 * (2 * (2 * (2 * 4))))))))\n",
    "(2 * (2 * (2 * (2 * (2 * (2 * (2 * 8)))))))\n",
    "(2 * (2 * (2 * (2 * (2 * (2 * 16))))))\n",
    "(2 * (2 * (2 * (2 * (2 * 32)))))\n",
    "(2 * (2 * (2 * (2 * 64))))\n",
    "(2 * (2 * (2 * 128)))\n",
    "(2 * (2 * 256))\n",
    "(2 * 512)\n",
    "1024=2^10\n",
    "\n",
    "So,\n",
    "(A 1 n)=2^n"
   ]
  },
  {
   "cell_type": "raw",
   "metadata": {},
   "source": [
    "(A 2 4)\n",
    "(A 1 (A 2 3))\n",
    "(A 1 (A 1 (A 2 2)))\n",
    "(A 1 (A 1 (A 1 (A 2 1))))  ==> (A 2 1)=2\n",
    "(A 1 (A 1 (A 1 2)))      ==> (A 1 2)=2^2\n",
    "(A 1 (A 1 4))          ==> (A 1 4)=2^4\n",
    "(A 1 16)             ==> (A 1 16)=2^16\n",
    "2^16=2^2^4\n",
    "\n",
    "So,\n",
    "(A 2 n)=2^2^n"
   ]
  },
  {
   "cell_type": "raw",
   "metadata": {},
   "source": [
    "(A 3 3)\n",
    "(A 2 (A 3 2))\n",
    "(A 2 (A 2 (A 3 1)))     ==> (A 3 1)=2\n",
    "(A 2 (A 2 2))         ==> (A 2 2)=2^2^2\n",
    "(A 2 8)\n",
    "2^2^8=2^2^2^3\n",
    "\n",
    "So,\n",
    "(A 3 n)=2^2^2^n"
   ]
  },
  {
   "cell_type": "markdown",
   "metadata": {},
   "source": [
    "Consider the following procedures, where A is the procedure defined above:  \n",
    "(define (f n) (A 0 n))  \n",
    "(define (g n) (A 1 n))  \n",
    "(define (h n) (A 2 n))  \n",
    "(define (k n) (* 5 n n))  "
   ]
  },
  {
   "cell_type": "markdown",
   "metadata": {},
   "source": [
    "Give concise mathematical definitions for the functions computed by the procedures f, g, and h for positive integer values of n. For example, (k n) computes 5n^2."
   ]
  },
  {
   "cell_type": "raw",
   "metadata": {},
   "source": [
    "(define (f n) (A 0 n))\n",
    "f(n)=2n"
   ]
  },
  {
   "cell_type": "raw",
   "metadata": {},
   "source": [
    "(define (g n) (A 1 n))\n",
    "g(n)=2^n"
   ]
  },
  {
   "cell_type": "raw",
   "metadata": {},
   "source": [
    "(define (h n) (A 2 n))\n",
    "h(n)=2^2^n"
   ]
  },
  {
   "cell_type": "markdown",
   "metadata": {},
   "source": [
    "## 1.2.2 Tree Recursion"
   ]
  },
  {
   "cell_type": "markdown",
   "metadata": {},
   "source": [
    "### Example 2: compute Fibonacci numbers"
   ]
  },
  {
   "cell_type": "raw",
   "metadata": {},
   "source": [
    "Mathematical Expression of Fibonacci numbers:\n",
    "\n",
    "    0, 1, 1, 2, 3, 5, 8, 13, 21, ....\n"
   ]
  },
  {
   "cell_type": "markdown",
   "metadata": {},
   "source": [
    "#### A-1.The recursive process described by mit-scheme from 1.2/fibonacci_by_recursion.scm"
   ]
  },
  {
   "cell_type": "code",
   "execution_count": 2,
   "metadata": {
    "collapsed": false
   },
   "outputs": [
    {
     "name": "stdout",
     "output_type": "stream",
     "text": [
      "(define (fib n)\r\n",
      "  (cond ((= n 0) 0)\r\n",
      "        ((= n 1) 1)\r\n",
      "        (else (+ (fib (- n 1))\r\n",
      "                 (fib (- n 2))\r\n",
      "              )\r\n",
      "        )\r\n",
      "  )\r\n",
      ")\r\n"
     ]
    }
   ],
   "source": [
    "cat 1.2/fibonacci_by_recursion.scm"
   ]
  },
  {
   "cell_type": "raw",
   "metadata": {},
   "source": [
    "Running Instance:\n",
    "\n",
    "1 ]=> (load \"1.2/fibonacci_by_recursion.scm\")\n",
    "\n",
    ";Loading \"1.2/fibonacci_by_recursion.scm\"... done\n",
    ";Value: fib\n",
    "\n",
    "1 ]=> (fib 20)\n",
    "\n",
    ";Value: 6765"
   ]
  },
  {
   "cell_type": "markdown",
   "metadata": {},
   "source": [
    "#### A-2.The recursive process described by python2.7"
   ]
  },
  {
   "cell_type": "code",
   "execution_count": 3,
   "metadata": {
    "collapsed": false
   },
   "outputs": [
    {
     "data": {
      "text/plain": [
       "6765"
      ]
     },
     "execution_count": 3,
     "metadata": {},
     "output_type": "execute_result"
    }
   ],
   "source": [
    "def fib(n):\n",
    "    if 0 == n:\n",
    "        return 0\n",
    "    elif 1 == n:\n",
    "        return 1\n",
    "    else:\n",
    "        return fib(n-1) + fib(n-2)\n",
    "    \n",
    "fib(20)"
   ]
  },
  {
   "cell_type": "markdown",
   "metadata": {},
   "source": [
    "#### B-1.The iterative process described by mit-scheme from 1.2/fibonacci_by_iteration.scm"
   ]
  },
  {
   "cell_type": "code",
   "execution_count": 11,
   "metadata": {
    "collapsed": false
   },
   "outputs": [
    {
     "name": "stdout",
     "output_type": "stream",
     "text": [
      "(define (fib_iter a b count)\r\n",
      "  (if (= count 0)\r\n",
      "      b\r\n",
      "      (fib_iter (+ a b) a (- count 1))\r\n",
      "  )\r\n",
      ")\r\n",
      "\r\n",
      "(define (fib n)\r\n",
      "  (fib_iter 1 0 n)\r\n",
      ")\r\n"
     ]
    }
   ],
   "source": [
    "cat 1.2/fibonacci_by_iteration.scm"
   ]
  },
  {
   "cell_type": "raw",
   "metadata": {},
   "source": [
    "Running Instance:\n",
    "\n",
    "1 ]=> (load \"1.2/fibonacci_by_iteration.scm\")\n",
    "\n",
    ";Loading \"1.2/fibonacci_by_iteration.scm\"... done\n",
    ";Value: fib\n",
    "\n",
    "1 ]=> (fib 20)\n",
    "\n",
    ";Value: 6765"
   ]
  },
  {
   "cell_type": "markdown",
   "metadata": {},
   "source": [
    "#### B-2.The iterative process described by python2.7"
   ]
  },
  {
   "cell_type": "code",
   "execution_count": 5,
   "metadata": {
    "collapsed": false
   },
   "outputs": [
    {
     "data": {
      "text/plain": [
       "6765"
      ]
     },
     "execution_count": 5,
     "metadata": {},
     "output_type": "execute_result"
    }
   ],
   "source": [
    "# basic\n",
    "def fib(n):\n",
    "    a, b = 1, 0\n",
    "    for i in xrange(1,n+1):\n",
    "        a, b = a+b, a\n",
    "    return b\n",
    "\n",
    "fib(20)"
   ]
  },
  {
   "cell_type": "code",
   "execution_count": 2,
   "metadata": {
    "collapsed": false
   },
   "outputs": [
    {
     "data": {
      "text/plain": [
       "6765"
      ]
     },
     "execution_count": 2,
     "metadata": {},
     "output_type": "execute_result"
    }
   ],
   "source": [
    "# look like Recursive process\n",
    "def fib(n):\n",
    "    return fib_iter(1, 0, n)\n",
    "\n",
    "def fib_iter(a, b, count):\n",
    "    if 0 == count:\n",
    "        return b\n",
    "    else:\n",
    "        return fib_iter(a+b, a, count-1)\n",
    "\n",
    "fib(20)"
   ]
  },
  {
   "cell_type": "code",
   "execution_count": 6,
   "metadata": {
    "collapsed": false
   },
   "outputs": [
    {
     "ename": "RuntimeError",
     "evalue": "maximum recursion depth exceeded",
     "output_type": "error",
     "traceback": [
      "\u001b[1;31m---------------------------------------------------------------------------\u001b[0m",
      "\u001b[1;31mRuntimeError\u001b[0m                              Traceback (most recent call last)",
      "\u001b[1;32m<ipython-input-6-0034b0f1a990>\u001b[0m in \u001b[0;36m<module>\u001b[1;34m()\u001b[0m\n\u001b[1;32m----> 1\u001b[1;33m \u001b[0mfib\u001b[0m\u001b[1;33m(\u001b[0m\u001b[1;36m1000\u001b[0m\u001b[1;33m)\u001b[0m\u001b[1;33m\u001b[0m\u001b[0m\n\u001b[0m",
      "\u001b[1;32m<ipython-input-2-9ad09d4f3531>\u001b[0m in \u001b[0;36mfib\u001b[1;34m(n)\u001b[0m\n\u001b[0;32m      1\u001b[0m \u001b[1;31m# look like Recursive process\u001b[0m\u001b[1;33m\u001b[0m\u001b[1;33m\u001b[0m\u001b[0m\n\u001b[0;32m      2\u001b[0m \u001b[1;32mdef\u001b[0m \u001b[0mfib\u001b[0m\u001b[1;33m(\u001b[0m\u001b[0mn\u001b[0m\u001b[1;33m)\u001b[0m\u001b[1;33m:\u001b[0m\u001b[1;33m\u001b[0m\u001b[0m\n\u001b[1;32m----> 3\u001b[1;33m     \u001b[1;32mreturn\u001b[0m \u001b[0mfib_iter\u001b[0m\u001b[1;33m(\u001b[0m\u001b[1;36m1\u001b[0m\u001b[1;33m,\u001b[0m \u001b[1;36m0\u001b[0m\u001b[1;33m,\u001b[0m \u001b[0mn\u001b[0m\u001b[1;33m)\u001b[0m\u001b[1;33m\u001b[0m\u001b[0m\n\u001b[0m\u001b[0;32m      4\u001b[0m \u001b[1;33m\u001b[0m\u001b[0m\n\u001b[0;32m      5\u001b[0m \u001b[1;32mdef\u001b[0m \u001b[0mfib_iter\u001b[0m\u001b[1;33m(\u001b[0m\u001b[0ma\u001b[0m\u001b[1;33m,\u001b[0m \u001b[0mb\u001b[0m\u001b[1;33m,\u001b[0m \u001b[0mcount\u001b[0m\u001b[1;33m)\u001b[0m\u001b[1;33m:\u001b[0m\u001b[1;33m\u001b[0m\u001b[0m\n",
      "\u001b[1;32m<ipython-input-2-9ad09d4f3531>\u001b[0m in \u001b[0;36mfib_iter\u001b[1;34m(a, b, count)\u001b[0m\n\u001b[0;32m      7\u001b[0m         \u001b[1;32mreturn\u001b[0m \u001b[0mb\u001b[0m\u001b[1;33m\u001b[0m\u001b[0m\n\u001b[0;32m      8\u001b[0m     \u001b[1;32melse\u001b[0m\u001b[1;33m:\u001b[0m\u001b[1;33m\u001b[0m\u001b[0m\n\u001b[1;32m----> 9\u001b[1;33m         \u001b[1;32mreturn\u001b[0m \u001b[0mfib_iter\u001b[0m\u001b[1;33m(\u001b[0m\u001b[0ma\u001b[0m\u001b[1;33m+\u001b[0m\u001b[0mb\u001b[0m\u001b[1;33m,\u001b[0m \u001b[0ma\u001b[0m\u001b[1;33m,\u001b[0m \u001b[0mcount\u001b[0m\u001b[1;33m-\u001b[0m\u001b[1;36m1\u001b[0m\u001b[1;33m)\u001b[0m\u001b[1;33m\u001b[0m\u001b[0m\n\u001b[0m\u001b[0;32m     10\u001b[0m \u001b[1;33m\u001b[0m\u001b[0m\n\u001b[0;32m     11\u001b[0m \u001b[0mfib\u001b[0m\u001b[1;33m(\u001b[0m\u001b[1;36m20\u001b[0m\u001b[1;33m)\u001b[0m\u001b[1;33m\u001b[0m\u001b[0m\n",
      "... last 1 frames repeated, from the frame below ...\n",
      "\u001b[1;32m<ipython-input-2-9ad09d4f3531>\u001b[0m in \u001b[0;36mfib_iter\u001b[1;34m(a, b, count)\u001b[0m\n\u001b[0;32m      7\u001b[0m         \u001b[1;32mreturn\u001b[0m \u001b[0mb\u001b[0m\u001b[1;33m\u001b[0m\u001b[0m\n\u001b[0;32m      8\u001b[0m     \u001b[1;32melse\u001b[0m\u001b[1;33m:\u001b[0m\u001b[1;33m\u001b[0m\u001b[0m\n\u001b[1;32m----> 9\u001b[1;33m         \u001b[1;32mreturn\u001b[0m \u001b[0mfib_iter\u001b[0m\u001b[1;33m(\u001b[0m\u001b[0ma\u001b[0m\u001b[1;33m+\u001b[0m\u001b[0mb\u001b[0m\u001b[1;33m,\u001b[0m \u001b[0ma\u001b[0m\u001b[1;33m,\u001b[0m \u001b[0mcount\u001b[0m\u001b[1;33m-\u001b[0m\u001b[1;36m1\u001b[0m\u001b[1;33m)\u001b[0m\u001b[1;33m\u001b[0m\u001b[0m\n\u001b[0m\u001b[0;32m     10\u001b[0m \u001b[1;33m\u001b[0m\u001b[0m\n\u001b[0;32m     11\u001b[0m \u001b[0mfib\u001b[0m\u001b[1;33m(\u001b[0m\u001b[1;36m20\u001b[0m\u001b[1;33m)\u001b[0m\u001b[1;33m\u001b[0m\u001b[0m\n",
      "\u001b[1;31mRuntimeError\u001b[0m: maximum recursion depth exceeded"
     ]
    }
   ],
   "source": [
    "fib(1000)"
   ]
  },
  {
   "cell_type": "code",
   "execution_count": 6,
   "metadata": {
    "collapsed": false
   },
   "outputs": [
    {
     "data": {
      "text/plain": [
       "33644764876431783266621612005107543310302148460680063906564769974680081442166662368155595513633734025582065332680836159373734790483865268263040892463056431887354544369559827491606602099884183933864652731300088830269235673613135117579297437854413752130520504347701602264758318906527890855154366159582987279682987510631200575428783453215515103870818298969791613127856265033195487140214287532698187962046936097879900350962302291026368131493195275630227837628441540360584402572114334961180023091208287046088923962328835461505776583271252546093591128203925285393434620904245248929403901706233888991085841065183173360437470737908552631764325733993712871937587746897479926305837065742830161637408969178426378624212835258112820516370298089332099905707920064367426202389783111470054074998459250360633560933883831923386783056136435351892133279732908133732642652633989763922723407882928177953580570993691049175470808931841056146322338217465637321248226383092103297701648054726243842374862411453093812206564914032751086643394517512161526545361333111314042436854805106765843493523836959653428071768775328348234345557366719731392746273629108210679280784718035329131176778924659089938635459327894523777674406192240337638674004021330343297496902028328145933418826817683893072003634795623117103101291953169794607632737589253530772552375943788434504067715555779056450443016640119462580972216729758615026968443146952034614932291105970676243268515992834709891284706740862008587135016260312071903172086094081298321581077282076353186624611278245537208532365305775956430072517744315051539600905168603220349163222640885248852433158051534849622434848299380905070483482449327453732624567755879089187190803662058009594743150052402532709746995318770724376825907419939632265984147498193609285223945039707165443156421328157688908058783183404917434556270520223564846495196112460268313970975069382648706613264507665074611512677522748621598642530711298441182622661057163515069260029861704945425047491378115154139941550671256271197133252763631939606902895650288268608362241082050562430701794976171121233066073310059947366875L"
      ]
     },
     "execution_count": 6,
     "metadata": {},
     "output_type": "execute_result"
    }
   ],
   "source": [
    "# Effective iterative process\n",
    "def fib(n):\n",
    "    f = [0, 1, 1]\n",
    "    for i in xrange(3, n+1):\n",
    "        f.append(f[i-1] + f[i-2])\n",
    "    return f[-1]\n",
    "\n",
    "fib(10000)"
   ]
  },
  {
   "cell_type": "code",
   "execution_count": 34,
   "metadata": {
    "collapsed": false
   },
   "outputs": [
    {
     "data": {
      "text/plain": [
       "6765"
      ]
     },
     "execution_count": 34,
     "metadata": {},
     "output_type": "execute_result"
    }
   ],
   "source": [
    "# use generators of python\n",
    "def fib():\n",
    "    a, b = 1, 0\n",
    "    while True:\n",
    "        yield a\n",
    "        a, b = a + b, a\n",
    "        \n",
    "#seems to be the only way to get the following line to work is to\n",
    "#assign the infinite generator to a variable\n",
    "fibs = fib()\n",
    "[fibs.next() for x in xrange(20)][-1]"
   ]
  },
  {
   "cell_type": "code",
   "execution_count": 36,
   "metadata": {
    "collapsed": false
   },
   "outputs": [
    {
     "data": {
      "text/plain": [
       "49466428200741441727778843779387642090660059160914700973290467061964890041589920915144112170435735646884800093207203605550831436481833777136902657009777357496859642440691630254138870099858751673615278775320728076967578694548438224718915387534325566006149474216159926287500875862062158449075601061614731664670284907731152304606359634597817666785853515418225419932560854463630725095087771461879434637790506421705494123998177927791465089655158238847488789944829704583209349921332209727835015000763082236756950492325976522211461823218701996401747541360980554034962268322595646237737732004665792624950151958619391958933600128406770240265507266562578916700163014230659851034813111463825735324411887335501190211768607487766071193240392759084563576849401889228105591742077047950384969904092985591356781215080627157133151994981750363247670267871998605464660997641878635505833887551467433425487770159182353363201374830357360305380180745458636877623684983965431308270814945343652397825719150911889005946486000745157854127607031562248767000349116432636691672928148782579615200576705174832787895873924176939325536122318280166367191292623198254816459447272626706057898186309892657328824335668394653829389355309798381707242465305347322911670605011301107608907492884511980939243967399557709949984975280783814690801068414840164845986937372023976783987896374228909569543548515831956598979425900780175947025005200297523457603744098854249974131805456217937420829619872619398911053135802926983191395368098789161675551360679899158001113824929807577894172341832942745526783599168224593596893163794689951826301637905996138528069570852289425230203567044590641309882110099040824031568061113457720740156115137687380544718611582995300030225559790374197157088672407851358655855477278500061477531948781367504224888965648617801004321773373973371321501807163153437379368921028134082590424347621818540210288893092180301985781621319081635004637368544791236174108788123672578401222644944835245432108171565594767135171398798842881385518670938579659499357573397537610578689467946994833968835936002419948762694253815482536386617426557784409063762216224038294723519197155464944617172293396872266283179277302008050207775246162399958316688877768332528350536024836837366539600917774348597266401776210382626781889810749827982455677318071333602515L"
      ]
     },
     "execution_count": 36,
     "metadata": {},
     "output_type": "execute_result"
    }
   ],
   "source": [
    "[fibs.next() for x in xrange(10000)][-1]"
   ]
  },
  {
   "cell_type": "code",
   "execution_count": 38,
   "metadata": {
    "collapsed": false
   },
   "outputs": [
    {
     "data": {
      "text/plain": [
       "6764"
      ]
     },
     "execution_count": 38,
     "metadata": {},
     "output_type": "execute_result"
    }
   ],
   "source": [
    "# use generators to iteratively return \n",
    "# the sum of the first n Fibonacci numbers, starting from 0 \n",
    "\n",
    "def fib(n):\n",
    "    def fib_iter(n):\n",
    "        a, b = 1, 0\n",
    "        for _ in xrange(1,n):\n",
    "            yield b\n",
    "            a, b = a + b, a\n",
    "    return sum(v for v in fib_iter(n))\n",
    "\n",
    "fib(20)\n",
    "#format(fib(20), ',d')"
   ]
  },
  {
   "cell_type": "code",
   "execution_count": 14,
   "metadata": {
    "collapsed": false
   },
   "outputs": [
    {
     "name": "stdout",
     "output_type": "stream",
     "text": [
      "1\n",
      "1\n",
      "2\n",
      "3\n",
      "5\n",
      "8\n",
      "13\n",
      "21\n",
      "34\n",
      "55\n",
      "89\n",
      "144\n",
      "233\n",
      "377\n",
      "610\n",
      "987\n",
      "1597\n",
      "2584\n",
      "4181\n",
      "6765\n"
     ]
    }
   ],
   "source": [
    "# use generators of python compute Fibonacci sequence.\n",
    "def fib():\n",
    "    a, b = 1, 0\n",
    "    while True:\n",
    "        yield a\n",
    "        a, b = a + b, a\n",
    "        \n",
    "#seems to be the only way to get the following line to work is to\n",
    "#assign the infinite generator to a variable\n",
    "fibs = fib()\n",
    "f=[fibs.next() for x in xrange(20)]\n",
    "\n",
    "for num in f:\n",
    "    print num"
   ]
  },
  {
   "cell_type": "code",
   "execution_count": 16,
   "metadata": {
    "collapsed": false
   },
   "outputs": [
    {
     "data": {
      "text/plain": [
       "6765"
      ]
     },
     "execution_count": 16,
     "metadata": {},
     "output_type": "execute_result"
    }
   ],
   "source": [
    "# Fibonacci numbers can be computed in O(1) \n",
    "# by applying the Binet formula:\n",
    "\n",
    "from math import floor, sqrt\n",
    "\n",
    "def fib(n):                                                     \n",
    "    return int(floor(((1+sqrt(5))**n-(1-sqrt(5))**n)/(2**n*sqrt(5))+0.5))\n",
    "\n",
    "fib(20)"
   ]
  },
  {
   "cell_type": "markdown",
   "metadata": {},
   "source": [
    "### Example 3: Counting change"
   ]
  },
  {
   "cell_type": "markdown",
   "metadata": {},
   "source": [
    "#### A-1.The recursive process described by mit-scheme from 1.2/cc_by_recursion.scm"
   ]
  },
  {
   "cell_type": "code",
   "execution_count": 10,
   "metadata": {
    "collapsed": false
   },
   "outputs": [
    {
     "name": "stdout",
     "output_type": "stream",
     "text": [
      "(define (first_denomination kinds_of_coins)\r\n",
      "  (cond ((= kinds_of_coins 1) 1)\r\n",
      "        ((= kinds_of_coins 2) 5)\r\n",
      "        ((= kinds_of_coins 3) 10)\r\n",
      "        ((= kinds_of_coins 4) 25)\r\n",
      "        ((= kinds_of_coins 5) 50)\r\n",
      "  )\r\n",
      ")\r\n",
      "\r\n",
      "(define (cc amount kinds_of_coins)\r\n",
      "  (cond ((= amount 0) 1)\r\n",
      "        ((or (< amount 0) (= kinds_of_coins 0)) 0)\r\n",
      "        (else (+ (cc amount (- kinds_of_coins 1))\r\n",
      "                 (cc (- amount (first_denomination kinds_of_coins)) kinds_of_coins)\r\n",
      "              )\r\n",
      "        )\r\n",
      "  )\r\n",
      ")\r\n",
      "\r\n",
      "(define (count_change amount)\r\n",
      "  (cc amount 5)\r\n",
      ")\r\n"
     ]
    }
   ],
   "source": [
    "cat 1.2/cc_by_recursion.scm"
   ]
  },
  {
   "cell_type": "raw",
   "metadata": {},
   "source": [
    "Running Instance:\n",
    "\n",
    "1 ]=> (load \"1.2/cc_by_recursion.scm\")\n",
    "\n",
    ";Loading \"1.2/cc_by_recursion.scm\"... done\n",
    ";Value: count_change\n",
    "\n",
    "1 ]=> (count_change 100)\n",
    "\n",
    ";Value: 292"
   ]
  },
  {
   "cell_type": "markdown",
   "metadata": {},
   "source": [
    "#### A-2.The iterative process described by python2.7"
   ]
  },
  {
   "cell_type": "code",
   "execution_count": 1,
   "metadata": {
    "collapsed": false
   },
   "outputs": [
    {
     "data": {
      "text/plain": [
       "292"
      ]
     },
     "execution_count": 1,
     "metadata": {},
     "output_type": "execute_result"
    }
   ],
   "source": [
    "value_of_coins={1:1, 2:5, 3:10, 4:25, 5:50}\n",
    "\n",
    "def cc(amount,kinds_of_coins):\n",
    "    if 0 == amount:\n",
    "        return 1\n",
    "    elif amount < 0 or 0 == kinds_of_coins:\n",
    "        return 0\n",
    "    else:\n",
    "        return cc(amount, kinds_of_coins - 1) + \\\n",
    "                cc(amount - value_of_coins[kinds_of_coins], kinds_of_coins)\n",
    "\n",
    "def count_change(amount):\n",
    "    return cc(amount, 5)\n",
    "\n",
    "count_change(100)"
   ]
  },
  {
   "cell_type": "markdown",
   "metadata": {
    "collapsed": true
   },
   "source": [
    "### Challenge 1: \n",
    "How to design a better algorithm for computing the Counting change above?"
   ]
  },
  {
   "cell_type": "markdown",
   "metadata": {
    "collapsed": true
   },
   "source": [
    "### Exercise 1.11: \n",
    "A function f is defined by the rule that:  "
   ]
  },
  {
   "cell_type": "raw",
   "metadata": {
    "collapsed": true
   },
   "source": [
    "The f(n),if n<3,f(n)=n;howerve if n>=3,f(n)=f(n-1)+2f(n-2)+3f(n-3)"
   ]
  },
  {
   "cell_type": "markdown",
   "metadata": {
    "collapsed": true
   },
   "source": [
    "1.Write a procedure that computes f by means of a recursive process.  "
   ]
  },
  {
   "cell_type": "markdown",
   "metadata": {
    "collapsed": true
   },
   "source": [
    "#### A.Described by shceme from 1.2/fun_by_recursion.scm"
   ]
  },
  {
   "cell_type": "code",
   "execution_count": 51,
   "metadata": {
    "collapsed": false
   },
   "outputs": [
    {
     "name": "stdout",
     "output_type": "stream",
     "text": [
      "(define (f n)\r\n",
      "  (if (< n 3)\r\n",
      "      n\r\n",
      "      (+ (f (- n 1))\r\n",
      "         (* (f (- n 2)) 2)\r\n",
      "         (* (f (- n 3)) 3)\r\n",
      "      )\r\n",
      "  )\r\n",
      ")\r\n"
     ]
    }
   ],
   "source": [
    "cat 1.2/fun_by_recursion.scm"
   ]
  },
  {
   "cell_type": "raw",
   "metadata": {
    "collapsed": true
   },
   "source": [
    "Running Instance:\n",
    "\n",
    "1 ]=> (load \"1.2/fun_by_recursion.scm\")\n",
    "\n",
    ";Loading \"1.2/fun_by_recursion.scm\"... done\n",
    ";Value: f\n",
    "\n",
    "1 ]=> (f 20)\n",
    "\n",
    ";Value: 10771211"
   ]
  },
  {
   "cell_type": "markdown",
   "metadata": {
    "collapsed": true
   },
   "source": [
    "#### B.Described by python2.7"
   ]
  },
  {
   "cell_type": "code",
   "execution_count": 52,
   "metadata": {
    "collapsed": false
   },
   "outputs": [
    {
     "data": {
      "text/plain": [
       "10771211"
      ]
     },
     "execution_count": 52,
     "metadata": {},
     "output_type": "execute_result"
    }
   ],
   "source": [
    "def f(n):\n",
    "    if n < 3:\n",
    "        return n\n",
    "    else:\n",
    "        return f(n-1) + 2 * f(n-2) + 3 * f(n-3)\n",
    "    \n",
    "f(20)"
   ]
  },
  {
   "cell_type": "markdown",
   "metadata": {
    "collapsed": true
   },
   "source": [
    "2.Write a procedure that computes f by means of an iterative process."
   ]
  },
  {
   "cell_type": "markdown",
   "metadata": {
    "collapsed": true
   },
   "source": [
    "#### A.Described by shceme from 1.2/fun_by_iteration.scm"
   ]
  },
  {
   "cell_type": "code",
   "execution_count": 55,
   "metadata": {
    "collapsed": false
   },
   "outputs": [
    {
     "name": "stdout",
     "output_type": "stream",
     "text": [
      "(define (f_iter a b c count)\r\n",
      "  (if (= count 1)\r\n",
      "\tb\r\n",
      "\t(f_iter (+ a (* 2 b) (* 3 c)) a b (- count 1))\r\n",
      "  )\r\n",
      ")\r\n",
      "\r\n",
      "(define (f n)\r\n",
      "  (f_iter 2 1 0 n)\r\n",
      ")\r\n"
     ]
    }
   ],
   "source": [
    "cat 1.2/fun_by_iteration.scm"
   ]
  },
  {
   "cell_type": "raw",
   "metadata": {
    "collapsed": true
   },
   "source": [
    "Running Instance:\n",
    "\n",
    "1 ]=> (load \"1.2/fun_by_iteration.scm\")\n",
    "\n",
    ";Loading \"1.2/fun_by_iteration.scm\"... done\n",
    ";Value: f\n",
    "\n",
    "1 ]=> (f 20)\n",
    "\n",
    ";Value: 10771211\n",
    "\n",
    "# 如果是递归版本，则执行会相当缓慢\n",
    "1 ]=> (f 100)\n",
    "\n",
    ";Value: 11937765839880230562825561449279733086"
   ]
  },
  {
   "cell_type": "markdown",
   "metadata": {
    "collapsed": true
   },
   "source": [
    "#### B.Described by python2.7"
   ]
  },
  {
   "cell_type": "code",
   "execution_count": 7,
   "metadata": {
    "collapsed": false
   },
   "outputs": [
    {
     "data": {
      "text/plain": [
       "10771211"
      ]
     },
     "execution_count": 7,
     "metadata": {},
     "output_type": "execute_result"
    }
   ],
   "source": [
    "# look like Recursive process\n",
    "def f_iter(a, b, c, count):\n",
    "    if 1 == count:\n",
    "        return b\n",
    "    else:\n",
    "        return f_iter(a + 2*b + 3*c, a, b, count - 1)\n",
    "    \n",
    "def f(n):\n",
    "    return f_iter(2, 1, 0, n)\n",
    "\n",
    "f(20)        "
   ]
  },
  {
   "cell_type": "code",
   "execution_count": 8,
   "metadata": {
    "collapsed": false
   },
   "outputs": [
    {
     "data": {
      "text/plain": [
       "11937765839880230562825561449279733086L"
      ]
     },
     "execution_count": 8,
     "metadata": {},
     "output_type": "execute_result"
    }
   ],
   "source": [
    "f(100)"
   ]
  },
  {
   "cell_type": "code",
   "execution_count": 10,
   "metadata": {
    "collapsed": false
   },
   "outputs": [
    {
     "ename": "RuntimeError",
     "evalue": "maximum recursion depth exceeded",
     "output_type": "error",
     "traceback": [
      "\u001b[1;31m---------------------------------------------------------------------------\u001b[0m",
      "\u001b[1;31mRuntimeError\u001b[0m                              Traceback (most recent call last)",
      "\u001b[1;32m<ipython-input-10-21957ef43206>\u001b[0m in \u001b[0;36m<module>\u001b[1;34m()\u001b[0m\n\u001b[1;32m----> 1\u001b[1;33m \u001b[0mf\u001b[0m\u001b[1;33m(\u001b[0m\u001b[1;36m1000\u001b[0m\u001b[1;33m)\u001b[0m\u001b[1;33m\u001b[0m\u001b[0m\n\u001b[0m",
      "\u001b[1;32m<ipython-input-7-060001f011ac>\u001b[0m in \u001b[0;36mf\u001b[1;34m(n)\u001b[0m\n\u001b[0;32m      7\u001b[0m \u001b[1;33m\u001b[0m\u001b[0m\n\u001b[0;32m      8\u001b[0m \u001b[1;32mdef\u001b[0m \u001b[0mf\u001b[0m\u001b[1;33m(\u001b[0m\u001b[0mn\u001b[0m\u001b[1;33m)\u001b[0m\u001b[1;33m:\u001b[0m\u001b[1;33m\u001b[0m\u001b[0m\n\u001b[1;32m----> 9\u001b[1;33m     \u001b[1;32mreturn\u001b[0m \u001b[0mf_iter\u001b[0m\u001b[1;33m(\u001b[0m\u001b[1;36m2\u001b[0m\u001b[1;33m,\u001b[0m \u001b[1;36m1\u001b[0m\u001b[1;33m,\u001b[0m \u001b[1;36m0\u001b[0m\u001b[1;33m,\u001b[0m \u001b[0mn\u001b[0m\u001b[1;33m)\u001b[0m\u001b[1;33m\u001b[0m\u001b[0m\n\u001b[0m\u001b[0;32m     10\u001b[0m \u001b[1;33m\u001b[0m\u001b[0m\n\u001b[0;32m     11\u001b[0m \u001b[0mf\u001b[0m\u001b[1;33m(\u001b[0m\u001b[1;36m20\u001b[0m\u001b[1;33m)\u001b[0m\u001b[1;33m\u001b[0m\u001b[0m\n",
      "\u001b[1;32m<ipython-input-7-060001f011ac>\u001b[0m in \u001b[0;36mf_iter\u001b[1;34m(a, b, c, count)\u001b[0m\n\u001b[0;32m      4\u001b[0m         \u001b[1;32mreturn\u001b[0m \u001b[0mb\u001b[0m\u001b[1;33m\u001b[0m\u001b[0m\n\u001b[0;32m      5\u001b[0m     \u001b[1;32melse\u001b[0m\u001b[1;33m:\u001b[0m\u001b[1;33m\u001b[0m\u001b[0m\n\u001b[1;32m----> 6\u001b[1;33m         \u001b[1;32mreturn\u001b[0m \u001b[0mf_iter\u001b[0m\u001b[1;33m(\u001b[0m\u001b[0ma\u001b[0m \u001b[1;33m+\u001b[0m \u001b[1;36m2\u001b[0m\u001b[1;33m*\u001b[0m\u001b[0mb\u001b[0m \u001b[1;33m+\u001b[0m \u001b[1;36m3\u001b[0m\u001b[1;33m*\u001b[0m\u001b[0mc\u001b[0m\u001b[1;33m,\u001b[0m \u001b[0ma\u001b[0m\u001b[1;33m,\u001b[0m \u001b[0mb\u001b[0m\u001b[1;33m,\u001b[0m \u001b[0mcount\u001b[0m \u001b[1;33m-\u001b[0m \u001b[1;36m1\u001b[0m\u001b[1;33m)\u001b[0m\u001b[1;33m\u001b[0m\u001b[0m\n\u001b[0m\u001b[0;32m      7\u001b[0m \u001b[1;33m\u001b[0m\u001b[0m\n\u001b[0;32m      8\u001b[0m \u001b[1;32mdef\u001b[0m \u001b[0mf\u001b[0m\u001b[1;33m(\u001b[0m\u001b[0mn\u001b[0m\u001b[1;33m)\u001b[0m\u001b[1;33m:\u001b[0m\u001b[1;33m\u001b[0m\u001b[0m\n",
      "... last 1 frames repeated, from the frame below ...\n",
      "\u001b[1;32m<ipython-input-7-060001f011ac>\u001b[0m in \u001b[0;36mf_iter\u001b[1;34m(a, b, c, count)\u001b[0m\n\u001b[0;32m      4\u001b[0m         \u001b[1;32mreturn\u001b[0m \u001b[0mb\u001b[0m\u001b[1;33m\u001b[0m\u001b[0m\n\u001b[0;32m      5\u001b[0m     \u001b[1;32melse\u001b[0m\u001b[1;33m:\u001b[0m\u001b[1;33m\u001b[0m\u001b[0m\n\u001b[1;32m----> 6\u001b[1;33m         \u001b[1;32mreturn\u001b[0m \u001b[0mf_iter\u001b[0m\u001b[1;33m(\u001b[0m\u001b[0ma\u001b[0m \u001b[1;33m+\u001b[0m \u001b[1;36m2\u001b[0m\u001b[1;33m*\u001b[0m\u001b[0mb\u001b[0m \u001b[1;33m+\u001b[0m \u001b[1;36m3\u001b[0m\u001b[1;33m*\u001b[0m\u001b[0mc\u001b[0m\u001b[1;33m,\u001b[0m \u001b[0ma\u001b[0m\u001b[1;33m,\u001b[0m \u001b[0mb\u001b[0m\u001b[1;33m,\u001b[0m \u001b[0mcount\u001b[0m \u001b[1;33m-\u001b[0m \u001b[1;36m1\u001b[0m\u001b[1;33m)\u001b[0m\u001b[1;33m\u001b[0m\u001b[0m\n\u001b[0m\u001b[0;32m      7\u001b[0m \u001b[1;33m\u001b[0m\u001b[0m\n\u001b[0;32m      8\u001b[0m \u001b[1;32mdef\u001b[0m \u001b[0mf\u001b[0m\u001b[1;33m(\u001b[0m\u001b[0mn\u001b[0m\u001b[1;33m)\u001b[0m\u001b[1;33m:\u001b[0m\u001b[1;33m\u001b[0m\u001b[0m\n",
      "\u001b[1;31mRuntimeError\u001b[0m: maximum recursion depth exceeded"
     ]
    }
   ],
   "source": [
    "f(1000)"
   ]
  },
  {
   "cell_type": "code",
   "execution_count": 31,
   "metadata": {
    "collapsed": false
   },
   "outputs": [
    {
     "data": {
      "text/plain": [
       "10771211"
      ]
     },
     "execution_count": 31,
     "metadata": {},
     "output_type": "execute_result"
    }
   ],
   "source": [
    "# Effective iterative process\n",
    "def f(n):\n",
    "    flist = [0, 1, 2]\n",
    "    for i in xrange(3, n + 1):\n",
    "        flist.append(flist[i-1] + 2 * flist[i-2] + 3 * flist[i-3])\n",
    "    return flist[-1]\n",
    "\n",
    "f(20)"
   ]
  },
  {
   "cell_type": "code",
   "execution_count": 32,
   "metadata": {
    "collapsed": false
   },
   "outputs": [
    {
     "data": {
      "text/plain": [
       "1200411335581569104197621183222182410228690281055710781687044573790661709343985308756380381850406620666042607564631605876156610535933789714780132607755663854744223225249491730428647795602251203632973677695221003056803565827035107926395650932180708300409716979009255557336360673626403040863408122386349183735643342985009827495351241264386090544972951146415009560371824341466875L"
      ]
     },
     "execution_count": 32,
     "metadata": {},
     "output_type": "execute_result"
    }
   ],
   "source": [
    "f(1000)"
   ]
  },
  {
   "cell_type": "code",
   "execution_count": 39,
   "metadata": {
    "collapsed": false
   },
   "outputs": [
    {
     "data": {
      "text/plain": [
       "126882114367106230085249524897996848201577071358752344176384515130437059142543420415025939869809655761502993838142965408745467213384408810722039114213073321918169181348892973990650867875413482182340218332743085777395098529351186815795390283979619199793012212229652988313401048529120564866534145609667414754755473543622675674705503522747471746490735022730065161925091996119224389629741976396594387591422783607967367993795648069880478530411469250005367480383198002343787146642912026279998810672394894671220319803286484719482511764178070950280534302747217875299496470834210205308694093537637580053296144004439334657116516179393061272876540684764151397604128330564459039246070599654656742485453307190007117504472871362784300690043864755881876708188112488487405710904437806761960397272490001801216988676450191734559303064191230776769020969330832474285786736970757629583237911412691883183669176041386072510423349886487264077948042670618045664925265659911585392651800062823722191324622458134083487697826792532061052320562757044395852133650480410729278820144759635231213170429836987497639225265387774599582575531737059206461048193498430668114247515553133155034518628497725326725999878629553299014009978887060648245627717457977369273140965053370193689346412876846853126155956355087537444046701863285974573794604217637215433639213808959661839148524240201244033471973398384963785126285424264529641193165234338255225925022708936401709021712775682575941384049997253715104401679793780377062328978384487493417599402259219573765646124685001582087668128813204137436426451635165246116702368390758877455647644368193523752016782348585328766861427106002665650096745479270861639898554954577151112939725099802693229203680655733989908075890618318893663787032673188945719845254919382331042061269126990001516905356419683179070051210599475028410706960285383791128859411543711977305668655895401949908888968143098172700490359954231088364951714295240154749497881131070337907558229435338796071063741380309713368015162643994568831810589946227949317644494722743643416239538458322882850540658876898274791115999712853733163094400021513006139124770776660698804851923985707037632448543594243327075904243938727415700037002405078854264803988094502402945892693755437820348446120580751815511707558505055036822016774532089636513168063281493030612730784236680574838509442747602763391741013271122454155001111806610900964505026621623861650206551157634313718366839657411996139233264431869190126843569391313532607828516600928197553705711390545588682749567971703898296203922978637403233914515064033250424960433172916310895043897970918396688951098596962744246836016895580042480500489700763237238326700368066255716238273079553603461249617065415088620806993778699418575767045355464885396335879371192052620617018253963332206828418963049396742979040978030941332208269667742097865145434351171429472754593522415657293316957265139493504818688755100155316907866730356900964755968277384083979326757928437111863593244281380845619423007234439531076107944467594282864617901228014183818419550055401726692632810725683603425605228821470884453518917842793909351322051800642730801563956629800955292757464319000824912803406350978105745552028025441621753376813231255014708753064198957305065578355380353709438023423202372856437940626581063131156702953941900349967036467033042620248219548757232033710373539227744199580420884501837978502323071885584941682037994769250591367765241308766772068723324134801325074325544377150198437314408289440343651309713732830408523099082310444946587493740608053341079711256694192973308495790443988749053530358001525782416334401806083975837599434839674813391031607652741788296138286062277165852145305885440632719432465388464873947872429204300395495293857484751726497770632989369925358342900996875L"
      ]
     },
     "execution_count": 39,
     "metadata": {},
     "output_type": "execute_result"
    }
   ],
   "source": [
    "f(10000)"
   ]
  },
  {
   "cell_type": "markdown",
   "metadata": {
    "collapsed": true
   },
   "source": [
    "### Exercise 1.12: \n",
    "The following pattern of numbers is called Pascal’s triangle."
   ]
  },
  {
   "cell_type": "raw",
   "metadata": {},
   "source": [
    "                1\n",
    "              1    1\n",
    "            1    2    1\n",
    "          1    3    3    1\n",
    "        1    4    6    4    1\n",
    "              .  .  ."
   ]
  },
  {
   "cell_type": "markdown",
   "metadata": {},
   "source": [
    "The numbers at the edge of the triangle are all 1, and each number inside the triangle is the sum of the two numbers above it. Write a procedure that computes elements of Pascal’s triangle by means of a recursive process."
   ]
  },
  {
   "cell_type": "markdown",
   "metadata": {},
   "source": [
    "#### A-1.Described by shceme from 1.2/pascal_by_recursion.scm"
   ]
  },
  {
   "cell_type": "code",
   "execution_count": 11,
   "metadata": {
    "collapsed": false
   },
   "outputs": [
    {
     "name": "stdout",
     "output_type": "stream",
     "text": [
      "(define (pascal row col)\r\n",
      "  (cond ((< row col)\r\n",
      "         (error \"unvalid colum value\"))\r\n",
      "        ((or (= col 0) (= row col)) 1)\r\n",
      "        (else (+ (pascal (- row 1) (- col 1))\r\n",
      "                 (pascal (- row 1) col)\r\n",
      "              )\r\n",
      "        )\r\n",
      "  )\r\n",
      ")\r\n"
     ]
    }
   ],
   "source": [
    "cat 1.2/pascal_by_recursion.scm"
   ]
  },
  {
   "cell_type": "raw",
   "metadata": {},
   "source": [
    "Running Instance:\n",
    "\n",
    "1 ]=> (load \"1.2/pascal_by_recursion.scm\")\n",
    "\n",
    ";Loading \"1.2/pascal_by_recursion.scm\"... done\n",
    ";Value: pascal\n",
    "\n",
    "1 ]=> (pascal 20 7)\n",
    "\n",
    ";Value: 77520"
   ]
  },
  {
   "cell_type": "markdown",
   "metadata": {},
   "source": [
    "#### B-1.Described by python2.7"
   ]
  },
  {
   "cell_type": "code",
   "execution_count": 12,
   "metadata": {
    "collapsed": false
   },
   "outputs": [
    {
     "data": {
      "text/plain": [
       "77520"
      ]
     },
     "execution_count": 12,
     "metadata": {},
     "output_type": "execute_result"
    }
   ],
   "source": [
    "def pascal(row, col):\n",
    "    if col > row:\n",
    "        print \"unvalid colum value.\"\n",
    "    elif 0 == col or row == col:\n",
    "        return 1\n",
    "    else:\n",
    "        return pascal(row - 1, col - 1) + pascal(row - 1, col)\n",
    "    \n",
    "pascal(20, 7)"
   ]
  },
  {
   "cell_type": "markdown",
   "metadata": {},
   "source": [
    "#### A-2.Described by shceme from 1.2/pascal_by_iteration.scm"
   ]
  },
  {
   "cell_type": "code",
   "execution_count": 13,
   "metadata": {
    "collapsed": false
   },
   "outputs": [
    {
     "name": "stdout",
     "output_type": "stream",
     "text": [
      "(define (fact-iter product counter max-count)\r\n",
      "  (if (> counter max-count)\r\n",
      "     product\r\n",
      "     (fact-iter (* counter product)\r\n",
      "             (+ counter 1)\r\n",
      "              max-count\r\n",
      "      )\r\n",
      "  )\r\n",
      ")\r\n",
      "\r\n",
      "(define (factorial n)\r\n",
      "  (fact-iter 1 1 n)\r\n",
      ")\r\n"
     ]
    }
   ],
   "source": [
    "cat 1.2/factorial_by_iteration.scm"
   ]
  },
  {
   "cell_type": "code",
   "execution_count": 14,
   "metadata": {
    "collapsed": false,
    "scrolled": true
   },
   "outputs": [
    {
     "name": "stdout",
     "output_type": "stream",
     "text": [
      "(define (pascal row col)\r\n",
      "  (cond ((< row col)\r\n",
      "       (error \"unvalid colum value.\"))\r\n",
      "        (else (/ (factorial row)\r\n",
      "    \t         (* (factorial col) (factorial (- row col)))\r\n",
      "              )\r\n",
      "        )\r\n",
      "  )\r\n",
      ")\r\n"
     ]
    }
   ],
   "source": [
    "cat 1.2/pascal_by_iteration.scm"
   ]
  },
  {
   "cell_type": "raw",
   "metadata": {},
   "source": [
    "Running Instance:\n",
    "\n",
    "1 ]=> (load \"1.2/factorial_by_iteration.scm\")\n",
    "\n",
    ";Loading \"1.2/factorial_by_iteration.scm\"... done\n",
    ";Value: factorial\n",
    "\n",
    "1 ]=> (load \"1.2/pascal_by_iteration.scm\")\n",
    "\n",
    ";Loading \"1.2/pascal_by_iteration.scm\"... done\n",
    ";Value: pascal\n",
    "\n",
    "1 ]=> (pascal 20 7)\n",
    "\n",
    ";Value: 77520"
   ]
  },
  {
   "cell_type": "markdown",
   "metadata": {},
   "source": [
    "#### B-2.Described by python2.7"
   ]
  },
  {
   "cell_type": "code",
   "execution_count": 16,
   "metadata": {
    "collapsed": false
   },
   "outputs": [
    {
     "data": {
      "text/plain": [
       "77520"
      ]
     },
     "execution_count": 16,
     "metadata": {},
     "output_type": "execute_result"
    }
   ],
   "source": [
    "def factorial(n):\n",
    "    return reduce(lambda x, y: x*y, xrange(1, n+1))\n",
    "\n",
    "def pascal(row, col):\n",
    "    if col > row:\n",
    "        print \"unvalid column value.\"\n",
    "    else:\n",
    "        return factorial(row)/(factorial(col) * factorial(row - col))\n",
    "    \n",
    "pascal(20, 7)"
   ]
  },
  {
   "cell_type": "code",
   "execution_count": 18,
   "metadata": {
    "collapsed": false
   },
   "outputs": [
    {
     "data": {
      "text/plain": [
       "159179026353243894833759727364152118865300583745761455042831910351777263712009579866326285394422221774335859829932262055804632908708020739850879872195958489620417578664585801840995875120689143315978135317405145347319967052139450253847727733600831205378448823951274321755502883180927364644281795459349368900235462880547366282927213220919726803062157839769855248683450847868894994611262023360235298989458928488427591110374321646235202929095545845304023492927787143123978410362592908300075421733055365492425368306281530729653340889255650690875150647615944622376204326852230062678211259375951657115342848245333181068684095284004284699504359257817996430741389422649447586626281862183757541280362546881388544759125956185871468454381861463662350728468211441655465743993284005794170022128691686189379747227886202239788372897602049671018976190617859305826168808117556117796960379809282174855477301204105813490546271598511886613777441541105636943056820725244819431050256487494579628837604295079872914178005301024149340722579759834860211640098545723183096418633688898312145597072469454456651789081935386062566029368316522506271595824234037562793787332887113614352737971292965638066368798136853809235306441396478979814279989804419587974310478889401271971015441216840096344652939528524306710003806696307699257220104426311836533049067512198270012436774453339363870022811792535618814009571973175044979333952276086203573893932977683234377126461503016956149960119508206705891127875644018328002477885570580594271739655617247279703665698618080801965541235756564655565433970795513642117996823482940891493286717047038936158996297545140449708716896119990505242038078767450450863985246304067167020269491256064620583001761300622284757510662566106193771435587218537809620026913816305961756296827876710659465040754767228071475821687019166324258201685893281454941849633219010250326331594361831605955344426680189751351988451293306946591872301020473208721181284611163964165765568933940740976656925878728168406935207314430178725136178015792747114729015831170907171194578298482944164359840658473384707719418659651955333974514346503817616197612616157040354559466774548777412765471478663541418800111962602957335265945686584369721309686983612640564990207924247805354140963069566603071195931569172626802351518208786515546937379638760504643715547953097876650816797000176926659286918757094175117347665748132703540903393455409827319346571309202004128279611588827972847323501797969972562671972826347017756606331304016075551520523318404592756797612244679324194846919392918520452394577675953326869067443192793756095658856432124228522403516658454319704009054696329636363817791559641205005685702690372838060388519713403611629040056633420468941761593824568608770545269390456038883755973215629222766342326791030991205489279359135464145696802130792488795541350742383065293811197486421347908348956557941526999776837834147059039199747891501916363639677591945387535180152498052210450701705508838093544209022455222930021060372371375638589078163387440553649120L"
      ]
     },
     "execution_count": 18,
     "metadata": {},
     "output_type": "execute_result"
    }
   ],
   "source": [
    "pascal(10000, 5000)"
   ]
  },
  {
   "cell_type": "markdown",
   "metadata": {},
   "source": [
    "## 1.2.3 Orders of Growth"
   ]
  },
  {
   "cell_type": "markdown",
   "metadata": {
    "collapsed": true
   },
   "source": [
    "### Exercise 1.14:\n",
    "Draw the tree illustrating the process generated by the count-change procedure of Section 1.2.2 in making change for 11 cents. What are the orders of growth of the space and number of steps used by this process as the amount to be changed increases?"
   ]
  },
  {
   "cell_type": "markdown",
   "metadata": {},
   "source": [
    "### Exercise 1.15:\n",
    "The sine of an angle (specified in radians) can be computed by making use of the approximation sin x = x if x is sufficiently small, and the trigonometric identity"
   ]
  },
  {
   "cell_type": "markdown",
   "metadata": {},
   "source": [
    "$$sinx = 3sin(x / 3) - 4sin^3(x / 3)$$"
   ]
  },
  {
   "cell_type": "markdown",
   "metadata": {},
   "source": [
    "to reduce the size of the argument of sin. (For purposes of this exercise an angle is considered “sufficiently small” if its magnitude is not greater than 0.1 radians.) These ideas are incorporated in the following procedures:"
   ]
  },
  {
   "cell_type": "raw",
   "metadata": {},
   "source": [
    "(define (cube x) (* x x x))\n",
    "\n",
    "(define (p x) (- (* 3 x) (* 4 (cube x))))\n",
    "\n",
    "(define (sine angle)\n",
    "  (if (not (> (abs angle) 0.1))\n",
    "     angle\n",
    "     (p (sine (/ angle 3.0)))\n",
    "  )\n",
    ")"
   ]
  },
  {
   "cell_type": "markdown",
   "metadata": {},
   "source": [
    "a. How many times is the procedure p applied when (sine 12.15) is evaluated?"
   ]
  },
  {
   "cell_type": "code",
   "execution_count": 4,
   "metadata": {
    "collapsed": false
   },
   "outputs": [
    {
     "name": "stdout",
     "output_type": "stream",
     "text": [
      "(define (cube x) (* x x x))\r\n",
      "\r\n",
      "(define (p x) (- (* 3 x) (* 4 (cube x))))\r\n",
      "\r\n",
      "(define (sine angle)\r\n",
      "  (if (not (> (abs angle) 0.1))\r\n",
      "           angle\r\n",
      "           (p (sine (/ angle 3.0)))\r\n",
      "  )\r\n",
      ")\r\n"
     ]
    }
   ],
   "source": [
    "cat 1.2/sine_by_recursion.scm"
   ]
  },
  {
   "cell_type": "raw",
   "metadata": {},
   "source": [
    "Running Instance:\n",
    "\n",
    "1 ]=> (load \"1.2/sine_by_recursion.scm\")\n",
    "\n",
    ";Loading \"1.2/sine_by_recursion.scm\"... done\n",
    ";Value: sine\n",
    "\n",
    "1 ]=> (trace-entry sine)\n",
    "\n",
    ";Unspecified return value\n",
    "\n",
    "1 ]=> (trace-entry p)\n",
    "\n",
    ";Unspecified return value\n",
    "\n",
    "1 ]=> (sine 12.15)\n",
    "\n",
    "[Entering #[compound-procedure 17 sine]\n",
    "    Args: 12.15]\n",
    "[Entering #[compound-procedure 17 sine]\n",
    "    Args: 4.05]\n",
    "[Entering #[compound-procedure 17 sine]\n",
    "    Args: 1.3499999999999999]\n",
    "[Entering #[compound-procedure 17 sine]\n",
    "    Args: .44999999999999996]\n",
    "[Entering #[compound-procedure 17 sine]\n",
    "    Args: .15]\n",
    "[Entering #[compound-procedure 17 sine]\n",
    "    Args: 4.9999999999999996e-2]\n",
    "[Entering #[compound-procedure 18 p]\n",
    "    Args: 4.9999999999999996e-2]\n",
    "[Entering #[compound-procedure 18 p]\n",
    "    Args: .1495]\n",
    "[Entering #[compound-procedure 18 p]\n",
    "    Args: .4351345505]\n",
    "[Entering #[compound-procedure 18 p]\n",
    "    Args: .9758465331678772]\n",
    "[Entering #[compound-procedure 18 p]\n",
    "    Args: -.7895631144708228]\n",
    ";Value: -.39980345741334\n",
    "\n",
    "Substitution Model:\n",
    "\n",
    "(sine 12.15)\n",
    "(p (sine 4.05))\n",
    "(p (p (sine 1.35)))\n",
    "(p (p (p (sine .45))))\n",
    "(p (p (p (p (sine .15)))))\n",
    "(p (p (p (p (p sine .05)))))\n",
    "(p (p (p (p (p .05)))))\n",
    "(p (p (p (p .1495))))\n",
    "(p (p (p .4351)))\n",
    "(p (p .9758))\n",
    "(p -.7895)\n",
    "-.3998\n",
    "\n",
    "Answer:\n",
    "The procedure p applied when (sine 12.15) is evaluated is 5 times."
   ]
  },
  {
   "cell_type": "markdown",
   "metadata": {},
   "source": [
    "b. What is the order of growth in space and number of steps (as a function of a) used by the process generated by the sine procedure when (sine a) is evaluated?"
   ]
  },
  {
   "cell_type": "markdown",
   "metadata": {},
   "source": [
    "在求值 (sine a) 的时候,a每次都被除以 3.0,而 sine 是一个递归程序,因此它的时间和空间复杂度都是$$O(loga)$$\n",
    "如果以上预测是正确的话,那么每当a增大一倍(准确地说，是乘以因子 3),p的运行次数就会增加一次,以下是相应的测试："
   ]
  },
  {
   "cell_type": "raw",
   "metadata": {},
   "source": [
    "1 ]=> (sine 10)\n",
    "\n",
    "[Entering #[compound-procedure 13 sine]\n",
    "    Args: 10]\n",
    "[Entering #[compound-procedure 13 sine]\n",
    "    Args: 3.3333333333333335]\n",
    "[Entering #[compound-procedure 13 sine]\n",
    "    Args: 1.1111111111111112]\n",
    "[Entering #[compound-procedure 13 sine]\n",
    "    Args: .3703703703703704]\n",
    "[Entering #[compound-procedure 13 sine]\n",
    "    Args: .1234567901234568]\n",
    "[Entering #[compound-procedure 13 sine]\n",
    "    Args: .0411522633744856]\n",
    "[Entering #[compound-procedure 14 p]\n",
    "    Args: .0411522633744856]\n",
    "[Entering #[compound-procedure 14 p]\n",
    "    Args: .12317802324595176]\n",
    "[Entering #[compound-procedure 14 p]\n",
    "    Args: .3620582351732319]\n",
    "[Entering #[compound-procedure 14 p]\n",
    "    Args: .8963314023464528]\n",
    "[Entering #[compound-procedure 14 p]\n",
    "    Args: -.19149217924571227]\n",
    ";Value: -.5463890357524606\n",
    "\n",
    "The time of sine procedure evaluated is 6 times.\n",
    "The time of   p procedure evaluated is 5 times."
   ]
  },
  {
   "cell_type": "raw",
   "metadata": {},
   "source": [
    "1 ]=> (sine 30)\n",
    "\n",
    "[Entering #[compound-procedure 13 sine]\n",
    "    Args: 30]\n",
    "[Entering #[compound-procedure 13 sine]\n",
    "    Args: 10.]\n",
    "[Entering #[compound-procedure 13 sine]\n",
    "    Args: 3.3333333333333335]\n",
    "[Entering #[compound-procedure 13 sine]\n",
    "    Args: 1.1111111111111112]\n",
    "[Entering #[compound-procedure 13 sine]\n",
    "    Args: .3703703703703704]\n",
    "[Entering #[compound-procedure 13 sine]\n",
    "    Args: .1234567901234568]\n",
    "[Entering #[compound-procedure 13 sine]\n",
    "    Args: .0411522633744856]\n",
    "[Entering #[compound-procedure 14 p]\n",
    "    Args: .0411522633744856]\n",
    "[Entering #[compound-procedure 14 p]\n",
    "    Args: .12317802324595176]\n",
    "[Entering #[compound-procedure 14 p]\n",
    "    Args: .3620582351732319]\n",
    "[Entering #[compound-procedure 14 p]\n",
    "    Args: .8963314023464528]\n",
    "[Entering #[compound-procedure 14 p]\n",
    "    Args: -.19149217924571227]\n",
    "[Entering #[compound-procedure 14 p]\n",
    "    Args: -.5463890357524606]\n",
    ";Value: -.9866890379958478\n",
    "\n",
    "The time of sine procedure evaluated is 7 times.\n",
    "The time of   p procedure evaluated is 6 times."
   ]
  },
  {
   "cell_type": "raw",
   "metadata": {},
   "source": [
    "1 ]=> (sine 90)\n",
    "\n",
    "[Entering #[compound-procedure 13 sine]\n",
    "    Args: 90]\n",
    "[Entering #[compound-procedure 13 sine]\n",
    "    Args: 30.]\n",
    "[Entering #[compound-procedure 13 sine]\n",
    "    Args: 10.]\n",
    "[Entering #[compound-procedure 13 sine]\n",
    "    Args: 3.3333333333333335]\n",
    "[Entering #[compound-procedure 13 sine]\n",
    "    Args: 1.1111111111111112]\n",
    "[Entering #[compound-procedure 13 sine]\n",
    "    Args: .3703703703703704]\n",
    "[Entering #[compound-procedure 13 sine]\n",
    "    Args: .1234567901234568]\n",
    "[Entering #[compound-procedure 13 sine]\n",
    "    Args: .0411522633744856]\n",
    "[Entering #[compound-procedure 14 p]\n",
    "    Args: .0411522633744856]\n",
    "[Entering #[compound-procedure 14 p]\n",
    "    Args: .12317802324595176]\n",
    "[Entering #[compound-procedure 14 p]\n",
    "    Args: .3620582351732319]\n",
    "[Entering #[compound-procedure 14 p]\n",
    "    Args: .8963314023464528]\n",
    "[Entering #[compound-procedure 14 p]\n",
    "    Args: -.19149217924571227]\n",
    "[Entering #[compound-procedure 14 p]\n",
    "    Args: -.5463890357524606]\n",
    "[Entering #[compound-procedure 14 p]\n",
    "    Args: -.9866890379958478]\n",
    ";Value: .8823180886403317\n",
    "\n",
    "The time of sine procedure evaluated is 8 times.\n",
    "The time of   p procedure evaluated is 7 times."
   ]
  },
  {
   "cell_type": "markdown",
   "metadata": {},
   "source": [
    "## 1.2.4 Exponentiation"
   ]
  },
  {
   "cell_type": "markdown",
   "metadata": {},
   "source": [
    "Consider the problem of computing the exponential of a given number.We would like a procedure that takes as arguments a base b and a positive integer exponent n and computes bn. One way to do this is via the recursive definition:"
   ]
  },
  {
   "cell_type": "markdown",
   "metadata": {},
   "source": [
    "### I.exponent1"
   ]
  },
  {
   "cell_type": "code",
   "execution_count": 17,
   "metadata": {
    "collapsed": false
   },
   "outputs": [
    {
     "data": {
      "text/latex": [
       "$$b^n = b * b^(n -1),$$"
      ],
      "text/plain": [
       "<IPython.core.display.Math object>"
      ]
     },
     "metadata": {},
     "output_type": "display_data"
    },
    {
     "data": {
      "text/latex": [
       "$$b^0 = 1,$$"
      ],
      "text/plain": [
       "<IPython.core.display.Math object>"
      ]
     },
     "metadata": {},
     "output_type": "display_data"
    }
   ],
   "source": [
    "from IPython.display import display, Math, Latex\n",
    "display(Math(r'b^n = b * b^(n -1),'))\n",
    "display(Math(r'b^0 = 1,'))"
   ]
  },
  {
   "cell_type": "markdown",
   "metadata": {},
   "source": [
    "#### A-1.Described by shceme from 1.2/exponent1_by_recursion.scm"
   ]
  },
  {
   "cell_type": "code",
   "execution_count": 16,
   "metadata": {
    "collapsed": false
   },
   "outputs": [
    {
     "name": "stdout",
     "output_type": "stream",
     "text": [
      "(define (expt b n)\r\n",
      "  (if (= n 0)\r\n",
      "      1\r\n",
      "      (* b (expt b (- n 1)))\r\n",
      "  )\r\n",
      ")\r\n"
     ]
    }
   ],
   "source": [
    "cat 1.2/exponent1_by_recursion.scm"
   ]
  },
  {
   "cell_type": "raw",
   "metadata": {},
   "source": [
    "Running Instance:\n",
    "\n",
    "1 ]=> (load \"1.2/exponent1_by_recursion.scm\")\n",
    "\n",
    ";Loading \"1.2/exponent1_by_recursion.scm\"... done\n",
    ";Value: expt\n",
    "\n",
    "1 ]=> (expt 3 10)\n",
    "\n",
    ";Value: 59049"
   ]
  },
  {
   "cell_type": "markdown",
   "metadata": {},
   "source": [
    "#### B-1.Described by python2.7"
   ]
  },
  {
   "cell_type": "code",
   "execution_count": 18,
   "metadata": {
    "collapsed": false
   },
   "outputs": [
    {
     "data": {
      "text/plain": [
       "59049"
      ]
     },
     "execution_count": 18,
     "metadata": {},
     "output_type": "execute_result"
    }
   ],
   "source": [
    "def expt(b, n):\n",
    "    if 0 == n:\n",
    "        return 1\n",
    "    else:\n",
    "        return b * expt(b, n - 1)\n",
    "    \n",
    "expt(3, 10)"
   ]
  },
  {
   "cell_type": "code",
   "execution_count": 22,
   "metadata": {
    "collapsed": false
   },
   "outputs": [
    {
     "ename": "RuntimeError",
     "evalue": "maximum recursion depth exceeded",
     "output_type": "error",
     "traceback": [
      "\u001b[1;31m\u001b[0m",
      "\u001b[1;31mRuntimeError\u001b[0mTraceback (most recent call last)",
      "\u001b[1;32m<ipython-input-22-2d6239c1f79d>\u001b[0m in \u001b[0;36m<module>\u001b[1;34m()\u001b[0m\n\u001b[1;32m----> 1\u001b[1;33m \u001b[0mexpt\u001b[0m\u001b[1;33m(\u001b[0m\u001b[1;36m5\u001b[0m\u001b[1;33m,\u001b[0m \u001b[1;36m1001\u001b[0m\u001b[1;33m)\u001b[0m\u001b[1;33m\u001b[0m\u001b[0m\n\u001b[0m",
      "\u001b[1;32m<ipython-input-18-b85347bfc68d>\u001b[0m in \u001b[0;36mexpt\u001b[1;34m(b, n)\u001b[0m\n\u001b[0;32m      3\u001b[0m         \u001b[1;32mreturn\u001b[0m \u001b[1;36m1\u001b[0m\u001b[1;33m\u001b[0m\u001b[0m\n\u001b[0;32m      4\u001b[0m     \u001b[1;32melse\u001b[0m\u001b[1;33m:\u001b[0m\u001b[1;33m\u001b[0m\u001b[0m\n\u001b[1;32m----> 5\u001b[1;33m         \u001b[1;32mreturn\u001b[0m \u001b[0mb\u001b[0m \u001b[1;33m*\u001b[0m \u001b[0mexpt\u001b[0m\u001b[1;33m(\u001b[0m\u001b[0mb\u001b[0m\u001b[1;33m,\u001b[0m \u001b[0mn\u001b[0m \u001b[1;33m-\u001b[0m \u001b[1;36m1\u001b[0m\u001b[1;33m)\u001b[0m\u001b[1;33m\u001b[0m\u001b[0m\n\u001b[0m\u001b[0;32m      6\u001b[0m \u001b[1;33m\u001b[0m\u001b[0m\n\u001b[0;32m      7\u001b[0m \u001b[0mexpt\u001b[0m\u001b[1;33m(\u001b[0m\u001b[1;36m3\u001b[0m\u001b[1;33m,\u001b[0m \u001b[1;36m10\u001b[0m\u001b[1;33m)\u001b[0m\u001b[1;33m\u001b[0m\u001b[0m\n",
      "... last 1 frames repeated, from the frame below ...\n",
      "\u001b[1;32m<ipython-input-18-b85347bfc68d>\u001b[0m in \u001b[0;36mexpt\u001b[1;34m(b, n)\u001b[0m\n\u001b[0;32m      3\u001b[0m         \u001b[1;32mreturn\u001b[0m \u001b[1;36m1\u001b[0m\u001b[1;33m\u001b[0m\u001b[0m\n\u001b[0;32m      4\u001b[0m     \u001b[1;32melse\u001b[0m\u001b[1;33m:\u001b[0m\u001b[1;33m\u001b[0m\u001b[0m\n\u001b[1;32m----> 5\u001b[1;33m         \u001b[1;32mreturn\u001b[0m \u001b[0mb\u001b[0m \u001b[1;33m*\u001b[0m \u001b[0mexpt\u001b[0m\u001b[1;33m(\u001b[0m\u001b[0mb\u001b[0m\u001b[1;33m,\u001b[0m \u001b[0mn\u001b[0m \u001b[1;33m-\u001b[0m \u001b[1;36m1\u001b[0m\u001b[1;33m)\u001b[0m\u001b[1;33m\u001b[0m\u001b[0m\n\u001b[0m\u001b[0;32m      6\u001b[0m \u001b[1;33m\u001b[0m\u001b[0m\n\u001b[0;32m      7\u001b[0m \u001b[0mexpt\u001b[0m\u001b[1;33m(\u001b[0m\u001b[1;36m3\u001b[0m\u001b[1;33m,\u001b[0m \u001b[1;36m10\u001b[0m\u001b[1;33m)\u001b[0m\u001b[1;33m\u001b[0m\u001b[0m\n",
      "\u001b[1;31mRuntimeError\u001b[0m: maximum recursion depth exceeded"
     ]
    }
   ],
   "source": [
    "expt(5, 1001)"
   ]
  },
  {
   "cell_type": "markdown",
   "metadata": {},
   "source": [
    "#### A-2.Described by shceme from 1.2/exponent1_by_iteration.scm"
   ]
  },
  {
   "cell_type": "code",
   "execution_count": 21,
   "metadata": {
    "collapsed": false
   },
   "outputs": [
    {
     "name": "stdout",
     "output_type": "stream",
     "text": [
      "(define (expt_iter b counter product)\r\n",
      "  (if (= counter 0)\r\n",
      "      product\r\n",
      "      (expt_iter b\r\n",
      "                 (- counter 1)\r\n",
      "                 (* b product)\r\n",
      "      )\r\n",
      "  )\r\n",
      ")\r\n",
      "\r\n",
      "(define (expt b n)\r\n",
      "  (expt-iter b n 1)\r\n",
      ")\r\n"
     ]
    }
   ],
   "source": [
    "cat 1.2/exponent1_by_iteration.scm"
   ]
  },
  {
   "cell_type": "raw",
   "metadata": {},
   "source": [
    "Running Instance:\n",
    "\n",
    "1 ]=> (load \"1.2/exponent1_by_iteration.scm\")\n",
    "\n",
    ";Loading \"1.2/exponent1_by_iteration.scm\"... done\n",
    ";Value: expt\n",
    "\n",
    "1 ]=> (expt 3 10)\n",
    "\n",
    ";Value: 59049"
   ]
  },
  {
   "cell_type": "markdown",
   "metadata": {},
   "source": [
    "#### B-2.Described by python2.7"
   ]
  },
  {
   "cell_type": "code",
   "execution_count": 25,
   "metadata": {
    "collapsed": false
   },
   "outputs": [
    {
     "data": {
      "text/plain": [
       "59049"
      ]
     },
     "execution_count": 25,
     "metadata": {},
     "output_type": "execute_result"
    }
   ],
   "source": [
    "def expt_iter(b, counter, product):\n",
    "    if 0 == counter:\n",
    "        return product\n",
    "    else:\n",
    "        return expt_iter(b, counter - 1, b * product)\n",
    "\n",
    "def expt(b, n):\n",
    "    return expt_iter(b, n, 1)\n",
    "\n",
    "expt(3, 10)"
   ]
  },
  {
   "cell_type": "code",
   "execution_count": 26,
   "metadata": {
    "collapsed": false
   },
   "outputs": [
    {
     "ename": "RuntimeError",
     "evalue": "maximum recursion depth exceeded",
     "output_type": "error",
     "traceback": [
      "\u001b[1;31m\u001b[0m",
      "\u001b[1;31mRuntimeError\u001b[0mTraceback (most recent call last)",
      "\u001b[1;32m<ipython-input-26-6c65bd07bdf3>\u001b[0m in \u001b[0;36m<module>\u001b[1;34m()\u001b[0m\n\u001b[0;32m      1\u001b[0m \u001b[1;31m# Actually,the process is recursive.\u001b[0m\u001b[1;33m\u001b[0m\u001b[1;33m\u001b[0m\u001b[0m\n\u001b[1;32m----> 2\u001b[1;33m \u001b[0mexpt\u001b[0m\u001b[1;33m(\u001b[0m\u001b[1;36m5\u001b[0m\u001b[1;33m,\u001b[0m \u001b[1;36m1001\u001b[0m\u001b[1;33m)\u001b[0m\u001b[1;33m\u001b[0m\u001b[0m\n\u001b[0m",
      "\u001b[1;32m<ipython-input-25-0fd14665a8c0>\u001b[0m in \u001b[0;36mexpt\u001b[1;34m(b, n)\u001b[0m\n\u001b[0;32m      7\u001b[0m \u001b[1;33m\u001b[0m\u001b[0m\n\u001b[0;32m      8\u001b[0m \u001b[1;32mdef\u001b[0m \u001b[0mexpt\u001b[0m\u001b[1;33m(\u001b[0m\u001b[0mb\u001b[0m\u001b[1;33m,\u001b[0m \u001b[0mn\u001b[0m\u001b[1;33m)\u001b[0m\u001b[1;33m:\u001b[0m\u001b[1;33m\u001b[0m\u001b[0m\n\u001b[1;32m----> 9\u001b[1;33m     \u001b[1;32mreturn\u001b[0m \u001b[0mexpt_iter\u001b[0m\u001b[1;33m(\u001b[0m\u001b[0mb\u001b[0m\u001b[1;33m,\u001b[0m \u001b[0mn\u001b[0m\u001b[1;33m,\u001b[0m \u001b[1;36m1\u001b[0m\u001b[1;33m)\u001b[0m\u001b[1;33m\u001b[0m\u001b[0m\n\u001b[0m\u001b[0;32m     10\u001b[0m \u001b[1;33m\u001b[0m\u001b[0m\n\u001b[0;32m     11\u001b[0m \u001b[0mexpt\u001b[0m\u001b[1;33m(\u001b[0m\u001b[1;36m3\u001b[0m\u001b[1;33m,\u001b[0m \u001b[1;36m10\u001b[0m\u001b[1;33m)\u001b[0m\u001b[1;33m\u001b[0m\u001b[0m\n",
      "\u001b[1;32m<ipython-input-25-0fd14665a8c0>\u001b[0m in \u001b[0;36mexpt_iter\u001b[1;34m(b, counter, product)\u001b[0m\n\u001b[0;32m      4\u001b[0m         \u001b[1;32mreturn\u001b[0m \u001b[0mproduct\u001b[0m\u001b[1;33m\u001b[0m\u001b[0m\n\u001b[0;32m      5\u001b[0m     \u001b[1;32melse\u001b[0m\u001b[1;33m:\u001b[0m\u001b[1;33m\u001b[0m\u001b[0m\n\u001b[1;32m----> 6\u001b[1;33m         \u001b[1;32mreturn\u001b[0m \u001b[0mexpt_iter\u001b[0m\u001b[1;33m(\u001b[0m\u001b[0mb\u001b[0m\u001b[1;33m,\u001b[0m \u001b[0mcounter\u001b[0m \u001b[1;33m-\u001b[0m \u001b[1;36m1\u001b[0m\u001b[1;33m,\u001b[0m \u001b[0mb\u001b[0m \u001b[1;33m*\u001b[0m \u001b[0mproduct\u001b[0m\u001b[1;33m)\u001b[0m\u001b[1;33m\u001b[0m\u001b[0m\n\u001b[0m\u001b[0;32m      7\u001b[0m \u001b[1;33m\u001b[0m\u001b[0m\n\u001b[0;32m      8\u001b[0m \u001b[1;32mdef\u001b[0m \u001b[0mexpt\u001b[0m\u001b[1;33m(\u001b[0m\u001b[0mb\u001b[0m\u001b[1;33m,\u001b[0m \u001b[0mn\u001b[0m\u001b[1;33m)\u001b[0m\u001b[1;33m:\u001b[0m\u001b[1;33m\u001b[0m\u001b[0m\n",
      "... last 1 frames repeated, from the frame below ...\n",
      "\u001b[1;32m<ipython-input-25-0fd14665a8c0>\u001b[0m in \u001b[0;36mexpt_iter\u001b[1;34m(b, counter, product)\u001b[0m\n\u001b[0;32m      4\u001b[0m         \u001b[1;32mreturn\u001b[0m \u001b[0mproduct\u001b[0m\u001b[1;33m\u001b[0m\u001b[0m\n\u001b[0;32m      5\u001b[0m     \u001b[1;32melse\u001b[0m\u001b[1;33m:\u001b[0m\u001b[1;33m\u001b[0m\u001b[0m\n\u001b[1;32m----> 6\u001b[1;33m         \u001b[1;32mreturn\u001b[0m \u001b[0mexpt_iter\u001b[0m\u001b[1;33m(\u001b[0m\u001b[0mb\u001b[0m\u001b[1;33m,\u001b[0m \u001b[0mcounter\u001b[0m \u001b[1;33m-\u001b[0m \u001b[1;36m1\u001b[0m\u001b[1;33m,\u001b[0m \u001b[0mb\u001b[0m \u001b[1;33m*\u001b[0m \u001b[0mproduct\u001b[0m\u001b[1;33m)\u001b[0m\u001b[1;33m\u001b[0m\u001b[0m\n\u001b[0m\u001b[0;32m      7\u001b[0m \u001b[1;33m\u001b[0m\u001b[0m\n\u001b[0;32m      8\u001b[0m \u001b[1;32mdef\u001b[0m \u001b[0mexpt\u001b[0m\u001b[1;33m(\u001b[0m\u001b[0mb\u001b[0m\u001b[1;33m,\u001b[0m \u001b[0mn\u001b[0m\u001b[1;33m)\u001b[0m\u001b[1;33m:\u001b[0m\u001b[1;33m\u001b[0m\u001b[0m\n",
      "\u001b[1;31mRuntimeError\u001b[0m: maximum recursion depth exceeded"
     ]
    }
   ],
   "source": [
    "# Actually,the process is recursive.\n",
    "expt(5, 1001)"
   ]
  },
  {
   "cell_type": "code",
   "execution_count": 29,
   "metadata": {
    "collapsed": false
   },
   "outputs": [
    {
     "data": {
      "text/plain": [
       "59049"
      ]
     },
     "execution_count": 29,
     "metadata": {},
     "output_type": "execute_result"
    }
   ],
   "source": [
    "# Use Math module:\n",
    "import math\n",
    "int(math.pow(3, 10))"
   ]
  },
  {
   "cell_type": "code",
   "execution_count": 36,
   "metadata": {
    "collapsed": false
   },
   "outputs": [
    {
     "ename": "OverflowError",
     "evalue": "math range error",
     "output_type": "error",
     "traceback": [
      "\u001b[1;31m\u001b[0m",
      "\u001b[1;31mOverflowError\u001b[0mTraceback (most recent call last)",
      "\u001b[1;32m<ipython-input-36-50079b73dc09>\u001b[0m in \u001b[0;36m<module>\u001b[1;34m()\u001b[0m\n\u001b[0;32m      1\u001b[0m \u001b[1;31m# error\u001b[0m\u001b[1;33m\u001b[0m\u001b[1;33m\u001b[0m\u001b[0m\n\u001b[1;32m----> 2\u001b[1;33m \u001b[0mint\u001b[0m\u001b[1;33m(\u001b[0m\u001b[0mmath\u001b[0m\u001b[1;33m.\u001b[0m\u001b[0mpow\u001b[0m\u001b[1;33m(\u001b[0m\u001b[1;36m5\u001b[0m\u001b[1;33m,\u001b[0m \u001b[1;36m1001\u001b[0m\u001b[1;33m)\u001b[0m\u001b[1;33m)\u001b[0m\u001b[1;33m\u001b[0m\u001b[0m\n\u001b[0m",
      "\u001b[1;31mOverflowError\u001b[0m: math range error"
     ]
    }
   ],
   "source": [
    "# error\n",
    "int(math.pow(5, 1001))"
   ]
  },
  {
   "cell_type": "code",
   "execution_count": 32,
   "metadata": {
    "collapsed": false
   },
   "outputs": [
    {
     "data": {
      "text/plain": [
       "59049"
      ]
     },
     "execution_count": 32,
     "metadata": {},
     "output_type": "execute_result"
    }
   ],
   "source": [
    "# Effective iteration\n",
    "def expt(b, n):\n",
    "    product = 1\n",
    "    for counter in xrange(1, n+1):\n",
    "        product *= b\n",
    "    return product\n",
    "\n",
    "expt(3, 10)"
   ]
  },
  {
   "cell_type": "code",
   "execution_count": 33,
   "metadata": {
    "collapsed": false
   },
   "outputs": [
    {
     "data": {
      "text/plain": [
       "4666318092516094394950447723619085848085457231858540123108571698979834554878878172272201635489405511797974949651621213121077437606770161974207604086019653781172053330691625751369975379929509157555502453981325565591202562573979668954025891355627075519053491894272132405597349071143304796110088314552213992280847244435737332640031641842263237146309149310826013965976447468035589253318343705327199027653590681602999224130209770506066148149347510972573049521073043341806223964760174134323088289634580237100329681945208689479110591825390227783142221369626937585639273983907781732018574388408834499276960346327197120043559868373508749313133453736483812679019646881169169905234639372793026268482208251953125L"
      ]
     },
     "execution_count": 33,
     "metadata": {},
     "output_type": "execute_result"
    }
   ],
   "source": [
    "expt(5, 1001)"
   ]
  },
  {
   "cell_type": "markdown",
   "metadata": {},
   "source": [
    "### II.exponent2"
   ]
  },
  {
   "cell_type": "markdown",
   "metadata": {
    "collapsed": true
   },
   "source": [
    "We can compute exponentials in fewer steps by using successive squaring.  \n",
    "For instance, rather than computing $b^8$ as  \n",
    "$$b*(b*(b*(b*(b*(b*(b*b))))))$$"
   ]
  },
  {
   "cell_type": "markdown",
   "metadata": {},
   "source": [
    "we can compute it using three multiplications:  \n",
    "$$b^2 = b * b,$$\n",
    "$$b^4 = b^2 * b^2,$$\n",
    "$$b^8 = b^4 * b^4.$$"
   ]
  },
  {
   "cell_type": "markdown",
   "metadata": {},
   "source": [
    "This method works fine for exponents that are powers of 2. We can also take advantage of successive squaring in computing exponentials in general if we use the rule:"
   ]
  },
  {
   "cell_type": "markdown",
   "metadata": {},
   "source": [
    "$b^n = (b^(n/2))^2$   if n is even,  \n",
    "$b^n = b * b^(n-1)$    if n is odd."
   ]
  },
  {
   "cell_type": "markdown",
   "metadata": {},
   "source": [
    "#### A.Described by shceme from 1.2/exponent2_by_recursion.scm"
   ]
  },
  {
   "cell_type": "code",
   "execution_count": 2,
   "metadata": {
    "collapsed": false
   },
   "outputs": [
    {
     "name": "stdout",
     "output_type": "stream",
     "text": [
      "(define (even n)\r\n",
      "  (= (remainder n 2) 0)\r\n",
      ")\r\n",
      "\r\n",
      "(define (fast_expt b n)\r\n",
      "  (cond ((= n 0) 1)\r\n",
      "        ((even n) (square (fast_expt b (/ n 2))))\r\n",
      "        (else (* b (fast_expt b (- n 1))))\r\n",
      "  )\r\n",
      ")\r\n"
     ]
    }
   ],
   "source": [
    "cat 1.2/exponent2_by_recursion.scm"
   ]
  },
  {
   "cell_type": "raw",
   "metadata": {},
   "source": [
    "Running Instance:\n",
    "\n",
    "1 ]=> (load \"1.2/exponent2_by_recursion.scm\")\n",
    "\n",
    ";Loading \"1.2/exponent2_by_recursion.scm\"... done\n",
    ";Value: fast_expt\n",
    "\n",
    "1 ]=> (fast_expt 3 10)\n",
    "\n",
    ";Value: 59049\n",
    "\n",
    "1 ]=> (fast_expt 5 1001)\n",
    "\n",
    ";Value: 4666318092516094394950447723619085848085457231858540123108571698979834554878878172272201635489405511797974949651621213121077437606770161974207604086019653781172053330691625751369975379929509157555502453981325565591202562573979668954025891355627075519053491894272132405597349071143304796110088314552213992280847244435737332640031641842263237146309149310826013965976447468035589253318343705327199027653590681602999224130209770506066148149347510972573049521073043341806223964760174134323088289634580237100329681945208689479110591825390227783142221369626937585639273983907781732018574388408834499276960346327197120043559868373508749313133453736483812679019646881169169905234639372793026268482208251953125"
   ]
  },
  {
   "cell_type": "markdown",
   "metadata": {},
   "source": [
    "#### B.Described by python2.7"
   ]
  },
  {
   "cell_type": "code",
   "execution_count": 3,
   "metadata": {
    "collapsed": false
   },
   "outputs": [
    {
     "data": {
      "text/plain": [
       "59049"
      ]
     },
     "execution_count": 3,
     "metadata": {},
     "output_type": "execute_result"
    }
   ],
   "source": [
    "def fast_expt(b, n):\n",
    "    if 0 == n:\n",
    "        return 1\n",
    "    elif 0 == n % 2:\n",
    "        return int(pow(fast_expt(b, n / 2), 2))\n",
    "    else:\n",
    "        return b * fast_expt(b, n - 1)\n",
    "    \n",
    "fast_expt(3, 10)"
   ]
  },
  {
   "cell_type": "code",
   "execution_count": 5,
   "metadata": {
    "collapsed": false
   },
   "outputs": [
    {
     "data": {
      "text/plain": [
       "4666318092516094394950447723619085848085457231858540123108571698979834554878878172272201635489405511797974949651621213121077437606770161974207604086019653781172053330691625751369975379929509157555502453981325565591202562573979668954025891355627075519053491894272132405597349071143304796110088314552213992280847244435737332640031641842263237146309149310826013965976447468035589253318343705327199027653590681602999224130209770506066148149347510972573049521073043341806223964760174134323088289634580237100329681945208689479110591825390227783142221369626937585639273983907781732018574388408834499276960346327197120043559868373508749313133453736483812679019646881169169905234639372793026268482208251953125L"
      ]
     },
     "execution_count": 5,
     "metadata": {},
     "output_type": "execute_result"
    }
   ],
   "source": [
    "fast_expt(5, 1001)"
   ]
  },
  {
   "cell_type": "code",
   "execution_count": 8,
   "metadata": {
    "collapsed": false
   },
   "outputs": [
    {
     "data": {
      "text/plain": [
       "870980981621721667557619549477887229585910374270538861664349322949828885340626741378473875079978788106556408717745512063620430237198833632508279082452303686110151064231029731844770912338990942384805856374197234719063103709717102341338066824141470072823629277351483947365609114807773659084382927185815811948911134617256915670416545076575696978688296466624839314010926757566865640829864607020478209736583890745367167211108478699317026667107461706636187594713500639193851672095206666878678364305056913162755577282544319220234472829986232534712298259962687261646269421115058998416069587800908920579349669236736913827347448298397172895803277667115579753494052712115087421629797155964976280104903975345046567785695453426825434185295645428424293462112053395137460028538491546496267026898886434214356481725450758426045441108355790758165263762707637097797493609152464857349232178547471268908595592165403420696716220544097087042534305174783814271995118445411602119001993267698963158366035219345898069254813486663593971465352723605221893603623162344963023226799889023333175534301945815013863127729744770005798281812992166753266441172395445809353443716569909308297494243007169052124052051599106448566000604029261487881100463610822941645972134518552644715890683789506575861017698385432029210038002794322539542020752022213866641380472576754542153919782083275936648524549223149282539679916226305067539215087890625L"
      ]
     },
     "execution_count": 8,
     "metadata": {},
     "output_type": "execute_result"
    }
   ],
   "source": [
    "fast_expt(5, 2000)"
   ]
  },
  {
   "cell_type": "markdown",
   "metadata": {},
   "source": [
    "### Exercise 1.16: \n",
    "Design a procedure that evolves an iterative exponentiation process that uses successive squaring and uses a logarithmic number of steps, as does fast-expt.(Hint: Using the observation that $(b^(n/2))^2 = (b^2)^(n/2)$, keep, along with the exponent n and the base b, an additional state variable a, and define the state transformation in such a way that the product $ab^n$ is unchanged from state to state. At the beginning of the process a is taken to be 1, and the answer is given by the value of a at the end of the process. In general, the technique of defining an invariant quantity that remains unchanged from state to state is a powerful way to think about the design of iterative algorithms.)"
   ]
  },
  {
   "cell_type": "markdown",
   "metadata": {},
   "source": [
    "#### A.Described by shceme from 1.2/exponent2_by_iteration.scm"
   ]
  },
  {
   "cell_type": "code",
   "execution_count": 9,
   "metadata": {
    "collapsed": false
   },
   "outputs": [
    {
     "name": "stdout",
     "output_type": "stream",
     "text": [
      "(define (even n)\r\n",
      "  (= (remainder n 2) 0)\r\n",
      ")\r\n",
      "\r\n",
      "(define (fast_expt_iter b n a)\r\n",
      "  (cond ((= n 0) a)\r\n",
      "        ((even n)\r\n",
      "         (fast_expt_iter (square b) (/ n 2) a))\r\n",
      "        (else (fast_expt_iter b (- n 1) (* b a)))\r\n",
      "  )\r\n",
      ")\r\n",
      "\r\n",
      "(define (fast_expt b n)\r\n",
      "  (fast_expt_iter b n 1)\r\n",
      ")\r\n"
     ]
    }
   ],
   "source": [
    "cat 1.2/exponent2_by_iteration.scm"
   ]
  },
  {
   "cell_type": "raw",
   "metadata": {},
   "source": [
    "Running Instance:\n",
    "\n",
    "1 ]=> (load \"1.2/exponent2_by_iteration.scm\")\n",
    "\n",
    ";Loading \"1.2/exponent2_by_iteration.scm\"... done\n",
    ";Value: fast_expt\n",
    "\n",
    "1 ]=> (fast_expt 3 10)\n",
    "\n",
    ";Value: 59049\n",
    "\n",
    "1 ]=> (fast_expt 5 1001)\n",
    "\n",
    ";Value: 4666318092516094394950447723619085848085457231858540123108571698979834554878878172272201635489405511797974949651621213121077437606770161974207604086019653781172053330691625751369975379929509157555502453981325565591202562573979668954025891355627075519053491894272132405597349071143304796110088314552213992280847244435737332640031641842263237146309149310826013965976447468035589253318343705327199027653590681602999224130209770506066148149347510972573049521073043341806223964760174134323088289634580237100329681945208689479110591825390227783142221369626937585639273983907781732018574388408834499276960346327197120043559868373508749313133453736483812679019646881169169905234639372793026268482208251953125"
   ]
  },
  {
   "cell_type": "markdown",
   "metadata": {},
   "source": [
    "#### B.Described by python2.7"
   ]
  },
  {
   "cell_type": "code",
   "execution_count": 2,
   "metadata": {
    "collapsed": false
   },
   "outputs": [
    {
     "data": {
      "text/plain": [
       "59049"
      ]
     },
     "execution_count": 2,
     "metadata": {},
     "output_type": "execute_result"
    }
   ],
   "source": [
    "def fast_expt_iter(b, n, a):\n",
    "    if 0 == n:\n",
    "        return a\n",
    "    elif 0 == n % 2:\n",
    "        return fast_expt_iter(int(pow(b, 2)), n / 2, a)\n",
    "    else:\n",
    "        return fast_expt_iter(b, n - 1, b * a)\n",
    "    \n",
    "def fast_expt(b, n):\n",
    "    return fast_expt_iter(b, n, 1)\n",
    "\n",
    "fast_expt(3, 10)"
   ]
  },
  {
   "cell_type": "code",
   "execution_count": 3,
   "metadata": {
    "collapsed": false
   },
   "outputs": [
    {
     "data": {
      "text/plain": [
       "4666318092516094394950447723619085848085457231858540123108571698979834554878878172272201635489405511797974949651621213121077437606770161974207604086019653781172053330691625751369975379929509157555502453981325565591202562573979668954025891355627075519053491894272132405597349071143304796110088314552213992280847244435737332640031641842263237146309149310826013965976447468035589253318343705327199027653590681602999224130209770506066148149347510972573049521073043341806223964760174134323088289634580237100329681945208689479110591825390227783142221369626937585639273983907781732018574388408834499276960346327197120043559868373508749313133453736483812679019646881169169905234639372793026268482208251953125L"
      ]
     },
     "execution_count": 3,
     "metadata": {},
     "output_type": "execute_result"
    }
   ],
   "source": [
    "fast_expt(5, 1001)"
   ]
  },
  {
   "cell_type": "code",
   "execution_count": 4,
   "metadata": {
    "collapsed": false
   },
   "outputs": [
    {
     "data": {
      "text/plain": [
       "870980981621721667557619549477887229585910374270538861664349322949828885340626741378473875079978788106556408717745512063620430237198833632508279082452303686110151064231029731844770912338990942384805856374197234719063103709717102341338066824141470072823629277351483947365609114807773659084382927185815811948911134617256915670416545076575696978688296466624839314010926757566865640829864607020478209736583890745367167211108478699317026667107461706636187594713500639193851672095206666878678364305056913162755577282544319220234472829986232534712298259962687261646269421115058998416069587800908920579349669236736913827347448298397172895803277667115579753494052712115087421629797155964976280104903975345046567785695453426825434185295645428424293462112053395137460028538491546496267026898886434214356481725450758426045441108355790758165263762707637097797493609152464857349232178547471268908595592165403420696716220544097087042534305174783814271995118445411602119001993267698963158366035219345898069254813486663593971465352723605221893603623162344963023226799889023333175534301945815013863127729744770005798281812992166753266441172395445809353443716569909308297494243007169052124052051599106448566000604029261487881100463610822941645972134518552644715890683789506575861017698385432029210038002794322539542020752022213866641380472576754542153919782083275936648524549223149282539679916226305067539215087890625L"
      ]
     },
     "execution_count": 4,
     "metadata": {},
     "output_type": "execute_result"
    }
   ],
   "source": [
    "fast_expt(5, 2000)"
   ]
  },
  {
   "cell_type": "markdown",
   "metadata": {},
   "source": [
    "### Exercise 1.17: \n",
    "The exponentiation algorithms in this section are based on performing exponentiation by means of repeated multiplication. In a similar way, one can perform integer multiplication by means of repeated addition. The following multiplication procedure (in which it is assumed that our language can only add, not multiply) is analogous to the expt procedure:"
   ]
  },
  {
   "cell_type": "raw",
   "metadata": {},
   "source": [
    "(define (* a b)\n",
    "  (if (= b 0)\n",
    "  0\n",
    "  (+ a (* a (- b 1)))"
   ]
  },
  {
   "cell_type": "markdown",
   "metadata": {},
   "source": [
    "This algorithm takes a number of steps that is linear in b. Now suppose we include, together with addition, operations double, which doubles an integer, and halve, which divides an (even) integer by 2. Using these, design a multiplication procedure analogous to fast-expt that uses a logarithmic number of steps."
   ]
  },
  {
   "cell_type": "markdown",
   "metadata": {},
   "source": [
    "#### 说明: \n",
    "首先，我们先实现线性(增长阶为b)递归和线性迭代的算法,  \n",
    "然后再实现增长阶为logb的递归和迭代算法  \n",
    "其实就是模仿上面计算幂函数的各类算法即可实现"
   ]
  },
  {
   "cell_type": "markdown",
   "metadata": {},
   "source": [
    "### Exercise 1.18: \n",
    "Using the results of Exercise 1.16 and Exercise 1.17, devise a procedure that generates an iterative process for multiplying two integers in terms of adding, doubling, and halving and uses a logarithmic number of steps."
   ]
  },
  {
   "cell_type": "markdown",
   "metadata": {},
   "source": [
    "#### A.线性递归算法"
   ]
  },
  {
   "cell_type": "markdown",
   "metadata": {},
   "source": [
    "#### Scheme"
   ]
  },
  {
   "cell_type": "code",
   "execution_count": 5,
   "metadata": {
    "collapsed": false
   },
   "outputs": [
    {
     "name": "stdout",
     "output_type": "stream",
     "text": [
      "(define (* a b)\r\n",
      "  (if (= b 0)\r\n",
      "      0\r\n",
      "      (+ a (* a (- b 1)))\r\n",
      "  )\r\n",
      ")\r\n"
     ]
    }
   ],
   "source": [
    "cat 1.2/multiplication1_by_recursion.scm"
   ]
  },
  {
   "cell_type": "raw",
   "metadata": {},
   "source": [
    "Running Instance:\n",
    "\n",
    "1 ]=> (load \"1.2/multiplication1_by_recursion.scm\")\n",
    "\n",
    ";Loading \"1.2/multiplication1_by_recursion.scm\"... done\n",
    ";Value: mul\n",
    "\n",
    "1 ]=> (mul 147 258)\n",
    "\n",
    ";Value: 37926"
   ]
  },
  {
   "cell_type": "markdown",
   "metadata": {},
   "source": [
    "#### Python2.7"
   ]
  },
  {
   "cell_type": "code",
   "execution_count": 6,
   "metadata": {
    "collapsed": false
   },
   "outputs": [
    {
     "data": {
      "text/plain": [
       "37926"
      ]
     },
     "execution_count": 6,
     "metadata": {},
     "output_type": "execute_result"
    }
   ],
   "source": [
    "def mul(a, b):\n",
    "    if 0 == b:\n",
    "        return 0\n",
    "    else:\n",
    "        return a + mul(a, b - 1)\n",
    "    \n",
    "mul(147, 258)"
   ]
  },
  {
   "cell_type": "markdown",
   "metadata": {},
   "source": [
    "#### B.线性迭代算法"
   ]
  },
  {
   "cell_type": "markdown",
   "metadata": {},
   "source": [
    "#### Scheme"
   ]
  },
  {
   "cell_type": "code",
   "execution_count": 8,
   "metadata": {
    "collapsed": false
   },
   "outputs": [
    {
     "name": "stdout",
     "output_type": "stream",
     "text": [
      "(define (mul_iter a counter sum)\r\n",
      "  (if (= counter 0)\r\n",
      "      sum\r\n",
      "      (mul_iter a\r\n",
      "               (- counter 1)\r\n",
      "               (+ a sum)\r\n",
      "      )\r\n",
      "  )\r\n",
      ")\r\n",
      "\r\n",
      "(define (mul a b)\r\n",
      "  (mul_iter a b 0)\r\n",
      ")\r\n"
     ]
    }
   ],
   "source": [
    "cat 1.2/multiplication1_by_iteration.scm"
   ]
  },
  {
   "cell_type": "raw",
   "metadata": {},
   "source": [
    "Running Instance:\n",
    "\n",
    "1 ]=> (load \"1.2/multiplication1_by_iteration.scm\")\n",
    "\n",
    ";Loading \"1.2/multiplication1_by_iteration.scm\"... done\n",
    ";Value: mul\n",
    "\n",
    "1 ]=> (mul 147 258)\n",
    "\n",
    ";Value: 37926"
   ]
  },
  {
   "cell_type": "markdown",
   "metadata": {},
   "source": [
    "#### Python2.7"
   ]
  },
  {
   "cell_type": "code",
   "execution_count": 9,
   "metadata": {
    "collapsed": false
   },
   "outputs": [
    {
     "data": {
      "text/plain": [
       "37926"
      ]
     },
     "execution_count": 9,
     "metadata": {},
     "output_type": "execute_result"
    }
   ],
   "source": [
    "def mul_iter(a, counter, SUM):\n",
    "    if 0 == counter:\n",
    "        return SUM\n",
    "    else:\n",
    "        return mul_iter(a, counter - 1, a + SUM)\n",
    "    \n",
    "def mul(a, b):\n",
    "    return mul_iter(a, b, 0)\n",
    "\n",
    "mul(147, 258)\n",
    "    "
   ]
  },
  {
   "cell_type": "markdown",
   "metadata": {},
   "source": [
    "### The answer for Exercise 1.17\n",
    "#### C.对数递归算法"
   ]
  },
  {
   "cell_type": "markdown",
   "metadata": {},
   "source": [
    "#### Scheme"
   ]
  },
  {
   "cell_type": "code",
   "execution_count": 10,
   "metadata": {
    "collapsed": false
   },
   "outputs": [
    {
     "name": "stdout",
     "output_type": "stream",
     "text": [
      "(define (double n) (* n 2))\r\n",
      "\r\n",
      "(define (halve n) (/ n 2))\r\n",
      "\r\n",
      "(define (even n)\r\n",
      "  (= (remainder n 2) 0)\r\n",
      ")\r\n",
      "\r\n",
      "(define (fast_mul a b)\r\n",
      "  (cond ((= b 0) 0)\r\n",
      "        ((even b) (double (fast_mul a (halve b))))\r\n",
      "        (else (+ a (fast_mul a (- b 1))))\r\n",
      "  )\r\n",
      ")\r\n"
     ]
    }
   ],
   "source": [
    "cat 1.2/multiplication2_by_recursion.scm"
   ]
  },
  {
   "cell_type": "raw",
   "metadata": {},
   "source": [
    "Running Instance:\n",
    "\n",
    "1 ]=> (load \"1.2/multiplication2_by_recursion.scm\")\n",
    "\n",
    ";Loading \"1.2/multiplication2_by_recursion.scm\"... done\n",
    ";Value: fast_mul\n",
    "\n",
    "1 ]=> (fast_mul 147 258)\n",
    "\n",
    ";Value: 37926"
   ]
  },
  {
   "cell_type": "markdown",
   "metadata": {},
   "source": [
    "#### Python2.7"
   ]
  },
  {
   "cell_type": "code",
   "execution_count": 12,
   "metadata": {
    "collapsed": false
   },
   "outputs": [
    {
     "data": {
      "text/plain": [
       "37926"
      ]
     },
     "execution_count": 12,
     "metadata": {},
     "output_type": "execute_result"
    }
   ],
   "source": [
    "def double(n):\n",
    "    return n * 2\n",
    "\n",
    "def halve(n):\n",
    "    return n / 2\n",
    "\n",
    "def fast_mul(a, b):\n",
    "    if 0 == b:\n",
    "        return 0\n",
    "    elif 0 == b % 2:\n",
    "        return double(fast_mul(a, halve(b)))\n",
    "    else:\n",
    "        return a + fast_mul(a, b - 1)\n",
    "    \n",
    "fast_mul(147, 258)"
   ]
  },
  {
   "cell_type": "markdown",
   "metadata": {},
   "source": [
    "### The answer for Exercise 1.18\n",
    "#### D.对数迭代算法"
   ]
  },
  {
   "cell_type": "markdown",
   "metadata": {},
   "source": [
    "#### Scheme"
   ]
  },
  {
   "cell_type": "code",
   "execution_count": 14,
   "metadata": {
    "collapsed": false
   },
   "outputs": [
    {
     "name": "stdout",
     "output_type": "stream",
     "text": [
      "(define (double n) (* n 2))\r\n",
      "\r\n",
      "(define (halve n) (/ n 2))\r\n",
      "\r\n",
      "(define (even n)\r\n",
      "    (= (remainder n 2) 0)\r\n",
      ")\r\n",
      "\r\n",
      "(define (fast_mul_iter a counter SUM)\r\n",
      "  (cond ((= counter 0) SUM)\r\n",
      "        ((even counter) (fast_mul_iter (double a) (halve counter) SUM))\r\n",
      "        (else (fast_mul_iter a (- counter 1) (+ a SUM)))\r\n",
      "  )\r\n",
      ")\r\n",
      "\r\n",
      "(define (fast_mul a b)\r\n",
      "  (fast_mul_iter a b 0)\r\n",
      ")\r\n"
     ]
    }
   ],
   "source": [
    "cat 1.2/multiplication2_by_iteration.scm"
   ]
  },
  {
   "cell_type": "raw",
   "metadata": {},
   "source": [
    "Running Instance:\n",
    "\n",
    "1 ]=> (load \"1.2/multiplication2_by_iteration.scm\")\n",
    "\n",
    ";Loading \"1.2/multiplication2_by_iteration.scm\"... done\n",
    ";Value: fast_mul\n",
    "\n",
    "1 ]=> (fast_mul 147 258)\n",
    "\n",
    ";Value: 37926"
   ]
  },
  {
   "cell_type": "markdown",
   "metadata": {},
   "source": [
    "#### Python2.7"
   ]
  },
  {
   "cell_type": "code",
   "execution_count": 15,
   "metadata": {
    "collapsed": false
   },
   "outputs": [
    {
     "data": {
      "text/plain": [
       "37926"
      ]
     },
     "execution_count": 15,
     "metadata": {},
     "output_type": "execute_result"
    }
   ],
   "source": [
    "def double(n):\n",
    "    return n * 2\n",
    "\n",
    "def halve(n):\n",
    "    return n / 2\n",
    "\n",
    "def fast_mul_iter(a, counter, SUM):\n",
    "    if 0 == counter:\n",
    "        return SUM\n",
    "    elif 0 == counter % 2:\n",
    "        return fast_mul_iter(double(a), halve(counter), SUM)\n",
    "    else:\n",
    "        return fast_mul_iter(a, counter - 1, a + SUM)\n",
    "    \n",
    "def fast_mul(a, b):\n",
    "    return fast_mul_iter(a, b, 0)\n",
    "\n",
    "fast_mul(147, 258)"
   ]
  },
  {
   "cell_type": "markdown",
   "metadata": {
    "collapsed": true
   },
   "source": [
    "### Exercise 1.19: \n",
    "There is a clever algorithm for computing the Fibonacci numbers in a logarithmic number of steps.  \n",
    "Put this all together to complete the following procedure, which runs in a logarithmic\n",
    "number of steps:"
   ]
  },
  {
   "cell_type": "raw",
   "metadata": {},
   "source": [
    "Because T:\n",
    "a <-- bq + a(p + q)\n",
    "b <-- bp + aq\n",
    "\n",
    "Then T^2:\n",
    "a <-- (bp + aq)q + (bq + a(p + q))(p+q)\n",
    "b <-- (bp +aq)p + (bq + a(p + q))q\n",
    "\n",
    "Reduce to:\n",
    "a <-- b(2pq + q^2) + a(p^2 + q^2 + 2pq + q^2)\n",
    "b <-- b(p^2 + q^2) + a(2pq + q^2)\n",
    "\n",
    "So:\n",
    "p <-- p^2 + q^2\n",
    "q <-- 2pq + q^2"
   ]
  },
  {
   "cell_type": "markdown",
   "metadata": {},
   "source": [
    "#### Scheme"
   ]
  },
  {
   "cell_type": "code",
   "execution_count": 1,
   "metadata": {
    "collapsed": false
   },
   "outputs": [
    {
     "name": "stdout",
     "output_type": "stream",
     "text": [
      "(define (even n)\r\n",
      "  (= (remainder n 2) 0)\r\n",
      ")\r\n",
      "\r\n",
      "(define (fib_iter a b p q count)\r\n",
      "  (cond ((= count 0) b)\r\n",
      "        ((even count)\r\n",
      "         (fib_iter a \r\n",
      "                   b\r\n",
      "                   (+ (square p) (square q)) \r\n",
      "                   (+ (* 2 p q) (square q)) \r\n",
      "                   (/ count 2)\r\n",
      "         )\r\n",
      "        )\r\n",
      "        (else (fib_iter (+ (* b q) (* a q) (* a p))\r\n",
      "                        (+ (* b p) (* a q))\r\n",
      "                        p\r\n",
      "                        q\r\n",
      "                        (- count 1)\r\n",
      "              )\r\n",
      "        )\r\n",
      "  )\r\n",
      ")\r\n",
      "\r\n",
      "(define (fib n)\r\n",
      "  (fib_iter 1 0 0 1 n)\r\n",
      ")\r\n"
     ]
    }
   ],
   "source": [
    "cat 1.2/fibonacci_by_clever_algorithm.scm"
   ]
  },
  {
   "cell_type": "raw",
   "metadata": {
    "collapsed": true
   },
   "source": [
    "Running Instance:\n",
    "\n",
    "1 ]=> (load \"1.2/fibonacci_by_clever_algorithm.scm\")\n",
    "\n",
    ";Loading \"1.2/fibonacci_by_clever_algorithm.scm\"... done\n",
    ";Value: fib\n",
    "\n",
    "1 ]=> (fib 100)\n",
    "\n",
    ";Value: 354224848179261915075\n",
    "\n",
    "1 ]=> (fib 1000)\n",
    "\n",
    ";Value: 43466557686937456435688527675040625802564660517371780402481729089536555417949051890403879840079255169295922593080322634775209689623239873322471161642996440906533187938298969649928516003704476137795166849228875"
   ]
  },
  {
   "cell_type": "markdown",
   "metadata": {
    "collapsed": true
   },
   "source": [
    "#### Python2.7"
   ]
  },
  {
   "cell_type": "code",
   "execution_count": 3,
   "metadata": {
    "collapsed": false
   },
   "outputs": [
    {
     "data": {
      "text/plain": [
       "354224848179261915075L"
      ]
     },
     "execution_count": 3,
     "metadata": {},
     "output_type": "execute_result"
    }
   ],
   "source": [
    "def fib_iter(a, b, p, q, count):\n",
    "    if 0 == count:\n",
    "        return b\n",
    "    elif 0 == count % 2:\n",
    "        return fib_iter(a, b, pow(p, 2) + pow(q, 2), 2 * p * q + pow(q, 2), count / 2)\n",
    "    else:\n",
    "        return fib_iter(b*q + a * q + a * p, b * p + a * q, p, q, count - 1)\n",
    "    \n",
    "def fib(n):\n",
    "    return fib_iter(1, 0, 0, 1, n)\n",
    "\n",
    "fib(100)"
   ]
  },
  {
   "cell_type": "code",
   "execution_count": 4,
   "metadata": {
    "collapsed": false
   },
   "outputs": [
    {
     "data": {
      "text/plain": [
       "43466557686937456435688527675040625802564660517371780402481729089536555417949051890403879840079255169295922593080322634775209689623239873322471161642996440906533187938298969649928516003704476137795166849228875L"
      ]
     },
     "execution_count": 4,
     "metadata": {},
     "output_type": "execute_result"
    }
   ],
   "source": [
    "fib(1000)"
   ]
  },
  {
   "cell_type": "markdown",
   "metadata": {},
   "source": [
    "## 1.2.5 Greatest Common Divisors"
   ]
  },
  {
   "cell_type": "markdown",
   "metadata": {},
   "source": [
    "The greatest common divisor (GCD) of two integers a and b is defined to be the largest integer that divides both a and b with no remainder. For example, the GCD of 16 and 28 is 4."
   ]
  },
  {
   "cell_type": "markdown",
   "metadata": {},
   "source": [
    "### Euclid’s Algorithm"
   ]
  },
  {
   "cell_type": "markdown",
   "metadata": {},
   "source": [
    "#### Scheme"
   ]
  },
  {
   "cell_type": "code",
   "execution_count": 5,
   "metadata": {
    "collapsed": false
   },
   "outputs": [
    {
     "name": "stdout",
     "output_type": "stream",
     "text": [
      "(define (gcd a b )\r\n",
      "  (if (= b 0)\r\n",
      "      a\r\n",
      "      (gcd b (remainder a b))\r\n",
      "  )\r\n",
      ")\r\n"
     ]
    }
   ],
   "source": [
    "cat 1.2/gcd_by_Euclid_Algorithm.scm"
   ]
  },
  {
   "cell_type": "raw",
   "metadata": {},
   "source": [
    "Running Instance:\n",
    "\n",
    "1 ]=> (load \"1.2/gcd_by_Euclid_Algorithm.scm\")\n",
    "\n",
    ";Loading \"1.2/gcd_by_Euclid_Algorithm.scm\"... done\n",
    ";Value: gcd\n",
    "\n",
    "1 ]=> (gcd 206 40)\n",
    "\n",
    ";Value: 2"
   ]
  },
  {
   "cell_type": "markdown",
   "metadata": {},
   "source": [
    "#### Python2.7"
   ]
  },
  {
   "cell_type": "code",
   "execution_count": 7,
   "metadata": {
    "collapsed": false
   },
   "outputs": [
    {
     "data": {
      "text/plain": [
       "2"
      ]
     },
     "execution_count": 7,
     "metadata": {},
     "output_type": "execute_result"
    }
   ],
   "source": [
    "def gcd(a, b):\n",
    "    if 0 == b:\n",
    "        return a\n",
    "    else:\n",
    "        return gcd(b, a % b)\n",
    "    \n",
    "gcd(206, 40)"
   ]
  },
  {
   "cell_type": "markdown",
   "metadata": {},
   "source": [
    "### Exercise 1.20: \n",
    "The process that a procedure generates is of course dependent on the rules used by the interpreter.As an example, consider the iterative gcd procedure given above. Suppose we were to interpret this procedure using normal-order evaluation, as discussed in Section 1.1.5. (The normal-order-evaluation rule for if is described in Exercise 1.5.) Using the substitution method (for normal order), illustrate the process generated in evaluating (gcd 206 40) and indicate the remainder operations that are actually performed. How many remainder operations are actually performed in the normal-order evaluation of (gcd 206 40)? In the applicative-order evaluation?"
   ]
  },
  {
   "cell_type": "markdown",
   "metadata": {},
   "source": [
    "#### Interpreter execution process:"
   ]
  },
  {
   "cell_type": "raw",
   "metadata": {},
   "source": [
    "1 ]=> (load \"1.2/gcd_by_Euclid_Algorithm.scm\")\n",
    "\n",
    ";Loading \"1.2/gcd_by_Euclid_Algorithm.scm\"... done\n",
    ";Value: gcd\n",
    "\n",
    "1 ]=> (trace-entry gcd)\n",
    "\n",
    ";Unspecified return value\n",
    "\n",
    "1 ]=> (trace-entry remainder)\n",
    "\n",
    ";Unspecified return value\n",
    "\n",
    "1 ]=> (gcd 206 40)\n",
    "\n",
    "[Entering #[compound-procedure 16 gcd]\n",
    "    Args: 206\n",
    "        40]\n",
    "[Entering #[compound-procedure 16 gcd]\n",
    "    Args: 40\n",
    "        6]\n",
    "[Entering #[compound-procedure 16 gcd]\n",
    "    Args: 6\n",
    "        4]\n",
    "[Entering #[compound-procedure 16 gcd]\n",
    "    Args: 4\n",
    "        2]\n",
    "[Entering #[compound-procedure 16 gcd]\n",
    "    Args: 2\n",
    "        0]\n",
    ";Value: 2"
   ]
  },
  {
   "cell_type": "markdown",
   "metadata": {},
   "source": [
    "#### applicative-order evaluation"
   ]
  },
  {
   "cell_type": "raw",
   "metadata": {},
   "source": [
    "(gcd 206 40)\n",
    "(gcd 40 6)      ; (gcd 40 (remainder 206 40)\n",
    "(gcd 6 4)       ; (gcd 6 (remainder 40 6))\n",
    "(gcd 4 2)       ; (gcd 4 (remainder 6 4))\n",
    "(gcd 2 0)       ; (gcd 2 (remainder 2 2))\n",
    "2\n",
    "\n",
    "(gcd 206 40) 共使用 5 次 remainder 调用"
   ]
  },
  {
   "cell_type": "markdown",
   "metadata": {},
   "source": [
    "#### normal-order evaluation"
   ]
  },
  {
   "cell_type": "raw",
   "metadata": {},
   "source": [
    "(gcd 206 40)\n",
    "\n",
    "(gcd 40 (remainder 206 40)) ; a = 40, b = 6, t1 = (remainder 206 40)\n",
    "\n",
    "(if (= t1 0) ...)   ; #f\n",
    "\n",
    "(gcd t1 (remainder 40 t1))  ; a = 6, b = 4, t2 = (remainder 40 t1)\n",
    "\n",
    "(if (= t2 0) ...)   ; #f\n",
    "\n",
    "(gcd t2 (remainder t1 t2))  ; a = 4, b = 2, t3 = (remainder t1 t2)\n",
    "\n",
    "(if (= t3 0) ...)   ; #f\n",
    "\n",
    "(gcd t3 (remainder t2 t3))  ; a = 2, b = 0, t4 = (remainder t2 t3)\n",
    "\n",
    "(if (= t4 0) ...)   ; #t\n",
    "\n",
    "t3\n",
    "\n",
    "(remainder t1 t2)\n",
    "\n",
    "(remainder t1\n",
    "           (remainder 40 t1))   ; t2\n",
    "\n",
    "(remainder t1\n",
    "           (remainder 40\n",
    "                      (remainder 206 40)))    ; t1\n",
    "\n",
    "(remainder t1\n",
    "           (remainder 40 6))\n",
    "\n",
    "(remainder t1 4)\n",
    "\n",
    "(remainder (remainder 206 40)   ; t1\n",
    "           4)\n",
    "\n",
    "(remainder 6 4)\n",
    "\n",
    "2"
   ]
  },
  {
   "cell_type": "markdown",
   "metadata": {},
   "source": [
    "## 1.2.6 Example: Testing for Primality"
   ]
  },
  {
   "cell_type": "markdown",
   "metadata": {},
   "source": [
    "### A.Searching for divisors"
   ]
  },
  {
   "cell_type": "code",
   "execution_count": null,
   "metadata": {
    "collapsed": true
   },
   "outputs": [],
   "source": []
  },
  {
   "cell_type": "code",
   "execution_count": null,
   "metadata": {
    "collapsed": true
   },
   "outputs": [],
   "source": []
  },
  {
   "cell_type": "code",
   "execution_count": null,
   "metadata": {
    "collapsed": true
   },
   "outputs": [],
   "source": []
  },
  {
   "cell_type": "code",
   "execution_count": null,
   "metadata": {
    "collapsed": true
   },
   "outputs": [],
   "source": []
  },
  {
   "cell_type": "code",
   "execution_count": null,
   "metadata": {
    "collapsed": true
   },
   "outputs": [],
   "source": []
  }
 ],
 "metadata": {
  "kernelspec": {
   "display_name": "Python [Root]",
   "language": "python",
   "name": "Python [Root]"
  },
  "language_info": {
   "codemirror_mode": {
    "name": "ipython",
    "version": 2
   },
   "file_extension": ".py",
   "mimetype": "text/x-python",
   "name": "python",
   "nbconvert_exporter": "python",
   "pygments_lexer": "ipython2",
   "version": "2.7.12"
  }
 },
 "nbformat": 4,
 "nbformat_minor": 0
}
