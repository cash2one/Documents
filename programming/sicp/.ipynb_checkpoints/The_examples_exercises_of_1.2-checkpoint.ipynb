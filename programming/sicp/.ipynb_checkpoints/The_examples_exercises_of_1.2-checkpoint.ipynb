{
 "cells": [
  {
   "cell_type": "markdown",
   "metadata": {},
   "source": [
    "## 1.2.1 Linear Recursion and Iteration"
   ]
  },
  {
   "cell_type": "markdown",
   "metadata": {},
   "source": [
    "### Example 1: compute factorials"
   ]
  },
  {
   "cell_type": "raw",
   "metadata": {},
   "source": [
    "Mathematical Expression of the Factorial Function：\n",
    "\n",
    "    n! = n \u0001 (n - 1) \u0001 (n - 2) \u0001 \u0001 \u0001 3 \u0001 2 \u0001 1\n",
    "    "
   ]
  },
  {
   "cell_type": "markdown",
   "metadata": {},
   "source": [
    "#### A-1.The recursive process described by mit-scheme from 1.2/factorial_by_recursion.scm"
   ]
  },
  {
   "cell_type": "code",
   "execution_count": 1,
   "metadata": {
    "collapsed": false,
    "scrolled": true
   },
   "outputs": [
    {
     "name": "stdout",
     "output_type": "stream",
     "text": [
      "(define (factorial n)\r\n",
      "  (if (= n 1)\r\n",
      "      1\r\n",
      "      (* n (factorial (- n 1)))\r\n",
      "  )\r\n",
      ")\r\n"
     ]
    }
   ],
   "source": [
    "cat 1.2/factorial_by_recursion.scm"
   ]
  },
  {
   "cell_type": "raw",
   "metadata": {},
   "source": [
    "A.Running Instance:\n",
    "\n",
    "1 ]=> (load \"1.2/factorial_by_recursion.scm\")\n",
    "\n",
    ";Loading \"1.2/factorial_by_recursion.scm\"... done\n",
    ";Value: factorial\n",
    "\n",
    "1 ]=> (factorial 6)\n",
    "\n",
    ";Value: 720\n",
    "\n",
    "B.The procedure in action computing 6!\n",
    "\n",
    "(factorial 6)\n",
    "(* 6 (factorial 5))\n",
    "(* 6 (* 5 (factorial 4)))\n",
    "(* 6 (* 5 (* 4 (factorial 3))))\n",
    "(* 6 (* 5 (* 4 (* 3 (factorial 2)))))\n",
    "(* 6 (* 5 (* 4 (* 3 (* 2 (factorial 1))))))\n",
    "(* 6 (* 5 (* 4 (* 3 (* 2 1)))))\n",
    "(* 6 (* 5 (* 4 (* 3 2))))\n",
    "(* 6 (* 5 (* 4 6)))\n",
    "(* 6 (* 5 24))\n",
    "(* 6 120)\n",
    "720"
   ]
  },
  {
   "cell_type": "markdown",
   "metadata": {},
   "source": [
    "#### A-2.The recursive process described by python2.7"
   ]
  },
  {
   "cell_type": "code",
   "execution_count": 2,
   "metadata": {
    "collapsed": false
   },
   "outputs": [
    {
     "data": {
      "text/plain": [
       "720"
      ]
     },
     "execution_count": 2,
     "metadata": {},
     "output_type": "execute_result"
    }
   ],
   "source": [
    "def factorial(n):\n",
    "    if 1 == n:\n",
    "        return 1\n",
    "    return n * factorial(n-1)\n",
    "\n",
    "factorial(6)"
   ]
  },
  {
   "cell_type": "markdown",
   "metadata": {},
   "source": [
    "#### B-1.The iterative process described by mit-scheme from 1.2/factorial_by_iteration.scm"
   ]
  },
  {
   "cell_type": "code",
   "execution_count": 4,
   "metadata": {
    "collapsed": false,
    "scrolled": true
   },
   "outputs": [
    {
     "name": "stdout",
     "output_type": "stream",
     "text": [
      "(define (factorial n)\r\n",
      "  (fact-iter 1 1 n)\r\n",
      ")\r\n",
      "\r\n",
      "(define (fact-iter product counter max-count)\r\n",
      "  (if (> counter max-count)\r\n",
      "      product\r\n",
      "      (fact-iter (* counter product)\r\n",
      "                 (+ counter 1)\r\n",
      "                  max-count\r\n",
      "      )\r\n",
      "  )\r\n",
      ")\r\n"
     ]
    }
   ],
   "source": [
    "cat 1.2/factorial_by_iteration.scm"
   ]
  },
  {
   "cell_type": "raw",
   "metadata": {},
   "source": [
    "A.Running Instance:\n",
    "\n",
    "1 ]=> (load \"1.2/factorial_by_iteration.scm\")\n",
    "\n",
    ";Loading \"1.2/factorial_by_iteration.scm\"... done\n",
    ";Value: fact-iter\n",
    "\n",
    "1 ]=> (factorial 6)\n",
    "\n",
    ";Value: 720\n",
    "\n",
    "B.The procedure in action computing 6!\n",
    "\n",
    "(factorial 6)\n",
    "(fact-iter 1 1 6)\n",
    "(fact-iter 1 2 6)\n",
    "(fact-iter 2 3 6)\n",
    "(fact-iter 6 4 6)\n",
    "(fact-iter 24 5 6)\n",
    "(fact-iter 120 6 6)\n",
    "(fact-iter 720 7 6)\n",
    "720"
   ]
  },
  {
   "cell_type": "markdown",
   "metadata": {},
   "source": [
    "#### B-2.The iterative process described by python2.7"
   ]
  },
  {
   "cell_type": "code",
   "execution_count": 7,
   "metadata": {
    "collapsed": false
   },
   "outputs": [
    {
     "data": {
      "text/plain": [
       "720"
      ]
     },
     "execution_count": 7,
     "metadata": {},
     "output_type": "execute_result"
    }
   ],
   "source": [
    "# basic\n",
    "def factorial(n):\n",
    "    product = 1\n",
    "    for counter in range(1,n+1):\n",
    "        product *= counter\n",
    "    return product\n",
    "\n",
    "factorial(6)"
   ]
  },
  {
   "cell_type": "code",
   "execution_count": 8,
   "metadata": {
    "collapsed": false
   },
   "outputs": [
    {
     "data": {
      "text/plain": [
       "720"
      ]
     },
     "execution_count": 8,
     "metadata": {},
     "output_type": "execute_result"
    }
   ],
   "source": [
    "# advanced\n",
    "def factorial(n):\n",
    "    return reduce(lambda x, y: x*y, xrange(1, n+1))\n",
    "\n",
    "factorial(6)"
   ]
  },
  {
   "cell_type": "code",
   "execution_count": 11,
   "metadata": {
    "collapsed": false
   },
   "outputs": [
    {
     "data": {
      "text/plain": [
       "720"
      ]
     },
     "execution_count": 11,
     "metadata": {},
     "output_type": "execute_result"
    }
   ],
   "source": [
    "# look like Recursive process\n",
    "def factorial(n):\n",
    "    return fact_iter(1, 1, n)\n",
    "\n",
    "def fact_iter(product, counter, max_count):\n",
    "    if counter > max_count:\n",
    "        return product\n",
    "    else:\n",
    "        return fact_iter(counter*product, counter+1, max_count)\n",
    "    \n",
    "factorial(6)"
   ]
  },
  {
   "cell_type": "markdown",
   "metadata": {
    "collapsed": true
   },
   "source": [
    "### Exercise 1.9: \n",
    "Each of the following two procedures defines a method for adding two positive integers in terms of the procedures inc, which increments its argument by 1, and dec, which decrements its argument by 1."
   ]
  },
  {
   "cell_type": "raw",
   "metadata": {},
   "source": [
    "(define (+ a b)\n",
    "  (if (= a 0) b (inc (+ (dec a) b))))\n",
    "\n",
    "(define (+ a b)\n",
    "  (if (= a 0) b (+ (dec a) (inc b))))"
   ]
  },
  {
   "cell_type": "markdown",
   "metadata": {},
   "source": [
    "Using the substitution model, illustrate the process generated by each procedure in \n",
    "evaluating (+ 4 5). Are these processes iterative or recursive?"
   ]
  },
  {
   "cell_type": "raw",
   "metadata": {},
   "source": [
    "(define (+ a b)\n",
    "  (if (= a 0) \n",
    "     b \n",
    "     (inc (+ (dec a) b))\n",
    "  )\n",
    ")\n",
    "\n",
    "Because:\n",
    "\n",
    "(+ 4 5)\n",
    "(1 + (+ 3 5))\n",
    "(1 + (1 + (+ 2 5)))\n",
    "(1 + (1 + (1 + (+ 1 5))))\n",
    "(1 + (1 + (1 + (1 + (+ 0 5)))))\n",
    "(1 + (1 + (1 + (1 + 5))))\n",
    "(1 + (1 + (1 + 6)))\n",
    "(1 + (1 + 7))\n",
    "(1 + 8)\n",
    "9\n",
    "\n",
    "So,this process is recursive."
   ]
  },
  {
   "cell_type": "raw",
   "metadata": {},
   "source": [
    "(define (+ a b)\n",
    "  (if (= a 0) \n",
    "     b \n",
    "     (+ (dec a) (inc b))\n",
    "  )\n",
    ")\n",
    "\n",
    "Because:\n",
    "\n",
    "(+ 4 5)\n",
    "(+ 3 6)\n",
    "(+ 2 7)\n",
    "(+ 1 8)\n",
    "(+ 0 9)\n",
    "9\n",
    "\n",
    "So,this process is iterative."
   ]
  },
  {
   "cell_type": "markdown",
   "metadata": {},
   "source": [
    "### Exercise 1.10: \n",
    "The following procedure computes a mathematical function called Ackermann’s function."
   ]
  },
  {
   "cell_type": "raw",
   "metadata": {},
   "source": [
    "(define (A x y)\n",
    "  (cond ((= y 0) 0)\n",
    "      ((= x 0) (* 2 y))\n",
    "      ((= y 1) 2)\n",
    "      (else (A (- x 1) (A x (- y 1))))\n",
    "  )\n",
    ")"
   ]
  },
  {
   "cell_type": "markdown",
   "metadata": {},
   "source": [
    "What are the values of the following expressions?  \n",
    "(A 1 10)  \n",
    "(A 2 4)  \n",
    "(A 3 3)  "
   ]
  },
  {
   "cell_type": "raw",
   "metadata": {},
   "source": [
    "(A 1 10)\n",
    "(A 0 (A 1 9))\n",
    "(2 * (A 0 (A 1 8)))\n",
    "(2 * (2 * (A 0 (A 1 7))))\n",
    "(2 * (2 * (2 * (A 0 (A 1 6)))))\n",
    "(2 * (2 * (2 * (2 * (A 0 (A 1 5))))))\n",
    "(2 * (2 * (2 * (2 * (2 * (A 0 (A 1 4)))))))\n",
    "(2 * (2 * (2 * (2 * (2 * (2 * (A 0 (A 1 3))))))))\n",
    "(2 * (2 * (2 * (2 * (2 * (2 * (2 * (A 0 (A 1 2)))))))))\n",
    "(2 * (2 * (2 * (2 * (2 * (2 * (2 * (2 * (A 0 A(1 1))))))))))\n",
    "(2 * (2 * (2 * (2 * (2 * (2 * (2 * (2 * (2 * 2)))))))))\n",
    "(2 * (2 * (2 * (2 * (2 * (2 * (2 * (2 * 4))))))))\n",
    "(2 * (2 * (2 * (2 * (2 * (2 * (2 * 8)))))))\n",
    "(2 * (2 * (2 * (2 * (2 * (2 * 16))))))\n",
    "(2 * (2 * (2 * (2 * (2 * 32)))))\n",
    "(2 * (2 * (2 * (2 * 64))))\n",
    "(2 * (2 * (2 * 128)))\n",
    "(2 * (2 * 256))\n",
    "(2 * 512)\n",
    "1024=2^10\n",
    "\n",
    "So,\n",
    "(A 1 n)=2^n"
   ]
  },
  {
   "cell_type": "raw",
   "metadata": {},
   "source": [
    "(A 2 4)\n",
    "(A 1 (A 2 3))\n",
    "(A 1 (A 1 (A 2 2)))\n",
    "(A 1 (A 1 (A 1 (A 2 1))))  ==> (A 2 1)=2\n",
    "(A 1 (A 1 (A 1 2)))      ==> (A 1 2)=2^2\n",
    "(A 1 (A 1 4))          ==> (A 1 4)=2^4\n",
    "(A 1 16)             ==> (A 1 16)=2^16\n",
    "2^16=2^2^4\n",
    "\n",
    "So,\n",
    "(A 2 n)=2^2^n"
   ]
  },
  {
   "cell_type": "raw",
   "metadata": {},
   "source": [
    "(A 3 3)\n",
    "(A 2 (A 3 2))\n",
    "(A 2 (A 2 (A 3 1)))     ==> (A 3 1)=2\n",
    "(A 2 (A 2 2))         ==> (A 2 2)=2^2^2\n",
    "(A 2 8)\n",
    "2^2^8=2^2^2^3\n",
    "\n",
    "So,\n",
    "(A 3 n)=2^2^2^n"
   ]
  },
  {
   "cell_type": "markdown",
   "metadata": {},
   "source": [
    "Consider the following procedures, where A is the procedure defined above:  \n",
    "(define (f n) (A 0 n))  \n",
    "(define (g n) (A 1 n))  \n",
    "(define (h n) (A 2 n))  \n",
    "(define (k n) (* 5 n n))  "
   ]
  },
  {
   "cell_type": "markdown",
   "metadata": {},
   "source": [
    "Give concise mathematical definitions for the functions computed by the procedures f, g, and h for positive integer values of n. For example, (k n) computes 5n^2."
   ]
  },
  {
   "cell_type": "raw",
   "metadata": {},
   "source": [
    "(define (f n) (A 0 n))\n",
    "f(n)=2n"
   ]
  },
  {
   "cell_type": "raw",
   "metadata": {},
   "source": [
    "(define (g n) (A 1 n))\n",
    "g(n)=2^n"
   ]
  },
  {
   "cell_type": "raw",
   "metadata": {},
   "source": [
    "(define (h n) (A 2 n))\n",
    "h(n)=2^2^n"
   ]
  },
  {
   "cell_type": "markdown",
   "metadata": {},
   "source": [
    "## 1.2.2 Tree Recursion"
   ]
  },
  {
   "cell_type": "markdown",
   "metadata": {},
   "source": [
    "### Example 2: compute Fibonacci numbers"
   ]
  },
  {
   "cell_type": "raw",
   "metadata": {},
   "source": [
    "Mathematical Expression of Fibonacci numbers:\n",
    "\n",
    "    0, 1, 1, 2, 3, 5, 8, 13, 21, ....\n"
   ]
  },
  {
   "cell_type": "markdown",
   "metadata": {},
   "source": [
    "#### A-1.The recursive process described by mit-scheme from 1.2/fibonacci_by_recursion.scm"
   ]
  },
  {
   "cell_type": "code",
   "execution_count": 2,
   "metadata": {
    "collapsed": false
   },
   "outputs": [
    {
     "name": "stdout",
     "output_type": "stream",
     "text": [
      "(define (fib n)\r\n",
      "  (cond ((= n 0) 0)\r\n",
      "        ((= n 1) 1)\r\n",
      "        (else (+ (fib (- n 1))\r\n",
      "                 (fib (- n 2))\r\n",
      "              )\r\n",
      "        )\r\n",
      "  )\r\n",
      ")\r\n"
     ]
    }
   ],
   "source": [
    "cat 1.2/fibonacci_by_recursion.scm"
   ]
  },
  {
   "cell_type": "raw",
   "metadata": {},
   "source": [
    "Running Instance:\n",
    "\n",
    "1 ]=> (load \"1.2/fibonacci_by_recursion.scm\")\n",
    "\n",
    ";Loading \"1.2/fibonacci_by_recursion.scm\"... done\n",
    ";Value: fib\n",
    "\n",
    "1 ]=> (fib 20)\n",
    "\n",
    ";Value: 6765"
   ]
  },
  {
   "cell_type": "markdown",
   "metadata": {},
   "source": [
    "#### A-2.The recursive process described by python2.7"
   ]
  },
  {
   "cell_type": "code",
   "execution_count": 3,
   "metadata": {
    "collapsed": false
   },
   "outputs": [
    {
     "data": {
      "text/plain": [
       "6765"
      ]
     },
     "execution_count": 3,
     "metadata": {},
     "output_type": "execute_result"
    }
   ],
   "source": [
    "def fib(n):\n",
    "    if 0 == n:\n",
    "        return 0\n",
    "    elif 1 == n:\n",
    "        return 1\n",
    "    else:\n",
    "        return fib(n-1) + fib(n-2)\n",
    "    \n",
    "fib(20)"
   ]
  },
  {
   "cell_type": "markdown",
   "metadata": {},
   "source": [
    "#### B-1.The iterative process described by mit-scheme from 1.2/fibonacci_by_iteration.scm"
   ]
  },
  {
   "cell_type": "code",
   "execution_count": 11,
   "metadata": {
    "collapsed": false
   },
   "outputs": [
    {
     "name": "stdout",
     "output_type": "stream",
     "text": [
      "(define (fib_iter a b count)\r\n",
      "  (if (= count 0)\r\n",
      "      b\r\n",
      "      (fib_iter (+ a b) a (- count 1))\r\n",
      "  )\r\n",
      ")\r\n",
      "\r\n",
      "(define (fib n)\r\n",
      "  (fib_iter 1 0 n)\r\n",
      ")\r\n"
     ]
    }
   ],
   "source": [
    "cat 1.2/fibonacci_by_iteration.scm"
   ]
  },
  {
   "cell_type": "raw",
   "metadata": {},
   "source": [
    "Running Instance:\n",
    "\n",
    "1 ]=> (load \"1.2/fibonacci_by_iteration.scm\")\n",
    "\n",
    ";Loading \"1.2/fibonacci_by_iteration.scm\"... done\n",
    ";Value: fib\n",
    "\n",
    "1 ]=> (fib 20)\n",
    "\n",
    ";Value: 6765"
   ]
  },
  {
   "cell_type": "markdown",
   "metadata": {},
   "source": [
    "#### B-2.The iterative process described by python2.7"
   ]
  },
  {
   "cell_type": "code",
   "execution_count": 5,
   "metadata": {
    "collapsed": false
   },
   "outputs": [
    {
     "data": {
      "text/plain": [
       "6765"
      ]
     },
     "execution_count": 5,
     "metadata": {},
     "output_type": "execute_result"
    }
   ],
   "source": [
    "# basic\n",
    "def fib(n):\n",
    "    a, b = 1, 0\n",
    "    for i in xrange(1,n+1):\n",
    "        a, b = a+b, a\n",
    "    return b\n",
    "\n",
    "fib(20)"
   ]
  },
  {
   "cell_type": "code",
   "execution_count": 2,
   "metadata": {
    "collapsed": false
   },
   "outputs": [
    {
     "data": {
      "text/plain": [
       "6765"
      ]
     },
     "execution_count": 2,
     "metadata": {},
     "output_type": "execute_result"
    }
   ],
   "source": [
    "# look like Recursive process\n",
    "def fib(n):\n",
    "    return fib_iter(1, 0, n)\n",
    "\n",
    "def fib_iter(a, b, count):\n",
    "    if 0 == count:\n",
    "        return b\n",
    "    else:\n",
    "        return fib_iter(a+b, a, count-1)\n",
    "\n",
    "fib(20)"
   ]
  },
  {
   "cell_type": "code",
   "execution_count": 6,
   "metadata": {
    "collapsed": false
   },
   "outputs": [
    {
     "ename": "RuntimeError",
     "evalue": "maximum recursion depth exceeded",
     "output_type": "error",
     "traceback": [
      "\u001b[1;31m---------------------------------------------------------------------------\u001b[0m",
      "\u001b[1;31mRuntimeError\u001b[0m                              Traceback (most recent call last)",
      "\u001b[1;32m<ipython-input-6-0034b0f1a990>\u001b[0m in \u001b[0;36m<module>\u001b[1;34m()\u001b[0m\n\u001b[1;32m----> 1\u001b[1;33m \u001b[0mfib\u001b[0m\u001b[1;33m(\u001b[0m\u001b[1;36m1000\u001b[0m\u001b[1;33m)\u001b[0m\u001b[1;33m\u001b[0m\u001b[0m\n\u001b[0m",
      "\u001b[1;32m<ipython-input-2-9ad09d4f3531>\u001b[0m in \u001b[0;36mfib\u001b[1;34m(n)\u001b[0m\n\u001b[0;32m      1\u001b[0m \u001b[1;31m# look like Recursive process\u001b[0m\u001b[1;33m\u001b[0m\u001b[1;33m\u001b[0m\u001b[0m\n\u001b[0;32m      2\u001b[0m \u001b[1;32mdef\u001b[0m \u001b[0mfib\u001b[0m\u001b[1;33m(\u001b[0m\u001b[0mn\u001b[0m\u001b[1;33m)\u001b[0m\u001b[1;33m:\u001b[0m\u001b[1;33m\u001b[0m\u001b[0m\n\u001b[1;32m----> 3\u001b[1;33m     \u001b[1;32mreturn\u001b[0m \u001b[0mfib_iter\u001b[0m\u001b[1;33m(\u001b[0m\u001b[1;36m1\u001b[0m\u001b[1;33m,\u001b[0m \u001b[1;36m0\u001b[0m\u001b[1;33m,\u001b[0m \u001b[0mn\u001b[0m\u001b[1;33m)\u001b[0m\u001b[1;33m\u001b[0m\u001b[0m\n\u001b[0m\u001b[0;32m      4\u001b[0m \u001b[1;33m\u001b[0m\u001b[0m\n\u001b[0;32m      5\u001b[0m \u001b[1;32mdef\u001b[0m \u001b[0mfib_iter\u001b[0m\u001b[1;33m(\u001b[0m\u001b[0ma\u001b[0m\u001b[1;33m,\u001b[0m \u001b[0mb\u001b[0m\u001b[1;33m,\u001b[0m \u001b[0mcount\u001b[0m\u001b[1;33m)\u001b[0m\u001b[1;33m:\u001b[0m\u001b[1;33m\u001b[0m\u001b[0m\n",
      "\u001b[1;32m<ipython-input-2-9ad09d4f3531>\u001b[0m in \u001b[0;36mfib_iter\u001b[1;34m(a, b, count)\u001b[0m\n\u001b[0;32m      7\u001b[0m         \u001b[1;32mreturn\u001b[0m \u001b[0mb\u001b[0m\u001b[1;33m\u001b[0m\u001b[0m\n\u001b[0;32m      8\u001b[0m     \u001b[1;32melse\u001b[0m\u001b[1;33m:\u001b[0m\u001b[1;33m\u001b[0m\u001b[0m\n\u001b[1;32m----> 9\u001b[1;33m         \u001b[1;32mreturn\u001b[0m \u001b[0mfib_iter\u001b[0m\u001b[1;33m(\u001b[0m\u001b[0ma\u001b[0m\u001b[1;33m+\u001b[0m\u001b[0mb\u001b[0m\u001b[1;33m,\u001b[0m \u001b[0ma\u001b[0m\u001b[1;33m,\u001b[0m \u001b[0mcount\u001b[0m\u001b[1;33m-\u001b[0m\u001b[1;36m1\u001b[0m\u001b[1;33m)\u001b[0m\u001b[1;33m\u001b[0m\u001b[0m\n\u001b[0m\u001b[0;32m     10\u001b[0m \u001b[1;33m\u001b[0m\u001b[0m\n\u001b[0;32m     11\u001b[0m \u001b[0mfib\u001b[0m\u001b[1;33m(\u001b[0m\u001b[1;36m20\u001b[0m\u001b[1;33m)\u001b[0m\u001b[1;33m\u001b[0m\u001b[0m\n",
      "... last 1 frames repeated, from the frame below ...\n",
      "\u001b[1;32m<ipython-input-2-9ad09d4f3531>\u001b[0m in \u001b[0;36mfib_iter\u001b[1;34m(a, b, count)\u001b[0m\n\u001b[0;32m      7\u001b[0m         \u001b[1;32mreturn\u001b[0m \u001b[0mb\u001b[0m\u001b[1;33m\u001b[0m\u001b[0m\n\u001b[0;32m      8\u001b[0m     \u001b[1;32melse\u001b[0m\u001b[1;33m:\u001b[0m\u001b[1;33m\u001b[0m\u001b[0m\n\u001b[1;32m----> 9\u001b[1;33m         \u001b[1;32mreturn\u001b[0m \u001b[0mfib_iter\u001b[0m\u001b[1;33m(\u001b[0m\u001b[0ma\u001b[0m\u001b[1;33m+\u001b[0m\u001b[0mb\u001b[0m\u001b[1;33m,\u001b[0m \u001b[0ma\u001b[0m\u001b[1;33m,\u001b[0m \u001b[0mcount\u001b[0m\u001b[1;33m-\u001b[0m\u001b[1;36m1\u001b[0m\u001b[1;33m)\u001b[0m\u001b[1;33m\u001b[0m\u001b[0m\n\u001b[0m\u001b[0;32m     10\u001b[0m \u001b[1;33m\u001b[0m\u001b[0m\n\u001b[0;32m     11\u001b[0m \u001b[0mfib\u001b[0m\u001b[1;33m(\u001b[0m\u001b[1;36m20\u001b[0m\u001b[1;33m)\u001b[0m\u001b[1;33m\u001b[0m\u001b[0m\n",
      "\u001b[1;31mRuntimeError\u001b[0m: maximum recursion depth exceeded"
     ]
    }
   ],
   "source": [
    "fib(1000)"
   ]
  },
  {
   "cell_type": "code",
   "execution_count": 6,
   "metadata": {
    "collapsed": false
   },
   "outputs": [
    {
     "data": {
      "text/plain": [
       "33644764876431783266621612005107543310302148460680063906564769974680081442166662368155595513633734025582065332680836159373734790483865268263040892463056431887354544369559827491606602099884183933864652731300088830269235673613135117579297437854413752130520504347701602264758318906527890855154366159582987279682987510631200575428783453215515103870818298969791613127856265033195487140214287532698187962046936097879900350962302291026368131493195275630227837628441540360584402572114334961180023091208287046088923962328835461505776583271252546093591128203925285393434620904245248929403901706233888991085841065183173360437470737908552631764325733993712871937587746897479926305837065742830161637408969178426378624212835258112820516370298089332099905707920064367426202389783111470054074998459250360633560933883831923386783056136435351892133279732908133732642652633989763922723407882928177953580570993691049175470808931841056146322338217465637321248226383092103297701648054726243842374862411453093812206564914032751086643394517512161526545361333111314042436854805106765843493523836959653428071768775328348234345557366719731392746273629108210679280784718035329131176778924659089938635459327894523777674406192240337638674004021330343297496902028328145933418826817683893072003634795623117103101291953169794607632737589253530772552375943788434504067715555779056450443016640119462580972216729758615026968443146952034614932291105970676243268515992834709891284706740862008587135016260312071903172086094081298321581077282076353186624611278245537208532365305775956430072517744315051539600905168603220349163222640885248852433158051534849622434848299380905070483482449327453732624567755879089187190803662058009594743150052402532709746995318770724376825907419939632265984147498193609285223945039707165443156421328157688908058783183404917434556270520223564846495196112460268313970975069382648706613264507665074611512677522748621598642530711298441182622661057163515069260029861704945425047491378115154139941550671256271197133252763631939606902895650288268608362241082050562430701794976171121233066073310059947366875L"
      ]
     },
     "execution_count": 6,
     "metadata": {},
     "output_type": "execute_result"
    }
   ],
   "source": [
    "# Effective iterative process\n",
    "def fib(n):\n",
    "    f = [0, 1, 1]\n",
    "    for i in xrange(3, n+1):\n",
    "        f.append(f[i-1] + f[i-2])\n",
    "    return f[-1]\n",
    "\n",
    "fib(10000)"
   ]
  },
  {
   "cell_type": "code",
   "execution_count": 34,
   "metadata": {
    "collapsed": false
   },
   "outputs": [
    {
     "data": {
      "text/plain": [
       "6765"
      ]
     },
     "execution_count": 34,
     "metadata": {},
     "output_type": "execute_result"
    }
   ],
   "source": [
    "# use generators of python\n",
    "def fib():\n",
    "    a, b = 1, 0\n",
    "    while True:\n",
    "        yield a\n",
    "        a, b = a + b, a\n",
    "        \n",
    "#seems to be the only way to get the following line to work is to\n",
    "#assign the infinite generator to a variable\n",
    "fibs = fib()\n",
    "[fibs.next() for x in xrange(20)][-1]"
   ]
  },
  {
   "cell_type": "code",
   "execution_count": 36,
   "metadata": {
    "collapsed": false
   },
   "outputs": [
    {
     "data": {
      "text/plain": [
       "49466428200741441727778843779387642090660059160914700973290467061964890041589920915144112170435735646884800093207203605550831436481833777136902657009777357496859642440691630254138870099858751673615278775320728076967578694548438224718915387534325566006149474216159926287500875862062158449075601061614731664670284907731152304606359634597817666785853515418225419932560854463630725095087771461879434637790506421705494123998177927791465089655158238847488789944829704583209349921332209727835015000763082236756950492325976522211461823218701996401747541360980554034962268322595646237737732004665792624950151958619391958933600128406770240265507266562578916700163014230659851034813111463825735324411887335501190211768607487766071193240392759084563576849401889228105591742077047950384969904092985591356781215080627157133151994981750363247670267871998605464660997641878635505833887551467433425487770159182353363201374830357360305380180745458636877623684983965431308270814945343652397825719150911889005946486000745157854127607031562248767000349116432636691672928148782579615200576705174832787895873924176939325536122318280166367191292623198254816459447272626706057898186309892657328824335668394653829389355309798381707242465305347322911670605011301107608907492884511980939243967399557709949984975280783814690801068414840164845986937372023976783987896374228909569543548515831956598979425900780175947025005200297523457603744098854249974131805456217937420829619872619398911053135802926983191395368098789161675551360679899158001113824929807577894172341832942745526783599168224593596893163794689951826301637905996138528069570852289425230203567044590641309882110099040824031568061113457720740156115137687380544718611582995300030225559790374197157088672407851358655855477278500061477531948781367504224888965648617801004321773373973371321501807163153437379368921028134082590424347621818540210288893092180301985781621319081635004637368544791236174108788123672578401222644944835245432108171565594767135171398798842881385518670938579659499357573397537610578689467946994833968835936002419948762694253815482536386617426557784409063762216224038294723519197155464944617172293396872266283179277302008050207775246162399958316688877768332528350536024836837366539600917774348597266401776210382626781889810749827982455677318071333602515L"
      ]
     },
     "execution_count": 36,
     "metadata": {},
     "output_type": "execute_result"
    }
   ],
   "source": [
    "[fibs.next() for x in xrange(10000)][-1]"
   ]
  },
  {
   "cell_type": "code",
   "execution_count": 38,
   "metadata": {
    "collapsed": false
   },
   "outputs": [
    {
     "data": {
      "text/plain": [
       "6764"
      ]
     },
     "execution_count": 38,
     "metadata": {},
     "output_type": "execute_result"
    }
   ],
   "source": [
    "# use generators to iteratively return \n",
    "# the sum of the first n Fibonacci numbers, starting from 0 \n",
    "\n",
    "def fib(n):\n",
    "    def fib_iter(n):\n",
    "        a, b = 1, 0\n",
    "        for _ in xrange(1,n):\n",
    "            yield b\n",
    "            a, b = a + b, a\n",
    "    return sum(v for v in fib_iter(n))\n",
    "\n",
    "fib(20)\n",
    "#format(fib(20), ',d')"
   ]
  },
  {
   "cell_type": "code",
   "execution_count": 14,
   "metadata": {
    "collapsed": false
   },
   "outputs": [
    {
     "name": "stdout",
     "output_type": "stream",
     "text": [
      "1\n",
      "1\n",
      "2\n",
      "3\n",
      "5\n",
      "8\n",
      "13\n",
      "21\n",
      "34\n",
      "55\n",
      "89\n",
      "144\n",
      "233\n",
      "377\n",
      "610\n",
      "987\n",
      "1597\n",
      "2584\n",
      "4181\n",
      "6765\n"
     ]
    }
   ],
   "source": [
    "# use generators of python compute Fibonacci sequence.\n",
    "def fib():\n",
    "    a, b = 1, 0\n",
    "    while True:\n",
    "        yield a\n",
    "        a, b = a + b, a\n",
    "        \n",
    "#seems to be the only way to get the following line to work is to\n",
    "#assign the infinite generator to a variable\n",
    "fibs = fib()\n",
    "f=[fibs.next() for x in xrange(20)]\n",
    "\n",
    "for num in f:\n",
    "    print num"
   ]
  },
  {
   "cell_type": "code",
   "execution_count": 16,
   "metadata": {
    "collapsed": false
   },
   "outputs": [
    {
     "data": {
      "text/plain": [
       "6765"
      ]
     },
     "execution_count": 16,
     "metadata": {},
     "output_type": "execute_result"
    }
   ],
   "source": [
    "# Fibonacci numbers can be computed in O(1) \n",
    "# by applying the Binet formula:\n",
    "\n",
    "from math import floor, sqrt\n",
    "\n",
    "def fib(n):                                                     \n",
    "    return int(floor(((1+sqrt(5))**n-(1-sqrt(5))**n)/(2**n*sqrt(5))+0.5))\n",
    "\n",
    "fib(20)"
   ]
  },
  {
   "cell_type": "markdown",
   "metadata": {},
   "source": [
    "### Example 3: Counting change"
   ]
  },
  {
   "cell_type": "markdown",
   "metadata": {},
   "source": [
    "#### A-1.The recursive process described by mit-scheme from 1.2/cc_by_recursion.scm"
   ]
  },
  {
   "cell_type": "code",
   "execution_count": 10,
   "metadata": {
    "collapsed": false
   },
   "outputs": [
    {
     "name": "stdout",
     "output_type": "stream",
     "text": [
      "(define (first_denomination kinds_of_coins)\r\n",
      "  (cond ((= kinds_of_coins 1) 1)\r\n",
      "        ((= kinds_of_coins 2) 5)\r\n",
      "        ((= kinds_of_coins 3) 10)\r\n",
      "        ((= kinds_of_coins 4) 25)\r\n",
      "        ((= kinds_of_coins 5) 50)\r\n",
      "  )\r\n",
      ")\r\n",
      "\r\n",
      "(define (cc amount kinds_of_coins)\r\n",
      "  (cond ((= amount 0) 1)\r\n",
      "        ((or (< amount 0) (= kinds_of_coins 0)) 0)\r\n",
      "        (else (+ (cc amount (- kinds_of_coins 1))\r\n",
      "                 (cc (- amount (first_denomination kinds_of_coins)) kinds_of_coins)\r\n",
      "              )\r\n",
      "        )\r\n",
      "  )\r\n",
      ")\r\n",
      "\r\n",
      "(define (count_change amount)\r\n",
      "  (cc amount 5)\r\n",
      ")\r\n"
     ]
    }
   ],
   "source": [
    "cat 1.2/cc_by_recursion.scm"
   ]
  },
  {
   "cell_type": "raw",
   "metadata": {},
   "source": [
    "Running Instance:\n",
    "\n",
    "1 ]=> (load \"1.2/cc_by_recursion.scm\")\n",
    "\n",
    ";Loading \"1.2/cc_by_recursion.scm\"... done\n",
    ";Value: count_change\n",
    "\n",
    "1 ]=> (count_change 100)\n",
    "\n",
    ";Value: 292"
   ]
  },
  {
   "cell_type": "markdown",
   "metadata": {},
   "source": [
    "#### A-2.The iterative process described by python2.7"
   ]
  },
  {
   "cell_type": "code",
   "execution_count": 1,
   "metadata": {
    "collapsed": false
   },
   "outputs": [
    {
     "data": {
      "text/plain": [
       "292"
      ]
     },
     "execution_count": 1,
     "metadata": {},
     "output_type": "execute_result"
    }
   ],
   "source": [
    "value_of_coins={1:1, 2:5, 3:10, 4:25, 5:50}\n",
    "\n",
    "def cc(amount,kinds_of_coins):\n",
    "    if 0 == amount:\n",
    "        return 1\n",
    "    elif amount < 0 or 0 == kinds_of_coins:\n",
    "        return 0\n",
    "    else:\n",
    "        return cc(amount, kinds_of_coins - 1) + \\\n",
    "                cc(amount - value_of_coins[kinds_of_coins], kinds_of_coins)\n",
    "\n",
    "def count_change(amount):\n",
    "    return cc(amount, 5)\n",
    "\n",
    "count_change(100)"
   ]
  },
  {
   "cell_type": "markdown",
   "metadata": {
    "collapsed": true
   },
   "source": [
    "### Challenge 1: \n",
    "How to design a better algorithm for computing the Counting change above?"
   ]
  },
  {
   "cell_type": "markdown",
   "metadata": {
    "collapsed": true
   },
   "source": [
    "### Exercise 1.11: \n",
    "A function f is defined by the rule that:  "
   ]
  },
  {
   "cell_type": "raw",
   "metadata": {
    "collapsed": true
   },
   "source": [
    "The f(n),if n<3,f(n)=n;howerve if n>=3,f(n)=f(n-1)+2f(n-2)+3f(n-3)"
   ]
  },
  {
   "cell_type": "markdown",
   "metadata": {
    "collapsed": true
   },
   "source": [
    "1.Write a procedure that computes f by means of a recursive process.  "
   ]
  },
  {
   "cell_type": "markdown",
   "metadata": {
    "collapsed": true
   },
   "source": [
    "#### A.Described by shceme from 1.2/fun_by_recursion.scm"
   ]
  },
  {
   "cell_type": "code",
   "execution_count": 51,
   "metadata": {
    "collapsed": false
   },
   "outputs": [
    {
     "name": "stdout",
     "output_type": "stream",
     "text": [
      "(define (f n)\r\n",
      "  (if (< n 3)\r\n",
      "      n\r\n",
      "      (+ (f (- n 1))\r\n",
      "         (* (f (- n 2)) 2)\r\n",
      "         (* (f (- n 3)) 3)\r\n",
      "      )\r\n",
      "  )\r\n",
      ")\r\n"
     ]
    }
   ],
   "source": [
    "cat 1.2/fun_by_recursion.scm"
   ]
  },
  {
   "cell_type": "raw",
   "metadata": {
    "collapsed": true
   },
   "source": [
    "Running Instance:\n",
    "\n",
    "1 ]=> (load \"1.2/fun_by_recursion.scm\")\n",
    "\n",
    ";Loading \"1.2/fun_by_recursion.scm\"... done\n",
    ";Value: f\n",
    "\n",
    "1 ]=> (f 20)\n",
    "\n",
    ";Value: 10771211"
   ]
  },
  {
   "cell_type": "markdown",
   "metadata": {
    "collapsed": true
   },
   "source": [
    "#### B.Described by python2.7"
   ]
  },
  {
   "cell_type": "code",
   "execution_count": 52,
   "metadata": {
    "collapsed": false
   },
   "outputs": [
    {
     "data": {
      "text/plain": [
       "10771211"
      ]
     },
     "execution_count": 52,
     "metadata": {},
     "output_type": "execute_result"
    }
   ],
   "source": [
    "def f(n):\n",
    "    if n < 3:\n",
    "        return n\n",
    "    else:\n",
    "        return f(n-1) + 2 * f(n-2) + 3 * f(n-3)\n",
    "    \n",
    "f(20)"
   ]
  },
  {
   "cell_type": "markdown",
   "metadata": {
    "collapsed": true
   },
   "source": [
    "2.Write a procedure that computes f by means of an iterative process."
   ]
  },
  {
   "cell_type": "markdown",
   "metadata": {
    "collapsed": true
   },
   "source": [
    "#### A.Described by shceme from 1.2/fun_by_iteration.scm"
   ]
  },
  {
   "cell_type": "code",
   "execution_count": 55,
   "metadata": {
    "collapsed": false
   },
   "outputs": [
    {
     "name": "stdout",
     "output_type": "stream",
     "text": [
      "(define (f_iter a b c count)\r\n",
      "  (if (= count 1)\r\n",
      "\tb\r\n",
      "\t(f_iter (+ a (* 2 b) (* 3 c)) a b (- count 1))\r\n",
      "  )\r\n",
      ")\r\n",
      "\r\n",
      "(define (f n)\r\n",
      "  (f_iter 2 1 0 n)\r\n",
      ")\r\n"
     ]
    }
   ],
   "source": [
    "cat 1.2/fun_by_iteration.scm"
   ]
  },
  {
   "cell_type": "raw",
   "metadata": {
    "collapsed": true
   },
   "source": [
    "Running Instance:\n",
    "\n",
    "1 ]=> (load \"1.2/fun_by_iteration.scm\")\n",
    "\n",
    ";Loading \"1.2/fun_by_iteration.scm\"... done\n",
    ";Value: f\n",
    "\n",
    "1 ]=> (f 20)\n",
    "\n",
    ";Value: 10771211\n",
    "\n",
    "# 如果是递归版本，则执行会相当缓慢\n",
    "1 ]=> (f 100)\n",
    "\n",
    ";Value: 11937765839880230562825561449279733086"
   ]
  },
  {
   "cell_type": "markdown",
   "metadata": {
    "collapsed": true
   },
   "source": [
    "#### B.Described by python2.7"
   ]
  },
  {
   "cell_type": "code",
   "execution_count": 7,
   "metadata": {
    "collapsed": false
   },
   "outputs": [
    {
     "data": {
      "text/plain": [
       "10771211"
      ]
     },
     "execution_count": 7,
     "metadata": {},
     "output_type": "execute_result"
    }
   ],
   "source": [
    "# look like Recursive process\n",
    "def f_iter(a, b, c, count):\n",
    "    if 1 == count:\n",
    "        return b\n",
    "    else:\n",
    "        return f_iter(a + 2*b + 3*c, a, b, count - 1)\n",
    "    \n",
    "def f(n):\n",
    "    return f_iter(2, 1, 0, n)\n",
    "\n",
    "f(20)        "
   ]
  },
  {
   "cell_type": "code",
   "execution_count": 8,
   "metadata": {
    "collapsed": false
   },
   "outputs": [
    {
     "data": {
      "text/plain": [
       "11937765839880230562825561449279733086L"
      ]
     },
     "execution_count": 8,
     "metadata": {},
     "output_type": "execute_result"
    }
   ],
   "source": [
    "f(100)"
   ]
  },
  {
   "cell_type": "code",
   "execution_count": 10,
   "metadata": {
    "collapsed": false
   },
   "outputs": [
    {
     "ename": "RuntimeError",
     "evalue": "maximum recursion depth exceeded",
     "output_type": "error",
     "traceback": [
      "\u001b[1;31m---------------------------------------------------------------------------\u001b[0m",
      "\u001b[1;31mRuntimeError\u001b[0m                              Traceback (most recent call last)",
      "\u001b[1;32m<ipython-input-10-21957ef43206>\u001b[0m in \u001b[0;36m<module>\u001b[1;34m()\u001b[0m\n\u001b[1;32m----> 1\u001b[1;33m \u001b[0mf\u001b[0m\u001b[1;33m(\u001b[0m\u001b[1;36m1000\u001b[0m\u001b[1;33m)\u001b[0m\u001b[1;33m\u001b[0m\u001b[0m\n\u001b[0m",
      "\u001b[1;32m<ipython-input-7-060001f011ac>\u001b[0m in \u001b[0;36mf\u001b[1;34m(n)\u001b[0m\n\u001b[0;32m      7\u001b[0m \u001b[1;33m\u001b[0m\u001b[0m\n\u001b[0;32m      8\u001b[0m \u001b[1;32mdef\u001b[0m \u001b[0mf\u001b[0m\u001b[1;33m(\u001b[0m\u001b[0mn\u001b[0m\u001b[1;33m)\u001b[0m\u001b[1;33m:\u001b[0m\u001b[1;33m\u001b[0m\u001b[0m\n\u001b[1;32m----> 9\u001b[1;33m     \u001b[1;32mreturn\u001b[0m \u001b[0mf_iter\u001b[0m\u001b[1;33m(\u001b[0m\u001b[1;36m2\u001b[0m\u001b[1;33m,\u001b[0m \u001b[1;36m1\u001b[0m\u001b[1;33m,\u001b[0m \u001b[1;36m0\u001b[0m\u001b[1;33m,\u001b[0m \u001b[0mn\u001b[0m\u001b[1;33m)\u001b[0m\u001b[1;33m\u001b[0m\u001b[0m\n\u001b[0m\u001b[0;32m     10\u001b[0m \u001b[1;33m\u001b[0m\u001b[0m\n\u001b[0;32m     11\u001b[0m \u001b[0mf\u001b[0m\u001b[1;33m(\u001b[0m\u001b[1;36m20\u001b[0m\u001b[1;33m)\u001b[0m\u001b[1;33m\u001b[0m\u001b[0m\n",
      "\u001b[1;32m<ipython-input-7-060001f011ac>\u001b[0m in \u001b[0;36mf_iter\u001b[1;34m(a, b, c, count)\u001b[0m\n\u001b[0;32m      4\u001b[0m         \u001b[1;32mreturn\u001b[0m \u001b[0mb\u001b[0m\u001b[1;33m\u001b[0m\u001b[0m\n\u001b[0;32m      5\u001b[0m     \u001b[1;32melse\u001b[0m\u001b[1;33m:\u001b[0m\u001b[1;33m\u001b[0m\u001b[0m\n\u001b[1;32m----> 6\u001b[1;33m         \u001b[1;32mreturn\u001b[0m \u001b[0mf_iter\u001b[0m\u001b[1;33m(\u001b[0m\u001b[0ma\u001b[0m \u001b[1;33m+\u001b[0m \u001b[1;36m2\u001b[0m\u001b[1;33m*\u001b[0m\u001b[0mb\u001b[0m \u001b[1;33m+\u001b[0m \u001b[1;36m3\u001b[0m\u001b[1;33m*\u001b[0m\u001b[0mc\u001b[0m\u001b[1;33m,\u001b[0m \u001b[0ma\u001b[0m\u001b[1;33m,\u001b[0m \u001b[0mb\u001b[0m\u001b[1;33m,\u001b[0m \u001b[0mcount\u001b[0m \u001b[1;33m-\u001b[0m \u001b[1;36m1\u001b[0m\u001b[1;33m)\u001b[0m\u001b[1;33m\u001b[0m\u001b[0m\n\u001b[0m\u001b[0;32m      7\u001b[0m \u001b[1;33m\u001b[0m\u001b[0m\n\u001b[0;32m      8\u001b[0m \u001b[1;32mdef\u001b[0m \u001b[0mf\u001b[0m\u001b[1;33m(\u001b[0m\u001b[0mn\u001b[0m\u001b[1;33m)\u001b[0m\u001b[1;33m:\u001b[0m\u001b[1;33m\u001b[0m\u001b[0m\n",
      "... last 1 frames repeated, from the frame below ...\n",
      "\u001b[1;32m<ipython-input-7-060001f011ac>\u001b[0m in \u001b[0;36mf_iter\u001b[1;34m(a, b, c, count)\u001b[0m\n\u001b[0;32m      4\u001b[0m         \u001b[1;32mreturn\u001b[0m \u001b[0mb\u001b[0m\u001b[1;33m\u001b[0m\u001b[0m\n\u001b[0;32m      5\u001b[0m     \u001b[1;32melse\u001b[0m\u001b[1;33m:\u001b[0m\u001b[1;33m\u001b[0m\u001b[0m\n\u001b[1;32m----> 6\u001b[1;33m         \u001b[1;32mreturn\u001b[0m \u001b[0mf_iter\u001b[0m\u001b[1;33m(\u001b[0m\u001b[0ma\u001b[0m \u001b[1;33m+\u001b[0m \u001b[1;36m2\u001b[0m\u001b[1;33m*\u001b[0m\u001b[0mb\u001b[0m \u001b[1;33m+\u001b[0m \u001b[1;36m3\u001b[0m\u001b[1;33m*\u001b[0m\u001b[0mc\u001b[0m\u001b[1;33m,\u001b[0m \u001b[0ma\u001b[0m\u001b[1;33m,\u001b[0m \u001b[0mb\u001b[0m\u001b[1;33m,\u001b[0m \u001b[0mcount\u001b[0m \u001b[1;33m-\u001b[0m \u001b[1;36m1\u001b[0m\u001b[1;33m)\u001b[0m\u001b[1;33m\u001b[0m\u001b[0m\n\u001b[0m\u001b[0;32m      7\u001b[0m \u001b[1;33m\u001b[0m\u001b[0m\n\u001b[0;32m      8\u001b[0m \u001b[1;32mdef\u001b[0m \u001b[0mf\u001b[0m\u001b[1;33m(\u001b[0m\u001b[0mn\u001b[0m\u001b[1;33m)\u001b[0m\u001b[1;33m:\u001b[0m\u001b[1;33m\u001b[0m\u001b[0m\n",
      "\u001b[1;31mRuntimeError\u001b[0m: maximum recursion depth exceeded"
     ]
    }
   ],
   "source": [
    "f(1000)"
   ]
  },
  {
   "cell_type": "code",
   "execution_count": 31,
   "metadata": {
    "collapsed": false
   },
   "outputs": [
    {
     "data": {
      "text/plain": [
       "10771211"
      ]
     },
     "execution_count": 31,
     "metadata": {},
     "output_type": "execute_result"
    }
   ],
   "source": [
    "# Effective iterative process\n",
    "def f(n):\n",
    "    flist = [0, 1, 2]\n",
    "    for i in xrange(3, n + 1):\n",
    "        flist.append(flist[i-1] + 2 * flist[i-2] + 3 * flist[i-3])\n",
    "    return flist[-1]\n",
    "\n",
    "f(20)"
   ]
  },
  {
   "cell_type": "code",
   "execution_count": 32,
   "metadata": {
    "collapsed": false
   },
   "outputs": [
    {
     "data": {
      "text/plain": [
       "1200411335581569104197621183222182410228690281055710781687044573790661709343985308756380381850406620666042607564631605876156610535933789714780132607755663854744223225249491730428647795602251203632973677695221003056803565827035107926395650932180708300409716979009255557336360673626403040863408122386349183735643342985009827495351241264386090544972951146415009560371824341466875L"
      ]
     },
     "execution_count": 32,
     "metadata": {},
     "output_type": "execute_result"
    }
   ],
   "source": [
    "f(1000)"
   ]
  },
  {
   "cell_type": "code",
   "execution_count": 39,
   "metadata": {
    "collapsed": false
   },
   "outputs": [
    {
     "data": {
      "text/plain": [
       "126882114367106230085249524897996848201577071358752344176384515130437059142543420415025939869809655761502993838142965408745467213384408810722039114213073321918169181348892973990650867875413482182340218332743085777395098529351186815795390283979619199793012212229652988313401048529120564866534145609667414754755473543622675674705503522747471746490735022730065161925091996119224389629741976396594387591422783607967367993795648069880478530411469250005367480383198002343787146642912026279998810672394894671220319803286484719482511764178070950280534302747217875299496470834210205308694093537637580053296144004439334657116516179393061272876540684764151397604128330564459039246070599654656742485453307190007117504472871362784300690043864755881876708188112488487405710904437806761960397272490001801216988676450191734559303064191230776769020969330832474285786736970757629583237911412691883183669176041386072510423349886487264077948042670618045664925265659911585392651800062823722191324622458134083487697826792532061052320562757044395852133650480410729278820144759635231213170429836987497639225265387774599582575531737059206461048193498430668114247515553133155034518628497725326725999878629553299014009978887060648245627717457977369273140965053370193689346412876846853126155956355087537444046701863285974573794604217637215433639213808959661839148524240201244033471973398384963785126285424264529641193165234338255225925022708936401709021712775682575941384049997253715104401679793780377062328978384487493417599402259219573765646124685001582087668128813204137436426451635165246116702368390758877455647644368193523752016782348585328766861427106002665650096745479270861639898554954577151112939725099802693229203680655733989908075890618318893663787032673188945719845254919382331042061269126990001516905356419683179070051210599475028410706960285383791128859411543711977305668655895401949908888968143098172700490359954231088364951714295240154749497881131070337907558229435338796071063741380309713368015162643994568831810589946227949317644494722743643416239538458322882850540658876898274791115999712853733163094400021513006139124770776660698804851923985707037632448543594243327075904243938727415700037002405078854264803988094502402945892693755437820348446120580751815511707558505055036822016774532089636513168063281493030612730784236680574838509442747602763391741013271122454155001111806610900964505026621623861650206551157634313718366839657411996139233264431869190126843569391313532607828516600928197553705711390545588682749567971703898296203922978637403233914515064033250424960433172916310895043897970918396688951098596962744246836016895580042480500489700763237238326700368066255716238273079553603461249617065415088620806993778699418575767045355464885396335879371192052620617018253963332206828418963049396742979040978030941332208269667742097865145434351171429472754593522415657293316957265139493504818688755100155316907866730356900964755968277384083979326757928437111863593244281380845619423007234439531076107944467594282864617901228014183818419550055401726692632810725683603425605228821470884453518917842793909351322051800642730801563956629800955292757464319000824912803406350978105745552028025441621753376813231255014708753064198957305065578355380353709438023423202372856437940626581063131156702953941900349967036467033042620248219548757232033710373539227744199580420884501837978502323071885584941682037994769250591367765241308766772068723324134801325074325544377150198437314408289440343651309713732830408523099082310444946587493740608053341079711256694192973308495790443988749053530358001525782416334401806083975837599434839674813391031607652741788296138286062277165852145305885440632719432465388464873947872429204300395495293857484751726497770632989369925358342900996875L"
      ]
     },
     "execution_count": 39,
     "metadata": {},
     "output_type": "execute_result"
    }
   ],
   "source": [
    "f(10000)"
   ]
  },
  {
   "cell_type": "code",
   "execution_count": null,
   "metadata": {
    "collapsed": true
   },
   "outputs": [],
   "source": []
  }
 ],
 "metadata": {
  "kernelspec": {
   "display_name": "Python 2",
   "language": "python",
   "name": "python2"
  },
  "language_info": {
   "codemirror_mode": {
    "name": "ipython",
    "version": 2
   },
   "file_extension": ".py",
   "mimetype": "text/x-python",
   "name": "python",
   "nbconvert_exporter": "python",
   "pygments_lexer": "ipython2",
   "version": "2.7.11"
  }
 },
 "nbformat": 4,
 "nbformat_minor": 0
}
