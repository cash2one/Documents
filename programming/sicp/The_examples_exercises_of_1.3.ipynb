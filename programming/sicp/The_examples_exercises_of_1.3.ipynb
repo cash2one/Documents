{
 "cells": [
  {
   "cell_type": "markdown",
   "metadata": {},
   "source": [
    "## 1.3.1 Procedures as Arguments"
   ]
  },
  {
   "cell_type": "markdown",
   "metadata": {},
   "source": [
    "### Example 1: summation"
   ]
  },
  {
   "cell_type": "markdown",
   "metadata": {},
   "source": [
    "Consider the following three procedures."
   ]
  },
  {
   "cell_type": "markdown",
   "metadata": {},
   "source": [
    "The first computes the sum of the integers from a through b:"
   ]
  },
  {
   "cell_type": "raw",
   "metadata": {},
   "source": [
    "(define (sum-integers a b)\n",
    "  (if (> a b) 0\n",
    "`    (+ a (sum-integers (+ a 1) b))))"
   ]
  },
  {
   "cell_type": "markdown",
   "metadata": {},
   "source": [
    "The second computes the sum of the cubes of the integers in the given range:"
   ]
  },
  {
   "cell_type": "raw",
   "metadata": {},
   "source": [
    "(define (sum-cubes a b)\n",
    "  (if (> a b) 0\n",
    "`    (+ (cube a) (sum-cubes (+ a 1) b))))"
   ]
  },
  {
   "cell_type": "markdown",
   "metadata": {},
   "source": [
    "The third computes the sum of a sequence of terms in the series  "
   ]
  },
  {
   "cell_type": "markdown",
   "metadata": {},
   "source": [
    "$$\\frac{1}{1 \\centerdot 3} + \\frac{1}{5 \\centerdot 7} + \\frac{1}{9 \\centerdot 11} + \\ldots$$"
   ]
  },
  {
   "cell_type": "markdown",
   "metadata": {},
   "source": [
    "which converges to $\\pi$/8 (very slowly):"
   ]
  },
  {
   "cell_type": "raw",
   "metadata": {},
   "source": [
    "(define (pi-sum a b)\n",
    "  (if (> a b) 0\n",
    "`    (+ (/ 1.0 (* a (+ a 2)))\n",
    "`      (pi-sum (+ a 4) b))))"
   ]
  },
  {
   "cell_type": "markdown",
   "metadata": {},
   "source": [
    "Indeed, mathematicians long ago identified the abstraction of summation of a series and invented \"sigma notation\", for example,to express this concept."
   ]
  },
  {
   "cell_type": "markdown",
   "metadata": {},
   "source": [
    "$$\\sum_{n=a}^bf(n) = f(a) + \\ldots+ f(b)$$"
   ]
  },
  {
   "cell_type": "markdown",
   "metadata": {},
   "source": [
    "With the aid of the procedures sum as follows,we can express the mathematical concepts of summation:"
   ]
  },
  {
   "cell_type": "raw",
   "metadata": {},
   "source": [
    "(define (sum term a next b)\n",
    "  (if (> a b) 0\n",
    "`    (+ (term a) (sum term (next a) next b))))"
   ]
  },
  {
   "cell_type": "markdown",
   "metadata": {},
   "source": [
    "So,we can redefine the process sum-integers to compute the sum of the integers from a through b:"
   ]
  },
  {
   "cell_type": "code",
   "execution_count": 1,
   "metadata": {
    "collapsed": false
   },
   "outputs": [
    {
     "name": "stdout",
     "output_type": "stream",
     "text": [
      "(load \"1.3/sum_by_recursion.scm\")\r\n",
      "\r\n",
      "(define (identity x) x)\r\n",
      "(define (inc n) (+ n 1))\r\n",
      "\r\n",
      "(define (sum-integers a b)\r\n",
      "  (sum identity a inc b))\r\n"
     ]
    }
   ],
   "source": [
    "cat 1.3/sum_integers_for_example.scm"
   ]
  },
  {
   "cell_type": "raw",
   "metadata": {},
   "source": [
    "Running Instance:\n",
    "\n",
    "1 ]=> (load \"1.3/sum_integers_for_example.scm\")\n",
    "\n",
    ";Loading \"1.3/sum_integers_for_example.scm\"...\n",
    ";  Loading \"1.3/sum_by_recursion.scm\"... done\n",
    ";... done\n",
    ";Value: sum-integers\n",
    "\n",
    "1 ]=> (sum-integers 1 100)\n",
    "\n",
    ";Value: 5050"
   ]
  },
  {
   "cell_type": "markdown",
   "metadata": {},
   "source": [
    " Redefine the process sum-cubes to compute the sum of the cubes of the integers from a through b:"
   ]
  },
  {
   "cell_type": "code",
   "execution_count": 2,
   "metadata": {
    "collapsed": false
   },
   "outputs": [
    {
     "name": "stdout",
     "output_type": "stream",
     "text": [
      "(load \"1.3/sum_by_recursion.scm\")\r\n",
      "\r\n",
      "(define (cube x) (* x x x))\r\n",
      "(define (inc n) (+ n 1))\r\n",
      "\r\n",
      "(define (sum-cubes a b)\r\n",
      "  (sum cube a inc b))\r\n"
     ]
    }
   ],
   "source": [
    "cat 1.3/sum_cubes_for_example.scm"
   ]
  },
  {
   "cell_type": "raw",
   "metadata": {},
   "source": [
    "Running Instance:\n",
    "\n",
    "1 ]=> (load \"1.3/sum_cubes_for_example.scm\")\n",
    "\n",
    ";Loading \"1.3/sum_cubes_for_example.scm\"...\n",
    ";  Loading \"1.3/sum_by_recursion.scm\"... done\n",
    ";... done\n",
    ";Value: sum-cubes\n",
    "\n",
    "1 ]=> (sum-cubes 1 100)\n",
    "\n",
    ";Value: 25502500"
   ]
  },
  {
   "cell_type": "markdown",
   "metadata": {},
   "source": [
    "We can also redefine pi-sum in the same way:"
   ]
  },
  {
   "cell_type": "code",
   "execution_count": 3,
   "metadata": {
    "collapsed": false
   },
   "outputs": [
    {
     "name": "stdout",
     "output_type": "stream",
     "text": [
      "(load \"1.3/sum_by_recursion.scm\")\r\n",
      "\r\n",
      "(define (pi-sum a b)\r\n",
      "  (define (pi-term x)\r\n",
      "    (/ 1.0 (* x (+ x 2))))\r\n",
      "  (define (pi-next x) (+ x 4))\r\n",
      "  (sum pi-term a pi-next b))\r\n"
     ]
    }
   ],
   "source": [
    "cat 1.3/sum_pi_for_example.scm"
   ]
  },
  {
   "cell_type": "raw",
   "metadata": {},
   "source": [
    "Running Instance:\n",
    "\n",
    "1 ]=> (load \"1.3/sum_pi_for_example.scm\")\n",
    "\n",
    ";Loading \"1.3/sum_pi_for_example.scm\"...\n",
    ";  Loading \"1.3/sum_by_recursion.scm\"... done\n",
    ";... done\n",
    ";Value: pi-sum\n",
    "\n",
    "1 ]=> (* 8 (pi-sum 1 1000))\n",
    "\n",
    ";Value: 3.139592655589783\n",
    "\n",
    "1 ]=> (* 8 (pi-sum 1 10000))\n",
    "\n",
    ";Value: 3.141392653591793"
   ]
  },
  {
   "cell_type": "markdown",
   "metadata": {},
   "source": [
    "### Example 2: numerical integration"
   ]
  },
  {
   "cell_type": "markdown",
   "metadata": {},
   "source": [
    "Once we have sum, we can use it as a building block in formulating further concepts. For instance, the definite integral of a function f between the limits a and b can be approximated numerically using the formula"
   ]
  },
  {
   "cell_type": "markdown",
   "metadata": {},
   "source": [
    "$$\\int_a^bf=\\left[f\\left(a + \\frac{dx}{2}\\right) + f\\left(a + dx + \\frac{dx}{2}\\right) + f\\left(a + 2dx + \\frac{dx}{2}\\right) + \\centerdot\\centerdot\\centerdot\\right]dx$$"
   ]
  },
  {
   "cell_type": "markdown",
   "metadata": {},
   "source": [
    "for small values of dx. We can express this directly as a procedure:"
   ]
  },
  {
   "cell_type": "code",
   "execution_count": 5,
   "metadata": {
    "collapsed": false
   },
   "outputs": [
    {
     "name": "stdout",
     "output_type": "stream",
     "text": [
      "(load \"1.3/sum_by_recursion.scm\")\r\n",
      "\r\n",
      "(define (integral f a b dx)\r\n",
      "  (define (add-dx x) (+ x dx))\r\n",
      "  (* (sum f (+ a (/ dx 2.0)) add-dx b) dx))\r\n"
     ]
    }
   ],
   "source": [
    "cat 1.3/compute_integral_for_function.scm"
   ]
  },
  {
   "cell_type": "markdown",
   "metadata": {},
   "source": [
    "For example,we can let f is cube function:"
   ]
  },
  {
   "cell_type": "raw",
   "metadata": {},
   "source": [
    "Running Instance:\n",
    "\n",
    "1 ]=> (define (cube x) (* x x x))\n",
    "\n",
    ";Value: cube\n",
    "\n",
    "1 ]=> (load \"1.3/compute_integral_for_function.scm\")\n",
    "\n",
    ";Loading \"1.3/compute_integral_for_function.scm\"...\n",
    ";  Loading \"1.3/sum_by_recursion.scm\"... done\n",
    ";... done\n",
    ";Value: integral\n",
    "\n",
    "1 ]=> (integral cube 0 1 0.01)\n",
    "\n",
    ";Value: .24998750000000042\n",
    "\n",
    "1 ]=> (integral cube 0 1 0.001)\n",
    "\n",
    ";Value: .249999875000001\n",
    "\n",
    "1 ]=> (integral cube 0 1 0.0001)\n",
    "\n",
    ";Value: .24999999874993412\n",
    "\n",
    "(The exact value of the integral of cube between 0 and 1 is 1/4.)"
   ]
  },
  {
   "cell_type": "markdown",
   "metadata": {
    "collapsed": true
   },
   "source": [
    "### Exercise 1.29:\n",
    "Simpson’s Rule is a more accurate method of numerical integration than the method illustrated above. Using Simpson’s Rule, the integral of a function f between a and b is approximated as"
   ]
  },
  {
   "cell_type": "markdown",
   "metadata": {},
   "source": [
    "$$\\frac{h}{3}(y_0 + 4y_1 + 2y_2 + 4y_3 + 2y_4 + \\cdots + 2y_{n-2} + 4y_{n-1} + y_n)$$"
   ]
  },
  {
   "cell_type": "markdown",
   "metadata": {},
   "source": [
    "where $h = (b -a)/n$,for some even integer n, and $y_k = f(a + kh)$.(Increasing n increases the accuracy of the approximation.)Define a procedure that takes as arguments $f$ , $a$, $b$, and $n$ and returns the value of the integral, computed using Simpson’s Rule.Use your procedure to integrate cube between 0 and 1 (with $n = 100$ and $n = 1000$), and compare the results to those of the integral procedure shown above."
   ]
  },
  {
   "cell_type": "markdown",
   "metadata": {},
   "source": [
    "### Exercise 1.30: \n",
    "The sum procedure above generates a linear recursion. The procedure can be rewrien so that the sum is performed iteratively. Show how to do this by filling in the missing expressions in the following definition:"
   ]
  },
  {
   "cell_type": "raw",
   "metadata": {},
   "source": [
    "(define (sum term a next b)\n",
    "  (define (iter a result)\n",
    "   (if <??>\n",
    "      <??>\n",
    "      (iter <??> <??>)))\n",
    "  (iter <??> <??>))"
   ]
  },
  {
   "cell_type": "markdown",
   "metadata": {},
   "source": [
    "### Answer:"
   ]
  },
  {
   "cell_type": "code",
   "execution_count": 1,
   "metadata": {
    "collapsed": false
   },
   "outputs": [
    {
     "name": "stdout",
     "output_type": "stream",
     "text": [
      "(define (sum term a next b)\r\n",
      "  (define (iter a result)\r\n",
      "    (if (> a b)\r\n",
      "        result\r\n",
      "        (iter (next a)\r\n",
      "              (+ (term a) result))))\r\n",
      "  (iter a 0))\r\n",
      "\t\t\r\n"
     ]
    }
   ],
   "source": [
    "cat 1.3/sum_by_iteration.scm"
   ]
  },
  {
   "cell_type": "markdown",
   "metadata": {},
   "source": [
    "1.Compute the sum of the integers from a to b:"
   ]
  },
  {
   "cell_type": "code",
   "execution_count": 2,
   "metadata": {
    "collapsed": false
   },
   "outputs": [
    {
     "name": "stdout",
     "output_type": "stream",
     "text": [
      "(load \"1.3/sum_by_iteration.scm\")\r\n",
      "\r\n",
      "(define (identity x) x)\r\n",
      "(define (inc n) (+ n 1))\r\n",
      "\r\n",
      "(define (sum-integers a b)\r\n",
      "  (sum identity a inc b))\r\n"
     ]
    }
   ],
   "source": [
    "cat 1.3/sum_integers_for_exercise130.scm"
   ]
  },
  {
   "cell_type": "raw",
   "metadata": {},
   "source": [
    "Running Instance:\n",
    "\n",
    "1 ]=> (load \"1.3/sum_integers_for_exercise130.scm\")\n",
    "\n",
    ";Loading \"1.3/sum_integers_for_exercise130.scm\"...\n",
    ";  Loading \"1.3/sum_by_iteration.scm\"... done\n",
    ";... done\n",
    ";Value: sum-integers\n",
    "\n",
    "1 ]=> (sum-integers 1 1000)\n",
    "\n",
    ";Value: 500500\n",
    "\n",
    "1 ]=> (sum-integers 1 100000)\n",
    "\n",
    ";Value: 5000050000"
   ]
  },
  {
   "cell_type": "markdown",
   "metadata": {},
   "source": [
    "2.Compute the sum of the cubes of the integers from a to b:"
   ]
  },
  {
   "cell_type": "code",
   "execution_count": 3,
   "metadata": {
    "collapsed": false
   },
   "outputs": [
    {
     "name": "stdout",
     "output_type": "stream",
     "text": [
      "(load \"1.3/sum_by_iteration.scm\")\r\n",
      "\r\n",
      "(define (cube x) (* x x x))\r\n",
      "(define (inc n) (+ n 1))\r\n",
      "\r\n",
      "(define (sum-cubes a b)\r\n",
      "  (sum cube a inc b))\r\n"
     ]
    }
   ],
   "source": [
    "cat 1.3/sum_cubes_for_exercise130.scm"
   ]
  },
  {
   "cell_type": "raw",
   "metadata": {},
   "source": [
    "Running Instance:\n",
    "\n",
    "1 ]=> (load \"1.3/sum_cubes_for_exercise130.scm\")\n",
    "\n",
    ";Loading \"1.3/sum_cubes_for_exercise130.scm\"...\n",
    ";  Loading \"1.3/sum_by_iteration.scm\"... done\n",
    ";... done\n",
    ";Value: sum-cubes\n",
    "\n",
    "1 ]=> (sum-cubes 1 1000)\n",
    "\n",
    ";Value: 250500250000\n",
    "\n",
    "1 ]=> (sum-cubes 1 100000)\n",
    "\n",
    ";Value: 25000500002500000000"
   ]
  },
  {
   "cell_type": "markdown",
   "metadata": {},
   "source": [
    "3.Compute the sum-pi procedure by way of iterative process: "
   ]
  },
  {
   "cell_type": "code",
   "execution_count": 4,
   "metadata": {
    "collapsed": false
   },
   "outputs": [
    {
     "name": "stdout",
     "output_type": "stream",
     "text": [
      "(load \"1.3/sum_by_iteration.scm\")\r\n",
      "\r\n",
      "(define (pi-sum a b)\r\n",
      "  (define (pi-term x)\r\n",
      "    (/ 1.0 (* x (+ x 2))))\r\n",
      "  (define (pi-next x) (+ x 4))\r\n",
      "  (sum pi-term a pi-next b))\r\n"
     ]
    }
   ],
   "source": [
    "cat 1.3/sum_pi_for_exercise130.scm"
   ]
  },
  {
   "cell_type": "raw",
   "metadata": {},
   "source": [
    "Running Instance:\n",
    "\n",
    "1 ]=> (load \"1.3/sum_pi_for_exercise130.scm\")\n",
    "\n",
    ";Loading \"1.3/sum_pi_for_exercise130.scm\"...\n",
    ";  Loading \"1.3/sum_by_iteration.scm\"... done\n",
    ";... done\n",
    ";Value: pi-sum\n",
    "\n",
    "1 ]=> (* 8 (pi-sum 1 1000))\n",
    "\n",
    ";Value: 3.139592655589782\n",
    "\n",
    "1 ]=> (* 8 (pi-sum 1 100000))\n",
    "\n",
    ";Value: 3.141572653589808\n",
    "\n",
    "1 ]=> (* 8 (pi-sum 1 10000000))\n",
    "\n",
    ";Value: 3.14159245358981\n",
    "\n",
    ";After a long long time ...\n",
    "1 ]=> (* 8 (pi-sum 1 1000000000))\n",
    "\n",
    ";Value: 3.1415926445762157"
   ]
  },
  {
   "cell_type": "markdown",
   "metadata": {},
   "source": [
    "### Exercise 1.31:\n",
    "a. The $sum$ procedure is only the simplest of a vast number of similar abstractions that can be captured as higher-order procedures.Write an analogous procedure called $product$ that returns the product of the values of a\n",
    "function at points over a given range. Show how to define $factorial$ in terms of $product$. Also use product to compute approximations to \\pi using the formula"
   ]
  },
  {
   "cell_type": "markdown",
   "metadata": {},
   "source": [
    "$$\\frac{\\pi}{4} = \\frac{2\\centerdot4\\centerdot4\\centerdot6\\centerdot6\\centerdot8\\cdots}{3\\centerdot3\\centerdot5\\centerdot5\\centerdot7\\centerdot7\\cdots}$$"
   ]
  },
  {
   "cell_type": "markdown",
   "metadata": {},
   "source": [
    "b. If your product procedure generates a recursive process,write one that generates an iterative process. If it generates an iterative process, write one that generates a recursive process."
   ]
  },
  {
   "cell_type": "code",
   "execution_count": null,
   "metadata": {
    "collapsed": true
   },
   "outputs": [],
   "source": []
  }
 ],
 "metadata": {
  "kernelspec": {
   "display_name": "Python [Root]",
   "language": "python",
   "name": "Python [Root]"
  },
  "language_info": {
   "codemirror_mode": {
    "name": "ipython",
    "version": 2
   },
   "file_extension": ".py",
   "mimetype": "text/x-python",
   "name": "python",
   "nbconvert_exporter": "python",
   "pygments_lexer": "ipython2",
   "version": "2.7.12"
  }
 },
 "nbformat": 4,
 "nbformat_minor": 0
}
