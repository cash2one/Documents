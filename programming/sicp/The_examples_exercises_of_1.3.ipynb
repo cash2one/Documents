{
 "cells": [
  {
   "cell_type": "markdown",
   "metadata": {},
   "source": [
    "## 1.3.1 Procedures as Arguments"
   ]
  },
  {
   "cell_type": "markdown",
   "metadata": {},
   "source": [
    "### Example 1: summation"
   ]
  },
  {
   "cell_type": "markdown",
   "metadata": {},
   "source": [
    "Consider the following three procedures."
   ]
  },
  {
   "cell_type": "markdown",
   "metadata": {},
   "source": [
    "The first computes the sum of the integers from a through b:"
   ]
  },
  {
   "cell_type": "raw",
   "metadata": {},
   "source": [
    "(define (sum-integers a b)\n",
    "  (if (> a b) 0\n",
    "`    (+ a (sum-integers (+ a 1) b))))"
   ]
  },
  {
   "cell_type": "markdown",
   "metadata": {},
   "source": [
    "The second computes the sum of the cubes of the integers in the given range:"
   ]
  },
  {
   "cell_type": "raw",
   "metadata": {},
   "source": [
    "(define (sum-cubes a b)\n",
    "  (if (> a b) 0\n",
    "`    (+ (cube a) (sum-cubes (+ a 1) b))))"
   ]
  },
  {
   "cell_type": "markdown",
   "metadata": {},
   "source": [
    "The third computes the sum of a sequence of terms in the series  "
   ]
  },
  {
   "cell_type": "markdown",
   "metadata": {},
   "source": [
    "$$\\frac{1}{1 \\centerdot 3} + \\frac{1}{5 \\centerdot 7} + \\frac{1}{9 \\centerdot 11} + \\ldots$$"
   ]
  },
  {
   "cell_type": "markdown",
   "metadata": {},
   "source": [
    "which converges to $\\pi$/8 (very slowly):"
   ]
  },
  {
   "cell_type": "raw",
   "metadata": {},
   "source": [
    "(define (pi-sum a b)\n",
    "  (if (> a b) 0\n",
    "`    (+ (/ 1.0 (* a (+ a 2)))\n",
    "`      (pi-sum (+ a 4) b))))"
   ]
  },
  {
   "cell_type": "markdown",
   "metadata": {},
   "source": [
    "Indeed, mathematicians long ago identified the abstraction of summation of a series and invented \"sigma notation\", for example,to express this concept."
   ]
  },
  {
   "cell_type": "markdown",
   "metadata": {},
   "source": [
    "$$\\sum_{n=a}^bf(n) = f(a) + \\ldots+ f(b)$$"
   ]
  },
  {
   "cell_type": "markdown",
   "metadata": {},
   "source": [
    "With the aid of the procedures sum as follows,we can express the mathematical concepts of summation:"
   ]
  },
  {
   "cell_type": "raw",
   "metadata": {},
   "source": [
    "(define (sum term a next b)\n",
    "  (if (> a b) 0\n",
    "`    (+ (term a) (sum term (next a) next b))))"
   ]
  },
  {
   "cell_type": "markdown",
   "metadata": {},
   "source": [
    "So,we can redefine the process sum-integers to compute the sum of the integers from a through b:"
   ]
  },
  {
   "cell_type": "code",
   "execution_count": 1,
   "metadata": {
    "collapsed": false
   },
   "outputs": [
    {
     "name": "stdout",
     "output_type": "stream",
     "text": [
      "(load \"1.3/sum_by_recursion.scm\")\r\n",
      "\r\n",
      "(define (identity x) x)\r\n",
      "(define (inc n) (+ n 1))\r\n",
      "\r\n",
      "(define (sum-integers a b)\r\n",
      "  (sum identity a inc b))\r\n"
     ]
    }
   ],
   "source": [
    "cat 1.3/sum_integers_for_example.scm"
   ]
  },
  {
   "cell_type": "raw",
   "metadata": {},
   "source": [
    "Running Instance:\n",
    "\n",
    "1 ]=> (load \"1.3/sum_integers_for_example.scm\")\n",
    "\n",
    ";Loading \"1.3/sum_integers_for_example.scm\"...\n",
    ";  Loading \"1.3/sum_by_recursion.scm\"... done\n",
    ";... done\n",
    ";Value: sum-integers\n",
    "\n",
    "1 ]=> (sum-integers 1 100)\n",
    "\n",
    ";Value: 5050"
   ]
  },
  {
   "cell_type": "markdown",
   "metadata": {},
   "source": [
    " Redefine the process sum-cubes to compute the sum of the cubes of the integers from a through b:"
   ]
  },
  {
   "cell_type": "code",
   "execution_count": 2,
   "metadata": {
    "collapsed": false
   },
   "outputs": [
    {
     "name": "stdout",
     "output_type": "stream",
     "text": [
      "(load \"1.3/sum_by_recursion.scm\")\r\n",
      "\r\n",
      "(define (cube x) (* x x x))\r\n",
      "(define (inc n) (+ n 1))\r\n",
      "\r\n",
      "(define (sum-cubes a b)\r\n",
      "  (sum cube a inc b))\r\n"
     ]
    }
   ],
   "source": [
    "cat 1.3/sum_cubes_for_example.scm"
   ]
  },
  {
   "cell_type": "raw",
   "metadata": {},
   "source": [
    "Running Instance:\n",
    "\n",
    "1 ]=> (load \"1.3/sum_cubes_for_example.scm\")\n",
    "\n",
    ";Loading \"1.3/sum_cubes_for_example.scm\"...\n",
    ";  Loading \"1.3/sum_by_recursion.scm\"... done\n",
    ";... done\n",
    ";Value: sum-cubes\n",
    "\n",
    "1 ]=> (sum-cubes 1 100)\n",
    "\n",
    ";Value: 25502500"
   ]
  },
  {
   "cell_type": "markdown",
   "metadata": {},
   "source": [
    "We can also redefine pi-sum in the same way:"
   ]
  },
  {
   "cell_type": "code",
   "execution_count": 5,
   "metadata": {
    "collapsed": false
   },
   "outputs": [
    {
     "name": "stdout",
     "output_type": "stream",
     "text": [
      "(load \"1.3/sum_by_recursion.scm\")\r\n",
      "\r\n",
      "(define (pi-sum a b)\r\n",
      "  (define (pi-term x)\r\n",
      "    (/ 1.0 (* x (+ x 2))))\r\n",
      "  (define (pi-next x) (+ x 4))\r\n",
      "  (sum pi-term a pi-next b))\r\n"
     ]
    }
   ],
   "source": [
    "cat 1.3/sum_pi_by_recursion.scm"
   ]
  },
  {
   "cell_type": "raw",
   "metadata": {},
   "source": [
    "Running Instance:\n",
    "\n",
    "1 ]=> (load \"1.3/sum_by_recursion.scm\")\n",
    "\n",
    ";Loading \"1.3/sum_by_recursion.scm\"...\n",
    ";  Loading \"1.3/sum_by_recursion.scm\"... done\n",
    ";... done\n",
    ";Value: pi-sum\n",
    "\n",
    "1 ]=> (* 8 (pi-sum 1 1000))\n",
    "\n",
    ";Value: 3.139592655589783\n",
    "\n",
    "1 ]=> (* 8 (pi-sum 1 10000))\n",
    "\n",
    ";Value: 3.141392653591793"
   ]
  },
  {
   "cell_type": "markdown",
   "metadata": {},
   "source": [
    "### Example 2: numerical integration"
   ]
  },
  {
   "cell_type": "markdown",
   "metadata": {},
   "source": [
    "Once we have sum, we can use it as a building block in formulating further concepts. For instance, the definite integral of a function f between the limits a and b can be approximated numerically using the formula"
   ]
  },
  {
   "cell_type": "markdown",
   "metadata": {},
   "source": [
    "$$\\int_a^bf=\\left[f\\left(a + \\frac{dx}{2}\\right) + f\\left(a + dx + \\frac{dx}{2}\\right) + f\\left(a + 2dx + \\frac{dx}{2}\\right) + \\centerdot\\centerdot\\centerdot\\right]dx$$"
   ]
  },
  {
   "cell_type": "markdown",
   "metadata": {},
   "source": [
    "for small values of dx. We can express this directly as a procedure:"
   ]
  },
  {
   "cell_type": "code",
   "execution_count": 5,
   "metadata": {
    "collapsed": false
   },
   "outputs": [
    {
     "name": "stdout",
     "output_type": "stream",
     "text": [
      "(load \"1.3/sum_by_recursion.scm\")\r\n",
      "\r\n",
      "(define (integral f a b dx)\r\n",
      "  (define (add-dx x) (+ x dx))\r\n",
      "  (* (sum f (+ a (/ dx 2.0)) add-dx b) dx))\r\n"
     ]
    }
   ],
   "source": [
    "cat 1.3/compute_integral_for_function.scm"
   ]
  },
  {
   "cell_type": "markdown",
   "metadata": {},
   "source": [
    "For example,we can let f is cube function:"
   ]
  },
  {
   "cell_type": "raw",
   "metadata": {},
   "source": [
    "Running Instance:\n",
    "\n",
    "1 ]=> (define (cube x) (* x x x))\n",
    "\n",
    ";Value: cube\n",
    "\n",
    "1 ]=> (load \"1.3/compute_integral_for_function.scm\")\n",
    "\n",
    ";Loading \"1.3/compute_integral_for_function.scm\"...\n",
    ";  Loading \"1.3/sum_by_recursion.scm\"... done\n",
    ";... done\n",
    ";Value: integral\n",
    "\n",
    "1 ]=> (integral cube 0 1 0.01)\n",
    "\n",
    ";Value: .24998750000000042\n",
    "\n",
    "1 ]=> (integral cube 0 1 0.001)\n",
    "\n",
    ";Value: .249999875000001\n",
    "\n",
    "1 ]=> (integral cube 0 1 0.0001)\n",
    "\n",
    ";Value: .24999999874993412\n",
    "\n",
    "(The exact value of the integral of cube between 0 and 1 is 1/4.)"
   ]
  },
  {
   "cell_type": "markdown",
   "metadata": {
    "collapsed": true
   },
   "source": [
    "### Exercise 1.29:\n",
    "Simpson’s Rule is a more accurate method of numerical integration than the method illustrated above. Using Simpson’s Rule, the integral of a function f between a and b is approximated as"
   ]
  },
  {
   "cell_type": "markdown",
   "metadata": {},
   "source": [
    "$$\\frac{h}{3}(y_0 + 4y_1 + 2y_2 + 4y_3 + 2y_4 + \\cdots + 2y_{n-2} + 4y_{n-1} + y_n)$$"
   ]
  },
  {
   "cell_type": "markdown",
   "metadata": {},
   "source": [
    "where $h = (b -a)/n$,for some even integer n, and $y_k = f(a + kh)$.(Increasing n increases the accuracy of the approximation.)Define a procedure that takes as arguments $f$ , $a$, $b$, and $n$ and returns the value of the integral, computed using Simpson’s Rule.Use your procedure to integrate cube between 0 and 1 (with $n = 100$ and $n = 1000$), and compare the results to those of the integral procedure shown above."
   ]
  },
  {
   "cell_type": "markdown",
   "metadata": {},
   "source": [
    "### Exercise 1.30: \n",
    "The sum procedure above generates a linear recursion. The procedure can be rewrien so that the sum is performed iteratively. Show how to do this by filling in the missing expressions in the following definition:"
   ]
  },
  {
   "cell_type": "raw",
   "metadata": {},
   "source": [
    "(define (sum term a next b)\n",
    "  (define (iter a result)\n",
    "   (if <??>\n",
    "      <??>\n",
    "      (iter <??> <??>)))\n",
    "  (iter <??> <??>))"
   ]
  },
  {
   "cell_type": "markdown",
   "metadata": {},
   "source": [
    "### Answer:"
   ]
  },
  {
   "cell_type": "code",
   "execution_count": 1,
   "metadata": {
    "collapsed": false
   },
   "outputs": [
    {
     "name": "stdout",
     "output_type": "stream",
     "text": [
      "(define (sum term a next b)\r\n",
      "  (define (iter a result)\r\n",
      "    (if (> a b)\r\n",
      "        result\r\n",
      "        (iter (next a)\r\n",
      "              (+ (term a) result))))\r\n",
      "  (iter a 0))\r\n",
      "\t\t\r\n"
     ]
    }
   ],
   "source": [
    "cat 1.3/sum_by_iteration.scm"
   ]
  },
  {
   "cell_type": "markdown",
   "metadata": {},
   "source": [
    "1.Compute the sum of the integers from a to b:"
   ]
  },
  {
   "cell_type": "code",
   "execution_count": 2,
   "metadata": {
    "collapsed": false
   },
   "outputs": [
    {
     "name": "stdout",
     "output_type": "stream",
     "text": [
      "(load \"1.3/sum_by_iteration.scm\")\r\n",
      "\r\n",
      "(define (identity x) x)\r\n",
      "(define (inc n) (+ n 1))\r\n",
      "\r\n",
      "(define (sum-integers a b)\r\n",
      "  (sum identity a inc b))\r\n"
     ]
    }
   ],
   "source": [
    "cat 1.3/sum_integers_for_exercise130.scm"
   ]
  },
  {
   "cell_type": "raw",
   "metadata": {},
   "source": [
    "Running Instance:\n",
    "\n",
    "1 ]=> (load \"1.3/sum_integers_for_exercise130.scm\")\n",
    "\n",
    ";Loading \"1.3/sum_integers_for_exercise130.scm\"...\n",
    ";  Loading \"1.3/sum_by_iteration.scm\"... done\n",
    ";... done\n",
    ";Value: sum-integers\n",
    "\n",
    "1 ]=> (sum-integers 1 1000)\n",
    "\n",
    ";Value: 500500\n",
    "\n",
    "1 ]=> (sum-integers 1 100000)\n",
    "\n",
    ";Value: 5000050000"
   ]
  },
  {
   "cell_type": "markdown",
   "metadata": {},
   "source": [
    "2.Compute the sum of the cubes of the integers from a to b:"
   ]
  },
  {
   "cell_type": "code",
   "execution_count": 3,
   "metadata": {
    "collapsed": false
   },
   "outputs": [
    {
     "name": "stdout",
     "output_type": "stream",
     "text": [
      "(load \"1.3/sum_by_iteration.scm\")\r\n",
      "\r\n",
      "(define (cube x) (* x x x))\r\n",
      "(define (inc n) (+ n 1))\r\n",
      "\r\n",
      "(define (sum-cubes a b)\r\n",
      "  (sum cube a inc b))\r\n"
     ]
    }
   ],
   "source": [
    "cat 1.3/sum_cubes_for_exercise130.scm"
   ]
  },
  {
   "cell_type": "raw",
   "metadata": {},
   "source": [
    "Running Instance:\n",
    "\n",
    "1 ]=> (load \"1.3/sum_cubes_for_exercise130.scm\")\n",
    "\n",
    ";Loading \"1.3/sum_cubes_for_exercise130.scm\"...\n",
    ";  Loading \"1.3/sum_by_iteration.scm\"... done\n",
    ";... done\n",
    ";Value: sum-cubes\n",
    "\n",
    "1 ]=> (sum-cubes 1 1000)\n",
    "\n",
    ";Value: 250500250000\n",
    "\n",
    "1 ]=> (sum-cubes 1 100000)\n",
    "\n",
    ";Value: 25000500002500000000"
   ]
  },
  {
   "cell_type": "markdown",
   "metadata": {},
   "source": [
    "3.Compute the sum-pi procedure by way of iterative process: "
   ]
  },
  {
   "cell_type": "code",
   "execution_count": 4,
   "metadata": {
    "collapsed": false
   },
   "outputs": [
    {
     "name": "stdout",
     "output_type": "stream",
     "text": [
      "(load \"1.3/sum_by_iteration.scm\")\r\n",
      "\r\n",
      "(define (pi-sum a b)\r\n",
      "  (define (pi-term x)\r\n",
      "    (/ 1.0 (* x (+ x 2))))\r\n",
      "  (define (pi-next x) (+ x 4))\r\n",
      "  (sum pi-term a pi-next b))\r\n"
     ]
    }
   ],
   "source": [
    "cat 1.3/sum_pi_for_exercise130.scm"
   ]
  },
  {
   "cell_type": "raw",
   "metadata": {},
   "source": [
    "Running Instance:\n",
    "\n",
    "1 ]=> (load \"1.3/sum_pi_for_exercise130.scm\")\n",
    "\n",
    ";Loading \"1.3/sum_pi_for_exercise130.scm\"...\n",
    ";  Loading \"1.3/sum_by_iteration.scm\"... done\n",
    ";... done\n",
    ";Value: pi-sum\n",
    "\n",
    "1 ]=> (* 8 (pi-sum 1 1000))\n",
    "\n",
    ";Value: 3.139592655589782\n",
    "\n",
    "1 ]=> (* 8 (pi-sum 1 100000))\n",
    "\n",
    ";Value: 3.141572653589808\n",
    "\n",
    "1 ]=> (* 8 (pi-sum 1 10000000))\n",
    "\n",
    ";Value: 3.14159245358981\n",
    "\n",
    ";After a long long time ...\n",
    "1 ]=> (* 8 (pi-sum 1 1000000000))\n",
    "\n",
    ";Value: 3.1415926445762157"
   ]
  },
  {
   "cell_type": "markdown",
   "metadata": {},
   "source": [
    "### Exercise 1.31:\n",
    "a. The $sum$ procedure is only the simplest of a vast number of similar abstractions that can be captured as higher-order procedures.Write an analogous procedure called $product$ that returns the product of the values of a\n",
    "function at points over a given range. Show how to define $factorial$ in terms of $product$. Also use product to compute approximations to $\\pi$ using the formula"
   ]
  },
  {
   "cell_type": "markdown",
   "metadata": {},
   "source": [
    "$$\\frac{\\pi}{4} = \\frac{2\\centerdot4\\centerdot4\\centerdot6\\centerdot6\\centerdot8\\cdots}{3\\centerdot3\\centerdot5\\centerdot5\\centerdot7\\centerdot7\\cdots}$$"
   ]
  },
  {
   "cell_type": "markdown",
   "metadata": {},
   "source": [
    "### Answer:"
   ]
  },
  {
   "cell_type": "markdown",
   "metadata": {},
   "source": [
    "1.The product procedure as follows."
   ]
  },
  {
   "cell_type": "code",
   "execution_count": 1,
   "metadata": {
    "collapsed": false
   },
   "outputs": [
    {
     "name": "stdout",
     "output_type": "stream",
     "text": [
      "(define (product term a next b)\r\n",
      "  (if (> a b) 1\r\n",
      "      (* (term a)\r\n",
      "         (product term (next a) next b))))\r\n"
     ]
    }
   ],
   "source": [
    "cat 1.3/product_by_recursion.scm"
   ]
  },
  {
   "cell_type": "markdown",
   "metadata": {},
   "source": [
    "2.Redefine factorial procedure in terms of product procedure."
   ]
  },
  {
   "cell_type": "code",
   "execution_count": 2,
   "metadata": {
    "collapsed": false
   },
   "outputs": [
    {
     "name": "stdout",
     "output_type": "stream",
     "text": [
      "(load \"1.3/product_by_recursion.scm\")\r\n",
      "\r\n",
      "(define (identity x) x)\r\n",
      "(define (inc n) (+ n 1))\r\n",
      "\r\n",
      "(define (factorial b)\r\n",
      "  (product identity 1 inc b))\r\n"
     ]
    }
   ],
   "source": [
    "cat 1.3/factorial_by_product_by_recursion.scm"
   ]
  },
  {
   "cell_type": "raw",
   "metadata": {},
   "source": [
    "Running Instance:\n",
    "\n",
    "1 ]=> (load \"1.3/factorial_by_product_by_recursion.scm\")\n",
    "\n",
    ";Loading \"1.3/factorial_by_product_by_recursion.scm\"...\n",
    ";  Loading \"1.3/product_by_recursion.scm\"... done\n",
    ";... done\n",
    ";Value: factorial\n",
    "\n",
    "1 ]=> (factorial 6)\n",
    "\n",
    ";Value: 720\n",
    "\n",
    "1 ]=> (factorial 20)\n",
    "\n",
    ";Value: 2432902008176640000"
   ]
  },
  {
   "cell_type": "markdown",
   "metadata": {},
   "source": [
    "3.Use product to compute approximations to $\\pi$."
   ]
  },
  {
   "cell_type": "code",
   "execution_count": 3,
   "metadata": {
    "collapsed": false
   },
   "outputs": [
    {
     "name": "stdout",
     "output_type": "stream",
     "text": [
      "(load \"1.3/product_by_recursion.scm\")\r\n",
      "\r\n",
      "(define (pi-next n) (+ n 2))\r\n",
      "(define (pi-term a)\r\n",
      "  ( * 1.0 (/ (* a (pi-next a)) (square (+ a 1)))))\r\n",
      "\r\n",
      "(define (product-pi a b)\r\n",
      "  (product pi-term a pi-next b))\r\n"
     ]
    }
   ],
   "source": [
    "cat 1.3/product_pi_by_recursion.scm"
   ]
  },
  {
   "cell_type": "raw",
   "metadata": {},
   "source": [
    "Running Instance:\n",
    "\n",
    "1 ]=> (load \"1.3/product_pi_by_recursion.scm\")\n",
    "\n",
    ";Loading \"1.3/product_pi_by_recursion.scm\"...\n",
    ";  Loading \"1.3/product_by_recursion.scm\"... done\n",
    ";... done\n",
    ";Value: product-pi\n",
    "\n",
    "1 ]=> (* 4 (product-pi 2 1000))\n",
    "\n",
    ";Value: 3.1431607055322752\n",
    "\n",
    "1 ]=> (* 4 (product-pi 2 10000))\n",
    "\n",
    ";Value: 3.141749705738071\n",
    "\n",
    "1 ]=> (* 4 (product-pi 2 100000))\n",
    "\n",
    ";Aborting!: maximum recursion depth exceeded"
   ]
  },
  {
   "cell_type": "markdown",
   "metadata": {},
   "source": [
    "b. If your product procedure generates a recursive process,write one that generates an iterative process. If it generates an iterative process, write one that generates a recursive process."
   ]
  },
  {
   "cell_type": "markdown",
   "metadata": {
    "collapsed": true
   },
   "source": [
    "### Answer:"
   ]
  },
  {
   "cell_type": "markdown",
   "metadata": {},
   "source": [
    "Since the product procedure above generates a recursive process;we should write one that generates an iterative process"
   ]
  },
  {
   "cell_type": "markdown",
   "metadata": {},
   "source": [
    "1.The product procedure as follows."
   ]
  },
  {
   "cell_type": "code",
   "execution_count": 5,
   "metadata": {
    "collapsed": false
   },
   "outputs": [
    {
     "name": "stdout",
     "output_type": "stream",
     "text": [
      "(define (product term a next b)\r\n",
      "  (define (iter a result)\r\n",
      "    (if (> a b) result\r\n",
      "        (iter (next a)\r\n",
      "              (* (term a) result))))\r\n",
      "  (iter a 1))\r\n"
     ]
    }
   ],
   "source": [
    "cat 1.3/product_by_iteration.scm"
   ]
  },
  {
   "cell_type": "markdown",
   "metadata": {},
   "source": [
    "Test:"
   ]
  },
  {
   "cell_type": "markdown",
   "metadata": {},
   "source": [
    "2.Redefine factorial procedure"
   ]
  },
  {
   "cell_type": "code",
   "execution_count": 6,
   "metadata": {
    "collapsed": false
   },
   "outputs": [
    {
     "name": "stdout",
     "output_type": "stream",
     "text": [
      "(load \"1.3/product_by_iteration.scm\")\r\n",
      "\r\n",
      "(define (identity x) x)\r\n",
      "(define (inc n) (+ n 1))\r\n",
      "\r\n",
      "(define (factorial b)\r\n",
      "  (product identity 1 inc b))\r\n"
     ]
    }
   ],
   "source": [
    "cat 1.3/factorial_by_product_by_iteration.scm"
   ]
  },
  {
   "cell_type": "raw",
   "metadata": {},
   "source": [
    "Running Instance:\n",
    "\n",
    "1 ]=> (load \"1.3/factorial_by_product_by_iteration.scm\")\n",
    "\n",
    ";Loading \"1.3/factorial_by_product_by_iteration.scm\"...\n",
    ";  Loading \"1.3/product_by_iteration.scm\"... done\n",
    ";... done\n",
    ";Value: factorial\n",
    "\n",
    "1 ]=> (factorial 6)\n",
    "\n",
    ";Value: 720\n",
    "\n",
    "1 ]=> (factorial 20)\n",
    "\n",
    ";Value: 2432902008176640000"
   ]
  },
  {
   "cell_type": "markdown",
   "metadata": {},
   "source": [
    "3.Use product to compute approximations to $\\pi$"
   ]
  },
  {
   "cell_type": "code",
   "execution_count": 7,
   "metadata": {
    "collapsed": false
   },
   "outputs": [
    {
     "name": "stdout",
     "output_type": "stream",
     "text": [
      "(load \"1.3/product_by_iteration.scm\")\r\n",
      "\r\n",
      "(define (pi-next n) (+ n 2))\r\n",
      "(define (pi-term a)\r\n",
      "  ( * 1.0 (/ (* a (pi-next a)) (square (+ a 1)))))\r\n",
      "\r\n",
      "(define (product-pi a b)\r\n",
      "  (product pi-term a pi-next b))\r\n"
     ]
    }
   ],
   "source": [
    "cat 1.3/product_pi_by_iteration.scm"
   ]
  },
  {
   "cell_type": "raw",
   "metadata": {},
   "source": [
    "Running Instance:\n",
    "\n",
    "1 ]=> (load \"1.3/product_pi_by_iteration.scm\")\n",
    "\n",
    ";Loading \"1.3/product_pi_by_iteration.scm\"...\n",
    ";  Loading \"1.3/product_by_iteration.scm\"... done\n",
    ";... done\n",
    ";Value: product-pi\n",
    "\n",
    "1 ]=> (* 4 (product-pi 2 1000))\n",
    "\n",
    ";Value: 3.1431607055322712\n",
    "\n",
    "1 ]=> (* 4 (product-pi 2 10000))\n",
    "\n",
    ";Value: 3.141749705738071\n",
    "\n",
    "1 ]=> (* 4 (product-pi 2 100000))\n",
    "\n",
    ";Value: 3.141608361278168\n",
    "\n",
    "1 ]=> (* 4 (product-pi 2 100000000))\n",
    "\n",
    ";Value: 3.141592667943379"
   ]
  },
  {
   "cell_type": "markdown",
   "metadata": {},
   "source": [
    "### Exercise 1.32:\n",
    "#### a. \n",
    "Show that $sum$ and $product$ (Exercise 1.31) are both special cases of a still more general notion called $accumulate$ that combines a collection of terms, using some general accumulation function:"
   ]
  },
  {
   "cell_type": "raw",
   "metadata": {},
   "source": [
    "           (accumulate combiner null-value term a next b)"
   ]
  },
  {
   "cell_type": "markdown",
   "metadata": {},
   "source": [
    "$accumulate$ takes as arguments the same term and range specifications as $sum$ and $product$, together with a $combiner$ procedure (of two arguments) that specifies how the current term is to be combined with the accumulation of the preceding terms and a null-value that specifies what base value to use when the terms run out. Write $accumulate$ and show how $sum$ and $product$ can both be defined as simple calls to $accumulate$."
   ]
  },
  {
   "cell_type": "markdown",
   "metadata": {},
   "source": [
    "1.The $accumulate$ recursive procedure:"
   ]
  },
  {
   "cell_type": "code",
   "execution_count": 8,
   "metadata": {
    "collapsed": false
   },
   "outputs": [
    {
     "name": "stdout",
     "output_type": "stream",
     "text": [
      "(define (accumulate combiner null-value term a next b)\r\n",
      "  (if (> a b) null-value\r\n",
      "      (combiner (term a)\r\n",
      "                (accumulate combiner\r\n",
      "                            null-value\r\n",
      "                            term\r\n",
      "                            (next a)\r\n",
      "                            next\r\n",
      "                            b))))\r\n"
     ]
    }
   ],
   "source": [
    "cat 1.3/accumulate_by_recursion.scm"
   ]
  },
  {
   "cell_type": "markdown",
   "metadata": {},
   "source": [
    "2.Redefine the $sum$ procedure by way of the $accumulate$ recursive procedure:"
   ]
  },
  {
   "cell_type": "code",
   "execution_count": 11,
   "metadata": {
    "collapsed": false
   },
   "outputs": [
    {
     "name": "stdout",
     "output_type": "stream",
     "text": [
      "(load \"1.3/accumulate_by_recursion.scm\")\r\n",
      "\r\n",
      "(define (sum term a next b)\r\n",
      "  (accumulate + 0 term a next b))\r\n"
     ]
    }
   ],
   "source": [
    "cat 1.3/sum_by_accumulate_by_recursion.scm"
   ]
  },
  {
   "cell_type": "markdown",
   "metadata": {},
   "source": [
    "3.Redefine the $product$ procedure by way of the $accumulate$ recursive procedure:"
   ]
  },
  {
   "cell_type": "code",
   "execution_count": 14,
   "metadata": {
    "collapsed": false
   },
   "outputs": [
    {
     "name": "stdout",
     "output_type": "stream",
     "text": [
      "(load \"1.3/accumulate_by_recursion.scm\")\r\n",
      "\r\n",
      "(define (product term a next b)\r\n",
      "  (accumulate * 1 term a next b))\r\n"
     ]
    }
   ],
   "source": [
    "cat 1.3/product_by_accumulate_by_recursion.scm"
   ]
  },
  {
   "cell_type": "markdown",
   "metadata": {},
   "source": [
    "#### Test:"
   ]
  },
  {
   "cell_type": "markdown",
   "metadata": {},
   "source": [
    "1.summation"
   ]
  },
  {
   "cell_type": "code",
   "execution_count": 20,
   "metadata": {
    "collapsed": false
   },
   "outputs": [
    {
     "name": "stdout",
     "output_type": "stream",
     "text": [
      "(load \"1.3/sum_by_accumulate_by_recursion.scm\")\r\n",
      "\r\n",
      "(define (identity x) x)\r\n",
      "(define (inc n) (+ n 1))\r\n",
      "\r\n",
      "(define (sum-integers a b)\r\n",
      "  (sum identity a inc b))\r\n"
     ]
    }
   ],
   "source": [
    "cat 1.3/sum_integers_by_accumulate_by_recursion.scm"
   ]
  },
  {
   "cell_type": "raw",
   "metadata": {},
   "source": [
    "Running Instance:\n",
    "\n",
    "1 ]=> (load \"1.3/sum_integers_by_accumulate_by_recursion.scm\")\n",
    "\n",
    ";Loading \"1.3/sum_integers_by_accumulate_by_recursion.scm\"...\n",
    ";  Loading \"1.3/sum_by_accumulate_by_recursion.scm\"...\n",
    ";    Loading \"1.3/accumulate_by_recursion.scm\"... done\n",
    ";  ... done\n",
    ";... done\n",
    ";Value: sum-integers\n",
    "\n",
    "1 ]=> (sum-integers 1 10000)\n",
    "\n",
    ";Value: 50005000"
   ]
  },
  {
   "cell_type": "markdown",
   "metadata": {},
   "source": [
    "2.product"
   ]
  },
  {
   "cell_type": "code",
   "execution_count": 22,
   "metadata": {
    "collapsed": false
   },
   "outputs": [
    {
     "name": "stdout",
     "output_type": "stream",
     "text": [
      "(load \"1.3/product_by_accumulate_by_recursion.scm\")\r\n",
      "\r\n",
      "(define (pi-next n) (+ n 2))\r\n",
      "(define (pi-term a)\r\n",
      "    (* 1.0 (/ (* a (pi-next a)) (square (+ a 1)))))\r\n",
      "\r\n",
      "(define (product-pi a b)\r\n",
      "    (product pi-term a pi-next b))\r\n"
     ]
    }
   ],
   "source": [
    "cat 1.3/product_pi_by_accumulate_by_recursion.scm"
   ]
  },
  {
   "cell_type": "raw",
   "metadata": {},
   "source": [
    "1 ]=> (load \"1.3/product_pi_by_accumulate_by_recursion.scm\")\n",
    "\n",
    ";Loading \"1.3/product_pi_by_accumulate_by_recursion.scm\"...\n",
    ";  Loading \"1.3/product_by_accumulate_by_recursion.scm\"...\n",
    ";    Loading \"1.3/accumulate_by_recursion.scm\"... done\n",
    ";  ... done\n",
    ";... done\n",
    ";Value: product-pi\n",
    "\n",
    "1 ]=> (* 4 (product-pi 2 1000))\n",
    "\n",
    ";Value: 3.1431607055322752\n",
    "\n",
    "1 ]=> (* 4 (product-pi 2 10000))\n",
    "\n",
    ";Value: 3.141749705738071\n",
    "\n",
    "1 ]=> (* 4 (product-pi 2 100000))\n",
    "\n",
    ";Aborting!: maximum recursion depth exceeded"
   ]
  },
  {
   "cell_type": "markdown",
   "metadata": {},
   "source": [
    "#### b. \n",
    "If your $accumulate$ procedure generates a recursive process, write one that generates an iterative process.If it generates an iterative process, write one that generates a recursive process."
   ]
  },
  {
   "cell_type": "markdown",
   "metadata": {},
   "source": [
    "1.The accumulate iterative procedure:"
   ]
  },
  {
   "cell_type": "code",
   "execution_count": 10,
   "metadata": {
    "collapsed": false
   },
   "outputs": [
    {
     "name": "stdout",
     "output_type": "stream",
     "text": [
      "(define (accumulate combiner null-value term a next b)\r\n",
      "  (define (iter a result)\r\n",
      "    (if (> a b) result\r\n",
      "        (iter (next a)\r\n",
      "              (combiner (term a) result))))\r\n",
      "  (iter a null-value))\r\n"
     ]
    }
   ],
   "source": [
    "cat 1.3/accumulate_by_iteration.scm"
   ]
  },
  {
   "cell_type": "markdown",
   "metadata": {},
   "source": [
    "2.Redefine the sum procedure by way of the accumulate iterative procedure:"
   ]
  },
  {
   "cell_type": "code",
   "execution_count": 13,
   "metadata": {
    "collapsed": false
   },
   "outputs": [
    {
     "name": "stdout",
     "output_type": "stream",
     "text": [
      "(load \"1.3/accumulate_by_iteration.scm\")\r\n",
      "\r\n",
      "(define (sum term a next b)\r\n",
      "  (accumulate + 0 term a next b))\r\n"
     ]
    }
   ],
   "source": [
    "cat 1.3/sum_by_accumulate_by_iteration.scm"
   ]
  },
  {
   "cell_type": "markdown",
   "metadata": {},
   "source": [
    "3.Redefine the $product$ procedure by way of the $accumulate$ iterative procedure:"
   ]
  },
  {
   "cell_type": "code",
   "execution_count": 15,
   "metadata": {
    "collapsed": false
   },
   "outputs": [
    {
     "name": "stdout",
     "output_type": "stream",
     "text": [
      "(load \"1.3/accumulate_by_iteration.scm\")\r\n",
      "\r\n",
      "(define (product term a next b)\r\n",
      "  (accumulate * 1 term a next b))\r\n"
     ]
    }
   ],
   "source": [
    "cat 1.3/product_by_accumulate_by_iteration.scm"
   ]
  },
  {
   "cell_type": "markdown",
   "metadata": {},
   "source": [
    "#### Test:"
   ]
  },
  {
   "cell_type": "markdown",
   "metadata": {},
   "source": [
    "1.summation"
   ]
  },
  {
   "cell_type": "code",
   "execution_count": 21,
   "metadata": {
    "collapsed": false
   },
   "outputs": [
    {
     "name": "stdout",
     "output_type": "stream",
     "text": [
      "(load \"1.3/sum_by_accumulate_by_iteration.scm\")\r\n",
      "\r\n",
      "(define (identity x) x)\r\n",
      "(define (inc n) (+ n 1))\r\n",
      "\r\n",
      "(define (sum-integers a b)\r\n",
      "  (sum identity a inc b))\r\n"
     ]
    }
   ],
   "source": [
    "cat 1.3/sum_integers_by_accumulate_by_iteration.scm"
   ]
  },
  {
   "cell_type": "raw",
   "metadata": {},
   "source": [
    "Running Instance:\n",
    "\n",
    "1 ]=> (load \"1.3/sum_integers_by_accumulate_by_iteration.scm\")\n",
    "\n",
    ";Loading \"1.3/sum_integers_by_accumulate_by_iteration.scm\"...\n",
    ";  Loading \"1.3/sum_by_accumulate_by_iteration.scm\"...\n",
    ";    Loading \"1.3/accumulate_by_iteration.scm\"... done\n",
    ";  ... done\n",
    ";... done\n",
    ";Value: sum-integers\n",
    "\n",
    "1 ]=> (sum-integers 1 10000)\n",
    "\n",
    ";Value: 50005000"
   ]
  },
  {
   "cell_type": "markdown",
   "metadata": {},
   "source": [
    "2.product"
   ]
  },
  {
   "cell_type": "code",
   "execution_count": 23,
   "metadata": {
    "collapsed": false
   },
   "outputs": [
    {
     "name": "stdout",
     "output_type": "stream",
     "text": [
      "(load \"1.3/product_by_accumulate_by_iteration.scm\")\r\n",
      "\r\n",
      "(define (pi-next n) (+ n 2))\r\n",
      "(define (pi-term a)\r\n",
      "    ( * 1.0 (/ (* a (pi-next a)) (square (+ a 1)))))\r\n",
      "\r\n",
      "(define (product-pi a b)\r\n",
      "    (product pi-term a pi-next b))\r\n"
     ]
    }
   ],
   "source": [
    "cat 1.3/product_pi_by_accumulate_by_iteration.scm"
   ]
  },
  {
   "cell_type": "raw",
   "metadata": {},
   "source": [
    "1 ]=> (load \"1.3/product_pi_by_accumulate_by_iteration.scm\")\n",
    "\n",
    ";Loading \"1.3/product_pi_by_accumulate_by_iteration.scm\"...\n",
    ";  Loading \"1.3/product_by_accumulate_by_iteration.scm\"...\n",
    ";    Loading \"1.3/accumulate_by_iteration.scm\"... done\n",
    ";  ... done\n",
    ";... done\n",
    ";Value: product-pi\n",
    "\n",
    "1 ]=> (* 4 (product-pi 2 1000))\n",
    "\n",
    ";Value: 3.1431607055322712\n",
    "\n",
    "1 ]=> (* 4 (product-pi 2 10000))\n",
    "\n",
    ";Value: 3.141749705738071\n",
    "\n",
    "1 ]=> (* 4 (product-pi 2 100000))\n",
    "\n",
    ";Value: 3.141608361278168\n",
    "\n",
    "1 ]=> (* 4 (product-pi 2 10000000))\n",
    "\n",
    ";Value: 3.1415928106708866\n",
    "\n",
    "1 ]=> (* 4 (product-pi 2 100000000))\n",
    "\n",
    ";Value: 3.141592667943379"
   ]
  },
  {
   "cell_type": "markdown",
   "metadata": {},
   "source": [
    "### Exercise 1.33:\n",
    "You can obtain an even more general version of $accumulate$ (Exercise 1.32) by introducing the notion of a $filter$ on the terms to be combined. That is, combine only those terms derived from values in the range that satisfy a specified condition. The resulting $filtered$-$accumulate$ abstraction takes the same arguments as $accumulate$, together with an additional predicate of one argument that specifies the $filter$. Write filtered accumulate as a procedure.Show how to express the following using $filtered$-$accumulate$:"
   ]
  },
  {
   "cell_type": "markdown",
   "metadata": {},
   "source": [
    "### Answer:"
   ]
  },
  {
   "cell_type": "markdown",
   "metadata": {},
   "source": [
    "#### A.The filtered-accumulate recursive procedure:"
   ]
  },
  {
   "cell_type": "code",
   "execution_count": 24,
   "metadata": {
    "collapsed": false
   },
   "outputs": [
    {
     "name": "stdout",
     "output_type": "stream",
     "text": [
      "(define (filtered-accumulate combine null-value term a next b valid)\r\n",
      "  (if (> a b) null-value\r\n",
      "      (if (valid a)\r\n",
      "         (combine (term a)\r\n",
      "                  (filtered-accumulate combine\r\n",
      "                                       null-value\r\n",
      "                                       term\r\n",
      "                                       (next a)\r\n",
      "                                       next\r\n",
      "                                       b\r\n",
      "                                       valid))\r\n",
      "        (filtered-accumulate combine\r\n",
      "       \t                     null-value\r\n",
      "       \t                     term\r\n",
      "       \t                     (next a)\r\n",
      "       \t                     next\r\n",
      "       \t                     b\r\n",
      "       \t                     valid))))\r\n"
     ]
    }
   ],
   "source": [
    "cat 1.3/filtered_accumulate_by_recursion.scm"
   ]
  },
  {
   "cell_type": "markdown",
   "metadata": {},
   "source": [
    "#### a. \n",
    "the $sum$ of the squares of the prime numbers in the interval a to b (assuming that you have a $prime$ predicate already written)"
   ]
  },
  {
   "cell_type": "code",
   "execution_count": 25,
   "metadata": {
    "collapsed": false
   },
   "outputs": [
    {
     "name": "stdout",
     "output_type": "stream",
     "text": [
      "(load \"1.3/filtered_accumulate_by_recursion.scm\")\r\n",
      "(load \"1.2/prime_by_search_divisor1.scm\")\r\n",
      "\r\n",
      "(define (inc n) (+ n 1))\r\n",
      "\r\n",
      "(define (sum-prime a b)\r\n",
      "  (filtered-accumulate + 0 square a inc b prime))\r\n"
     ]
    }
   ],
   "source": [
    "cat 1.3/sum_square_of_prime_by_filtered_accumulate_by_recursion.scm"
   ]
  },
  {
   "cell_type": "raw",
   "metadata": {},
   "source": [
    "Running Instance:\n",
    "\n",
    "1 ]=> (load \"1.3/sum_square_of_prime_by_filtered_accumulate_by_recursion.scm\")\n",
    "\n",
    ";Loading \"1.3/sum_square_of_prime_by_filtered_accumulate_by_recursion.scm\"...\n",
    ";  Loading \"1.3/filtered_accumulate_by_recursion.scm\"... done\n",
    ";  Loading \"1.2/prime_by_search_divisor1.scm\"... done\n",
    ";... done\n",
    ";Value: sum-prime\n",
    "\n",
    "1 ]=> (sum-prime 1 5)\n",
    "\n",
    ";Value: 38\n",
    "\n",
    "1 ]=> (sum-prime 1 10)\n",
    "\n",
    ";Value: 87\n",
    "\n",
    "1 ]=> (sum-prime 10 100)\n",
    "\n",
    ";Value: 65709"
   ]
  },
  {
   "cell_type": "markdown",
   "metadata": {},
   "source": [
    "#### b. \n",
    "the $product$ of all the positive integers less than n that are relatively prime to n  \n",
    "(i.e., all positive integers $i < n$ such that $GCD(i,n) = 1$)."
   ]
  },
  {
   "cell_type": "code",
   "execution_count": 26,
   "metadata": {
    "collapsed": false
   },
   "outputs": [
    {
     "name": "stdout",
     "output_type": "stream",
     "text": [
      "(load \"1.3/filtered_accumulate_by_recursion.scm\")\r\n",
      "(load \"1.2/gcd_by_Euclid_Algorithm.scm\")\r\n",
      "\r\n",
      "(define (identity x) x)\r\n",
      "(define (coprime a b) (and (< a b) (= 1 (gcd a b))))\r\n",
      "(define (inc n) (+ n 1))\r\n",
      "\r\n",
      "(define (product-of-coprimes n)\r\n",
      "  (filtered-accumulate * 1 identity 1 inc n (lambda (x) (coprime x n))))\r\n"
     ]
    }
   ],
   "source": [
    "cat 1.3/product_of_coprimes.scm"
   ]
  },
  {
   "cell_type": "raw",
   "metadata": {},
   "source": [
    "Running Instance:\n",
    "\n",
    "1 ]=> (load \"1.3/product_of_coprimes.scm\")\n",
    "\n",
    ";Loading \"1.3/product_of_coprimes.scm\"...\n",
    ";  Loading \"1.3/filtered_accumulate_by_recursion.scm\"... done\n",
    ";  Loading \"1.2/gcd_by_Euclid_Algorithm.scm\"... done\n",
    ";... done\n",
    ";Value: product-of-coprimes\n",
    "\n",
    "1 ]=> (product-of-coprimes 5)\n",
    "\n",
    ";Value: 24\n",
    "\n",
    "1 ]=> (product-of-coprimes 10)\n",
    "\n",
    ";Value: 189\n",
    "\n",
    "1 ]=> (product-of-coprimes 100)\n",
    "\n",
    ";Value: 426252881942771063138176712755660145456313428952105524817872601"
   ]
  },
  {
   "cell_type": "markdown",
   "metadata": {},
   "source": [
    "#### B.The filtered-accumulate iterative procedure:"
   ]
  },
  {
   "cell_type": "code",
   "execution_count": 1,
   "metadata": {
    "collapsed": false
   },
   "outputs": [
    {
     "name": "stdout",
     "output_type": "stream",
     "text": [
      "(define (filtered-accumulate combine null-value term a next b valid)\r\n",
      "  (define (iter i result)\r\n",
      "    (cond ((> i b) result)\r\n",
      "          ((valid i)\r\n",
      "           (iter (next i) (combine (term i) result)))\r\n",
      "          (else (iter (next i) result))))\r\n",
      "  (iter a null-value))\r\n"
     ]
    }
   ],
   "source": [
    "cat 1.3/filtered_accumulate_by_iteration.scm"
   ]
  },
  {
   "cell_type": "markdown",
   "metadata": {
    "collapsed": true
   },
   "source": [
    "#### a.\n",
    "the sum of the cubes of the prime numbers in the interval a to b:"
   ]
  },
  {
   "cell_type": "code",
   "execution_count": 2,
   "metadata": {
    "collapsed": false
   },
   "outputs": [
    {
     "name": "stdout",
     "output_type": "stream",
     "text": [
      "(load \"1.3/filtered_accumulate_by_iteration.scm\")\r\n",
      "(load \"1.2/prime_by_search_divisor1.scm\")\r\n",
      "\r\n",
      "(define (inc n) (+ n 1))\r\n",
      "(define (cube x) (* x x x))\r\n",
      "\r\n",
      "(define (sum-prime a b)\r\n",
      "  (filtered-accumulate + 0 cube a inc b prime))\r\n"
     ]
    }
   ],
   "source": [
    "cat 1.3/sum_cube_of_prime_by_filtered_accumulate_by_iteration.scm"
   ]
  },
  {
   "cell_type": "raw",
   "metadata": {},
   "source": [
    "Running Instance:\n",
    "\n",
    "1 ]=> (load \"1.3/sum_cube_of_prime_by_filtered_accumulate_by_iteration.scm\")\n",
    "\n",
    ";Loading \"1.3/sum_cube_of_prime_by_filtered_accumulate_by_iteration.scm\"...\n",
    ";  Loading \"1.3/filtered_accumulate_by_iteration.scm\"... done\n",
    ";  Loading \"1.2/prime_by_search_divisor1.scm\"... done\n",
    ";... done\n",
    ";Value: sum-prime\n",
    "\n",
    "1 ]=> (sum-prime 1 5)\n",
    "\n",
    ";Value: 160\n",
    "\n",
    "1 ]=> (sum-prime 1 10)\n",
    "\n",
    ";Value: 503\n",
    "\n",
    "1 ]=> (sum-prime 10 100)\n",
    "\n",
    ";Value: 4695947"
   ]
  },
  {
   "cell_type": "markdown",
   "metadata": {},
   "source": [
    "#### b.\n",
    "the product of all the positive even integers less than n to n:"
   ]
  },
  {
   "cell_type": "code",
   "execution_count": 3,
   "metadata": {
    "collapsed": false
   },
   "outputs": [
    {
     "name": "stdout",
     "output_type": "stream",
     "text": [
      "(load \"1.3/filtered_accumulate_by_iteration.scm\")\r\n",
      "\r\n",
      "(define (identity x) x)\r\n",
      "(define (inc n) (+ n 1))\r\n",
      "\r\n",
      "(define (sum-even-integers n)\r\n",
      "  (filtered-accumulate + 0 identity 1 inc n even?))\r\n"
     ]
    }
   ],
   "source": [
    "cat 1.3/sum_even_integers_by_filtered_accumulate_by_iteration.scm"
   ]
  },
  {
   "cell_type": "raw",
   "metadata": {},
   "source": [
    "Running Instance:\n",
    "\n",
    "1 ]=> (load \"1.3/sum_even_integers_by_filtered_accumulate_by_iteration.scm\")\n",
    "\n",
    ";Loading \"1.3/sum_even_integers_by_filtered_accumulate_by_iteration.scm\"...\n",
    ";  Loading \"1.3/filtered_accumulate_by_iteration.scm\"... done\n",
    ";... done\n",
    ";Value: sum-even-integers\n",
    "\n",
    "1 ]=> (sum-even-integers 10)\n",
    "\n",
    ";Value: 30\n",
    "\n",
    "1 ]=> (sum-even-integers 100)\n",
    "\n",
    ";Value: 2550\n",
    "\n",
    "1 ]=> (sum-even-integers 1000)\n",
    "\n",
    ";Value: 250500"
   ]
  },
  {
   "cell_type": "markdown",
   "metadata": {},
   "source": [
    "## 1.3.2 Constructing Procedures Using $lambda$"
   ]
  },
  {
   "cell_type": "markdown",
   "metadata": {},
   "source": [
    "In using $sum$ as in Section 1.3.1, it seems terribly awkward to have to define trivial procedures such as $pi$-$term$ and $pi$-$next$ just so we can use them as arguments to our higher-order procedure. Rather than define $pi$-$next$ and $pi$-$term$, it would be more convenient to have a way to directly specify “the procedure that returns its input incremented by 4” and “the procedure that returns the reciprocal of its input times its input plus 2.” We can do this by introducing the special form $lambda$, which creates procedures. Using $lambda$ we can describe what we want as"
   ]
  },
  {
   "cell_type": "raw",
   "metadata": {},
   "source": [
    "(lambda (x) (+ x 4))"
   ]
  },
  {
   "cell_type": "markdown",
   "metadata": {},
   "source": [
    "and"
   ]
  },
  {
   "cell_type": "raw",
   "metadata": {},
   "source": [
    "(lambda (x) (/ 1.0 (* x (+ x 2))))"
   ]
  },
  {
   "cell_type": "markdown",
   "metadata": {},
   "source": [
    "Then our $pi$-$sum$ procedure can be expressed without defining any auxiliary procedures as"
   ]
  },
  {
   "cell_type": "code",
   "execution_count": 4,
   "metadata": {
    "collapsed": false
   },
   "outputs": [
    {
     "name": "stdout",
     "output_type": "stream",
     "text": [
      "(load \"1.3/sum_by_recursion.scm\")\r\n",
      "\r\n",
      "(define (pi-sum a b)\r\n",
      "  (sum (lambda (x) (/ 1.0 (* x (+ x 2))))\r\n",
      "       a\r\n",
      "       (lambda (x) (+ x 4))\r\n",
      "       b))\r\n"
     ]
    }
   ],
   "source": [
    "cat 1.3/sum_pi_by_lambda_by_recursion.scm"
   ]
  },
  {
   "cell_type": "raw",
   "metadata": {},
   "source": [
    "Running Instance:\n",
    "\n",
    "1 ]=> (load \"1.3/sum_pi_by_lambda_by_recursion.scm\")\n",
    "\n",
    ";Loading \"1.3/sum_pi_by_lambda_by_recursion.scm\"...\n",
    ";  Loading \"1.3/sum_by_recursion.scm\"... done\n",
    ";... done\n",
    ";Value: pi-sum\n",
    "\n",
    "1 ]=> (* 8 (pi-sum 1 1000))\n",
    "\n",
    ";Value: 3.139592655589783\n",
    "\n",
    "1 ]=> (* 8 (pi-sum 1 10000))\n",
    "\n",
    ";Value: 3.141392653591793"
   ]
  },
  {
   "cell_type": "markdown",
   "metadata": {},
   "source": [
    "Again using $lambda$, we can write the $integral$ procedure without having to define the auxiliary procedure $add$-$dx$:"
   ]
  },
  {
   "cell_type": "code",
   "execution_count": 6,
   "metadata": {
    "collapsed": false
   },
   "outputs": [
    {
     "name": "stdout",
     "output_type": "stream",
     "text": [
      "(load \"1.3/sum_by_recursion.scm\")\r\n",
      "\r\n",
      "(define (integral f a b dx)\r\n",
      "  (* (sum f\r\n",
      "          (+ a (/ dx 2.0))\r\n",
      "          (lambda (x) (+ x dx))\r\n",
      "          b)\r\n",
      "     dx))\r\n"
     ]
    }
   ],
   "source": [
    "cat 1.3/compute_integral_for_function_by_lambda.scm"
   ]
  },
  {
   "cell_type": "raw",
   "metadata": {},
   "source": [
    "Running Instance:\n",
    "\n",
    "1 ]=> (load \"1.3/compute_integral_for_function_by_lambda.scm\")\n",
    "\n",
    ";Loading \"1.3/compute_integral_for_function_by_lambda.scm\"...\n",
    ";  Loading \"1.3/sum_by_recursion.scm\"... done\n",
    ";... done\n",
    ";Value: integral\n",
    "\n",
    "1 ]=> (integral cube 0 1 0.01)\n",
    "\n",
    ";Value: .24998750000000042\n",
    "\n",
    "1 ]=> (integral cube 0 1 0.001)\n",
    "\n",
    ";Value: .249999875000001\n",
    "\n",
    "1 ]=> (integral cube 0 1 0.0001)\n",
    "\n",
    ";Value: .24999999874993412"
   ]
  },
  {
   "cell_type": "markdown",
   "metadata": {},
   "source": [
    "In general, $lambda$ is used to create procedures in the same way as $define$, except that no name is specified for the procedure:"
   ]
  },
  {
   "cell_type": "raw",
   "metadata": {},
   "source": [
    "(lambda (⟨formal-parameters⟩) ⟨body⟩)"
   ]
  },
  {
   "cell_type": "markdown",
   "metadata": {},
   "source": [
    "The resulting procedure is just as much a procedure as one that is created using $define$.   \n",
    "The only difference is that it has not been associated with any name in the environment. In fact,"
   ]
  },
  {
   "cell_type": "raw",
   "metadata": {},
   "source": [
    "(define (plus4 x) (+ x 4))"
   ]
  },
  {
   "cell_type": "markdown",
   "metadata": {},
   "source": [
    "is equivalent to"
   ]
  },
  {
   "cell_type": "raw",
   "metadata": {},
   "source": [
    "(define plus4 (lambda (x) (+ x 4)))"
   ]
  },
  {
   "cell_type": "markdown",
   "metadata": {},
   "source": [
    "Like any expression that has a procedure as its value, a $lambda$ expression can be used as the operator in a combination such as"
   ]
  },
  {
   "cell_type": "raw",
   "metadata": {},
   "source": [
    "1 ]=> ((lambda (x y z) (+ x y (square z))) 1 2 3)\n",
    "\n",
    ";Value: 12"
   ]
  },
  {
   "cell_type": "markdown",
   "metadata": {},
   "source": [
    "### Using $let$ to create $local$ $variables$"
   ]
  },
  {
   "cell_type": "markdown",
   "metadata": {},
   "source": [
    "Another use of $lambda$ is in creating $local$ $variables$.   \n",
    "We often need $local$ $variables$ in our procedures other than those that have been bound as $formal$ $parameters$.   \n",
    "For example, suppose we wish to compute the function"
   ]
  },
  {
   "cell_type": "markdown",
   "metadata": {},
   "source": [
    "$$f(x,y) = x(1 + xy)^2 + y(1 - y) + (1 + xy)(1 -y),$$"
   ]
  },
  {
   "cell_type": "markdown",
   "metadata": {},
   "source": [
    "which we could also express as"
   ]
  },
  {
   "cell_type": "markdown",
   "metadata": {},
   "source": [
    "$$a = 1 + xy,$$\n",
    "$$b = 1 - y,$$\n",
    "$$f(x,y) = xa^2 + yb + ab.$$"
   ]
  },
  {
   "cell_type": "markdown",
   "metadata": {},
   "source": [
    "In writing a procedure to compute $f$ , we would like to include as $local$ $variables$ not only $x$ and $y$ but also the names of intermediate quantities like $a$ and $b$. One way to accomplish this is to use an auxiliary procedure to bind the $local$ $variables$:"
   ]
  },
  {
   "cell_type": "raw",
   "metadata": {},
   "source": [
    "(define (f x y)\n",
    "  (define (f-helper a b)\n",
    "   (+ (* x (square a))\n",
    "     (* y b)\n",
    "     (* a b)))\n",
    "  (f-helper (+ 1 (* x y)) (- 1 y)))"
   ]
  },
  {
   "cell_type": "markdown",
   "metadata": {},
   "source": [
    "Of course, we could use a $lambda$ expression to specify an anonymous procedure for binding our $local$ $variables$. The body of $f$ then becomes a single call to that procedure:"
   ]
  },
  {
   "cell_type": "raw",
   "metadata": {},
   "source": [
    "(define (f x y)\n",
    "  ((lambda (a b)\n",
    "   (+ (* x (square a))\n",
    "     (* y b)\n",
    "     (* a b)))\n",
    "  (+ 1 (* x y))\n",
    "  (- 1 y)))"
   ]
  },
  {
   "cell_type": "markdown",
   "metadata": {},
   "source": [
    "This construct is so useful that there is a special form called $let$ to make its use more convenient.  \n",
    "Using $let$, the $f$ procedure could be written as"
   ]
  },
  {
   "cell_type": "raw",
   "metadata": {},
   "source": [
    "(define (f x y)\n",
    "  (let ((a (+ 1 (* x y)))\n",
    "`     (b (- 1 y)))\n",
    "   (+ (* x (square a))\n",
    "     (* y b)\n",
    "     (* a b))))"
   ]
  },
  {
   "cell_type": "markdown",
   "metadata": {},
   "source": [
    "The general form of a $let$ expression is"
   ]
  },
  {
   "cell_type": "raw",
   "metadata": {},
   "source": [
    "(let ((⟨var1⟩ ⟨exp1⟩)\n",
    "`    (⟨var2⟩ ⟨exp2⟩)\n",
    "     ...\n",
    "`    (⟨varn⟩ ⟨expn⟩))\n",
    "  ⟨body⟩)"
   ]
  },
  {
   "cell_type": "markdown",
   "metadata": {},
   "source": [
    "The first part of the $let$ expression is a list of $name$-$expression$ pairs.  \n",
    "When the $let$ is evaluated, each $name$ is associated with the value of the corresponding $expression$.   \n",
    "The body of the $let$ is evaluated with these names bound as $local$ $variables$.   \n",
    "The way this happens is that the $let$ expression is interpreted as an alternate syntax for"
   ]
  },
  {
   "cell_type": "raw",
   "metadata": {},
   "source": [
    "((lambda (⟨var1⟩ ... ⟨varn⟩)\n",
    "   <body>)\n",
    "  <exp1>\n",
    "  ...\n",
    "  <expn>)"
   ]
  },
  {
   "cell_type": "markdown",
   "metadata": {},
   "source": [
    "No new mechanism is required in the interpreter in order to provide $local$ $variables$.   \n",
    "A $let$ expression is simply $syntactic$ $sugar$ for the underlying $lambda$ application"
   ]
  },
  {
   "cell_type": "markdown",
   "metadata": {},
   "source": [
    "We can see from this equivalence that the scope of a variable specified by a $let$ expression is the body of the $let$.   \n",
    "This implies that:"
   ]
  },
  {
   "cell_type": "markdown",
   "metadata": {},
   "source": [
    "$\\bullet$ $let$ allows one to bind variables as locally as possible to where they are to be used. For example, if the value of $x$ is 5, the value of the expression"
   ]
  },
  {
   "cell_type": "raw",
   "metadata": {},
   "source": [
    "(+ (let ((x 3)) (+ x (* x 10)))\n",
    "`  x)"
   ]
  },
  {
   "cell_type": "markdown",
   "metadata": {},
   "source": [
    "is 38. Here, the $x$ in the body of the $let$ is 3, so the value of the let expression is 33.   \n",
    "On the other hand, the $x$ that is the second argument to the outermost $+$ is still 5."
   ]
  },
  {
   "cell_type": "markdown",
   "metadata": {},
   "source": [
    "$\\bullet$ The variables’values are computed outside the $let$. This matters when the expressions that provide the values for the $local$ $variables$ depend upon variables having the same names as the local variables themselves. For example, if the value of $x$ is 2, the expression"
   ]
  },
  {
   "cell_type": "raw",
   "metadata": {},
   "source": [
    "(let ((x 3) \n",
    "`    (y (+ x 2)))\n",
    "  (* x y))"
   ]
  },
  {
   "cell_type": "markdown",
   "metadata": {},
   "source": [
    "will have the value 12 because, inside the body of the $let$, $x$ will be 3 and $y$ will be 4 (which is the outer $x$ plus 2)."
   ]
  },
  {
   "cell_type": "markdown",
   "metadata": {},
   "source": [
    "Sometimes we can use internal definitions to get the same effect as with $let$. For example, we could have defined the procedure $f$ above as"
   ]
  },
  {
   "cell_type": "raw",
   "metadata": {},
   "source": [
    "(define (f x y)\n",
    "  (define a (+ 1 (* x y)))\n",
    "  (define b (- 1 y))\n",
    "  (+ (* x (square a))\n",
    "    (* y b)\n",
    "    (* a b)))"
   ]
  },
  {
   "cell_type": "markdown",
   "metadata": {},
   "source": [
    "We prefer,however,to use $let$ in situations like this and to use $internal$ $define$ only for $internal$ $procedures$."
   ]
  },
  {
   "cell_type": "markdown",
   "metadata": {},
   "source": [
    "### Exercise 1.34: \n",
    "Suppose we define the procedure"
   ]
  },
  {
   "cell_type": "raw",
   "metadata": {},
   "source": [
    "(define (f g) (g 2))"
   ]
  },
  {
   "cell_type": "markdown",
   "metadata": {},
   "source": [
    "Then we have"
   ]
  },
  {
   "cell_type": "raw",
   "metadata": {},
   "source": [
    "(f square)\n",
    "4\n",
    "(f (lambda (z) (* z (+ z 1))))\n",
    "6"
   ]
  },
  {
   "cell_type": "markdown",
   "metadata": {},
   "source": [
    "What happens if we (perversely) ask the interpreter to evaluate the combination $(f$ $f)$? Explain."
   ]
  }
 ],
 "metadata": {
  "kernelspec": {
   "display_name": "Python [Root]",
   "language": "python",
   "name": "Python [Root]"
  },
  "language_info": {
   "codemirror_mode": {
    "name": "ipython",
    "version": 2
   },
   "file_extension": ".py",
   "mimetype": "text/x-python",
   "name": "python",
   "nbconvert_exporter": "python",
   "pygments_lexer": "ipython2",
   "version": "2.7.12"
  }
 },
 "nbformat": 4,
 "nbformat_minor": 0
}
