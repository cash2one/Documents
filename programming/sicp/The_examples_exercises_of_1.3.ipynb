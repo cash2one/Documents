{
 "cells": [
  {
   "cell_type": "markdown",
   "metadata": {},
   "source": [
    "## 1.3.1 Procedures as Arguments"
   ]
  },
  {
   "cell_type": "markdown",
   "metadata": {},
   "source": [
    "### Example 1: summation"
   ]
  },
  {
   "cell_type": "markdown",
   "metadata": {},
   "source": [
    "Consider the following three procedures."
   ]
  },
  {
   "cell_type": "markdown",
   "metadata": {},
   "source": [
    "The first computes the sum of the integers from a through b:"
   ]
  },
  {
   "cell_type": "raw",
   "metadata": {},
   "source": [
    "(define (sum-integers a b)\n",
    "  (if (> a b) 0\n",
    "`    (+ a (sum-integers (+ a 1) b))))"
   ]
  },
  {
   "cell_type": "markdown",
   "metadata": {},
   "source": [
    "The second computes the sum of the cubes of the integers in the given range:"
   ]
  },
  {
   "cell_type": "raw",
   "metadata": {},
   "source": [
    "(define (sum-cubes a b)\n",
    "  (if (> a b) 0\n",
    "`    (+ (cube a) (sum-cubes (+ a 1) b))))"
   ]
  },
  {
   "cell_type": "markdown",
   "metadata": {},
   "source": [
    "The third computes the sum of a sequence of terms in the series  "
   ]
  },
  {
   "cell_type": "markdown",
   "metadata": {},
   "source": [
    "$$\\frac{1}{1 \\centerdot 3} + \\frac{1}{5 \\centerdot 7} + \\frac{1}{9 \\centerdot 11} + \\ldots$$"
   ]
  },
  {
   "cell_type": "markdown",
   "metadata": {},
   "source": [
    "which converges to $\\pi$/8 (very slowly):"
   ]
  },
  {
   "cell_type": "raw",
   "metadata": {},
   "source": [
    "(define (pi-sum a b)\n",
    "  (if (> a b) 0\n",
    "`    (+ (/ 1.0 (* a (+ a 2)))\n",
    "`      (pi-sum (+ a 4) b))))"
   ]
  },
  {
   "cell_type": "markdown",
   "metadata": {},
   "source": [
    "Indeed, mathematicians long ago identified the abstraction of summation of a series and invented \"sigma notation\", for example,to express this concept."
   ]
  },
  {
   "cell_type": "markdown",
   "metadata": {},
   "source": [
    "$$\\sum_{n=a}^bf(n) = f(a) + \\ldots+ f(b)$$"
   ]
  },
  {
   "cell_type": "markdown",
   "metadata": {},
   "source": [
    "With the aid of the procedures sum as follows,we can express the mathematical concepts of summation:"
   ]
  },
  {
   "cell_type": "raw",
   "metadata": {},
   "source": [
    "(define (sum term a next b)\n",
    "  (if (> a b) 0\n",
    "`    (+ (term a) (sum term (next a) next b))))"
   ]
  },
  {
   "cell_type": "markdown",
   "metadata": {},
   "source": [
    "So,we can redefine the process sum-integers to compute the sum of the integers from a through b:"
   ]
  },
  {
   "cell_type": "code",
   "execution_count": 1,
   "metadata": {
    "collapsed": false
   },
   "outputs": [
    {
     "name": "stdout",
     "output_type": "stream",
     "text": [
      "(load \"1.3/sum_by_recursion.scm\")\r\n",
      "\r\n",
      "(define (identity x) x)\r\n",
      "(define (inc n) (+ n 1))\r\n",
      "\r\n",
      "(define (sum-integers a b)\r\n",
      "  (sum identity a inc b))\r\n"
     ]
    }
   ],
   "source": [
    "cat 1.3/sum_integers_for_example.scm"
   ]
  },
  {
   "cell_type": "raw",
   "metadata": {},
   "source": [
    "Running Instance:\n",
    "\n",
    "1 ]=> (load \"1.3/sum_integers_for_example.scm\")\n",
    "\n",
    ";Loading \"1.3/sum_integers_for_example.scm\"...\n",
    ";  Loading \"1.3/sum_by_recursion.scm\"... done\n",
    ";... done\n",
    ";Value: sum-integers\n",
    "\n",
    "1 ]=> (sum-integers 1 100)\n",
    "\n",
    ";Value: 5050"
   ]
  },
  {
   "cell_type": "markdown",
   "metadata": {},
   "source": [
    " Redefine the process sum-cubes to compute the sum of the cubes of the integers from a through b:"
   ]
  },
  {
   "cell_type": "code",
   "execution_count": 2,
   "metadata": {
    "collapsed": false
   },
   "outputs": [
    {
     "name": "stdout",
     "output_type": "stream",
     "text": [
      "(load \"1.3/sum_by_recursion.scm\")\r\n",
      "\r\n",
      "(define (cube x) (* x x x))\r\n",
      "(define (inc n) (+ n 1))\r\n",
      "\r\n",
      "(define (sum-cubes a b)\r\n",
      "  (sum cube a inc b))\r\n"
     ]
    }
   ],
   "source": [
    "cat 1.3/sum_cubes_for_example.scm"
   ]
  },
  {
   "cell_type": "raw",
   "metadata": {},
   "source": [
    "Running Instance:\n",
    "\n",
    "1 ]=> (load \"1.3/sum_cubes_for_example.scm\")\n",
    "\n",
    ";Loading \"1.3/sum_cubes_for_example.scm\"...\n",
    ";  Loading \"1.3/sum_by_recursion.scm\"... done\n",
    ";... done\n",
    ";Value: sum-cubes\n",
    "\n",
    "1 ]=> (sum-cubes 1 100)\n",
    "\n",
    ";Value: 25502500"
   ]
  },
  {
   "cell_type": "markdown",
   "metadata": {},
   "source": [
    "We can also redefine pi-sum in the same way:"
   ]
  },
  {
   "cell_type": "code",
   "execution_count": 3,
   "metadata": {
    "collapsed": false
   },
   "outputs": [
    {
     "name": "stdout",
     "output_type": "stream",
     "text": [
      "(load \"1.3/sum_by_recursion.scm\")\r\n",
      "\r\n",
      "(define (pi-sum a b)\r\n",
      "  (define (pi-term x)\r\n",
      "    (/ 1.0 (* x (+ x 2))))\r\n",
      "  (define (pi-next x) (+ x 4))\r\n",
      "  (sum pi-term a pi-next b))\r\n"
     ]
    }
   ],
   "source": [
    "cat 1.3/sum_pi_for_example.scm"
   ]
  },
  {
   "cell_type": "raw",
   "metadata": {},
   "source": [
    "Running Instance:\n",
    "\n",
    "1 ]=> (load \"1.3/sum_pi_for_example.scm\")\n",
    "\n",
    ";Loading \"1.3/sum_pi_for_example.scm\"...\n",
    ";  Loading \"1.3/sum_by_recursion.scm\"... done\n",
    ";... done\n",
    ";Value: pi-sum\n",
    "\n",
    "1 ]=> (* 8 (pi-sum 1 1000))\n",
    "\n",
    ";Value: 3.139592655589783\n",
    "\n",
    "1 ]=> (* 8 (pi-sum 1 10000))\n",
    "\n",
    ";Value: 3.141392653591793"
   ]
  },
  {
   "cell_type": "markdown",
   "metadata": {},
   "source": [
    "### Example 2: numerical integration"
   ]
  },
  {
   "cell_type": "markdown",
   "metadata": {},
   "source": [
    "Once we have sum, we can use it as a building block in formulating further concepts. For instance, the definite integral of a function f between the limits a and b can be approximated numerically using the formula"
   ]
  },
  {
   "cell_type": "markdown",
   "metadata": {},
   "source": [
    "$$\\int_a^bf=\\left[f\\left(a + \\frac{dx}{2}\\right) + f\\left(a + dx + \\frac{dx}{2}\\right) + f\\left(a + 2dx + \\frac{dx}{2}\\right) + \\centerdot\\centerdot\\centerdot\\right]dx$$"
   ]
  },
  {
   "cell_type": "markdown",
   "metadata": {},
   "source": [
    "for small values of dx. We can express this directly as a procedure:"
   ]
  },
  {
   "cell_type": "code",
   "execution_count": 5,
   "metadata": {
    "collapsed": false
   },
   "outputs": [
    {
     "name": "stdout",
     "output_type": "stream",
     "text": [
      "(load \"1.3/sum_by_recursion.scm\")\r\n",
      "\r\n",
      "(define (integral f a b dx)\r\n",
      "  (define (add-dx x) (+ x dx))\r\n",
      "  (* (sum f (+ a (/ dx 2.0)) add-dx b) dx))\r\n"
     ]
    }
   ],
   "source": [
    "cat 1.3/compute_integral_for_function.scm"
   ]
  },
  {
   "cell_type": "markdown",
   "metadata": {},
   "source": [
    "For example,we can let f is cube function:"
   ]
  },
  {
   "cell_type": "raw",
   "metadata": {},
   "source": [
    "Running Instance:\n",
    "\n",
    "1 ]=> (define (cube x) (* x x x))\n",
    "\n",
    ";Value: cube\n",
    "\n",
    "1 ]=> (load \"1.3/compute_integral_for_function.scm\")\n",
    "\n",
    ";Loading \"1.3/compute_integral_for_function.scm\"...\n",
    ";  Loading \"1.3/sum_by_recursion.scm\"... done\n",
    ";... done\n",
    ";Value: integral\n",
    "\n",
    "1 ]=> (integral cube 0 1 0.01)\n",
    "\n",
    ";Value: .24998750000000042\n",
    "\n",
    "1 ]=> (integral cube 0 1 0.001)\n",
    "\n",
    ";Value: .249999875000001\n",
    "\n",
    "1 ]=> (integral cube 0 1 0.0001)\n",
    "\n",
    ";Value: .24999999874993412\n",
    "\n",
    "(The exact value of the integral of cube between 0 and 1 is 1/4.)"
   ]
  },
  {
   "cell_type": "markdown",
   "metadata": {
    "collapsed": true
   },
   "source": [
    "### Exercise 1.29:\n",
    "Simpson’s Rule is a more accurate method of numerical integration than the method illustrated above. Using Simpson’s Rule, the integral of a function f between a and b is approximated as"
   ]
  },
  {
   "cell_type": "markdown",
   "metadata": {},
   "source": [
    "$$\\frac{h}{3}(y_0 + 4y_1 + 2y_2 + 4y_3 + 2y_4 + \\cdots + 2y_{n-2} + 4y_{n-1} + y_n)$$"
   ]
  },
  {
   "cell_type": "markdown",
   "metadata": {},
   "source": [
    "where $h = (b -a)/n$,for some even integer n, and $y_k = f(a + kh)$.(Increasing n increases the accuracy of the approximation.)Define a procedure that takes as arguments $f$ , $a$, $b$, and $n$ and returns the value of the integral, computed using Simpson’s Rule.Use your procedure to integrate cube between 0 and 1 (with $n = 100$ and $n = 1000$), and compare the results to those of the integral procedure shown above."
   ]
  },
  {
   "cell_type": "markdown",
   "metadata": {},
   "source": [
    "### Exercise 1.30: \n",
    "The sum procedure above generates a linear recursion. The procedure can be rewrien so that the sum is performed iteratively. Show how to do this by filling in the missing expressions in the following definition:"
   ]
  },
  {
   "cell_type": "raw",
   "metadata": {},
   "source": [
    "(define (sum term a next b)\n",
    "  (define (iter a result)\n",
    "   (if <??>\n",
    "      <??>\n",
    "      (iter <??> <??>)))\n",
    "  (iter <??> <??>))"
   ]
  },
  {
   "cell_type": "markdown",
   "metadata": {},
   "source": [
    "### Answer:"
   ]
  },
  {
   "cell_type": "code",
   "execution_count": 1,
   "metadata": {
    "collapsed": false
   },
   "outputs": [
    {
     "name": "stdout",
     "output_type": "stream",
     "text": [
      "(define (sum term a next b)\r\n",
      "  (define (iter a result)\r\n",
      "    (if (> a b)\r\n",
      "        result\r\n",
      "        (iter (next a)\r\n",
      "              (+ (term a) result))))\r\n",
      "  (iter a 0))\r\n",
      "\t\t\r\n"
     ]
    }
   ],
   "source": [
    "cat 1.3/sum_by_iteration.scm"
   ]
  },
  {
   "cell_type": "markdown",
   "metadata": {},
   "source": [
    "1.Compute the sum of the integers from a to b:"
   ]
  },
  {
   "cell_type": "code",
   "execution_count": 2,
   "metadata": {
    "collapsed": false
   },
   "outputs": [
    {
     "name": "stdout",
     "output_type": "stream",
     "text": [
      "(load \"1.3/sum_by_iteration.scm\")\r\n",
      "\r\n",
      "(define (identity x) x)\r\n",
      "(define (inc n) (+ n 1))\r\n",
      "\r\n",
      "(define (sum-integers a b)\r\n",
      "  (sum identity a inc b))\r\n"
     ]
    }
   ],
   "source": [
    "cat 1.3/sum_integers_for_exercise130.scm"
   ]
  },
  {
   "cell_type": "raw",
   "metadata": {},
   "source": [
    "Running Instance:\n",
    "\n",
    "1 ]=> (load \"1.3/sum_integers_for_exercise130.scm\")\n",
    "\n",
    ";Loading \"1.3/sum_integers_for_exercise130.scm\"...\n",
    ";  Loading \"1.3/sum_by_iteration.scm\"... done\n",
    ";... done\n",
    ";Value: sum-integers\n",
    "\n",
    "1 ]=> (sum-integers 1 1000)\n",
    "\n",
    ";Value: 500500\n",
    "\n",
    "1 ]=> (sum-integers 1 100000)\n",
    "\n",
    ";Value: 5000050000"
   ]
  },
  {
   "cell_type": "markdown",
   "metadata": {},
   "source": [
    "2.Compute the sum of the cubes of the integers from a to b:"
   ]
  },
  {
   "cell_type": "code",
   "execution_count": 3,
   "metadata": {
    "collapsed": false
   },
   "outputs": [
    {
     "name": "stdout",
     "output_type": "stream",
     "text": [
      "(load \"1.3/sum_by_iteration.scm\")\r\n",
      "\r\n",
      "(define (cube x) (* x x x))\r\n",
      "(define (inc n) (+ n 1))\r\n",
      "\r\n",
      "(define (sum-cubes a b)\r\n",
      "  (sum cube a inc b))\r\n"
     ]
    }
   ],
   "source": [
    "cat 1.3/sum_cubes_for_exercise130.scm"
   ]
  },
  {
   "cell_type": "raw",
   "metadata": {},
   "source": [
    "Running Instance:\n",
    "\n",
    "1 ]=> (load \"1.3/sum_cubes_for_exercise130.scm\")\n",
    "\n",
    ";Loading \"1.3/sum_cubes_for_exercise130.scm\"...\n",
    ";  Loading \"1.3/sum_by_iteration.scm\"... done\n",
    ";... done\n",
    ";Value: sum-cubes\n",
    "\n",
    "1 ]=> (sum-cubes 1 1000)\n",
    "\n",
    ";Value: 250500250000\n",
    "\n",
    "1 ]=> (sum-cubes 1 100000)\n",
    "\n",
    ";Value: 25000500002500000000"
   ]
  },
  {
   "cell_type": "markdown",
   "metadata": {},
   "source": [
    "3.Compute the sum-pi procedure by way of iterative process: "
   ]
  },
  {
   "cell_type": "code",
   "execution_count": 4,
   "metadata": {
    "collapsed": false
   },
   "outputs": [
    {
     "name": "stdout",
     "output_type": "stream",
     "text": [
      "(load \"1.3/sum_by_iteration.scm\")\r\n",
      "\r\n",
      "(define (pi-sum a b)\r\n",
      "  (define (pi-term x)\r\n",
      "    (/ 1.0 (* x (+ x 2))))\r\n",
      "  (define (pi-next x) (+ x 4))\r\n",
      "  (sum pi-term a pi-next b))\r\n"
     ]
    }
   ],
   "source": [
    "cat 1.3/sum_pi_for_exercise130.scm"
   ]
  },
  {
   "cell_type": "raw",
   "metadata": {},
   "source": [
    "Running Instance:\n",
    "\n",
    "1 ]=> (load \"1.3/sum_pi_for_exercise130.scm\")\n",
    "\n",
    ";Loading \"1.3/sum_pi_for_exercise130.scm\"...\n",
    ";  Loading \"1.3/sum_by_iteration.scm\"... done\n",
    ";... done\n",
    ";Value: pi-sum\n",
    "\n",
    "1 ]=> (* 8 (pi-sum 1 1000))\n",
    "\n",
    ";Value: 3.139592655589782\n",
    "\n",
    "1 ]=> (* 8 (pi-sum 1 100000))\n",
    "\n",
    ";Value: 3.141572653589808\n",
    "\n",
    "1 ]=> (* 8 (pi-sum 1 10000000))\n",
    "\n",
    ";Value: 3.14159245358981\n",
    "\n",
    ";After a long long time ...\n",
    "1 ]=> (* 8 (pi-sum 1 1000000000))\n",
    "\n",
    ";Value: 3.1415926445762157"
   ]
  },
  {
   "cell_type": "markdown",
   "metadata": {},
   "source": [
    "### Exercise 1.31:\n",
    "a. The $sum$ procedure is only the simplest of a vast number of similar abstractions that can be captured as higher-order procedures.Write an analogous procedure called $product$ that returns the product of the values of a\n",
    "function at points over a given range. Show how to define $factorial$ in terms of $product$. Also use product to compute approximations to $\\pi$ using the formula"
   ]
  },
  {
   "cell_type": "markdown",
   "metadata": {},
   "source": [
    "$$\\frac{\\pi}{4} = \\frac{2\\centerdot4\\centerdot4\\centerdot6\\centerdot6\\centerdot8\\cdots}{3\\centerdot3\\centerdot5\\centerdot5\\centerdot7\\centerdot7\\cdots}$$"
   ]
  },
  {
   "cell_type": "markdown",
   "metadata": {},
   "source": [
    "### Answer:"
   ]
  },
  {
   "cell_type": "markdown",
   "metadata": {},
   "source": [
    "1.The product procedure as follows."
   ]
  },
  {
   "cell_type": "code",
   "execution_count": 1,
   "metadata": {
    "collapsed": false
   },
   "outputs": [
    {
     "name": "stdout",
     "output_type": "stream",
     "text": [
      "(define (product term a next b)\r\n",
      "  (if (> a b) 1\r\n",
      "      (* (term a)\r\n",
      "         (product term (next a) next b))))\r\n"
     ]
    }
   ],
   "source": [
    "cat 1.3/product_by_recursion.scm"
   ]
  },
  {
   "cell_type": "markdown",
   "metadata": {},
   "source": [
    "2.Redefine factorial procedure in terms of product procedure."
   ]
  },
  {
   "cell_type": "code",
   "execution_count": 2,
   "metadata": {
    "collapsed": false
   },
   "outputs": [
    {
     "name": "stdout",
     "output_type": "stream",
     "text": [
      "(load \"1.3/product_by_recursion.scm\")\r\n",
      "\r\n",
      "(define (identity x) x)\r\n",
      "(define (inc n) (+ n 1))\r\n",
      "\r\n",
      "(define (factorial b)\r\n",
      "  (product identity 1 inc b))\r\n"
     ]
    }
   ],
   "source": [
    "cat 1.3/factorial_by_product_by_recursion.scm"
   ]
  },
  {
   "cell_type": "raw",
   "metadata": {},
   "source": [
    "Running Instance:\n",
    "\n",
    "1 ]=> (load \"1.3/factorial_by_product_by_recursion.scm\")\n",
    "\n",
    ";Loading \"1.3/factorial_by_product_by_recursion.scm\"...\n",
    ";  Loading \"1.3/product_by_recursion.scm\"... done\n",
    ";... done\n",
    ";Value: factorial\n",
    "\n",
    "1 ]=> (factorial 6)\n",
    "\n",
    ";Value: 720\n",
    "\n",
    "1 ]=> (factorial 20)\n",
    "\n",
    ";Value: 2432902008176640000"
   ]
  },
  {
   "cell_type": "markdown",
   "metadata": {},
   "source": [
    "3.Use product to compute approximations to $\\pi$."
   ]
  },
  {
   "cell_type": "code",
   "execution_count": 3,
   "metadata": {
    "collapsed": false
   },
   "outputs": [
    {
     "name": "stdout",
     "output_type": "stream",
     "text": [
      "(load \"1.3/product_by_recursion.scm\")\r\n",
      "\r\n",
      "(define (pi-next n) (+ n 2))\r\n",
      "(define (pi-term a)\r\n",
      "  ( * 1.0 (/ (* a (pi-next a)) (square (+ a 1)))))\r\n",
      "\r\n",
      "(define (product-pi a b)\r\n",
      "  (product pi-term a pi-next b))\r\n"
     ]
    }
   ],
   "source": [
    "cat 1.3/product_pi_by_recursion.scm"
   ]
  },
  {
   "cell_type": "raw",
   "metadata": {},
   "source": [
    "Running Instance:\n",
    "\n",
    "1 ]=> (load \"1.3/product_pi_by_recursion.scm\")\n",
    "\n",
    ";Loading \"1.3/product_pi_by_recursion.scm\"...\n",
    ";  Loading \"1.3/product_by_recursion.scm\"... done\n",
    ";... done\n",
    ";Value: product-pi\n",
    "\n",
    "1 ]=> (* 4 (product-pi 2 1000))\n",
    "\n",
    ";Value: 3.1431607055322752\n",
    "\n",
    "1 ]=> (* 4 (product-pi 2 10000))\n",
    "\n",
    ";Value: 3.141749705738071\n",
    "\n",
    "1 ]=> (* 4 (product-pi 2 100000))\n",
    "\n",
    ";Aborting!: maximum recursion depth exceeded"
   ]
  },
  {
   "cell_type": "markdown",
   "metadata": {},
   "source": [
    "b. If your product procedure generates a recursive process,write one that generates an iterative process. If it generates an iterative process, write one that generates a recursive process."
   ]
  },
  {
   "cell_type": "markdown",
   "metadata": {
    "collapsed": true
   },
   "source": [
    "### Answer:"
   ]
  },
  {
   "cell_type": "markdown",
   "metadata": {},
   "source": [
    "Since the product procedure above generates a recursive process;we should write one that generates an iterative process"
   ]
  },
  {
   "cell_type": "markdown",
   "metadata": {},
   "source": [
    "1.The product procedure as follows."
   ]
  },
  {
   "cell_type": "code",
   "execution_count": 5,
   "metadata": {
    "collapsed": false
   },
   "outputs": [
    {
     "name": "stdout",
     "output_type": "stream",
     "text": [
      "(define (product term a next b)\r\n",
      "  (define (iter a result)\r\n",
      "    (if (> a b) result\r\n",
      "        (iter (next a)\r\n",
      "              (* (term a) result))))\r\n",
      "  (iter a 1))\r\n"
     ]
    }
   ],
   "source": [
    "cat 1.3/product_by_iteration.scm"
   ]
  },
  {
   "cell_type": "markdown",
   "metadata": {},
   "source": [
    "Test:"
   ]
  },
  {
   "cell_type": "markdown",
   "metadata": {},
   "source": [
    "2.Redefine factorial procedure"
   ]
  },
  {
   "cell_type": "code",
   "execution_count": 6,
   "metadata": {
    "collapsed": false
   },
   "outputs": [
    {
     "name": "stdout",
     "output_type": "stream",
     "text": [
      "(load \"1.3/product_by_iteration.scm\")\r\n",
      "\r\n",
      "(define (identity x) x)\r\n",
      "(define (inc n) (+ n 1))\r\n",
      "\r\n",
      "(define (factorial b)\r\n",
      "  (product identity 1 inc b))\r\n"
     ]
    }
   ],
   "source": [
    "cat 1.3/factorial_by_product_by_iteration.scm"
   ]
  },
  {
   "cell_type": "raw",
   "metadata": {},
   "source": [
    "Running Instance:\n",
    "\n",
    "1 ]=> (load \"1.3/factorial_by_product_by_iteration.scm\")\n",
    "\n",
    ";Loading \"1.3/factorial_by_product_by_iteration.scm\"...\n",
    ";  Loading \"1.3/product_by_iteration.scm\"... done\n",
    ";... done\n",
    ";Value: factorial\n",
    "\n",
    "1 ]=> (factorial 6)\n",
    "\n",
    ";Value: 720\n",
    "\n",
    "1 ]=> (factorial 20)\n",
    "\n",
    ";Value: 2432902008176640000"
   ]
  },
  {
   "cell_type": "markdown",
   "metadata": {},
   "source": [
    "3.Use product to compute approximations to $\\pi$"
   ]
  },
  {
   "cell_type": "code",
   "execution_count": 7,
   "metadata": {
    "collapsed": false
   },
   "outputs": [
    {
     "name": "stdout",
     "output_type": "stream",
     "text": [
      "(load \"1.3/product_by_iteration.scm\")\r\n",
      "\r\n",
      "(define (pi-next n) (+ n 2))\r\n",
      "(define (pi-term a)\r\n",
      "  ( * 1.0 (/ (* a (pi-next a)) (square (+ a 1)))))\r\n",
      "\r\n",
      "(define (product-pi a b)\r\n",
      "  (product pi-term a pi-next b))\r\n"
     ]
    }
   ],
   "source": [
    "cat 1.3/product_pi_by_iteration.scm"
   ]
  },
  {
   "cell_type": "raw",
   "metadata": {},
   "source": [
    "Running Instance:\n",
    "\n",
    "1 ]=> (load \"1.3/product_pi_by_iteration.scm\")\n",
    "\n",
    ";Loading \"1.3/product_pi_by_iteration.scm\"...\n",
    ";  Loading \"1.3/product_by_iteration.scm\"... done\n",
    ";... done\n",
    ";Value: product-pi\n",
    "\n",
    "1 ]=> (* 4 (product-pi 2 1000))\n",
    "\n",
    ";Value: 3.1431607055322712\n",
    "\n",
    "1 ]=> (* 4 (product-pi 2 10000))\n",
    "\n",
    ";Value: 3.141749705738071\n",
    "\n",
    "1 ]=> (* 4 (product-pi 2 100000))\n",
    "\n",
    ";Value: 3.141608361278168\n",
    "\n",
    "1 ]=> (* 4 (product-pi 2 100000000))\n",
    "\n",
    ";Value: 3.141592667943379"
   ]
  },
  {
   "cell_type": "markdown",
   "metadata": {},
   "source": [
    "### Exercise 1.32:\n",
    "#### a. \n",
    "Show that $sum$ and $product$ (Exercise 1.31) are both special cases of a still more general notion called $accumulate$ that combines a collection of terms, using some general accumulation function:"
   ]
  },
  {
   "cell_type": "raw",
   "metadata": {},
   "source": [
    "           (accumulate combiner null-value term a next b)"
   ]
  },
  {
   "cell_type": "markdown",
   "metadata": {},
   "source": [
    "$accumulate$ takes as arguments the same term and range specifications as $sum$ and $product$, together with a $combiner$ procedure (of two arguments) that specifies how the current term is to be combined with the accumulation of the preceding terms and a null-value that specifies what base value to use when the terms run out. Write $accumulate$ and show how $sum$ and $product$ can both be defined as simple calls to $accumulate$."
   ]
  },
  {
   "cell_type": "markdown",
   "metadata": {},
   "source": [
    "1.The $accumulate$ recursive procedure:"
   ]
  },
  {
   "cell_type": "code",
   "execution_count": 8,
   "metadata": {
    "collapsed": false
   },
   "outputs": [
    {
     "name": "stdout",
     "output_type": "stream",
     "text": [
      "(define (accumulate combiner null-value term a next b)\r\n",
      "  (if (> a b) null-value\r\n",
      "      (combiner (term a)\r\n",
      "                (accumulate combiner\r\n",
      "                            null-value\r\n",
      "                            term\r\n",
      "                            (next a)\r\n",
      "                            next\r\n",
      "                            b))))\r\n"
     ]
    }
   ],
   "source": [
    "cat 1.3/accumulate_by_recursion.scm"
   ]
  },
  {
   "cell_type": "markdown",
   "metadata": {},
   "source": [
    "2.Redefine the $sum$ procedure by way of the $accumulate$ recursive procedure:"
   ]
  },
  {
   "cell_type": "code",
   "execution_count": 11,
   "metadata": {
    "collapsed": false
   },
   "outputs": [
    {
     "name": "stdout",
     "output_type": "stream",
     "text": [
      "(load \"1.3/accumulate_by_recursion.scm\")\r\n",
      "\r\n",
      "(define (sum term a next b)\r\n",
      "  (accumulate + 0 term a next b))\r\n"
     ]
    }
   ],
   "source": [
    "cat 1.3/sum_by_accumulate_by_recursion.scm"
   ]
  },
  {
   "cell_type": "markdown",
   "metadata": {},
   "source": [
    "3.Redefine the $product$ procedure by way of the $accumulate$ recursive procedure:"
   ]
  },
  {
   "cell_type": "code",
   "execution_count": 14,
   "metadata": {
    "collapsed": false
   },
   "outputs": [
    {
     "name": "stdout",
     "output_type": "stream",
     "text": [
      "(load \"1.3/accumulate_by_recursion.scm\")\r\n",
      "\r\n",
      "(define (product term a next b)\r\n",
      "  (accumulate * 1 term a next b))\r\n"
     ]
    }
   ],
   "source": [
    "cat 1.3/product_by_accumulate_by_recursion.scm"
   ]
  },
  {
   "cell_type": "markdown",
   "metadata": {},
   "source": [
    "#### Test:"
   ]
  },
  {
   "cell_type": "markdown",
   "metadata": {},
   "source": [
    "1.summation"
   ]
  },
  {
   "cell_type": "code",
   "execution_count": 20,
   "metadata": {
    "collapsed": false
   },
   "outputs": [
    {
     "name": "stdout",
     "output_type": "stream",
     "text": [
      "(load \"1.3/sum_by_accumulate_by_recursion.scm\")\r\n",
      "\r\n",
      "(define (identity x) x)\r\n",
      "(define (inc n) (+ n 1))\r\n",
      "\r\n",
      "(define (sum-integers a b)\r\n",
      "  (sum identity a inc b))\r\n"
     ]
    }
   ],
   "source": [
    "cat 1.3/sum_integers_by_accumulate_by_recursion.scm"
   ]
  },
  {
   "cell_type": "raw",
   "metadata": {},
   "source": [
    "Running Instance:\n",
    "\n",
    "1 ]=> (load \"1.3/sum_integers_by_accumulate_by_recursion.scm\")\n",
    "\n",
    ";Loading \"1.3/sum_integers_by_accumulate_by_recursion.scm\"...\n",
    ";  Loading \"1.3/sum_by_accumulate_by_recursion.scm\"...\n",
    ";    Loading \"1.3/accumulate_by_recursion.scm\"... done\n",
    ";  ... done\n",
    ";... done\n",
    ";Value: sum-integers\n",
    "\n",
    "1 ]=> (sum-integers 1 10000)\n",
    "\n",
    ";Value: 50005000"
   ]
  },
  {
   "cell_type": "markdown",
   "metadata": {},
   "source": [
    "2.product"
   ]
  },
  {
   "cell_type": "code",
   "execution_count": 22,
   "metadata": {
    "collapsed": false
   },
   "outputs": [
    {
     "name": "stdout",
     "output_type": "stream",
     "text": [
      "(load \"1.3/product_by_accumulate_by_recursion.scm\")\r\n",
      "\r\n",
      "(define (pi-next n) (+ n 2))\r\n",
      "(define (pi-term a)\r\n",
      "    (* 1.0 (/ (* a (pi-next a)) (square (+ a 1)))))\r\n",
      "\r\n",
      "(define (product-pi a b)\r\n",
      "    (product pi-term a pi-next b))\r\n"
     ]
    }
   ],
   "source": [
    "cat 1.3/product_pi_by_accumulate_by_recursion.scm"
   ]
  },
  {
   "cell_type": "raw",
   "metadata": {},
   "source": [
    "1 ]=> (load \"1.3/product_pi_by_accumulate_by_recursion.scm\")\n",
    "\n",
    ";Loading \"1.3/product_pi_by_accumulate_by_recursion.scm\"...\n",
    ";  Loading \"1.3/product_by_accumulate_by_recursion.scm\"...\n",
    ";    Loading \"1.3/accumulate_by_recursion.scm\"... done\n",
    ";  ... done\n",
    ";... done\n",
    ";Value: product-pi\n",
    "\n",
    "1 ]=> (* 4 (product-pi 2 1000))\n",
    "\n",
    ";Value: 3.1431607055322752\n",
    "\n",
    "1 ]=> (* 4 (product-pi 2 10000))\n",
    "\n",
    ";Value: 3.141749705738071\n",
    "\n",
    "1 ]=> (* 4 (product-pi 2 100000))\n",
    "\n",
    ";Aborting!: maximum recursion depth exceeded"
   ]
  },
  {
   "cell_type": "markdown",
   "metadata": {},
   "source": [
    "#### b. \n",
    "If your $accumulate$ procedure generates a recursive process, write one that generates an iterative process.If it generates an iterative process, write one that generates a recursive process."
   ]
  },
  {
   "cell_type": "markdown",
   "metadata": {},
   "source": [
    "1.The accumulate iterative procedure:"
   ]
  },
  {
   "cell_type": "code",
   "execution_count": 10,
   "metadata": {
    "collapsed": false
   },
   "outputs": [
    {
     "name": "stdout",
     "output_type": "stream",
     "text": [
      "(define (accumulate combiner null-value term a next b)\r\n",
      "  (define (iter a result)\r\n",
      "    (if (> a b) result\r\n",
      "        (iter (next a)\r\n",
      "              (combiner (term a) result))))\r\n",
      "  (iter a null-value))\r\n"
     ]
    }
   ],
   "source": [
    "cat 1.3/accumulate_by_iteration.scm"
   ]
  },
  {
   "cell_type": "markdown",
   "metadata": {},
   "source": [
    "2.Redefine the sum procedure by way of the accumulate iterative procedure:"
   ]
  },
  {
   "cell_type": "code",
   "execution_count": 13,
   "metadata": {
    "collapsed": false
   },
   "outputs": [
    {
     "name": "stdout",
     "output_type": "stream",
     "text": [
      "(load \"1.3/accumulate_by_iteration.scm\")\r\n",
      "\r\n",
      "(define (sum term a next b)\r\n",
      "  (accumulate + 0 term a next b))\r\n"
     ]
    }
   ],
   "source": [
    "cat 1.3/sum_by_accumulate_by_iteration.scm"
   ]
  },
  {
   "cell_type": "markdown",
   "metadata": {},
   "source": [
    "3.Redefine the $product$ procedure by way of the $accumulate$ iterative procedure:"
   ]
  },
  {
   "cell_type": "code",
   "execution_count": 15,
   "metadata": {
    "collapsed": false
   },
   "outputs": [
    {
     "name": "stdout",
     "output_type": "stream",
     "text": [
      "(load \"1.3/accumulate_by_iteration.scm\")\r\n",
      "\r\n",
      "(define (product term a next b)\r\n",
      "  (accumulate * 1 term a next b))\r\n"
     ]
    }
   ],
   "source": [
    "cat 1.3/product_by_accumulate_by_iteration.scm"
   ]
  },
  {
   "cell_type": "markdown",
   "metadata": {},
   "source": [
    "#### Test:"
   ]
  },
  {
   "cell_type": "markdown",
   "metadata": {},
   "source": [
    "1.summation"
   ]
  },
  {
   "cell_type": "code",
   "execution_count": 21,
   "metadata": {
    "collapsed": false
   },
   "outputs": [
    {
     "name": "stdout",
     "output_type": "stream",
     "text": [
      "(load \"1.3/sum_by_accumulate_by_iteration.scm\")\r\n",
      "\r\n",
      "(define (identity x) x)\r\n",
      "(define (inc n) (+ n 1))\r\n",
      "\r\n",
      "(define (sum-integers a b)\r\n",
      "  (sum identity a inc b))\r\n"
     ]
    }
   ],
   "source": [
    "cat 1.3/sum_integers_by_accumulate_by_iteration.scm"
   ]
  },
  {
   "cell_type": "raw",
   "metadata": {},
   "source": [
    "Running Instance:\n",
    "\n",
    "1 ]=> (load \"1.3/sum_integers_by_accumulate_by_iteration.scm\")\n",
    "\n",
    ";Loading \"1.3/sum_integers_by_accumulate_by_iteration.scm\"...\n",
    ";  Loading \"1.3/sum_by_accumulate_by_iteration.scm\"...\n",
    ";    Loading \"1.3/accumulate_by_iteration.scm\"... done\n",
    ";  ... done\n",
    ";... done\n",
    ";Value: sum-integers\n",
    "\n",
    "1 ]=> (sum-integers 1 10000)\n",
    "\n",
    ";Value: 50005000"
   ]
  },
  {
   "cell_type": "markdown",
   "metadata": {},
   "source": [
    "2.product"
   ]
  },
  {
   "cell_type": "code",
   "execution_count": 23,
   "metadata": {
    "collapsed": false
   },
   "outputs": [
    {
     "name": "stdout",
     "output_type": "stream",
     "text": [
      "(load \"1.3/product_by_accumulate_by_iteration.scm\")\r\n",
      "\r\n",
      "(define (pi-next n) (+ n 2))\r\n",
      "(define (pi-term a)\r\n",
      "    ( * 1.0 (/ (* a (pi-next a)) (square (+ a 1)))))\r\n",
      "\r\n",
      "(define (product-pi a b)\r\n",
      "    (product pi-term a pi-next b))\r\n"
     ]
    }
   ],
   "source": [
    "cat 1.3/product_pi_by_accumulate_by_iteration.scm"
   ]
  },
  {
   "cell_type": "raw",
   "metadata": {},
   "source": [
    "1 ]=> (load \"1.3/product_pi_by_accumulate_by_iteration.scm\")\n",
    "\n",
    ";Loading \"1.3/product_pi_by_accumulate_by_iteration.scm\"...\n",
    ";  Loading \"1.3/product_by_accumulate_by_iteration.scm\"...\n",
    ";    Loading \"1.3/accumulate_by_iteration.scm\"... done\n",
    ";  ... done\n",
    ";... done\n",
    ";Value: product-pi\n",
    "\n",
    "1 ]=> (* 4 (product-pi 2 1000))\n",
    "\n",
    ";Value: 3.1431607055322712\n",
    "\n",
    "1 ]=> (* 4 (product-pi 2 10000))\n",
    "\n",
    ";Value: 3.141749705738071\n",
    "\n",
    "1 ]=> (* 4 (product-pi 2 100000))\n",
    "\n",
    ";Value: 3.141608361278168\n",
    "\n",
    "1 ]=> (* 4 (product-pi 2 10000000))\n",
    "\n",
    ";Value: 3.1415928106708866\n",
    "\n",
    "1 ]=> (* 4 (product-pi 2 100000000))\n",
    "\n",
    ";Value: 3.141592667943379"
   ]
  },
  {
   "cell_type": "markdown",
   "metadata": {},
   "source": [
    "### Exercise 1.33:\n",
    "You can obtain an even more general version of $accumulate$ (Exercise 1.32) by introducing the notion of a $filter$ on the terms to be combined. That is, combine only those terms derived from values in the range that satisfy a specified condition. The resulting $filtered-accumulate$ abstraction takes the same arguments as $accumulate$, together with an additional predicate of one argument that specifies the $filter$. Write filtered accumulate as a procedure.Show how to express the following using $filtered-accumulate$:"
   ]
  },
  {
   "cell_type": "markdown",
   "metadata": {},
   "source": [
    "### Answer:"
   ]
  },
  {
   "cell_type": "markdown",
   "metadata": {},
   "source": [
    "#### A.The filtered-accumulate recursive procedure:"
   ]
  },
  {
   "cell_type": "code",
   "execution_count": 24,
   "metadata": {
    "collapsed": false
   },
   "outputs": [
    {
     "name": "stdout",
     "output_type": "stream",
     "text": [
      "(define (filtered-accumulate combine null-value term a next b valid)\r\n",
      "  (if (> a b) null-value\r\n",
      "      (if (valid a)\r\n",
      "         (combine (term a)\r\n",
      "                  (filtered-accumulate combine\r\n",
      "                                       null-value\r\n",
      "                                       term\r\n",
      "                                       (next a)\r\n",
      "                                       next\r\n",
      "                                       b\r\n",
      "                                       valid))\r\n",
      "        (filtered-accumulate combine\r\n",
      "       \t                     null-value\r\n",
      "       \t                     term\r\n",
      "       \t                     (next a)\r\n",
      "       \t                     next\r\n",
      "       \t                     b\r\n",
      "       \t                     valid))))\r\n"
     ]
    }
   ],
   "source": [
    "cat 1.3/filtered_accumulate_by_recursion.scm"
   ]
  },
  {
   "cell_type": "markdown",
   "metadata": {},
   "source": [
    "#### a. \n",
    "the $sum$ of the squares of the prime numbers in the interval a to b (assuming that you have a $prime$ predicate already written)"
   ]
  },
  {
   "cell_type": "code",
   "execution_count": 25,
   "metadata": {
    "collapsed": false
   },
   "outputs": [
    {
     "name": "stdout",
     "output_type": "stream",
     "text": [
      "(load \"1.3/filtered_accumulate_by_recursion.scm\")\r\n",
      "(load \"1.2/prime_by_search_divisor1.scm\")\r\n",
      "\r\n",
      "(define (inc n) (+ n 1))\r\n",
      "\r\n",
      "(define (sum-prime a b)\r\n",
      "  (filtered-accumulate + 0 square a inc b prime))\r\n"
     ]
    }
   ],
   "source": [
    "cat 1.3/sum_square_of_prime_by_filtered_accumulate_by_recursion.scm"
   ]
  },
  {
   "cell_type": "raw",
   "metadata": {},
   "source": [
    "Running Instance:\n",
    "\n",
    "1 ]=> (load \"1.3/sum_square_of_prime_by_filtered_accumulate_by_recursion.scm\")\n",
    "\n",
    ";Loading \"1.3/sum_square_of_prime_by_filtered_accumulate_by_recursion.scm\"...\n",
    ";  Loading \"1.3/filtered_accumulate_by_recursion.scm\"... done\n",
    ";  Loading \"1.2/prime_by_search_divisor1.scm\"... done\n",
    ";... done\n",
    ";Value: sum-prime\n",
    "\n",
    "1 ]=> (sum-prime 1 5)\n",
    "\n",
    ";Value: 38\n",
    "\n",
    "1 ]=> (sum-prime 1 10)\n",
    "\n",
    ";Value: 87\n",
    "\n",
    "1 ]=> (sum-prime 10 100)\n",
    "\n",
    ";Value: 65709"
   ]
  },
  {
   "cell_type": "markdown",
   "metadata": {},
   "source": [
    "#### b. \n",
    "the $product$ of all the positive integers less than n that are relatively prime to n  \n",
    "(i.e., all positive integers $i < n$ such that $GCD(i,n) = 1$)."
   ]
  },
  {
   "cell_type": "code",
   "execution_count": 26,
   "metadata": {
    "collapsed": false
   },
   "outputs": [
    {
     "name": "stdout",
     "output_type": "stream",
     "text": [
      "(load \"1.3/filtered_accumulate_by_recursion.scm\")\r\n",
      "(load \"1.2/gcd_by_Euclid_Algorithm.scm\")\r\n",
      "\r\n",
      "(define (identity x) x)\r\n",
      "(define (coprime a b) (and (< a b) (= 1 (gcd a b))))\r\n",
      "(define (inc n) (+ n 1))\r\n",
      "\r\n",
      "(define (product-of-coprimes n)\r\n",
      "  (filtered-accumulate * 1 identity 1 inc n (lambda (x) (coprime x n))))\r\n"
     ]
    }
   ],
   "source": [
    "cat 1.3/product_of_coprimes.scm"
   ]
  },
  {
   "cell_type": "raw",
   "metadata": {},
   "source": [
    "Running Instance:\n",
    "\n",
    "1 ]=> (load \"1.3/product_of_coprimes.scm\")\n",
    "\n",
    ";Loading \"1.3/product_of_coprimes.scm\"...\n",
    ";  Loading \"1.3/filtered_accumulate_by_recursion.scm\"... done\n",
    ";  Loading \"1.2/gcd_by_Euclid_Algorithm.scm\"... done\n",
    ";... done\n",
    ";Value: product-of-coprimes\n",
    "\n",
    "1 ]=> (product-of-coprimes 5)\n",
    "\n",
    ";Value: 24\n",
    "\n",
    "1 ]=> (product-of-coprimes 10)\n",
    "\n",
    ";Value: 189\n",
    "\n",
    "1 ]=> (product-of-coprimes 100)\n",
    "\n",
    ";Value: 426252881942771063138176712755660145456313428952105524817872601"
   ]
  },
  {
   "cell_type": "markdown",
   "metadata": {},
   "source": [
    "#### B.The filtered-accumulate iterative procedure:"
   ]
  },
  {
   "cell_type": "code",
   "execution_count": null,
   "metadata": {
    "collapsed": true
   },
   "outputs": [],
   "source": []
  },
  {
   "cell_type": "code",
   "execution_count": null,
   "metadata": {
    "collapsed": true
   },
   "outputs": [],
   "source": []
  }
 ],
 "metadata": {
  "kernelspec": {
   "display_name": "Python 2",
   "language": "python",
   "name": "python2"
  },
  "language_info": {
   "codemirror_mode": {
    "name": "ipython",
    "version": 2
   },
   "file_extension": ".py",
   "mimetype": "text/x-python",
   "name": "python",
   "nbconvert_exporter": "python",
   "pygments_lexer": "ipython2",
   "version": "2.7.11"
  }
 },
 "nbformat": 4,
 "nbformat_minor": 0
}
