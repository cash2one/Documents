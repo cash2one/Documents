{
 "cells": [
  {
   "cell_type": "markdown",
   "metadata": {},
   "source": [
    "## Linux下交替读取两个文件内容方法总结"
   ]
  },
  {
   "cell_type": "markdown",
   "metadata": {},
   "source": [
    "### 1.paste command"
   ]
  },
  {
   "cell_type": "markdown",
   "metadata": {},
   "source": [
    "The paste command is the easiest of all to read 2 files simultaneously.  \n",
    "paste prints the contents of multiple files side by side.  \n",
    "By using the delimiter(-d) as the newline, the lines come to the new line."
   ]
  },
  {
   "cell_type": "code",
   "execution_count": 1,
   "metadata": {
    "collapsed": false
   },
   "outputs": [
    {
     "name": "stdout",
     "output_type": "stream",
     "text": [
      "==> server.name <==\r\n",
      "zzgame10\r\n",
      "zzgame17\r\n",
      "zzgame33\r\n",
      "zzgame49\r\n",
      "zzgame65\r\n",
      "zzgame89\r\n",
      "\r\n",
      "==> server.ip <==\r\n",
      "175.25.18.171\r\n",
      "175.25.18.137\r\n",
      "175.25.18.138\r\n",
      "175.25.18.144\r\n",
      "175.25.18.143\r\n",
      "175.25.18.139\r\n"
     ]
    }
   ],
   "source": [
    "head server.name server.ip"
   ]
  },
  {
   "cell_type": "code",
   "execution_count": 2,
   "metadata": {
    "collapsed": false
   },
   "outputs": [
    {
     "name": "stdout",
     "output_type": "stream",
     "text": [
      "zzgame10\r\n",
      "175.25.18.171\r\n",
      "zzgame17\r\n",
      "175.25.18.137\r\n",
      "zzgame33\r\n",
      "175.25.18.138\r\n",
      "zzgame49\r\n",
      "175.25.18.144\r\n",
      "zzgame65\r\n",
      "175.25.18.143\r\n",
      "zzgame89\r\n",
      "175.25.18.139\r\n"
     ]
    }
   ],
   "source": [
    "paste -d'\\n' server.name server.ip"
   ]
  },
  {
   "cell_type": "code",
   "execution_count": 3,
   "metadata": {
    "collapsed": false
   },
   "outputs": [
    {
     "name": "stdout",
     "output_type": "stream",
     "text": [
      "==> servername.txt <==\r\n",
      "黄巾起义\r\n",
      "夷陵之战\r\n",
      "巨马水之战\r\n",
      "兴势之战\r\n",
      "大鹏展翅\r\n",
      "兵临城下\r\n",
      "\r\n",
      "==> server.ip <==\r\n",
      "175.25.18.171\r\n",
      "175.25.18.137\r\n",
      "175.25.18.138\r\n",
      "175.25.18.144\r\n",
      "175.25.18.143\r\n",
      "175.25.18.139\r\n",
      "\r\n",
      "==> server.name <==\r\n",
      "zzgame10\r\n",
      "zzgame17\r\n",
      "zzgame33\r\n",
      "zzgame49\r\n",
      "zzgame65\r\n",
      "zzgame89\r\n"
     ]
    }
   ],
   "source": [
    "# However,with this method,\n",
    "# you can read n files in parallel\n",
    "# such as read 3 files line by line:\n",
    "head servername.txt server.ip server.name"
   ]
  },
  {
   "cell_type": "code",
   "execution_count": 4,
   "metadata": {
    "collapsed": false
   },
   "outputs": [
    {
     "name": "stdout",
     "output_type": "stream",
     "text": [
      "黄巾起义\r\n",
      "175.25.18.171\r\n",
      "zzgame10\r\n",
      "夷陵之战\r\n",
      "175.25.18.137\r\n",
      "zzgame17\r\n",
      "巨马水之战\r\n",
      "175.25.18.138\r\n",
      "zzgame33\r\n",
      "兴势之战\r\n",
      "175.25.18.144\r\n",
      "zzgame49\r\n",
      "大鹏展翅\r\n",
      "175.25.18.143\r\n",
      "zzgame65\r\n",
      "兵临城下\r\n",
      "175.25.18.139\r\n",
      "zzgame89\r\n"
     ]
    }
   ],
   "source": [
    "paste -d'\\n' servername.txt server.ip server.name"
   ]
  },
  {
   "cell_type": "markdown",
   "metadata": {},
   "source": [
    "### 2.paste with awk"
   ]
  },
  {
   "cell_type": "markdown",
   "metadata": {},
   "source": [
    "awk uses newline as the output field separator(OFS)   \n",
    "and hence the lines from both the files come in alternate lines."
   ]
  },
  {
   "cell_type": "code",
   "execution_count": 7,
   "metadata": {
    "collapsed": false
   },
   "outputs": [
    {
     "name": "stdout",
     "output_type": "stream",
     "text": [
      "==> server.name <==\r\n",
      "zzgame10\r\n",
      "zzgame17\r\n",
      "zzgame33\r\n",
      "zzgame49\r\n",
      "zzgame65\r\n",
      "zzgame89\r\n",
      "\r\n",
      "==> server.ip <==\r\n",
      "175.25.18.171\r\n",
      "175.25.18.137\r\n",
      "175.25.18.138\r\n",
      "175.25.18.144\r\n",
      "175.25.18.143\r\n",
      "175.25.18.139\r\n"
     ]
    }
   ],
   "source": [
    "head server.name server.ip"
   ]
  },
  {
   "cell_type": "code",
   "execution_count": 8,
   "metadata": {
    "collapsed": false
   },
   "outputs": [
    {
     "name": "stdout",
     "output_type": "stream",
     "text": [
      "zzgame10\t175.25.18.171\r\n",
      "zzgame17\t175.25.18.137\r\n",
      "zzgame33\t175.25.18.138\r\n",
      "zzgame49\t175.25.18.144\r\n",
      "zzgame65\t175.25.18.143\r\n",
      "zzgame89\t175.25.18.139\r\n"
     ]
    }
   ],
   "source": [
    "# the paste default output\n",
    "paste server.name server.ip"
   ]
  },
  {
   "cell_type": "code",
   "execution_count": 9,
   "metadata": {
    "collapsed": false
   },
   "outputs": [
    {
     "name": "stdout",
     "output_type": "stream",
     "text": [
      "zzgame10\r\n",
      "175.25.18.171\r\n",
      "zzgame17\r\n",
      "175.25.18.137\r\n",
      "zzgame33\r\n",
      "175.25.18.138\r\n",
      "zzgame49\r\n",
      "175.25.18.144\r\n",
      "zzgame65\r\n",
      "175.25.18.143\r\n",
      "zzgame89\r\n",
      "175.25.18.139\r\n"
     ]
    }
   ],
   "source": [
    "paste server.name server.ip | awk '$1=$1' OFS='\\n'"
   ]
  },
  {
   "cell_type": "markdown",
   "metadata": {},
   "source": [
    "### 3.awk option"
   ]
  },
  {
   "cell_type": "markdown",
   "metadata": {},
   "source": [
    "The variable 'x' is assigned the 2nd filename \"server.ip\".   \n",
    "The '1' command prints the lines of \"server.name\".   \n",
    "getline command reads the contents of \"server.ip\" and prints one line at a time.   \n",
    "In this fashion, the lines of both the files get printed in alternate fashion.  "
   ]
  },
  {
   "cell_type": "code",
   "execution_count": 5,
   "metadata": {
    "collapsed": false
   },
   "outputs": [
    {
     "name": "stdout",
     "output_type": "stream",
     "text": [
      "==> server.name <==\r\n",
      "zzgame10\r\n",
      "zzgame17\r\n",
      "zzgame33\r\n",
      "zzgame49\r\n",
      "zzgame65\r\n",
      "zzgame89\r\n",
      "\r\n",
      "==> server.ip <==\r\n",
      "175.25.18.171\r\n",
      "175.25.18.137\r\n",
      "175.25.18.138\r\n",
      "175.25.18.144\r\n",
      "175.25.18.143\r\n",
      "175.25.18.139\r\n"
     ]
    }
   ],
   "source": [
    "head server.name server.ip"
   ]
  },
  {
   "cell_type": "code",
   "execution_count": 6,
   "metadata": {
    "collapsed": false
   },
   "outputs": [
    {
     "name": "stdout",
     "output_type": "stream",
     "text": [
      "zzgame10\r\n",
      "175.25.18.171\r\n",
      "zzgame17\r\n",
      "175.25.18.137\r\n",
      "zzgame33\r\n",
      "175.25.18.138\r\n",
      "zzgame49\r\n",
      "175.25.18.144\r\n",
      "zzgame65\r\n",
      "175.25.18.143\r\n",
      "zzgame89\r\n",
      "175.25.18.139\r\n"
     ]
    }
   ],
   "source": [
    "awk '1;{getline < x;}1' x=\"server.ip\" server.name"
   ]
  },
  {
   "cell_type": "markdown",
   "metadata": {},
   "source": [
    "### 4.paste output is piped to the while loop"
   ]
  },
  {
   "cell_type": "markdown",
   "metadata": {},
   "source": [
    "The output of paste command is piped to the while loop.  \n",
    "It reads lines from \"server.name\" into f1 variable, \"server.ip\" to f2 variable, and prints them inside.   \n",
    "Note: This way will work only if your file contains only one word."
   ]
  },
  {
   "cell_type": "code",
   "execution_count": 12,
   "metadata": {
    "collapsed": false
   },
   "outputs": [
    {
     "name": "stdout",
     "output_type": "stream",
     "text": [
      "==> server.name <==\r\n",
      "zzgame10\r\n",
      "zzgame17\r\n",
      "zzgame33\r\n",
      "zzgame49\r\n",
      "zzgame65\r\n",
      "zzgame89\r\n",
      "\r\n",
      "==> server.ip <==\r\n",
      "175.25.18.171\r\n",
      "175.25.18.137\r\n",
      "175.25.18.138\r\n",
      "175.25.18.144\r\n",
      "175.25.18.143\r\n",
      "175.25.18.139\r\n"
     ]
    }
   ],
   "source": [
    "head server.name server.ip"
   ]
  },
  {
   "cell_type": "code",
   "execution_count": 15,
   "metadata": {
    "collapsed": false
   },
   "outputs": [
    {
     "name": "stdout",
     "output_type": "stream",
     "text": [
      "zzgame10\r\n",
      "175.25.18.171\r\n",
      "zzgame17\r\n",
      "175.25.18.137\r\n",
      "zzgame33\r\n",
      "175.25.18.138\r\n",
      "zzgame49\r\n",
      "175.25.18.144\r\n",
      "zzgame65\r\n",
      "175.25.18.143\r\n",
      "zzgame89\r\n",
      "175.25.18.139\r\n"
     ]
    }
   ],
   "source": [
    "paste server.name server.ip | \n",
    "while read f1 f2\n",
    "do\n",
    "    echo $f1\n",
    "    echo $f2\n",
    "done"
   ]
  },
  {
   "cell_type": "markdown",
   "metadata": {},
   "source": [
    "### 5.Pure shell script"
   ]
  },
  {
   "cell_type": "markdown",
   "metadata": {},
   "source": [
    "2 file descriptors 3 and 4 are assigned to \"server.name\" to \"server.ip\".  \n",
    "Using the read command, the files are read one by one and they are printed.   \n",
    "The loop is quit when there are no more lines to read in either files.   \n",
    "The ':' in the while loop indicates a loop without any condition.   \n",
    "This solution uses only internal commands.  "
   ]
  },
  {
   "cell_type": "code",
   "execution_count": 17,
   "metadata": {
    "collapsed": false
   },
   "outputs": [
    {
     "name": "stdout",
     "output_type": "stream",
     "text": [
      "#!/bin/bash\r\n",
      "exec 3< $1\r\n",
      "exec 4< $2\r\n",
      "while :\r\n",
      "do\r\n",
      "    read x <&3\r\n",
      "    read y <&4\r\n",
      "    [ -n \"$x\" ] && echo \"$x\"\r\n",
      "    [ -n \"$y\" ] && echo \"$y\"\r\n",
      "    [ -z \"$x\" -a -z \"$y\" ] && break\r\n",
      "done\r\n"
     ]
    }
   ],
   "source": [
    "cat alternative.sh"
   ]
  },
  {
   "cell_type": "code",
   "execution_count": 18,
   "metadata": {
    "collapsed": false
   },
   "outputs": [
    {
     "name": "stdout",
     "output_type": "stream",
     "text": [
      "zzgame10\r\n",
      "175.25.18.171\r\n",
      "zzgame17\r\n",
      "175.25.18.137\r\n",
      "zzgame33\r\n",
      "175.25.18.138\r\n",
      "zzgame49\r\n",
      "175.25.18.144\r\n",
      "zzgame65\r\n",
      "175.25.18.143\r\n",
      "zzgame89\r\n",
      "175.25.18.139\r\n"
     ]
    }
   ],
   "source": [
    "./alternative.sh server.name server.ip"
   ]
  }
 ],
 "metadata": {
  "kernelspec": {
   "display_name": "Bash",
   "language": "bash",
   "name": "bash"
  },
  "language_info": {
   "codemirror_mode": "shell",
   "file_extension": ".sh",
   "mimetype": "text/x-sh",
   "name": "bash"
  }
 },
 "nbformat": 4,
 "nbformat_minor": 0
}
