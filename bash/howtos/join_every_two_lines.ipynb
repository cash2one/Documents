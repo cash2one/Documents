{
 "cells": [
  {
   "cell_type": "markdown",
   "metadata": {},
   "source": [
    "## In Linux join every 2 lines in a file"
   ]
  },
  {
   "cell_type": "markdown",
   "metadata": {},
   "source": [
    "### 1.paste command"
   ]
  },
  {
   "cell_type": "markdown",
   "metadata": {},
   "source": [
    "paste command can take standard input.   \n",
    "Every \"-\" consumes one line.   \n",
    "Two \"-\" consumes two lines, and -d to join them using comma."
   ]
  },
  {
   "cell_type": "code",
   "execution_count": 2,
   "metadata": {
    "collapsed": false
   },
   "outputs": [
    {
     "name": "stdout",
     "output_type": "stream",
     "text": [
      "zzgame10\r\n",
      "175.25.18.171\r\n",
      "zzgame17\r\n",
      "175.25.18.137\r\n",
      "zzgame33\r\n",
      "175.25.18.138\r\n",
      "zzgame49\r\n",
      "175.25.18.144\r\n",
      "zzgame65\r\n",
      "175.25.18.143\r\n",
      "zzgame89\r\n",
      "175.25.18.139\r\n"
     ]
    }
   ],
   "source": [
    "cat join_file.txt"
   ]
  },
  {
   "cell_type": "code",
   "execution_count": 3,
   "metadata": {
    "collapsed": false
   },
   "outputs": [
    {
     "name": "stdout",
     "output_type": "stream",
     "text": [
      "zzgame10,175.25.18.171\r\n",
      "zzgame17,175.25.18.137\r\n",
      "zzgame33,175.25.18.138\r\n",
      "zzgame49,175.25.18.144\r\n",
      "zzgame65,175.25.18.143\r\n",
      "zzgame89,175.25.18.139\r\n"
     ]
    }
   ],
   "source": [
    "paste - - -d, < join_file.txt"
   ]
  },
  {
   "cell_type": "code",
   "execution_count": 4,
   "metadata": {
    "collapsed": false
   },
   "outputs": [
    {
     "name": "stdout",
     "output_type": "stream",
     "text": [
      "zzgame10\t175.25.18.171\r\n",
      "zzgame17\t175.25.18.137\r\n",
      "zzgame33\t175.25.18.138\r\n",
      "zzgame49\t175.25.18.144\r\n",
      "zzgame65\t175.25.18.143\r\n",
      "zzgame89\t175.25.18.139\r\n"
     ]
    }
   ],
   "source": [
    "paste - - < join_file.txt"
   ]
  },
  {
   "cell_type": "markdown",
   "metadata": {},
   "source": [
    "The traditional way of using paste command with \"-s\" option.  \n",
    "\"-d\" in paste can take multiple delimiters.  \n",
    "The delimiters specified here are comma and a newline character.   \n",
    "This means while joining the first and second line use comma,   \n",
    "and the second and third line by a newline character.   \n",
    "And this repeats.  "
   ]
  },
  {
   "cell_type": "code",
   "execution_count": 5,
   "metadata": {
    "collapsed": false
   },
   "outputs": [
    {
     "name": "stdout",
     "output_type": "stream",
     "text": [
      "zzgame10\r\n",
      "175.25.18.171\r\n",
      "zzgame17\r\n",
      "175.25.18.137\r\n",
      "zzgame33\r\n",
      "175.25.18.138\r\n",
      "zzgame49\r\n",
      "175.25.18.144\r\n",
      "zzgame65\r\n",
      "175.25.18.143\r\n",
      "zzgame89\r\n",
      "175.25.18.139\r\n"
     ]
    }
   ],
   "source": [
    "cat join_file.txt"
   ]
  },
  {
   "cell_type": "code",
   "execution_count": 6,
   "metadata": {
    "collapsed": false
   },
   "outputs": [
    {
     "name": "stdout",
     "output_type": "stream",
     "text": [
      "zzgame10,175.25.18.171\r\n",
      "zzgame17,175.25.18.137\r\n",
      "zzgame33,175.25.18.138\r\n",
      "zzgame49,175.25.18.144\r\n",
      "zzgame65,175.25.18.143\r\n",
      "zzgame89,175.25.18.139\r\n"
     ]
    }
   ],
   "source": [
    "paste -s -d',\\n' join_file.txt"
   ]
  },
  {
   "cell_type": "markdown",
   "metadata": {},
   "source": [
    "### 2. sed method"
   ]
  },
  {
   "cell_type": "markdown",
   "metadata": {},
   "source": [
    "'N' joins 2 lines.   \n",
    "And we replace the newline with a comma."
   ]
  },
  {
   "cell_type": "code",
   "execution_count": 9,
   "metadata": {
    "collapsed": false
   },
   "outputs": [
    {
     "name": "stdout",
     "output_type": "stream",
     "text": [
      "zzgame10\r\n",
      "175.25.18.171\r\n",
      "zzgame17\r\n",
      "175.25.18.137\r\n",
      "zzgame33\r\n",
      "175.25.18.138\r\n",
      "zzgame49\r\n",
      "175.25.18.144\r\n",
      "zzgame65\r\n",
      "175.25.18.143\r\n",
      "zzgame89\r\n",
      "175.25.18.139\r\n"
     ]
    }
   ],
   "source": [
    "cat join_file.txt"
   ]
  },
  {
   "cell_type": "code",
   "execution_count": 10,
   "metadata": {
    "collapsed": false
   },
   "outputs": [
    {
     "name": "stdout",
     "output_type": "stream",
     "text": [
      "zzgame10,175.25.18.171\r\n",
      "zzgame17,175.25.18.137\r\n",
      "zzgame33,175.25.18.138\r\n",
      "zzgame49,175.25.18.144\r\n",
      "zzgame65,175.25.18.143\r\n",
      "zzgame89,175.25.18.139\r\n"
     ]
    }
   ],
   "source": [
    "sed 'N;s/\\n/,/' join_file.txt"
   ]
  },
  {
   "cell_type": "code",
   "execution_count": 12,
   "metadata": {
    "collapsed": false
   },
   "outputs": [
    {
     "name": "stdout",
     "output_type": "stream",
     "text": [
      "zzgame10\t175.25.18.171\r\n",
      "zzgame17\t175.25.18.137\r\n",
      "zzgame33\t175.25.18.138\r\n",
      "zzgame49\t175.25.18.144\r\n",
      "zzgame65\t175.25.18.143\r\n",
      "zzgame89\t175.25.18.139\r\n"
     ]
    }
   ],
   "source": [
    "sed 'N;s/\\n/\\t/' join_file.txt"
   ]
  },
  {
   "cell_type": "markdown",
   "metadata": {},
   "source": [
    "### 3.perl method"
   ]
  },
  {
   "cell_type": "markdown",
   "metadata": {},
   "source": [
    "Perl with \"-p\" option does default printing.   \n",
    "All we do here is, if the line number is an odd line,   \n",
    "replace the newline character with a comma.   "
   ]
  },
  {
   "cell_type": "code",
   "execution_count": 13,
   "metadata": {
    "collapsed": false
   },
   "outputs": [
    {
     "name": "stdout",
     "output_type": "stream",
     "text": [
      "zzgame10\r\n",
      "175.25.18.171\r\n",
      "zzgame17\r\n",
      "175.25.18.137\r\n",
      "zzgame33\r\n",
      "175.25.18.138\r\n",
      "zzgame49\r\n",
      "175.25.18.144\r\n",
      "zzgame65\r\n",
      "175.25.18.143\r\n",
      "zzgame89\r\n",
      "175.25.18.139\r\n"
     ]
    }
   ],
   "source": [
    "cat join_file.txt"
   ]
  },
  {
   "cell_type": "code",
   "execution_count": 14,
   "metadata": {
    "collapsed": false
   },
   "outputs": [
    {
     "name": "stdout",
     "output_type": "stream",
     "text": [
      "zzgame10,175.25.18.171\r\n",
      "zzgame17,175.25.18.137\r\n",
      "zzgame33,175.25.18.138\r\n",
      "zzgame49,175.25.18.144\r\n",
      "zzgame65,175.25.18.143\r\n",
      "zzgame89,175.25.18.139\r\n"
     ]
    }
   ],
   "source": [
    "perl -pne 'if($.%2){s/\\n/,/;}' join_file.txt"
   ]
  },
  {
   "cell_type": "code",
   "execution_count": 15,
   "metadata": {
    "collapsed": false
   },
   "outputs": [
    {
     "name": "stdout",
     "output_type": "stream",
     "text": [
      "zzgame10\t175.25.18.171\r\n",
      "zzgame17\t175.25.18.137\r\n",
      "zzgame33\t175.25.18.138\r\n",
      "zzgame49\t175.25.18.144\r\n",
      "zzgame65\t175.25.18.143\r\n",
      "zzgame89\t175.25.18.139\r\n"
     ]
    }
   ],
   "source": [
    "perl -pne 'if($.%2){s/\\n/\\t/;}' join_file.txt"
   ]
  },
  {
   "cell_type": "markdown",
   "metadata": {},
   "source": [
    "### 4.awk method"
   ]
  },
  {
   "cell_type": "markdown",
   "metadata": {},
   "source": [
    "Print the odd line using printf(no new line) with a comma,   \n",
    "and do a normal print for the even line using print   \n",
    "(which puts newline by default)."
   ]
  },
  {
   "cell_type": "code",
   "execution_count": 16,
   "metadata": {
    "collapsed": false
   },
   "outputs": [
    {
     "name": "stdout",
     "output_type": "stream",
     "text": [
      "zzgame10\r\n",
      "175.25.18.171\r\n",
      "zzgame17\r\n",
      "175.25.18.137\r\n",
      "zzgame33\r\n",
      "175.25.18.138\r\n",
      "zzgame49\r\n",
      "175.25.18.144\r\n",
      "zzgame65\r\n",
      "175.25.18.143\r\n",
      "zzgame89\r\n",
      "175.25.18.139\r\n"
     ]
    }
   ],
   "source": [
    "cat join_file.txt"
   ]
  },
  {
   "cell_type": "code",
   "execution_count": 17,
   "metadata": {
    "collapsed": false
   },
   "outputs": [
    {
     "name": "stdout",
     "output_type": "stream",
     "text": [
      "zzgame10,175.25.18.171\r\n",
      "zzgame17,175.25.18.137\r\n",
      "zzgame33,175.25.18.138\r\n",
      "zzgame49,175.25.18.144\r\n",
      "zzgame65,175.25.18.143\r\n",
      "zzgame89,175.25.18.139\r\n"
     ]
    }
   ],
   "source": [
    "awk 'NR%2{printf \"%s,\",$0;next}{print;}' join_file.txt"
   ]
  },
  {
   "cell_type": "code",
   "execution_count": 19,
   "metadata": {
    "collapsed": false
   },
   "outputs": [
    {
     "name": "stdout",
     "output_type": "stream",
     "text": [
      "zzgame10\t175.25.18.171\r\n",
      "zzgame17\t175.25.18.137\r\n",
      "zzgame33\t175.25.18.138\r\n",
      "zzgame49\t175.25.18.144\r\n",
      "zzgame65\t175.25.18.143\r\n",
      "zzgame89\t175.25.18.139\r\n"
     ]
    }
   ],
   "source": [
    "awk 'NR%2{printf \"%s\\t\",$0;next}{print;}' join_file.txt"
   ]
  },
  {
   "cell_type": "markdown",
   "metadata": {},
   "source": [
    "### 5.awk with xargs command"
   ]
  },
  {
   "cell_type": "markdown",
   "metadata": {},
   "source": [
    "The \"-L\" argument in xargs tells how many lines to join.   \n",
    "No \"-L\" means all lines are joined.   \n",
    "And awk puts the output field separator(OFS).   "
   ]
  },
  {
   "cell_type": "code",
   "execution_count": 20,
   "metadata": {
    "collapsed": false
   },
   "outputs": [
    {
     "name": "stdout",
     "output_type": "stream",
     "text": [
      "zzgame10\r\n",
      "175.25.18.171\r\n",
      "zzgame17\r\n",
      "175.25.18.137\r\n",
      "zzgame33\r\n",
      "175.25.18.138\r\n",
      "zzgame49\r\n",
      "175.25.18.144\r\n",
      "zzgame65\r\n",
      "175.25.18.143\r\n",
      "zzgame89\r\n",
      "175.25.18.139\r\n"
     ]
    }
   ],
   "source": [
    "cat join_file.txt"
   ]
  },
  {
   "cell_type": "code",
   "execution_count": 22,
   "metadata": {
    "collapsed": false
   },
   "outputs": [
    {
     "name": "stdout",
     "output_type": "stream",
     "text": [
      "zzgame10,175.25.18.171\r\n",
      "zzgame17,175.25.18.137\r\n",
      "zzgame33,175.25.18.138\r\n",
      "zzgame49,175.25.18.144\r\n",
      "zzgame65,175.25.18.143\r\n",
      "zzgame89,175.25.18.139\r\n"
     ]
    }
   ],
   "source": [
    "xargs -L2 < join_file.txt | awk '$1=$1' OFS=,"
   ]
  },
  {
   "cell_type": "code",
   "execution_count": 24,
   "metadata": {
    "collapsed": false
   },
   "outputs": [
    {
     "name": "stdout",
     "output_type": "stream",
     "text": [
      "zzgame10\t175.25.18.171\r\n",
      "zzgame17\t175.25.18.137\r\n",
      "zzgame33\t175.25.18.138\r\n",
      "zzgame49\t175.25.18.144\r\n",
      "zzgame65\t175.25.18.143\r\n",
      "zzgame89\t175.25.18.139\r\n"
     ]
    }
   ],
   "source": [
    "xargs -L2 < join_file.txt | awk '$1=$1' OFS=\"\\t\""
   ]
  }
 ],
 "metadata": {
  "kernelspec": {
   "display_name": "Bash",
   "language": "bash",
   "name": "bash"
  },
  "language_info": {
   "codemirror_mode": "shell",
   "file_extension": ".sh",
   "mimetype": "text/x-sh",
   "name": "bash"
  }
 },
 "nbformat": 4,
 "nbformat_minor": 0
}
