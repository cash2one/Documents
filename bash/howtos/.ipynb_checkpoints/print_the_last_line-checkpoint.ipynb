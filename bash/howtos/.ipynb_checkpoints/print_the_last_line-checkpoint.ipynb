{
 "cells": [
  {
   "cell_type": "markdown",
   "metadata": {},
   "source": [
    "## In Linux print the last line of a file"
   ]
  },
  {
   "cell_type": "markdown",
   "metadata": {},
   "source": [
    "### 1.tail command"
   ]
  },
  {
   "cell_type": "markdown",
   "metadata": {},
   "source": [
    "The tail is the most common command used.   \n",
    "tail command prints the last part of the files.   \n",
    "-1 specifies to print one line from the last part."
   ]
  },
  {
   "cell_type": "code",
   "execution_count": 2,
   "metadata": {
    "collapsed": false
   },
   "outputs": [
    {
     "name": "stdout",
     "output_type": "stream",
     "text": [
      "1 zzgame10\r\n",
      "2 zzgame17\r\n",
      "3 zzgame33\r\n",
      "4 zzgame49\r\n",
      "5 zzgame65\r\n",
      "6 zzgame89\r\n"
     ]
    }
   ],
   "source": [
    "cat servername.txt"
   ]
  },
  {
   "cell_type": "code",
   "execution_count": 3,
   "metadata": {
    "collapsed": false
   },
   "outputs": [
    {
     "name": "stdout",
     "output_type": "stream",
     "text": [
      "6 zzgame89\r\n"
     ]
    }
   ],
   "source": [
    "tail -n1 servername.txt"
   ]
  },
  {
   "cell_type": "markdown",
   "metadata": {},
   "source": [
    "### 2.tac command"
   ]
  },
  {
   "cell_type": "markdown",
   "metadata": {},
   "source": [
    "tac command prints a file in reverse.   \n",
    "By printing the first line of the tac output using the head, we will get the last line of the file printed.   \n",
    "Not the best of options, but an option nevertheless."
   ]
  },
  {
   "cell_type": "code",
   "execution_count": 4,
   "metadata": {
    "collapsed": false
   },
   "outputs": [
    {
     "name": "stdout",
     "output_type": "stream",
     "text": [
      "1 zzgame10\r\n",
      "2 zzgame17\r\n",
      "3 zzgame33\r\n",
      "4 zzgame49\r\n",
      "5 zzgame65\r\n",
      "6 zzgame89\r\n"
     ]
    }
   ],
   "source": [
    "cat servername.txt"
   ]
  },
  {
   "cell_type": "code",
   "execution_count": 5,
   "metadata": {
    "collapsed": false
   },
   "outputs": [
    {
     "name": "stdout",
     "output_type": "stream",
     "text": [
      "6 zzgame89\r\n"
     ]
    }
   ],
   "source": [
    "tac servername.txt | head -n1"
   ]
  },
  {
   "cell_type": "markdown",
   "metadata": {},
   "source": [
    "### 3.sort command"
   ]
  },
  {
   "cell_type": "code",
   "execution_count": 6,
   "metadata": {
    "collapsed": false
   },
   "outputs": [
    {
     "name": "stdout",
     "output_type": "stream",
     "text": [
      "1 zzgame10\r\n",
      "2 zzgame17\r\n",
      "3 zzgame33\r\n",
      "4 zzgame49\r\n",
      "5 zzgame65\r\n",
      "6 zzgame89\r\n"
     ]
    }
   ],
   "source": [
    "cat servername.txt"
   ]
  },
  {
   "cell_type": "code",
   "execution_count": 7,
   "metadata": {
    "collapsed": false
   },
   "outputs": [
    {
     "name": "stdout",
     "output_type": "stream",
     "text": [
      "6 zzgame89\r\n"
     ]
    }
   ],
   "source": [
    "sort -r servername.txt | head -n1"
   ]
  },
  {
   "cell_type": "markdown",
   "metadata": {},
   "source": [
    "### 4.awk method"
   ]
  },
  {
   "cell_type": "markdown",
   "metadata": {},
   "source": [
    "The END label in awk makes it even more easily.   \n",
    "END label is reached once the entire file is parsed.   \n",
    "Hence, on reaching END, the special variable $0 will be holding the last line of the file.  "
   ]
  },
  {
   "cell_type": "code",
   "execution_count": 8,
   "metadata": {
    "collapsed": false
   },
   "outputs": [
    {
     "name": "stdout",
     "output_type": "stream",
     "text": [
      "1 zzgame10\r\n",
      "2 zzgame17\r\n",
      "3 zzgame33\r\n",
      "4 zzgame49\r\n",
      "5 zzgame65\r\n",
      "6 zzgame89\r\n"
     ]
    }
   ],
   "source": [
    "cat servername.txt"
   ]
  },
  {
   "cell_type": "code",
   "execution_count": 9,
   "metadata": {
    "collapsed": false
   },
   "outputs": [
    {
     "name": "stdout",
     "output_type": "stream",
     "text": [
      "6 zzgame89\r\n"
     ]
    }
   ],
   "source": [
    "awk 'END{print}' servername.txt"
   ]
  },
  {
   "cell_type": "markdown",
   "metadata": {},
   "source": [
    "### 5.sed method"
   ]
  },
  {
   "cell_type": "markdown",
   "metadata": {},
   "source": [
    "\\$ indicates the last line, and \\$p tells to print(p) the last line($) only."
   ]
  },
  {
   "cell_type": "code",
   "execution_count": 11,
   "metadata": {
    "collapsed": false
   },
   "outputs": [
    {
     "name": "stdout",
     "output_type": "stream",
     "text": [
      "1 zzgame10\r\n",
      "2 zzgame17\r\n",
      "3 zzgame33\r\n",
      "4 zzgame49\r\n",
      "5 zzgame65\r\n",
      "6 zzgame89\r\n"
     ]
    }
   ],
   "source": [
    "cat servername.txt"
   ]
  },
  {
   "cell_type": "code",
   "execution_count": 12,
   "metadata": {
    "collapsed": false
   },
   "outputs": [
    {
     "name": "stdout",
     "output_type": "stream",
     "text": [
      "6 zzgame89\r\n"
     ]
    }
   ],
   "source": [
    "sed -n '$p' servername.txt"
   ]
  },
  {
   "cell_type": "markdown",
   "metadata": {},
   "source": [
    "Another option in sed is to delete(d) all the lines other than(!)   \n",
    "the last line($) which in turn prints only the last line."
   ]
  },
  {
   "cell_type": "code",
   "execution_count": 14,
   "metadata": {
    "collapsed": false
   },
   "outputs": [
    {
     "name": "stdout",
     "output_type": "stream",
     "text": [
      "6 zzgame89\r\n"
     ]
    }
   ],
   "source": [
    "sed '$!d' servername.txt"
   ]
  },
  {
   "cell_type": "markdown",
   "metadata": {},
   "source": [
    "### 6.perl method"
   ]
  },
  {
   "cell_type": "markdown",
   "metadata": {},
   "source": [
    "In perl, every line being processed is saved in a variable.  \n",
    "Same explanation as of awk.   \n",
    "Only difference here is the scope of the variable $_ is only present in main, not in the END label.   \n",
    "Hence, every line is stored in a variable and the same variable is used in the END.  "
   ]
  },
  {
   "cell_type": "code",
   "execution_count": 16,
   "metadata": {
    "collapsed": false
   },
   "outputs": [
    {
     "name": "stdout",
     "output_type": "stream",
     "text": [
      "1 zzgame10\r\n",
      "2 zzgame17\r\n",
      "3 zzgame33\r\n",
      "4 zzgame49\r\n",
      "5 zzgame65\r\n",
      "6 zzgame89\r\n"
     ]
    }
   ],
   "source": [
    "cat servername.txt"
   ]
  },
  {
   "cell_type": "code",
   "execution_count": 17,
   "metadata": {
    "collapsed": false
   },
   "outputs": [
    {
     "name": "stdout",
     "output_type": "stream",
     "text": [
      "6 zzgame89\r\n"
     ]
    }
   ],
   "source": [
    "perl -ne '$x=$_;END{print $x;}' servername.txt"
   ]
  },
  {
   "cell_type": "markdown",
   "metadata": {},
   "source": [
    "### 7.shell script"
   ]
  },
  {
   "cell_type": "markdown",
   "metadata": {},
   "source": [
    "The file is processed using the while loop where each line is read in one iteration.   \n",
    "The line is assigned to a variable x, and outside the loop, x is printed which will contain the last line of the file.  "
   ]
  },
  {
   "cell_type": "code",
   "execution_count": 18,
   "metadata": {
    "collapsed": false
   },
   "outputs": [
    {
     "name": "stdout",
     "output_type": "stream",
     "text": [
      "#!/bin/bash\r\n",
      "\r\n",
      "while read line\r\n",
      "do\r\n",
      "    x=\"$line\"\r\n",
      "done < servername.txt\r\n",
      "\r\n",
      "echo \"$x\"\r\n"
     ]
    }
   ],
   "source": [
    "cat print_lastline.sh"
   ]
  },
  {
   "cell_type": "code",
   "execution_count": 19,
   "metadata": {
    "collapsed": false
   },
   "outputs": [
    {
     "name": "stdout",
     "output_type": "stream",
     "text": [
      "6 zzgame89\r\n"
     ]
    }
   ],
   "source": [
    "./print_lastline.sh"
   ]
  }
 ],
 "metadata": {
  "kernelspec": {
   "display_name": "Bash",
   "language": "bash",
   "name": "bash"
  },
  "language_info": {
   "codemirror_mode": "shell",
   "file_extension": ".sh",
   "mimetype": "text/x-sh",
   "name": "bash"
  }
 },
 "nbformat": 4,
 "nbformat_minor": 0
}
