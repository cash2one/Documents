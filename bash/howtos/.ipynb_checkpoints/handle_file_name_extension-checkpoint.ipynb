{
 "cells": [
  {
   "cell_type": "markdown",
   "metadata": {},
   "source": [
    "## Linux下批量处理文件名前后缀方法总结\n",
    "#### 批量修改文件名后缀\n",
    "#### 批量添加文件名前后缀\n",
    "#### 批量删除文件名前后缀"
   ]
  },
  {
   "cell_type": "markdown",
   "metadata": {},
   "source": [
    "### 1.rename命令\n",
    "#### A.批量修改文件名后缀"
   ]
  },
  {
   "cell_type": "markdown",
   "metadata": {},
   "source": [
    "I.单个目录中批量修改"
   ]
  },
  {
   "cell_type": "code",
   "execution_count": 4,
   "metadata": {
    "collapsed": false
   },
   "outputs": [
    {
     "name": "stdout",
     "output_type": "stream",
     "text": [
      "total 0\r\n",
      "-rw-rw-r-- 1 liheyi liheyi 0  8月 16 10:00 chapter1.txt\r\n",
      "-rw-rw-r-- 1 liheyi liheyi 0  8月 16 10:00 chapter2.txt\r\n",
      "-rw-rw-r-- 1 liheyi liheyi 0  8月 16 10:00 chapter3.txt\r\n",
      "-rw-rw-r-- 1 liheyi liheyi 0  8月 16 10:00 chapter4.txt\r\n",
      "-rw-rw-r-- 1 liheyi liheyi 0  8月 16 10:00 chapter5.txt\r\n",
      "-rw-rw-r-- 1 liheyi liheyi 0  8月 16 10:01 section1.cnf\r\n",
      "-rw-rw-r-- 1 liheyi liheyi 0  8月 16 10:01 section2.cnf\r\n",
      "-rw-rw-r-- 1 liheyi liheyi 0  8月 16 10:01 section3.cnf\r\n",
      "-rw-rw-r-- 1 liheyi liheyi 0  8月 16 10:01 section4.cnf\r\n",
      "-rw-rw-r-- 1 liheyi liheyi 0  8月 16 10:01 section5.cnf\r\n"
     ]
    }
   ],
   "source": [
    "# 将books目录下所有txt后缀的文件修改为pdf\n",
    "ls -l books/"
   ]
  },
  {
   "cell_type": "code",
   "execution_count": 5,
   "metadata": {
    "collapsed": false
   },
   "outputs": [
    {
     "name": "stdout",
     "output_type": "stream",
     "text": [
      "total 0\r\n",
      "-rw-rw-r-- 1 liheyi liheyi 0  8月 16 10:00 chapter1.pdf\r\n",
      "-rw-rw-r-- 1 liheyi liheyi 0  8月 16 10:00 chapter2.pdf\r\n",
      "-rw-rw-r-- 1 liheyi liheyi 0  8月 16 10:00 chapter3.pdf\r\n",
      "-rw-rw-r-- 1 liheyi liheyi 0  8月 16 10:00 chapter4.pdf\r\n",
      "-rw-rw-r-- 1 liheyi liheyi 0  8月 16 10:00 chapter5.pdf\r\n",
      "-rw-rw-r-- 1 liheyi liheyi 0  8月 16 10:01 section1.cnf\r\n",
      "-rw-rw-r-- 1 liheyi liheyi 0  8月 16 10:01 section2.cnf\r\n",
      "-rw-rw-r-- 1 liheyi liheyi 0  8月 16 10:01 section3.cnf\r\n",
      "-rw-rw-r-- 1 liheyi liheyi 0  8月 16 10:01 section4.cnf\r\n",
      "-rw-rw-r-- 1 liheyi liheyi 0  8月 16 10:01 section5.cnf\r\n"
     ]
    }
   ],
   "source": [
    "# rename仅针对符合匹配的文件进行操作\n",
    "rename 's/\\.txt/\\.pdf/' books/*\n",
    "ls -l books/"
   ]
  },
  {
   "cell_type": "markdown",
   "metadata": {},
   "source": [
    "II.对多个目录中的文件进行批量重命名"
   ]
  },
  {
   "cell_type": "code",
   "execution_count": 8,
   "metadata": {
    "collapsed": false
   },
   "outputs": [
    {
     "name": "stdout",
     "output_type": "stream",
     "text": [
      "\u001b[01;34mbooks\u001b[00m\r\n",
      "├── chapter1.pdf\r\n",
      "├── chapter2.pdf\r\n",
      "├── chapter3.pdf\r\n",
      "├── chapter4.pdf\r\n",
      "├── chapter5.pdf\r\n",
      "├── section1.cnf\r\n",
      "├── section2.cnf\r\n",
      "├── section3.cnf\r\n",
      "├── section4.cnf\r\n",
      "└── section5.cnf\r\n",
      "\u001b[01;34mbuch\u001b[00m\r\n",
      "├── chapter1.pdf\r\n",
      "├── chapter2.pdf\r\n",
      "├── chapter3.pdf\r\n",
      "└── chapter4.pdf\r\n",
      "\r\n",
      "0 directories, 14 files\r\n"
     ]
    }
   ],
   "source": [
    "tree books buch"
   ]
  },
  {
   "cell_type": "code",
   "execution_count": 9,
   "metadata": {
    "collapsed": false
   },
   "outputs": [
    {
     "name": "stdout",
     "output_type": "stream",
     "text": []
    }
   ],
   "source": [
    "# 将books与buch目录中的所有pdf后缀的文件\n",
    "# 重命名为txt后缀的文件\n",
    "rename 's/\\.pdf/\\.txt/' {books,buch}/*"
   ]
  },
  {
   "cell_type": "code",
   "execution_count": 10,
   "metadata": {
    "collapsed": false
   },
   "outputs": [
    {
     "name": "stdout",
     "output_type": "stream",
     "text": [
      "\u001b[01;34mbooks\u001b[00m\r\n",
      "├── chapter1.txt\r\n",
      "├── chapter2.txt\r\n",
      "├── chapter3.txt\r\n",
      "├── chapter4.txt\r\n",
      "├── chapter5.txt\r\n",
      "├── section1.cnf\r\n",
      "├── section2.cnf\r\n",
      "├── section3.cnf\r\n",
      "├── section4.cnf\r\n",
      "└── section5.cnf\r\n",
      "\u001b[01;34mbuch\u001b[00m\r\n",
      "├── chapter1.txt\r\n",
      "├── chapter2.txt\r\n",
      "├── chapter3.txt\r\n",
      "└── chapter4.txt\r\n",
      "\r\n",
      "0 directories, 14 files\r\n"
     ]
    }
   ],
   "source": [
    "tree books buch"
   ]
  },
  {
   "cell_type": "markdown",
   "metadata": {},
   "source": [
    "III.结合find命令实现更大范围的批量操作"
   ]
  },
  {
   "cell_type": "code",
   "execution_count": 12,
   "metadata": {
    "collapsed": false
   },
   "outputs": [
    {
     "name": "stdout",
     "output_type": "stream",
     "text": [
      "/etc/bash_completion.d/pulseaudio-bash-completion.sh\r\n",
      "/etc/bash_completion.d/libreoffice.sh\r\n",
      "/etc/init.d/umountnfs.sh\r\n",
      "/etc/wpa_supplicant/action_wpa.sh\r\n",
      "/etc/wpa_supplicant/ifupdown.sh\r\n",
      "/etc/wpa_supplicant/functions.sh\r\n",
      "/etc/profile.d/appmenu-qt5.sh\r\n",
      "/etc/profile.d/vte.sh\r\n",
      "/etc/profile.d/bash_completion.sh\r\n",
      "/etc/acpi/asus-wireless.sh\r\n",
      "/etc/acpi/powerbtn.sh\r\n",
      "/etc/acpi/asus-keyboard-backlight.sh\r\n",
      "/etc/acpi/undock.sh\r\n",
      "/etc/acpi/tosh-wireless.sh\r\n",
      "/etc/acpi/ibm-wireless.sh\r\n",
      "/etc/libreoffice/soffice.sh\r\n"
     ]
    }
   ],
   "source": [
    "# 找到/etc目录下所有的sh文件\n",
    "# 将所有sh后缀修改为zsh后缀\n",
    "sudo find /etc -type f -iname '*.sh'"
   ]
  },
  {
   "cell_type": "code",
   "execution_count": 13,
   "metadata": {
    "collapsed": false
   },
   "outputs": [
    {
     "name": "stdout",
     "output_type": "stream",
     "text": []
    }
   ],
   "source": [
    "# find and rename\n",
    "sudo find /etc -type f -iname '*.sh' -exec rename 's/\\.sh/\\.zsh/' {} \\;"
   ]
  },
  {
   "cell_type": "code",
   "execution_count": 14,
   "metadata": {
    "collapsed": false
   },
   "outputs": [
    {
     "name": "stdout",
     "output_type": "stream",
     "text": [
      "/etc/bash_completion.d/libreoffice.zsh\r\n",
      "/etc/bash_completion.d/pulseaudio-bash-completion.zsh\r\n",
      "/etc/init.d/umountnfs.zsh\r\n",
      "/etc/wpa_supplicant/ifupdown.zsh\r\n",
      "/etc/wpa_supplicant/action_wpa.zsh\r\n",
      "/etc/wpa_supplicant/functions.zsh\r\n",
      "/etc/profile.d/appmenu-qt5.zsh\r\n",
      "/etc/profile.d/vte.zsh\r\n",
      "/etc/profile.d/bash_completion.zsh\r\n",
      "/etc/acpi/ibm-wireless.zsh\r\n",
      "/etc/acpi/powerbtn.zsh\r\n",
      "/etc/acpi/tosh-wireless.zsh\r\n",
      "/etc/acpi/asus-wireless.zsh\r\n",
      "/etc/acpi/undock.zsh\r\n",
      "/etc/acpi/asus-keyboard-backlight.zsh\r\n",
      "/etc/libreoffice/soffice.zsh\r\n"
     ]
    }
   ],
   "source": [
    "sudo find /etc -type f -iname '*.zsh'"
   ]
  },
  {
   "cell_type": "code",
   "execution_count": 15,
   "metadata": {
    "collapsed": false
   },
   "outputs": [
    {
     "name": "stdout",
     "output_type": "stream",
     "text": [
      "/etc/bash_completion.d/pulseaudio-bash-completion.sh\r\n",
      "/etc/bash_completion.d/libreoffice.sh\r\n",
      "/etc/init.d/umountnfs.sh\r\n",
      "/etc/wpa_supplicant/action_wpa.sh\r\n",
      "/etc/wpa_supplicant/ifupdown.sh\r\n",
      "/etc/wpa_supplicant/functions.sh\r\n",
      "/etc/profile.d/appmenu-qt5.sh\r\n",
      "/etc/profile.d/vte.sh\r\n",
      "/etc/profile.d/bash_completion.sh\r\n",
      "/etc/acpi/asus-wireless.sh\r\n",
      "/etc/acpi/powerbtn.sh\r\n",
      "/etc/acpi/asus-keyboard-backlight.sh\r\n",
      "/etc/acpi/undock.sh\r\n",
      "/etc/acpi/tosh-wireless.sh\r\n",
      "/etc/acpi/ibm-wireless.sh\r\n",
      "/etc/libreoffice/soffice.sh\r\n",
      "/lib/firmware/carl9170fw/autogen.sh\r\n",
      "/lib/firmware/carl9170fw/genapi.sh\r\n",
      "/lib/ifupdown/settle-dad.sh\r\n",
      "/lib/init/vars.sh\r\n",
      "/lib/brltty/brltty.sh\r\n",
      "/lib/systemd/system-sleep/notify-upower.sh\r\n",
      "/lib/recovery-mode/l10n.sh\r\n"
     ]
    }
   ],
   "source": [
    "# A more bigger example\n",
    "sudo find /{etc,lib} -type f -iname '*.sh'"
   ]
  },
  {
   "cell_type": "code",
   "execution_count": 16,
   "metadata": {
    "collapsed": false
   },
   "outputs": [
    {
     "name": "stdout",
     "output_type": "stream",
     "text": []
    }
   ],
   "source": [
    "sudo find /{etc,lib} -type f -iname '*.sh' -exec rename 's/\\.sh/\\.zsh/' {} \\;"
   ]
  },
  {
   "cell_type": "code",
   "execution_count": 17,
   "metadata": {
    "collapsed": false
   },
   "outputs": [
    {
     "name": "stdout",
     "output_type": "stream",
     "text": [
      "/etc/bash_completion.d/libreoffice.zsh\r\n",
      "/etc/bash_completion.d/pulseaudio-bash-completion.zsh\r\n",
      "/etc/init.d/umountnfs.zsh\r\n",
      "/etc/wpa_supplicant/ifupdown.zsh\r\n",
      "/etc/wpa_supplicant/action_wpa.zsh\r\n",
      "/etc/wpa_supplicant/functions.zsh\r\n",
      "/etc/profile.d/appmenu-qt5.zsh\r\n",
      "/etc/profile.d/vte.zsh\r\n",
      "/etc/profile.d/bash_completion.zsh\r\n",
      "/etc/acpi/ibm-wireless.zsh\r\n",
      "/etc/acpi/powerbtn.zsh\r\n",
      "/etc/acpi/tosh-wireless.zsh\r\n",
      "/etc/acpi/asus-wireless.zsh\r\n",
      "/etc/acpi/undock.zsh\r\n",
      "/etc/acpi/asus-keyboard-backlight.zsh\r\n",
      "/etc/libreoffice/soffice.zsh\r\n",
      "/lib/firmware/carl9170fw/genapi.zsh\r\n",
      "/lib/firmware/carl9170fw/autogen.zsh\r\n",
      "/lib/ifupdown/settle-dad.zsh\r\n",
      "/lib/init/vars.zsh\r\n",
      "/lib/brltty/brltty.zsh\r\n",
      "/lib/systemd/system-sleep/notify-upower.zsh\r\n",
      "/lib/recovery-mode/l10n.zsh\r\n"
     ]
    }
   ],
   "source": [
    "sudo find /{etc,lib} -type f -iname '*.zsh'"
   ]
  },
  {
   "cell_type": "markdown",
   "metadata": {},
   "source": [
    "#### B.批量添加文件名前后缀"
   ]
  },
  {
   "cell_type": "code",
   "execution_count": 19,
   "metadata": {
    "collapsed": false
   },
   "outputs": [
    {
     "name": "stdout",
     "output_type": "stream",
     "text": [
      "total 0\r\n",
      "-rw-rw-r-- 1 liheyi liheyi 0  8月 16 10:00 chapter1.txt\r\n",
      "-rw-rw-r-- 1 liheyi liheyi 0  8月 16 10:00 chapter2.txt\r\n",
      "-rw-rw-r-- 1 liheyi liheyi 0  8月 16 10:00 chapter3.txt\r\n",
      "-rw-rw-r-- 1 liheyi liheyi 0  8月 16 10:00 chapter4.txt\r\n",
      "-rw-rw-r-- 1 liheyi liheyi 0  8月 16 10:00 chapter5.txt\r\n",
      "-rw-rw-r-- 1 liheyi liheyi 0  8月 16 10:01 section1.cnf\r\n",
      "-rw-rw-r-- 1 liheyi liheyi 0  8月 16 10:01 section2.cnf\r\n",
      "-rw-rw-r-- 1 liheyi liheyi 0  8月 16 10:01 section3.cnf\r\n",
      "-rw-rw-r-- 1 liheyi liheyi 0  8月 16 10:01 section4.cnf\r\n",
      "-rw-rw-r-- 1 liheyi liheyi 0  8月 16 10:01 section5.cnf\r\n"
     ]
    }
   ],
   "source": [
    "# A single directory\n",
    "# suffix\n",
    "ls -l books/"
   ]
  },
  {
   "cell_type": "code",
   "execution_count": 20,
   "metadata": {
    "collapsed": false
   },
   "outputs": [
    {
     "name": "stdout",
     "output_type": "stream",
     "text": []
    }
   ],
   "source": [
    "rename 's/$/\\.bak/' books/*"
   ]
  },
  {
   "cell_type": "code",
   "execution_count": 21,
   "metadata": {
    "collapsed": false
   },
   "outputs": [
    {
     "name": "stdout",
     "output_type": "stream",
     "text": [
      "total 0\r\n",
      "-rw-rw-r-- 1 liheyi liheyi 0  8月 16 10:00 chapter1.txt.bak\r\n",
      "-rw-rw-r-- 1 liheyi liheyi 0  8月 16 10:00 chapter2.txt.bak\r\n",
      "-rw-rw-r-- 1 liheyi liheyi 0  8月 16 10:00 chapter3.txt.bak\r\n",
      "-rw-rw-r-- 1 liheyi liheyi 0  8月 16 10:00 chapter4.txt.bak\r\n",
      "-rw-rw-r-- 1 liheyi liheyi 0  8月 16 10:00 chapter5.txt.bak\r\n",
      "-rw-rw-r-- 1 liheyi liheyi 0  8月 16 10:01 section1.cnf.bak\r\n",
      "-rw-rw-r-- 1 liheyi liheyi 0  8月 16 10:01 section2.cnf.bak\r\n",
      "-rw-rw-r-- 1 liheyi liheyi 0  8月 16 10:01 section3.cnf.bak\r\n",
      "-rw-rw-r-- 1 liheyi liheyi 0  8月 16 10:01 section4.cnf.bak\r\n",
      "-rw-rw-r-- 1 liheyi liheyi 0  8月 16 10:01 section5.cnf.bak\r\n"
     ]
    }
   ],
   "source": [
    "ls -l books/"
   ]
  },
  {
   "cell_type": "code",
   "execution_count": 23,
   "metadata": {
    "collapsed": false
   },
   "outputs": [
    {
     "name": "stdout",
     "output_type": "stream",
     "text": [
      "total 0\r\n",
      "-rw-rw-r-- 1 liheyi liheyi 0  8月 16 10:09 chapter1.txt\r\n",
      "-rw-rw-r-- 1 liheyi liheyi 0  8月 16 10:09 chapter2.txt\r\n",
      "-rw-rw-r-- 1 liheyi liheyi 0  8月 16 10:09 chapter3.txt\r\n",
      "-rw-rw-r-- 1 liheyi liheyi 0  8月 16 10:09 chapter4.txt\r\n"
     ]
    }
   ],
   "source": [
    "# prefix\n",
    "ls -l buch/"
   ]
  },
  {
   "cell_type": "code",
   "execution_count": 30,
   "metadata": {
    "collapsed": false
   },
   "outputs": [
    {
     "name": "stdout",
     "output_type": "stream",
     "text": []
    }
   ],
   "source": [
    "cd buch/\n",
    "rename 's/^/lion_/' *"
   ]
  },
  {
   "cell_type": "code",
   "execution_count": 31,
   "metadata": {
    "collapsed": false
   },
   "outputs": [
    {
     "name": "stdout",
     "output_type": "stream",
     "text": [
      "-rw-rw-r-- 1 liheyi liheyi 0  8月 16 10:09 lion_chapter1.txt\r\n",
      "-rw-rw-r-- 1 liheyi liheyi 0  8月 16 10:09 lion_chapter2.txt\r\n",
      "-rw-rw-r-- 1 liheyi liheyi 0  8月 16 10:09 lion_chapter3.txt\r\n",
      "-rw-rw-r-- 1 liheyi liheyi 0  8月 16 10:09 lion_chapter4.txt\r\n"
     ]
    }
   ],
   "source": [
    "ls -l *"
   ]
  },
  {
   "cell_type": "code",
   "execution_count": 32,
   "metadata": {
    "collapsed": false
   },
   "outputs": [
    {
     "name": "stdout",
     "output_type": "stream",
     "text": [
      "/lib/firmware/carl9170fw/autogen.sh\r\n",
      "/lib/firmware/carl9170fw/genapi.sh\r\n",
      "/lib/ifupdown/settle-dad.sh\r\n",
      "/lib/init/vars.sh\r\n",
      "/lib/brltty/brltty.sh\r\n",
      "/lib/systemd/system-sleep/notify-upower.sh\r\n",
      "/lib/recovery-mode/l10n.sh\r\n"
     ]
    }
   ],
   "source": [
    "# find and rename\n",
    "sudo find /lib -type f -iname '*.sh'"
   ]
  },
  {
   "cell_type": "code",
   "execution_count": 33,
   "metadata": {
    "collapsed": false
   },
   "outputs": [
    {
     "name": "stdout",
     "output_type": "stream",
     "text": []
    }
   ],
   "source": [
    "sudo find /lib -type f -iname '*.sh' -exec rename 's/$/\\.bak/' {} \\;"
   ]
  },
  {
   "cell_type": "code",
   "execution_count": 34,
   "metadata": {
    "collapsed": false
   },
   "outputs": [
    {
     "name": "stdout",
     "output_type": "stream",
     "text": [
      "/lib/firmware/carl9170fw/genapi.sh.bak\r\n",
      "/lib/firmware/carl9170fw/autogen.sh.bak\r\n",
      "/lib/ifupdown/settle-dad.sh.bak\r\n",
      "/lib/init/vars.sh.bak\r\n",
      "/lib/brltty/brltty.sh.bak\r\n",
      "/lib/systemd/system-sleep/notify-upower.sh.bak\r\n",
      "/lib/recovery-mode/l10n.sh.bak\r\n"
     ]
    }
   ],
   "source": [
    "sudo find /lib -type f -iname '*.sh.bak'"
   ]
  },
  {
   "cell_type": "markdown",
   "metadata": {},
   "source": [
    "#### C.批量删除文件名前后缀"
   ]
  },
  {
   "cell_type": "code",
   "execution_count": 1,
   "metadata": {
    "collapsed": false
   },
   "outputs": [
    {
     "name": "stdout",
     "output_type": "stream",
     "text": [
      "total 0\r\n",
      "-rw-rw-r-- 1 liheyi liheyi 0  8月 16 10:00 chapter1.txt.bak\r\n",
      "-rw-rw-r-- 1 liheyi liheyi 0  8月 16 10:00 chapter2.txt.bak\r\n",
      "-rw-rw-r-- 1 liheyi liheyi 0  8月 16 10:00 chapter3.txt.bak\r\n",
      "-rw-rw-r-- 1 liheyi liheyi 0  8月 16 10:00 chapter4.txt.bak\r\n",
      "-rw-rw-r-- 1 liheyi liheyi 0  8月 16 10:00 chapter5.txt.bak\r\n",
      "-rw-rw-r-- 1 liheyi liheyi 0  8月 16 10:01 section1.cnf.bak\r\n",
      "-rw-rw-r-- 1 liheyi liheyi 0  8月 16 10:01 section2.cnf.bak\r\n",
      "-rw-rw-r-- 1 liheyi liheyi 0  8月 16 10:01 section3.cnf.bak\r\n",
      "-rw-rw-r-- 1 liheyi liheyi 0  8月 16 10:01 section4.cnf.bak\r\n",
      "-rw-rw-r-- 1 liheyi liheyi 0  8月 16 10:01 section5.cnf.bak\r\n"
     ]
    }
   ],
   "source": [
    "# delete suffix\n",
    "ls -l books/"
   ]
  },
  {
   "cell_type": "code",
   "execution_count": 2,
   "metadata": {
    "collapsed": false
   },
   "outputs": [
    {
     "name": "stdout",
     "output_type": "stream",
     "text": []
    }
   ],
   "source": [
    "rename 's/\\.bak//' books/*"
   ]
  },
  {
   "cell_type": "code",
   "execution_count": 3,
   "metadata": {
    "collapsed": false
   },
   "outputs": [
    {
     "name": "stdout",
     "output_type": "stream",
     "text": [
      "total 0\r\n",
      "-rw-rw-r-- 1 liheyi liheyi 0  8月 16 10:00 chapter1.txt\r\n",
      "-rw-rw-r-- 1 liheyi liheyi 0  8月 16 10:00 chapter2.txt\r\n",
      "-rw-rw-r-- 1 liheyi liheyi 0  8月 16 10:00 chapter3.txt\r\n",
      "-rw-rw-r-- 1 liheyi liheyi 0  8月 16 10:00 chapter4.txt\r\n",
      "-rw-rw-r-- 1 liheyi liheyi 0  8月 16 10:00 chapter5.txt\r\n",
      "-rw-rw-r-- 1 liheyi liheyi 0  8月 16 10:01 section1.cnf\r\n",
      "-rw-rw-r-- 1 liheyi liheyi 0  8月 16 10:01 section2.cnf\r\n",
      "-rw-rw-r-- 1 liheyi liheyi 0  8月 16 10:01 section3.cnf\r\n",
      "-rw-rw-r-- 1 liheyi liheyi 0  8月 16 10:01 section4.cnf\r\n",
      "-rw-rw-r-- 1 liheyi liheyi 0  8月 16 10:01 section5.cnf\r\n"
     ]
    }
   ],
   "source": [
    "ls -l books/"
   ]
  },
  {
   "cell_type": "code",
   "execution_count": 4,
   "metadata": {
    "collapsed": false
   },
   "outputs": [
    {
     "name": "stdout",
     "output_type": "stream",
     "text": [
      "total 0\r\n",
      "-rw-rw-r-- 1 liheyi liheyi 0  8月 16 10:09 lion_chapter1.txt\r\n",
      "-rw-rw-r-- 1 liheyi liheyi 0  8月 16 10:09 lion_chapter2.txt\r\n",
      "-rw-rw-r-- 1 liheyi liheyi 0  8月 16 10:09 lion_chapter3.txt\r\n",
      "-rw-rw-r-- 1 liheyi liheyi 0  8月 16 10:09 lion_chapter4.txt\r\n"
     ]
    }
   ],
   "source": [
    "# delete prefix\n",
    "ls -l buch"
   ]
  },
  {
   "cell_type": "code",
   "execution_count": 5,
   "metadata": {
    "collapsed": false
   },
   "outputs": [
    {
     "name": "stdout",
     "output_type": "stream",
     "text": []
    }
   ],
   "source": [
    "cd buch\n",
    "rename 's/lion_//' *"
   ]
  },
  {
   "cell_type": "code",
   "execution_count": 7,
   "metadata": {
    "collapsed": false
   },
   "outputs": [
    {
     "name": "stdout",
     "output_type": "stream",
     "text": [
      "total 0\r\n",
      "-rw-rw-r-- 1 liheyi liheyi 0  8月 16 10:09 chapter1.txt\r\n",
      "-rw-rw-r-- 1 liheyi liheyi 0  8月 16 10:09 chapter2.txt\r\n",
      "-rw-rw-r-- 1 liheyi liheyi 0  8月 16 10:09 chapter3.txt\r\n",
      "-rw-rw-r-- 1 liheyi liheyi 0  8月 16 10:09 chapter4.txt\r\n"
     ]
    }
   ],
   "source": [
    "ls -l"
   ]
  },
  {
   "cell_type": "code",
   "execution_count": 8,
   "metadata": {
    "collapsed": false
   },
   "outputs": [
    {
     "name": "stdout",
     "output_type": "stream",
     "text": [
      "/lib/firmware/carl9170fw/genapi.sh.bak\r\n",
      "/lib/firmware/carl9170fw/autogen.sh.bak\r\n",
      "/lib/ifupdown/settle-dad.sh.bak\r\n",
      "/lib/init/vars.sh.bak\r\n",
      "/lib/brltty/brltty.sh.bak\r\n",
      "/lib/systemd/system-sleep/notify-upower.sh.bak\r\n",
      "/lib/recovery-mode/l10n.sh.bak\r\n"
     ]
    }
   ],
   "source": [
    "# find and rename to delete\n",
    "sudo find /lib -type f -iname '*.sh.bak'"
   ]
  },
  {
   "cell_type": "code",
   "execution_count": 9,
   "metadata": {
    "collapsed": false
   },
   "outputs": [
    {
     "name": "stdout",
     "output_type": "stream",
     "text": []
    }
   ],
   "source": [
    "sudo find /lib -type f -iname '*.sh.bak' -exec rename 's/\\.bak//' {} \\;"
   ]
  },
  {
   "cell_type": "code",
   "execution_count": 10,
   "metadata": {
    "collapsed": false
   },
   "outputs": [
    {
     "name": "stdout",
     "output_type": "stream",
     "text": [
      "/lib/firmware/carl9170fw/autogen.sh\r\n",
      "/lib/firmware/carl9170fw/genapi.sh\r\n",
      "/lib/ifupdown/settle-dad.sh\r\n",
      "/lib/init/vars.sh\r\n",
      "/lib/brltty/brltty.sh\r\n",
      "/lib/systemd/system-sleep/notify-upower.sh\r\n",
      "/lib/recovery-mode/l10n.sh\r\n"
     ]
    }
   ],
   "source": [
    "sudo find /lib -type f -iname '*.sh'"
   ]
  },
  {
   "cell_type": "markdown",
   "metadata": {},
   "source": [
    "### 2.mv命令\n",
    "######  mv命令的批量修改需要结合for迭代循环\n",
    "#### A.批量修改文件名后缀"
   ]
  },
  {
   "cell_type": "code",
   "execution_count": 16,
   "metadata": {
    "collapsed": false
   },
   "outputs": [
    {
     "name": "stdout",
     "output_type": "stream",
     "text": [
      "total 0\r\n",
      "-rw-rw-r-- 1 liheyi liheyi 0  8月 16 10:00 chapter1.txt\r\n",
      "-rw-rw-r-- 1 liheyi liheyi 0  8月 16 10:00 chapter2.txt\r\n",
      "-rw-rw-r-- 1 liheyi liheyi 0  8月 16 10:00 chapter3.txt\r\n",
      "-rw-rw-r-- 1 liheyi liheyi 0  8月 16 10:00 chapter4.txt\r\n",
      "-rw-rw-r-- 1 liheyi liheyi 0  8月 16 10:00 chapter5.txt\r\n",
      "-rw-rw-r-- 1 liheyi liheyi 0  8月 16 10:01 section1.cnf\r\n",
      "-rw-rw-r-- 1 liheyi liheyi 0  8月 16 10:01 section2.cnf\r\n",
      "-rw-rw-r-- 1 liheyi liheyi 0  8月 16 10:01 section3.cnf\r\n",
      "-rw-rw-r-- 1 liheyi liheyi 0  8月 16 10:01 section4.cnf\r\n",
      "-rw-rw-r-- 1 liheyi liheyi 0  8月 16 10:01 section5.cnf\r\n"
     ]
    }
   ],
   "source": [
    "cd books\n",
    "ls -l"
   ]
  },
  {
   "cell_type": "code",
   "execution_count": 17,
   "metadata": {
    "collapsed": false
   },
   "outputs": [
    {
     "name": "stdout",
     "output_type": "stream",
     "text": []
    }
   ],
   "source": [
    "for file in $( ls )\n",
    "do\n",
    "    mv $file ${file%.cnf}.config\n",
    "done\n",
    "\n",
    "# this is equal to\n",
    "# for file in $( ls );do mv $file ${file%.cnf}.config;done"
   ]
  },
  {
   "cell_type": "code",
   "execution_count": 18,
   "metadata": {
    "collapsed": false
   },
   "outputs": [
    {
     "name": "stdout",
     "output_type": "stream",
     "text": [
      "total 0\r\n",
      "-rw-rw-r-- 1 liheyi liheyi 0  8月 16 10:00 chapter1.txt.config\r\n",
      "-rw-rw-r-- 1 liheyi liheyi 0  8月 16 10:00 chapter2.txt.config\r\n",
      "-rw-rw-r-- 1 liheyi liheyi 0  8月 16 10:00 chapter3.txt.config\r\n",
      "-rw-rw-r-- 1 liheyi liheyi 0  8月 16 10:00 chapter4.txt.config\r\n",
      "-rw-rw-r-- 1 liheyi liheyi 0  8月 16 10:00 chapter5.txt.config\r\n",
      "-rw-rw-r-- 1 liheyi liheyi 0  8月 16 10:01 section1.config\r\n",
      "-rw-rw-r-- 1 liheyi liheyi 0  8月 16 10:01 section2.config\r\n",
      "-rw-rw-r-- 1 liheyi liheyi 0  8月 16 10:01 section3.config\r\n",
      "-rw-rw-r-- 1 liheyi liheyi 0  8月 16 10:01 section4.config\r\n",
      "-rw-rw-r-- 1 liheyi liheyi 0  8月 16 10:01 section5.config\r\n"
     ]
    }
   ],
   "source": [
    "ls -l"
   ]
  },
  {
   "cell_type": "markdown",
   "metadata": {},
   "source": [
    "从上述执行结果中可以看出，不仅对指定的\"cnf\"结尾的文件进行了替换，并且对其他后缀的文件进行了追加后缀的操作  \n",
    "解决这个问题的简单办法就是在for循环中直接过滤出需要修改后缀的文件名即可"
   ]
  },
  {
   "cell_type": "code",
   "execution_count": 19,
   "metadata": {
    "collapsed": false
   },
   "outputs": [
    {
     "name": "stdout",
     "output_type": "stream",
     "text": [
      "total 0\r\n",
      "-rw-rw-r-- 1 liheyi liheyi 0  8月 16 10:00 chapter1.txt\r\n",
      "-rw-rw-r-- 1 liheyi liheyi 0  8月 16 10:00 chapter2.txt\r\n",
      "-rw-rw-r-- 1 liheyi liheyi 0  8月 16 10:00 chapter3.txt\r\n",
      "-rw-rw-r-- 1 liheyi liheyi 0  8月 16 10:00 chapter4.txt\r\n",
      "-rw-rw-r-- 1 liheyi liheyi 0  8月 16 10:00 chapter5.txt\r\n",
      "-rw-rw-r-- 1 liheyi liheyi 0  8月 16 10:01 section1.cnf\r\n",
      "-rw-rw-r-- 1 liheyi liheyi 0  8月 16 10:01 section2.cnf\r\n",
      "-rw-rw-r-- 1 liheyi liheyi 0  8月 16 10:01 section3.cnf\r\n",
      "-rw-rw-r-- 1 liheyi liheyi 0  8月 16 10:01 section4.cnf\r\n",
      "-rw-rw-r-- 1 liheyi liheyi 0  8月 16 10:01 section5.cnf\r\n"
     ]
    }
   ],
   "source": [
    "ls -l"
   ]
  },
  {
   "cell_type": "code",
   "execution_count": 20,
   "metadata": {
    "collapsed": false
   },
   "outputs": [
    {
     "name": "stdout",
     "output_type": "stream",
     "text": [
      "total 0\r\n",
      "-rw-rw-r-- 1 liheyi liheyi 0  8月 16 10:00 chapter1.txt\r\n",
      "-rw-rw-r-- 1 liheyi liheyi 0  8月 16 10:00 chapter2.txt\r\n",
      "-rw-rw-r-- 1 liheyi liheyi 0  8月 16 10:00 chapter3.txt\r\n",
      "-rw-rw-r-- 1 liheyi liheyi 0  8月 16 10:00 chapter4.txt\r\n",
      "-rw-rw-r-- 1 liheyi liheyi 0  8月 16 10:00 chapter5.txt\r\n",
      "-rw-rw-r-- 1 liheyi liheyi 0  8月 16 10:01 section1.config\r\n",
      "-rw-rw-r-- 1 liheyi liheyi 0  8月 16 10:01 section2.config\r\n",
      "-rw-rw-r-- 1 liheyi liheyi 0  8月 16 10:01 section3.config\r\n",
      "-rw-rw-r-- 1 liheyi liheyi 0  8月 16 10:01 section4.config\r\n",
      "-rw-rw-r-- 1 liheyi liheyi 0  8月 16 10:01 section5.config\r\n"
     ]
    }
   ],
   "source": [
    "for file in $( ls *.cnf );do mv $file ${file%.cnf}.config;done\n",
    "ls -l"
   ]
  },
  {
   "cell_type": "code",
   "execution_count": 21,
   "metadata": {
    "collapsed": false
   },
   "outputs": [
    {
     "name": "stdout",
     "output_type": "stream",
     "text": [
      "/lib/firmware/carl9170fw/autogen.sh\r\n",
      "/lib/firmware/carl9170fw/genapi.sh\r\n",
      "/lib/ifupdown/settle-dad.sh\r\n",
      "/lib/init/vars.sh\r\n",
      "/lib/brltty/brltty.sh\r\n",
      "/lib/systemd/system-sleep/notify-upower.sh\r\n",
      "/lib/recovery-mode/l10n.sh\r\n"
     ]
    }
   ],
   "source": [
    "# find and mv\n",
    "find /lib -type f -iname '*.sh'"
   ]
  },
  {
   "cell_type": "code",
   "execution_count": 23,
   "metadata": {
    "collapsed": false
   },
   "outputs": [
    {
     "name": "stdout",
     "output_type": "stream",
     "text": []
    }
   ],
   "source": [
    "for file in $(find /lib -type f -iname '*.sh');do sudo mv $file ${file%.sh}.zsh;done"
   ]
  },
  {
   "cell_type": "code",
   "execution_count": 24,
   "metadata": {
    "collapsed": false
   },
   "outputs": [
    {
     "name": "stdout",
     "output_type": "stream",
     "text": [
      "/lib/firmware/carl9170fw/genapi.zsh\r\n",
      "/lib/firmware/carl9170fw/autogen.zsh\r\n",
      "/lib/ifupdown/settle-dad.zsh\r\n",
      "/lib/init/vars.zsh\r\n",
      "/lib/brltty/brltty.zsh\r\n",
      "/lib/systemd/system-sleep/notify-upower.zsh\r\n",
      "/lib/recovery-mode/l10n.zsh\r\n"
     ]
    }
   ],
   "source": [
    "find /lib -type f -iname '*.zsh'"
   ]
  },
  {
   "cell_type": "markdown",
   "metadata": {},
   "source": [
    "#### B.批量添加文件前后缀"
   ]
  },
  {
   "cell_type": "code",
   "execution_count": 25,
   "metadata": {
    "collapsed": false
   },
   "outputs": [
    {
     "name": "stdout",
     "output_type": "stream",
     "text": [
      "total 0\r\n",
      "-rw-rw-r-- 1 liheyi liheyi 0  8月 16 10:00 chapter1.txt\r\n",
      "-rw-rw-r-- 1 liheyi liheyi 0  8月 16 10:00 chapter2.txt\r\n",
      "-rw-rw-r-- 1 liheyi liheyi 0  8月 16 10:00 chapter3.txt\r\n",
      "-rw-rw-r-- 1 liheyi liheyi 0  8月 16 10:00 chapter4.txt\r\n",
      "-rw-rw-r-- 1 liheyi liheyi 0  8月 16 10:00 chapter5.txt\r\n",
      "-rw-rw-r-- 1 liheyi liheyi 0  8月 16 10:01 section1.config\r\n",
      "-rw-rw-r-- 1 liheyi liheyi 0  8月 16 10:01 section2.config\r\n",
      "-rw-rw-r-- 1 liheyi liheyi 0  8月 16 10:01 section3.config\r\n",
      "-rw-rw-r-- 1 liheyi liheyi 0  8月 16 10:01 section4.config\r\n",
      "-rw-rw-r-- 1 liheyi liheyi 0  8月 16 10:01 section5.config\r\n"
     ]
    }
   ],
   "source": [
    "ls -l"
   ]
  },
  {
   "cell_type": "code",
   "execution_count": 26,
   "metadata": {
    "collapsed": false
   },
   "outputs": [
    {
     "name": "stdout",
     "output_type": "stream",
     "text": [
      "total 0\r\n",
      "-rw-rw-r-- 1 liheyi liheyi 0  8月 16 10:00 chapter1.txt.bak\r\n",
      "-rw-rw-r-- 1 liheyi liheyi 0  8月 16 10:00 chapter2.txt.bak\r\n",
      "-rw-rw-r-- 1 liheyi liheyi 0  8月 16 10:00 chapter3.txt.bak\r\n",
      "-rw-rw-r-- 1 liheyi liheyi 0  8月 16 10:00 chapter4.txt.bak\r\n",
      "-rw-rw-r-- 1 liheyi liheyi 0  8月 16 10:00 chapter5.txt.bak\r\n",
      "-rw-rw-r-- 1 liheyi liheyi 0  8月 16 10:01 section1.config\r\n",
      "-rw-rw-r-- 1 liheyi liheyi 0  8月 16 10:01 section2.config\r\n",
      "-rw-rw-r-- 1 liheyi liheyi 0  8月 16 10:01 section3.config\r\n",
      "-rw-rw-r-- 1 liheyi liheyi 0  8月 16 10:01 section4.config\r\n",
      "-rw-rw-r-- 1 liheyi liheyi 0  8月 16 10:01 section5.config\r\n"
     ]
    }
   ],
   "source": [
    "# suffix\n",
    "for file in $(ls *.txt);do mv $file{,.bak};done\n",
    "ls -l"
   ]
  },
  {
   "cell_type": "code",
   "execution_count": 27,
   "metadata": {
    "collapsed": false
   },
   "outputs": [
    {
     "name": "stdout",
     "output_type": "stream",
     "text": []
    }
   ],
   "source": [
    "# prefix\n",
    "for file in $(ls *.config);do mv {,lion_}$file;done"
   ]
  },
  {
   "cell_type": "code",
   "execution_count": 28,
   "metadata": {
    "collapsed": false
   },
   "outputs": [
    {
     "name": "stdout",
     "output_type": "stream",
     "text": [
      "total 0\r\n",
      "-rw-rw-r-- 1 liheyi liheyi 0  8月 16 10:00 chapter1.txt.bak\r\n",
      "-rw-rw-r-- 1 liheyi liheyi 0  8月 16 10:00 chapter2.txt.bak\r\n",
      "-rw-rw-r-- 1 liheyi liheyi 0  8月 16 10:00 chapter3.txt.bak\r\n",
      "-rw-rw-r-- 1 liheyi liheyi 0  8月 16 10:00 chapter4.txt.bak\r\n",
      "-rw-rw-r-- 1 liheyi liheyi 0  8月 16 10:00 chapter5.txt.bak\r\n",
      "-rw-rw-r-- 1 liheyi liheyi 0  8月 16 10:01 lion_section1.config\r\n",
      "-rw-rw-r-- 1 liheyi liheyi 0  8月 16 10:01 lion_section2.config\r\n",
      "-rw-rw-r-- 1 liheyi liheyi 0  8月 16 10:01 lion_section3.config\r\n",
      "-rw-rw-r-- 1 liheyi liheyi 0  8月 16 10:01 lion_section4.config\r\n",
      "-rw-rw-r-- 1 liheyi liheyi 0  8月 16 10:01 lion_section5.config\r\n"
     ]
    }
   ],
   "source": [
    "ls -l"
   ]
  },
  {
   "cell_type": "code",
   "execution_count": 32,
   "metadata": {
    "collapsed": false
   },
   "outputs": [
    {
     "name": "stdout",
     "output_type": "stream",
     "text": [
      "/lib/firmware/carl9170fw/autogen.sh\r\n",
      "/lib/firmware/carl9170fw/genapi.sh\r\n",
      "/lib/ifupdown/settle-dad.sh\r\n",
      "/lib/init/vars.sh\r\n",
      "/lib/brltty/brltty.sh\r\n",
      "/lib/systemd/system-sleep/notify-upower.sh\r\n",
      "/lib/recovery-mode/l10n.sh\r\n"
     ]
    }
   ],
   "source": [
    "# with find and mv to add suffix\n",
    "find /lib -type f -iname '*.sh'"
   ]
  },
  {
   "cell_type": "code",
   "execution_count": 35,
   "metadata": {
    "collapsed": false
   },
   "outputs": [
    {
     "name": "stdout",
     "output_type": "stream",
     "text": []
    }
   ],
   "source": [
    "for file in $(find /lib -type f -iname '*.sh');do sudo mv $file{,.bak};done"
   ]
  },
  {
   "cell_type": "code",
   "execution_count": 36,
   "metadata": {
    "collapsed": false
   },
   "outputs": [
    {
     "name": "stdout",
     "output_type": "stream",
     "text": [
      "/lib/firmware/carl9170fw/genapi.sh.bak\r\n",
      "/lib/firmware/carl9170fw/autogen.sh.bak\r\n",
      "/lib/ifupdown/settle-dad.sh.bak\r\n",
      "/lib/init/vars.sh.bak\r\n",
      "/lib/brltty/brltty.sh.bak\r\n",
      "/lib/systemd/system-sleep/notify-upower.sh.bak\r\n",
      "/lib/recovery-mode/l10n.sh.bak\r\n"
     ]
    }
   ],
   "source": [
    "find /lib -type f -iname '*.sh.bak'"
   ]
  },
  {
   "cell_type": "markdown",
   "metadata": {},
   "source": [
    "#### C.批量删除文件名前后缀"
   ]
  },
  {
   "cell_type": "code",
   "execution_count": 29,
   "metadata": {
    "collapsed": false
   },
   "outputs": [
    {
     "name": "stdout",
     "output_type": "stream",
     "text": [
      "total 0\r\n",
      "-rw-rw-r-- 1 liheyi liheyi 0  8月 16 10:00 chapter1.txt.bak\r\n",
      "-rw-rw-r-- 1 liheyi liheyi 0  8月 16 10:00 chapter2.txt.bak\r\n",
      "-rw-rw-r-- 1 liheyi liheyi 0  8月 16 10:00 chapter3.txt.bak\r\n",
      "-rw-rw-r-- 1 liheyi liheyi 0  8月 16 10:00 chapter4.txt.bak\r\n",
      "-rw-rw-r-- 1 liheyi liheyi 0  8月 16 10:00 chapter5.txt.bak\r\n",
      "-rw-rw-r-- 1 liheyi liheyi 0  8月 16 10:01 lion_section1.config\r\n",
      "-rw-rw-r-- 1 liheyi liheyi 0  8月 16 10:01 lion_section2.config\r\n",
      "-rw-rw-r-- 1 liheyi liheyi 0  8月 16 10:01 lion_section3.config\r\n",
      "-rw-rw-r-- 1 liheyi liheyi 0  8月 16 10:01 lion_section4.config\r\n",
      "-rw-rw-r-- 1 liheyi liheyi 0  8月 16 10:01 lion_section5.config\r\n"
     ]
    }
   ],
   "source": [
    "ls -l"
   ]
  },
  {
   "cell_type": "code",
   "execution_count": 30,
   "metadata": {
    "collapsed": false
   },
   "outputs": [
    {
     "name": "stdout",
     "output_type": "stream",
     "text": [
      "total 0\r\n",
      "-rw-rw-r-- 1 liheyi liheyi 0  8月 16 10:00 chapter1.txt\r\n",
      "-rw-rw-r-- 1 liheyi liheyi 0  8月 16 10:00 chapter2.txt\r\n",
      "-rw-rw-r-- 1 liheyi liheyi 0  8月 16 10:00 chapter3.txt\r\n",
      "-rw-rw-r-- 1 liheyi liheyi 0  8月 16 10:00 chapter4.txt\r\n",
      "-rw-rw-r-- 1 liheyi liheyi 0  8月 16 10:00 chapter5.txt\r\n",
      "-rw-rw-r-- 1 liheyi liheyi 0  8月 16 10:01 lion_section1.config\r\n",
      "-rw-rw-r-- 1 liheyi liheyi 0  8月 16 10:01 lion_section2.config\r\n",
      "-rw-rw-r-- 1 liheyi liheyi 0  8月 16 10:01 lion_section3.config\r\n",
      "-rw-rw-r-- 1 liheyi liheyi 0  8月 16 10:01 lion_section4.config\r\n",
      "-rw-rw-r-- 1 liheyi liheyi 0  8月 16 10:01 lion_section5.config\r\n"
     ]
    }
   ],
   "source": [
    "# delete suffix\n",
    "for file in $(ls *.bak);do mv $file ${file%.bak};done\n",
    "ls -l"
   ]
  },
  {
   "cell_type": "code",
   "execution_count": 31,
   "metadata": {
    "collapsed": false
   },
   "outputs": [
    {
     "name": "stdout",
     "output_type": "stream",
     "text": [
      "total 0\r\n",
      "-rw-rw-r-- 1 liheyi liheyi 0  8月 16 10:00 chapter1.txt\r\n",
      "-rw-rw-r-- 1 liheyi liheyi 0  8月 16 10:00 chapter2.txt\r\n",
      "-rw-rw-r-- 1 liheyi liheyi 0  8月 16 10:00 chapter3.txt\r\n",
      "-rw-rw-r-- 1 liheyi liheyi 0  8月 16 10:00 chapter4.txt\r\n",
      "-rw-rw-r-- 1 liheyi liheyi 0  8月 16 10:00 chapter5.txt\r\n",
      "-rw-rw-r-- 1 liheyi liheyi 0  8月 16 10:01 section1.config\r\n",
      "-rw-rw-r-- 1 liheyi liheyi 0  8月 16 10:01 section2.config\r\n",
      "-rw-rw-r-- 1 liheyi liheyi 0  8月 16 10:01 section3.config\r\n",
      "-rw-rw-r-- 1 liheyi liheyi 0  8月 16 10:01 section4.config\r\n",
      "-rw-rw-r-- 1 liheyi liheyi 0  8月 16 10:01 section5.config\r\n"
     ]
    }
   ],
   "source": [
    "# delete prefix\n",
    "for file in $(ls *.config);do mv $file ${file#lion_};done\n",
    "ls -l"
   ]
  },
  {
   "cell_type": "code",
   "execution_count": 37,
   "metadata": {
    "collapsed": false
   },
   "outputs": [
    {
     "name": "stdout",
     "output_type": "stream",
     "text": [
      "/lib/firmware/carl9170fw/genapi.sh.bak\r\n",
      "/lib/firmware/carl9170fw/autogen.sh.bak\r\n",
      "/lib/ifupdown/settle-dad.sh.bak\r\n",
      "/lib/init/vars.sh.bak\r\n",
      "/lib/brltty/brltty.sh.bak\r\n",
      "/lib/systemd/system-sleep/notify-upower.sh.bak\r\n",
      "/lib/recovery-mode/l10n.sh.bak\r\n"
     ]
    }
   ],
   "source": [
    "# with find and mv to remove suffix\n",
    "find /lib -type f -iname '*.sh.bak'"
   ]
  },
  {
   "cell_type": "code",
   "execution_count": 38,
   "metadata": {
    "collapsed": false
   },
   "outputs": [
    {
     "name": "stdout",
     "output_type": "stream",
     "text": []
    }
   ],
   "source": [
    "for file in $(find /lib -type f -iname '*.sh.bak');do sudo mv $file ${file%.bak};done"
   ]
  },
  {
   "cell_type": "code",
   "execution_count": 39,
   "metadata": {
    "collapsed": false
   },
   "outputs": [
    {
     "name": "stdout",
     "output_type": "stream",
     "text": [
      "/lib/firmware/carl9170fw/autogen.sh\r\n",
      "/lib/firmware/carl9170fw/genapi.sh\r\n",
      "/lib/ifupdown/settle-dad.sh\r\n",
      "/lib/init/vars.sh\r\n",
      "/lib/brltty/brltty.sh\r\n",
      "/lib/systemd/system-sleep/notify-upower.sh\r\n",
      "/lib/recovery-mode/l10n.sh\r\n"
     ]
    }
   ],
   "source": [
    "find /lib -type f -iname '*.sh'"
   ]
  },
  {
   "cell_type": "markdown",
   "metadata": {},
   "source": [
    "### 3.find/xargs命令\n",
    "#### A.批量修改文件名后缀"
   ]
  },
  {
   "cell_type": "code",
   "execution_count": 45,
   "metadata": {
    "collapsed": false
   },
   "outputs": [
    {
     "name": "stdout",
     "output_type": "stream",
     "text": [
      "\u001b[01;34mbuch/\u001b[00m\r\n",
      "├── chapter1.txt\r\n",
      "├── chapter2.txt\r\n",
      "├── chapter3.txt\r\n",
      "└── chapter4.txt\r\n",
      "\u001b[01;34mbooks/\u001b[00m\r\n",
      "├── chapter1.txt\r\n",
      "├── chapter2.txt\r\n",
      "├── chapter3.txt\r\n",
      "├── chapter4.txt\r\n",
      "├── chapter5.txt\r\n",
      "├── section1.config\r\n",
      "├── section2.config\r\n",
      "├── section3.config\r\n",
      "├── section4.config\r\n",
      "└── section5.config\r\n",
      "\r\n",
      "0 directories, 14 files\r\n"
     ]
    }
   ],
   "source": [
    "tree {buch,books}/"
   ]
  },
  {
   "cell_type": "code",
   "execution_count": 46,
   "metadata": {
    "collapsed": false
   },
   "outputs": [
    {
     "name": "stdout",
     "output_type": "stream",
     "text": [
      "mv buch/chapter2.txt buch/chapter2.pdf \r\n",
      "mv buch/chapter1.txt buch/chapter1.pdf \r\n",
      "mv buch/chapter4.txt buch/chapter4.pdf \r\n",
      "mv buch/chapter3.txt buch/chapter3.pdf \r\n",
      "mv books/chapter2.txt books/chapter2.pdf \r\n",
      "mv books/chapter1.txt books/chapter1.pdf \r\n",
      "mv books/chapter4.txt books/chapter4.pdf \r\n",
      "mv books/chapter3.txt books/chapter3.pdf \r\n",
      "mv books/chapter5.txt books/chapter5.pdf \r\n"
     ]
    }
   ],
   "source": [
    "find {buch,books}/ -iname \"*.txt\" | awk -F\".\" '{ print $1 }' | xargs -i -t mv {}.txt {}.pdf"
   ]
  },
  {
   "cell_type": "code",
   "execution_count": 47,
   "metadata": {
    "collapsed": false
   },
   "outputs": [
    {
     "name": "stdout",
     "output_type": "stream",
     "text": [
      "\u001b[01;34mbuch/\u001b[00m\r\n",
      "├── chapter1.pdf\r\n",
      "├── chapter2.pdf\r\n",
      "├── chapter3.pdf\r\n",
      "└── chapter4.pdf\r\n",
      "\u001b[01;34mbooks/\u001b[00m\r\n",
      "├── chapter1.pdf\r\n",
      "├── chapter2.pdf\r\n",
      "├── chapter3.pdf\r\n",
      "├── chapter4.pdf\r\n",
      "├── chapter5.pdf\r\n",
      "├── section1.config\r\n",
      "├── section2.config\r\n",
      "├── section3.config\r\n",
      "├── section4.config\r\n",
      "└── section5.config\r\n",
      "\r\n",
      "0 directories, 14 files\r\n"
     ]
    }
   ],
   "source": [
    "tree {buch,books}/"
   ]
  },
  {
   "cell_type": "markdown",
   "metadata": {},
   "source": [
    "#### B.批量增加文件前后缀名"
   ]
  },
  {
   "cell_type": "code",
   "execution_count": 48,
   "metadata": {
    "collapsed": false
   },
   "outputs": [
    {
     "name": "stdout",
     "output_type": "stream",
     "text": [
      "total 0\r\n",
      "-rw-rw-r-- 1 liheyi liheyi 0  8月 16 10:00 chapter1.pdf\r\n",
      "-rw-rw-r-- 1 liheyi liheyi 0  8月 16 10:00 chapter2.pdf\r\n",
      "-rw-rw-r-- 1 liheyi liheyi 0  8月 16 10:00 chapter3.pdf\r\n",
      "-rw-rw-r-- 1 liheyi liheyi 0  8月 16 10:00 chapter4.pdf\r\n",
      "-rw-rw-r-- 1 liheyi liheyi 0  8月 16 10:00 chapter5.pdf\r\n",
      "-rw-rw-r-- 1 liheyi liheyi 0  8月 16 10:01 section1.config\r\n",
      "-rw-rw-r-- 1 liheyi liheyi 0  8月 16 10:01 section2.config\r\n",
      "-rw-rw-r-- 1 liheyi liheyi 0  8月 16 10:01 section3.config\r\n",
      "-rw-rw-r-- 1 liheyi liheyi 0  8月 16 10:01 section4.config\r\n",
      "-rw-rw-r-- 1 liheyi liheyi 0  8月 16 10:01 section5.config\r\n"
     ]
    }
   ],
   "source": [
    "# suffix\n",
    "ls -l books/"
   ]
  },
  {
   "cell_type": "code",
   "execution_count": 49,
   "metadata": {
    "collapsed": false
   },
   "outputs": [
    {
     "name": "stdout",
     "output_type": "stream",
     "text": [
      "mv books/section4.config books/section4.config.bak \r\n",
      "mv books/section5.config books/section5.config.bak \r\n",
      "mv books/section3.config books/section3.config.bak \r\n",
      "mv books/section2.config books/section2.config.bak \r\n",
      "mv books/section1.config books/section1.config.bak \r\n"
     ]
    }
   ],
   "source": [
    "find books/ -iname \"*.config\" | awk -F\".\" '{ print $1 }' | xargs -i -t mv {}.config {}.config.bak"
   ]
  },
  {
   "cell_type": "code",
   "execution_count": 50,
   "metadata": {
    "collapsed": false
   },
   "outputs": [
    {
     "name": "stdout",
     "output_type": "stream",
     "text": [
      "total 0\r\n",
      "-rw-rw-r-- 1 liheyi liheyi 0  8月 16 10:00 chapter1.pdf\r\n",
      "-rw-rw-r-- 1 liheyi liheyi 0  8月 16 10:00 chapter2.pdf\r\n",
      "-rw-rw-r-- 1 liheyi liheyi 0  8月 16 10:00 chapter3.pdf\r\n",
      "-rw-rw-r-- 1 liheyi liheyi 0  8月 16 10:00 chapter4.pdf\r\n",
      "-rw-rw-r-- 1 liheyi liheyi 0  8月 16 10:00 chapter5.pdf\r\n",
      "-rw-rw-r-- 1 liheyi liheyi 0  8月 16 10:01 section1.config.bak\r\n",
      "-rw-rw-r-- 1 liheyi liheyi 0  8月 16 10:01 section2.config.bak\r\n",
      "-rw-rw-r-- 1 liheyi liheyi 0  8月 16 10:01 section3.config.bak\r\n",
      "-rw-rw-r-- 1 liheyi liheyi 0  8月 16 10:01 section4.config.bak\r\n",
      "-rw-rw-r-- 1 liheyi liheyi 0  8月 16 10:01 section5.config.bak\r\n"
     ]
    }
   ],
   "source": [
    "ls -l books/"
   ]
  },
  {
   "cell_type": "code",
   "execution_count": 53,
   "metadata": {
    "collapsed": false
   },
   "outputs": [
    {
     "name": "stdout",
     "output_type": "stream",
     "text": [
      "total 0\r\n",
      "-rw-rw-r-- 1 liheyi liheyi 0  8月 16 10:09 chapter1.pdf\r\n",
      "-rw-rw-r-- 1 liheyi liheyi 0  8月 16 10:09 chapter2.pdf\r\n",
      "-rw-rw-r-- 1 liheyi liheyi 0  8月 16 10:09 chapter3.pdf\r\n",
      "-rw-rw-r-- 1 liheyi liheyi 0  8月 16 10:09 chapter4.pdf\r\n"
     ]
    }
   ],
   "source": [
    "# prefix\n",
    "cd buch/\n",
    "ls -l"
   ]
  },
  {
   "cell_type": "code",
   "execution_count": 58,
   "metadata": {
    "collapsed": false
   },
   "outputs": [
    {
     "name": "stdout",
     "output_type": "stream",
     "text": [
      "mv chapter3.pdf lion_chapter3.pdf \r\n",
      "mv chapter2.pdf lion_chapter2.pdf \r\n",
      "mv chapter4.pdf lion_chapter4.pdf \r\n",
      "mv chapter1.pdf lion_chapter1.pdf \r\n"
     ]
    }
   ],
   "source": [
    "find . -iname \"*.pdf\" | awk -F\"/\" '{ print $NF }' | xargs -i -t mv {} lion_{}"
   ]
  },
  {
   "cell_type": "code",
   "execution_count": 59,
   "metadata": {
    "collapsed": false
   },
   "outputs": [
    {
     "name": "stdout",
     "output_type": "stream",
     "text": [
      "total 0\r\n",
      "-rw-rw-r-- 1 liheyi liheyi 0  8月 16 10:09 lion_chapter1.pdf\r\n",
      "-rw-rw-r-- 1 liheyi liheyi 0  8月 16 10:09 lion_chapter2.pdf\r\n",
      "-rw-rw-r-- 1 liheyi liheyi 0  8月 16 10:09 lion_chapter3.pdf\r\n",
      "-rw-rw-r-- 1 liheyi liheyi 0  8月 16 10:09 lion_chapter4.pdf\r\n"
     ]
    }
   ],
   "source": [
    "ls -l"
   ]
  },
  {
   "cell_type": "markdown",
   "metadata": {},
   "source": [
    "#### C.批量删除文件名后缀"
   ]
  },
  {
   "cell_type": "code",
   "execution_count": 64,
   "metadata": {
    "collapsed": false
   },
   "outputs": [
    {
     "name": "stdout",
     "output_type": "stream",
     "text": [
      "total 0\r\n",
      "-rw-rw-r-- 1 liheyi liheyi 0  8月 16 10:00 chapter1.pdf\r\n",
      "-rw-rw-r-- 1 liheyi liheyi 0  8月 16 10:00 chapter2.pdf\r\n",
      "-rw-rw-r-- 1 liheyi liheyi 0  8月 16 10:00 chapter3.pdf\r\n",
      "-rw-rw-r-- 1 liheyi liheyi 0  8月 16 10:00 chapter4.pdf\r\n",
      "-rw-rw-r-- 1 liheyi liheyi 0  8月 16 10:00 chapter5.pdf\r\n",
      "-rw-rw-r-- 1 liheyi liheyi 0  8月 16 10:01 section1.config.bak\r\n",
      "-rw-rw-r-- 1 liheyi liheyi 0  8月 16 10:01 section2.config.bak\r\n",
      "-rw-rw-r-- 1 liheyi liheyi 0  8月 16 10:01 section3.config.bak\r\n",
      "-rw-rw-r-- 1 liheyi liheyi 0  8月 16 10:01 section4.config.bak\r\n",
      "-rw-rw-r-- 1 liheyi liheyi 0  8月 16 10:01 section5.config.bak\r\n"
     ]
    }
   ],
   "source": [
    "# delete suffix\n",
    "ls -l books/"
   ]
  },
  {
   "cell_type": "code",
   "execution_count": 68,
   "metadata": {
    "collapsed": false
   },
   "outputs": [
    {
     "name": "stdout",
     "output_type": "stream",
     "text": [
      "mv books/section2.config.bak books/section2.config \r\n",
      "mv books/section1.config.bak books/section1.config \r\n",
      "mv books/section5.config.bak books/section5.config \r\n",
      "mv books/section3.config.bak books/section3.config \r\n",
      "mv books/section4.config.bak books/section4.config \r\n"
     ]
    }
   ],
   "source": [
    "find books/ -iname \"*.config.bak\" | awk -F\".\" '{ print $1 }' | xargs -i -t mv {}.config.bak {}.config"
   ]
  },
  {
   "cell_type": "code",
   "execution_count": 69,
   "metadata": {
    "collapsed": false
   },
   "outputs": [
    {
     "name": "stdout",
     "output_type": "stream",
     "text": [
      "total 0\r\n",
      "-rw-rw-r-- 1 liheyi liheyi 0  8月 16 10:00 chapter1.pdf\r\n",
      "-rw-rw-r-- 1 liheyi liheyi 0  8月 16 10:00 chapter2.pdf\r\n",
      "-rw-rw-r-- 1 liheyi liheyi 0  8月 16 10:00 chapter3.pdf\r\n",
      "-rw-rw-r-- 1 liheyi liheyi 0  8月 16 10:00 chapter4.pdf\r\n",
      "-rw-rw-r-- 1 liheyi liheyi 0  8月 16 10:00 chapter5.pdf\r\n",
      "-rw-rw-r-- 1 liheyi liheyi 0  8月 16 10:01 section1.config\r\n",
      "-rw-rw-r-- 1 liheyi liheyi 0  8月 16 10:01 section2.config\r\n",
      "-rw-rw-r-- 1 liheyi liheyi 0  8月 16 10:01 section3.config\r\n",
      "-rw-rw-r-- 1 liheyi liheyi 0  8月 16 10:01 section4.config\r\n",
      "-rw-rw-r-- 1 liheyi liheyi 0  8月 16 10:01 section5.config\r\n"
     ]
    }
   ],
   "source": [
    "ls -l books/"
   ]
  }
 ],
 "metadata": {
  "kernelspec": {
   "display_name": "Bash",
   "language": "bash",
   "name": "bash"
  },
  "language_info": {
   "codemirror_mode": "shell",
   "file_extension": ".sh",
   "mimetype": "text/x-sh",
   "name": "bash"
  }
 },
 "nbformat": 4,
 "nbformat_minor": 0
}
