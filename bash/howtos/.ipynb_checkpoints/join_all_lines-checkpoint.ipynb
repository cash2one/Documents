{
 "cells": [
  {
   "cell_type": "markdown",
   "metadata": {},
   "source": [
    "## In Linux join all lines in a file"
   ]
  },
  {
   "cell_type": "markdown",
   "metadata": {},
   "source": [
    "### 1.perl method"
   ]
  },
  {
   "cell_type": "markdown",
   "metadata": {},
   "source": [
    "Simply, remove the new line character(chomp) and print:"
   ]
  },
  {
   "cell_type": "code",
   "execution_count": 1,
   "metadata": {
    "collapsed": false
   },
   "outputs": [
    {
     "name": "stdout",
     "output_type": "stream",
     "text": [
      "zzgame10\r\n",
      "zzgame17\r\n",
      "zzgame33\r\n",
      "zzgame49\r\n",
      "zzgame65\r\n",
      "zzgame89\r\n"
     ]
    }
   ],
   "source": [
    "cat server.name"
   ]
  },
  {
   "cell_type": "code",
   "execution_count": 2,
   "metadata": {
    "collapsed": false
   },
   "outputs": [
    {
     "name": "stdout",
     "output_type": "stream",
     "text": [
      "zzgame10zzgame17zzgame33zzgame49zzgame65zzgame89"
     ]
    }
   ],
   "source": [
    "perl -ne 'chomp;print;' server.name"
   ]
  },
  {
   "cell_type": "markdown",
   "metadata": {},
   "source": [
    "### 2.tr command"
   ]
  },
  {
   "cell_type": "markdown",
   "metadata": {},
   "source": [
    "Using the -d option, we simply remove the new line character:"
   ]
  },
  {
   "cell_type": "code",
   "execution_count": 3,
   "metadata": {
    "collapsed": false
   },
   "outputs": [
    {
     "name": "stdout",
     "output_type": "stream",
     "text": [
      "zzgame10\r\n",
      "zzgame17\r\n",
      "zzgame33\r\n",
      "zzgame49\r\n",
      "zzgame65\r\n",
      "zzgame89\r\n"
     ]
    }
   ],
   "source": [
    "cat server.name"
   ]
  },
  {
   "cell_type": "code",
   "execution_count": 6,
   "metadata": {
    "collapsed": false
   },
   "outputs": [
    {
     "name": "stdout",
     "output_type": "stream",
     "text": [
      "zzgame10zzgame17zzgame33zzgame49zzgame65zzgame89"
     ]
    }
   ],
   "source": [
    "tr -d '\\n' < server.name"
   ]
  },
  {
   "cell_type": "markdown",
   "metadata": {},
   "source": [
    "### 3.paste command"
   ]
  },
  {
   "cell_type": "markdown",
   "metadata": {},
   "source": [
    "The paste command comes really handly for requirements of this nature  \n",
    "The option '-s' tells to join lines,and '--delimiters' option defines the delimiter.  \n",
    "Since the requirement is simply to join the lines,the delimiter is left blank."
   ]
  },
  {
   "cell_type": "code",
   "execution_count": 7,
   "metadata": {
    "collapsed": false
   },
   "outputs": [
    {
     "name": "stdout",
     "output_type": "stream",
     "text": [
      "zzgame10\r\n",
      "zzgame17\r\n",
      "zzgame33\r\n",
      "zzgame49\r\n",
      "zzgame65\r\n",
      "zzgame89\r\n"
     ]
    }
   ],
   "source": [
    "cat server.name"
   ]
  },
  {
   "cell_type": "code",
   "execution_count": 8,
   "metadata": {
    "collapsed": false
   },
   "outputs": [
    {
     "name": "stdout",
     "output_type": "stream",
     "text": [
      "zzgame10zzgame17zzgame33zzgame49zzgame65zzgame89\r\n"
     ]
    }
   ],
   "source": [
    "paste -s --delimiters=\"\" server.name"
   ]
  },
  {
   "cell_type": "markdown",
   "metadata": {},
   "source": [
    "### 4.awk method"
   ]
  },
  {
   "cell_type": "markdown",
   "metadata": {},
   "source": [
    "using awk,the printf command which prints without the new line character"
   ]
  },
  {
   "cell_type": "code",
   "execution_count": 9,
   "metadata": {
    "collapsed": false
   },
   "outputs": [
    {
     "name": "stdout",
     "output_type": "stream",
     "text": [
      "zzgame10\r\n",
      "zzgame17\r\n",
      "zzgame33\r\n",
      "zzgame49\r\n",
      "zzgame65\r\n",
      "zzgame89\r\n"
     ]
    }
   ],
   "source": [
    "cat server.name"
   ]
  },
  {
   "cell_type": "code",
   "execution_count": 10,
   "metadata": {
    "collapsed": false
   },
   "outputs": [
    {
     "name": "stdout",
     "output_type": "stream",
     "text": [
      "zzgame10zzgame17zzgame33zzgame49zzgame65zzgame89"
     ]
    }
   ],
   "source": [
    "awk '{printf $0;}' server.name"
   ]
  },
  {
   "cell_type": "markdown",
   "metadata": {},
   "source": [
    "### 5.sed method"
   ]
  },
  {
   "cell_type": "markdown",
   "metadata": {},
   "source": [
    "This is little tricky.   \n",
    "The N option tells to join the current line with the next line.   \n",
    "And then we remove the new line separator between the lines.   \n",
    "And the same thing is repeated till the end.   \n",
    "\"ta\" means loop to the label \"a\" which is defined in the beginning.   \n",
    "In other words, repeat the same till the end of the file.This is little tricky.   \n",
    "The N option tells to join the current line with the next line.   \n",
    "And then we remove the new line separator between the lines.   \n",
    "And the same thing is repeated till the end.   \n",
    "\"ta\" means loop to the label \"a\" which is defined in the beginning.   \n",
    "In other words, repeat the same till the end of the file.  "
   ]
  },
  {
   "cell_type": "code",
   "execution_count": 11,
   "metadata": {
    "collapsed": false
   },
   "outputs": [
    {
     "name": "stdout",
     "output_type": "stream",
     "text": [
      "zzgame10\r\n",
      "zzgame17\r\n",
      "zzgame33\r\n",
      "zzgame49\r\n",
      "zzgame65\r\n",
      "zzgame89\r\n"
     ]
    }
   ],
   "source": [
    "cat server.name"
   ]
  },
  {
   "cell_type": "code",
   "execution_count": 12,
   "metadata": {
    "collapsed": false
   },
   "outputs": [
    {
     "name": "stdout",
     "output_type": "stream",
     "text": [
      "zzgame10zzgame17zzgame33zzgame49zzgame65zzgame89\r\n"
     ]
    }
   ],
   "source": [
    "sed -e :a -e 'N;s/\\n//;ta' server.name"
   ]
  }
 ],
 "metadata": {
  "kernelspec": {
   "display_name": "Bash",
   "language": "bash",
   "name": "bash"
  },
  "language_info": {
   "codemirror_mode": "shell",
   "file_extension": ".sh",
   "mimetype": "text/x-sh",
   "name": "bash"
  }
 },
 "nbformat": 4,
 "nbformat_minor": 0
}
