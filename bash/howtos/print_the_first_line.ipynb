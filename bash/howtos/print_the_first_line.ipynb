{
 "cells": [
  {
   "cell_type": "markdown",
   "metadata": {},
   "source": [
    "## In Linux print the first line of a file"
   ]
  },
  {
   "cell_type": "markdown",
   "metadata": {},
   "source": [
    "### 1.head command"
   ]
  },
  {
   "cell_type": "markdown",
   "metadata": {},
   "source": [
    "The default command which comes to our mind is the head command.  \n",
    "head with the option \"-1\" displays the first line."
   ]
  },
  {
   "cell_type": "code",
   "execution_count": 1,
   "metadata": {
    "collapsed": false
   },
   "outputs": [
    {
     "name": "stdout",
     "output_type": "stream",
     "text": [
      "1 zzgame10\r\n",
      "2 zzgame17\r\n",
      "3 zzgame33\r\n",
      "4 zzgame49\r\n",
      "5 zzgame65\r\n",
      "6 zzgame89\r\n"
     ]
    }
   ],
   "source": [
    "cat servername.txt"
   ]
  },
  {
   "cell_type": "code",
   "execution_count": 2,
   "metadata": {
    "collapsed": false
   },
   "outputs": [
    {
     "name": "stdout",
     "output_type": "stream",
     "text": [
      "1 zzgame10\r\n"
     ]
    }
   ],
   "source": [
    "head -n1 servername.txt"
   ]
  },
  {
   "cell_type": "markdown",
   "metadata": {},
   "source": [
    "### 2.read command"
   ]
  },
  {
   "cell_type": "markdown",
   "metadata": {},
   "source": [
    "The best of all options since it uses an internal command.   \n",
    "read command is used to take user input from the standard input in shell.   \n",
    "It can also be used to read from a file.  \n",
    "\n",
    "Note:  \n",
    "Usually, read is used inside a loop to read a file line by line.   \n",
    "But, when used in the above way, read command reads only the first line of the file.  "
   ]
  },
  {
   "cell_type": "code",
   "execution_count": 3,
   "metadata": {
    "collapsed": false
   },
   "outputs": [
    {
     "name": "stdout",
     "output_type": "stream",
     "text": [
      "1 zzgame10\r\n",
      "2 zzgame17\r\n",
      "3 zzgame33\r\n",
      "4 zzgame49\r\n",
      "5 zzgame65\r\n",
      "6 zzgame89\r\n"
     ]
    }
   ],
   "source": [
    "cat servername.txt"
   ]
  },
  {
   "cell_type": "code",
   "execution_count": 4,
   "metadata": {
    "collapsed": false
   },
   "outputs": [
    {
     "name": "stdout",
     "output_type": "stream",
     "text": [
      "1 zzgame10\r\n"
     ]
    }
   ],
   "source": [
    "read a < servername.txt\n",
    "echo \"$a\""
   ]
  },
  {
   "cell_type": "markdown",
   "metadata": {},
   "source": [
    "### 3.awk method"
   ]
  },
  {
   "cell_type": "markdown",
   "metadata": {},
   "source": [
    "awk's special variable NR contains the line number of the record being processed.    \n",
    "Checking for NR for the line number prints that particular line of the file."
   ]
  },
  {
   "cell_type": "code",
   "execution_count": 5,
   "metadata": {
    "collapsed": false
   },
   "outputs": [
    {
     "name": "stdout",
     "output_type": "stream",
     "text": [
      "1 zzgame10\r\n",
      "2 zzgame17\r\n",
      "3 zzgame33\r\n",
      "4 zzgame49\r\n",
      "5 zzgame65\r\n",
      "6 zzgame89\r\n"
     ]
    }
   ],
   "source": [
    "cat servername.txt"
   ]
  },
  {
   "cell_type": "code",
   "execution_count": 6,
   "metadata": {
    "collapsed": false
   },
   "outputs": [
    {
     "name": "stdout",
     "output_type": "stream",
     "text": [
      "1 zzgame10\r\n"
     ]
    }
   ],
   "source": [
    "awk 'NR==1' servername.txt"
   ]
  },
  {
   "cell_type": "markdown",
   "metadata": {},
   "source": [
    "### 4.perl method"
   ]
  },
  {
   "cell_type": "markdown",
   "metadata": {},
   "source": [
    "Similar to awk's NR, perl's alternative is $. which has the line number. "
   ]
  },
  {
   "cell_type": "code",
   "execution_count": 7,
   "metadata": {
    "collapsed": false
   },
   "outputs": [
    {
     "name": "stdout",
     "output_type": "stream",
     "text": [
      "1 zzgame10\r\n",
      "2 zzgame17\r\n",
      "3 zzgame33\r\n",
      "4 zzgame49\r\n",
      "5 zzgame65\r\n",
      "6 zzgame89\r\n"
     ]
    }
   ],
   "source": [
    "cat servername.txt"
   ]
  },
  {
   "cell_type": "code",
   "execution_count": 9,
   "metadata": {
    "collapsed": false
   },
   "outputs": [
    {
     "name": "stdout",
     "output_type": "stream",
     "text": [
      "1 zzgame10\r\n"
     ]
    }
   ],
   "source": [
    "perl -ne 'print if ($.==1);' servername.txt"
   ]
  },
  {
   "cell_type": "markdown",
   "metadata": {},
   "source": [
    "### 5. sed method"
   ]
  },
  {
   "cell_type": "markdown",
   "metadata": {},
   "source": [
    "The \"-n\" to suppress the default printing.   \n",
    "\"1p\" means to print only the first line"
   ]
  },
  {
   "cell_type": "code",
   "execution_count": 11,
   "metadata": {
    "collapsed": false
   },
   "outputs": [
    {
     "name": "stdout",
     "output_type": "stream",
     "text": [
      "1 zzgame10\r\n",
      "2 zzgame17\r\n",
      "3 zzgame33\r\n",
      "4 zzgame49\r\n",
      "5 zzgame65\r\n",
      "6 zzgame89\r\n"
     ]
    }
   ],
   "source": [
    "cat servername.txt"
   ]
  },
  {
   "cell_type": "code",
   "execution_count": 12,
   "metadata": {
    "collapsed": false
   },
   "outputs": [
    {
     "name": "stdout",
     "output_type": "stream",
     "text": [
      "1 zzgame10\r\n"
     ]
    }
   ],
   "source": [
    "sed -n \"1p\" servername.txt"
   ]
  },
  {
   "cell_type": "markdown",
   "metadata": {},
   "source": [
    "In the above approach, if the file being operated upon is a huge file, the sed command will be a problematic one.   \n",
    "It is because even though only the first line is printed, still the sed parses the entire file."
   ]
  },
  {
   "cell_type": "code",
   "execution_count": 13,
   "metadata": {
    "collapsed": false
   },
   "outputs": [
    {
     "name": "stdout",
     "output_type": "stream",
     "text": [
      "1 zzgame10\r\n"
     ]
    }
   ],
   "source": [
    "sed -n \"1p;1q\" servername.txt"
   ]
  },
  {
   "cell_type": "markdown",
   "metadata": {},
   "source": [
    "This is the right way to use sed for this requirement.   \n",
    "\"1q\" means to quit after the first line.   \n",
    "In other words, '1p;1q' means to print the first line and quit immediately which in turn prevents from parsing the entire file.   \n",
    "other simple way:  "
   ]
  },
  {
   "cell_type": "code",
   "execution_count": 14,
   "metadata": {
    "collapsed": false
   },
   "outputs": [
    {
     "name": "stdout",
     "output_type": "stream",
     "text": [
      "1 zzgame10\r\n"
     ]
    }
   ],
   "source": [
    "sed \"1q\" servername.txt"
   ]
  },
  {
   "cell_type": "markdown",
   "metadata": {},
   "source": [
    "### 6.while loop"
   ]
  },
  {
   "cell_type": "markdown",
   "metadata": {},
   "source": [
    "The file is read inside the while loop and we exit after reading the first line.   \n",
    "This also does not contain any external command."
   ]
  },
  {
   "cell_type": "code",
   "execution_count": 16,
   "metadata": {
    "collapsed": false
   },
   "outputs": [
    {
     "name": "stdout",
     "output_type": "stream",
     "text": [
      "#!/bin/bash\r\n",
      "\r\n",
      "while read a\r\n",
      "do\r\n",
      "    echo \"$a\"\r\n",
      "    break\r\n",
      "done < servername.txt\r\n"
     ]
    }
   ],
   "source": [
    "cat print_firstline.sh"
   ]
  },
  {
   "cell_type": "code",
   "execution_count": 17,
   "metadata": {
    "collapsed": false
   },
   "outputs": [
    {
     "name": "stdout",
     "output_type": "stream",
     "text": [
      "1 zzgame10\r\n"
     ]
    }
   ],
   "source": [
    "./print_firstline.sh"
   ]
  },
  {
   "cell_type": "code",
   "execution_count": null,
   "metadata": {
    "collapsed": true
   },
   "outputs": [],
   "source": []
  }
 ],
 "metadata": {
  "kernelspec": {
   "display_name": "Bash",
   "language": "bash",
   "name": "bash"
  },
  "language_info": {
   "codemirror_mode": "shell",
   "file_extension": ".sh",
   "mimetype": "text/x-sh",
   "name": "bash"
  }
 },
 "nbformat": 4,
 "nbformat_minor": 0
}
