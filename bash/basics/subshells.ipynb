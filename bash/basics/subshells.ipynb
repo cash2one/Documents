{
 "cells": [
  {
   "cell_type": "markdown",
   "metadata": {},
   "source": [
    "## 21.Subshells"
   ]
  },
  {
   "cell_type": "markdown",
   "metadata": {},
   "source": [
    "Running a shell script launches a new process, a subshell."
   ]
  },
  {
   "cell_type": "markdown",
   "metadata": {},
   "source": [
    "#### Definition: A subshell is a child process launched by a shell (or shell script)."
   ]
  },
  {
   "cell_type": "markdown",
   "metadata": {},
   "source": [
    "A subshell is a separate instance of the command processor -- the shell that gives you the prompt at the console or in an xterm window. Just as your commands are interpreted at the command-line prompt, similarly does a script batch-process a list of commands. Each shell script running is, in effect, a subprocess (child process) of the parent shell."
   ]
  },
  {
   "cell_type": "markdown",
   "metadata": {},
   "source": [
    "A shell script can itself launch subprocesses. These subshells let the script do parallel processing, in effect\n",
    "executing multiple subtasks simultaneously."
   ]
  },
  {
   "cell_type": "markdown",
   "metadata": {},
   "source": [
    "Now, run the script:  \n",
    "sh subshell-test.sh  \n",
    "\n",
    "And, while the script is running, from a different xterm:"
   ]
  },
  {
   "cell_type": "code",
   "execution_count": 9,
   "metadata": {
    "collapsed": false
   },
   "outputs": [
    {
     "name": "stdout",
     "output_type": "stream",
     "text": [
      "\u001b[01;31m\u001b[KUID\u001b[m\u001b[K         PID   PPID  C STIME TTY          TIME CMD\r\n",
      "liheyi    94934  94301  0 11:52 pts/2    00:00:00 bash \u001b[01;31m\u001b[Ksubshell-test.sh\u001b[m\u001b[K\r\n",
      "liheyi    94935  94934 76 11:52 pts/2    00:00:38 bash \u001b[01;31m\u001b[Ksubshell-test.sh\u001b[m\u001b[K\r\n"
     ]
    }
   ],
   "source": [
    "ps -ef | grep -v grep | egrep \"UID|subshell-test.sh\" --color=auto"
   ]
  },
  {
   "cell_type": "markdown",
   "metadata": {},
   "source": [
    "Analysis:  \n",
    "PID 94934, the script, launched PID 94935, the subshell."
   ]
  },
  {
   "cell_type": "markdown",
   "metadata": {},
   "source": [
    "In general, an external command in a script forks off a subprocess, whereas a Bash builtin does not.   \n",
    "For this reason, builtins execute more quickly and use fewer system resources than their external command equivalents."
   ]
  },
  {
   "cell_type": "markdown",
   "metadata": {},
   "source": [
    "### Command List within Parentheses"
   ]
  },
  {
   "cell_type": "markdown",
   "metadata": {},
   "source": [
    "##### ( command1; command2; command3; ... )\n",
    "A command list embedded between parentheses runs as a subshell."
   ]
  },
  {
   "cell_type": "markdown",
   "metadata": {},
   "source": [
    "Variables in a subshell are not visible outside the block of code in the subshell.  \n",
    "They are not accessible to the parent process, to the shell that launched the subshell.   \n",
    "These are, in effect, variables local to the child process."
   ]
  },
  {
   "cell_type": "markdown",
   "metadata": {},
   "source": [
    "#### Example 21-1. Variable scope in a subshell"
   ]
  },
  {
   "cell_type": "code",
   "execution_count": 10,
   "metadata": {
    "collapsed": false
   },
   "outputs": [
    {
     "name": "stdout",
     "output_type": "stream",
     "text": [
      "#!/bin/bash\r\n",
      "# subshell.sh\r\n",
      "\r\n",
      "echo\r\n",
      "\r\n",
      "echo \"We are outside the subshell.\"\r\n",
      "echo \"Subshell level OUTSIDE subshell = $BASH_SUBSHELL\"\r\n",
      "# Bash, version 3, adds the new         $BASH_SUBSHELL variable.\r\n",
      "echo\r\n",
      "\r\n",
      "outer_variable=Outer\r\n",
      "global_variable=\r\n",
      "#  Define global variable for \"storage\" of\r\n",
      "#+ value of subshell variable.\r\n",
      "(\r\n",
      "echo \"We are inside the subshell.\"\r\n",
      "echo \"Subshell level INSIDE subshell = $BASH_SUBSHELL\"\r\n",
      "inner_variable=Inner\r\n",
      "\r\n",
      "echo \"From inside subshell, \\\"inner_variable\\\" = $inner_variable\"\r\n",
      "echo \"From inside subshell, \\\"outer\\\" = $outer_variable\"\r\n",
      "global_variable=\"$inner_variable\"  #  Will this allow \"exporting\"\r\n",
      "                                   #+ a subshell variable?\r\n",
      ")\r\n",
      "echo\r\n",
      "\r\n",
      "echo \"We are outside the subshell.\"\r\n",
      "echo \"Subshell level OUTSIDE subshell = $BASH_SUBSHELL\"\r\n",
      "echo\r\n",
      "\r\n",
      "if [ -z \"$inner_variable\" ]\r\n",
      "then\r\n",
      "    echo \"inner_variable undefined in main body of shell\"\r\n",
      "else\r\n",
      "    echo \"inner_variable defined in main body of shell\"\r\n",
      "fi\r\n",
      "\r\n",
      "echo \"From main body of shell, \\\"inner_variable\\\" = $inner_variable\"\r\n",
      "#  $inner_variable will show as blank (uninitialized)\r\n",
      "#+ because variables defined in a subshell are \"local variables\".\r\n",
      "#  Is there a remedy for this?\r\n",
      "echo \"global_variable = \"$global_variable\"\"  # Why doesn't this work?\r\n",
      "echo\r\n",
      "\r\n",
      "# Additionally ...\r\n",
      "echo \"---------------------------------\";\r\n",
      "var=41 # Global variable.\r\n",
      "\r\n",
      "( let \"var+=1\"; echo \"\\$var INSIDE subshell = $var\" )\r\n",
      "echo \"\\$var OUTSIDE subshell = $var\"\r\n",
      "#  Variable operations inside a subshell, even to a GLOBAL variable\r\n",
      "#+ do not affect the value of the variable outside the subshell!\r\n",
      "\r\n",
      "exit 0\r\n"
     ]
    }
   ],
   "source": [
    "cat subshell.sh"
   ]
  },
  {
   "cell_type": "code",
   "execution_count": 11,
   "metadata": {
    "collapsed": false
   },
   "outputs": [
    {
     "name": "stdout",
     "output_type": "stream",
     "text": [
      "\r\n",
      "We are outside the subshell.\r\n",
      "Subshell level OUTSIDE subshell = 0\r\n",
      "\r\n",
      "We are inside the subshell.\r\n",
      "Subshell level INSIDE subshell = 1\r\n",
      "From inside subshell, \"inner_variable\" = Inner\r\n",
      "From inside subshell, \"outer\" = Outer\r\n",
      "\r\n",
      "We are outside the subshell.\r\n",
      "Subshell level OUTSIDE subshell = 0\r\n",
      "\r\n",
      "inner_variable undefined in main body of shell\r\n",
      "From main body of shell, \"inner_variable\" = \r\n",
      "global_variable = \r\n",
      "\r\n",
      "---------------------------------\r\n",
      "$var INSIDE subshell = 42\r\n",
      "$var OUTSIDE subshell = 41\r\n"
     ]
    }
   ],
   "source": [
    "./subshell.sh"
   ]
  },
  {
   "cell_type": "markdown",
   "metadata": {},
   "source": [
    "#### Definition: \n",
    "The scope of a variable is the context in which it has meaning, in which it has a value that can be referenced. For example, the scope of a local variable lies only within the function, block of code, or subshell within which it is defined, while the scope of a global variable is the entire script in which it appears."
   ]
  },
  {
   "cell_type": "markdown",
   "metadata": {},
   "source": [
    "While the \\$BASH_SUBSHELL internal variable indicates the nesting level of a subshell,  \n",
    "the \\$SHLVL variable shows no change within a subshell."
   ]
  },
  {
   "cell_type": "code",
   "execution_count": 12,
   "metadata": {
    "collapsed": false
   },
   "outputs": [
    {
     "name": "stdout",
     "output_type": "stream",
     "text": [
      " $BASH_SUBSHELL outside subshell = 0\r\n"
     ]
    }
   ],
   "source": [
    "echo \" \\$BASH_SUBSHELL outside subshell = $BASH_SUBSHELL\""
   ]
  },
  {
   "cell_type": "code",
   "execution_count": 13,
   "metadata": {
    "collapsed": false
   },
   "outputs": [
    {
     "name": "stdout",
     "output_type": "stream",
     "text": [
      " $BASH_SUBSHELL inside subshell = 1\r\n"
     ]
    }
   ],
   "source": [
    "( echo \" \\$BASH_SUBSHELL inside subshell = $BASH_SUBSHELL\" )"
   ]
  },
  {
   "cell_type": "code",
   "execution_count": 14,
   "metadata": {
    "collapsed": false
   },
   "outputs": [
    {
     "name": "stdout",
     "output_type": "stream",
     "text": [
      " $BASH_SUBSHELL inside nested subshell = 2\r\n"
     ]
    }
   ],
   "source": [
    "( ( echo \" \\$BASH_SUBSHELL inside nested subshell = $BASH_SUBSHELL\" ) )"
   ]
  },
  {
   "cell_type": "code",
   "execution_count": 15,
   "metadata": {
    "collapsed": false
   },
   "outputs": [
    {
     "name": "stdout",
     "output_type": "stream",
     "text": [
      " $SHLVL outside subshell = 3\r\n"
     ]
    }
   ],
   "source": [
    "echo \" \\$SHLVL outside subshell = $SHLVL\""
   ]
  },
  {
   "cell_type": "code",
   "execution_count": 16,
   "metadata": {
    "collapsed": false
   },
   "outputs": [
    {
     "name": "stdout",
     "output_type": "stream",
     "text": [
      " $SHLVL inside subshell = 3\r\n"
     ]
    }
   ],
   "source": [
    "( echo \" \\$SHLVL inside subshell = $SHLVL\" )"
   ]
  },
  {
   "cell_type": "markdown",
   "metadata": {},
   "source": [
    "Directory changes made in a subshell do not carry over to the parent shell."
   ]
  },
  {
   "cell_type": "markdown",
   "metadata": {},
   "source": [
    "#### Example 21-2. List User Profiles"
   ]
  },
  {
   "cell_type": "code",
   "execution_count": 17,
   "metadata": {
    "collapsed": false
   },
   "outputs": [
    {
     "name": "stdout",
     "output_type": "stream",
     "text": [
      "#!/bin/bash\r\n",
      "# allprofs.sh: Print all user profiles.\r\n",
      "\r\n",
      "# This script written by Heiner Steven, and modified by the document author.\r\n",
      "\r\n",
      "FILE=.bashrc   #  File containing user profile,\r\n",
      "               #+ was \".profile\" in original script.\r\n",
      "for home in `awk -F: '{print $6}' /etc/passwd`\r\n",
      "do\r\n",
      "  [ -d \"$home\" ] || continue   # If no home directory, go to next.\r\n",
      "  [ -r \"$home\" ] || continue   # If not readable, go to next.\r\n",
      "  (cd $home; [ -e $FILE ] && ls -l $FILE)\r\n",
      "done\r\n",
      "\r\n",
      "#  When script terminates, there is no need to 'cd' back to original directory,\r\n",
      "#+ because 'cd $home' takes place in a subshell.\r\n",
      "exit 0\r\n"
     ]
    }
   ],
   "source": [
    "cat allprofs.sh"
   ]
  },
  {
   "cell_type": "code",
   "execution_count": 18,
   "metadata": {
    "collapsed": false
   },
   "outputs": [
    {
     "name": "stdout",
     "output_type": "stream",
     "text": [
      "-rw-r--r-- 1 root root 3106  2月 20  2014 .bashrc\r\n",
      "-rw-r--r-- 1 liheyi liheyi 3681  7月  7 15:27 .bashrc\r\n"
     ]
    }
   ],
   "source": [
    "sudo ./allprofs.sh"
   ]
  },
  {
   "cell_type": "markdown",
   "metadata": {},
   "source": [
    "A subshell may be used to set up a \"dedicated environment\" for a command group."
   ]
  },
  {
   "cell_type": "code",
   "execution_count": null,
   "metadata": {
    "collapsed": true
   },
   "outputs": [],
   "source": [
    "COMMAND1\n",
    "COMMAND2\n",
    "COMMAND3\n",
    "(\n",
    "  IFS=:\n",
    "  PATH=/bin\n",
    "  unset TERMINFO\n",
    "  set -C\n",
    "  shift 5\n",
    "  COMMAND4\n",
    "  COMMAND5\n",
    "  exit 3 # Only exits the subshell!\n",
    ")\n",
    "#  The parent shell has not been affected, \n",
    "#+ and the environment is preserved.\n",
    "COMMAND6\n",
    "COMMAND7"
   ]
  },
  {
   "cell_type": "markdown",
   "metadata": {},
   "source": [
    "As seen here,  \n",
    "the exit command only terminates the subshell in which it is running, not the parent shell or script."
   ]
  },
  {
   "cell_type": "markdown",
   "metadata": {},
   "source": [
    "One application of such a \"dedicated environment\" is testing whether a variable is defined."
   ]
  },
  {
   "cell_type": "code",
   "execution_count": 19,
   "metadata": {
    "collapsed": false
   },
   "outputs": [
    {
     "name": "stdout",
     "output_type": "stream",
     "text": [
      "Variable is not set.\r\n"
     ]
    }
   ],
   "source": [
    "if (set -u; : $variable) 2> /dev/null\n",
    "then\n",
    "  echo \"Variable is set.\"\n",
    "else\n",
    "  echo \"Variable is not set.\"\n",
    "fi"
   ]
  },
  {
   "cell_type": "raw",
   "metadata": {},
   "source": [
    "# Could also be written [[ ${variable-x} != x || ${variable-y} != y ]]\n",
    "# or                    [[ ${variable-x} != x$variable ]]\n",
    "# or                    [[ ${variable+x} = x ]]\n",
    "# or                    [[ ${variable-x} != x ]]"
   ]
  },
  {
   "cell_type": "markdown",
   "metadata": {},
   "source": [
    "Another application is checking for a lock file:"
   ]
  },
  {
   "cell_type": "code",
   "execution_count": 22,
   "metadata": {
    "collapsed": false
   },
   "outputs": [
    {
     "name": "stdout",
     "output_type": "stream",
     "text": [
      "lock_file didn't exist: no user running the script\r\n"
     ]
    }
   ],
   "source": [
    "if (set -C; : > lock_file) 2> /dev/null\n",
    "then\n",
    "  echo \"lock_file didn't exist: no user running the script\"\n",
    "else\n",
    "  echo \"Another user is already running that script.\"\n",
    "exit 65\n",
    "fi"
   ]
  },
  {
   "cell_type": "markdown",
   "metadata": {},
   "source": [
    "Processes may execute in parallel within different subshells.   \n",
    "This permits breaking a complex task into subcomponents processed concurrently."
   ]
  },
  {
   "cell_type": "markdown",
   "metadata": {},
   "source": [
    "#### Example 21-3. Running parallel processes in subshells"
   ]
  },
  {
   "cell_type": "code",
   "execution_count": null,
   "metadata": {
    "collapsed": true
   },
   "outputs": [],
   "source": [
    "(cat list1 list2 list3 | sort | uniq > list123) &\n",
    "(cat list4 list5 list6 | sort | uniq > list456) &\n",
    "# Merges and sorts both sets of lists simultaneously.\n",
    "# Running in background ensures parallel execution.\n",
    "#\n",
    "# Same effect as\n",
    "#   cat list1 list2 list3 | sort | uniq > list123 &\n",
    "#   cat list4 list5 list6 | sort | uniq > list456 &\n",
    "\n",
    "wait # Don't execute the next command until subshells finish.\n",
    "\n",
    "diff list123 list456"
   ]
  },
  {
   "cell_type": "markdown",
   "metadata": {},
   "source": [
    "Redirecting I/O to a subshell uses the \"|\" pipe operator, as in ls -al | (command)."
   ]
  },
  {
   "cell_type": "code",
   "execution_count": 23,
   "metadata": {
    "collapsed": false
   },
   "outputs": [
    {
     "name": "stdout",
     "output_type": "stream",
     "text": [
      "21\r\n"
     ]
    }
   ],
   "source": [
    "ls -al | wc -l"
   ]
  },
  {
   "cell_type": "markdown",
   "metadata": {},
   "source": [
    "###### { command1; command2; command3; . . . commandN; }\n",
    "A code block between curly brackets does not launch a subshell."
   ]
  },
  {
   "cell_type": "code",
   "execution_count": 24,
   "metadata": {
    "collapsed": false
   },
   "outputs": [
    {
     "name": "stdout",
     "output_type": "stream",
     "text": [
      "var1 = 23\r\n"
     ]
    }
   ],
   "source": [
    "var1=23\n",
    "echo \"var1 = $var1\""
   ]
  },
  {
   "cell_type": "code",
   "execution_count": 25,
   "metadata": {
    "collapsed": false
   },
   "outputs": [
    {
     "name": "stdout",
     "output_type": "stream",
     "text": [
      "var1 = 76\r\n"
     ]
    }
   ],
   "source": [
    "{ var1=76;}\n",
    "echo \"var1 = $var1\""
   ]
  }
 ],
 "metadata": {
  "kernelspec": {
   "display_name": "Bash",
   "language": "bash",
   "name": "bash"
  },
  "language_info": {
   "codemirror_mode": "shell",
   "file_extension": ".sh",
   "mimetype": "text/x-sh",
   "name": "bash"
  }
 },
 "nbformat": 4,
 "nbformat_minor": 0
}
