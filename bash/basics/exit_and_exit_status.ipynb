{
 "cells": [
  {
   "cell_type": "markdown",
   "metadata": {},
   "source": [
    "## 6. Exit and Exit Status\n",
    "The exit command terminates a script, just as in a C program.   \n",
    "It can also return a value, which is available to the script's parent process."
   ]
  },
  {
   "cell_type": "markdown",
   "metadata": {},
   "source": [
    "Every command returns an exit status (sometimes referred to as a return status or exit code).A successful command returns a 0, while an unsuccessful one returns a non-zero value that usually can be interpreted as an error code. Well-behaved UNIX commands, programs, and utilities return a 0 exit code upon successful completion, though there are some exceptions."
   ]
  },
  {
   "cell_type": "markdown",
   "metadata": {},
   "source": [
    "Likewise, functions within a script and the script itself return an exit status. The last command executed in the function or script determines the exit status. Within a script, an exit nnn command may be used to deliver an nnn exit status to the shell (nnn must be an integer in the 0 - 255 range)."
   ]
  },
  {
   "cell_type": "markdown",
   "metadata": {},
   "source": [
    "When a script ends with an exit that has no parameter, the exit status of the script is the exit status of the last command executed in the script (previous to the exit)."
   ]
  },
  {
   "cell_type": "markdown",
   "metadata": {},
   "source": [
    "The equivalent of a bare exit is exit $? or even just omitting the exit."
   ]
  },
  {
   "cell_type": "markdown",
   "metadata": {},
   "source": [
    "\\$? reads the exit status of the last command executed. After a function returns, $? gives the exit status of the last command executed in the function. This is Bash's way of giving functions a \"return value.\""
   ]
  },
  {
   "cell_type": "markdown",
   "metadata": {},
   "source": [
    "Following the execution of a pipe, a $? gives the exit status of the last command executed."
   ]
  },
  {
   "cell_type": "markdown",
   "metadata": {},
   "source": [
    "After a script terminates, a $? from the command-line gives the exit status of the script, that is, the last command executed in the script, which is, by convention, 0 on success or an integer in the range 1 - 255 on error."
   ]
  },
  {
   "cell_type": "markdown",
   "metadata": {},
   "source": [
    "#### Example 6-1. exit / exit status"
   ]
  },
  {
   "cell_type": "code",
   "execution_count": 1,
   "metadata": {
    "collapsed": false
   },
   "outputs": [
    {
     "name": "stdout",
     "output_type": "stream",
     "text": [
      "hello\r\n"
     ]
    }
   ],
   "source": [
    "echo hello"
   ]
  },
  {
   "cell_type": "code",
   "execution_count": 4,
   "metadata": {
    "collapsed": false
   },
   "outputs": [
    {
     "name": "stdout",
     "output_type": "stream",
     "text": [
      "0\r\n"
     ]
    }
   ],
   "source": [
    "# Exit status 0 returned because command executed successfully.\n",
    "echo $?"
   ]
  },
  {
   "cell_type": "code",
   "execution_count": 7,
   "metadata": {
    "collapsed": false
   },
   "outputs": [
    {
     "name": "stdout",
     "output_type": "stream",
     "text": [
      "bash: lskdf: command not found\r\n",
      "127\r\n"
     ]
    }
   ],
   "source": [
    "# Unrecognized command.\n",
    "lskdf\n",
    "# Non-zero exit status returned -- command failed to execute.\n",
    "echo $?"
   ]
  },
  {
   "cell_type": "code",
   "execution_count": 12,
   "metadata": {
    "collapsed": false
   },
   "outputs": [
    {
     "name": "stdout",
     "output_type": "stream",
     "text": [
      "exit\r\n",
      "Restarting Bash"
     ]
    }
   ],
   "source": [
    "# Will return 113 to shell.\n",
    "exit 113\n",
    "# To verify this, type \"echo $?\" after script terminates.\n",
    "echo $?"
   ]
  },
  {
   "cell_type": "markdown",
   "metadata": {},
   "source": [
    "###### $? is especially useful for testing the result of a command in a script."
   ]
  },
  {
   "cell_type": "markdown",
   "metadata": {},
   "source": [
    "The !, the logical not qualifier, reverses the outcome of a test or command, and this affects its exit status"
   ]
  },
  {
   "cell_type": "markdown",
   "metadata": {},
   "source": [
    "#### Example 6-2. Negating a condition using !"
   ]
  },
  {
   "cell_type": "code",
   "execution_count": 14,
   "metadata": {
    "collapsed": false
   },
   "outputs": [
    {
     "name": "stdout",
     "output_type": "stream",
     "text": [
      "exit status of \"true\" = 0\r\n"
     ]
    }
   ],
   "source": [
    "# The \"true\" builtin.\n",
    "true\n",
    "echo \"exit status of \\\"true\\\" = $?\" "
   ]
  },
  {
   "cell_type": "code",
   "execution_count": 15,
   "metadata": {
    "collapsed": false
   },
   "outputs": [
    {
     "name": "stdout",
     "output_type": "stream",
     "text": [
      "exit status of \"! true\" = 1\r\n"
     ]
    }
   ],
   "source": [
    "# Note that the \"!\" needs a space between it and the command.\n",
    "! true\n",
    "echo \"exit status of \\\"! true\\\" = $?\" "
   ]
  },
  {
   "cell_type": "code",
   "execution_count": 16,
   "metadata": {
    "collapsed": false
   },
   "outputs": [
    {
     "name": "stdout",
     "output_type": "stream",
     "text": [
      "true\r\n"
     ]
    }
   ],
   "source": [
    "# !true leads to a \"command not found\" error\n",
    "# The '!' operator prefixing a command invokes the Bash history mechanism.\n",
    "!true"
   ]
  },
  {
   "cell_type": "code",
   "execution_count": 17,
   "metadata": {
    "collapsed": false
   },
   "outputs": [
    {
     "name": "stdout",
     "output_type": "stream",
     "text": [
      "true\r\n"
     ]
    }
   ],
   "source": [
    "# No error this time, but no negation either.\n",
    "# It just repeats the previous command (true).\n",
    "true\n",
    "!true"
   ]
  },
  {
   "cell_type": "code",
   "execution_count": 18,
   "metadata": {
    "collapsed": false
   },
   "outputs": [
    {
     "name": "stdout",
     "output_type": "stream",
     "text": [
      "bash: bogus_command: command not found\r\n",
      "127\r\n"
     ]
    }
   ],
   "source": [
    "# Preceding a _pipe_ with ! inverts the exit status returned.\n",
    "ls | bogus_command\n",
    "echo $?"
   ]
  },
  {
   "cell_type": "code",
   "execution_count": 19,
   "metadata": {
    "collapsed": false
   },
   "outputs": [
    {
     "name": "stdout",
     "output_type": "stream",
     "text": [
      "bash: bogus_command: command not found\r\n",
      "0\r\n"
     ]
    }
   ],
   "source": [
    "# Note that the ! does not change the execution of the pipe.\n",
    "# Only the exit status changes.\n",
    "! ls | bogus_command\n",
    "echo $?"
   ]
  },
  {
   "cell_type": "markdown",
   "metadata": {},
   "source": [
    "###### Certain exit status codes have reserved meanings and should not be user-specified in a script."
   ]
  }
 ],
 "metadata": {
  "kernelspec": {
   "display_name": "Bash",
   "language": "bash",
   "name": "bash"
  },
  "language_info": {
   "codemirror_mode": "shell",
   "file_extension": ".sh",
   "mimetype": "text/x-sh",
   "name": "bash"
  }
 },
 "nbformat": 4,
 "nbformat_minor": 0
}
