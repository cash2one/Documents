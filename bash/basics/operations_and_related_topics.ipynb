{
 "cells": [
  {
   "cell_type": "markdown",
   "metadata": {},
   "source": [
    "## 8. Operations and Related Topics"
   ]
  },
  {
   "cell_type": "markdown",
   "metadata": {},
   "source": [
    "### Operators"
   ]
  },
  {
   "cell_type": "markdown",
   "metadata": {},
   "source": [
    "#### A.assignment"
   ]
  },
  {
   "cell_type": "markdown",
   "metadata": {},
   "source": [
    "###### variable assignment\n",
    "    Initializing or changing the value of a variable"
   ]
  },
  {
   "cell_type": "markdown",
   "metadata": {},
   "source": [
    "###### =\n",
    "    All-purpose assignment operator, which works for both arithmetic and string assignments."
   ]
  },
  {
   "cell_type": "markdown",
   "metadata": {},
   "source": [
    "###### Note:  \n",
    "Do not confuse the \"=\" assignment operator with the = test operator."
   ]
  },
  {
   "cell_type": "code",
   "execution_count": null,
   "metadata": {
    "collapsed": true
   },
   "outputs": [],
   "source": [
    "# = as a test operator\n",
    "if [ \"$string1\" = \"$string2\" ]\n",
    "then\n",
    "    command(s)\n",
    "fi\n",
    "# if [ \"X$string1\" = \"X$string2\" ] is safer,\n",
    "#+ to prevent an error message should one of the variables be empty.\n",
    "# (The prepended \"X\" characters cancel out.)"
   ]
  },
  {
   "cell_type": "markdown",
   "metadata": {},
   "source": [
    "#### B.arithmetic operators"
   ]
  },
  {
   "cell_type": "markdown",
   "metadata": {},
   "source": [
    "###### +\n",
    "    plus"
   ]
  },
  {
   "cell_type": "markdown",
   "metadata": {},
   "source": [
    "###### -\n",
    "    minus"
   ]
  },
  {
   "cell_type": "markdown",
   "metadata": {},
   "source": [
    "###### *\n",
    "    multiplication"
   ]
  },
  {
   "cell_type": "markdown",
   "metadata": {},
   "source": [
    "###### /\n",
    "    division"
   ]
  },
  {
   "cell_type": "markdown",
   "metadata": {},
   "source": [
    "###### **\n",
    "    exponentiation"
   ]
  },
  {
   "cell_type": "code",
   "execution_count": 1,
   "metadata": {
    "collapsed": false
   },
   "outputs": [
    {
     "name": "stdout",
     "output_type": "stream",
     "text": [
      "z = 125\r\n"
     ]
    }
   ],
   "source": [
    "let \"z=5**3\"    # 5 * 5 * 5\n",
    "echo \"z = $z\"   # z = 125"
   ]
  },
  {
   "cell_type": "markdown",
   "metadata": {},
   "source": [
    "###### %\n",
    "    modulo, or mod (returns the remainder of an integer division operation)\n",
    "    \n",
    "    This operator finds use in, among other things, generating numbers within a specific range\n",
    "    Modulo turns up surprisingly often in numerical recipes."
   ]
  },
  {
   "cell_type": "code",
   "execution_count": 2,
   "metadata": {
    "collapsed": false
   },
   "outputs": [
    {
     "name": "stdout",
     "output_type": "stream",
     "text": [
      "2\r\n"
     ]
    }
   ],
   "source": [
    "expr 5 % 3"
   ]
  },
  {
   "cell_type": "markdown",
   "metadata": {},
   "source": [
    "#### Example 8-1. Greatest common divisor"
   ]
  },
  {
   "cell_type": "code",
   "execution_count": 4,
   "metadata": {
    "collapsed": false
   },
   "outputs": [
    {
     "name": "stdout",
     "output_type": "stream",
     "text": [
      "#!/bin/bash\r\n",
      "# gcd.sh: greatest common divisor\r\n",
      "# Uses Euclid's algorithm\r\n",
      "# The \"greatest common divisor\" (gcd) of two integers\r\n",
      "#+ is the largest integer that will divide both, leaving no remainder.\r\n",
      "# Euclid's algorithm uses successive division.\r\n",
      "# In each pass,\r\n",
      "#+ dividend <--- divisor\r\n",
      "#+ divisor <--- remainder\r\n",
      "#+ until remainder = 0.\r\n",
      "# The gcd = dividend, on the final pass.\r\n",
      "#\r\n",
      "# For an excellent discussion of Euclid's algorithm, see\r\n",
      "#+ Jim Loy's site, http://www.jimloy.com/number/euclids.htm.\r\n",
      "# ------------------------------------------------------\r\n",
      "\r\n",
      "# Argument check\r\n",
      "ARGS=2\r\n",
      "E_BADARGS=85\r\n",
      "if [ $# -ne \"$ARGS\" ]\r\n",
      "then\r\n",
      "    echo \"Usage: `basename $0` first-number second-number\"\r\n",
      "    exit $E_BADARGS\r\n",
      "fi\r\n",
      "# ------------------------------------------------------\r\n",
      "\r\n",
      "gcd ()\r\n",
      "{\r\n",
      "    dividend=$1\r\n",
      "    divisor=$2\r\n",
      "    \r\n",
      "    remainder=1 \r\n",
      "    \r\n",
      "    until [ \"$remainder\" -eq 0 ]\r\n",
      "    do \r\n",
      "        let \"remainder = $dividend % $divisor\"\r\n",
      "        dividend=$divisor \r\n",
      "        divisor=$remainder\r\n",
      "    done   # Euclid's algorithm\r\n",
      "} \r\n",
      "\r\n",
      "gcd $1 $2\r\n",
      "echo; echo \"GCD of $1 and $2 = $dividend\"; echo\r\n",
      "\r\n",
      "# Exercises :\r\n",
      "# ---------\r\n",
      "# 1) Check command-line arguments to make sure they are integers,\r\n",
      "#+ and exit the script with an appropriate error message if not.\r\n",
      "# 2) Rewrite the gcd () function to use local variables.\r\n",
      "exit 0\r\n"
     ]
    }
   ],
   "source": [
    "cat gcd.sh"
   ]
  },
  {
   "cell_type": "markdown",
   "metadata": {},
   "source": [
    "###### +=\n",
    "    plus-equal (increment variable by a constant)"
   ]
  },
  {
   "cell_type": "code",
   "execution_count": 6,
   "metadata": {
    "collapsed": false
   },
   "outputs": [
    {
     "name": "stdout",
     "output_type": "stream",
     "text": [
      "var = 10\r\n"
     ]
    }
   ],
   "source": [
    "let \"var += 5\"\n",
    "echo \"var = $var\""
   ]
  },
  {
   "cell_type": "markdown",
   "metadata": {},
   "source": [
    "###### -=\n",
    "    minus-equal (decrement variable by a constant)"
   ]
  },
  {
   "cell_type": "markdown",
   "metadata": {},
   "source": [
    "###### *=\n",
    "    times-equal (multiply variable by a constant)"
   ]
  },
  {
   "cell_type": "markdown",
   "metadata": {},
   "source": [
    "###### /=\n",
    "    slash-equal (divide variable by a constant)"
   ]
  },
  {
   "cell_type": "markdown",
   "metadata": {},
   "source": [
    "###### %=\n",
    "    mod-equal (remainder of dividing variable by a constant)"
   ]
  },
  {
   "cell_type": "markdown",
   "metadata": {},
   "source": [
    "###### Arithmetic operators often occur in an expr or let expression."
   ]
  },
  {
   "cell_type": "markdown",
   "metadata": {},
   "source": [
    "#### Example 8-2. Using Arithmetic Operations"
   ]
  },
  {
   "cell_type": "code",
   "execution_count": 23,
   "metadata": {
    "collapsed": false
   },
   "outputs": [
    {
     "name": "stdout",
     "output_type": "stream",
     "text": [
      "1 "
     ]
    }
   ],
   "source": [
    "n=1\n",
    "echo -n \"$n \""
   ]
  },
  {
   "cell_type": "code",
   "execution_count": 24,
   "metadata": {
    "collapsed": false
   },
   "outputs": [
    {
     "name": "stdout",
     "output_type": "stream",
     "text": [
      "2 "
     ]
    }
   ],
   "source": [
    "let \"n = $n + 1\"\n",
    "echo -n \"$n \""
   ]
  },
  {
   "cell_type": "code",
   "execution_count": 25,
   "metadata": {
    "collapsed": false
   },
   "outputs": [
    {
     "name": "stdout",
     "output_type": "stream",
     "text": [
      "3 "
     ]
    }
   ],
   "source": [
    "#  \":\" necessary because otherwise Bash attempts\n",
    "#+ to interpret \"$((n = $n + 1))\" as a command.\n",
    ": $((n = $n + 1))\n",
    "echo -n \"$n \""
   ]
  },
  {
   "cell_type": "code",
   "execution_count": 26,
   "metadata": {
    "collapsed": false
   },
   "outputs": [
    {
     "name": "stdout",
     "output_type": "stream",
     "text": [
      "4 "
     ]
    }
   ],
   "source": [
    "# A simpler alternative to the method above.\n",
    "# Thanks, David Lombard, for pointing this out.\n",
    "(( n = n + 1 ))\n",
    "echo -n \"$n \""
   ]
  },
  {
   "cell_type": "code",
   "execution_count": 27,
   "metadata": {
    "collapsed": false
   },
   "outputs": [
    {
     "name": "stdout",
     "output_type": "stream",
     "text": [
      "5 "
     ]
    }
   ],
   "source": [
    "n=$(($n + 1))\n",
    "echo -n \"$n \""
   ]
  },
  {
   "cell_type": "code",
   "execution_count": 28,
   "metadata": {
    "collapsed": false
   },
   "outputs": [
    {
     "name": "stdout",
     "output_type": "stream",
     "text": [
      "6 "
     ]
    }
   ],
   "source": [
    "# \":\" necessary because otherwise Bash attempts\n",
    "#+ to interpret \"$[ n = $n + 1 ]\" as a command.\n",
    "# Works even if \"n\" was initialized as a string.\n",
    ": $[ n = $n + 1 ]\n",
    "echo -n \"$n \""
   ]
  },
  {
   "cell_type": "code",
   "execution_count": 29,
   "metadata": {
    "collapsed": false
   },
   "outputs": [
    {
     "name": "stdout",
     "output_type": "stream",
     "text": [
      "7 "
     ]
    }
   ],
   "source": [
    "# Works even if \"n\" was initialized as a string.\n",
    "#* Avoid this type of construct, since it is obsolete and nonportable\n",
    "n=$[ $n + 1 ]\n",
    "echo -n \"$n \""
   ]
  },
  {
   "cell_type": "code",
   "execution_count": 30,
   "metadata": {
    "collapsed": false
   },
   "outputs": [
    {
     "name": "stdout",
     "output_type": "stream",
     "text": [
      "8 "
     ]
    }
   ],
   "source": [
    "# Now for C-style increment operators.\n",
    "\n",
    "let \"n++\"          # let \"++n\" also works.\n",
    "echo -n \"$n \""
   ]
  },
  {
   "cell_type": "code",
   "execution_count": 31,
   "metadata": {
    "collapsed": false
   },
   "outputs": [
    {
     "name": "stdout",
     "output_type": "stream",
     "text": [
      "9 "
     ]
    }
   ],
   "source": [
    "(( n++ ))          # (( ++n )) also works.\n",
    "echo -n \"$n \""
   ]
  },
  {
   "cell_type": "code",
   "execution_count": 32,
   "metadata": {
    "collapsed": false
   },
   "outputs": [
    {
     "name": "stdout",
     "output_type": "stream",
     "text": [
      "10 "
     ]
    }
   ],
   "source": [
    ": $(( n++ ))       # : $(( ++n )) also works.\n",
    "echo -n \"$n \""
   ]
  },
  {
   "cell_type": "code",
   "execution_count": 33,
   "metadata": {
    "collapsed": false
   },
   "outputs": [
    {
     "name": "stdout",
     "output_type": "stream",
     "text": [
      "11 "
     ]
    }
   ],
   "source": [
    ": $[ n++ ]         # : $[ ++n ] also works\n",
    "echo -n \"$n \""
   ]
  },
  {
   "cell_type": "markdown",
   "metadata": {},
   "source": [
    "Integer variables in older versions of Bash were signed long (32-bit) integers, in the range of -2147483648 to 2147483647.  \n",
    "An operation that took a variable outside these limits gave an erroneous result.  \n",
    "As of version >= 2.05b, Bash supports 64-bit integers"
   ]
  },
  {
   "cell_type": "code",
   "execution_count": 34,
   "metadata": {
    "collapsed": false
   },
   "outputs": [
    {
     "name": "stdout",
     "output_type": "stream",
     "text": [
      "4.3.11(1)-release\r\n"
     ]
    }
   ],
   "source": [
    "echo $BASH_VERSION"
   ]
  },
  {
   "cell_type": "markdown",
   "metadata": {},
   "source": [
    "Bash does not understand floating point arithmetic.   \n",
    "It treats numbers containing a decimal point as strings."
   ]
  },
  {
   "cell_type": "code",
   "execution_count": 35,
   "metadata": {
    "collapsed": false
   },
   "outputs": [
    {
     "name": "stdout",
     "output_type": "stream",
     "text": [
      "bash: let: b = 1.5 + 1.3: syntax error: invalid arithmetic operator (error token is \".5 + 1.3\")\r\n"
     ]
    }
   ],
   "source": [
    "a=1.5\n",
    "let \"b = $a + 1.3\""
   ]
  },
  {
   "cell_type": "code",
   "execution_count": 36,
   "metadata": {
    "collapsed": false
   },
   "outputs": [
    {
     "name": "stdout",
     "output_type": "stream",
     "text": [
      "b = \r\n"
     ]
    }
   ],
   "source": [
    "echo \"b = $b\""
   ]
  },
  {
   "cell_type": "markdown",
   "metadata": {},
   "source": [
    "Use bc in scripts that that need floating point calculations or math library functions."
   ]
  },
  {
   "cell_type": "markdown",
   "metadata": {},
   "source": [
    "#### C.bitwise operators\n",
    "The bitwise operators seldom make an appearance in shell scripts.   \n",
    "Their chief use seems to be manipulating and testing values read from ports or sockets.  \n",
    "\"Bit flipping\" is more relevant to compiled languages, such as C and C++, which provide direct access to system hardware.   \n",
    "However, see vladz's ingenious use of bitwise operators in his base64.sh (Example A-54) script."
   ]
  },
  {
   "cell_type": "markdown",
   "metadata": {},
   "source": [
    "###### <<\n",
    "    bitwise left shift (multiplies by 2 for each shift position)"
   ]
  },
  {
   "cell_type": "markdown",
   "metadata": {},
   "source": [
    "###### <<=\n",
    "    left-shift-equal"
   ]
  },
  {
   "cell_type": "markdown",
   "metadata": {},
   "source": [
    "###### >>\n",
    "    bitwise right shift (divides by 2 for each shift position)"
   ]
  },
  {
   "cell_type": "markdown",
   "metadata": {},
   "source": [
    "###### >>=\n",
    "    right-shift-equal (inverse of <<=)"
   ]
  },
  {
   "cell_type": "markdown",
   "metadata": {},
   "source": [
    "###### &\n",
    "    bitwise AND"
   ]
  },
  {
   "cell_type": "markdown",
   "metadata": {},
   "source": [
    "###### &=\n",
    "    bitwise AND-equal"
   ]
  },
  {
   "cell_type": "markdown",
   "metadata": {},
   "source": [
    "###### |\n",
    "    bitwise OR"
   ]
  },
  {
   "cell_type": "markdown",
   "metadata": {},
   "source": [
    "###### |=\n",
    "    bitwise OR-equal"
   ]
  },
  {
   "cell_type": "markdown",
   "metadata": {},
   "source": [
    "###### ~\n",
    "    bitwise NOT"
   ]
  },
  {
   "cell_type": "markdown",
   "metadata": {},
   "source": [
    "###### ^\n",
    "    bitwise XOR"
   ]
  },
  {
   "cell_type": "markdown",
   "metadata": {},
   "source": [
    "###### ^=\n",
    "    bitwise XOR-equal"
   ]
  },
  {
   "cell_type": "markdown",
   "metadata": {},
   "source": [
    "#### D.logical/boolean operators"
   ]
  },
  {
   "cell_type": "markdown",
   "metadata": {},
   "source": [
    "###### !\n",
    "    NOT"
   ]
  },
  {
   "cell_type": "code",
   "execution_count": null,
   "metadata": {
    "collapsed": true
   },
   "outputs": [],
   "source": [
    "if [ ! -f $FILENAME ]"
   ]
  },
  {
   "cell_type": "markdown",
   "metadata": {},
   "source": [
    "###### &&\n",
    "    AND"
   ]
  },
  {
   "cell_type": "code",
   "execution_count": null,
   "metadata": {
    "collapsed": true
   },
   "outputs": [],
   "source": [
    "if [ $condition1 ] && [ $condition2 ]\n",
    "# Same as: if [ $condition1 -a $condition2 ]\n",
    "# Returns true if both condition1 and condition2 hold true...\n",
    "\n",
    "if [[ $condition1 && $condition2 ]] # Also works.\n",
    "# Note that && operator not permitted inside brackets\n",
    "#+ of [ ... ] construct."
   ]
  },
  {
   "cell_type": "markdown",
   "metadata": {},
   "source": [
    "###### ||\n",
    "    OR"
   ]
  },
  {
   "cell_type": "code",
   "execution_count": null,
   "metadata": {
    "collapsed": true
   },
   "outputs": [],
   "source": [
    "if [ $condition1 ] || [ $condition2 ]\n",
    "# Same as: if [ $condition1 -o $condition2 ]\n",
    "# Returns true if either condition1 or condition2 holds true...\n",
    "\n",
    "if [[ $condition1 || $condition2 ]] # Also works.\n",
    "# Note that || operator not permitted inside brackets\n",
    "#+ of a [ ... ] construct."
   ]
  },
  {
   "cell_type": "markdown",
   "metadata": {},
   "source": [
    "#### Example 8-3. Compound Condition Tests Using && and ||"
   ]
  },
  {
   "cell_type": "code",
   "execution_count": 37,
   "metadata": {
    "collapsed": false
   },
   "outputs": [
    {
     "name": "stdout",
     "output_type": "stream",
     "text": [
      "Test #1 succeeds.\r\n"
     ]
    }
   ],
   "source": [
    "a=24\n",
    "b=47\n",
    "\n",
    "if [ \"$a\" -eq 24 ] && [ \"$b\" -eq 47 ]\n",
    "then\n",
    "    echo \"Test #1 succeeds.\"\n",
    "else\n",
    "    echo \"Test #1 fails.\"\n",
    "fi"
   ]
  },
  {
   "cell_type": "code",
   "execution_count": 38,
   "metadata": {
    "collapsed": false
   },
   "outputs": [
    {
     "name": "stdout",
     "output_type": "stream",
     "text": [
      "Test #2 succeeds.\r\n"
     ]
    }
   ],
   "source": [
    "if [ \"$a\" -eq 98 ] || [ \"$b\" -eq 47 ]\n",
    "then\n",
    "    echo \"Test #2 succeeds.\"\n",
    "else\n",
    "    echo \"Test #2 fails.\"\n",
    "fi"
   ]
  },
  {
   "cell_type": "code",
   "execution_count": 39,
   "metadata": {
    "collapsed": false
   },
   "outputs": [
    {
     "name": "stdout",
     "output_type": "stream",
     "text": [
      "Test #3 succeeds.\r\n"
     ]
    }
   ],
   "source": [
    "# The -a and -o options provide\n",
    "#+ an alternative compound condition test.\n",
    "\n",
    "if [ \"$a\" -eq 24 -a \"$b\" -eq 47 ]\n",
    "then\n",
    "    echo \"Test #3 succeeds.\"\n",
    "else\n",
    "    echo \"Test #3 fails.\"\n",
    "fi"
   ]
  },
  {
   "cell_type": "code",
   "execution_count": 40,
   "metadata": {
    "collapsed": false
   },
   "outputs": [
    {
     "name": "stdout",
     "output_type": "stream",
     "text": [
      "Test #4 succeeds.\r\n"
     ]
    }
   ],
   "source": [
    "if [ \"$a\" -eq 98 -o \"$b\" -eq 47 ]\n",
    "then\n",
    "    echo \"Test #4 succeeds.\"\n",
    "else\n",
    "    echo \"Test #4 fails.\"\n",
    "fi"
   ]
  },
  {
   "cell_type": "code",
   "execution_count": 41,
   "metadata": {
    "collapsed": false
   },
   "outputs": [
    {
     "name": "stdout",
     "output_type": "stream",
     "text": [
      "Test #5 succeeds.\r\n"
     ]
    }
   ],
   "source": [
    "a=rhino\n",
    "b=crocodile\n",
    "\n",
    "if [ \"$a\" = rhino ] && [ \"$b\" = crocodile ]\n",
    "then\n",
    "    echo \"Test #5 succeeds.\"\n",
    "else\n",
    "    echo \"Test #5 fails.\"\n",
    "fi"
   ]
  },
  {
   "cell_type": "markdown",
   "metadata": {},
   "source": [
    "The && and || operators also find use in an arithmetic context."
   ]
  },
  {
   "cell_type": "code",
   "execution_count": 42,
   "metadata": {
    "collapsed": false
   },
   "outputs": [
    {
     "name": "stdout",
     "output_type": "stream",
     "text": [
      "1 0 1 0\r\n"
     ]
    }
   ],
   "source": [
    "echo $(( 1 && 2 )) $((3 && 0)) $((4 || 0)) $((0 || 0))"
   ]
  },
  {
   "cell_type": "markdown",
   "metadata": {},
   "source": [
    "#### E.miscellaneous operators"
   ]
  },
  {
   "cell_type": "markdown",
   "metadata": {},
   "source": [
    "###### ,\n",
    "    Comma operator\n",
    "    The comma operator chains together two or more arithmetic operations. \n",
    "    All the operations are evaluated (with possible side effects."
   ]
  },
  {
   "cell_type": "code",
   "execution_count": 43,
   "metadata": {
    "collapsed": false
   },
   "outputs": [
    {
     "name": "stdout",
     "output_type": "stream",
     "text": [
      "t1 = 11\r\n"
     ]
    }
   ],
   "source": [
    "# Here t1 is set to the result of the last operation.\n",
    "let \"t1 = ((5 + 3, 7 - 1, 15 - 4))\"\n",
    "echo \"t1 = $t1\""
   ]
  },
  {
   "cell_type": "code",
   "execution_count": 45,
   "metadata": {
    "collapsed": false
   },
   "outputs": [
    {
     "name": "stdout",
     "output_type": "stream",
     "text": [
      "t2 = 5   a = 9\r\n"
     ]
    }
   ],
   "source": [
    "let \"t2 = ((a = 9, 15 / 3))\"\n",
    "echo \"t2 = $t2   a = $a\""
   ]
  },
  {
   "cell_type": "markdown",
   "metadata": {},
   "source": [
    "###### The comma operator finds use mainly in for loops."
   ]
  },
  {
   "cell_type": "markdown",
   "metadata": {},
   "source": [
    "### Numerical Constants"
   ]
  },
  {
   "cell_type": "markdown",
   "metadata": {},
   "source": [
    "A shell script interprets a number as decimal (base 10),   \n",
    "unless that number has a special prefix or notation.   \n",
    "\n",
    "A number preceded by a 0 is octal (base 8).   \n",
    "A number preceded by 0x is hexadecimal (base 16).   \n",
    "A number with an embedded # evaluates as BASE#NUMBER (with range and notational restrictions)."
   ]
  },
  {
   "cell_type": "markdown",
   "metadata": {},
   "source": [
    "#### Example 8-4. Representation of numerical constants"
   ]
  },
  {
   "cell_type": "code",
   "execution_count": 46,
   "metadata": {
    "collapsed": false
   },
   "outputs": [
    {
     "name": "stdout",
     "output_type": "stream",
     "text": [
      "decimal number = 32\r\n"
     ]
    }
   ],
   "source": [
    "# Decimal: the default\n",
    "let \"dec = 32\"\n",
    "echo \"decimal number = $dec\""
   ]
  },
  {
   "cell_type": "code",
   "execution_count": 47,
   "metadata": {
    "collapsed": false
   },
   "outputs": [
    {
     "name": "stdout",
     "output_type": "stream",
     "text": [
      "octal number = 26\r\n"
     ]
    }
   ],
   "source": [
    "# Octal: numbers preceded by '0' (zero)\n",
    "let \"oct = 032\"\n",
    "echo \"octal number = $oct\"\n",
    "\n",
    "# Expresses result in decimal."
   ]
  },
  {
   "cell_type": "code",
   "execution_count": 48,
   "metadata": {
    "collapsed": false
   },
   "outputs": [
    {
     "name": "stdout",
     "output_type": "stream",
     "text": [
      "hexadecimal number = 50\r\n"
     ]
    }
   ],
   "source": [
    "# Hexadecimal: numbers preceded by '0x' or '0X'\n",
    "let \"hex = 0x32\"\n",
    "echo \"hexadecimal number = $hex\"\n",
    "\n",
    "# Expresses result in decimal."
   ]
  },
  {
   "cell_type": "code",
   "execution_count": 49,
   "metadata": {
    "collapsed": false
   },
   "outputs": [
    {
     "name": "stdout",
     "output_type": "stream",
     "text": [
      "39612\r\n"
     ]
    }
   ],
   "source": [
    "# double-parentheses arithmetic expansion/evaluation\n",
    "# Expresses result in decimal.\n",
    "echo $((0x9abc))"
   ]
  },
  {
   "cell_type": "code",
   "execution_count": 50,
   "metadata": {
    "collapsed": false
   },
   "outputs": [
    {
     "name": "stdout",
     "output_type": "stream",
     "text": [
      "binary number = 31181\r\n"
     ]
    }
   ],
   "source": [
    "# Other bases: BASE#NUMBER\n",
    "# BASE between 2 and 64.\n",
    "# NUMBER must use symbols within the BASE range, see below.\n",
    "\n",
    "let \"bin = 2#111100111001101\"\n",
    "echo \"binary number = $bin\""
   ]
  },
  {
   "cell_type": "code",
   "execution_count": 51,
   "metadata": {
    "collapsed": false
   },
   "outputs": [
    {
     "name": "stdout",
     "output_type": "stream",
     "text": [
      "base-32 number = 231\r\n"
     ]
    }
   ],
   "source": [
    "let \"b32 = 32#77\"\n",
    "echo \"base-32 number = $b32\""
   ]
  },
  {
   "cell_type": "code",
   "execution_count": 52,
   "metadata": {
    "collapsed": false
   },
   "outputs": [
    {
     "name": "stdout",
     "output_type": "stream",
     "text": [
      "base-64 number = 4031\r\n"
     ]
    }
   ],
   "source": [
    "# This notation only works for a limited range (2 - 64) of ASCII characters.\n",
    "# 10 digits + 26 lowercase characters + 26 uppercase characters + @ + _\n",
    "\n",
    "let \"b64 = 64#@_\"\n",
    "echo \"base-64 number = $b64\""
   ]
  },
  {
   "cell_type": "code",
   "execution_count": 53,
   "metadata": {
    "collapsed": false
   },
   "outputs": [
    {
     "name": "stdout",
     "output_type": "stream",
     "text": [
      "1295 170 44822 3375\r\n"
     ]
    }
   ],
   "source": [
    "echo $((36#zz)) $((2#10101010)) $((16#AF16)) $((53#1aA))"
   ]
  },
  {
   "cell_type": "code",
   "execution_count": 54,
   "metadata": {
    "collapsed": false
   },
   "outputs": [
    {
     "name": "stdout",
     "output_type": "stream",
     "text": [
      "bash: let: bad_oct = 081: value too great for base (error token is \"081\")\r\n"
     ]
    }
   ],
   "source": [
    "# Important note:\n",
    "# Using a digit out of range of the specified base notation gives an error message.\n",
    "let \"bad_oct = 081\""
   ]
  },
  {
   "cell_type": "markdown",
   "metadata": {},
   "source": [
    "### The Double-Parentheses Construct"
   ]
  },
  {
   "cell_type": "markdown",
   "metadata": {},
   "source": [
    "Similar to the let command, the (( ... )) construct permits arithmetic expansion and evaluation.   \n",
    "In its simplest form, a=$(( 5 + 3 )) would set a to 5 + 3, or 8.   \n",
    "However, this double-parentheses construct is also a mechanism for allowing C-style manipulation of variables in Bash,   \n",
    "for example, (( var++ ))."
   ]
  },
  {
   "cell_type": "markdown",
   "metadata": {},
   "source": [
    "#### Example 8-5. C-style manipulation of variables"
   ]
  },
  {
   "cell_type": "code",
   "execution_count": 55,
   "metadata": {
    "collapsed": false
   },
   "outputs": [
    {
     "name": "stdout",
     "output_type": "stream",
     "text": [
      "a (initial value) = 23\r\n"
     ]
    }
   ],
   "source": [
    "# Setting a value, C-style,\n",
    "# with spaces on both sides of the \"=\".\n",
    "(( a = 23 ))\n",
    "echo \"a (initial value) = $a\""
   ]
  },
  {
   "cell_type": "code",
   "execution_count": 56,
   "metadata": {
    "collapsed": false
   },
   "outputs": [
    {
     "name": "stdout",
     "output_type": "stream",
     "text": [
      "a (after a++) = 24\r\n"
     ]
    }
   ],
   "source": [
    "# Post-increment 'a', C-style.\n",
    "(( a++ ))\n",
    "echo \"a (after a++) = $a\""
   ]
  },
  {
   "cell_type": "code",
   "execution_count": 57,
   "metadata": {
    "collapsed": false
   },
   "outputs": [
    {
     "name": "stdout",
     "output_type": "stream",
     "text": [
      "a (after a--) = 23\r\n"
     ]
    }
   ],
   "source": [
    "# Post-decrement 'a', C-style.\n",
    "(( a-- ))\n",
    "echo \"a (after a--) = $a\""
   ]
  },
  {
   "cell_type": "code",
   "execution_count": 58,
   "metadata": {
    "collapsed": false
   },
   "outputs": [
    {
     "name": "stdout",
     "output_type": "stream",
     "text": [
      "a (after ++a) = 24\r\n"
     ]
    }
   ],
   "source": [
    "# Pre-increment 'a', C-style.\n",
    "(( ++a ))\n",
    "echo \"a (after ++a) = $a\""
   ]
  },
  {
   "cell_type": "code",
   "execution_count": 59,
   "metadata": {
    "collapsed": false
   },
   "outputs": [
    {
     "name": "stdout",
     "output_type": "stream",
     "text": [
      "a (after --a) = 23\r\n"
     ]
    }
   ],
   "source": [
    "# Pre-decrement 'a', C-style.\n",
    "(( --a ))\n",
    "echo \"a (after --a) = $a\""
   ]
  },
  {
   "cell_type": "code",
   "execution_count": 60,
   "metadata": {
    "collapsed": false
   },
   "outputs": [
    {
     "name": "stdout",
     "output_type": "stream",
     "text": [
      "False\r\n"
     ]
    }
   ],
   "source": [
    "# Note that, as in C, pre- and post-decrement operators have different side-effects.\n",
    "n=1; let --n && echo \"True\" || echo \"False\""
   ]
  },
  {
   "cell_type": "code",
   "execution_count": 61,
   "metadata": {
    "collapsed": false
   },
   "outputs": [
    {
     "name": "stdout",
     "output_type": "stream",
     "text": [
      "True\r\n"
     ]
    }
   ],
   "source": [
    "n=1; let n-- && echo \"True\" || echo \"False\""
   ]
  },
  {
   "cell_type": "code",
   "execution_count": 62,
   "metadata": {
    "collapsed": false
   },
   "outputs": [
    {
     "name": "stdout",
     "output_type": "stream",
     "text": [
      "If a < 45, then t = 7, else t = 11.\r\n",
      "t = 7 \r\n"
     ]
    }
   ],
   "source": [
    "# C-style trinary operator\n",
    "(( t = a<45?7:11 ))\n",
    "echo \"If a < 45, then t = 7, else t = 11.\"\n",
    "echo \"t = $t \""
   ]
  }
 ],
 "metadata": {
  "kernelspec": {
   "display_name": "Bash",
   "language": "bash",
   "name": "bash"
  },
  "language_info": {
   "codemirror_mode": "shell",
   "file_extension": ".sh",
   "mimetype": "text/x-sh",
   "name": "bash"
  }
 },
 "nbformat": 4,
 "nbformat_minor": 0
}
