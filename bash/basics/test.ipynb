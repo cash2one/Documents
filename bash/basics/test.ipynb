{
 "cells": [
  {
   "cell_type": "markdown",
   "metadata": {},
   "source": [
    "## 7. Tests\n",
    "Every reasonably complete programming language can test for a condition, then act according to the result of the test. Bash has the test command, various bracket and parenthesis operators, and the if/then construct."
   ]
  },
  {
   "cell_type": "markdown",
   "metadata": {},
   "source": [
    "### Test Constructs\n",
    "1.An if/then construct tests whether the exit status of a list of commands is 0 (since 0 means \"success\" by UNIX convention), and if so, executes one or more commands.   "
   ]
  },
  {
   "cell_type": "markdown",
   "metadata": {},
   "source": [
    "2.There exists a dedicated command called [ (left bracket special character). It is a synonym for test, and a builtin for efficiency reasons. This command considers its arguments as comparison expressions or file tests and returns an exit status corresponding to the result of the comparison (0 for true, 1 for false). "
   ]
  },
  {
   "cell_type": "markdown",
   "metadata": {},
   "source": [
    "3.With version 2.02, Bash introduced the [[ ... ]] extended test command, which performs comparisons in a manner more familiar to programmers from other languages. Note that [[ is a keyword, not a command.  \n",
    "\n",
    "Bash sees [[ \\$a -lt \\$b ]] as a single element, which returns an exit status."
   ]
  },
  {
   "cell_type": "markdown",
   "metadata": {},
   "source": [
    "4.The (( ... )) and let ... constructs return an exit status, according to whether the arithmetic expressions they evaluate expand to a non-zero value. These arithmetic-expansion constructs may therefore be used to perform arithmetic comparisons."
   ]
  },
  {
   "cell_type": "markdown",
   "metadata": {},
   "source": [
    "##### An if can test any command, not just conditions enclosed within brackets.\n",
    "###### 1.if/then/else/if"
   ]
  },
  {
   "cell_type": "markdown",
   "metadata": {},
   "source": [
    "#### Example:"
   ]
  },
  {
   "cell_type": "code",
   "execution_count": 1,
   "metadata": {
    "collapsed": false
   },
   "outputs": [
    {
     "name": "stdout",
     "output_type": "stream",
     "text": [
      "Files a and b differ.\r\n"
     ]
    }
   ],
   "source": [
    "# if COMMAND_WHOSE_EXIT_STATUS_IS_0_UNLESS_ERROR_OCCURRED\n",
    "# then \n",
    "#     echo \"Command succeeded.\"\n",
    "# else \n",
    "#     echo \"Command failed.\"\n",
    "# fi\n",
    "\n",
    "# Suppress output.\n",
    "if cmp a b &> /dev/null\n",
    "then \n",
    "    echo \"Files a and b are identical.\"\n",
    "else \n",
    "    echo \"Files a and b differ.\"\n",
    "fi"
   ]
  },
  {
   "cell_type": "code",
   "execution_count": 4,
   "metadata": {
    "collapsed": false
   },
   "outputs": [
    {
     "name": "stdout",
     "output_type": "stream",
     "text": [
      "file contains at least one occurrence of bash.\r\n"
     ]
    }
   ],
   "source": [
    "# The very useful \"if-grep\" construct:\n",
    "# The \"-q\" option to grep suppresses output.\n",
    "if grep -q bash file\n",
    "then \n",
    "    echo \"file contains at least one occurrence of bash.\"\n",
    "else\n",
    "    echo \"file don't contains occurrence of bash.\"\n",
    "fi"
   ]
  },
  {
   "cell_type": "code",
   "execution_count": 5,
   "metadata": {
    "collapsed": false
   },
   "outputs": [
    {
     "name": "stdout",
     "output_type": "stream",
     "text": [
      "inu found in Linux\r\n"
     ]
    }
   ],
   "source": [
    "word=Linux\n",
    "letter_sequence=inu\n",
    "if echo \"$word\" | grep -q \"$letter_sequence\"\n",
    "then\n",
    "    echo \"$letter_sequence found in $word\"\n",
    "else\n",
    "    echo \"$letter_sequence not found in $word\"\n",
    "fi"
   ]
  },
  {
   "cell_type": "markdown",
   "metadata": {},
   "source": [
    "###### 2.[ ... ]"
   ]
  },
  {
   "cell_type": "markdown",
   "metadata": {},
   "source": [
    "#### Example 7-1. What is truth?"
   ]
  },
  {
   "cell_type": "code",
   "execution_count": null,
   "metadata": {
    "collapsed": true
   },
   "outputs": [],
   "source": [
    "# if [ condition-true ]\n",
    "# then\n",
    "#    command 1\n",
    "#    command 2\n",
    "#    ...\n",
    "# else\n",
    "#    command 3\n",
    "#    command 4\n",
    "#    ...\n",
    "# fi"
   ]
  },
  {
   "cell_type": "code",
   "execution_count": 6,
   "metadata": {
    "collapsed": false
   },
   "outputs": [
    {
     "name": "stdout",
     "output_type": "stream",
     "text": [
      "0 is true.\r\n"
     ]
    }
   ],
   "source": [
    "# 0 is true.\n",
    "if [ 0 ] # zero\n",
    "then\n",
    "    echo \"0 is true.\"\n",
    "else \n",
    "    echo \"0 is false.\"\n",
    "fi"
   ]
  },
  {
   "cell_type": "code",
   "execution_count": 7,
   "metadata": {
    "collapsed": false
   },
   "outputs": [
    {
     "name": "stdout",
     "output_type": "stream",
     "text": [
      "1 is true.\r\n"
     ]
    }
   ],
   "source": [
    "# 1 is true.\n",
    "if [ 1 ] # one\n",
    "then\n",
    "    echo \"1 is true.\"\n",
    "else\n",
    "    echo \"1 is false.\"\n",
    "fi"
   ]
  },
  {
   "cell_type": "code",
   "execution_count": 8,
   "metadata": {
    "collapsed": false
   },
   "outputs": [
    {
     "name": "stdout",
     "output_type": "stream",
     "text": [
      "-1 is true.\r\n"
     ]
    }
   ],
   "source": [
    "# -1 is true.\n",
    "if [ -1 ]\n",
    "then\n",
    "    echo \"-1 is true.\"\n",
    "else\n",
    "    echo \"-1 is false.\"\n",
    "fi"
   ]
  },
  {
   "cell_type": "code",
   "execution_count": 9,
   "metadata": {
    "collapsed": false
   },
   "outputs": [
    {
     "name": "stdout",
     "output_type": "stream",
     "text": [
      "NULL is false.\r\n"
     ]
    }
   ],
   "source": [
    "# NULL is false.\n",
    "if [ ]\n",
    "then\n",
    "    echo \"NULL is true.\"\n",
    "else\n",
    "    echo \"NULL is false.\"\n",
    "fi"
   ]
  },
  {
   "cell_type": "code",
   "execution_count": 10,
   "metadata": {
    "collapsed": false
   },
   "outputs": [
    {
     "name": "stdout",
     "output_type": "stream",
     "text": [
      "Random string is true.\r\n"
     ]
    }
   ],
   "source": [
    "# Random string is true.\n",
    "if [ xyz ]\n",
    "then\n",
    "    echo \"Random string is true.\"\n",
    "else\n",
    "    echo \"Random string is false.\"\n",
    "fi"
   ]
  },
  {
   "cell_type": "code",
   "execution_count": 11,
   "metadata": {
    "collapsed": false
   },
   "outputs": [
    {
     "name": "stdout",
     "output_type": "stream",
     "text": [
      "Uninitialized variable is false.\r\n"
     ]
    }
   ],
   "source": [
    "# Uninitialized variable is false.\n",
    "\n",
    "# Tests if $xyz is null, but...\n",
    "# it's only an uninitialized variable.\n",
    "if [ $xyz ]\n",
    "then\n",
    "    echo \"Uninitialized variable is true.\"\n",
    "else\n",
    "    echo \"Uninitialized variable is false.\"\n",
    "fi "
   ]
  },
  {
   "cell_type": "code",
   "execution_count": 12,
   "metadata": {
    "collapsed": false
   },
   "outputs": [
    {
     "name": "stdout",
     "output_type": "stream",
     "text": [
      "Uninitialized variable is false.\r\n"
     ]
    }
   ],
   "source": [
    "# Uninitialized variable is false.\n",
    "# More pedantically correct.\n",
    "if [ -n \"$xyz\" ]\n",
    "then\n",
    "    echo \"Uninitialized variable is true.\"\n",
    "else\n",
    "    echo \"Uninitialized variable is false.\"\n",
    "fi"
   ]
  },
  {
   "cell_type": "code",
   "execution_count": 13,
   "metadata": {
    "collapsed": false
   },
   "outputs": [
    {
     "name": "stdout",
     "output_type": "stream",
     "text": [
      "Null variable is false.\r\n"
     ]
    }
   ],
   "source": [
    "# Initialized, but set to null value.\n",
    "xyz=\n",
    "# Null variable is false.\n",
    "if [ -n \"$xyz\" ]\n",
    "then\n",
    "    echo \"Null variable is true.\"\n",
    "else\n",
    "    echo \"Null variable is false.\"\n",
    "fi"
   ]
  },
  {
   "cell_type": "code",
   "execution_count": 14,
   "metadata": {
    "collapsed": false
   },
   "outputs": [
    {
     "name": "stdout",
     "output_type": "stream",
     "text": [
      "\"false\" is true.\r\n"
     ]
    }
   ],
   "source": [
    "# When is \"false\" true?\n",
    "# It seems that \"false\" is just a string\n",
    "# \"false\" is true.\n",
    "if [ \"false\" ]\n",
    "then\n",
    "    echo \"\\\"false\\\" is true.\"\n",
    "else\n",
    "    echo \"\\\"false\\\" is false.\"\n",
    "fi"
   ]
  },
  {
   "cell_type": "code",
   "execution_count": 15,
   "metadata": {
    "collapsed": false
   },
   "outputs": [
    {
     "name": "stdout",
     "output_type": "stream",
     "text": [
      "\"$false\" is false.\r\n"
     ]
    }
   ],
   "source": [
    "# Again, uninitialized variable.\n",
    "# \"$false\" is false.\n",
    "# Now, we get the expected result.\n",
    "if [ \"$false\" ]\n",
    "then\n",
    "    echo \"\\\"\\$false\\\" is true.\"\n",
    "else\n",
    "    echo \"\\\"\\$false\\\" is false.\"\n",
    "fi "
   ]
  },
  {
   "cell_type": "code",
   "execution_count": 16,
   "metadata": {
    "collapsed": false
   },
   "outputs": [
    {
     "name": "stdout",
     "output_type": "stream",
     "text": [
      "\"true\" is true.\r\n"
     ]
    }
   ],
   "source": [
    "# What would happen if we tested the uninitialized variable \"$true\"?\n",
    "if [ \"true\" ]\n",
    "then\n",
    "    echo \"\\\"true\\\" is true.\"\n",
    "else\n",
    "    echo \"\\\"true\\\" is false.\"\n",
    "fi"
   ]
  },
  {
   "cell_type": "code",
   "execution_count": 17,
   "metadata": {
    "collapsed": false
   },
   "outputs": [
    {
     "name": "stdout",
     "output_type": "stream",
     "text": [
      "\"$true\" is false.\r\n"
     ]
    }
   ],
   "source": [
    "if [ \"$true\" ]\n",
    "then\n",
    "    echo \"\\\"\\$true\\\" is true.\"\n",
    "else\n",
    "    echo \"\\\"\\$true\\\" is false.\"\n",
    "fi "
   ]
  },
  {
   "cell_type": "markdown",
   "metadata": {},
   "source": [
    "When if and then are on same line in a condition test, a semicolon must terminate the if statement. Both if and then are keywords. Keywords (or commands) begin statements, and before a new statement on the same line begins, the old one must terminate."
   ]
  },
  {
   "cell_type": "code",
   "execution_count": null,
   "metadata": {
    "collapsed": true
   },
   "outputs": [],
   "source": [
    "if [ -x \"$filename\" ]; then"
   ]
  },
  {
   "cell_type": "markdown",
   "metadata": {},
   "source": [
    "###### Else if and elif\n",
    "elif is a contraction for else if. The effect is to nest an inner if/then construct within an outer one."
   ]
  },
  {
   "cell_type": "code",
   "execution_count": null,
   "metadata": {
    "collapsed": true
   },
   "outputs": [],
   "source": [
    "if [ condition1 ]\n",
    "then\n",
    "    command1\n",
    "    command2\n",
    "    command3\n",
    "elif [ condition2 ]\n",
    "then\n",
    "    command4\n",
    "    command5\n",
    "else\n",
    "    default-command\n",
    "fi"
   ]
  },
  {
   "cell_type": "markdown",
   "metadata": {},
   "source": [
    "The if test condition-true construct is the exact equivalent of if [ condition-true ]. As it happens, the left bracket, [ , is a token which invokes the test command. The closing right bracket, ] , in an if/test should not therefore be strictly necessary, however newer versions of Bash require it."
   ]
  },
  {
   "cell_type": "markdown",
   "metadata": {},
   "source": [
    "The test command is a Bash builtin which tests file types and compares strings. Therefore, in a Bash script, test does not call the external /usr/bin/test binary, which is part of the sh-utils package. Likewise, [ does not call /usr/bin/[, which is linked to /usr/bin/test."
   ]
  },
  {
   "cell_type": "code",
   "execution_count": 18,
   "metadata": {
    "collapsed": false
   },
   "outputs": [
    {
     "name": "stdout",
     "output_type": "stream",
     "text": [
      "test is a shell builtin\r\n"
     ]
    }
   ],
   "source": [
    "type test"
   ]
  },
  {
   "cell_type": "code",
   "execution_count": 19,
   "metadata": {
    "collapsed": false
   },
   "outputs": [
    {
     "name": "stdout",
     "output_type": "stream",
     "text": [
      "[ is a shell builtin\r\n"
     ]
    }
   ],
   "source": [
    "type '['"
   ]
  },
  {
   "cell_type": "code",
   "execution_count": 20,
   "metadata": {
    "collapsed": false
   },
   "outputs": [
    {
     "name": "stdout",
     "output_type": "stream",
     "text": [
      "[[ is a shell keyword\r\n"
     ]
    }
   ],
   "source": [
    "type '[['"
   ]
  },
  {
   "cell_type": "code",
   "execution_count": 21,
   "metadata": {
    "collapsed": false
   },
   "outputs": [
    {
     "name": "stdout",
     "output_type": "stream",
     "text": [
      "]] is a shell keyword\r\n"
     ]
    }
   ],
   "source": [
    "type ']]'"
   ]
  },
  {
   "cell_type": "code",
   "execution_count": 22,
   "metadata": {
    "collapsed": false
   },
   "outputs": [
    {
     "name": "stdout",
     "output_type": "stream",
     "text": [
      "bash: type: ]: not found\r\n"
     ]
    }
   ],
   "source": [
    "type ']'"
   ]
  },
  {
   "cell_type": "markdown",
   "metadata": {},
   "source": [
    "If, for some reason, you wish to use /usr/bin/test in a Bash script, then specify it by full pathname."
   ]
  },
  {
   "cell_type": "markdown",
   "metadata": {},
   "source": [
    "#### Example 7-2. Equivalence of test, /usr/bin/test, [ ], and /usr/bin/["
   ]
  },
  {
   "cell_type": "code",
   "execution_count": 1,
   "metadata": {
    "collapsed": false
   },
   "outputs": [
    {
     "name": "stdout",
     "output_type": "stream",
     "text": [
      "#!/bin/bash\r\n",
      "\r\n",
      "# \"test\" builtin.\r\n",
      "if test -z \"$1\"\r\n",
      "then\r\n",
      "    echo \"No command-line arguments.\"\r\n",
      "else\r\n",
      "    echo \"First command-line argument is $1.\"\r\n",
      "fi\r\n",
      "\r\n",
      "# Equivalent to \"test\" builtin.\r\n",
      "# Specifying full pathname.\r\n",
      "if /usr/bin/test -z \"$1\"\r\n",
      "then\r\n",
      "    echo \"No command-line arguments.\"\r\n",
      "else\r\n",
      "    echo \"First command-line argument is $1.\"\r\n",
      "fi\r\n",
      "\r\n",
      "# Functionally identical to above code blocks.\r\n",
      "if [ -z \"$1\" ]\r\n",
      "then\r\n",
      "    echo \"No command-line arguments.\"\r\n",
      "else\r\n",
      "    echo \"First command-line argument is $1.\"\r\n",
      "fi\r\n",
      "\r\n",
      "# Again, functionally identical to above.\r\n",
      "if /usr/bin/[ -z \"$1\" ]\r\n",
      "then\r\n",
      "    echo \"No command-line arguments.\"\r\n",
      "else\r\n",
      "    echo \"First command-line argument is $1.\"\r\n",
      "fi\r\n",
      "\r\n",
      "exit 0\r\n"
     ]
    }
   ],
   "source": [
    "cat comm.sh"
   ]
  },
  {
   "cell_type": "code",
   "execution_count": 2,
   "metadata": {
    "collapsed": false
   },
   "outputs": [
    {
     "name": "stdout",
     "output_type": "stream",
     "text": [
      "First command-line argument is liheyi.\r\n",
      "First command-line argument is liheyi.\r\n",
      "First command-line argument is liheyi.\r\n",
      "First command-line argument is liheyi.\r\n"
     ]
    }
   ],
   "source": [
    "./comm.sh liheyi liheyuan"
   ]
  },
  {
   "cell_type": "markdown",
   "metadata": {},
   "source": [
    "###### 3.[[  ...  ]]\n",
    "The [[ ]] construct is the more versatile Bash version of [ ].This is the extended test command, adopted from ksh88.  \n",
    "No filename expansion or word splitting takes place between [[ and ]], but there is parameter expansion and command substitution."
   ]
  },
  {
   "cell_type": "code",
   "execution_count": 4,
   "metadata": {
    "collapsed": false
   },
   "outputs": [
    {
     "name": "stdout",
     "output_type": "stream",
     "text": [
      "Password file exists.\r\n"
     ]
    }
   ],
   "source": [
    "file=/etc/passwd\n",
    "\n",
    "if [[ -e $file ]]\n",
    "then\n",
    "    echo \"Password file exists.\"\n",
    "fi"
   ]
  },
  {
   "cell_type": "markdown",
   "metadata": {},
   "source": [
    "Using the [[ ... ]] test construct, rather than [ ... ] can prevent many logic errors in scripts. For example, the &&, ||, <, and > operators work within a [[ ]] test, despite giving an error within a [ ] construct."
   ]
  },
  {
   "cell_type": "markdown",
   "metadata": {},
   "source": [
    "Arithmetic evaluation of octal / hexadecimal constants takes place automatically within a [[ ... ]] construct."
   ]
  },
  {
   "cell_type": "code",
   "execution_count": 5,
   "metadata": {
    "collapsed": false
   },
   "outputs": [
    {
     "name": "stdout",
     "output_type": "stream",
     "text": [
      "15 is not equal to 017\r\n"
     ]
    }
   ],
   "source": [
    "# [[ Octal and hexadecimal evaluation ]]\n",
    "\n",
    "decimal=15\n",
    "octal=017  # = 15 (decimal)\n",
    "hex=0x0f   # = 15 (decimal)\n",
    "\n",
    "# Doesn't evaluate within [ single brackets ]!\n",
    "if [ \"$decimal\" -eq \"$octal\" ]\n",
    "then\n",
    "    echo \"$decimal equals $octal\"\n",
    "else\n",
    "    echo \"$decimal is not equal to $octal\"\n",
    "fi"
   ]
  },
  {
   "cell_type": "code",
   "execution_count": 6,
   "metadata": {
    "collapsed": false
   },
   "outputs": [
    {
     "name": "stdout",
     "output_type": "stream",
     "text": [
      "15 equals 017\r\n"
     ]
    }
   ],
   "source": [
    "# Evaluates within [[ double brackets ]]!\n",
    "if [[ \"$decimal\" -eq \"$octal\" ]]\n",
    "then\n",
    "    echo \"$decimal equals $octal\" # 15 equals 017\n",
    "else\n",
    "    echo \"$decimal is not equal to $octal\"\n",
    "fi "
   ]
  },
  {
   "cell_type": "code",
   "execution_count": 7,
   "metadata": {
    "collapsed": false
   },
   "outputs": [
    {
     "name": "stdout",
     "output_type": "stream",
     "text": [
      "15 equals 0x0f\r\n"
     ]
    }
   ],
   "source": [
    "# [[ $hexadecimal ]] also evaluates!\n",
    "if [[ \"$decimal\" -eq \"$hex\" ]]\n",
    "then\n",
    "    echo \"$decimal equals $hex\" # 15 equals 0x0f\n",
    "else\n",
    "    echo \"$decimal is not equal to $hex\"\n",
    "fi "
   ]
  },
  {
   "cell_type": "markdown",
   "metadata": {},
   "source": [
    "###### Following an if, neither the test command nor the test brackets ( [ ] or [[ ]] ) are strictly necessary"
   ]
  },
  {
   "cell_type": "code",
   "execution_count": 9,
   "metadata": {
    "collapsed": false
   },
   "outputs": [
    {
     "name": "stdout",
     "output_type": "stream",
     "text": [
      "Now in /home/liheyi.\r\n"
     ]
    }
   ],
   "source": [
    "dir=/home/liheyi\n",
    "\n",
    "# \"2>/dev/null\" hides error message.\n",
    "if cd \"$dir\" 2> /dev/null;then\n",
    "    echo \"Now in $dir.\"\n",
    "else\n",
    "    echo \"Can't change to $dir.\"\n",
    "fi"
   ]
  },
  {
   "cell_type": "markdown",
   "metadata": {},
   "source": [
    "The \"if COMMAND\" construct returns the exit status of COMMAND."
   ]
  },
  {
   "cell_type": "markdown",
   "metadata": {},
   "source": [
    "Similarly, a condition within test brackets may stand alone without an if, when used in combination with a list construct."
   ]
  },
  {
   "cell_type": "code",
   "execution_count": 13,
   "metadata": {
    "collapsed": false
   },
   "outputs": [
    {
     "name": "stdout",
     "output_type": "stream",
     "text": [
      "22 is equal to 22\r\n"
     ]
    }
   ],
   "source": [
    "var1=22\n",
    "var2=22\n",
    "[ \"$var1\" -eq \"$var2\" ] && echo \"$var1 is equal to $var2\""
   ]
  },
  {
   "cell_type": "code",
   "execution_count": 11,
   "metadata": {
    "collapsed": false
   },
   "outputs": [
    {
     "name": "stdout",
     "output_type": "stream",
     "text": [
      "/home/bozo directory does not exist.\r\n"
     ]
    }
   ],
   "source": [
    "home=/home/bozo\n",
    "[ -d \"$home\" ] || echo \"$home directory does not exist.\""
   ]
  },
  {
   "cell_type": "code",
   "execution_count": 10,
   "metadata": {
    "collapsed": false
   },
   "outputs": [
    {
     "name": "stdout",
     "output_type": "stream",
     "text": [
      "20 is not equal to 22\r\n"
     ]
    }
   ],
   "source": [
    "var1=20\n",
    "var2=22\n",
    "[ \"$var1\" -ne \"$var2\" ] && echo \"$var1 is not equal to $var2\" || echo \"$var1 is equal to $var2\""
   ]
  },
  {
   "cell_type": "markdown",
   "metadata": {},
   "source": [
    "###### 4.(( ... ))"
   ]
  },
  {
   "cell_type": "markdown",
   "metadata": {},
   "source": [
    "The (( )) construct expands and evaluates an arithmetic expression. If the expression evaluates as zero, it returns an exit status of 1, or \"false\". A non-zero expression returns an exit status of 0, or \"true\". \n",
    "###### This is in marked contrast to using the test and [ ] constructs previously discussed."
   ]
  },
  {
   "cell_type": "markdown",
   "metadata": {},
   "source": [
    "#### Example 7-3. Arithmetic Tests using (( ))"
   ]
  },
  {
   "cell_type": "code",
   "execution_count": 14,
   "metadata": {
    "collapsed": false
   },
   "outputs": [
    {
     "name": "stdout",
     "output_type": "stream",
     "text": [
      "Exit status of \"(( 0 ))\" is 1.\r\n"
     ]
    }
   ],
   "source": [
    "# The (( ... )) construct evaluates and tests numerical expressions.\n",
    "# Exit status opposite from [ ... ] construct!\n",
    "\n",
    "(( 0 ))\n",
    "echo \"Exit status of \\\"(( 0 ))\\\" is $?.\" "
   ]
  },
  {
   "cell_type": "code",
   "execution_count": 15,
   "metadata": {
    "collapsed": false
   },
   "outputs": [
    {
     "name": "stdout",
     "output_type": "stream",
     "text": [
      "Exit status of \"(( 1 ))\" is 0.\r\n"
     ]
    }
   ],
   "source": [
    "(( 1 ))\n",
    "echo \"Exit status of \\\"(( 1 ))\\\" is $?.\" "
   ]
  },
  {
   "cell_type": "code",
   "execution_count": 16,
   "metadata": {
    "collapsed": false
   },
   "outputs": [
    {
     "name": "stdout",
     "output_type": "stream",
     "text": [
      "Exit status of \"(( 5 > 4 ))\" is 0.\r\n"
     ]
    }
   ],
   "source": [
    "(( 5 > 4 ))\n",
    "echo \"Exit status of \\\"(( 5 > 4 ))\\\" is $?.\" "
   ]
  },
  {
   "cell_type": "code",
   "execution_count": 17,
   "metadata": {
    "collapsed": false
   },
   "outputs": [
    {
     "name": "stdout",
     "output_type": "stream",
     "text": [
      "Exit status of \"(( 5 > 9 ))\" is 1.\r\n"
     ]
    }
   ],
   "source": [
    "(( 5 > 9 ))\n",
    "echo \"Exit status of \\\"(( 5 > 9 ))\\\" is $?.\" "
   ]
  },
  {
   "cell_type": "code",
   "execution_count": 18,
   "metadata": {
    "collapsed": false
   },
   "outputs": [
    {
     "name": "stdout",
     "output_type": "stream",
     "text": [
      "Exit status of \"(( 5 == 5 ))\" is 0.\r\n"
     ]
    }
   ],
   "source": [
    "# (( 5 = 5 )) gives an error message.\n",
    "(( 5 == 5 ))\n",
    "echo \"Exit status of \\\"(( 5 == 5 ))\\\" is $?.\" "
   ]
  },
  {
   "cell_type": "code",
   "execution_count": 19,
   "metadata": {
    "collapsed": false
   },
   "outputs": [
    {
     "name": "stdout",
     "output_type": "stream",
     "text": [
      "Exit status of \"(( 5 - 5 ))\" is 1.\r\n"
     ]
    }
   ],
   "source": [
    "(( 5 - 5 ))\n",
    "echo \"Exit status of \\\"(( 5 - 5 ))\\\" is $?.\" "
   ]
  },
  {
   "cell_type": "code",
   "execution_count": 20,
   "metadata": {
    "collapsed": false
   },
   "outputs": [
    {
     "name": "stdout",
     "output_type": "stream",
     "text": [
      "Exit status of \"(( 5 / 4 ))\" is 0.\r\n"
     ]
    }
   ],
   "source": [
    "(( 5 / 4 ))\n",
    "echo \"Exit status of \\\"(( 5 / 4 ))\\\" is $?.\" "
   ]
  },
  {
   "cell_type": "code",
   "execution_count": 21,
   "metadata": {
    "collapsed": false
   },
   "outputs": [
    {
     "name": "stdout",
     "output_type": "stream",
     "text": [
      "Exit status of \"(( 1 / 2 ))\" is 1.\r\n"
     ]
    }
   ],
   "source": [
    "# Division result < 1.\n",
    "# Rounded off to 0.\n",
    "(( 1 / 2 )) \n",
    "echo \"Exit status of \\\"(( 1 / 2 ))\\\" is $?.\" "
   ]
  },
  {
   "cell_type": "code",
   "execution_count": 22,
   "metadata": {
    "collapsed": false
   },
   "outputs": [
    {
     "name": "stdout",
     "output_type": "stream",
     "text": [
      "Exit status of \"(( 1 / 0 ))\" is 1.\r\n"
     ]
    }
   ],
   "source": [
    "# Illegal division by 0.\n",
    "(( 1 / 0 )) 2>/dev/null\n",
    "echo \"Exit status of \\\"(( 1 / 0 ))\\\" is $?.\" "
   ]
  },
  {
   "cell_type": "code",
   "execution_count": 24,
   "metadata": {
    "collapsed": false
   },
   "outputs": [
    {
     "name": "stdout",
     "output_type": "stream",
     "text": [
      "5 is greater than 4\r\n"
     ]
    }
   ],
   "source": [
    "# (( ... )) also useful in an if-then test.\n",
    "var1=5\n",
    "var2=4\n",
    "\n",
    "# Note: Not $var1, $var2.\n",
    "if (( var1 > var2 ))\n",
    "then\n",
    "    echo \"$var1 is greater than $var2\"\n",
    "fi "
   ]
  },
  {
   "cell_type": "markdown",
   "metadata": {},
   "source": [
    "### File test operators\n",
    "#### Returns true if..."
   ]
  },
  {
   "cell_type": "markdown",
   "metadata": {},
   "source": [
    "##### -e\n",
    "    file exists\n",
    "##### -a\n",
    "    file exists\n",
    "    This is identical in effect to -e. It has been \"deprecated,\" [34] and its use is discouraged.\n",
    "##### -f\n",
    "    file is a regular file (not a directory or device file)\n",
    "##### -s\n",
    "    file is not zero size\n",
    "##### -d\n",
    "    file is a directory\n",
    "##### -b\n",
    "    file is a block device\n",
    "##### -c\n",
    "    file is a character device"
   ]
  },
  {
   "cell_type": "code",
   "execution_count": 25,
   "metadata": {
    "collapsed": false
   },
   "outputs": [
    {
     "name": "stdout",
     "output_type": "stream",
     "text": [
      "/dev/sda2 is a block device.\r\n"
     ]
    }
   ],
   "source": [
    "device0=\"/dev/sda2\"\n",
    "\n",
    "if [ -b \"$device0\" ]\n",
    "then\n",
    "    echo \"$device0 is a block device.\"\n",
    "fi"
   ]
  },
  {
   "cell_type": "code",
   "execution_count": 26,
   "metadata": {
    "collapsed": false
   },
   "outputs": [
    {
     "name": "stdout",
     "output_type": "stream",
     "text": [
      "/dev/ttyS1 is a character device.\r\n"
     ]
    }
   ],
   "source": [
    "# PCMCIA modem card.\n",
    "device1=\"/dev/ttyS1\"\n",
    "\n",
    "if [ -c \"$device1\" ]\n",
    "then\n",
    "    echo \"$device1 is a character device.\"\n",
    "fi"
   ]
  },
  {
   "cell_type": "markdown",
   "metadata": {},
   "source": [
    "##### -p\n",
    "    file is a pipe"
   ]
  },
  {
   "cell_type": "code",
   "execution_count": null,
   "metadata": {
    "collapsed": true
   },
   "outputs": [],
   "source": [
    "function show_input_type()\n",
    "{\n",
    "    [ -p /dev/fd/0 ] && echo PIPE || echo STDIN\n",
    "}\n",
    "\n",
    "show_input_type \"Input\"         # STDIN\n",
    "echo \"Input\" | show_input_type  # PIPE"
   ]
  },
  {
   "cell_type": "markdown",
   "metadata": {},
   "source": [
    "##### -h\n",
    "    file is a symbolic link\n",
    "##### -L\n",
    "    file is a symbolic link\n",
    "##### -S\n",
    "    file is a socket\n",
    "##### -t\n",
    "    file (descriptor) is associated with a terminal device  \n",
    "    This test option may be used to check whether the stdin [ -t 0 ] or stdout [ -t 1 ] in a given script is a terminal.\n",
    "##### -r\n",
    "    file has read permission (for the user running the test)\n",
    "##### -w\n",
    "    file has write permission (for the user running the test)\n",
    "##### -x\n",
    "    file has execute permission (for the user running the test)\n",
    "##### -g\n",
    "    set-group-id (sgid) flag set on file or directory. \n",
    "    If a directory has the sgid flag set, then a file created within that directory belongs to \n",
    "    the group that owns the directory, not necessarily to the group of the user who created the file. \n",
    "    This may be useful for a directory shared by a workgroup"
   ]
  },
  {
   "cell_type": "markdown",
   "metadata": {},
   "source": [
    "##### -u\n",
    "    set-user-id (suid) flag set on file.\n",
    "    A binary owned by root with set-user-id flag set runs with root privileges,   \n",
    "    even when an ordinary user invokes it.This is useful for executables   \n",
    "    (such as pppd and cdrecord) that need to access system hardware.   \n",
    "    Lacking the suid flag, these binaries could not be invoked by a non-root user"
   ]
  },
  {
   "cell_type": "code",
   "execution_count": 30,
   "metadata": {
    "collapsed": false
   },
   "outputs": [
    {
     "name": "stdout",
     "output_type": "stream",
     "text": [
      "-rwsr-xr-x 1 root root  46K  2月 17  2014 /usr/bin/passwd\r\n",
      "-rwsr-xr-- 1 root dip  340K 11月 26  2014 /usr/sbin/pppd\r\n"
     ]
    }
   ],
   "source": [
    "# A file with the suid flag set shows an s in its permissions.\n",
    "ls -lh /usr/bin/passwd /usr/sbin/pppd"
   ]
  },
  {
   "cell_type": "markdown",
   "metadata": {},
   "source": [
    "###### -k\n",
    "    sticky bit set\n",
    "    Commonly known as the sticky bit, the save-text-mode flag is a special type of file permission. \n",
    "    If a file has this flag set, that file will be kept in cache memory, for quicker access. \n",
    "    If set on a directory, it restricts write permission.  \n",
    "    Setting the sticky bit adds a t to the permissions on the file or directory listing.  \n",
    "    This restricts altering or deleting specific files in that directory to the owner of those files.\n",
    "    \n",
    "    If a user does not own a directory that has the sticky bit set,  \n",
    "    but has write permission in that directory,she can only delete those files that she owns in it. \n",
    "    This keeps users from inadvertently overwriting or deleting each other's files in a publicly accessible       directory, such as /tmp. \n",
    "    (The owner of the directory or root can, of course, delete or rename files there.)\n",
    "\n"
   ]
  },
  {
   "cell_type": "code",
   "execution_count": 31,
   "metadata": {
    "collapsed": false
   },
   "outputs": [
    {
     "name": "stdout",
     "output_type": "stream",
     "text": [
      "drwxrwxrwt 6 root root 4096  8月  3 10:42 /tmp\r\n"
     ]
    }
   ],
   "source": [
    "ls -ld /tmp"
   ]
  },
  {
   "cell_type": "markdown",
   "metadata": {},
   "source": [
    "##### -O\n",
    "    you are owner of file\n",
    "##### -G\n",
    "    group-id of file same as yours\n",
    "##### -N\n",
    "    file modified since it was last read\n",
    "##### f1 -nt f2\n",
    "    file f1 is newer than f2\n",
    "##### f1 -ot f2\n",
    "    file f1 is older than f2\n",
    "##### f1 -ef f2\n",
    "    files f1 and f2 are hard links to the same file\n",
    "##### !\n",
    "    \"not\" -- reverses the sense of the tests above (returns true if condition absent)."
   ]
  },
  {
   "cell_type": "markdown",
   "metadata": {},
   "source": [
    "#### Example 7-4. Testing for broken links"
   ]
  },
  {
   "cell_type": "code",
   "execution_count": null,
   "metadata": {
    "collapsed": true
   },
   "outputs": [],
   "source": [
    "#!/bin/bash\n",
    "# broken-link.sh\n",
    "# Written by Lee bigelow <ligelowbee@yahoo.com>\n",
    "# Used in ABS Guide with permission.\n",
    "# A pure shell script to find dead symlinks and output them quoted\n",
    "#+ so they can be fed to xargs and dealt with :)\n",
    "#+ eg. sh broken-link.sh /somedir /someotherdir|xargs rm\n",
    "#\n",
    "# This, however, is a better method:\n",
    "#\n",
    "# find \"somedir\" -type l -print0|\\\n",
    "# xargs -r0 file|\\\n",
    "# grep \"broken symbolic\"|\n",
    "# sed -e 's/^\\|: *broken symbolic.*$/\"/g'\n",
    "#\n",
    "#+ but that wouldn't be pure Bash, now would it.\n",
    "# Caution: beware the /proc file system and any circular links!\n",
    "################################################################\n",
    "# If no args are passed to the script set directories-to-search\n",
    "#+ to current directory. Otherwise set the directories-to-search\n",
    "#+ to the args passed.\n",
    "######################\n",
    "[ $# -eq 0 ] && directorys=`pwd` || directorys=$@\n",
    "# Setup the function linkchk to check the directory it is passed\n",
    "#+ for files that are links and don't exist, then print them quoted.\n",
    "# If one of the elements in the directory is a subdirectory then\n",
    "#+ send that subdirectory to the linkcheck function.\n",
    "##########\n",
    "linkchk () {\n",
    "    for element in $1/*; do\n",
    "        [ -h \"$element\" -a ! -e \"$element\" ] && echo \\\"$element\\\"\n",
    "        [ -d \"$element\" ] && linkchk $element\n",
    "    # Of course, '-h' tests for symbolic link, '-d' for directory.\n",
    "    done\n",
    "}\n",
    "# Send each arg that was passed to the script to the linkchk() function\n",
    "#+ if it is a valid directoy. If not, then print the error message\n",
    "#+ and usage info.\n",
    "##################\n",
    "for directory in $directorys; do\n",
    "    if [ -d $directory ]\n",
    "    then \n",
    "        linkchk $directory\n",
    "    else\n",
    "            echo \"$directory is not a directory\"\n",
    "            echo \"Usage: $0 dir1 dir2 ...\"\n",
    "    fi\n",
    "done\n",
    "\n",
    "exit $?"
   ]
  },
  {
   "cell_type": "markdown",
   "metadata": {},
   "source": [
    "### Other Comparison Operators\n",
    "A binary comparison operator compares two variables or quantities.   \n",
    "Note that integer and string comparison use a different set of operators."
   ]
  },
  {
   "cell_type": "markdown",
   "metadata": {},
   "source": [
    "#### 1.integer comparison\n",
    "###### A.within single square brackets"
   ]
  },
  {
   "cell_type": "markdown",
   "metadata": {},
   "source": [
    "##### -eq\n",
    "    is equal to\n",
    "    if [ \"$a\" -eq \"$b\" ]"
   ]
  },
  {
   "cell_type": "markdown",
   "metadata": {},
   "source": [
    "##### -ne\n",
    "    is not equal to\n",
    "    if [ \"$a\" -ne \"$b\" ]"
   ]
  },
  {
   "cell_type": "markdown",
   "metadata": {},
   "source": [
    "##### -gt\n",
    "    is greater than\n",
    "    if [ \"$a\" -gt \"$b\" ]"
   ]
  },
  {
   "cell_type": "markdown",
   "metadata": {},
   "source": [
    "##### -ge\n",
    "    is greater than or equal to\n",
    "    if [ \"$a\" -ge \"$b\" ]"
   ]
  },
  {
   "cell_type": "markdown",
   "metadata": {},
   "source": [
    "##### -lt\n",
    "    is less than\n",
    "    if [ \"$a\" -lt \"$b\" ]"
   ]
  },
  {
   "cell_type": "markdown",
   "metadata": {},
   "source": [
    "##### -le\n",
    "    is less than or equal to\n",
    "    if [ \"$a\" -le \"$b\" ]"
   ]
  },
  {
   "cell_type": "markdown",
   "metadata": {},
   "source": [
    "###### B.within double parentheses"
   ]
  },
  {
   "cell_type": "markdown",
   "metadata": {},
   "source": [
    "##### <\n",
    "    is less than\n",
    "    ((\"$a\" < \"$b\"))"
   ]
  },
  {
   "cell_type": "markdown",
   "metadata": {},
   "source": [
    "##### <=\n",
    "    is less than or equal to\n",
    "    ((\"$a\" <= \"$b\"))"
   ]
  },
  {
   "cell_type": "markdown",
   "metadata": {},
   "source": [
    "##### >\n",
    "    is greater than\n",
    "    ((\"$a\" > \"$b\"))"
   ]
  },
  {
   "cell_type": "markdown",
   "metadata": {},
   "source": [
    "##### >=\n",
    "    is greater than or equal to (within double parentheses)\n",
    "    ((\"$a\" >= \"$b\"))"
   ]
  },
  {
   "cell_type": "markdown",
   "metadata": {},
   "source": [
    "#### 2.string comparison"
   ]
  },
  {
   "cell_type": "markdown",
   "metadata": {},
   "source": [
    "##### =\n",
    "    is equal to\n",
    "    if [ \"$a\" = \"$b\" ]\n",
    "    \n",
    "    Note the whitespace framing the =\n",
    "    if [ \"\\$a\"=\"$b\" ] is not equivalent to the above"
   ]
  },
  {
   "cell_type": "markdown",
   "metadata": {},
   "source": []
  },
  {
   "cell_type": "markdown",
   "metadata": {},
   "source": [
    "##### ==\n",
    "    is equal to\n",
    "    if [ \"$a\" == \"$b\" ]\n",
    "    \n",
    "    This is a synonym for =\n",
    "    "
   ]
  },
  {
   "cell_type": "markdown",
   "metadata": {},
   "source": [
    "The == comparison operator behaves differently within a double-brackets test than within single brackets."
   ]
  },
  {
   "cell_type": "code",
   "execution_count": null,
   "metadata": {
    "collapsed": true
   },
   "outputs": [],
   "source": [
    "# True if $a starts with an \"z\" (pattern matching).\n",
    "[[ $a == z* ]]\n",
    "# True if $a is equal to z* (literal matching).\n",
    "[[ $a == \"z*\" ]]\n",
    "# File globbing and word splitting take place.\n",
    "[ $a == z* ]\n",
    "# True if $a is equal to z* (literal matching).\n",
    "[ \"$a\" == \"z*\" ]\n"
   ]
  },
  {
   "cell_type": "markdown",
   "metadata": {},
   "source": [
    "##### !=\n",
    "    is not equal to\n",
    "    if [ \"$a\" != \"$b\" ]\n",
    "    \n",
    "    This operator uses pattern matching within a [[ ... ]] construct."
   ]
  },
  {
   "cell_type": "markdown",
   "metadata": {},
   "source": [
    "##### <\n",
    "    is less than, in ASCII alphabetical order\n",
    "    if [[ \"$a\" < \"$b\" ]]\n",
    "    if [ \"$a\" \\< \"$b\" ]\n",
    "    \n",
    "    Note that the \"<\" needs to be escaped within a [ ] construct."
   ]
  },
  {
   "cell_type": "markdown",
   "metadata": {},
   "source": [
    "##### >\n",
    "    is greater than, in ASCII alphabetical order\n",
    "    if [[ \"$a\" > \"$b\" ]]\n",
    "    if [ \"$a\" \\> \"$b\" ]\n",
    "    \n",
    "    Note that the \">\" needs to be escaped within a [ ] construct."
   ]
  },
  {
   "cell_type": "markdown",
   "metadata": {},
   "source": [
    "##### -z\n",
    "    string is null, that is, has zero length"
   ]
  },
  {
   "cell_type": "code",
   "execution_count": 32,
   "metadata": {
    "collapsed": false
   },
   "outputs": [
    {
     "name": "stdout",
     "output_type": "stream",
     "text": [
      "$String is null.\r\n"
     ]
    }
   ],
   "source": [
    " # Zero-length (\"null\") string variable.\n",
    "String=''\n",
    "\n",
    "if [ -z \"$String\" ]\n",
    "then\n",
    "    echo \"\\$String is null.\"\n",
    "else\n",
    "    echo \"\\$String is NOT null.\"\n",
    "fi "
   ]
  },
  {
   "cell_type": "markdown",
   "metadata": {},
   "source": [
    "##### -n\n",
    "    string is not null.\n",
    "    \n",
    "    The -n test requires that the string be quoted within the test brackets. \n",
    "    Using anunquoted string with ! -z, or even just the unquoted string alone \n",
    "    within test brackets normally works, however, this is an unsafe practice. \n",
    "    Always quote a tested string."
   ]
  },
  {
   "cell_type": "markdown",
   "metadata": {},
   "source": [
    "#### Example 7-5. Arithmetic and string comparisons"
   ]
  },
  {
   "cell_type": "code",
   "execution_count": 36,
   "metadata": {
    "collapsed": false
   },
   "outputs": [
    {
     "name": "stdout",
     "output_type": "stream",
     "text": []
    }
   ],
   "source": [
    "a=4\n",
    "b=5\n",
    "\n",
    "# Here \"a\" and \"b\" can be treated either as integers or strings.\n",
    "# There is some blurring between the arithmetic and string comparisons,\n",
    "#+ since Bash variables are not strongly typed.\n",
    "\n",
    "# Bash permits integer operations and comparisons on variables\n",
    "#+ whose value consists of all-integer characters.\n",
    "# Caution advised, however.\n",
    "\n",
    "# In this particular instance, both \"-ne\" and \"!=\" work."
   ]
  },
  {
   "cell_type": "code",
   "execution_count": 34,
   "metadata": {
    "collapsed": false
   },
   "outputs": [
    {
     "name": "stdout",
     "output_type": "stream",
     "text": [
      "4 is not equal to 5\r\n",
      "(arithmetic comparison)\r\n"
     ]
    }
   ],
   "source": [
    "if [ \"$a\" -ne \"$b\" ]\n",
    "then\n",
    "    echo \"$a is not equal to $b\"\n",
    "    echo \"(arithmetic comparison)\"\n",
    "fi\n"
   ]
  },
  {
   "cell_type": "code",
   "execution_count": 35,
   "metadata": {
    "collapsed": false
   },
   "outputs": [
    {
     "name": "stdout",
     "output_type": "stream",
     "text": [
      "4 is not equal to 5.\r\n",
      "(string comparison)\r\n"
     ]
    }
   ],
   "source": [
    "# \"4\" != \"5\"\n",
    " # ASCII 52 != ASCII 53\n",
    "if [ \"$a\" != \"$b\" ]\n",
    "then\n",
    "    echo \"$a is not equal to $b.\"\n",
    "    echo \"(string comparison)\"\n",
    "fi"
   ]
  },
  {
   "cell_type": "markdown",
   "metadata": {},
   "source": [
    "#### Example 7-6. Testing whether a string is null"
   ]
  },
  {
   "cell_type": "code",
   "execution_count": 37,
   "metadata": {
    "collapsed": false
   },
   "outputs": [
    {
     "name": "stdout",
     "output_type": "stream",
     "text": [
      "String \"string1\" is not null.\r\n"
     ]
    }
   ],
   "source": [
    "# Using if [ ... ]\n",
    "# If a string has not been initialized, it has no defined value.\n",
    "# This state is called \"null\" (not the same as zero!).\n",
    "\n",
    "# string1 has not been declared or initialized.\n",
    "if [ -n $string1 ]\n",
    "then\n",
    "    echo \"String \\\"string1\\\" is not null.\"\n",
    "else\n",
    "    echo \"String \\\"string1\\\" is null.\"\n",
    "fi\n",
    "# Wrong result:\n",
    "# Shows $string1 as not null, although it was not initialized."
   ]
  },
  {
   "cell_type": "code",
   "execution_count": 38,
   "metadata": {
    "collapsed": false
   },
   "outputs": [
    {
     "name": "stdout",
     "output_type": "stream",
     "text": [
      "String \"string1\" is null.\r\n"
     ]
    }
   ],
   "source": [
    "# Let's try it again.\n",
    "# This time, $string1 is quoted.\n",
    "if [ -n \"$string1\" ]\n",
    "then\n",
    "    echo \"String \\\"string1\\\" is not null.\"\n",
    "else\n",
    "    echo \"String \\\"string1\\\" is null.\"\n",
    "fi "
   ]
  },
  {
   "cell_type": "code",
   "execution_count": 39,
   "metadata": {
    "collapsed": false
   },
   "outputs": [
    {
     "name": "stdout",
     "output_type": "stream",
     "text": [
      "String \"string1\" is null.\r\n"
     ]
    }
   ],
   "source": [
    "# This time, $string1 stands naked.\n",
    "if [ $string1 ]\n",
    "then\n",
    "    echo \"String \\\"string1\\\" is not null.\"\n",
    "else\n",
    "    echo \"String \\\"string1\\\" is null.\"\n",
    "fi\n",
    "# This works fine.\n",
    "\n",
    "# The [ ... ] test operator alone detects whether the string is null.\n",
    "# However it is good practice to quote it (if [ \"$string1\" ]).\n",
    "\n",
    "# As Stephane Chazelas points out,\n",
    "# if [ $string1 ] has one argument, \"]\"\n",
    "# if [ \"$string1\" ] has two arguments, the empty \"$string1\" and \"]\" "
   ]
  },
  {
   "cell_type": "code",
   "execution_count": 40,
   "metadata": {
    "collapsed": false
   },
   "outputs": [
    {
     "name": "stdout",
     "output_type": "stream",
     "text": [
      "String \"string1\" is not null.\r\n"
     ]
    }
   ],
   "source": [
    "string1=initialized\n",
    "\n",
    "# Again, $string1 stands unquoted.\n",
    "if [ $string1 ]\n",
    "then\n",
    "    echo \"String \\\"string1\\\" is not null.\"\n",
    "else\n",
    "    echo \"String \\\"string1\\\" is null.\"\n",
    "fi \n",
    "# Again, $string1 stands unquoted.\n",
    "# Still, it is better to quote it (\"$string1\"), because . . ."
   ]
  },
  {
   "cell_type": "code",
   "execution_count": 41,
   "metadata": {
    "collapsed": false
   },
   "outputs": [
    {
     "name": "stdout",
     "output_type": "stream",
     "text": [
      "String \"string1\" is null.\r\n"
     ]
    }
   ],
   "source": [
    "string1=\"a = b\"\n",
    "\n",
    "# Again, $string1 stands unquoted.\n",
    "if [ $string1 ]\n",
    "then\n",
    "    echo \"String \\\"string1\\\" is not null.\"\n",
    "else\n",
    "    echo \"String \\\"string1\\\" is null.\"\n",
    "fi\n",
    "# Not quoting \"$string1\" now gives wrong result!"
   ]
  },
  {
   "cell_type": "markdown",
   "metadata": {},
   "source": [
    "#### 3.compound comparison"
   ]
  },
  {
   "cell_type": "markdown",
   "metadata": {},
   "source": [
    "##### -a\n",
    "    logical and\n",
    "    exp1 -a exp2 returns true if both exp1 and exp2 are true"
   ]
  },
  {
   "cell_type": "markdown",
   "metadata": {},
   "source": [
    "##### -o\n",
    "    logical or\n",
    "    exp1 -o exp2 returns true if either exp1 or exp2 is true."
   ]
  },
  {
   "cell_type": "markdown",
   "metadata": {},
   "source": [
    "The -o and -a operators work with the test command or occur within single test brackets."
   ]
  },
  {
   "cell_type": "code",
   "execution_count": null,
   "metadata": {
    "collapsed": true
   },
   "outputs": [],
   "source": [
    "if [ \"$expr1\" -a \"$expr2\" ]\n",
    "then\n",
    "    echo \"Both expr1 and expr2 are true.\"\n",
    "else\n",
    "    echo \"Either expr1 or expr2 is false.\"\n",
    "fi"
   ]
  },
  {
   "cell_type": "markdown",
   "metadata": {},
   "source": [
    "These are similar to the Bash comparison operators && and ||, used within double brackets. "
   ]
  },
  {
   "cell_type": "code",
   "execution_count": null,
   "metadata": {
    "collapsed": true
   },
   "outputs": [],
   "source": [
    "[[ condition1 && condition2 ]]"
   ]
  },
  {
   "cell_type": "markdown",
   "metadata": {},
   "source": [
    "But, as rihad points out:  \n",
    "###### Apparently && and || \"short-circuit\" while -a and -o do not."
   ]
  },
  {
   "cell_type": "code",
   "execution_count": 43,
   "metadata": {
    "collapsed": false
   },
   "outputs": [
    {
     "name": "stdout",
     "output_type": "stream",
     "text": [
      "true\r\n"
     ]
    }
   ],
   "source": [
    "[ 1 -eq 1 ] && [ -n \"`echo true 1>&2`\" ]"
   ]
  },
  {
   "cell_type": "code",
   "execution_count": 44,
   "metadata": {
    "collapsed": false
   },
   "outputs": [
    {
     "name": "stdout",
     "output_type": "stream",
     "text": []
    }
   ],
   "source": [
    "# (no output)\n",
    "[ 1 -eq 2 ] && [ -n \"`echo true 1>&2`\" ]"
   ]
  },
  {
   "cell_type": "code",
   "execution_count": 45,
   "metadata": {
    "collapsed": false
   },
   "outputs": [
    {
     "name": "stdout",
     "output_type": "stream",
     "text": [
      "true\r\n"
     ]
    }
   ],
   "source": [
    "# However ...\n",
    "[ 1 -eq 2 -a -n \"`echo true 1>&2`\" ]"
   ]
  },
  {
   "cell_type": "code",
   "execution_count": 46,
   "metadata": {
    "collapsed": false
   },
   "outputs": [
    {
     "name": "stdout",
     "output_type": "stream",
     "text": []
    }
   ],
   "source": [
    "# Is it because both condition clauses within brackets evaluate?\n",
    "\n",
    "# (no output)\n",
    "[[ 1 -eq 2 && -n \"`echo true 1>&2`\" ]] "
   ]
  },
  {
   "cell_type": "markdown",
   "metadata": {},
   "source": [
    "### Nested if/then Condition Tests\n",
    "Condition tests using the if/then construct may be nested.   \n",
    "The net result is equivalent to using the && compound comparison operator."
   ]
  },
  {
   "cell_type": "markdown",
   "metadata": {},
   "source": [
    "#### A Simple Example"
   ]
  },
  {
   "cell_type": "code",
   "execution_count": 48,
   "metadata": {
    "collapsed": false
   },
   "outputs": [
    {
     "name": "stdout",
     "output_type": "stream",
     "text": [
      "The value of \"a\" lies somewhere between 0 and 5.\r\n"
     ]
    }
   ],
   "source": [
    "a=3\n",
    "if [ \"$a\" -gt 0 ]\n",
    "then\n",
    "     if [ \"$a\" -lt 5 ]\n",
    "     then\n",
    "         echo \"The value of \\\"a\\\" lies somewhere between 0 and 5.\"\n",
    "     fi\n",
    "fi"
   ]
  },
  {
   "cell_type": "code",
   "execution_count": 49,
   "metadata": {
    "collapsed": false
   },
   "outputs": [
    {
     "name": "stdout",
     "output_type": "stream",
     "text": [
      "The value of \"a\" lies somewhere between 0 and 5.\r\n"
     ]
    }
   ],
   "source": [
    "# Same result as:\n",
    "if [ \"$a\" -gt 0 ] && [ \"$a\" -lt 5 ]\n",
    "then\n",
    "    echo \"The value of \\\"a\\\" lies somewhere between 0 and 5.\"\n",
    "fi"
   ]
  },
  {
   "cell_type": "markdown",
   "metadata": {},
   "source": [
    "### Testing Your Knowledge of Tests\n",
    "The systemwide xinitrc file can be used to launch the X server.   \n",
    "This file contains quite a number of if/then tests."
   ]
  },
  {
   "cell_type": "code",
   "execution_count": 50,
   "metadata": {
    "collapsed": false
   },
   "outputs": [
    {
     "name": "stdout",
     "output_type": "stream",
     "text": [
      "#!/bin/sh\r\n",
      "\r\n",
      "# /etc/X11/xinit/xinitrc\r\n",
      "#\r\n",
      "# global xinitrc file, used by all X sessions started by xinit (startx)\r\n",
      "\r\n",
      "# invoke global X session script\r\n",
      ". /etc/X11/Xsession\r\n"
     ]
    }
   ],
   "source": [
    "cat /etc/X11/xinit/xinitrc"
   ]
  },
  {
   "cell_type": "code",
   "execution_count": 51,
   "metadata": {
    "collapsed": false
   },
   "outputs": [
    {
     "name": "stdout",
     "output_type": "stream",
     "text": [
      "#!/bin/sh\r\n",
      "#\r\n",
      "# /etc/X11/Xsession\r\n",
      "#\r\n",
      "# global Xsession file -- used by display managers and xinit (startx)\r\n",
      "\r\n",
      "# $Id: Xsession 967 2005-12-27 07:20:55Z dnusinow $\r\n",
      "\r\n",
      "set -e\r\n",
      "\r\n",
      "PROGNAME=Xsession\r\n",
      "\r\n",
      "message () {\r\n",
      "  # pretty-print messages of arbitrary length; use xmessage if it\r\n",
      "  # is available and $DISPLAY is set\r\n",
      "  MESSAGE=\"$PROGNAME: $*\"\r\n",
      "  echo \"$MESSAGE\" | fold -s -w ${COLUMNS:-80} >&2\r\n",
      "  if [ -n \"$DISPLAY\" ] && which xmessage > /dev/null 2>&1; then\r\n",
      "    echo \"$MESSAGE\" | fold -s -w ${COLUMNS:-80} | xmessage -center -file -\r\n",
      "  fi\r\n",
      "}\r\n",
      "\r\n",
      "message_nonl () {\r\n",
      "  # pretty-print messages of arbitrary length (no trailing newline); use\r\n",
      "  # xmessage if it is available and $DISPLAY is set\r\n",
      "  MESSAGE=\"$PROGNAME: $*\"\r\n",
      "  echo -n \"$MESSAGE\" | fold -s -w ${COLUMNS:-80} >&2;\r\n",
      "  if [ -n \"$DISPLAY\" ] && which xmessage > /dev/null 2>&1; then\r\n",
      "    echo -n \"$MESSAGE\" | fold -s -w ${COLUMNS:-80} | xmessage -center -file -\r\n",
      "  fi\r\n",
      "}\r\n",
      "\r\n",
      "errormsg () {\r\n",
      "  # exit script with error\r\n",
      "  message \"$*\"\r\n",
      "  exit 1\r\n",
      "}\r\n",
      "\r\n",
      "internal_errormsg () {\r\n",
      "  # exit script with error; essentially a \"THIS SHOULD NEVER HAPPEN\" message\r\n",
      "  # One big call to message() for the sake of xmessage; if we had two then\r\n",
      "  # the user would have dismissed the error we want reported before seeing the\r\n",
      "  # request to report it.\r\n",
      "  errormsg \"$*\" \\\r\n",
      "           \"Please report the installed version of the \\\"x11-common\\\"\" \\\r\n",
      "           \"package and the complete text of this error message to\" \\\r\n",
      "           \"<debian-x@lists.debian.org>.\"\r\n",
      "}\r\n",
      "\r\n",
      "# initialize variables for use by all session scripts\r\n",
      "\r\n",
      "OPTIONFILE=/etc/X11/Xsession.options\r\n",
      "\r\n",
      "SYSRESOURCES=/etc/X11/Xresources\r\n",
      "USRRESOURCES=$HOME/.Xresources\r\n",
      "\r\n",
      "SYSSESSIONDIR=/etc/X11/Xsession.d\r\n",
      "USERXSESSION=$HOME/.xsession\r\n",
      "USERXSESSIONRC=$HOME/.xsessionrc\r\n",
      "ALTUSERXSESSION=$HOME/.Xsession\r\n",
      "ERRFILE=$HOME/.xsession-errors\r\n",
      "\r\n",
      "# attempt to create an error file; abort if we cannot\r\n",
      "if (umask 077 && touch \"$ERRFILE\") 2> /dev/null && [ -w \"$ERRFILE\" ] &&\r\n",
      "  [ ! -L \"$ERRFILE\" ]; then\r\n",
      "  chmod 600 \"$ERRFILE\"\r\n",
      "elif ERRFILE=$(tempfile 2> /dev/null); then\r\n",
      "  if ! ln -sf \"$ERRFILE\" \"${TMPDIR:=/tmp}/xsession-$USER\"; then\r\n",
      "    message \"warning: unable to symlink \\\"$TMPDIR/xsession-$USER\\\" to\" \\\r\n",
      "             \"\\\"$ERRFILE\\\"; look for session log/errors in\" \\\r\n",
      "             \"\\\"$TMPDIR/xsession-$USER\\\".\"\r\n",
      "  fi\r\n",
      "else\r\n",
      "  errormsg \"unable to create X session log/error file; aborting.\"\r\n",
      "fi\r\n",
      "\r\n",
      "# truncate ERRFILE if it is too big to avoid disk usage DoS\r\n",
      "if [ \"`stat -c%s \\\"$ERRFILE\\\"`\" -gt 500000 ]; then\r\n",
      "  T=`mktemp -p \"$HOME\"`\r\n",
      "  tail -c 500000 \"$ERRFILE\" > \"$T\" && mv -f \"$T\" \"$ERRFILE\" || rm -f \"$T\"\r\n",
      "fi\r\n",
      "\r\n",
      "exec >>\"$ERRFILE\" 2>&1\r\n",
      "\r\n",
      "echo \"$PROGNAME: X session started for $LOGNAME at $(date)\"\r\n",
      "\r\n",
      "# sanity check; is our session script directory present?\r\n",
      "if [ ! -d \"$SYSSESSIONDIR\" ]; then\r\n",
      "  errormsg \"no \\\"$SYSSESSIONDIR\\\" directory found; aborting.\"\r\n",
      "fi\r\n",
      "\r\n",
      "# Attempt to create a file of non-zero length in /tmp; a full filesystem can\r\n",
      "# cause mysterious X session failures.  We do not use touch, :, or test -w\r\n",
      "# because they won't actually create a file with contents.  We also let standard\r\n",
      "# error from tempfile and echo go to the error file to aid the user in\r\n",
      "# determining what went wrong.\r\n",
      "WRITE_TEST=$(tempfile)\r\n",
      "if ! echo \"*\" >>\"$WRITE_TEST\"; then\r\n",
      "  message \"warning: unable to write to ${WRITE_TEST%/*}; X session may exit\" \\\r\n",
      "          \"with an error\"\r\n",
      "fi\r\n",
      "rm -f \"$WRITE_TEST\"\r\n",
      "\r\n",
      "# use run-parts to source every file in the session directory; we source\r\n",
      "# instead of executing so that the variables and functions defined above\r\n",
      "# are available to the scripts, and so that they can pass variables to each\r\n",
      "# other\r\n",
      "SESSIONFILES=$(run-parts --list $SYSSESSIONDIR)\r\n",
      "if [ -n \"$SESSIONFILES\" ]; then\r\n",
      "  set +e\r\n",
      "  for SESSIONFILE in $SESSIONFILES; do\r\n",
      "    . $SESSIONFILE\r\n",
      "  done\r\n",
      "  set -e\r\n",
      "fi\r\n",
      "\r\n",
      "exit 0\r\n",
      "\r\n",
      "# vim:set ai et sts=2 sw=2 tw=80:\r\n"
     ]
    }
   ],
   "source": [
    "cat /etc/X11/Xsession"
   ]
  }
 ],
 "metadata": {
  "kernelspec": {
   "display_name": "Bash",
   "language": "bash",
   "name": "bash"
  },
  "language_info": {
   "codemirror_mode": "shell",
   "file_extension": ".sh",
   "mimetype": "text/x-sh",
   "name": "bash"
  }
 },
 "nbformat": 4,
 "nbformat_minor": 0
}
