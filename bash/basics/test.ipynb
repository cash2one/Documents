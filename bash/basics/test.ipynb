{
 "cells": [
  {
   "cell_type": "markdown",
   "metadata": {},
   "source": [
    "## 7. Tests\n",
    "Every reasonably complete programming language can test for a condition, then act according to the result of the test. Bash has the test command, various bracket and parenthesis operators, and the if/then construct."
   ]
  },
  {
   "cell_type": "markdown",
   "metadata": {},
   "source": [
    "### Test Constructs\n",
    "1.An if/then construct tests whether the exit status of a list of commands is 0 (since 0 means \"success\" by UNIX convention), and if so, executes one or more commands.   "
   ]
  },
  {
   "cell_type": "markdown",
   "metadata": {},
   "source": [
    "2.There exists a dedicated command called [ (left bracket special character). It is a synonym for test, and a builtin for efficiency reasons. This command considers its arguments as comparison expressions or file tests and returns an exit status corresponding to the result of the comparison (0 for true, 1 for false). "
   ]
  },
  {
   "cell_type": "markdown",
   "metadata": {},
   "source": [
    "3.With version 2.02, Bash introduced the [[ ... ]] extended test command, which performs comparisons in a manner more familiar to programmers from other languages. Note that [[ is a keyword, not a command.  \n",
    "\n",
    "Bash sees [[ \\$a -lt \\$b ]] as a single element, which returns an exit status."
   ]
  },
  {
   "cell_type": "markdown",
   "metadata": {},
   "source": [
    "4.The (( ... )) and let ... constructs return an exit status, according to whether the arithmetic expressions they evaluate expand to a non-zero value. These arithmetic-expansion constructs may therefore be used to perform arithmetic comparisons."
   ]
  },
  {
   "cell_type": "markdown",
   "metadata": {},
   "source": [
    "##### An if can test any command, not just conditions enclosed within brackets."
   ]
  },
  {
   "cell_type": "markdown",
   "metadata": {},
   "source": [
    "#### Example:"
   ]
  },
  {
   "cell_type": "code",
   "execution_count": 1,
   "metadata": {
    "collapsed": false
   },
   "outputs": [
    {
     "name": "stdout",
     "output_type": "stream",
     "text": [
      "Files a and b differ.\r\n"
     ]
    }
   ],
   "source": [
    "# if COMMAND_WHOSE_EXIT_STATUS_IS_0_UNLESS_ERROR_OCCURRED\n",
    "# then \n",
    "#     echo \"Command succeeded.\"\n",
    "# else \n",
    "#     echo \"Command failed.\"\n",
    "# fi\n",
    "\n",
    "# Suppress output.\n",
    "if cmp a b &> /dev/null\n",
    "then \n",
    "    echo \"Files a and b are identical.\"\n",
    "else \n",
    "    echo \"Files a and b differ.\"\n",
    "fi"
   ]
  },
  {
   "cell_type": "code",
   "execution_count": 4,
   "metadata": {
    "collapsed": false
   },
   "outputs": [
    {
     "name": "stdout",
     "output_type": "stream",
     "text": [
      "file contains at least one occurrence of bash.\r\n"
     ]
    }
   ],
   "source": [
    "# The very useful \"if-grep\" construct:\n",
    "# The \"-q\" option to grep suppresses output.\n",
    "if grep -q bash file\n",
    "then \n",
    "    echo \"file contains at least one occurrence of bash.\"\n",
    "else\n",
    "    echo \"file don't contains occurrence of bash.\"\n",
    "fi"
   ]
  },
  {
   "cell_type": "code",
   "execution_count": 5,
   "metadata": {
    "collapsed": false
   },
   "outputs": [
    {
     "name": "stdout",
     "output_type": "stream",
     "text": [
      "inu found in Linux\r\n"
     ]
    }
   ],
   "source": [
    "word=Linux\n",
    "letter_sequence=inu\n",
    "if echo \"$word\" | grep -q \"$letter_sequence\"\n",
    "then\n",
    "    echo \"$letter_sequence found in $word\"\n",
    "else\n",
    "    echo \"$letter_sequence not found in $word\"\n",
    "fi"
   ]
  },
  {
   "cell_type": "markdown",
   "metadata": {},
   "source": [
    "#### Example 7-1. What is truth?"
   ]
  },
  {
   "cell_type": "code",
   "execution_count": null,
   "metadata": {
    "collapsed": true
   },
   "outputs": [],
   "source": [
    "# if [ condition-true ]\n",
    "# then\n",
    "#    command 1\n",
    "#    command 2\n",
    "#    ...\n",
    "# else\n",
    "#    command 3\n",
    "#    command 4\n",
    "#    ...\n",
    "# fi"
   ]
  },
  {
   "cell_type": "code",
   "execution_count": 6,
   "metadata": {
    "collapsed": false
   },
   "outputs": [
    {
     "name": "stdout",
     "output_type": "stream",
     "text": [
      "0 is true.\r\n"
     ]
    }
   ],
   "source": [
    "# 0 is true.\n",
    "if [ 0 ] # zero\n",
    "then\n",
    "    echo \"0 is true.\"\n",
    "else \n",
    "    echo \"0 is false.\"\n",
    "fi"
   ]
  },
  {
   "cell_type": "code",
   "execution_count": 7,
   "metadata": {
    "collapsed": false
   },
   "outputs": [
    {
     "name": "stdout",
     "output_type": "stream",
     "text": [
      "1 is true.\r\n"
     ]
    }
   ],
   "source": [
    "# 1 is true.\n",
    "if [ 1 ] # one\n",
    "then\n",
    "    echo \"1 is true.\"\n",
    "else\n",
    "    echo \"1 is false.\"\n",
    "fi"
   ]
  },
  {
   "cell_type": "code",
   "execution_count": 8,
   "metadata": {
    "collapsed": false
   },
   "outputs": [
    {
     "name": "stdout",
     "output_type": "stream",
     "text": [
      "-1 is true.\r\n"
     ]
    }
   ],
   "source": [
    "# -1 is true.\n",
    "if [ -1 ]\n",
    "then\n",
    "    echo \"-1 is true.\"\n",
    "else\n",
    "    echo \"-1 is false.\"\n",
    "fi"
   ]
  },
  {
   "cell_type": "code",
   "execution_count": 9,
   "metadata": {
    "collapsed": false
   },
   "outputs": [
    {
     "name": "stdout",
     "output_type": "stream",
     "text": [
      "NULL is false.\r\n"
     ]
    }
   ],
   "source": [
    "# NULL is false.\n",
    "if [ ]\n",
    "then\n",
    "    echo \"NULL is true.\"\n",
    "else\n",
    "    echo \"NULL is false.\"\n",
    "fi"
   ]
  },
  {
   "cell_type": "code",
   "execution_count": 10,
   "metadata": {
    "collapsed": false
   },
   "outputs": [
    {
     "name": "stdout",
     "output_type": "stream",
     "text": [
      "Random string is true.\r\n"
     ]
    }
   ],
   "source": [
    "# Random string is true.\n",
    "if [ xyz ]\n",
    "then\n",
    "    echo \"Random string is true.\"\n",
    "else\n",
    "    echo \"Random string is false.\"\n",
    "fi"
   ]
  },
  {
   "cell_type": "code",
   "execution_count": 11,
   "metadata": {
    "collapsed": false
   },
   "outputs": [
    {
     "name": "stdout",
     "output_type": "stream",
     "text": [
      "Uninitialized variable is false.\r\n"
     ]
    }
   ],
   "source": [
    "# Uninitialized variable is false.\n",
    "\n",
    "# Tests if $xyz is null, but...\n",
    "# it's only an uninitialized variable.\n",
    "if [ $xyz ]\n",
    "then\n",
    "    echo \"Uninitialized variable is true.\"\n",
    "else\n",
    "    echo \"Uninitialized variable is false.\"\n",
    "fi "
   ]
  },
  {
   "cell_type": "code",
   "execution_count": 12,
   "metadata": {
    "collapsed": false
   },
   "outputs": [
    {
     "name": "stdout",
     "output_type": "stream",
     "text": [
      "Uninitialized variable is false.\r\n"
     ]
    }
   ],
   "source": [
    "# Uninitialized variable is false.\n",
    "# More pedantically correct.\n",
    "if [ -n \"$xyz\" ]\n",
    "then\n",
    "    echo \"Uninitialized variable is true.\"\n",
    "else\n",
    "    echo \"Uninitialized variable is false.\"\n",
    "fi"
   ]
  },
  {
   "cell_type": "code",
   "execution_count": 13,
   "metadata": {
    "collapsed": false
   },
   "outputs": [
    {
     "name": "stdout",
     "output_type": "stream",
     "text": [
      "Null variable is false.\r\n"
     ]
    }
   ],
   "source": [
    "# Initialized, but set to null value.\n",
    "xyz=\n",
    "# Null variable is false.\n",
    "if [ -n \"$xyz\" ]\n",
    "then\n",
    "    echo \"Null variable is true.\"\n",
    "else\n",
    "    echo \"Null variable is false.\"\n",
    "fi"
   ]
  },
  {
   "cell_type": "code",
   "execution_count": 14,
   "metadata": {
    "collapsed": false
   },
   "outputs": [
    {
     "name": "stdout",
     "output_type": "stream",
     "text": [
      "\"false\" is true.\r\n"
     ]
    }
   ],
   "source": [
    "# When is \"false\" true?\n",
    "# It seems that \"false\" is just a string\n",
    "# \"false\" is true.\n",
    "if [ \"false\" ]\n",
    "then\n",
    "    echo \"\\\"false\\\" is true.\"\n",
    "else\n",
    "    echo \"\\\"false\\\" is false.\"\n",
    "fi"
   ]
  },
  {
   "cell_type": "code",
   "execution_count": 15,
   "metadata": {
    "collapsed": false
   },
   "outputs": [
    {
     "name": "stdout",
     "output_type": "stream",
     "text": [
      "\"$false\" is false.\r\n"
     ]
    }
   ],
   "source": [
    "# Again, uninitialized variable.\n",
    "# \"$false\" is false.\n",
    "# Now, we get the expected result.\n",
    "if [ \"$false\" ]\n",
    "then\n",
    "    echo \"\\\"\\$false\\\" is true.\"\n",
    "else\n",
    "    echo \"\\\"\\$false\\\" is false.\"\n",
    "fi "
   ]
  },
  {
   "cell_type": "code",
   "execution_count": 16,
   "metadata": {
    "collapsed": false
   },
   "outputs": [
    {
     "name": "stdout",
     "output_type": "stream",
     "text": [
      "\"true\" is true.\r\n"
     ]
    }
   ],
   "source": [
    "# What would happen if we tested the uninitialized variable \"$true\"?\n",
    "if [ \"true\" ]\n",
    "then\n",
    "    echo \"\\\"true\\\" is true.\"\n",
    "else\n",
    "    echo \"\\\"true\\\" is false.\"\n",
    "fi"
   ]
  },
  {
   "cell_type": "code",
   "execution_count": 17,
   "metadata": {
    "collapsed": false
   },
   "outputs": [
    {
     "name": "stdout",
     "output_type": "stream",
     "text": [
      "\"$true\" is false.\r\n"
     ]
    }
   ],
   "source": [
    "if [ \"$true\" ]\n",
    "then\n",
    "    echo \"\\\"\\$true\\\" is true.\"\n",
    "else\n",
    "    echo \"\\\"\\$true\\\" is false.\"\n",
    "fi "
   ]
  },
  {
   "cell_type": "markdown",
   "metadata": {},
   "source": [
    "When if and then are on same line in a condition test, a semicolon must terminate the if statement. Both if and then are keywords. Keywords (or commands) begin statements, and before a new statement on the same line begins, the old one must terminate."
   ]
  },
  {
   "cell_type": "code",
   "execution_count": null,
   "metadata": {
    "collapsed": true
   },
   "outputs": [],
   "source": [
    "if [ -x \"$filename\" ]; then"
   ]
  },
  {
   "cell_type": "markdown",
   "metadata": {},
   "source": [
    "###### Else if and elif\n",
    "elif is a contraction for else if. The effect is to nest an inner if/then construct within an outer one."
   ]
  },
  {
   "cell_type": "code",
   "execution_count": null,
   "metadata": {
    "collapsed": true
   },
   "outputs": [],
   "source": [
    "if [ condition1 ]\n",
    "then\n",
    "    command1\n",
    "    command2\n",
    "    command3\n",
    "elif [ condition2 ]\n",
    "then\n",
    "    command4\n",
    "    command5\n",
    "else\n",
    "    default-command\n",
    "fi"
   ]
  },
  {
   "cell_type": "markdown",
   "metadata": {},
   "source": [
    "The if test condition-true construct is the exact equivalent of if [ condition-true ]. As it happens, the left bracket, [ , is a token which invokes the test command. The closing right bracket, ] , in an if/test should not therefore be strictly necessary, however newer versions of Bash require it."
   ]
  },
  {
   "cell_type": "markdown",
   "metadata": {},
   "source": [
    "The test command is a Bash builtin which tests file types and compares strings. Therefore, in a Bash script, test does not call the external /usr/bin/test binary, which is part of the sh-utils package. Likewise, [ does not call /usr/bin/[, which is linked to /usr/bin/test."
   ]
  },
  {
   "cell_type": "code",
   "execution_count": 18,
   "metadata": {
    "collapsed": false
   },
   "outputs": [
    {
     "name": "stdout",
     "output_type": "stream",
     "text": [
      "test is a shell builtin\r\n"
     ]
    }
   ],
   "source": [
    "type test"
   ]
  },
  {
   "cell_type": "code",
   "execution_count": 19,
   "metadata": {
    "collapsed": false
   },
   "outputs": [
    {
     "name": "stdout",
     "output_type": "stream",
     "text": [
      "[ is a shell builtin\r\n"
     ]
    }
   ],
   "source": [
    "type '['"
   ]
  },
  {
   "cell_type": "code",
   "execution_count": 20,
   "metadata": {
    "collapsed": false
   },
   "outputs": [
    {
     "name": "stdout",
     "output_type": "stream",
     "text": [
      "[[ is a shell keyword\r\n"
     ]
    }
   ],
   "source": [
    "type '[['"
   ]
  },
  {
   "cell_type": "code",
   "execution_count": 21,
   "metadata": {
    "collapsed": false
   },
   "outputs": [
    {
     "name": "stdout",
     "output_type": "stream",
     "text": [
      "]] is a shell keyword\r\n"
     ]
    }
   ],
   "source": [
    "type ']]'"
   ]
  },
  {
   "cell_type": "code",
   "execution_count": 22,
   "metadata": {
    "collapsed": false
   },
   "outputs": [
    {
     "name": "stdout",
     "output_type": "stream",
     "text": [
      "bash: type: ]: not found\r\n"
     ]
    }
   ],
   "source": [
    "type ']'"
   ]
  },
  {
   "cell_type": "markdown",
   "metadata": {},
   "source": [
    "If, for some reason, you wish to use /usr/bin/test in a Bash script, then specify it by full pathname."
   ]
  },
  {
   "cell_type": "markdown",
   "metadata": {},
   "source": [
    "#### Example 7-2. Equivalence of test, /usr/bin/test, [ ], and /usr/bin/["
   ]
  },
  {
   "cell_type": "code",
   "execution_count": null,
   "metadata": {
    "collapsed": true
   },
   "outputs": [],
   "source": []
  }
 ],
 "metadata": {
  "kernelspec": {
   "display_name": "Bash",
   "language": "bash",
   "name": "bash"
  },
  "language_info": {
   "codemirror_mode": "shell",
   "file_extension": ".sh",
   "mimetype": "text/x-sh",
   "name": "bash"
  }
 },
 "nbformat": 4,
 "nbformat_minor": 0
}
