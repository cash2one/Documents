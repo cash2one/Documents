{
 "cells": [
  {
   "cell_type": "markdown",
   "metadata": {},
   "source": [
    "## 24. Functions"
   ]
  },
  {
   "cell_type": "markdown",
   "metadata": {},
   "source": [
    "Like \"real\" programming languages, Bash has functions, though in a somewhat limited implementation. A function is a subroutine, a code block that implements a set of operations, a \"black box\" that performs a specified task. Wherever there is repetitive code, when a task repeats with only slight variations in procedure, then consider using a function."
   ]
  },
  {
   "cell_type": "raw",
   "metadata": {},
   "source": [
    "function function_name {\n",
    "command...\n",
    "}"
   ]
  },
  {
   "cell_type": "markdown",
   "metadata": {},
   "source": [
    "or"
   ]
  },
  {
   "cell_type": "raw",
   "metadata": {},
   "source": [
    "function_name () {\n",
    "command...\n",
    "}"
   ]
  },
  {
   "cell_type": "markdown",
   "metadata": {},
   "source": [
    "This second form will cheer the hearts of C programmers (and is more portable).  \n",
    "As in C, the function's opening bracket may optionally appear on the second line."
   ]
  },
  {
   "cell_type": "raw",
   "metadata": {},
   "source": [
    "function_name ()\n",
    "{\n",
    "command...\n",
    "}"
   ]
  },
  {
   "cell_type": "markdown",
   "metadata": {},
   "source": [
    "A function may be \"compacted\" into a single line."
   ]
  },
  {
   "cell_type": "code",
   "execution_count": null,
   "metadata": {
    "collapsed": true
   },
   "outputs": [],
   "source": [
    "fun () { echo \"This is a function\"; echo; }"
   ]
  },
  {
   "cell_type": "markdown",
   "metadata": {},
   "source": [
    "In this case, however, a semicolon must follow the final command in the function."
   ]
  },
  {
   "cell_type": "code",
   "execution_count": null,
   "metadata": {
    "collapsed": true
   },
   "outputs": [],
   "source": [
    "fun () { echo \"This is a function\"; echo } # Error!\n",
    "fun2 () { echo \"Even a single-command function? Yes!\"; } # Right!"
   ]
  },
  {
   "cell_type": "markdown",
   "metadata": {},
   "source": [
    "Functions are called, triggered, simply by invoking their names.   \n",
    "A function call is equivalent to a command."
   ]
  },
  {
   "cell_type": "markdown",
   "metadata": {},
   "source": [
    "#### Example 24-1. Simple functions"
   ]
  },
  {
   "cell_type": "code",
   "execution_count": 2,
   "metadata": {
    "collapsed": false
   },
   "outputs": [
    {
     "name": "stdout",
     "output_type": "stream",
     "text": [
      "#!/bin/bash\r\n",
      "# ex59.sh: Exercising functions (simple).\r\n",
      "\r\n",
      "JUST_A_SECOND=1\r\n",
      "\r\n",
      "funky ()\r\n",
      "{ # This is about as simple as functions get.\r\n",
      "  echo \"This is a funky function.\"\r\n",
      "  echo \"Now exiting funky function.\"\r\n",
      "} # Function declaration must precede call.\r\n",
      "\r\n",
      "fun ()\r\n",
      "{ # A somewhat more complex function.\r\n",
      "  i=0\r\n",
      "  REPEATS=5\r\n",
      "  echo\r\n",
      "  echo \"And now the fun really begins.\"\r\n",
      "  echo\r\n",
      "  sleep $JUST_A_SECOND   # Hey, wait a second!\r\n",
      "  while [ $i -lt $REPEATS ]\r\n",
      "  do\r\n",
      "    echo \"----------FUNCTIONS---------->\"\r\n",
      "    echo \"<------------ARE-------------\"\r\n",
      "    echo \"<------------FUN------------>\"\r\n",
      "    echo\r\n",
      "    let \"i+=1\"\r\n",
      "  done\r\n",
      "}\r\n",
      "\r\n",
      "# Now, call the functions.\r\n",
      "funky\r\n",
      "fun\r\n",
      "\r\n",
      "exit $?\r\n"
     ]
    }
   ],
   "source": [
    "cat ex59.sh"
   ]
  },
  {
   "cell_type": "code",
   "execution_count": 3,
   "metadata": {
    "collapsed": false
   },
   "outputs": [
    {
     "name": "stdout",
     "output_type": "stream",
     "text": [
      "This is a funky function.\r\n",
      "Now exiting funky function.\r\n",
      "\r\n",
      "And now the fun really begins.\r\n",
      "\r\n",
      "----------FUNCTIONS---------->\r\n",
      "<------------ARE-------------\r\n",
      "<------------FUN------------>\r\n",
      "\r\n",
      "----------FUNCTIONS---------->\r\n",
      "<------------ARE-------------\r\n",
      "<------------FUN------------>\r\n",
      "\r\n",
      "----------FUNCTIONS---------->\r\n",
      "<------------ARE-------------\r\n",
      "<------------FUN------------>\r\n",
      "\r\n",
      "----------FUNCTIONS---------->\r\n",
      "<------------ARE-------------\r\n",
      "<------------FUN------------>\r\n",
      "\r\n",
      "----------FUNCTIONS---------->\r\n",
      "<------------ARE-------------\r\n",
      "<------------FUN------------>\r\n",
      "\r\n"
     ]
    }
   ],
   "source": [
    "bash ex59.sh"
   ]
  },
  {
   "cell_type": "markdown",
   "metadata": {},
   "source": [
    "The function definition must precede the first call to it.   \n",
    "There is no method of \"declaring\" the function, as, for example, in C."
   ]
  },
  {
   "cell_type": "code",
   "execution_count": 4,
   "metadata": {
    "collapsed": false
   },
   "outputs": [
    {
     "name": "stdout",
     "output_type": "stream",
     "text": [
      "f1: command not found\r\n"
     ]
    }
   ],
   "source": [
    "# Will give an error message, since function \"f1\" not yet defined.\n",
    "f1"
   ]
  },
  {
   "cell_type": "code",
   "execution_count": 5,
   "metadata": {
    "collapsed": false
   },
   "outputs": [
    {
     "name": "stdout",
     "output_type": "stream",
     "text": [
      "f1: command not found\r\n"
     ]
    }
   ],
   "source": [
    "# This doesn't help either.\n",
    "# Still an error message.\n",
    "declare -f f1\n",
    "f1"
   ]
  },
  {
   "cell_type": "code",
   "execution_count": 6,
   "metadata": {
    "collapsed": false
   },
   "outputs": [
    {
     "name": "stdout",
     "output_type": "stream",
     "text": [
      "Calling function \"f2\" from within function \"f1\".\r\n",
      "Function \"f2\".\r\n"
     ]
    }
   ],
   "source": [
    "# However...\n",
    "f1 ()\n",
    "{\n",
    "  echo \"Calling function \\\"f2\\\" from within function \\\"f1\\\".\"\n",
    "  f2\n",
    "}\n",
    "\n",
    "f2 ()\n",
    "{\n",
    "  echo \"Function \\\"f2\\\".\"\n",
    "}\n",
    "#  Function \"f2\" is not actually called until this point,\n",
    "#+ although it is referenced before its definition.\n",
    "#  This is permissible.\n",
    "f1"
   ]
  },
  {
   "cell_type": "markdown",
   "metadata": {},
   "source": [
    "Functions may not be empty!"
   ]
  },
  {
   "cell_type": "code",
   "execution_count": 7,
   "metadata": {
    "collapsed": false
   },
   "outputs": [
    {
     "name": "stdout",
     "output_type": "stream",
     "text": [
      "#!/bin/bash\r\n",
      "# empty-function.sh\r\n",
      "\r\n",
      "empty ()\r\n",
      "{\r\n",
      "}\r\n",
      "\r\n",
      "exit 0   # Will not exit here!\r\n"
     ]
    }
   ],
   "source": [
    "cat empty-function.sh"
   ]
  },
  {
   "cell_type": "code",
   "execution_count": 10,
   "metadata": {
    "collapsed": false
   },
   "outputs": [
    {
     "name": "stdout",
     "output_type": "stream",
     "text": [
      "empty-function.sh: 6: empty-function.sh: Syntax error: \"}\" unexpected\r\n",
      "2\r\n"
     ]
    }
   ],
   "source": [
    "sh empty-function.sh;echo $?"
   ]
  },
  {
   "cell_type": "code",
   "execution_count": 11,
   "metadata": {
    "collapsed": false
   },
   "outputs": [
    {
     "name": "stdout",
     "output_type": "stream",
     "text": [
      "bash: syntax error near unexpected token `}'\r\n",
      "No command 'func' found, did you mean:\r\n",
      " Command 'pfunc' from package 'libmodule-info-perl' (universe)\r\n",
      "func: command not found\r\n"
     ]
    }
   ],
   "source": [
    "# Note that a function containing only comments is empty.\n",
    "# Results in same error message as above.\n",
    "func ()\n",
    "{\n",
    "  # Comment 1.\n",
    "  # Comment 2.\n",
    "  # This is still an empty function.\n",
    "  # Thank you, Mark Bova, for pointing this out.\n",
    "}\n",
    "\n",
    "func"
   ]
  },
  {
   "cell_type": "code",
   "execution_count": null,
   "metadata": {
    "collapsed": true
   },
   "outputs": [],
   "source": [
    "# However ...\n",
    "\n",
    "not_quite_empty ()\n",
    "{\n",
    "  illegal_command\n",
    "}   #  A script containing this function will *not* bomb\n",
    "    #+ as long as the function is not called.\n",
    "    \n",
    "not_empty ()\n",
    "{\n",
    "  :\n",
    "}   # Contains a : (null command), and this is okay."
   ]
  },
  {
   "cell_type": "markdown",
   "metadata": {},
   "source": [
    "It is even possible to nest a function within another function, although this is not very useful."
   ]
  },
  {
   "cell_type": "code",
   "execution_count": 17,
   "metadata": {
    "collapsed": false
   },
   "outputs": [
    {
     "name": "stdout",
     "output_type": "stream",
     "text": [
      "#!/bin/bash\r\n",
      "\r\n",
      "f1 ()\r\n",
      "{\r\n",
      "  f2 () # nested\r\n",
      "  {\r\n",
      "   \techo \"Function \\\"f2\\\", inside \\\"f1\\\".\"\r\n",
      "  }\r\n",
      "}\r\n",
      "f2  # Gives an error message.\r\n",
      "    # Even a preceding \"declare -f f2\" wouldn't help.\r\n",
      "\r\n",
      "echo\r\n",
      "\r\n",
      "# Does nothing, since calling \"f1\" does not automatically call \"f2\".\r\n",
      "f1 \r\n",
      "#  Now, it's all right to call \"f2\",\r\n",
      "#+ since its definition has been made visible by calling \"f1\".\r\n",
      "f2 \r\n",
      "\r\n"
     ]
    }
   ],
   "source": [
    "cat nested-function.sh"
   ]
  },
  {
   "cell_type": "code",
   "execution_count": 18,
   "metadata": {
    "collapsed": false
   },
   "outputs": [
    {
     "name": "stdout",
     "output_type": "stream",
     "text": [
      "nested-function.sh: 10: nested-function.sh: f2: not found\r\n",
      "\r\n",
      "Function \"f2\", inside \"f1\".\r\n"
     ]
    }
   ],
   "source": [
    "sh nested-function.sh"
   ]
  },
  {
   "cell_type": "markdown",
   "metadata": {},
   "source": [
    "Function declarations can appear in unlikely places,   \n",
    "even where a command would otherwise go."
   ]
  },
  {
   "cell_type": "code",
   "execution_count": null,
   "metadata": {
    "collapsed": false
   },
   "outputs": [],
   "source": [
    "# Permissible, but useless.\n",
    "ls -l | foo() { echo \"foo\"; }"
   ]
  },
  {
   "cell_type": "code",
   "execution_count": 22,
   "metadata": {
    "collapsed": false
   },
   "outputs": [
    {
     "name": "stdout",
     "output_type": "stream",
     "text": [
      "Hello, liheyi.\r\n"
     ]
    }
   ],
   "source": [
    "if [ \"$USER\" = liheyi ]\n",
    "then\n",
    "  liheyi_greet () # Function definition embedded in an if/then construct.\n",
    "  {\n",
    "    echo \"Hello, liheyi.\"\n",
    "  }\n",
    "fi\n",
    "\n",
    "# Works only for liheyi, and other users get an error.\n",
    "liheyi_greet"
   ]
  },
  {
   "cell_type": "code",
   "execution_count": 23,
   "metadata": {
    "collapsed": false
   },
   "outputs": [
    {
     "name": "stdout",
     "output_type": "stream",
     "text": []
    }
   ],
   "source": [
    "# Something like this might be useful in some contexts.\n",
    "NO_EXIT=1      # Will enable function definition below.\n",
    "\n",
    "[[ $NO_EXIT -eq 1 ]] && exit() { true; }   # Function definition in an \"and-list\".\n",
    "# If $NO_EXIT is 1, declares \"exit ()\".\n",
    "# This disables the \"exit\" builtin by aliasing it to \"true\".\n",
    "\n",
    "exit           # Invokes \"exit ()\" function, not \"exit\" builtin."
   ]
  },
  {
   "cell_type": "code",
   "execution_count": 24,
   "metadata": {
    "collapsed": false
   },
   "outputs": [
    {
     "name": "stdout",
     "output_type": "stream",
     "text": [
      "File file1 not found.\r\n"
     ]
    }
   ],
   "source": [
    "# Or, similarly:\n",
    "filename=file1\n",
    "[ -f \"$filename\" ] &&\n",
    "foo () { rm -f \"$filename\"; echo \"File \"$filename\" deleted.\"; } ||\n",
    "foo () { echo \"File \"$filename\" not found.\"; touch bar; }\n",
    "foo"
   ]
  },
  {
   "cell_type": "markdown",
   "metadata": {},
   "source": [
    "Function names can take strange forms."
   ]
  },
  {
   "cell_type": "code",
   "execution_count": 25,
   "metadata": {
    "collapsed": false
   },
   "outputs": [
    {
     "name": "stdout",
     "output_type": "stream",
     "text": [
      "__________\r\n"
     ]
    }
   ],
   "source": [
    "   _(){ for i in {1..10}; do echo -n \"$FUNCNAME\"; done; echo; }\n",
    "# ^^^            No space between function name and parentheses.\n",
    "#                This doesn't always work. Why not?\n",
    "\n",
    "# Now, let's invoke the function.\n",
    "_          # __________\n",
    "#           ^^^^^^^^^^  10 underscores (10 x function name)!\n",
    "# A \"naked\" underscore is an acceptable function name."
   ]
  },
  {
   "cell_type": "code",
   "execution_count": 26,
   "metadata": {
    "collapsed": false
   },
   "outputs": [
    {
     "name": "stdout",
     "output_type": "stream",
     "text": [
      ":\r\n"
     ]
    }
   ],
   "source": [
    "# In fact, a colon is likewise an acceptable function name.\n",
    ":(){ echo \":\"; }; :\n",
    "# Of what use is this?\n",
    "# It's a devious way to obfuscate the code in a script."
   ]
  },
  {
   "cell_type": "markdown",
   "metadata": {},
   "source": [
    "What happens when different versions of the same function appear in a script?"
   ]
  },
  {
   "cell_type": "code",
   "execution_count": 27,
   "metadata": {
    "collapsed": false
   },
   "outputs": [
    {
     "name": "stdout",
     "output_type": "stream",
     "text": [
      "#!/bin/bash\r\n",
      "# As Yan Chen points out,\r\n",
      "# when a function is defined multiple times,\r\n",
      "# the final version is what is invoked.\r\n",
      "# This is not, however, particularly useful.\r\n",
      "\r\n",
      "func ()\r\n",
      "{\r\n",
      "\techo \"First version of func ().\"\r\n",
      "}\r\n",
      "\r\n",
      "func ()\r\n",
      "{\r\n",
      "\techo \"Second version of func ().\"\r\n",
      "}\r\n",
      "\r\n",
      "func  # Second version of func ().\r\n",
      "\r\n",
      "exit $?\r\n",
      "\r\n",
      "#  It is even possible to use functions to override\r\n",
      "#+ or preempt system commands.\r\n",
      "#  Of course, this is *not* advisable.\r\n"
     ]
    }
   ],
   "source": [
    "cat different_version.sh"
   ]
  },
  {
   "cell_type": "code",
   "execution_count": 28,
   "metadata": {
    "collapsed": false
   },
   "outputs": [
    {
     "name": "stdout",
     "output_type": "stream",
     "text": [
      "Second version of func ().\r\n"
     ]
    }
   ],
   "source": [
    "bash different_version.sh"
   ]
  },
  {
   "cell_type": "markdown",
   "metadata": {},
   "source": [
    "### Complex Functions and Function Complexities"
   ]
  },
  {
   "cell_type": "markdown",
   "metadata": {},
   "source": [
    "Functions may process arguments passed to them and return an exit status to the script for further processing."
   ]
  },
  {
   "cell_type": "raw",
   "metadata": {},
   "source": [
    "function_name $arg1 $arg2"
   ]
  },
  {
   "cell_type": "markdown",
   "metadata": {},
   "source": [
    "The function refers to the passed arguments by position  \n",
    "(as if they were positional parameters), that is, \\$1,\\$2, and so forth."
   ]
  },
  {
   "cell_type": "markdown",
   "metadata": {},
   "source": [
    "#### Example 24-2. Function Taking Parameters"
   ]
  },
  {
   "cell_type": "code",
   "execution_count": 29,
   "metadata": {
    "collapsed": false
   },
   "outputs": [
    {
     "name": "stdout",
     "output_type": "stream",
     "text": [
      "#!/bin/bash\r\n",
      "# Functions and parameters\r\n",
      "\r\n",
      "DEFAULT=default    # Default param value.\r\n",
      "\r\n",
      "func2 () {\r\n",
      "  if [ -z \"$1\" ] # Is parameter #1 zero length?\r\n",
      "  then\r\n",
      "    echo \"-Parameter #1 is zero length.-\" # Or no parameter passed.\r\n",
      "  else\r\n",
      "    echo \"-Parameter #1 is \\\"$1\\\".-\"\r\n",
      "  fi\r\n",
      "\r\n",
      "  variable=${1-$DEFAULT}         #  What does\r\n",
      "  echo \"variable = $variable\"    #+ parameter substitution show?\r\n",
      "                                 # ---------------------------\r\n",
      "                                 # It distinguishes between\r\n",
      "  if [ \"$2\" ]\r\n",
      "  then\r\n",
      "    echo \"-Parameter #2 is \\\"$2\\\".-\"\r\n",
      "  fi\r\n",
      "\r\n",
      "  return 0\r\n",
      "}\r\n",
      "\r\n",
      "echo\r\n",
      "\r\n",
      "echo \"Nothing passed.\"\r\n",
      "func2                        # Called with no params\r\n",
      "echo\r\n",
      "\r\n",
      "echo \"Zero-length parameter passed.\"\r\n",
      "func2 \"\"                     # Called with zero-length param\r\n",
      "echo\r\n",
      "\r\n",
      "echo \"Null parameter passed.\"\r\n",
      "func2 \"$uninitialized_param\" # Called with uninitialized param\r\n",
      "echo\r\n",
      "\r\n",
      "echo \"One parameter passed.\"\r\n",
      "func2 first                  # Called with one param\r\n",
      "echo\r\n",
      "\r\n",
      "echo \"Two parameters passed.\"\r\n",
      "func2 first second           # Called with two params\r\n",
      "echo\r\n",
      "\r\n",
      "echo \"\\\"\\\" \\\"second\\\" passed.\"\r\n",
      "func2 \"\" second              # Called with zero-length first parameter\r\n",
      "echo                         # and ASCII string as a second one.\r\n",
      "\r\n",
      "exit 0\r\n"
     ]
    }
   ],
   "source": [
    "cat fun_take_para.sh"
   ]
  },
  {
   "cell_type": "code",
   "execution_count": 30,
   "metadata": {
    "collapsed": false
   },
   "outputs": [
    {
     "name": "stdout",
     "output_type": "stream",
     "text": [
      "\r\n",
      "Nothing passed.\r\n",
      "-Parameter #1 is zero length.-\r\n",
      "variable = default\r\n",
      "\r\n",
      "Zero-length parameter passed.\r\n",
      "-Parameter #1 is zero length.-\r\n",
      "variable = \r\n",
      "\r\n",
      "Null parameter passed.\r\n",
      "-Parameter #1 is zero length.-\r\n",
      "variable = \r\n",
      "\r\n",
      "One parameter passed.\r\n",
      "-Parameter #1 is \"first\".-\r\n",
      "variable = first\r\n",
      "\r\n",
      "Two parameters passed.\r\n",
      "-Parameter #1 is \"first\".-\r\n",
      "variable = first\r\n",
      "-Parameter #2 is \"second\".-\r\n",
      "\r\n",
      "\"\" \"second\" passed.\r\n",
      "-Parameter #1 is zero length.-\r\n",
      "variable = \r\n",
      "-Parameter #2 is \"second\".-\r\n",
      "\r\n"
     ]
    }
   ],
   "source": [
    "bash fun_take_para.sh"
   ]
  },
  {
   "cell_type": "markdown",
   "metadata": {},
   "source": [
    "The shift command works on arguments passed to functions (see Example 36-18).  \n",
    "But, what about command-line arguments passed to the script?   \n",
    "Does a function see them? Well, let's clear up the confusion."
   ]
  },
  {
   "cell_type": "markdown",
   "metadata": {},
   "source": [
    "#### Example 24-3. Functions and command-line args passed to the script"
   ]
  },
  {
   "cell_type": "code",
   "execution_count": 31,
   "metadata": {
    "collapsed": false
   },
   "outputs": [
    {
     "name": "stdout",
     "output_type": "stream",
     "text": [
      "#!/bin/bash\r\n",
      "# func-cmdlinearg.sh\r\n",
      "#  Call this script with a command-line argument,\r\n",
      "#+ something like $0 arg1.\r\n",
      "\r\n",
      "func ()\r\n",
      "{\r\n",
      "  echo \"$1\" # Echoes first arg passed to the function.\r\n",
      "} # Does a command-line arg qualify?\r\n",
      "\r\n",
      "echo \"First call to function: no arg passed.\"\r\n",
      "echo \"See if command-line arg is seen.\"\r\n",
      "func\r\n",
      "# No! Command-line arg not seen.\r\n",
      "\r\n",
      "echo \"============================================================\"\r\n",
      "echo\r\n",
      "echo \"Second call to function: command-line arg passed explicitly.\"\r\n",
      "func $1\r\n",
      "# Now it's seen!\r\n",
      "\r\n",
      "exit 0\r\n"
     ]
    }
   ],
   "source": [
    "cat func-cmdlinearg.sh"
   ]
  },
  {
   "cell_type": "code",
   "execution_count": 33,
   "metadata": {
    "collapsed": false
   },
   "outputs": [
    {
     "name": "stdout",
     "output_type": "stream",
     "text": [
      "First call to function: no arg passed.\r\n",
      "See if command-line arg is seen.\r\n",
      "\r\n",
      "============================================================\r\n",
      "\r\n",
      "Second call to function: command-line arg passed explicitly.\r\n",
      "liheyi\r\n"
     ]
    }
   ],
   "source": [
    "bash func-cmdlinearg.sh liheyi"
   ]
  },
  {
   "cell_type": "markdown",
   "metadata": {},
   "source": [
    "In contrast to certain other programming languages, shell scripts normally pass only value parameters to functions. Variable names (which are actually pointers), if passed as parameters to functions, will be treated as string literals. Functions interpret their arguments literally.\n",
    "\n",
    "Indirect variable references (see Example 37-2) provide a clumsy sort of mechanism for passing variable pointers to functions."
   ]
  },
  {
   "cell_type": "markdown",
   "metadata": {},
   "source": [
    "#### Example 24-4. Passing an indirect reference to a function"
   ]
  },
  {
   "cell_type": "code",
   "execution_count": 34,
   "metadata": {
    "collapsed": false
   },
   "outputs": [
    {
     "name": "stdout",
     "output_type": "stream",
     "text": [
      "#!/bin/bash\r\n",
      "# ind-func.sh: Passing an indirect reference to a function.\r\n",
      "\r\n",
      "echo_var ()\r\n",
      "{\r\n",
      "  echo \"$1\"\r\n",
      "}\r\n",
      "\r\n",
      "message=Hello\r\n",
      "Hello=Goodbye\r\n",
      "\r\n",
      "echo_var \"$message\"       # Hello\r\n",
      "# Now, let's pass an indirect reference to the function.\r\n",
      "echo_var \"${!message}\"    # Goodbye\r\n",
      "\r\n",
      "echo \"-------------\"\r\n",
      "\r\n",
      "# What happens if we change the contents of \"hello\" variable?\r\n",
      "Hello=\"Hello, again!\"\r\n",
      "echo_var \"$message\"       # Hello\r\n",
      "echo_var \"${!message}\"    # Hello, again!\r\n",
      "\r\n",
      "exit 0\r\n"
     ]
    }
   ],
   "source": [
    "cat ind-func.sh"
   ]
  },
  {
   "cell_type": "code",
   "execution_count": 35,
   "metadata": {
    "collapsed": false
   },
   "outputs": [
    {
     "name": "stdout",
     "output_type": "stream",
     "text": [
      "Hello\r\n",
      "Goodbye\r\n",
      "-------------\r\n",
      "Hello\r\n",
      "Hello, again!\r\n"
     ]
    }
   ],
   "source": [
    "bash ind-func.sh"
   ]
  },
  {
   "cell_type": "markdown",
   "metadata": {},
   "source": [
    "The next logical question is whether parameters can be dereferenced after being passed to a function."
   ]
  },
  {
   "cell_type": "markdown",
   "metadata": {},
   "source": [
    "#### Example 24-5. Dereferencing a parameter passed to a function"
   ]
  },
  {
   "cell_type": "code",
   "execution_count": 36,
   "metadata": {
    "collapsed": false
   },
   "outputs": [
    {
     "name": "stdout",
     "output_type": "stream",
     "text": [
      "#!/bin/bash\r\n",
      "# dereference.sh\r\n",
      "# Dereferencing parameter passed to a function.\r\n",
      "\r\n",
      "dereference ()\r\n",
      "{\r\n",
      "  y=\\$\"$1\"     # Name of variable (not value!).\r\n",
      "  echo $y      # $Junk\r\n",
      "  x=`eval \"expr \\\"$y\\\" \"`\r\n",
      "  echo $1=$x\r\n",
      "  eval \"$1=\\\"Some Different Text \\\"\" # Assign new value.\r\n",
      "}\r\n",
      "\r\n",
      "Junk=\"Some Text\"\r\n",
      "echo $Junk \"before\"   # Some Text before\r\n",
      "\r\n",
      "dereference Junk\r\n",
      "echo $Junk \"after\"    # Some Different Text after\r\n",
      "\r\n",
      "exit 0\r\n"
     ]
    }
   ],
   "source": [
    "cat dereference.sh"
   ]
  },
  {
   "cell_type": "code",
   "execution_count": 37,
   "metadata": {
    "collapsed": false
   },
   "outputs": [
    {
     "name": "stdout",
     "output_type": "stream",
     "text": [
      "Some Text before\r\n",
      "$Junk\r\n",
      "Junk=Some Text\r\n",
      "Some Different Text after\r\n"
     ]
    }
   ],
   "source": [
    "bash dereference.sh"
   ]
  },
  {
   "cell_type": "markdown",
   "metadata": {},
   "source": [
    "#### Example 24-6. Again, dereferencing a parameter passed to a function"
   ]
  },
  {
   "cell_type": "code",
   "execution_count": 38,
   "metadata": {
    "collapsed": false
   },
   "outputs": [
    {
     "name": "stdout",
     "output_type": "stream",
     "text": [
      "#!/bin/bash\r\n",
      "# ref-params.sh: Dereferencing a parameter passed to a function.\r\n",
      "#                (Complex Example)\r\n",
      "\r\n",
      "ITERATIONS=3     # How many times to get input.\r\n",
      "icount=1\r\n",
      "\r\n",
      "my_read () {\r\n",
      "  #  Called with my_read varname,\r\n",
      "  #+ outputs the previous value between brackets as the default value,\r\n",
      "  #+ then asks for a new value.\r\n",
      "\r\n",
      "  local local_var\r\n",
      "\r\n",
      "  echo -n \"Enter a value \"\r\n",
      "  eval 'echo -n \"[$'$1'] \"'    #  Previous value.\r\n",
      "  # eval echo -n \"[\\$$1] \"     #  Easier to understand,\r\n",
      "                               #+ but loses trailing space in user prompt.\r\n",
      "\r\n",
      "  read local_var\r\n",
      "  [ -n \"$local_var\" ] && eval $1=\\$local_var\r\n",
      "\r\n",
      "  # \"And-list\": if \"local_var\" then set \"$1\" to its value.\r\n",
      "}\r\n",
      "\r\n",
      "echo\r\n",
      "\r\n",
      "while [ \"$icount\" -le \"$ITERATIONS\" ]\r\n",
      "do\r\n",
      "  my_read var\r\n",
      "  echo \"Entry #$icount = $var\"\r\n",
      "  let \"icount += 1\"\r\n",
      "  echo\r\n",
      "done\r\n",
      "\r\n",
      "# Thanks to Stephane Chazelas for providing this instructive example.\r\n",
      "exit 0\r\n"
     ]
    }
   ],
   "source": [
    "cat ref-params.sh"
   ]
  },
  {
   "cell_type": "raw",
   "metadata": {},
   "source": [
    "Running Instance:\n",
    "\n",
    "liheyi@analysis:~/jupyter/bash/basics$ bash ref-params.sh\n",
    "\n",
    "Enter a value [] libin\n",
    "Entry #1 = libin\n",
    "\n",
    "Enter a value [libin] liheyi\n",
    "Entry #2 = liheyi\n",
    "\n",
    "Enter a value [liheyi] liheyuan\n",
    "Entry #3 = liheyuan\n",
    "\n",
    "liheyi@analysis:~/jupyter/bash/basics$"
   ]
  },
  {
   "cell_type": "markdown",
   "metadata": {},
   "source": [
    "#### Exit and Return"
   ]
  },
  {
   "cell_type": "markdown",
   "metadata": {},
   "source": [
    "##### exit status"
   ]
  },
  {
   "cell_type": "raw",
   "metadata": {},
   "source": [
    "Functions return a value, called an exit status. \n",
    "This is analogous to the exit status returned by a command. \n",
    "\n",
    "The exit status may be explicitly specified by a return statement, \n",
    "otherwise it is the exit status of the last command in the function \n",
    "(0 if successful, and a non-zero error code if not). \n",
    "\n",
    "This exit status may be used in the script by referencing it as $?. \n",
    "This mechanism effectively permits script functions to have a \"return value\" similar to C functions."
   ]
  },
  {
   "cell_type": "markdown",
   "metadata": {},
   "source": [
    "##### return"
   ]
  },
  {
   "cell_type": "raw",
   "metadata": {},
   "source": [
    "Terminates a function. \n",
    "\n",
    "A return command optionally takes an integer argument, \n",
    "which is returned to the calling script as the \"exit status\" of the function, \n",
    "and this exit status is assigned to the variable $?."
   ]
  },
  {
   "cell_type": "markdown",
   "metadata": {},
   "source": [
    "#### Example 24-7. Maximum of two numbers"
   ]
  },
  {
   "cell_type": "code",
   "execution_count": 39,
   "metadata": {
    "collapsed": false
   },
   "outputs": [
    {
     "name": "stdout",
     "output_type": "stream",
     "text": [
      "#!/bin/bash\r\n",
      "# max.sh: Maximum of two integers.\r\n",
      "\r\n",
      "E_PARAM_ERR=250   # If less than 2 params passed to function.\r\n",
      "EQUAL=251         # Return value if both params equal.\r\n",
      "#  Error values out of range of any\r\n",
      "#+ params that might be fed to the function.\r\n",
      "\r\n",
      "max2 ()           # Returns larger of two numbers.\r\n",
      "{                 # Note: numbers compared must be less than 250.\r\n",
      "  if [ -z \"$2\" ]\r\n",
      "  then\r\n",
      "    return $E_PARAM_ERR\r\n",
      "  fi\r\n",
      "\r\n",
      "  if [ \"$1\" -eq \"$2\" ]\r\n",
      "  then\r\n",
      "    return $EQUAL\r\n",
      "  else\r\n",
      "    if [ \"$1\" -gt \"$2\" ]\r\n",
      "    then\r\n",
      "      return $1\r\n",
      "  \telse\r\n",
      "      return $2\r\n",
      "  \tfi\r\n",
      "  fi\r\n",
      "}\r\n",
      "\r\n",
      "max2 33 34\r\n",
      "return_val=$?\r\n",
      "\r\n",
      "if [ \"$return_val\" -eq $E_PARAM_ERR ]\r\n",
      "then\r\n",
      "  echo \"Need to pass two parameters to the function.\"\r\n",
      "elif [ \"$return_val\" -eq $EQUAL ]\r\n",
      "  then\r\n",
      "    echo \"The two numbers are equal.\"\r\n",
      "  else\r\n",
      "    echo \"The larger of the two numbers is $return_val.\"\r\n",
      "fi\r\n",
      "\r\n",
      "exit 0\r\n"
     ]
    }
   ],
   "source": [
    "cat max.sh"
   ]
  },
  {
   "cell_type": "code",
   "execution_count": 40,
   "metadata": {
    "collapsed": false
   },
   "outputs": [
    {
     "name": "stdout",
     "output_type": "stream",
     "text": [
      "The larger of the two numbers is 34.\r\n"
     ]
    }
   ],
   "source": [
    "bash max.sh"
   ]
  },
  {
   "cell_type": "markdown",
   "metadata": {},
   "source": [
    "For a function to return a string or array, use a dedicated variable."
   ]
  },
  {
   "cell_type": "code",
   "execution_count": 41,
   "metadata": {
    "collapsed": false
   },
   "outputs": [
    {
     "name": "stdout",
     "output_type": "stream",
     "text": [
      "There are 38 lines in /etc/passwd.\r\n"
     ]
    }
   ],
   "source": [
    "count_lines_in_etc_passwd()\n",
    "{\n",
    "  [[ -r /etc/passwd ]] && REPLY=$(echo $(wc -l < /etc/passwd))\n",
    "  #  If /etc/passwd is readable, set REPLY to line count.\n",
    "  #  Returns both a parameter value and status information.\n",
    "  #  The 'echo' seems unnecessary, but . . .\n",
    "  #+ it removes excess whitespace from the output.\n",
    "}\n",
    "\n",
    "if count_lines_in_etc_passwd\n",
    "then\n",
    "  echo \"There are $REPLY lines in /etc/passwd.\"\n",
    "else\n",
    "  echo \"Cannot count lines in /etc/passwd.\"\n",
    "fi"
   ]
  },
  {
   "cell_type": "markdown",
   "metadata": {},
   "source": [
    "#### Example 24-8. Converting numbers to Roman numerals"
   ]
  },
  {
   "cell_type": "code",
   "execution_count": 1,
   "metadata": {
    "collapsed": false
   },
   "outputs": [
    {
     "name": "stdout",
     "output_type": "stream",
     "text": [
      "#!/bin/bash\r\n",
      "# Arabic number to Roman numeral conversion\r\n",
      "# Range: 0 - 200\r\n",
      "# It's crude, but it works.\r\n",
      "\r\n",
      "# Extending the range and otherwise improving the script is left as an exercise.\r\n",
      "\r\n",
      "# Usage: roman number-to-convert\r\n",
      "\r\n",
      "LIMIT=200\r\n",
      "E_ARG_ERR=65\r\n",
      "E_OUT_OF_RANGE=66\r\n",
      "\r\n",
      "if [ -z \"$1\" ]\r\n",
      "then\r\n",
      "  echo \"Usage: `basename $0` number-to-convert\"\r\n",
      "  exit $E_ARG_ERR\r\n",
      "fi\r\n",
      "\r\n",
      "num=$1\r\n",
      "if [ \"$num\" -gt $LIMIT ]\r\n",
      "then\r\n",
      "  echo \"Out of range!\"\r\n",
      "  exit $E_OUT_OF_RANGE\r\n",
      "fi\r\n",
      "\r\n",
      "to_roman () # Must declare function before first call to it.\r\n",
      "{\r\n",
      "  number=$1\r\n",
      "  factor=$2\r\n",
      "  rchar=$3\r\n",
      "  let \"remainder = number - factor\"\r\n",
      "  while [ \"$remainder\" -ge 0 ]\r\n",
      "  do\r\n",
      "    echo -n $rchar\r\n",
      "    let \"number -= factor\"\r\n",
      "    let \"remainder = number - factor\"\r\n",
      "  done\r\n",
      "  return $number\r\n",
      "  # Exercises:\r\n",
      "  # ---------\r\n",
      "  # 1) Explain how this function works.\r\n",
      "  # Hint: division by successive subtraction.\r\n",
      "  # 2) Extend to range of the function.\r\n",
      "  # Hint: use \"echo\" and command-substitution capture.\r\n",
      "}\r\n",
      "\r\n",
      "to_roman $num 100 C\r\n",
      "num=$?\r\n",
      "to_roman $num 90 LXXXX\r\n",
      "num=$?\r\n",
      "to_roman $num 50 L\r\n",
      "num=$?\r\n",
      "to_roman $num 40 XL\r\n",
      "num=$?\r\n",
      "to_roman $num 10 X\r\n",
      "num=$?\r\n",
      "to_roman $num 9 IX\r\n",
      "num=$?\r\n",
      "to_roman $num 5 V\r\n",
      "num=$?\r\n",
      "to_roman $num 4 IV\r\n",
      "num=$?\r\n",
      "to_roman $num 1 I\r\n",
      "# Successive calls to conversion function!\r\n",
      "# Is this really necessary??? Can it be simplified?\r\n",
      "\r\n",
      "echo\r\n",
      "\r\n",
      "exit\r\n"
     ]
    }
   ],
   "source": [
    "cat arabic_to_roman.sh"
   ]
  },
  {
   "cell_type": "code",
   "execution_count": 2,
   "metadata": {
    "collapsed": false
   },
   "outputs": [
    {
     "name": "stdout",
     "output_type": "stream",
     "text": [
      "XVIII\r\n"
     ]
    }
   ],
   "source": [
    "bash arabic_to_roman.sh 18"
   ]
  },
  {
   "cell_type": "code",
   "execution_count": 3,
   "metadata": {
    "collapsed": false
   },
   "outputs": [
    {
     "name": "stdout",
     "output_type": "stream",
     "text": [
      "CXXIII\r\n"
     ]
    }
   ],
   "source": [
    "bash arabic_to_roman.sh 123"
   ]
  },
  {
   "cell_type": "markdown",
   "metadata": {
    "collapsed": true
   },
   "source": [
    "The largest positive integer a function can return is 255. The return command is closely tied to the concept of exit status, which accounts for this particular limitation. Fortunately, there are various workarounds for those situations requiring a large integer return value from a function."
   ]
  },
  {
   "cell_type": "markdown",
   "metadata": {
    "collapsed": true
   },
   "source": [
    "#### Example 24-9. Testing large return values in a function"
   ]
  },
  {
   "cell_type": "code",
   "execution_count": 4,
   "metadata": {
    "collapsed": false
   },
   "outputs": [
    {
     "name": "stdout",
     "output_type": "stream",
     "text": [
      "#!/bin/bash\r\n",
      "# return-test.sh\r\n",
      "\r\n",
      "# The largest positive value a function can return is 255.\r\n",
      "\r\n",
      "return_test ()    # Returns whatever passed to it.\r\n",
      "{\r\n",
      "\treturn $1\r\n",
      "}\r\n",
      "\r\n",
      "return_test 27      # o.k.\r\n",
      "echo $?             # Returns 27.\r\n",
      "\r\n",
      "return_test 255     # Still o.k.\r\n",
      "echo $?             # Returns 255.\r\n",
      "\r\n",
      "return_test 257     # Error!\r\n",
      "echo $?             # Returns 1 (return code for miscellaneous error).\r\n",
      "\r\n",
      "# =========================================================\r\n",
      "return_test -151896 # Do large negative numbers work?\r\n",
      "echo $?             # Will this return -151896?\r\n",
      "                    # No! It returns 168.\r\n",
      "#  Version of Bash before 2.05b permitted\r\n",
      "#+ large negative integer return values.\r\n",
      "#  It happened to be a useful feature.\r\n",
      "#  Newer versions of Bash unfortunately plug this loophole.\r\n",
      "#  This may break older scripts.\r\n",
      "#  Caution!\r\n",
      "# =========================================================\r\n",
      "\r\n",
      "exit 0\r\n"
     ]
    }
   ],
   "source": [
    "cat return-test.sh"
   ]
  },
  {
   "cell_type": "code",
   "execution_count": 5,
   "metadata": {
    "collapsed": false
   },
   "outputs": [
    {
     "name": "stdout",
     "output_type": "stream",
     "text": [
      "27\r\n",
      "255\r\n",
      "1\r\n",
      "168\r\n"
     ]
    }
   ],
   "source": [
    "bash return-test.sh"
   ]
  },
  {
   "cell_type": "markdown",
   "metadata": {
    "collapsed": true
   },
   "source": [
    "A workaround for obtaining large integer \"return values\" is to simply assign the \"return value\" to a global variable."
   ]
  },
  {
   "cell_type": "code",
   "execution_count": 6,
   "metadata": {
    "collapsed": false
   },
   "outputs": [
    {
     "name": "stdout",
     "output_type": "stream",
     "text": []
    }
   ],
   "source": [
    "# Global variable to hold oversize return value of function.\n",
    "Return_Val=\n",
    "\n",
    "alt_return_test ()\n",
    "{\n",
    "  fvar=$1\n",
    "  Return_Val=$fvar\n",
    "  return          # Returns 0 (success).\n",
    "}"
   ]
  },
  {
   "cell_type": "code",
   "execution_count": 7,
   "metadata": {
    "collapsed": false
   },
   "outputs": [
    {
     "name": "stdout",
     "output_type": "stream",
     "text": [
      "0\r\n",
      "return value = 1\r\n"
     ]
    }
   ],
   "source": [
    "alt_return_test 1\n",
    "echo $?                           # 0\n",
    "echo \"return value = $Return_Val\" # 1"
   ]
  },
  {
   "cell_type": "code",
   "execution_count": 8,
   "metadata": {
    "collapsed": false
   },
   "outputs": [
    {
     "name": "stdout",
     "output_type": "stream",
     "text": [
      "return value = 256\r\n"
     ]
    }
   ],
   "source": [
    "alt_return_test 256\n",
    "echo \"return value = $Return_Val\" # 256"
   ]
  },
  {
   "cell_type": "code",
   "execution_count": 9,
   "metadata": {
    "collapsed": false
   },
   "outputs": [
    {
     "name": "stdout",
     "output_type": "stream",
     "text": [
      "return value = 257\r\n"
     ]
    }
   ],
   "source": [
    "alt_return_test 257\n",
    "echo \"return value = $Return_Val\" # 257"
   ]
  },
  {
   "cell_type": "code",
   "execution_count": 10,
   "metadata": {
    "collapsed": false
   },
   "outputs": [
    {
     "name": "stdout",
     "output_type": "stream",
     "text": [
      "return value = 25701\r\n"
     ]
    }
   ],
   "source": [
    "alt_return_test 25701\n",
    "echo \"return value = $Return_Val\" #25701"
   ]
  },
  {
   "cell_type": "markdown",
   "metadata": {},
   "source": [
    "A more elegant method is to have the function echo its \"return value to stdout,\" and then capture it by command substitution. See the discussion of this in Section 36.7."
   ]
  },
  {
   "cell_type": "markdown",
   "metadata": {},
   "source": [
    "#### Example 24-10. Comparing two large integers"
   ]
  },
  {
   "cell_type": "code",
   "execution_count": 11,
   "metadata": {
    "collapsed": false
   },
   "outputs": [
    {
     "name": "stdout",
     "output_type": "stream",
     "text": [
      "#!/bin/bash\r\n",
      "# max2.sh: Maximum of two LARGE integers.\r\n",
      "\r\n",
      "#  This is the previous \"max.sh\" example,\r\n",
      "#+ modified to permit comparing large integers.\r\n",
      "\r\n",
      "EQUAL=0             # Return value if both params equal.\r\n",
      "E_PARAM_ERR=-99999  # Not enough params passed to function.\r\n",
      "#           ^^^^^^    Out of range of any params that might be passed.\r\n",
      "\r\n",
      "max2 ()             # \"Returns\" larger of two numbers.\r\n",
      "{\r\n",
      "  if [ -z \"$2\" ]\r\n",
      "  then\r\n",
      "    echo $E_PARAM_ERR\r\n",
      "    return\r\n",
      "  fi\r\n",
      "\r\n",
      "  if [ \"$1\" -eq \"$2\" ]\r\n",
      "  then\r\n",
      "    echo $EQUAL\r\n",
      "    return\r\n",
      "  else\r\n",
      "    if [ \"$1\" -gt \"$2\" ]\r\n",
      "    then\r\n",
      "      retval=$1\r\n",
      "    else\r\n",
      "      retval=$2\r\n",
      "    fi\r\n",
      "  fi\r\n",
      "  echo $retval      # Echoes (to stdout), rather than returning value.\r\n",
      "                    # Why?\r\n",
      "}\r\n",
      "\r\n",
      "return_val=$(max2 33001 33997)\r\n",
      "#            ^^^^             Function name\r\n",
      "#                 ^^^^^ ^^^^^ Params passed\r\n",
      "#  This is actually a form of command substitution:\r\n",
      "#+ treating a function as if it were a command,\r\n",
      "#+ and assigning the stdout of the function to the variable \"return_val.\"\r\n",
      "\r\n",
      "# ========================= OUTPUT ========================\r\n",
      "if [ \"$return_val\" -eq \"$E_PARAM_ERR\" ]\r\n",
      "then\r\n",
      "  echo \"Error in parameters passed to comparison function!\"\r\n",
      "elif [ \"$return_val\" -eq \"$EQUAL\" ]\r\n",
      "then\r\n",
      "  echo \"The two numbers are equal.\"\r\n",
      "else\r\n",
      "  echo \"The larger of the two numbers is $return_val.\"\r\n",
      "fi\r\n",
      "# =========================================================\r\n",
      "\r\n",
      "exit 0\r\n"
     ]
    }
   ],
   "source": [
    "cat max2.sh"
   ]
  },
  {
   "cell_type": "code",
   "execution_count": 12,
   "metadata": {
    "collapsed": false
   },
   "outputs": [
    {
     "name": "stdout",
     "output_type": "stream",
     "text": [
      "The larger of the two numbers is 33997.\r\n"
     ]
    }
   ],
   "source": [
    "bash max2.sh"
   ]
  },
  {
   "cell_type": "markdown",
   "metadata": {},
   "source": [
    "Here is another example of capturing a function \"return value.\"   \n",
    "Understanding it requires some knowledge of awk."
   ]
  },
  {
   "cell_type": "code",
   "execution_count": 13,
   "metadata": {
    "collapsed": false
   },
   "outputs": [
    {
     "name": "stdout",
     "output_type": "stream",
     "text": [
      "30\r\n"
     ]
    }
   ],
   "source": [
    "month_length ()   # Takes month number as an argument.\n",
    "{                 # Returns number of days in month.\n",
    "monthD=\"31 28 31 30 31 30 31 31 30 31 30 31\"  # Declare as local?\n",
    "echo \"$monthD\" | awk '{ print $'\"${1}\"' }'    # Tricky.\n",
    "#                            ^^^^^^^^^\n",
    "# Parameter passed to function ($1 -- month number), then to awk.\n",
    "# Awk sees this as \"print $1 . . . print $12\" (depending on month number)\n",
    "# Template for passing a parameter to embedded awk script:\n",
    "#                                 $'\"${script_parameter}\"'\n",
    "\n",
    "#    Here's a slightly simpler awk construct:\n",
    "#    echo $monthD | awk -v month=$1 '{print $(month)}'\n",
    "#    Uses the -v awk option, which assigns a variable value\n",
    "#+   prior to execution of the awk program block.\n",
    "#    Thank you, Rich.\n",
    "#  Needs error checking for correct parameter range (1-12)\n",
    "#+ and for February in leap year.\n",
    "}\n",
    "# ----------------------------------------------\n",
    "# Usage example:\n",
    "month=4          # April, for example (4th month).\n",
    "days_in=$(month_length $month)\n",
    "echo $days_in    # 30\n",
    "# ----------------------------------------------"
   ]
  },
  {
   "cell_type": "markdown",
   "metadata": {},
   "source": [
    "Exercise:   \n",
    "Using what we have just learned, extend the previous Roman numerals example to accept arbitrarily large input."
   ]
  },
  {
   "cell_type": "markdown",
   "metadata": {},
   "source": [
    "##### Redirection"
   ]
  },
  {
   "cell_type": "markdown",
   "metadata": {},
   "source": [
    "Redirecting the stdin of a function  \n",
    "A function is essentially a code block, which means its stdin can be redirected(as in Example 3-1)."
   ]
  },
  {
   "cell_type": "markdown",
   "metadata": {},
   "source": [
    "#### Example 24-11. Real name from username"
   ]
  },
  {
   "cell_type": "code",
   "execution_count": 14,
   "metadata": {
    "collapsed": false
   },
   "outputs": [
    {
     "name": "stdout",
     "output_type": "stream",
     "text": [
      "#!/bin/bash\r\n",
      "# realname.sh\r\n",
      "#\r\n",
      "# From username, gets \"real name\" from /etc/passwd.\r\n",
      "\r\n",
      "ARGCOUNT=1          # Expect one arg.\r\n",
      "E_WRONGARGS=85\r\n",
      "\r\n",
      "file=/etc/passwd\r\n",
      "pattern=$1\r\n",
      "\r\n",
      "if [ $# -ne \"$ARGCOUNT\" ]\r\n",
      "then\r\n",
      "  echo \"Usage: `basename $0` USERNAME\"\r\n",
      "  exit $E_WRONGARGS\r\n",
      "fi\r\n",
      "\r\n",
      "file_excerpt ()     #  Scan file for pattern,\r\n",
      "{                   #+ then print relevant portion of line.\r\n",
      "  while read line   # \"while\" does not necessarily need [ condition ]\r\n",
      "  do\r\n",
      "    echo \"$line\" | grep $1 | awk -F\":\" '{ print $5 }'\r\n",
      "    # Have awk use \":\" delimiter.\r\n",
      "  done\r\n",
      "} <$file            # Redirect into function's stdin.\r\n",
      "file_excerpt $pattern\r\n",
      "\r\n",
      "# Yes, this entire script could be reduced to\r\n",
      "#       grep PATTERN /etc/passwd | awk -F\":\" '{ print $5 }'\r\n",
      "# or\r\n",
      "#       awk -F: '/PATTERN/ {print $5}'\r\n",
      "# or\r\n",
      "#       awk -F: '($1 == \"username\") { print $5 }' # real name from username\r\n",
      "# However, it might not be as instructive.\r\n",
      "\r\n",
      "exit 0\r\n"
     ]
    }
   ],
   "source": [
    "cat realname.sh"
   ]
  },
  {
   "cell_type": "code",
   "execution_count": 15,
   "metadata": {
    "collapsed": false
   },
   "outputs": [
    {
     "name": "stdout",
     "output_type": "stream",
     "text": [
      "liheyi,,,\r\n"
     ]
    }
   ],
   "source": [
    "bash realname.sh liheyi"
   ]
  },
  {
   "cell_type": "code",
   "execution_count": 16,
   "metadata": {
    "collapsed": false
   },
   "outputs": [
    {
     "name": "stdout",
     "output_type": "stream",
     "text": [
      "root\r\n"
     ]
    }
   ],
   "source": [
    "bash realname.sh root"
   ]
  },
  {
   "cell_type": "markdown",
   "metadata": {},
   "source": [
    "There is an alternate, and perhaps less confusing method of redirecting a function's stdin.   \n",
    "This involves redirecting the stdin to an embedded bracketed code block within the function."
   ]
  },
  {
   "cell_type": "code",
   "execution_count": null,
   "metadata": {
    "collapsed": true
   },
   "outputs": [],
   "source": [
    "# Instead of:\n",
    "Function ()\n",
    "{\n",
    "  ...\n",
    "} < file\n",
    "\n",
    "# Try this:\n",
    "Function ()\n",
    "{\n",
    "  {\n",
    "    ...\n",
    "  } < file\n",
    "}\n",
    "\n",
    "# Similarly,\n",
    "Function () # This works.\n",
    "{\n",
    "  {\n",
    "    echo $*\n",
    "  } | tr a b\n",
    "}\n",
    "\n",
    "Function () # This doesn't work.\n",
    "{\n",
    "  echo $*\n",
    "} | tr a b  # A nested code block is mandatory here."
   ]
  },
  {
   "cell_type": "markdown",
   "metadata": {},
   "source": [
    "### Local Variables"
   ]
  },
  {
   "cell_type": "markdown",
   "metadata": {
    "collapsed": true
   },
   "source": [
    "#### What makes a variable local?"
   ]
  },
  {
   "cell_type": "markdown",
   "metadata": {
    "collapsed": true
   },
   "source": [
    "###### local variables\n",
    "A variable declared as local is one that is visible only within the block of code in which it appears.   \n",
    "It has local scope.   \n",
    "In a function, a local variable has meaning only within that function block.  "
   ]
  },
  {
   "cell_type": "markdown",
   "metadata": {
    "collapsed": true
   },
   "source": [
    "#### Example 24-12. Local variable visibility"
   ]
  },
  {
   "cell_type": "code",
   "execution_count": 3,
   "metadata": {
    "collapsed": false
   },
   "outputs": [
    {
     "name": "stdout",
     "output_type": "stream",
     "text": [
      "#!/bin/bash\r\n",
      "# ex62.sh: Global and local variables inside a function.\r\n",
      "\r\n",
      "func ()\r\n",
      "{\r\n",
      "  local loc_var=23     # Declared as local variable.\r\n",
      "  echo                 # Uses the 'local' builtin.\r\n",
      "  echo \"\\\"loc_var\\\" in function = $loc_var\"\r\n",
      "  global_var=999       # Not declared as local.\r\n",
      "                       # Therefore, defaults to global.\r\n",
      "  echo \"\\\"global_var\\\" in function = $global_var\"\r\n",
      "}\r\n",
      "\r\n",
      "func\r\n",
      "\r\n",
      "# Now, to see if local variable \"loc_var\" exists outside the function.\r\n",
      "echo\r\n",
      "echo \"\\\"loc_var\\\" outside function = $loc_var\"\r\n",
      "                                   # $loc_var outside function =\r\n",
      "                                   # No, $loc_var not visible globally.\r\n",
      "\r\n",
      "echo \"\\\"global_var\\\" outside function = $global_var\"\r\n",
      "                                      # $global_var outside function = 999\r\n",
      "                                      # $global_var is visible globally.\r\n",
      "\r\n",
      "exit 0\r\n",
      "\r\n",
      "#  In contrast to C, a Bash variable declared inside a function\r\n",
      "#+ is local ONLY if declared as such.\r\n"
     ]
    }
   ],
   "source": [
    "cat ex62.sh"
   ]
  },
  {
   "cell_type": "code",
   "execution_count": 4,
   "metadata": {
    "collapsed": false
   },
   "outputs": [
    {
     "name": "stdout",
     "output_type": "stream",
     "text": [
      "\r\n",
      "\"loc_var\" in function = 23\r\n",
      "\"global_var\" in function = 999\r\n",
      "\r\n",
      "\"loc_var\" outside function = \r\n",
      "\"global_var\" outside function = 999\r\n"
     ]
    }
   ],
   "source": [
    "bash ex62.sh"
   ]
  },
  {
   "cell_type": "markdown",
   "metadata": {
    "collapsed": true
   },
   "source": [
    "Before a function is called, all variables declared within the function are invisible outside the body of the function, not just those explicitly declared as local."
   ]
  },
  {
   "cell_type": "code",
   "execution_count": 5,
   "metadata": {
    "collapsed": false
   },
   "outputs": [
    {
     "name": "stdout",
     "output_type": "stream",
     "text": [
      "#!/bin/bash\r\n",
      "\r\n",
      "func ()\r\n",
      "{\r\n",
      "  global_var=37        #  Visible only within the function block\r\n",
      "                       #+ before the function has been called.\r\n",
      "}                      # END OF FUNCTION\r\n",
      "\r\n",
      "echo \"global_var = $global_var\"   # global_var =\r\n",
      "                                  #  Function \"func\" has not yet been called,\r\n",
      "                                  #+ so $global_var is not visible here.\r\n",
      "\r\n",
      "func\r\n",
      "\r\n",
      "echo \"global_var = $global_var\"   # global_var = 37\r\n",
      "                                  # Has been set by function call.\r\n"
     ]
    }
   ],
   "source": [
    "cat invar.sh"
   ]
  },
  {
   "cell_type": "code",
   "execution_count": 6,
   "metadata": {
    "collapsed": false
   },
   "outputs": [
    {
     "name": "stdout",
     "output_type": "stream",
     "text": [
      "global_var = \r\n",
      "global_var = 37\r\n"
     ]
    }
   ],
   "source": [
    "bash invar.sh"
   ]
  },
  {
   "cell_type": "markdown",
   "metadata": {
    "collapsed": true
   },
   "source": [
    "As Evgeniy Ivanov points out, when declaring and setting a local variable in a single command, apparently the order of operations is to first set the variable, and only afterwards restrict it to local scope. This is reflected in the return value."
   ]
  },
  {
   "cell_type": "code",
   "execution_count": 7,
   "metadata": {
    "collapsed": false
   },
   "outputs": [
    {
     "name": "stdout",
     "output_type": "stream",
     "text": [
      "#!/bin/bash\r\n",
      "\r\n",
      "echo \"==OUTSIDE Function (global)==\"\r\n",
      "t=$(exit 1)\r\n",
      "echo $?      # 1\r\n",
      "             # As expected.\r\n",
      "\r\n",
      "echo\r\n",
      "\r\n",
      "function0 ()\r\n",
      "{\r\n",
      "\r\n",
      "  echo \"==INSIDE Function==\"\r\n",
      "  echo \"Global\"\r\n",
      "  t0=$(exit 1)\r\n",
      "  echo $?     # 1\r\n",
      "              # As expected.\r\n",
      "\r\n",
      "  echo\r\n",
      "  echo \"Local declared & assigned in same command.\"\r\n",
      "  local t1=$(exit 1)\r\n",
      "  echo $?     # 0\r\n",
      "              # Unexpected!\r\n",
      "  # Apparently, the variable assignment takes place before\r\n",
      "  #+ the local declaration.\r\n",
      "  #+ The return value is for the latter.\r\n",
      "  echo\r\n",
      "  echo \"Local declared, then assigned (separate commands).\"\r\n",
      "\r\n",
      "  local t2\r\n",
      "  t2=$(exit 1)\r\n",
      "  echo $?     # 1\r\n",
      "              # As expected.\r\n",
      "}\r\n",
      "\r\n",
      "function0\r\n"
     ]
    }
   ],
   "source": [
    "cat var.sh"
   ]
  },
  {
   "cell_type": "code",
   "execution_count": 8,
   "metadata": {
    "collapsed": false
   },
   "outputs": [
    {
     "name": "stdout",
     "output_type": "stream",
     "text": [
      "==OUTSIDE Function (global)==\r\n",
      "1\r\n",
      "\r\n",
      "==INSIDE Function==\r\n",
      "Global\r\n",
      "1\r\n",
      "\r\n",
      "Local declared & assigned in same command.\r\n",
      "0\r\n",
      "\r\n",
      "Local declared, then assigned (separate commands).\r\n",
      "1\r\n"
     ]
    }
   ],
   "source": [
    "bash var.sh"
   ]
  },
  {
   "cell_type": "markdown",
   "metadata": {
    "collapsed": true
   },
   "source": [
    "#### Local variables and recursion"
   ]
  },
  {
   "cell_type": "markdown",
   "metadata": {
    "collapsed": true
   },
   "source": [
    "Recursion is an interesting and sometimes useful form of self-reference.   \n",
    "Herbert Mayer defines it as \". . . expressing an algorithm by using a simpler version of that same algorithm . . .\""
   ]
  },
  {
   "cell_type": "markdown",
   "metadata": {
    "collapsed": true
   },
   "source": [
    "Consider a definition defined in terms of itself, an expression implicit in its own expression, a snake swallowing its own tail, or . . . a function that calls itself."
   ]
  },
  {
   "cell_type": "markdown",
   "metadata": {
    "collapsed": true
   },
   "source": [
    "#### Example 24-13. Demonstration of a simple recursive function"
   ]
  },
  {
   "cell_type": "code",
   "execution_count": 9,
   "metadata": {
    "collapsed": false
   },
   "outputs": [
    {
     "name": "stdout",
     "output_type": "stream",
     "text": [
      "#!/bin/bash\r\n",
      "# recursion-demo.sh\r\n",
      "# Demonstration of recursion.\r\n",
      "\r\n",
      "RECURSIONS=9    # How many times to recurse.\r\n",
      "r_count=0       # Must be global. Why?\r\n",
      "\r\n",
      "recurse ()\r\n",
      "{\r\n",
      "  var=\"$1\"\r\n",
      "\r\n",
      "  while [ \"$var\" -ge 0 ]\r\n",
      "  do\r\n",
      "    echo \"Recursion count = \"$r_count\" +-+ \\$var = \"$var\"\"\r\n",
      "    (( var-- )); (( r_count++ ))\r\n",
      "    recurse \"$var\" #  Function calls itself (recurses)\r\n",
      "  done             #+ until what condition is met?\r\n",
      "}\r\n",
      "\r\n",
      "recurse $RECURSIONS\r\n",
      "\r\n",
      "exit $?\r\n"
     ]
    }
   ],
   "source": [
    "cat recursion-demo.sh"
   ]
  },
  {
   "cell_type": "code",
   "execution_count": 10,
   "metadata": {
    "collapsed": false
   },
   "outputs": [
    {
     "name": "stdout",
     "output_type": "stream",
     "text": [
      "Recursion count = 0 +-+ $var = 9\r\n",
      "Recursion count = 1 +-+ $var = 8\r\n",
      "Recursion count = 2 +-+ $var = 7\r\n",
      "Recursion count = 3 +-+ $var = 6\r\n",
      "Recursion count = 4 +-+ $var = 5\r\n",
      "Recursion count = 5 +-+ $var = 4\r\n",
      "Recursion count = 6 +-+ $var = 3\r\n",
      "Recursion count = 7 +-+ $var = 2\r\n",
      "Recursion count = 8 +-+ $var = 1\r\n",
      "Recursion count = 9 +-+ $var = 0\r\n"
     ]
    }
   ],
   "source": [
    "bash recursion-demo.sh"
   ]
  },
  {
   "cell_type": "markdown",
   "metadata": {
    "collapsed": true
   },
   "source": [
    "#### Example 24-14. Another simple demonstration"
   ]
  },
  {
   "cell_type": "code",
   "execution_count": 11,
   "metadata": {
    "collapsed": false
   },
   "outputs": [
    {
     "name": "stdout",
     "output_type": "stream",
     "text": [
      "#!/bin/bash\r\n",
      "# recursion-def.sh\r\n",
      "# A script that defines \"recursion\" in a rather graphic way.\r\n",
      "\r\n",
      "RECURSIONS=10\r\n",
      "r_count=0\r\n",
      "sp=\" \"\r\n",
      "\r\n",
      "define_recursion ()\r\n",
      "{\r\n",
      "  ((r_count++))\r\n",
      "  sp=\"$sp\"\" \"\r\n",
      "  echo -n \"$sp\"\r\n",
      "  echo \"\\\"The act of recurring ... \\\"\"   # Per 1913 Webster's dictionary.\r\n",
      "  while [ $r_count -le $RECURSIONS ]\r\n",
      "  do\r\n",
      "    define_recursion\r\n",
      "  done\r\n",
      "}\r\n",
      "\r\n",
      "echo\r\n",
      "echo \"Recursion: \"\r\n",
      "define_recursion\r\n",
      "echo\r\n",
      "\r\n",
      "exit $?\r\n"
     ]
    }
   ],
   "source": [
    "cat recursion-def.sh"
   ]
  },
  {
   "cell_type": "code",
   "execution_count": 12,
   "metadata": {
    "collapsed": false
   },
   "outputs": [
    {
     "name": "stdout",
     "output_type": "stream",
     "text": [
      "\r\n",
      "Recursion: \r\n",
      "  \"The act of recurring ... \"\r\n",
      "   \"The act of recurring ... \"\r\n",
      "    \"The act of recurring ... \"\r\n",
      "     \"The act of recurring ... \"\r\n",
      "      \"The act of recurring ... \"\r\n",
      "       \"The act of recurring ... \"\r\n",
      "        \"The act of recurring ... \"\r\n",
      "         \"The act of recurring ... \"\r\n",
      "          \"The act of recurring ... \"\r\n",
      "           \"The act of recurring ... \"\r\n",
      "            \"The act of recurring ... \"\r\n",
      "\r\n"
     ]
    }
   ],
   "source": [
    "bash recursion-def.sh"
   ]
  },
  {
   "cell_type": "markdown",
   "metadata": {
    "collapsed": true
   },
   "source": [
    "Local variables are a useful tool for writing recursive code, but this practice generally involves a great deal of computational overhead and is definitely not recommended in a shell script."
   ]
  },
  {
   "cell_type": "markdown",
   "metadata": {
    "collapsed": true
   },
   "source": [
    "#### Example 24-15. Recursion, using a local variable"
   ]
  },
  {
   "cell_type": "code",
   "execution_count": 13,
   "metadata": {
    "collapsed": false
   },
   "outputs": [
    {
     "name": "stdout",
     "output_type": "stream",
     "text": [
      "#!/bin/bash\r\n",
      "#             factorial\r\n",
      "#              ---------\r\n",
      "\r\n",
      "# Does bash permit recursion?\r\n",
      "# Well, yes, but...\r\n",
      "# It's so slow that you gotta have rocks in your head to try it.\r\n",
      "\r\n",
      "MAX_ARG=5\r\n",
      "E_WRONG_ARGS=85\r\n",
      "E_RANGE_ERR=86\r\n",
      "\r\n",
      "if [ -z \"$1\" ]\r\n",
      "then\r\n",
      "  echo \"Usage: `basename $0` number\"\r\n",
      "  exit $E_WRONG_ARGS\r\n",
      "fi\r\n",
      "\r\n",
      "if [ \"$1\" -gt $MAX_ARG ]\r\n",
      "then\r\n",
      "  echo \"Out of range ($MAX_ARG is maximum).\"\r\n",
      "  #  Let's get real now.\r\n",
      "  #  If you want greater range than this,\r\n",
      "  #+ rewrite it in a Real Programming Language.\r\n",
      "  exit $E_RANGE_ERR\r\n",
      "fi\r\n",
      "\r\n",
      "fact ()\r\n",
      "{\r\n",
      "  local number=$1\r\n",
      "  #  Variable \"number\" must be declared as local,\r\n",
      "  #+ otherwise this doesn't work.\r\n",
      "  if [ \"$number\" -eq 0 ]\r\n",
      "  then\r\n",
      "    factorial=1    # Factorial of 0 = 1.\r\n",
      "  else\r\n",
      "    let \"decrnum = number - 1\"\r\n",
      "    fact $decrnum  # Recursive function call (the function calls itself).\r\n",
      "    let \"factorial = $number * $?\"\r\n",
      "  fi\r\n",
      "  return $factorial\r\n",
      "}\r\n",
      "\r\n",
      "fact $1\r\n",
      "echo \"Factorial of $1 is $?.\"\r\n",
      "\r\n",
      "exit 0\r\n"
     ]
    }
   ],
   "source": [
    "cat recursion-local.sh"
   ]
  },
  {
   "cell_type": "code",
   "execution_count": 14,
   "metadata": {
    "collapsed": false
   },
   "outputs": [
    {
     "name": "stdout",
     "output_type": "stream",
     "text": [
      "Factorial of 5 is 120.\r\n"
     ]
    }
   ],
   "source": [
    "bash recursion-local.sh 5"
   ]
  },
  {
   "cell_type": "markdown",
   "metadata": {
    "collapsed": true
   },
   "source": [
    "Also see Example A-15 for an example of recursion in a script.   \n",
    "Be aware that recursion is resource-intensive and executes slowly,   \n",
    "and is therefore generally not appropriate in a script."
   ]
  },
  {
   "cell_type": "markdown",
   "metadata": {
    "collapsed": true
   },
   "source": [
    "### Recursion Without Local Variables"
   ]
  },
  {
   "cell_type": "markdown",
   "metadata": {
    "collapsed": true
   },
   "source": [
    "A function may recursively call itself even without use of local variables."
   ]
  },
  {
   "cell_type": "markdown",
   "metadata": {
    "collapsed": true
   },
   "source": [
    "#### Example 24-16. The Fibonacci Sequence"
   ]
  },
  {
   "cell_type": "code",
   "execution_count": 15,
   "metadata": {
    "collapsed": false
   },
   "outputs": [
    {
     "name": "stdout",
     "output_type": "stream",
     "text": [
      "#!/bin/bash\r\n",
      "# fibo.sh : Fibonacci sequence (recursive)\r\n",
      "# Author: M. Cooper\r\n",
      "# License: GPL3\r\n",
      "\r\n",
      "# ----------algorithm--------------\r\n",
      "# Fibo(0) = 0\r\n",
      "# Fibo(1) = 1\r\n",
      "# else\r\n",
      "#   Fibo(j) = Fibo(j-1) + Fibo(j-2)\r\n",
      "# ---------------------------------\r\n",
      "\r\n",
      "MAXTERM=15      # Number of terms (+1) to generate.\r\n",
      "MINIDX=2        # If idx is less than 2, then Fibo(idx) = idx.\r\n",
      "\r\n",
      "Fibonacci ()\r\n",
      "{\r\n",
      "  idx=$1        # Doesn't need to be local. Why not?\r\n",
      "  if [ \"$idx\" -lt \"$MINIDX\" ]\r\n",
      "  then\r\n",
      "    echo \"$idx\" # First two terms are 0 1 ... see above.\r\n",
      "  else\r\n",
      "    (( --idx )) # j-1\r\n",
      "    term1=$( Fibonacci $idx ) # Fibo(j-1)\r\n",
      "    (( --idx )) # j-2\r\n",
      "    term2=$( Fibonacci $idx ) # Fibo(j-2)\r\n",
      "    echo $(( term1 + term2 ))\r\n",
      "  fi\r\n",
      "\r\n",
      "  #  An ugly, ugly kludge.\r\n",
      "  #  The more elegant implementation of recursive fibo in C\r\n",
      "  #+ is a straightforward translation of the algorithm in lines 7 - 10.\r\n",
      "}\r\n",
      "\r\n",
      "for i in $(seq 0 $MAXTERM)\r\n",
      "do  # Calculate $MAXTERM+1 terms.\r\n",
      "  FIBO=$(Fibonacci $i)\r\n",
      "  echo -n \"$FIBO \"\r\n",
      "done\r\n",
      "# 0 1 1 2 3 5 8 13 21 34 55 89 144 233 377 610\r\n",
      "# Takes a while, doesn't it? Recursion in a script is slow.\r\n",
      "\r\n",
      "echo\r\n",
      "\r\n",
      "exit 0\r\n"
     ]
    }
   ],
   "source": [
    "cat fibo.sh"
   ]
  },
  {
   "cell_type": "code",
   "execution_count": 16,
   "metadata": {
    "collapsed": false
   },
   "outputs": [
    {
     "name": "stdout",
     "output_type": "stream",
     "text": [
      "0 1 1 2 3 5 8 13 21 34 55 89 144 233 377 610 \r\n"
     ]
    }
   ],
   "source": [
    "bash fibo.sh"
   ]
  },
  {
   "cell_type": "markdown",
   "metadata": {
    "collapsed": true
   },
   "source": [
    "#### Example 24-17. The Towers of Hanoi"
   ]
  },
  {
   "cell_type": "code",
   "execution_count": 17,
   "metadata": {
    "collapsed": false
   },
   "outputs": [
    {
     "name": "stdout",
     "output_type": "stream",
     "text": [
      "#! /bin/bash\r\n",
      "#\r\n",
      "# The Towers Of Hanoi\r\n",
      "# Bash script\r\n",
      "# Copyright (C) 2000 Amit Singh. All Rights Reserved.\r\n",
      "# http://hanoi.kernelthread.com\r\n",
      "#\r\n",
      "# Tested under Bash version 2.05b.0(13)-release.\r\n",
      "# Also works under Bash version 3.x.\r\n",
      "#\r\n",
      "#  Used in \"Advanced Bash Scripting Guide\"\r\n",
      "#+ with permission of script author.\r\n",
      "#  Slightly modified and commented by ABS author.\r\n",
      "\r\n",
      "#=================================================================#\r\n",
      "#  The Tower of Hanoi is a mathematical puzzle attributed to\r\n",
      "#+ Edouard Lucas, a nineteenth-century French mathematician.\r\n",
      "#\r\n",
      "#  There are three vertical posts set in a base.\r\n",
      "#  The first post has a set of annular rings stacked on it.\r\n",
      "#  These rings are disks with a hole drilled out of the center,\r\n",
      "#+ so they can slip over the posts and rest flat.\r\n",
      "#  The rings have different diameters, and they stack in ascending\r\n",
      "#+ order, according to size.\r\n",
      "#  The smallest ring is on top, and the largest on the bottom.\r\n",
      "#\r\n",
      "#  The task is to transfer the stack of rings\r\n",
      "#+ to one of the other posts.\r\n",
      "#  You can move only one ring at a time to another post.\r\n",
      "#  You are permitted to move rings back to the original post.\r\n",
      "#  You may place a smaller ring atop a larger one,\r\n",
      "#+ but *not* vice versa.\r\n",
      "#  Again, it is forbidden to place a larger ring atop a smaller one.\r\n",
      "#\r\n",
      "#  For a small number of rings, only a few moves are required.\r\n",
      "#+ For each additional ring,\r\n",
      "#+ the required number of moves approximately doubles,\r\n",
      "#+ and the \"strategy\" becomes increasingly complicated.\r\n",
      "#\r\n",
      "#  For more information, see http://hanoi.kernelthread.com\r\n",
      "#+ or pp. 186-92 of _The Armchair Universe_ by A.K. Dewdney.\r\n",
      "#\r\n",
      "#\r\n",
      "#       ...                    ...                        ...\r\n",
      "#       | |                    | |                        | |\r\n",
      "#      _|_|_                   | |                        | |\r\n",
      "#     |_____|                  | |                        | |\r\n",
      "#    |_______|                 | |                        | |\r\n",
      "#   |_________|                | |                        | |\r\n",
      "#  |___________|               | |                        | |\r\n",
      "# |             |              | |                        | |\r\n",
      "# .--------------------------------------------------------------.\r\n",
      "# |**************************************************************|\r\n",
      "#        #1                     #2                         #3\r\n",
      "#\r\n",
      "#=================================================================#\r\n",
      "\r\n",
      "E_NOPARAM=66         # No parameter passed to script.\r\n",
      "E_BADPARAM=67        # Illegal number of disks passed to script.\r\n",
      "Moves=               # Global variable holding number of moves.\r\n",
      "                     # Modification to original script.\r\n",
      "\r\n",
      "dohanoi() { # Recursive function.\r\n",
      "  case $1 in\r\n",
      "    0)\r\n",
      "      ;;\r\n",
      "    *)\r\n",
      "      dohanoi \"$(($1-1))\" $2 $4 $3\r\n",
      "      echo move $2 \"-->\" $3\r\n",
      "      ((Moves++))    # Modification to original script.\r\n",
      "      dohanoi \"$(($1-1))\" $4 $3 $2\r\n",
      "      ;;\r\n",
      "  esac\r\n",
      "}\r\n",
      "\r\n",
      "case $# in\r\n",
      "  1) case $(($1>0)) in   # Must have at least one disk.\r\n",
      "    1) # Nested case statement.\r\n",
      "       dohanoi $1 1 3 2\r\n",
      "       echo \"Total moves = $Moves\" # 2^n - 1, where n = # of disks.\r\n",
      "       exit 0;\r\n",
      "       ;;\r\n",
      "    *)\r\n",
      "       echo \"$0: illegal value for number of disks\";\r\n",
      "       exit $E_BADPARAM;\r\n",
      "       ;;\r\n",
      "\t esac\r\n",
      "  ;;\r\n",
      "  *)\r\n",
      "    echo \"usage: $0 N\"\r\n",
      "    echo \" Where \\\"N\\\" is the number of disks.\"\r\n",
      "    exit $E_NOPARAM;\r\n",
      "  ;;\r\n",
      "esac\r\n"
     ]
    }
   ],
   "source": [
    "cat hanoi.sh"
   ]
  },
  {
   "cell_type": "code",
   "execution_count": 18,
   "metadata": {
    "collapsed": false
   },
   "outputs": [
    {
     "name": "stdout",
     "output_type": "stream",
     "text": [
      "move 1 --> 3\r\n",
      "move 1 --> 2\r\n",
      "move 3 --> 2\r\n",
      "move 1 --> 3\r\n",
      "move 2 --> 1\r\n",
      "move 2 --> 3\r\n",
      "move 1 --> 3\r\n",
      "move 1 --> 2\r\n",
      "move 3 --> 2\r\n",
      "move 3 --> 1\r\n",
      "move 2 --> 1\r\n",
      "move 3 --> 2\r\n",
      "move 1 --> 3\r\n",
      "move 1 --> 2\r\n",
      "move 3 --> 2\r\n",
      "move 1 --> 3\r\n",
      "move 2 --> 1\r\n",
      "move 2 --> 3\r\n",
      "move 1 --> 3\r\n",
      "move 2 --> 1\r\n",
      "move 3 --> 2\r\n",
      "move 3 --> 1\r\n",
      "move 2 --> 1\r\n",
      "move 2 --> 3\r\n",
      "move 1 --> 3\r\n",
      "move 1 --> 2\r\n",
      "move 3 --> 2\r\n",
      "move 1 --> 3\r\n",
      "move 2 --> 1\r\n",
      "move 2 --> 3\r\n",
      "move 1 --> 3\r\n",
      "Total moves = 31\r\n"
     ]
    }
   ],
   "source": [
    "bash hanoi.sh 5"
   ]
  }
 ],
 "metadata": {
  "kernelspec": {
   "display_name": "Bash",
   "language": "bash",
   "name": "bash"
  },
  "language_info": {
   "codemirror_mode": "shell",
   "file_extension": ".sh",
   "mimetype": "text/x-sh",
   "name": "bash"
  }
 },
 "nbformat": 4,
 "nbformat_minor": 0
}
