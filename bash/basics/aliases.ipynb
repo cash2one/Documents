{
 "cells": [
  {
   "cell_type": "markdown",
   "metadata": {},
   "source": [
    "## 25. Aliases"
   ]
  },
  {
   "cell_type": "markdown",
   "metadata": {},
   "source": [
    "A Bash alias is essentially nothing more than a keyboard shortcut, an abbreviation, a means of avoiding typing a long command sequence. If, for example, we include alias lm=\"ls -l | more\" in the ~/.bashrc file, then each lm typed at the command-line will automatically be replaced by a ls -l | more. This can save a great deal of typing at the command-line and avoid having to remember complex combinations of commands and options. Setting alias rm=\"rm -i\" (interactive mode delete) may save a good deal of grief, since it can prevent inadvertently deleting important files."
   ]
  },
  {
   "cell_type": "markdown",
   "metadata": {},
   "source": [
    "In a script, aliases have very limited usefulness. It would be nice if aliases could assume some of the functionality of the C preprocessor, such as macro expansion, but unfortunately Bash does not expand arguments within the alias body. Moreover, a script fails to expand an alias itself within \"compound constructs,\" such as if/then statements, loops, and functions. An added limitation is that an alias will not expand recursively. Almost invariably, whatever we would like an alias to do could be accomplished much more effectively with a function."
   ]
  },
  {
   "cell_type": "markdown",
   "metadata": {},
   "source": [
    "#### Example 25-1. Aliases within a script"
   ]
  },
  {
   "cell_type": "code",
   "execution_count": 2,
   "metadata": {
    "collapsed": false
   },
   "outputs": [
    {
     "name": "stdout",
     "output_type": "stream",
     "text": [
      "#!/bin/bash\r\n",
      "# alias.sh\r\n",
      "\r\n",
      "shopt -s expand_aliases\r\n",
      "# Must set this option, else script will not expand aliases.\r\n",
      "\r\n",
      "# First, some fun.\r\n",
      "alias Jesse_James='echo \"\\\"Alias Jesse James\\\" was a 1959 comedy starring Bob Hope.\"'\r\n",
      "Jesse_James\r\n",
      "\r\n",
      "echo\r\n",
      "\r\n",
      "alias ll=\"ls -l\"\r\n",
      "# May use either single (') or double (\") quotes to define an alias.\r\n",
      "\r\n",
      "echo \"Trying aliased \\\"ll\\\":\"\r\n",
      "ll /usr/bin/X11/mk*  #* Alias works.\r\n",
      "\r\n",
      "echo\r\n",
      "\r\n",
      "directory=/usr/bin/X11/\r\n",
      "prefix=mk*           # See if wild card causes problems.\r\n",
      "echo \"Variables \\\"directory\\\" + \\\"prefix\\\" = $directory$prefix\"\r\n",
      "\r\n",
      "echo\r\n",
      "\r\n",
      "alias lll=\"ls -l $directory$prefix\"\r\n",
      "echo \"Trying aliased \\\"lll\\\":\"\r\n",
      "lll       # Long listing of all files in /usr/X11R6/bin stating with mk.\r\n",
      "          # An alias can handle concatenated variables -- including wild card -- o.k.\r\n",
      "\r\n",
      "\r\n",
      "TRUE=1\r\n",
      "echo\r\n",
      "\r\n",
      "if [ TRUE ]\r\n",
      "then\r\n",
      "  alias rr=\"ls -l\"\r\n",
      "  echo \"Trying aliased \\\"rr\\\" within if/then statement:\"\r\n",
      "  rr /usr/bin/X11/mk*      #* Error message results!\r\n",
      "  # Aliases not expanded within compound statements.\r\n",
      "  echo \"However, previously expanded alias still recognized:\"\r\n",
      "  ll /usr/bin/X11/mk*\r\n",
      "fi\r\n",
      "\r\n",
      "echo\r\n",
      "\r\n",
      "count=0\r\n",
      "while [ $count -lt 3 ]\r\n",
      "do\r\n",
      "  alias rrr=\"ls -l\"\r\n",
      "  echo \"Trying aliased \\\"rrr\\\" within \\\"while\\\" loop:\"\r\n",
      "  rrr /usr/bin/X11/mk*      #* Alias will not expand here either.\r\n",
      "  # alias.sh: line 57: rrr: command not found\r\n",
      "  let count+=1\r\n",
      "done\r\n",
      "\r\n",
      "echo\r\n",
      "\r\n",
      "alias xyz='cat $0' # Script lists itself.\r\n",
      "                   # Note strong quotes.\r\n",
      "xyz\r\n",
      "#  This seems to work,\r\n",
      "#+ although the Bash documentation suggests that it shouldn't.\r\n",
      "#\r\n",
      "#  However, as Steve Jacobson points out,\r\n",
      "#+ the \"$0\" parameter expands immediately upon declaration of the alias.\r\n",
      "\r\n",
      "exit 0\r\n"
     ]
    }
   ],
   "source": [
    "cat alias.sh"
   ]
  },
  {
   "cell_type": "code",
   "execution_count": 3,
   "metadata": {
    "collapsed": false
   },
   "outputs": [
    {
     "name": "stdout",
     "output_type": "stream",
     "text": [
      "\"Alias Jesse James\" was a 1959 comedy starring Bob Hope.\r\n",
      "\r\n",
      "Trying aliased \"ll\":\r\n",
      "-rwxr-xr-x 1 root root  8774  1月 13  2014 /usr/bin/X11/mkdiskimage\r\n",
      "-rwxr-xr-x 1 root root 31328  1月 14  2015 /usr/bin/X11/mkfifo\r\n",
      "-rwxr-xr-x 1 root root    65  1月  6  2014 /usr/bin/X11/mkfontdir\r\n",
      "-rwxr-xr-x 1 root root 32264  1月  6  2014 /usr/bin/X11/mkfontscale\r\n",
      "lrwxrwxrwx 1 root root    11  6月 12 17:31 /usr/bin/X11/mkisofs -> genisoimage\r\n",
      "-rwxr-xr-x 1 root root 10576 10月 10  2013 /usr/bin/X11/mkmanifest\r\n",
      "-rwxr-xr-x 1 root root 16163  2月 18  2013 /usr/bin/X11/mk_modmap\r\n",
      "-rwxr-xr-x 1 root root 23040 10月  2  2012 /usr/bin/X11/mkzftree\r\n",
      "\r\n",
      "Variables \"directory\" + \"prefix\" = /usr/bin/X11/mk*\r\n",
      "\r\n",
      "Trying aliased \"lll\":\r\n",
      "-rwxr-xr-x 1 root root  8774  1月 13  2014 /usr/bin/X11/mkdiskimage\r\n",
      "-rwxr-xr-x 1 root root 31328  1月 14  2015 /usr/bin/X11/mkfifo\r\n",
      "-rwxr-xr-x 1 root root    65  1月  6  2014 /usr/bin/X11/mkfontdir\r\n",
      "-rwxr-xr-x 1 root root 32264  1月  6  2014 /usr/bin/X11/mkfontscale\r\n",
      "lrwxrwxrwx 1 root root    11  6月 12 17:31 /usr/bin/X11/mkisofs -> genisoimage\r\n",
      "-rwxr-xr-x 1 root root 10576 10月 10  2013 /usr/bin/X11/mkmanifest\r\n",
      "-rwxr-xr-x 1 root root 16163  2月 18  2013 /usr/bin/X11/mk_modmap\r\n",
      "-rwxr-xr-x 1 root root 23040 10月  2  2012 /usr/bin/X11/mkzftree\r\n",
      "\r\n",
      "Trying aliased \"rr\" within if/then statement:\r\n",
      "alias.sh: line 40: rr: command not found\r\n",
      "However, previously expanded alias still recognized:\r\n",
      "-rwxr-xr-x 1 root root  8774  1月 13  2014 /usr/bin/X11/mkdiskimage\r\n",
      "-rwxr-xr-x 1 root root 31328  1月 14  2015 /usr/bin/X11/mkfifo\r\n",
      "-rwxr-xr-x 1 root root    65  1月  6  2014 /usr/bin/X11/mkfontdir\r\n",
      "-rwxr-xr-x 1 root root 32264  1月  6  2014 /usr/bin/X11/mkfontscale\r\n",
      "lrwxrwxrwx 1 root root    11  6月 12 17:31 /usr/bin/X11/mkisofs -> genisoimage\r\n",
      "-rwxr-xr-x 1 root root 10576 10月 10  2013 /usr/bin/X11/mkmanifest\r\n",
      "-rwxr-xr-x 1 root root 16163  2月 18  2013 /usr/bin/X11/mk_modmap\r\n",
      "-rwxr-xr-x 1 root root 23040 10月  2  2012 /usr/bin/X11/mkzftree\r\n",
      "\r\n",
      "Trying aliased \"rrr\" within \"while\" loop:\r\n",
      "alias.sh: line 53: rrr: command not found\r\n",
      "Trying aliased \"rrr\" within \"while\" loop:\r\n",
      "alias.sh: line 53: rrr: command not found\r\n",
      "Trying aliased \"rrr\" within \"while\" loop:\r\n",
      "alias.sh: line 53: rrr: command not found\r\n",
      "\r\n",
      "#!/bin/bash\r\n",
      "# alias.sh\r\n",
      "\r\n",
      "shopt -s expand_aliases\r\n",
      "# Must set this option, else script will not expand aliases.\r\n",
      "\r\n",
      "# First, some fun.\r\n",
      "alias Jesse_James='echo \"\\\"Alias Jesse James\\\" was a 1959 comedy starring Bob Hope.\"'\r\n",
      "Jesse_James\r\n",
      "\r\n",
      "echo\r\n",
      "\r\n",
      "alias ll=\"ls -l\"\r\n",
      "# May use either single (') or double (\") quotes to define an alias.\r\n",
      "\r\n",
      "echo \"Trying aliased \\\"ll\\\":\"\r\n",
      "ll /usr/bin/X11/mk*  #* Alias works.\r\n",
      "\r\n",
      "echo\r\n",
      "\r\n",
      "directory=/usr/bin/X11/\r\n",
      "prefix=mk*           # See if wild card causes problems.\r\n",
      "echo \"Variables \\\"directory\\\" + \\\"prefix\\\" = $directory$prefix\"\r\n",
      "\r\n",
      "echo\r\n",
      "\r\n",
      "alias lll=\"ls -l $directory$prefix\"\r\n",
      "echo \"Trying aliased \\\"lll\\\":\"\r\n",
      "lll       # Long listing of all files in /usr/X11R6/bin stating with mk.\r\n",
      "          # An alias can handle concatenated variables -- including wild card -- o.k.\r\n",
      "\r\n",
      "\r\n",
      "TRUE=1\r\n",
      "echo\r\n",
      "\r\n",
      "if [ TRUE ]\r\n",
      "then\r\n",
      "  alias rr=\"ls -l\"\r\n",
      "  echo \"Trying aliased \\\"rr\\\" within if/then statement:\"\r\n",
      "  rr /usr/bin/X11/mk*      #* Error message results!\r\n",
      "  # Aliases not expanded within compound statements.\r\n",
      "  echo \"However, previously expanded alias still recognized:\"\r\n",
      "  ll /usr/bin/X11/mk*\r\n",
      "fi\r\n",
      "\r\n",
      "echo\r\n",
      "\r\n",
      "count=0\r\n",
      "while [ $count -lt 3 ]\r\n",
      "do\r\n",
      "  alias rrr=\"ls -l\"\r\n",
      "  echo \"Trying aliased \\\"rrr\\\" within \\\"while\\\" loop:\"\r\n",
      "  rrr /usr/bin/X11/mk*      #* Alias will not expand here either.\r\n",
      "  # alias.sh: line 57: rrr: command not found\r\n",
      "  let count+=1\r\n",
      "done\r\n",
      "\r\n",
      "echo\r\n",
      "\r\n",
      "alias xyz='cat $0' # Script lists itself.\r\n",
      "                   # Note strong quotes.\r\n",
      "xyz\r\n",
      "#  This seems to work,\r\n",
      "#+ although the Bash documentation suggests that it shouldn't.\r\n",
      "#\r\n",
      "#  However, as Steve Jacobson points out,\r\n",
      "#+ the \"$0\" parameter expands immediately upon declaration of the alias.\r\n",
      "\r\n",
      "exit 0\r\n"
     ]
    }
   ],
   "source": [
    "bash alias.sh"
   ]
  },
  {
   "cell_type": "markdown",
   "metadata": {},
   "source": [
    "The unalias command removes a previously set alias."
   ]
  },
  {
   "cell_type": "markdown",
   "metadata": {},
   "source": [
    "#### Example 25-2. unalias: Setting and unsetting an aliasf"
   ]
  },
  {
   "cell_type": "code",
   "execution_count": 4,
   "metadata": {
    "collapsed": false
   },
   "outputs": [
    {
     "name": "stdout",
     "output_type": "stream",
     "text": [
      "#!/bin/bash\r\n",
      "# unalias.sh\r\n",
      "\r\n",
      "shopt -s expand_aliases   # Enables alias expansion.\r\n",
      "\r\n",
      "alias llw='ls -al | wc -l'\r\n",
      "llw\r\n",
      "\r\n",
      "echo\r\n",
      "\r\n",
      "unalias llw               # Unset alias.\r\n",
      "llw\r\n",
      "# Error message results, since 'llw' no longer recognized.\r\n",
      "\r\n",
      "exit 0\r\n"
     ]
    }
   ],
   "source": [
    "cat unalias.sh "
   ]
  },
  {
   "cell_type": "code",
   "execution_count": 5,
   "metadata": {
    "collapsed": false
   },
   "outputs": [
    {
     "name": "stdout",
     "output_type": "stream",
     "text": [
      "23\r\n",
      "\r\n",
      "unalias.sh: line 12: llw: command not found\r\n"
     ]
    }
   ],
   "source": [
    "bash unalias.sh"
   ]
  }
 ],
 "metadata": {
  "kernelspec": {
   "display_name": "Bash",
   "language": "bash",
   "name": "bash"
  },
  "language_info": {
   "codemirror_mode": "shell",
   "file_extension": ".sh",
   "mimetype": "text/x-sh",
   "name": "bash"
  }
 },
 "nbformat": 4,
 "nbformat_minor": 0
}
