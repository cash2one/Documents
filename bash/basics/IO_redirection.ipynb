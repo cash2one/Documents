{
 "cells": [
  {
   "cell_type": "markdown",
   "metadata": {},
   "source": [
    "## 20.I/O Redirection"
   ]
  },
  {
   "cell_type": "markdown",
   "metadata": {},
   "source": [
    "There are always three default files open, stdin (the keyboard), stdout (the screen), and stderr(error messages output to the screen). These, and any other open files, can be redirected. Redirection simply means capturing output from a file, command, program, script, or even code block within a script (see Example 3-1 and Example 3-2) and sending it as input to another file, command, program, or script."
   ]
  },
  {
   "cell_type": "markdown",
   "metadata": {},
   "source": [
    "Each open file gets assigned a file descriptor. The file descriptors for stdin, stdout, and stderr are 0, 1, and 2, respectively. For opening additional files, there remain descriptors 3 to 9. It is sometimes useful to assign one of these additional file descriptors to stdin, stdout, or stderr as a temporary duplicate link. This simplifies restoration to normal after complex redirection and reshuffling (see Example 20-1)."
   ]
  },
  {
   "cell_type": "raw",
   "metadata": {},
   "source": [
    "COMMAND_OUTPUT >\n",
    "    # Redirect stdout to a file.\n",
    "    # Creates the file if not present, otherwise overwrites it."
   ]
  },
  {
   "cell_type": "code",
   "execution_count": 1,
   "metadata": {
    "collapsed": false
   },
   "outputs": [
    {
     "name": "stdout",
     "output_type": "stream",
     "text": [
      ".:\r\n",
      "total 504\r\n",
      "-rw-rw-r-- 1 liheyi liheyi 122146 8月  19 01:31 another_look_at_variables.ipynb\r\n",
      "-rw-rw-r-- 1 liheyi liheyi   4849 8月  20 22:45 arithmetic_expansion.ipynb\r\n",
      "-rw-rw-r-- 1 liheyi liheyi   5546 8月  16 21:24 command_line_shortcut.ipynb\r\n",
      "-rw-rw-r-- 1 liheyi liheyi  19707 8月  19 02:47 command_substitution.ipynb\r\n",
      "-rw-rw-r-- 1 liheyi liheyi      0 8月  30 21:19 dir-tree.list\r\n",
      "-rw-rw-r-- 1 liheyi liheyi   7252 8月  16 21:24 exit_and_exit_status.ipynb\r\n",
      "-rw-rw-r-- 1 liheyi liheyi   1494 8月  30 21:18 IO_redirection.ipynb\r\n",
      "-rw-rw-r-- 1 liheyi liheyi 117471 8月  20 22:22 loops_and_branches.ipynb\r\n",
      "-rw-rw-r-- 1 liheyi liheyi  67279 8月  19 01:31 manipulate_variables.ipynb\r\n",
      "-rw-rw-r-- 1 liheyi liheyi  28335 8月  17 23:15 operations_and_related_topics.ipynb\r\n",
      "-rw-rw-r-- 1 liheyi liheyi  31133 8月  16 21:24 quoting.ipynb\r\n",
      "-rw-rw-r-- 1 liheyi liheyi  55789 8月  16 21:24 test.ipynb\r\n",
      "-rw-rw-r-- 1 liheyi liheyi  35745 8月  16 21:24 variables_and_parameters.ipynb\r\n"
     ]
    }
   ],
   "source": [
    "# Creates a file containing a listing of the directory tree.\n",
    "ls -lR > dir-tree.list\n",
    "cat dir-tree.list"
   ]
  },
  {
   "cell_type": "raw",
   "metadata": {},
   "source": [
    ": > filename\n",
    "    # The > truncates file \"filename\" to zero length.\n",
    "    # If file not present, creates zero-length file (same effect as 'touch').\n",
    "    # The : serves as a dummy placeholder, producing no output."
   ]
  },
  {
   "cell_type": "raw",
   "metadata": {},
   "source": [
    "> filename\n",
    "    # The > truncates file \"filename\" to zero length.\n",
    "    # If file not present, creates zero-length file (same effect as 'touch').\n",
    "    # (Same result as \": >\", above, but this does not work with some shells.)"
   ]
  },
  {
   "cell_type": "code",
   "execution_count": 2,
   "metadata": {
    "collapsed": false
   },
   "outputs": [
    {
     "name": "stdout",
     "output_type": "stream",
     "text": [
      "-rw-rw-r-- 1 liheyi liheyi 0 8月  30 21:20 dir-tree.list\r\n"
     ]
    }
   ],
   "source": [
    ": > dir-tree.list\n",
    "ls -l dir-tree.list"
   ]
  },
  {
   "cell_type": "raw",
   "metadata": {},
   "source": [
    "COMMAND_OUTPUT >>\n",
    "    # Redirect stdout to a file.\n",
    "    # Creates the file if not present, otherwise appends to it."
   ]
  },
  {
   "cell_type": "code",
   "execution_count": 4,
   "metadata": {
    "collapsed": false
   },
   "outputs": [
    {
     "name": "stdout",
     "output_type": "stream",
     "text": [
      "total 504\r\n",
      "-rw-rw-r-- 1 liheyi liheyi 122146 8月  19 01:31 another_look_at_variables.ipynb\r\n",
      "-rw-rw-r-- 1 liheyi liheyi   4849 8月  20 22:45 arithmetic_expansion.ipynb\r\n",
      "-rw-rw-r-- 1 liheyi liheyi   5546 8月  16 21:24 command_line_shortcut.ipynb\r\n",
      "-rw-rw-r-- 1 liheyi liheyi  19707 8月  19 02:47 command_substitution.ipynb\r\n",
      "-rw-rw-r-- 1 liheyi liheyi      0 8月  30 21:22 dir-tree.list\r\n",
      "-rw-rw-r-- 1 liheyi liheyi   7252 8月  16 21:24 exit_and_exit_status.ipynb\r\n",
      "-rw-rw-r-- 1 liheyi liheyi   3480 8月  30 21:20 IO_redirection.ipynb\r\n",
      "-rw-rw-r-- 1 liheyi liheyi 117471 8月  20 22:22 loops_and_branches.ipynb\r\n",
      "-rw-rw-r-- 1 liheyi liheyi  67279 8月  19 01:31 manipulate_variables.ipynb\r\n",
      "-rw-rw-r-- 1 liheyi liheyi  28335 8月  17 23:15 operations_and_related_topics.ipynb\r\n",
      "-rw-rw-r-- 1 liheyi liheyi  31133 8月  16 21:24 quoting.ipynb\r\n",
      "-rw-rw-r-- 1 liheyi liheyi  55789 8月  16 21:24 test.ipynb\r\n",
      "-rw-rw-r-- 1 liheyi liheyi  35745 8月  16 21:24 variables_and_parameters.ipynb\r\n"
     ]
    }
   ],
   "source": [
    "ls -l > dir-tree.list\n",
    "cat dir-tree.list"
   ]
  },
  {
   "cell_type": "code",
   "execution_count": 5,
   "metadata": {
    "collapsed": false
   },
   "outputs": [
    {
     "name": "stdout",
     "output_type": "stream",
     "text": [
      "total 504\r\n",
      "-rw-rw-r-- 1 liheyi liheyi 122146 8月  19 01:31 another_look_at_variables.ipynb\r\n",
      "-rw-rw-r-- 1 liheyi liheyi   4849 8月  20 22:45 arithmetic_expansion.ipynb\r\n",
      "-rw-rw-r-- 1 liheyi liheyi   5546 8月  16 21:24 command_line_shortcut.ipynb\r\n",
      "-rw-rw-r-- 1 liheyi liheyi  19707 8月  19 02:47 command_substitution.ipynb\r\n",
      "-rw-rw-r-- 1 liheyi liheyi      0 8月  30 21:22 dir-tree.list\r\n",
      "-rw-rw-r-- 1 liheyi liheyi   7252 8月  16 21:24 exit_and_exit_status.ipynb\r\n",
      "-rw-rw-r-- 1 liheyi liheyi   3480 8月  30 21:20 IO_redirection.ipynb\r\n",
      "-rw-rw-r-- 1 liheyi liheyi 117471 8月  20 22:22 loops_and_branches.ipynb\r\n",
      "-rw-rw-r-- 1 liheyi liheyi  67279 8月  19 01:31 manipulate_variables.ipynb\r\n",
      "-rw-rw-r-- 1 liheyi liheyi  28335 8月  17 23:15 operations_and_related_topics.ipynb\r\n",
      "-rw-rw-r-- 1 liheyi liheyi  31133 8月  16 21:24 quoting.ipynb\r\n",
      "-rw-rw-r-- 1 liheyi liheyi  55789 8月  16 21:24 test.ipynb\r\n",
      "-rw-rw-r-- 1 liheyi liheyi  35745 8月  16 21:24 variables_and_parameters.ipynb\r\n",
      "Filesystem      Size  Used Avail Use% Mounted on\r\n",
      "udev            469M     0  469M   0% /dev\r\n",
      "tmpfs            98M  6.2M   92M   7% /run\r\n",
      "/dev/sda1        77G  6.2G   67G   9% /\r\n",
      "tmpfs           488M     0  488M   0% /dev/shm\r\n",
      "tmpfs           5.0M  4.0K  5.0M   1% /run/lock\r\n",
      "tmpfs           488M     0  488M   0% /sys/fs/cgroup\r\n",
      "tmpfs            98M   12K   98M   1% /run/user/1000\r\n"
     ]
    }
   ],
   "source": [
    "df -lh >> dir-tree.list\n",
    "cat dir-tree.list"
   ]
  },
  {
   "cell_type": "raw",
   "metadata": {},
   "source": [
    "1>filename\n",
    "    # Redirect stdout to file \"filename.\""
   ]
  },
  {
   "cell_type": "code",
   "execution_count": 6,
   "metadata": {
    "collapsed": false
   },
   "outputs": [
    {
     "name": "stdout",
     "output_type": "stream",
     "text": [
      "total 508\r\n",
      "-rw-rw-r-- 1 liheyi liheyi 122146 8月  19 01:31 another_look_at_variables.ipynb\r\n",
      "-rw-rw-r-- 1 liheyi liheyi   4849 8月  20 22:45 arithmetic_expansion.ipynb\r\n",
      "-rw-rw-r-- 1 liheyi liheyi   5546 8月  16 21:24 command_line_shortcut.ipynb\r\n",
      "-rw-rw-r-- 1 liheyi liheyi  19707 8月  19 02:47 command_substitution.ipynb\r\n",
      "-rw-rw-r-- 1 liheyi liheyi   7252 8月  16 21:24 exit_and_exit_status.ipynb\r\n",
      "-rw-rw-r-- 1 liheyi liheyi   7889 8月  30 21:28 IO_redirection.ipynb\r\n",
      "-rw-rw-r-- 1 liheyi liheyi 117471 8月  20 22:22 loops_and_branches.ipynb\r\n",
      "-rw-rw-r-- 1 liheyi liheyi      0 8月  30 21:28 ls.list\r\n",
      "-rw-rw-r-- 1 liheyi liheyi  67279 8月  19 01:31 manipulate_variables.ipynb\r\n",
      "-rw-rw-r-- 1 liheyi liheyi  28335 8月  17 23:15 operations_and_related_topics.ipynb\r\n",
      "-rw-rw-r-- 1 liheyi liheyi  31133 8月  16 21:24 quoting.ipynb\r\n",
      "-rw-rw-r-- 1 liheyi liheyi  55789 8月  16 21:24 test.ipynb\r\n",
      "-rw-rw-r-- 1 liheyi liheyi  35745 8月  16 21:24 variables_and_parameters.ipynb\r\n"
     ]
    }
   ],
   "source": [
    "ls -l 1> ls.list\n",
    "cat ls.list"
   ]
  },
  {
   "cell_type": "raw",
   "metadata": {},
   "source": [
    "1>>filename\n",
    "    # Redirect and append stdout to file \"filename.\""
   ]
  },
  {
   "cell_type": "code",
   "execution_count": 8,
   "metadata": {
    "collapsed": false
   },
   "outputs": [
    {
     "name": "stdout",
     "output_type": "stream",
     "text": [
      "total 508\r\n",
      "-rw-rw-r-- 1 liheyi liheyi 122146 8月  19 01:31 another_look_at_variables.ipynb\r\n",
      "-rw-rw-r-- 1 liheyi liheyi   4849 8月  20 22:45 arithmetic_expansion.ipynb\r\n",
      "-rw-rw-r-- 1 liheyi liheyi   5546 8月  16 21:24 command_line_shortcut.ipynb\r\n",
      "-rw-rw-r-- 1 liheyi liheyi  19707 8月  19 02:47 command_substitution.ipynb\r\n",
      "-rw-rw-r-- 1 liheyi liheyi   7252 8月  16 21:24 exit_and_exit_status.ipynb\r\n",
      "-rw-rw-r-- 1 liheyi liheyi   7889 8月  30 21:28 IO_redirection.ipynb\r\n",
      "-rw-rw-r-- 1 liheyi liheyi 117471 8月  20 22:22 loops_and_branches.ipynb\r\n",
      "-rw-rw-r-- 1 liheyi liheyi      0 8月  30 21:28 ls.list\r\n",
      "-rw-rw-r-- 1 liheyi liheyi  67279 8月  19 01:31 manipulate_variables.ipynb\r\n",
      "-rw-rw-r-- 1 liheyi liheyi  28335 8月  17 23:15 operations_and_related_topics.ipynb\r\n",
      "-rw-rw-r-- 1 liheyi liheyi  31133 8月  16 21:24 quoting.ipynb\r\n",
      "-rw-rw-r-- 1 liheyi liheyi  55789 8月  16 21:24 test.ipynb\r\n",
      "-rw-rw-r-- 1 liheyi liheyi  35745 8月  16 21:24 variables_and_parameters.ipynb\r\n",
      "Active Internet connections (only servers)\r\n",
      "Proto Recv-Q Send-Q Local Address           Foreign Address         State      \r\n",
      "tcp        0      0 127.0.0.1:41427         0.0.0.0:*               LISTEN     \r\n",
      "tcp        0      0 127.0.0.1:33942         0.0.0.0:*               LISTEN     \r\n",
      "tcp        0      0 127.0.0.1:33433         0.0.0.0:*               LISTEN     \r\n",
      "tcp        0      0 127.0.0.1:44445         0.0.0.0:*               LISTEN     \r\n",
      "tcp        0      0 0.0.0.0:8000            0.0.0.0:*               LISTEN     \r\n",
      "tcp        0      0 127.0.0.1:46561         0.0.0.0:*               LISTEN     \r\n",
      "tcp        0      0 0.0.0.0:22022           0.0.0.0:*               LISTEN     \r\n",
      "tcp        0      0 127.0.0.1:60583         0.0.0.0:*               LISTEN     \r\n",
      "tcp6       0      0 :::8000                 :::*                    LISTEN     \r\n",
      "tcp6       0      0 :::22022                :::*                    LISTEN     \r\n"
     ]
    }
   ],
   "source": [
    "netstat -lnt 1>> ls.list\n",
    "cat ls.list"
   ]
  },
  {
   "cell_type": "raw",
   "metadata": {},
   "source": [
    "2>filename\n",
    "    # Redirect stderr to file \"filename.\""
   ]
  },
  {
   "cell_type": "code",
   "execution_count": 11,
   "metadata": {
    "collapsed": false
   },
   "outputs": [
    {
     "name": "stdout",
     "output_type": "stream",
     "text": []
    }
   ],
   "source": [
    "df -lh /data 2> df.error"
   ]
  },
  {
   "cell_type": "code",
   "execution_count": 12,
   "metadata": {
    "collapsed": false
   },
   "outputs": [
    {
     "name": "stdout",
     "output_type": "stream",
     "text": [
      "df: /data: No such file or directory\r\n"
     ]
    }
   ],
   "source": [
    "cat df.error"
   ]
  },
  {
   "cell_type": "raw",
   "metadata": {},
   "source": [
    "2>>filename\n",
    "    # Redirect and append stderr to file \"filename.\""
   ]
  },
  {
   "cell_type": "code",
   "execution_count": 13,
   "metadata": {
    "collapsed": false
   },
   "outputs": [
    {
     "name": "stdout",
     "output_type": "stream",
     "text": [
      "Filesystem      Size  Used Avail Use% Mounted on\r\n",
      "udev            469M     0  469M   0% /dev\r\n",
      "tmpfs            98M  6.2M   92M   7% /run\r\n",
      "/dev/sda1        77G  6.2G   67G   9% /\r\n",
      "tmpfs           488M     0  488M   0% /dev/shm\r\n",
      "tmpfs           5.0M  4.0K  5.0M   1% /run/lock\r\n",
      "tmpfs           488M     0  488M   0% /sys/fs/cgroup\r\n",
      "tmpfs            98M   12K   98M   1% /run/user/1000\r\n"
     ]
    }
   ],
   "source": [
    "cat df.error"
   ]
  },
  {
   "cell_type": "code",
   "execution_count": 15,
   "metadata": {
    "collapsed": false
   },
   "outputs": [
    {
     "name": "stdout",
     "output_type": "stream",
     "text": []
    }
   ],
   "source": [
    "df -lh /data 2>> df.error"
   ]
  },
  {
   "cell_type": "code",
   "execution_count": 16,
   "metadata": {
    "collapsed": false
   },
   "outputs": [
    {
     "name": "stdout",
     "output_type": "stream",
     "text": [
      "Filesystem      Size  Used Avail Use% Mounted on\r\n",
      "udev            469M     0  469M   0% /dev\r\n",
      "tmpfs            98M  6.2M   92M   7% /run\r\n",
      "/dev/sda1        77G  6.2G   67G   9% /\r\n",
      "tmpfs           488M     0  488M   0% /dev/shm\r\n",
      "tmpfs           5.0M  4.0K  5.0M   1% /run/lock\r\n",
      "tmpfs           488M     0  488M   0% /sys/fs/cgroup\r\n",
      "tmpfs            98M   12K   98M   1% /run/user/1000\r\n",
      "df: /data: No such file or directory\r\n"
     ]
    }
   ],
   "source": [
    "cat df.error"
   ]
  },
  {
   "cell_type": "raw",
   "metadata": {},
   "source": [
    "&>filename\n",
    "    # Redirect both stdout and stderr to file \"filename.\"\n",
    "    # This operator is now functional, as of Bash 4, final release."
   ]
  },
  {
   "cell_type": "code",
   "execution_count": 17,
   "metadata": {
    "collapsed": false
   },
   "outputs": [
    {
     "name": "stdout",
     "output_type": "stream",
     "text": []
    }
   ],
   "source": [
    "ls -l /home/liheyi/ /data &> ls.output.error"
   ]
  },
  {
   "cell_type": "code",
   "execution_count": 18,
   "metadata": {
    "collapsed": false
   },
   "outputs": [
    {
     "name": "stdout",
     "output_type": "stream",
     "text": [
      "ls: cannot access '/data': No such file or directory\r\n",
      "/home/liheyi/:\r\n",
      "total 20\r\n",
      "drwxrwxr-x 12 liheyi liheyi 4096 8月  30 21:12 anaconda2\r\n",
      "-rw-r--r--  1 liheyi liheyi 8980 8月  16 19:45 examples.desktop\r\n",
      "drwxrwxr-x  7 liheyi liheyi 4096 8月  30 21:04 jupyter\r\n"
     ]
    }
   ],
   "source": [
    "cat ls.output.error"
   ]
  },
  {
   "cell_type": "raw",
   "metadata": {},
   "source": [
    "M>N\n",
    "    # \"M\" is a file descriptor, which defaults to 1, if not explicitly set.\n",
    "    # \"N\" is a filename.\n",
    "    # File descriptor \"M\" is redirect to file \"N.\""
   ]
  },
  {
   "cell_type": "raw",
   "metadata": {},
   "source": [
    "M>&N\n",
    "    # \"M\" is a file descriptor, which defaults to 1, if not set.\n",
    "    # \"N\" is another file descriptor."
   ]
  },
  {
   "cell_type": "code",
   "execution_count": 19,
   "metadata": {
    "collapsed": false
   },
   "outputs": [
    {
     "name": "stdout",
     "output_type": "stream",
     "text": [
      "This statement is echoed to stdout, and will not appear in \"script.log\".\r\n"
     ]
    }
   ],
   "source": [
    "# Redirecting stdout, one line at a time.\n",
    "LOGFILE=script.log\n",
    "echo \"This statement is sent to the log file, \\\"$LOGFILE\\\".\" 1>$LOGFILE\n",
    "echo \"This statement is appended to \\\"$LOGFILE\\\".\" 1>>$LOGFILE\n",
    "echo \"This statement is also appended to \\\"$LOGFILE\\\".\" 1>>$LOGFILE\n",
    "echo \"This statement is echoed to stdout, and will not appear in \\\"$LOGFILE\\\".\"\n",
    "\n",
    "# These redirection commands automatically \"reset\" after each line."
   ]
  },
  {
   "cell_type": "code",
   "execution_count": 20,
   "metadata": {
    "collapsed": false
   },
   "outputs": [
    {
     "name": "stdout",
     "output_type": "stream",
     "text": [
      "This statement is sent to the log file, \"script.log\".\r\n",
      "This statement is appended to \"script.log\".\r\n",
      "This statement is also appended to \"script.log\".\r\n"
     ]
    }
   ],
   "source": [
    "cat script.log"
   ]
  },
  {
   "cell_type": "code",
   "execution_count": 21,
   "metadata": {
    "collapsed": false
   },
   "outputs": [
    {
     "name": "stdout",
     "output_type": "stream",
     "text": [
      "bad_command3: command not found\r\n"
     ]
    }
   ],
   "source": [
    "# Redirecting stderr, one line at a time.\n",
    "ERRORFILE=script.errors\n",
    "\n",
    "# Error message sent to $ERRORFILE.\n",
    "bad_command1 2>$ERRORFILE \n",
    "# Error message appended to $ERRORFILE.\n",
    "bad_command2 2>>$ERRORFILE \n",
    "\n",
    "#  Error message echoed to stderr,\n",
    "#+ and does not appear in $ERRORFILE.\n",
    "bad_command3\n",
    "\n",
    "# These redirection commands also automatically \"reset\" after each line."
   ]
  },
  {
   "cell_type": "code",
   "execution_count": 22,
   "metadata": {
    "collapsed": false
   },
   "outputs": [
    {
     "name": "stdout",
     "output_type": "stream",
     "text": [
      "bad_command1: command not found\r\n",
      "bad_command2: command not found\r\n"
     ]
    }
   ],
   "source": [
    "cat script.errors"
   ]
  },
  {
   "cell_type": "raw",
   "metadata": {},
   "source": [
    "2>&1\n",
    "    # Redirects stderr to stdout.\n",
    "    # Error messages get sent to same place as standard output."
   ]
  },
  {
   "cell_type": "raw",
   "metadata": {},
   "source": [
    ">>filename 2>&1\n",
    "    # Appends both stdout and stderr to the file \"filename\" ..."
   ]
  },
  {
   "cell_type": "code",
   "execution_count": 23,
   "metadata": {
    "collapsed": false
   },
   "outputs": [
    {
     "name": "stdout",
     "output_type": "stream",
     "text": []
    }
   ],
   "source": [
    "bad_command >>command.error 2>&1"
   ]
  },
  {
   "cell_type": "code",
   "execution_count": 24,
   "metadata": {
    "collapsed": false
   },
   "outputs": [
    {
     "name": "stdout",
     "output_type": "stream",
     "text": [
      "bad_command: command not found\r\n"
     ]
    }
   ],
   "source": [
    "cat command.error"
   ]
  },
  {
   "cell_type": "raw",
   "metadata": {},
   "source": [
    "2>&1 | [command(s)]\n",
    "    # Sends stderr through a pipe.\n",
    "    # |& was added to Bash 4 as an abbreviation for 2>&1 |"
   ]
  },
  {
   "cell_type": "code",
   "execution_count": 29,
   "metadata": {
    "collapsed": false
   },
   "outputs": [
    {
     "name": "stdout",
     "output_type": "stream",
     "text": [
      "found\r\n"
     ]
    }
   ],
   "source": [
    "bad_command 2>&1 | awk '{print $4}'"
   ]
  },
  {
   "cell_type": "raw",
   "metadata": {},
   "source": [
    "i>&j\n",
    "    # Redirects file descriptor i to j.\n",
    "    # All output of file pointed to by i gets sent to file pointed to by j"
   ]
  },
  {
   "cell_type": "raw",
   "metadata": {},
   "source": [
    ">&j\n",
    "    # Redirects, by default, file descriptor 1 (stdout) to j.\n",
    "    # All stdout gets sent to file pointed to by j."
   ]
  },
  {
   "cell_type": "raw",
   "metadata": {},
   "source": [
    "0< FILENAME\n",
    "< FILENAME\n",
    "    # Accept input from a file.\n",
    "    # Companion command to \">\", and often used in combination with it"
   ]
  },
  {
   "cell_type": "code",
   "execution_count": 30,
   "metadata": {
    "collapsed": false
   },
   "outputs": [
    {
     "name": "stdout",
     "output_type": "stream",
     "text": [
      "bad_command1: command not found\r\n",
      "bad_command2: command not found\r\n"
     ]
    }
   ],
   "source": [
    "grep 'command' < script.errors"
   ]
  },
  {
   "cell_type": "raw",
   "metadata": {},
   "source": [
    "[j]<>filename\n",
    "    #  Open file \"filename\" for reading and writing,\n",
    "    #+ and assign file descriptor \"j\" to it.\n",
    "    #  If \"filename\" does not exist, create it.\n",
    "    #  If file descriptor \"j\" is not specified, default to fd 0, stdin."
   ]
  },
  {
   "cell_type": "code",
   "execution_count": 32,
   "metadata": {
    "collapsed": false
   },
   "outputs": [
    {
     "name": "stdout",
     "output_type": "stream",
     "text": [
      "1234.67890\r\n"
     ]
    }
   ],
   "source": [
    "# An application of this is writing at a specified place in a file.\n",
    "\n",
    "# Write string to file.txt\n",
    "echo '1234567890' > file.txt\n",
    "# Open file.txt and assign fd 3 to it.\n",
    "exec 3<> file.txt\n",
    "# Read only 4 characters.\n",
    "read -n 4 <&3\n",
    "# Write a decimal point there.\n",
    "echo -n . >&3\n",
    "# Close fd 3.\n",
    "exec 3>&-\n",
    "\n",
    "cat file.txt"
   ]
  },
  {
   "cell_type": "raw",
   "metadata": {},
   "source": [
    "|\n",
    "    # Pipe.\n",
    "    # General purpose process and command chaining tool.\n",
    "    # Similar to \">\", but more general in effect.\n",
    "    # Useful for chaining commands, scripts, files, and programs together."
   ]
  },
  {
   "cell_type": "code",
   "execution_count": 33,
   "metadata": {
    "collapsed": false
   },
   "outputs": [
    {
     "name": "stdout",
     "output_type": "stream",
     "text": []
    }
   ],
   "source": [
    "# Sorts the output of all the .txt files and deletes duplicate lines,\n",
    "# finally saves results to \"result-file\".\n",
    "cat *.txt | sort | uniq > result-file"
   ]
  },
  {
   "cell_type": "code",
   "execution_count": 34,
   "metadata": {
    "collapsed": false
   },
   "outputs": [
    {
     "name": "stdout",
     "output_type": "stream",
     "text": [
      "This is the contents of file1.txt.\r\n",
      "This is the contents of file2.txt.\r\n",
      "This is the contents of file3.txt.\r\n",
      "This is the contents of file4.txt.\r\n"
     ]
    }
   ],
   "source": [
    "cat result-file"
   ]
  },
  {
   "cell_type": "markdown",
   "metadata": {},
   "source": [
    "Multiple instances of input and output redirection and/or pipes can be combined in a single command line."
   ]
  },
  {
   "cell_type": "raw",
   "metadata": {},
   "source": [
    "command < input-file > output-file\n",
    "\n",
    "# Or the equivalent:\n",
    "< input-file command > output-file \n",
    "# Although this is non-standard."
   ]
  },
  {
   "cell_type": "code",
   "execution_count": null,
   "metadata": {
    "collapsed": true
   },
   "outputs": [],
   "source": []
  },
  {
   "cell_type": "raw",
   "metadata": {},
   "source": [
    "command1 | command2 | command3 > output-file"
   ]
  },
  {
   "cell_type": "code",
   "execution_count": 35,
   "metadata": {
    "collapsed": false
   },
   "outputs": [
    {
     "name": "stdout",
     "output_type": "stream",
     "text": [
      "This is the contents of file1.txt.\r\n",
      "This is the contents of file2.txt.\r\n",
      "This is the contents of file3.txt.\r\n",
      "This is the contents of file4.txt.\r\n"
     ]
    }
   ],
   "source": [
    "cat *.txt | sort | uniq"
   ]
  },
  {
   "cell_type": "code",
   "execution_count": 36,
   "metadata": {
    "collapsed": false
   },
   "outputs": [
    {
     "name": "stdout",
     "output_type": "stream",
     "text": []
    }
   ],
   "source": [
    "#  Capture result of illegal options \"yz\" in file \"command.log.\"\n",
    "#  Because stderr is redirected to the file,\n",
    "#+ any error messages will also be there.\n",
    "ls -yz >> command.log 2>&1"
   ]
  },
  {
   "cell_type": "code",
   "execution_count": 37,
   "metadata": {
    "collapsed": false
   },
   "outputs": [
    {
     "name": "stdout",
     "output_type": "stream",
     "text": [
      "ls: invalid option -- 'y'\r\n",
      "Try 'ls --help' for more information.\r\n"
     ]
    }
   ],
   "source": [
    "cat command.log"
   ]
  },
  {
   "cell_type": "code",
   "execution_count": 39,
   "metadata": {
    "collapsed": false
   },
   "outputs": [
    {
     "name": "stdout",
     "output_type": "stream",
     "text": [
      "ls: invalid option -- 'z'\r\n",
      "Try 'ls --help' for more information.\r\n"
     ]
    }
   ],
   "source": [
    "# Note, however, that the following does *not* give the same result.\n",
    "ls -z 2>&1 >> command.log\n",
    "#  Outputs an error message, but does not write to file.\n",
    "#  More precisely, the command output (in this case, null)\n",
    "#+ writes to the file, but the error message goes only to stdout.\n",
    "\n",
    "# If redirecting both stdout and stderr,\n",
    "#+ the order of the commands makes a difference."
   ]
  },
  {
   "cell_type": "code",
   "execution_count": 41,
   "metadata": {
    "collapsed": false
   },
   "outputs": [
    {
     "name": "stdout",
     "output_type": "stream",
     "text": [
      "ls: invalid option -- 'y'\r\n",
      "Try 'ls --help' for more information.\r\n"
     ]
    }
   ],
   "source": [
    "cat command.log"
   ]
  },
  {
   "cell_type": "markdown",
   "metadata": {},
   "source": [
    "#### Closing File Descriptors"
   ]
  },
  {
   "cell_type": "markdown",
   "metadata": {},
   "source": [
    "##### n<&-\n",
    "    Close input file descriptor n.\n",
    "##### 0<&-, <&-\n",
    "    Close stdin.\n",
    "##### n>&-\n",
    "    Close output file descriptor n.\n",
    "##### 1>&-, >&-\n",
    "    Close stdout."
   ]
  },
  {
   "cell_type": "markdown",
   "metadata": {},
   "source": [
    "Child processes inherit open file descriptors.   \n",
    "This is why pipes work.   \n",
    "To prevent an fd from being inherited, close it."
   ]
  },
  {
   "cell_type": "code",
   "execution_count": 44,
   "metadata": {
    "collapsed": false
   },
   "outputs": [
    {
     "name": "stdout",
     "output_type": "stream",
     "text": [
      "total 532\r\n",
      "-rw-rw-r-- 1 liheyi liheyi 122146 8月  19 01:31 another_look_at_variables.ipynb\r\n",
      "-rw-rw-r-- 1 liheyi liheyi   4849 8月  20 22:45 arithmetic_expansion.ipynb\r\n",
      "-rw-rw-r-- 1 liheyi liheyi   5546 8月  16 21:24 command_line_shortcut.ipynb\r\n",
      "-rw-rw-r-- 1 liheyi liheyi  19707 8月  19 02:47 command_substitution.ipynb\r\n",
      "-rw-rw-r-- 1 liheyi liheyi   7252 8月  16 21:24 exit_and_exit_status.ipynb\r\n",
      "-rw-rw-r-- 1 liheyi liheyi  29237 8月  30 22:40 IO_redirection.ipynb\r\n",
      "-rw-rw-r-- 1 liheyi liheyi 117471 8月  20 22:22 loops_and_branches.ipynb\r\n",
      "-rw-rw-r-- 1 liheyi liheyi  67279 8月  19 01:31 manipulate_variables.ipynb\r\n",
      "-rw-rw-r-- 1 liheyi liheyi  28335 8月  17 23:15 operations_and_related_topics.ipynb\r\n",
      "-rw-rw-r-- 1 liheyi liheyi  31133 8月  16 21:24 quoting.ipynb\r\n",
      "-rw-rw-r-- 1 liheyi liheyi  55789 8月  16 21:24 test.ipynb\r\n",
      "-rw-rw-r-- 1 liheyi liheyi  35745 8月  16 21:24 variables_and_parameters.ipynb\r\n"
     ]
    }
   ],
   "source": [
    "# Redirecting only stderr to a pipe.\n",
    "\n",
    "# Save current \"value\" of stdout.\n",
    "exec 3>&1\n",
    "# Close fd 3 for 'grep' (but not 'ls')\n",
    "ls -l 2>&1 >&3 3>&- | grep bad 3>&-\n",
    "#              ^^^^   ^^^^\n",
    "# Now close it for the remainder of the script.\n",
    "exec 3>&-"
   ]
  },
  {
   "cell_type": "markdown",
   "metadata": {},
   "source": [
    "For a more detailed introduction to I/O redirection see Appendix F."
   ]
  },
  {
   "cell_type": "markdown",
   "metadata": {},
   "source": [
    "### Using exec"
   ]
  },
  {
   "cell_type": "markdown",
   "metadata": {},
   "source": [
    "An exec <filename command redirects stdin to a file.   \n",
    "From that point on, all stdin comes from that file, rather than its normal source (usually keyboard input).   \n",
    "This provides a method of reading a file line by line and possibly parsing each line of input using sed and/or awk."
   ]
  },
  {
   "cell_type": "markdown",
   "metadata": {},
   "source": [
    "#### Example 20-1. Redirecting stdin using exec"
   ]
  },
  {
   "cell_type": "code",
   "execution_count": 45,
   "metadata": {
    "collapsed": false
   },
   "outputs": [
    {
     "name": "stdout",
     "output_type": "stream",
     "text": [
      "#!/bin/bash\r\n",
      "# Redirecting stdin using 'exec'.\r\n",
      "\r\n",
      "# Link file descriptor #6 with stdin.\r\n",
      "# Saves stdin.\r\n",
      "exec 6<&0 \r\n",
      "\r\n",
      "# stdin replaced by file \"data-file\"\r\n",
      "exec < data-file \r\n",
      "\r\n",
      "# Reads first line of file \"data-file\".\r\n",
      "read a1 \r\n",
      "# Reads second line of file \"data-file.\"\r\n",
      "read a2 \r\n",
      "\r\n",
      "echo\r\n",
      "echo \"Following lines read from file.\"\r\n",
      "echo \"-------------------------------\"\r\n",
      "echo $a1\r\n",
      "echo $a2\r\n",
      "echo\r\n",
      "\r\n",
      "exec 0<&6 6<&-\r\n",
      "#  Now restore stdin from fd #6, where it had been saved,\r\n",
      "#+ and close fd #6 ( 6<&- ) to free it for other processes to use.\r\n",
      "#\r\n",
      "#  <&6 6<&- also works.\r\n",
      "\r\n",
      "echo -n \"Enter data \"\r\n",
      "# Now \"read\" functions as expected, reading from normal stdin.\r\n",
      "read b1 \r\n",
      "echo \"Input read from stdin.\"\r\n",
      "echo \"----------------------\"\r\n",
      "echo \"b1 = $b1\"\r\n",
      "\r\n",
      "echo\r\n",
      "exit 0\r\n"
     ]
    }
   ],
   "source": [
    "cat stdin_redirection.sh"
   ]
  },
  {
   "cell_type": "raw",
   "metadata": {},
   "source": [
    "Running Instance:\n",
    "\n",
    "liheyi@liheyi:~/jupyter/bash/basics$ bash stdin_redirection.sh \n",
    "\n",
    "Following lines read from file.\n",
    "-------------------------------\n",
    "This is the first line.\n",
    "This is the second line.\n",
    "\n",
    "Enter data:linux.log\n",
    "Input read from stdin.\n",
    "----------------------\n",
    "b1 = linux.log"
   ]
  },
  {
   "cell_type": "markdown",
   "metadata": {},
   "source": [
    "Similarly, an exec >filename command redirects stdout to a designated file.   \n",
    "This sends all command output that would normally go to stdout to that file."
   ]
  },
  {
   "cell_type": "markdown",
   "metadata": {},
   "source": [
    "exec N > filename affects the entire script or current shell.   \n",
    "Redirection in the PID of the script or shell from that point on has changed.   \n",
    "However:  \n",
    "N > filename affects only the newly-forked process, not the entire script or shell."
   ]
  },
  {
   "cell_type": "markdown",
   "metadata": {},
   "source": [
    "#### Example 20-2. Redirecting stdout using exec"
   ]
  },
  {
   "cell_type": "code",
   "execution_count": 1,
   "metadata": {
    "collapsed": false
   },
   "outputs": [
    {
     "name": "stdout",
     "output_type": "stream",
     "text": [
      "#!/bin/bash\r\n",
      "# reassign-stdout.sh\r\n",
      "\r\n",
      "LOGFILE=logfile.txt\r\n",
      "# Link file descriptor #6 with stdout.\r\n",
      "# Saves stdout.\r\n",
      "exec 6>&1 \r\n",
      "\r\n",
      "# stdout replaced with file \"logfile.txt\".\r\n",
      "exec > $LOGFILE \r\n",
      "\r\n",
      "# ----------------------------------------------------------- #\r\n",
      "# All output from commands in this block sent to file $LOGFILE.\r\n",
      "\r\n",
      "echo -n \"Logfile: \"\r\n",
      "date\r\n",
      "echo \"-------------------------------------\"\r\n",
      "echo\r\n",
      "\r\n",
      "echo \"Output of \\\"ls -al\\\" command\"\r\n",
      "echo\r\n",
      "ls -al\r\n",
      "\r\n",
      "echo\r\n",
      "echo \"Output of \\\"df\\\" command\"\r\n",
      "echo\r\n",
      "df\r\n",
      "\r\n",
      "# ----------------------------------------------------------- #\r\n",
      "# Restore stdout and close file descriptor #6.\r\n",
      "exec 1>&6 6>&- \r\n",
      "\r\n",
      "echo\r\n",
      "echo \"== stdout now restored to default == \"\r\n",
      "echo\r\n",
      "ls -al\r\n",
      "echo\r\n",
      "exit 0\r\n"
     ]
    }
   ],
   "source": [
    "cat reassign-stdout.sh"
   ]
  },
  {
   "cell_type": "code",
   "execution_count": 2,
   "metadata": {
    "collapsed": false
   },
   "outputs": [
    {
     "name": "stdout",
     "output_type": "stream",
     "text": [
      "\r\n",
      "== stdout now restored to default == \r\n",
      "\r\n",
      "total 552\r\n",
      "drwxrwxr-x 3 liheyi liheyi   4096  8月 31 09:57 .\r\n",
      "drwxrwxr-x 7 liheyi liheyi   4096  8月 16 09:51 ..\r\n",
      "-rw-rw-r-- 1 liheyi liheyi 122146  8月 18 12:39 another_look_at_variables.ipynb\r\n",
      "-rw-rw-r-- 1 liheyi liheyi   4849  8月 23 15:07 arithmetic_expansion.ipynb\r\n",
      "-rw-rw-r-- 1 liheyi liheyi   5546  6月 30 17:40 command_line_shortcut.ipynb\r\n",
      "-rw-rw-r-- 1 liheyi liheyi  19707  8月 19 10:49 command_substitution.ipynb\r\n",
      "-rw-rw-r-- 1 liheyi liheyi   7252  8月  3 09:43 exit_and_exit_status.ipynb\r\n",
      "-rw-rw-r-- 1 liheyi liheyi  31941  8月 31 09:55 IO_redirection.ipynb\r\n",
      "drwxr-xr-x 2 liheyi liheyi   4096  8月 31 09:49 .ipynb_checkpoints\r\n",
      "-rw-rw-r-- 1 liheyi liheyi   1799  8月 31 09:58 logfile.txt\r\n",
      "-rw-rw-r-- 1 liheyi liheyi 117471  8月 19 17:57 loops_and_branches.ipynb\r\n",
      "-rw-rw-r-- 1 liheyi liheyi  67279  8月 18 17:45 manipulate_variables.ipynb\r\n",
      "-rw-rw-r-- 1 liheyi liheyi  28335  8月 17 15:24 operations_and_related_topics.ipynb\r\n",
      "-rw-rw-r-- 1 liheyi liheyi  31133  8月 17 14:37 quoting.ipynb\r\n",
      "-rwxr-xr-x 1 liheyi liheyi    684  8月 31 09:57 reassign-stdout.sh\r\n",
      "-rw-rw-r-- 1 liheyi liheyi  55789  8月  3 12:18 test.ipynb\r\n",
      "-rw-rw-r-- 1 liheyi liheyi  35745  8月  2 18:11 variables_and_parameters.ipynb\r\n",
      "\r\n"
     ]
    }
   ],
   "source": [
    "./reassign-stdout.sh"
   ]
  },
  {
   "cell_type": "code",
   "execution_count": 3,
   "metadata": {
    "collapsed": false
   },
   "outputs": [
    {
     "name": "stdout",
     "output_type": "stream",
     "text": [
      "Logfile: 2016年 08月 31日 星期三 09:58:05 CST\r\n",
      "-------------------------------------\r\n",
      "\r\n",
      "Output of \"ls -al\" command\r\n",
      "\r\n",
      "total 552\r\n",
      "drwxrwxr-x 3 liheyi liheyi   4096  8月 31 09:57 .\r\n",
      "drwxrwxr-x 7 liheyi liheyi   4096  8月 16 09:51 ..\r\n",
      "-rw-rw-r-- 1 liheyi liheyi 122146  8月 18 12:39 another_look_at_variables.ipynb\r\n",
      "-rw-rw-r-- 1 liheyi liheyi   4849  8月 23 15:07 arithmetic_expansion.ipynb\r\n",
      "-rw-rw-r-- 1 liheyi liheyi   5546  6月 30 17:40 command_line_shortcut.ipynb\r\n",
      "-rw-rw-r-- 1 liheyi liheyi  19707  8月 19 10:49 command_substitution.ipynb\r\n",
      "-rw-rw-r-- 1 liheyi liheyi   7252  8月  3 09:43 exit_and_exit_status.ipynb\r\n",
      "-rw-rw-r-- 1 liheyi liheyi  31941  8月 31 09:55 IO_redirection.ipynb\r\n",
      "drwxr-xr-x 2 liheyi liheyi   4096  8月 31 09:49 .ipynb_checkpoints\r\n",
      "-rw-rw-r-- 1 liheyi liheyi    119  8月 31 09:58 logfile.txt\r\n",
      "-rw-rw-r-- 1 liheyi liheyi 117471  8月 19 17:57 loops_and_branches.ipynb\r\n",
      "-rw-rw-r-- 1 liheyi liheyi  67279  8月 18 17:45 manipulate_variables.ipynb\r\n",
      "-rw-rw-r-- 1 liheyi liheyi  28335  8月 17 15:24 operations_and_related_topics.ipynb\r\n",
      "-rw-rw-r-- 1 liheyi liheyi  31133  8月 17 14:37 quoting.ipynb\r\n",
      "-rwxr-xr-x 1 liheyi liheyi    684  8月 31 09:57 reassign-stdout.sh\r\n",
      "-rw-rw-r-- 1 liheyi liheyi  55789  8月  3 12:18 test.ipynb\r\n",
      "-rw-rw-r-- 1 liheyi liheyi  35745  8月  2 18:11 variables_and_parameters.ipynb\r\n",
      "\r\n",
      "Output of \"df\" command\r\n",
      "\r\n",
      "Filesystem     1K-blocks    Used Available Use% Mounted on\r\n",
      "/dev/sda1       39089600 8724624  28356300  24% /\r\n",
      "none                   4       0         4   0% /sys/fs/cgroup\r\n",
      "udev             1007032       4   1007028   1% /dev\r\n",
      "tmpfs             203548    1448    202100   1% /run\r\n",
      "none                5120       0      5120   0% /run/lock\r\n",
      "none             1017736       0   1017736   0% /run/shm\r\n",
      "none              102400      40    102360   1% /run/user\r\n"
     ]
    }
   ],
   "source": [
    "cat logfile.txt"
   ]
  },
  {
   "cell_type": "markdown",
   "metadata": {},
   "source": [
    "#### Example 20-3. Redirecting both stdin and stdout in the same script with exec"
   ]
  },
  {
   "cell_type": "code",
   "execution_count": 4,
   "metadata": {
    "collapsed": false
   },
   "outputs": [
    {
     "name": "stdout",
     "output_type": "stream",
     "text": [
      "#!/bin/bash\r\n",
      "# upperconv.sh\r\n",
      "# Converts a specified input file to uppercase.\r\n",
      "\r\n",
      "E_FILE_ACCESS=70\r\n",
      "E_WRONG_ARGS=71\r\n",
      "\r\n",
      "\r\n",
      "if [ ! -r \"$1\" ] # Is specified input file readable?\r\n",
      "then\r\n",
      "    echo \"Can't read from input file!\"\r\n",
      "    echo \"Usage: $0 input-file output-file\"\r\n",
      "    exit $E_FILE_ACCESS\r\n",
      "fi               #  Will exit with same error\r\n",
      "                 #+ even if input file ($1) not specified (why?).\r\n",
      "\r\n",
      "if [ -z \"$2\" ]\r\n",
      "then\r\n",
      "    echo \"Need to specify output file.\"\r\n",
      "    echo \"Usage: $0 input-file output-file\"\r\n",
      "    exit $E_WRONG_ARGS\r\n",
      "fi\r\n",
      "\r\n",
      "exec 4<&0\r\n",
      "exec < $1        # Will read from input file.\r\n",
      "\r\n",
      "exec 7>&1\r\n",
      "exec > $2        # Will write to output file.\r\n",
      "                 # Assumes output file writable (add check?).\r\n",
      "\r\n",
      "# -----------------------------------------------\r\n",
      "    cat - | tr a-z A-Z    # Uppercase conversion.\r\n",
      "#   ^^^^^                 # Reads from stdin.\r\n",
      "#           ^^^^^^^^^^    # Writes to stdout.\r\n",
      "# However, both stdin and stdout were redirected.\r\n",
      "# Note that the 'cat' can be omitted.\r\n",
      "# -----------------------------------------------\r\n",
      "\r\n",
      "exec 1>&7 7>&-   # Restore stout.\r\n",
      "exec 0<&4 4<&-   # Restore stdin.\r\n",
      "\r\n",
      "# After restoration, the following line prints to stdout as expected.\r\n",
      "echo \"File \\\"$1\\\" written to \\\"$2\\\" as uppercase conversion.\"\r\n",
      "\r\n",
      "exit 0\r\n"
     ]
    }
   ],
   "source": [
    "cat upperconv.sh"
   ]
  },
  {
   "cell_type": "code",
   "execution_count": 8,
   "metadata": {
    "collapsed": false
   },
   "outputs": [
    {
     "name": "stdout",
     "output_type": "stream",
     "text": [
      "The content of this file will be converted to uppercase.\r\n"
     ]
    }
   ],
   "source": [
    "cat lowercase.txt"
   ]
  },
  {
   "cell_type": "code",
   "execution_count": 10,
   "metadata": {
    "collapsed": false
   },
   "outputs": [
    {
     "name": "stdout",
     "output_type": "stream",
     "text": [
      "File \"lowercase.txt\" written to \"uppercase.txt\" as uppercase conversion.\r\n"
     ]
    }
   ],
   "source": [
    "./upperconv.sh lowercase.txt uppercase.txt"
   ]
  },
  {
   "cell_type": "code",
   "execution_count": 11,
   "metadata": {
    "collapsed": false
   },
   "outputs": [
    {
     "name": "stdout",
     "output_type": "stream",
     "text": [
      "THE CONTENT OF THIS FILE WILL BE CONVERTED TO UPPERCASE.\r\n"
     ]
    }
   ],
   "source": [
    "cat uppercase.txt"
   ]
  },
  {
   "cell_type": "markdown",
   "metadata": {},
   "source": [
    "I/O redirection is a clever way of avoiding the dreaded inaccessible variables within a subshell problem."
   ]
  },
  {
   "cell_type": "markdown",
   "metadata": {},
   "source": [
    "#### Example 20-4. Avoiding a subshell"
   ]
  },
  {
   "cell_type": "code",
   "execution_count": 12,
   "metadata": {
    "collapsed": false
   },
   "outputs": [
    {
     "name": "stdout",
     "output_type": "stream",
     "text": [
      "#!/bin/bash\r\n",
      "# avoid-subshell.sh\r\n",
      "# Suggested by Matthew Walker.\r\n",
      "\r\n",
      "Lines=0\r\n",
      "\r\n",
      "echo\r\n",
      "\r\n",
      "cat myfile.txt | while read line;\r\n",
      "do {\r\n",
      "    echo $line\r\n",
      "    (( Lines++ )); #  Incremented values of this variable\r\n",
      "                   #+ inaccessible outside loop.\r\n",
      "                   # Subshell problem.\r\n",
      "}\r\n",
      "done\r\n",
      "\r\n",
      "echo \"Number of lines read = $Lines\"   # 0\r\n",
      "                                       # Wrong\r\n",
      "\r\n",
      "echo \"------------------------\"\r\n",
      "exec 3<> myfile.txt\r\n",
      "while read line <&3\r\n",
      "do {\r\n",
      "    echo \"$line\"\r\n",
      "    (( Lines++ )); #  Incremented values of this variable\r\n",
      "                   #+ accessible outside loop.\r\n",
      "                   # No subshell, no problem.\r\n",
      "}\r\n",
      "done\r\n",
      "exec 3>&-\r\n",
      "\r\n",
      "echo \"Number of lines read = $Lines\"\r\n",
      "\r\n",
      "exit 0\r\n"
     ]
    }
   ],
   "source": [
    "cat avoid-subshell.sh"
   ]
  },
  {
   "cell_type": "code",
   "execution_count": 13,
   "metadata": {
    "collapsed": false
   },
   "outputs": [
    {
     "name": "stdout",
     "output_type": "stream",
     "text": [
      "This is the line 1.\r\n",
      "This is the line 2.\r\n",
      "This is the line 3.\r\n",
      "This is the line 4.\r\n",
      "This is the line 5.\r\n",
      "This is the line 6.\r\n",
      "This is the line 7.\r\n",
      "This is the line 8.\r\n"
     ]
    }
   ],
   "source": [
    "cat myfile.txt"
   ]
  },
  {
   "cell_type": "code",
   "execution_count": 14,
   "metadata": {
    "collapsed": false
   },
   "outputs": [
    {
     "name": "stdout",
     "output_type": "stream",
     "text": [
      "\r\n",
      "This is the line 1.\r\n",
      "This is the line 2.\r\n",
      "This is the line 3.\r\n",
      "This is the line 4.\r\n",
      "This is the line 5.\r\n",
      "This is the line 6.\r\n",
      "This is the line 7.\r\n",
      "This is the line 8.\r\n",
      "Number of lines read = 0\r\n",
      "------------------------\r\n",
      "This is the line 1.\r\n",
      "This is the line 2.\r\n",
      "This is the line 3.\r\n",
      "This is the line 4.\r\n",
      "This is the line 5.\r\n",
      "This is the line 6.\r\n",
      "This is the line 7.\r\n",
      "This is the line 8.\r\n",
      "Number of lines read = 8\r\n"
     ]
    }
   ],
   "source": [
    "./avoid-subshell.sh"
   ]
  },
  {
   "cell_type": "markdown",
   "metadata": {},
   "source": [
    "### Redirecting Code Blocks"
   ]
  },
  {
   "cell_type": "markdown",
   "metadata": {},
   "source": [
    "Blocks of code, such as while, until, and for loops, even if/then test blocks can also incorporate redirection of stdin. Even a function may use this form of redirection (see Example 24-11). The < operator at the end of the code block accomplishes this."
   ]
  },
  {
   "cell_type": "markdown",
   "metadata": {},
   "source": [
    "#### Data file names.data for following examples"
   ]
  },
  {
   "cell_type": "code",
   "execution_count": 16,
   "metadata": {
    "collapsed": false
   },
   "outputs": [
    {
     "name": "stdout",
     "output_type": "stream",
     "text": [
      "Aristotle\r\n",
      "Arrhenius\r\n",
      "Belisarius\r\n",
      "Capablanca\r\n",
      "Dickens\r\n",
      "Euler\r\n",
      "Goethe\r\n",
      "Hegel\r\n",
      "Jonah\r\n",
      "Laplace\r\n",
      "Maroczy\r\n",
      "Purcell\r\n",
      "Schmidt\r\n",
      "Schopenhauer\r\n",
      "Semmelweiss\r\n",
      "Smith\r\n",
      "Steinmetz\r\n",
      "Tukhashevsky\r\n",
      "Turing\r\n",
      "Venn\r\n",
      "Warshawski\r\n",
      "Znosko-Borowski\r\n"
     ]
    }
   ],
   "source": [
    "cat names.data"
   ]
  },
  {
   "cell_type": "markdown",
   "metadata": {},
   "source": [
    "#### Example 20-5. Redirected while loop"
   ]
  },
  {
   "cell_type": "code",
   "execution_count": 19,
   "metadata": {
    "collapsed": false
   },
   "outputs": [
    {
     "name": "stdout",
     "output_type": "stream",
     "text": [
      "#!/bin/bash\r\n",
      "# redir2.sh\r\n",
      "\r\n",
      "if [ -z \"$1\" ]\r\n",
      "then\r\n",
      "    Filename=names.data   # Default, if no filename specified.\r\n",
      "else\r\n",
      "    Filename=$1\r\n",
      "fi\r\n",
      "#+ Filename=${1:-names.data}\r\n",
      "#  can replace the above test (parameter substitution).\r\n",
      "\r\n",
      "echo\r\n",
      "\r\n",
      "count=0\r\n",
      "\r\n",
      "while [ \"$name\" != Smith ] # Why is variable $name in quotes?\r\n",
      "do\r\n",
      "    read name              # Reads from $Filename, rather than stdin.\r\n",
      "    echo $name\r\n",
      "    let \"count += 1\"\r\n",
      "done <\"$Filename\"          # Redirects stdin to file $Filename.\r\n",
      "#    ^^^^^^^^^^^^\r\n",
      "echo\r\n",
      "echo \"$count names read\"\r\n",
      "\r\n",
      "exit 0\r\n",
      "\r\n",
      "#  Note that in some older shell scripting languages,\r\n",
      "#+ the redirected loop would run as a subshell.\r\n",
      "#  Therefore, $count would return 0, the initialized value outside the loop.\r\n",
      "#  Bash and ksh avoid starting a subshell *whenever possible*,\r\n",
      "#+ so that this script, for example, runs correctly.\r\n",
      "#  (Thanks to Heiner Steven for pointing this out.)\r\n"
     ]
    }
   ],
   "source": [
    "cat redir2.sh"
   ]
  },
  {
   "cell_type": "code",
   "execution_count": 20,
   "metadata": {
    "collapsed": false
   },
   "outputs": [
    {
     "name": "stdout",
     "output_type": "stream",
     "text": [
      "\r\n",
      "Aristotle\r\n",
      "Arrhenius\r\n",
      "Belisarius\r\n",
      "Capablanca\r\n",
      "Dickens\r\n",
      "Euler\r\n",
      "Goethe\r\n",
      "Hegel\r\n",
      "Jonah\r\n",
      "Laplace\r\n",
      "Maroczy\r\n",
      "Purcell\r\n",
      "Schmidt\r\n",
      "Schopenhauer\r\n",
      "Semmelweiss\r\n",
      "Smith\r\n",
      "\r\n",
      "16 names read\r\n"
     ]
    }
   ],
   "source": [
    "./redir2.sh"
   ]
  },
  {
   "cell_type": "code",
   "execution_count": 23,
   "metadata": {
    "collapsed": false
   },
   "outputs": [
    {
     "name": "stdout",
     "output_type": "stream",
     "text": [
      "#!/bin/bash\r\n",
      "\r\n",
      "#  However . . .\r\n",
      "#  Bash *can* sometimes start a subshell in a PIPED \"while-read\" loop,\r\n",
      "#+ as distinct from a REDIRECTED \"while\" loop.\r\n",
      "\r\n",
      "abc=hi\r\n",
      "\r\n",
      "echo \"the value of \\$abc in the loop body of while:\"\r\n",
      "echo -e \"1\\n2\\n3\" | while read l\r\n",
      "do \r\n",
      "    abc=\"$l\"\r\n",
      "    echo $abc\r\n",
      "  done\r\n",
      "\r\n",
      "echo \"the value of \\$abc out the loop body of while:\"\r\n",
      "echo $abc\r\n",
      "\r\n",
      "#  Thanks, Bruno de Oliveira Schneider, for demonstrating this\r\n",
      "#+ with the above snippet of code.\r\n",
      "#  And, thanks, Brian Onn, for correcting an annotation error.\r\n"
     ]
    }
   ],
   "source": [
    "# start a subshell in a PIPED \"while-read\" loop\n",
    "cat subshell.sh"
   ]
  },
  {
   "cell_type": "code",
   "execution_count": 24,
   "metadata": {
    "collapsed": false
   },
   "outputs": [
    {
     "name": "stdout",
     "output_type": "stream",
     "text": [
      "the value of $abc in the loop body of while:\r\n",
      "1\r\n",
      "2\r\n",
      "3\r\n",
      "the value of $abc out the loop body of while:\r\n",
      "hi\r\n"
     ]
    }
   ],
   "source": [
    "./subshell.sh"
   ]
  },
  {
   "cell_type": "markdown",
   "metadata": {},
   "source": [
    "#### Example 20-6. Alternate form of redirected while loop"
   ]
  },
  {
   "cell_type": "code",
   "execution_count": 28,
   "metadata": {
    "collapsed": false
   },
   "outputs": [
    {
     "name": "stdout",
     "output_type": "stream",
     "text": [
      "#!/bin/bash\r\n",
      "\r\n",
      "# This is an alternate form of the preceding script.\r\n",
      "\r\n",
      "#  Suggested by Heiner Steven\r\n",
      "#+ as a workaround in those situations when a redirect loop\r\n",
      "#+ runs as a subshell, and therefore variables inside the loop\r\n",
      "#+ do not keep their values upon loop termination.\r\n",
      "\r\n",
      "if [ -z \"$1\" ]\r\n",
      "then\r\n",
      "    Filename=names.data  # Default, if no filename specified.\r\n",
      "else\r\n",
      "    Filename=$1\r\n",
      "fi\r\n",
      "\r\n",
      "exec 3<&0                # Save stdin to file descriptor 3.\r\n",
      "exec 0<\"$Filename\"       # Redirect standard input.\r\n",
      "\r\n",
      "count=0\r\n",
      "echo\r\n",
      "\r\n",
      "while [ \"$name\" != Smith ]\r\n",
      "do\r\n",
      "    read name            # Reads from redirected stdin ($Filename).\r\n",
      "    echo $name\r\n",
      "    let \"count += 1\"\r\n",
      "done                     #  Loop reads from file $Filename\r\n",
      "                         #+ because of line 20.\r\n",
      "\t\t\t\t\t\t \r\n",
      "# The original version of this script terminated the \"while\" loop with\r\n",
      "#+    done <\"$Filename\"\r\n",
      "# Exercise:\r\n",
      "# Why is this unnecessary?\r\n",
      "\r\n",
      "exec 0<&3                # Restore old stdin.\r\n",
      "exec 3<&-                # Close temporary fd 3.\r\n",
      "\r\n",
      "echo\r\n",
      "echo \"$count names read\"\r\n",
      "\r\n",
      "exit 0\r\n"
     ]
    }
   ],
   "source": [
    "cat redir3.sh"
   ]
  },
  {
   "cell_type": "code",
   "execution_count": 27,
   "metadata": {
    "collapsed": false
   },
   "outputs": [
    {
     "name": "stdout",
     "output_type": "stream",
     "text": [
      "\r\n",
      "Aristotle\r\n",
      "Arrhenius\r\n",
      "Belisarius\r\n",
      "Capablanca\r\n",
      "Dickens\r\n",
      "Euler\r\n",
      "Goethe\r\n",
      "Hegel\r\n",
      "Jonah\r\n",
      "Laplace\r\n",
      "Maroczy\r\n",
      "Purcell\r\n",
      "Schmidt\r\n",
      "Schopenhauer\r\n",
      "Semmelweiss\r\n",
      "Smith\r\n",
      "\r\n",
      "16 names read\r\n"
     ]
    }
   ],
   "source": [
    "./redir3.sh"
   ]
  },
  {
   "cell_type": "markdown",
   "metadata": {},
   "source": [
    "#### Example 20-7. Redirected until loop"
   ]
  },
  {
   "cell_type": "code",
   "execution_count": 29,
   "metadata": {
    "collapsed": false
   },
   "outputs": [
    {
     "name": "stdout",
     "output_type": "stream",
     "text": [
      "#!/bin/bash\r\n",
      "# Same as previous example, but with \"until\" loop.\r\n",
      "\r\n",
      "if [ -z \"$1\" ]\r\n",
      "then\r\n",
      "    Filename=names.data    # Default, if no filename specified.\r\n",
      "else\r\n",
      "    Filename=$1\r\n",
      "fi\r\n",
      "\r\n",
      "# while [ \"$name\" != Smith ]\r\n",
      "until [ \"$name\" = Smith ]  # Change != to =.\r\n",
      "do\r\n",
      "\tread name              # Reads from $Filename, rather than stdin.\r\n",
      "\techo $name\r\n",
      "done <\"$Filename\"          # Redirects stdin to file $Filename.\r\n",
      "#    ^^^^^^^^^^^^\r\n",
      "\r\n",
      "# Same results as with \"while\" loop in previous example.\r\n",
      "exit 0\r\n"
     ]
    }
   ],
   "source": [
    "cat redir4.sh"
   ]
  },
  {
   "cell_type": "code",
   "execution_count": 30,
   "metadata": {
    "collapsed": false
   },
   "outputs": [
    {
     "name": "stdout",
     "output_type": "stream",
     "text": [
      "Aristotle\r\n",
      "Arrhenius\r\n",
      "Belisarius\r\n",
      "Capablanca\r\n",
      "Dickens\r\n",
      "Euler\r\n",
      "Goethe\r\n",
      "Hegel\r\n",
      "Jonah\r\n",
      "Laplace\r\n",
      "Maroczy\r\n",
      "Purcell\r\n",
      "Schmidt\r\n",
      "Schopenhauer\r\n",
      "Semmelweiss\r\n",
      "Smith\r\n"
     ]
    }
   ],
   "source": [
    "./redir4.sh"
   ]
  },
  {
   "cell_type": "markdown",
   "metadata": {},
   "source": [
    "#### Example 20-8. Redirected for loop"
   ]
  },
  {
   "cell_type": "code",
   "execution_count": 31,
   "metadata": {
    "collapsed": false
   },
   "outputs": [
    {
     "name": "stdout",
     "output_type": "stream",
     "text": [
      "#!/bin/bash\r\n",
      "\r\n",
      "if [ -z \"$1\" ]\r\n",
      "then\r\n",
      "    Filename=names.data  # Default, if no filename specified.\r\n",
      "else\r\n",
      "    Filename=$1\r\n",
      "fi\r\n",
      "\r\n",
      "line_count=`wc $Filename | awk '{ print $1 }'`\r\n",
      "#           Number of lines in target file.\r\n",
      "#\r\n",
      "#  Very contrived and kludgy, nevertheless shows that\r\n",
      "#+ it's possible to redirect stdin within a \"for\" loop...\r\n",
      "#+ if you're clever enough.\r\n",
      "# More concise is line_count=$(wc -l < \"$Filename\")\r\n",
      "\r\n",
      "for name in `seq $line_count`  # Recall that \"seq\" prints sequence of numbers.\r\n",
      "# while [ \"$name\" != Smith ]   --   more complicated than a \"while\" loop   --\r\n",
      "do\r\n",
      "    read name               # Reads from $Filename, rather than stdin.\r\n",
      "    echo $name\r\n",
      "    if [ \"$name\" = Smith ]  # Need all this extra baggage here.\r\n",
      "    then\r\n",
      "        break\r\n",
      "    fi\r\n",
      "done <\"$Filename\"           # Redirects stdin to file $Filename.\r\n",
      "#    ^^^^^^^^^^^^\r\n",
      "\r\n",
      "exit 0\r\n"
     ]
    }
   ],
   "source": [
    "cat redir5.sh"
   ]
  },
  {
   "cell_type": "code",
   "execution_count": 32,
   "metadata": {
    "collapsed": false
   },
   "outputs": [
    {
     "name": "stdout",
     "output_type": "stream",
     "text": [
      "Aristotle\r\n",
      "Arrhenius\r\n",
      "Belisarius\r\n",
      "Capablanca\r\n",
      "Dickens\r\n",
      "Euler\r\n",
      "Goethe\r\n",
      "Hegel\r\n",
      "Jonah\r\n",
      "Laplace\r\n",
      "Maroczy\r\n",
      "Purcell\r\n",
      "Schmidt\r\n",
      "Schopenhauer\r\n",
      "Semmelweiss\r\n",
      "Smith\r\n"
     ]
    }
   ],
   "source": [
    "./redir5.sh"
   ]
  },
  {
   "cell_type": "markdown",
   "metadata": {},
   "source": [
    "We can modify the previous example to also redirect the output of the loop."
   ]
  },
  {
   "cell_type": "markdown",
   "metadata": {},
   "source": [
    "#### Redirected for loop (both stdin and stdout redirected)"
   ]
  },
  {
   "cell_type": "code",
   "execution_count": 33,
   "metadata": {
    "collapsed": false
   },
   "outputs": [
    {
     "name": "stdout",
     "output_type": "stream",
     "text": [
      "#!/bin/bash\r\n",
      "\r\n",
      "if [ -z \"$1\" ]\r\n",
      "then\r\n",
      "    Filename=names.data  # Default, if no filename specified.\r\n",
      "else\r\n",
      "    Filename=$1\r\n",
      "fi\r\n",
      "\r\n",
      "Savefile=$Filename.new  # Filename to save results in.\r\n",
      "FinalName=Jonah         # Name to terminate \"read\" on.\r\n",
      "\r\n",
      "# Number of lines in target file.\r\n",
      "line_count=`wc $Filename | awk '{ print $1 }'` \r\n",
      "\r\n",
      "for name in `seq $line_count`\r\n",
      "do\r\n",
      "    read name\r\n",
      "    echo \"$name\"\r\n",
      "    if [ \"$name\" = \"$FinalName\" ]\r\n",
      "    then\r\n",
      "        break\r\n",
      "    fi\r\n",
      "done < \"$Filename\" > \"$Savefile\"  # Redirects stdin to file $Filename,\r\n",
      "#    ^^^^^^^^^^^^^^^^^^^^^^^^^^^    and saves it to backup file.\r\n",
      "\r\n",
      "exit 0\r\n"
     ]
    }
   ],
   "source": [
    "cat redir6.sh"
   ]
  },
  {
   "cell_type": "code",
   "execution_count": 34,
   "metadata": {
    "collapsed": false
   },
   "outputs": [
    {
     "name": "stdout",
     "output_type": "stream",
     "text": []
    }
   ],
   "source": [
    "./redir6.sh"
   ]
  },
  {
   "cell_type": "code",
   "execution_count": 35,
   "metadata": {
    "collapsed": false
   },
   "outputs": [
    {
     "name": "stdout",
     "output_type": "stream",
     "text": [
      "Aristotle\r\n",
      "Arrhenius\r\n",
      "Belisarius\r\n",
      "Capablanca\r\n",
      "Dickens\r\n",
      "Euler\r\n",
      "Goethe\r\n",
      "Hegel\r\n",
      "Jonah\r\n"
     ]
    }
   ],
   "source": [
    "cat names.data.new"
   ]
  },
  {
   "cell_type": "markdown",
   "metadata": {},
   "source": [
    "#### Example 20-10. Redirected if/then test"
   ]
  },
  {
   "cell_type": "code",
   "execution_count": 36,
   "metadata": {
    "collapsed": false
   },
   "outputs": [
    {
     "name": "stdout",
     "output_type": "stream",
     "text": [
      "#!/bin/bash\r\n",
      "\r\n",
      "if [ -z \"$1\" ]\r\n",
      "then\r\n",
      "    Filename=names.data  # Default, if no filename specified.\r\n",
      "else\r\n",
      "    Filename=$1\r\n",
      "fi\r\n",
      "\r\n",
      "TRUE=1\r\n",
      "\r\n",
      "if [ \"$TRUE\" ]            # if true and if : also work.\r\n",
      "then\r\n",
      "    read name\r\n",
      "    echo $name\r\n",
      "fi <\"$Filename\"\r\n",
      "#  ^^^^^^^^^^^^\r\n",
      "\r\n",
      "# Reads only first line of file.\r\n",
      "# An \"if/then\" test has no way of iterating unless embedded in a loop.\r\n",
      "\r\n",
      "exit 0\r\n"
     ]
    }
   ],
   "source": [
    "cat redir7.sh"
   ]
  },
  {
   "cell_type": "code",
   "execution_count": 37,
   "metadata": {
    "collapsed": false
   },
   "outputs": [
    {
     "name": "stdout",
     "output_type": "stream",
     "text": [
      "Aristotle\r\n"
     ]
    }
   ],
   "source": [
    "./redir7.sh"
   ]
  },
  {
   "cell_type": "markdown",
   "metadata": {},
   "source": [
    "Redirecting the stdout of a code block has the effect of saving its output to a file."
   ]
  },
  {
   "cell_type": "markdown",
   "metadata": {},
   "source": [
    "Here documents are a special case of redirected code blocks.That being the case, it should be possible to feed the output of a here document into the stdin for a while loop."
   ]
  },
  {
   "cell_type": "code",
   "execution_count": 39,
   "metadata": {
    "collapsed": false
   },
   "outputs": [
    {
     "name": "stdout",
     "output_type": "stream",
     "text": [
      "#!/bin/bash\r\n",
      "# This example by Albert Siersema\r\n",
      "# Used with permission (thanks!).\r\n",
      "\r\n",
      "function doesOutput()\r\n",
      "  # Could be an external command too, of course.\r\n",
      "  # Here we show you can use a function as well.\r\n",
      "{\r\n",
      "    ls -al *.ipynb | awk '{print $5,$9}'\r\n",
      "}\r\n",
      "nr=0         #  We want the while loop to be able to manipulate these and\r\n",
      "totalSize=0  #+ to be able to see the changes after the 'while' finished.\r\n",
      "\r\n",
      "while read fileSize fileName ; do\r\n",
      "    echo \"$fileName is $fileSize bytes\"\r\n",
      "    let nr++\r\n",
      "    totalSize=$((totalSize+fileSize)) # Or: \"let totalSize+=fileSize\"\r\n",
      "done<<EOF\r\n",
      "$(doesOutput)\r\n",
      "EOF\r\n",
      "\r\n",
      "echo\r\n",
      "echo \"$nr files totaling $totalSize bytes\"\r\n"
     ]
    }
   ],
   "source": [
    "cat total.sh"
   ]
  },
  {
   "cell_type": "code",
   "execution_count": 40,
   "metadata": {
    "collapsed": false
   },
   "outputs": [
    {
     "name": "stdout",
     "output_type": "stream",
     "text": [
      "another_look_at_variables.ipynb is 122146 bytes\r\n",
      "arithmetic_expansion.ipynb is 4849 bytes\r\n",
      "command_line_shortcut.ipynb is 5546 bytes\r\n",
      "command_substitution.ipynb is 19707 bytes\r\n",
      "exit_and_exit_status.ipynb is 7252 bytes\r\n",
      "IO_redirection.ipynb is 59846 bytes\r\n",
      "loops_and_branches.ipynb is 117471 bytes\r\n",
      "manipulate_variables.ipynb is 67279 bytes\r\n",
      "operations_and_related_topics.ipynb is 28335 bytes\r\n",
      "quoting.ipynb is 31133 bytes\r\n",
      "test.ipynb is 55789 bytes\r\n",
      "variables_and_parameters.ipynb is 35745 bytes\r\n",
      "\r\n",
      "12 files totaling 555098 bytes\r\n"
     ]
    }
   ],
   "source": [
    "./total.sh"
   ]
  },
  {
   "cell_type": "markdown",
   "metadata": {},
   "source": [
    "### Applications"
   ]
  },
  {
   "cell_type": "markdown",
   "metadata": {},
   "source": [
    "Clever use of I/O redirection permits parsing and stitching together snippets of command output (see Example\n",
    "15-7). This permits generating report and log files."
   ]
  },
  {
   "cell_type": "markdown",
   "metadata": {},
   "source": [
    "#### Example 20-11. Logging events"
   ]
  },
  {
   "cell_type": "code",
   "execution_count": 41,
   "metadata": {
    "collapsed": false
   },
   "outputs": [
    {
     "name": "stdout",
     "output_type": "stream",
     "text": [
      "#!/bin/bash\r\n",
      "# logevents.sh\r\n",
      "# Author: Stephane Chazelas.\r\n",
      "# Used in ABS Guide with permission.\r\n",
      "\r\n",
      "# Event logging to a file.\r\n",
      "# Must be run as root (for write access in /var/log).\r\n",
      "\r\n",
      "ROOT_UID=0    # Only users with $UID 0 have root privileges.\r\n",
      "E_NOTROOT=67  # Non-root exit error.\r\n",
      "\r\n",
      "if [ \"$UID\" -ne \"$ROOT_UID\" ]\r\n",
      "then\r\n",
      "    echo \"Must be root to run this script.\"\r\n",
      "    exit $E_NOTROOT\r\n",
      "fi\r\n",
      "\r\n",
      "FD_DEBUG1=3\r\n",
      "FD_DEBUG2=4\r\n",
      "FD_DEBUG3=5\r\n",
      "\r\n",
      "# === Uncomment one of the two lines below to activate script. ===\r\n",
      "# LOG_EVENTS=1\r\n",
      "# LOG_VARS=1\r\n",
      "\r\n",
      "# Writes time and date to log file.\r\n",
      "log() \r\n",
      "{\r\n",
      "\techo \"$(date) $*\" >&7  # This *appends* the date to the file.\r\n",
      "\t#     ^^^^^^^            command substitution\r\n",
      "\t                       # See below.\r\n",
      "}\r\n",
      "\r\n",
      "case $LOG_LEVEL in\r\n",
      "    1) exec 3>&2 4> /dev/null 5> /dev/null;;\r\n",
      "    2) exec 3>&2 4>&2 5> /dev/null;;\r\n",
      "    3) exec 3>&2 4>&2 5>&2;;\r\n",
      "    *) exec 3> /dev/null 4> /dev/null 5> /dev/null;;\r\n",
      "esac\r\n",
      "\r\n",
      "FD_LOGVARS=6\r\n",
      "if [[ $LOG_VARS ]]\r\n",
      "then exec 6>> /var/log/vars.log\r\n",
      "else exec 6> /dev/null     # Bury output.\r\n",
      "fi\r\n",
      "\r\n",
      "FD_LOGEVENTS=7\r\n",
      "if [[ $LOG_EVENTS ]]\r\n",
      "then\r\n",
      "    # exec 7 >(exec gawk '{print strftime(), $0}' >> /var/log/event.log)\r\n",
      "    # Above line fails in versions of Bash more recent than 2.04. Why?\r\n",
      "    exec 7>> /var/log/event.log   # Append to \"event.log\".\r\n",
      "    log                           # Write time and date.\r\n",
      "else exec 7> /dev/null            # Bury output.\r\n",
      "fi\r\n",
      "\r\n",
      "echo \"DEBUG3: beginning\" >&${FD_DEBUG3}\r\n",
      "\r\n",
      "ls -l >&5 2>&4    # command1 >&5 2>&4\r\n",
      "echo \"Done\"       # command2\r\n",
      "echo \"sending mail\" >&${FD_LOGEVENTS}\r\n",
      "# Writes \"sending mail\" to file descriptor #7.\r\n",
      "\r\n",
      "exit 0\r\n"
     ]
    }
   ],
   "source": [
    "cat logevents.sh"
   ]
  },
  {
   "cell_type": "code",
   "execution_count": null,
   "metadata": {
    "collapsed": true
   },
   "outputs": [],
   "source": []
  }
 ],
 "metadata": {
  "kernelspec": {
   "display_name": "Bash",
   "language": "bash",
   "name": "bash"
  },
  "language_info": {
   "codemirror_mode": "shell",
   "file_extension": ".sh",
   "mimetype": "text/x-sh",
   "name": "bash"
  }
 },
 "nbformat": 4,
 "nbformat_minor": 0
}
