{
 "cells": [
  {
   "cell_type": "markdown",
   "metadata": {},
   "source": [
    "There are always three default files open, stdin (the keyboard), stdout (the screen), and stderr(error messages output to the screen). These, and any other open files, can be redirected. Redirection simply means capturing output from a file, command, program, script, or even code block within a script (see Example 3-1 and Example 3-2) and sending it as input to another file, command, program, or script."
   ]
  },
  {
   "cell_type": "markdown",
   "metadata": {},
   "source": [
    "Each open file gets assigned a file descriptor. The file descriptors for stdin, stdout, and stderr are 0, 1, and 2, respectively. For opening additional files, there remain descriptors 3 to 9. It is sometimes useful to assign one of these additional file descriptors to stdin, stdout, or stderr as a temporary duplicate link. This simplifies restoration to normal after complex redirection and reshuffling (see Example 20-1)."
   ]
  },
  {
   "cell_type": "raw",
   "metadata": {},
   "source": [
    "COMMAND_OUTPUT >\n",
    "    # Redirect stdout to a file.\n",
    "    # Creates the file if not present, otherwise overwrites it."
   ]
  },
  {
   "cell_type": "code",
   "execution_count": 1,
   "metadata": {
    "collapsed": false
   },
   "outputs": [
    {
     "name": "stdout",
     "output_type": "stream",
     "text": [
      ".:\r\n",
      "total 504\r\n",
      "-rw-rw-r-- 1 liheyi liheyi 122146 8月  19 01:31 another_look_at_variables.ipynb\r\n",
      "-rw-rw-r-- 1 liheyi liheyi   4849 8月  20 22:45 arithmetic_expansion.ipynb\r\n",
      "-rw-rw-r-- 1 liheyi liheyi   5546 8月  16 21:24 command_line_shortcut.ipynb\r\n",
      "-rw-rw-r-- 1 liheyi liheyi  19707 8月  19 02:47 command_substitution.ipynb\r\n",
      "-rw-rw-r-- 1 liheyi liheyi      0 8月  30 21:19 dir-tree.list\r\n",
      "-rw-rw-r-- 1 liheyi liheyi   7252 8月  16 21:24 exit_and_exit_status.ipynb\r\n",
      "-rw-rw-r-- 1 liheyi liheyi   1494 8月  30 21:18 IO_redirection.ipynb\r\n",
      "-rw-rw-r-- 1 liheyi liheyi 117471 8月  20 22:22 loops_and_branches.ipynb\r\n",
      "-rw-rw-r-- 1 liheyi liheyi  67279 8月  19 01:31 manipulate_variables.ipynb\r\n",
      "-rw-rw-r-- 1 liheyi liheyi  28335 8月  17 23:15 operations_and_related_topics.ipynb\r\n",
      "-rw-rw-r-- 1 liheyi liheyi  31133 8月  16 21:24 quoting.ipynb\r\n",
      "-rw-rw-r-- 1 liheyi liheyi  55789 8月  16 21:24 test.ipynb\r\n",
      "-rw-rw-r-- 1 liheyi liheyi  35745 8月  16 21:24 variables_and_parameters.ipynb\r\n"
     ]
    }
   ],
   "source": [
    "# Creates a file containing a listing of the directory tree.\n",
    "ls -lR > dir-tree.list\n",
    "cat dir-tree.list"
   ]
  },
  {
   "cell_type": "raw",
   "metadata": {},
   "source": [
    ": > filename\n",
    "    # The > truncates file \"filename\" to zero length.\n",
    "    # If file not present, creates zero-length file (same effect as 'touch').\n",
    "    # The : serves as a dummy placeholder, producing no output."
   ]
  },
  {
   "cell_type": "raw",
   "metadata": {},
   "source": [
    "> filename\n",
    "    # The > truncates file \"filename\" to zero length.\n",
    "    # If file not present, creates zero-length file (same effect as 'touch').\n",
    "    # (Same result as \": >\", above, but this does not work with some shells.)"
   ]
  },
  {
   "cell_type": "code",
   "execution_count": 2,
   "metadata": {
    "collapsed": false
   },
   "outputs": [
    {
     "name": "stdout",
     "output_type": "stream",
     "text": [
      "-rw-rw-r-- 1 liheyi liheyi 0 8月  30 21:20 dir-tree.list\r\n"
     ]
    }
   ],
   "source": [
    ": > dir-tree.list\n",
    "ls -l dir-tree.list"
   ]
  },
  {
   "cell_type": "raw",
   "metadata": {},
   "source": [
    "COMMAND_OUTPUT >>\n",
    "    # Redirect stdout to a file.\n",
    "    # Creates the file if not present, otherwise appends to it."
   ]
  },
  {
   "cell_type": "code",
   "execution_count": 4,
   "metadata": {
    "collapsed": false
   },
   "outputs": [
    {
     "name": "stdout",
     "output_type": "stream",
     "text": [
      "total 504\r\n",
      "-rw-rw-r-- 1 liheyi liheyi 122146 8月  19 01:31 another_look_at_variables.ipynb\r\n",
      "-rw-rw-r-- 1 liheyi liheyi   4849 8月  20 22:45 arithmetic_expansion.ipynb\r\n",
      "-rw-rw-r-- 1 liheyi liheyi   5546 8月  16 21:24 command_line_shortcut.ipynb\r\n",
      "-rw-rw-r-- 1 liheyi liheyi  19707 8月  19 02:47 command_substitution.ipynb\r\n",
      "-rw-rw-r-- 1 liheyi liheyi      0 8月  30 21:22 dir-tree.list\r\n",
      "-rw-rw-r-- 1 liheyi liheyi   7252 8月  16 21:24 exit_and_exit_status.ipynb\r\n",
      "-rw-rw-r-- 1 liheyi liheyi   3480 8月  30 21:20 IO_redirection.ipynb\r\n",
      "-rw-rw-r-- 1 liheyi liheyi 117471 8月  20 22:22 loops_and_branches.ipynb\r\n",
      "-rw-rw-r-- 1 liheyi liheyi  67279 8月  19 01:31 manipulate_variables.ipynb\r\n",
      "-rw-rw-r-- 1 liheyi liheyi  28335 8月  17 23:15 operations_and_related_topics.ipynb\r\n",
      "-rw-rw-r-- 1 liheyi liheyi  31133 8月  16 21:24 quoting.ipynb\r\n",
      "-rw-rw-r-- 1 liheyi liheyi  55789 8月  16 21:24 test.ipynb\r\n",
      "-rw-rw-r-- 1 liheyi liheyi  35745 8月  16 21:24 variables_and_parameters.ipynb\r\n"
     ]
    }
   ],
   "source": [
    "ls -l > dir-tree.list\n",
    "cat dir-tree.list"
   ]
  },
  {
   "cell_type": "code",
   "execution_count": 5,
   "metadata": {
    "collapsed": false
   },
   "outputs": [
    {
     "name": "stdout",
     "output_type": "stream",
     "text": [
      "total 504\r\n",
      "-rw-rw-r-- 1 liheyi liheyi 122146 8月  19 01:31 another_look_at_variables.ipynb\r\n",
      "-rw-rw-r-- 1 liheyi liheyi   4849 8月  20 22:45 arithmetic_expansion.ipynb\r\n",
      "-rw-rw-r-- 1 liheyi liheyi   5546 8月  16 21:24 command_line_shortcut.ipynb\r\n",
      "-rw-rw-r-- 1 liheyi liheyi  19707 8月  19 02:47 command_substitution.ipynb\r\n",
      "-rw-rw-r-- 1 liheyi liheyi      0 8月  30 21:22 dir-tree.list\r\n",
      "-rw-rw-r-- 1 liheyi liheyi   7252 8月  16 21:24 exit_and_exit_status.ipynb\r\n",
      "-rw-rw-r-- 1 liheyi liheyi   3480 8月  30 21:20 IO_redirection.ipynb\r\n",
      "-rw-rw-r-- 1 liheyi liheyi 117471 8月  20 22:22 loops_and_branches.ipynb\r\n",
      "-rw-rw-r-- 1 liheyi liheyi  67279 8月  19 01:31 manipulate_variables.ipynb\r\n",
      "-rw-rw-r-- 1 liheyi liheyi  28335 8月  17 23:15 operations_and_related_topics.ipynb\r\n",
      "-rw-rw-r-- 1 liheyi liheyi  31133 8月  16 21:24 quoting.ipynb\r\n",
      "-rw-rw-r-- 1 liheyi liheyi  55789 8月  16 21:24 test.ipynb\r\n",
      "-rw-rw-r-- 1 liheyi liheyi  35745 8月  16 21:24 variables_and_parameters.ipynb\r\n",
      "Filesystem      Size  Used Avail Use% Mounted on\r\n",
      "udev            469M     0  469M   0% /dev\r\n",
      "tmpfs            98M  6.2M   92M   7% /run\r\n",
      "/dev/sda1        77G  6.2G   67G   9% /\r\n",
      "tmpfs           488M     0  488M   0% /dev/shm\r\n",
      "tmpfs           5.0M  4.0K  5.0M   1% /run/lock\r\n",
      "tmpfs           488M     0  488M   0% /sys/fs/cgroup\r\n",
      "tmpfs            98M   12K   98M   1% /run/user/1000\r\n"
     ]
    }
   ],
   "source": [
    "df -lh >> dir-tree.list\n",
    "cat dir-tree.list"
   ]
  },
  {
   "cell_type": "raw",
   "metadata": {},
   "source": [
    "1>filename\n",
    "    # Redirect stdout to file \"filename.\""
   ]
  },
  {
   "cell_type": "code",
   "execution_count": 6,
   "metadata": {
    "collapsed": false
   },
   "outputs": [
    {
     "name": "stdout",
     "output_type": "stream",
     "text": [
      "total 508\r\n",
      "-rw-rw-r-- 1 liheyi liheyi 122146 8月  19 01:31 another_look_at_variables.ipynb\r\n",
      "-rw-rw-r-- 1 liheyi liheyi   4849 8月  20 22:45 arithmetic_expansion.ipynb\r\n",
      "-rw-rw-r-- 1 liheyi liheyi   5546 8月  16 21:24 command_line_shortcut.ipynb\r\n",
      "-rw-rw-r-- 1 liheyi liheyi  19707 8月  19 02:47 command_substitution.ipynb\r\n",
      "-rw-rw-r-- 1 liheyi liheyi   7252 8月  16 21:24 exit_and_exit_status.ipynb\r\n",
      "-rw-rw-r-- 1 liheyi liheyi   7889 8月  30 21:28 IO_redirection.ipynb\r\n",
      "-rw-rw-r-- 1 liheyi liheyi 117471 8月  20 22:22 loops_and_branches.ipynb\r\n",
      "-rw-rw-r-- 1 liheyi liheyi      0 8月  30 21:28 ls.list\r\n",
      "-rw-rw-r-- 1 liheyi liheyi  67279 8月  19 01:31 manipulate_variables.ipynb\r\n",
      "-rw-rw-r-- 1 liheyi liheyi  28335 8月  17 23:15 operations_and_related_topics.ipynb\r\n",
      "-rw-rw-r-- 1 liheyi liheyi  31133 8月  16 21:24 quoting.ipynb\r\n",
      "-rw-rw-r-- 1 liheyi liheyi  55789 8月  16 21:24 test.ipynb\r\n",
      "-rw-rw-r-- 1 liheyi liheyi  35745 8月  16 21:24 variables_and_parameters.ipynb\r\n"
     ]
    }
   ],
   "source": [
    "ls -l 1> ls.list\n",
    "cat ls.list"
   ]
  },
  {
   "cell_type": "raw",
   "metadata": {},
   "source": [
    "1>>filename\n",
    "    # Redirect and append stdout to file \"filename.\""
   ]
  },
  {
   "cell_type": "code",
   "execution_count": 8,
   "metadata": {
    "collapsed": false
   },
   "outputs": [
    {
     "name": "stdout",
     "output_type": "stream",
     "text": [
      "total 508\r\n",
      "-rw-rw-r-- 1 liheyi liheyi 122146 8月  19 01:31 another_look_at_variables.ipynb\r\n",
      "-rw-rw-r-- 1 liheyi liheyi   4849 8月  20 22:45 arithmetic_expansion.ipynb\r\n",
      "-rw-rw-r-- 1 liheyi liheyi   5546 8月  16 21:24 command_line_shortcut.ipynb\r\n",
      "-rw-rw-r-- 1 liheyi liheyi  19707 8月  19 02:47 command_substitution.ipynb\r\n",
      "-rw-rw-r-- 1 liheyi liheyi   7252 8月  16 21:24 exit_and_exit_status.ipynb\r\n",
      "-rw-rw-r-- 1 liheyi liheyi   7889 8月  30 21:28 IO_redirection.ipynb\r\n",
      "-rw-rw-r-- 1 liheyi liheyi 117471 8月  20 22:22 loops_and_branches.ipynb\r\n",
      "-rw-rw-r-- 1 liheyi liheyi      0 8月  30 21:28 ls.list\r\n",
      "-rw-rw-r-- 1 liheyi liheyi  67279 8月  19 01:31 manipulate_variables.ipynb\r\n",
      "-rw-rw-r-- 1 liheyi liheyi  28335 8月  17 23:15 operations_and_related_topics.ipynb\r\n",
      "-rw-rw-r-- 1 liheyi liheyi  31133 8月  16 21:24 quoting.ipynb\r\n",
      "-rw-rw-r-- 1 liheyi liheyi  55789 8月  16 21:24 test.ipynb\r\n",
      "-rw-rw-r-- 1 liheyi liheyi  35745 8月  16 21:24 variables_and_parameters.ipynb\r\n",
      "Active Internet connections (only servers)\r\n",
      "Proto Recv-Q Send-Q Local Address           Foreign Address         State      \r\n",
      "tcp        0      0 127.0.0.1:41427         0.0.0.0:*               LISTEN     \r\n",
      "tcp        0      0 127.0.0.1:33942         0.0.0.0:*               LISTEN     \r\n",
      "tcp        0      0 127.0.0.1:33433         0.0.0.0:*               LISTEN     \r\n",
      "tcp        0      0 127.0.0.1:44445         0.0.0.0:*               LISTEN     \r\n",
      "tcp        0      0 0.0.0.0:8000            0.0.0.0:*               LISTEN     \r\n",
      "tcp        0      0 127.0.0.1:46561         0.0.0.0:*               LISTEN     \r\n",
      "tcp        0      0 0.0.0.0:22022           0.0.0.0:*               LISTEN     \r\n",
      "tcp        0      0 127.0.0.1:60583         0.0.0.0:*               LISTEN     \r\n",
      "tcp6       0      0 :::8000                 :::*                    LISTEN     \r\n",
      "tcp6       0      0 :::22022                :::*                    LISTEN     \r\n"
     ]
    }
   ],
   "source": [
    "netstat -lnt 1>> ls.list\n",
    "cat ls.list"
   ]
  },
  {
   "cell_type": "raw",
   "metadata": {},
   "source": [
    "2>filename\n",
    "    # Redirect stderr to file \"filename.\""
   ]
  },
  {
   "cell_type": "code",
   "execution_count": 11,
   "metadata": {
    "collapsed": false
   },
   "outputs": [
    {
     "name": "stdout",
     "output_type": "stream",
     "text": []
    }
   ],
   "source": [
    "df -lh /data 2> df.error"
   ]
  },
  {
   "cell_type": "code",
   "execution_count": 12,
   "metadata": {
    "collapsed": false
   },
   "outputs": [
    {
     "name": "stdout",
     "output_type": "stream",
     "text": [
      "df: /data: No such file or directory\r\n"
     ]
    }
   ],
   "source": [
    "cat df.error"
   ]
  },
  {
   "cell_type": "raw",
   "metadata": {},
   "source": [
    "2>>filename\n",
    "    # Redirect and append stderr to file \"filename.\""
   ]
  },
  {
   "cell_type": "code",
   "execution_count": 13,
   "metadata": {
    "collapsed": false
   },
   "outputs": [
    {
     "name": "stdout",
     "output_type": "stream",
     "text": [
      "Filesystem      Size  Used Avail Use% Mounted on\r\n",
      "udev            469M     0  469M   0% /dev\r\n",
      "tmpfs            98M  6.2M   92M   7% /run\r\n",
      "/dev/sda1        77G  6.2G   67G   9% /\r\n",
      "tmpfs           488M     0  488M   0% /dev/shm\r\n",
      "tmpfs           5.0M  4.0K  5.0M   1% /run/lock\r\n",
      "tmpfs           488M     0  488M   0% /sys/fs/cgroup\r\n",
      "tmpfs            98M   12K   98M   1% /run/user/1000\r\n"
     ]
    }
   ],
   "source": [
    "cat df.error"
   ]
  },
  {
   "cell_type": "code",
   "execution_count": 15,
   "metadata": {
    "collapsed": false
   },
   "outputs": [
    {
     "name": "stdout",
     "output_type": "stream",
     "text": []
    }
   ],
   "source": [
    "df -lh /data 2>> df.error"
   ]
  },
  {
   "cell_type": "code",
   "execution_count": 16,
   "metadata": {
    "collapsed": false
   },
   "outputs": [
    {
     "name": "stdout",
     "output_type": "stream",
     "text": [
      "Filesystem      Size  Used Avail Use% Mounted on\r\n",
      "udev            469M     0  469M   0% /dev\r\n",
      "tmpfs            98M  6.2M   92M   7% /run\r\n",
      "/dev/sda1        77G  6.2G   67G   9% /\r\n",
      "tmpfs           488M     0  488M   0% /dev/shm\r\n",
      "tmpfs           5.0M  4.0K  5.0M   1% /run/lock\r\n",
      "tmpfs           488M     0  488M   0% /sys/fs/cgroup\r\n",
      "tmpfs            98M   12K   98M   1% /run/user/1000\r\n",
      "df: /data: No such file or directory\r\n"
     ]
    }
   ],
   "source": [
    "cat df.error"
   ]
  },
  {
   "cell_type": "raw",
   "metadata": {},
   "source": [
    "&>filename\n",
    "    # Redirect both stdout and stderr to file \"filename.\"\n",
    "    # This operator is now functional, as of Bash 4, final release."
   ]
  },
  {
   "cell_type": "code",
   "execution_count": 17,
   "metadata": {
    "collapsed": false
   },
   "outputs": [
    {
     "name": "stdout",
     "output_type": "stream",
     "text": []
    }
   ],
   "source": [
    "ls -l /home/liheyi/ /data &> ls.output.error"
   ]
  },
  {
   "cell_type": "code",
   "execution_count": 18,
   "metadata": {
    "collapsed": false
   },
   "outputs": [
    {
     "name": "stdout",
     "output_type": "stream",
     "text": [
      "ls: cannot access '/data': No such file or directory\r\n",
      "/home/liheyi/:\r\n",
      "total 20\r\n",
      "drwxrwxr-x 12 liheyi liheyi 4096 8月  30 21:12 anaconda2\r\n",
      "-rw-r--r--  1 liheyi liheyi 8980 8月  16 19:45 examples.desktop\r\n",
      "drwxrwxr-x  7 liheyi liheyi 4096 8月  30 21:04 jupyter\r\n"
     ]
    }
   ],
   "source": [
    "cat ls.output.error"
   ]
  },
  {
   "cell_type": "raw",
   "metadata": {},
   "source": [
    "M>N\n",
    "    # \"M\" is a file descriptor, which defaults to 1, if not explicitly set.\n",
    "    # \"N\" is a filename.\n",
    "    # File descriptor \"M\" is redirect to file \"N.\""
   ]
  },
  {
   "cell_type": "raw",
   "metadata": {},
   "source": [
    "M>&N\n",
    "    # \"M\" is a file descriptor, which defaults to 1, if not set.\n",
    "    # \"N\" is another file descriptor."
   ]
  },
  {
   "cell_type": "code",
   "execution_count": 19,
   "metadata": {
    "collapsed": false
   },
   "outputs": [
    {
     "name": "stdout",
     "output_type": "stream",
     "text": [
      "This statement is echoed to stdout, and will not appear in \"script.log\".\r\n"
     ]
    }
   ],
   "source": [
    "# Redirecting stdout, one line at a time.\n",
    "LOGFILE=script.log\n",
    "echo \"This statement is sent to the log file, \\\"$LOGFILE\\\".\" 1>$LOGFILE\n",
    "echo \"This statement is appended to \\\"$LOGFILE\\\".\" 1>>$LOGFILE\n",
    "echo \"This statement is also appended to \\\"$LOGFILE\\\".\" 1>>$LOGFILE\n",
    "echo \"This statement is echoed to stdout, and will not appear in \\\"$LOGFILE\\\".\"\n",
    "\n",
    "# These redirection commands automatically \"reset\" after each line."
   ]
  },
  {
   "cell_type": "code",
   "execution_count": 20,
   "metadata": {
    "collapsed": false
   },
   "outputs": [
    {
     "name": "stdout",
     "output_type": "stream",
     "text": [
      "This statement is sent to the log file, \"script.log\".\r\n",
      "This statement is appended to \"script.log\".\r\n",
      "This statement is also appended to \"script.log\".\r\n"
     ]
    }
   ],
   "source": [
    "cat script.log"
   ]
  },
  {
   "cell_type": "code",
   "execution_count": 21,
   "metadata": {
    "collapsed": false
   },
   "outputs": [
    {
     "name": "stdout",
     "output_type": "stream",
     "text": [
      "bad_command3: command not found\r\n"
     ]
    }
   ],
   "source": [
    "# Redirecting stderr, one line at a time.\n",
    "ERRORFILE=script.errors\n",
    "\n",
    "# Error message sent to $ERRORFILE.\n",
    "bad_command1 2>$ERRORFILE \n",
    "# Error message appended to $ERRORFILE.\n",
    "bad_command2 2>>$ERRORFILE \n",
    "\n",
    "#  Error message echoed to stderr,\n",
    "#+ and does not appear in $ERRORFILE.\n",
    "bad_command3\n",
    "\n",
    "# These redirection commands also automatically \"reset\" after each line."
   ]
  },
  {
   "cell_type": "code",
   "execution_count": 22,
   "metadata": {
    "collapsed": false
   },
   "outputs": [
    {
     "name": "stdout",
     "output_type": "stream",
     "text": [
      "bad_command1: command not found\r\n",
      "bad_command2: command not found\r\n"
     ]
    }
   ],
   "source": [
    "cat script.errors"
   ]
  },
  {
   "cell_type": "raw",
   "metadata": {},
   "source": [
    "2>&1\n",
    "    # Redirects stderr to stdout.\n",
    "    # Error messages get sent to same place as standard output."
   ]
  },
  {
   "cell_type": "raw",
   "metadata": {},
   "source": [
    ">>filename 2>&1\n",
    "    # Appends both stdout and stderr to the file \"filename\" ..."
   ]
  },
  {
   "cell_type": "code",
   "execution_count": 23,
   "metadata": {
    "collapsed": false
   },
   "outputs": [
    {
     "name": "stdout",
     "output_type": "stream",
     "text": []
    }
   ],
   "source": [
    "bad_command >>command.error 2>&1"
   ]
  },
  {
   "cell_type": "code",
   "execution_count": 24,
   "metadata": {
    "collapsed": false
   },
   "outputs": [
    {
     "name": "stdout",
     "output_type": "stream",
     "text": [
      "bad_command: command not found\r\n"
     ]
    }
   ],
   "source": [
    "cat command.error"
   ]
  },
  {
   "cell_type": "raw",
   "metadata": {},
   "source": [
    "2>&1 | [command(s)]\n",
    "    # Sends stderr through a pipe.\n",
    "    # |& was added to Bash 4 as an abbreviation for 2>&1 |"
   ]
  },
  {
   "cell_type": "code",
   "execution_count": 29,
   "metadata": {
    "collapsed": false
   },
   "outputs": [
    {
     "name": "stdout",
     "output_type": "stream",
     "text": [
      "found\r\n"
     ]
    }
   ],
   "source": [
    "bad_command 2>&1 | awk '{print $4}'"
   ]
  },
  {
   "cell_type": "raw",
   "metadata": {},
   "source": [
    "i>&j\n",
    "    # Redirects file descriptor i to j.\n",
    "    # All output of file pointed to by i gets sent to file pointed to by j"
   ]
  },
  {
   "cell_type": "raw",
   "metadata": {},
   "source": [
    ">&j\n",
    "    # Redirects, by default, file descriptor 1 (stdout) to j.\n",
    "    # All stdout gets sent to file pointed to by j."
   ]
  },
  {
   "cell_type": "raw",
   "metadata": {},
   "source": [
    "0< FILENAME\n",
    "< FILENAME\n",
    "    # Accept input from a file.\n",
    "    # Companion command to \">\", and often used in combination with it"
   ]
  },
  {
   "cell_type": "code",
   "execution_count": 30,
   "metadata": {
    "collapsed": false
   },
   "outputs": [
    {
     "name": "stdout",
     "output_type": "stream",
     "text": [
      "bad_command1: command not found\r\n",
      "bad_command2: command not found\r\n"
     ]
    }
   ],
   "source": [
    "grep 'command' < script.errors"
   ]
  },
  {
   "cell_type": "raw",
   "metadata": {},
   "source": [
    "[j]<>filename\n",
    "    #  Open file \"filename\" for reading and writing,\n",
    "    #+ and assign file descriptor \"j\" to it.\n",
    "    #  If \"filename\" does not exist, create it.\n",
    "    #  If file descriptor \"j\" is not specified, default to fd 0, stdin."
   ]
  },
  {
   "cell_type": "code",
   "execution_count": 32,
   "metadata": {
    "collapsed": false
   },
   "outputs": [
    {
     "name": "stdout",
     "output_type": "stream",
     "text": [
      "1234.67890\r\n"
     ]
    }
   ],
   "source": [
    "# An application of this is writing at a specified place in a file.\n",
    "\n",
    "# Write string to file.txt\n",
    "echo '1234567890' > file.txt\n",
    "# Open file.txt and assign fd 3 to it.\n",
    "exec 3<> file.txt\n",
    "# Read only 4 characters.\n",
    "read -n 4 <&3\n",
    "# Write a decimal point there.\n",
    "echo -n . >&3\n",
    "# Close fd 3.\n",
    "exec 3>&-\n",
    "\n",
    "cat file.txt"
   ]
  },
  {
   "cell_type": "raw",
   "metadata": {},
   "source": [
    "|\n",
    "    # Pipe.\n",
    "    # General purpose process and command chaining tool.\n",
    "    # Similar to \">\", but more general in effect.\n",
    "    # Useful for chaining commands, scripts, files, and programs together."
   ]
  },
  {
   "cell_type": "code",
   "execution_count": 33,
   "metadata": {
    "collapsed": false
   },
   "outputs": [
    {
     "name": "stdout",
     "output_type": "stream",
     "text": []
    }
   ],
   "source": [
    "# Sorts the output of all the .txt files and deletes duplicate lines,\n",
    "# finally saves results to \"result-file\".\n",
    "cat *.txt | sort | uniq > result-file"
   ]
  },
  {
   "cell_type": "code",
   "execution_count": 34,
   "metadata": {
    "collapsed": false
   },
   "outputs": [
    {
     "name": "stdout",
     "output_type": "stream",
     "text": [
      "This is the contents of file1.txt.\r\n",
      "This is the contents of file2.txt.\r\n",
      "This is the contents of file3.txt.\r\n",
      "This is the contents of file4.txt.\r\n"
     ]
    }
   ],
   "source": [
    "cat result-file"
   ]
  },
  {
   "cell_type": "markdown",
   "metadata": {},
   "source": [
    "Multiple instances of input and output redirection and/or pipes can be combined in a single command line."
   ]
  },
  {
   "cell_type": "raw",
   "metadata": {},
   "source": [
    "command < input-file > output-file\n",
    "\n",
    "# Or the equivalent:\n",
    "< input-file command > output-file \n",
    "# Although this is non-standard."
   ]
  },
  {
   "cell_type": "code",
   "execution_count": null,
   "metadata": {
    "collapsed": true
   },
   "outputs": [],
   "source": []
  },
  {
   "cell_type": "raw",
   "metadata": {},
   "source": [
    "command1 | command2 | command3 > output-file"
   ]
  },
  {
   "cell_type": "code",
   "execution_count": 35,
   "metadata": {
    "collapsed": false
   },
   "outputs": [
    {
     "name": "stdout",
     "output_type": "stream",
     "text": [
      "This is the contents of file1.txt.\r\n",
      "This is the contents of file2.txt.\r\n",
      "This is the contents of file3.txt.\r\n",
      "This is the contents of file4.txt.\r\n"
     ]
    }
   ],
   "source": [
    "cat *.txt | sort | uniq"
   ]
  },
  {
   "cell_type": "code",
   "execution_count": 36,
   "metadata": {
    "collapsed": false
   },
   "outputs": [
    {
     "name": "stdout",
     "output_type": "stream",
     "text": []
    }
   ],
   "source": [
    "#  Capture result of illegal options \"yz\" in file \"command.log.\"\n",
    "#  Because stderr is redirected to the file,\n",
    "#+ any error messages will also be there.\n",
    "ls -yz >> command.log 2>&1"
   ]
  },
  {
   "cell_type": "code",
   "execution_count": 37,
   "metadata": {
    "collapsed": false
   },
   "outputs": [
    {
     "name": "stdout",
     "output_type": "stream",
     "text": [
      "ls: invalid option -- 'y'\r\n",
      "Try 'ls --help' for more information.\r\n"
     ]
    }
   ],
   "source": [
    "cat command.log"
   ]
  },
  {
   "cell_type": "code",
   "execution_count": 39,
   "metadata": {
    "collapsed": false
   },
   "outputs": [
    {
     "name": "stdout",
     "output_type": "stream",
     "text": [
      "ls: invalid option -- 'z'\r\n",
      "Try 'ls --help' for more information.\r\n"
     ]
    }
   ],
   "source": [
    "# Note, however, that the following does *not* give the same result.\n",
    "ls -z 2>&1 >> command.log\n",
    "#  Outputs an error message, but does not write to file.\n",
    "#  More precisely, the command output (in this case, null)\n",
    "#+ writes to the file, but the error message goes only to stdout.\n",
    "\n",
    "# If redirecting both stdout and stderr,\n",
    "#+ the order of the commands makes a difference."
   ]
  },
  {
   "cell_type": "code",
   "execution_count": 41,
   "metadata": {
    "collapsed": false
   },
   "outputs": [
    {
     "name": "stdout",
     "output_type": "stream",
     "text": [
      "ls: invalid option -- 'y'\r\n",
      "Try 'ls --help' for more information.\r\n"
     ]
    }
   ],
   "source": [
    "cat command.log"
   ]
  },
  {
   "cell_type": "markdown",
   "metadata": {},
   "source": [
    "#### Closing File Descriptors"
   ]
  },
  {
   "cell_type": "markdown",
   "metadata": {},
   "source": [
    "##### n<&-\n",
    "    Close input file descriptor n.\n",
    "##### 0<&-, <&-\n",
    "    Close stdin.\n",
    "##### n>&-\n",
    "    Close output file descriptor n.\n",
    "##### 1>&-, >&-\n",
    "    Close stdout."
   ]
  },
  {
   "cell_type": "markdown",
   "metadata": {},
   "source": [
    "Child processes inherit open file descriptors.   \n",
    "This is why pipes work.   \n",
    "To prevent an fd from being inherited, close it."
   ]
  },
  {
   "cell_type": "code",
   "execution_count": 44,
   "metadata": {
    "collapsed": false
   },
   "outputs": [
    {
     "name": "stdout",
     "output_type": "stream",
     "text": [
      "total 532\r\n",
      "-rw-rw-r-- 1 liheyi liheyi 122146 8月  19 01:31 another_look_at_variables.ipynb\r\n",
      "-rw-rw-r-- 1 liheyi liheyi   4849 8月  20 22:45 arithmetic_expansion.ipynb\r\n",
      "-rw-rw-r-- 1 liheyi liheyi   5546 8月  16 21:24 command_line_shortcut.ipynb\r\n",
      "-rw-rw-r-- 1 liheyi liheyi  19707 8月  19 02:47 command_substitution.ipynb\r\n",
      "-rw-rw-r-- 1 liheyi liheyi   7252 8月  16 21:24 exit_and_exit_status.ipynb\r\n",
      "-rw-rw-r-- 1 liheyi liheyi  29237 8月  30 22:40 IO_redirection.ipynb\r\n",
      "-rw-rw-r-- 1 liheyi liheyi 117471 8月  20 22:22 loops_and_branches.ipynb\r\n",
      "-rw-rw-r-- 1 liheyi liheyi  67279 8月  19 01:31 manipulate_variables.ipynb\r\n",
      "-rw-rw-r-- 1 liheyi liheyi  28335 8月  17 23:15 operations_and_related_topics.ipynb\r\n",
      "-rw-rw-r-- 1 liheyi liheyi  31133 8月  16 21:24 quoting.ipynb\r\n",
      "-rw-rw-r-- 1 liheyi liheyi  55789 8月  16 21:24 test.ipynb\r\n",
      "-rw-rw-r-- 1 liheyi liheyi  35745 8月  16 21:24 variables_and_parameters.ipynb\r\n"
     ]
    }
   ],
   "source": [
    "# Redirecting only stderr to a pipe.\n",
    "\n",
    "# Save current \"value\" of stdout.\n",
    "exec 3>&1\n",
    "# Close fd 3 for 'grep' (but not 'ls')\n",
    "ls -l 2>&1 >&3 3>&- | grep bad 3>&-\n",
    "#              ^^^^   ^^^^\n",
    "# Now close it for the remainder of the script.\n",
    "exec 3>&-"
   ]
  },
  {
   "cell_type": "markdown",
   "metadata": {},
   "source": [
    "For a more detailed introduction to I/O redirection see Appendix F."
   ]
  },
  {
   "cell_type": "markdown",
   "metadata": {},
   "source": [
    "### Using exec"
   ]
  },
  {
   "cell_type": "markdown",
   "metadata": {},
   "source": [
    "An exec <filename command redirects stdin to a file.   \n",
    "From that point on, all stdin comes from that file, rather than its normal source (usually keyboard input).   \n",
    "This provides a method of reading a file line by line and possibly parsing each line of input using sed and/or awk."
   ]
  },
  {
   "cell_type": "markdown",
   "metadata": {},
   "source": [
    "#### Example 20-1. Redirecting stdin using exec"
   ]
  },
  {
   "cell_type": "code",
   "execution_count": 45,
   "metadata": {
    "collapsed": false
   },
   "outputs": [
    {
     "name": "stdout",
     "output_type": "stream",
     "text": [
      "#!/bin/bash\r\n",
      "# Redirecting stdin using 'exec'.\r\n",
      "\r\n",
      "# Link file descriptor #6 with stdin.\r\n",
      "# Saves stdin.\r\n",
      "exec 6<&0 \r\n",
      "\r\n",
      "# stdin replaced by file \"data-file\"\r\n",
      "exec < data-file \r\n",
      "\r\n",
      "# Reads first line of file \"data-file\".\r\n",
      "read a1 \r\n",
      "# Reads second line of file \"data-file.\"\r\n",
      "read a2 \r\n",
      "\r\n",
      "echo\r\n",
      "echo \"Following lines read from file.\"\r\n",
      "echo \"-------------------------------\"\r\n",
      "echo $a1\r\n",
      "echo $a2\r\n",
      "echo\r\n",
      "\r\n",
      "exec 0<&6 6<&-\r\n",
      "#  Now restore stdin from fd #6, where it had been saved,\r\n",
      "#+ and close fd #6 ( 6<&- ) to free it for other processes to use.\r\n",
      "#\r\n",
      "#  <&6 6<&- also works.\r\n",
      "\r\n",
      "echo -n \"Enter data \"\r\n",
      "# Now \"read\" functions as expected, reading from normal stdin.\r\n",
      "read b1 \r\n",
      "echo \"Input read from stdin.\"\r\n",
      "echo \"----------------------\"\r\n",
      "echo \"b1 = $b1\"\r\n",
      "\r\n",
      "echo\r\n",
      "exit 0\r\n"
     ]
    }
   ],
   "source": [
    "cat stdin_redirection.sh"
   ]
  },
  {
   "cell_type": "raw",
   "metadata": {},
   "source": [
    "Running Instance:\n",
    "\n",
    "liheyi@liheyi:~/jupyter/bash/basics$ bash stdin_redirection.sh \n",
    "\n",
    "Following lines read from file.\n",
    "-------------------------------\n",
    "This is the first line.\n",
    "This is the second line.\n",
    "\n",
    "Enter data:linux.log\n",
    "Input read from stdin.\n",
    "----------------------\n",
    "b1 = linux.log"
   ]
  },
  {
   "cell_type": "markdown",
   "metadata": {},
   "source": [
    "Similarly, an exec >filename command redirects stdout to a designated file.   \n",
    "This sends all command output that would normally go to stdout to that file."
   ]
  },
  {
   "cell_type": "markdown",
   "metadata": {},
   "source": [
    "exec N > filename affects the entire script or current shell.   \n",
    "Redirection in the PID of the script or shell from that point on has changed.   \n",
    "However:  \n",
    "N > filename affects only the newly-forked process, not the entire script or shell."
   ]
  },
  {
   "cell_type": "markdown",
   "metadata": {},
   "source": [
    "#### Example 20-2. Redirecting stdout using exec"
   ]
  },
  {
   "cell_type": "code",
   "execution_count": null,
   "metadata": {
    "collapsed": true
   },
   "outputs": [],
   "source": []
  }
 ],
 "metadata": {
  "kernelspec": {
   "display_name": "Bash",
   "language": "bash",
   "name": "bash"
  },
  "language_info": {
   "codemirror_mode": "shell",
   "file_extension": ".sh",
   "mimetype": "text/x-sh",
   "name": "bash"
  }
 },
 "nbformat": 4,
 "nbformat_minor": 0
}
