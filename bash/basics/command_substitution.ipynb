{
 "cells": [
  {
   "cell_type": "markdown",
   "metadata": {},
   "source": [
    "## 12. Command Substitution"
   ]
  },
  {
   "cell_type": "markdown",
   "metadata": {},
   "source": [
    "Command substitution reassigns the output of a command or even multiple commands;   \n",
    "it literally plugs the command output into another context.   \n",
    "The classic form of command substitution uses backquotes (`...`).   \n",
    "Commands within backquotes (backticks) generate command-line text."
   ]
  },
  {
   "cell_type": "code",
   "execution_count": null,
   "metadata": {
    "collapsed": true
   },
   "outputs": [],
   "source": [
    "script_name=`basename $0`\n",
    "echo \"The name of this script is $script_name.\""
   ]
  },
  {
   "cell_type": "markdown",
   "metadata": {},
   "source": [
    "The output of commands can be used as arguments to another command, to set a variable, and even for generating the argument list in a for loop."
   ]
  },
  {
   "cell_type": "code",
   "execution_count": null,
   "metadata": {
    "collapsed": true
   },
   "outputs": [],
   "source": [
    "# \"filename\" contains a list of files to delete.\n",
    "rm `cat filename`\n",
    "\n",
    "# S. C. points out that \"arg list too long\" error might result.\n",
    "# Better is                             xargs rm -- < filename\n",
    "# ( -- covers those cases where \"filename\" begins with a \"-\" )\n",
    "\n",
    "# Variable contains names of all *.txt files in current working directory.\n",
    "textfile_listing=`ls *.txt`\n",
    "echo $textfile_listing\n",
    "\n",
    "# The alternative form of command substitution.\n",
    "textfile_listing2=$(ls *.txt)\n",
    "echo $textfile_listing2\n",
    "\n",
    "# A possible problem with putting a list of files into a single string\n",
    "# is that a newline may creep in.\n",
    "# A safer way to assign a list of files to a parameter is with an array.\n",
    "#      shopt -s nullglob     # If no match, filename expands to nothing.\n",
    "#      textfile_listing=( *.txt )"
   ]
  },
  {
   "cell_type": "markdown",
   "metadata": {},
   "source": [
    "#### Command substitution invokes a subshell."
   ]
  },
  {
   "cell_type": "markdown",
   "metadata": {},
   "source": [
    "#### Command substitution may result in word splitting"
   ]
  },
  {
   "cell_type": "code",
   "execution_count": null,
   "metadata": {
    "collapsed": true
   },
   "outputs": [],
   "source": [
    "# 2 args: a and b\n",
    "COMMAND `echo a b`\n",
    "\n",
    "# 1 arg: \"a b\"\n",
    "COMMAND \"`echo a b`\"\n",
    "\n",
    "# no arg\n",
    "COMMAND `echo`\n",
    "\n",
    "# one empty arg\n",
    "COMMAND \"`echo`\""
   ]
  },
  {
   "cell_type": "markdown",
   "metadata": {},
   "source": [
    "Even when there is no word splitting, command substitution can remove trailing newlines."
   ]
  },
  {
   "cell_type": "code",
   "execution_count": null,
   "metadata": {
    "collapsed": true
   },
   "outputs": [],
   "source": [
    "# This should always work.\n",
    "# cd \"`pwd`\" \n",
    "\n",
    "# However...\n",
    "mkdir 'dir with trailing newline\n",
    "'\n",
    "\n",
    "cd 'dir with trailing newline\n",
    "'\n",
    "\n",
    "cd \"`pwd`\" # Error message:\n",
    "# bash: cd: /tmp/file with trailing newline: No such file or directory\n",
    "\n",
    "# Works fine\n",
    "cd \"$PWD\" \n",
    "\n",
    "# Save old terminal setting.\n",
    "old_tty_setting=$(stty -g)\n",
    "echo \"Hit a key \"\n",
    "# Disable \"canonical\" mode for terminal.\n",
    "# Also, disable *local* echo.\n",
    "stty -icanon -echo\n",
    "\n",
    "# Using 'dd' to get a keypress.\n",
    "key=$(dd bs=1 count=1 2> /dev/null)\n",
    "# Restore old setting.\n",
    "stty \"$old_tty_setting\"\n",
    "# ${#variable} = number of characters in $variable\n",
    "echo \"You hit ${#key} key.\"\n",
    "\n",
    "# Hit any key except RETURN, and the output is \"You hit 1 key.\"\n",
    "# Hit RETURN, and it's \"You hit 0 key.\"\n",
    "# The newline gets eaten in the command substitution."
   ]
  },
  {
   "cell_type": "markdown",
   "metadata": {},
   "source": [
    "Using echo to output an unquoted variable set with command substitution removes trailing newlines characters from the output of the reassigned command(s). This can cause unpleasant surprises."
   ]
  },
  {
   "cell_type": "code",
   "execution_count": 2,
   "metadata": {
    "collapsed": false
   },
   "outputs": [
    {
     "name": "stdout",
     "output_type": "stream",
     "text": [
      "total 376 -rw-rw-r-- 1 liheyi liheyi 122146 8月 19 01:31 another_look_at_variables.ipynb -rw-rw-r-- 1 liheyi liheyi 5546 8月 16 21:24 command_line_shortcut.ipynb -rw-rw-r-- 1 liheyi liheyi 4401 8月 19 01:46 command_substitution.ipynb -rw-rw-r-- 1 liheyi liheyi 7252 8月 16 21:24 exit_and_exit_status.ipynb -rw-rw-r-- 1 liheyi liheyi 9277 8月 19 01:31 loops_and_branches.ipynb -rw-rw-r-- 1 liheyi liheyi 67279 8月 19 01:31 manipulate_variables.ipynb -rw-rw-r-- 1 liheyi liheyi 28335 8月 17 23:15 operations_and_related_topics.ipynb -rw-rw-r-- 1 liheyi liheyi 31133 8月 16 21:24 quoting.ipynb -rw-rw-r-- 1 liheyi liheyi 55789 8月 16 21:24 test.ipynb -rw-rw-r-- 1 liheyi liheyi 35745 8月 16 21:24 variables_and_parameters.ipynb\r\n"
     ]
    }
   ],
   "source": [
    "dir_listing=`ls -l`\n",
    "# unquoted\n",
    "# The newlines disappeared.\n",
    "echo $dir_listing"
   ]
  },
  {
   "cell_type": "code",
   "execution_count": 3,
   "metadata": {
    "collapsed": false
   },
   "outputs": [
    {
     "name": "stdout",
     "output_type": "stream",
     "text": [
      "total 376\r\n",
      "-rw-rw-r-- 1 liheyi liheyi 122146 8月  19 01:31 another_look_at_variables.ipynb\r\n",
      "-rw-rw-r-- 1 liheyi liheyi   5546 8月  16 21:24 command_line_shortcut.ipynb\r\n",
      "-rw-rw-r-- 1 liheyi liheyi   4401 8月  19 01:46 command_substitution.ipynb\r\n",
      "-rw-rw-r-- 1 liheyi liheyi   7252 8月  16 21:24 exit_and_exit_status.ipynb\r\n",
      "-rw-rw-r-- 1 liheyi liheyi   9277 8月  19 01:31 loops_and_branches.ipynb\r\n",
      "-rw-rw-r-- 1 liheyi liheyi  67279 8月  19 01:31 manipulate_variables.ipynb\r\n",
      "-rw-rw-r-- 1 liheyi liheyi  28335 8月  17 23:15 operations_and_related_topics.ipynb\r\n",
      "-rw-rw-r-- 1 liheyi liheyi  31133 8月  16 21:24 quoting.ipynb\r\n",
      "-rw-rw-r-- 1 liheyi liheyi  55789 8月  16 21:24 test.ipynb\r\n",
      "-rw-rw-r-- 1 liheyi liheyi  35745 8月  16 21:24 variables_and_parameters.ipynb\r\n"
     ]
    }
   ],
   "source": [
    "# quoted\n",
    "echo \"$dir_listing\""
   ]
  },
  {
   "cell_type": "markdown",
   "metadata": {},
   "source": [
    "Command substitution even permits setting a variable to the contents of a file, using either redirection or the cat command."
   ]
  },
  {
   "cell_type": "code",
   "execution_count": null,
   "metadata": {
    "collapsed": true
   },
   "outputs": [],
   "source": [
    "#  Set \"variable1\" to contents of \"file1\".\n",
    "variable1=`<file1`\n",
    "\n",
    "#  Set \"variable2\" to contents of \"file2\".\n",
    "#  This, however, forks a new process,\n",
    "#+ so the line of code executes slower than the above version.\n",
    "variable2=`cat file2`\n",
    "\n",
    "#  Note that the variables may contain embedded whitespace,\n",
    "#+ or even (horrors), control characters.\n",
    "\n",
    "# It is not necessary to explicitly assign a variable.\n",
    "# Echoes the script itself to stdout.\n",
    "echo \"` <$0`\" "
   ]
  },
  {
   "cell_type": "code",
   "execution_count": null,
   "metadata": {
    "collapsed": true
   },
   "outputs": [],
   "source": [
    "# Excerpts from system file, /etc/rc.d/rc.sysinit\n",
    "#+ (on a Red Hat Linux installation)\n",
    "\n",
    "if [ -f /fsckoptions ]; then\n",
    "    fsckoptions=`cat /fsckoptions`\n",
    "...\n",
    "fi\n",
    "#\n",
    "#\n",
    "if [ -e \"/proc/ide/${disk[$device]}/media\" ] ; then\n",
    "    hdmedia=`cat /proc/ide/${disk[$device]}/media`\n",
    "...\n",
    "fi\n",
    "# #\n",
    "if [ ! -n \"`uname -r | grep -- \"-\"`\" ]; then\n",
    "ktag=\"`cat /proc/version`\"\n",
    "...\n",
    "fi\n",
    "#\n",
    "#\n",
    "if [ $usb = \"1\" ]; then\n",
    "    sleep 5\n",
    "    mouseoutput=`cat /proc/bus/usb/devices 2>/dev/null|grep -E \"^I.*Cls=03.*Prot=02\"`\n",
    "    kbdoutput=`cat /proc/bus/usb/devices 2>/dev/null|grep -E \"^I.*Cls=03.*Prot=01\"`\n",
    "...\n",
    "fi"
   ]
  },
  {
   "cell_type": "markdown",
   "metadata": {},
   "source": [
    "Do not set a variable to the contents of a long text file unless you have a very good reason for doing so."
   ]
  },
  {
   "cell_type": "markdown",
   "metadata": {},
   "source": [
    "Do not set a variable to the contents of a binary file, even as a joke.  "
   ]
  },
  {
   "cell_type": "markdown",
   "metadata": {},
   "source": [
    "#### Example 12-1. Stupid script tricks"
   ]
  },
  {
   "cell_type": "code",
   "execution_count": 4,
   "metadata": {
    "collapsed": false
   },
   "outputs": [
    {
     "name": "stdout",
     "output_type": "stream",
     "text": [
      "#!/bin/bash\r\n",
      "# stupid-script-tricks.sh: Don't try this at home, folks.\r\n",
      "# From \"Stupid Script Tricks,\" Volume I.\r\n",
      "\r\n",
      "### Comment out this line if you dare.\r\n",
      "exit 99 \r\n",
      "# The compressed Linux kernel itself.\r\n",
      "dangerous_variable=`cat /boot/vmlinuz` \r\n",
      "\r\n",
      "# string-length of $dangerous_variable = 794151\r\n",
      "# (Newer kernels are bigger.)\r\n",
      "# Does not give same count as 'wc -c /boot/vmlinuz'.\r\n",
      "echo \"string-length of \\$dangerous_variable = ${#dangerous_variable}\"\r\n",
      "\r\n",
      "# Don't try this! It would hang the script.\r\n",
      "# echo \"$dangerous_variable\"\r\n",
      "\r\n",
      "#  The document author is aware of no useful applications for\r\n",
      "#+ setting a variable to the contents of a binary file.\r\n",
      "exit 0\r\n"
     ]
    }
   ],
   "source": [
    "cat stupid-script-tricks.sh"
   ]
  },
  {
   "cell_type": "markdown",
   "metadata": {},
   "source": [
    "Notice that a buffer overrun does not occur.   \n",
    "This is one instance where an interpreted language,   \n",
    "such as Bash, provides more protection from programmer mistakes than a compiled language."
   ]
  },
  {
   "cell_type": "markdown",
   "metadata": {},
   "source": [
    "Command substitution permits setting a variable to the output of a loop.   \n",
    "The key to this is grabbing the output of an echo command within the loop."
   ]
  },
  {
   "cell_type": "markdown",
   "metadata": {},
   "source": [
    "#### Example 12-2. Generating a variable from a loop"
   ]
  },
  {
   "cell_type": "code",
   "execution_count": 5,
   "metadata": {
    "collapsed": false
   },
   "outputs": [
    {
     "name": "stdout",
     "output_type": "stream",
     "text": [
      "#!/bin/bash\r\n",
      "# csubloop.sh: Setting a variable to the output of a loop.\r\n",
      "\r\n",
      "variable1=`for i in 1 2 3 4 5\r\n",
      "do\r\n",
      "    echo -n \"$i\"              # The 'echo' command is critical\r\n",
      "done`                         #+ to command substitution here.\r\n",
      "echo \"variable1 = $variable1\" # variable1 = 12345\r\n",
      "\r\n",
      "i=0\r\n",
      "variable2=`while [ \"$i\" -lt 10 ]\r\n",
      "do\r\n",
      "    echo -n \"$i\"              # Again, the necessary 'echo'.\r\n",
      "    let \"i += 1\"              # Increment.\r\n",
      "done`\r\n",
      "echo \"variable2 = $variable2\" # variable2 = 0123456789\r\n",
      "\r\n",
      "#  Demonstrates that it's possible to embed a loop\r\n",
      "#+ inside a variable declaration.\r\n",
      "exit 0\r\n"
     ]
    }
   ],
   "source": [
    "cat csubloop.sh"
   ]
  },
  {
   "cell_type": "code",
   "execution_count": 6,
   "metadata": {
    "collapsed": false
   },
   "outputs": [
    {
     "name": "stdout",
     "output_type": "stream",
     "text": [
      "variable1 = 12345\r\n",
      "variable2 = 0123456789\r\n"
     ]
    }
   ],
   "source": [
    "./csubloop.sh"
   ]
  },
  {
   "cell_type": "markdown",
   "metadata": {},
   "source": [
    "Command substitution makes it possible to extend the toolset available to Bash. It is simply a matter of writing a program or script that outputs to stdout (like a well-behaved UNIX tool should) and assigning that output to a variable."
   ]
  },
  {
   "cell_type": "code",
   "execution_count": 7,
   "metadata": {
    "collapsed": false
   },
   "outputs": [
    {
     "name": "stdout",
     "output_type": "stream",
     "text": [
      "#include <stdio.h>\r\n",
      "\r\n",
      "/* \"Hello, world.\" C program */\r\n",
      "\r\n",
      "int main()\r\n",
      "{\r\n",
      "    printf( \"Hello, world.\\n\" );\r\n",
      "    return (0);\r\n",
      "}\r\n"
     ]
    }
   ],
   "source": [
    "cat hello.c"
   ]
  },
  {
   "cell_type": "code",
   "execution_count": 8,
   "metadata": {
    "collapsed": false
   },
   "outputs": [
    {
     "name": "stdout",
     "output_type": "stream",
     "text": []
    }
   ],
   "source": [
    "gcc -o hello hello.c"
   ]
  },
  {
   "cell_type": "code",
   "execution_count": 9,
   "metadata": {
    "collapsed": false
   },
   "outputs": [
    {
     "name": "stdout",
     "output_type": "stream",
     "text": [
      "hello: ELF 64-bit LSB executable, x86-64, version 1 (SYSV), dynamically linked, interpreter /lib64/ld-linux-x86-64.so.2, for GNU/Linux 2.6.32, BuildID[sha1]=ae69cb028d91ec8f7a8d2d44e82de0e1bb64e69c, not stripped\r\n"
     ]
    }
   ],
   "source": [
    "file hello"
   ]
  },
  {
   "cell_type": "code",
   "execution_count": 10,
   "metadata": {
    "collapsed": false
   },
   "outputs": [
    {
     "name": "stdout",
     "output_type": "stream",
     "text": [
      "#!/bin/bash\r\n",
      "# hello.sh\r\n",
      "\r\n",
      "greeting=`./hello`\r\n",
      "echo $greeting\r\n"
     ]
    }
   ],
   "source": [
    "cat hello.sh"
   ]
  },
  {
   "cell_type": "code",
   "execution_count": 11,
   "metadata": {
    "collapsed": false
   },
   "outputs": [
    {
     "name": "stdout",
     "output_type": "stream",
     "text": [
      "Hello, world.\r\n"
     ]
    }
   ],
   "source": [
    "./hello.sh"
   ]
  },
  {
   "cell_type": "markdown",
   "metadata": {},
   "source": [
    "###### The \\$(...) form has superseded backticks for command substitution."
   ]
  },
  {
   "cell_type": "code",
   "execution_count": 12,
   "metadata": {
    "collapsed": false
   },
   "outputs": [
    {
     "name": "stdout",
     "output_type": "stream",
     "text": [
      "\r\n"
     ]
    }
   ],
   "source": [
    "echo `echo \\\\`"
   ]
  },
  {
   "cell_type": "code",
   "execution_count": 13,
   "metadata": {
    "collapsed": false
   },
   "outputs": [
    {
     "name": "stdout",
     "output_type": "stream",
     "text": [
      "\\\r\n"
     ]
    }
   ],
   "source": [
    "echo $(echo \\\\)"
   ]
  },
  {
   "cell_type": "markdown",
   "metadata": {},
   "source": [
    "###### The \\$(...) form of command substitution permits nesting."
   ]
  },
  {
   "cell_type": "code",
   "execution_count": 14,
   "metadata": {
    "collapsed": false
   },
   "outputs": [
    {
     "name": "stdout",
     "output_type": "stream",
     "text": [
      "6 hello.sh\r\n"
     ]
    }
   ],
   "source": [
    "word_count=$( wc -w $(echo * | awk '{print $8}') )\n",
    "echo \"$word_count\""
   ]
  },
  {
   "cell_type": "markdown",
   "metadata": {},
   "source": [
    "#### Example 12-3. Finding anagrams"
   ]
  },
  {
   "cell_type": "code",
   "execution_count": 15,
   "metadata": {
    "collapsed": false
   },
   "outputs": [
    {
     "name": "stdout",
     "output_type": "stream",
     "text": [
      "#!/bin/bash\r\n",
      "# agram2.sh\r\n",
      "# Example of nested command substitution.\r\n",
      "\r\n",
      "#  Uses \"anagram\" utility\r\n",
      "#+ that is part of the author's \"yawl\" word list package.\r\n",
      "#  http://ibiblio.org/pub/Linux/libs/yawl-0.3.2.tar.gz\r\n",
      "#  http://bash.deta.in/yawl-0.3.2.tar.gz\r\n",
      "\r\n",
      "E_NOARGS=86\r\n",
      "E_BADARG=87\r\n",
      "MINLEN=7\r\n",
      "\r\n",
      "if [ -z \"$1\" ]\r\n",
      "then\r\n",
      "    echo \"Usage $0 LETTERSET\"\r\n",
      "    exit $E_NOARGS     # Script needs a command-line argument.\r\n",
      "elif [ ${#1} -lt $MINLEN ]\r\n",
      "then\r\n",
      "    echo \"Argument must have at least $MINLEN letters.\"\r\n",
      "    exit $E_BADARG\r\n",
      "fi\r\n",
      "\r\n",
      "# Must have at least 7 letters.\r\n",
      "FILTER='.......'\r\n",
      "#       1234567\r\n",
      "Anagrams=( $(echo $(kanagram $1 | grep $FILTER) ) )\r\n",
      "\r\n",
      "echo\r\n",
      "echo \"${#Anagrams[*]} 7+ letter anagrams found\"\r\n",
      "echo\r\n",
      "echo ${Anagrams[0]}   # First anagram.\r\n",
      "echo ${Anagrams[1]}   # Second anagram.\r\n",
      "\r\n",
      "# To list all the anagrams in a single line . . .\r\n",
      "# echo \"${Anagrams[*]}\" \r\n",
      "\r\n",
      "# Look ahead to the Arrays chapter for enlightenment on\r\n",
      "#+ what's going on here.\r\n",
      "\r\n",
      "# See also the agram.sh script for an exercise in anagram finding.\r\n",
      "exit 0\r\n"
     ]
    }
   ],
   "source": [
    "cat agram2.sh"
   ]
  },
  {
   "cell_type": "markdown",
   "metadata": {},
   "source": [
    "#### Examples of command substitution in shell scripts: "
   ]
  },
  {
   "cell_type": "markdown",
   "metadata": {},
   "source": [
    "#### 1. Example 11-8  "
   ]
  },
  {
   "cell_type": "markdown",
   "metadata": {},
   "source": [
    "#### 2. Example 11-27  "
   ]
  },
  {
   "cell_type": "markdown",
   "metadata": {},
   "source": [
    "#### 3. Example 9-16  "
   ]
  },
  {
   "cell_type": "markdown",
   "metadata": {},
   "source": [
    "#### 4. Example 16-3  "
   ]
  },
  {
   "cell_type": "markdown",
   "metadata": {},
   "source": [
    "#### 5. Example 16-22  "
   ]
  },
  {
   "cell_type": "markdown",
   "metadata": {},
   "source": [
    "#### 6. Example 16-17  "
   ]
  },
  {
   "cell_type": "markdown",
   "metadata": {},
   "source": [
    "#### 7. Example 16-54  "
   ]
  },
  {
   "cell_type": "markdown",
   "metadata": {},
   "source": [
    "#### 8. Example 11-14  "
   ]
  },
  {
   "cell_type": "markdown",
   "metadata": {},
   "source": [
    "#### 9. Example 11-11   "
   ]
  },
  {
   "cell_type": "markdown",
   "metadata": {},
   "source": [
    "#### 10. Example 16-32  "
   ]
  },
  {
   "cell_type": "markdown",
   "metadata": {},
   "source": [
    "#### 11. Example 20-8  "
   ]
  },
  {
   "cell_type": "markdown",
   "metadata": {},
   "source": [
    "#### 12. Example A-16  "
   ]
  },
  {
   "cell_type": "markdown",
   "metadata": {},
   "source": [
    "#### 13. Example 29-3  "
   ]
  },
  {
   "cell_type": "markdown",
   "metadata": {},
   "source": [
    "#### 14. Example 16-47  "
   ]
  },
  {
   "cell_type": "markdown",
   "metadata": {},
   "source": [
    "#### 15. Example 16-48  "
   ]
  },
  {
   "cell_type": "markdown",
   "metadata": {},
   "source": [
    "#### 16. Example 16-49"
   ]
  }
 ],
 "metadata": {
  "kernelspec": {
   "display_name": "Bash",
   "language": "bash",
   "name": "bash"
  },
  "language_info": {
   "codemirror_mode": "shell",
   "file_extension": ".sh",
   "mimetype": "text/x-sh",
   "name": "bash"
  }
 },
 "nbformat": 4,
 "nbformat_minor": 0
}
