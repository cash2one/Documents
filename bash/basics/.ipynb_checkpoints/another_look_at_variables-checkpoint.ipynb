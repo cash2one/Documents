{
 "cells": [
  {
   "cell_type": "markdown",
   "metadata": {},
   "source": [
    "## 9. Another Look at Variables"
   ]
  },
  {
   "cell_type": "markdown",
   "metadata": {},
   "source": [
    "Used properly, variables can add power and flexibility to scripts.   \n",
    "This requires learning their subtleties and nuances."
   ]
  },
  {
   "cell_type": "markdown",
   "metadata": {},
   "source": [
    "### Internal Variables"
   ]
  },
  {
   "cell_type": "markdown",
   "metadata": {},
   "source": [
    "#### A.Builtin variables\n",
    "    variables affecting bash script behavior"
   ]
  },
  {
   "cell_type": "markdown",
   "metadata": {},
   "source": [
    "###### $BASH\n",
    "    The path to the Bash binary itself"
   ]
  },
  {
   "cell_type": "code",
   "execution_count": 1,
   "metadata": {
    "collapsed": false
   },
   "outputs": [
    {
     "name": "stdout",
     "output_type": "stream",
     "text": [
      "/bin/bash\r\n"
     ]
    }
   ],
   "source": [
    "echo $BASH"
   ]
  },
  {
   "cell_type": "markdown",
   "metadata": {},
   "source": [
    "###### $BASH_ENV\n",
    "    An environmental variable pointing to a Bash startup file to be read when a script is invoked"
   ]
  },
  {
   "cell_type": "code",
   "execution_count": 3,
   "metadata": {
    "collapsed": false
   },
   "outputs": [
    {
     "name": "stdout",
     "output_type": "stream",
     "text": [
      "\r\n"
     ]
    }
   ],
   "source": [
    "# Nothing\n",
    "echo $BASH_ENV"
   ]
  },
  {
   "cell_type": "markdown",
   "metadata": {},
   "source": [
    "###### $BASH_SUBSHELL\n",
    "    A variable indicating the subshell level. \n",
    "    This is a new addition to Bash, version 3."
   ]
  },
  {
   "cell_type": "code",
   "execution_count": 4,
   "metadata": {
    "collapsed": false
   },
   "outputs": [
    {
     "name": "stdout",
     "output_type": "stream",
     "text": [
      "0\r\n"
     ]
    }
   ],
   "source": [
    "echo $BASH_SUBSHELL"
   ]
  },
  {
   "cell_type": "markdown",
   "metadata": {},
   "source": [
    "###### $BASHPID\n",
    "    Process ID of the current instance of Bash. \n",
    "    This is not the same as the $$ variable, but it often gives the same result."
   ]
  },
  {
   "cell_type": "code",
   "execution_count": 8,
   "metadata": {
    "collapsed": false
   },
   "outputs": [
    {
     "name": "stdout",
     "output_type": "stream",
     "text": [
      "70210\r\n"
     ]
    }
   ],
   "source": [
    "echo $$"
   ]
  },
  {
   "cell_type": "code",
   "execution_count": 9,
   "metadata": {
    "collapsed": false
   },
   "outputs": [
    {
     "name": "stdout",
     "output_type": "stream",
     "text": [
      "70210\r\n"
     ]
    }
   ],
   "source": [
    "echo $BASHPID"
   ]
  },
  {
   "cell_type": "code",
   "execution_count": 16,
   "metadata": {
    "collapsed": false
   },
   "outputs": [
    {
     "name": "stdout",
     "output_type": "stream",
     "text": [
      " 70210 pts/3    Ss     0:00 /bin/bash --rcfile /home/liheyi/anaconda2/lib/python2.7/site-packages/pexpect/bashrc.sh\r\n",
      " 70230 pts/3    S+     0:00 grep 70210\r\n"
     ]
    }
   ],
   "source": [
    "ps ax | grep 70210"
   ]
  },
  {
   "cell_type": "code",
   "execution_count": 22,
   "metadata": {
    "collapsed": false
   },
   "outputs": [
    {
     "name": "stdout",
     "output_type": "stream",
     "text": [
      "#!/bin/bash\r\n",
      "echo \"\\$\\$ outside of subshell = $$\"\r\n",
      "echo \"\\$BASH_SUBSHELL outside of subshell = $BASH_SUBSHELL\"\r\n",
      "echo \"\\$BASHPID outside of subshell = $BASHPID\"\r\n",
      "\r\n",
      "echo\r\n",
      "\r\n",
      "( echo \"\\$\\$ inside of subshell = $$\"\r\n",
      "echo \"\\$BASH_SUBSHELL inside of subshell = $BASH_SUBSHELL\"\r\n",
      "echo \"\\$BASHPID inside of subshell = $BASHPID\" )\r\n"
     ]
    }
   ],
   "source": [
    "# Note that $$ returns PID of parent process.\n",
    "cat bashpid.sh"
   ]
  },
  {
   "cell_type": "code",
   "execution_count": 23,
   "metadata": {
    "collapsed": false
   },
   "outputs": [
    {
     "name": "stdout",
     "output_type": "stream",
     "text": [
      "$$ outside of subshell = 70247\r\n",
      "$BASH_SUBSHELL outside of subshell = 0\r\n",
      "$BASHPID outside of subshell = 70247\r\n",
      "\r\n",
      "$$ inside of subshell = 70247\r\n",
      "$BASH_SUBSHELL inside of subshell = 1\r\n",
      "$BASHPID inside of subshell = 70248\r\n"
     ]
    }
   ],
   "source": [
    "./bashpid.sh"
   ]
  },
  {
   "cell_type": "markdown",
   "metadata": {},
   "source": [
    "###### $BASH_VERSINFO[n]\n",
    "    A 6-element array containing version information about the installed release of Bash.   \n",
    "    This is similar to \\$BASH_VERSION, below, but a bit more detailed."
   ]
  },
  {
   "cell_type": "code",
   "execution_count": 24,
   "metadata": {
    "collapsed": false
   },
   "outputs": [
    {
     "name": "stdout",
     "output_type": "stream",
     "text": [
      "BASH_VERSINFO[0] = 4\r\n",
      "BASH_VERSINFO[1] = 3\r\n",
      "BASH_VERSINFO[2] = 11\r\n",
      "BASH_VERSINFO[3] = 1\r\n",
      "BASH_VERSINFO[4] = release\r\n",
      "BASH_VERSINFO[5] = x86_64-pc-linux-gnu\r\n"
     ]
    }
   ],
   "source": [
    "# Bash version info:\n",
    "# Major version no\n",
    "# Minor version no\n",
    "# Patch level\n",
    "# Build version\n",
    "# Release status\n",
    "# Architecture\n",
    "# (same as $MACHTYPE).\n",
    "\n",
    "for n in 0 1 2 3 4 5\n",
    "do\n",
    "    echo \"BASH_VERSINFO[$n] = ${BASH_VERSINFO[$n]}\"\n",
    "done"
   ]
  },
  {
   "cell_type": "markdown",
   "metadata": {},
   "source": [
    "###### $BASH_VERSION\n",
    "    The version of Bash installed on the system\n",
    "    \n",
    "    Checking $BASH_VERSION is a good method of determining which shell is running. \n",
    "    \\$SHELL does not necessarily give the correct answer."
   ]
  },
  {
   "cell_type": "code",
   "execution_count": 25,
   "metadata": {
    "collapsed": false
   },
   "outputs": [
    {
     "name": "stdout",
     "output_type": "stream",
     "text": [
      "4.3.11(1)-release\r\n"
     ]
    }
   ],
   "source": [
    "echo $BASH_VERSION"
   ]
  },
  {
   "cell_type": "markdown",
   "metadata": {},
   "source": [
    "###### $CDPATH\n",
    "    A colon-separated list of search paths available to the cd command, \n",
    "    similar in function to the \\$PATH variable for binaries. \n",
    "    The \\$CDPATH variable may be set in the local ~/.bashrc file."
   ]
  },
  {
   "cell_type": "code",
   "execution_count": 40,
   "metadata": {
    "collapsed": false
   },
   "outputs": [
    {
     "name": "stdout",
     "output_type": "stream",
     "text": [
      "/home/liheyi\r\n"
     ]
    }
   ],
   "source": [
    "echo $PWD"
   ]
  },
  {
   "cell_type": "code",
   "execution_count": 45,
   "metadata": {
    "collapsed": false
   },
   "outputs": [
    {
     "name": "stdout",
     "output_type": "stream",
     "text": [
      "bash: cd: bash-completion: No such file or directory\r\n"
     ]
    }
   ],
   "source": [
    "cd bash-completion"
   ]
  },
  {
   "cell_type": "code",
   "execution_count": 46,
   "metadata": {
    "collapsed": false
   },
   "outputs": [
    {
     "name": "stdout",
     "output_type": "stream",
     "text": []
    }
   ],
   "source": [
    "CDPATH=/usr/share/doc/"
   ]
  },
  {
   "cell_type": "code",
   "execution_count": 47,
   "metadata": {
    "collapsed": false
   },
   "outputs": [
    {
     "name": "stdout",
     "output_type": "stream",
     "text": [
      "/usr/share/doc/bash-completion\r\n"
     ]
    }
   ],
   "source": [
    "cd bash-completion"
   ]
  },
  {
   "cell_type": "code",
   "execution_count": 48,
   "metadata": {
    "collapsed": false
   },
   "outputs": [
    {
     "name": "stdout",
     "output_type": "stream",
     "text": [
      "/usr/share/doc/bash-completion\r\n"
     ]
    }
   ],
   "source": [
    "echo $PWD"
   ]
  },
  {
   "cell_type": "markdown",
   "metadata": {},
   "source": [
    "###### $DIRSTACK\n",
    "    The top value in the directory stack (affected by pushd and popd)\n",
    "    This builtin variable corresponds to the dirs command, \n",
    "    however dirs shows the entire contents of the directory stack."
   ]
  },
  {
   "cell_type": "code",
   "execution_count": 51,
   "metadata": {
    "collapsed": false
   },
   "outputs": [
    {
     "name": "stdout",
     "output_type": "stream",
     "text": [
      "/home/liheyi\r\n"
     ]
    }
   ],
   "source": [
    "pwd"
   ]
  },
  {
   "cell_type": "code",
   "execution_count": 52,
   "metadata": {
    "collapsed": false
   },
   "outputs": [
    {
     "name": "stdout",
     "output_type": "stream",
     "text": [
      "~\r\n"
     ]
    }
   ],
   "source": [
    "echo $DIRSTACK"
   ]
  },
  {
   "cell_type": "code",
   "execution_count": 53,
   "metadata": {
    "collapsed": false
   },
   "outputs": [
    {
     "name": "stdout",
     "output_type": "stream",
     "text": [
      "/home/liheyi/jupyter/bash\r\n"
     ]
    }
   ],
   "source": [
    "cd jupyter/bash\n",
    "pwd"
   ]
  },
  {
   "cell_type": "code",
   "execution_count": 54,
   "metadata": {
    "collapsed": false
   },
   "outputs": [
    {
     "name": "stdout",
     "output_type": "stream",
     "text": [
      "~/jupyter/bash\r\n"
     ]
    }
   ],
   "source": [
    "echo $DIRSTACK"
   ]
  },
  {
   "cell_type": "markdown",
   "metadata": {},
   "source": [
    "###### $EDITOR\n",
    "    The default editor invoked by a script, usually vi or emacs."
   ]
  },
  {
   "cell_type": "code",
   "execution_count": 55,
   "metadata": {
    "collapsed": false
   },
   "outputs": [
    {
     "name": "stdout",
     "output_type": "stream",
     "text": [
      "\r\n"
     ]
    }
   ],
   "source": [
    "echo $EDITOR"
   ]
  },
  {
   "cell_type": "code",
   "execution_count": 56,
   "metadata": {
    "collapsed": false
   },
   "outputs": [
    {
     "name": "stdout",
     "output_type": "stream",
     "text": [
      "vim\r\n"
     ]
    }
   ],
   "source": [
    "EDITOR=vim\n",
    "echo $EDITOR"
   ]
  },
  {
   "cell_type": "markdown",
   "metadata": {},
   "source": [
    "###### $EUID\n",
    "    \"effective\" user ID number\n",
    "    Identification number of whatever identity the current user has assumed, perhaps by means of su.\n",
    "    The \\$EUID is not necessarily the same as the \\$UID."
   ]
  },
  {
   "cell_type": "code",
   "execution_count": 59,
   "metadata": {
    "collapsed": false
   },
   "outputs": [
    {
     "name": "stdout",
     "output_type": "stream",
     "text": [
      "1000\r\n"
     ]
    }
   ],
   "source": [
    "echo $EUID"
   ]
  },
  {
   "cell_type": "markdown",
   "metadata": {},
   "source": [
    "###### $FUNCNAME\n",
    "    Name of the current function"
   ]
  },
  {
   "cell_type": "code",
   "execution_count": 61,
   "metadata": {
    "collapsed": false
   },
   "outputs": [
    {
     "name": "stdout",
     "output_type": "stream",
     "text": [
      "gcd now executing.\r\n"
     ]
    }
   ],
   "source": [
    "gcd ()\n",
    "{\n",
    "    echo \"$FUNCNAME now executing.\"\n",
    "}\n",
    "\n",
    "gcd"
   ]
  },
  {
   "cell_type": "code",
   "execution_count": 62,
   "metadata": {
    "collapsed": false
   },
   "outputs": [
    {
     "name": "stdout",
     "output_type": "stream",
     "text": [
      "FUNCNAME = \r\n"
     ]
    }
   ],
   "source": [
    "# Null value outside a function.\n",
    "echo \"FUNCNAME = $FUNCNAME\""
   ]
  },
  {
   "cell_type": "markdown",
   "metadata": {},
   "source": [
    "###### $GLOBIGNORE\n",
    "    A list of filename patterns to be excluded from matching in globbing."
   ]
  },
  {
   "cell_type": "markdown",
   "metadata": {},
   "source": [
    "###### $GROUPS\n",
    "    Groups current user belongs to.\n",
    "    This is a listing (array) of the group id numbers for current user, \n",
    "    as recorded in /etc/passwd and /etc/group."
   ]
  },
  {
   "cell_type": "code",
   "execution_count": 63,
   "metadata": {
    "collapsed": false
   },
   "outputs": [
    {
     "name": "stdout",
     "output_type": "stream",
     "text": [
      "1000\r\n"
     ]
    }
   ],
   "source": [
    "echo $GROUPS"
   ]
  },
  {
   "cell_type": "code",
   "execution_count": 64,
   "metadata": {
    "collapsed": false
   },
   "outputs": [
    {
     "name": "stdout",
     "output_type": "stream",
     "text": [
      "liheyi:x:1000:1000:liheyi,,,:/home/liheyi:/bin/bash\r\n"
     ]
    }
   ],
   "source": [
    "grep liheyi /etc/passwd"
   ]
  },
  {
   "cell_type": "code",
   "execution_count": 65,
   "metadata": {
    "collapsed": false
   },
   "outputs": [
    {
     "name": "stdout",
     "output_type": "stream",
     "text": [
      "24\r\n"
     ]
    }
   ],
   "source": [
    "echo ${GROUPS[1]}"
   ]
  },
  {
   "cell_type": "code",
   "execution_count": 66,
   "metadata": {
    "collapsed": false
   },
   "outputs": [
    {
     "name": "stdout",
     "output_type": "stream",
     "text": [
      "108\r\n"
     ]
    }
   ],
   "source": [
    "echo ${GROUPS[5]}"
   ]
  },
  {
   "cell_type": "markdown",
   "metadata": {},
   "source": [
    "###### $HOME\n",
    "    Home directory of the user, usually /home/username"
   ]
  },
  {
   "cell_type": "code",
   "execution_count": 67,
   "metadata": {
    "collapsed": false
   },
   "outputs": [
    {
     "name": "stdout",
     "output_type": "stream",
     "text": [
      "/home/liheyi\r\n"
     ]
    }
   ],
   "source": [
    "echo $HOME"
   ]
  },
  {
   "cell_type": "markdown",
   "metadata": {},
   "source": [
    "###### $HOSTNAME\n",
    "    The hostname command assigns the system host name at bootup in an init script. \n",
    "    However, the gethostname() function sets the Bash internal variable \\$HOSTNAME."
   ]
  },
  {
   "cell_type": "code",
   "execution_count": 68,
   "metadata": {
    "collapsed": false
   },
   "outputs": [
    {
     "name": "stdout",
     "output_type": "stream",
     "text": [
      "analysis\r\n"
     ]
    }
   ],
   "source": [
    "echo $HOSTNAME"
   ]
  },
  {
   "cell_type": "code",
   "execution_count": 69,
   "metadata": {
    "collapsed": false
   },
   "outputs": [
    {
     "name": "stdout",
     "output_type": "stream",
     "text": [
      "analysis\r\n"
     ]
    }
   ],
   "source": [
    "hostname"
   ]
  },
  {
   "cell_type": "markdown",
   "metadata": {},
   "source": [
    "###### $HOSTTYPE\n",
    "    host type\n",
    "    Like \\$MACHTYPE, identifies the system hardware"
   ]
  },
  {
   "cell_type": "code",
   "execution_count": 70,
   "metadata": {
    "collapsed": false
   },
   "outputs": [
    {
     "name": "stdout",
     "output_type": "stream",
     "text": [
      "x86_64\r\n"
     ]
    }
   ],
   "source": [
    "echo $HOSTTYPE"
   ]
  },
  {
   "cell_type": "code",
   "execution_count": 71,
   "metadata": {
    "collapsed": false
   },
   "outputs": [
    {
     "name": "stdout",
     "output_type": "stream",
     "text": [
      "x86_64-pc-linux-gnu\r\n"
     ]
    }
   ],
   "source": [
    "echo $MACHTYPE"
   ]
  },
  {
   "cell_type": "markdown",
   "metadata": {},
   "source": [
    "###### $IFS\n",
    "    internal field separator.\n",
    "    This variable determines how Bash recognizes fields, or word boundaries, \n",
    "    when it interprets character strings.\n",
    "    \n",
    "    \\$IFS defaults to whitespace (space, tab, and newline), but may be changed, \n",
    "    for example, to parse a comma-separated data file. \n",
    "    Note that \\$* uses the first character held in \\$IFS."
   ]
  },
  {
   "cell_type": "code",
   "execution_count": 72,
   "metadata": {
    "collapsed": false
   },
   "outputs": [
    {
     "name": "stdout",
     "output_type": "stream",
     "text": [
      " \t\r\n",
      "\r\n"
     ]
    }
   ],
   "source": [
    "# With $IFS set to default, a blank line displays\n",
    "echo \"$IFS\""
   ]
  },
  {
   "cell_type": "code",
   "execution_count": 73,
   "metadata": {
    "collapsed": false
   },
   "outputs": [
    {
     "name": "stdout",
     "output_type": "stream",
     "text": [
      " ^I$\r\n",
      "$\r\n"
     ]
    }
   ],
   "source": [
    "# Show whitespace: here a single space, ^I [horizontal tab],\n",
    "# and newline, and display \"$\" at end-of-line.\n",
    "echo \"$IFS\" | cat -vte"
   ]
  },
  {
   "cell_type": "code",
   "execution_count": 74,
   "metadata": {
    "collapsed": false
   },
   "outputs": [
    {
     "name": "stdout",
     "output_type": "stream",
     "text": [
      "w:x:y:z\r\n"
     ]
    }
   ],
   "source": [
    "# Read commands from string and assign any arguments to pos params\n",
    "bash -c 'set w x y z; IFS=\":-;\"; echo \"$*\"'"
   ]
  },
  {
   "cell_type": "code",
   "execution_count": 75,
   "metadata": {
    "collapsed": false
   },
   "outputs": [
    {
     "name": "stdout",
     "output_type": "stream",
     "text": []
    }
   ],
   "source": [
    "# Set $IFS to eliminate whitespace in pathnames.\n",
    "IFS=\"$(printf '\\n\\t')\""
   ]
  },
  {
   "cell_type": "markdown",
   "metadata": {},
   "source": [
    "###### $IFS does not handle whitespace the same as it does other characters"
   ]
  },
  {
   "cell_type": "markdown",
   "metadata": {},
   "source": [
    "#### Example 9-1. $IFS and whitespace"
   ]
  },
  {
   "cell_type": "code",
   "execution_count": 77,
   "metadata": {
    "collapsed": false
   },
   "outputs": [
    {
     "name": "stdout",
     "output_type": "stream",
     "text": [
      "a b c\r\n",
      "d-e-f\r\n",
      "g,h,i\r\n"
     ]
    }
   ],
   "source": [
    "var1=\"a+b+c\"\n",
    "var2=\"d-e-f\"\n",
    "var3=\"g,h,i\"\n",
    "\n",
    "# The plus sign will be interpreted as a separator.\n",
    "# The plus sign reverts to default interpretation.\n",
    "IFS=+\n",
    "echo $var1 # a b c\n",
    "echo $var2 # d-e-f\n",
    "echo $var3 # g,h,i"
   ]
  },
  {
   "cell_type": "code",
   "execution_count": 78,
   "metadata": {
    "collapsed": false
   },
   "outputs": [
    {
     "name": "stdout",
     "output_type": "stream",
     "text": [
      "a+b+c\r\n",
      "d e f\r\n",
      "g,h,i\r\n"
     ]
    }
   ],
   "source": [
    "# The minus sign will be interpreted as a separator.\n",
    "# The minus sign reverts to default interpretation.\n",
    "IFS=\"-\"\n",
    "echo $var1 # a+b+c\n",
    "echo $var2 # d e f\n",
    "echo $var3 # g,h,i"
   ]
  },
  {
   "cell_type": "code",
   "execution_count": 79,
   "metadata": {
    "collapsed": false
   },
   "outputs": [
    {
     "name": "stdout",
     "output_type": "stream",
     "text": [
      "a+b+c\r\n",
      "d-e-f\r\n",
      "g h i\r\n"
     ]
    }
   ],
   "source": [
    "# The comma will be interpreted as a separator.\n",
    "# The comma reverts to default interpretation.\n",
    "IFS=\",\"\n",
    "echo $var1 # a+b+c\n",
    "echo $var2 # d-e-f\n",
    "echo $var3 # g h i"
   ]
  },
  {
   "cell_type": "code",
   "execution_count": 80,
   "metadata": {
    "collapsed": false
   },
   "outputs": [
    {
     "name": "stdout",
     "output_type": "stream",
     "text": [
      "a+b+c\r\n",
      "d-e-f\r\n",
      "g,h,i\r\n"
     ]
    }
   ],
   "source": [
    "# The space character will be interpreted as a separator.\n",
    "IFS=\" \"\n",
    "echo $var1 # a+b+c\n",
    "echo $var2 # d-e-f\n",
    "echo $var3 # g,h,i"
   ]
  },
  {
   "cell_type": "code",
   "execution_count": 81,
   "metadata": {
    "collapsed": false
   },
   "outputs": [
    {
     "name": "stdout",
     "output_type": "stream",
     "text": [
      "[a]\r\n",
      "[b]\r\n",
      "[c]\r\n"
     ]
    }
   ],
   "source": [
    "# However ...\n",
    "# $IFS treats whitespace differently than other characters.\n",
    "output_args_one_per_line()\n",
    "{\n",
    "    for arg\n",
    "    do\n",
    "        # Embed within brackets, for your viewing pleasure.\n",
    "        echo \"[$arg]\"\n",
    "    done\n",
    "}\n",
    "\n",
    "IFS=\" \"\n",
    "var=\" a  b c   \"\n",
    "output_args_one_per_line $var"
   ]
  },
  {
   "cell_type": "code",
   "execution_count": 82,
   "metadata": {
    "collapsed": false
   },
   "outputs": [
    {
     "name": "stdout",
     "output_type": "stream",
     "text": [
      "[]\r\n",
      "[a]\r\n",
      "[]\r\n",
      "[b]\r\n",
      "[c]\r\n",
      "[]\r\n",
      "[]\r\n"
     ]
    }
   ],
   "source": [
    "# Same pattern as above,\n",
    "# #+ but substituting \":\" for \" \"\n",
    "\n",
    "# Note \"empty\" brackets.\n",
    "# The same thing happens with the \"FS\" field separator in awk.\n",
    "\n",
    "IFS=:\n",
    "var=\":a::b:c:::\"\n",
    "output_args_one_per_line $var"
   ]
  },
  {
   "cell_type": "markdown",
   "metadata": {},
   "source": [
    "###### $IGNOREEOF\n",
    "    Ignore EOF: how many end-of-files (control-D) the shell will ignore before logging out."
   ]
  },
  {
   "cell_type": "markdown",
   "metadata": {},
   "source": [
    "###### $LC_COLLATE\n",
    "    Often set in the .bashrc or /etc/profile files, \n",
    "    this variable controls collation order in filename expansion and pattern matching. \n",
    "    If mishandled, LC_COLLATE can cause unexpected results in filename globbing.\n",
    "    \n",
    "    As of version 2.05 of Bash, filename globbing no longer distinguishes \n",
    "    between lowercase and uppercase letters in a character range between brackets. \n",
    "    \n",
    "    For example, ls [A-M]* would match both File1.txt and file1.txt. \n",
    "    To revert to the customary behavior of bracket matching, \n",
    "    set LC_COLLATE to C by an export LC_COLLATE=C in /etc/profile and/or ~/.bashrc."
   ]
  },
  {
   "cell_type": "markdown",
   "metadata": {},
   "source": [
    "###### $LC_CTYPE\n",
    "    This internal variable controls character interpretation in globbing and pattern matching."
   ]
  },
  {
   "cell_type": "markdown",
   "metadata": {},
   "source": [
    "###### $LINENO\n",
    "    This variable is the line number of the shell script in which this variable appears. \n",
    "    It has significance only within the script in which it appears, \n",
    "    and is chiefly useful for debugging purposes."
   ]
  },
  {
   "cell_type": "code",
   "execution_count": null,
   "metadata": {
    "collapsed": true
   },
   "outputs": [],
   "source": [
    "# *** BEGIN DEBUG BLOCK ***\n",
    "last_cmd_arg=$_ # Save it.\n",
    "echo \"At line number $LINENO, variable \\\"v1\\\" = $v1\"\n",
    "echo \"Last command argument processed = $last_cmd_arg\"\n",
    "# *** END DEBUG BLOCK ***"
   ]
  },
  {
   "cell_type": "markdown",
   "metadata": {},
   "source": [
    "###### $MACHTYPE\n",
    "    machine type\n",
    "    Identifies the system hardware."
   ]
  },
  {
   "cell_type": "code",
   "execution_count": 83,
   "metadata": {
    "collapsed": false
   },
   "outputs": [
    {
     "name": "stdout",
     "output_type": "stream",
     "text": [
      "x86_64-pc-linux-gnu\r\n"
     ]
    }
   ],
   "source": [
    "echo $MACHTYPE"
   ]
  },
  {
   "cell_type": "markdown",
   "metadata": {},
   "source": [
    "###### $OLDPWD\n",
    "    Old working directory (\"OLD-Print-Working-Directory\", previous directory you were in)."
   ]
  },
  {
   "cell_type": "code",
   "execution_count": 84,
   "metadata": {
    "collapsed": false
   },
   "outputs": [
    {
     "name": "stdout",
     "output_type": "stream",
     "text": [
      "/home/liheyi/jupyter/bash\r\n"
     ]
    }
   ],
   "source": [
    "echo $PWD"
   ]
  },
  {
   "cell_type": "code",
   "execution_count": 86,
   "metadata": {
    "collapsed": false
   },
   "outputs": [
    {
     "name": "stdout",
     "output_type": "stream",
     "text": [
      "/home/liheyi\r\n"
     ]
    }
   ],
   "source": [
    "echo $OLDPWD"
   ]
  },
  {
   "cell_type": "code",
   "execution_count": 87,
   "metadata": {
    "collapsed": false
   },
   "outputs": [
    {
     "name": "stdout",
     "output_type": "stream",
     "text": []
    }
   ],
   "source": [
    "cd /etc/init.d/"
   ]
  },
  {
   "cell_type": "code",
   "execution_count": 88,
   "metadata": {
    "collapsed": false
   },
   "outputs": [
    {
     "name": "stdout",
     "output_type": "stream",
     "text": [
      "/etc/init.d\r\n"
     ]
    }
   ],
   "source": [
    "echo $PWD"
   ]
  },
  {
   "cell_type": "code",
   "execution_count": 89,
   "metadata": {
    "collapsed": false
   },
   "outputs": [
    {
     "name": "stdout",
     "output_type": "stream",
     "text": [
      "/home/liheyi/jupyter/bash\r\n"
     ]
    }
   ],
   "source": [
    "echo $OLDPWD"
   ]
  },
  {
   "cell_type": "markdown",
   "metadata": {},
   "source": [
    "###### $OSTYPE\n",
    "    operating system type"
   ]
  },
  {
   "cell_type": "code",
   "execution_count": 90,
   "metadata": {
    "collapsed": false
   },
   "outputs": [
    {
     "name": "stdout",
     "output_type": "stream",
     "text": [
      "linux-gnu\r\n"
     ]
    }
   ],
   "source": [
    "echo $OSTYPE"
   ]
  },
  {
   "cell_type": "markdown",
   "metadata": {},
   "source": [
    "###### $PATH\n",
    "    Path to binaries, usually /usr/bin/, /usr/X11R6/bin/, /usr/local/bin, etc.\n",
    "    \n",
    "    When given a command, the shell automatically does a hash table search on the directories listed in the path for the executable.   \n",
    "    The path is stored in the environmental variable, \\$PATH, a list of directories, separated by colons.\n",
    "    Normally, the system stores the $PATH definition in /etc/profile and/or ~/.bashrc"
   ]
  },
  {
   "cell_type": "code",
   "execution_count": 91,
   "metadata": {
    "collapsed": false
   },
   "outputs": [
    {
     "name": "stdout",
     "output_type": "stream",
     "text": [
      "/home/liheyi/anaconda2/bin /usr/local/sbin /usr/local/bin /usr/sbin /usr/bin /sbin /bin /usr/games /usr/local/games\r\n"
     ]
    }
   ],
   "source": [
    "echo $PATH"
   ]
  },
  {
   "cell_type": "markdown",
   "metadata": {},
   "source": [
    "PATH=\\${PATH}:/opt/bin appends the /opt/bin directory to the current path.   \n",
    "In a script, it may be expedient to temporarily add a directory to the path in this way.   \n",
    "When the script exits, this restores the original \\$PATH   \n",
    "(a child process, such as a script, may not change the environment of the parent process, the shell).  \n",
    "The current \"working directory\", ./, is usually omitted from the $PATH as a security measure."
   ]
  },
  {
   "cell_type": "markdown",
   "metadata": {},
   "source": [
    "###### $PIPESTATUS\n",
    "    Array variable holding exit status(es) of last executed foreground pipe."
   ]
  },
  {
   "cell_type": "code",
   "execution_count": 98,
   "metadata": {
    "collapsed": false
   },
   "outputs": [
    {
     "name": "stdout",
     "output_type": "stream",
     "text": [
      "0\r\n"
     ]
    }
   ],
   "source": [
    "echo $PIPESTATUS"
   ]
  },
  {
   "cell_type": "code",
   "execution_count": 103,
   "metadata": {
    "collapsed": false
   },
   "outputs": [
    {
     "name": "stdout",
     "output_type": "stream",
     "text": [
      "bogus_command: command not found\r\n",
      "127\r\n"
     ]
    }
   ],
   "source": [
    "ls -al | bogus_command\n",
    "echo ${PIPESTATUS[1]}"
   ]
  },
  {
   "cell_type": "code",
   "execution_count": 104,
   "metadata": {
    "collapsed": false
   },
   "outputs": [
    {
     "name": "stdout",
     "output_type": "stream",
     "text": [
      "bogus_command: command not found\r\n",
      "127\r\n"
     ]
    }
   ],
   "source": [
    "ls -al | bogus_command\n",
    "echo $?"
   ]
  },
  {
   "cell_type": "markdown",
   "metadata": {},
   "source": [
    "The members of the \\$PIPESTATUS array hold the exit status of each respective command executed in a pipe.  \n",
    "\\$PIPESTATUS[0] holds the exit status of the first command in the pipe,  \n",
    "\\$PIPESTATUS[1] the exit status of the second command, and so on. "
   ]
  },
  {
   "cell_type": "markdown",
   "metadata": {},
   "source": [
    "The $PIPESTATUS variable may contain an erroneous 0 value in a login shell (in releases prior to 3.0 of Bash)"
   ]
  },
  {
   "cell_type": "code",
   "execution_count": 2,
   "metadata": {
    "collapsed": false
   },
   "outputs": [
    {
     "name": "stdout",
     "output_type": "stream",
     "text": [
      "4.3.11(1)-release\r\n"
     ]
    }
   ],
   "source": [
    "echo $BASH_VERSION"
   ]
  },
  {
   "cell_type": "code",
   "execution_count": 1,
   "metadata": {
    "collapsed": false
   },
   "outputs": [
    {
     "name": "stdout",
     "output_type": "stream",
     "text": [
      "0 1 0\r\n"
     ]
    }
   ],
   "source": [
    "# the bash version 4.3.11\n",
    "# so that this works fine.\n",
    "\n",
    "# Also put in a script would produce \n",
    "# the expected 0 1 0 output\n",
    "who | grep nobody | sort\n",
    "echo ${PIPESTATUS[*]}"
   ]
  },
  {
   "cell_type": "markdown",
   "metadata": {},
   "source": [
    "The $PIPESTATUS variable gives unexpected results in some contexts"
   ]
  },
  {
   "cell_type": "code",
   "execution_count": 3,
   "metadata": {
    "collapsed": false
   },
   "outputs": [
    {
     "name": "stdout",
     "output_type": "stream",
     "text": [
      "4.3.11(1)-release\r\n"
     ]
    }
   ],
   "source": [
    "echo $BASH_VERSION"
   ]
  },
  {
   "cell_type": "code",
   "execution_count": 4,
   "metadata": {
    "collapsed": false
   },
   "outputs": [
    {
     "name": "stdout",
     "output_type": "stream",
     "text": [
      "bogus_command: command not found\r\n",
      "      0       0       0\r\n",
      "0 127 0\r\n"
     ]
    }
   ],
   "source": [
    "# Luckily,this works fine.\n",
    "# No giving unexpected results\n",
    "ls | bogus_command | wc\n",
    "echo ${PIPESTATUS[@]}"
   ]
  },
  {
   "cell_type": "markdown",
   "metadata": {},
   "source": [
    "$PIPESTATUS is a \"volatile\" variable.   \n",
    "It needs to be captured immediately after the pipe in question, before any other command intervenes."
   ]
  },
  {
   "cell_type": "code",
   "execution_count": 6,
   "metadata": {
    "collapsed": false
   },
   "outputs": [
    {
     "name": "stdout",
     "output_type": "stream",
     "text": [
      "bogus_command: command not found\r\n",
      "      0       0       0\r\n",
      "0 127 0\r\n"
     ]
    }
   ],
   "source": [
    "ls | bogus_command | wc\n",
    "echo ${PIPESTATUS[@]}"
   ]
  },
  {
   "cell_type": "code",
   "execution_count": 7,
   "metadata": {
    "collapsed": false
   },
   "outputs": [
    {
     "name": "stdout",
     "output_type": "stream",
     "text": [
      "0\r\n"
     ]
    }
   ],
   "source": [
    "echo ${PIPESTATUS[@]}"
   ]
  },
  {
   "cell_type": "markdown",
   "metadata": {},
   "source": [
    "The pipefail option may be useful in cases where $PIPESTATUS does not give the desired information."
   ]
  },
  {
   "cell_type": "markdown",
   "metadata": {},
   "source": [
    "###### $PPID\n",
    "    The \\$PPID of a process is the process ID (pid) of its parent process.\n",
    "    Compare this with the pidof command."
   ]
  },
  {
   "cell_type": "markdown",
   "metadata": {},
   "source": [
    "###### $PROMPT_COMMAND\n",
    "    A variable holding a command to be executed just before the primary prompt, \\$PS1 is to be displayed."
   ]
  },
  {
   "cell_type": "markdown",
   "metadata": {},
   "source": [
    "###### $PS1\n",
    "    This is the main prompt, seen at the command-line.\n",
    "   "
   ]
  },
  {
   "cell_type": "code",
   "execution_count": 11,
   "metadata": {
    "collapsed": false
   },
   "outputs": [
    {
     "name": "stdout",
     "output_type": "stream",
     "text": []
    }
   ],
   "source": [
    "liheyi@analysis:~/jupyter$ echo \"$PS1\"\n",
    "\\[\\e]0;\\u@\\h: \\w\\a\\]${debian_chroot:+($debian_chroot)}\\u@\\h:\\w\\$"
   ]
  },
  {
   "cell_type": "markdown",
   "metadata": {},
   "source": [
    "###### $PS2\n",
    "    The secondary prompt, seen when additional input is expected. It displays as \">\"."
   ]
  },
  {
   "cell_type": "code",
   "execution_count": null,
   "metadata": {
    "collapsed": false
   },
   "outputs": [],
   "source": [
    "liheyi@analysis:~/jupyter$ echo \"$PS2\"\n",
    "> "
   ]
  },
  {
   "cell_type": "markdown",
   "metadata": {},
   "source": [
    "###### $PS3\n",
    "    The tertiary prompt, displayed in a select loop"
   ]
  },
  {
   "cell_type": "markdown",
   "metadata": {},
   "source": [
    "###### $PS4\n",
    "    The quartenary prompt, shown at the beginning of each line of output \n",
    "    when invoking a script with the -x [verbose trace] option. \n",
    "    It displays as \"+\"."
   ]
  },
  {
   "cell_type": "markdown",
   "metadata": {},
   "source": [
    "As a debugging aid, it may be useful to embed diagnostic information in $PS4."
   ]
  },
  {
   "cell_type": "code",
   "execution_count": null,
   "metadata": {
    "collapsed": true
   },
   "outputs": [],
   "source": [
    "P4='$(read time junk < /proc/$$/schedstat; echo \"@@@ $time @@@ \" )'\n",
    "# Per suggestion by Erik Brandsberg.\n",
    "set -x\n",
    "# Various commands follow ..."
   ]
  },
  {
   "cell_type": "markdown",
   "metadata": {},
   "source": [
    "###### $PWD\n",
    "    Working directory (directory you are in at the time)\n",
    "    This is the analog to the pwd builtin command."
   ]
  },
  {
   "cell_type": "code",
   "execution_count": 1,
   "metadata": {
    "collapsed": false
   },
   "outputs": [
    {
     "name": "stdout",
     "output_type": "stream",
     "text": [
      "/home/liheyi/jupyter/bash/basics\r\n"
     ]
    }
   ],
   "source": [
    "echo $PWD"
   ]
  },
  {
   "cell_type": "markdown",
   "metadata": {},
   "source": [
    "###### $REPLY\n",
    "    The default value when a variable is not supplied to read. \n",
    "    Also applicable to select menus, but only supplies the item number of the variable chosen, \n",
    "    not the value of the variable itself."
   ]
  },
  {
   "cell_type": "code",
   "execution_count": 1,
   "metadata": {
    "collapsed": false
   },
   "outputs": [
    {
     "name": "stdout",
     "output_type": "stream",
     "text": [
      "#!/bin/bash\r\n",
      "# reply.sh\r\n",
      "\r\n",
      "# REPLY is the default value for a 'read' command.\r\n",
      "echo -n \"What is your favorite vegetable? \"\r\n",
      "read\r\n",
      "echo \"Your favorite vegetable is $REPLY.\"\r\n",
      "\r\n",
      "# REPLY holds the value of last \"read\" if and only if\r\n",
      "#+ no variable supplied.\r\n",
      "echo -n \"What is your favorite fruit? \"\r\n",
      "read fruit\r\n",
      "echo \"Your favorite fruit is $fruit.\"\r\n",
      "\r\n",
      "echo \"but...\"\r\n",
      "echo \"Value of \\$REPLY is still $REPLY.\"\r\n",
      "# $REPLY is still set to its previous value because\r\n",
      "#+ the variable $fruit absorbed the new \"read\" value.\r\n",
      "\r\n",
      "exit 0\r\n"
     ]
    }
   ],
   "source": [
    "cat reply.sh"
   ]
  },
  {
   "cell_type": "markdown",
   "metadata": {
    "collapsed": true
   },
   "source": [
    "###### $SECONDS\n",
    "    The number of seconds the script has been running."
   ]
  },
  {
   "cell_type": "code",
   "execution_count": 4,
   "metadata": {
    "collapsed": false
   },
   "outputs": [
    {
     "name": "stdout",
     "output_type": "stream",
     "text": [
      "#!/bin/bash\r\n",
      "\r\n",
      "TIME_LIMIT=5\r\n",
      "INTERVAL=1\r\n",
      "\r\n",
      "while [ \"$SECONDS\" -le \"$TIME_LIMIT\" ]\r\n",
      "do # $SECONDS is an internal shell variable.\r\n",
      "    if [ \"$SECONDS\" -eq 1 ]\r\n",
      "    then\r\n",
      "        units=second\r\n",
      "    else\r\n",
      "        units=seconds\r\n",
      "    fi\r\n",
      "    echo \"This script has been running $SECONDS $units.\"\r\n",
      "    # On a slow or overburdened machine, the script may skip a count\r\n",
      "    #+ every once in a while.\r\n",
      "    sleep $INTERVAL\r\n",
      "done\r\n",
      "\r\n",
      "echo -e \"\\a\" # Beep!\r\n",
      "exit 0\r\n"
     ]
    }
   ],
   "source": [
    "cat seconds.sh"
   ]
  },
  {
   "cell_type": "code",
   "execution_count": 5,
   "metadata": {
    "collapsed": false
   },
   "outputs": [
    {
     "name": "stdout",
     "output_type": "stream",
     "text": [
      "This script has been running 0 seconds.\r\n",
      "This script has been running 1 second.\r\n",
      "This script has been running 2 seconds.\r\n",
      "This script has been running 3 seconds.\r\n",
      "This script has been running 4 seconds.\r\n",
      "This script has been running 5 seconds.\r\n",
      "\u0007\r\n"
     ]
    }
   ],
   "source": [
    "./seconds.sh"
   ]
  },
  {
   "cell_type": "markdown",
   "metadata": {},
   "source": [
    "###### $SHELLOPTS\n",
    "    The list of enabled shell options, a readonly variable."
   ]
  },
  {
   "cell_type": "code",
   "execution_count": 7,
   "metadata": {
    "collapsed": false
   },
   "outputs": [
    {
     "name": "stdout",
     "output_type": "stream",
     "text": [
      "braceexpand\r\n",
      "emacs\r\n",
      "hashall\r\n",
      "histexpand\r\n",
      "history\r\n",
      "interactive-comments\r\n",
      "monitor\r\n"
     ]
    }
   ],
   "source": [
    "echo $SHELLOPTS | tr ':' '\\n'"
   ]
  },
  {
   "cell_type": "markdown",
   "metadata": {},
   "source": [
    "###### $SHLVL\n",
    "    Shell level, how deeply Bash is nested.\n",
    "    If, at the command-line, \\$SHLVL is 1, then in a script it will increment to 2.\n",
    "    \n",
    "    This variable is not affected by subshells. \n",
    "    Use $BASH_SUBSHELL when you need an indication of subshell nesting."
   ]
  },
  {
   "cell_type": "code",
   "execution_count": 9,
   "metadata": {
    "collapsed": false
   },
   "outputs": [
    {
     "name": "stdout",
     "output_type": "stream",
     "text": [
      "3\r\n"
     ]
    }
   ],
   "source": [
    "# I don't know why is 3?\n",
    "echo $SHLVL"
   ]
  },
  {
   "cell_type": "code",
   "execution_count": 10,
   "metadata": {
    "collapsed": false
   },
   "outputs": [
    {
     "name": "stdout",
     "output_type": "stream",
     "text": [
      "#!/bin/bash\r\n",
      "echo $SHLVL\r\n"
     ]
    }
   ],
   "source": [
    "cat shlvl.sh"
   ]
  },
  {
   "cell_type": "code",
   "execution_count": 11,
   "metadata": {
    "collapsed": false
   },
   "outputs": [
    {
     "name": "stdout",
     "output_type": "stream",
     "text": [
      "4\r\n"
     ]
    }
   ],
   "source": [
    "./shlvl.sh"
   ]
  },
  {
   "cell_type": "markdown",
   "metadata": {},
   "source": [
    "###### $TMOUT\n",
    "    If the \\$TMOUT environmental variable is set to a non-zero value time, \n",
    "    then the shell prompt will time out after \\$time seconds. \n",
    "    This will cause a logout.\n",
    "    \n",
    "    As of version 2.05b of Bash, \n",
    "    it is now possible to use $TMOUT in a script in combination with read."
   ]
  },
  {
   "cell_type": "code",
   "execution_count": 12,
   "metadata": {
    "collapsed": false
   },
   "outputs": [
    {
     "name": "stdout",
     "output_type": "stream",
     "text": [
      "\r\n"
     ]
    }
   ],
   "source": [
    "echo $TMOUT"
   ]
  },
  {
   "cell_type": "code",
   "execution_count": null,
   "metadata": {
    "collapsed": true
   },
   "outputs": [],
   "source": [
    "# Works in scripts for Bash, versions 2.05b and later.\n",
    "\n",
    "TMOUT=3      # Prompt times out at three seconds.\n",
    "\n",
    "echo \"What is your favorite song?\"\n",
    "echo \"Quickly now, you only have $TMOUT seconds to answer!\"\n",
    "read song\n",
    "\n",
    "if [ -z \"$song\" ]\n",
    "then\n",
    "    song=\"(no answer)\"\n",
    "fi\n",
    "\n",
    "echo \"Your favorite song is $song.\""
   ]
  },
  {
   "cell_type": "markdown",
   "metadata": {},
   "source": [
    "There are other, more complex, ways of implementing timed input in a script.   \n",
    "One alternative is to set up a timing loop to signal the script when it times out.   \n",
    "This also requires a signal handling routine to trap the interrupt generated by the timing loop."
   ]
  },
  {
   "cell_type": "markdown",
   "metadata": {},
   "source": [
    "#### Example 9-2. Timed Input"
   ]
  },
  {
   "cell_type": "code",
   "execution_count": 13,
   "metadata": {
    "collapsed": false
   },
   "outputs": [
    {
     "name": "stdout",
     "output_type": "stream",
     "text": [
      "#!/bin/bash\r\n",
      "# timed-input.sh\r\n",
      "# TMOUT=3 Also works, as of newer versions of Bash.\r\n",
      "\r\n",
      "TIMER_INTERRUPT=14\r\n",
      "TIMELIMIT=3        # Three seconds in this instance.\r\n",
      "                   # May be set to different value.\r\n",
      "\r\n",
      "PrintAnswer()\r\n",
      "{\r\n",
      "    if [ \"$answer\" = TIMEOUT ]\r\n",
      "    then\r\n",
      "        echo $answer\r\n",
      "    else           # Don't want to mix up the two instances.\r\n",
      "        echo \"Your favorite veggie is $answer\"\r\n",
      "        kill $!    # Kills no-longer-needed TimerOn function\r\n",
      "    \t           #+ running in background.\r\n",
      "    \t           # $! is PID of last job running in background.\r\n",
      "    fi\r\n",
      "}\r\n",
      "\r\n",
      "TimerOn()\r\n",
      "{\r\n",
      "    sleep $TIMELIMIT && kill -s 14 $$ &\r\n",
      "    # Waits 3 seconds, then sends sigalarm to script.\r\n",
      "}\r\n",
      "\r\n",
      "Int14Vector()\r\n",
      "{\r\n",
      "    answer=\"TIMEOUT\"\r\n",
      "    PrintAnswer\r\n",
      "    exit $TIMER_INTERRUPT\r\n",
      "}\r\n",
      "\r\n",
      "trap Int14Vector $TIMER_INTERRUPT\r\n",
      "# Timer interrupt (14) subverted for our purposes.\r\n",
      "\r\n",
      "echo \"What is your favorite vegetable \"\r\n",
      "TimerOn\r\n",
      "read answer\r\n",
      "PrintAnswer\r\n",
      "\r\n",
      "# Admittedly, this is a kludgy implementation of timed input.\r\n",
      "# However, the \"-t\" option to \"read\" simplifies this task.\r\n",
      "# See the \"t-out.sh\" script.\r\n",
      "# However, what about timing not just single user input,\r\n",
      "#+ but an entire script?\r\n",
      "# If you need something really elegant ...\r\n",
      "#+ consider writing the application in C or C++,\r\n",
      "#+ using appropriate library functions, such as 'alarm' and 'setitimer.'\r\n",
      "\r\n",
      "exit 0\r\n"
     ]
    }
   ],
   "source": [
    "cat timed-input.sh"
   ]
  },
  {
   "cell_type": "markdown",
   "metadata": {},
   "source": [
    "###### An alternative is using stty."
   ]
  },
  {
   "cell_type": "markdown",
   "metadata": {},
   "source": [
    "#### Example 9-3. Once more, timed input"
   ]
  },
  {
   "cell_type": "code",
   "execution_count": 14,
   "metadata": {
    "collapsed": false
   },
   "outputs": [
    {
     "name": "stdout",
     "output_type": "stream",
     "text": [
      "#!/bin/bash\r\n",
      "# timeout.sh\r\n",
      "\r\n",
      "# Written by Stephane Chazelas,\r\n",
      "#+ and modified by the document author.\r\n",
      "\r\n",
      "INTERVAL=5                 # timeout interval\r\n",
      "timedout_read() {\r\n",
      "    timeout=$1\r\n",
      "    varname=$2\r\n",
      "    old_tty_settings=`stty -g`\r\n",
      "    stty -icanon min 0 time ${timeout}0\r\n",
      "    eval read $varname     # or just read $varname\r\n",
      "    stty \"$old_tty_settings\"\r\n",
      "    # See man page for \"stty.\"\r\n",
      "}\r\n",
      "\r\n",
      "echo; echo -n \"What's your name? Quick! \"\r\n",
      "timedout_read $INTERVAL your_name\r\n",
      "\r\n",
      "# This may not work on every terminal type.\r\n",
      "# The maximum timeout depends on the terminal.\r\n",
      "#+ (it is often 25.5 seconds).\r\n",
      "\r\n",
      "if [ ! -z \"$your_name\" ]   # If name input before timeout ...\r\n",
      "then\r\n",
      "    echo \"Your name is $your_name.\"\r\n",
      "else\r\n",
      "    echo \"Timed out.\"\r\n",
      "fi\r\n",
      "\r\n",
      "# The behavior of this script differs somewhat from \"timed-input.sh.\"\r\n",
      "# At each keystroke, the counter resets.\r\n",
      "\r\n",
      "exit 0\r\n"
     ]
    }
   ],
   "source": [
    "cat timeout.sh"
   ]
  },
  {
   "cell_type": "markdown",
   "metadata": {},
   "source": [
    "###### Perhaps the simplest method is using the -t option to read."
   ]
  },
  {
   "cell_type": "markdown",
   "metadata": {},
   "source": [
    "#### Example 9-4. Timed read"
   ]
  },
  {
   "cell_type": "code",
   "execution_count": 15,
   "metadata": {
    "collapsed": false
   },
   "outputs": [
    {
     "name": "stdout",
     "output_type": "stream",
     "text": [
      "#!/bin/bash\r\n",
      "\r\n",
      "# t-out.sh [time-out]\r\n",
      "# Inspired by a suggestion from \"syngin seven\" (thanks).\r\n",
      "\r\n",
      "TIMELIMIT=4           # 4 seconds\r\n",
      "\r\n",
      "read -t $TIMELIMIT variable <&1\r\n",
      "#                           ^^^\r\n",
      "# In this instance, \"<&1\" is needed for Bash 1.x and 2.x,\r\n",
      "# but unnecessary for Bash 3+.\r\n",
      "\r\n",
      "if [ -z \"$variable\" ] # Is null?\r\n",
      "then\r\n",
      "    echo \"Timed out, variable still unset.\"\r\n",
      "else\r\n",
      "    echo \"variable = $variable\"\r\n",
      "fi\r\n",
      "\r\n",
      "exit 0\r\n"
     ]
    }
   ],
   "source": [
    "cat t-out.sh"
   ]
  },
  {
   "cell_type": "markdown",
   "metadata": {},
   "source": [
    "###### $UID\n",
    "    User ID number\n",
    "    Current user's user identification number, as recorded in /etc/passwd\n",
    "    \n",
    "    This is the current user's real id, even if she has temporarily assumed another identity through su. \n",
    "    \\$UID is a readonly variable, not subject to change from the command line or within a script, \n",
    "    and is the counterpart to the id builtin."
   ]
  },
  {
   "cell_type": "code",
   "execution_count": 18,
   "metadata": {
    "collapsed": false
   },
   "outputs": [
    {
     "name": "stdout",
     "output_type": "stream",
     "text": [
      "1000\r\n"
     ]
    }
   ],
   "source": [
    "echo $UID"
   ]
  },
  {
   "cell_type": "code",
   "execution_count": 19,
   "metadata": {
    "collapsed": false
   },
   "outputs": [
    {
     "name": "stdout",
     "output_type": "stream",
     "text": [
      "liheyi:x:1000:1000:liheyi,,,:/home/liheyi:/bin/bash\r\n"
     ]
    }
   ],
   "source": [
    "grep 1000 /etc/passwd"
   ]
  },
  {
   "cell_type": "markdown",
   "metadata": {},
   "source": [
    "#### Example 9-5. Am I root?"
   ]
  },
  {
   "cell_type": "code",
   "execution_count": 16,
   "metadata": {
    "collapsed": false
   },
   "outputs": [
    {
     "name": "stdout",
     "output_type": "stream",
     "text": [
      "#!/bin/bash\r\n",
      "# am-i-root.sh: Am I root or not?\r\n",
      "\r\n",
      "ROOT_UID=0         # Root has $UID 0.\r\n",
      "\r\n",
      "if [ \"$UID\" -eq \"$ROOT_UID\" ]   # Will the real \"root\" please stand up?\r\n",
      "then\r\n",
      "    echo \"You are root.\"\r\n",
      "else\r\n",
      "    echo \"You are just an ordinary user (but mom loves you just the same).\"\r\n",
      "fi\r\n",
      "\r\n",
      "exit 0\r\n",
      "\r\n",
      "# An alternate method of getting to the root of matters:\r\n",
      "\r\n",
      "ROOTUSER_NAME=root\r\n",
      "\r\n",
      "username=`id -nu`   # Or... username=`whoami`\r\n",
      "if [ \"$username\" = \"$ROOTUSER_NAME\" ]\r\n",
      "then\r\n",
      "    echo \"Rooty, toot, toot. You are root.\"\r\n",
      "else\r\n",
      "    echo \"You are just a regular fella.\"\r\n",
      "fi\r\n"
     ]
    }
   ],
   "source": [
    "cat am-i-root.sh"
   ]
  },
  {
   "cell_type": "code",
   "execution_count": 17,
   "metadata": {
    "collapsed": false
   },
   "outputs": [
    {
     "name": "stdout",
     "output_type": "stream",
     "text": [
      "You are just an ordinary user (but mom loves you just the same).\r\n"
     ]
    }
   ],
   "source": [
    "./am-i-root.sh"
   ]
  },
  {
   "cell_type": "markdown",
   "metadata": {},
   "source": [
    "The variables \\$ENV, \\$LOGNAME, \\$MAIL, \\$TERM, \\$USER, and \\$USERNAME are not Bash builtins.   \n",
    "These are, however, often set as environmental variables in one of the Bash or login startup files.   \n",
    "$SHELL, the name of the user's login shell, may be set from /etc/passwd or in an \"init\" script, and it is likewise not a Bash builtin."
   ]
  },
  {
   "cell_type": "code",
   "execution_count": 20,
   "metadata": {
    "collapsed": false
   },
   "outputs": [
    {
     "name": "stdout",
     "output_type": "stream",
     "text": [
      "liheyi\r\n"
     ]
    }
   ],
   "source": [
    "echo $LOGNAME"
   ]
  },
  {
   "cell_type": "code",
   "execution_count": 21,
   "metadata": {
    "collapsed": false
   },
   "outputs": [
    {
     "name": "stdout",
     "output_type": "stream",
     "text": [
      "/bin/bash\r\n"
     ]
    }
   ],
   "source": [
    "echo $SHELL"
   ]
  },
  {
   "cell_type": "code",
   "execution_count": 22,
   "metadata": {
    "collapsed": false
   },
   "outputs": [
    {
     "name": "stdout",
     "output_type": "stream",
     "text": [
      "xterm\r\n"
     ]
    }
   ],
   "source": [
    "echo $TERM"
   ]
  },
  {
   "cell_type": "code",
   "execution_count": 24,
   "metadata": {
    "collapsed": false
   },
   "outputs": [
    {
     "name": "stdout",
     "output_type": "stream",
     "text": [
      "/var/mail/liheyi\r\n"
     ]
    }
   ],
   "source": [
    "echo $MAIL"
   ]
  },
  {
   "cell_type": "code",
   "execution_count": 25,
   "metadata": {
    "collapsed": false
   },
   "outputs": [
    {
     "name": "stdout",
     "output_type": "stream",
     "text": [
      "liheyi\r\n"
     ]
    }
   ],
   "source": [
    "echo $USER"
   ]
  },
  {
   "cell_type": "markdown",
   "metadata": {},
   "source": [
    "#### B.Positional Parameters"
   ]
  },
  {
   "cell_type": "code",
   "execution_count": null,
   "metadata": {
    "collapsed": true
   },
   "outputs": [],
   "source": []
  }
 ],
 "metadata": {
  "kernelspec": {
   "display_name": "Bash",
   "language": "bash",
   "name": "bash"
  },
  "language_info": {
   "codemirror_mode": "shell",
   "file_extension": ".sh",
   "mimetype": "text/x-sh",
   "name": "bash"
  }
 },
 "nbformat": 4,
 "nbformat_minor": 0
}
