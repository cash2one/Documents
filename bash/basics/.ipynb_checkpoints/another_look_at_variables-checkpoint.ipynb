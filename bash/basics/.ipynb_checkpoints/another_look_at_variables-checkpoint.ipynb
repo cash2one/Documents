{
 "cells": [
  {
   "cell_type": "markdown",
   "metadata": {},
   "source": [
    "## 9. Another Look at Variables"
   ]
  },
  {
   "cell_type": "markdown",
   "metadata": {},
   "source": [
    "Used properly, variables can add power and flexibility to scripts.   \n",
    "This requires learning their subtleties and nuances."
   ]
  },
  {
   "cell_type": "markdown",
   "metadata": {},
   "source": [
    "### Internal Variables"
   ]
  },
  {
   "cell_type": "markdown",
   "metadata": {},
   "source": [
    "#### A.Builtin variables\n",
    "    variables affecting bash script behavior"
   ]
  },
  {
   "cell_type": "markdown",
   "metadata": {},
   "source": [
    "###### $BASH\n",
    "    The path to the Bash binary itself"
   ]
  },
  {
   "cell_type": "code",
   "execution_count": 1,
   "metadata": {
    "collapsed": false
   },
   "outputs": [
    {
     "name": "stdout",
     "output_type": "stream",
     "text": [
      "/bin/bash\r\n"
     ]
    }
   ],
   "source": [
    "echo $BASH"
   ]
  },
  {
   "cell_type": "markdown",
   "metadata": {},
   "source": [
    "###### $BASH_ENV\n",
    "    An environmental variable pointing to a Bash startup file to be read when a script is invoked"
   ]
  },
  {
   "cell_type": "code",
   "execution_count": 3,
   "metadata": {
    "collapsed": false
   },
   "outputs": [
    {
     "name": "stdout",
     "output_type": "stream",
     "text": [
      "\r\n"
     ]
    }
   ],
   "source": [
    "# Nothing\n",
    "echo $BASH_ENV"
   ]
  },
  {
   "cell_type": "markdown",
   "metadata": {},
   "source": [
    "###### $BASH_SUBSHELL\n",
    "    A variable indicating the subshell level. \n",
    "    This is a new addition to Bash, version 3."
   ]
  },
  {
   "cell_type": "code",
   "execution_count": 4,
   "metadata": {
    "collapsed": false
   },
   "outputs": [
    {
     "name": "stdout",
     "output_type": "stream",
     "text": [
      "0\r\n"
     ]
    }
   ],
   "source": [
    "echo $BASH_SUBSHELL"
   ]
  },
  {
   "cell_type": "markdown",
   "metadata": {},
   "source": [
    "###### $BASHPID\n",
    "    Process ID of the current instance of Bash. \n",
    "    This is not the same as the $$ variable, but it often gives the same result."
   ]
  },
  {
   "cell_type": "code",
   "execution_count": 8,
   "metadata": {
    "collapsed": false
   },
   "outputs": [
    {
     "name": "stdout",
     "output_type": "stream",
     "text": [
      "70210\r\n"
     ]
    }
   ],
   "source": [
    "echo $$"
   ]
  },
  {
   "cell_type": "code",
   "execution_count": 9,
   "metadata": {
    "collapsed": false
   },
   "outputs": [
    {
     "name": "stdout",
     "output_type": "stream",
     "text": [
      "70210\r\n"
     ]
    }
   ],
   "source": [
    "echo $BASHPID"
   ]
  },
  {
   "cell_type": "code",
   "execution_count": 16,
   "metadata": {
    "collapsed": false
   },
   "outputs": [
    {
     "name": "stdout",
     "output_type": "stream",
     "text": [
      " 70210 pts/3    Ss     0:00 /bin/bash --rcfile /home/liheyi/anaconda2/lib/python2.7/site-packages/pexpect/bashrc.sh\r\n",
      " 70230 pts/3    S+     0:00 grep 70210\r\n"
     ]
    }
   ],
   "source": [
    "ps ax | grep 70210"
   ]
  },
  {
   "cell_type": "code",
   "execution_count": 22,
   "metadata": {
    "collapsed": false
   },
   "outputs": [
    {
     "name": "stdout",
     "output_type": "stream",
     "text": [
      "#!/bin/bash\r\n",
      "echo \"\\$\\$ outside of subshell = $$\"\r\n",
      "echo \"\\$BASH_SUBSHELL outside of subshell = $BASH_SUBSHELL\"\r\n",
      "echo \"\\$BASHPID outside of subshell = $BASHPID\"\r\n",
      "\r\n",
      "echo\r\n",
      "\r\n",
      "( echo \"\\$\\$ inside of subshell = $$\"\r\n",
      "echo \"\\$BASH_SUBSHELL inside of subshell = $BASH_SUBSHELL\"\r\n",
      "echo \"\\$BASHPID inside of subshell = $BASHPID\" )\r\n"
     ]
    }
   ],
   "source": [
    "# Note that $$ returns PID of parent process.\n",
    "cat bashpid.sh"
   ]
  },
  {
   "cell_type": "code",
   "execution_count": 23,
   "metadata": {
    "collapsed": false
   },
   "outputs": [
    {
     "name": "stdout",
     "output_type": "stream",
     "text": [
      "$$ outside of subshell = 70247\r\n",
      "$BASH_SUBSHELL outside of subshell = 0\r\n",
      "$BASHPID outside of subshell = 70247\r\n",
      "\r\n",
      "$$ inside of subshell = 70247\r\n",
      "$BASH_SUBSHELL inside of subshell = 1\r\n",
      "$BASHPID inside of subshell = 70248\r\n"
     ]
    }
   ],
   "source": [
    "./bashpid.sh"
   ]
  },
  {
   "cell_type": "markdown",
   "metadata": {},
   "source": [
    "###### $BASH_VERSINFO[n]\n",
    "    A 6-element array containing version information about the installed release of Bash.   \n",
    "    This is similar to \\$BASH_VERSION, below, but a bit more detailed."
   ]
  },
  {
   "cell_type": "code",
   "execution_count": 24,
   "metadata": {
    "collapsed": false
   },
   "outputs": [
    {
     "name": "stdout",
     "output_type": "stream",
     "text": [
      "BASH_VERSINFO[0] = 4\r\n",
      "BASH_VERSINFO[1] = 3\r\n",
      "BASH_VERSINFO[2] = 11\r\n",
      "BASH_VERSINFO[3] = 1\r\n",
      "BASH_VERSINFO[4] = release\r\n",
      "BASH_VERSINFO[5] = x86_64-pc-linux-gnu\r\n"
     ]
    }
   ],
   "source": [
    "# Bash version info:\n",
    "# Major version no\n",
    "# Minor version no\n",
    "# Patch level\n",
    "# Build version\n",
    "# Release status\n",
    "# Architecture\n",
    "# (same as $MACHTYPE).\n",
    "\n",
    "for n in 0 1 2 3 4 5\n",
    "do\n",
    "    echo \"BASH_VERSINFO[$n] = ${BASH_VERSINFO[$n]}\"\n",
    "done"
   ]
  },
  {
   "cell_type": "markdown",
   "metadata": {},
   "source": [
    "###### $BASH_VERSION\n",
    "    The version of Bash installed on the system\n",
    "    \n",
    "    Checking $BASH_VERSION is a good method of determining which shell is running. \n",
    "    \\$SHELL does not necessarily give the correct answer."
   ]
  },
  {
   "cell_type": "code",
   "execution_count": 25,
   "metadata": {
    "collapsed": false
   },
   "outputs": [
    {
     "name": "stdout",
     "output_type": "stream",
     "text": [
      "4.3.11(1)-release\r\n"
     ]
    }
   ],
   "source": [
    "echo $BASH_VERSION"
   ]
  },
  {
   "cell_type": "markdown",
   "metadata": {},
   "source": [
    "###### $CDPATH\n",
    "    A colon-separated list of search paths available to the cd command, \n",
    "    similar in function to the \\$PATH variable for binaries. \n",
    "    The \\$CDPATH variable may be set in the local ~/.bashrc file."
   ]
  },
  {
   "cell_type": "code",
   "execution_count": 40,
   "metadata": {
    "collapsed": false
   },
   "outputs": [
    {
     "name": "stdout",
     "output_type": "stream",
     "text": [
      "/home/liheyi\r\n"
     ]
    }
   ],
   "source": [
    "echo $PWD"
   ]
  },
  {
   "cell_type": "code",
   "execution_count": 45,
   "metadata": {
    "collapsed": false
   },
   "outputs": [
    {
     "name": "stdout",
     "output_type": "stream",
     "text": [
      "bash: cd: bash-completion: No such file or directory\r\n"
     ]
    }
   ],
   "source": [
    "cd bash-completion"
   ]
  },
  {
   "cell_type": "code",
   "execution_count": 46,
   "metadata": {
    "collapsed": false
   },
   "outputs": [
    {
     "name": "stdout",
     "output_type": "stream",
     "text": []
    }
   ],
   "source": [
    "CDPATH=/usr/share/doc/"
   ]
  },
  {
   "cell_type": "code",
   "execution_count": 47,
   "metadata": {
    "collapsed": false
   },
   "outputs": [
    {
     "name": "stdout",
     "output_type": "stream",
     "text": [
      "/usr/share/doc/bash-completion\r\n"
     ]
    }
   ],
   "source": [
    "cd bash-completion"
   ]
  },
  {
   "cell_type": "code",
   "execution_count": 48,
   "metadata": {
    "collapsed": false
   },
   "outputs": [
    {
     "name": "stdout",
     "output_type": "stream",
     "text": [
      "/usr/share/doc/bash-completion\r\n"
     ]
    }
   ],
   "source": [
    "echo $PWD"
   ]
  },
  {
   "cell_type": "markdown",
   "metadata": {},
   "source": [
    "###### $DIRSTACK\n",
    "    The top value in the directory stack (affected by pushd and popd)\n",
    "    This builtin variable corresponds to the dirs command, \n",
    "    however dirs shows the entire contents of the directory stack."
   ]
  },
  {
   "cell_type": "code",
   "execution_count": 51,
   "metadata": {
    "collapsed": false
   },
   "outputs": [
    {
     "name": "stdout",
     "output_type": "stream",
     "text": [
      "/home/liheyi\r\n"
     ]
    }
   ],
   "source": [
    "pwd"
   ]
  },
  {
   "cell_type": "code",
   "execution_count": 52,
   "metadata": {
    "collapsed": false
   },
   "outputs": [
    {
     "name": "stdout",
     "output_type": "stream",
     "text": [
      "~\r\n"
     ]
    }
   ],
   "source": [
    "echo $DIRSTACK"
   ]
  },
  {
   "cell_type": "code",
   "execution_count": 53,
   "metadata": {
    "collapsed": false
   },
   "outputs": [
    {
     "name": "stdout",
     "output_type": "stream",
     "text": [
      "/home/liheyi/jupyter/bash\r\n"
     ]
    }
   ],
   "source": [
    "cd jupyter/bash\n",
    "pwd"
   ]
  },
  {
   "cell_type": "code",
   "execution_count": 54,
   "metadata": {
    "collapsed": false
   },
   "outputs": [
    {
     "name": "stdout",
     "output_type": "stream",
     "text": [
      "~/jupyter/bash\r\n"
     ]
    }
   ],
   "source": [
    "echo $DIRSTACK"
   ]
  },
  {
   "cell_type": "markdown",
   "metadata": {},
   "source": [
    "###### $EDITOR\n",
    "    The default editor invoked by a script, usually vi or emacs."
   ]
  },
  {
   "cell_type": "code",
   "execution_count": 55,
   "metadata": {
    "collapsed": false
   },
   "outputs": [
    {
     "name": "stdout",
     "output_type": "stream",
     "text": [
      "\r\n"
     ]
    }
   ],
   "source": [
    "echo $EDITOR"
   ]
  },
  {
   "cell_type": "code",
   "execution_count": 56,
   "metadata": {
    "collapsed": false
   },
   "outputs": [
    {
     "name": "stdout",
     "output_type": "stream",
     "text": [
      "vim\r\n"
     ]
    }
   ],
   "source": [
    "EDITOR=vim\n",
    "echo $EDITOR"
   ]
  },
  {
   "cell_type": "markdown",
   "metadata": {},
   "source": [
    "###### $EUID\n",
    "    \"effective\" user ID number\n",
    "    Identification number of whatever identity the current user has assumed, perhaps by means of su.\n",
    "    The \\$EUID is not necessarily the same as the \\$UID."
   ]
  },
  {
   "cell_type": "code",
   "execution_count": 59,
   "metadata": {
    "collapsed": false
   },
   "outputs": [
    {
     "name": "stdout",
     "output_type": "stream",
     "text": [
      "1000\r\n"
     ]
    }
   ],
   "source": [
    "echo $EUID"
   ]
  },
  {
   "cell_type": "markdown",
   "metadata": {},
   "source": [
    "###### $FUNCNAME\n",
    "    Name of the current function"
   ]
  },
  {
   "cell_type": "code",
   "execution_count": 61,
   "metadata": {
    "collapsed": false
   },
   "outputs": [
    {
     "name": "stdout",
     "output_type": "stream",
     "text": [
      "gcd now executing.\r\n"
     ]
    }
   ],
   "source": [
    "gcd ()\n",
    "{\n",
    "    echo \"$FUNCNAME now executing.\"\n",
    "}\n",
    "\n",
    "gcd"
   ]
  },
  {
   "cell_type": "code",
   "execution_count": 62,
   "metadata": {
    "collapsed": false
   },
   "outputs": [
    {
     "name": "stdout",
     "output_type": "stream",
     "text": [
      "FUNCNAME = \r\n"
     ]
    }
   ],
   "source": [
    "# Null value outside a function.\n",
    "echo \"FUNCNAME = $FUNCNAME\""
   ]
  },
  {
   "cell_type": "markdown",
   "metadata": {},
   "source": [
    "###### $GLOBIGNORE\n",
    "    A list of filename patterns to be excluded from matching in globbing."
   ]
  },
  {
   "cell_type": "markdown",
   "metadata": {},
   "source": [
    "###### $GROUPS\n",
    "    Groups current user belongs to.\n",
    "    This is a listing (array) of the group id numbers for current user, \n",
    "    as recorded in /etc/passwd and /etc/group."
   ]
  },
  {
   "cell_type": "code",
   "execution_count": 63,
   "metadata": {
    "collapsed": false
   },
   "outputs": [
    {
     "name": "stdout",
     "output_type": "stream",
     "text": [
      "1000\r\n"
     ]
    }
   ],
   "source": [
    "echo $GROUPS"
   ]
  },
  {
   "cell_type": "code",
   "execution_count": 64,
   "metadata": {
    "collapsed": false
   },
   "outputs": [
    {
     "name": "stdout",
     "output_type": "stream",
     "text": [
      "liheyi:x:1000:1000:liheyi,,,:/home/liheyi:/bin/bash\r\n"
     ]
    }
   ],
   "source": [
    "grep liheyi /etc/passwd"
   ]
  },
  {
   "cell_type": "code",
   "execution_count": 65,
   "metadata": {
    "collapsed": false
   },
   "outputs": [
    {
     "name": "stdout",
     "output_type": "stream",
     "text": [
      "24\r\n"
     ]
    }
   ],
   "source": [
    "echo ${GROUPS[1]}"
   ]
  },
  {
   "cell_type": "code",
   "execution_count": 66,
   "metadata": {
    "collapsed": false
   },
   "outputs": [
    {
     "name": "stdout",
     "output_type": "stream",
     "text": [
      "108\r\n"
     ]
    }
   ],
   "source": [
    "echo ${GROUPS[5]}"
   ]
  },
  {
   "cell_type": "markdown",
   "metadata": {},
   "source": [
    "###### $HOME\n",
    "    Home directory of the user, usually /home/username"
   ]
  },
  {
   "cell_type": "code",
   "execution_count": 67,
   "metadata": {
    "collapsed": false
   },
   "outputs": [
    {
     "name": "stdout",
     "output_type": "stream",
     "text": [
      "/home/liheyi\r\n"
     ]
    }
   ],
   "source": [
    "echo $HOME"
   ]
  },
  {
   "cell_type": "markdown",
   "metadata": {},
   "source": [
    "###### $HOSTNAME\n",
    "    The hostname command assigns the system host name at bootup in an init script. \n",
    "    However, the gethostname() function sets the Bash internal variable \\$HOSTNAME."
   ]
  },
  {
   "cell_type": "code",
   "execution_count": 68,
   "metadata": {
    "collapsed": false
   },
   "outputs": [
    {
     "name": "stdout",
     "output_type": "stream",
     "text": [
      "analysis\r\n"
     ]
    }
   ],
   "source": [
    "echo $HOSTNAME"
   ]
  },
  {
   "cell_type": "code",
   "execution_count": 69,
   "metadata": {
    "collapsed": false
   },
   "outputs": [
    {
     "name": "stdout",
     "output_type": "stream",
     "text": [
      "analysis\r\n"
     ]
    }
   ],
   "source": [
    "hostname"
   ]
  },
  {
   "cell_type": "markdown",
   "metadata": {},
   "source": [
    "###### $HOSTTYPE\n",
    "    host type\n",
    "    Like \\$MACHTYPE, identifies the system hardware"
   ]
  },
  {
   "cell_type": "code",
   "execution_count": 70,
   "metadata": {
    "collapsed": false
   },
   "outputs": [
    {
     "name": "stdout",
     "output_type": "stream",
     "text": [
      "x86_64\r\n"
     ]
    }
   ],
   "source": [
    "echo $HOSTTYPE"
   ]
  },
  {
   "cell_type": "code",
   "execution_count": 71,
   "metadata": {
    "collapsed": false
   },
   "outputs": [
    {
     "name": "stdout",
     "output_type": "stream",
     "text": [
      "x86_64-pc-linux-gnu\r\n"
     ]
    }
   ],
   "source": [
    "echo $MACHTYPE"
   ]
  },
  {
   "cell_type": "markdown",
   "metadata": {},
   "source": [
    "###### $IFS\n",
    "    internal field separator.\n",
    "    This variable determines how Bash recognizes fields, or word boundaries, \n",
    "    when it interprets character strings.\n",
    "    \n",
    "    \\$IFS defaults to whitespace (space, tab, and newline), but may be changed, \n",
    "    for example, to parse a comma-separated data file. \n",
    "    Note that \\$* uses the first character held in \\$IFS."
   ]
  },
  {
   "cell_type": "code",
   "execution_count": 72,
   "metadata": {
    "collapsed": false
   },
   "outputs": [
    {
     "name": "stdout",
     "output_type": "stream",
     "text": [
      " \t\r\n",
      "\r\n"
     ]
    }
   ],
   "source": [
    "# With $IFS set to default, a blank line displays\n",
    "echo \"$IFS\""
   ]
  },
  {
   "cell_type": "code",
   "execution_count": 73,
   "metadata": {
    "collapsed": false
   },
   "outputs": [
    {
     "name": "stdout",
     "output_type": "stream",
     "text": [
      " ^I$\r\n",
      "$\r\n"
     ]
    }
   ],
   "source": [
    "# Show whitespace: here a single space, ^I [horizontal tab],\n",
    "# and newline, and display \"$\" at end-of-line.\n",
    "echo \"$IFS\" | cat -vte"
   ]
  },
  {
   "cell_type": "code",
   "execution_count": 74,
   "metadata": {
    "collapsed": false
   },
   "outputs": [
    {
     "name": "stdout",
     "output_type": "stream",
     "text": [
      "w:x:y:z\r\n"
     ]
    }
   ],
   "source": [
    "# Read commands from string and assign any arguments to pos params\n",
    "bash -c 'set w x y z; IFS=\":-;\"; echo \"$*\"'"
   ]
  },
  {
   "cell_type": "code",
   "execution_count": 75,
   "metadata": {
    "collapsed": false
   },
   "outputs": [
    {
     "name": "stdout",
     "output_type": "stream",
     "text": []
    }
   ],
   "source": [
    "# Set $IFS to eliminate whitespace in pathnames.\n",
    "IFS=\"$(printf '\\n\\t')\""
   ]
  },
  {
   "cell_type": "markdown",
   "metadata": {},
   "source": [
    "###### $IFS does not handle whitespace the same as it does other characters"
   ]
  },
  {
   "cell_type": "markdown",
   "metadata": {},
   "source": [
    "#### Example 9-1. $IFS and whitespace"
   ]
  },
  {
   "cell_type": "code",
   "execution_count": 77,
   "metadata": {
    "collapsed": false
   },
   "outputs": [
    {
     "name": "stdout",
     "output_type": "stream",
     "text": [
      "a b c\r\n",
      "d-e-f\r\n",
      "g,h,i\r\n"
     ]
    }
   ],
   "source": [
    "var1=\"a+b+c\"\n",
    "var2=\"d-e-f\"\n",
    "var3=\"g,h,i\"\n",
    "\n",
    "# The plus sign will be interpreted as a separator.\n",
    "# The plus sign reverts to default interpretation.\n",
    "IFS=+\n",
    "echo $var1 # a b c\n",
    "echo $var2 # d-e-f\n",
    "echo $var3 # g,h,i"
   ]
  },
  {
   "cell_type": "code",
   "execution_count": 78,
   "metadata": {
    "collapsed": false
   },
   "outputs": [
    {
     "name": "stdout",
     "output_type": "stream",
     "text": [
      "a+b+c\r\n",
      "d e f\r\n",
      "g,h,i\r\n"
     ]
    }
   ],
   "source": [
    "# The minus sign will be interpreted as a separator.\n",
    "# The minus sign reverts to default interpretation.\n",
    "IFS=\"-\"\n",
    "echo $var1 # a+b+c\n",
    "echo $var2 # d e f\n",
    "echo $var3 # g,h,i"
   ]
  },
  {
   "cell_type": "code",
   "execution_count": 79,
   "metadata": {
    "collapsed": false
   },
   "outputs": [
    {
     "name": "stdout",
     "output_type": "stream",
     "text": [
      "a+b+c\r\n",
      "d-e-f\r\n",
      "g h i\r\n"
     ]
    }
   ],
   "source": [
    "# The comma will be interpreted as a separator.\n",
    "# The comma reverts to default interpretation.\n",
    "IFS=\",\"\n",
    "echo $var1 # a+b+c\n",
    "echo $var2 # d-e-f\n",
    "echo $var3 # g h i"
   ]
  },
  {
   "cell_type": "code",
   "execution_count": 80,
   "metadata": {
    "collapsed": false
   },
   "outputs": [
    {
     "name": "stdout",
     "output_type": "stream",
     "text": [
      "a+b+c\r\n",
      "d-e-f\r\n",
      "g,h,i\r\n"
     ]
    }
   ],
   "source": [
    "# The space character will be interpreted as a separator.\n",
    "IFS=\" \"\n",
    "echo $var1 # a+b+c\n",
    "echo $var2 # d-e-f\n",
    "echo $var3 # g,h,i"
   ]
  },
  {
   "cell_type": "code",
   "execution_count": 81,
   "metadata": {
    "collapsed": false
   },
   "outputs": [
    {
     "name": "stdout",
     "output_type": "stream",
     "text": [
      "[a]\r\n",
      "[b]\r\n",
      "[c]\r\n"
     ]
    }
   ],
   "source": [
    "# However ...\n",
    "# $IFS treats whitespace differently than other characters.\n",
    "output_args_one_per_line()\n",
    "{\n",
    "    for arg\n",
    "    do\n",
    "        # Embed within brackets, for your viewing pleasure.\n",
    "        echo \"[$arg]\"\n",
    "    done\n",
    "}\n",
    "\n",
    "IFS=\" \"\n",
    "var=\" a  b c   \"\n",
    "output_args_one_per_line $var"
   ]
  },
  {
   "cell_type": "code",
   "execution_count": 82,
   "metadata": {
    "collapsed": false
   },
   "outputs": [
    {
     "name": "stdout",
     "output_type": "stream",
     "text": [
      "[]\r\n",
      "[a]\r\n",
      "[]\r\n",
      "[b]\r\n",
      "[c]\r\n",
      "[]\r\n",
      "[]\r\n"
     ]
    }
   ],
   "source": [
    "# Same pattern as above,\n",
    "# #+ but substituting \":\" for \" \"\n",
    "\n",
    "# Note \"empty\" brackets.\n",
    "# The same thing happens with the \"FS\" field separator in awk.\n",
    "\n",
    "IFS=:\n",
    "var=\":a::b:c:::\"\n",
    "output_args_one_per_line $var"
   ]
  },
  {
   "cell_type": "markdown",
   "metadata": {},
   "source": [
    "###### $IGNOREEOF\n",
    "    Ignore EOF: how many end-of-files (control-D) the shell will ignore before logging out."
   ]
  },
  {
   "cell_type": "markdown",
   "metadata": {},
   "source": [
    "###### $LC_COLLATE\n",
    "    Often set in the .bashrc or /etc/profile files, \n",
    "    this variable controls collation order in filename expansion and pattern matching. \n",
    "    If mishandled, LC_COLLATE can cause unexpected results in filename globbing.\n",
    "    \n",
    "    As of version 2.05 of Bash, filename globbing no longer distinguishes \n",
    "    between lowercase and uppercase letters in a character range between brackets. \n",
    "    \n",
    "    For example, ls [A-M]* would match both File1.txt and file1.txt. \n",
    "    To revert to the customary behavior of bracket matching, \n",
    "    set LC_COLLATE to C by an export LC_COLLATE=C in /etc/profile and/or ~/.bashrc."
   ]
  },
  {
   "cell_type": "markdown",
   "metadata": {},
   "source": [
    "###### $LC_CTYPE\n",
    "    This internal variable controls character interpretation in globbing and pattern matching."
   ]
  },
  {
   "cell_type": "markdown",
   "metadata": {},
   "source": [
    "###### $LINENO\n",
    "    This variable is the line number of the shell script in which this variable appears. \n",
    "    It has significance only within the script in which it appears, \n",
    "    and is chiefly useful for debugging purposes."
   ]
  },
  {
   "cell_type": "code",
   "execution_count": null,
   "metadata": {
    "collapsed": true
   },
   "outputs": [],
   "source": [
    "# *** BEGIN DEBUG BLOCK ***\n",
    "last_cmd_arg=$_ # Save it.\n",
    "echo \"At line number $LINENO, variable \\\"v1\\\" = $v1\"\n",
    "echo \"Last command argument processed = $last_cmd_arg\"\n",
    "# *** END DEBUG BLOCK ***"
   ]
  },
  {
   "cell_type": "markdown",
   "metadata": {},
   "source": [
    "###### $MACHTYPE\n",
    "    machine type\n",
    "    Identifies the system hardware."
   ]
  },
  {
   "cell_type": "code",
   "execution_count": 83,
   "metadata": {
    "collapsed": false
   },
   "outputs": [
    {
     "name": "stdout",
     "output_type": "stream",
     "text": [
      "x86_64-pc-linux-gnu\r\n"
     ]
    }
   ],
   "source": [
    "echo $MACHTYPE"
   ]
  },
  {
   "cell_type": "markdown",
   "metadata": {},
   "source": [
    "###### $OLDPWD\n",
    "    Old working directory (\"OLD-Print-Working-Directory\", previous directory you were in)."
   ]
  },
  {
   "cell_type": "code",
   "execution_count": 84,
   "metadata": {
    "collapsed": false
   },
   "outputs": [
    {
     "name": "stdout",
     "output_type": "stream",
     "text": [
      "/home/liheyi/jupyter/bash\r\n"
     ]
    }
   ],
   "source": [
    "echo $PWD"
   ]
  },
  {
   "cell_type": "code",
   "execution_count": 86,
   "metadata": {
    "collapsed": false
   },
   "outputs": [
    {
     "name": "stdout",
     "output_type": "stream",
     "text": [
      "/home/liheyi\r\n"
     ]
    }
   ],
   "source": [
    "echo $OLDPWD"
   ]
  },
  {
   "cell_type": "code",
   "execution_count": 87,
   "metadata": {
    "collapsed": false
   },
   "outputs": [
    {
     "name": "stdout",
     "output_type": "stream",
     "text": []
    }
   ],
   "source": [
    "cd /etc/init.d/"
   ]
  },
  {
   "cell_type": "code",
   "execution_count": 88,
   "metadata": {
    "collapsed": false
   },
   "outputs": [
    {
     "name": "stdout",
     "output_type": "stream",
     "text": [
      "/etc/init.d\r\n"
     ]
    }
   ],
   "source": [
    "echo $PWD"
   ]
  },
  {
   "cell_type": "code",
   "execution_count": 89,
   "metadata": {
    "collapsed": false
   },
   "outputs": [
    {
     "name": "stdout",
     "output_type": "stream",
     "text": [
      "/home/liheyi/jupyter/bash\r\n"
     ]
    }
   ],
   "source": [
    "echo $OLDPWD"
   ]
  },
  {
   "cell_type": "markdown",
   "metadata": {},
   "source": [
    "###### $OSTYPE\n",
    "    operating system type"
   ]
  },
  {
   "cell_type": "code",
   "execution_count": 90,
   "metadata": {
    "collapsed": false
   },
   "outputs": [
    {
     "name": "stdout",
     "output_type": "stream",
     "text": [
      "linux-gnu\r\n"
     ]
    }
   ],
   "source": [
    "echo $OSTYPE"
   ]
  },
  {
   "cell_type": "markdown",
   "metadata": {},
   "source": [
    "###### $PATH\n",
    "    Path to binaries, usually /usr/bin/, /usr/X11R6/bin/, /usr/local/bin, etc.\n",
    "    \n",
    "    When given a command, the shell automatically does a hash table search on the directories listed in the path for the executable.   \n",
    "    The path is stored in the environmental variable, \\$PATH, a list of directories, separated by colons.\n",
    "    Normally, the system stores the $PATH definition in /etc/profile and/or ~/.bashrc"
   ]
  },
  {
   "cell_type": "code",
   "execution_count": 91,
   "metadata": {
    "collapsed": false
   },
   "outputs": [
    {
     "name": "stdout",
     "output_type": "stream",
     "text": [
      "/home/liheyi/anaconda2/bin /usr/local/sbin /usr/local/bin /usr/sbin /usr/bin /sbin /bin /usr/games /usr/local/games\r\n"
     ]
    }
   ],
   "source": [
    "echo $PATH"
   ]
  },
  {
   "cell_type": "markdown",
   "metadata": {},
   "source": [
    "PATH=\\${PATH}:/opt/bin appends the /opt/bin directory to the current path.   \n",
    "In a script, it may be expedient to temporarily add a directory to the path in this way.   \n",
    "When the script exits, this restores the original \\$PATH   \n",
    "(a child process, such as a script, may not change the environment of the parent process, the shell).  \n",
    "The current \"working directory\", ./, is usually omitted from the $PATH as a security measure."
   ]
  },
  {
   "cell_type": "markdown",
   "metadata": {},
   "source": [
    "###### $PIPESTATUS\n",
    "    Array variable holding exit status(es) of last executed foreground pipe."
   ]
  },
  {
   "cell_type": "code",
   "execution_count": 98,
   "metadata": {
    "collapsed": false
   },
   "outputs": [
    {
     "name": "stdout",
     "output_type": "stream",
     "text": [
      "0\r\n"
     ]
    }
   ],
   "source": [
    "echo $PIPESTATUS"
   ]
  },
  {
   "cell_type": "code",
   "execution_count": 103,
   "metadata": {
    "collapsed": false
   },
   "outputs": [
    {
     "name": "stdout",
     "output_type": "stream",
     "text": [
      "bogus_command: command not found\r\n",
      "127\r\n"
     ]
    }
   ],
   "source": [
    "ls -al | bogus_command\n",
    "echo ${PIPESTATUS[1]}"
   ]
  },
  {
   "cell_type": "code",
   "execution_count": 104,
   "metadata": {
    "collapsed": false
   },
   "outputs": [
    {
     "name": "stdout",
     "output_type": "stream",
     "text": [
      "bogus_command: command not found\r\n",
      "127\r\n"
     ]
    }
   ],
   "source": [
    "ls -al | bogus_command\n",
    "echo $?"
   ]
  },
  {
   "cell_type": "markdown",
   "metadata": {},
   "source": [
    "The members of the \\$PIPESTATUS array hold the exit status of each respective command executed in a pipe.  \n",
    "\\$PIPESTATUS[0] holds the exit status of the first command in the pipe,  \n",
    "\\$PIPESTATUS[1] the exit status of the second command, and so on. "
   ]
  },
  {
   "cell_type": "markdown",
   "metadata": {},
   "source": [
    "The $PIPESTATUS variable may contain an erroneous 0 value in a login shell (in releases prior to 3.0 of Bash)"
   ]
  },
  {
   "cell_type": "code",
   "execution_count": 2,
   "metadata": {
    "collapsed": false
   },
   "outputs": [
    {
     "name": "stdout",
     "output_type": "stream",
     "text": [
      "4.3.11(1)-release\r\n"
     ]
    }
   ],
   "source": [
    "echo $BASH_VERSION"
   ]
  },
  {
   "cell_type": "code",
   "execution_count": 1,
   "metadata": {
    "collapsed": false
   },
   "outputs": [
    {
     "name": "stdout",
     "output_type": "stream",
     "text": [
      "0 1 0\r\n"
     ]
    }
   ],
   "source": [
    "# the bash version 4.3.11\n",
    "# so that this works fine.\n",
    "\n",
    "# Also put in a script would produce \n",
    "# the expected 0 1 0 output\n",
    "who | grep nobody | sort\n",
    "echo ${PIPESTATUS[*]}"
   ]
  },
  {
   "cell_type": "markdown",
   "metadata": {},
   "source": [
    "The $PIPESTATUS variable gives unexpected results in some contexts"
   ]
  },
  {
   "cell_type": "code",
   "execution_count": 3,
   "metadata": {
    "collapsed": false
   },
   "outputs": [
    {
     "name": "stdout",
     "output_type": "stream",
     "text": [
      "4.3.11(1)-release\r\n"
     ]
    }
   ],
   "source": [
    "echo $BASH_VERSION"
   ]
  },
  {
   "cell_type": "code",
   "execution_count": 4,
   "metadata": {
    "collapsed": false
   },
   "outputs": [
    {
     "name": "stdout",
     "output_type": "stream",
     "text": [
      "bogus_command: command not found\r\n",
      "      0       0       0\r\n",
      "0 127 0\r\n"
     ]
    }
   ],
   "source": [
    "# Luckily,this works fine.\n",
    "# No giving unexpected results\n",
    "ls | bogus_command | wc\n",
    "echo ${PIPESTATUS[@]}"
   ]
  },
  {
   "cell_type": "markdown",
   "metadata": {},
   "source": [
    "$PIPESTATUS is a \"volatile\" variable.   \n",
    "It needs to be captured immediately after the pipe in question, before any other command intervenes."
   ]
  },
  {
   "cell_type": "code",
   "execution_count": 6,
   "metadata": {
    "collapsed": false
   },
   "outputs": [
    {
     "name": "stdout",
     "output_type": "stream",
     "text": [
      "bogus_command: command not found\r\n",
      "      0       0       0\r\n",
      "0 127 0\r\n"
     ]
    }
   ],
   "source": [
    "ls | bogus_command | wc\n",
    "echo ${PIPESTATUS[@]}"
   ]
  },
  {
   "cell_type": "code",
   "execution_count": 7,
   "metadata": {
    "collapsed": false
   },
   "outputs": [
    {
     "name": "stdout",
     "output_type": "stream",
     "text": [
      "0\r\n"
     ]
    }
   ],
   "source": [
    "echo ${PIPESTATUS[@]}"
   ]
  },
  {
   "cell_type": "markdown",
   "metadata": {},
   "source": [
    "The pipefail option may be useful in cases where $PIPESTATUS does not give the desired information."
   ]
  },
  {
   "cell_type": "markdown",
   "metadata": {},
   "source": [
    "###### $PPID\n",
    "    The \\$PPID of a process is the process ID (pid) of its parent process.\n",
    "    Compare this with the pidof command."
   ]
  },
  {
   "cell_type": "markdown",
   "metadata": {},
   "source": [
    "###### $PROMPT_COMMAND\n",
    "    A variable holding a command to be executed just before the primary prompt, \\$PS1 is to be displayed."
   ]
  },
  {
   "cell_type": "markdown",
   "metadata": {},
   "source": [
    "###### $PS1\n",
    "    This is the main prompt, seen at the command-line.\n",
    "   "
   ]
  },
  {
   "cell_type": "code",
   "execution_count": 11,
   "metadata": {
    "collapsed": false
   },
   "outputs": [
    {
     "name": "stdout",
     "output_type": "stream",
     "text": []
    }
   ],
   "source": [
    "liheyi@analysis:~/jupyter$ echo \"$PS1\"\n",
    "\\[\\e]0;\\u@\\h: \\w\\a\\]${debian_chroot:+($debian_chroot)}\\u@\\h:\\w\\$"
   ]
  },
  {
   "cell_type": "markdown",
   "metadata": {},
   "source": [
    "###### $PS2\n",
    "    The secondary prompt, seen when additional input is expected. It displays as \">\"."
   ]
  },
  {
   "cell_type": "code",
   "execution_count": null,
   "metadata": {
    "collapsed": false
   },
   "outputs": [],
   "source": [
    "liheyi@analysis:~/jupyter$ echo \"$PS2\"\n",
    "> "
   ]
  },
  {
   "cell_type": "markdown",
   "metadata": {},
   "source": [
    "###### $PS3\n",
    "    The tertiary prompt, displayed in a select loop"
   ]
  },
  {
   "cell_type": "markdown",
   "metadata": {},
   "source": [
    "###### $PS4\n",
    "    The quartenary prompt, shown at the beginning of each line of output \n",
    "    when invoking a script with the -x [verbose trace] option. \n",
    "    It displays as \"+\"."
   ]
  },
  {
   "cell_type": "markdown",
   "metadata": {},
   "source": [
    "As a debugging aid, it may be useful to embed diagnostic information in $PS4."
   ]
  },
  {
   "cell_type": "code",
   "execution_count": null,
   "metadata": {
    "collapsed": true
   },
   "outputs": [],
   "source": [
    "P4='$(read time junk < /proc/$$/schedstat; echo \"@@@ $time @@@ \" )'\n",
    "# Per suggestion by Erik Brandsberg.\n",
    "set -x\n",
    "# Various commands follow ..."
   ]
  },
  {
   "cell_type": "markdown",
   "metadata": {},
   "source": [
    "###### $PWD\n",
    "    Working directory (directory you are in at the time)\n",
    "    This is the analog to the pwd builtin command."
   ]
  },
  {
   "cell_type": "code",
   "execution_count": 1,
   "metadata": {
    "collapsed": false
   },
   "outputs": [
    {
     "name": "stdout",
     "output_type": "stream",
     "text": [
      "/home/liheyi/jupyter/bash/basics\r\n"
     ]
    }
   ],
   "source": [
    "echo $PWD"
   ]
  },
  {
   "cell_type": "markdown",
   "metadata": {},
   "source": [
    "###### $REPLY\n",
    "    The default value when a variable is not supplied to read. \n",
    "    Also applicable to select menus, but only supplies the item number of the variable chosen, \n",
    "    not the value of the variable itself."
   ]
  },
  {
   "cell_type": "code",
   "execution_count": 1,
   "metadata": {
    "collapsed": false
   },
   "outputs": [
    {
     "name": "stdout",
     "output_type": "stream",
     "text": [
      "#!/bin/bash\r\n",
      "# reply.sh\r\n",
      "\r\n",
      "# REPLY is the default value for a 'read' command.\r\n",
      "echo -n \"What is your favorite vegetable? \"\r\n",
      "read\r\n",
      "echo \"Your favorite vegetable is $REPLY.\"\r\n",
      "\r\n",
      "# REPLY holds the value of last \"read\" if and only if\r\n",
      "#+ no variable supplied.\r\n",
      "echo -n \"What is your favorite fruit? \"\r\n",
      "read fruit\r\n",
      "echo \"Your favorite fruit is $fruit.\"\r\n",
      "\r\n",
      "echo \"but...\"\r\n",
      "echo \"Value of \\$REPLY is still $REPLY.\"\r\n",
      "# $REPLY is still set to its previous value because\r\n",
      "#+ the variable $fruit absorbed the new \"read\" value.\r\n",
      "\r\n",
      "exit 0\r\n"
     ]
    }
   ],
   "source": [
    "cat reply.sh"
   ]
  },
  {
   "cell_type": "markdown",
   "metadata": {
    "collapsed": true
   },
   "source": [
    "###### $SECONDS\n",
    "    The number of seconds the script has been running."
   ]
  },
  {
   "cell_type": "code",
   "execution_count": 4,
   "metadata": {
    "collapsed": false
   },
   "outputs": [
    {
     "name": "stdout",
     "output_type": "stream",
     "text": [
      "#!/bin/bash\r\n",
      "\r\n",
      "TIME_LIMIT=5\r\n",
      "INTERVAL=1\r\n",
      "\r\n",
      "while [ \"$SECONDS\" -le \"$TIME_LIMIT\" ]\r\n",
      "do # $SECONDS is an internal shell variable.\r\n",
      "    if [ \"$SECONDS\" -eq 1 ]\r\n",
      "    then\r\n",
      "        units=second\r\n",
      "    else\r\n",
      "        units=seconds\r\n",
      "    fi\r\n",
      "    echo \"This script has been running $SECONDS $units.\"\r\n",
      "    # On a slow or overburdened machine, the script may skip a count\r\n",
      "    #+ every once in a while.\r\n",
      "    sleep $INTERVAL\r\n",
      "done\r\n",
      "\r\n",
      "echo -e \"\\a\" # Beep!\r\n",
      "exit 0\r\n"
     ]
    }
   ],
   "source": [
    "cat seconds.sh"
   ]
  },
  {
   "cell_type": "code",
   "execution_count": 5,
   "metadata": {
    "collapsed": false
   },
   "outputs": [
    {
     "name": "stdout",
     "output_type": "stream",
     "text": [
      "This script has been running 0 seconds.\r\n",
      "This script has been running 1 second.\r\n",
      "This script has been running 2 seconds.\r\n",
      "This script has been running 3 seconds.\r\n",
      "This script has been running 4 seconds.\r\n",
      "This script has been running 5 seconds.\r\n",
      "\u0007\r\n"
     ]
    }
   ],
   "source": [
    "./seconds.sh"
   ]
  },
  {
   "cell_type": "markdown",
   "metadata": {},
   "source": [
    "###### $SHELLOPTS\n",
    "    The list of enabled shell options, a readonly variable."
   ]
  },
  {
   "cell_type": "code",
   "execution_count": 7,
   "metadata": {
    "collapsed": false
   },
   "outputs": [
    {
     "name": "stdout",
     "output_type": "stream",
     "text": [
      "braceexpand\r\n",
      "emacs\r\n",
      "hashall\r\n",
      "histexpand\r\n",
      "history\r\n",
      "interactive-comments\r\n",
      "monitor\r\n"
     ]
    }
   ],
   "source": [
    "echo $SHELLOPTS | tr ':' '\\n'"
   ]
  },
  {
   "cell_type": "markdown",
   "metadata": {},
   "source": [
    "###### $SHLVL\n",
    "    Shell level, how deeply Bash is nested.\n",
    "    If, at the command-line, \\$SHLVL is 1, then in a script it will increment to 2.\n",
    "    \n",
    "    This variable is not affected by subshells. \n",
    "    Use $BASH_SUBSHELL when you need an indication of subshell nesting."
   ]
  },
  {
   "cell_type": "code",
   "execution_count": 9,
   "metadata": {
    "collapsed": false
   },
   "outputs": [
    {
     "name": "stdout",
     "output_type": "stream",
     "text": [
      "3\r\n"
     ]
    }
   ],
   "source": [
    "# I don't know why is 3?\n",
    "echo $SHLVL"
   ]
  },
  {
   "cell_type": "code",
   "execution_count": 10,
   "metadata": {
    "collapsed": false
   },
   "outputs": [
    {
     "name": "stdout",
     "output_type": "stream",
     "text": [
      "#!/bin/bash\r\n",
      "echo $SHLVL\r\n"
     ]
    }
   ],
   "source": [
    "cat shlvl.sh"
   ]
  },
  {
   "cell_type": "code",
   "execution_count": 11,
   "metadata": {
    "collapsed": false
   },
   "outputs": [
    {
     "name": "stdout",
     "output_type": "stream",
     "text": [
      "4\r\n"
     ]
    }
   ],
   "source": [
    "./shlvl.sh"
   ]
  },
  {
   "cell_type": "markdown",
   "metadata": {},
   "source": [
    "###### $TMOUT\n",
    "    If the \\$TMOUT environmental variable is set to a non-zero value time, \n",
    "    then the shell prompt will time out after \\$time seconds. \n",
    "    This will cause a logout.\n",
    "    \n",
    "    As of version 2.05b of Bash, \n",
    "    it is now possible to use $TMOUT in a script in combination with read."
   ]
  },
  {
   "cell_type": "code",
   "execution_count": 12,
   "metadata": {
    "collapsed": false
   },
   "outputs": [
    {
     "name": "stdout",
     "output_type": "stream",
     "text": [
      "\r\n"
     ]
    }
   ],
   "source": [
    "echo $TMOUT"
   ]
  },
  {
   "cell_type": "code",
   "execution_count": null,
   "metadata": {
    "collapsed": true
   },
   "outputs": [],
   "source": [
    "# Works in scripts for Bash, versions 2.05b and later.\n",
    "\n",
    "TMOUT=3      # Prompt times out at three seconds.\n",
    "\n",
    "echo \"What is your favorite song?\"\n",
    "echo \"Quickly now, you only have $TMOUT seconds to answer!\"\n",
    "read song\n",
    "\n",
    "if [ -z \"$song\" ]\n",
    "then\n",
    "    song=\"(no answer)\"\n",
    "fi\n",
    "\n",
    "echo \"Your favorite song is $song.\""
   ]
  },
  {
   "cell_type": "markdown",
   "metadata": {},
   "source": [
    "There are other, more complex, ways of implementing timed input in a script.   \n",
    "One alternative is to set up a timing loop to signal the script when it times out.   \n",
    "This also requires a signal handling routine to trap the interrupt generated by the timing loop."
   ]
  },
  {
   "cell_type": "markdown",
   "metadata": {},
   "source": [
    "#### Example 9-2. Timed Input"
   ]
  },
  {
   "cell_type": "code",
   "execution_count": 13,
   "metadata": {
    "collapsed": false
   },
   "outputs": [
    {
     "name": "stdout",
     "output_type": "stream",
     "text": [
      "#!/bin/bash\r\n",
      "# timed-input.sh\r\n",
      "# TMOUT=3 Also works, as of newer versions of Bash.\r\n",
      "\r\n",
      "TIMER_INTERRUPT=14\r\n",
      "TIMELIMIT=3        # Three seconds in this instance.\r\n",
      "                   # May be set to different value.\r\n",
      "\r\n",
      "PrintAnswer()\r\n",
      "{\r\n",
      "    if [ \"$answer\" = TIMEOUT ]\r\n",
      "    then\r\n",
      "        echo $answer\r\n",
      "    else           # Don't want to mix up the two instances.\r\n",
      "        echo \"Your favorite veggie is $answer\"\r\n",
      "        kill $!    # Kills no-longer-needed TimerOn function\r\n",
      "    \t           #+ running in background.\r\n",
      "    \t           # $! is PID of last job running in background.\r\n",
      "    fi\r\n",
      "}\r\n",
      "\r\n",
      "TimerOn()\r\n",
      "{\r\n",
      "    sleep $TIMELIMIT && kill -s 14 $$ &\r\n",
      "    # Waits 3 seconds, then sends sigalarm to script.\r\n",
      "}\r\n",
      "\r\n",
      "Int14Vector()\r\n",
      "{\r\n",
      "    answer=\"TIMEOUT\"\r\n",
      "    PrintAnswer\r\n",
      "    exit $TIMER_INTERRUPT\r\n",
      "}\r\n",
      "\r\n",
      "trap Int14Vector $TIMER_INTERRUPT\r\n",
      "# Timer interrupt (14) subverted for our purposes.\r\n",
      "\r\n",
      "echo \"What is your favorite vegetable \"\r\n",
      "TimerOn\r\n",
      "read answer\r\n",
      "PrintAnswer\r\n",
      "\r\n",
      "# Admittedly, this is a kludgy implementation of timed input.\r\n",
      "# However, the \"-t\" option to \"read\" simplifies this task.\r\n",
      "# See the \"t-out.sh\" script.\r\n",
      "# However, what about timing not just single user input,\r\n",
      "#+ but an entire script?\r\n",
      "# If you need something really elegant ...\r\n",
      "#+ consider writing the application in C or C++,\r\n",
      "#+ using appropriate library functions, such as 'alarm' and 'setitimer.'\r\n",
      "\r\n",
      "exit 0\r\n"
     ]
    }
   ],
   "source": [
    "cat timed-input.sh"
   ]
  },
  {
   "cell_type": "markdown",
   "metadata": {},
   "source": [
    "###### An alternative is using stty."
   ]
  },
  {
   "cell_type": "markdown",
   "metadata": {},
   "source": [
    "#### Example 9-3. Once more, timed input"
   ]
  },
  {
   "cell_type": "code",
   "execution_count": 14,
   "metadata": {
    "collapsed": false
   },
   "outputs": [
    {
     "name": "stdout",
     "output_type": "stream",
     "text": [
      "#!/bin/bash\r\n",
      "# timeout.sh\r\n",
      "\r\n",
      "# Written by Stephane Chazelas,\r\n",
      "#+ and modified by the document author.\r\n",
      "\r\n",
      "INTERVAL=5                 # timeout interval\r\n",
      "timedout_read() {\r\n",
      "    timeout=$1\r\n",
      "    varname=$2\r\n",
      "    old_tty_settings=`stty -g`\r\n",
      "    stty -icanon min 0 time ${timeout}0\r\n",
      "    eval read $varname     # or just read $varname\r\n",
      "    stty \"$old_tty_settings\"\r\n",
      "    # See man page for \"stty.\"\r\n",
      "}\r\n",
      "\r\n",
      "echo; echo -n \"What's your name? Quick! \"\r\n",
      "timedout_read $INTERVAL your_name\r\n",
      "\r\n",
      "# This may not work on every terminal type.\r\n",
      "# The maximum timeout depends on the terminal.\r\n",
      "#+ (it is often 25.5 seconds).\r\n",
      "\r\n",
      "if [ ! -z \"$your_name\" ]   # If name input before timeout ...\r\n",
      "then\r\n",
      "    echo \"Your name is $your_name.\"\r\n",
      "else\r\n",
      "    echo \"Timed out.\"\r\n",
      "fi\r\n",
      "\r\n",
      "# The behavior of this script differs somewhat from \"timed-input.sh.\"\r\n",
      "# At each keystroke, the counter resets.\r\n",
      "\r\n",
      "exit 0\r\n"
     ]
    }
   ],
   "source": [
    "cat timeout.sh"
   ]
  },
  {
   "cell_type": "markdown",
   "metadata": {},
   "source": [
    "###### Perhaps the simplest method is using the -t option to read."
   ]
  },
  {
   "cell_type": "markdown",
   "metadata": {},
   "source": [
    "#### Example 9-4. Timed read"
   ]
  },
  {
   "cell_type": "code",
   "execution_count": 15,
   "metadata": {
    "collapsed": false
   },
   "outputs": [
    {
     "name": "stdout",
     "output_type": "stream",
     "text": [
      "#!/bin/bash\r\n",
      "\r\n",
      "# t-out.sh [time-out]\r\n",
      "# Inspired by a suggestion from \"syngin seven\" (thanks).\r\n",
      "\r\n",
      "TIMELIMIT=4           # 4 seconds\r\n",
      "\r\n",
      "read -t $TIMELIMIT variable <&1\r\n",
      "#                           ^^^\r\n",
      "# In this instance, \"<&1\" is needed for Bash 1.x and 2.x,\r\n",
      "# but unnecessary for Bash 3+.\r\n",
      "\r\n",
      "if [ -z \"$variable\" ] # Is null?\r\n",
      "then\r\n",
      "    echo \"Timed out, variable still unset.\"\r\n",
      "else\r\n",
      "    echo \"variable = $variable\"\r\n",
      "fi\r\n",
      "\r\n",
      "exit 0\r\n"
     ]
    }
   ],
   "source": [
    "cat t-out.sh"
   ]
  },
  {
   "cell_type": "markdown",
   "metadata": {},
   "source": [
    "###### $UID\n",
    "    User ID number\n",
    "    Current user's user identification number, as recorded in /etc/passwd\n",
    "    \n",
    "    This is the current user's real id, even if she has temporarily assumed another identity through su. \n",
    "    \\$UID is a readonly variable, not subject to change from the command line or within a script, \n",
    "    and is the counterpart to the id builtin."
   ]
  },
  {
   "cell_type": "code",
   "execution_count": 18,
   "metadata": {
    "collapsed": false
   },
   "outputs": [
    {
     "name": "stdout",
     "output_type": "stream",
     "text": [
      "1000\r\n"
     ]
    }
   ],
   "source": [
    "echo $UID"
   ]
  },
  {
   "cell_type": "code",
   "execution_count": 19,
   "metadata": {
    "collapsed": false
   },
   "outputs": [
    {
     "name": "stdout",
     "output_type": "stream",
     "text": [
      "liheyi:x:1000:1000:liheyi,,,:/home/liheyi:/bin/bash\r\n"
     ]
    }
   ],
   "source": [
    "grep 1000 /etc/passwd"
   ]
  },
  {
   "cell_type": "markdown",
   "metadata": {},
   "source": [
    "#### Example 9-5. Am I root?"
   ]
  },
  {
   "cell_type": "code",
   "execution_count": 16,
   "metadata": {
    "collapsed": false
   },
   "outputs": [
    {
     "name": "stdout",
     "output_type": "stream",
     "text": [
      "#!/bin/bash\r\n",
      "# am-i-root.sh: Am I root or not?\r\n",
      "\r\n",
      "ROOT_UID=0         # Root has $UID 0.\r\n",
      "\r\n",
      "if [ \"$UID\" -eq \"$ROOT_UID\" ]   # Will the real \"root\" please stand up?\r\n",
      "then\r\n",
      "    echo \"You are root.\"\r\n",
      "else\r\n",
      "    echo \"You are just an ordinary user (but mom loves you just the same).\"\r\n",
      "fi\r\n",
      "\r\n",
      "exit 0\r\n",
      "\r\n",
      "# An alternate method of getting to the root of matters:\r\n",
      "\r\n",
      "ROOTUSER_NAME=root\r\n",
      "\r\n",
      "username=`id -nu`   # Or... username=`whoami`\r\n",
      "if [ \"$username\" = \"$ROOTUSER_NAME\" ]\r\n",
      "then\r\n",
      "    echo \"Rooty, toot, toot. You are root.\"\r\n",
      "else\r\n",
      "    echo \"You are just a regular fella.\"\r\n",
      "fi\r\n"
     ]
    }
   ],
   "source": [
    "cat am-i-root.sh"
   ]
  },
  {
   "cell_type": "code",
   "execution_count": 17,
   "metadata": {
    "collapsed": false
   },
   "outputs": [
    {
     "name": "stdout",
     "output_type": "stream",
     "text": [
      "You are just an ordinary user (but mom loves you just the same).\r\n"
     ]
    }
   ],
   "source": [
    "./am-i-root.sh"
   ]
  },
  {
   "cell_type": "markdown",
   "metadata": {},
   "source": [
    "The variables \\$ENV, \\$LOGNAME, \\$MAIL, \\$TERM, \\$USER, and \\$USERNAME are not Bash builtins.   \n",
    "These are, however, often set as environmental variables in one of the Bash or login startup files.   \n",
    "$SHELL, the name of the user's login shell, may be set from /etc/passwd or in an \"init\" script, and it is likewise not a Bash builtin."
   ]
  },
  {
   "cell_type": "code",
   "execution_count": 20,
   "metadata": {
    "collapsed": false
   },
   "outputs": [
    {
     "name": "stdout",
     "output_type": "stream",
     "text": [
      "liheyi\r\n"
     ]
    }
   ],
   "source": [
    "echo $LOGNAME"
   ]
  },
  {
   "cell_type": "code",
   "execution_count": 21,
   "metadata": {
    "collapsed": false
   },
   "outputs": [
    {
     "name": "stdout",
     "output_type": "stream",
     "text": [
      "/bin/bash\r\n"
     ]
    }
   ],
   "source": [
    "echo $SHELL"
   ]
  },
  {
   "cell_type": "code",
   "execution_count": 22,
   "metadata": {
    "collapsed": false
   },
   "outputs": [
    {
     "name": "stdout",
     "output_type": "stream",
     "text": [
      "xterm\r\n"
     ]
    }
   ],
   "source": [
    "echo $TERM"
   ]
  },
  {
   "cell_type": "code",
   "execution_count": 24,
   "metadata": {
    "collapsed": false
   },
   "outputs": [
    {
     "name": "stdout",
     "output_type": "stream",
     "text": [
      "/var/mail/liheyi\r\n"
     ]
    }
   ],
   "source": [
    "echo $MAIL"
   ]
  },
  {
   "cell_type": "code",
   "execution_count": 25,
   "metadata": {
    "collapsed": false
   },
   "outputs": [
    {
     "name": "stdout",
     "output_type": "stream",
     "text": [
      "liheyi\r\n"
     ]
    }
   ],
   "source": [
    "echo $USER"
   ]
  },
  {
   "cell_type": "markdown",
   "metadata": {},
   "source": [
    "#### B.Positional Parameters"
   ]
  },
  {
   "cell_type": "markdown",
   "metadata": {
    "collapsed": true
   },
   "source": [
    "###### $0, $1, $2, etc.\n",
    "    Positional parameters, passed from command line to script, passed to a function, or set to a variable"
   ]
  },
  {
   "cell_type": "code",
   "execution_count": 3,
   "metadata": {
    "collapsed": false
   },
   "outputs": [
    {
     "name": "stdout",
     "output_type": "stream",
     "text": [
      "#!/bin/bash\r\n",
      "\r\n",
      "# Call this script with at least 10 parameters, for example\r\n",
      "# ./position_para.sh 1 2 3 4 5 6 7 8 9 10\r\n",
      "MINPARAMS=10\r\n",
      "\r\n",
      "echo \"The name of this script is \\\"$0\\\".\"\r\n",
      "# Adds ./ for current directory\r\n",
      "echo \"The name of this script is \\\"`basename $0`\\\".\"\r\n",
      "# Strips out path name info (see 'basename')\r\n",
      "\r\n",
      "if [ -n \"$1\" ]                # Tested variable is quoted.\r\n",
      "then\r\n",
      "    echo \"Parameter #1 is $1\" # Need quotes to escape #\r\n",
      "fi\r\n",
      "\r\n",
      "if [ -n \"$2\" ]\r\n",
      "then\r\n",
      "    echo \"Parameter #2 is $2\"\r\n",
      "fi\r\n",
      "\r\n",
      "if [ -n \"$3\" ]\r\n",
      "then\r\n",
      "    echo \"Parameter #3 is $3\"\r\n",
      "fi\r\n",
      "\r\n",
      "if [ -n \"${10}\" ]             # Parameters > $9 must be enclosed in {brackets}.\r\n",
      "then\r\n",
      "    echo \"Parameter #10 is ${10}\"\r\n",
      "fi\r\n",
      "\r\n",
      "echo \"-----------------------------------\"\r\n",
      "echo \"All the command-line parameters are: \"$*\"\"\r\n",
      "if [ $# -lt \"$MINPARAMS\" ]\r\n",
      "then\r\n",
      "    echo \"This script needs at least $MINPARAMS command-line arguments!\"\r\n",
      "fi\r\n",
      "\r\n",
      "exit 0\r\n"
     ]
    }
   ],
   "source": [
    "cat position_para.sh"
   ]
  },
  {
   "cell_type": "code",
   "execution_count": 4,
   "metadata": {
    "collapsed": false
   },
   "outputs": [
    {
     "name": "stdout",
     "output_type": "stream",
     "text": [
      "The name of this script is \"./position_para.sh\".\r\n",
      "The name of this script is \"position_para.sh\".\r\n",
      "Parameter #1 is 1\r\n",
      "Parameter #2 is 2\r\n",
      "Parameter #3 is 3\r\n",
      "Parameter #10 is 10\r\n",
      "-----------------------------------\r\n",
      "All the command-line parameters are: 1 2 3 4 5 6 7 8 9 10\r\n"
     ]
    }
   ],
   "source": [
    "./position_para.sh 1 2 3 4 5 6 7 8 9 10"
   ]
  },
  {
   "cell_type": "markdown",
   "metadata": {},
   "source": [
    "###### $#\n",
    "    Number of command-line arguments or positional parameters"
   ]
  },
  {
   "cell_type": "markdown",
   "metadata": {},
   "source": [
    "###### $*\n",
    "    All of the positional parameters, seen as a single word\n",
    "    \"\\$*\" must be quoted."
   ]
  },
  {
   "cell_type": "markdown",
   "metadata": {},
   "source": [
    "###### $@\n",
    "    Same as \\$*, but each parameter is a quoted string, \n",
    "    that is,the parameters are passed on intact,without interpretation or expansion. \n",
    "    This means, mong other things,that each parameter in the argument list is seen as a separate word.\n",
    "    Of course, \"\\$@\" should be quoted."
   ]
  },
  {
   "cell_type": "markdown",
   "metadata": {},
   "source": [
    "#### Example 9-6. arglist: Listing arguments with $* and $@"
   ]
  },
  {
   "cell_type": "code",
   "execution_count": 5,
   "metadata": {
    "collapsed": false
   },
   "outputs": [
    {
     "name": "stdout",
     "output_type": "stream",
     "text": [
      "#!/bin/bash\r\n",
      "# arglist.sh\r\n",
      "# Invoke this script with several arguments, such as \"one two three\" ...\r\n",
      "\r\n",
      "E_BADARGS=85\r\n",
      "\r\n",
      "if [ ! -n \"$1\" ]\r\n",
      "then\r\n",
      "    echo \"Usage: `basename $0` argument1 argument2 etc.\"\r\n",
      "    exit $E_BADARGS\r\n",
      "fi\r\n",
      "\r\n",
      "index=1            # Initialize count.\r\n",
      "\r\n",
      "echo \"Listing args with \\\"\\$*\\\":\"\r\n",
      "for arg in \"$*\"    # Doesn't work properly if \"$*\" isn't quoted.\r\n",
      "do\r\n",
      "    echo \"Arg #$index = $arg\"\r\n",
      "    let \"index+=1\"\r\n",
      "done               # $* sees all arguments as single word.\r\n",
      "echo \"Entire arg list seen as single word.\"\r\n",
      "echo\r\n",
      "\r\n",
      "index=1            # Reset count.\r\n",
      "                   # What happens if you forget to do this?\r\n",
      "echo \"Listing args with \\\"\\$@\\\":\"\r\n",
      "for arg in \"$@\"\r\n",
      "do\r\n",
      "    echo \"Arg #$index = $arg\"\r\n",
      "    let \"index+=1\"\r\n",
      "done               # $@ sees arguments as separate words.\r\n",
      "echo \"Arg list seen as separate words.\"\r\n",
      "echo\r\n",
      "\r\n",
      "index=1            # Reset count.\r\n",
      "echo \"Listing args with \\$* (unquoted):\"\r\n",
      "for arg in $*\r\n",
      "do\r\n",
      "    echo \"Arg #$index = $arg\"\r\n",
      "    let \"index+=1\"\r\n",
      "done               # Unquoted $* sees arguments as separate words.\r\n",
      "echo \"Arg list seen as separate words.\"\r\n",
      "\r\n",
      "exit 0\r\n"
     ]
    }
   ],
   "source": [
    "cat arglist.sh"
   ]
  },
  {
   "cell_type": "code",
   "execution_count": 5,
   "metadata": {
    "collapsed": false
   },
   "outputs": [
    {
     "name": "stdout",
     "output_type": "stream",
     "text": [
      "Listing args with \"$*\":\r\n",
      "Arg #1 = one two three\r\n",
      "Entire arg list seen as single word.\r\n",
      "\r\n",
      "Listing args with \"$@\":\r\n",
      "Arg #1 = one\r\n",
      "Arg #2 = two\r\n",
      "Arg #3 = three\r\n",
      "Arg list seen as separate words.\r\n",
      "\r\n",
      "Listing args with $* (unquoted):\r\n",
      "Arg #1 = one\r\n",
      "Arg #2 = two\r\n",
      "Arg #3 = three\r\n",
      "Arg list seen as separate words.\r\n"
     ]
    }
   ],
   "source": [
    "./arglist.sh one two three"
   ]
  },
  {
   "cell_type": "markdown",
   "metadata": {},
   "source": [
    "Following a shift, the \\$@ holds the remaining command-line parameters,   \n",
    "lacking the previous $1, which was lost."
   ]
  },
  {
   "cell_type": "code",
   "execution_count": 6,
   "metadata": {
    "collapsed": false
   },
   "outputs": [
    {
     "name": "stdout",
     "output_type": "stream",
     "text": [
      "#!/bin/bash\r\n",
      "# Invoke with ./scriptname.sh 1 2 3 4 5\r\n",
      "# Each \"shift\" loses parameter $1.\r\n",
      "# \"$@\" then contains the remaining parameters.\r\n",
      "echo \"$@\" # 1 2 3 4 5\r\n",
      "shift\r\n",
      "echo \"$@\" # 2 3 4 5\r\n",
      "shift\r\n",
      "echo \"$@\" # 3 4 5\r\n"
     ]
    }
   ],
   "source": [
    "cat scriptname.sh"
   ]
  },
  {
   "cell_type": "code",
   "execution_count": 7,
   "metadata": {
    "collapsed": false
   },
   "outputs": [
    {
     "name": "stdout",
     "output_type": "stream",
     "text": [
      "1 2 3 4 5\r\n",
      "2 3 4 5\r\n",
      "3 4 5\r\n"
     ]
    }
   ],
   "source": [
    "./scriptname.sh 1 2 3 4 5"
   ]
  },
  {
   "cell_type": "markdown",
   "metadata": {},
   "source": [
    "The \\$@ special parameter finds use as a tool for filtering input into shell scripts.  \n",
    "The cat \"\\$@\" construction accepts input to a script either from stdin or from files given as parameters to the script."
   ]
  },
  {
   "cell_type": "markdown",
   "metadata": {},
   "source": [
    "The \\$* and \\$@ parameters sometimes display inconsistent and puzzling behavior,\n",
    "depending on the setting of $IFS."
   ]
  },
  {
   "cell_type": "markdown",
   "metadata": {},
   "source": [
    "#### Example 9-7. Inconsistent \\$* and $@ behavior"
   ]
  },
  {
   "cell_type": "code",
   "execution_count": 8,
   "metadata": {
    "collapsed": false
   },
   "outputs": [
    {
     "name": "stdout",
     "output_type": "stream",
     "text": [
      "#!/bin/bash\r\n",
      "\r\n",
      "# Erratic behavior of the \"$*\" and \"$@\" internal Bash variables,\r\n",
      "#+ depending on whether or not they are quoted.\r\n",
      "# Demonstrates inconsistent handling of word splitting and linefeeds.\r\n",
      "\r\n",
      "set -- \"First one\" \"second\" \"third:one\" \"\" \"Fifth: :one\"\r\n",
      "# Setting the script arguments, $1, $2, $3, etc.\r\n",
      "\r\n",
      "echo 'IFS unchanged, using \"$*\"'\r\n",
      "c=0\r\n",
      "for i in \"$*\"                   # quoted\r\n",
      "do\r\n",
      "\techo \"$((c+=1)): [$i]\"      # This line remains the same in every instance.\r\n",
      "                                # Echo args.\r\n",
      "done\r\n",
      "\r\n",
      "echo '--------------------'\r\n",
      "echo 'IFS unchanged, using $*'\r\n",
      "c=0\r\n",
      "for i in $*                     # unquoted\r\n",
      "do\r\n",
      "     echo \"$((c+=1)): [$i]\"\r\n",
      "done\r\n",
      "\r\n",
      "echo '--------------------'\r\n",
      "echo 'IFS unchanged, using \"$@\"'\r\n",
      "c=0\r\n",
      "for i in \"$@\"\r\n",
      "do\r\n",
      "    echo \"$((c+=1)): [$i]\"\r\n",
      "done\r\n",
      "\r\n",
      "echo '--------------------'\r\n",
      "echo 'IFS unchanged, using $@'\r\n",
      "c=0\r\n",
      "for i in $@\r\n",
      "do\r\n",
      "\techo \"$((c+=1)): [$i]\"\r\n",
      "done\r\n",
      "\r\n",
      "echo '--------------------'\r\n",
      "IFS=:\r\n",
      "echo 'IFS=\":\", using \"$*\"'\r\n",
      "c=0\r\n",
      "for i in \"$*\"\r\n",
      "do\r\n",
      "\techo \"$((c+=1)): [$i]\"\r\n",
      "done\r\n",
      "\r\n",
      "echo '--------------------'\r\n",
      "echo 'IFS=\":\", using $*'\r\n",
      "c=0\r\n",
      "for i in $*\r\n",
      "do\r\n",
      "\techo \"$((c+=1)): [$i]\"\r\n",
      "done\r\n",
      "\r\n",
      "echo '--------------------'\r\n",
      "var=$*\r\n",
      "echo 'IFS=\":\", using \"$var\" (var=$*)'\r\n",
      "c=0\r\n",
      "for i in \"$var\"\r\n",
      "do\r\n",
      "\techo \"$((c+=1)): [$i]\"\r\n",
      "done\r\n",
      "\r\n",
      "echo '--------------------'\r\n",
      "echo 'IFS=\":\", using $var (var=$*)'\r\n",
      "c=0\r\n",
      "for i in $var\r\n",
      "do\r\n",
      "\techo \"$((c+=1)): [$i]\"\r\n",
      "done\r\n",
      "\r\n",
      "echo '--------------------'\r\n",
      "var=\"$*\"\r\n",
      "echo 'IFS=\":\", using $var (var=\"$*\")'\r\n",
      "c=0\r\n",
      "for i in $var\r\n",
      "do\r\n",
      "\techo \"$((c+=1)): [$i]\"\r\n",
      "done\r\n",
      "\r\n",
      "echo '--------------------'\r\n",
      "echo 'IFS=\":\", using \"$var\" (var=\"$*\")'\r\n",
      "c=0\r\n",
      "for i in \"$var\"\r\n",
      "do\r\n",
      "\techo \"$((c+=1)): [$i]\"\r\n",
      "done\r\n",
      "\r\n",
      "echo '--------------------'\r\n",
      "echo 'IFS=\":\", using \"$@\"'\r\n",
      "c=0\r\n",
      "for i in \"$@\"\r\n",
      "do\r\n",
      "\techo \"$((c+=1)): [$i]\"\r\n",
      "done\r\n",
      "\r\n",
      "echo '--------------------'\r\n",
      "echo 'IFS=\":\", using $@'\r\n",
      "c=0\r\n",
      "for i in $@\r\n",
      "do\r\n",
      "\techo \"$((c+=1)): [$i]\"\r\n",
      "done\r\n",
      "\r\n",
      "echo '--------------------'\r\n",
      "var=$@\r\n",
      "echo 'IFS=\":\", using $var (var=$@)'\r\n",
      "c=0\r\n",
      "for i in $var\r\n",
      "do\r\n",
      "\techo \"$((c+=1)): [$i]\"\r\n",
      "done\r\n",
      "\r\n",
      "echo '--------------------'\r\n",
      "echo 'IFS=\":\", using \"$var\" (var=$@)'\r\n",
      "c=0\r\n",
      "for i in \"$var\"\r\n",
      "do\r\n",
      "\techo \"$((c+=1)): [$i]\"\r\n",
      "done\r\n",
      "\r\n",
      "echo '--------------------'\r\n",
      "var=\"$@\"\r\n",
      "echo 'IFS=\":\", using \"$var\" (var=\"$@\")'\r\n",
      "c=0\r\n",
      "for i in \"$var\"\r\n",
      "do\r\n",
      "\techo \"$((c+=1)): [$i]\"\r\n",
      "done\r\n",
      "\r\n",
      "echo '--------------------'\r\n",
      "echo 'IFS=\":\", using $var (var=\"$@\")'\r\n",
      "c=0\r\n",
      "for i in $var\r\n",
      "do\r\n",
      "\techo \"$((c+=1)): [$i]\"\r\n",
      "done\r\n",
      "\r\n",
      "exit 0\r\n"
     ]
    }
   ],
   "source": [
    "cat differ.sh"
   ]
  },
  {
   "cell_type": "code",
   "execution_count": 9,
   "metadata": {
    "collapsed": false
   },
   "outputs": [
    {
     "name": "stdout",
     "output_type": "stream",
     "text": [
      "IFS unchanged, using \"$*\"\r\n",
      "1: [First one second third:one  Fifth: :one]\r\n",
      "--------------------\r\n",
      "IFS unchanged, using $*\r\n",
      "1: [First]\r\n",
      "2: [one]\r\n",
      "3: [second]\r\n",
      "4: [third:one]\r\n",
      "5: [Fifth:]\r\n",
      "6: [:one]\r\n",
      "--------------------\r\n",
      "IFS unchanged, using \"$@\"\r\n",
      "1: [First one]\r\n",
      "2: [second]\r\n",
      "3: [third:one]\r\n",
      "4: []\r\n",
      "5: [Fifth: :one]\r\n",
      "--------------------\r\n",
      "IFS unchanged, using $@\r\n",
      "1: [First]\r\n",
      "2: [one]\r\n",
      "3: [second]\r\n",
      "4: [third:one]\r\n",
      "5: [Fifth:]\r\n",
      "6: [:one]\r\n",
      "--------------------\r\n",
      "IFS=\":\", using \"$*\"\r\n",
      "1: [First one:second:third:one::Fifth: :one]\r\n",
      "--------------------\r\n",
      "IFS=\":\", using $*\r\n",
      "1: [First one]\r\n",
      "2: [second]\r\n",
      "3: [third]\r\n",
      "4: [one]\r\n",
      "5: []\r\n",
      "6: [Fifth]\r\n",
      "7: [ ]\r\n",
      "8: [one]\r\n",
      "--------------------\r\n",
      "IFS=\":\", using \"$var\" (var=$*)\r\n",
      "1: [First one:second:third:one::Fifth: :one]\r\n",
      "--------------------\r\n",
      "IFS=\":\", using $var (var=$*)\r\n",
      "1: [First one]\r\n",
      "2: [second]\r\n",
      "3: [third]\r\n",
      "4: [one]\r\n",
      "5: []\r\n",
      "6: [Fifth]\r\n",
      "7: [ ]\r\n",
      "8: [one]\r\n",
      "--------------------\r\n",
      "IFS=\":\", using $var (var=\"$*\")\r\n",
      "1: [First one]\r\n",
      "2: [second]\r\n",
      "3: [third]\r\n",
      "4: [one]\r\n",
      "5: []\r\n",
      "6: [Fifth]\r\n",
      "7: [ ]\r\n",
      "8: [one]\r\n",
      "--------------------\r\n",
      "IFS=\":\", using \"$var\" (var=\"$*\")\r\n",
      "1: [First one:second:third:one::Fifth: :one]\r\n",
      "--------------------\r\n",
      "IFS=\":\", using \"$@\"\r\n",
      "1: [First one]\r\n",
      "2: [second]\r\n",
      "3: [third:one]\r\n",
      "4: []\r\n",
      "5: [Fifth: :one]\r\n",
      "--------------------\r\n",
      "IFS=\":\", using $@\r\n",
      "1: [First one]\r\n",
      "2: [second]\r\n",
      "3: [third]\r\n",
      "4: [one]\r\n",
      "5: []\r\n",
      "6: [Fifth]\r\n",
      "7: [ ]\r\n",
      "8: [one]\r\n",
      "--------------------\r\n",
      "IFS=\":\", using $var (var=$@)\r\n",
      "1: [First one second third]\r\n",
      "2: [one  Fifth]\r\n",
      "3: [ ]\r\n",
      "4: [one]\r\n",
      "--------------------\r\n",
      "IFS=\":\", using \"$var\" (var=$@)\r\n",
      "1: [First one second third:one  Fifth: :one]\r\n",
      "--------------------\r\n",
      "IFS=\":\", using \"$var\" (var=\"$@\")\r\n",
      "1: [First one second third:one  Fifth: :one]\r\n",
      "--------------------\r\n",
      "IFS=\":\", using $var (var=\"$@\")\r\n",
      "1: [First one second third]\r\n",
      "2: [one  Fifth]\r\n",
      "3: [ ]\r\n",
      "4: [one]\r\n"
     ]
    }
   ],
   "source": [
    "./differ.sh"
   ]
  },
  {
   "cell_type": "markdown",
   "metadata": {},
   "source": [
    "###### The \\$@ and \\$* parameters differ only when between double quotes."
   ]
  },
  {
   "cell_type": "markdown",
   "metadata": {},
   "source": [
    "#### Example 9-8. \\$* and \\$@ when $IFS is empty"
   ]
  },
  {
   "cell_type": "code",
   "execution_count": 10,
   "metadata": {
    "collapsed": false
   },
   "outputs": [
    {
     "name": "stdout",
     "output_type": "stream",
     "text": [
      "#!/bin/bash\r\n",
      "\r\n",
      "# If $IFS set, but empty,\r\n",
      "#+ then \"$*\" and \"$@\" do not echo positional params as expected.\r\n",
      "\r\n",
      "mecho ()     # Echo positional parameters.\r\n",
      "{\r\n",
      "    echo \"$1,$2,$3\";\r\n",
      "}\r\n",
      "\r\n",
      "IFS=\"\"       # Set, but empty.\r\n",
      "set a b c    # Positional parameters.\r\n",
      "\r\n",
      "mecho \"$*\"   # abc,,\r\n",
      "             #    ^^\r\n",
      "\r\n",
      "mecho $*     # a,b,c\r\n",
      "mecho $@     # a,b,c\r\n",
      "mecho \"$@\"   # a,b,c\r\n",
      "\r\n",
      "# The behavior of $* and $@ when $IFS is empty depends\r\n",
      "#+ on which Bash or sh version being run.\r\n",
      "# It is therefore inadvisable to depend on this \"feature\" in a script.\r\n",
      "\r\n",
      "exit 0\r\n"
     ]
    }
   ],
   "source": [
    "cat ifs_empty.sh"
   ]
  },
  {
   "cell_type": "code",
   "execution_count": 11,
   "metadata": {
    "collapsed": false
   },
   "outputs": [
    {
     "name": "stdout",
     "output_type": "stream",
     "text": [
      "abc,,\r\n",
      "a,b,c\r\n",
      "a,b,c\r\n",
      "a,b,c\r\n"
     ]
    }
   ],
   "source": [
    "./ifs_empty.sh"
   ]
  },
  {
   "cell_type": "markdown",
   "metadata": {},
   "source": [
    "#### C.Other Special Parameters"
   ]
  },
  {
   "cell_type": "markdown",
   "metadata": {},
   "source": [
    "###### $-\n",
    "    Flags passed to script (using set). "
   ]
  },
  {
   "cell_type": "markdown",
   "metadata": {},
   "source": [
    "This was originally a ksh construct adopted into Bash,   \n",
    "and unfortunately it does not seem to work reliably in Bash scripts.   \n",
    "One possible use for it is to have a script self-test whether it is interactive."
   ]
  },
  {
   "cell_type": "markdown",
   "metadata": {},
   "source": [
    "###### $!\n",
    "    PID (process ID) of last job run in background"
   ]
  },
  {
   "cell_type": "code",
   "execution_count": null,
   "metadata": {
    "collapsed": true
   },
   "outputs": [],
   "source": [
    "LOG=$0.log\n",
    "\n",
    "COMMAND1=\"sleep 100\"\n",
    "\n",
    "echo \"Logging PIDs background commands for script: $0\" >> \"$LOG\"\n",
    "# So they can be monitored, and killed as necessary.\n",
    "echo >> \"$LOG\"\n",
    "\n",
    "# Logging commands.\n",
    "echo -n \"PID of \\\"$COMMAND1\\\": \" >> \"$LOG\"\n",
    "${COMMAND1} &\n",
    "echo $! >> \"$LOG\"\n",
    "# PID of \"sleep 100\": 1506"
   ]
  },
  {
   "cell_type": "markdown",
   "metadata": {},
   "source": [
    "Using $! for job control:"
   ]
  },
  {
   "cell_type": "code",
   "execution_count": null,
   "metadata": {
    "collapsed": true
   },
   "outputs": [],
   "source": [
    "possibly_hanging_job & { sleep ${TIMEOUT}; eval 'kill -9 $!' &> /dev/null; }\n",
    "# Forces completion of an ill-behaved program.\n",
    "# Useful, for example, in init scripts."
   ]
  },
  {
   "cell_type": "markdown",
   "metadata": {},
   "source": [
    "Or, alternately:"
   ]
  },
  {
   "cell_type": "code",
   "execution_count": null,
   "metadata": {
    "collapsed": true
   },
   "outputs": [],
   "source": [
    "# This example by Matthew Sage.\n",
    "# Used with permission.\n",
    "\n",
    "TIMEOUT=30   # Timeout value in seconds\n",
    "count=0\n",
    "\n",
    "possibly_hanging_job & {\n",
    "    while ((count < TIMEOUT )); do\n",
    "        eval '[ ! -d \"/proc/$!\" ] && ((count = TIMEOUT))'\n",
    "        # /proc is where information about running processes is found.\n",
    "        # \"-d\" tests whether it exists (whether directory exists).\n",
    "        # So, we're waiting for the job in question to show up.\n",
    "        ((count++))\n",
    "        sleep 1\n",
    "    done\n",
    "    eval '[ -d \"/proc/$!\" ] && kill -15 $!'\n",
    "    # If the hanging job is running, kill it\n",
    "}\n",
    "\n",
    "# However, this may not not work as specified if another process\n",
    "#+ begins to run after the \"hanging_job\" . . .\n",
    "# In such a case, the wrong job may be killed.\n",
    "# Ariel Meragelman suggests the following fix.\n",
    "TIMEOUT=30\n",
    "count=0\n",
    "\n",
    "# Timeout value in seconds\n",
    "possibly_hanging_job & {\n",
    "while ((count < TIMEOUT )); do\n",
    "    eval '[ ! -d \"/proc/$lastjob\" ] && ((count = TIMEOUT))'\n",
    "    lastjob=$!\n",
    "    ((count++))\n",
    "    sleep 1\n",
    "done\n",
    "eval '[ -d \"/proc/$lastjob\" ] && kill -15 $lastjob'\n",
    "}\n",
    "\n",
    "exit 0"
   ]
  },
  {
   "cell_type": "markdown",
   "metadata": {},
   "source": [
    "###### $_\n",
    "    Special variable set to final argument of previous command executed."
   ]
  },
  {
   "cell_type": "markdown",
   "metadata": {},
   "source": [
    "#### Example 9-9. Underscore variable"
   ]
  },
  {
   "cell_type": "code",
   "execution_count": null,
   "metadata": {
    "collapsed": true
   },
   "outputs": [],
   "source": [
    "#!/bin/bash\n",
    "\n",
    "echo $_            # /bin/bash\n",
    "                   # Just called /bin/bash to run the script.\n",
    "                   # Note that this will vary according to\n",
    "                   #+ how the script is invoked.\n",
    "               \n",
    "du >/dev/null      # So no output from command.\n",
    "echo $_            # du\n",
    "\n",
    "ls -al >/dev/null  # So no output from command.\n",
    "echo $_            # -al (last argument)\n",
    "\n",
    ":\n",
    "echo $_            #  :"
   ]
  },
  {
   "cell_type": "markdown",
   "metadata": {},
   "source": [
    "###### $?\n",
    "    Exit status of a command, function, or the script itself "
   ]
  },
  {
   "cell_type": "markdown",
   "metadata": {},
   "source": [
    "###### $$\n",
    "    Process ID (PID) of the script itself.\n",
    "    The \\$$ variable often finds use in scripts to construct \"unique\" temp file names.\n",
    "    This is usually simpler than invoking mktemp."
   ]
  },
  {
   "cell_type": "markdown",
   "metadata": {},
   "source": [
    "### Typing variables: declare or typeset"
   ]
  },
  {
   "cell_type": "markdown",
   "metadata": {
    "collapsed": true
   },
   "source": [
    "The declare or typeset builtins, which are exact synonyms, permit modifying the properties of variables.   \n",
    "This is a very weak form of the typing available in certain programming languages.   \n",
    "The declare command is specific to version 2 or later of Bash.   \n",
    "The typeset command also works in ksh scripts."
   ]
  },
  {
   "cell_type": "markdown",
   "metadata": {},
   "source": [
    "#### A.declare/typeset options"
   ]
  },
  {
   "cell_type": "markdown",
   "metadata": {},
   "source": [
    "###### -r readonly\n",
    "    (declare -r var1 works the same as readonly var1)\n",
    "    This is the rough equivalent of the C const type qualifier. \n",
    "    An attempt to change the value of a readonly variable fails with an error message."
   ]
  },
  {
   "cell_type": "code",
   "execution_count": 1,
   "metadata": {
    "collapsed": false
   },
   "outputs": [
    {
     "name": "stdout",
     "output_type": "stream",
     "text": [
      "var1 = 1\r\n"
     ]
    }
   ],
   "source": [
    "declare -r var1=1\n",
    "echo \"var1 = $var1\""
   ]
  },
  {
   "cell_type": "code",
   "execution_count": 2,
   "metadata": {
    "collapsed": false
   },
   "outputs": [
    {
     "name": "stdout",
     "output_type": "stream",
     "text": [
      "bash: var1: readonly variable\r\n"
     ]
    }
   ],
   "source": [
    "# An attempt to change the value of a readonly variable fails with an error message.\n",
    "(( var1++ ))"
   ]
  },
  {
   "cell_type": "markdown",
   "metadata": {},
   "source": [
    "###### -i integer"
   ]
  },
  {
   "cell_type": "code",
   "execution_count": 3,
   "metadata": {
    "collapsed": false
   },
   "outputs": [
    {
     "name": "stdout",
     "output_type": "stream",
     "text": [
      "Number = 3\r\n"
     ]
    }
   ],
   "source": [
    "# The script will treat subsequent occurrences of \"number\" as an integer.\n",
    "declare -i number\n",
    "\n",
    "number=3\n",
    "echo \"Number = $number\""
   ]
  },
  {
   "cell_type": "code",
   "execution_count": 4,
   "metadata": {
    "collapsed": false
   },
   "outputs": [
    {
     "name": "stdout",
     "output_type": "stream",
     "text": [
      "Number = 0\r\n"
     ]
    }
   ],
   "source": [
    "# Tries to evaluate the string \"three\" as an integer.\n",
    "number=three\n",
    "echo \"Number = $number\""
   ]
  },
  {
   "cell_type": "markdown",
   "metadata": {},
   "source": [
    "Certain arithmetic operations are permitted for declared integer variables without the need for expr or let."
   ]
  },
  {
   "cell_type": "code",
   "execution_count": 5,
   "metadata": {
    "collapsed": false
   },
   "outputs": [
    {
     "name": "stdout",
     "output_type": "stream",
     "text": [
      "n = 6/3\r\n"
     ]
    }
   ],
   "source": [
    "n=6/3\n",
    "echo \"n = $n\""
   ]
  },
  {
   "cell_type": "code",
   "execution_count": 6,
   "metadata": {
    "collapsed": false
   },
   "outputs": [
    {
     "name": "stdout",
     "output_type": "stream",
     "text": [
      "n = 2\r\n"
     ]
    }
   ],
   "source": [
    "declare -i n\n",
    "n=6/3\n",
    "echo \"n = $n\""
   ]
  },
  {
   "cell_type": "markdown",
   "metadata": {},
   "source": [
    "###### -a array"
   ]
  },
  {
   "cell_type": "code",
   "execution_count": 7,
   "metadata": {
    "collapsed": false
   },
   "outputs": [
    {
     "name": "stdout",
     "output_type": "stream",
     "text": []
    }
   ],
   "source": [
    "# The variable indices will be treated as an array.\n",
    "declare -a indices"
   ]
  },
  {
   "cell_type": "markdown",
   "metadata": {},
   "source": [
    "###### -f function(s)"
   ]
  },
  {
   "cell_type": "code",
   "execution_count": null,
   "metadata": {
    "collapsed": false
   },
   "outputs": [],
   "source": [
    "# A declare -f line with no arguments in a script \n",
    "# causes a listing of all the functions previously defined in that script.\n",
    "declare -f\n",
    "\n",
    "# A declare -f function_name in a script lists just the function named.\n",
    "declare -f function_name"
   ]
  },
  {
   "cell_type": "markdown",
   "metadata": {},
   "source": [
    "###### -x export"
   ]
  },
  {
   "cell_type": "code",
   "execution_count": null,
   "metadata": {
    "collapsed": true
   },
   "outputs": [],
   "source": [
    "# This declares a variable as available for \n",
    "# exporting outside the environment of the script itself.\n",
    "declare -x var3"
   ]
  },
  {
   "cell_type": "markdown",
   "metadata": {},
   "source": [
    "###### -x var=$value"
   ]
  },
  {
   "cell_type": "code",
   "execution_count": null,
   "metadata": {
    "collapsed": true
   },
   "outputs": [],
   "source": [
    "# The declare command permits assigning a value to a variable \n",
    "# in the same statement as setting its properties.\n",
    "declare -x var3=373"
   ]
  },
  {
   "cell_type": "markdown",
   "metadata": {},
   "source": [
    "#### Example 9-10. Using declare to type variables"
   ]
  },
  {
   "cell_type": "code",
   "execution_count": 10,
   "metadata": {
    "collapsed": false
   },
   "outputs": [
    {
     "name": "stdout",
     "output_type": "stream",
     "text": [
      "#!/bin/bash\r\n",
      "\r\n",
      "func1 ()\r\n",
      "{\r\n",
      "\techo This is a function.\r\n",
      "}\r\n",
      "# Lists the function above.\r\n",
      "declare -f        \r\n",
      "\r\n",
      "# var1 is an integer.\r\n",
      "declare -i var1   \r\n",
      "var1=2367\r\n",
      "echo \"var1 declared as $var1\"\r\n",
      "# Integer declaration eliminates the need for 'let'.\r\n",
      "var1=var1+1       \r\n",
      "echo \"var1 incremented by 1 is $var1.\"\r\n",
      "# Attempt to change variable declared as integer.\r\n",
      "echo \"Attempting to change var1 to floating point value, 2367.1.\"\r\n",
      "# Results in error message, with no change to variable.\r\n",
      "var1=2367.1 \r\n",
      "echo \"var1 is still $var1\"\r\n",
      "\r\n",
      "# 'declare' permits setting a variable property\r\n",
      "#+ and simultaneously assigning it a value.\r\n",
      "declare -r var2=13.36\r\n",
      "# Attempt to change readonly variable.\r\n",
      "# Generates error message, and exit from script.\r\n",
      "echo \"var2 declared as $var2\"\r\n",
      "var2=13.37\r\n",
      "\r\n",
      "# This line will not execute.\r\n",
      "echo \"var2 is still $var2\"\r\n",
      "# Script will not exit here.\r\n",
      "exit 0\r\n"
     ]
    }
   ],
   "source": [
    "cat declare.sh"
   ]
  },
  {
   "cell_type": "code",
   "execution_count": 11,
   "metadata": {
    "collapsed": false
   },
   "outputs": [
    {
     "name": "stdout",
     "output_type": "stream",
     "text": [
      "func1 () \r\n",
      "{ \r\n",
      "    echo This is a function.\r\n",
      "}\r\n",
      "var1 declared as 2367\r\n",
      "var1 incremented by 1 is 2368.\r\n",
      "Attempting to change var1 to floating point value, 2367.1.\r\n",
      "./declare.sh: line 20: 2367.1: syntax error: invalid arithmetic operator (error token is \".1\")\r\n",
      "var1 is still 2368\r\n",
      "var2 declared as 13.36\r\n",
      "./declare.sh: line 29: var2: readonly variable\r\n",
      "var2 is still 13.36\r\n"
     ]
    }
   ],
   "source": [
    "./declare.sh"
   ]
  },
  {
   "cell_type": "markdown",
   "metadata": {},
   "source": [
    "Using the declare builtin restricts the scope of a variable."
   ]
  },
  {
   "cell_type": "code",
   "execution_count": 12,
   "metadata": {
    "collapsed": false
   },
   "outputs": [
    {
     "name": "stdout",
     "output_type": "stream",
     "text": [
      "bar\r\n"
     ]
    }
   ],
   "source": [
    "foo ()\n",
    "{\n",
    "FOO=\"bar\"\n",
    "}\n",
    "\n",
    "bar ()\n",
    "{\n",
    "foo\n",
    "echo $FOO\n",
    "}\n",
    "\n",
    "# prints bar\n",
    "bar"
   ]
  },
  {
   "cell_type": "markdown",
   "metadata": {},
   "source": [
    "However . . ."
   ]
  },
  {
   "cell_type": "code",
   "execution_count": 1,
   "metadata": {
    "collapsed": false
   },
   "outputs": [
    {
     "name": "stdout",
     "output_type": "stream",
     "text": [
      "\r\n"
     ]
    }
   ],
   "source": [
    "foo (){\n",
    "declare FOO=\"bar\"\n",
    "}\n",
    "\n",
    "bar ()\n",
    "{\n",
    "foo\n",
    "echo $FOO\n",
    "}\n",
    "\n",
    "# prints nothing.\n",
    "bar"
   ]
  },
  {
   "cell_type": "markdown",
   "metadata": {
    "collapsed": true
   },
   "source": [
    "#### B.Another use for declare"
   ]
  },
  {
   "cell_type": "markdown",
   "metadata": {
    "collapsed": true
   },
   "source": [
    "The declare command can be helpful in identifying variables, environmental or otherwise.   \n",
    "This can be especially useful with arrays."
   ]
  },
  {
   "cell_type": "code",
   "execution_count": 2,
   "metadata": {
    "collapsed": false
   },
   "outputs": [
    {
     "name": "stdout",
     "output_type": "stream",
     "text": [
      "HOME=/home/liheyi\r\n"
     ]
    }
   ],
   "source": [
    "declare | grep HOME"
   ]
  },
  {
   "cell_type": "code",
   "execution_count": 3,
   "metadata": {
    "collapsed": false
   },
   "outputs": [
    {
     "name": "stdout",
     "output_type": "stream",
     "text": [
      "zzy=6666\r\n"
     ]
    }
   ],
   "source": [
    "zzy=6666\n",
    "declare | grep zzy"
   ]
  },
  {
   "cell_type": "code",
   "execution_count": 4,
   "metadata": {
    "collapsed": false
   },
   "outputs": [
    {
     "name": "stdout",
     "output_type": "stream",
     "text": [
      "purple reddish-orange light green\r\n"
     ]
    }
   ],
   "source": [
    "Colors=([0]=\"purple\" [1]=\"reddish-orange\" [2]=\"light green\")\n",
    "echo ${Colors[@]}"
   ]
  },
  {
   "cell_type": "code",
   "execution_count": 5,
   "metadata": {
    "collapsed": false
   },
   "outputs": [
    {
     "name": "stdout",
     "output_type": "stream",
     "text": [
      "Colors=([0]=\"purple\" [1]=\"reddish-orange\" [2]=\"light green\")\r\n"
     ]
    }
   ],
   "source": [
    "declare | grep Colors"
   ]
  },
  {
   "cell_type": "markdown",
   "metadata": {
    "collapsed": true
   },
   "source": [
    "### \\$RANDOM: generate random integer"
   ]
  },
  {
   "cell_type": "markdown",
   "metadata": {
    "collapsed": true
   },
   "source": [
    "\\$RANDOM is an internal Bash function (not a constant) that returns a pseudorandom integer in the range 0-32767.  \n",
    "It should not be used to generate an encryption key."
   ]
  },
  {
   "cell_type": "markdown",
   "metadata": {
    "collapsed": true
   },
   "source": [
    "#### Example 9-11. Generating random numbers"
   ]
  },
  {
   "cell_type": "code",
   "execution_count": 6,
   "metadata": {
    "collapsed": false
   },
   "outputs": [
    {
     "name": "stdout",
     "output_type": "stream",
     "text": [
      "#!/bin/bash\r\n",
      "\r\n",
      "# $RANDOM returns a different random integer at each invocation.\r\n",
      "# Nominal range: 0 - 32767 (signed 16-bit integer).\r\n",
      "\r\n",
      "MAXCOUNT=10\r\n",
      "count=1\r\n",
      "\r\n",
      "echo \"$MAXCOUNT random numbers:\"\r\n",
      "# Generate 10 ($MAXCOUNT) random integers.\r\n",
      "while [ \"$count\" -le $MAXCOUNT ]\r\n",
      "do\r\n",
      "    number=$RANDOM\r\n",
      "    echo $number\r\n",
      "    let \"count += 1\"\r\n",
      "done\r\n",
      "# If you need a random int within a certain range, use the 'modulo' operator.\r\n",
      "echo\r\n",
      "\r\n",
      "# This returns the remainder of a division operation.\r\n",
      "RANGE=500\r\n",
      "number=$RANDOM\r\n",
      "let \"number %= $RANGE\"\r\n",
      "echo \"Random number less than $RANGE --- $number\"\r\n",
      "echo\r\n",
      "\r\n",
      "# If you need a random integer greater than a lower bound,\r\n",
      "#+ then set up a test to discard all numbers below that.\r\n",
      "FLOOR=200\r\n",
      "number=0 #initialize\r\n",
      "while [ \"$number\" -le $FLOOR ]\r\n",
      "do\r\n",
      "    number=$RANDOM\r\n",
      "done\r\n",
      "echo \"Random number greater than $FLOOR --- $number\"\r\n",
      "echo\r\n",
      "\r\n",
      "    # Let's examine a simple alternative to the above loop, namely\r\n",
      "    # let \"number = $RANDOM + $FLOOR\"\r\n",
      "    # That would eliminate the while-loop and run faster.\r\n",
      "    # But, there might be a problem with that. What is it?\r\n",
      "\r\n",
      "# Combine above two techniques to retrieve random number between two limits.\r\n",
      "number=0\r\n",
      "while [ \"$number\" -le $FLOOR ]\r\n",
      "do\r\n",
      "    number=$RANDOM\r\n",
      "    # Scales $number down within $RANGE.\r\n",
      "    let \"number %= $RANGE\" \r\n",
      "done\r\n",
      "echo \"Random number between $FLOOR and $RANGE --- $number\"\r\n",
      "echo\r\n",
      "\r\n",
      "# Generate binary choice, that is, \"true\" or \"false\" value.\r\n",
      "BINARY=2\r\n",
      "T=1\r\n",
      "number=$RANDOM\r\n",
      "let \"number %= $BINARY\"\r\n",
      "# Note that let \"number >>= 14\"  gives a better random distribution\r\n",
      "#+ (right shifts out everything except last binary digit).\r\n",
      "if [ \"$number\" -eq $T ]\r\n",
      "then\r\n",
      "    echo \"TRUE\"\r\n",
      "else\r\n",
      "    echo \"FALSE\"\r\n",
      "fi\r\n",
      "echo\r\n",
      "\r\n",
      "# Generate a toss of the dice.\r\n",
      "# Modulo 6 gives range 0 - 5.\r\n",
      "# Incrementing by 1 gives desired range of 1 - 6.\r\n",
      "SPOTS=6\r\n",
      "\r\n",
      "die1=0\r\n",
      "die2=0\r\n",
      "# Tosses each die separately, and so gives correct odds.\r\n",
      "# Roll first one.\r\n",
      "let \"die1 = $RANDOM % $SPOTS +1\" \r\n",
      "# Roll second one.\r\n",
      "let \"die2 = $RANDOM % $SPOTS +1\" \r\n",
      "# Which arithmetic operation, above, has greater precedence --\r\n",
      "#+ modulo (%) or addition (+)?\r\n",
      "let \"throw = $die1 + $die2\"\r\n",
      "echo \"Throw of the dice = $throw\"\r\n",
      "echo\r\n",
      "\r\n",
      "exit\r\n"
     ]
    }
   ],
   "source": [
    "cat RANDOM.sh"
   ]
  },
  {
   "cell_type": "code",
   "execution_count": 7,
   "metadata": {
    "collapsed": false
   },
   "outputs": [
    {
     "name": "stdout",
     "output_type": "stream",
     "text": [
      "10 random numbers:\r\n",
      "28789\r\n",
      "6486\r\n",
      "29685\r\n",
      "28304\r\n",
      "18200\r\n",
      "919\r\n",
      "13358\r\n",
      "28583\r\n",
      "17692\r\n",
      "14241\r\n",
      "\r\n",
      "Random number less than 500 --- 252\r\n",
      "\r\n",
      "Random number greater than 200 --- 2188\r\n",
      "\r\n",
      "Random number between 200 and 500 --- 371\r\n",
      "\r\n",
      "FALSE\r\n",
      "\r\n",
      "Throw of the dice = 7\r\n",
      "\r\n"
     ]
    }
   ],
   "source": [
    "./RANDOM.sh"
   ]
  },
  {
   "cell_type": "markdown",
   "metadata": {
    "collapsed": true
   },
   "source": [
    "#### Example 9-12. Picking a random card from a deck"
   ]
  },
  {
   "cell_type": "code",
   "execution_count": 8,
   "metadata": {
    "collapsed": false
   },
   "outputs": [
    {
     "name": "stdout",
     "output_type": "stream",
     "text": [
      "#!/bin/bash\r\n",
      "\r\n",
      "# pick-card.sh\r\n",
      "# This is an example of choosing random elements of an array.\r\n",
      "\r\n",
      "# Pick a card, any card.\r\n",
      "# Note variables spread over multiple lines.\r\n",
      "Suites=\"Clubs\r\n",
      "Diamonds\r\n",
      "Hearts\r\n",
      "Spades\"\r\n",
      "\r\n",
      "Denominations=\"2\r\n",
      "3\r\n",
      "4\r\n",
      "5\r\n",
      "6\r\n",
      "7\r\n",
      "8\r\n",
      "9\r\n",
      "10\r\n",
      "Jack\r\n",
      "Queen\r\n",
      "King\r\n",
      "Ace\"\r\n",
      "\r\n",
      "# Read into array variable.\r\n",
      "suite=($Suites)\r\n",
      "denomination=($Denominations)\r\n",
      "# Count how many elements.\r\n",
      "num_suites=${#suite[*]} \r\n",
      "num_denominations=${#denomination[*]}\r\n",
      "\r\n",
      "echo -n \"${denomination[$((RANDOM%num_denominations))]} of \"\r\n",
      "echo ${suite[$((RANDOM%num_suites))]}\r\n",
      "\r\n",
      "exit 0\r\n"
     ]
    }
   ],
   "source": [
    "cat pick-card.sh"
   ]
  },
  {
   "cell_type": "code",
   "execution_count": 10,
   "metadata": {
    "collapsed": false
   },
   "outputs": [
    {
     "name": "stdout",
     "output_type": "stream",
     "text": [
      "Queen of Clubs\r\n"
     ]
    }
   ],
   "source": [
    "./pick-card.sh"
   ]
  },
  {
   "cell_type": "code",
   "execution_count": 11,
   "metadata": {
    "collapsed": false
   },
   "outputs": [
    {
     "name": "stdout",
     "output_type": "stream",
     "text": [
      "Ace of Diamonds\r\n"
     ]
    }
   ],
   "source": [
    "./pick-card.sh"
   ]
  },
  {
   "cell_type": "code",
   "execution_count": 12,
   "metadata": {
    "collapsed": false
   },
   "outputs": [
    {
     "name": "stdout",
     "output_type": "stream",
     "text": [
      "5 of Clubs\r\n"
     ]
    }
   ],
   "source": [
    "./pick-card.sh"
   ]
  },
  {
   "cell_type": "markdown",
   "metadata": {
    "collapsed": true
   },
   "source": [
    "#### Example 9-13. Brownian Motion Simulation"
   ]
  },
  {
   "cell_type": "code",
   "execution_count": 14,
   "metadata": {
    "collapsed": false
   },
   "outputs": [
    {
     "name": "stdout",
     "output_type": "stream",
     "text": [
      "#!/bin/bash\r\n",
      "# brownian.sh\r\n",
      "# Author: Mendel Cooper\r\n",
      "# Reldate: 10/26/07\r\n",
      "# License: GPL3\r\n",
      "\r\n",
      "#  ----------------------------------------------------------------\r\n",
      "#  This script models Brownian motion:\r\n",
      "#+ the random wanderings of tiny particles in a fluid,\r\n",
      "#+ as they are buffeted by random currents and collisions.\r\n",
      "#+ This is colloquially known as the \"Drunkard's Walk.\"\r\n",
      "#  It can also be considered as a stripped-down simulation of a\r\n",
      "#+ Galton Board, a slanted board with a pattern of pegs,\r\n",
      "#+ down which rolls a succession of marbles, one at a time.\r\n",
      "#+ At the bottom is a row of slots or catch basins in which\r\n",
      "#+ the marbles come to rest at the end of their journey.\r\n",
      "#  Think of it as a kind of bare-bones Pachinko game.\r\n",
      "#  As you see by running the script,\r\n",
      "#+ most of the marbles cluster around the center slot.\r\n",
      "#+ This is consistent with the expected binomial distribution.\r\n",
      "#  As a Galton Board simulation, the script\r\n",
      "#+ disregards such parameters as\r\n",
      "#+ board tilt-angle, rolling friction of the marbles,\r\n",
      "#+ angles of impact, and elasticity of the pegs.\r\n",
      "#  To what extent does this affect the accuracy of the simulation?\r\n",
      "#  ----------------------------------------------------------------\r\n",
      "\r\n",
      "PASSES=500        # Number of particle interactions / marbles.\r\n",
      "ROWS=10           # Number of \"collisions\" (or horiz. peg rows).\r\n",
      "RANGE=3           # 0 - 2 output range from $RANDOM.\r\n",
      "POS=0             # Left/right position.\r\n",
      "RANDOM=$$         # Seeds the random number generator from PID\r\n",
      "                  #+ of script.\r\n",
      "\r\n",
      "declare -a Slots  # Array holding cumulative results of passes.\r\n",
      "NUMSLOTS=21       # Number of slots at bottom of board.\r\n",
      "\r\n",
      "# Zero out all elements of the array.\r\n",
      "Initialize_Slots () { \r\n",
      "for i in $( seq $NUMSLOTS )\r\n",
      "do\r\n",
      "    Slots[$i]=0\r\n",
      "done\r\n",
      "# Blank line at beginning of run.\r\n",
      "echo\r\n",
      "}\r\n",
      "\r\n",
      "Show_Slots () {\r\n",
      "echo; echo\r\n",
      "echo -n \" \"\r\n",
      "\r\n",
      "# Pretty-print array elements.\r\n",
      "for i in $( seq $NUMSLOTS ) \r\n",
      "do\r\n",
      "    # Allot three spaces per result.\r\n",
      "    printf \"%3d\" ${Slots[$i]} \r\n",
      "done\r\n",
      "\r\n",
      "# Row of slots:\r\n",
      "echo \r\n",
      "echo \" |__|__|__|__|__|__|__|__|__|__|__|__|__|__|__|__|__|__|__|__|__|\"\r\n",
      "echo \"                                ||\"\r\n",
      "echo #  Note that if the count within any particular slot exceeds 99,\r\n",
      "     #+ it messes up the display.\r\n",
      "     # Running only(!) 500 passes usually avoids this.\r\n",
      "}\r\n",
      "\r\n",
      "Move () {                       # Move one unit right / left, or stay put.\r\n",
      "    Move=$RANDOM                # How random is $RANDOM? Well, let's see ...\r\n",
      "    let \"Move %= RANGE\"         # Normalize into range of 0 - 2.\r\n",
      "    case \"$Move\" in\r\n",
      "        0 ) ;;                  # Do nothing, i.e., stay in place.\r\n",
      "        1 ) ((POS--));;         # Left.\r\n",
      "        2 ) ((POS++));;         # Right.\r\n",
      "        * ) echo -n \"Error \";;  # Anomaly! (Should never occur.)\r\n",
      "esac\r\n",
      "}\r\n",
      "\r\n",
      "Play () {                       # Single pass (inner loop).\r\n",
      "    i=0\r\n",
      "    while [ \"$i\" -lt \"$ROWS\" ]  # One event per row.\r\n",
      "    do\r\n",
      "        Move\r\n",
      "        ((i++));\r\n",
      "    done\r\n",
      "    \r\n",
      "    SHIFT=11                    # Why 11, and not 10?\r\n",
      "    let \"POS += $SHIFT\"         # Shift \"zero position\" to center.\r\n",
      "    (( Slots[$POS]++ ))         # DEBUG: echo $POS\r\n",
      "    # echo -n \"$POS \"\r\n",
      "}\r\n",
      "\r\n",
      "Run () {                        # Outer loop.\r\n",
      "    p=0\r\n",
      "    while [ \"$p\" -lt \"$PASSES\" ]\r\n",
      "    do\r\n",
      "        Play\r\n",
      "        (( p++ ))\r\n",
      "        POS=0                   # Reset to zero. Why?\r\n",
      "    done\r\n",
      "}\r\n",
      "\r\n",
      "# main ()\r\n",
      "Initialize_Slots\r\n",
      "Run\r\n",
      "Show_Slots\r\n",
      "\r\n",
      "exit $?\r\n",
      "\r\n",
      "#  Exercises:\r\n",
      "#  1) Show the results in a vertical bar graph, or as an alternative,\r\n",
      "#+    a scattergram.\r\n",
      "#  2) Alter the script to use /dev/urandom instead of $RANDOM.\r\n",
      "#     Will this make the results more random?\r\n",
      "#  3) Provide some sort of \"animation\" or graphic output\r\n",
      "#     for each marble played.\r\n"
     ]
    }
   ],
   "source": [
    "cat brownian.sh"
   ]
  },
  {
   "cell_type": "code",
   "execution_count": 15,
   "metadata": {
    "collapsed": false
   },
   "outputs": [
    {
     "name": "stdout",
     "output_type": "stream",
     "text": [
      "\r\n",
      "\r\n",
      "\r\n",
      "   0  0  0  2  1 13 22 50 61 75 88 61 49 39 23 13  3  0  0  0  0\r\n",
      " |__|__|__|__|__|__|__|__|__|__|__|__|__|__|__|__|__|__|__|__|__|\r\n",
      "                                ||\r\n",
      "\r\n"
     ]
    }
   ],
   "source": [
    "./brownian.sh"
   ]
  },
  {
   "cell_type": "code",
   "execution_count": 16,
   "metadata": {
    "collapsed": false
   },
   "outputs": [
    {
     "name": "stdout",
     "output_type": "stream",
     "text": [
      "\r\n",
      "\r\n",
      "\r\n",
      "   0  0  1  1  6 14 29 44 51 76 56 73 56 39 31 15  8  0  0  0  0\r\n",
      " |__|__|__|__|__|__|__|__|__|__|__|__|__|__|__|__|__|__|__|__|__|\r\n",
      "                                ||\r\n",
      "\r\n"
     ]
    }
   ],
   "source": [
    "./brownian.sh"
   ]
  },
  {
   "cell_type": "code",
   "execution_count": 17,
   "metadata": {
    "collapsed": false
   },
   "outputs": [
    {
     "name": "stdout",
     "output_type": "stream",
     "text": [
      "\r\n",
      "\r\n",
      "\r\n",
      "   0  0  0  2  5 19 17 30 50 69 92 70 58 39 34 10  4  1  0  0  0\r\n",
      " |__|__|__|__|__|__|__|__|__|__|__|__|__|__|__|__|__|__|__|__|__|\r\n",
      "                                ||\r\n",
      "\r\n"
     ]
    }
   ],
   "source": [
    "./brownian.sh"
   ]
  },
  {
   "cell_type": "markdown",
   "metadata": {
    "collapsed": true
   },
   "source": [
    "Jipe points out a set of techniques for generating random numbers within a range."
   ]
  },
  {
   "cell_type": "code",
   "execution_count": 18,
   "metadata": {
    "collapsed": false
   },
   "outputs": [
    {
     "name": "stdout",
     "output_type": "stream",
     "text": [
      "11\r\n"
     ]
    }
   ],
   "source": [
    "# Generate random number between 6 and 30.\n",
    "rnumber=$((RANDOM%25+6))\n",
    "echo $rnumber"
   ]
  },
  {
   "cell_type": "code",
   "execution_count": 19,
   "metadata": {
    "collapsed": false
   },
   "outputs": [
    {
     "name": "stdout",
     "output_type": "stream",
     "text": [
      "21\r\n"
     ]
    }
   ],
   "source": [
    "rnumber=$((RANDOM%25+6))\n",
    "echo $rnumber"
   ]
  },
  {
   "cell_type": "code",
   "execution_count": 20,
   "metadata": {
    "collapsed": false
   },
   "outputs": [
    {
     "name": "stdout",
     "output_type": "stream",
     "text": [
      "17\r\n"
     ]
    }
   ],
   "source": [
    "rnumber=$((RANDOM%25+6))\n",
    "echo $rnumber"
   ]
  },
  {
   "cell_type": "code",
   "execution_count": 21,
   "metadata": {
    "collapsed": false
   },
   "outputs": [
    {
     "name": "stdout",
     "output_type": "stream",
     "text": [
      "9\r\n"
     ]
    }
   ],
   "source": [
    "# Generate random number in the same 6 - 30 range,\n",
    "#+ but the number must be evenly divisible by 3.\n",
    "rnumber=$(((RANDOM%30/3+1)*3))\n",
    "echo $rnumber\n",
    "# Note that this will not work all the time.\n",
    "# It fails if $RANDOM%30 returns 0."
   ]
  },
  {
   "cell_type": "code",
   "execution_count": 22,
   "metadata": {
    "collapsed": false
   },
   "outputs": [
    {
     "name": "stdout",
     "output_type": "stream",
     "text": [
      "30\r\n"
     ]
    }
   ],
   "source": [
    "# Frank Wang suggests the following alternative:\n",
    "rnumber=$(( RANDOM%27/3*3+6 ))\n",
    "echo $rnumber"
   ]
  },
  {
   "cell_type": "markdown",
   "metadata": {
    "collapsed": true
   },
   "source": [
    "Bill Gradwohl came up with an improved formula that works for positive numbers."
   ]
  },
  {
   "cell_type": "code",
   "execution_count": 28,
   "metadata": {
    "collapsed": false
   },
   "outputs": [
    {
     "name": "stdout",
     "output_type": "stream",
     "text": [
      "35\r\n"
     ]
    }
   ],
   "source": [
    "# rnumber=$(((RANDOM%(max-min+divisibleBy))/divisibleBy*divisibleBy+min))\n",
    "rnumber=$(((RANDOM%(50-30+5))/5*5+30))\n",
    "echo $rnumber"
   ]
  },
  {
   "cell_type": "markdown",
   "metadata": {
    "collapsed": true
   },
   "source": [
    "Here Bill presents a versatile function that returns a random number between two specified values.\n",
    "#### Example 9-14. Random between values"
   ]
  },
  {
   "cell_type": "code",
   "execution_count": 29,
   "metadata": {
    "collapsed": false
   },
   "outputs": [
    {
     "name": "stdout",
     "output_type": "stream",
     "text": [
      "#!/bin/bash\r\n",
      "# random-between.sh\r\n",
      "# Random number between two specified values.\r\n",
      "# Script by Bill Gradwohl, with minor modifications by the document author.\r\n",
      "# Corrections in lines 187 and 189 by Anthony Le Clezio.\r\n",
      "# Used with permission.\r\n",
      "\r\n",
      "randomBetween() {\r\n",
      "    # Generates a positive or negative random number\r\n",
      "    #+ between $min and $max\r\n",
      "    #+ and divisible by $divisibleBy.\r\n",
      "    # Gives a \"reasonably random\" distribution of return values.\r\n",
      "    #\r\n",
      "    # Bill Gradwohl - Oct 1, 2003\r\n",
      "\r\n",
      "    syntax() {\r\n",
      "    # Function embedded within function.\r\n",
      "        echo\r\n",
      "        echo \"Syntax: randomBetween [min] [max] [multiple]\"\r\n",
      "        echo\r\n",
      "        echo -n \"Expects up to 3 passed parameters, \"\r\n",
      "        echo \"but all are completely optional.\"\r\n",
      "        echo \"min is the minimum value\"\r\n",
      "        echo \"max is the maximum value\"\r\n",
      "        echo -n \"multiple specifies that the answer must be \"\r\n",
      "        echo \"a multiple of this value.\"\r\n",
      "        echo \" i.e. answer must be evenly divisible by this number.\"\r\n",
      "        echo\r\n",
      "        echo \"If any value is missing, defaults area supplied as: 0 32767 1\"\r\n",
      "        echo -n \"Successful completion returns 0, \"\r\n",
      "        echo \"unsuccessful completion returns\"\r\n",
      "        echo \"function syntax and 1.\"\r\n",
      "        echo -n \"The answer is returned in the global variable \"\r\n",
      "        echo \"randomBetweenAnswer\"\r\n",
      "        echo -n \"Negative values for any passed parameter are \"\r\n",
      "        echo \"handled correctly.\"\r\n",
      "    }\r\n",
      "\r\n",
      "    local min=${1:-0}\r\n",
      "    local max=${2:-32767}\r\n",
      "    local divisibleBy=${3:-1}\r\n",
      "    # Default values assigned, in case parameters not passed to function.\r\n",
      "    \r\n",
      "    local x\r\n",
      "    local spread\r\n",
      "    \r\n",
      "    # Let's make sure the divisibleBy value is positive.\r\n",
      "    [ ${divisibleBy} -lt 0 ] && divisibleBy=$((0-divisibleBy))\r\n",
      "    \r\n",
      "    # Sanity check.\r\n",
      "    if [ $# -gt 3 -o ${divisibleBy} -eq 0 -o ${min} -eq ${max} ]; then\r\n",
      "        syntax\r\n",
      "        return 1\r\n",
      "    fi\r\n",
      "    \r\n",
      "    # See if the min and max are reversed.\r\n",
      "    if [ ${min} -gt ${max} ]; then\r\n",
      "        # Swap them.\r\n",
      "        x=${min}\r\n",
      "        min=${max}\r\n",
      "        max=${x}\r\n",
      "    fi\r\n",
      "    \r\n",
      "    # If min is itself not evenly divisible by $divisibleBy,\r\n",
      "    #+ then fix the min to be within range.\r\n",
      "    if [ $((min/divisibleBy*divisibleBy)) -ne ${min} ]; then\r\n",
      "        if [ ${min} -lt 0 ]; then\r\n",
      "            min=$((min/divisibleBy*divisibleBy))\r\n",
      "        else\r\n",
      "            min=$((((min/divisibleBy)+1)*divisibleBy))\r\n",
      "        fi\r\n",
      "    fi\r\n",
      "    \r\n",
      "    # If max is itself not evenly divisible by $divisibleBy,\r\n",
      "    #+ then fix the max to be within range.\r\n",
      "    if [ $((max/divisibleBy*divisibleBy)) -ne ${max} ]; then\r\n",
      "        if [ ${max} -lt 0 ]; then\r\n",
      "            max=$((((max/divisibleBy)-1)*divisibleBy))\r\n",
      "        else\r\n",
      "            max=$((max/divisibleBy*divisibleBy))\r\n",
      "        fi\r\n",
      "    fi\r\n",
      "    \r\n",
      "    #  ---------------------------------------------------------------------\r\n",
      "    #  Now, to do the real work.\r\n",
      "    #  Note that to get a proper distribution for the end points,\r\n",
      "    #+ the range of random values has to be allowed to go between\r\n",
      "    #+ 0 and abs(max-min)+divisibleBy, not just abs(max-min)+1.\r\n",
      "    #  The slight increase will produce the proper distribution for the\r\n",
      "    #+ end points.\r\n",
      "    #  Changing the formula to use abs(max-min)+1 will still produce\r\n",
      "    #+ correct answers, but the randomness of those answers is faulty in\r\n",
      "    #+ that the number of times the end points ($min and $max) are returned\r\n",
      "    #+ is considerably lower than when the correct formula is used.\r\n",
      "    #  ---------------------------------------------------------------------\r\n",
      "    \r\n",
      "    spread=$((max-min))\r\n",
      "    #  Omair Eshkenazi points out that this test is unnecessary,\r\n",
      "    #+ since max and min have already been switched around.\r\n",
      "    [ ${spread} -lt 0 ] && spread=$((0-spread))\r\n",
      "    let spread+=divisibleBy\r\n",
      "    randomBetweenAnswer=$(((RANDOM%spread)/divisibleBy*divisibleBy+min))\r\n",
      "    \r\n",
      "    return 0\r\n",
      "    #  However, Paulo Marcel Coelho Aragao points out that\r\n",
      "    #+ when $max and $min are not divisible by $divisibleBy,\r\n",
      "    #+ the formula fails.\r\n",
      "    #\r\n",
      "    #  He suggests instead the following formula:\r\n",
      "    #  rnumber = $(((RANDOM%(max-min+1)+min)/divisibleBy*divisibleBy))\r\n",
      "}\r\n",
      "\r\n",
      "# Let's test the function.\r\n",
      "min=-14\r\n",
      "max=20\r\n",
      "divisibleBy=3\r\n",
      "\r\n",
      "#  Generate an array of expected answers and check to make sure we get\r\n",
      "#+ at least one of each answer if we loop long enough.\r\n",
      "\r\n",
      "declare -a answer\r\n",
      "minimum=${min}\r\n",
      "maximum=${max}\r\n",
      "    if [ $((minimum/divisibleBy*divisibleBy)) -ne ${minimum} ]; then\r\n",
      "        if [ ${minimum} -lt 0 ]; then\r\n",
      "            minimum=$((minimum/divisibleBy*divisibleBy))\r\n",
      "        else\r\n",
      "            minimum=$((((minimum/divisibleBy)+1)*divisibleBy))\r\n",
      "        fi\r\n",
      "    fi\r\n",
      "\r\n",
      "    # If max is itself not evenly divisible by $divisibleBy,\r\n",
      "    #+ then fix the max to be within range.\r\n",
      "    if [ $((maximum/divisibleBy*divisibleBy)) -ne ${maximum} ]; then\r\n",
      "        if [ ${maximum} -lt 0 ]; then\r\n",
      "            maximum=$((((maximum/divisibleBy)-1)*divisibleBy))\r\n",
      "        else\r\n",
      "            maximum=$((maximum/divisibleBy*divisibleBy))\r\n",
      "        fi\r\n",
      "    fi\r\n",
      "\r\n",
      "# We need to generate only positive array subscripts,\r\n",
      "#+ so we need a displacement that that will guarantee\r\n",
      "#+ positive results.\r\n",
      "\r\n",
      "disp=$((0-minimum))\r\n",
      "for ((i=${minimum}; i<=${maximum}; i+=divisibleBy)); do\r\n",
      "    answer[i+disp]=0\r\n",
      "done\r\n",
      "\r\n",
      "# Now loop a large number of times to see what we get.\r\n",
      "loopIt=1000       # The script author suggests 100000,\r\n",
      "                  #+ but that takes a good long while.\r\n",
      "for ((i=0; i<${loopIt}; ++i)); do\r\n",
      "    # Note that we are specifying min and max in reversed order here to\r\n",
      "    #+ make the function correct for this case.\r\n",
      "    \r\n",
      "    randomBetween ${max} ${min} ${divisibleBy}\r\n",
      "    \r\n",
      "    # Report an error if an answer is unexpected.\r\n",
      "    [ ${randomBetweenAnswer} -lt ${min} -o ${randomBetweenAnswer} -gt ${max} ] \\\r\n",
      "    && echo MIN or MAX error - ${randomBetweenAnswer}!\r\n",
      "    [ $((randomBetweenAnswer%${divisibleBy})) -ne 0 ] \\\r\n",
      "    && echo DIVISIBLE BY error - ${randomBetweenAnswer}!\r\n",
      "    \r\n",
      "    # Store the answer away statistically.\r\n",
      "    answer[randomBetweenAnswer+disp]=$((answer[randomBetweenAnswer+disp]+1))\r\n",
      "done\r\n",
      "\r\n",
      "# Let's check the results\r\n",
      "for ((i=${minimum}; i<=${maximum}; i+=divisibleBy)); do\r\n",
      "    [ ${answer[i+disp]} -eq 0 ] \\\r\n",
      "    && echo \"We never got an answer of $i.\" \\\r\n",
      "    || echo \"${i} occurred ${answer[i+disp]} times.\"\r\n",
      "done\r\n",
      "\r\n",
      "exit 0\r\n"
     ]
    }
   ],
   "source": [
    "cat random-between.sh"
   ]
  },
  {
   "cell_type": "code",
   "execution_count": 30,
   "metadata": {
    "collapsed": false
   },
   "outputs": [
    {
     "name": "stdout",
     "output_type": "stream",
     "text": [
      "-12 occurred 108 times.\r\n",
      "-9 occurred 87 times.\r\n",
      "-6 occurred 80 times.\r\n",
      "-3 occurred 105 times.\r\n",
      "0 occurred 91 times.\r\n",
      "3 occurred 91 times.\r\n",
      "6 occurred 83 times.\r\n",
      "9 occurred 84 times.\r\n",
      "12 occurred 84 times.\r\n",
      "15 occurred 83 times.\r\n",
      "18 occurred 104 times.\r\n"
     ]
    }
   ],
   "source": [
    "./random-between.sh"
   ]
  },
  {
   "cell_type": "code",
   "execution_count": 31,
   "metadata": {
    "collapsed": false
   },
   "outputs": [
    {
     "name": "stdout",
     "output_type": "stream",
     "text": [
      "-12 occurred 88 times.\r\n",
      "-9 occurred 93 times.\r\n",
      "-6 occurred 85 times.\r\n",
      "-3 occurred 104 times.\r\n",
      "0 occurred 78 times.\r\n",
      "3 occurred 98 times.\r\n",
      "6 occurred 75 times.\r\n",
      "9 occurred 109 times.\r\n",
      "12 occurred 89 times.\r\n",
      "15 occurred 81 times.\r\n",
      "18 occurred 100 times.\r\n"
     ]
    }
   ],
   "source": [
    "./random-between.sh"
   ]
  },
  {
   "cell_type": "markdown",
   "metadata": {
    "collapsed": true
   },
   "source": [
    "Just how random is \\$RANDOM?   \n",
    "The best way to test this is to write a script that tracks the distribution of \"random\" numbers generated by \\$RANDOM.   \n",
    "Let's roll a $RANDOM die a few times . . ."
   ]
  },
  {
   "cell_type": "markdown",
   "metadata": {
    "collapsed": true
   },
   "source": [
    "#### Example 9-15. Rolling a single die with RANDOM"
   ]
  },
  {
   "cell_type": "code",
   "execution_count": 32,
   "metadata": {
    "collapsed": false
   },
   "outputs": [
    {
     "name": "stdout",
     "output_type": "stream",
     "text": [
      "#!/bin/bash\r\n",
      "# How random is RANDOM?\r\n",
      "\r\n",
      "# Reseed the random number generator using script process ID.\r\n",
      "RANDOM=$$ \r\n",
      "PIPS=6          # A die has 6 pips.\r\n",
      "MAXTHROWS=600   # Increase this if you have nothing better to do with your time.\r\n",
      "throw=0         # Number of times the dice have been cast.\r\n",
      "\r\n",
      "ones=0          # Must initialize counts to zero,\r\n",
      "twos=0          #+ since an uninitialized variable is null, NOT zero.\r\n",
      "threes=0\r\n",
      "fours=0\r\n",
      "fives=0\r\n",
      "sixes=0\r\n",
      "\r\n",
      "print_result ()\r\n",
      "{\r\n",
      "  echo\r\n",
      "  echo \"ones = $ones\"\r\n",
      "  echo \"twos = $twos\"\r\n",
      "  echo \"threes = $threes\"\r\n",
      "  echo \"fours = $fours\"\r\n",
      "  echo \"fives = $fives\"\r\n",
      "  echo \"sixes = $sixes\"\r\n",
      "  echo\r\n",
      "}\r\n",
      "\r\n",
      "update_count()\r\n",
      "{\r\n",
      "  case \"$1\" in\r\n",
      "    0) ((ones++));;    # Since a die has no \"zero\", this corresponds to 1.\r\n",
      "    1) ((twos++));;    # And this to 2.\r\n",
      "    2) ((threes++));;  # And so forth.\r\n",
      "    3) ((fours++));;\r\n",
      "    4) ((fives++));;\r\n",
      "    5) ((sixes++));;\r\n",
      "  esac\r\n",
      "}\r\n",
      "\r\n",
      "while [ \"$throw\" -lt \"$MAXTHROWS\" ]\r\n",
      "do\r\n",
      "  let \"die1 = RANDOM % $PIPS\"\r\n",
      "  update_count $die1\r\n",
      "  let \"throw += 1\"\r\n",
      "done\r\n",
      "\r\n",
      "print_result\r\n",
      "\r\n",
      "exit $?\r\n"
     ]
    }
   ],
   "source": [
    "cat random-die.sh"
   ]
  },
  {
   "cell_type": "code",
   "execution_count": 33,
   "metadata": {
    "collapsed": false
   },
   "outputs": [
    {
     "name": "stdout",
     "output_type": "stream",
     "text": [
      "\r\n",
      "ones = 105\r\n",
      "twos = 113\r\n",
      "threes = 94\r\n",
      "fours = 108\r\n",
      "fives = 100\r\n",
      "sixes = 80\r\n",
      "\r\n"
     ]
    }
   ],
   "source": [
    "./random-die.sh"
   ]
  },
  {
   "cell_type": "code",
   "execution_count": 34,
   "metadata": {
    "collapsed": false
   },
   "outputs": [
    {
     "name": "stdout",
     "output_type": "stream",
     "text": [
      "\r\n",
      "ones = 100\r\n",
      "twos = 96\r\n",
      "threes = 114\r\n",
      "fours = 97\r\n",
      "fives = 96\r\n",
      "sixes = 97\r\n",
      "\r\n"
     ]
    }
   ],
   "source": [
    "./random-die.sh"
   ]
  },
  {
   "cell_type": "markdown",
   "metadata": {},
   "source": [
    "As we have seen in the last example, it is best to reseed the RANDOM generator each time it is invoked.   \n",
    "Using the same seed for RANDOM repeats the same series of numbers.  \n",
    "(This mirrors the behavior of the random() function in C.)"
   ]
  },
  {
   "cell_type": "code",
   "execution_count": 35,
   "metadata": {
    "collapsed": false
   },
   "outputs": [
    {
     "name": "stdout",
     "output_type": "stream",
     "text": [
      "#!/bin/bash\r\n",
      "# seeding-random.sh: Seeding the RANDOM variable.\r\n",
      "\r\n",
      "# How many numbers to generate.\r\n",
      "MAXCOUNT=10 \r\n",
      "SEED=\r\n",
      "\r\n",
      "random_numbers ()\r\n",
      "{\r\n",
      "  local count=0\r\n",
      "  local number\r\n",
      "  while [ \"$count\" -lt \"$MAXCOUNT\" ]\r\n",
      "  do\r\n",
      "    number=$RANDOM\r\n",
      "    echo -n \"$number \"\r\n",
      "    let \"count++\"\r\n",
      "  done\r\n",
      "}\r\n",
      "\r\n",
      "SEED=1\r\n",
      "# Setting RANDOM seeds the random number generator.\r\n",
      "RANDOM=$SEED \r\n",
      "echo \"Random seed = $SEED\"\r\n",
      "random_numbers\r\n",
      "\r\n",
      "# Same seed for RANDOM . . .\r\n",
      "RANDOM=$SEED \r\n",
      "echo\r\n",
      "echo \"Again, with same random seed ...\"\r\n",
      "echo \"Random seed = $SEED\"\r\n",
      "random_numbers     # . . . reproduces the exact same number series.\r\n",
      "                   #\r\n",
      "                   # When is it useful to duplicate a \"random\" series?\r\n",
      "\r\n",
      "echo\r\n",
      "# Trying again, but with a different seed . . .\r\n",
      "SEED=2\r\n",
      "RANDOM=$SEED \r\n",
      "echo \"Random seed = $SEED\"\r\n",
      "random_numbers     # . . . gives a different number series.\r\n",
      "\r\n",
      "echo\r\n",
      "#  RANDOM=$$ seeds RANDOM from process id of script.\r\n",
      "#  It is also possible to seed RANDOM from 'time' or 'date' commands.\r\n",
      "\r\n",
      "#  Getting fancy...\r\n",
      "SEED=$(head -1 /dev/urandom | od -N 1 | awk '{ print $2 }'| sed s/^0*//)\r\n",
      "#  Pseudo-random output fetched\r\n",
      "#+ from /dev/urandom (system pseudo-random device-file),\r\n",
      "#+ then converted to line of printable (octal) numbers by \"od\",\r\n",
      "#+ then \"awk\" retrieves just one number for SEED,\r\n",
      "#+ finally \"sed\" removes any leading zeros.\r\n",
      "RANDOM=$SEED\r\n",
      "echo \"Random seed = $SEED\"\r\n",
      "random_numbers\r\n",
      "\r\n",
      "echo\r\n",
      "exit 0\r\n"
     ]
    }
   ],
   "source": [
    "cat seed-random.sh"
   ]
  },
  {
   "cell_type": "code",
   "execution_count": 36,
   "metadata": {
    "collapsed": false
   },
   "outputs": [
    {
     "name": "stdout",
     "output_type": "stream",
     "text": [
      "Random seed = 1\r\n",
      "16807 15089 11481 3114 14210 23240 3800 2558 12099 1101 \r\n",
      "Again, with same random seed ...\r\n",
      "Random seed = 1\r\n",
      "16807 15089 11481 3114 14210 23240 3800 2558 12099 1101 \r\n",
      "Random seed = 2\r\n",
      "846 30178 22963 6228 28421 13712 7600 5117 24199 2203 \r\n",
      "Random seed = 73\r\n",
      "14495 20162 18968 30747 21560 25368 31587 29373 13753 7722 \r\n"
     ]
    }
   ],
   "source": [
    "./seed-random.sh"
   ]
  },
  {
   "cell_type": "code",
   "execution_count": 37,
   "metadata": {
    "collapsed": false
   },
   "outputs": [
    {
     "name": "stdout",
     "output_type": "stream",
     "text": [
      "Random seed = 1\r\n",
      "16807 15089 11481 3114 14210 23240 3800 2558 12099 1101 \r\n",
      "Again, with same random seed ...\r\n",
      "Random seed = 1\r\n",
      "16807 15089 11481 3114 14210 23240 3800 2558 12099 1101 \r\n",
      "Random seed = 2\r\n",
      "846 30178 22963 6228 28421 13712 7600 5117 24199 2203 \r\n",
      "Random seed = 21\r\n",
      "25267 21959 11740 32635 3509 29292 14265 4524 31147 5585 \r\n"
     ]
    }
   ],
   "source": [
    "./seed-random.sh"
   ]
  },
  {
   "cell_type": "markdown",
   "metadata": {},
   "source": [
    "The /dev/urandom pseudo-device file provides a method of generating much more \"random\" pseudorandom numbers than the $RANDOM variable.dd if=/dev/urandom of=targetfile bs=1 count=XX creates a file of well-scattered pseudorandom numbers.However, assigning these numbers to a variable in a script requires a workaround, such as filtering through od (as in above example, Example 16-14, and Example A-36), or even piping to md5sum (see Example 36-16)."
   ]
  },
  {
   "cell_type": "markdown",
   "metadata": {},
   "source": [
    "There are also other ways to generate pseudorandom numbers in a script.   \n",
    "Awk provides a convenient means of doing this."
   ]
  },
  {
   "cell_type": "markdown",
   "metadata": {},
   "source": [
    "#### Example 9-17. Pseudorandom numbers, using awk"
   ]
  },
  {
   "cell_type": "code",
   "execution_count": 38,
   "metadata": {
    "collapsed": false
   },
   "outputs": [
    {
     "name": "stdout",
     "output_type": "stream",
     "text": [
      "#!/bin/bash\r\n",
      "\r\n",
      "#  random2.sh: Returns a pseudorandom number in the range 0 - 1,\r\n",
      "#+ to 6 decimal places. For example: 0.822725\r\n",
      "#  Uses the awk rand() function.\r\n",
      "\r\n",
      "AWKSCRIPT=' { srand(); print rand() } '\r\n",
      "#           Command(s)/parameters passed to awk\r\n",
      "# Note that srand() reseeds awk's random number generator.\r\n",
      "\r\n",
      "echo -n \"Random number between 0 and 1 = \"\r\n",
      "# What happens if you leave out the 'echo'?\r\n",
      "echo | awk \"$AWKSCRIPT\"\r\n",
      "\r\n",
      "exit 0\r\n"
     ]
    }
   ],
   "source": [
    "cat random-by-awk.sh"
   ]
  },
  {
   "cell_type": "code",
   "execution_count": 39,
   "metadata": {
    "collapsed": false
   },
   "outputs": [
    {
     "name": "stdout",
     "output_type": "stream",
     "text": [
      "Random number between 0 and 1 = 0.195992\r\n"
     ]
    }
   ],
   "source": [
    "./random-by-awk.sh"
   ]
  },
  {
   "cell_type": "code",
   "execution_count": 40,
   "metadata": {
    "collapsed": false
   },
   "outputs": [
    {
     "name": "stdout",
     "output_type": "stream",
     "text": [
      "Random number between 0 and 1 = 0.288576\r\n"
     ]
    }
   ],
   "source": [
    "./random-by-awk.sh"
   ]
  },
  {
   "cell_type": "code",
   "execution_count": 41,
   "metadata": {
    "collapsed": false
   },
   "outputs": [
    {
     "name": "stdout",
     "output_type": "stream",
     "text": [
      "Random number between 0 and 1 = 0.533621\r\n"
     ]
    }
   ],
   "source": [
    "./random-by-awk.sh"
   ]
  },
  {
   "cell_type": "markdown",
   "metadata": {},
   "source": [
    "The date command also lends itself to generating pseudorandom integer sequences.  \n",
    "\n",
    "The date command has quite a number of output options.   \n",
    "For example %N gives the nanosecond portion of the current time.   \n",
    "One interesting use for this is to generate random integers."
   ]
  },
  {
   "cell_type": "code",
   "execution_count": 42,
   "metadata": {
    "collapsed": false
   },
   "outputs": [
    {
     "name": "stdout",
     "output_type": "stream",
     "text": [
      "388242747\r\n"
     ]
    }
   ],
   "source": [
    "#  Strip off leading and trailing zeroes, if present.\n",
    "#  Length of generated integer depends on\n",
    "#+ how many zeroes stripped off.\n",
    "date +%N | sed -e 's/000$//' -e 's/^0//'"
   ]
  },
  {
   "cell_type": "code",
   "execution_count": 43,
   "metadata": {
    "collapsed": false
   },
   "outputs": [
    {
     "name": "stdout",
     "output_type": "stream",
     "text": [
      "441314487\r\n"
     ]
    }
   ],
   "source": [
    "date +%N | sed -e 's/000$//' -e 's/^0//'"
   ]
  }
 ],
 "metadata": {
  "kernelspec": {
   "display_name": "Bash",
   "language": "bash",
   "name": "bash"
  },
  "language_info": {
   "codemirror_mode": "shell",
   "file_extension": ".sh",
   "mimetype": "text/x-sh",
   "name": "bash"
  }
 },
 "nbformat": 4,
 "nbformat_minor": 0
}
