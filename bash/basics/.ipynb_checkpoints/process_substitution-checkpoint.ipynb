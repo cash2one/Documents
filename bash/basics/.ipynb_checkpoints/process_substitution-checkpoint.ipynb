{
 "cells": [
  {
   "cell_type": "markdown",
   "metadata": {},
   "source": [
    "## 23. Process Substitution"
   ]
  },
  {
   "cell_type": "markdown",
   "metadata": {},
   "source": [
    "Piping the stdout of a command into the stdin of another is a powerful technique.   \n",
    "But, what if you need to pipe the stdout of multiple commands?   \n",
    "This is where process substitution comes in."
   ]
  },
  {
   "cell_type": "markdown",
   "metadata": {},
   "source": [
    "Process substitution feeds the output of a process (or processes) into the stdin of another process."
   ]
  },
  {
   "cell_type": "markdown",
   "metadata": {},
   "source": [
    "#### Template"
   ]
  },
  {
   "cell_type": "markdown",
   "metadata": {},
   "source": [
    "Command list enclosed within parentheses\n",
    "##### >(command_list)\n",
    "##### <(command_list)"
   ]
  },
  {
   "cell_type": "raw",
   "metadata": {},
   "source": [
    "Process substitution uses /dev/fd/<n> files to \n",
    "send the results of the process(es) within parentheses to another process.\n",
    "\n",
    "There is no space between the the \"<\" or \">\" and the parentheses. \n",
    "Space there would give an error message."
   ]
  },
  {
   "cell_type": "markdown",
   "metadata": {},
   "source": [
    "#### 关于设备文件目录/dev/fd"
   ]
  },
  {
   "cell_type": "code",
   "execution_count": 1,
   "metadata": {
    "collapsed": false
   },
   "outputs": [
    {
     "name": "stdout",
     "output_type": "stream",
     "text": [
      "lrwxrwxrwx 1 root root 13  6月 16 04:35 /dev/fd -> /proc/self/fd\r\n"
     ]
    }
   ],
   "source": [
    "# /dev/fd是一个链接文件\n",
    "# 连接到/proc/self/fd目录\n",
    "ls -l /dev/fd"
   ]
  },
  {
   "cell_type": "code",
   "execution_count": 2,
   "metadata": {
    "collapsed": false
   },
   "outputs": [
    {
     "name": "stdout",
     "output_type": "stream",
     "text": [
      "total 0\r\n",
      "lrwx------ 1 liheyi liheyi 64  8月 31 15:14 0 -> /dev/pts/3\r\n",
      "lrwx------ 1 liheyi liheyi 64  8月 31 15:14 1 -> /dev/pts/3\r\n",
      "lrwx------ 1 liheyi liheyi 64  8月 31 15:14 2 -> /dev/pts/3\r\n",
      "lr-x------ 1 liheyi liheyi 64  8月 31 15:14 3 -> /proc/95437/fd\r\n"
     ]
    }
   ],
   "source": [
    "ls -l /proc/self/fd"
   ]
  },
  {
   "cell_type": "code",
   "execution_count": 4,
   "metadata": {
    "collapsed": false
   },
   "outputs": [
    {
     "name": "stdout",
     "output_type": "stream",
     "text": [
      "/dev/fd/0: symbolic link to `/dev/pts/3' \r\n",
      "/dev/fd/1: symbolic link to `/dev/pts/3' \r\n",
      "/dev/fd/2: symbolic link to `/dev/pts/3' \r\n"
     ]
    }
   ],
   "source": [
    "# 可以看到连接文件0,1,2都是连接到虚拟终端/dev/pts/3\n",
    "# 这里的0,1,2应该可以解释为当用户登录一个终端时；\n",
    "# 该终端自动打开的三个文件：\n",
    "# 标准输入     -- 0\n",
    "# 标准输出     -- 1\n",
    "# 标准错误输出 -- 2\n",
    "file /dev/fd/0 /dev/fd/1 /dev/fd/2"
   ]
  },
  {
   "cell_type": "code",
   "execution_count": 5,
   "metadata": {
    "collapsed": false,
    "scrolled": true
   },
   "outputs": [
    {
     "name": "stdout",
     "output_type": "stream",
     "text": [
      "total 0\r\n",
      "crw--w---- 1 root   tty  136, 0  8月 26 15:17 0\r\n",
      "crw--w---- 1 liheyi tty  136, 1  8月 31 15:17 1\r\n",
      "crw------- 1 liheyi tty  136, 2  8月 31 15:06 2\r\n",
      "crw--w---- 1 liheyi tty  136, 3  8月 31 15:16 3\r\n",
      "crw--w---- 1 root   tty  136, 5  6月 16 04:35 5\r\n",
      "crw--w---- 1 root   tty  136, 6  6月 16 04:35 6\r\n",
      "crw--w---- 1 root   tty  136, 8  6月 16 04:35 8\r\n",
      "c--------- 1 root   root   5, 2  6月 16 04:35 ptmx\r\n"
     ]
    }
   ],
   "source": [
    "ls -l /dev/pts/"
   ]
  },
  {
   "cell_type": "code",
   "execution_count": 6,
   "metadata": {
    "collapsed": false
   },
   "outputs": [
    {
     "name": "stdout",
     "output_type": "stream",
     "text": [
      "/dev/pts/3\r\n"
     ]
    }
   ],
   "source": [
    "tty"
   ]
  },
  {
   "cell_type": "markdown",
   "metadata": {},
   "source": [
    "在不同的终端查看标准输入、标准输出和标准错误输出所连接到终端是不同的，  \n",
    "即，在哪个终端上查看，则三者连接到执行的终端上  "
   ]
  },
  {
   "cell_type": "raw",
   "metadata": {},
   "source": [
    "liheyi@analysis:~$ tty\n",
    "/dev/pts/1\n",
    "liheyi@analysis:~$ file /dev/fd/0 /dev/fd/1 /dev/fd/2\n",
    "/dev/fd/0: symbolic link to `/dev/pts/1' \n",
    "/dev/fd/1: symbolic link to `/dev/pts/1' \n",
    "/dev/fd/2: symbolic link to `/dev/pts/1'\n",
    "\n",
    "liheyi@analysis:~$ tty\n",
    "/dev/pts/2\n",
    "liheyi@analysis:~$ file /dev/fd/0 /dev/fd/1 /dev/fd/2\n",
    "/dev/fd/0: symbolic link to `/dev/pts/2' \n",
    "/dev/fd/1: symbolic link to `/dev/pts/2' \n",
    "/dev/fd/2: symbolic link to `/dev/pts/2'"
   ]
  },
  {
   "cell_type": "code",
   "execution_count": 7,
   "metadata": {
    "collapsed": false
   },
   "outputs": [
    {
     "name": "stdout",
     "output_type": "stream",
     "text": [
      "/dev/fd/63\r\n"
     ]
    }
   ],
   "source": [
    "echo >(true)"
   ]
  },
  {
   "cell_type": "code",
   "execution_count": 8,
   "metadata": {
    "collapsed": false
   },
   "outputs": [
    {
     "name": "stdout",
     "output_type": "stream",
     "text": [
      "/dev/fd/63\r\n"
     ]
    }
   ],
   "source": [
    "echo <(true)"
   ]
  },
  {
   "cell_type": "code",
   "execution_count": 9,
   "metadata": {
    "collapsed": false
   },
   "outputs": [
    {
     "name": "stdout",
     "output_type": "stream",
     "text": [
      "/dev/fd/63 /dev/fd/62\r\n"
     ]
    }
   ],
   "source": [
    "echo >(true) <(true)"
   ]
  },
  {
   "cell_type": "code",
   "execution_count": 11,
   "metadata": {
    "collapsed": false
   },
   "outputs": [
    {
     "name": "stdout",
     "output_type": "stream",
     "text": [
      "  99171   99171  938848 /dev/fd/63\r\n"
     ]
    }
   ],
   "source": [
    "wc <(cat /usr/share/dict/american-english)"
   ]
  },
  {
   "cell_type": "code",
   "execution_count": 13,
   "metadata": {
    "collapsed": false
   },
   "outputs": [
    {
     "name": "stdout",
     "output_type": "stream",
     "text": [
      "     67      67     845\r\n"
     ]
    }
   ],
   "source": [
    "grep script /usr/share/dict/american-english | wc"
   ]
  },
  {
   "cell_type": "code",
   "execution_count": 14,
   "metadata": {
    "collapsed": false
   },
   "outputs": [
    {
     "name": "stdout",
     "output_type": "stream",
     "text": [
      "     67      67     845 /dev/fd/63\r\n"
     ]
    }
   ],
   "source": [
    "wc <(grep script /usr/share/dict/american-english)"
   ]
  },
  {
   "cell_type": "raw",
   "metadata": {},
   "source": [
    "Bash creates a pipe with two file descriptors, --fIn and fOut--. \n",
    "The stdin of true connects to fOut (dup2(fOut, 0)), \n",
    "then Bash passes a /dev/fd/fIn argument to echo. \n",
    "On systems lacking /dev/fd/<n> files, Bash may use temporary files."
   ]
  },
  {
   "cell_type": "markdown",
   "metadata": {},
   "source": [
    "Process substitution can compare the output of two different commands,   \n",
    "or even the output of different options to the same command."
   ]
  },
  {
   "cell_type": "code",
   "execution_count": 18,
   "metadata": {
    "collapsed": false
   },
   "outputs": [
    {
     "name": "stdout",
     "output_type": "stream",
     "text": [
      "total 60\r\n",
      "comm: file 1 is not in sorted order\r\n",
      "-rw-rw-r-- 1 liheyi liheyi 14387  8月 26 18:04 linux_console.ipynb\r\n",
      "-rw-rw-r-- 1 liheyi liheyi 10451  8月 26 18:04 linux_startup_process.ipynb\r\n",
      "-rw-rw-r-- 1 liheyi liheyi 30854  8月 26 17:17 The_difference_of_tty_pty_pts_tts.ipynb\r\n",
      "\ttotal 72\r\n",
      "comm: file 2 is not in sorted order\r\n",
      "\tdrwxrwxr-x 3 liheyi liheyi  4096  8月 26 18:04 .\r\n",
      "\tdrwxrwxr-x 7 liheyi liheyi  4096  8月 31 09:49 ..\r\n",
      "\tdrwxr-xr-x 2 liheyi liheyi  4096  8月 26 17:25 .ipynb_checkpoints\r\n",
      "\t-rw-rw-r-- 1 liheyi liheyi 14387  8月 26 18:04 linux_console.ipynb\r\n",
      "\t-rw-rw-r-- 1 liheyi liheyi 10451  8月 26 18:04 linux_startup_process.ipynb\r\n",
      "\t-rw-rw-r-- 1 liheyi liheyi 30854  8月 26 17:17 The_difference_of_tty_pty_pts_tts.ipynb\r\n"
     ]
    }
   ],
   "source": [
    "comm <(ls -l /home/liheyi/jupyter/linux) <(ls -al /home/liheyi/jupyter/linux)"
   ]
  },
  {
   "cell_type": "markdown",
   "metadata": {},
   "source": [
    "Process substitution can compare the contents of two directories:  \n",
    "to see which filenames are in one, but not the other."
   ]
  },
  {
   "cell_type": "code",
   "execution_count": 19,
   "metadata": {
    "collapsed": false
   },
   "outputs": [
    {
     "name": "stdout",
     "output_type": "stream",
     "text": [
      "23d22\r\n",
      "< data_box.config\r\n",
      "30c29\r\n",
      "< data_common.config\r\n",
      "---\r\n",
      "> data_common.config.bak\r\n",
      "109a109\r\n",
      "> data_ranking.config\r\n"
     ]
    }
   ],
   "source": [
    "# 输出说明：\n",
    "# 主要用于比较两个目录中文件名的差异\n",
    "\n",
    "# 23d22\n",
    "#< data_box.config\n",
    "# 说明仅config1目录中有data_box.config文件\n",
    "\n",
    "# 30c29\n",
    "#< data_common.config\n",
    "#---\n",
    "#> data_common.config.bak\n",
    "# 说明config1目录中存在data_common.config文件\n",
    "# 而config2目录中存在data_common.config.bak文件\n",
    "\n",
    "# 109a109\n",
    "# > data_ranking.config\n",
    "# 说明仅config2目录中有data_ranking.config文件\n",
    "\n",
    "diff <(ls config1) <(ls config2)"
   ]
  },
  {
   "cell_type": "markdown",
   "metadata": {},
   "source": [
    "Some other usages and uses of process substitution:"
   ]
  },
  {
   "cell_type": "code",
   "execution_count": 20,
   "metadata": {
    "collapsed": false
   },
   "outputs": [
    {
     "name": "stdout",
     "output_type": "stream",
     "text": []
    }
   ],
   "source": [
    "#  Read a list of random numbers from /dev/urandom,\n",
    "#+ process with \"od\"\n",
    "#+ and feed into stdin of \"read\" . . .\n",
    "#  From \"insertion-sort.bash\" example script.\n",
    "#  Courtesy of JuanJo Ciarlante.\n",
    "read -a list < <( od -Ad -w24 -t u2 /dev/urandom )"
   ]
  },
  {
   "cell_type": "code",
   "execution_count": null,
   "metadata": {
    "collapsed": true
   },
   "outputs": [],
   "source": [
    "# bittorrent\n",
    "PORT=6881\n",
    "# Scan the port to make sure nothing nefarious is going on.\n",
    "netcat -l $PORT | tee>(md5sum ->mydata-orig.md5) |\n",
    "gzip | tee>(md5sum - | sed 's/-$/mydata.lz2/'>mydata-gz.md5)>mydata.gz\n",
    "\n",
    "# Check the decompression:\n",
    "gzip -d<mydata.gz | md5sum -c mydata-orig.md5)\n",
    "# The MD5sum of the original checks stdin and detects compression issues"
   ]
  },
  {
   "cell_type": "code",
   "execution_count": 23,
   "metadata": {
    "collapsed": false
   },
   "outputs": [
    {
     "name": "stdout",
     "output_type": "stream",
     "text": [
      "total 624\r\n",
      "-rw-rw-r-- 1 liheyi liheyi   5546  6月 30 17:40 command_line_shortcut.ipynb\r\n",
      "-rw-rw-r-- 1 liheyi liheyi  35745  8月  2 18:11 variables_and_parameters.ipynb\r\n",
      "-rw-rw-r-- 1 liheyi liheyi   7252  8月  3 09:43 exit_and_exit_status.ipynb\r\n",
      "-rw-rw-r-- 1 liheyi liheyi  55789  8月  3 12:18 test.ipynb\r\n",
      "-rw-rw-r-- 1 liheyi liheyi  31133  8月 17 14:37 quoting.ipynb\r\n",
      "-rw-rw-r-- 1 liheyi liheyi  28335  8月 17 15:24 operations_and_related_topics.ipynb\r\n",
      "-rw-rw-r-- 1 liheyi liheyi 122146  8月 18 12:39 another_look_at_variables.ipynb\r\n",
      "-rw-rw-r-- 1 liheyi liheyi  67279  8月 18 17:45 manipulate_variables.ipynb\r\n",
      "-rw-rw-r-- 1 liheyi liheyi  19707  8月 19 10:49 command_substitution.ipynb\r\n",
      "-rw-rw-r-- 1 liheyi liheyi 117471  8月 19 17:57 loops_and_branches.ipynb\r\n",
      "-rw-rw-r-- 1 liheyi liheyi   4849  8月 23 15:07 arithmetic_expansion.ipynb\r\n",
      "-rw-rw-r-- 1 liheyi liheyi   4253  8月 31 14:58 restricted_shells.ipynb\r\n",
      "-rw-rw-r-- 1 liheyi liheyi  65223  8月 31 14:58 IO_redirection.ipynb\r\n",
      "-rw-rw-r-- 1 liheyi liheyi  16004  8月 31 14:58 subshells.ipynb\r\n",
      "drwxrwxr-x 3 liheyi liheyi  12288  8月 31 15:51 config1\r\n",
      "drwxrwxr-x 3 liheyi liheyi  12288  8月 31 15:52 config2\r\n",
      "-rw-rw-r-- 1 liheyi liheyi  11599  8月 31 16:24 process_substitution.ipynb\r\n"
     ]
    }
   ],
   "source": [
    "# Same as ls -ltr | cat\n",
    "cat <(ls -ltr)"
   ]
  },
  {
   "cell_type": "code",
   "execution_count": 28,
   "metadata": {
    "collapsed": false
   },
   "outputs": [
    {
     "name": "stdout",
     "output_type": "stream",
     "text": [
      "total 228\r\n",
      "total 752\r\n",
      "-rw-rw-r-- 1 liheyi liheyi 122146  8月 18 12:39 another_look_at_variables.ipynb\r\n",
      "-rw-rw-r-- 1 liheyi liheyi   4849  8月 23 15:07 arithmetic_expansion.ipynb\r\n",
      "-rw-rw-r-- 1 liheyi liheyi   5546  6月 30 17:40 command_line_shortcut.ipynb\r\n",
      "-rw-rw-r-- 1 liheyi liheyi  19707  8月 19 10:49 command_substitution.ipynb\r\n",
      "drwxrwxr-x 3 liheyi liheyi  12288  8月 31 15:51 config1\r\n",
      "drwxrwxr-x 3 liheyi liheyi  12288  8月 31 15:52 config2\r\n",
      "-rw-rw-r-- 1 liheyi liheyi   7252  8月  3 09:43 exit_and_exit_status.ipynb\r\n",
      "-rw-rw-r-- 1 liheyi liheyi  65223  8月 31 14:58 IO_redirection.ipynb\r\n",
      "-rw-rw-r-- 1 liheyi liheyi 14184  8月 23 15:30 linux_command_cat.ipynb\r\n",
      "-rw-rw-r-- 1 liheyi liheyi 21502  8月  8 17:58 linux_command_cut.ipynb\r\n",
      "-rw-rw-r-- 1 liheyi liheyi 29276  8月 11 17:58 linux_command_diff.ipynb\r\n",
      "-rw-rw-r-- 1 liheyi liheyi  6485  8月  8 17:58 linux_command_fold.ipynb\r\n",
      "-rw-rw-r-- 1 liheyi liheyi 30176  8月 23 18:18 linux_command_grep.ipynb\r\n",
      "-rw-rw-r-- 1 liheyi liheyi 11950  8月  9 10:18 linux_command_head.ipynb\r\n",
      "-rw-rw-r-- 1 liheyi liheyi 16229  8月  8 17:58 linux_command_join.ipynb\r\n",
      "-rw-rw-r-- 1 liheyi liheyi 22385  8月  9 16:04 linux_command_nl.ipynb\r\n",
      "-rw-rw-r-- 1 liheyi liheyi  9365  8月  8 17:58 linux_command_paste.ipynb\r\n",
      "-rw-rw-r-- 1 liheyi liheyi  2660  8月  9 17:00 linux_command_rev.ipynb\r\n",
      "-rw-rw-r-- 1 liheyi liheyi  6900  8月 11 11:24 linux_command_strings.ipynb\r\n",
      "-rw-rw-r-- 1 liheyi liheyi  5510  8月  9 16:40 linux_command_tac.ipynb\r\n",
      "-rw-rw-r-- 1 liheyi liheyi 14334  8月  9 15:06 linux_command_tail.ipynb\r\n",
      "-rw-rw-r-- 1 liheyi liheyi 12370  8月  8 17:58 linux_command_tr.ipynb\r\n",
      "-rw-rw-r-- 1 liheyi liheyi 117471  8月 19 17:57 loops_and_branches.ipynb\r\n",
      "-rw-rw-r-- 1 liheyi liheyi  67279  8月 18 17:45 manipulate_variables.ipynb\r\n",
      "-rw-rw-r-- 1 liheyi liheyi  28335  8月 17 15:24 operations_and_related_topics.ipynb\r\n",
      "-rw-rw-r-- 1 liheyi liheyi 141178  8月 31 16:34 process_substitution.ipynb\r\n",
      "-rw-rw-r-- 1 liheyi liheyi  31133  8月 17 14:37 quoting.ipynb\r\n",
      "-rw-rw-r-- 1 liheyi liheyi   4253  8月 31 14:58 restricted_shells.ipynb\r\n",
      "-rw-rw-r-- 1 liheyi liheyi  16004  8月 31 14:58 subshells.ipynb\r\n",
      "-rw-rw-r-- 1 liheyi liheyi  55789  8月  3 12:18 test.ipynb\r\n",
      "-rw-rw-r-- 1 liheyi liheyi  35745  8月  2 18:11 variables_and_parameters.ipynb\r\n"
     ]
    }
   ],
   "source": [
    "# Lists all the files in the 2 directories, and sorts by filename.\n",
    "# Note that two (count 'em) distinct commands are fed to 'sort'.\n",
    "sort -k9 <(ls -l ~/jupyter/bash/basics/) <(ls -l ~/jupyter/bash/commands/file_manage/file/data)"
   ]
  },
  {
   "cell_type": "code",
   "execution_count": null,
   "metadata": {
    "collapsed": true
   },
   "outputs": [],
   "source": [
    "# Gives difference in command output.\n",
    "diff <(command1) <(command2)"
   ]
  },
  {
   "cell_type": "code",
   "execution_count": 29,
   "metadata": {
    "collapsed": false
   },
   "outputs": [
    {
     "name": "stdout",
     "output_type": "stream",
     "text": [
      "tar: Removing leading `/' from member names\r\n",
      "tar: /home/liheyi/jupyter/bash/basics/jupyter.tgz2: file changed as we read it\r\n"
     ]
    }
   ],
   "source": [
    "# Calls \"tar cf /dev/fd/?? $directory_name\", \n",
    "# and \"bzip2 -c > file.tar.bz2\".\n",
    "tar cf >(bzip2 -c > jupyter.tgz2) /home/liheyi/jupyter"
   ]
  },
  {
   "cell_type": "code",
   "execution_count": 30,
   "metadata": {
    "collapsed": false
   },
   "outputs": [
    {
     "name": "stdout",
     "output_type": "stream",
     "text": [
      "-rw-rw-r-- 1 liheyi liheyi 3.3M  8月 31 16:41 jupyter.tgz2\r\n"
     ]
    }
   ],
   "source": [
    "ls -lh jupyter.tgz2"
   ]
  },
  {
   "cell_type": "code",
   "execution_count": null,
   "metadata": {
    "collapsed": false
   },
   "outputs": [],
   "source": [
    "# Because of the /dev/fd/<n> system feature,\n",
    "# the pipe between both commands does not need to be named.\n",
    "#\n",
    "# This can be emulated.\n",
    "bzip2 -c < pipe > file.tar.bz2&\n",
    "tar cf pipe /home/liheyi/anaconda2\n",
    "rm pipe\n",
    "\n",
    "# or\n",
    "exec 3>&1\n",
    "tar cf /dev/fd/4 /home/liheyi/anaconda2 4>&1 >&3 3>&- | bzip2 -c > file.tar.bz2 3>&-\n",
    "exec 3>&-"
   ]
  },
  {
   "cell_type": "markdown",
   "metadata": {},
   "source": [
    "Here is a method of circumventing the problem of an echo piped to a while-read loop running in a subshell."
   ]
  },
  {
   "cell_type": "markdown",
   "metadata": {},
   "source": [
    "#### Example 23-1. Code block redirection without forking"
   ]
  },
  {
   "cell_type": "code",
   "execution_count": 32,
   "metadata": {
    "collapsed": false
   },
   "outputs": [
    {
     "name": "stdout",
     "output_type": "stream",
     "text": [
      "#!/bin/bash\r\n",
      "# wr-ps.bash: while-read loop with process substitution.\r\n",
      "\r\n",
      "# This example contributed by Tomas Pospisek.\r\n",
      "# (Heavily edited by the ABS Guide author.)\r\n",
      "\r\n",
      "echo\r\n",
      "\r\n",
      "echo \"random input\" | while read i\r\n",
      "do\r\n",
      "    global=3D\": Not available outside the loop.\"\r\n",
      "    # ... because it runs in a subshell.\r\n",
      "done\r\n",
      "\r\n",
      "echo \"\\$global (from outside the subprocess) = $global\"\r\n",
      "# $global (from outside the subprocess) =\r\n",
      "\r\n",
      "echo; echo \"----------\"; echo\r\n",
      "\r\n",
      "while read i\r\n",
      "do\r\n",
      "    echo $i\r\n",
      "    global=3D\": Available outside the loop.\"\r\n",
      "    # ... because it does NOT run in a subshell.\r\n",
      "done < <( echo \"random input\" )\r\n",
      "#    ^ ^\r\n",
      "\r\n",
      "echo \"\\$global (using process substitution) = $global\"\r\n",
      "# Random input\r\n",
      "# $global (using process substitution) = 3D: Available outside the loop.\r\n",
      "\r\n",
      "echo; echo \"##########\"; echo\r\n",
      "\r\n",
      "# And likewise . . .\r\n",
      "declare -a inloop\r\n",
      "index=0\r\n",
      "cat $0 | while read line\r\n",
      "do\r\n",
      "    inloop[$index]=\"$line\"\r\n",
      "    ((index++))\r\n",
      "    # It runs in a subshell, so ...\r\n",
      "done\r\n",
      "echo \"OUTPUT = \"\r\n",
      "echo ${inloop[*]}   # ... nothing echoes.\r\n",
      "\r\n",
      "echo; echo \"----------\"; echo\r\n",
      "\r\n",
      "declare -a outloop\r\n",
      "index=0\r\n",
      "while read line\r\n",
      "do\r\n",
      "    outloop[$index]=\"$line\"\r\n",
      "    ((index++))\r\n",
      "    # It does NOT run in a subshell, so ...\r\n",
      "done < <( cat $0 )\r\n",
      "echo \"OUTPUT = \"\r\n",
      "echo ${outloop[*]}  # ... the entire script echoes.\r\n",
      "\r\n",
      "exit $?\r\n"
     ]
    }
   ],
   "source": [
    "cat wr-ps.bash"
   ]
  },
  {
   "cell_type": "code",
   "execution_count": 33,
   "metadata": {
    "collapsed": false
   },
   "outputs": [
    {
     "name": "stdout",
     "output_type": "stream",
     "text": [
      "\r\n",
      "$global (from outside the subprocess) = \r\n",
      "\r\n",
      "----------\r\n",
      "\r\n",
      "random input\r\n",
      "$global (using process substitution) = 3D: Available outside the loop.\r\n",
      "\r\n",
      "##########\r\n",
      "\r\n",
      "OUTPUT = \r\n",
      "\r\n",
      "\r\n",
      "----------\r\n",
      "\r\n",
      "OUTPUT = \r\n",
      "#!/bin/bash # wr-ps.bash: while-read loop with process substitution. # This example contributed by Tomas Pospisek. # (Heavily edited by the ABS Guide author.) echo echo \"random input\" | while read i do global=3D\": Not available outside the loop.\" # ... because it runs in a subshell. done echo \"$global (from outside the subprocess) = $global\" # $global (from outside the subprocess) = echo; echo \"----------\"; echo while read i do echo $i global=3D\": Available outside the loop.\" # ... because it does NOT run in a subshell. done < <( echo \"random input\" ) # ^ ^ echo \"$global (using process substitution) = $global\" # Random input # $global (using process substitution) = 3D: Available outside the loop. echo; echo \"##########\"; echo # And likewise . . . declare -a inloop index=0 cat $0 | while read line do inloop[$index]=\"$line\" ((index++)) # It runs in a subshell, so ... done echo \"OUTPUT = \" echo ${inloop[*]} # ... nothing echoes. echo; echo \"----------\"; echo declare -a outloop index=0 while read line do outloop[$index]=\"$line\" ((index++)) # It does NOT run in a subshell, so ... done < <( cat $0 ) echo \"OUTPUT = \" echo ${outloop[*]} # ... the entire script echoes. exit $?\r\n"
     ]
    }
   ],
   "source": [
    "./wr-ps.bash"
   ]
  },
  {
   "cell_type": "markdown",
   "metadata": {},
   "source": [
    "This is a similar example."
   ]
  },
  {
   "cell_type": "markdown",
   "metadata": {},
   "source": [
    "#### Example 23-2. Redirecting the output of process substitution into a loop."
   ]
  },
  {
   "cell_type": "code",
   "execution_count": 34,
   "metadata": {
    "collapsed": false
   },
   "outputs": [
    {
     "name": "stdout",
     "output_type": "stream",
     "text": [
      "#!/bin/bash\r\n",
      "# psub.bash\r\n",
      "\r\n",
      "# As inspired by Diego Molina (thanks!).\r\n",
      "\r\n",
      "declare -a array0\r\n",
      "while read\r\n",
      "do\r\n",
      "    array0[${#array0[@]}]=\"$REPLY\"\r\n",
      "done < <( sed -e 's/bash/CRASH-BANG!/' $0 | grep bin | awk '{print $1}' )\r\n",
      "#  Sets the default 'read' variable, $REPLY, by process substitution,\r\n",
      "#+ then copies it into an array.\r\n",
      "\r\n",
      "echo \"${array0[@]}\"\r\n",
      "\r\n",
      "exit $?\r\n"
     ]
    }
   ],
   "source": [
    "cat psub.bash"
   ]
  },
  {
   "cell_type": "code",
   "execution_count": 35,
   "metadata": {
    "collapsed": false
   },
   "outputs": [
    {
     "name": "stdout",
     "output_type": "stream",
     "text": [
      "#!/bin/CRASH-BANG! done\r\n"
     ]
    }
   ],
   "source": [
    "bash psub.bash"
   ]
  },
  {
   "cell_type": "markdown",
   "metadata": {},
   "source": [
    "A reader sent in the following interesting example of process substitution."
   ]
  },
  {
   "cell_type": "code",
   "execution_count": null,
   "metadata": {
    "collapsed": true
   },
   "outputs": [],
   "source": [
    "# Script fragment taken from SuSE distribution:\n",
    "\n",
    "# --------------------------------------------------------------#\n",
    "while read des what mask iface; do\n",
    "# Some commands ...\n",
    "done < <(route -n)\n",
    "#    ^ ^   First < is redirection, second is process substitution.\n",
    "\n",
    "# To test it, let's make it do something.\n",
    "while read des what mask iface; do\n",
    "  echo $des $what $mask $iface\n",
    "done < <(route -n)\n",
    "\n",
    "# Output:\n",
    "# Kernel IP routing table\n",
    "# Destination Gateway Genmask Flags Metric Ref Use Iface\n",
    "# 127.0.0.0 0.0.0.0 255.0.0.0 U 0 0 0 lo\n",
    "# --------------------------------------------------------------#\n",
    "\n",
    "#  As Stéphane Chazelas points out,\n",
    "#+ an easier-to-understand equivalent is:\n",
    "route -n |\n",
    "  while read des what mask iface; do # Variables set from output of pipe.\n",
    "    echo $des $what $mask $iface\n",
    "  done   #  This yields the same output as above.\n",
    "         #  However, as Ulrich Gayer points out . . .\n",
    "         #+ this simplified equivalent uses a subshell for the while loop,\n",
    "         #+ and therefore the variables disappear when the pipe terminates.\n",
    "         \n",
    "# --------------------------------------------------------------#\n",
    "\n",
    "#  However, Filip Moritz comments that there is a subtle difference\n",
    "#+ between the above two examples, as the following shows.\n",
    "\n",
    "(\n",
    "route -n | while read x; do ((y++)); done\n",
    "echo $y   # $y is still unset\n",
    "\n",
    "while read x; do ((y++)); done < <(route -n)\n",
    "echo $y   # $y has the number of lines of output of route -n\n",
    ")\n",
    "\n",
    "More generally spoken\n",
    "(\n",
    ": | x=x\n",
    "# seems to start a subshell like\n",
    ": | ( x=x )\n",
    "# while\n",
    "x=x < <(:)\n",
    "# does not\n",
    ")\n",
    "\n",
    "# This is useful, when parsing csv and the like.\n",
    "# That is, in effect, what the original SuSE code fragment does."
   ]
  }
 ],
 "metadata": {
  "kernelspec": {
   "display_name": "Bash",
   "language": "bash",
   "name": "bash"
  },
  "language_info": {
   "codemirror_mode": "shell",
   "file_extension": ".sh",
   "mimetype": "text/x-sh",
   "name": "bash"
  }
 },
 "nbformat": 4,
 "nbformat_minor": 0
}
