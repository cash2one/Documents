{
 "cells": [
  {
   "cell_type": "markdown",
   "metadata": {},
   "source": [
    "## 11. Loops and Branches"
   ]
  },
  {
   "cell_type": "markdown",
   "metadata": {},
   "source": [
    "Operations on code blocks are the key to structured and organized shell scripts.  \n",
    "Looping and branching constructs provide the tools for accomplishing this."
   ]
  },
  {
   "cell_type": "markdown",
   "metadata": {},
   "source": [
    "### Loops"
   ]
  },
  {
   "cell_type": "markdown",
   "metadata": {},
   "source": [
    "A loop is a block of code that iterates a list of commands as long as the loop control condition is true."
   ]
  },
  {
   "cell_type": "markdown",
   "metadata": {},
   "source": [
    "#### A.for loops"
   ]
  },
  {
   "cell_type": "markdown",
   "metadata": {},
   "source": [
    "#### for arg in [list]\n",
    "    This is the basic looping construct. \n",
    "    It differs significantly from its C counterpart."
   ]
  },
  {
   "cell_type": "raw",
   "metadata": {},
   "source": [
    "for arg in [list]\n",
    "do\n",
    "    command(s)...\n",
    "done"
   ]
  },
  {
   "cell_type": "markdown",
   "metadata": {},
   "source": [
    "During each pass through the loop,arg takes on the value of each successive variable in the list."
   ]
  },
  {
   "cell_type": "raw",
   "metadata": {},
   "source": [
    "for arg in \"$var1\" \"$var2\" \"$var3\" ... \"$varN\"\n",
    "# In pass 1 of the loop, arg = $var1\n",
    "# In pass 2 of the loop, arg = $var2\n",
    "# In pass 3 of the loop, arg = $var3\n",
    "# ...\n",
    "# In pass N of the loop, arg = $varN\n",
    "# Arguments in [list] quoted to prevent possible word splitting."
   ]
  },
  {
   "cell_type": "markdown",
   "metadata": {},
   "source": [
    "The argument list may contain wild cards."
   ]
  },
  {
   "cell_type": "markdown",
   "metadata": {},
   "source": [
    "If do is on same line as for, there needs to be a semicolon after list."
   ]
  },
  {
   "cell_type": "raw",
   "metadata": {},
   "source": [
    "for arg in [list];do\n",
    "    command(s)...\n",
    "done"
   ]
  },
  {
   "cell_type": "markdown",
   "metadata": {},
   "source": [
    "#### Example 11-1. Simple for loops"
   ]
  },
  {
   "cell_type": "code",
   "execution_count": 1,
   "metadata": {
    "collapsed": false
   },
   "outputs": [
    {
     "name": "stdout",
     "output_type": "stream",
     "text": [
      "#!/bin/bash\r\n",
      "# Listing the planets.\r\n",
      "\r\n",
      "for planet in Mercury Venus Earth Mars Jupiter Saturn Uranus Neptune Pluto\r\n",
      "do\r\n",
      "    # Each planet on a separate line.\r\n",
      "    echo $planet \r\n",
      "done\r\n",
      "echo\r\n",
      "\r\n",
      "for planet in \"Mercury Venus Earth Mars Jupiter Saturn Uranus Neptune Pluto\"\r\n",
      "    # All planets on same line.\r\n",
      "    # Entire 'list' enclosed in quotes creates a single variable.\r\n",
      "    # Why? Whitespace incorporated into the variable.\r\n",
      "do\r\n",
      "    echo $planet\r\n",
      "done\r\n",
      "echo\r\n",
      "\r\n",
      "echo \"Whoops! Pluto is no longer a planet!\"\r\n",
      "\r\n",
      "exit 0\r\n"
     ]
    }
   ],
   "source": [
    "cat plants.sh"
   ]
  },
  {
   "cell_type": "code",
   "execution_count": 2,
   "metadata": {
    "collapsed": false
   },
   "outputs": [
    {
     "name": "stdout",
     "output_type": "stream",
     "text": [
      "Mercury\r\n",
      "Venus\r\n",
      "Earth\r\n",
      "Mars\r\n",
      "Jupiter\r\n",
      "Saturn\r\n",
      "Uranus\r\n",
      "Neptune\r\n",
      "Pluto\r\n",
      "\r\n",
      "Mercury Venus Earth Mars Jupiter Saturn Uranus Neptune Pluto\r\n",
      "\r\n",
      "Whoops! Pluto is no longer a planet!\r\n"
     ]
    }
   ],
   "source": [
    "./plants.sh"
   ]
  },
  {
   "cell_type": "markdown",
   "metadata": {},
   "source": [
    "Each [list] element may contain multiple parameters.   \n",
    "This is useful when processing parameters in groups.   \n",
    "In such cases, use the set command (see Example 15-16) to force parsing of each [list]   \n",
    "element and assignment of each component to the positional parameters."
   ]
  },
  {
   "cell_type": "markdown",
   "metadata": {},
   "source": [
    "#### Example 11-2. for loop with two parameters in each [list] element"
   ]
  },
  {
   "cell_type": "code",
   "execution_count": 3,
   "metadata": {
    "collapsed": false
   },
   "outputs": [
    {
     "name": "stdout",
     "output_type": "stream",
     "text": [
      "#!/bin/bash\r\n",
      "# Planets revisited.\r\n",
      "\r\n",
      "# Associate the name of each planet with its distance from the sun.\r\n",
      "for planet in \"Mercury 36\" \"Venus 67\" \"Earth 93\" \"Mars 142\" \"Jupiter 483\"\r\n",
      "do\r\n",
      "\tset -- $planet   #  Parses variable \"planet\"\r\n",
      "\t                 #+ and sets positional parameters.\r\n",
      "\t#  The \"--\" prevents nasty surprises if $planet is null or\r\n",
      "\t#+ begins with a dash.\r\n",
      "\r\n",
      "\t#  May need to save original positional parameters,\r\n",
      "\t#+ since they get overwritten.\r\n",
      "\t#  One way of doing this is to use an array,\r\n",
      "\t#  original_params=(\"$@\")\r\n",
      "\techo \"$1\t\t$2,000,000 miles from the sun\"\r\n",
      "done\r\n",
      "\r\n",
      "exit 0\r\n"
     ]
    }
   ],
   "source": [
    "cat plants.sh"
   ]
  },
  {
   "cell_type": "code",
   "execution_count": 4,
   "metadata": {
    "collapsed": false
   },
   "outputs": [
    {
     "name": "stdout",
     "output_type": "stream",
     "text": [
      "Mercury\t\t36,000,000 miles from the sun\r\n",
      "Venus\t\t67,000,000 miles from the sun\r\n",
      "Earth\t\t93,000,000 miles from the sun\r\n",
      "Mars\t\t142,000,000 miles from the sun\r\n",
      "Jupiter\t\t483,000,000 miles from the sun\r\n"
     ]
    }
   ],
   "source": [
    "./plants.sh"
   ]
  },
  {
   "cell_type": "markdown",
   "metadata": {},
   "source": [
    "A variable may supply the [list] in a for loop."
   ]
  },
  {
   "cell_type": "markdown",
   "metadata": {},
   "source": [
    "#### Example 11-3. Fileinfo: operating on a file list contained in a variable"
   ]
  },
  {
   "cell_type": "code",
   "execution_count": 5,
   "metadata": {
    "collapsed": false
   },
   "outputs": [
    {
     "name": "stdout",
     "output_type": "stream",
     "text": [
      "#!/bin/bash\r\n",
      "# fileinfo.sh\r\n",
      "\r\n",
      "# List of files you are curious about.\r\n",
      "# Threw in a dummy file, /usr/bin/fakefile.\r\n",
      "FILES=\"/usr/sbin/accept\r\n",
      "/usr/sbin/pwck\r\n",
      "/usr/sbin/chroot\r\n",
      "/usr/bin/fakefile\r\n",
      "/sbin/badblocks\r\n",
      "/sbin/ypbind\"\r\n",
      "\r\n",
      "for file in $FILES\r\n",
      "do\r\n",
      "  if [ ! -e \"$file\" ] # Check if file exists.\r\n",
      "  then\r\n",
      "    echo \"$file does not exist.\"; echo\r\n",
      "    continue        # On to next.\r\n",
      "  fi\r\n",
      "\r\n",
      "  ls -l $file | awk '{ print $8 \" file size: \" $5 }' # Print 2 fields.\r\n",
      "  whatis `basename $file`                            # File info.\r\n",
      "  # Note that the whatis database needs to have been set up for this to work.\r\n",
      "  # To do this, as root run /usr/bin/makewhatis.\r\n",
      "  echo\r\n",
      "done\r\n",
      "\r\n",
      "exit 0\r\n",
      "\r\n"
     ]
    }
   ],
   "source": [
    "cat fileinfo.sh"
   ]
  },
  {
   "cell_type": "code",
   "execution_count": 6,
   "metadata": {
    "collapsed": false
   },
   "outputs": [
    {
     "name": "stdout",
     "output_type": "stream",
     "text": [
      "17:32 file size: 10\r\n",
      "accept (8)           - accept/reject jobs sent to a destination\r\n",
      "accept (2)           - accept a connection on a socket\r\n",
      "\r\n",
      "2014 file size: 47288\r\n",
      "pwck (8)             - verify integrity of password files\r\n",
      "\r\n",
      "2015 file size: 31392\r\n",
      "chroot (8)           - run command or interactive shell with special root dir...\r\n",
      "chroot (2)           - change root directory\r\n",
      "\r\n",
      "/usr/bin/fakefile does not exist.\r\n",
      "\r\n",
      "2014 file size: 27160\r\n",
      "badblocks (8)        - search a device for bad blocks\r\n",
      "\r\n",
      "/sbin/ypbind does not exist.\r\n",
      "\r\n"
     ]
    }
   ],
   "source": [
    "./fileinfo.sh"
   ]
  },
  {
   "cell_type": "markdown",
   "metadata": {},
   "source": [
    "The [list] in a for loop may be parameterized."
   ]
  },
  {
   "cell_type": "markdown",
   "metadata": {},
   "source": [
    "#### Example 11-4. Operating on a parameterized file list"
   ]
  },
  {
   "cell_type": "code",
   "execution_count": null,
   "metadata": {
    "collapsed": true
   },
   "outputs": [],
   "source": []
  }
 ],
 "metadata": {
  "kernelspec": {
   "display_name": "Bash",
   "language": "bash",
   "name": "bash"
  },
  "language_info": {
   "codemirror_mode": "shell",
   "file_extension": ".sh",
   "mimetype": "text/x-sh",
   "name": "bash"
  }
 },
 "nbformat": 4,
 "nbformat_minor": 0
}
