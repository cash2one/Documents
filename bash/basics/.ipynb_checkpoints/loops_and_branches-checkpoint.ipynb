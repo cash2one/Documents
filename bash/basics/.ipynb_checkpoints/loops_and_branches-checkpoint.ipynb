{
 "cells": [
  {
   "cell_type": "markdown",
   "metadata": {},
   "source": [
    "## 11. Loops and Branches"
   ]
  },
  {
   "cell_type": "markdown",
   "metadata": {},
   "source": [
    "Operations on code blocks are the key to structured and organized shell scripts.  \n",
    "Looping and branching constructs provide the tools for accomplishing this."
   ]
  },
  {
   "cell_type": "markdown",
   "metadata": {},
   "source": [
    "### Loops"
   ]
  },
  {
   "cell_type": "markdown",
   "metadata": {},
   "source": [
    "A loop is a block of code that iterates a list of commands as long as the loop control condition is true."
   ]
  },
  {
   "cell_type": "markdown",
   "metadata": {},
   "source": [
    "#### A.for loops"
   ]
  },
  {
   "cell_type": "markdown",
   "metadata": {},
   "source": [
    "#### for arg in [list]\n",
    "    This is the basic looping construct. \n",
    "    It differs significantly from its C counterpart."
   ]
  },
  {
   "cell_type": "raw",
   "metadata": {},
   "source": [
    "for arg in [list]\n",
    "do\n",
    "    command(s)...\n",
    "done"
   ]
  },
  {
   "cell_type": "markdown",
   "metadata": {},
   "source": [
    "During each pass through the loop,arg takes on the value of each successive variable in the list."
   ]
  },
  {
   "cell_type": "raw",
   "metadata": {},
   "source": [
    "for arg in \"$var1\" \"$var2\" \"$var3\" ... \"$varN\"\n",
    "# In pass 1 of the loop, arg = $var1\n",
    "# In pass 2 of the loop, arg = $var2\n",
    "# In pass 3 of the loop, arg = $var3\n",
    "# ...\n",
    "# In pass N of the loop, arg = $varN\n",
    "# Arguments in [list] quoted to prevent possible word splitting."
   ]
  },
  {
   "cell_type": "markdown",
   "metadata": {},
   "source": [
    "The argument list may contain wild cards."
   ]
  },
  {
   "cell_type": "markdown",
   "metadata": {},
   "source": [
    "If do is on same line as for, there needs to be a semicolon after list."
   ]
  },
  {
   "cell_type": "raw",
   "metadata": {},
   "source": [
    "for arg in [list];do\n",
    "    command(s)...\n",
    "done"
   ]
  },
  {
   "cell_type": "markdown",
   "metadata": {},
   "source": [
    "#### Example 11-1. Simple for loops"
   ]
  },
  {
   "cell_type": "code",
   "execution_count": 1,
   "metadata": {
    "collapsed": false
   },
   "outputs": [
    {
     "name": "stdout",
     "output_type": "stream",
     "text": [
      "#!/bin/bash\r\n",
      "# Listing the planets.\r\n",
      "\r\n",
      "for planet in Mercury Venus Earth Mars Jupiter Saturn Uranus Neptune Pluto\r\n",
      "do\r\n",
      "    # Each planet on a separate line.\r\n",
      "    echo $planet \r\n",
      "done\r\n",
      "echo\r\n",
      "\r\n",
      "for planet in \"Mercury Venus Earth Mars Jupiter Saturn Uranus Neptune Pluto\"\r\n",
      "    # All planets on same line.\r\n",
      "    # Entire 'list' enclosed in quotes creates a single variable.\r\n",
      "    # Why? Whitespace incorporated into the variable.\r\n",
      "do\r\n",
      "    echo $planet\r\n",
      "done\r\n",
      "echo\r\n",
      "\r\n",
      "echo \"Whoops! Pluto is no longer a planet!\"\r\n",
      "\r\n",
      "exit 0\r\n"
     ]
    }
   ],
   "source": [
    "cat plants.sh"
   ]
  },
  {
   "cell_type": "code",
   "execution_count": 2,
   "metadata": {
    "collapsed": false
   },
   "outputs": [
    {
     "name": "stdout",
     "output_type": "stream",
     "text": [
      "Mercury\r\n",
      "Venus\r\n",
      "Earth\r\n",
      "Mars\r\n",
      "Jupiter\r\n",
      "Saturn\r\n",
      "Uranus\r\n",
      "Neptune\r\n",
      "Pluto\r\n",
      "\r\n",
      "Mercury Venus Earth Mars Jupiter Saturn Uranus Neptune Pluto\r\n",
      "\r\n",
      "Whoops! Pluto is no longer a planet!\r\n"
     ]
    }
   ],
   "source": [
    "./plants.sh"
   ]
  },
  {
   "cell_type": "markdown",
   "metadata": {},
   "source": [
    "Each [list] element may contain multiple parameters.   \n",
    "This is useful when processing parameters in groups.   \n",
    "In such cases, use the set command (see Example 15-16) to force parsing of each [list]   \n",
    "element and assignment of each component to the positional parameters."
   ]
  },
  {
   "cell_type": "markdown",
   "metadata": {},
   "source": [
    "#### Example 11-2. for loop with two parameters in each [list] element"
   ]
  },
  {
   "cell_type": "code",
   "execution_count": 3,
   "metadata": {
    "collapsed": false
   },
   "outputs": [
    {
     "name": "stdout",
     "output_type": "stream",
     "text": [
      "#!/bin/bash\r\n",
      "# Planets revisited.\r\n",
      "\r\n",
      "# Associate the name of each planet with its distance from the sun.\r\n",
      "for planet in \"Mercury 36\" \"Venus 67\" \"Earth 93\" \"Mars 142\" \"Jupiter 483\"\r\n",
      "do\r\n",
      "\tset -- $planet   #  Parses variable \"planet\"\r\n",
      "\t                 #+ and sets positional parameters.\r\n",
      "\t#  The \"--\" prevents nasty surprises if $planet is null or\r\n",
      "\t#+ begins with a dash.\r\n",
      "\r\n",
      "\t#  May need to save original positional parameters,\r\n",
      "\t#+ since they get overwritten.\r\n",
      "\t#  One way of doing this is to use an array,\r\n",
      "\t#  original_params=(\"$@\")\r\n",
      "\techo \"$1\t\t$2,000,000 miles from the sun\"\r\n",
      "done\r\n",
      "\r\n",
      "exit 0\r\n"
     ]
    }
   ],
   "source": [
    "cat plants.sh"
   ]
  },
  {
   "cell_type": "code",
   "execution_count": 4,
   "metadata": {
    "collapsed": false
   },
   "outputs": [
    {
     "name": "stdout",
     "output_type": "stream",
     "text": [
      "Mercury\t\t36,000,000 miles from the sun\r\n",
      "Venus\t\t67,000,000 miles from the sun\r\n",
      "Earth\t\t93,000,000 miles from the sun\r\n",
      "Mars\t\t142,000,000 miles from the sun\r\n",
      "Jupiter\t\t483,000,000 miles from the sun\r\n"
     ]
    }
   ],
   "source": [
    "./plants.sh"
   ]
  },
  {
   "cell_type": "markdown",
   "metadata": {},
   "source": [
    "A variable may supply the [list] in a for loop."
   ]
  },
  {
   "cell_type": "markdown",
   "metadata": {},
   "source": [
    "#### Example 11-3. Fileinfo: operating on a file list contained in a variable"
   ]
  },
  {
   "cell_type": "code",
   "execution_count": 5,
   "metadata": {
    "collapsed": false
   },
   "outputs": [
    {
     "name": "stdout",
     "output_type": "stream",
     "text": [
      "#!/bin/bash\r\n",
      "# fileinfo.sh\r\n",
      "\r\n",
      "# List of files you are curious about.\r\n",
      "# Threw in a dummy file, /usr/bin/fakefile.\r\n",
      "FILES=\"/usr/sbin/accept\r\n",
      "/usr/sbin/pwck\r\n",
      "/usr/sbin/chroot\r\n",
      "/usr/bin/fakefile\r\n",
      "/sbin/badblocks\r\n",
      "/sbin/ypbind\"\r\n",
      "\r\n",
      "for file in $FILES\r\n",
      "do\r\n",
      "  if [ ! -e \"$file\" ] # Check if file exists.\r\n",
      "  then\r\n",
      "    echo \"$file does not exist.\"; echo\r\n",
      "    continue        # On to next.\r\n",
      "  fi\r\n",
      "\r\n",
      "  ls -l $file | awk '{ print $8 \" file size: \" $5 }' # Print 2 fields.\r\n",
      "  whatis `basename $file`                            # File info.\r\n",
      "  # Note that the whatis database needs to have been set up for this to work.\r\n",
      "  # To do this, as root run /usr/bin/makewhatis.\r\n",
      "  echo\r\n",
      "done\r\n",
      "\r\n",
      "exit 0\r\n",
      "\r\n"
     ]
    }
   ],
   "source": [
    "cat fileinfo.sh"
   ]
  },
  {
   "cell_type": "code",
   "execution_count": 6,
   "metadata": {
    "collapsed": false
   },
   "outputs": [
    {
     "name": "stdout",
     "output_type": "stream",
     "text": [
      "17:32 file size: 10\r\n",
      "accept (8)           - accept/reject jobs sent to a destination\r\n",
      "accept (2)           - accept a connection on a socket\r\n",
      "\r\n",
      "2014 file size: 47288\r\n",
      "pwck (8)             - verify integrity of password files\r\n",
      "\r\n",
      "2015 file size: 31392\r\n",
      "chroot (8)           - run command or interactive shell with special root dir...\r\n",
      "chroot (2)           - change root directory\r\n",
      "\r\n",
      "/usr/bin/fakefile does not exist.\r\n",
      "\r\n",
      "2014 file size: 27160\r\n",
      "badblocks (8)        - search a device for bad blocks\r\n",
      "\r\n",
      "/sbin/ypbind does not exist.\r\n",
      "\r\n"
     ]
    }
   ],
   "source": [
    "./fileinfo.sh"
   ]
  },
  {
   "cell_type": "markdown",
   "metadata": {},
   "source": [
    "The [list] in a for loop may be parameterized."
   ]
  },
  {
   "cell_type": "markdown",
   "metadata": {},
   "source": [
    "#### Example 11-4. Operating on a parameterized file list"
   ]
  },
  {
   "cell_type": "code",
   "execution_count": 1,
   "metadata": {
    "collapsed": false
   },
   "outputs": [
    {
     "name": "stdout",
     "output_type": "stream",
     "text": [
      "#!/bin/bash\r\n",
      "\r\n",
      "filename=\"*ipynb\"\r\n",
      "\r\n",
      "for file in $filename\r\n",
      "do\r\n",
      "    echo \"info of $file\"\r\n",
      "    echo \"------------------------------\"\r\n",
      "    ls -lh \"$file\"\r\n",
      "    echo\r\n",
      "done\r\n"
     ]
    }
   ],
   "source": [
    "cat list_file.sh"
   ]
  },
  {
   "cell_type": "code",
   "execution_count": 2,
   "metadata": {
    "collapsed": false
   },
   "outputs": [
    {
     "name": "stdout",
     "output_type": "stream",
     "text": [
      "info of another_look_at_variables.ipynb\r\n",
      "------------------------------\r\n",
      "-rw-rw-r-- 1 liheyi liheyi 120K  8月 18 12:39 another_look_at_variables.ipynb\r\n",
      "\r\n",
      "info of command_line_shortcut.ipynb\r\n",
      "------------------------------\r\n",
      "-rw-rw-r-- 1 liheyi liheyi 5.5K  6月 30 17:40 command_line_shortcut.ipynb\r\n",
      "\r\n",
      "info of command_substitution.ipynb\r\n",
      "------------------------------\r\n",
      "-rw-rw-r-- 1 liheyi liheyi 20K  8月 19 10:49 command_substitution.ipynb\r\n",
      "\r\n",
      "info of exit_and_exit_status.ipynb\r\n",
      "------------------------------\r\n",
      "-rw-rw-r-- 1 liheyi liheyi 7.1K  8月  3 09:43 exit_and_exit_status.ipynb\r\n",
      "\r\n",
      "info of loops_and_branches.ipynb\r\n",
      "------------------------------\r\n",
      "-rw-rw-r-- 1 liheyi liheyi 12K  8月 19 10:52 loops_and_branches.ipynb\r\n",
      "\r\n",
      "info of manipulate_variables.ipynb\r\n",
      "------------------------------\r\n",
      "-rw-rw-r-- 1 liheyi liheyi 66K  8月 18 17:45 manipulate_variables.ipynb\r\n",
      "\r\n",
      "info of operations_and_related_topics.ipynb\r\n",
      "------------------------------\r\n",
      "-rw-rw-r-- 1 liheyi liheyi 28K  8月 17 15:24 operations_and_related_topics.ipynb\r\n",
      "\r\n",
      "info of quoting.ipynb\r\n",
      "------------------------------\r\n",
      "-rw-rw-r-- 1 liheyi liheyi 31K  8月 17 14:37 quoting.ipynb\r\n",
      "\r\n",
      "info of test.ipynb\r\n",
      "------------------------------\r\n",
      "-rw-rw-r-- 1 liheyi liheyi 55K  8月  3 12:18 test.ipynb\r\n",
      "\r\n",
      "info of variables_and_parameters.ipynb\r\n",
      "------------------------------\r\n",
      "-rw-rw-r-- 1 liheyi liheyi 35K  8月  2 18:11 variables_and_parameters.ipynb\r\n",
      "\r\n"
     ]
    }
   ],
   "source": [
    "./list_file.sh"
   ]
  },
  {
   "cell_type": "markdown",
   "metadata": {},
   "source": [
    "If the [list] in a for loop contains wild cards (* and ?) used in filename expansion,then globbing takes place."
   ]
  },
  {
   "cell_type": "markdown",
   "metadata": {},
   "source": [
    "#### Example 11-5. Operating on files with a for loop"
   ]
  },
  {
   "cell_type": "code",
   "execution_count": 3,
   "metadata": {
    "collapsed": false
   },
   "outputs": [
    {
     "name": "stdout",
     "output_type": "stream",
     "text": [
      "#!/bin/bash\r\n",
      "# list-glob.sh: Generating [list] in a for-loop, using \"globbing\" ...\r\n",
      "# Globbing = filename expansion.\r\n",
      "\r\n",
      "for file in *\r\n",
      "#           ^ Bash performs filename expansion\r\n",
      "#+           on expressions that globbing recognizes.\r\n",
      "do\r\n",
      "    # Lists all files in $PWD (current directory).\r\n",
      "    \r\n",
      "    #  Recall that the wild card character \"*\" matches every filename,\r\n",
      "    #+ however, in \"globbing,\" it doesn't match dot-files.\r\n",
      "    #  If the pattern matches no file, it is expanded to itself.\r\n",
      "    #  To prevent this, set the nullglob option\r\n",
      "    #+ (shopt -s nullglob).\r\n",
      "    ls -l \"$file\" \r\n",
      "done\r\n",
      "\r\n",
      "echo\r\n",
      "\r\n",
      "for file in [z]*\r\n",
      "do\r\n",
      "\t# Removes only files beginning with \"z\" in $PWD.\r\n",
      "\trm -f $file \r\n",
      "\techo \"Removed file \\\"$file\\\"\".\r\n",
      "done\r\n",
      "\r\n",
      "exit 0\r\n"
     ]
    }
   ],
   "source": [
    "cat list-glob.sh"
   ]
  },
  {
   "cell_type": "code",
   "execution_count": 4,
   "metadata": {
    "collapsed": false
   },
   "outputs": [
    {
     "name": "stdout",
     "output_type": "stream",
     "text": [
      "-rw-rw-r-- 1 liheyi liheyi 122146  8月 18 12:39 another_look_at_variables.ipynb\r\n",
      "-rw-rw-r-- 1 liheyi liheyi 5546  6月 30 17:40 command_line_shortcut.ipynb\r\n",
      "-rw-rw-r-- 1 liheyi liheyi 19707  8月 19 10:49 command_substitution.ipynb\r\n",
      "-rw-rw-r-- 1 liheyi liheyi 7252  8月  3 09:43 exit_and_exit_status.ipynb\r\n",
      "-rwxr-xr-x 1 liheyi liheyi 157  8月 19 10:53 list_file.sh\r\n",
      "-rwxr-xr-x 1 liheyi liheyi 721  8月 19 11:01 list-glob.sh\r\n",
      "-rw-rw-r-- 1 liheyi liheyi 14002  8月 19 10:56 loops_and_branches.ipynb\r\n",
      "-rw-rw-r-- 1 liheyi liheyi 67279  8月 18 17:45 manipulate_variables.ipynb\r\n",
      "-rw-rw-r-- 1 liheyi liheyi 28335  8月 17 15:24 operations_and_related_topics.ipynb\r\n",
      "-rw-rw-r-- 1 liheyi liheyi 31133  8月 17 14:37 quoting.ipynb\r\n",
      "-rw-rw-r-- 1 liheyi liheyi 55789  8月  3 12:18 test.ipynb\r\n",
      "-rw-rw-r-- 1 liheyi liheyi 35745  8月  2 18:11 variables_and_parameters.ipynb\r\n",
      "-rw-rw-r-- 1 liheyi liheyi 0  8月 19 11:00 zzgame1.cnf\r\n",
      "-rw-rw-r-- 1 liheyi liheyi 0  8月 19 11:00 zzgame2.cnf\r\n",
      "-rw-rw-r-- 1 liheyi liheyi 0  8月 19 11:00 zzgame3.cnf\r\n",
      "-rw-rw-r-- 1 liheyi liheyi 0  8月 19 11:00 zzgame4.cnf\r\n",
      "-rw-rw-r-- 1 liheyi liheyi 0  8月 19 11:00 zzgame5.cnf\r\n",
      "\r\n",
      "Removed file \"zzgame1.cnf\".\r\n",
      "Removed file \"zzgame2.cnf\".\r\n",
      "Removed file \"zzgame3.cnf\".\r\n",
      "Removed file \"zzgame4.cnf\".\r\n",
      "Removed file \"zzgame5.cnf\".\r\n"
     ]
    }
   ],
   "source": [
    "./list-glob.sh"
   ]
  },
  {
   "cell_type": "markdown",
   "metadata": {},
   "source": [
    "Omitting the in [list] part of a for loop causes the loop to operate on $@ -- the positional parameters.   \n",
    "A particularly clever illustration of this is Example A-15.   \n",
    "See also Example 15-17."
   ]
  },
  {
   "cell_type": "markdown",
   "metadata": {},
   "source": [
    "#### Example 11-6. Missing in [list] in a for loop"
   ]
  },
  {
   "cell_type": "code",
   "execution_count": 5,
   "metadata": {
    "collapsed": false
   },
   "outputs": [
    {
     "name": "stdout",
     "output_type": "stream",
     "text": [
      "#!/bin/bash\r\n",
      "\r\n",
      "#  Invoke this script both with and without arguments,\r\n",
      "#+ and see what happens.\r\n",
      "\r\n",
      "for a\r\n",
      "do\r\n",
      "\techo -n \"$a \"\r\n",
      "done\r\n",
      "\r\n",
      "#  The 'in list' missing, therefore the loop operates on '$@'\r\n",
      "#+ (command-line argument list, including whitespace).\r\n",
      "echo\r\n",
      "\r\n",
      "exit 0\r\n"
     ]
    }
   ],
   "source": [
    "cat omit_list.sh"
   ]
  },
  {
   "cell_type": "code",
   "execution_count": 6,
   "metadata": {
    "collapsed": false
   },
   "outputs": [
    {
     "name": "stdout",
     "output_type": "stream",
     "text": [
      "\r\n"
     ]
    }
   ],
   "source": [
    "# Invoke without command line arguments\n",
    "./omit_list.sh"
   ]
  },
  {
   "cell_type": "code",
   "execution_count": 7,
   "metadata": {
    "collapsed": false
   },
   "outputs": [
    {
     "name": "stdout",
     "output_type": "stream",
     "text": [
      "liheyi liheyuan libin \r\n"
     ]
    }
   ],
   "source": [
    "# Invoke with command line arguments\n",
    "./omit_list.sh liheyi liheyuan libin"
   ]
  },
  {
   "cell_type": "markdown",
   "metadata": {},
   "source": [
    "It is possible to use command substitution to generate the [list] in a for loop.   \n",
    "See also Example 16-54, Example 11-11 and Example 16-48."
   ]
  },
  {
   "cell_type": "markdown",
   "metadata": {},
   "source": [
    "#### Example 11-7. Generating the [list] in a for loop with command substitution"
   ]
  },
  {
   "cell_type": "code",
   "execution_count": 10,
   "metadata": {
    "collapsed": false
   },
   "outputs": [
    {
     "name": "stdout",
     "output_type": "stream",
     "text": [
      "#!/bin/bash\r\n",
      "#  for-loopcmd.sh: for-loop with [list]\r\n",
      "#+ generated by command substitution.\r\n",
      "\r\n",
      "NUMBERS=\"9 7 3 8 37.53\"\r\n",
      "\r\n",
      "# for number in 9 7 3 8 37.53\r\n",
      "for number in `echo $NUMBERS` \r\n",
      "do\r\n",
      "    echo  \"$number \"\r\n",
      "done\r\n",
      "\r\n",
      "echo\r\n",
      "exit 0\r\n"
     ]
    }
   ],
   "source": [
    "cat for-loopcmd.sh"
   ]
  },
  {
   "cell_type": "code",
   "execution_count": 11,
   "metadata": {
    "collapsed": false
   },
   "outputs": [
    {
     "name": "stdout",
     "output_type": "stream",
     "text": [
      "9 \r\n",
      "7 \r\n",
      "3 \r\n",
      "8 \r\n",
      "37.53 \r\n",
      "\r\n"
     ]
    }
   ],
   "source": [
    "./for-loopcmd.sh"
   ]
  },
  {
   "cell_type": "markdown",
   "metadata": {},
   "source": [
    "Here is a somewhat more complex example of using command substitution to create the [list]."
   ]
  },
  {
   "cell_type": "markdown",
   "metadata": {},
   "source": [
    "#### Example 11-8. A grep replacement for binary files"
   ]
  },
  {
   "cell_type": "code",
   "execution_count": 12,
   "metadata": {
    "collapsed": false
   },
   "outputs": [
    {
     "name": "stdout",
     "output_type": "stream",
     "text": [
      "#!/bin/bash\r\n",
      "# bin-grep.sh: Locates matching strings in a binary file.\r\n",
      "\r\n",
      "# A \"grep\" replacement for binary files.\r\n",
      "# Similar effect to \"grep -a\"\r\n",
      "\r\n",
      "E_BADARGS=65\r\n",
      "E_NOFILE=66\r\n",
      "\r\n",
      "if [ $# -ne 2 ]\r\n",
      "then\r\n",
      "    echo \"Usage: `basename $0` search_string filename\"\r\n",
      "    exit $E_BADARGS\r\n",
      "fi\r\n",
      "\r\n",
      "if [ ! -f \"$2\" ]\r\n",
      "then\r\n",
      "    echo \"File \\\"$2\\\" does not exist.\"\r\n",
      "    exit $E_NOFILE\r\n",
      "fi\r\n",
      "\r\n",
      "# Per suggestion of Anton Filippov.\r\n",
      "# was: IFS=\"\\n\"\r\n",
      "IFS=$'\\012'\r\n",
      "\r\n",
      "# The \"strings\" command lists strings in binary files.\r\n",
      "# Output then piped to \"grep\", which tests for desired string.\r\n",
      "for word in $( strings \"$2\" | grep \"$1\" )\r\n",
      "do\r\n",
      "    echo $word\r\n",
      "done\r\n",
      "\r\n",
      "# As S.C. points out, lines 24 - 31 could be replaced with the simpler\r\n",
      "# strings \"$2\" | grep \"$1\" | tr -s \"$IFS\" '[\\n*]'\r\n",
      "\r\n",
      "#  Try something like \"./bin-grep.sh mem /bin/ls\"\r\n",
      "#+ to exercise this script.\r\n",
      "\r\n",
      "exit 0\r\n"
     ]
    }
   ],
   "source": [
    "cat bin-grep.sh"
   ]
  },
  {
   "cell_type": "code",
   "execution_count": 13,
   "metadata": {
    "collapsed": false
   },
   "outputs": [
    {
     "name": "stdout",
     "output_type": "stream",
     "text": [
      "memset\r\n",
      "memcmp\r\n",
      "memcpy\r\n",
      "memmove\r\n",
      "memory exhausted\r\n"
     ]
    }
   ],
   "source": [
    "./bin-grep.sh mem /bin/rm"
   ]
  },
  {
   "cell_type": "markdown",
   "metadata": {},
   "source": [
    "#### Example 11-9. Listing all users on the system"
   ]
  },
  {
   "cell_type": "code",
   "execution_count": 14,
   "metadata": {
    "collapsed": false
   },
   "outputs": [
    {
     "name": "stdout",
     "output_type": "stream",
     "text": [
      "#!/bin/bash\r\n",
      "# userlist.sh\r\n",
      "\r\n",
      "PASSWORD_FILE=/etc/passwd\r\n",
      "# User number\r\n",
      "n=1\r\n",
      "\r\n",
      "for name in $(awk 'BEGIN{FS=\":\"}{print $1}' < \"$PASSWORD_FILE\" )\r\n",
      "# Field separator = :    ^^^^^^\r\n",
      "# Print first field              ^^^^^^^^\r\n",
      "# Get input from password file /etc/passwd    ^^^^^^^^^^^^^^^^^\r\n",
      "do\r\n",
      "    echo \"USER #$n = $name\"\r\n",
      "    let \"n += 1\"\r\n",
      "done\r\n",
      "\r\n",
      "exit $?\r\n"
     ]
    }
   ],
   "source": [
    "cat userlist.sh"
   ]
  },
  {
   "cell_type": "code",
   "execution_count": 15,
   "metadata": {
    "collapsed": false
   },
   "outputs": [
    {
     "name": "stdout",
     "output_type": "stream",
     "text": [
      "USER #1 = root\r\n",
      "USER #2 = daemon\r\n",
      "USER #3 = bin\r\n",
      "USER #4 = sys\r\n",
      "USER #5 = sync\r\n",
      "USER #6 = games\r\n",
      "USER #7 = man\r\n",
      "USER #8 = lp\r\n",
      "USER #9 = mail\r\n",
      "USER #10 = news\r\n",
      "USER #11 = uucp\r\n",
      "USER #12 = proxy\r\n",
      "USER #13 = www-data\r\n",
      "USER #14 = backup\r\n",
      "USER #15 = list\r\n",
      "USER #16 = irc\r\n",
      "USER #17 = gnats\r\n",
      "USER #18 = nobody\r\n",
      "USER #19 = libuuid\r\n",
      "USER #20 = syslog\r\n",
      "USER #21 = messagebus\r\n",
      "USER #22 = usbmux\r\n",
      "USER #23 = dnsmasq\r\n",
      "USER #24 = avahi-autoipd\r\n",
      "USER #25 = kernoops\r\n",
      "USER #26 = rtkit\r\n",
      "USER #27 = saned\r\n",
      "USER #28 = whoopsie\r\n",
      "USER #29 = speech-dispatcher\r\n",
      "USER #30 = avahi\r\n",
      "USER #31 = lightdm\r\n",
      "USER #32 = colord\r\n",
      "USER #33 = hplip\r\n",
      "USER #34 = pulse\r\n",
      "USER #35 = liheyi\r\n",
      "USER #36 = sshd\r\n",
      "USER #37 = mysql\r\n",
      "USER #38 = ntp\r\n"
     ]
    }
   ],
   "source": [
    "./userlist.sh"
   ]
  },
  {
   "cell_type": "markdown",
   "metadata": {},
   "source": [
    "Yet another example of the [list] resulting from command substitution."
   ]
  },
  {
   "cell_type": "code",
   "execution_count": 16,
   "metadata": {
    "collapsed": false
   },
   "outputs": [
    {
     "name": "stdout",
     "output_type": "stream",
     "text": [
      "#!/bin/bash\r\n",
      "# findstring.sh:\r\n",
      "# Find a particular string in the binaries in a specified directory.\r\n",
      "\r\n",
      "# See which files come from the FSF.\r\n",
      "directory='/usr/bin/'\r\n",
      "fstring=\"Free Software Foundation\"\r\n",
      "\r\n",
      "for file in $( find $directory -type f -name '*' | sort )\r\n",
      "do\r\n",
      "    strings -f $file | grep \"$fstring\" | sed -e \"s%$directory%%\"\r\n",
      "    #  In the \"sed\" expression,\r\n",
      "    #+ it is necessary to substitute for the normal \"/\" delimiter\r\n",
      "    #+ because \"/\" happens to be one of the characters filtered out.\r\n",
      "    #  Failure to do so gives an error message. (Try it.)\r\n",
      "done\r\n",
      "exit $?\r\n"
     ]
    }
   ],
   "source": [
    "cat findstring.sh"
   ]
  },
  {
   "cell_type": "code",
   "execution_count": 20,
   "metadata": {
    "collapsed": false
   },
   "outputs": [
    {
     "name": "stdout",
     "output_type": "stream",
     "text": [
      "[: Copyright %s %d Free Software Foundation, Inc.\r\n",
      "addr2line: Copyright 2013 Free Software Foundation, Inc.\r\n",
      "amuFormat.sh: # the Free Software Foundation, either version 3 of the License, or\r\n",
      "apport-bug: # Free Software Foundation; either version 2 of the License, or (at your\r\n",
      "apport-cli: # Free Software Foundation; either version 2 of the License, or (at your\r\n",
      "apport-unpack: # Free Software Foundation; either version 2 of the License, or (at your\r\n",
      "aptdcon: # the Free Software Foundation; either version 2 of the License, or\r\n",
      "aptdcon: # with this program; if not, write to the Free Software Foundation, Inc.,\r\n",
      "apturl-gtk: # by the Free Software Foundation; either version 2 of the License, or (at\r\n",
      "ar: Copyright 2013 Free Software Foundation, Inc.\r\n",
      "arch: Copyright %s %d Free Software Foundation, Inc.\r\n",
      "as: Copyright 2013 Free Software Foundation, Inc.\r\n",
      "axi-cache: # the Free Software Foundation; either version 2 of the License, or\r\n",
      "base64: Copyright %s %d Free Software Foundation, Inc.\r\n",
      "basename: Copyright %s %d Free Software Foundation, Inc.\r\n",
      "bashbug: # Copyright (C) 1996-2004 Free Software Foundation, Inc.\r\n",
      "bashbug: #   the Free Software Foundation, either version 3 of the License, or\r\n",
      "bc: Copyright 1991-1994, 1997, 1998, 2000, 2004, 2006 Free Software Foundation, Inc.\r\n",
      "bc:     the Free Software Foundation; either version 2 of the License , or\r\n",
      "bc:        The Free Software Foundation, Inc.\r\n",
      "brasero: You should have received a copy of the GNU General Public License along with Brasero; if not, write to the Free Software Foundation, Inc., 51 Franklin Street, Fifth Floor, Boston, MA 02110-1301, USA\r\n",
      "brasero: Brasero is free software; you can redistribute it and/or modify it under the terms of the GNU General Public License as published by the Free Software Foundation; either version 2 of the License, or (at your option) any later version.\r\n",
      "catchsegv: # Copyright (C) 1998-2014 Free Software Foundation, Inc.\r\n",
      "catchsegv: # License as published by the Free Software Foundation; either\r\n",
      "catchsegv:       echo 'Copyright (C) 2014 Free Software Foundation, Inc.\r\n",
      "c++filt: Copyright 2013 Free Software Foundation, Inc.\r\n",
      "chcon: Copyright %s %d Free Software Foundation, Inc.\r\n",
      "ckbcomp: #     the Free Software Foundation; either version 2 of the License, or\r\n",
      "ckbcomp: #     along with this program, write to the Free Software Foundation, Inc.,\r\n",
      "cksum: Copyright %s %d Free Software Foundation, Inc.\r\n",
      "cmp: Copyright %s %d Free Software Foundation, Inc.\r\n",
      "comm: Copyright %s %d Free Software Foundation, Inc.\r\n",
      "compiz-decorator: # the Free Software Foundation; either version 2 of the License, or\r\n",
      "cpp-4.8: Copyright %s 2013 Free Software Foundation, Inc.\r\n",
      "csplit: Copyright %s %d Free Software Foundation, Inc.\r\n",
      "cut: Copyright %s %d Free Software Foundation, Inc.\r\n",
      "dc: Copyright 1994, 1997, 1998, 2000, 2001, 2004, 2005, 2006 Free Software Foundation, Inc.\r\n",
      "dehtmldiff: # the Free Software Foundation; either version 2 of the License, or\r\n",
      "dgawk: Copyright (C) 1989, 1991-%d Free Software Foundation.\r\n",
      "dgawk: the Free Software Foundation; either version 3 of the License, or\r\n",
      "diff: Copyright %s %d Free Software Foundation, Inc.\r\n",
      "diff3: Copyright %s %d Free Software Foundation, Inc.\r\n",
      "dircolors: # Copyright (C) 1996-2013 Free Software Foundation, Inc.\r\n",
      "dircolors: Copyright %s %d Free Software Foundation, Inc.\r\n",
      "dirname: Copyright %s %d Free Software Foundation, Inc.\r\n",
      "dpkg-architecture: # the Free Software Foundation; either version 2 of the License, or\r\n",
      "dpkg-buildflags: # the Free Software Foundation; either version 2 of the License, or\r\n",
      "dpkg-buildpackage: # the Free Software Foundation; either version 2 of the License, or\r\n",
      "dpkg-checkbuilddeps: # the Free Software Foundation; either version 2 of the License, or\r\n",
      "dpkg-distaddfile: # the Free Software Foundation; either version 2 of the License, or\r\n",
      "dpkg-genchanges: # the Free Software Foundation; either version 2 of the License, or\r\n",
      "dpkg-gencontrol: # the Free Software Foundation; either version 2 of the License, or\r\n",
      "dpkg-gensymbols: # the Free Software Foundation; either version 2 of the License, or\r\n",
      "dpkg-maintscript-helper: # the Free Software Foundation; either version 2 of the License, or\r\n",
      "dpkg-mergechangelogs: # the Free Software Foundation; either version 2 of the License, or\r\n",
      "dpkg-name: # the Free Software Foundation; either version 2 of the License, or\r\n",
      "dpkg-parsechangelog: # the Free Software Foundation; either version 2 of the License, or\r\n",
      "dpkg-scanpackages: # the Free Software Foundation; either version 2 of the License, or\r\n",
      "dpkg-scansources: # the Free Software Foundation; either version 2 of the License, or (at\r\n",
      "dpkg-shlibdeps: # the Free Software Foundation; either version 2 of the License, or\r\n",
      "dpkg-source: # the Free Software Foundation; either version 2 of the License, or\r\n",
      "dpkg-vendor: # the Free Software Foundation; either version 2 of the License, or\r\n",
      "du: Copyright %s %d Free Software Foundation, Inc.\r\n",
      "duplicity: # Free Software Foundation; either version 2 of the License, or (at your\r\n",
      "duplicity: # along with duplicity; if not, write to the Free Software Foundation,\r\n",
      "dwp: Copyright 2012 Free Software Foundation, Inc.\r\n",
      "dwp: Copyright 2013 Free Software Foundation, Inc.\r\n",
      "editdiff: # the Free Software Foundation; either version 2 of the License, or\r\n",
      "elfedit: Copyright 2013 Free Software Foundation, Inc.\r\n",
      "empathy: Empathy is free software; you can redistribute it and/or modify it under the terms of the GNU General Public License as published by the Free Software Foundation; either version 2 of the License, or (at your option) any later version.\r\n",
      "empathy: You should have received a copy of the GNU General Public License along with Empathy; if not, write to the Free Software Foundation, Inc., 51 Franklin Street, Fifth Floor, Boston, MA 02110-130159 USA\r\n",
      "env: Copyright %s %d Free Software Foundation, Inc.\r\n",
      "envsubst: Copyright (C) %s Free Software Foundation, Inc.\r\n",
      "eog:  2000-2010 Free Software Foundation, Inc.\r\n",
      "evince: You should have received a copy of the GNU General Public License along with Evince; if not, write to the Free Software Foundation, Inc., 51 Franklin Street, Fifth Floor, Boston, MA 02110-1301  USA\r\n",
      "evince: Evince is free software; you can redistribute it and/or modify it under the terms of the GNU General Public License as published by the Free Software Foundation; either version 2 of the License, or (at your option) any later version.\r\n",
      "expand: Copyright %s %d Free Software Foundation, Inc.\r\n",
      "expr: Copyright %s %d Free Software Foundation, Inc.\r\n",
      "factor: Copyright %s %d Free Software Foundation, Inc.\r\n",
      "file-roller: 2010 Free Software Foundation, Inc.\r\n",
      "file-roller:  2001-2012 Free Software Foundation, Inc.\r\n",
      "find: Copyright %s %d Free Software Foundation, Inc.\r\n",
      "fixcvsdiff: # the Free Software Foundation; either version 2 of the License, or (at\r\n",
      "fmt: Copyright %s %d Free Software Foundation, Inc.\r\n",
      "fold: Copyright %s %d Free Software Foundation, Inc.\r\n",
      "foo2hbpl2-wrapper: #* the Free Software Foundation; either version 2 of the License, or\r\n",
      "foo2hiperc-wrapper: #* the Free Software Foundation; either version 2 of the License, or\r\n",
      "foo2hp2600-wrapper: #* the Free Software Foundation; either version 2 of the License, or\r\n",
      "foo2lava-wrapper: #* the Free Software Foundation; either version 2 of the License, or\r\n",
      "foo2oak-wrapper: #* the Free Software Foundation; either version 2 of the License, or\r\n",
      "foo2qpdl-wrapper: #* the Free Software Foundation; either version 2 of the License, or\r\n",
      "foo2slx-wrapper: #* the Free Software Foundation; either version 2 of the License, or\r\n",
      "foo2xqx-wrapper: #* the Free Software Foundation; either version 2 of the License, or\r\n",
      "foo2zjs-wrapper: #* the Free Software Foundation; either version 2 of the License, or\r\n",
      "g++-4.8: Copyright %s 2013 Free Software Foundation, Inc.\r\n",
      "gawk: Copyright (C) 1989, 1991-%d Free Software Foundation.\r\n",
      "gawk: the Free Software Foundation; either version 3 of the License, or\r\n",
      "gcc-4.8: Copyright %s 2013 Free Software Foundation, Inc.\r\n",
      "gcore: #   Copyright (C) 2003-2014 Free Software Foundation, Inc.\r\n",
      "gcore: # the Free Software Foundation; either version 3 of the License, or\r\n",
      "gcov-4.8: Copyright %s 2013 Free Software Foundation, Inc.\r\n",
      "gdb:  Copyright (C) 2007 Free Software Foundation, Inc. <http://fsf.org/>\r\n",
      "gdb: software for all its users.  We, the Free Software Foundation, use the\r\n",
      "gdb:   The Free Software Foundation may publish revised and/or new versions of\r\n",
      "gdb: by the Free Software Foundation.\r\n",
      "gdb: Copyright (C) 2014 Free Software Foundation, Inc.\r\n",
      "gdb: <!-- Copyright (C) 2013-2014 Free Software Foundation, Inc.\r\n",
      "gdb: <!-- Copyright (C) 2010-2014 Free Software Foundation, Inc.\r\n",
      "gdb: <!-- Copyright (C) 2008-2014 Free Software Foundation, Inc.\r\n",
      "gdb: <!-- Copyright (C) 2008-2014 Free Software Foundation, Inc.\r\n",
      "gdb: <!-- Copyright (C) 2011-2014 Free Software Foundation, Inc.\r\n",
      "gdb: <!-- Copyright (C) 2013-2014 Free Software Foundation, Inc.\r\n",
      "gdb: <!-- Copyright (C) 2007-2014 Free Software Foundation, Inc.\r\n",
      "gdb: <!-- Copyright (C) 2007-2014 Free Software Foundation, Inc.\r\n",
      "gdb: <!-- Copyright (C) 2007-2014 Free Software Foundation, Inc.\r\n",
      "gencat: Copyright (C) %s Free Software Foundation, Inc.\r\n",
      "getconf: Copyright (C) %s Free Software Foundation, Inc.\r\n",
      "getent: Copyright (C) %s Free Software Foundation, Inc.\r\n",
      "gettext: Copyright (C) %s Free Software Foundation, Inc.\r\n",
      "gettextize: # Copyright (C) 1995-1998, 2000-2013 Free Software Foundation, Inc.\r\n",
      "gettextize: # the Free Software Foundation; either version 3 of the License, or\r\n",
      "gettextize:   echo \"Copyright (C) 1995-1998, 2000-2013 Free Software Foundation, Inc.\r\n",
      "gettext.sh: # Copyright (C) 2003, 2005-2007, 2011 Free Software Foundation, Inc.\r\n",
      "gettext.sh: # the Free Software Foundation; either version 2.1 of the License, or\r\n",
      "gettext.sh:         echo \"Copyright (C) 2003-2007 Free Software Foundation, Inc.\r\n",
      "ginstall-info: Copyright (C) %s Free Software Foundation, Inc.\r\n",
      "gnome-calculator: the Free Software Foundation; either version 2 of the License, or\r\n",
      "gnome-calculator: along with this program; if not, write to the Free Software Foundation, Inc.,\r\n",
      "gnome-system-log: You should have received a copy of the GNU General Public License along with this program; if not, write to the Free Software Foundation, Inc., 51 Franklin Street, Fifth Floor, Boston, MA  02110-1301, USA\r\n",
      "gnome-system-log: This program is free software; you can redistribute it and/or modify it under the terms of the GNU General Public License as published by the Free Software Foundation; either version 2 of the License, or (at your option) any later version.\r\n",
      "gnome-system-log:  1998-2008 Free Software Foundation, Inc.\r\n",
      "gnome-terminal: You should have received a copy of the GNU General Public License along with GNOME Terminal; if not, write to the Free Software Foundation, Inc., 51 Franklin St, Fifth Floor, Boston, MA  02110-1301 USA\r\n",
      "gnome-terminal: GNOME Terminal is free software; you can redistribute it and/or modify it under the terms of the GNU General Public License as published by the Free Software Foundation; either version 3 of the License, or (at your option) any later version.\r\n",
      "gpg: Copyright (C) 2013 Free Software Foundation, Inc.\r\n",
      "gpg: the Free Software Foundation; either version 3 of the License, or\r\n",
      "gpgsplit: Copyright (C) 2013 Free Software Foundation, Inc.\r\n",
      "gpgsplit: the Free Software Foundation; either version 3 of the License, or\r\n",
      "gpgv: Copyright (C) 2013 Free Software Foundation, Inc.\r\n",
      "gpgv: the Free Software Foundation; either version 3 of the License, or\r\n",
      "gpg-zip: # Copyright (C) 2005 Free Software Foundation, Inc.\r\n",
      "gpg-zip: # the Free Software Foundation; either version 3 of the License, or\r\n",
      "gprof: Copyright (C) 2012 Free Software Foundation, Inc.\r\n",
      "groff: Copyright (C) 2013 Free Software Foundation, Inc.\r\n",
      "grog: # Copyright (C) 1993, 2006, 2009, 2011-2012 Free Software Foundation, Inc.\r\n",
      "grog: # by the Free Software Foundation, either version 3 of the License, or\r\n",
      "groups: Copyright %s %d Free Software Foundation, Inc.\r\n",
      "gsettings-schema-convert: # as published by the Free Software Foundation; either version 2\r\n",
      "gst-install: # the Free Software Foundation; either version 2 of the License, or\r\n",
      "gst-install: # with this program; if not, write to the Free Software Foundation, Inc.,\r\n",
      "gucharmap: You should have received a copy of the GNU General Public License along with Gucharmap; if not, write to the Free Software Foundation, Inc., 59 Temple Place, Suite 330, Boston, MA  02110-1301  USA\r\n",
      "gucharmap: Gucharmap is free software; you can redistribute it and/or modify it under the terms of the GNU General Public License as published by the Free Software Foundation; either version 3 of the License, or (at your option) any later version.\r\n",
      "gucharmap:   the Free Software Foundation; either version 3 of the licence, or (at\r\n",
      "guild: ;;;; \tCopyright (C) 2009, 2010, 2011, 2013 Free Software Foundation, Inc.\r\n",
      "guild: ;;;; License as published by the Free Software Foundation; either\r\n",
      "gvfs-less: # published by the Free Software Foundation; either version 2 of the\r\n",
      "hardening-check: Free Software Foundation; version 2 or later.\r\n",
      "head: Copyright %s %d Free Software Foundation, Inc.\r\n",
      "hostid: Copyright %s %d Free Software Foundation, Inc.\r\n",
      "ibus-setup: # License as published by the Free Software Foundation; either\r\n",
      "ibus-table-createdb: # License as published by the Free Software Foundation; either\r\n",
      "iconv: Copyright (C) %s Free Software Foundation, Inc.\r\n",
      "id: Copyright %s %d Free Software Foundation, Inc.\r\n",
      "info: Copyright (C) %s Free Software Foundation, Inc.\r\n",
      "infokey: Copyright (C) %s Free Software Foundation, Inc.\r\n",
      "init-checkconf: # the Free Software Foundation, version 3 of the License.\r\n",
      "initctl2dot: # published by the Free Software Foundation.\r\n",
      "initctl2dot: # with this program; if not, write to the Free Software Foundation, Inc.,\r\n",
      "innotop: # this program; if not, write to the Free Software Foundation, Inc., 59 Temple\r\n",
      "innotop: this program; if not, write to the Free Software Foundation, Inc., 59 Temple\r\n",
      "innotop: this program; if not, write to the Free Software Foundation, Inc., 59 Temple\r\n",
      "install: Copyright %s %d Free Software Foundation, Inc.\r\n",
      "isohybrid.pl: ##   the Free Software Foundation, Inc., 53 Temple Place Ste 330,\r\n",
      "join: Copyright %s %d Free Software Foundation, Inc.\r\n",
      "ld.bfd: Copyright 2013 Free Software Foundation, Inc.\r\n",
      "ldd: # Copyright (C) 1996-2014 Free Software Foundation, Inc.\r\n",
      "ldd: # License as published by the Free Software Foundation; either\r\n",
      "ldd:     printf $\"Copyright (C) %s Free Software Foundation, Inc.\r\n",
      "ld.gold: Copyright 2013 Free Software Foundation, Inc.\r\n",
      "link: Copyright %s %d Free Software Foundation, Inc.\r\n",
      "locale: Copyright (C) %s Free Software Foundation, Inc.\r\n",
      "localedef: Copyright (C) %s Free Software Foundation, Inc.\r\n",
      "logname: Copyright %s %d Free Software Foundation, Inc.\r\n",
      "lsb_release: #    the Free Software Foundation; version 2 dated June, 1991.\r\n",
      "lss16toppm: ##   the Free Software Foundation, Inc., 53 Temple Place Ste 330,\r\n",
      "make: %sCopyright (C) 2006  Free Software Foundation, Inc.\r\n",
      "mcheck: # the Free Software Foundation, either version 3 of the License, or\r\n",
      "mcomp: # the Free Software Foundation, either version 3 of the License, or\r\n",
      "md5sum: Copyright %s %d Free Software Foundation, Inc.\r\n",
      "mkdiskimage: ##   the Free Software Foundation, Inc., 53 Temple Place Ste 330,\r\n",
      "mkfifo: Copyright %s %d Free Software Foundation, Inc.\r\n",
      "msgattrib: Copyright (C) %s Free Software Foundation, Inc.\r\n",
      "msgcat: Copyright (C) %s Free Software Foundation, Inc.\r\n",
      "msgcmp: Copyright (C) %s Free Software Foundation, Inc.\r\n",
      "msgcomm: Copyright (C) %s Free Software Foundation, Inc.\r\n",
      "msgconv: Copyright (C) %s Free Software Foundation, Inc.\r\n",
      "msgen: Copyright (C) %s Free Software Foundation, Inc.\r\n",
      "msgexec: Copyright (C) %s Free Software Foundation, Inc.\r\n",
      "msgfilter: Copyright (C) %s Free Software Foundation, Inc.\r\n",
      "msgfmt: Copyright (C) %s Free Software Foundation, Inc.\r\n",
      "msggrep: Copyright (C) %s Free Software Foundation, Inc.\r\n",
      "msginit: Copyright (C) %s Free Software Foundation, Inc.\r\n",
      "msgmerge: Copyright (C) %s Free Software Foundation, Inc.\r\n",
      "msgunfmt: Copyright (C) %s Free Software Foundation, Inc.\r\n",
      "msguniq: Copyright (C) %s Free Software Foundation, Inc.\r\n",
      "msql2mysql: # the Free Software Foundation; version 2 of the License.\r\n",
      "msql2mysql: # Free Software Foundation, Inc., 51 Franklin St, Fifth Floor, Boston\r\n",
      "mtrace: # Copyright (C) 1997-2014 Free Software Foundation, Inc.\r\n",
      "mtrace: # License as published by the Free Software Foundation; either\r\n",
      "mtrace: \tprint \"Copyright (C) 2014 Free Software Foundation, Inc.\\n\";\r\n",
      "mxtar: # the Free Software Foundation, either version 3 of the License, or\r\n",
      "mysqlaccess: # License as published by the Free Software Foundation; version 2\r\n",
      "mysqlbug: # the Free Software Foundation; version 2 of the License.\r\n",
      "mysql_config: # the Free Software Foundation; version 2 of the License.\r\n",
      "mysql_convert_table_format: # the Free Software Foundation; version 2 of the License.\r\n",
      "mysqld_multi: # License as published by the Free Software Foundation; version 2\r\n",
      "mysqldumpslow: # License as published by the Free Software Foundation; version 2\r\n",
      "mysql_find_rows: # the Free Software Foundation; version 2 of the License.\r\n",
      "mysql_fix_extensions: # License as published by the Free Software Foundation; version 2\r\n",
      "mysqlhotcopy: # License as published by the Free Software Foundation; version 2\r\n",
      "mysql_install_db: # the Free Software Foundation; version 2 of the License.\r\n",
      "mysqlreport: # as published by the Free Software Foundation; either version 2\r\n",
      "mysql_secure_installation: # the Free Software Foundation; version 2 of the License.\r\n",
      "mysql_setpermission: # License as published by the Free Software Foundation; version 2\r\n",
      "mysql_upgrade:  -- the Free Software Foundation; version 2 of the License.\r\n",
      "mysql_upgrade:  -- the Free Software Foundation; version 2 of the License.\r\n",
      "mysql_zap: # the Free Software Foundation; version 2 of the License.\r\n",
      "nautilus: You should have received a copy of the GNU General Public License along with Nautilus; if not, write to the Free Software Foundation, Inc., 51 Franklin Street, Fifth Floor, Boston, MA 02110-1301 USA\r\n",
      "nautilus: Files is free software; you can redistribute it and/or modify it under the terms of the GNU General Public License as published by the Free Software Foundation; either version 2 of the License, or (at your option) any later version.\r\n",
      "ncurses5-config: # Copyright (c) 2006-2011,2012 Free Software Foundation, Inc.                #\r\n",
      "ncursesw5-config: # Copyright (c) 2006-2011,2012 Free Software Foundation, Inc.                #\r\n",
      "ngettext: Copyright (C) %s Free Software Foundation, Inc.\r\n",
      "nice: Copyright %s %d Free Software Foundation, Inc.\r\n",
      "nl: Copyright %s %d Free Software Foundation, Inc.\r\n",
      "nm: Copyright 2013 Free Software Foundation, Inc.\r\n",
      "nohup: Copyright %s %d Free Software Foundation, Inc.\r\n",
      "nproc: Copyright %s %d Free Software Foundation, Inc.\r\n",
      "nroff: #   Free Software Foundation, Inc.\r\n",
      "nroff: # by the Free Software Foundation, either version 3 of the License, or\r\n",
      "numfmt: Copyright %s %d Free Software Foundation, Inc.\r\n",
      "objcopy: Copyright 2013 Free Software Foundation, Inc.\r\n",
      "objdump: Copyright 2013 Free Software Foundation, Inc.\r\n",
      "od: Copyright %s %d Free Software Foundation, Inc.\r\n",
      "oldfind: Copyright %s %d Free Software Foundation, Inc.\r\n",
      "orca: # License as published by the Free Software Foundation; either\r\n",
      "orca: # Free Software Foundation, Inc., Franklin Street, Fifth Floor,\r\n",
      "padsp: # the Free Software Foundation; either version 2 of the License, or\r\n",
      "parsechangelog: #    the Free Software Foundation; either version 2 of the License, or\r\n",
      "parsechangelog: the Free Software Foundation; either version 2 of the License, or\r\n",
      "paste: Copyright %s %d Free Software Foundation, Inc.\r\n",
      "patch: Copyright (C) 2003, 2009-2012 Free Software Foundation, Inc.\r\n",
      "pathchk: Copyright %s %d Free Software Foundation, Inc.\r\n",
      "pgawk: Copyright (C) 1989, 1991-%d Free Software Foundation.\r\n",
      "pgawk: the Free Software Foundation; either version 3 of the License, or\r\n",
      "pinky: Copyright %s %d Free Software Foundation, Inc.\r\n",
      "pldd: Copyright (C) %s Free Software Foundation, Inc.\r\n",
      "pm-is-supported: # published by the Free Software Foundation.\r\n",
      "ppmtolss16: ##   the Free Software Foundation, Inc., 53 Temple Place Ste 330,\r\n",
      "pr: Copyright %s %d Free Software Foundation, Inc.\r\n",
      "printenv: Copyright %s %d Free Software Foundation, Inc.\r\n",
      "printf: Copyright %s %d Free Software Foundation, Inc.\r\n",
      "ptx: Copyright %s %d Free Software Foundation, Inc.\r\n",
      "quirks-handler: # the Free Software Foundation; either version 2 of the License, or\r\n",
      "quirks-handler: # with this program; if not, write to the Free Software Foundation, Inc.,\r\n",
      "ranlib: Copyright 2013 Free Software Foundation, Inc.\r\n",
      "rdiffdir: # Free Software Foundation; either version 2 of the License, or (at your\r\n",
      "rdiffdir: # along with duplicity; if not, write to the Free Software Foundation,\r\n",
      "readelf: Copyright 2013 Free Software Foundation, Inc.\r\n",
      "recode-sr-latin: Copyright (C) %s Free Software Foundation, Inc.\r\n",
      "recountdiff: # the Free Software Foundation; either version 2 of the License, or\r\n",
      "remmina: You should have received a copy of the GNU General Public License along with this program; if not, write to the Free Software Foundation, Inc., 59 Temple Place, Suite 330, Boston, MA 02111-1307, USA.\r\n",
      "remmina: Remmina is free software; you can redistribute it and/or modify it under the terms of the GNU General Public License as published by the Free Software Foundation; either version 2 of the License, or (at your option) any later version.\r\n",
      "runcon: Copyright %s %d Free Software Foundation, Inc.\r\n",
      "samba-tool: # the Free Software Foundation; either version 3 of the License, or\r\n",
      "screen: This program is free software; you can redistribute it and/or modify it under the terms of the GNU General Public License as published by the Free Software Foundation; either version 3, or (at your option) any later version.\r\n",
      "screen: You should have received a copy of the GNU General Public License along with this program (see the file COPYING); if not, see http://www.gnu.org/licenses/, or contact Free Software Foundation, Inc., 51 Franklin Street, Fifth Floor, Boston, MA  02111-1301  USA.\r\n",
      "sdiff: Copyright %s %d Free Software Foundation, Inc.\r\n",
      "seq: Copyright %s %d Free Software Foundation, Inc.\r\n",
      "session-installer: # the Free Software Foundation; either version 2 of the License, or\r\n",
      "session-installer: # with this program; if not, write to the Free Software Foundation, Inc.,\r\n",
      "sha1sum: Copyright %s %d Free Software Foundation, Inc.\r\n",
      "sha224sum: Copyright %s %d Free Software Foundation, Inc.\r\n",
      "sha256sum: Copyright %s %d Free Software Foundation, Inc.\r\n",
      "sha384sum: Copyright %s %d Free Software Foundation, Inc.\r\n",
      "sha512sum: Copyright %s %d Free Software Foundation, Inc.\r\n",
      "shotwell: along with Shotwell; if not, write to the Free Software Foundation, Inc., \r\n",
      "shred: Copyright %s %d Free Software Foundation, Inc.\r\n",
      "shuf: Copyright %s %d Free Software Foundation, Inc.\r\n",
      "simple-scan: the Free Software Foundation, either version 3 of the License, or\r\n",
      "size: Copyright 2013 Free Software Foundation, Inc.\r\n",
      "software-properties-gtk: #  published by the Free Software Foundation; either version 2 of the\r\n",
      "sort: Copyright %s %d Free Software Foundation, Inc.\r\n",
      "sotruss: # Copyright (C) 2011-2014 Free Software Foundation, Inc.\r\n",
      "sotruss: # License as published by the Free Software Foundation; either\r\n",
      "sotruss:     printf $\"Copyright (C) %s Free Software Foundation, Inc.\r\n",
      "spd-say: the Free Software Foundation; either version 2, or (at your option)\r\n",
      "speech-dispatcher: the Free Software Foundation; either version 2, or (at your option)\r\n",
      "split: Copyright %s %d Free Software Foundation, Inc.\r\n",
      "splitdiff: # the Free Software Foundation; either version 2 of the License, or\r\n",
      "sprof: Copyright (C) %s Free Software Foundation, Inc.\r\n",
      "ssh-import-id: # the Free Software Foundation, version 3.\r\n",
      "ssh-import-id-gh: # the Free Software Foundation, version 3.\r\n",
      "ssh-import-id-lp: # the Free Software Foundation, version 3.\r\n",
      "start-pulseaudio-kde: # the Free Software Foundation; either version 2 of the License, or\r\n",
      "start-pulseaudio-x11: # the Free Software Foundation; either version 2 of the License, or\r\n",
      "stat: Copyright %s %d Free Software Foundation, Inc.\r\n",
      "stdbuf: Copyright %s %d Free Software Foundation, Inc.\r\n",
      "strings: Copyright 2013 Free Software Foundation, Inc.\r\n",
      "strip: Copyright 2013 Free Software Foundation, Inc.\r\n",
      "sum: Copyright %s %d Free Software Foundation, Inc.\r\n",
      "tac: Copyright %s %d Free Software Foundation, Inc.\r\n",
      "tail: Copyright %s %d Free Software Foundation, Inc.\r\n",
      "tee: Copyright %s %d Free Software Foundation, Inc.\r\n",
      "tgz: # the Free Software Foundation, either version 3 of the License, or\r\n",
      "timeout: Copyright %s %d Free Software Foundation, Inc.\r\n",
      "tr: Copyright %s %d Free Software Foundation, Inc.\r\n",
      "truncate: Copyright %s %d Free Software Foundation, Inc.\r\n",
      "tsort: Copyright %s %d Free Software Foundation, Inc.\r\n",
      "tty: Copyright %s %d Free Software Foundation, Inc.\r\n",
      "ubuntu-drivers: # the Free Software Foundation; either version 2 of the License, or\r\n",
      "ucfq: the Free Software Foundation; either version 2 of the License, or\r\n",
      "unattended-upgrade: # by the Free Software Foundation; either version 2 of the License, or (at\r\n",
      "unexpand: Copyright %s %d Free Software Foundation, Inc.\r\n",
      "uniq: Copyright %s %d Free Software Foundation, Inc.\r\n",
      "unity: # this program; if not, write to the Free Software Foundation, Inc.,\r\n",
      "unlink: Copyright %s %d Free Software Foundation, Inc.\r\n",
      "unwrapdiff: # the Free Software Foundation; either version 2 of the License, or\r\n",
      "update-manager: #  published by the Free Software Foundation; either version 2 of the\r\n",
      "usb-creator-gtk: # as published by the Free Software Foundation.\r\n",
      "users: Copyright %s %d Free Software Foundation, Inc.\r\n",
      "uz: # the Free Software Foundation, either version 3 of the License, or\r\n",
      "wc: Copyright %s %d Free Software Foundation, Inc.\r\n",
      "wget: Copyright (C) 2011 Free Software Foundation, Inc.\r\n",
      "who: Copyright %s %d Free Software Foundation, Inc.\r\n",
      "whoami: Copyright %s %d Free Software Foundation, Inc.\r\n",
      "xargs: Copyright %s %d Free Software Foundation, Inc.\r\n",
      "xgettext: Copyright (C) %s Free Software Foundation, Inc.\r\n",
      "xzdiff: # Copyright (C) 1998, 2002, 2006, 2007 Free Software Foundation\r\n",
      "xzdiff: # the Free Software Foundation; either version 2 of the License, or\r\n",
      "xzgrep: # Copyright (C) 1998, 2001, 2002, 2006, 2007 Free Software Foundation\r\n",
      "xzgrep: # the Free Software Foundation; either version 2 of the License, or\r\n",
      "xzless: # Copyright (C) 1998, 2002, 2006, 2007 Free Software Foundation\r\n",
      "xzless: # the Free Software Foundation; either version 2 of the License, or\r\n",
      "xzmore: # Copyright (C) 2001, 2002, 2007 Free Software Foundation\r\n",
      "xzmore: # the Free Software Foundation; either version 2 of the License, or\r\n",
      "yes: Copyright %s %d Free Software Foundation, Inc.\r\n",
      "zenity: You should have received a copy of the GNU Lesser General Public License along with this program; if not, write to the Free Software Foundation, Inc., 51 Franklin Street, Fifth Floor, Boston, MA 02110-1301, USA.\r\n",
      "zenity: This program is free software; you can redistribute it and/or modify it under the terms of the GNU Lesser General Public License as published by the Free Software Foundation; either version 2 of the License, or (at your option) any later version.\r\n"
     ]
    }
   ],
   "source": [
    "./findstring.sh"
   ]
  },
  {
   "cell_type": "markdown",
   "metadata": {},
   "source": [
    "The output of a for loop may be piped to a command or commands"
   ]
  },
  {
   "cell_type": "code",
   "execution_count": 21,
   "metadata": {
    "collapsed": false
   },
   "outputs": [
    {
     "name": "stdout",
     "output_type": "stream",
     "text": [
      "#!/bin/bash\r\n",
      "# symlinks.sh: Lists symbolic links in a directory.\r\n",
      "\r\n",
      "directory=${1-`pwd`}\r\n",
      "#  Defaults to current working directory,\r\n",
      "#+ if not otherwise specified.\r\n",
      "#  Equivalent to code block below.\r\n",
      "# ----------------------------------------------------------\r\n",
      "# ARGS=1                # Expect one command-line argument.\r\n",
      "#\r\n",
      "# if [ $# -ne \"$ARGS\" ] # If not 1 arg...\r\n",
      "# then\r\n",
      "#   directory=`pwd`     # current working directory\r\n",
      "# else\r\n",
      "#   directory=$1\r\n",
      "# fi\r\n",
      "# ----------------------------------------------------------\r\n",
      "\r\n",
      "echo \"symbolic links in directory \\\"$directory\\\"\"\r\n",
      "\r\n",
      "# -type l = symbolic links\r\n",
      "for file in \"$( find $directory -type l )\" \r\n",
      "do\r\n",
      "    echo \"$file\"\r\n",
      "done | sort\r\n",
      "#  Strictly speaking, a loop isn't really necessary here,\r\n",
      "#+ since the output of the \"find\" command is expanded into a single word.\r\n",
      "#  However, it's easy to understand and illustrative this way.\r\n",
      "\r\n",
      "#  As Dominik 'Aeneas' Schnitzer points out,\r\n",
      "#+ failing to quote    $( find $directory -type l )\r\n",
      "#+ will choke on filenames with embedded whitespace.\r\n",
      "#  containing whitespace.\r\n",
      "\r\n",
      "exit 0\r\n",
      "\r\n",
      "# --------------------------------------------------------\r\n",
      "# Jean Helou proposes the following alternative:\r\n",
      "echo \"symbolic links in directory \\\"$directory\\\"\"\r\n",
      "# Backup of the current IFS. One can never be too cautious.\r\n",
      "OLDIFS=$IFS\r\n",
      "IFS=:\r\n",
      "\r\n",
      "for file in $(find $directory -type l -printf \"%p$IFS\")\r\n",
      "do #                                  ^^^^^^^^^^^^^^^^\r\n",
      "    echo \"$file\"\r\n",
      "done|sort\r\n",
      "\r\n",
      "# And, James \"Mike\" Conley suggests modifying Helou's code thusly:\r\n",
      "OLDIFS=$IFS\r\n",
      "IFS=''   # Null IFS means no word breaks\r\n",
      "for file in $( find $directory -type l )\r\n",
      "do\r\n",
      "    echo $file\r\n",
      "done | sort\r\n",
      "\r\n",
      "#  This works in the \"pathological\" case of a directory name having\r\n",
      "#+ an embedded colon.\r\n",
      "#  \"This also fixes the pathological case of the directory name having\r\n",
      "#+ a colon (or space in earlier example) as well.\"\r\n"
     ]
    }
   ],
   "source": [
    "cat symlinks.sh"
   ]
  },
  {
   "cell_type": "code",
   "execution_count": 22,
   "metadata": {
    "collapsed": false
   },
   "outputs": [
    {
     "name": "stdout",
     "output_type": "stream",
     "text": [
      "symbolic links in directory \"/etc/network/\"\r\n",
      "/etc/network/if-down.d/wpasupplicant\r\n",
      "/etc/network/if-post-down.d/avahi-daemon\r\n",
      "/etc/network/if-post-down.d/wpasupplicant\r\n",
      "/etc/network/if-pre-up.d/wpasupplicant\r\n",
      "/etc/network/if-up.d/wpasupplicant\r\n",
      "/etc/network/run\r\n"
     ]
    }
   ],
   "source": [
    "./symlinks.sh /etc/network/"
   ]
  },
  {
   "cell_type": "markdown",
   "metadata": {},
   "source": [
    "The stdout of a loop may be redirected to a file, as this slight modification to the previous example shows."
   ]
  },
  {
   "cell_type": "markdown",
   "metadata": {},
   "source": [
    "#### Example 11-12. Symbolic links in a directory, saved to a file"
   ]
  },
  {
   "cell_type": "code",
   "execution_count": 24,
   "metadata": {
    "collapsed": false
   },
   "outputs": [
    {
     "name": "stdout",
     "output_type": "stream",
     "text": [
      "#!/bin/bash\r\n",
      "# symlinks.sh: Lists symbolic links in a directory.\r\n",
      "\r\n",
      "# save-file\r\n",
      "OUTFILE=symlinks.list \r\n",
      "\r\n",
      "# Defaults to current working directory,\r\n",
      "#+ if not otherwise specified.\r\n",
      "directory=${1-`pwd`}\r\n",
      "\r\n",
      "echo \"symbolic links in directory \\\"$directory\\\"\" > \"$OUTFILE\"\r\n",
      "echo \"---------------------------\" >> \"$OUTFILE\"\r\n",
      "\r\n",
      "# -type l = symbolic links\r\n",
      "for file in \"$( find $directory -type l )\" \r\n",
      "do\r\n",
      "    echo \"$file\"\r\n",
      "done | sort >> \"$OUTFILE\"    # stdout of loop\r\n",
      "#              ^^^^^^^^^^^^^ redirected to save file.\r\n",
      "\r\n",
      "echo \"Output file = $OUTFILE\"\r\n",
      "cat \"$OUTFILE\"\r\n",
      "\r\n",
      "exit $?\r\n"
     ]
    }
   ],
   "source": [
    "cat symlinks.sh"
   ]
  },
  {
   "cell_type": "code",
   "execution_count": 25,
   "metadata": {
    "collapsed": false
   },
   "outputs": [
    {
     "name": "stdout",
     "output_type": "stream",
     "text": [
      "Output file = symlinks.list\r\n",
      "symbolic links in directory \"/etc/systemd/\"\r\n",
      "---------------------------\r\n",
      "/etc/systemd/system/dbus-org.freedesktop.Avahi.service\r\n",
      "/etc/systemd/system/multi-user.target.wants/anacron.service\r\n",
      "/etc/systemd/system/multi-user.target.wants/avahi-daemon.service\r\n",
      "/etc/systemd/system/multi-user.target.wants/cups-browsed.service\r\n",
      "/etc/systemd/system/multi-user.target.wants/rsyslog.service\r\n",
      "/etc/systemd/system/multi-user.target.wants/ssh.service\r\n",
      "/etc/systemd/system/sockets.target.wants/acpid.socket\r\n",
      "/etc/systemd/system/sockets.target.wants/avahi-daemon.socket\r\n",
      "/etc/systemd/system/sshd.service\r\n",
      "/etc/systemd/system/sysinit.target.wants/brltty.service\r\n",
      "/etc/systemd/system/syslog.service\r\n"
     ]
    }
   ],
   "source": [
    "./symlinks.sh /etc/systemd/"
   ]
  },
  {
   "cell_type": "markdown",
   "metadata": {},
   "source": [
    "There is an alternative syntax to a for loop that will look very familiar to C programmers.   \n",
    "This requires double parentheses."
   ]
  },
  {
   "cell_type": "markdown",
   "metadata": {},
   "source": [
    "#### Example 11-13. A C-style for loop"
   ]
  },
  {
   "cell_type": "code",
   "execution_count": 26,
   "metadata": {
    "collapsed": false
   },
   "outputs": [
    {
     "name": "stdout",
     "output_type": "stream",
     "text": [
      "1 2 3 4 5 6 7 8 9 10 "
     ]
    }
   ],
   "source": [
    "# Multiple ways to count up to 10.\n",
    "\n",
    "# Standard syntax.\n",
    "for a in 1 2 3 4 5 6 7 8 9 10\n",
    "do\n",
    "    echo -n \"$a \"\n",
    "done"
   ]
  },
  {
   "cell_type": "code",
   "execution_count": 27,
   "metadata": {
    "collapsed": false
   },
   "outputs": [
    {
     "name": "stdout",
     "output_type": "stream",
     "text": [
      "1 2 3 4 5 6 7 8 9 10 "
     ]
    }
   ],
   "source": [
    "# Using \"seq\" ...\n",
    "for a in `seq 10`\n",
    "do\n",
    "    echo -n \"$a \"\n",
    "done"
   ]
  },
  {
   "cell_type": "code",
   "execution_count": 28,
   "metadata": {
    "collapsed": false
   },
   "outputs": [
    {
     "name": "stdout",
     "output_type": "stream",
     "text": [
      "1 2 3 4 5 6 7 8 9 10 "
     ]
    }
   ],
   "source": [
    "# Using brace expansion ...\n",
    "# Bash, version 3+.\n",
    "for a in {1..10}\n",
    "do\n",
    "    echo -n \"$a \"\n",
    "done"
   ]
  },
  {
   "cell_type": "code",
   "execution_count": 29,
   "metadata": {
    "collapsed": false
   },
   "outputs": [
    {
     "name": "stdout",
     "output_type": "stream",
     "text": [
      "1 2 3 4 5 6 7 8 9 10 "
     ]
    }
   ],
   "source": [
    "# Now, let's do the same, using C-like syntax.\n",
    "\n",
    "LIMIT=10\n",
    "# Double parentheses, and naked \"LIMIT\"\n",
    "for ((a=1; a <= LIMIT ; a++)) \n",
    "do\n",
    "    echo -n \"$a \"\n",
    "done"
   ]
  },
  {
   "cell_type": "code",
   "execution_count": 30,
   "metadata": {
    "collapsed": false
   },
   "outputs": [
    {
     "name": "stdout",
     "output_type": "stream",
     "text": [
      "1-1 2-2 3-3 4-4 5-5 6-6 7-7 8-8 9-9 10-10 "
     ]
    }
   ],
   "source": [
    "# Let's use the C \"comma operator\" to increment two variables simultaneously.\n",
    "\n",
    "# The comma concatenates operations.\n",
    "for ((a=1, b=1; a <= LIMIT ; a++, b++))\n",
    "do \n",
    "    echo -n \"$a-$b \"\n",
    "done"
   ]
  },
  {
   "cell_type": "markdown",
   "metadata": {},
   "source": [
    "See also Example 27-16, Example 27-17, and Example A-6."
   ]
  },
  {
   "cell_type": "markdown",
   "metadata": {},
   "source": [
    "The keywords \"do\" and \"done\" delineate the for-loop command block.   \n",
    "However, these may, in certain contexts, be omitted by framing the command block within curly brackets"
   ]
  },
  {
   "cell_type": "code",
   "execution_count": 31,
   "metadata": {
    "collapsed": false
   },
   "outputs": [
    {
     "name": "stdout",
     "output_type": "stream",
     "text": [
      "* 1 ** 2 ** 3 ** 4 ** 5 ** 6 ** 7 ** 8 ** 9 ** 10 *"
     ]
    }
   ],
   "source": [
    "for((n=1; n<=10; n++))\n",
    "# No do!\n",
    "{\n",
    "    echo -n \"* $n *\"\n",
    "}\n",
    "# No done!"
   ]
  },
  {
   "cell_type": "code",
   "execution_count": 32,
   "metadata": {
    "collapsed": false
   },
   "outputs": [
    {
     "name": "stdout",
     "output_type": "stream",
     "text": [
      "1 2 3 "
     ]
    }
   ],
   "source": [
    "#  But, note that in a classic for-loop: for n in [list] ...\n",
    "#+ a terminal semicolon is required.\n",
    "\n",
    "for n in 1 2 3\n",
    "{ echo -n \"$n \"; }"
   ]
  },
  {
   "cell_type": "markdown",
   "metadata": {},
   "source": [
    "#### B.while"
   ]
  },
  {
   "cell_type": "markdown",
   "metadata": {},
   "source": [
    "This construct tests for a condition at the top of a loop, and keeps looping as long as that condition is true (returns a 0 exit status). In contrast to a for loop, a while loop finds use in situations where the number of loop repetitions is not known beforehand."
   ]
  },
  {
   "cell_type": "code",
   "execution_count": null,
   "metadata": {
    "collapsed": true
   },
   "outputs": [],
   "source": [
    "while [ condition ]\n",
    "do\n",
    "    command(s)...\n",
    "done"
   ]
  },
  {
   "cell_type": "markdown",
   "metadata": {},
   "source": [
    "The bracket construct in a while loop is nothing more than our old friend, the test brackets used in an if/then test.   \n",
    "In fact, a while loop can legally use the more versatile double-brackets construct (while [[ condition ]])."
   ]
  },
  {
   "cell_type": "markdown",
   "metadata": {},
   "source": [
    "As is the case with for loops,placing the do on the same line as the condition test requires a semicolon."
   ]
  },
  {
   "cell_type": "code",
   "execution_count": null,
   "metadata": {
    "collapsed": true
   },
   "outputs": [],
   "source": [
    "while [ condition ] ; do\n",
    "    command(s)...\n",
    "done"
   ]
  },
  {
   "cell_type": "markdown",
   "metadata": {},
   "source": [
    "Note that the test brackets are not mandatory in a while loop. See, for example, the getopts construct."
   ]
  },
  {
   "cell_type": "markdown",
   "metadata": {},
   "source": [
    "#### Example 11-15. Simple while loop"
   ]
  },
  {
   "cell_type": "code",
   "execution_count": 33,
   "metadata": {
    "collapsed": false
   },
   "outputs": [
    {
     "name": "stdout",
     "output_type": "stream",
     "text": [
      "#!/bin/bash\r\n",
      "\r\n",
      "var0=0\r\n",
      "LIMIT=10\r\n",
      "\r\n",
      "while [ \"$var0\" -lt \"$LIMIT\" ]\r\n",
      "#      ^                    ^\r\n",
      "# Spaces, because these are \"test-brackets\" . . .\r\n",
      "do\r\n",
      "    echo -n \"$var0 \"      # -n suppresses newline.\r\n",
      "    #             ^ Space, to separate printed out numbers.\r\n",
      "    var0=`expr $var0 + 1` # var0=$(($var0+1)) also works.\r\n",
      "                          # var0=$((var0 + 1)) also works.\r\n",
      "                          # let \"var0 += 1\" also works.\r\n",
      "done                      # Various other methods also work.\r\n",
      "echo\r\n",
      "exit 0\r\n"
     ]
    }
   ],
   "source": [
    "cat simple-while.sh"
   ]
  },
  {
   "cell_type": "code",
   "execution_count": 34,
   "metadata": {
    "collapsed": false
   },
   "outputs": [
    {
     "name": "stdout",
     "output_type": "stream",
     "text": [
      "0 1 2 3 4 5 6 7 8 9 \r\n"
     ]
    }
   ],
   "source": [
    "./simple-while.sh"
   ]
  },
  {
   "cell_type": "markdown",
   "metadata": {},
   "source": [
    "#### Example 11-16. Another while loop"
   ]
  },
  {
   "cell_type": "code",
   "execution_count": 35,
   "metadata": {
    "collapsed": false
   },
   "outputs": [
    {
     "name": "stdout",
     "output_type": "stream",
     "text": [
      "#!/bin/bash\r\n",
      "\r\n",
      "echo\r\n",
      "\r\n",
      "# Equivalent to:\r\n",
      "# while test \"$var1\" != \"end\"\r\n",
      "while [ \"$var1\" != \"end\" ] \r\n",
      "do\r\n",
      "    echo \"Input variable #1 (end to exit) \"\r\n",
      "    read var1                    # Not 'read $var1' (why?).\r\n",
      "    echo \"variable #1 = $var1\"   # Need quotes because of \"#\" . . .\r\n",
      "    # If input is 'end', echoes it here.\r\n",
      "    # Does not test for termination condition until top of loop.\r\n",
      "    echo\r\n",
      "done\r\n",
      "exit 0\r\n"
     ]
    }
   ],
   "source": [
    "cat while-loop.sh"
   ]
  },
  {
   "cell_type": "raw",
   "metadata": {},
   "source": [
    "Running Instance:\n",
    "\n",
    "liheyi@analysis:~/jupyter/bash/basics$ bash while-loop.sh\n",
    "\n",
    "Input variable #1 (end to exit) \n",
    "123\n",
    "variable #1 = 123\n",
    "\n",
    "Input variable #1 (end to exit) \n",
    "abc\n",
    "variable #1 = abc\n",
    "\n",
    "Input variable #1 (end to exit) \n",
    "libin\n",
    "variable #1 = libin\n",
    "\n",
    "Input variable #1 (end to exit) \n",
    "end\n",
    "variable #1 = end\n",
    "\n",
    "liheyi@analysis:~/jupyter/bash/basics$"
   ]
  },
  {
   "cell_type": "markdown",
   "metadata": {},
   "source": [
    "A while loop may have multiple conditions.   \n",
    "Only the final condition determines when the loop terminates.   \n",
    "This necessitates a slightly different loop syntax, however."
   ]
  },
  {
   "cell_type": "markdown",
   "metadata": {},
   "source": [
    "#### Example 11-17. while loop with multiple conditions"
   ]
  },
  {
   "cell_type": "code",
   "execution_count": 36,
   "metadata": {
    "collapsed": false
   },
   "outputs": [
    {
     "name": "stdout",
     "output_type": "stream",
     "text": [
      "#!/bin/bash\r\n",
      "\r\n",
      "var1=unset\r\n",
      "previous=$var1\r\n",
      "\r\n",
      "while echo \"previous-variable = $previous\"\r\n",
      "    echo\r\n",
      "    previous=$var1\r\n",
      "    [ \"$var1\" != end ] # Keeps track of what $var1 was previously.\r\n",
      "    # Four conditions on *while*, but only the final one controls loop.\r\n",
      "    # The *last* exit status is the one that counts.\r\n",
      "do\r\n",
      "    echo \"Input variable #1 (end to exit) \"\r\n",
      "    read var1\r\n",
      "    echo \"variable #1 = $var1\"\r\n",
      "done\r\n",
      "\r\n",
      "# Try to figure out how this all works.\r\n",
      "# It's a wee bit tricky.\r\n",
      "exit 0\r\n"
     ]
    }
   ],
   "source": [
    "cat while-loop2.sh"
   ]
  },
  {
   "cell_type": "raw",
   "metadata": {},
   "source": [
    "Running Instance:\n",
    "\n",
    "liheyi@analysis:~/jupyter/bash/basics$ bash while-loop2.sh\n",
    "previous-variable = unset\n",
    "\n",
    "Input variable #1 (end to exit) \n",
    "123\n",
    "variable #1 = 123\n",
    "previous-variable = unset\n",
    "\n",
    "Input variable #1 (end to exit) \n",
    "456\n",
    "variable #1 = 456\n",
    "previous-variable = 123\n",
    "\n",
    "Input variable #1 (end to exit) \n",
    "abc\n",
    "variable #1 = abc\n",
    "previous-variable = 456\n",
    "\n",
    "Input variable #1 (end to exit) \n",
    "liheyi\n",
    "variable #1 = liheyi\n",
    "previous-variable = abc\n",
    "\n",
    "Input variable #1 (end to exit) \n",
    "end\n",
    "variable #1 = end\n",
    "previous-variable = liheyi\n",
    "\n",
    "liheyi@analysis:~/jupyter/bash/basics$"
   ]
  },
  {
   "cell_type": "markdown",
   "metadata": {},
   "source": [
    "As with a for loop, a while loop may employ C-style syntax by using the double-parentheses construct."
   ]
  },
  {
   "cell_type": "markdown",
   "metadata": {},
   "source": [
    "#### Example 11-18. C-style syntax in a while loop"
   ]
  },
  {
   "cell_type": "code",
   "execution_count": 37,
   "metadata": {
    "collapsed": false
   },
   "outputs": [
    {
     "name": "stdout",
     "output_type": "stream",
     "text": [
      "#!/bin/bash\r\n",
      "# wh-loopc.sh: Count to 10 in a \"while\" loop.\r\n",
      "\r\n",
      "LIMIT=10 \r\n",
      "a=1\r\n",
      "\r\n",
      "while [ \"$a\" -le $LIMIT ]\r\n",
      "do\r\n",
      "    echo -n \"$a \"\r\n",
      "    let \"a+=1\"\r\n",
      "done # No surprises, so far.\r\n",
      "echo\r\n",
      "\r\n",
      "# Now, we'll repeat with C-like syntax.\r\n",
      "# Double parentheses permit space when setting a variable, as in C.\r\n",
      "((a = 1))\r\n",
      "\r\n",
      "while (( a <= LIMIT ))    #  Double parentheses,\r\n",
      "do                        #+ and no \"$\" preceding variables.\r\n",
      "    echo -n \"$a \"\r\n",
      "    ((a += 1))            # let \"a+=1\"\r\n",
      "    # Yes, indeed.\r\n",
      "    # Double parentheses permit incrementing a variable with C-like syntax.\r\n",
      "done\r\n",
      "echo\r\n",
      "\r\n",
      "# C and Java programmers can feel right at home in Bash.\r\n",
      "exit 0\r\n"
     ]
    }
   ],
   "source": [
    "cat wh-loopc.sh"
   ]
  },
  {
   "cell_type": "code",
   "execution_count": 38,
   "metadata": {
    "collapsed": false
   },
   "outputs": [
    {
     "name": "stdout",
     "output_type": "stream",
     "text": [
      "1 2 3 4 5 6 7 8 9 10 \r\n",
      "1 2 3 4 5 6 7 8 9 10 \r\n"
     ]
    }
   ],
   "source": [
    "./wh-loopc.sh"
   ]
  },
  {
   "cell_type": "markdown",
   "metadata": {},
   "source": [
    "Inside its test brackets, a while loop can call a function."
   ]
  },
  {
   "cell_type": "code",
   "execution_count": 39,
   "metadata": {
    "collapsed": false
   },
   "outputs": [
    {
     "name": "stdout",
     "output_type": "stream",
     "text": [
      "Still going: t = 1\r\n",
      "Still going: t = 2\r\n",
      "Still going: t = 3\r\n",
      "Still going: t = 4\r\n"
     ]
    }
   ],
   "source": [
    "t=0\n",
    "\n",
    "condition ()\n",
    "{\n",
    "    ((t++))\n",
    "    if [ $t -lt 5 ]\n",
    "    then\n",
    "        return 0 # true\n",
    "    else\n",
    "        return 1 # false\n",
    "    fi\n",
    "}\n",
    "\n",
    "while condition\n",
    "do\n",
    "    echo \"Still going: t = $t\"\n",
    "done"
   ]
  },
  {
   "cell_type": "markdown",
   "metadata": {},
   "source": [
    "Similar to the if-test construct, a while loop can omit the test brackets."
   ]
  },
  {
   "cell_type": "code",
   "execution_count": null,
   "metadata": {
    "collapsed": true
   },
   "outputs": [],
   "source": [
    "while condition\n",
    "do\n",
    "    command(s) ...\n",
    "done"
   ]
  },
  {
   "cell_type": "markdown",
   "metadata": {},
   "source": [
    "By coupling the power of the read command with a while loop,   \n",
    "we get the handy while read construct, useful for reading and parsing files."
   ]
  },
  {
   "cell_type": "code",
   "execution_count": null,
   "metadata": {
    "collapsed": true
   },
   "outputs": [],
   "source": [
    "cat $filename |   # Supply input from a file.\n",
    "while read line   # As long as there is another line to read ...\n",
    "do\n",
    "    ...\n",
    "done\n",
    "\n",
    "# =========== Snippet from \"sd.sh\" example script ========== #\n",
    "while read value  # Read one data point at a time.\n",
    "do\n",
    "    rt=$(echo \"scale=$SC; $rt + $value\" | bc)\n",
    "    (( ct++ ))\n",
    "done\n",
    "\n",
    "am=$(echo \"scale=$SC; $rt / $ct\" | bc)\n",
    "\n",
    "echo $am; return $ct  # This function \"returns\" TWO values!\n",
    "#  Caution: This little trick will not work if $ct > 255!\n",
    "#  To handle a larger number of data points,\n",
    "#+ simply comment out the \"return $ct\" above.\n",
    "} <\"$datafile\"        # Feed in data file."
   ]
  },
  {
   "cell_type": "markdown",
   "metadata": {},
   "source": [
    "A while loop may have its stdin redirected to a file by a < at its end.  \n",
    "A while loop may have its stdin supplied by a pipe."
   ]
  },
  {
   "cell_type": "markdown",
   "metadata": {},
   "source": [
    "#### C.until"
   ]
  },
  {
   "cell_type": "markdown",
   "metadata": {},
   "source": [
    "This construct tests for a condition at the top of a loop,   \n",
    "and keeps looping as long as that condition is false (opposite of while loop)."
   ]
  },
  {
   "cell_type": "code",
   "execution_count": null,
   "metadata": {
    "collapsed": true
   },
   "outputs": [],
   "source": [
    "until [ condition-is-true ]\n",
    "do\n",
    "    command(s)...\n",
    "done"
   ]
  },
  {
   "cell_type": "markdown",
   "metadata": {},
   "source": [
    "Note that an until loop tests for the terminating condition at the top of the loop,   \n",
    "differing from a similar construct in some programming languages."
   ]
  },
  {
   "cell_type": "markdown",
   "metadata": {},
   "source": [
    "As is the case with for loops, placing the do on the same line as the condition test requires a semicolon."
   ]
  },
  {
   "cell_type": "code",
   "execution_count": null,
   "metadata": {
    "collapsed": true
   },
   "outputs": [],
   "source": [
    "until [ condition-is-true ] ; do"
   ]
  },
  {
   "cell_type": "markdown",
   "metadata": {},
   "source": [
    "#### Example 11-19. until loop"
   ]
  },
  {
   "cell_type": "code",
   "execution_count": 40,
   "metadata": {
    "collapsed": false
   },
   "outputs": [
    {
     "name": "stdout",
     "output_type": "stream",
     "text": [
      "#!/bin/bash\r\n",
      "\r\n",
      "END_CONDITION=end\r\n",
      "\r\n",
      "until [ \"$var1\" = \"$END_CONDITION\" ]\r\n",
      "# Tests condition here, at top of loop.\r\n",
      "do\r\n",
      "    echo \"Input variable #1 \"\r\n",
      "    echo \"($END_CONDITION to exit)\"\r\n",
      "    read var1\r\n",
      "    echo \"variable #1 = $var1\"\r\n",
      "    echo\r\n",
      "done\r\n",
      "\r\n",
      "#  As with \"for\" and \"while\" loops,\r\n",
      "#+ an \"until\" loop permits C-like test constructs.\r\n",
      "\r\n",
      "LIMIT=10\r\n",
      "var=0\r\n",
      "\r\n",
      "until (( var > LIMIT ))\r\n",
      "do #  ^^ ^     ^     ^^   No brackets, no $ prefixing variables.\r\n",
      "    echo -n \"$var \"\r\n",
      "    (( var++ ))\r\n",
      "done                      # 0 1 2 3 4 5 6 7 8 9 10\r\n",
      "\r\n",
      "echo\r\n",
      "exit 0\r\n"
     ]
    }
   ],
   "source": [
    "cat until-loop.sh"
   ]
  },
  {
   "cell_type": "raw",
   "metadata": {},
   "source": [
    "Running Instance:\n",
    "\n",
    "liheyi@analysis:~/jupyter/bash/basics$ bash until-loop.sh\n",
    "Input variable #1 \n",
    "(end to exit)\n",
    "123\n",
    "variable #1 = 123\n",
    "\n",
    "Input variable #1 \n",
    "(end to exit)\n",
    "abc\n",
    "variable #1 = abc\n",
    "\n",
    "Input variable #1 \n",
    "(end to exit)\n",
    "libin\n",
    "variable #1 = libin\n",
    "\n",
    "Input variable #1 \n",
    "(end to exit)\n",
    "end\n",
    "variable #1 = end\n",
    "\n",
    "0 1 2 3 4 5 6 7 8 9 10 \n",
    "liheyi@analysis:~/jupyter/bash/basics$"
   ]
  },
  {
   "cell_type": "markdown",
   "metadata": {},
   "source": [
    "How to choose between a for loop or a while loop or until loop?   \n",
    "In C, you would typically use a for loop when the number of loop iterations is known beforehand.   \n",
    "With Bash, however, the situation is fuzzier.   \n",
    "The Bash for loop is more loosely structured and more flexible than its equivalent in other languages.   \n",
    "Therefore,feel free to use whatever type of loop gets the job done in the simplest way."
   ]
  },
  {
   "cell_type": "markdown",
   "metadata": {},
   "source": [
    "### Nested Loops"
   ]
  },
  {
   "cell_type": "markdown",
   "metadata": {},
   "source": [
    "A nested loop is a loop within a loop, an inner loop within the body of an outer one.   \n",
    "How this works is that the first pass of the outer loop triggers the inner loop, which executes to completion.   \n",
    "Then the second pass of the outer loop triggers the inner loop again.   \n",
    "This repeats until the outer loop finishes.   \n",
    "Of course, a break within either the inner or outer loop would interrupt this process."
   ]
  },
  {
   "cell_type": "markdown",
   "metadata": {},
   "source": [
    "#### Example 11-20. Nested Loop"
   ]
  },
  {
   "cell_type": "code",
   "execution_count": 41,
   "metadata": {
    "collapsed": false
   },
   "outputs": [
    {
     "name": "stdout",
     "output_type": "stream",
     "text": [
      "#!/bin/bash\r\n",
      "# nested-loop.sh: Nested \"for\" loops.\r\n",
      "\r\n",
      "# Set outer loop counter.\r\n",
      "outer=1 \r\n",
      "\r\n",
      "# Beginning of outer loop.\r\n",
      "for a in 1 2 3 4 5\r\n",
      "do\r\n",
      "    echo \"Pass $outer in outer loop.\"\r\n",
      "    echo \"---------------------\"\r\n",
      "    # Reset inner loop counter.\r\n",
      "    inner=1\r\n",
      "    # Beginning of inner loop.\r\n",
      "    for b in 1 2 3 4 5\r\n",
      "    do\r\n",
      "        echo \"Pass $inner in inner loop.\"\r\n",
      "        # Increment inner loop counter.\r\n",
      "        let \"inner+=1\" \r\n",
      "    done\r\n",
      "    # End of inner loop.\r\n",
      "    \r\n",
      "    # Increment outer loop counter.\r\n",
      "    let \"outer+=1\"\r\n",
      "    # Space between output blocks in pass of outer loop.\r\n",
      "    echo\r\n",
      "done\r\n",
      "# End of outer loop.\r\n",
      "\r\n",
      "exit 0\r\n"
     ]
    }
   ],
   "source": [
    "cat nested-loop.sh"
   ]
  },
  {
   "cell_type": "code",
   "execution_count": 42,
   "metadata": {
    "collapsed": false
   },
   "outputs": [
    {
     "name": "stdout",
     "output_type": "stream",
     "text": [
      "Pass 1 in outer loop.\r\n",
      "---------------------\r\n",
      "Pass 1 in inner loop.\r\n",
      "Pass 2 in inner loop.\r\n",
      "Pass 3 in inner loop.\r\n",
      "Pass 4 in inner loop.\r\n",
      "Pass 5 in inner loop.\r\n",
      "\r\n",
      "Pass 2 in outer loop.\r\n",
      "---------------------\r\n",
      "Pass 1 in inner loop.\r\n",
      "Pass 2 in inner loop.\r\n",
      "Pass 3 in inner loop.\r\n",
      "Pass 4 in inner loop.\r\n",
      "Pass 5 in inner loop.\r\n",
      "\r\n",
      "Pass 3 in outer loop.\r\n",
      "---------------------\r\n",
      "Pass 1 in inner loop.\r\n",
      "Pass 2 in inner loop.\r\n",
      "Pass 3 in inner loop.\r\n",
      "Pass 4 in inner loop.\r\n",
      "Pass 5 in inner loop.\r\n",
      "\r\n",
      "Pass 4 in outer loop.\r\n",
      "---------------------\r\n",
      "Pass 1 in inner loop.\r\n",
      "Pass 2 in inner loop.\r\n",
      "Pass 3 in inner loop.\r\n",
      "Pass 4 in inner loop.\r\n",
      "Pass 5 in inner loop.\r\n",
      "\r\n",
      "Pass 5 in outer loop.\r\n",
      "---------------------\r\n",
      "Pass 1 in inner loop.\r\n",
      "Pass 2 in inner loop.\r\n",
      "Pass 3 in inner loop.\r\n",
      "Pass 4 in inner loop.\r\n",
      "Pass 5 in inner loop.\r\n",
      "\r\n"
     ]
    }
   ],
   "source": [
    "./nested-loop.sh"
   ]
  },
  {
   "cell_type": "markdown",
   "metadata": {},
   "source": [
    "See Example 27-11 for an illustration of nested while loops,   \n",
    "and Example 27-13 to see a while loop nested inside an until loop."
   ]
  },
  {
   "cell_type": "markdown",
   "metadata": {},
   "source": [
    "### Loop Control"
   ]
  },
  {
   "cell_type": "markdown",
   "metadata": {},
   "source": [
    "###### Commands affecting loop behavior"
   ]
  },
  {
   "cell_type": "markdown",
   "metadata": {},
   "source": [
    "###### break \n",
    "###### continue"
   ]
  },
  {
   "cell_type": "markdown",
   "metadata": {},
   "source": [
    "The break and continue loop control commands correspond exactly to their counterparts in other programming languages. The break command terminates the loop (breaks out of it), while continue causes a jump to the next iteration of the loop, skipping all the remaining commands in that particular loop cycle."
   ]
  },
  {
   "cell_type": "markdown",
   "metadata": {},
   "source": [
    "#### Example 11-21. Effects of break and continue in a loop"
   ]
  },
  {
   "cell_type": "code",
   "execution_count": 43,
   "metadata": {
    "collapsed": false
   },
   "outputs": [
    {
     "name": "stdout",
     "output_type": "stream",
     "text": [
      "#!/bin/bash\r\n",
      "\r\n",
      "LIMIT=19   # Upper limit\r\n",
      "\r\n",
      "echo \"Printing Numbers 1 through 20 (but not 3 and 11).\"\r\n",
      "a=0\r\n",
      "while [ $a -le \"$LIMIT\" ]\r\n",
      "do\r\n",
      "\ta=$(($a+1))\r\n",
      "\tif [ \"$a\" -eq 3 ] || [ \"$a\" -eq 11 ] # Excludes 3 and 11.\r\n",
      "\tthen\r\n",
      "\t\tcontinue    # Skip rest of this particular loop iteration.\r\n",
      "\tfi\r\n",
      "\r\n",
      "\techo -n \"$a \"   # This will not execute for 3 and 11.\r\n",
      "done\r\n",
      "echo\r\n",
      "echo\r\n",
      "\r\n",
      "echo \"Printing Numbers 1 through 20, but something happens after 2.\"\r\n",
      "# Same loop, but substituting 'break' for 'continue'.\r\n",
      "a=0\r\n",
      "while [ \"$a\" -le \"$LIMIT\" ]\r\n",
      "do\r\n",
      "\ta=$(($a+1))\r\n",
      "\tif [ \"$a\" -gt 2 ]\r\n",
      "\tthen\r\n",
      "\t\tbreak       # Skip entire rest of loop.\r\n",
      "\tfi\r\n",
      "\techo -n \"$a \"\r\n",
      "done\r\n",
      "echo\r\n",
      "\r\n",
      "exit 0\r\n"
     ]
    }
   ],
   "source": [
    "cat break_and_continue.sh"
   ]
  },
  {
   "cell_type": "code",
   "execution_count": 44,
   "metadata": {
    "collapsed": false
   },
   "outputs": [
    {
     "name": "stdout",
     "output_type": "stream",
     "text": [
      "Printing Numbers 1 through 20 (but not 3 and 11).\r\n",
      "1 2 4 5 6 7 8 9 10 12 13 14 15 16 17 18 19 20 \r\n",
      "\r\n",
      "Printing Numbers 1 through 20, but something happens after 2.\r\n",
      "1 2 \r\n"
     ]
    }
   ],
   "source": [
    "./break_and_continue.sh"
   ]
  },
  {
   "cell_type": "markdown",
   "metadata": {},
   "source": [
    "The break command may optionally take a parameter.   \n",
    "A plain break terminates only the innermost loop in which it is embedded,   \n",
    "but a break N breaks out of N levels of loop."
   ]
  },
  {
   "cell_type": "markdown",
   "metadata": {},
   "source": [
    "#### Example 11-22. Breaking out of multiple loop levels"
   ]
  },
  {
   "cell_type": "code",
   "execution_count": 45,
   "metadata": {
    "collapsed": false
   },
   "outputs": [
    {
     "name": "stdout",
     "output_type": "stream",
     "text": [
      "#!/bin/bash\r\n",
      "# break-levels.sh: Breaking out of loops.\r\n",
      "\r\n",
      "# \"break N\" breaks out of N level loops.\r\n",
      "\r\n",
      "for outerloop in 1 2 3 4 5\r\n",
      "do\r\n",
      "    echo -n \"Group $outerloop: \"\r\n",
      "    # --------------------------------------------------------\r\n",
      "    for innerloop in 1 2 3 4 5\r\n",
      "    do\r\n",
      "        echo -n \"$innerloop \"\r\n",
      "        if [ \"$innerloop\" -eq 3 ]\r\n",
      "        then\r\n",
      "            break   # Try break 2 to see what happens.\r\n",
      "                    # (\"Breaks\" out of both inner and outer loops.)\r\n",
      "        fi\r\n",
      "    done\r\n",
      "    # --------------------------------------------------------\r\n",
      "    echo\r\n",
      "done\r\n",
      "\r\n",
      "echo\r\n",
      "exit 0\r\n"
     ]
    }
   ],
   "source": [
    "cat break-levels.sh"
   ]
  },
  {
   "cell_type": "code",
   "execution_count": 46,
   "metadata": {
    "collapsed": false
   },
   "outputs": [
    {
     "name": "stdout",
     "output_type": "stream",
     "text": [
      "Group 1: 1 2 3 \r\n",
      "Group 2: 1 2 3 \r\n",
      "Group 3: 1 2 3 \r\n",
      "Group 4: 1 2 3 \r\n",
      "Group 5: 1 2 3 \r\n",
      "\r\n"
     ]
    }
   ],
   "source": [
    "./break-levels.sh"
   ]
  },
  {
   "cell_type": "markdown",
   "metadata": {},
   "source": [
    "The continue command, similar to break, optionally takes a parameter.   \n",
    "A plain continue cuts short the current iteration within its loop and begins the next.   \n",
    "A continue N terminates all remaining iterations at its loop level and continues with the next iteration at the loop, N levels above."
   ]
  },
  {
   "cell_type": "markdown",
   "metadata": {},
   "source": [
    "#### Example 11-23. Continuing at a higher loop level"
   ]
  },
  {
   "cell_type": "code",
   "execution_count": 48,
   "metadata": {
    "collapsed": false
   },
   "outputs": [
    {
     "name": "stdout",
     "output_type": "stream",
     "text": [
      "#!/bin/bash\r\n",
      "# The \"continue N\" command, continuing at the Nth level loop.\r\n",
      "\r\n",
      "for outer in I II III IV V            # outer loop\r\n",
      "do\r\n",
      "    echo; echo -n \"Group $outer: \"\r\n",
      "    # --------------------------------------------------------------------\r\n",
      "    for inner in 1 2 3 4 5 6 7 8 9 10 # inner loop\r\n",
      "    do\r\n",
      "        if [[ \"$inner\" -eq 7 && \"$outer\" = \"III\" ]]\r\n",
      "        then\r\n",
      "            continue 2    # Continue at loop on 2nd level, that is \"outer loop\".\r\n",
      "        \t              # Replace above line with a simple \"continue\"\r\n",
      "        \t              # to see normal loop behavior.\r\n",
      "        fi\r\n",
      "        echo -n \"$inner \" # 7 8 9 10 will not echo on \"Group III.\"\r\n",
      "    done\r\n",
      "    # --------------------------------------------------------------------\r\n",
      "done\r\n",
      "echo\r\n",
      "\r\n",
      "exit 0\r\n"
     ]
    }
   ],
   "source": [
    "cat continue-levels.sh"
   ]
  },
  {
   "cell_type": "code",
   "execution_count": 49,
   "metadata": {
    "collapsed": false
   },
   "outputs": [
    {
     "name": "stdout",
     "output_type": "stream",
     "text": [
      "\r\n",
      "Group I: 1 2 3 4 5 6 7 8 9 10 \r\n",
      "Group II: 1 2 3 4 5 6 7 8 9 10 \r\n",
      "Group III: 1 2 3 4 5 6 \r\n",
      "Group IV: 1 2 3 4 5 6 7 8 9 10 \r\n",
      "Group V: 1 2 3 4 5 6 7 8 9 10 \r\n"
     ]
    }
   ],
   "source": [
    "./continue-levels.sh"
   ]
  },
  {
   "cell_type": "markdown",
   "metadata": {},
   "source": [
    "#### Example 11-24. Using continue N in an actual task"
   ]
  },
  {
   "cell_type": "code",
   "execution_count": null,
   "metadata": {
    "collapsed": true
   },
   "outputs": [],
   "source": [
    "# Albert Reiner gives an example of how to use \"continue N\":\n",
    "# ---------------------------------------------------------\n",
    "# Suppose I have a large number of jobs that need to be run, with\n",
    "#+ any data that is to be treated in files of a given name pattern\n",
    "#+ in a directory. There are several machines that access\n",
    "#+ this directory, and I want to distribute the work over these\n",
    "#+ different boxen.\n",
    "# Then I usually nohup something like the following on every box:\n",
    "\n",
    "while true\n",
    "do\n",
    "    for n in .iso.*\n",
    "    do\n",
    "        [ \"$n\" = \".iso.opts\" ] && continue\n",
    "        beta=${n#.iso.}\n",
    "        [ -r .Iso.$beta ] && continue\n",
    "        [ -r .lock.$beta ] && sleep 10 && continue\n",
    "        lockfile -r0 .lock.$beta || continue\n",
    "        echo -n \"$beta: \" `date`\n",
    "        run-isotherm $beta\n",
    "        date\n",
    "        ls -alF .Iso.$beta\n",
    "        [ -r .Iso.$beta ] && rm -f .lock.$beta\n",
    "        continue 2\n",
    "    done\n",
    "    break\n",
    "done\n",
    "\n",
    "exit 0"
   ]
  },
  {
   "cell_type": "code",
   "execution_count": null,
   "metadata": {
    "collapsed": true
   },
   "outputs": [],
   "source": [
    "#  The details, in particular the sleep N, are particular to my\n",
    "#+ application, but the general pattern is:\n",
    "\n",
    "while true\n",
    "do\n",
    "    for job in {pattern}\n",
    "    do\n",
    "        {job already done or running} && continue\n",
    "        {mark job as running, do job, mark job as done}\n",
    "        continue 2\n",
    "    done\n",
    "    break  # Or something like `sleep 600' to avoid termination.\n",
    "done\n",
    "\n",
    "#  This way the script will stop only when there are no more jobs to do\n",
    "#+ (including jobs that were added during runtime). Through the use\n",
    "#+ of appropriate lockfiles it can be run on several machines\n",
    "#+ concurrently without duplication of calculations [which run a couple\n",
    "#+ of hours in my case, so I really want to avoid this]. Also, as search\n",
    "#+ always starts again from the beginning, one can encode priorities in\n",
    "#+ the file names. Of course, one could also do this without `continue 2',\n",
    "#+ but then one would have to actually check whether or not some job\n",
    "#+ was done (so that we should immediately look for the next job) or not\n",
    "#+ (in which case we terminate or sleep for a long time before checking\n",
    "#+ for a new job)."
   ]
  },
  {
   "cell_type": "markdown",
   "metadata": {},
   "source": [
    "The continue N construct is difficult to understand and tricky to use in any meaningful context.   \n",
    "It is probably best avoided."
   ]
  },
  {
   "cell_type": "markdown",
   "metadata": {},
   "source": [
    "### Testing and Branching"
   ]
  },
  {
   "cell_type": "markdown",
   "metadata": {},
   "source": [
    "The \"case\" and \"select\" constructs are technically not loops,since they do not iterate the execution of a code block.   \n",
    "Like loops, however, they direct program flow according to conditions at the top or bottom of the block."
   ]
  },
  {
   "cell_type": "markdown",
   "metadata": {},
   "source": [
    "#### Controlling program flow in a code block"
   ]
  },
  {
   "cell_type": "markdown",
   "metadata": {},
   "source": [
    "##### case (in) / esac"
   ]
  },
  {
   "cell_type": "markdown",
   "metadata": {},
   "source": [
    "The \"case\" construct is the shell scripting analog to switch in C/C++.  \n",
    "It permits branching to one of a number of code blocks,depending on condition tests.   \n",
    "It serves as a kind of shorthand for multiple if/then/else statements and is an appropriate tool for creating menus."
   ]
  },
  {
   "cell_type": "code",
   "execution_count": null,
   "metadata": {
    "collapsed": true
   },
   "outputs": [],
   "source": [
    "case \"$variable\" in\n",
    "    \"$condition1\" )\n",
    "    command...\n",
    "    ;;\n",
    "    \"$condition2\" )\n",
    "    command...\n",
    "    ;;\n",
    "esac\n",
    "\n",
    "# Quoting the variables is not mandatory, since word splitting does not take place.\n",
    "# Each test line ends with a right paren ).\n",
    "# Each condition block ends with a double semicolon ;;.\n",
    "# If a condition tests true, then the associated commands execute and the case block terminates.\n",
    "# The entire case block ends with an esac (case spelled backwards)."
   ]
  },
  {
   "cell_type": "markdown",
   "metadata": {},
   "source": [
    "#### Example 11-25. Using case"
   ]
  },
  {
   "cell_type": "code",
   "execution_count": 51,
   "metadata": {
    "collapsed": false
   },
   "outputs": [
    {
     "name": "stdout",
     "output_type": "stream",
     "text": [
      "#!/bin/bash\r\n",
      "# Testing ranges of characters.\r\n",
      "\r\n",
      "echo; echo \"Hit a key, then hit return.\"\r\n",
      "read Keypress\r\n",
      "\r\n",
      "case \"$Keypress\" in\r\n",
      "    [[:lower:]]      ) echo \"Lowercase letter\";;\r\n",
      "    [[:upper:]]      ) echo \"Uppercase letter\";;\r\n",
      "    [0-9]            ) echo \"Digit\";;\r\n",
      "    *                ) echo \"Punctuation, whitespace, or other\";;\r\n",
      "esac    #  Allows ranges of characters in [square brackets],\r\n",
      "        #+ or POSIX ranges in [[double square brackets.\r\n",
      "\r\n",
      "#  In the first version of this example,\r\n",
      "#+ the tests for lowercase and uppercase characters were\r\n",
      "#+ [a-z] and [A-Z].\r\n",
      "#  This no longer works in certain locales and/or Linux distros.\r\n",
      "#  POSIX is more portable.\r\n",
      "#  Thanks to Frank Wang for pointing this out.\r\n",
      "\r\n",
      "#  Exercise:\r\n",
      "#  --------\r\n",
      "#  As the script stands, it accepts a single keystroke, then terminates.\r\n",
      "#  Change the script so it accepts repeated input,\r\n",
      "#+ reports on each keystroke, and terminates only when \"X\" is hit.\r\n",
      "#  Hint: enclose everything in a \"while\" loop.\r\n",
      "\r\n",
      "exit 0\r\n"
     ]
    }
   ],
   "source": [
    "cat case-usage.sh"
   ]
  },
  {
   "cell_type": "raw",
   "metadata": {},
   "source": [
    "Running Instance:\n",
    "\n",
    "liheyi@analysis:~/jupyter/bash/basics$ bash case-usage.sh \n",
    "\n",
    "Hit a key, then hit return.\n",
    "A\n",
    "Uppercase letter\n",
    "liheyi@analysis:~/jupyter/bash/basics$ bash case-usage.sh \n",
    "\n",
    "Hit a key, then hit return.\n",
    "a\n",
    "Lowercase letter\n",
    "liheyi@analysis:~/jupyter/bash/basics$ bash case-usage.sh \n",
    "\n",
    "Hit a key, then hit return.\n",
    "9\n",
    "Digit\n",
    "liheyi@analysis:~/jupyter/bash/basics$ bash case-usage.sh \n",
    "\n",
    "Hit a key, then hit return.\n",
    "*\n",
    "Punctuation, whitespace, or other"
   ]
  },
  {
   "cell_type": "markdown",
   "metadata": {},
   "source": [
    "#### Example 11-26. Creating menus using case"
   ]
  },
  {
   "cell_type": "code",
   "execution_count": 52,
   "metadata": {
    "collapsed": false
   },
   "outputs": [
    {
     "name": "stdout",
     "output_type": "stream",
     "text": [
      "#!/bin/bash\r\n",
      "# Crude address database\r\n",
      "\r\n",
      "# Clear the screen.\r\n",
      "clear\r\n",
      "\r\n",
      "echo \"            Contact List\"\r\n",
      "echo \"            ------- ----\"\r\n",
      "echo \"Choose one of the following persons:\"\r\n",
      "echo\r\n",
      "echo \"[E]vans, Roland\"\r\n",
      "echo \"[J]ones, Mildred\"\r\n",
      "echo \"[S]mith, Julie\"\r\n",
      "echo \"[Z]ane, Morris\"\r\n",
      "echo\r\n",
      "\r\n",
      "read person\r\n",
      "\r\n",
      "# Note variable is quoted.\r\n",
      "case \"$person\" in\r\n",
      "    \"E\" | \"e\" )\r\n",
      "    # Accept upper or lowercase input.\r\n",
      "    echo\r\n",
      "    echo \"Roland Evans\"\r\n",
      "    echo \"4321 Flash Dr.\"\r\n",
      "    echo \"Hardscrabble, CO 80753\"\r\n",
      "    echo \"(303) 734-9874\"\r\n",
      "    echo \"(303) 734-9892 fax\"\r\n",
      "    echo \"revans@zzy.net\"\r\n",
      "    echo \"Business partner & old friend\"\r\n",
      "    ;;\r\n",
      "    # Note double semicolon to terminate each option.\r\n",
      "    \r\n",
      "    \"J\" | \"j\" )\r\n",
      "    echo\r\n",
      "    echo \"Mildred Jones\"\r\n",
      "    echo \"249 E. 7th St., Apt. 19\"\r\n",
      "    echo \"New York, NY 10009\"\r\n",
      "    echo \"(212) 533-2814\"\r\n",
      "    echo \"(212) 533-9972 fax\"\r\n",
      "    echo \"milliej@loisaida.com\"\r\n",
      "    echo \"Ex-girlfriend\"\r\n",
      "    echo \"Birthday: Feb. 11\"\r\n",
      "    ;;\r\n",
      "    \r\n",
      "\t# Add info for Smith & Zane later.\r\n",
      "    * )\r\n",
      "    # Default option.\r\n",
      "    # Empty input (hitting RETURN) fits here, too.\r\n",
      "    echo\r\n",
      "    echo \"Not yet in database.\"\r\n",
      "    ;;\r\n",
      "\r\n",
      "esac\r\n",
      "echo\r\n",
      "# Exercise:\r\n",
      "# --------\r\n",
      "# Change the script so it accepts multiple inputs,\r\n",
      "#+ instead of terminating after displaying just one address.\r\n",
      "exit 0\r\n"
     ]
    }
   ],
   "source": [
    "cat menus.sh"
   ]
  },
  {
   "cell_type": "raw",
   "metadata": {},
   "source": [
    "Running Instance:\n",
    "\n",
    "liheyi@analysis:~/jupyter/bash/basics$ bash menus.sh\n",
    "            Contact List\n",
    "            ------- ----\n",
    "Choose one of the following persons:\n",
    "\n",
    "[E]vans, Roland\n",
    "[J]ones, Mildred\n",
    "[S]mith, Julie\n",
    "[Z]ane, Morris\n",
    "\n",
    "E\n",
    "\n",
    "Roland Evans\n",
    "4321 Flash Dr.\n",
    "Hardscrabble, CO 80753\n",
    "(303) 734-9874\n",
    "(303) 734-9892 fax\n",
    "revans@zzy.net\n",
    "Business partner & old friend\n",
    "\n",
    "liheyi@analysis:~/jupyter/bash/basics$"
   ]
  },
  {
   "cell_type": "markdown",
   "metadata": {},
   "source": [
    "An exceptionally clever use of case involves testing for command-line parameters."
   ]
  },
  {
   "cell_type": "code",
   "execution_count": null,
   "metadata": {
    "collapsed": true
   },
   "outputs": [],
   "source": [
    "case \"$1\" in\n",
    "    \"\") echo \"Usage: ${0##*/} <filename>\"; exit $E_PARAM;;\n",
    "                        # No command-line parameters,\n",
    "                        # or first parameter empty.\n",
    "    # Note that ${0##*/} is ${var##pattern} param substitution.\n",
    "                        # Net result is $0.\n",
    "\n",
    "    -*) FILENAME=./$1;; #  If filename passed as argument ($1)\n",
    "                        #+ starts with a dash,\n",
    "                        #+ replace it with ./$1\n",
    "                        #+ so further commands don't interpret it\n",
    "                        #+ as an option.\n",
    "\n",
    "    * ) FILENAME=$1;;   # Otherwise, $1.\n",
    "esac"
   ]
  },
  {
   "cell_type": "markdown",
   "metadata": {},
   "source": [
    "Here is a more straightforward example of command-line parameter handling:"
   ]
  },
  {
   "cell_type": "code",
   "execution_count": null,
   "metadata": {
    "collapsed": true
   },
   "outputs": [],
   "source": [
    "while [ $# -gt 0 ]; do    # Until you run out of parameters . . .\n",
    "    case \"$1\" in\n",
    "    -d|--debug)\n",
    "            # \"-d\" or \"--debug\" parameter?\n",
    "            DEBUG=1\n",
    "            ;;\n",
    "    -c|--conf)\n",
    "            CONFFILE=\"$2\"\n",
    "            shift\n",
    "            if [ ! -f $CONFFILE ]; then\n",
    "                echo \"Error: Supplied file doesn't exist!\"\n",
    "                exit $E_CONFFILE    # File not found error.\n",
    "            fi\n",
    "            ;;\n",
    "esac\n",
    "shift    # Check next set of parameters.\n",
    "done\n",
    "\n",
    "#  From Stefano Falsetto's \"Log2Rot\" script,\n",
    "#+ part of his \"rottlog\" package.\n",
    "# Used with permission."
   ]
  },
  {
   "cell_type": "markdown",
   "metadata": {},
   "source": [
    "#### Example 11-27. Using command substitution to generate the case variable"
   ]
  },
  {
   "cell_type": "code",
   "execution_count": 53,
   "metadata": {
    "collapsed": false
   },
   "outputs": [
    {
     "name": "stdout",
     "output_type": "stream",
     "text": [
      "#!/bin/bash\r\n",
      "# case-cmd.sh: Using command substitution to generate a \"case\" variable.\r\n",
      "\r\n",
      "case $( arch ) in    # $( arch ) returns machine architecture.\r\n",
      "\t                 # Equivalent to 'uname -m' ...\r\n",
      "    i386   ) echo \"80386-based machine\";;\r\n",
      "    i486   ) echo \"80486-based machine\";;\r\n",
      "    i586   ) echo \"Pentium-based machine\";;\r\n",
      "    i686   ) echo \"Pentium2+-based machine\";;\r\n",
      "    x86_64 ) echo \"Pentium4+-based machine\";;\r\n",
      "    *      ) echo \"Other type of machine\";;\r\n",
      "esac\r\n",
      "\r\n",
      "exit 0\r\n"
     ]
    }
   ],
   "source": [
    "cat case-cmd.sh"
   ]
  },
  {
   "cell_type": "code",
   "execution_count": 54,
   "metadata": {
    "collapsed": false
   },
   "outputs": [
    {
     "name": "stdout",
     "output_type": "stream",
     "text": [
      "Pentium4+-based machine\r\n"
     ]
    }
   ],
   "source": [
    "./case-cmd.sh"
   ]
  },
  {
   "cell_type": "markdown",
   "metadata": {},
   "source": [
    "A case construct can filter strings for globbing patterns."
   ]
  },
  {
   "cell_type": "markdown",
   "metadata": {},
   "source": [
    "#### Example 11-28. Simple string matching"
   ]
  },
  {
   "cell_type": "code",
   "execution_count": 55,
   "metadata": {
    "collapsed": false
   },
   "outputs": [
    {
     "name": "stdout",
     "output_type": "stream",
     "text": [
      "#!/bin/bash\r\n",
      "# match-string.sh: Simple string matching\r\n",
      "#                  using a 'case' construct.\r\n",
      "\r\n",
      "match_string ()\r\n",
      "{   # Exact string match.\r\n",
      "    MATCH=0\r\n",
      "    E_NOMATCH=90\r\n",
      "    PARAMS=2       # Function requires 2 arguments.\r\n",
      "    E_BAD_PARAMS=91\r\n",
      "\r\n",
      "    [ $# -eq $PARAMS ] || return $E_BAD_PARAMS\r\n",
      "    case \"$1\" in\r\n",
      "        \"$2\") return $MATCH;;\r\n",
      "        *   ) return $E_NOMATCH;;\r\n",
      "esac\r\n",
      "}\r\n",
      "\r\n",
      "a=one\r\n",
      "b=two\r\n",
      "c=three\r\n",
      "d=two\r\n",
      "\r\n",
      "match_string $a    # wrong number of parameters\r\n",
      "echo $?            # 91\r\n",
      "match_string $a $b # no match\r\n",
      "echo $?            # 90\r\n",
      "match_string $b $d # match\r\n",
      "echo $?            # 0\r\n",
      "\r\n",
      "exit 0\r\n"
     ]
    }
   ],
   "source": [
    "cat match-string.sh"
   ]
  },
  {
   "cell_type": "code",
   "execution_count": 56,
   "metadata": {
    "collapsed": false
   },
   "outputs": [
    {
     "name": "stdout",
     "output_type": "stream",
     "text": [
      "91\r\n",
      "90\r\n",
      "0\r\n"
     ]
    }
   ],
   "source": [
    "./match-string.sh"
   ]
  },
  {
   "cell_type": "markdown",
   "metadata": {},
   "source": [
    "#### Example 11-29. Checking for alphabetic input"
   ]
  },
  {
   "cell_type": "code",
   "execution_count": 57,
   "metadata": {
    "collapsed": false
   },
   "outputs": [
    {
     "name": "stdout",
     "output_type": "stream",
     "text": [
      "#!/bin/bash\r\n",
      "# isalpha.sh: Using a \"case\" structure to filter a string.\r\n",
      "\r\n",
      "SUCCESS=0\r\n",
      "FAILURE=1   # Was FAILURE=-1,\r\n",
      "            #+ but Bash no longer allows negative return value.\r\n",
      "\r\n",
      "isalpha ()  # Tests whether *first character* of input string is alphabetic.\r\n",
      "{\r\n",
      "    if [ -z \"$1\" ] # No argument passed?\r\n",
      "    then\r\n",
      "        return $FAILURE\r\n",
      "    fi\r\n",
      "    \r\n",
      "    case \"$1\" in\r\n",
      "        [a-zA-Z]*) return $SUCCESS;;     # Begins with a letter?\r\n",
      "        *        ) return $FAILURE;;\r\n",
      "    esac\r\n",
      "}                 # Compare this with \"isalpha ()\" function in C.\r\n",
      "\r\n",
      "isalpha2 ()       # Tests whether *entire string* is alphabetic.\r\n",
      "{\r\n",
      "    [ $# -eq 1 ] || return $FAILURE\r\n",
      "    case $1 in\r\n",
      "        *[!a-zA-Z]*|\"\") return $FAILURE;;\r\n",
      "        *             ) return $SUCCESS;;\r\n",
      "    esac\r\n",
      "}\r\n",
      "\r\n",
      "isdigit ()        # Tests whether *entire string* is numerical.\r\n",
      "{                 # In other words, tests for integer variable.\r\n",
      "    [ $# -eq 1 ] || return $FAILURE\r\n",
      "    case $1 in\r\n",
      "        *[!0-9]*|\"\") return $FAILURE;;\r\n",
      "        *          ) return $SUCCESS;;\r\n",
      "    esac\r\n",
      "}\r\n",
      "\r\n",
      "check_var ()      # Front-end to isalpha ().\r\n",
      "{\r\n",
      "    if isalpha \"$@\"\r\n",
      "    then\r\n",
      "        echo \"\\\"$*\\\" begins with an alpha character.\"\r\n",
      "        if isalpha2 \"$@\"\r\n",
      "        then      # No point in testing if first char is non-alpha.\r\n",
      "            echo \"\\\"$*\\\" contains only alpha characters.\"\r\n",
      "        else\r\n",
      "            echo \"\\\"$*\\\" contains at least one non-alpha character.\"\r\n",
      "        fi\r\n",
      "    else\r\n",
      "        echo \"\\\"$*\\\" begins with a non-alpha character.\"\r\n",
      "                     # Also \"non-alpha\" if no argument passed.\r\n",
      "    fi\r\n",
      "    echo\r\n",
      "    \r\n",
      "}\r\n",
      "\r\n",
      "digit_check ()    # Front-end to isdigit ().\r\n",
      "{\r\n",
      "    if isdigit \"$@\"\r\n",
      "    then\r\n",
      "        echo \"\\\"$*\\\" contains only digits [0 - 9].\"\r\n",
      "    else\r\n",
      "        echo \"\\\"$*\\\" has at least one non-digit character.\"\r\n",
      "    fi\r\n",
      "    echo\r\n",
      "}\r\n",
      "\r\n",
      "a=23skidoo\r\n",
      "b=H3llo\r\n",
      "c=-What?\r\n",
      "d=What?\r\n",
      "e=$(echo $b)      # Command substitution.\r\n",
      "f=AbcDef\r\n",
      "g=27234\r\n",
      "h=27a34\r\n",
      "i=27.34\r\n",
      "\r\n",
      "check_var $a\r\n",
      "check_var $b\r\n",
      "check_var $c\r\n",
      "check_var $d\r\n",
      "check_var $e\r\n",
      "check_var $f\r\n",
      "check_var         # No argument passed, so what happens?\r\n",
      "\r\n",
      "digit_check $g\r\n",
      "digit_check $h\r\n",
      "digit_check $i\r\n",
      "\r\n",
      "exit 0\r\n"
     ]
    }
   ],
   "source": [
    "cat isalpha.sh"
   ]
  },
  {
   "cell_type": "code",
   "execution_count": 59,
   "metadata": {
    "collapsed": false
   },
   "outputs": [
    {
     "name": "stdout",
     "output_type": "stream",
     "text": [
      "\"23skidoo\" begins with a non-alpha character.\r\n",
      "\r\n",
      "\"H3llo\" begins with an alpha character.\r\n",
      "\"H3llo\" contains at least one non-alpha character.\r\n",
      "\r\n",
      "\"-What?\" begins with a non-alpha character.\r\n",
      "\r\n",
      "\"What?\" begins with an alpha character.\r\n",
      "\"What?\" contains at least one non-alpha character.\r\n",
      "\r\n",
      "\"H3llo\" begins with an alpha character.\r\n",
      "\"H3llo\" contains at least one non-alpha character.\r\n",
      "\r\n",
      "\"AbcDef\" begins with an alpha character.\r\n",
      "\"AbcDef\" contains only alpha characters.\r\n",
      "\r\n",
      "\"\" begins with a non-alpha character.\r\n",
      "\r\n",
      "\"27234\" contains only digits [0 - 9].\r\n",
      "\r\n",
      "\"27a34\" has at least one non-digit character.\r\n",
      "\r\n",
      "\"27.34\" has at least one non-digit character.\r\n",
      "\r\n"
     ]
    }
   ],
   "source": [
    "./isalpha.sh"
   ]
  },
  {
   "cell_type": "markdown",
   "metadata": {},
   "source": [
    "##### select"
   ]
  },
  {
   "cell_type": "markdown",
   "metadata": {},
   "source": [
    "The select construct, adopted from the Korn Shell, is yet another tool for building menus."
   ]
  },
  {
   "cell_type": "code",
   "execution_count": null,
   "metadata": {
    "collapsed": true
   },
   "outputs": [],
   "source": [
    "select variable [in list]\n",
    "do\n",
    "    command...\n",
    "    break\n",
    "done"
   ]
  },
  {
   "cell_type": "markdown",
   "metadata": {},
   "source": [
    "This prompts the user to enter one of the choices presented in the variable list.   \n",
    "Note that select uses the \\$PS3 prompt (#? ) by default, but this may be changed."
   ]
  },
  {
   "cell_type": "markdown",
   "metadata": {},
   "source": [
    "#### Example 11-30. Creating menus using select"
   ]
  },
  {
   "cell_type": "code",
   "execution_count": 60,
   "metadata": {
    "collapsed": false
   },
   "outputs": [
    {
     "name": "stdout",
     "output_type": "stream",
     "text": [
      "#!/bin/bash\r\n",
      "\r\n",
      "PS3='Choose your favorite vegetable: '  # Sets the prompt string.\r\n",
      "                                        # Otherwise it defaults to #? .\r\n",
      "echo\r\n",
      "\r\n",
      "select vegetable in \"beans\" \"carrots\" \"potatoes\" \"onions\" \"rutabagas\"\r\n",
      "do\r\n",
      "    echo\r\n",
      "    echo \"Your favorite veggie is $vegetable.\"\r\n",
      "    echo \"Yuck!\"\r\n",
      "    echo\r\n",
      "    break                   # What happens if there is no 'break' here?\r\n",
      "done\r\n",
      "\r\n",
      "exit 0\r\n"
     ]
    }
   ],
   "source": [
    "cat select.sh"
   ]
  },
  {
   "cell_type": "raw",
   "metadata": {},
   "source": [
    "Running Instance:\n",
    "\n",
    "liheyi@analysis:~/jupyter/bash/basics$ bash select.sh \n",
    "\n",
    "1) beans\n",
    "2) carrots\n",
    "3) potatoes\n",
    "4) onions\n",
    "5) rutabagas\n",
    "Choose your favorite vegetable: 3\n",
    "\n",
    "Your favorite veggie is potatoes.\n",
    "Yuck!\n",
    "\n",
    "liheyi@analysis:~/jupyter/bash/basics$ bash select.sh \n",
    "\n",
    "1) beans\n",
    "2) carrots\n",
    "3) potatoes\n",
    "4) onions\n",
    "5) rutabagas\n",
    "Choose your favorite vegetable: 5\n",
    "\n",
    "Your favorite veggie is rutabagas.\n",
    "Yuck!\n",
    "\n",
    "liheyi@analysis:~/jupyter/bash/basics$"
   ]
  },
  {
   "cell_type": "markdown",
   "metadata": {},
   "source": [
    "If in list is omitted, then select uses the list of command line arguments (\\$@) passed to the script or the function containing the select construct."
   ]
  },
  {
   "cell_type": "markdown",
   "metadata": {},
   "source": [
    "#### Example 11-31. Creating menus using select in a function"
   ]
  },
  {
   "cell_type": "code",
   "execution_count": 1,
   "metadata": {
    "collapsed": false
   },
   "outputs": [
    {
     "name": "stdout",
     "output_type": "stream",
     "text": [
      "#!/bin/bash\r\n",
      "\r\n",
      "PS3='Choose your favorite vegetable: '\r\n",
      "\r\n",
      "echo\r\n",
      "\r\n",
      "choice_of()\r\n",
      "{\r\n",
      "    # [in list] omitted, so 'select' uses arguments passed to function.\r\n",
      "    select vegetable\r\n",
      "    do\r\n",
      "        echo\r\n",
      "        echo \"Your favorite veggie is $vegetable.\"\r\n",
      "        echo \"Yuck!\"\r\n",
      "        echo\r\n",
      "        break\r\n",
      "    done\r\n",
      "}\r\n",
      "choice_of beans rice carrots radishes rutabaga spinach\r\n",
      "#         $1    $2   $3      $4       $5        $6\r\n",
      "#         passed to choice_of() function\r\n",
      "\r\n",
      "exit 0\r\n"
     ]
    }
   ],
   "source": [
    "cat select.sh"
   ]
  },
  {
   "cell_type": "raw",
   "metadata": {
    "collapsed": true
   },
   "source": [
    "Running Instance:\n",
    "\n",
    "liheyi@analysis:~/jupyter/bash/basics$ bash select.sh \n",
    "\n",
    "1) beans\n",
    "2) rice\n",
    "3) carrots\n",
    "4) radishes\n",
    "5) rutabaga\n",
    "6) spinach\n",
    "Choose your favorite vegetable: 2\n",
    "\n",
    "Your favorite veggie is rice.\n",
    "Yuck!\n",
    "\n",
    "liheyi@analysis:~/jupyter/bash/basics$ bash select.sh \n",
    "\n",
    "1) beans\n",
    "2) rice\n",
    "3) carrots\n",
    "4) radishes\n",
    "5) rutabaga\n",
    "6) spinach\n",
    "Choose your favorite vegetable: 4\n",
    "\n",
    "Your favorite veggie is radishes.\n",
    "Yuck!\n",
    "\n",
    "liheyi@analysis:~/jupyter/bash/basics$ "
   ]
  }
 ],
 "metadata": {
  "kernelspec": {
   "display_name": "Bash",
   "language": "bash",
   "name": "bash"
  },
  "language_info": {
   "codemirror_mode": "shell",
   "file_extension": ".sh",
   "mimetype": "text/x-sh",
   "name": "bash"
  }
 },
 "nbformat": 4,
 "nbformat_minor": 0
}
