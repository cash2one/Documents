{
 "cells": [
  {
   "cell_type": "markdown",
   "metadata": {},
   "source": [
    "## 4.Introduction to Variables and Parameters"
   ]
  },
  {
   "cell_type": "markdown",
   "metadata": {},
   "source": [
    "Variables are how programming and scripting languages represent data. A variable is nothing more than a\n",
    "label, a name assigned to a location or set of locations in computer memory holding an item of data.\n",
    "Variables appear in arithmetic operations and manipulation of quantities, and in string parsing."
   ]
  },
  {
   "cell_type": "markdown",
   "metadata": {},
   "source": [
    "### Variable Substitution\n",
    "The name of a variable is a placeholder for its value, the data it holds.   \n",
    "Referencing (retrieving) its value is called variable substitution.  \n",
    "#### $"
   ]
  },
  {
   "cell_type": "markdown",
   "metadata": {},
   "source": [
    "Let us carefully distinguish between the name of a variable and its value.   \n",
    "If variable1 is the name of a variable, then $variable1 is a reference to its value, the data item it contains."
   ]
  },
  {
   "cell_type": "code",
   "execution_count": 1,
   "metadata": {
    "collapsed": false
   },
   "outputs": [
    {
     "name": "stdout",
     "output_type": "stream",
     "text": []
    }
   ],
   "source": [
    "variable1=123"
   ]
  },
  {
   "cell_type": "code",
   "execution_count": 2,
   "metadata": {
    "collapsed": false
   },
   "outputs": [
    {
     "name": "stdout",
     "output_type": "stream",
     "text": [
      "variable1\r\n"
     ]
    }
   ],
   "source": [
    "echo variable1"
   ]
  },
  {
   "cell_type": "code",
   "execution_count": 4,
   "metadata": {
    "collapsed": false
   },
   "outputs": [
    {
     "name": "stdout",
     "output_type": "stream",
     "text": [
      "123\r\n"
     ]
    }
   ],
   "source": [
    "echo $variable1"
   ]
  },
  {
   "cell_type": "markdown",
   "metadata": {},
   "source": [
    "The only times a variable appears \"naked\" -- without the $ prefix -- is when declared or assigned,when unset, when exported, in an arithmetic expression within double parentheses (( ... )), or in the special case of a variable representing a signal. Assignment may be with an = (as in var1=27), in a read statement, and at the head of a loop (for var2 in 1 2 3)."
   ]
  },
  {
   "cell_type": "markdown",
   "metadata": {},
   "source": [
    "Enclosing a referenced value in double quotes (\" ... \") does not interfere with variable substitution. This is called partial quoting, sometimes referred to as \"weak quoting.\" Using single quotes (' ... ') causes the variable name to be used literally, and no substitution will take place. This is full quoting, sometimes referred to as 'strong quoting.' See Chapter 5 for a detailed discussion."
   ]
  },
  {
   "cell_type": "markdown",
   "metadata": {},
   "source": [
    "Note that \\$variable is actually a simplified form of ${variable}.   \n",
    "In contexts where the \\$variable syntax causes an error, the longer form may work"
   ]
  },
  {
   "cell_type": "markdown",
   "metadata": {},
   "source": [
    "#### Example 4-1. Variable assignment and substitution"
   ]
  },
  {
   "cell_type": "code",
   "execution_count": 5,
   "metadata": {
    "collapsed": false
   },
   "outputs": [
    {
     "name": "stdout",
     "output_type": "stream",
     "text": []
    }
   ],
   "source": [
    "#  Variable assignment and substitution\n",
    "\n",
    "a=1234\n",
    "hello=$a\n",
    "#-------------------------------------------------------------------------\n",
    "# No space permitted on either side of = sign when initializing variables.\n",
    "# What happens if there is a space?\n",
    "# \"VARIABLE =value\"\n",
    "# ^\n",
    "#% Script tries to run \"VARIABLE\" command with one argument, \"=value\".\n",
    "# \"VARIABLE= value\"\n",
    "# ^\n",
    "#% Script tries to run \"value\" command with\n",
    "#+ the environmental variable \"VARIABLE\" set to \"\".\n",
    "#-------------------------------------------------------------------------"
   ]
  },
  {
   "cell_type": "code",
   "execution_count": 6,
   "metadata": {
    "collapsed": false
   },
   "outputs": [
    {
     "name": "stdout",
     "output_type": "stream",
     "text": [
      "hello\r\n"
     ]
    }
   ],
   "source": [
    "# Not a variable reference, just the string \"hello\" ...\n",
    "echo hello"
   ]
  },
  {
   "cell_type": "code",
   "execution_count": 7,
   "metadata": {
    "collapsed": false
   },
   "outputs": [
    {
     "name": "stdout",
     "output_type": "stream",
     "text": [
      "1234\r\n"
     ]
    }
   ],
   "source": [
    "# This *is* a variable reference.\n",
    "echo $hello"
   ]
  },
  {
   "cell_type": "code",
   "execution_count": 8,
   "metadata": {
    "collapsed": false
   },
   "outputs": [
    {
     "name": "stdout",
     "output_type": "stream",
     "text": [
      "1234\r\n"
     ]
    }
   ],
   "source": [
    "# Likewise a variable reference, as above.\n",
    "echo ${hello}"
   ]
  },
  {
   "cell_type": "code",
   "execution_count": 9,
   "metadata": {
    "collapsed": false
   },
   "outputs": [
    {
     "name": "stdout",
     "output_type": "stream",
     "text": [
      "1234\r\n"
     ]
    }
   ],
   "source": [
    "#  Quoting . . .\n",
    "\n",
    "echo \"$hello\""
   ]
  },
  {
   "cell_type": "code",
   "execution_count": 10,
   "metadata": {
    "collapsed": false
   },
   "outputs": [
    {
     "name": "stdout",
     "output_type": "stream",
     "text": [
      "1234\r\n"
     ]
    }
   ],
   "source": [
    "echo \"${hello}\""
   ]
  },
  {
   "cell_type": "code",
   "execution_count": 14,
   "metadata": {
    "collapsed": false
   },
   "outputs": [
    {
     "name": "stdout",
     "output_type": "stream",
     "text": [
      "A B C D\r\n"
     ]
    }
   ],
   "source": [
    "# As we see, echo $hello and echo \"$hello\" give different results.\n",
    "# Quoting a variable preserves whitespace.\n",
    "hello=\"A B  C    D\"\n",
    "echo $hello"
   ]
  },
  {
   "cell_type": "code",
   "execution_count": 15,
   "metadata": {
    "collapsed": false
   },
   "outputs": [
    {
     "name": "stdout",
     "output_type": "stream",
     "text": [
      "A B  C    D\r\n"
     ]
    }
   ],
   "source": [
    "echo \"$hello\""
   ]
  },
  {
   "cell_type": "code",
   "execution_count": 16,
   "metadata": {
    "collapsed": false
   },
   "outputs": [
    {
     "name": "stdout",
     "output_type": "stream",
     "text": [
      "$hello\r\n"
     ]
    }
   ],
   "source": [
    "# Variable referencing disabled (escaped) by single quotes,\n",
    "# which causes the \"$\" to be interpreted literally.\n",
    "# Notice the effect of different types of quoting.\n",
    "echo '$hello'"
   ]
  },
  {
   "cell_type": "code",
   "execution_count": 17,
   "metadata": {
    "collapsed": false
   },
   "outputs": [
    {
     "name": "stdout",
     "output_type": "stream",
     "text": [
      "$hello (null value) = \r\n"
     ]
    }
   ],
   "source": [
    "# Setting it to a null value.\n",
    "# Note that setting a variable to a null value is not the same as\n",
    "# unsetting it, although the end result is the same (see below).\n",
    "hello=\n",
    "echo \"\\$hello (null value) = $hello\""
   ]
  },
  {
   "cell_type": "code",
   "execution_count": 21,
   "metadata": {
    "collapsed": false
   },
   "outputs": [
    {
     "name": "stdout",
     "output_type": "stream",
     "text": [
      "numbers = one two three\r\n"
     ]
    }
   ],
   "source": [
    "# If there is whitespace embedded within a variable,\n",
    "# then quotes are necessary.\n",
    "# else,gives an error message.\n",
    "numbers=\"one two three\"\n",
    "echo \"numbers = $numbers\""
   ]
  },
  {
   "cell_type": "code",
   "execution_count": 20,
   "metadata": {
    "collapsed": false
   },
   "outputs": [
    {
     "name": "stdout",
     "output_type": "stream",
     "text": [
      "No command 'two' found, did you mean:\r\n",
      " Command 'twf' from package 'thewidgetfactory' (universe)\r\n",
      " Command 'twm' from package 'twm' (main)\r\n",
      " Command 'tao' from package 'taopm' (universe)\r\n",
      " Command 'qwo' from package 'qwo' (universe)\r\n",
      "two: command not found\r\n"
     ]
    }
   ],
   "source": [
    "numbers=one two three"
   ]
  },
  {
   "cell_type": "code",
   "execution_count": 23,
   "metadata": {
    "collapsed": false
   },
   "outputs": [
    {
     "name": "stdout",
     "output_type": "stream",
     "text": [
      "libin --- liheyi\r\n"
     ]
    }
   ],
   "source": [
    "# Escaping the whitespace also works.\n",
    "mixed_bag=libin\\ ---\\ liheyi\n",
    "echo \"$mixed_bag\""
   ]
  },
  {
   "cell_type": "code",
   "execution_count": 24,
   "metadata": {
    "collapsed": false
   },
   "outputs": [
    {
     "name": "stdout",
     "output_type": "stream",
     "text": [
      "uninitialized_variable = \r\n"
     ]
    }
   ],
   "source": [
    "# Uninitialized variable has null value (no value at all!).\n",
    "echo \"uninitialized_variable = $uninitialized_variable\""
   ]
  },
  {
   "cell_type": "code",
   "execution_count": 25,
   "metadata": {
    "collapsed": false
   },
   "outputs": [
    {
     "name": "stdout",
     "output_type": "stream",
     "text": [
      "uninitialized_variable = \r\n"
     ]
    }
   ],
   "source": [
    "# Declaring, but not initializing it --\n",
    "# same as setting it to a null value, as above.\n",
    "# It still has a null value.\n",
    "uninitialized_variable=\n",
    "echo \"uninitialized_variable = $uninitialized_variable\""
   ]
  },
  {
   "cell_type": "code",
   "execution_count": 26,
   "metadata": {
    "collapsed": false
   },
   "outputs": [
    {
     "name": "stdout",
     "output_type": "stream",
     "text": [
      "uninitialized_variable = \r\n"
     ]
    }
   ],
   "source": [
    "# Set it.\n",
    "# Unset it.\n",
    "# It still has a null value.\n",
    "uninitialized_variable=1234\n",
    "unset uninitialized_variable\n",
    "echo \"uninitialized_variable = $uninitialized_variable\""
   ]
  },
  {
   "cell_type": "markdown",
   "metadata": {},
   "source": [
    "An uninitialized variable has a \"null\" value -- no assigned value at all (not zero!)."
   ]
  },
  {
   "cell_type": "code",
   "execution_count": 27,
   "metadata": {
    "collapsed": false
   },
   "outputs": [
    {
     "name": "stdout",
     "output_type": "stream",
     "text": [
      "$unassigned is NULL.\r\n"
     ]
    }
   ],
   "source": [
    "if [ -z \"$unassigned\" ]\n",
    "then\n",
    "echo \"\\$unassigned is NULL.\"\n",
    "fi"
   ]
  },
  {
   "cell_type": "markdown",
   "metadata": {},
   "source": [
    "Using a variable before assigning a value to it may cause problems.   \n",
    "It is nevertheless possible to perform arithmetic operations on an uninitialized variable."
   ]
  },
  {
   "cell_type": "code",
   "execution_count": 34,
   "metadata": {
    "collapsed": false
   },
   "outputs": [
    {
     "name": "stdout",
     "output_type": "stream",
     "text": [
      "\r\n"
     ]
    }
   ],
   "source": [
    "# Conclusion:\n",
    "# An uninitialized variable has no value,\n",
    "#+ however it evaluates as 0 in an arithmetic operation.\n",
    "echo \"$uninitialized\""
   ]
  },
  {
   "cell_type": "code",
   "execution_count": 29,
   "metadata": {
    "collapsed": false
   },
   "outputs": [
    {
     "name": "stdout",
     "output_type": "stream",
     "text": []
    }
   ],
   "source": [
    "let \"uninitialized += 5\""
   ]
  },
  {
   "cell_type": "code",
   "execution_count": 30,
   "metadata": {
    "collapsed": false
   },
   "outputs": [
    {
     "name": "stdout",
     "output_type": "stream",
     "text": [
      "5\r\n"
     ]
    }
   ],
   "source": [
    "echo \"$uninitialized\""
   ]
  },
  {
   "cell_type": "markdown",
   "metadata": {},
   "source": [
    "### Variable Assignment\n",
    "#### =\n",
    "the assignment operator (no space before and after)"
   ]
  },
  {
   "cell_type": "markdown",
   "metadata": {},
   "source": [
    "###### Do not confuse this with = and -eq, which test, rather than assign!\n",
    "###### Note that = can be either an assignment or a test operator, depending on context.\n",
    "#### Example 4-2. Plain Variable Assignment"
   ]
  },
  {
   "cell_type": "code",
   "execution_count": 35,
   "metadata": {
    "collapsed": false
   },
   "outputs": [
    {
     "name": "stdout",
     "output_type": "stream",
     "text": [
      "The value of \"a\" is 879.\r\n"
     ]
    }
   ],
   "source": [
    "# Plain Variable Assignment\n",
    "\n",
    "# When is a variable \"naked\", i.e., lacking the '$' in front?\n",
    "# When it is being assigned, rather than referenced.\n",
    "\n",
    "# Assignment\n",
    "a=879\n",
    "echo \"The value of \\\"a\\\" is $a.\""
   ]
  },
  {
   "cell_type": "code",
   "execution_count": 36,
   "metadata": {
    "collapsed": false
   },
   "outputs": [
    {
     "name": "stdout",
     "output_type": "stream",
     "text": [
      "The value of \"a\" is now 21.\r\n"
     ]
    }
   ],
   "source": [
    "# Assignment using 'let'\n",
    "let a=16+5\n",
    "echo \"The value of \\\"a\\\" is now $a.\""
   ]
  },
  {
   "cell_type": "code",
   "execution_count": 37,
   "metadata": {
    "collapsed": false
   },
   "outputs": [
    {
     "name": "stdout",
     "output_type": "stream",
     "text": [
      "Values of \"a\" in the loop are: 7 8 9 11 "
     ]
    }
   ],
   "source": [
    "# In a 'for' loop\n",
    "echo -n \"Values of \\\"a\\\" in the loop are: \"\n",
    "for a in 7 8 9 11\n",
    "do\n",
    "echo -n \"$a \"\n",
    "done"
   ]
  },
  {
   "cell_type": "code",
   "execution_count": null,
   "metadata": {
    "collapsed": true
   },
   "outputs": [],
   "source": [
    "# In a 'read' statement (also a type of assignment):\n",
    "echo -n \"Enter \\\"a\\\" \"\n",
    "read a\n",
    "echo \"The value of \\\"a\\\" is now $a.\""
   ]
  },
  {
   "cell_type": "markdown",
   "metadata": {
    "collapsed": true
   },
   "source": [
    "#### Example 4-3. Variable Assignment, plain and fancy"
   ]
  },
  {
   "cell_type": "code",
   "execution_count": 1,
   "metadata": {
    "collapsed": false
   },
   "outputs": [
    {
     "name": "stdout",
     "output_type": "stream",
     "text": [
      "23\r\n"
     ]
    }
   ],
   "source": [
    "# Simple case\n",
    "a=23\n",
    "echo $a"
   ]
  },
  {
   "cell_type": "code",
   "execution_count": 2,
   "metadata": {
    "collapsed": false
   },
   "outputs": [
    {
     "name": "stdout",
     "output_type": "stream",
     "text": [
      "23\r\n"
     ]
    }
   ],
   "source": [
    "b=$a\n",
    "echo $b"
   ]
  },
  {
   "cell_type": "code",
   "execution_count": 3,
   "metadata": {
    "collapsed": false
   },
   "outputs": [
    {
     "name": "stdout",
     "output_type": "stream",
     "text": [
      "bash: !`: event not found\r\n",
      "23\r\n"
     ]
    }
   ],
   "source": [
    "# Now, getting a little bit fancier (command substitution).\n",
    "\n",
    "# Assigns result of 'echo' command to 'a' ...\n",
    "a=`echo Hello!`\n",
    "echo $a\n",
    "# Note that including an exclamation mark (!) within a\n",
    "#+ command substitution construct will not work from the command-line,\n",
    "#+ since this triggers the Bash \"history mechanism.\"\n",
    "# Inside a script, however, the history functions are disabled by default."
   ]
  },
  {
   "cell_type": "code",
   "execution_count": 4,
   "metadata": {
    "collapsed": false
   },
   "outputs": [
    {
     "name": "stdout",
     "output_type": "stream",
     "text": [
      "total 24 -rw-rw-r-- 1 liheyi liheyi 5546 6月 30 17:40 command_line_shortcut.ipynb -rw-rw-r-- 1 liheyi liheyi 16110 8月 2 09:56 variables_and_parameters.ipynb\r\n"
     ]
    }
   ],
   "source": [
    "# Assigns result of 'ls -l' command to 'a'\n",
    "a=`ls -l`\n",
    "# Unquoted, however, it removes tabs and newlines.\n",
    "echo $a"
   ]
  },
  {
   "cell_type": "code",
   "execution_count": 5,
   "metadata": {
    "collapsed": false
   },
   "outputs": [
    {
     "name": "stdout",
     "output_type": "stream",
     "text": [
      "total 24\r\n",
      "-rw-rw-r-- 1 liheyi liheyi  5546  6月 30 17:40 command_line_shortcut.ipynb\r\n",
      "-rw-rw-r-- 1 liheyi liheyi 16110  8月  2 09:56 variables_and_parameters.ipynb\r\n"
     ]
    }
   ],
   "source": [
    "# The quoted variable preserves whitespace.\n",
    "echo \"$a\""
   ]
  },
  {
   "cell_type": "markdown",
   "metadata": {},
   "source": [
    "###### NOTE\n",
    "Variable assignment using the $(...) mechanism (a newer method than backquotes).   \n",
    "This is likewise a form of command substitution."
   ]
  },
  {
   "cell_type": "code",
   "execution_count": 6,
   "metadata": {
    "collapsed": false
   },
   "outputs": [
    {
     "name": "stdout",
     "output_type": "stream",
     "text": [
      "total 20K\r\n",
      "drwxrwxr-x 6 liheyi liheyi 4.0K  7月 26 17:52 bash\r\n",
      "-rwxrwxr-x 1 liheyi liheyi   41  7月  7 18:32 ntp.sh\r\n",
      "drwxrwxr-x 6 liheyi liheyi 4.0K  7月 26 17:31 python\r\n",
      "-rw-rw-r-- 1 liheyi liheyi  185  7月 26 18:08 README\r\n",
      "-rwxr-xr-x 1 liheyi liheyi   62  7月  7 14:59 start.sh\r\n"
     ]
    }
   ],
   "source": [
    "b=$(ls -lh /home/liheyi/jupyter)\n",
    "echo \"$b\""
   ]
  },
  {
   "cell_type": "markdown",
   "metadata": {},
   "source": [
    "### Bash Variables Are Untyped\n",
    "Unlike many other programming languages, Bash does not segregate its variables by \"type.\" Essentially, Bash variables are character strings, but, depending on context, Bash permits arithmetic operations and comparisons on variables. The determining factor is whether the value of a variable contains only digits."
   ]
  },
  {
   "cell_type": "markdown",
   "metadata": {},
   "source": [
    "#### Example 4-4. Integer or string"
   ]
  },
  {
   "cell_type": "code",
   "execution_count": 8,
   "metadata": {
    "collapsed": false
   },
   "outputs": [
    {
     "name": "stdout",
     "output_type": "stream",
     "text": [
      "a = 2335\r\n"
     ]
    }
   ],
   "source": [
    "# Integer\n",
    "a=2334\n",
    "let \"a += 1\"\n",
    "echo \"a = $a\""
   ]
  },
  {
   "cell_type": "code",
   "execution_count": 10,
   "metadata": {
    "collapsed": false
   },
   "outputs": [
    {
     "name": "stdout",
     "output_type": "stream",
     "text": [
      "a = 2335\r\n"
     ]
    }
   ],
   "source": [
    "# Only digits in a\n",
    "a='2334'\n",
    "let \"a += 1\"\n",
    "echo \"a = $a\""
   ]
  },
  {
   "cell_type": "code",
   "execution_count": 12,
   "metadata": {
    "collapsed": false
   },
   "outputs": [
    {
     "name": "stdout",
     "output_type": "stream",
     "text": [
      "b = BB35\r\n"
     ]
    }
   ],
   "source": [
    "# Substitute \"BB\" for \"23\".\n",
    "# This transforms $b into a string.\n",
    "b=${a/23/BB}\n",
    "echo \"b = $b\""
   ]
  },
  {
   "cell_type": "code",
   "execution_count": 13,
   "metadata": {
    "collapsed": false
   },
   "outputs": [
    {
     "name": "stdout",
     "output_type": "stream",
     "text": [
      "b = BB35\r\n"
     ]
    }
   ],
   "source": [
    "# Declaring it an integer doesn't help.\n",
    "declare -i b\n",
    "echo \"b = $b\""
   ]
  },
  {
   "cell_type": "code",
   "execution_count": 14,
   "metadata": {
    "collapsed": false
   },
   "outputs": [
    {
     "name": "stdout",
     "output_type": "stream",
     "text": [
      "b = 10\r\n"
     ]
    }
   ],
   "source": [
    "# Bash sets the \"integer value\" of a string to 0.\n",
    "let \"b += 10\"\n",
    "echo \"b = $b\""
   ]
  },
  {
   "cell_type": "code",
   "execution_count": 16,
   "metadata": {
    "collapsed": false
   },
   "outputs": [
    {
     "name": "stdout",
     "output_type": "stream",
     "text": [
      "d = 2334\r\n"
     ]
    }
   ],
   "source": [
    "# Substitute \"23\" for \"BB\".\n",
    "# This makes $d an integer.\n",
    "c=BB34\n",
    "d=${c/BB/23}\n",
    "echo \"d = $d\""
   ]
  },
  {
   "cell_type": "code",
   "execution_count": 17,
   "metadata": {
    "collapsed": false
   },
   "outputs": [
    {
     "name": "stdout",
     "output_type": "stream",
     "text": [
      "d = 2335\r\n"
     ]
    }
   ],
   "source": [
    "let \"d += 1\"\n",
    "echo \"d = $d\""
   ]
  },
  {
   "cell_type": "code",
   "execution_count": 18,
   "metadata": {
    "collapsed": false
   },
   "outputs": [
    {
     "name": "stdout",
     "output_type": "stream",
     "text": [
      "e = \r\n"
     ]
    }
   ],
   "source": [
    "# What about null variables?\n",
    "e=''   # ... Or e=\"\" ... Or e=\n",
    "echo \"e = $e\""
   ]
  },
  {
   "cell_type": "code",
   "execution_count": 20,
   "metadata": {
    "collapsed": false
   },
   "outputs": [
    {
     "name": "stdout",
     "output_type": "stream",
     "text": [
      "e = 2\r\n"
     ]
    }
   ],
   "source": [
    "# Arithmetic operations allowed on a null variable\n",
    "# Null variable transformed into an integer.\n",
    "let \"e += 1\"\n",
    "echo \"e = $e\""
   ]
  },
  {
   "cell_type": "code",
   "execution_count": 21,
   "metadata": {
    "collapsed": false
   },
   "outputs": [
    {
     "name": "stdout",
     "output_type": "stream",
     "text": [
      "f = \r\n"
     ]
    }
   ],
   "source": [
    "# What about undeclared variables\n",
    "echo \"f = $f\""
   ]
  },
  {
   "cell_type": "code",
   "execution_count": 22,
   "metadata": {
    "collapsed": false
   },
   "outputs": [
    {
     "name": "stdout",
     "output_type": "stream",
     "text": [
      "f = 1\r\n"
     ]
    }
   ],
   "source": [
    "# Arithmetic operations allowed\n",
    "# Undeclared variable transformed into an integer.\n",
    "let \"f += 1\"\n",
    "echo \"f = $f\""
   ]
  },
  {
   "cell_type": "code",
   "execution_count": 23,
   "metadata": {
    "collapsed": false
   },
   "outputs": [
    {
     "name": "stdout",
     "output_type": "stream",
     "text": [
      "bash: let: f /= : syntax error: operand expected (error token is \"/= \")\r\n"
     ]
    }
   ],
   "source": [
    "# However ...\n",
    "let \"f /= $undecl_var\" # Divide by zero?\n",
    "# let: f /= : syntax error: operand expected (error token is \" \")\n",
    "# Syntax error! Variable $undecl_var is not set to zero here!"
   ]
  },
  {
   "cell_type": "code",
   "execution_count": 24,
   "metadata": {
    "collapsed": false
   },
   "outputs": [
    {
     "name": "stdout",
     "output_type": "stream",
     "text": [
      "bash: let: f /= 0: division by 0 (error token is \"0\")\r\n"
     ]
    }
   ],
   "source": [
    "# But still ...\n",
    "let \"f /= 0\"\n",
    "# let: f /= 0: division by 0 (error token is \"0\")\n",
    "# Expected behavior."
   ]
  },
  {
   "cell_type": "code",
   "execution_count": 26,
   "metadata": {
    "collapsed": false
   },
   "outputs": [
    {
     "name": "stdout",
     "output_type": "stream",
     "text": []
    }
   ],
   "source": [
    "# Bash (usually) sets the \"integer value\" of null to zero\n",
    "#+ when performing an arithmetic operation.\n",
    "# But, don't try this at home, folks!\n",
    "# It's undocumented and probably non-portable behavior.\n",
    "\n",
    "# Conclusion: Variables in Bash are untyped,\n",
    "#+ with all attendant consequences."
   ]
  },
  {
   "cell_type": "markdown",
   "metadata": {},
   "source": [
    "Untyped variables are both a blessing and a curse. They permit more flexibility in scripting and make it easier to grind out lines of code (and give you enough rope to hang yourself!). However, they likewise permit subtle errors to creep in and encourage sloppy programming habits."
   ]
  },
  {
   "cell_type": "markdown",
   "metadata": {},
   "source": [
    "### Special Variable Types"
   ]
  },
  {
   "cell_type": "markdown",
   "metadata": {},
   "source": [
    "#### Local variables\n",
    "Variables visible only within a code block or function (see also local variables in functions)"
   ]
  },
  {
   "cell_type": "markdown",
   "metadata": {},
   "source": [
    "#### Environmental variables\n",
    "Variables that affect the behavior of the shell and user interface   \n",
    "\n",
    "In a more general context, each process has an \"environment\", that is, a group of variables that the process may reference. In this sense, the shell behaves like any other process.  \n",
    "\n",
    "Every time a shell starts, it creates shell variables that correspond to its own environmental variables. Updating or adding new environmental variables causes the shell to update its environment, and all the shell's child processes (the commands it executes) inherit this environment.  \n",
    "\n",
    "The space allotted to the environment is limited. Creating too many environmental variables or ones that use up excessive space may cause problems.  \n",
    "\n",
    "If a script sets environmental variables, they need to be \"exported,\" that is, reported to the environment local to the script. This is the function of the export command.  \n",
    "\n",
    "A script can export variables only to child processes, that is, only to commands or processes which that particular script initiates. A script invoked from the command-line cannot export variables back to the command-line environment.Child processes cannot export variables back to the parent processes that spawned them.  \n",
    "\n",
    "Definition: A child process is a subprocess launched by another process, its parent."
   ]
  },
  {
   "cell_type": "markdown",
   "metadata": {},
   "source": [
    "#### Positional parameters\n",
    "Arguments passed to the script from the command line : $0, $1, $2, $3 . . .  \n",
    "\n",
    "\\$0 is the name of the script itself, \\$1 is the first argument, \\$2 the second, $3 the third, and so forth.  \n",
    "After \\$9, the arguments must be enclosed in brackets, for example, \\${10}, \\${11}, \\${12}.  \n",
    "The special variables \\$* and \\$@ denote all the positional parameters."
   ]
  },
  {
   "cell_type": "markdown",
   "metadata": {},
   "source": [
    "#### Example 4-5. Positional Parameters"
   ]
  },
  {
   "cell_type": "code",
   "execution_count": 27,
   "metadata": {
    "collapsed": false
   },
   "outputs": [
    {
     "name": "stdout",
     "output_type": "stream",
     "text": [
      "#!/bin/bash\r\n",
      "# Call this script with at least 10 parameters, for example\r\n",
      "# ./scriptname 1 2 3 4 5 6 7 8 9 10\r\n",
      "MINPARAMS=10\r\n",
      "echo\r\n",
      "echo \"The name of this script is \\\"$0\\\".\"\r\n",
      "# Adds ./ for current directory\r\n",
      "echo \"The name of this script is \\\"`basename $0`\\\".\"\r\n",
      "# Strips out path name info (see 'basename')\r\n",
      "echo\r\n",
      "if [ -n \"$1\" ] # Tested variable is quoted.\r\n",
      "then\r\n",
      "\techo \"Parameter #1 is $1\" # Need quotes to escape #\r\n",
      "fi\r\n",
      "if [ -n \"$2\" ]\r\n",
      "then\r\n",
      "\techo \"Parameter #2 is $2\"\r\n",
      "fi\r\n",
      "if [ -n \"$3\" ]\r\n",
      "then\r\n",
      "\techo \"Parameter #3 is $3\"\r\n",
      "fi\r\n",
      "# ...\r\n",
      "if [ -n \"${10}\" ] # Parameters > $9 must be enclosed in {brackets}.\r\n",
      "then\r\n",
      "\techo \"Parameter #10 is ${10}\"\r\n",
      "fi\r\n",
      "echo \"-----------------------------------\"\r\n",
      "echo \"All the command-line parameters are: \"$*\"\"\r\n",
      "if [ $# -lt \"$MINPARAMS\" ]\r\n",
      "then\r\n",
      "\techo\r\n",
      "\techo \"This script needs at least $MINPARAMS command-line arguments!\"\r\n",
      "fi\r\n",
      "echo\r\n",
      "exit 0\r\n"
     ]
    }
   ],
   "source": [
    "cat positional_para.sh"
   ]
  },
  {
   "cell_type": "code",
   "execution_count": 28,
   "metadata": {
    "collapsed": false
   },
   "outputs": [
    {
     "name": "stdout",
     "output_type": "stream",
     "text": [
      "\r\n",
      "The name of this script is \"./positional_para.sh\".\r\n",
      "The name of this script is \"positional_para.sh\".\r\n",
      "\r\n",
      "Parameter #1 is libin\r\n",
      "Parameter #2 is liheyi\r\n",
      "Parameter #3 is liheyuan\r\n",
      "-----------------------------------\r\n",
      "All the command-line parameters are: libin liheyi liheyuan lanlan hepeng kanghong\r\n",
      "\r\n",
      "This script needs at least 10 command-line arguments!\r\n",
      "\r\n"
     ]
    }
   ],
   "source": [
    "./positional_para.sh libin liheyi liheyuan lanlan hepeng kanghong"
   ]
  },
  {
   "cell_type": "markdown",
   "metadata": {},
   "source": [
    "Bracket notation for positional parameters leads to a fairly simple way of referencing the last argument passed to a script on the command-line. This also requires indirect referencing."
   ]
  },
  {
   "cell_type": "code",
   "execution_count": null,
   "metadata": {
    "collapsed": true
   },
   "outputs": [],
   "source": [
    "# Note: This is an *indirect reference* to $args\n",
    "args=$#\n",
    "lastarg=${!args}\n",
    "\n",
    "# Or: lastarg=${!#} (Thanks, Chris Monson.)\n",
    "# This is an *indirect reference* to the $# variable.\n",
    "# Note that lastarg=${!$#} doesn't work."
   ]
  },
  {
   "cell_type": "markdown",
   "metadata": {},
   "source": [
    "Some scripts can perform different operations, depending on which name they are invoked with. For this to work, the script needs to check $0, the name it was invoked by.There must also exist symbolic links to all the alternate names of the script."
   ]
  },
  {
   "cell_type": "markdown",
   "metadata": {},
   "source": [
    "If a script expects a command-line parameter but is invoked without one, this may cause a null variable assignment, generally an undesirable result. One way to prevent this is to append an extra character to both sides of the assignment statement using the expected positional parameter."
   ]
  },
  {
   "cell_type": "code",
   "execution_count": null,
   "metadata": {
    "collapsed": true
   },
   "outputs": [],
   "source": [
    "# This will prevent an error, \n",
    "# even if positional parameter is absent.\n",
    "variable1_=$1_\n",
    "critical_argument01=$variable1_"
   ]
  },
  {
   "cell_type": "code",
   "execution_count": null,
   "metadata": {
    "collapsed": true
   },
   "outputs": [],
   "source": [
    "# The extra character can be stripped off later, like so.\n",
    "variable1=${variable1_/_/}\n",
    "# Side effects only if $variable1_ begins with an underscore.\n",
    "# This uses one of the parameter substitution templates discussed later.\n",
    "# (Leaving out the replacement pattern results in a deletion.)"
   ]
  },
  {
   "cell_type": "code",
   "execution_count": null,
   "metadata": {
    "collapsed": true
   },
   "outputs": [],
   "source": [
    "# A more straightforward way of dealing with this is\n",
    "#+ to simply test whether expected positional parameters have been passed.\n",
    "if [ -z $1 ]\n",
    "then\n",
    "exit $E_MISSING_POS_PARAM\n",
    "fi"
   ]
  },
  {
   "cell_type": "code",
   "execution_count": null,
   "metadata": {
    "collapsed": true
   },
   "outputs": [],
   "source": [
    "# However, as Fabian Kreutz points out,\n",
    "#+ the above method may have unexpected side-effects.\n",
    "# A better method is parameter substitution:\n",
    "${1:-$DefaultVal}"
   ]
  },
  {
   "cell_type": "markdown",
   "metadata": {},
   "source": [
    "The shift command reassigns the positional parameters, in effect shifting them to the left one notch.  \n",
    "\\$1 <--- \\$2, \\$2 <--- \\$3, \\$3 <--- \\$4, etc.  \n",
    "\n",
    "The old $1 disappears, but $0 (the script name) does not change. If you use a large number of positional parameters to a script, shift lets you access those past 10, although {bracket} notation also permits this."
   ]
  },
  {
   "cell_type": "markdown",
   "metadata": {},
   "source": [
    "#### Example 4-6. Using shift"
   ]
  },
  {
   "cell_type": "code",
   "execution_count": 30,
   "metadata": {
    "collapsed": false
   },
   "outputs": [
    {
     "name": "stdout",
     "output_type": "stream",
     "text": [
      "#!/bin/bash\r\n",
      "# shft.sh: Using 'shift' to step through all the positional parameters.\r\n",
      "# Name this script something like shft.sh,\r\n",
      "#+ and invoke it with some parameters.\r\n",
      "#+ For example:\r\n",
      "# sh shft.sh a b c def 83 barndoor\r\n",
      "until [ -z \"$1\" ] # Until all parameters used up . . .\r\n",
      "do\r\n",
      "\techo \"$1\"\r\n",
      "\tshift\r\n",
      "done\r\n",
      "# But, what happens to the \"used-up\" parameters?\r\n",
      "echo \"$2\"\r\n",
      "# Nothing echoes!\r\n",
      "# When $2 shifts into $1 (and there is no $3 to shift into $2)\r\n",
      "#+ then $2 remains empty.\r\n",
      "# So, it is not a parameter *copy*, but a *move*.\r\n",
      "exit\r\n"
     ]
    }
   ],
   "source": [
    "cat shift.sh"
   ]
  },
  {
   "cell_type": "code",
   "execution_count": 31,
   "metadata": {
    "collapsed": false
   },
   "outputs": [
    {
     "name": "stdout",
     "output_type": "stream",
     "text": [
      "libin\r\n",
      "liheyi\r\n",
      "liheyuan\r\n",
      "lanlan\r\n",
      "xiaoyu\r\n",
      "\r\n"
     ]
    }
   ],
   "source": [
    "./shift.sh libin liheyi liheyuan lanlan xiaoyu"
   ]
  },
  {
   "cell_type": "markdown",
   "metadata": {},
   "source": [
    "The shift command can take a numerical parameter indicating how many positions to shift."
   ]
  },
  {
   "cell_type": "code",
   "execution_count": 32,
   "metadata": {
    "collapsed": false
   },
   "outputs": [
    {
     "name": "stdout",
     "output_type": "stream",
     "text": [
      "#!/bin/bash\r\n",
      "# shift-past.sh\r\n",
      "shift 3 # Shift 3 positions.\r\n",
      "# n=3; shift $n\r\n",
      "# Has the same effect.\r\n",
      "echo \"$1\"\r\n",
      "exit 0\r\n"
     ]
    }
   ],
   "source": [
    "cat shift.sh"
   ]
  },
  {
   "cell_type": "code",
   "execution_count": 33,
   "metadata": {
    "collapsed": false
   },
   "outputs": [
    {
     "name": "stdout",
     "output_type": "stream",
     "text": [
      "lanlan\r\n"
     ]
    }
   ],
   "source": [
    "./shift.sh libin liheyi liheyuan lanlan xiaoyu"
   ]
  },
  {
   "cell_type": "code",
   "execution_count": null,
   "metadata": {
    "collapsed": true
   },
   "outputs": [],
   "source": [
    "# However, as Eleni Fragkiadaki, points out,\n",
    "#+ attempting a 'shift' past the number of\n",
    "#+ positional parameters ($#) returns an exit status of 1,\n",
    "#+ and the positional parameters themselves do not change.\n",
    "# This means possibly getting stuck in an endless loop. . . .\n",
    "\n",
    "# For example:\n",
    "# until [ -z \"$1\" ]\n",
    "# do\n",
    "# echo -n \"$1 \"\n",
    "# shift 20 # If less than 20 pos params,\n",
    "# done #+ then loop never ends!\n",
    "#\n",
    "# When in doubt, add a sanity check. . . .\n",
    "# shift 20 || break\n",
    "#          ^^^^^^^^"
   ]
  }
 ],
 "metadata": {
  "kernelspec": {
   "display_name": "Bash",
   "language": "bash",
   "name": "bash"
  },
  "language_info": {
   "codemirror_mode": "shell",
   "file_extension": ".sh",
   "mimetype": "text/x-sh",
   "name": "bash"
  }
 },
 "nbformat": 4,
 "nbformat_minor": 0
}
