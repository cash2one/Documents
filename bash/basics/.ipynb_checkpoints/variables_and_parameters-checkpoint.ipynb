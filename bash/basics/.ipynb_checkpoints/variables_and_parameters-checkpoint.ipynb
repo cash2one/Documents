{
 "cells": [
  {
   "cell_type": "markdown",
   "metadata": {},
   "source": [
    "## 4.Introduction to Variables and Parameters"
   ]
  },
  {
   "cell_type": "markdown",
   "metadata": {},
   "source": [
    "Variables are how programming and scripting languages represent data. A variable is nothing more than a\n",
    "label, a name assigned to a location or set of locations in computer memory holding an item of data.\n",
    "Variables appear in arithmetic operations and manipulation of quantities, and in string parsing."
   ]
  },
  {
   "cell_type": "markdown",
   "metadata": {},
   "source": [
    "### Variable Substitution\n",
    "The name of a variable is a placeholder for its value, the data it holds.   \n",
    "Referencing (retrieving) its value is called variable substitution.  \n",
    "#### $"
   ]
  },
  {
   "cell_type": "markdown",
   "metadata": {},
   "source": [
    "Let us carefully distinguish between the name of a variable and its value.   \n",
    "If variable1 is the name of a variable, then $variable1 is a reference to its value, the data item it contains."
   ]
  },
  {
   "cell_type": "code",
   "execution_count": 1,
   "metadata": {
    "collapsed": false
   },
   "outputs": [
    {
     "name": "stdout",
     "output_type": "stream",
     "text": []
    }
   ],
   "source": [
    "variable1=123"
   ]
  },
  {
   "cell_type": "code",
   "execution_count": 2,
   "metadata": {
    "collapsed": false
   },
   "outputs": [
    {
     "name": "stdout",
     "output_type": "stream",
     "text": [
      "variable1\r\n"
     ]
    }
   ],
   "source": [
    "echo variable1"
   ]
  },
  {
   "cell_type": "code",
   "execution_count": 4,
   "metadata": {
    "collapsed": false
   },
   "outputs": [
    {
     "name": "stdout",
     "output_type": "stream",
     "text": [
      "123\r\n"
     ]
    }
   ],
   "source": [
    "echo $variable1"
   ]
  },
  {
   "cell_type": "markdown",
   "metadata": {},
   "source": [
    "The only times a variable appears \"naked\" -- without the $ prefix -- is when declared or assigned,when unset, when exported, in an arithmetic expression within double parentheses (( ... )), or in the special case of a variable representing a signal. Assignment may be with an = (as in var1=27), in a read statement, and at the head of a loop (for var2 in 1 2 3)."
   ]
  },
  {
   "cell_type": "markdown",
   "metadata": {},
   "source": [
    "Enclosing a referenced value in double quotes (\" ... \") does not interfere with variable substitution. This is called partial quoting, sometimes referred to as \"weak quoting.\" Using single quotes (' ... ') causes the variable name to be used literally, and no substitution will take place. This is full quoting, sometimes referred to as 'strong quoting.' See Chapter 5 for a detailed discussion."
   ]
  },
  {
   "cell_type": "markdown",
   "metadata": {},
   "source": [
    "Note that \\$variable is actually a simplified form of ${variable}.   \n",
    "In contexts where the \\$variable syntax causes an error, the longer form may work"
   ]
  },
  {
   "cell_type": "code",
   "execution_count": 5,
   "metadata": {
    "collapsed": false
   },
   "outputs": [
    {
     "name": "stdout",
     "output_type": "stream",
     "text": []
    }
   ],
   "source": [
    "#  Variable assignment and substitution\n",
    "\n",
    "a=1234\n",
    "hello=$a\n",
    "#-------------------------------------------------------------------------\n",
    "# No space permitted on either side of = sign when initializing variables.\n",
    "# What happens if there is a space?\n",
    "# \"VARIABLE =value\"\n",
    "# ^\n",
    "#% Script tries to run \"VARIABLE\" command with one argument, \"=value\".\n",
    "# \"VARIABLE= value\"\n",
    "# ^\n",
    "#% Script tries to run \"value\" command with\n",
    "#+ the environmental variable \"VARIABLE\" set to \"\".\n",
    "#-------------------------------------------------------------------------"
   ]
  },
  {
   "cell_type": "code",
   "execution_count": 6,
   "metadata": {
    "collapsed": false
   },
   "outputs": [
    {
     "name": "stdout",
     "output_type": "stream",
     "text": [
      "hello\r\n"
     ]
    }
   ],
   "source": [
    "# Not a variable reference, just the string \"hello\" ...\n",
    "echo hello"
   ]
  },
  {
   "cell_type": "code",
   "execution_count": 7,
   "metadata": {
    "collapsed": false
   },
   "outputs": [
    {
     "name": "stdout",
     "output_type": "stream",
     "text": [
      "1234\r\n"
     ]
    }
   ],
   "source": [
    "# This *is* a variable reference.\n",
    "echo $hello"
   ]
  },
  {
   "cell_type": "code",
   "execution_count": 8,
   "metadata": {
    "collapsed": false
   },
   "outputs": [
    {
     "name": "stdout",
     "output_type": "stream",
     "text": [
      "1234\r\n"
     ]
    }
   ],
   "source": [
    "# Likewise a variable reference, as above.\n",
    "echo ${hello}"
   ]
  },
  {
   "cell_type": "code",
   "execution_count": 9,
   "metadata": {
    "collapsed": false
   },
   "outputs": [
    {
     "name": "stdout",
     "output_type": "stream",
     "text": [
      "1234\r\n"
     ]
    }
   ],
   "source": [
    "#  Quoting . . .\n",
    "\n",
    "echo \"$hello\""
   ]
  },
  {
   "cell_type": "code",
   "execution_count": 10,
   "metadata": {
    "collapsed": false
   },
   "outputs": [
    {
     "name": "stdout",
     "output_type": "stream",
     "text": [
      "1234\r\n"
     ]
    }
   ],
   "source": [
    "echo \"${hello}\""
   ]
  },
  {
   "cell_type": "code",
   "execution_count": 14,
   "metadata": {
    "collapsed": false
   },
   "outputs": [
    {
     "name": "stdout",
     "output_type": "stream",
     "text": [
      "A B C D\r\n"
     ]
    }
   ],
   "source": [
    "# As we see, echo $hello and echo \"$hello\" give different results.\n",
    "# Quoting a variable preserves whitespace.\n",
    "hello=\"A B  C    D\"\n",
    "echo $hello"
   ]
  },
  {
   "cell_type": "code",
   "execution_count": 15,
   "metadata": {
    "collapsed": false
   },
   "outputs": [
    {
     "name": "stdout",
     "output_type": "stream",
     "text": [
      "A B  C    D\r\n"
     ]
    }
   ],
   "source": [
    "echo \"$hello\""
   ]
  },
  {
   "cell_type": "code",
   "execution_count": 16,
   "metadata": {
    "collapsed": false
   },
   "outputs": [
    {
     "name": "stdout",
     "output_type": "stream",
     "text": [
      "$hello\r\n"
     ]
    }
   ],
   "source": [
    "# Variable referencing disabled (escaped) by single quotes,\n",
    "# which causes the \"$\" to be interpreted literally.\n",
    "# Notice the effect of different types of quoting.\n",
    "echo '$hello'"
   ]
  },
  {
   "cell_type": "code",
   "execution_count": 17,
   "metadata": {
    "collapsed": false
   },
   "outputs": [
    {
     "name": "stdout",
     "output_type": "stream",
     "text": [
      "$hello (null value) = \r\n"
     ]
    }
   ],
   "source": [
    "# Setting it to a null value.\n",
    "# Note that setting a variable to a null value is not the same as\n",
    "# unsetting it, although the end result is the same (see below).\n",
    "hello=\n",
    "echo \"\\$hello (null value) = $hello\""
   ]
  },
  {
   "cell_type": "code",
   "execution_count": 21,
   "metadata": {
    "collapsed": false
   },
   "outputs": [
    {
     "name": "stdout",
     "output_type": "stream",
     "text": [
      "numbers = one two three\r\n"
     ]
    }
   ],
   "source": [
    "# If there is whitespace embedded within a variable,\n",
    "# then quotes are necessary.\n",
    "# else,gives an error message.\n",
    "numbers=\"one two three\"\n",
    "echo \"numbers = $numbers\""
   ]
  },
  {
   "cell_type": "code",
   "execution_count": 20,
   "metadata": {
    "collapsed": false
   },
   "outputs": [
    {
     "name": "stdout",
     "output_type": "stream",
     "text": [
      "No command 'two' found, did you mean:\r\n",
      " Command 'twf' from package 'thewidgetfactory' (universe)\r\n",
      " Command 'twm' from package 'twm' (main)\r\n",
      " Command 'tao' from package 'taopm' (universe)\r\n",
      " Command 'qwo' from package 'qwo' (universe)\r\n",
      "two: command not found\r\n"
     ]
    }
   ],
   "source": [
    "numbers=one two three"
   ]
  },
  {
   "cell_type": "code",
   "execution_count": 23,
   "metadata": {
    "collapsed": false
   },
   "outputs": [
    {
     "name": "stdout",
     "output_type": "stream",
     "text": [
      "libin --- liheyi\r\n"
     ]
    }
   ],
   "source": [
    "# Escaping the whitespace also works.\n",
    "mixed_bag=libin\\ ---\\ liheyi\n",
    "echo \"$mixed_bag\""
   ]
  },
  {
   "cell_type": "code",
   "execution_count": 24,
   "metadata": {
    "collapsed": false
   },
   "outputs": [
    {
     "name": "stdout",
     "output_type": "stream",
     "text": [
      "uninitialized_variable = \r\n"
     ]
    }
   ],
   "source": [
    "# Uninitialized variable has null value (no value at all!).\n",
    "echo \"uninitialized_variable = $uninitialized_variable\""
   ]
  },
  {
   "cell_type": "code",
   "execution_count": 25,
   "metadata": {
    "collapsed": false
   },
   "outputs": [
    {
     "name": "stdout",
     "output_type": "stream",
     "text": [
      "uninitialized_variable = \r\n"
     ]
    }
   ],
   "source": [
    "# Declaring, but not initializing it --\n",
    "# same as setting it to a null value, as above.\n",
    "# It still has a null value.\n",
    "uninitialized_variable=\n",
    "echo \"uninitialized_variable = $uninitialized_variable\""
   ]
  },
  {
   "cell_type": "code",
   "execution_count": 26,
   "metadata": {
    "collapsed": false
   },
   "outputs": [
    {
     "name": "stdout",
     "output_type": "stream",
     "text": [
      "uninitialized_variable = \r\n"
     ]
    }
   ],
   "source": [
    "# Set it.\n",
    "# Unset it.\n",
    "# It still has a null value.\n",
    "uninitialized_variable=1234\n",
    "unset uninitialized_variable\n",
    "echo \"uninitialized_variable = $uninitialized_variable\""
   ]
  },
  {
   "cell_type": "markdown",
   "metadata": {},
   "source": [
    "An uninitialized variable has a \"null\" value -- no assigned value at all (not zero!)."
   ]
  },
  {
   "cell_type": "code",
   "execution_count": 27,
   "metadata": {
    "collapsed": false
   },
   "outputs": [
    {
     "name": "stdout",
     "output_type": "stream",
     "text": [
      "$unassigned is NULL.\r\n"
     ]
    }
   ],
   "source": [
    "if [ -z \"$unassigned\" ]\n",
    "then\n",
    "echo \"\\$unassigned is NULL.\"\n",
    "fi"
   ]
  },
  {
   "cell_type": "markdown",
   "metadata": {},
   "source": [
    "Using a variable before assigning a value to it may cause problems.   \n",
    "It is nevertheless possible to perform arithmetic operations on an uninitialized variable."
   ]
  },
  {
   "cell_type": "code",
   "execution_count": 34,
   "metadata": {
    "collapsed": false
   },
   "outputs": [
    {
     "name": "stdout",
     "output_type": "stream",
     "text": [
      "\r\n"
     ]
    }
   ],
   "source": [
    "# Conclusion:\n",
    "# An uninitialized variable has no value,\n",
    "#+ however it evaluates as 0 in an arithmetic operation.\n",
    "echo \"$uninitialized\""
   ]
  },
  {
   "cell_type": "code",
   "execution_count": 29,
   "metadata": {
    "collapsed": false
   },
   "outputs": [
    {
     "name": "stdout",
     "output_type": "stream",
     "text": []
    }
   ],
   "source": [
    "let \"uninitialized += 5\""
   ]
  },
  {
   "cell_type": "code",
   "execution_count": 30,
   "metadata": {
    "collapsed": false
   },
   "outputs": [
    {
     "name": "stdout",
     "output_type": "stream",
     "text": [
      "5\r\n"
     ]
    }
   ],
   "source": [
    "echo \"$uninitialized\""
   ]
  },
  {
   "cell_type": "markdown",
   "metadata": {},
   "source": [
    "### Variable Assignment\n",
    "#### =\n",
    "the assignment operator (no space before and after)"
   ]
  },
  {
   "cell_type": "markdown",
   "metadata": {},
   "source": [
    "###### Do not confuse this with = and -eq, which test, rather than assign!\n",
    "###### Note that = can be either an assignment or a test operator, depending on context."
   ]
  },
  {
   "cell_type": "code",
   "execution_count": 35,
   "metadata": {
    "collapsed": false
   },
   "outputs": [
    {
     "name": "stdout",
     "output_type": "stream",
     "text": [
      "The value of \"a\" is 879.\r\n"
     ]
    }
   ],
   "source": [
    "# Plain Variable Assignment\n",
    "\n",
    "# When is a variable \"naked\", i.e., lacking the '$' in front?\n",
    "# When it is being assigned, rather than referenced.\n",
    "\n",
    "# Assignment\n",
    "a=879\n",
    "echo \"The value of \\\"a\\\" is $a.\""
   ]
  },
  {
   "cell_type": "code",
   "execution_count": 36,
   "metadata": {
    "collapsed": false
   },
   "outputs": [
    {
     "name": "stdout",
     "output_type": "stream",
     "text": [
      "The value of \"a\" is now 21.\r\n"
     ]
    }
   ],
   "source": [
    "# Assignment using 'let'\n",
    "let a=16+5\n",
    "echo \"The value of \\\"a\\\" is now $a.\""
   ]
  },
  {
   "cell_type": "code",
   "execution_count": 37,
   "metadata": {
    "collapsed": false
   },
   "outputs": [
    {
     "name": "stdout",
     "output_type": "stream",
     "text": [
      "Values of \"a\" in the loop are: 7 8 9 11 "
     ]
    }
   ],
   "source": [
    "# In a 'for' loop\n",
    "echo -n \"Values of \\\"a\\\" in the loop are: \"\n",
    "for a in 7 8 9 11\n",
    "do\n",
    "echo -n \"$a \"\n",
    "done"
   ]
  },
  {
   "cell_type": "code",
   "execution_count": null,
   "metadata": {
    "collapsed": true
   },
   "outputs": [],
   "source": [
    "# In a 'read' statement (also a type of assignment):\n",
    "echo -n \"Enter \\\"a\\\" \"\n",
    "read a\n",
    "echo \"The value of \\\"a\\\" is now $a.\""
   ]
  },
  {
   "cell_type": "code",
   "execution_count": null,
   "metadata": {
    "collapsed": true
   },
   "outputs": [],
   "source": []
  }
 ],
 "metadata": {
  "kernelspec": {
   "display_name": "Bash",
   "language": "bash",
   "name": "bash"
  },
  "language_info": {
   "codemirror_mode": "shell",
   "file_extension": ".sh",
   "mimetype": "text/x-sh",
   "name": "bash"
  }
 },
 "nbformat": 4,
 "nbformat_minor": 0
}
