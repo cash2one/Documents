{
 "cells": [
  {
   "cell_type": "markdown",
   "metadata": {},
   "source": [
    "## 26. List Constructs"
   ]
  },
  {
   "cell_type": "markdown",
   "metadata": {},
   "source": [
    "The and list and or list constructs provide a means of processing a number of commands consecutively.   \n",
    "These can effectively replace complex nested if/then or even case statements."
   ]
  },
  {
   "cell_type": "markdown",
   "metadata": {},
   "source": [
    "#### Chaining together commands"
   ]
  },
  {
   "cell_type": "markdown",
   "metadata": {},
   "source": [
    "##### and list"
   ]
  },
  {
   "cell_type": "raw",
   "metadata": {},
   "source": [
    "command-1 && command-2 && command-3 && ... command-n"
   ]
  },
  {
   "cell_type": "markdown",
   "metadata": {},
   "source": [
    "Each command executes in turn, provided that the previous command has given a return value of true (zero). At the first false (non-zero) return, the command chain terminates (the first command returning false is the last one to execute)."
   ]
  },
  {
   "cell_type": "markdown",
   "metadata": {},
   "source": [
    "An interesting use of a two-condition and list from an early version of YongYe's Tetris game script:"
   ]
  },
  {
   "cell_type": "code",
   "execution_count": null,
   "metadata": {
    "collapsed": true
   },
   "outputs": [],
   "source": [
    "equation()\n",
    "{ # core algorithm used for doubling and halving the coordinates\n",
    "  [[ ${cdx} ]] && ((y=cy+(ccy-cdy)${2}2))\n",
    "  eval ${1}+=\\\"${x} ${y} \\\"\n",
    "}"
   ]
  },
  {
   "cell_type": "markdown",
   "metadata": {},
   "source": [
    "#### Example 26-1. Using an and list to test for command-line arguments"
   ]
  },
  {
   "cell_type": "code",
   "execution_count": 1,
   "metadata": {
    "collapsed": false
   },
   "outputs": [
    {
     "name": "stdout",
     "output_type": "stream",
     "text": [
      "#!/bin/bash\r\n",
      "# and list\r\n",
      "\r\n",
      "if [ ! -z \"$1\" ] && echo \"Argument #1 = $1\" &&\\\r\n",
      "\t[ ! -z \"$2\" ] && echo \"Argument #2 = $2\"\r\n",
      "\r\n",
      "then\r\n",
      "  echo \"At least 2 arguments passed to script.\"\r\n",
      "  # All the chained commands return true.\r\n",
      "else\r\n",
      "  echo \"Fewer than 2 arguments passed to script.\"\r\n",
      "  # At least one of the chained commands returns false.\r\n",
      "fi\r\n",
      "\r\n",
      "# Note that \"if [ ! -z $1 ]\" works, but its alleged equivalent,\r\n",
      "#           \"if [ -n $1 ]\" does not.\r\n",
      "#    However, quoting fixes this.\r\n",
      "#           if \"[ -n \"$1\" ]\" works.\r\n",
      "#                    ^  ^    Careful!\r\n",
      "# It is always best to QUOTE the variables being tested.\r\n",
      "\r\n",
      "# This accomplishes the same thing, using \"pure\" if/then statements.\r\n",
      "if [ ! -z \"$1\" ]\r\n",
      "then\r\n",
      "  echo \"Argument #1 = $1\"\r\n",
      "fi\r\n",
      "\r\n",
      "if [ ! -z \"$2\" ]\r\n",
      "then\r\n",
      "  echo \"Argument #2 = $2\"\r\n",
      "  echo \"At least 2 arguments passed to script.\"\r\n",
      "else\r\n",
      "  echo \"Fewer than 2 arguments passed to script.\"\r\n",
      "fi\r\n",
      "# It's longer and more ponderous than using an \"and list\".\r\n",
      "\r\n",
      "exit $?\r\n"
     ]
    }
   ],
   "source": [
    "cat and_list.sh"
   ]
  },
  {
   "cell_type": "code",
   "execution_count": 3,
   "metadata": {
    "collapsed": false
   },
   "outputs": [
    {
     "name": "stdout",
     "output_type": "stream",
     "text": [
      "Argument #1 = liheyi\r\n",
      "Argument #2 = liheyuan\r\n",
      "At least 2 arguments passed to script.\r\n",
      "Argument #1 = liheyi\r\n",
      "Argument #2 = liheyuan\r\n",
      "At least 2 arguments passed to script.\r\n"
     ]
    }
   ],
   "source": [
    "bash and_list.sh liheyi liheyuan"
   ]
  },
  {
   "cell_type": "markdown",
   "metadata": {},
   "source": [
    "#### Example 26-2. Another command-line arg test using an and list"
   ]
  },
  {
   "cell_type": "code",
   "execution_count": 4,
   "metadata": {
    "collapsed": false
   },
   "outputs": [
    {
     "name": "stdout",
     "output_type": "stream",
     "text": [
      "#!/bin/bash\r\n",
      "\r\n",
      "ARGS=1        # Number of arguments expected.\r\n",
      "E_BADARGS=85  # Exit value if incorrect number of args passed.\r\n",
      "\r\n",
      "test $# -ne $ARGS && \\\r\n",
      "#    ^^^^^^^^^^^^ condition #1\r\n",
      "echo \"Usage: `basename $0` $ARGS argument(s)\" && exit $E_BADARGS\r\n",
      "#                                             ^^\r\n",
      "\r\n",
      "#  If condition #1 tests true (wrong number of args passed to script),\r\n",
      "#+ then the rest of the line executes, and script terminates.\r\n",
      "\r\n",
      "# Line below executes only if the above test fails.\r\n",
      "echo \"Correct number of arguments passed to this script.\"\r\n",
      "\r\n",
      "exit 0\r\n",
      "\r\n",
      "# To check exit value, do a \"echo $?\" after script termination.\r\n"
     ]
    }
   ],
   "source": [
    "cat and_list2.sh"
   ]
  },
  {
   "cell_type": "code",
   "execution_count": 5,
   "metadata": {
    "collapsed": false
   },
   "outputs": [
    {
     "name": "stdout",
     "output_type": "stream",
     "text": [
      "Usage: and_list2.sh 1 argument(s)\r\n"
     ]
    }
   ],
   "source": [
    "bash and_list2.sh"
   ]
  },
  {
   "cell_type": "code",
   "execution_count": 6,
   "metadata": {
    "collapsed": false
   },
   "outputs": [
    {
     "name": "stdout",
     "output_type": "stream",
     "text": [
      "Correct number of arguments passed to this script.\r\n"
     ]
    }
   ],
   "source": [
    "bash and_list2.sh liheyi"
   ]
  },
  {
   "cell_type": "markdown",
   "metadata": {},
   "source": [
    "Of course, an and list can also set variables to a default value."
   ]
  },
  {
   "cell_type": "code",
   "execution_count": null,
   "metadata": {
    "collapsed": true
   },
   "outputs": [],
   "source": [
    "arg1=$@ && [ -z \"$arg1\" ] && arg1=DEFAULT\n",
    "# Set $arg1 to command-line arguments, if any.\n",
    "# But . . . set to DEFAULT if not specified on command-line."
   ]
  },
  {
   "cell_type": "markdown",
   "metadata": {},
   "source": [
    "##### or list"
   ]
  },
  {
   "cell_type": "raw",
   "metadata": {},
   "source": [
    "command-1 || command-2 || command-3 || ... command-n"
   ]
  },
  {
   "cell_type": "markdown",
   "metadata": {},
   "source": [
    "Each command executes in turn for as long as the previous command returns false.   \n",
    "At the first true return, the command chain terminates   \n",
    "(the first command returning true is the last one to execute).   \n",
    "This is obviously the inverse of the \"and list\"."
   ]
  },
  {
   "cell_type": "markdown",
   "metadata": {},
   "source": [
    "#### Example 26-3. Using or lists in combination with an and list"
   ]
  },
  {
   "cell_type": "code",
   "execution_count": 9,
   "metadata": {
    "collapsed": false
   },
   "outputs": [
    {
     "name": "stdout",
     "output_type": "stream",
     "text": [
      "#!/bin/bash\r\n",
      "\r\n",
      "# delete.sh, a not-so-cunning file deletion utility.\r\n",
      "# Usage: delete filename\r\n",
      "\r\n",
      "E_BADARGS=85\r\n",
      "\r\n",
      "if [ -z \"$1\" ]\r\n",
      "then\r\n",
      "  echo \"Usage: `basename $0` filename\"\r\n",
      "  exit $E_BADARGS    # No arg? Bail out.\r\n",
      "else\r\n",
      "  file=$1            # Set filename.\r\n",
      "fi\r\n",
      "\r\n",
      "[ ! -f \"$file\" ] && echo \"File \\\"$file\\\" not found. \\\r\n",
      "Cowardly refusing to delete a nonexistent file.\"\r\n",
      "# AND LIST, to give error message if file not present.\r\n",
      "# Note echo message continuing on to a second line after an escape.\r\n",
      "\r\n",
      "[ ! -f \"$file\" ] || (rm -f $file; echo \"File \\\"$file\\\" deleted.\")\r\n",
      "# OR LIST, to delete file if present.\r\n",
      "\r\n",
      "# Note logic inversion above.\r\n",
      "# AND LIST executes on true, OR LIST on false.\r\n",
      "\r\n",
      "exit $?\r\n"
     ]
    }
   ],
   "source": [
    "cat delete.sh"
   ]
  },
  {
   "cell_type": "code",
   "execution_count": 10,
   "metadata": {
    "collapsed": false
   },
   "outputs": [
    {
     "name": "stdout",
     "output_type": "stream",
     "text": [
      "File \"file.txt\" not found. Cowardly refusing to delete a nonexistent file.\r\n"
     ]
    }
   ],
   "source": [
    "bash delete.sh file.txt"
   ]
  },
  {
   "cell_type": "code",
   "execution_count": 11,
   "metadata": {
    "collapsed": false
   },
   "outputs": [
    {
     "name": "stdout",
     "output_type": "stream",
     "text": [
      "File \"file.txt\" deleted.\r\n"
     ]
    }
   ],
   "source": [
    "touch file.txt\n",
    "bash delete.sh file.txt"
   ]
  },
  {
   "cell_type": "markdown",
   "metadata": {},
   "source": [
    "If the first command in an or list returns true, it will execute."
   ]
  },
  {
   "cell_type": "code",
   "execution_count": null,
   "metadata": {
    "collapsed": true
   },
   "outputs": [],
   "source": [
    "# ==> The following snippets from the /etc/rc.d/init.d/single\n",
    "#+==> script by Miquel van Smoorenburg\n",
    "#+==> illustrate use of \"and\" and \"or\" lists.\n",
    "# ==> \"Arrowed\" comments added by document author.\n",
    "\n",
    "[ -x /usr/bin/clear ] && /usr/bin/clear\n",
    "  # ==> If /usr/bin/clear exists, then invoke it.\n",
    "  # ==> Checking for the existence of a command before calling it\n",
    "  #+==> avoids error messages and other awkward consequences.\n",
    "  \n",
    "  # ==> . . .\n",
    "  \n",
    "# If they want to run something in single user mode, might as well run it...\n",
    "for i in /etc/rc1.d/S[0-9][0-9]* ; do\n",
    "        # Check if the script is there.\n",
    "        [ -x \"$i\" ] || continue\n",
    "  # ==> If corresponding file in $PWD *not* found,\n",
    "  #+==> then \"continue\" by jumping to the top of the loop.\n",
    "  \n",
    "        # Reject backup files and files generated by rpm.\n",
    "        case \"$1\" in\n",
    "                *.rpmsave|*.rpmorig|*.rpmnew|*~|*.orig)\n",
    "                continue;;\n",
    "        esac\n",
    "        [ \"$i\" = \"/etc/rc1.d/S00single\" ] && continue\n",
    "  # ==> Set script name, but don't execute it yet.\n",
    "        $i start\n",
    "done\n",
    "\n",
    "  # ==> . . ."
   ]
  },
  {
   "cell_type": "markdown",
   "metadata": {},
   "source": [
    "The exit status of an and list or an or list is the exit status of the last command executed."
   ]
  },
  {
   "cell_type": "markdown",
   "metadata": {},
   "source": [
    "Clever combinations of and and or lists are possible, but the logic may easily become convoluted and require\n",
    "close attention to operator precedence rules, and possibly extensive debugging."
   ]
  },
  {
   "cell_type": "code",
   "execution_count": 12,
   "metadata": {
    "collapsed": false
   },
   "outputs": [
    {
     "name": "stdout",
     "output_type": "stream",
     "text": [
      "false\r\n"
     ]
    }
   ],
   "source": [
    "# false\n",
    "false && true || echo false"
   ]
  },
  {
   "cell_type": "code",
   "execution_count": 13,
   "metadata": {
    "collapsed": false
   },
   "outputs": [
    {
     "name": "stdout",
     "output_type": "stream",
     "text": [
      "false\r\n"
     ]
    }
   ],
   "source": [
    "# Same result as\n",
    "( false && true ) || echo false"
   ]
  },
  {
   "cell_type": "code",
   "execution_count": 14,
   "metadata": {
    "collapsed": false
   },
   "outputs": [
    {
     "name": "stdout",
     "output_type": "stream",
     "text": []
    }
   ],
   "source": [
    "# But NOT\n",
    "# (nothing echoed)\n",
    "false && ( true || echo false )"
   ]
  },
  {
   "cell_type": "code",
   "execution_count": null,
   "metadata": {
    "collapsed": true
   },
   "outputs": [],
   "source": [
    "# Note left-to-right grouping and evaluation of statements.\n",
    "# It's usually best to avoid such complexities."
   ]
  },
  {
   "cell_type": "markdown",
   "metadata": {},
   "source": [
    "See Example A-7 and Example 7-4 for illustrations of using and / or list constructs to test variables."
   ]
  }
 ],
 "metadata": {
  "kernelspec": {
   "display_name": "Bash",
   "language": "bash",
   "name": "bash"
  },
  "language_info": {
   "codemirror_mode": "shell",
   "file_extension": ".sh",
   "mimetype": "text/x-sh",
   "name": "bash"
  }
 },
 "nbformat": 4,
 "nbformat_minor": 0
}
