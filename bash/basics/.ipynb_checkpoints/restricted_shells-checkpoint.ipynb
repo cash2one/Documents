{
 "cells": [
  {
   "cell_type": "markdown",
   "metadata": {},
   "source": [
    "## 22.Restricted Shells"
   ]
  },
  {
   "cell_type": "markdown",
   "metadata": {},
   "source": [
    "### Disabled commands in restricted shells\n",
    "Running a script or portion of a script in restricted mode disables certain commands that would otherwise be available. This is a security measure intended to limit the privileges of the script user and to minimize possible damage from running the script."
   ]
  },
  {
   "cell_type": "markdown",
   "metadata": {},
   "source": [
    "The following commands and actions are disabled:  \n",
    "\n",
    "1.Using cd to change the working directory.  \n",
    "2.Changing the values of the \\$PATH, \\$SHELL, \\$BASH_ENV, or \\$ENV environmental variables.  \n",
    "3.Reading or changing the $SHELLOPTS, shell environmental options.  \n",
    "4.Output redirection.  \n",
    "5.Invoking commands containing one or more /'s.  \n",
    "6.Invoking exec to substitute a different process for the shell.  \n",
    "7.Various other commands that would enable monkeying with or attempting to subvert the script for an unintended purpose.  \n",
    "8.Getting out of restricted mode within the script.  "
   ]
  },
  {
   "cell_type": "markdown",
   "metadata": {},
   "source": [
    "#### Example 22-1. Running a script in restricted mode"
   ]
  },
  {
   "cell_type": "code",
   "execution_count": 1,
   "metadata": {
    "collapsed": false
   },
   "outputs": [
    {
     "name": "stdout",
     "output_type": "stream",
     "text": [
      "#!/bin/bash\r\n",
      "\r\n",
      "#  Starting the script with \"#!/bin/bash -r\"\r\n",
      "#+ runs entire script in restricted mode.\r\n",
      "\r\n",
      "echo\r\n",
      "\r\n",
      "echo \"Changing directory\"\r\n",
      "cd /usr/local\r\n",
      "echo \"Now in `pwd`\"\r\n",
      "echo \"Coming back home\"\r\n",
      "cd\r\n",
      "echo \"Now in `pwd`\"\r\n",
      "echo\r\n",
      "# Everything up to here in normal, unrestricted mode.\r\n",
      "\r\n",
      "set -r\r\n",
      "# set --restricted   has same effect.\r\n",
      "echo \"==> Now in restricted mode. <==\"\r\n",
      "echo\r\n",
      "\r\n",
      "echo \"Attempting directory change in restricted mode.\"\r\n",
      "cd ..\r\n",
      "echo \"Still in `pwd`\"\r\n",
      "echo\r\n",
      "\r\n",
      "echo \"\\$SHELL = $SHELL\"\r\n",
      "echo \"Attempting to change shell in restricted mode.\"\r\n",
      "SHELL=\"/bin/ash\"\r\n",
      "echo \"\\$SHELL= $SHELL\"\r\n",
      "echo\r\n",
      "\r\n",
      "echo \"Attempting to redirect output in restricted mode.\"\r\n",
      "ls -l /usr/bin > bin.files\r\n",
      "ls -l bin.files   # Try to list attempted file creation effort.\r\n",
      "echo\r\n",
      "\r\n",
      "exit 0\r\n"
     ]
    }
   ],
   "source": [
    "cat restricted.sh"
   ]
  },
  {
   "cell_type": "code",
   "execution_count": 2,
   "metadata": {
    "collapsed": false
   },
   "outputs": [
    {
     "name": "stdout",
     "output_type": "stream",
     "text": [
      "\r\n",
      "Changing directory\r\n",
      "Now in /usr/local\r\n",
      "Coming back home\r\n",
      "Now in /home/liheyi\r\n",
      "\r\n",
      "==> Now in restricted mode. <==\r\n",
      "\r\n",
      "Attempting directory change in restricted mode.\r\n",
      "./restricted.sh: line 23: cd: restricted\r\n",
      "Still in /home/liheyi\r\n",
      "\r\n",
      "$SHELL = /bin/bash\r\n",
      "Attempting to change shell in restricted mode.\r\n",
      "./restricted.sh: line 29: SHELL: readonly variable\r\n",
      "$SHELL= /bin/bash\r\n",
      "\r\n",
      "Attempting to redirect output in restricted mode.\r\n",
      "./restricted.sh: line 34: bin.files: restricted: cannot redirect output\r\n",
      "ls: cannot access bin.files: No such file or directory\r\n",
      "\r\n"
     ]
    }
   ],
   "source": [
    "./restricted.sh"
   ]
  }
 ],
 "metadata": {
  "kernelspec": {
   "display_name": "Bash",
   "language": "bash",
   "name": "bash"
  },
  "language_info": {
   "codemirror_mode": "shell",
   "file_extension": ".sh",
   "mimetype": "text/x-sh",
   "name": "bash"
  }
 },
 "nbformat": 4,
 "nbformat_minor": 0
}
