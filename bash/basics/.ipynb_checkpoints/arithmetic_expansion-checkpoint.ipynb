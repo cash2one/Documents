{
 "cells": [
  {
   "cell_type": "markdown",
   "metadata": {},
   "source": [
    "## 13. Arithmetic Expansion"
   ]
  },
  {
   "cell_type": "markdown",
   "metadata": {},
   "source": [
    "Arithmetic expansion provides a powerful tool for performing (integer) arithmetic operations in scripts.  \n",
    "Translating a string into a numerical expression is relatively straightforward using backticks, double parentheses, or let."
   ]
  },
  {
   "cell_type": "markdown",
   "metadata": {},
   "source": [
    "#### Variations"
   ]
  },
  {
   "cell_type": "markdown",
   "metadata": {},
   "source": [
    "Arithmetic expansion with backticks (often used in conjunction with expr)"
   ]
  },
  {
   "cell_type": "code",
   "execution_count": 1,
   "metadata": {
    "collapsed": false
   },
   "outputs": [
    {
     "name": "stdout",
     "output_type": "stream",
     "text": [
      "3\r\n"
     ]
    }
   ],
   "source": [
    "# The 'expr' command performs the expansion.\n",
    "z=`expr $z + 3`\n",
    "echo \"$z\""
   ]
  },
  {
   "cell_type": "markdown",
   "metadata": {},
   "source": [
    "Arithmetic expansion with double parentheses, and using let"
   ]
  },
  {
   "cell_type": "markdown",
   "metadata": {},
   "source": [
    "The use of backticks (backquotes) in arithmetic expansion has been superseded   \n",
    "by double parentheses -- ((...)) and $((...))    \n",
    "and also by the very convenient let construction.  "
   ]
  },
  {
   "cell_type": "code",
   "execution_count": 1,
   "metadata": {
    "collapsed": false
   },
   "outputs": [
    {
     "name": "stdout",
     "output_type": "stream",
     "text": [
      "3\r\n"
     ]
    }
   ],
   "source": [
    "z=$(($z+3))\n",
    "echo \"$z\""
   ]
  },
  {
   "cell_type": "code",
   "execution_count": 1,
   "metadata": {
    "collapsed": false
   },
   "outputs": [
    {
     "name": "stdout",
     "output_type": "stream",
     "text": [
      "3\r\n"
     ]
    }
   ],
   "source": [
    "z=$((z+3))\n",
    "#  Also correct.\n",
    "#  Within double parentheses,\n",
    "#+ parameter dereferencing\n",
    "#+ is optional.\n",
    "\n",
    "echo \"$z\""
   ]
  },
  {
   "cell_type": "code",
   "execution_count": 2,
   "metadata": {
    "collapsed": false
   },
   "outputs": [
    {
     "name": "stdout",
     "output_type": "stream",
     "text": [
      "n = 0\r\n"
     ]
    }
   ],
   "source": [
    "# $((EXPRESSION)) is arithmetic expansion.   \n",
    "# Not to be confused with command substitution.\n",
    "\n",
    "# You may also use operations within double parentheses without assignment.\n",
    "n=0\n",
    "echo \"n = $n\""
   ]
  },
  {
   "cell_type": "code",
   "execution_count": 3,
   "metadata": {
    "collapsed": false
   },
   "outputs": [
    {
     "name": "stdout",
     "output_type": "stream",
     "text": [
      "n = 1\r\n"
     ]
    }
   ],
   "source": [
    "# (( $n += 1 )) is incorrect!\n",
    "(( n += 1 ))\n",
    "echo \"n = $n\""
   ]
  },
  {
   "cell_type": "code",
   "execution_count": 4,
   "metadata": {
    "collapsed": false
   },
   "outputs": [
    {
     "name": "stdout",
     "output_type": "stream",
     "text": [
      "z = 6\r\n"
     ]
    }
   ],
   "source": [
    "#  quotes permit the use of spaces in variable assignment.\n",
    "#  The 'let' operator actually performs arithmetic evaluation,\n",
    "#+ rather than expansion.\n",
    "\n",
    "let z=z+3\n",
    "echo \"z = $z\""
   ]
  },
  {
   "cell_type": "code",
   "execution_count": 5,
   "metadata": {
    "collapsed": false
   },
   "outputs": [
    {
     "name": "stdout",
     "output_type": "stream",
     "text": [
      "z = 9\r\n"
     ]
    }
   ],
   "source": [
    "let \"z += 3\"\n",
    "echo \"z = $z\""
   ]
  },
  {
   "cell_type": "markdown",
   "metadata": {},
   "source": [
    "#### Examples of arithmetic expansion in scripts:"
   ]
  },
  {
   "cell_type": "markdown",
   "metadata": {},
   "source": [
    "#### 1. Example 16-9"
   ]
  },
  {
   "cell_type": "markdown",
   "metadata": {},
   "source": [
    "#### 2. Example 11-15"
   ]
  },
  {
   "cell_type": "markdown",
   "metadata": {},
   "source": [
    "#### 3. Example 27-1"
   ]
  },
  {
   "cell_type": "markdown",
   "metadata": {},
   "source": [
    "#### 4. Example 27-11 "
   ]
  },
  {
   "cell_type": "markdown",
   "metadata": {},
   "source": [
    "#### 5. Example A-16"
   ]
  },
  {
   "cell_type": "code",
   "execution_count": null,
   "metadata": {
    "collapsed": true
   },
   "outputs": [],
   "source": []
  }
 ],
 "metadata": {
  "kernelspec": {
   "display_name": "Bash",
   "language": "bash",
   "name": "bash"
  },
  "language_info": {
   "codemirror_mode": "shell",
   "file_extension": ".sh",
   "mimetype": "text/x-sh",
   "name": "bash"
  }
 },
 "nbformat": 4,
 "nbformat_minor": 0
}
