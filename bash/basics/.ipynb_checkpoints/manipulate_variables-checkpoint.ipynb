{
 "cells": [
  {
   "cell_type": "markdown",
   "metadata": {},
   "source": [
    "## 10. Manipulating Variables"
   ]
  },
  {
   "cell_type": "markdown",
   "metadata": {},
   "source": [
    "### Manipulating Strings"
   ]
  },
  {
   "cell_type": "markdown",
   "metadata": {},
   "source": [
    "Bash supports a surprising number of string manipulation operations.   \n",
    "Unfortunately,these tools lack a unified focus.   \n",
    "Some are a subset of parameter substitution,and others fall under the functionality of the UNIX expr command.  \n",
    "This results in inconsistent command syntax and overlap of functionality,not to mention confusion."
   ]
  },
  {
   "cell_type": "markdown",
   "metadata": {},
   "source": [
    "#### String Length"
   ]
  },
  {
   "cell_type": "raw",
   "metadata": {},
   "source": [
    "${#string}\n",
    "expr length $string\n",
    "    These are the equivalent of strlen() in C.\n",
    "expr \"$string\" : '.*"
   ]
  },
  {
   "cell_type": "code",
   "execution_count": 1,
   "metadata": {
    "collapsed": false
   },
   "outputs": [
    {
     "name": "stdout",
     "output_type": "stream",
     "text": []
    }
   ],
   "source": [
    "stringZ=abcABC123ABCabc"
   ]
  },
  {
   "cell_type": "code",
   "execution_count": 2,
   "metadata": {
    "collapsed": false
   },
   "outputs": [
    {
     "name": "stdout",
     "output_type": "stream",
     "text": [
      "15\r\n"
     ]
    }
   ],
   "source": [
    "echo ${#stringZ}"
   ]
  },
  {
   "cell_type": "code",
   "execution_count": 3,
   "metadata": {
    "collapsed": false
   },
   "outputs": [
    {
     "name": "stdout",
     "output_type": "stream",
     "text": [
      "15\r\n"
     ]
    }
   ],
   "source": [
    "echo `expr length $stringZ`"
   ]
  },
  {
   "cell_type": "code",
   "execution_count": 4,
   "metadata": {
    "collapsed": false
   },
   "outputs": [
    {
     "name": "stdout",
     "output_type": "stream",
     "text": [
      "15\r\n"
     ]
    }
   ],
   "source": [
    "echo `expr \"$stringZ\" : '.*'`"
   ]
  },
  {
   "cell_type": "markdown",
   "metadata": {},
   "source": [
    "#### Example 10-1. Inserting a blank line between paragraphs in a text file"
   ]
  },
  {
   "cell_type": "code",
   "execution_count": 5,
   "metadata": {
    "collapsed": false
   },
   "outputs": [
    {
     "name": "stdout",
     "output_type": "stream",
     "text": [
      "#!/bin/bash\r\n",
      "# paragraph-space.sh\r\n",
      "\r\n",
      "# Inserts a blank line between paragraphs of a single-spaced text file.\r\n",
      "# Usage: $0 <FILENAME\r\n",
      "\r\n",
      "MINLEN=60        # Change this value? It's a judgment call.\r\n",
      "#  Assume lines shorter than $MINLEN characters ending in a period\r\n",
      "#+ terminate a paragraph. See exercises below.\r\n",
      "\r\n",
      "while read line  # For as many lines as the input file has ...\r\n",
      "do\r\n",
      "  echo \"$line\" # Output the line itself.\r\n",
      "  \r\n",
      "  len=${#line}\r\n",
      "  if [[ \"$len\" -lt \"$MINLEN\" && \"$line\" =~ [*{\\.}]$ ]]\r\n",
      "# if [[ \"$len\" -lt \"$MINLEN\" && \"$line\" =~ \\[*\\.\\] ]]\r\n",
      "# An update to Bash broke the previous version of this script. Ouch!\r\n",
      "  then echo    # Add a blank line immediately\r\n",
      "  fi           #+ after a short line terminated by a period.\r\n",
      "done\r\n",
      "\r\n",
      "exit 0\r\n"
     ]
    }
   ],
   "source": [
    "# The script:\n",
    "cat paragraph-space.sh"
   ]
  },
  {
   "cell_type": "code",
   "execution_count": 6,
   "metadata": {
    "collapsed": false
   },
   "outputs": [
    {
     "name": "stdout",
     "output_type": "stream",
     "text": [
      "This is the first line of file.\r\n",
      "This is the second line of file.\r\n",
      "This is the third line of file.\r\n",
      "This is the forth line of file.\r\n"
     ]
    }
   ],
   "source": [
    "# The test file\n",
    "cat test.txt"
   ]
  },
  {
   "cell_type": "code",
   "execution_count": 7,
   "metadata": {
    "collapsed": false
   },
   "outputs": [
    {
     "name": "stdout",
     "output_type": "stream",
     "text": [
      "This is the first line of file.\r\n",
      "\r\n",
      "This is the second line of file.\r\n",
      "\r\n",
      "This is the third line of file.\r\n",
      "\r\n",
      "This is the forth line of file.\r\n",
      "\r\n"
     ]
    }
   ],
   "source": [
    "./paragraph-space.sh < test.txt"
   ]
  },
  {
   "cell_type": "markdown",
   "metadata": {},
   "source": [
    "#### Length of Matching Substring at Beginning of String"
   ]
  },
  {
   "cell_type": "raw",
   "metadata": {},
   "source": [
    "expr match \"$string\" '$substring'\n",
    "    $substring is a regular expression.\n",
    "expr \"$string\" : '$substring'\n",
    "    $substring is a regular expression."
   ]
  },
  {
   "cell_type": "code",
   "execution_count": 8,
   "metadata": {
    "collapsed": false
   },
   "outputs": [
    {
     "name": "stdout",
     "output_type": "stream",
     "text": []
    }
   ],
   "source": [
    "stringZ=abcABC123ABCabc"
   ]
  },
  {
   "cell_type": "code",
   "execution_count": 9,
   "metadata": {
    "collapsed": false
   },
   "outputs": [
    {
     "name": "stdout",
     "output_type": "stream",
     "text": [
      "8\r\n"
     ]
    }
   ],
   "source": [
    "echo `expr match \"$stringZ\" 'abc[A-Z]*.2'`"
   ]
  },
  {
   "cell_type": "code",
   "execution_count": 10,
   "metadata": {
    "collapsed": false
   },
   "outputs": [
    {
     "name": "stdout",
     "output_type": "stream",
     "text": [
      "8\r\n"
     ]
    }
   ],
   "source": [
    "echo `expr \"$stringZ\" : 'abc[A-Z]*.2'`"
   ]
  },
  {
   "cell_type": "markdown",
   "metadata": {},
   "source": [
    "#### Index"
   ]
  },
  {
   "cell_type": "raw",
   "metadata": {},
   "source": [
    "expr index $string $substring\n",
    "    Numerical position in $string of first character in $substring that matches.\n",
    "    This is the near equivalent of strchr() in C."
   ]
  },
  {
   "cell_type": "code",
   "execution_count": 11,
   "metadata": {
    "collapsed": false
   },
   "outputs": [
    {
     "name": "stdout",
     "output_type": "stream",
     "text": []
    }
   ],
   "source": [
    "stringZ=abcABC123ABCabc"
   ]
  },
  {
   "cell_type": "code",
   "execution_count": 12,
   "metadata": {
    "collapsed": false
   },
   "outputs": [
    {
     "name": "stdout",
     "output_type": "stream",
     "text": [
      "6\r\n"
     ]
    }
   ],
   "source": [
    "echo `expr index \"$stringZ\" C12`"
   ]
  },
  {
   "cell_type": "code",
   "execution_count": 13,
   "metadata": {
    "collapsed": false
   },
   "outputs": [
    {
     "name": "stdout",
     "output_type": "stream",
     "text": [
      "3\r\n"
     ]
    }
   ],
   "source": [
    "# 'c' (in #3 position) matches before '1'.\n",
    "echo `expr index \"$stringZ\" 1c`"
   ]
  },
  {
   "cell_type": "markdown",
   "metadata": {},
   "source": [
    "#### Substring Extraction"
   ]
  },
  {
   "cell_type": "raw",
   "metadata": {},
   "source": [
    "${string:position}\n",
    "    Extracts substring from $string at $position.\n",
    "    If the $string parameter is \"*\" or \"@\",then this extracts the positional parameters,starting at $position.\n",
    "${string:position:length}\n",
    "    Extracts $length characters of substring from $string at $position."
   ]
  },
  {
   "cell_type": "code",
   "execution_count": 14,
   "metadata": {
    "collapsed": false
   },
   "outputs": [
    {
     "name": "stdout",
     "output_type": "stream",
     "text": []
    }
   ],
   "source": [
    "stringZ=abcABC123ABCabc"
   ]
  },
  {
   "cell_type": "code",
   "execution_count": 15,
   "metadata": {
    "collapsed": false
   },
   "outputs": [
    {
     "name": "stdout",
     "output_type": "stream",
     "text": [
      "abcABC123ABCabc\r\n"
     ]
    }
   ],
   "source": [
    "echo ${stringZ:0}"
   ]
  },
  {
   "cell_type": "code",
   "execution_count": 16,
   "metadata": {
    "collapsed": false
   },
   "outputs": [
    {
     "name": "stdout",
     "output_type": "stream",
     "text": [
      "bcABC123ABCabc\r\n"
     ]
    }
   ],
   "source": [
    "echo ${stringZ:1}"
   ]
  },
  {
   "cell_type": "code",
   "execution_count": 17,
   "metadata": {
    "collapsed": false
   },
   "outputs": [
    {
     "name": "stdout",
     "output_type": "stream",
     "text": [
      "23ABCabc\r\n"
     ]
    }
   ],
   "source": [
    "echo ${stringZ:7}"
   ]
  },
  {
   "cell_type": "code",
   "execution_count": 18,
   "metadata": {
    "collapsed": false
   },
   "outputs": [
    {
     "name": "stdout",
     "output_type": "stream",
     "text": [
      "23A\r\n"
     ]
    }
   ],
   "source": [
    "echo ${stringZ:7:3}"
   ]
  },
  {
   "cell_type": "code",
   "execution_count": 19,
   "metadata": {
    "collapsed": false
   },
   "outputs": [
    {
     "name": "stdout",
     "output_type": "stream",
     "text": [
      "abcABC123ABCabc\r\n"
     ]
    }
   ],
   "source": [
    "# Is it possible to index from the right end of the string?\n",
    "# Defaults to full string, as in ${parameter:-default}.\n",
    "echo ${stringZ:-4}"
   ]
  },
  {
   "cell_type": "code",
   "execution_count": 20,
   "metadata": {
    "collapsed": false
   },
   "outputs": [
    {
     "name": "stdout",
     "output_type": "stream",
     "text": [
      "Cabc\r\n"
     ]
    }
   ],
   "source": [
    "# However . . .\n",
    "echo ${stringZ:(-4)}"
   ]
  },
  {
   "cell_type": "code",
   "execution_count": 21,
   "metadata": {
    "collapsed": false
   },
   "outputs": [
    {
     "name": "stdout",
     "output_type": "stream",
     "text": [
      "Cabc\r\n"
     ]
    }
   ],
   "source": [
    "echo ${stringZ: -4}\n",
    "# Now, it works.\n",
    "# Parentheses or added space \"escape\" the position parameter."
   ]
  },
  {
   "cell_type": "markdown",
   "metadata": {},
   "source": [
    "The position and length arguments can be \"parameterized,\"   \n",
    "that is, represented as a variable, rather than as a numerical constant."
   ]
  },
  {
   "cell_type": "markdown",
   "metadata": {},
   "source": [
    "#### Example 10-2. Generating an 8-character \"random\" string"
   ]
  },
  {
   "cell_type": "code",
   "execution_count": 22,
   "metadata": {
    "collapsed": false
   },
   "outputs": [
    {
     "name": "stdout",
     "output_type": "stream",
     "text": [
      "#!/bin/bash\r\n",
      "# rand-string.sh\r\n",
      "# Generating an 8-character \"random\" string.\r\n",
      "\r\n",
      "if [ -n \"$1\" ]    # If command-line argument present,\r\n",
      "then              #+ then set start-string to it.\r\n",
      "    str0=\"$1\"\r\n",
      "else              # Else use PID of script as start-string.\r\n",
      "    str0=\"$$\"\r\n",
      "fi\r\n",
      "\r\n",
      "POS=2   # Starting from position 2 in the string.\r\n",
      "LEN=8   # Extract eight characters.\r\n",
      "\r\n",
      "str1=$( echo \"$str0\" | md5sum | md5sum )\r\n",
      "#  Doubly scramble     ^^^^^^   ^^^^^^\r\n",
      "#+ by piping and repiping to md5sum.\r\n",
      "\r\n",
      "randstring=\"${str1:$POS:$LEN}\"\r\n",
      "# Can parameterize ^^^^ ^^^^\r\n",
      "\r\n",
      "echo \"$randstring\"\r\n",
      "\r\n",
      "exit $?\r\n"
     ]
    }
   ],
   "source": [
    "cat rand-string.sh"
   ]
  },
  {
   "cell_type": "code",
   "execution_count": 23,
   "metadata": {
    "collapsed": false
   },
   "outputs": [
    {
     "name": "stdout",
     "output_type": "stream",
     "text": [
      "c49bf826\r\n"
     ]
    }
   ],
   "source": [
    "./rand-string.sh 'mypassword'"
   ]
  },
  {
   "cell_type": "raw",
   "metadata": {},
   "source": [
    "If the string parameter is \"*\" or \"@\",then this extracts a maximum of $length positional parameters,starting at $position."
   ]
  },
  {
   "cell_type": "code",
   "execution_count": null,
   "metadata": {
    "collapsed": true
   },
   "outputs": [],
   "source": [
    "echo ${*:2}    # Echoes second and following positional parameters.\n",
    "echo ${@:2}    # Same as above.\n",
    "echo ${*:2:3}  # Echoes three positional parameters, starting at second."
   ]
  },
  {
   "cell_type": "raw",
   "metadata": {},
   "source": [
    "expr substr $string $position $length\n",
    "    Extracts $length characters from $string starting at $position."
   ]
  },
  {
   "cell_type": "code",
   "execution_count": 24,
   "metadata": {
    "collapsed": false
   },
   "outputs": [
    {
     "name": "stdout",
     "output_type": "stream",
     "text": []
    }
   ],
   "source": [
    "stringZ=abcABC123ABCabc"
   ]
  },
  {
   "cell_type": "code",
   "execution_count": 25,
   "metadata": {
    "collapsed": false
   },
   "outputs": [
    {
     "name": "stdout",
     "output_type": "stream",
     "text": [
      "ab\r\n"
     ]
    }
   ],
   "source": [
    "echo `expr substr $stringZ 1 2`"
   ]
  },
  {
   "cell_type": "code",
   "execution_count": 26,
   "metadata": {
    "collapsed": false
   },
   "outputs": [
    {
     "name": "stdout",
     "output_type": "stream",
     "text": [
      "ABC\r\n"
     ]
    }
   ],
   "source": [
    "echo `expr substr $stringZ 4 3`"
   ]
  },
  {
   "cell_type": "raw",
   "metadata": {},
   "source": [
    "expr match \"$string\" '\\($substring\\)'\n",
    "    Extracts $substring at beginning of $string, where $substring is a regular expression.\n",
    "expr \"$string\" : '\\($substring\\)'\n",
    "    Extracts $substring at beginning of $string, where $substring is a regular expression."
   ]
  },
  {
   "cell_type": "code",
   "execution_count": 27,
   "metadata": {
    "collapsed": false
   },
   "outputs": [
    {
     "name": "stdout",
     "output_type": "stream",
     "text": []
    }
   ],
   "source": [
    "stringZ=abcABC123ABCabc"
   ]
  },
  {
   "cell_type": "code",
   "execution_count": 28,
   "metadata": {
    "collapsed": false
   },
   "outputs": [
    {
     "name": "stdout",
     "output_type": "stream",
     "text": [
      "abcABC1\r\n"
     ]
    }
   ],
   "source": [
    "echo `expr match \"$stringZ\" '\\(.[b-c]*[A-Z]..[0-9]\\)'`"
   ]
  },
  {
   "cell_type": "code",
   "execution_count": 29,
   "metadata": {
    "collapsed": false
   },
   "outputs": [
    {
     "name": "stdout",
     "output_type": "stream",
     "text": [
      "abcABC1\r\n"
     ]
    }
   ],
   "source": [
    "echo `expr \"$stringZ\" : '\\(.[b-c]*[A-Z]..[0-9]\\)'`"
   ]
  },
  {
   "cell_type": "code",
   "execution_count": 30,
   "metadata": {
    "collapsed": false
   },
   "outputs": [
    {
     "name": "stdout",
     "output_type": "stream",
     "text": [
      "abcABC1\r\n"
     ]
    }
   ],
   "source": [
    "echo `expr \"$stringZ\" : '\\(.......\\)'`"
   ]
  },
  {
   "cell_type": "raw",
   "metadata": {},
   "source": [
    "expr match \"$string\" '.*\\($substring\\)'\n",
    "    Extracts $substring at end of $string, where $substring is a regular expression.\n",
    "expr \"$string\" : '.*\\($substring\\)'\n",
    "    Extracts $substring at end of $string, where $substring is a regular expression."
   ]
  },
  {
   "cell_type": "code",
   "execution_count": 31,
   "metadata": {
    "collapsed": false
   },
   "outputs": [
    {
     "name": "stdout",
     "output_type": "stream",
     "text": []
    }
   ],
   "source": [
    "stringZ=abcABC123ABCabc"
   ]
  },
  {
   "cell_type": "code",
   "execution_count": 32,
   "metadata": {
    "collapsed": false
   },
   "outputs": [
    {
     "name": "stdout",
     "output_type": "stream",
     "text": [
      "ABCabc\r\n"
     ]
    }
   ],
   "source": [
    "echo `expr match \"$stringZ\" '.*\\([A-C][A-C][A-C][a-c]*\\)'`"
   ]
  },
  {
   "cell_type": "code",
   "execution_count": 33,
   "metadata": {
    "collapsed": false
   },
   "outputs": [
    {
     "name": "stdout",
     "output_type": "stream",
     "text": [
      "ABCabc\r\n"
     ]
    }
   ],
   "source": [
    "echo `expr \"$stringZ\" : '.*\\(......\\)'`"
   ]
  },
  {
   "cell_type": "markdown",
   "metadata": {},
   "source": [
    "#### Substring Removal"
   ]
  },
  {
   "cell_type": "raw",
   "metadata": {},
   "source": [
    "${string#substring}\n",
    "    Deletes shortest match of $substring from front of $string.\n",
    "${string##substring}\n",
    "    Deletes longest match of $substring from front of $string."
   ]
  },
  {
   "cell_type": "code",
   "execution_count": 34,
   "metadata": {
    "collapsed": false
   },
   "outputs": [
    {
     "name": "stdout",
     "output_type": "stream",
     "text": []
    }
   ],
   "source": [
    "stringZ=abcABC123ABCabc"
   ]
  },
  {
   "cell_type": "code",
   "execution_count": 35,
   "metadata": {
    "collapsed": false
   },
   "outputs": [
    {
     "name": "stdout",
     "output_type": "stream",
     "text": [
      "123ABCabc\r\n"
     ]
    }
   ],
   "source": [
    "# Strip out shortest match between 'a' and 'C'.\n",
    "echo ${stringZ#a*C}"
   ]
  },
  {
   "cell_type": "code",
   "execution_count": 36,
   "metadata": {
    "collapsed": false
   },
   "outputs": [
    {
     "name": "stdout",
     "output_type": "stream",
     "text": [
      "abc\r\n"
     ]
    }
   ],
   "source": [
    "# Strip out longest match between 'a' and 'C'.\n",
    "echo ${stringZ##a*C}"
   ]
  },
  {
   "cell_type": "code",
   "execution_count": 37,
   "metadata": {
    "collapsed": false
   },
   "outputs": [
    {
     "name": "stdout",
     "output_type": "stream",
     "text": []
    }
   ],
   "source": [
    "# You can parameterize the substrings.\n",
    "stringZ=abcABC123ABCabc\n",
    "X='a*C'"
   ]
  },
  {
   "cell_type": "code",
   "execution_count": 38,
   "metadata": {
    "collapsed": false
   },
   "outputs": [
    {
     "name": "stdout",
     "output_type": "stream",
     "text": [
      "123ABCabc\r\n"
     ]
    }
   ],
   "source": [
    "echo ${stringZ#$X}"
   ]
  },
  {
   "cell_type": "code",
   "execution_count": 39,
   "metadata": {
    "collapsed": false
   },
   "outputs": [
    {
     "name": "stdout",
     "output_type": "stream",
     "text": [
      "abc\r\n"
     ]
    }
   ],
   "source": [
    "echo ${stringZ##$X}"
   ]
  },
  {
   "cell_type": "raw",
   "metadata": {},
   "source": [
    "${string%substring}\n",
    "    Deletes shortest match of $substring from back of $string."
   ]
  },
  {
   "cell_type": "code",
   "execution_count": null,
   "metadata": {
    "collapsed": true
   },
   "outputs": [],
   "source": [
    "# Rename all filenames in $PWD with \"TXT\" suffix to a \"txt\" suffix.\n",
    "# For example, \"file1.TXT\" becomes \"file1.txt\" . . .\n",
    "\n",
    "SUFF=TXT\n",
    "suff=txt\n",
    "\n",
    "for i in $(ls *.$SUFF)\n",
    "do\n",
    "    mv -f $i ${i%.$SUFF}.$suff\n",
    "done"
   ]
  },
  {
   "cell_type": "raw",
   "metadata": {},
   "source": [
    "${string%%substring}\n",
    "    Deletes longest match of $substring from back of $string."
   ]
  },
  {
   "cell_type": "code",
   "execution_count": 40,
   "metadata": {
    "collapsed": false
   },
   "outputs": [
    {
     "name": "stdout",
     "output_type": "stream",
     "text": []
    }
   ],
   "source": [
    "stringZ=abcABC123ABCabc"
   ]
  },
  {
   "cell_type": "code",
   "execution_count": 41,
   "metadata": {
    "collapsed": false
   },
   "outputs": [
    {
     "name": "stdout",
     "output_type": "stream",
     "text": [
      "abcABC123ABCa\r\n"
     ]
    }
   ],
   "source": [
    "# Strip out shortest match between 'b' and 'c', from back of $stringZ.\n",
    "echo ${stringZ%b*c}"
   ]
  },
  {
   "cell_type": "code",
   "execution_count": 42,
   "metadata": {
    "collapsed": false
   },
   "outputs": [
    {
     "name": "stdout",
     "output_type": "stream",
     "text": [
      "a\r\n"
     ]
    }
   ],
   "source": [
    "# Strip out longest match between 'b' and 'c', from back of $stringZ.\n",
    "echo ${stringZ%%b*c}"
   ]
  },
  {
   "cell_type": "markdown",
   "metadata": {},
   "source": [
    "This operator is useful for generating filenames."
   ]
  },
  {
   "cell_type": "markdown",
   "metadata": {},
   "source": [
    "#### Example 10-3. Converting graphic file formats, with filename change"
   ]
  },
  {
   "cell_type": "code",
   "execution_count": 43,
   "metadata": {
    "collapsed": false
   },
   "outputs": [
    {
     "name": "stdout",
     "output_type": "stream",
     "text": [
      "#!/bin/bash\r\n",
      "#  cvt.sh:\r\n",
      "#  Converts all the MacPaint image files in a directory to \"pbm\" format.\r\n",
      "#  Uses the \"macptopbm\" binary from the \"netpbm\" package,\r\n",
      "#+ which is maintained by Brian Henderson (bryanh@giraffe-data.com).\r\n",
      "#  Netpbm is a standard part of most Linux distros.\r\n",
      "\r\n",
      "OPERATION=macptopbm\r\n",
      "SUFFIX=pbm         # New filename suffix.\r\n",
      "\r\n",
      "if [ -n \"$1\" ]\r\n",
      "then\r\n",
      "  directory=$1   # If directory name given as a script argument...\r\n",
      "else\r\n",
      "  directory=$PWD # Otherwise use current working directory.\r\n",
      "fi\r\n",
      "\r\n",
      "#  Assumes all files in the target directory are MacPaint image files,\r\n",
      "#+ with a \".mac\" filename suffix.\r\n",
      "\r\n",
      "for file in $directory/*      #  Filename globbing.\r\n",
      "do\r\n",
      "  filename=${file%.*c}      #  Strip \".mac\" suffix off filename\r\n",
      "                            #+ ('.*c' matches everything\r\n",
      "                            #+ between '.' and 'c', inclusive).\r\n",
      "  $OPERATION $file > \"$filename.$SUFFIX\"\r\n",
      "                            # Redirect conversion to new filename.\r\n",
      "  rm -f $file               # Delete original files after converting.\r\n",
      "  echo \"$filename.$SUFFIX\"  # Log what is happening to stdout.\r\n",
      "done\r\n",
      "\r\n",
      "exit 0\r\n",
      "\r\n",
      "# *** And here's another way to do it. *** #\r\n",
      "\r\n",
      "#!/bin/bash\r\n",
      "# Batch convert into different graphic formats.\r\n",
      "# Assumes imagemagick installed (standard in most Linux distros).\r\n",
      "\r\n",
      "INFMT=png     # Can be tif, jpg, gif, etc.\r\n",
      "OUTFMT=pdf    # Can be tif, jpg, gif, pdf, etc.\r\n",
      "for pic in *\"$INFMT\"\r\n",
      "do\r\n",
      "  p2=$(ls \"$pic\" | sed -e s/\\.$INFMT//)\r\n",
      "  # echo $p2\r\n",
      "  convert \"$pic\" $p2.$OUTFMT\r\n",
      "done\r\n",
      "\r\n",
      "exit $?\r\n"
     ]
    }
   ],
   "source": [
    "cat cvt.sh"
   ]
  },
  {
   "cell_type": "markdown",
   "metadata": {},
   "source": [
    "#### A simple emulation of getopt using substring-extraction constructs.\n",
    "#### Example 10-5. Emulating getopt"
   ]
  },
  {
   "cell_type": "code",
   "execution_count": 44,
   "metadata": {
    "collapsed": false
   },
   "outputs": [
    {
     "name": "stdout",
     "output_type": "stream",
     "text": [
      "#!/bin/bash\r\n",
      "# getopt-simple.sh\r\n",
      "\r\n",
      "getopt_simple()\r\n",
      "{\r\n",
      "  echo \"getopt_simple()\"\r\n",
      "  echo \"Parameters are '$*'\"\r\n",
      "  until [ -z \"$1\" ]\r\n",
      "  do\r\n",
      "  \techo \"Processing parameter of: '$1'\"\r\n",
      "  \tif [ ${1:0:1} = '/' ]\r\n",
      "  \tthen\r\n",
      "  \t  tmp=${1:1}            # Strip off leading '/' . . .\r\n",
      "  \t  parameter=${tmp%%=*}  # Extract name.\r\n",
      "  \t  value=${tmp##*=}      # Extract value.\r\n",
      "  \t  echo \"Parameter: '$parameter', value: '$value'\"\r\n",
      "  \t  eval $parameter=$value\r\n",
      "  \tfi\r\n",
      "  \tshift\r\n",
      "  done\r\n",
      "}\r\n",
      "\r\n",
      "# Pass all options to getopt_simple().\r\n",
      "getopt_simple $*\r\n",
      "echo \"test is '$test'\"\r\n",
      "echo \"test2 is '$test2'\"\r\n",
      "exit 0\r\n"
     ]
    }
   ],
   "source": [
    "cat getopt-simple.sh"
   ]
  },
  {
   "cell_type": "code",
   "execution_count": 46,
   "metadata": {
    "collapsed": false
   },
   "outputs": [
    {
     "name": "stdout",
     "output_type": "stream",
     "text": [
      "getopt_simple()\r\n",
      "Parameters are '/test=value1 /test2=value2'\r\n",
      "Processing parameter of: '/test=value1'\r\n",
      "Parameter: 'test', value: 'value1'\r\n",
      "Processing parameter of: '/test2=value2'\r\n",
      "Parameter: 'test2', value: 'value2'\r\n",
      "test is 'value1'\r\n",
      "test2 is 'value2'\r\n"
     ]
    }
   ],
   "source": [
    "./getopt-simple.sh /test=value1 /test2=value2"
   ]
  },
  {
   "cell_type": "markdown",
   "metadata": {},
   "source": [
    "#### Substring Replacement"
   ]
  },
  {
   "cell_type": "raw",
   "metadata": {},
   "source": [
    "${string/substring/replacement}\n",
    "    Replace first match of $substring with $replacement. [50]\n",
    "${string//substring/replacement}\n",
    "    Replace all matches of $substring with $replacement."
   ]
  },
  {
   "cell_type": "code",
   "execution_count": 47,
   "metadata": {
    "collapsed": false
   },
   "outputs": [
    {
     "name": "stdout",
     "output_type": "stream",
     "text": []
    }
   ],
   "source": [
    "stringZ=abcABC123ABCabc"
   ]
  },
  {
   "cell_type": "code",
   "execution_count": 48,
   "metadata": {
    "collapsed": false
   },
   "outputs": [
    {
     "name": "stdout",
     "output_type": "stream",
     "text": [
      "xyzABC123ABCabc\r\n"
     ]
    }
   ],
   "source": [
    "# Replaces first match of 'abc' with 'xyz'.\n",
    "echo ${stringZ/abc/xyz}"
   ]
  },
  {
   "cell_type": "code",
   "execution_count": 49,
   "metadata": {
    "collapsed": false
   },
   "outputs": [
    {
     "name": "stdout",
     "output_type": "stream",
     "text": [
      "xyzABC123ABCxyz\r\n"
     ]
    }
   ],
   "source": [
    "# Replaces all matches of 'abc' with # 'xyz'.\n",
    "echo ${stringZ//abc/xyz}"
   ]
  },
  {
   "cell_type": "code",
   "execution_count": 50,
   "metadata": {
    "collapsed": false
   },
   "outputs": [
    {
     "name": "stdout",
     "output_type": "stream",
     "text": [
      "abcABC123ABCabc\r\n"
     ]
    }
   ],
   "source": [
    "# The string itself is not altered!\n",
    "echo \"$stringZ\""
   ]
  },
  {
   "cell_type": "code",
   "execution_count": 51,
   "metadata": {
    "collapsed": false
   },
   "outputs": [
    {
     "name": "stdout",
     "output_type": "stream",
     "text": [
      "000ABC123ABCabc\r\n"
     ]
    }
   ],
   "source": [
    "# Can the match and replacement strings be parameterized\n",
    "match=abc\n",
    "repl=000\n",
    "echo ${stringZ/$match/$repl}"
   ]
  },
  {
   "cell_type": "code",
   "execution_count": 52,
   "metadata": {
    "collapsed": false
   },
   "outputs": [
    {
     "name": "stdout",
     "output_type": "stream",
     "text": [
      "000ABC123ABC000\r\n"
     ]
    }
   ],
   "source": [
    "echo ${stringZ//$match/$repl}"
   ]
  },
  {
   "cell_type": "code",
   "execution_count": 53,
   "metadata": {
    "collapsed": false
   },
   "outputs": [
    {
     "name": "stdout",
     "output_type": "stream",
     "text": [
      "ABC123ABCabc\r\n"
     ]
    }
   ],
   "source": [
    "# What happens if no $replacement string is supplied?\n",
    "# A simple deletion takes place\n",
    "echo ${stringZ/abc}"
   ]
  },
  {
   "cell_type": "code",
   "execution_count": 54,
   "metadata": {
    "collapsed": false
   },
   "outputs": [
    {
     "name": "stdout",
     "output_type": "stream",
     "text": [
      "ABC123ABC\r\n"
     ]
    }
   ],
   "source": [
    "echo ${stringZ//abc}"
   ]
  },
  {
   "cell_type": "raw",
   "metadata": {},
   "source": [
    "${string/#substring/replacement}\n",
    "    If $substring matches front end of $string, substitute $replacement for $substring.\n",
    "${string/%substring/replacement}\n",
    "    If $substring matches back end of $string, substitute $replacement for $substring."
   ]
  },
  {
   "cell_type": "code",
   "execution_count": 55,
   "metadata": {
    "collapsed": false
   },
   "outputs": [
    {
     "name": "stdout",
     "output_type": "stream",
     "text": []
    }
   ],
   "source": [
    "stringZ=abcABC123ABCabc"
   ]
  },
  {
   "cell_type": "code",
   "execution_count": 56,
   "metadata": {
    "collapsed": false
   },
   "outputs": [
    {
     "name": "stdout",
     "output_type": "stream",
     "text": [
      "XYZABC123ABCabc\r\n"
     ]
    }
   ],
   "source": [
    "# Replaces front-end match of 'abc' with 'XYZ'.\n",
    "echo ${stringZ/#abc/XYZ}"
   ]
  },
  {
   "cell_type": "code",
   "execution_count": 57,
   "metadata": {
    "collapsed": false
   },
   "outputs": [
    {
     "name": "stdout",
     "output_type": "stream",
     "text": [
      "abcABC123ABCXYZ\r\n"
     ]
    }
   ],
   "source": [
    "# Replaces back-end match of 'abc' with 'XYZ'.\n",
    "echo ${stringZ/%abc/XYZ}"
   ]
  },
  {
   "cell_type": "markdown",
   "metadata": {},
   "source": [
    "#### Manipulating strings using awk"
   ]
  },
  {
   "cell_type": "markdown",
   "metadata": {},
   "source": [
    "A Bash script may invoke the string manipulation facilities of awk as an alternative to using its built-in operations."
   ]
  },
  {
   "cell_type": "markdown",
   "metadata": {},
   "source": [
    "#### Example 10-6. Alternate ways of extracting and locating substrings"
   ]
  },
  {
   "cell_type": "code",
   "execution_count": 58,
   "metadata": {
    "collapsed": false
   },
   "outputs": [
    {
     "name": "stdout",
     "output_type": "stream",
     "text": [
      "#!/bin/bash\r\n",
      "# substring-extraction.sh\r\n",
      "\r\n",
      "String=23skidoo1\r\n",
      "#      012345678 Bash\r\n",
      "#      123456789 awk\r\n",
      "# Note different string indexing system:\r\n",
      "# Bash numbers first character of string as 0.\r\n",
      "# Awk  numbers first character of string as 1.\r\n",
      "\r\n",
      "echo ${String:2:4}  # position 3 (0-1-2), 4 characters long\r\n",
      "\r\n",
      "# The awk equivalent of ${string:pos:length} is substr(string,pos,length).\r\n",
      "echo | awk '\r\n",
      "{\r\n",
      "  print substr(\"'\"${String}\"'\",3,4)\r\n",
      "}\r\n",
      "'\r\n",
      "#  Piping an empty \"echo\" to awk gives it dummy input,\r\n",
      "#+ and thus makes it unnecessary to supply a filename.\r\n",
      "\r\n",
      "# And likewise:\r\n",
      "# The awk equivalent of \"expr index\" ...\r\n",
      "echo | awk '\r\n",
      "{\r\n",
      "  print index(\"'\"${String}\"'\", \"skid\")\r\n",
      "}\r\n",
      "'\r\n",
      "\r\n",
      "exit 0\r\n"
     ]
    }
   ],
   "source": [
    "cat substring-extraction.sh"
   ]
  },
  {
   "cell_type": "code",
   "execution_count": 59,
   "metadata": {
    "collapsed": false
   },
   "outputs": [
    {
     "name": "stdout",
     "output_type": "stream",
     "text": [
      "skid\r\n",
      "skid\r\n",
      "3\r\n"
     ]
    }
   ],
   "source": [
    "./substring-extraction.sh"
   ]
  },
  {
   "cell_type": "markdown",
   "metadata": {},
   "source": [
    "#### Further Reference"
   ]
  },
  {
   "cell_type": "markdown",
   "metadata": {},
   "source": [
    "For more on string manipulation in scripts,refer to Section 10.2 and the relevant section of the expr command listing."
   ]
  },
  {
   "cell_type": "markdown",
   "metadata": {},
   "source": [
    "Script examples:  \n",
    "1. Example 16-9  \n",
    "2. Example 10-9  \n",
    "3. Example 10-10  \n",
    "4. Example 10-11  \n",
    "5. Example 10-13  \n",
    "6. Example A-36  \n",
    "7. Example A-41  "
   ]
  },
  {
   "cell_type": "markdown",
   "metadata": {},
   "source": [
    "### Parameter Substitution"
   ]
  },
  {
   "cell_type": "markdown",
   "metadata": {},
   "source": [
    "#### Manipulating and/or expanding variables"
   ]
  },
  {
   "cell_type": "raw",
   "metadata": {},
   "source": [
    "${parameter}\n",
    "    Same as $parameter, i.e., value of the variable parameter. \n",
    "    In certain contexts, only the less ambiguous ${parameter} form works.\n",
    "    May be used for concatenating variables with strings."
   ]
  },
  {
   "cell_type": "code",
   "execution_count": 60,
   "metadata": {
    "collapsed": false
   },
   "outputs": [
    {
     "name": "stdout",
     "output_type": "stream",
     "text": [
      "liheyi-on-analysis\r\n"
     ]
    }
   ],
   "source": [
    "your_id=${USER}-on-${HOSTNAME}\n",
    "echo \"$your_id\""
   ]
  },
  {
   "cell_type": "code",
   "execution_count": 1,
   "metadata": {
    "collapsed": false
   },
   "outputs": [
    {
     "name": "stdout",
     "output_type": "stream",
     "text": [
      "Old $PATH = /home/liheyi/anaconda2/bin\r\n",
      "/usr/local/sbin\r\n",
      "/usr/local/bin\r\n",
      "/usr/sbin\r\n",
      "/usr/bin\r\n",
      "/sbin\r\n",
      "/bin\r\n",
      "/usr/games\r\n",
      "/usr/local/games\r\n"
     ]
    }
   ],
   "source": [
    "echo \"Old \\$PATH = $PATH\" | tr ':' '\\n'"
   ]
  },
  {
   "cell_type": "code",
   "execution_count": 2,
   "metadata": {
    "collapsed": false
   },
   "outputs": [
    {
     "name": "stdout",
     "output_type": "stream",
     "text": [
      "New $PATH = /home/liheyi/anaconda2/bin\r\n",
      "/usr/local/sbin\r\n",
      "/usr/local/bin\r\n",
      "/usr/sbin\r\n",
      "/usr/bin\r\n",
      "/sbin\r\n",
      "/bin\r\n",
      "/usr/games\r\n",
      "/usr/local/games\r\n",
      "/opt/bin\r\n"
     ]
    }
   ],
   "source": [
    "# Add /opt/bin to $PATH for duration of script.\n",
    "PATH=${PATH}:/opt/bin\n",
    "echo \"New \\$PATH = $PATH\" | tr ':' '\\n'"
   ]
  },
  {
   "cell_type": "raw",
   "metadata": {
    "collapsed": true
   },
   "source": [
    "${parameter-default}\n",
    "${parameter:-default}\n",
    "    If parameter not set, use default."
   ]
  },
  {
   "cell_type": "code",
   "execution_count": 3,
   "metadata": {
    "collapsed": false
   },
   "outputs": [
    {
     "name": "stdout",
     "output_type": "stream",
     "text": [
      "1\r\n"
     ]
    }
   ],
   "source": [
    "var1=1\n",
    "var2=2\n",
    "# var3 is unset.\n",
    "\n",
    "echo ${var1-$var2}"
   ]
  },
  {
   "cell_type": "code",
   "execution_count": 4,
   "metadata": {
    "collapsed": false
   },
   "outputs": [
    {
     "name": "stdout",
     "output_type": "stream",
     "text": [
      "2\r\n"
     ]
    }
   ],
   "source": [
    "echo ${var3-$var2}"
   ]
  },
  {
   "cell_type": "code",
   "execution_count": 5,
   "metadata": {
    "collapsed": false
   },
   "outputs": [
    {
     "name": "stdout",
     "output_type": "stream",
     "text": [
      "liheyi\r\n"
     ]
    }
   ],
   "source": [
    "# Echoes the result of `whoami`, \n",
    "# if variable $username is still unset.\n",
    "echo ${username-`whoami`}"
   ]
  },
  {
   "cell_type": "raw",
   "metadata": {},
   "source": [
    "${parameter-default} and ${parameter:-default} are almost equivalent. \n",
    "The extra : makes a difference only when parameter has been declared,but is null."
   ]
  },
  {
   "cell_type": "code",
   "execution_count": 6,
   "metadata": {
    "collapsed": false
   },
   "outputs": [
    {
     "name": "stdout",
     "output_type": "stream",
     "text": [
      "#!/bin/bash\r\n",
      "# param-sub.sh\r\n",
      "\r\n",
      "#  Whether a variable has been declared\r\n",
      "#+ affects triggering of the default option\r\n",
      "#+ even if the variable is null.\r\n",
      "\r\n",
      "username0=\r\n",
      "echo \"username0 has been declared, but is set to null.\"\r\n",
      "# Will not echo.\r\n",
      "echo \"username0 = ${username0-`whoami`}\"\r\n",
      "\r\n",
      "echo\r\n",
      "echo \"username1 has not been declared.\"\r\n",
      "# Will echo.\r\n",
      "echo \"username1 = ${username1-`whoami`}\"\r\n",
      "\r\n",
      "username2=\r\n",
      "echo \"username2 has been declared, but is set to null.\"\r\n",
      "# Will echo because of :- rather than just - in condition test.\r\n",
      "# Compare to first instance, above.\r\n",
      "echo \"username2 = ${username2:-`whoami`}\"\r\n",
      "\r\n",
      "# Once again:\r\n",
      "variable=\r\n",
      "echo \"variable has been declared, but is set to null.\"\r\n",
      "echo \"${variable-0}\"  # (no output)\r\n",
      "echo \"${variable:-1}\" # 1\r\n",
      "\r\n",
      "unset variable\r\n",
      "echo \"${variable-2}\"  # 2\r\n",
      "echo \"${variable:-3}\" # 3\r\n",
      "\r\n",
      "exit 0\r\n"
     ]
    }
   ],
   "source": [
    "cat param-sub.sh"
   ]
  },
  {
   "cell_type": "code",
   "execution_count": 7,
   "metadata": {
    "collapsed": false
   },
   "outputs": [
    {
     "name": "stdout",
     "output_type": "stream",
     "text": [
      "username0 has been declared, but is set to null.\r\n",
      "username0 = \r\n",
      "\r\n",
      "username1 has not been declared.\r\n",
      "username1 = liheyi\r\n",
      "username2 has been declared, but is set to null.\r\n",
      "username2 = liheyi\r\n",
      "variable has been declared, but is set to null.\r\n",
      "\r\n",
      "1\r\n",
      "2\r\n",
      "3\r\n"
     ]
    }
   ],
   "source": [
    "./param-sub.sh"
   ]
  },
  {
   "cell_type": "markdown",
   "metadata": {},
   "source": [
    "The default parameter construct finds use in providing \"missing\" command-line arguments in scripts."
   ]
  },
  {
   "cell_type": "code",
   "execution_count": null,
   "metadata": {
    "collapsed": true
   },
   "outputs": [],
   "source": [
    "DEFAULT_FILENAME=generic.data\n",
    "filename=${1:-$DEFAULT_FILENAME}\n",
    "# If not otherwise specified, the following command block operates\n",
    "#+ on the file \"generic.data\".\n",
    "# Begin-Command-Block\n",
    "# ...\n",
    "# ...\n",
    "# ...\n",
    "# End-Command-Block\n",
    "# From \"hanoi2.bash\" example:\n",
    "DISKS=${1:-E_NOPARAM} # Must specify how many disks.\n",
    "# Set $DISKS to $1 command-line-parameter,\n",
    "#+ or to $E_NOPARAM if that is unset."
   ]
  },
  {
   "cell_type": "markdown",
   "metadata": {},
   "source": [
    "Compare this method with using an and list to supply a default command-line argument."
   ]
  },
  {
   "cell_type": "code",
   "execution_count": null,
   "metadata": {
    "collapsed": true
   },
   "outputs": [],
   "source": [
    "# Set $arg1 to command-line arguments, if any.\n",
    "# But . . . set to DEFAULT if not specified on command-line.\n",
    "arg1=$@ && [ -z \"$arg1\" ] && arg1=DEFAULT"
   ]
  },
  {
   "cell_type": "raw",
   "metadata": {},
   "source": [
    "${parameter=default}\n",
    "${parameter:=default}\n",
    "    If parameter not set, set it to default.\n",
    "    Both forms nearly equivalent.\n",
    "    The : makes a difference only when $parameter has been declared and is null, as above."
   ]
  },
  {
   "cell_type": "code",
   "execution_count": 8,
   "metadata": {
    "collapsed": false
   },
   "outputs": [
    {
     "name": "stdout",
     "output_type": "stream",
     "text": [
      "abc\r\n"
     ]
    }
   ],
   "source": [
    "echo ${var=abc}"
   ]
  },
  {
   "cell_type": "code",
   "execution_count": 9,
   "metadata": {
    "collapsed": false
   },
   "outputs": [
    {
     "name": "stdout",
     "output_type": "stream",
     "text": [
      "abc\r\n"
     ]
    }
   ],
   "source": [
    "# $var had already been set to abc, so it did not change.\n",
    "echo ${var=xyz}"
   ]
  },
  {
   "cell_type": "raw",
   "metadata": {},
   "source": [
    "${parameter+alt_value}\n",
    "${parameter:+alt_value}\n",
    "    If parameter set, use alt_value, else use null string.\n",
    "    Both forms nearly equivalent. \n",
    "    The : makes a difference only when parameter has been declared and is null, see below"
   ]
  },
  {
   "cell_type": "code",
   "execution_count": 10,
   "metadata": {
    "collapsed": false
   },
   "outputs": [
    {
     "name": "stdout",
     "output_type": "stream",
     "text": [
      "a = \r\n"
     ]
    }
   ],
   "source": [
    "###### \\${parameter+alt_value} ########\n",
    "a=${param1+xyz}\n",
    "echo \"a = $a\""
   ]
  },
  {
   "cell_type": "code",
   "execution_count": 11,
   "metadata": {
    "collapsed": false
   },
   "outputs": [
    {
     "name": "stdout",
     "output_type": "stream",
     "text": [
      "a = xyz\r\n"
     ]
    }
   ],
   "source": [
    "param2=\n",
    "a=${param2+xyz}\n",
    "echo \"a = $a\""
   ]
  },
  {
   "cell_type": "code",
   "execution_count": 12,
   "metadata": {
    "collapsed": false
   },
   "outputs": [
    {
     "name": "stdout",
     "output_type": "stream",
     "text": [
      "a = xyz\r\n"
     ]
    }
   ],
   "source": [
    "param3=123\n",
    "a=${param3+xyz}\n",
    "echo \"a = $a\""
   ]
  },
  {
   "cell_type": "code",
   "execution_count": 13,
   "metadata": {
    "collapsed": false
   },
   "outputs": [
    {
     "name": "stdout",
     "output_type": "stream",
     "text": [
      "a = \r\n"
     ]
    }
   ],
   "source": [
    "###### \\${parameter:+alt_value} ########\n",
    "a=${param4:+xyz}\n",
    "echo \"a = $a\""
   ]
  },
  {
   "cell_type": "code",
   "execution_count": 14,
   "metadata": {
    "collapsed": false
   },
   "outputs": [
    {
     "name": "stdout",
     "output_type": "stream",
     "text": [
      "a = \r\n"
     ]
    }
   ],
   "source": [
    "# Different result from a=${param5+xyz}\n",
    "param5=\n",
    "a=${param5:+xyz}\n",
    "echo \"a = $a\""
   ]
  },
  {
   "cell_type": "code",
   "execution_count": 15,
   "metadata": {
    "collapsed": false
   },
   "outputs": [
    {
     "name": "stdout",
     "output_type": "stream",
     "text": [
      "a = xyz\r\n"
     ]
    }
   ],
   "source": [
    "param6=123\n",
    "a=${param6:+xyz}\n",
    "echo \"a = $a\""
   ]
  },
  {
   "cell_type": "raw",
   "metadata": {},
   "source": [
    "${parameter?err_msg}\n",
    "${parameter:?err_msg}\n",
    "    If parameter set, use it, else print err_msg and abort the script with an exit status of 1.\n",
    "    Both forms nearly equivalent. \n",
    "    The : makes a difference only when parameter has been declared and is null, as above."
   ]
  },
  {
   "cell_type": "markdown",
   "metadata": {},
   "source": [
    "#### Example 10-7. Using parameter substitution and error messages"
   ]
  },
  {
   "cell_type": "code",
   "execution_count": 16,
   "metadata": {
    "collapsed": false
   },
   "outputs": [
    {
     "name": "stdout",
     "output_type": "stream",
     "text": [
      "#!/bin/bash\r\n",
      "#  Check some of the system's environmental variables.\r\n",
      "#  This is good preventative maintenance.\r\n",
      "#  If, for example, $USER, the name of the person at the console, is not set,\r\n",
      "#+ the machine will not recognize you.\r\n",
      "\r\n",
      ": ${HOSTNAME?} ${USER?} ${HOME?} ${MAIL?}\r\n",
      "echo\r\n",
      "echo \"Name of the machine is $HOSTNAME.\"\r\n",
      "echo \"You are $USER.\"\r\n",
      "echo \"Your home directory is $HOME.\"\r\n",
      "echo \"Your mail INBOX is located in $MAIL.\"\r\n",
      "echo\r\n",
      "echo \"If you are reading this message,\"\r\n",
      "echo \"critical environmental variables have been set.\"\r\n",
      "echo\r\n",
      "\r\n",
      "#  The ${variablename?} construction can also check\r\n",
      "#+ for variables set within the script.\r\n",
      "\r\n",
      "ThisVariable=Value-of-ThisVariable\r\n",
      "#  Note, by the way, that string variables may be set\r\n",
      "#+ to characters disallowed in their names.\r\n",
      ": ${ThisVariable?}\r\n",
      "echo \"Value of ThisVariable is $ThisVariable\".\r\n",
      "echo\r\n",
      "\r\n",
      "# Since ZZXy23AB has not been set,\r\n",
      "#+ then the script terminates with an error message.\r\n",
      ": ${ZZXy23AB?\"ZZXy23AB has not been set.\"}\r\n",
      "\r\n",
      "# You can specify the error message.\r\n",
      "# : ${variablename?\"ERROR MESSAGE\"}\r\n",
      "\r\n",
      "# Same result with: dummy_variable=${ZZXy23AB?}\r\n",
      "#                   dummy_variable=${ZZXy23AB?\"ZXy23AB has not been set.\"}\r\n",
      "#\r\n",
      "#                   echo ${ZZXy23AB?} >/dev/null\r\n",
      "#  Compare these methods of checking whether a variable has been set\r\n",
      "#+ with \"set -u\" . . .\r\n",
      "\r\n",
      "echo \"You will not see this message, because script already terminated.\"\r\n",
      "\r\n",
      "HERE=0\r\n",
      "exit $HERE # Will NOT exit here.\r\n",
      "# In fact, this script will return an exit status (echo $?) of 1.\r\n"
     ]
    }
   ],
   "source": [
    "cat param-sub.sh"
   ]
  },
  {
   "cell_type": "code",
   "execution_count": 17,
   "metadata": {
    "collapsed": false
   },
   "outputs": [
    {
     "name": "stdout",
     "output_type": "stream",
     "text": [
      "\r\n",
      "Name of the machine is analysis.\r\n",
      "You are liheyi.\r\n",
      "Your home directory is /home/liheyi.\r\n",
      "Your mail INBOX is located in /var/mail/liheyi.\r\n",
      "\r\n",
      "If you are reading this message,\r\n",
      "critical environmental variables have been set.\r\n",
      "\r\n",
      "Value of ThisVariable is Value-of-ThisVariable.\r\n",
      "\r\n",
      "./param-sub.sh: line 30: ZZXy23AB: ZZXy23AB has not been set.\r\n"
     ]
    }
   ],
   "source": [
    "./param-sub.sh"
   ]
  },
  {
   "cell_type": "markdown",
   "metadata": {},
   "source": [
    "#### Example 10-8. Parameter substitution and \"usage\" messages"
   ]
  },
  {
   "cell_type": "code",
   "execution_count": 18,
   "metadata": {
    "collapsed": false
   },
   "outputs": [
    {
     "name": "stdout",
     "output_type": "stream",
     "text": [
      "#!/bin/bash\r\n",
      "# usage-message.sh\r\n",
      "\r\n",
      ": ${1?\"Usage: $0 ARGUMENT\"}\r\n",
      "#  Script exits here if command-line parameter absent,\r\n",
      "#+ with following error message.\r\n",
      "#  usage-message.sh: 1: Usage: usage-message.sh ARGUMENT\r\n",
      "\r\n",
      "echo \"These two lines echo only if command-line parameter given.\"\r\n",
      "echo \"command-line parameter = \\\"$1\\\"\"\r\n",
      "\r\n",
      "# Will exit here only if command-line parameter present.\r\n",
      "exit 0\r\n",
      "\r\n",
      "# Check the exit status, both with and without command-line parameter.\r\n",
      "# If command-line parameter present, then \"$?\" is 0.\r\n",
      "# If not, then \"$?\" is 1.\r\n"
     ]
    }
   ],
   "source": [
    "cat usage-message.sh"
   ]
  },
  {
   "cell_type": "code",
   "execution_count": 19,
   "metadata": {
    "collapsed": false
   },
   "outputs": [
    {
     "name": "stdout",
     "output_type": "stream",
     "text": [
      "./usage-message.sh: line 4: 1: Usage: ./usage-message.sh ARGUMENT\r\n"
     ]
    }
   ],
   "source": [
    "# When command line absent\n",
    "./usage-message.sh"
   ]
  },
  {
   "cell_type": "code",
   "execution_count": 21,
   "metadata": {
    "collapsed": false
   },
   "outputs": [
    {
     "name": "stdout",
     "output_type": "stream",
     "text": [
      "These two lines echo only if command-line parameter given.\r\n",
      "command-line parameter = \"liheyi\"\r\n"
     ]
    }
   ],
   "source": [
    "./usage-message.sh liheyi"
   ]
  },
  {
   "cell_type": "markdown",
   "metadata": {},
   "source": [
    "Parameter substitution and/or expansion.   \n",
    "The following expressions are the complement to the match in expr string operations (see Example 16-9).   \n",
    "These particular ones are used mostly in parsing file path names."
   ]
  },
  {
   "cell_type": "markdown",
   "metadata": {},
   "source": [
    "#### Variable length / Substring removal"
   ]
  },
  {
   "cell_type": "raw",
   "metadata": {},
   "source": [
    "${#var}\n",
    "    String length (number of characters in $var). \n",
    "    For an array, ${#array} is the length of the first element in the array.\n",
    "    \n",
    "    Exceptions:\n",
    "    ${#*} and ${#@} give the number of positional parameters.\n",
    "    For an array, ${#array[*]} and ${#array[@]} give the number of elements in the array."
   ]
  },
  {
   "cell_type": "markdown",
   "metadata": {},
   "source": [
    "#### Example 10-9. Length of a variable"
   ]
  },
  {
   "cell_type": "code",
   "execution_count": 22,
   "metadata": {
    "collapsed": false
   },
   "outputs": [
    {
     "name": "stdout",
     "output_type": "stream",
     "text": [
      "#!/bin/bash\r\n",
      "# length.sh\r\n",
      "\r\n",
      "E_NO_ARGS=65\r\n",
      "\r\n",
      "if [ $# -eq 0 ]   # Must have command-line args to demo script.\r\n",
      "then\r\n",
      "    echo \"Please invoke this script with one or more command-line arguments.\"\r\n",
      "    exit $E_NO_ARGS\r\n",
      "fi\r\n",
      "\r\n",
      "var01=abcdEFGH28ij\r\n",
      "echo \"var01 = ${var01}\"\r\n",
      "echo \"Length of var01 = ${#var01}\"\r\n",
      "\r\n",
      "# Now, let's try embedding a space.\r\n",
      "var02=\"abcd EFGH28ij\"\r\n",
      "echo \"var02 = ${var02}\"\r\n",
      "echo \"Length of var02 = ${#var02}\"\r\n",
      "\r\n",
      "echo \"Number of command-line arguments passed to script = ${#@}\"\r\n",
      "echo \"Number of command-line arguments passed to script = ${#*}\"\r\n",
      "exit 0\r\n"
     ]
    }
   ],
   "source": [
    "cat length.sh"
   ]
  },
  {
   "cell_type": "code",
   "execution_count": 23,
   "metadata": {
    "collapsed": false
   },
   "outputs": [
    {
     "name": "stdout",
     "output_type": "stream",
     "text": [
      "var01 = abcdEFGH28ij\r\n",
      "Length of var01 = 12\r\n",
      "var02 = abcd EFGH28ij\r\n",
      "Length of var02 = 13\r\n",
      "Number of command-line arguments passed to script = 3\r\n",
      "Number of command-line arguments passed to script = 3\r\n"
     ]
    }
   ],
   "source": [
    "./length.sh liheyi liheyuan libin"
   ]
  },
  {
   "cell_type": "raw",
   "metadata": {},
   "source": [
    "${var#Pattern}\n",
    "${var##Pattern}\n",
    "    ${var#Pattern} Remove from $var the shortest part of $Pattern that matches the front end of $var.\n",
    "    ${var##Pattern} Remove from $var the longest part of $Pattern that matches the front end of $var."
   ]
  },
  {
   "cell_type": "markdown",
   "metadata": {},
   "source": [
    "A usage illustration from Example A-7:"
   ]
  },
  {
   "cell_type": "code",
   "execution_count": null,
   "metadata": {
    "collapsed": true
   },
   "outputs": [],
   "source": [
    "# Function from \"days-between.sh\" example.\n",
    "# Strips leading zero(s) from argument passed.\n",
    "\n",
    "strip_leading_zero ()  # Strip possible leading zero(s)\n",
    "{                      #+ from argument passed.\n",
    "return=${1#0}          # The \"1\" refers to \"$1\" -- passed arg.\n",
    "}                      # The \"0\" is what to remove from \"$1\" -- strips zeros."
   ]
  },
  {
   "cell_type": "markdown",
   "metadata": {},
   "source": [
    "Manfred Schwarb's more elaborate variation of the above:"
   ]
  },
  {
   "cell_type": "code",
   "execution_count": null,
   "metadata": {
    "collapsed": true
   },
   "outputs": [],
   "source": [
    "strip_leading_zero2 ()  # Strip possible leading zero(s), since otherwise\n",
    "{                       # Bash will interpret such numbers as octal values.\n",
    "shopt -s extglob        # Turn on extended globbing.\n",
    "local val=${1##+(0)}    # Use local variable, longest matching series of 0's.\n",
    "shopt -u extglob        # Turn off extended globbing.\n",
    "_strip_leading_zero2=${val:-0}\n",
    "                        # If input was 0, return 0 instead of \"\".\n",
    "}"
   ]
  },
  {
   "cell_type": "markdown",
   "metadata": {},
   "source": [
    "Another usage illustration:"
   ]
  },
  {
   "cell_type": "code",
   "execution_count": null,
   "metadata": {
    "collapsed": true
   },
   "outputs": [],
   "source": [
    "echo `basename $PWD`   # Basename of current working directory.\n",
    "echo \"${PWD##*/}\"      # Basename of current working directory.\n",
    "echo\n",
    "echo `basename $0`     # Name of script.\n",
    "echo $0                # Name of script.\n",
    "echo \"${0##*/}\"        # Name of script.\n",
    "echo\n",
    "filename=test.data\n",
    "echo \"${filename##*.}\" # data\n",
    "                       # Extension of filename."
   ]
  },
  {
   "cell_type": "raw",
   "metadata": {},
   "source": [
    "${var%Pattern}\n",
    "${var%%Pattern}\n",
    "    ${var%Pattern} Remove from $var the shortest part of $Pattern that matches the back end of $var.\n",
    "    ${var%%Pattern} Remove from $var the longest part of $Pattern that matches the back end of $var."
   ]
  },
  {
   "cell_type": "markdown",
   "metadata": {},
   "source": [
    "#### Example 10-10. Pattern matching in parameter substitution"
   ]
  },
  {
   "cell_type": "code",
   "execution_count": 24,
   "metadata": {
    "collapsed": false
   },
   "outputs": [
    {
     "name": "stdout",
     "output_type": "stream",
     "text": [
      "#!/bin/bash\r\n",
      "# patt-matching.sh\r\n",
      "\r\n",
      "# Pattern matching using the # ## % %% parameter substitution operators.\r\n",
      "\r\n",
      "var1=abcd12345abc6789\r\n",
      "pattern1=a*c          # * (wild card) matches everything between a - c.\r\n",
      "echo \"var1 = $var1\"   # abcd12345abc6789\r\n",
      "echo \"var1 = ${var1}\" # abcd12345abc6789\r\n",
      "                      # (alternate form)\r\n",
      "echo \"Number of characters in ${var1} = ${#var1}\"\r\n",
      "echo\r\n",
      "\r\n",
      "echo \"pattern1 = $pattern1\"  # a*c (everything between 'a' and 'c')\r\n",
      "echo \"--------------\"\r\n",
      "echo '${var1#$pattern1} =' \"${var1#$pattern1}\" # d12345abc6789\r\n",
      "# Shortest possible match, strips out first 3 characters abcd12345abc6789\r\n",
      "#                                     ^^^^^              |-|\r\n",
      "echo '${var1##$pattern1} =' \"${var1##$pattern1}\"                   # 6789\r\n",
      "# Longest possible match, strips out first 12 characters abcd12345abc6789\r\n",
      "#                                    ^^^^^               |----------|\r\n",
      "echo\r\n",
      "\r\n",
      "pattern2=b*9        # everything between 'b' and '9'\r\n",
      "echo \"var1 = $var1\" # Still abcd12345abc6789\r\n",
      "echo\r\n",
      "\r\n",
      "echo \"pattern2 = $pattern2\"\r\n",
      "echo \"--------------\"\r\n",
      "echo '${var1%pattern2} =' \"${var1%$pattern2}\" # abcd12345a\r\n",
      "# Shortest possible match, strips out last 6 characters abcd12345abc6789\r\n",
      "#                                     ^^^^                        |----|\r\n",
      "echo '${var1%%pattern2} =' \"${var1%%$pattern2}\" # a\r\n",
      "# Longest possible match, strips out last 12 characters abcd12345abc6789\r\n",
      "#                                    ^^^^                |-------------|\r\n",
      "\r\n",
      "# Remember, # and ## work from the left end (beginning) of string,\r\n",
      "#           % and %% work from the right end.\r\n",
      "\r\n",
      "exit 0\r\n"
     ]
    }
   ],
   "source": [
    "cat patt-matching.sh"
   ]
  },
  {
   "cell_type": "code",
   "execution_count": 25,
   "metadata": {
    "collapsed": false
   },
   "outputs": [
    {
     "name": "stdout",
     "output_type": "stream",
     "text": [
      "var1 = abcd12345abc6789\r\n",
      "var1 = abcd12345abc6789\r\n",
      "Number of characters in abcd12345abc6789 = 16\r\n",
      "\r\n",
      "pattern1 = a*c\r\n",
      "--------------\r\n",
      "${var1#$pattern1} = d12345abc6789\r\n",
      "${var1##$pattern1} = 6789\r\n",
      "\r\n",
      "var1 = abcd12345abc6789\r\n",
      "\r\n",
      "pattern2 = b*9\r\n",
      "--------------\r\n",
      "${var1%pattern2} = abcd12345a\r\n",
      "${var1%%pattern2} = a\r\n"
     ]
    }
   ],
   "source": [
    "./patt-matching.sh"
   ]
  },
  {
   "cell_type": "markdown",
   "metadata": {},
   "source": [
    "#### Example 10-11. Renaming file extensions:"
   ]
  },
  {
   "cell_type": "code",
   "execution_count": 26,
   "metadata": {
    "collapsed": false
   },
   "outputs": [
    {
     "name": "stdout",
     "output_type": "stream",
     "text": [
      "#!/bin/bash\r\n",
      "# rfe.sh: Renaming file extensions.\r\n",
      "#\r\n",
      "#     rfe old_extension new_extension\r\n",
      "#\r\n",
      "# Example:\r\n",
      "# To rename all *.gif files in working directory to *.jpg,\r\n",
      "#          rfe gif jpg\r\n",
      "\r\n",
      "E_BADARGS=65\r\n",
      "\r\n",
      "case $# in\r\n",
      "  0|1)              # The vertical bar means \"or\" in this context.\r\n",
      "    echo \"Usage: `basename $0` old_file_suffix new_file_suffix\"\r\n",
      "    exit $E_BADARGS # If 0 or 1 arg, then bail out.\r\n",
      "    ;;\r\n",
      "esac\r\n",
      "\r\n",
      "for filename in *.$1\r\n",
      "# Traverse list of files ending with 1st argument.\r\n",
      "do\r\n",
      "  mv $filename ${filename%$1}$2\r\n",
      "  #  Strip off part of filename matching 1st argument,\r\n",
      "  #+ then append 2nd argument.\r\n",
      "done\r\n",
      "\r\n",
      "exit 0\r\n"
     ]
    }
   ],
   "source": [
    "cat rfe.sh"
   ]
  },
  {
   "cell_type": "markdown",
   "metadata": {},
   "source": [
    "#### Variable expansion / Substring replacement\n",
    "These constructs have been adopted from ksh."
   ]
  },
  {
   "cell_type": "raw",
   "metadata": {},
   "source": [
    "${var:pos}\n",
    "    Variable var expanded, starting from offset pos."
   ]
  },
  {
   "cell_type": "raw",
   "metadata": {},
   "source": [
    "${var:pos:len}\n",
    "    Expansion to a max of len characters of variable var, from offset pos. \n",
    "    See Example A-13 for an example of the creative use of this operator."
   ]
  },
  {
   "cell_type": "raw",
   "metadata": {},
   "source": [
    "${var/Pattern/Replacement}\n",
    "    First match of Pattern,within var replaced with Replacement.\n",
    "    If Replacement is omitted,then the first match of Pattern is replaced by nothing, that is,deleted."
   ]
  },
  {
   "cell_type": "raw",
   "metadata": {},
   "source": [
    "${var//Pattern/Replacement}\n",
    "    Global replacement. All matches of Pattern, within var replaced with Replacement.\n",
    "    As above,if Replacement is omitted,then all occurrences of Pattern are replaced by nothing,that is,deleted."
   ]
  },
  {
   "cell_type": "markdown",
   "metadata": {},
   "source": [
    "#### Example 10-12. Using pattern matching to parse arbitrary strings"
   ]
  },
  {
   "cell_type": "code",
   "execution_count": 27,
   "metadata": {
    "collapsed": false
   },
   "outputs": [
    {
     "name": "stdout",
     "output_type": "stream",
     "text": [
      "#!/bin/bash\r\n",
      "\r\n",
      "var1=abcd-1234-defg\r\n",
      "echo \"var1 = $var1\"\r\n",
      "\r\n",
      "t=${var1#*-*}\r\n",
      "echo \"var1 (with everything, up to and including first - stripped out) = $t\"\r\n",
      "#  t=${var1#*-} works just the same,\r\n",
      "#+ since # matches the shortest string,\r\n",
      "#+ and * matches everything preceding, including an empty string.\r\n",
      "\r\n",
      "t=${var1##*-*}\r\n",
      "echo \"If var1 contains a \\\"-\\\", returns empty string... var1 = $t\"\r\n",
      "\r\n",
      "t=${var1%*-*}\r\n",
      "echo \"var1 (with everything from the last - on stripped out) = $t\"\r\n",
      "echo\r\n",
      "\r\n",
      "path_name=/home/bozo/ideas/thoughts.for.today\r\n",
      "echo \"path_name = $path_name\"\r\n",
      "t=${path_name##/*/}\r\n",
      "echo \"path_name, stripped of prefixes = $t\"\r\n",
      "#  Same effect as t=`basename $path_name` in this particular case.\r\n",
      "#  t=${path_name%/}; t=${t##*/} is a more general solution,\r\n",
      "#+ but still fails sometimes.\r\n",
      "#  If $path_name ends with a newline, then `basename $path_name` will not work,\r\n",
      "#+ but the above expression will.\r\n",
      "echo\r\n",
      "\r\n",
      "t=${path_name:11}\r\n",
      "echo \"$path_name, with first 11 chars stripped off = $t\"\r\n",
      "t=${path_name:11:5}\r\n",
      "echo \"$path_name, with first 11 chars stripped off, length 5 = $t\"\r\n",
      "echo\r\n",
      "\r\n",
      "t=${path_name/bozo/clown}\r\n",
      "echo \"$path_name with \\\"bozo\\\" replaced by \\\"clown\\\" = $t\"\r\n",
      "t=${path_name/today/}\r\n",
      "echo \"$path_name with \\\"today\\\" deleted = $t\"\r\n",
      "t=${path_name//o/O}\r\n",
      "echo \"$path_name with all o's capitalized = $t\"\r\n",
      "t=${path_name//o/}\r\n",
      "echo \"$path_name with all o's deleted = $t\"\r\n",
      "\r\n",
      "exit 0\r\n"
     ]
    }
   ],
   "source": [
    "cat replace.sh"
   ]
  },
  {
   "cell_type": "code",
   "execution_count": 28,
   "metadata": {
    "collapsed": false
   },
   "outputs": [
    {
     "name": "stdout",
     "output_type": "stream",
     "text": [
      "var1 = abcd-1234-defg\r\n",
      "var1 (with everything, up to and including first - stripped out) = 1234-defg\r\n",
      "If var1 contains a \"-\", returns empty string... var1 = \r\n",
      "var1 (with everything from the last - on stripped out) = abcd-1234\r\n",
      "\r\n",
      "path_name = /home/bozo/ideas/thoughts.for.today\r\n",
      "path_name, stripped of prefixes = thoughts.for.today\r\n",
      "\r\n",
      "/home/bozo/ideas/thoughts.for.today, with first 11 chars stripped off = ideas/thoughts.for.today\r\n",
      "/home/bozo/ideas/thoughts.for.today, with first 11 chars stripped off, length 5 = ideas\r\n",
      "\r\n",
      "/home/bozo/ideas/thoughts.for.today with \"bozo\" replaced by \"clown\" = /home/clown/ideas/thoughts.for.today\r\n",
      "/home/bozo/ideas/thoughts.for.today with \"today\" deleted = /home/bozo/ideas/thoughts.for.\r\n",
      "/home/bozo/ideas/thoughts.for.today with all o's capitalized = /hOme/bOzO/ideas/thOughts.fOr.tOday\r\n",
      "/home/bozo/ideas/thoughts.for.today with all o's deleted = /hme/bz/ideas/thughts.fr.tday\r\n"
     ]
    }
   ],
   "source": [
    "./replace.sh"
   ]
  },
  {
   "cell_type": "raw",
   "metadata": {},
   "source": [
    "${var/#Pattern/Replacement}\n",
    "    If prefix of var matches Pattern, then substitute Replacement for Pattern.\n",
    "${var/%Pattern/Replacement}\n",
    "    If suffix of var matches Pattern, then substitute Replacement for Pattern."
   ]
  },
  {
   "cell_type": "markdown",
   "metadata": {},
   "source": [
    "#### Example 10-13. Matching patterns at prefix or suffix of string"
   ]
  },
  {
   "cell_type": "code",
   "execution_count": 29,
   "metadata": {
    "collapsed": false
   },
   "outputs": [
    {
     "name": "stdout",
     "output_type": "stream",
     "text": [
      "#!/bin/bash\r\n",
      "# var-match.sh:\r\n",
      "# Demo of pattern replacement at prefix / suffix of string.\r\n",
      "\r\n",
      "v0=abc1234zip1234abc   # Original variable.\r\n",
      "echo \"v0 = $v0\"        # abc1234zip1234abc\r\n",
      "echo\r\n",
      "\r\n",
      "# Match at prefix (beginning) of string.\r\n",
      "v1=${v0/#abc/ABCDEF}   # abc1234zip1234abc\r\n",
      "#                        |-|\r\n",
      "echo \"v1 = $v1\"        # ABCDEF1234zip1234abc\r\n",
      "#                        |----|\r\n",
      "\r\n",
      "# Match at suffix (end) of string.\r\n",
      "v2=${v0/%abc/ABCDEF}   # abc1234zip123abc\r\n",
      "# |-|\r\n",
      "echo \"v2 = $v2\"        # abc1234zip1234ABCDEF\r\n",
      "#                                      |----|\r\n",
      "echo\r\n",
      "\r\n",
      "#  Must match at beginning / end of string,\r\n",
      "#+ otherwise no replacement results.\r\n",
      "v3=${v0/#123/000}      # Matches, but not at beginning.\r\n",
      "echo \"v3 = $v3\"        # abc1234zip1234abc\r\n",
      "                       # NO REPLACEMENT.\r\n",
      "\r\n",
      "v4=${v0/%123/000}      # Matches, but not at end.\r\n",
      "echo \"v4 = $v4\"        # abc1234zip1234abc\r\n",
      "                       # NO REPLACEMENT.\r\n",
      "\r\n",
      "exit 0\r\n"
     ]
    }
   ],
   "source": [
    "cat var-match.sh"
   ]
  },
  {
   "cell_type": "code",
   "execution_count": 30,
   "metadata": {
    "collapsed": false
   },
   "outputs": [
    {
     "name": "stdout",
     "output_type": "stream",
     "text": [
      "v0 = abc1234zip1234abc\r\n",
      "\r\n",
      "v1 = ABCDEF1234zip1234abc\r\n",
      "v2 = abc1234zip1234ABCDEF\r\n",
      "\r\n",
      "v3 = abc1234zip1234abc\r\n",
      "v4 = abc1234zip1234abc\r\n"
     ]
    }
   ],
   "source": [
    "./var-match.sh"
   ]
  },
  {
   "cell_type": "raw",
   "metadata": {},
   "source": [
    "${!varprefix*}\n",
    "${!varprefix@}\n",
    "    Matches names of all previously declared variables beginning with varprefix."
   ]
  },
  {
   "cell_type": "code",
   "execution_count": 31,
   "metadata": {
    "collapsed": false
   },
   "outputs": [
    {
     "name": "stdout",
     "output_type": "stream",
     "text": [
      "a = xyz23 xyz24\r\n"
     ]
    }
   ],
   "source": [
    "# This is a variation on indirect reference, but with a * or @.\n",
    "# Bash, version 2.04, adds this feature.\n",
    "\n",
    "xyz23=whatever\n",
    "xyz24=\n",
    "\n",
    "a=${!xyz*} # Expands to *names* of declared variables\n",
    "echo \"a = $a\""
   ]
  },
  {
   "cell_type": "code",
   "execution_count": 32,
   "metadata": {
    "collapsed": false
   },
   "outputs": [
    {
     "name": "stdout",
     "output_type": "stream",
     "text": [
      "a = xyz23 xyz24\r\n"
     ]
    }
   ],
   "source": [
    "a=${!xyz@}\n",
    "echo \"a = $a\""
   ]
  },
  {
   "cell_type": "code",
   "execution_count": 33,
   "metadata": {
    "collapsed": false
   },
   "outputs": [
    {
     "name": "stdout",
     "output_type": "stream",
     "text": [
      "b = abc23\r\n"
     ]
    }
   ],
   "source": [
    "abc23=something_else\n",
    "b=${!abc*}\n",
    "echo \"b = $b\""
   ]
  },
  {
   "cell_type": "code",
   "execution_count": 34,
   "metadata": {
    "collapsed": false
   },
   "outputs": [
    {
     "name": "stdout",
     "output_type": "stream",
     "text": [
      "something_else\r\n"
     ]
    }
   ],
   "source": [
    "# # Now, the more familiar type of indirect reference\n",
    "c=${!b}\n",
    "echo $c"
   ]
  }
 ],
 "metadata": {
  "kernelspec": {
   "display_name": "Bash",
   "language": "bash",
   "name": "bash"
  },
  "language_info": {
   "codemirror_mode": "shell",
   "file_extension": ".sh",
   "mimetype": "text/x-sh",
   "name": "bash"
  }
 },
 "nbformat": 4,
 "nbformat_minor": 0
}
