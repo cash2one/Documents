{
 "cells": [
  {
   "cell_type": "markdown",
   "metadata": {},
   "source": [
    "## 5. Quoting\n",
    "Quoting means just that, bracketing a string in quotes. This has the effect of protecting special characters in\n",
    "the string from reinterpretation or expansion by the shell or shell script. (A character is \"special\" if it has an interpretation other than its literal meaning. For example, the asterisk * represents a wild card character in\n",
    "globbing and Regular Expressions)."
   ]
  },
  {
   "cell_type": "markdown",
   "metadata": {},
   "source": [
    "In everyday speech or writing, when we \"quote\" a phrase, we set it apart and give it special meaning.   \n",
    "In a Bash script, when we quote a string, we set it apart and protect its literal meaning."
   ]
  },
  {
   "cell_type": "markdown",
   "metadata": {},
   "source": [
    "Certain programs and utilities reinterpret or expand special characters in a quoted string.An important use of quoting is protecting a command-line parameter from the shell, but still letting the calling program expand it."
   ]
  },
  {
   "cell_type": "code",
   "execution_count": 1,
   "metadata": {
    "collapsed": false
   },
   "outputs": [
    {
     "name": "stdout",
     "output_type": "stream",
     "text": [
      "file1.txt:This is the first line of file1.txt.\r\n",
      "file2.txt:This is the First line of file2.txt.\r\n"
     ]
    }
   ],
   "source": [
    "grep '[Ff]irst' *.txt"
   ]
  },
  {
   "cell_type": "markdown",
   "metadata": {},
   "source": [
    "Quoting can also suppress echo's \"appetite\" for newlines."
   ]
  },
  {
   "cell_type": "code",
   "execution_count": 2,
   "metadata": {
    "collapsed": false
   },
   "outputs": [
    {
     "name": "stdout",
     "output_type": "stream",
     "text": [
      "total 64K -rw-rw-r-- 1 liheyi liheyi 5.5K 6月 30 17:40 command_line_shortcut.ipynb -rw-rw-r-- 1 liheyi liheyi 37 8月 2 15:59 file1.txt -rw-rw-r-- 1 liheyi liheyi 37 8月 2 15:59 file2.txt -rwxr-xr-x 1 liheyi liheyi 836 8月 2 13:46 positional_para.sh -rw-rw-r-- 1 liheyi liheyi 1.5K 8月 2 15:57 quoting.ipynb -rwxr-xr-x 1 liheyi liheyi 113 8月 2 14:07 shift.sh -rw-rw-r-- 1 liheyi liheyi 35K 8月 2 15:07 variables_and_parameters.ipynb\r\n"
     ]
    }
   ],
   "source": [
    "echo $(ls -lh)"
   ]
  },
  {
   "cell_type": "code",
   "execution_count": 3,
   "metadata": {
    "collapsed": false
   },
   "outputs": [
    {
     "name": "stdout",
     "output_type": "stream",
     "text": [
      "total 64K\r\n",
      "-rw-rw-r-- 1 liheyi liheyi 5.5K  6月 30 17:40 command_line_shortcut.ipynb\r\n",
      "-rw-rw-r-- 1 liheyi liheyi   37  8月  2 15:59 file1.txt\r\n",
      "-rw-rw-r-- 1 liheyi liheyi   37  8月  2 15:59 file2.txt\r\n",
      "-rwxr-xr-x 1 liheyi liheyi  836  8月  2 13:46 positional_para.sh\r\n",
      "-rw-rw-r-- 1 liheyi liheyi 2.7K  8月  2 16:01 quoting.ipynb\r\n",
      "-rwxr-xr-x 1 liheyi liheyi  113  8月  2 14:07 shift.sh\r\n",
      "-rw-rw-r-- 1 liheyi liheyi  35K  8月  2 15:07 variables_and_parameters.ipynb\r\n"
     ]
    }
   ],
   "source": [
    "echo \"$(ls -lh)\""
   ]
  },
  {
   "cell_type": "markdown",
   "metadata": {},
   "source": [
    "### Quoting Variables\n",
    "When referencing a variable, it is generally advisable to enclose its name in double quotes.  \n",
    "This prevents reinterpretation of all special characters within the quoted string -- except \\$, ` (backquote), and \\ (escape).  \n",
    "Keeping \\$ as a special character within double quotes permits referencing a quoted variable (\"$variable\"), that is, replacing the variable with its value"
   ]
  },
  {
   "cell_type": "markdown",
   "metadata": {},
   "source": [
    "Use double quotes to prevent word splitting.   \n",
    "An argument enclosed in double quotes presents itself as a single word, even if it contains whitespace separators."
   ]
  },
  {
   "cell_type": "code",
   "execution_count": 4,
   "metadata": {
    "collapsed": false
   },
   "outputs": [
    {
     "name": "stdout",
     "output_type": "stream",
     "text": [
      "libin\r\n",
      "liheyi\r\n",
      "liheyuan\r\n"
     ]
    }
   ],
   "source": [
    "List=\"libin liheyi liheyuan\"\n",
    "# Splits the variable in parts at whitespace.\n",
    "for a in $List\n",
    "do\n",
    "    echo \"$a\"\n",
    "done"
   ]
  },
  {
   "cell_type": "code",
   "execution_count": 5,
   "metadata": {
    "collapsed": false
   },
   "outputs": [
    {
     "name": "stdout",
     "output_type": "stream",
     "text": [
      "libin liheyi liheyuan\r\n"
     ]
    }
   ],
   "source": [
    "# Preserves whitespace in a single variable.\n",
    "for a in \"$List\"\n",
    "do\n",
    "    echo \"$a\"\n",
    "done"
   ]
  },
  {
   "cell_type": "markdown",
   "metadata": {},
   "source": [
    "A more elaborate example:"
   ]
  },
  {
   "cell_type": "code",
   "execution_count": 6,
   "metadata": {
    "collapsed": false
   },
   "outputs": [
    {
     "name": "stdout",
     "output_type": "stream",
     "text": [
      "This is a variable containing five words\r\n"
     ]
    }
   ],
   "source": [
    "variable1=\"a variable containing five words\"\n",
    "# Executes COMMAND(echo) with 7 arguments:\n",
    "echo This is $variable1"
   ]
  },
  {
   "cell_type": "code",
   "execution_count": 7,
   "metadata": {
    "collapsed": false
   },
   "outputs": [
    {
     "name": "stdout",
     "output_type": "stream",
     "text": [
      "This is a variable containing five words\r\n"
     ]
    }
   ],
   "source": [
    "# Executes COMMAND(echo) with 1 argument:\n",
    "echo \"This is $variable1\""
   ]
  },
  {
   "cell_type": "code",
   "execution_count": 8,
   "metadata": {
    "collapsed": false
   },
   "outputs": [
    {
     "name": "stdout",
     "output_type": "stream",
     "text": []
    }
   ],
   "source": [
    "# Empty.\n",
    "variable2=\"\""
   ]
  },
  {
   "cell_type": "code",
   "execution_count": 9,
   "metadata": {
    "collapsed": false
   },
   "outputs": [
    {
     "name": "stdout",
     "output_type": "stream",
     "text": [
      "\r\n"
     ]
    }
   ],
   "source": [
    "# Executes COMMAND with no arguments.\n",
    "echo $variable2 $variable2 $variable2"
   ]
  },
  {
   "cell_type": "code",
   "execution_count": 10,
   "metadata": {
    "collapsed": false
   },
   "outputs": [
    {
     "name": "stdout",
     "output_type": "stream",
     "text": [
      "  \r\n"
     ]
    }
   ],
   "source": [
    "# Executes COMMAND with 3 empty arguments.\n",
    "echo \"$variable2\" \"$variable2\" \"$variable2\""
   ]
  },
  {
   "cell_type": "code",
   "execution_count": 11,
   "metadata": {
    "collapsed": false
   },
   "outputs": [
    {
     "name": "stdout",
     "output_type": "stream",
     "text": [
      "  \r\n"
     ]
    }
   ],
   "source": [
    "# Executes COMMAND with 1 argument (2 spaces).\n",
    "echo \"$variable2 $variable2 $variable2\""
   ]
  },
  {
   "cell_type": "markdown",
   "metadata": {},
   "source": [
    "Enclosing the arguments to an echo statement in double quotes is necessary only when word splitting or preservation of whitespace is an issue."
   ]
  },
  {
   "cell_type": "markdown",
   "metadata": {},
   "source": [
    "#### Example 5-1. Echoing Weird Variables"
   ]
  },
  {
   "cell_type": "code",
   "execution_count": 12,
   "metadata": {
    "collapsed": false
   },
   "outputs": [
    {
     "name": "stdout",
     "output_type": "stream",
     "text": [
      "'(]\\{}$\"\r\n"
     ]
    }
   ],
   "source": [
    "# Doesn't make a difference.\n",
    "var=\"'(]\\\\{}\\$\\\"\"\n",
    "echo $var"
   ]
  },
  {
   "cell_type": "code",
   "execution_count": 13,
   "metadata": {
    "collapsed": false
   },
   "outputs": [
    {
     "name": "stdout",
     "output_type": "stream",
     "text": [
      "'(]\\{}$\"\r\n"
     ]
    }
   ],
   "source": [
    "echo \"$var\""
   ]
  },
  {
   "cell_type": "code",
   "execution_count": 14,
   "metadata": {
    "collapsed": false
   },
   "outputs": [
    {
     "name": "stdout",
     "output_type": "stream",
     "text": [
      "'(] {}$\"\r\n"
     ]
    }
   ],
   "source": [
    "# \\ converted to space.\n",
    "IFS='\\'\n",
    "echo $var"
   ]
  },
  {
   "cell_type": "code",
   "execution_count": 15,
   "metadata": {
    "collapsed": false
   },
   "outputs": [
    {
     "name": "stdout",
     "output_type": "stream",
     "text": [
      "'(]\\{}$\"\r\n"
     ]
    }
   ],
   "source": [
    "echo \"$var\""
   ]
  },
  {
   "cell_type": "code",
   "execution_count": 16,
   "metadata": {
    "collapsed": false
   },
   "outputs": [
    {
     "name": "stdout",
     "output_type": "stream",
     "text": [
      "  \"\r\n"
     ]
    }
   ],
   "source": [
    "var2=\"\\\\\\\\\\\"\"\n",
    "echo $var2"
   ]
  },
  {
   "cell_type": "code",
   "execution_count": 17,
   "metadata": {
    "collapsed": false
   },
   "outputs": [
    {
     "name": "stdout",
     "output_type": "stream",
     "text": [
      "\\\\\"\r\n"
     ]
    }
   ],
   "source": [
    "echo \"$var2\""
   ]
  },
  {
   "cell_type": "code",
   "execution_count": 19,
   "metadata": {
    "collapsed": false
   },
   "outputs": [
    {
     "name": "stdout",
     "output_type": "stream",
     "text": [
      "\\\\\\\\\r\n"
     ]
    }
   ],
   "source": [
    "# Strong quoting works, though.\n",
    "var3='\\\\\\\\'\n",
    "echo \"$var3\""
   ]
  },
  {
   "cell_type": "code",
   "execution_count": 20,
   "metadata": {
    "collapsed": false
   },
   "outputs": [
    {
     "name": "stdout",
     "output_type": "stream",
     "text": [
      "\"\r\n"
     ]
    }
   ],
   "source": [
    "# As the first example above shows, nesting quotes is permitted.\n",
    "echo \"$(echo '\"')\""
   ]
  },
  {
   "cell_type": "code",
   "execution_count": 21,
   "metadata": {
    "collapsed": false
   },
   "outputs": [
    {
     "name": "stdout",
     "output_type": "stream",
     "text": [
      "$var1 = Two bits\r\n"
     ]
    }
   ],
   "source": [
    "# At times this comes in useful.\n",
    "var1=\"Two bits\"\n",
    "echo \"\\$var1 = \"$var1\"\""
   ]
  },
  {
   "cell_type": "markdown",
   "metadata": {},
   "source": [
    "Single quotes (' ') operate similarly to double quotes, but do not permit referencing variables, since the special meaning of $ is turned off. Within single quotes, every special character except ' gets interpreted literally.Consider single quotes (\"full quoting\") to be a stricter method of quoting than double quotes (\"partial\n",
    "quoting\")."
   ]
  },
  {
   "cell_type": "markdown",
   "metadata": {},
   "source": [
    "Since even the escape character (\\\\) gets a literal interpretation within single quotes, trying to enclose a single quote within single quotes will not yield the expected result."
   ]
  },
  {
   "cell_type": "code",
   "execution_count": 22,
   "metadata": {
    "collapsed": false
   },
   "outputs": [
    {
     "name": "stdout",
     "output_type": "stream",
     "text": [
      "Why can't I write 's between single quotes\r\n"
     ]
    }
   ],
   "source": [
    "echo \"Why can't I write 's between single quotes\""
   ]
  },
  {
   "cell_type": "code",
   "execution_count": 23,
   "metadata": {
    "collapsed": false
   },
   "outputs": [
    {
     "name": "stdout",
     "output_type": "stream",
     "text": [
      "Why can't I write 's between single quotes\r\n"
     ]
    }
   ],
   "source": [
    "# The roundabout method.\n",
    "# Three single-quoted strings, with escaped and quoted single quotes between.\n",
    "echo 'Why can'\\''t I write '\"'\"'s between single quotes'"
   ]
  },
  {
   "cell_type": "markdown",
   "metadata": {},
   "source": [
    "### Escaping\n",
    "Escaping is a method of quoting single characters.   \n",
    "The escape (\\\\) preceding a character tells the shell to interpret that character literally.  \n",
    "\n",
    "With certain commands and utilities, such as echo and sed, escaping a character may have the opposite effect - it can toggle on a special meaning for that character."
   ]
  },
  {
   "cell_type": "markdown",
   "metadata": {},
   "source": [
    "###### Special meanings of certain escaped characters\n",
    "used with echo and sed\n",
    "###### \\n\n",
    "means newline\n",
    "###### \\r\n",
    "means return\n",
    "###### \\t\n",
    "means tab\n",
    "###### \\v\n",
    "means vertical tab\n",
    "###### \\b\n",
    "means backspace\n",
    "###### \\a\n",
    "means alert (beep or flash)\n",
    "###### \\0xx\n",
    "translates to the octal ASCII equivalent of 0nn, where nn is a string of digits"
   ]
  },
  {
   "cell_type": "markdown",
   "metadata": {},
   "source": [
    "The \\$' ... ' quoted string-expansion construct is a mechanism that uses escaped octal or hex values to assign ASCII characters to variables, e.g., quote=\\$'\\042'."
   ]
  },
  {
   "cell_type": "markdown",
   "metadata": {},
   "source": [
    "#### Example 5-2. Escaped Characters"
   ]
  },
  {
   "cell_type": "code",
   "execution_count": 24,
   "metadata": {
    "collapsed": false
   },
   "outputs": [
    {
     "name": "stdout",
     "output_type": "stream",
     "text": [
      "This will print\r\n",
      "as two lines.\r\n"
     ]
    }
   ],
   "source": [
    "# Escaping a newline.\n",
    "echo \"This will print\n",
    "as two lines.\""
   ]
  },
  {
   "cell_type": "code",
   "execution_count": 25,
   "metadata": {
    "collapsed": false
   },
   "outputs": [
    {
     "name": "stdout",
     "output_type": "stream",
     "text": [
      "This will print as one line.\r\n"
     ]
    }
   ],
   "source": [
    "echo \"This will print \\\n",
    "as one line.\""
   ]
  },
  {
   "cell_type": "code",
   "execution_count": 26,
   "metadata": {
    "collapsed": false
   },
   "outputs": [
    {
     "name": "stdout",
     "output_type": "stream",
     "text": [
      "\\v\\v\\v\\v\r\n"
     ]
    }
   ],
   "source": [
    "# Prints \\v\\v\\v\\v literally.\n",
    "echo \"\\v\\v\\v\\v\""
   ]
  },
  {
   "cell_type": "code",
   "execution_count": 27,
   "metadata": {
    "collapsed": false
   },
   "outputs": [
    {
     "name": "stdout",
     "output_type": "stream",
     "text": [
      "\u000b",
      "\u000b",
      "\u000b",
      "\u000b",
      "\r\n"
     ]
    }
   ],
   "source": [
    "# Use the -e option with 'echo' to print escaped characters.\n",
    "echo -e \"\\v\\v\\v\\v\""
   ]
  },
  {
   "cell_type": "code",
   "execution_count": 28,
   "metadata": {
    "collapsed": false
   },
   "outputs": [
    {
     "name": "stdout",
     "output_type": "stream",
     "text": [
      "\"\r\n"
     ]
    }
   ],
   "source": [
    "# Prints \" (quote, octal ASCII character 42).\n",
    "echo -e \"\\042\""
   ]
  },
  {
   "cell_type": "code",
   "execution_count": 29,
   "metadata": {
    "collapsed": false
   },
   "outputs": [
    {
     "name": "stdout",
     "output_type": "stream",
     "text": [
      "\r\n",
      "\r\n"
     ]
    }
   ],
   "source": [
    "# The $'\\X' construct makes the -e option unnecessary.\n",
    "# Newline.\n",
    "echo $'\\n'"
   ]
  },
  {
   "cell_type": "code",
   "execution_count": 30,
   "metadata": {
    "collapsed": false
   },
   "outputs": [
    {
     "name": "stdout",
     "output_type": "stream",
     "text": [
      "\u0007\r\n"
     ]
    }
   ],
   "source": [
    "# Alert (beep).\n",
    "echo $'\\a'"
   ]
  },
  {
   "cell_type": "code",
   "execution_count": 31,
   "metadata": {
    "collapsed": false
   },
   "outputs": [
    {
     "name": "stdout",
     "output_type": "stream",
     "text": [
      "\t \" \t\r\n"
     ]
    }
   ],
   "source": [
    "# We have seen $'\\nnn\" string expansion, and now\n",
    "# Version 2 of Bash introduced the $'\\nnn' string expansion construct.\n",
    "\n",
    "# Quote (\") framed by tabs.\n",
    "# Note that '\\nnn' is an octal value.\n",
    "echo $'\\t \\042 \\t'"
   ]
  },
  {
   "cell_type": "code",
   "execution_count": 32,
   "metadata": {
    "collapsed": false
   },
   "outputs": [
    {
     "name": "stdout",
     "output_type": "stream",
     "text": [
      "\t \" \t\r\n"
     ]
    }
   ],
   "source": [
    "# It also works with hexadecimal values, in an $'\\xhhh' construct.\n",
    "echo $'\\t \\x22 \\t'"
   ]
  },
  {
   "cell_type": "code",
   "execution_count": 33,
   "metadata": {
    "collapsed": false
   },
   "outputs": [
    {
     "name": "stdout",
     "output_type": "stream",
     "text": [
      "\" Quoted string \" and this lies outside the quotes.\r\n"
     ]
    }
   ],
   "source": [
    "# Assigning ASCII characters to a variable.\n",
    "quote=$'\\042'\n",
    "echo \"$quote Quoted string $quote and this lies outside the quotes.\""
   ]
  },
  {
   "cell_type": "code",
   "execution_count": 36,
   "metadata": {
    "collapsed": false
   },
   "outputs": [
    {
     "name": "stdout",
     "output_type": "stream",
     "text": [
      "___ UNDERLINE ___\r\n"
     ]
    }
   ],
   "source": [
    "# Concatenating ASCII chars in a variable.\n",
    "# 137 is octal ASCII code for '_'.\n",
    "triple_underline=$'\\137\\137\\137'\n",
    "echo \"$triple_underline UNDERLINE $triple_underline\""
   ]
  },
  {
   "cell_type": "code",
   "execution_count": 37,
   "metadata": {
    "collapsed": false
   },
   "outputs": [
    {
     "name": "stdout",
     "output_type": "stream",
     "text": [
      "ABC\b\r\n"
     ]
    }
   ],
   "source": [
    "# 101, 102, 103 are octal A, B, C.\n",
    "echo $'\\101\\102\\103\\010'\n"
   ]
  },
  {
   "cell_type": "markdown",
   "metadata": {},
   "source": [
    "#### Example 5-3. Detecting key-presses"
   ]
  },
  {
   "cell_type": "code",
   "execution_count": 40,
   "metadata": {
    "collapsed": false
   },
   "outputs": [
    {
     "name": "stdout",
     "output_type": "stream",
     "text": [
      "#!/bin/bash\r\n",
      "# Author: Sigurd Solaas, 20 Apr 2011\r\n",
      "# Used in ABS Guide with permission.\r\n",
      "# Requires version 4.2+ of Bash.\r\n",
      "key=\"no value yet\"\r\n",
      "while true; do\r\n",
      "    clear\r\n",
      "    echo \"Bash Extra Keys Demo. Keys to try:\"\r\n",
      "    echo\r\n",
      "    echo \"* Insert, Delete, Home, End, Page_Up and Page_Down\"\r\n",
      "    echo \"* The four arrow keys\"\r\n",
      "    echo \"* Tab, enter, escape, and space key\"\r\n",
      "    echo \"* The letter and number keys, etc.\"\r\n",
      "    echo\r\n",
      "    echo \" d = show date/time\"\r\n",
      "    echo \" q = quit\"\r\n",
      "    echo \"================================\"\r\n",
      "    echo\r\n",
      "    # Convert the separate home-key to home-key_num_7:\r\n",
      "    if [ \"$key\" = $'\\x1b\\x4f\\x48' ]; then\r\n",
      "        key=$'\\x1b\\x5b\\x31\\x7e'\r\n",
      "        # Quoted string-expansion construct.\r\n",
      "    fi\r\n",
      "    # Convert the separate end-key to end-key_num_1.\r\n",
      "    if [ \"$key\" = $'\\x1b\\x4f\\x46' ]; then\r\n",
      "        key=$'\\x1b\\x5b\\x34\\x7e'\r\n",
      "    fi\r\n",
      "    case \"$key\" in\r\n",
      "        $'\\x1b\\x5b\\x32\\x7e') # Insert\r\n",
      "            echo Insert Key\r\n",
      "            ;;\r\n",
      "        $'\\x1b\\x5b\\x33\\x7e') # Delete\r\n",
      "            echo Delete Key\r\n",
      "            ;;\r\n",
      "        $'\\x1b\\x5b\\x31\\x7e') # Home_key_num_7\r\n",
      "            echo Home Key\r\n",
      "            ;;\r\n",
      "        $'\\x1b\\x5b\\x34\\x7e') # End_key_num_1\r\n",
      "            echo End Key\r\n",
      "            ;;\r\n",
      "        $'\\x1b\\x5b\\x35\\x7e') # Page_Up\r\n",
      "            echo Page_Up\r\n",
      "            ;;\r\n",
      "        $'\\x1b\\x5b\\x36\\x7e') # Page_Down\r\n",
      "            echo Page_Down\r\n",
      "            ;;\r\n",
      "        $'\\x1b\\x5b\\x41') # Up_arrow\r\n",
      "            echo Up arrow\r\n",
      "            ;;\r\n",
      "        $'\\x1b\\x5b\\x42') # Down_arrow\r\n",
      "            echo Down arrow\r\n",
      "            ;;\r\n",
      "        $'\\x1b\\x5b\\x43') # Right_arrow\r\n",
      "            echo Right arrow\r\n",
      "            ;;\r\n",
      "        $'\\x1b\\x5b\\x44') # Left_arrow\r\n",
      "            echo Left arrow\r\n",
      "            ;;\r\n",
      "        $'\\x09') # Tab\r\n",
      "            echo Tab Key\r\n",
      "            ;;\r\n",
      "        $'\\x0a') # Enter\r\n",
      "            echo Enter Key\r\n",
      "            ;;\r\n",
      "        $'\\x1b') # Escape\r\n",
      "            echo Escape Key\r\n",
      "            ;;\r\n",
      "        $'\\x20') # Space\r\n",
      "            echo Space Key\r\n",
      "            ;;\r\n",
      "        d)\r\n",
      "            date\r\n",
      "            ;;\r\n",
      "        q)\r\n",
      "            echo Time to quit...\r\n",
      "            echo\r\n",
      "            exit 0\r\n",
      "            ;;\r\n",
      "        *)\r\n",
      "            echo You pressed: \\'\"$key\"\\'\r\n",
      "            ;;\r\n",
      "    esac\r\n",
      "    echo\r\n",
      "    echo \"================================\"\r\n",
      "    unset K1 K2 K3\r\n",
      "    read -s -N1 -p \"Press a key: \"\r\n",
      "    K1=\"$REPLY\"\r\n",
      "    read -s -N2 -t 0.001\r\n",
      "    K2=\"$REPLY\"\r\n",
      "    read -s -N1 -t 0.001\r\n",
      "    K3=\"$REPLY\"\r\n",
      "    key=\"$K1$K2$K3\"\r\n",
      "done\r\n",
      "exit $?\r\n"
     ]
    }
   ],
   "source": [
    "cat detect_key_presse.sh"
   ]
  },
  {
   "cell_type": "markdown",
   "metadata": {},
   "source": [
    "###### \\\"\n",
    "gives the quote its literal meaning"
   ]
  },
  {
   "cell_type": "code",
   "execution_count": 41,
   "metadata": {
    "collapsed": false
   },
   "outputs": [
    {
     "name": "stdout",
     "output_type": "stream",
     "text": [
      "Hello\r\n"
     ]
    }
   ],
   "source": [
    "echo \"Hello\""
   ]
  },
  {
   "cell_type": "code",
   "execution_count": 42,
   "metadata": {
    "collapsed": false
   },
   "outputs": [
    {
     "name": "stdout",
     "output_type": "stream",
     "text": [
      "\"Hello\" ... he said.\r\n"
     ]
    }
   ],
   "source": [
    "echo \"\\\"Hello\\\" ... he said.\""
   ]
  },
  {
   "cell_type": "markdown",
   "metadata": {},
   "source": [
    "###### \\$\n",
    "gives the dollar sign its literal meaning (variable name following \\$ will not be referenced)"
   ]
  },
  {
   "cell_type": "code",
   "execution_count": 43,
   "metadata": {
    "collapsed": false
   },
   "outputs": [
    {
     "name": "stdout",
     "output_type": "stream",
     "text": [
      "$variable01\r\n"
     ]
    }
   ],
   "source": [
    "echo \"\\$variable01\""
   ]
  },
  {
   "cell_type": "code",
   "execution_count": 44,
   "metadata": {
    "collapsed": false
   },
   "outputs": [
    {
     "name": "stdout",
     "output_type": "stream",
     "text": [
      "The book cost $7.98.\r\n"
     ]
    }
   ],
   "source": [
    "echo \"The book cost \\$7.98.\""
   ]
  },
  {
   "cell_type": "markdown",
   "metadata": {},
   "source": [
    "###### \\\\\n",
    "gives the backslash its literal meaning"
   ]
  },
  {
   "cell_type": "code",
   "execution_count": 45,
   "metadata": {
    "collapsed": false
   },
   "outputs": [
    {
     "name": "stdout",
     "output_type": "stream",
     "text": [
      "\\\r\n"
     ]
    }
   ],
   "source": [
    "echo \"\\\\\""
   ]
  },
  {
   "cell_type": "code",
   "execution_count": null,
   "metadata": {
    "collapsed": true
   },
   "outputs": [],
   "source": [
    "# Whereas . . .\n",
    "# Invokes secondary prompt from the command-line.\n",
    "# In a script, gives an error message.\n",
    "echo \"\\\""
   ]
  },
  {
   "cell_type": "code",
   "execution_count": 47,
   "metadata": {
    "collapsed": false
   },
   "outputs": [
    {
     "name": "stdout",
     "output_type": "stream",
     "text": [
      "\\\r\n"
     ]
    }
   ],
   "source": [
    "# However . . .\n",
    "echo '\\'"
   ]
  },
  {
   "cell_type": "markdown",
   "metadata": {},
   "source": [
    "The behavior of \\ depends on whether it is escaped, strong-quoted, weak-quoted, or appearing within command substitution or a here document."
   ]
  },
  {
   "cell_type": "markdown",
   "metadata": {},
   "source": [
    "Elements of a string assigned to a variable may be escaped, but the escape character alone may not be assigned to a variable."
   ]
  },
  {
   "cell_type": "code",
   "execution_count": 59,
   "metadata": {
    "collapsed": false
   },
   "outputs": [
    {
     "name": "stdout",
     "output_type": "stream",
     "text": [
      ": command not found\r\n"
     ]
    }
   ],
   "source": [
    "# Will not work - gives an error message:\n",
    "variable=\\\n",
    "echo \"$variable\"\n",
    "# A \"naked\" escape cannot safely be assigned to a variable."
   ]
  },
  {
   "cell_type": "code",
   "execution_count": 60,
   "metadata": {
    "collapsed": false
   },
   "outputs": [
    {
     "name": "stdout",
     "output_type": "stream",
     "text": [
      "23skidoo\r\n"
     ]
    }
   ],
   "source": [
    "# What actually happens here is that the \"\\\" escapes the newline\n",
    "variable=\\\n",
    "23skidoo\n",
    "echo \"$variable\""
   ]
  },
  {
   "cell_type": "code",
   "execution_count": 62,
   "metadata": {
    "collapsed": false
   },
   "outputs": [
    {
     "name": "stdout",
     "output_type": "stream",
     "text": [
      " \r\n"
     ]
    }
   ],
   "source": [
    "# escape followed by space\n",
    "variable=\\ \n",
    "echo \"$variable\""
   ]
  },
  {
   "cell_type": "code",
   "execution_count": 63,
   "metadata": {
    "collapsed": false
   },
   "outputs": [
    {
     "name": "stdout",
     "output_type": "stream",
     "text": [
      "\\\r\n"
     ]
    }
   ],
   "source": [
    "variable=\\\\\n",
    "echo \"$variable\""
   ]
  },
  {
   "cell_type": "code",
   "execution_count": 64,
   "metadata": {
    "collapsed": false
   },
   "outputs": [
    {
     "name": "stdout",
     "output_type": "stream",
     "text": [
      "\\: command not found\r\n"
     ]
    }
   ],
   "source": [
    "# Will not work - gives an error message:\n",
    "variable=\\\\\\\n",
    "echo \"$variable\"\n",
    "# First escape escapes second one, but the third one is left \"naked\",\n",
    "#+ with same result as first instance, above."
   ]
  },
  {
   "cell_type": "code",
   "execution_count": 65,
   "metadata": {
    "collapsed": false
   },
   "outputs": [
    {
     "name": "stdout",
     "output_type": "stream",
     "text": [
      "\\\\\r\n"
     ]
    }
   ],
   "source": [
    "# Second and fourth escapes escaped.\n",
    "# This is o.k.\n",
    "variable=\\\\\\\\\n",
    "echo \"$variable\""
   ]
  },
  {
   "cell_type": "markdown",
   "metadata": {},
   "source": [
    "Escaping a space can prevent word splitting in a command's argument list."
   ]
  },
  {
   "cell_type": "code",
   "execution_count": 76,
   "metadata": {
    "collapsed": false
   },
   "outputs": [
    {
     "name": "stdout",
     "output_type": "stream",
     "text": [
      "ls: cannot access /bin/cat /bin/gzip /bin/more /usr/bin/less /usr/bin/vim: No such file or directory\r\n",
      "-rwxr-xr-x 1 root root   265848  7月 18  2014 /sbin/init\r\n",
      "-rwxr-xr-x 1 root root 11775136  4月 21 01:15 /usr/sbin/mysqld\r\n"
     ]
    }
   ],
   "source": [
    "# List of files as argument(s) to a command.\n",
    "file_list=\"/bin/cat /bin/gzip /bin/more /usr/bin/less /usr/bin/vim\"\n",
    "# Add two files to the list, and list all.\n",
    "ls -l /usr/sbin/mysqld /sbin/init $file_list"
   ]
  },
  {
   "cell_type": "markdown",
   "metadata": {},
   "source": [
    "The escape also provides a means of writing a multi-line command. Normally, each separate line constitutes a different command, but an escape at the end of a line escapes the newline character, and the command sequence continues on to the next line."
   ]
  },
  {
   "cell_type": "code",
   "execution_count": null,
   "metadata": {
    "collapsed": true
   },
   "outputs": [],
   "source": [
    "# Repeating Alan Cox's directory tree copy command,\n",
    "# but split into two lines for increased legibility.\n",
    "(cd /source/directory && tar cf - . ) | \\\n",
    "(cd /dest/directory && tar xpvf -)"
   ]
  },
  {
   "cell_type": "code",
   "execution_count": null,
   "metadata": {
    "collapsed": true
   },
   "outputs": [],
   "source": [
    "# As an alternative:\n",
    "tar cf - -C /source/directory . |\n",
    "tar xpvf - -C /dest/directory"
   ]
  },
  {
   "cell_type": "markdown",
   "metadata": {},
   "source": [
    "If a script line ends with a |, a pipe character, then a \\, an escape, is not strictly necessary.   \n",
    "It is, however,good programming practice to always escape the end of a line of code that continues to the following line."
   ]
  },
  {
   "cell_type": "code",
   "execution_count": 77,
   "metadata": {
    "collapsed": false
   },
   "outputs": [
    {
     "name": "stdout",
     "output_type": "stream",
     "text": [
      "foo\r\n",
      "bar\r\n"
     ]
    }
   ],
   "source": [
    "echo \"foo\n",
    "bar\""
   ]
  },
  {
   "cell_type": "code",
   "execution_count": 78,
   "metadata": {
    "collapsed": false
   },
   "outputs": [
    {
     "name": "stdout",
     "output_type": "stream",
     "text": [
      "foo\r\n",
      "bar\r\n"
     ]
    }
   ],
   "source": [
    "# No difference yet.\n",
    "echo 'foo\n",
    "bar'"
   ]
  },
  {
   "cell_type": "code",
   "execution_count": 79,
   "metadata": {
    "collapsed": false
   },
   "outputs": [
    {
     "name": "stdout",
     "output_type": "stream",
     "text": [
      "foobar\r\n"
     ]
    }
   ],
   "source": [
    "# Newline escaped.\n",
    "echo foo\\\n",
    "bar"
   ]
  },
  {
   "cell_type": "code",
   "execution_count": 80,
   "metadata": {
    "collapsed": false
   },
   "outputs": [
    {
     "name": "stdout",
     "output_type": "stream",
     "text": [
      "foobar\r\n"
     ]
    }
   ],
   "source": [
    "# Same here, as \\ still interpreted as escape within weak quotes.\n",
    "echo \"foo\\\n",
    "bar\""
   ]
  },
  {
   "cell_type": "code",
   "execution_count": 81,
   "metadata": {
    "collapsed": false
   },
   "outputs": [
    {
     "name": "stdout",
     "output_type": "stream",
     "text": [
      "foo\\\r\n",
      "bar\r\n"
     ]
    }
   ],
   "source": [
    "# Escape character \\ taken literally because of strong quoting.\n",
    "echo 'foo\\\n",
    "bar'"
   ]
  }
 ],
 "metadata": {
  "kernelspec": {
   "display_name": "Bash",
   "language": "bash",
   "name": "bash"
  },
  "language_info": {
   "codemirror_mode": "shell",
   "file_extension": ".sh",
   "mimetype": "text/x-sh",
   "name": "bash"
  }
 },
 "nbformat": 4,
 "nbformat_minor": 0
}
