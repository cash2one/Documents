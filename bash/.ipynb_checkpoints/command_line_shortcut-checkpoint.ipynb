{
 "cells": [
  {
   "cell_type": "raw",
   "metadata": {},
   "source": [
    "Bash快捷键分为emacs编辑模式和vi编辑模式  \n",
    "参考文献  \n",
    "Practical Vim Edit Text at the Speed of Thought.pdf  \n",
    "\n",
    "emacs编辑模式 \n",
    "(设置 set -o emacs，同时使用set -o可以查看Bash所有的模式启用与否的状态)  \n",
    "\n",
    "### 编辑命令  \n",
    "#### 移动  \n",
    "Ctrl + a        光标移动到行首  \n",
    "Ctrl + e        光标移动到行尾  \n",
    "Ctrl + f        光标前进一个字符  \n",
    "Ctrl + b        光标后退一个字符  \n",
    "Alt  + f        光标前进一个单词(光标会停留在本单词或者下一个单词后的空格处)  \n",
    "Alt  + b        光标后退一个单词(光标停留在本单词或者上一个单词的第一个字符上)  \n",
    "Ctrl  +  xx      光标在所在字符和行首字符之间来回跳转  \n",
    "\n",
    "#### 剪切  \n",
    "Ctrl + u        剪切光标(不包括光标所在字符)到行首之间的所有内容  \n",
    "Ctrl + k        剪切光标(包括光标所在字符)到行尾之间的所有内容,也叫Vertical tab.  \n",
    "Ctrl + w        剪切光标(不包括光标所在字符)到单词首个字符之间所有内容  \n",
    "Alt + Backspace   类似于Ctrl + w\n",
    "             区别是Ctrl + w 会剪切直到遇见空格处才结束  \n",
    "             而Alt + Backspace则只是剪切到遇到的第一个特殊字符时结束  \n",
    "Alt  + d        剪切光标(包括光标所在字符)到单词最后一个字符之间所有内容  \n",
    "Ctrl + d        剪切光标所在字符  \n",
    "             如果命令行没有任何字符，那么退出(logout)当前shell终端，等同于exit命令  \n",
    "             终止标准输入，如运行Python/mysql/cat - 等命令时正常退出(EOF)  \n",
    "Ctrl + h        剪切光标前的字符  \n",
    "             连续按键的效果如同反向逐个删除字符，等同于按Backspace  \n",
    "             \n",
    "#### 粘贴\n",
    "Ctrl + y        粘贴寄存器中的内容到光标前  \n",
    "\n",
    "#### 更改\n",
    "Alt  + c        将光标所在的字符更改为大写字母并将光标移动到下一个空格处  \n",
    "Alt  + u        将光标所在的字符到单词尾之间的字符更改为大写字母并将光标移动到单词尾的空格处  \n",
    "Alt  + l        将光标所在的字符到单词尾之间的字符更改为小写字母并将光标移动到单词尾的空格处  \n",
    "说明  \n",
    "通常的使用情形时，将光标定位到需要修改的单词前面的空格上,然后在使用上面的三个组合键能达到预期的效果  \n",
    "\n",
    "#### 交换\n",
    "Ctrl + t        交换光标处和光标前的字符  \n",
    "Alt  + t        交换光标处和前面的单词  \n",
    "\n",
    "#### 历史搜索命令  \n",
    "Ctrl + r        启动(逆向)搜索历史命令行  \n",
    "Ctrl + g        退出搜索历史命令行  \n",
    "             BEL.  On some old-time teletype terminals, this would actually ring a bell. In an xterm it might beep.  \n",
    "Ctrl + p        显示历史中上一条命令(等同于方向键向上)  \n",
    "Ctrl + n        显示历史中下一条命令(等同于方向键向下)  \n",
    "Alt  + .        使用上一条命令的最后一个命令行参数  \n",
    "说明  \n",
    "如果需要使用上一条命令的其他位置的命令上参数，那么可以执行如下组合键进行提取，而无需再次输入  \n",
    "    1. 先按组合键Alt + number，其中number为0,1,2,3,...等数字，分别表示上条命令的参数位置  \n",
    "    2. 然后在按组合键Alt + .将参数提取到当前命令行即可  \n",
    "    \n",
    "#### 控制命令  \n",
    "Ctrl + i         Horizontal tab,等同于Tab键，常常用于自动补全  \n",
    "Ctrl + l         清屏，等同于clear命令  \n",
    "Ctrl + j         Newline，等同于Enter键  \n",
    "Ctrl + m         Carriage return.鬼知道啥意思，等同于Enter键  \n",
    "Ctrl + o         回车并执行当前命令，然后在命令结束后的命令行重复上面的命令  \n",
    "             > 实际测试发现有时候能正确，但是有时候不能再下一行重复上面的命令  \n",
    "             > 但是至少还是能当成Enter键来使用  \n",
    "Ctrl + s         锁定屏幕  \n",
    "Ctrl + q         解锁屏幕  \n",
    "Ctrl + c         终止进程  \n",
    "Ctrl + z         挂起进程  \n",
    "#### 其他\n",
    "Ctrl + v         允许在命令行和文本中插入控制字符    "
   ]
  },
  {
   "cell_type": "code",
   "execution_count": 3,
   "metadata": {
    "collapsed": false
   },
   "outputs": [
    {
     "name": "stdout",
     "output_type": "stream",
     "text": [
      "braceexpand    \ton\r\n",
      "emacs          \ton\r\n",
      "hashall        \ton\r\n",
      "histexpand     \ton\r\n",
      "history        \ton\r\n",
      "interactive-comments\ton\r\n",
      "monitor        \ton\r\n"
     ]
    }
   ],
   "source": [
    "set -o | grep -w 'on'"
   ]
  }
 ],
 "metadata": {
  "kernelspec": {
   "display_name": "Bash",
   "language": "bash",
   "name": "bash"
  },
  "language_info": {
   "codemirror_mode": "shell",
   "file_extension": ".sh",
   "mimetype": "text/x-sh",
   "name": "bash"
  }
 },
 "nbformat": 4,
 "nbformat_minor": 0
}
