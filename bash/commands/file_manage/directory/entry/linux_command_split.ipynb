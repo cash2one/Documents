{
 "cells": [
  {
   "cell_type": "markdown",
   "metadata": {},
   "source": [
    "#### NAME\n",
    "    split - split a file into pieces\n",
    "#### SYNOPSIS\n",
    "    split [OPTION]... [INPUT [PREFIX]]\n",
    "#### DESCRIPTION\n",
    "    Output fixed-size pieces of INPUT to PREFIXaa, PREFIXab, ...; \n",
    "    default size is 1000 lines, and default PREFIX is 'x'.\n",
    "    With  no  INPUT,  or when INPUT is -, read standard input."
   ]
  },
  {
   "cell_type": "markdown",
   "metadata": {},
   "source": [
    "#### OPTIONS"
   ]
  },
  {
   "cell_type": "markdown",
   "metadata": {},
   "source": [
    "###### default"
   ]
  },
  {
   "cell_type": "code",
   "execution_count": 7,
   "metadata": {
    "collapsed": false
   },
   "outputs": [
    {
     "name": "stdout",
     "output_type": "stream",
     "text": [
      "-rw-r--r--. 1 liheyi root   579K Aug  6 22:13 split.txt\r\n",
      "-rw-rw-r--. 1 liheyi liheyi  70K Aug  6 22:18 xaa\r\n",
      "-rw-rw-r--. 1 liheyi liheyi  70K Aug  6 22:18 xab\r\n",
      "-rw-rw-r--. 1 liheyi liheyi  70K Aug  6 22:18 xac\r\n",
      "-rw-rw-r--. 1 liheyi liheyi  70K Aug  6 22:18 xad\r\n",
      "-rw-rw-r--. 1 liheyi liheyi  70K Aug  6 22:18 xae\r\n",
      "-rw-rw-r--. 1 liheyi liheyi  70K Aug  6 22:18 xaf\r\n",
      "-rw-rw-r--. 1 liheyi liheyi  70K Aug  6 22:18 xag\r\n",
      "-rw-rw-r--. 1 liheyi liheyi  70K Aug  6 22:18 xah\r\n",
      "-rw-rw-r--. 1 liheyi liheyi  20K Aug  6 22:18 xai\r\n"
     ]
    }
   ],
   "source": [
    "# default size is 1000 lines,\n",
    "# and default PREFIX is 'x'\n",
    "split split.txt\n",
    "ls -lh split.txt x*"
   ]
  },
  {
   "cell_type": "code",
   "execution_count": 8,
   "metadata": {
    "collapsed": false
   },
   "outputs": [
    {
     "name": "stdout",
     "output_type": "stream",
     "text": [
      "  1000 xaa\r\n",
      "  1000 xab\r\n",
      "  1000 xac\r\n",
      "  1000 xad\r\n",
      "  1000 xae\r\n",
      "  1000 xaf\r\n",
      "  1000 xag\r\n",
      "  1000 xah\r\n",
      "   280 xai\r\n",
      "  8280 total\r\n"
     ]
    }
   ],
   "source": [
    "wc -l x*"
   ]
  },
  {
   "cell_type": "markdown",
   "metadata": {},
   "source": [
    "###### -l, --lines=NUMBER\n",
    "    put NUMBER lines per output file"
   ]
  },
  {
   "cell_type": "code",
   "execution_count": 13,
   "metadata": {
    "collapsed": false
   },
   "outputs": [
    {
     "name": "stdout",
     "output_type": "stream",
     "text": [
      "-rw-r--r--. 1 liheyi root   579K Aug  6 22:13 split.txt\r\n",
      "-rw-rw-r--. 1 liheyi liheyi 140K Aug  6 22:37 xaa\r\n",
      "-rw-rw-r--. 1 liheyi liheyi 140K Aug  6 22:37 xab\r\n",
      "-rw-rw-r--. 1 liheyi liheyi 140K Aug  6 22:37 xac\r\n",
      "-rw-rw-r--. 1 liheyi liheyi 140K Aug  6 22:37 xad\r\n",
      "-rw-rw-r--. 1 liheyi liheyi  20K Aug  6 22:37 xae\r\n"
     ]
    }
   ],
   "source": [
    "# Number of lines per output split file \n",
    "# can be customized using the -l option\n",
    "# split files are created with 2000 lines.\n",
    "split -l2000 split.txt\n",
    "ls -lh split.txt x*"
   ]
  },
  {
   "cell_type": "code",
   "execution_count": 14,
   "metadata": {
    "collapsed": false
   },
   "outputs": [
    {
     "name": "stdout",
     "output_type": "stream",
     "text": [
      "  2000 xaa\r\n",
      "  2000 xab\r\n",
      "  2000 xac\r\n",
      "  2000 xad\r\n",
      "   280 xae\r\n",
      "  8280 total\r\n"
     ]
    }
   ],
   "source": [
    "wc -l x*"
   ]
  },
  {
   "cell_type": "markdown",
   "metadata": {},
   "source": [
    "###### -C, --line-bytes=SIZE\n",
    "    put at most SIZE bytes of lines per output file"
   ]
  },
  {
   "cell_type": "code",
   "execution_count": 18,
   "metadata": {
    "collapsed": false
   },
   "outputs": [
    {
     "name": "stdout",
     "output_type": "stream",
     "text": [
      "-rw-r--r--. 1 liheyi root   592020 Aug  6 22:13 split.txt\r\n",
      "-rw-rw-r--. 1 liheyi liheyi  79984 Aug  6 22:58 xaa\r\n",
      "-rw-rw-r--. 1 liheyi liheyi  79974 Aug  6 22:58 xab\r\n",
      "-rw-rw-r--. 1 liheyi liheyi  79980 Aug  6 22:58 xac\r\n",
      "-rw-rw-r--. 1 liheyi liheyi  79978 Aug  6 22:58 xad\r\n",
      "-rw-rw-r--. 1 liheyi liheyi  79948 Aug  6 22:58 xae\r\n",
      "-rw-rw-r--. 1 liheyi liheyi  79932 Aug  6 22:58 xaf\r\n",
      "-rw-rw-r--. 1 liheyi liheyi  79982 Aug  6 22:58 xag\r\n",
      "-rw-rw-r--. 1 liheyi liheyi  32242 Aug  6 22:58 xah\r\n"
     ]
    }
   ],
   "source": [
    "# split files are created with 80000 bytes.\n",
    "split -C80000 split.txt\n",
    "ls -l split.txt x*"
   ]
  },
  {
   "cell_type": "markdown",
   "metadata": {},
   "source": [
    "#### -b, --bytes=SIZE\n",
    "    put SIZE bytes per output file\n",
    "    \n",
    "    SIZE may be (or may be an integer optionally followed by) one of following:  \n",
    "    KB/kb  1000, \n",
    "    K/k   1024, \n",
    "    MB/mb  1000*1000, \n",
    "    M/m   1024*1024, \n",
    "    and so on for G/g,T/t, P/p, E/e, Z/z, Y/z"
   ]
  },
  {
   "cell_type": "code",
   "execution_count": 12,
   "metadata": {
    "collapsed": false
   },
   "outputs": [
    {
     "name": "stdout",
     "output_type": "stream",
     "text": [
      "-rw-r--r--. 1 liheyi root   579K Aug  6 22:13 split.txt\r\n",
      "-rw-rw-r--. 1 liheyi liheyi 100K Aug  6 22:29 xaa\r\n",
      "-rw-rw-r--. 1 liheyi liheyi 100K Aug  6 22:29 xab\r\n",
      "-rw-rw-r--. 1 liheyi liheyi 100K Aug  6 22:29 xac\r\n",
      "-rw-rw-r--. 1 liheyi liheyi 100K Aug  6 22:29 xad\r\n",
      "-rw-rw-r--. 1 liheyi liheyi 100K Aug  6 22:29 xae\r\n",
      "-rw-rw-r--. 1 liheyi liheyi  79K Aug  6 22:29 xaf\r\n"
     ]
    }
   ],
   "source": [
    "# Size of each output split file \n",
    "# can be controlled using -b option.\n",
    "# In this example, \n",
    "# the split files were created with a size of 100K\n",
    "split -b100k split.txt\n",
    "ls -lh split.txt x*"
   ]
  },
  {
   "cell_type": "markdown",
   "metadata": {},
   "source": [
    "###### -a, --suffix-length=N\n",
    "    use suffixes of length N (default 2)"
   ]
  },
  {
   "cell_type": "code",
   "execution_count": 10,
   "metadata": {
    "collapsed": false
   },
   "outputs": [
    {
     "name": "stdout",
     "output_type": "stream",
     "text": [
      "-rw-r--r--. 1 liheyi root   579K Aug  6 22:13 split.txt\r\n",
      "-rw-rw-r--. 1 liheyi liheyi  70K Aug  6 22:24 xaaaaa\r\n",
      "-rw-rw-r--. 1 liheyi liheyi  70K Aug  6 22:24 xaaaab\r\n",
      "-rw-rw-r--. 1 liheyi liheyi  70K Aug  6 22:24 xaaaac\r\n",
      "-rw-rw-r--. 1 liheyi liheyi  70K Aug  6 22:24 xaaaad\r\n",
      "-rw-rw-r--. 1 liheyi liheyi  70K Aug  6 22:24 xaaaae\r\n",
      "-rw-rw-r--. 1 liheyi liheyi  70K Aug  6 22:24 xaaaaf\r\n",
      "-rw-rw-r--. 1 liheyi liheyi  70K Aug  6 22:24 xaaaag\r\n",
      "-rw-rw-r--. 1 liheyi liheyi  70K Aug  6 22:24 xaaaah\r\n",
      "-rw-rw-r--. 1 liheyi liheyi  20K Aug  6 22:24 xaaaai\r\n"
     ]
    }
   ],
   "source": [
    "# the default suffix length is 2\n",
    "# with -a option,using suffix of length 5 on the split files\n",
    "split -a5 split.txt\n",
    "ls -lh split.txt x*"
   ]
  },
  {
   "cell_type": "markdown",
   "metadata": {},
   "source": [
    "###### -d, --numeric-suffixes\n",
    "    use numeric suffixes instead of alphabetic"
   ]
  },
  {
   "cell_type": "code",
   "execution_count": 15,
   "metadata": {
    "collapsed": false
   },
   "outputs": [
    {
     "name": "stdout",
     "output_type": "stream",
     "text": [
      "-rw-r--r--. 1 liheyi root   579K Aug  6 22:13 split.txt\r\n",
      "-rw-rw-r--. 1 liheyi liheyi  70K Aug  6 22:40 x00\r\n",
      "-rw-rw-r--. 1 liheyi liheyi  70K Aug  6 22:40 x01\r\n",
      "-rw-rw-r--. 1 liheyi liheyi  70K Aug  6 22:40 x02\r\n",
      "-rw-rw-r--. 1 liheyi liheyi  70K Aug  6 22:40 x03\r\n",
      "-rw-rw-r--. 1 liheyi liheyi  70K Aug  6 22:40 x04\r\n",
      "-rw-rw-r--. 1 liheyi liheyi  70K Aug  6 22:40 x05\r\n",
      "-rw-rw-r--. 1 liheyi liheyi  70K Aug  6 22:40 x06\r\n",
      "-rw-rw-r--. 1 liheyi liheyi  70K Aug  6 22:40 x07\r\n",
      "-rw-rw-r--. 1 liheyi liheyi  20K Aug  6 22:40 x08\r\n"
     ]
    }
   ],
   "source": [
    "# Default,the output has the format of x** where ** are alphabets\n",
    "# You can change this to number using -d option\n",
    "split -d split.txt\n",
    "ls -lh split.txt x*"
   ]
  },
  {
   "cell_type": "code",
   "execution_count": 16,
   "metadata": {
    "collapsed": false
   },
   "outputs": [
    {
     "name": "stdout",
     "output_type": "stream",
     "text": [
      "-rw-r--r--. 1 liheyi root   579K Aug  6 22:13 split.txt\r\n",
      "-rw-rw-r--. 1 liheyi liheyi  70K Aug  6 22:44 x0000\r\n",
      "-rw-rw-r--. 1 liheyi liheyi  70K Aug  6 22:44 x0001\r\n",
      "-rw-rw-r--. 1 liheyi liheyi  70K Aug  6 22:44 x0002\r\n",
      "-rw-rw-r--. 1 liheyi liheyi  70K Aug  6 22:44 x0003\r\n",
      "-rw-rw-r--. 1 liheyi liheyi  70K Aug  6 22:44 x0004\r\n",
      "-rw-rw-r--. 1 liheyi liheyi  70K Aug  6 22:44 x0005\r\n",
      "-rw-rw-r--. 1 liheyi liheyi  70K Aug  6 22:44 x0006\r\n",
      "-rw-rw-r--. 1 liheyi liheyi  70K Aug  6 22:44 x0007\r\n",
      "-rw-rw-r--. 1 liheyi liheyi  20K Aug  6 22:44 x0008\r\n"
     ]
    }
   ],
   "source": [
    "# Combined -a option\n",
    "split -d -a4 split.txt\n",
    "ls -lh split.txt x*"
   ]
  },
  {
   "cell_type": "markdown",
   "metadata": {},
   "source": [
    "###### --verbose\n",
    "    print a diagnostic just before each output file is opened"
   ]
  },
  {
   "cell_type": "code",
   "execution_count": 1,
   "metadata": {
    "collapsed": false
   },
   "outputs": [
    {
     "name": "stdout",
     "output_type": "stream",
     "text": [
      "creating file `xaa'\r\n",
      "creating file `xab'\r\n",
      "creating file `xac'\r\n",
      "creating file `xad'\r\n",
      "creating file `xae'\r\n",
      "creating file `xaf'\r\n",
      "creating file `xag'\r\n",
      "creating file `xah'\r\n",
      "creating file `xai'\r\n"
     ]
    }
   ],
   "source": [
    "# print a diagnostic infomation\n",
    "split --verbose split.txt"
   ]
  },
  {
   "cell_type": "code",
   "execution_count": 2,
   "metadata": {
    "collapsed": false
   },
   "outputs": [
    {
     "name": "stdout",
     "output_type": "stream",
     "text": [
      "-rw-r--r--. 1 liheyi root 579K Aug  6 22:13 split.txt\r\n",
      "-rw-r--r--. 1 liheyi root  70K Aug  7 10:12 xaa\r\n",
      "-rw-r--r--. 1 liheyi root  70K Aug  7 10:12 xab\r\n",
      "-rw-r--r--. 1 liheyi root  70K Aug  7 10:12 xac\r\n",
      "-rw-r--r--. 1 liheyi root  70K Aug  7 10:12 xad\r\n",
      "-rw-r--r--. 1 liheyi root  70K Aug  7 10:12 xae\r\n",
      "-rw-r--r--. 1 liheyi root  70K Aug  7 10:12 xaf\r\n",
      "-rw-r--r--. 1 liheyi root  70K Aug  7 10:12 xag\r\n",
      "-rw-r--r--. 1 liheyi root  70K Aug  7 10:12 xah\r\n",
      "-rw-r--r--. 1 liheyi root  20K Aug  7 10:12 xai\r\n"
     ]
    }
   ],
   "source": [
    "ls -lh split.txt x*"
   ]
  },
  {
   "cell_type": "code",
   "execution_count": 3,
   "metadata": {
    "collapsed": false
   },
   "outputs": [
    {
     "name": "stdout",
     "output_type": "stream",
     "text": [
      "creating file `x000'\r\n",
      "creating file `x001'\r\n",
      "creating file `x002'\r\n",
      "creating file `x003'\r\n",
      "creating file `x004'\r\n",
      "creating file `x005'\r\n",
      "creating file `x006'\r\n",
      "creating file `x007'\r\n",
      "creating file `x008'\r\n"
     ]
    }
   ],
   "source": [
    "split --verbose -d -a3 split.txt"
   ]
  },
  {
   "cell_type": "code",
   "execution_count": 4,
   "metadata": {
    "collapsed": false
   },
   "outputs": [
    {
     "name": "stdout",
     "output_type": "stream",
     "text": [
      "-rw-r--r--. 1 liheyi root   579K Aug  6 22:13 split.txt\r\n",
      "-rw-rw-r--. 1 liheyi liheyi  70K Aug  7 10:13 x000\r\n",
      "-rw-rw-r--. 1 liheyi liheyi  70K Aug  7 10:13 x001\r\n",
      "-rw-rw-r--. 1 liheyi liheyi  70K Aug  7 10:13 x002\r\n",
      "-rw-rw-r--. 1 liheyi liheyi  70K Aug  7 10:13 x003\r\n",
      "-rw-rw-r--. 1 liheyi liheyi  70K Aug  7 10:13 x004\r\n",
      "-rw-rw-r--. 1 liheyi liheyi  70K Aug  7 10:13 x005\r\n",
      "-rw-rw-r--. 1 liheyi liheyi  70K Aug  7 10:13 x006\r\n",
      "-rw-rw-r--. 1 liheyi liheyi  70K Aug  7 10:13 x007\r\n",
      "-rw-rw-r--. 1 liheyi liheyi  20K Aug  7 10:13 x008\r\n"
     ]
    }
   ],
   "source": [
    "ls -lh split.txt x*"
   ]
  }
 ],
 "metadata": {
  "kernelspec": {
   "display_name": "Bash",
   "language": "bash",
   "name": "bash"
  },
  "language_info": {
   "codemirror_mode": "shell",
   "file_extension": ".sh",
   "mimetype": "text/x-sh",
   "name": "bash"
  }
 },
 "nbformat": 4,
 "nbformat_minor": 0
}
