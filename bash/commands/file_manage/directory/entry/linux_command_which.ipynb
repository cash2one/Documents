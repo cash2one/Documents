{
 "cells": [
  {
   "cell_type": "markdown",
   "metadata": {},
   "source": [
    "#### NAME\n",
    "    which - shows the full path of (shell) commands.\n",
    "\n",
    "#### SYNOPSIS\n",
    "    which [options] [--] programname [...]\n",
    "#### DESCRIPTION\n",
    "    Which takes one or more arguments. \n",
    "    For each of its arguments it prints to stdout the full path of the executables that would have been executed when this argument had been entered at the shell prompt. \n",
    "    It does this by searching for an executable or script in the directories listed in the environment variable PATH using the same algorithmas bash(1)."
   ]
  },
  {
   "cell_type": "markdown",
   "metadata": {},
   "source": [
    "#### OPTIONS\n",
    "###### default"
   ]
  },
  {
   "cell_type": "code",
   "execution_count": 2,
   "metadata": {
    "collapsed": false
   },
   "outputs": [
    {
     "name": "stdout",
     "output_type": "stream",
     "text": [
      "/usr/bin/mysql\r\n"
     ]
    }
   ],
   "source": [
    "which mysql"
   ]
  },
  {
   "cell_type": "code",
   "execution_count": 4,
   "metadata": {
    "collapsed": false
   },
   "outputs": [
    {
     "name": "stdout",
     "output_type": "stream",
     "text": [
      "/usr/bin/mysql\r\n",
      "/sbin/iptables\r\n",
      "/home/liheyi/anaconda2/bin/python2.7\r\n"
     ]
    }
   ],
   "source": [
    "which mysql iptables python2.7"
   ]
  },
  {
   "cell_type": "markdown",
   "metadata": {},
   "source": [
    "######  -a\n",
    "    Print all matching executables in PATH, not just the first."
   ]
  },
  {
   "cell_type": "code",
   "execution_count": 5,
   "metadata": {
    "collapsed": false
   },
   "outputs": [
    {
     "name": "stdout",
     "output_type": "stream",
     "text": [
      "/home/liheyi/anaconda2/bin/python2.7\r\n"
     ]
    }
   ],
   "source": [
    "which python2.7"
   ]
  },
  {
   "cell_type": "code",
   "execution_count": 6,
   "metadata": {
    "collapsed": false
   },
   "outputs": [
    {
     "name": "stdout",
     "output_type": "stream",
     "text": [
      "/home/liheyi/anaconda2/bin/python2.7\r\n",
      "/usr/bin/python2.7\r\n"
     ]
    }
   ],
   "source": [
    "which -a python2.7"
   ]
  },
  {
   "cell_type": "code",
   "execution_count": 9,
   "metadata": {
    "collapsed": false
   },
   "outputs": [
    {
     "name": "stdout",
     "output_type": "stream",
     "text": [
      "/home/liheyi/anaconda2/bin/python\r\n",
      "/usr/bin/python\r\n",
      "/home/liheyi/anaconda2/bin/pip\r\n",
      "/usr/local/bin/pip\r\n",
      "/usr/bin/pip\r\n"
     ]
    }
   ],
   "source": [
    "which -a python pip"
   ]
  },
  {
   "cell_type": "markdown",
   "metadata": {},
   "source": [
    "#### EXIT STATUS\n",
    "    0      if all specified commands are found and executable\n",
    "\n",
    "    1      if one or more specified commands is nonexistent or not executable\n",
    "\n",
    "    2      if an invalid option is specified"
   ]
  },
  {
   "cell_type": "markdown",
   "metadata": {},
   "source": [
    "#### The options of other which version"
   ]
  },
  {
   "cell_type": "markdown",
   "metadata": {},
   "source": [
    "###### --all, -a\n",
    "    Print all matching executables in PATH, not just the first."
   ]
  },
  {
   "cell_type": "markdown",
   "metadata": {},
   "source": [
    "###### --read-alias, -i\n",
    "    Read aliases from stdin, reporting matching ones on stdout. \n",
    "    This is useful in combination with using an alias for which itself. \n",
    "    For example alias which=´alias | which -i´."
   ]
  },
  {
   "cell_type": "markdown",
   "metadata": {},
   "source": [
    "###### --skip-alias\n",
    "    Ignore option `--read-alias´, if any. \n",
    "    This is useful to explicity search for normal binaries, \n",
    "    while using the `--read-alias´ option in an alias or function for which."
   ]
  },
  {
   "cell_type": "markdown",
   "metadata": {},
   "source": [
    "###### --read-functions\n",
    "    Read shell function definitions from stdin, reporting matching ones on stdout.\n",
    "    This is useful in combination with using a shell function for which itself.  \n",
    "    For example:\n",
    "           which() { declare -f | which --read-functions $@ }\n",
    "           export -f which"
   ]
  },
  {
   "cell_type": "markdown",
   "metadata": {},
   "source": [
    "###### --skip-functions\n",
    "    Ignore option `--read-functions´, if any. \n",
    "    This is useful to explicity search for normal binaries, \n",
    "    while using the `--read-functions´ option in an alias or function for which."
   ]
  },
  {
   "cell_type": "markdown",
   "metadata": {},
   "source": [
    "###### --show-dot\n",
    "    If a directory in PATH starts with a dot and a matching executable was found for that path, \n",
    "    then print \"./programname\" rather than the full path."
   ]
  },
  {
   "cell_type": "markdown",
   "metadata": {},
   "source": [
    "######  --skip-dot\n",
    "    Skip directories in PATH that start with a dot."
   ]
  },
  {
   "cell_type": "markdown",
   "metadata": {},
   "source": [
    "###### --show-tilde\n",
    "    Output a tilde when a directory matches the HOME directory. \n",
    "    This option is ignored when which is invoked as root."
   ]
  },
  {
   "cell_type": "markdown",
   "metadata": {},
   "source": [
    "###### --skip-tilde\n",
    "    Skip directories in PATH that start with a tilde and executables which reside in the HOME directory."
   ]
  },
  {
   "cell_type": "markdown",
   "metadata": {},
   "source": [
    "######  --tty-only\n",
    "    Stop processing options on the right if not on tty."
   ]
  },
  {
   "cell_type": "markdown",
   "metadata": {},
   "source": [
    "#### EXAMPLE"
   ]
  },
  {
   "cell_type": "markdown",
   "metadata": {},
   "source": [
    "    The recommended way to use this utility is by adding an alias (C shell) or shell function (Bourne shell) for which like the following:"
   ]
  },
  {
   "cell_type": "code",
   "execution_count": null,
   "metadata": {
    "collapsed": true
   },
   "outputs": [],
   "source": [
    "# [ba]sh:\n",
    "\n",
    "    which ()\n",
    "    {\n",
    "        (alias; declare -f) | /usr/bin/which --tty-only --read-alias --read-functions --show-tilde --show-dot $@\n",
    "    }\n",
    "    export -f which"
   ]
  },
  {
   "cell_type": "code",
   "execution_count": null,
   "metadata": {
    "collapsed": true
   },
   "outputs": [],
   "source": [
    "# [t]csh:\n",
    "\n",
    "    alias which ´alias | /usr/bin/which --tty-only --read-alias --show-dot --show-tilde´"
   ]
  },
  {
   "cell_type": "markdown",
   "metadata": {},
   "source": [
    "    This  will  print the readable ~/ and ./ when starting which from your prompt, \n",
    "    while still printing the full path when used from a script:\n",
    "        > which q2\n",
    "        ~/bin/q2\n",
    "        > echo `which q2`\n",
    "        /home/carlo/bin/q2"
   ]
  }
 ],
 "metadata": {
  "kernelspec": {
   "display_name": "Bash",
   "language": "bash",
   "name": "bash"
  },
  "language_info": {
   "codemirror_mode": "shell",
   "file_extension": ".sh",
   "mimetype": "text/x-sh",
   "name": "bash"
  }
 },
 "nbformat": 4,
 "nbformat_minor": 0
}
