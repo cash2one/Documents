{
 "cells": [
  {
   "cell_type": "markdown",
   "metadata": {},
   "source": [
    "### NAME\n",
    "call the link function to create a link to a file\n",
    "### SYNOPSIS\n",
    "link FILE1 FILE2\n",
    "\n",
    "link OPTION\n",
    "### DESCRIPTION\n",
    "Call the link function to create a link named FILE2 to an existing FILE1."
   ]
  },
  {
   "cell_type": "markdown",
   "metadata": {},
   "source": [
    "### OPTIONS\n",
    "#### --help\n",
    "Display this help and exit"
   ]
  },
  {
   "cell_type": "code",
   "execution_count": 2,
   "metadata": {
    "collapsed": false
   },
   "outputs": [
    {
     "name": "stdout",
     "output_type": "stream",
     "text": [
      "Usage: link FILE1 FILE2\r\n",
      "  or:  link OPTION\r\n",
      "Call the link function to create a link named FILE2 to an existing FILE1.\r\n",
      "\r\n",
      "      --help     display this help and exit\r\n",
      "      --version  output version information and exit\r\n",
      "\r\n",
      "Report link bugs to bug-coreutils@gnu.org\r\n",
      "GNU coreutils home page: <http://www.gnu.org/software/coreutils/>\r\n",
      "General help using GNU software: <http://www.gnu.org/gethelp/>\r\n",
      "For complete documentation, run: info coreutils 'link invocation'\r\n"
     ]
    }
   ],
   "source": [
    "link --help"
   ]
  },
  {
   "cell_type": "markdown",
   "metadata": {},
   "source": [
    "#### --version\n",
    "Output version information and exit"
   ]
  },
  {
   "cell_type": "code",
   "execution_count": 3,
   "metadata": {
    "collapsed": false
   },
   "outputs": [
    {
     "name": "stdout",
     "output_type": "stream",
     "text": [
      "link (GNU coreutils) 8.4\r\n",
      "Copyright (C) 2010 Free Software Foundation, Inc.\r\n",
      "License GPLv3+: GNU GPL version 3 or later <http://gnu.org/licenses/gpl.html>.\r\n",
      "This is free software: you are free to change and redistribute it.\r\n",
      "There is NO WARRANTY, to the extent permitted by law.\r\n",
      "\r\n",
      "Written by Michael Stone.\r\n"
     ]
    }
   ],
   "source": [
    "link --version"
   ]
  },
  {
   "cell_type": "markdown",
   "metadata": {},
   "source": [
    "'link' command by default creates hard link file "
   ]
  },
  {
   "cell_type": "code",
   "execution_count": 2,
   "metadata": {
    "collapsed": false
   },
   "outputs": [
    {
     "name": "stdout",
     "output_type": "stream",
     "text": [
      "total 20\r\n",
      "drwxrwxr-x 18 liheyi liheyi 4096  7月  5 19:13 anaconda2\r\n",
      "-rw-r--r--  1 liheyi liheyi 8980  6月 12 17:41 examples.desktop\r\n",
      "drwxrwxr-x  6 liheyi liheyi 4096  8月  4 13:02 jupyter\r\n"
     ]
    }
   ],
   "source": [
    "ls -l /home/liheyi/"
   ]
  },
  {
   "cell_type": "code",
   "execution_count": 3,
   "metadata": {
    "collapsed": false
   },
   "outputs": [
    {
     "name": "stdout",
     "output_type": "stream",
     "text": [
      "total 32\r\n",
      "1325310 drwxrwxr-x 18 liheyi liheyi 4096  7月  5 19:13 anaconda2\r\n",
      " 927813 -rw-r--r--  2 liheyi liheyi 8980  6月 12 17:41 examples.desktop\r\n",
      " 927813 -rw-r--r--  2 liheyi liheyi 8980  6月 12 17:41 examples.link\r\n",
      "1191088 drwxrwxr-x  6 liheyi liheyi 4096  8月  4 13:02 jupyter\r\n"
     ]
    }
   ],
   "source": [
    "# hard link\n",
    "link /home/liheyi/examples.desktop /home/liheyi/examples.link\n",
    "ls -li /home/liheyi/"
   ]
  }
 ],
 "metadata": {
  "kernelspec": {
   "display_name": "Bash",
   "language": "bash",
   "name": "bash"
  },
  "language_info": {
   "codemirror_mode": "shell",
   "file_extension": ".sh",
   "mimetype": "text/x-sh",
   "name": "bash"
  }
 },
 "nbformat": 4,
 "nbformat_minor": 0
}
