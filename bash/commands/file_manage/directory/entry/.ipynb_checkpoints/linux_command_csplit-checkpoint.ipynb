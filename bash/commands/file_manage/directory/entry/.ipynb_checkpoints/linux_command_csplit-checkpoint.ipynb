{
 "cells": [
  {
   "cell_type": "markdown",
   "metadata": {},
   "source": [
    "#### NAME\n",
    "    csplit - split a file into sections determined by context lines\n",
    "#### SYNOPSIS\n",
    "    csplit [OPTION]... FILE PATTERN...\n",
    "#### DESCRIPTION\n",
    "    Output pieces of FILE separated by PATTERN(s) to files‘xx00',‘xx01’, ..., \n",
    "    and output byte counts of each piece to standard output.\n",
    "    Read standard input if FILE is -."
   ]
  },
  {
   "cell_type": "markdown",
   "metadata": {},
   "source": [
    "###### Each PATTERN may be:\n",
    "###### INTEGER\n",
    "    copy up to but not including specified line number\n",
    "###### /REGEXP/[OFFSET]\n",
    "    copy up to but not including a matching line\n",
    "###### %REGEXP%[OFFSET]\n",
    "    skip to, but not including a matching line\n",
    "###### {INTEGER}\n",
    "    repeat the previous pattern specified number of times\n",
    "###### {*}    \n",
    "    repeat the previous pattern as many times as possible"
   ]
  },
  {
   "cell_type": "markdown",
   "metadata": {},
   "source": [
    "A line OFFSET is a required ‘+’ or ‘-’ followed by a positive integer."
   ]
  },
  {
   "cell_type": "markdown",
   "metadata": {},
   "source": [
    "#### OPTIONS"
   ]
  },
  {
   "cell_type": "markdown",
   "metadata": {},
   "source": [
    "###### default"
   ]
  },
  {
   "cell_type": "code",
   "execution_count": 11,
   "metadata": {
    "collapsed": false
   },
   "outputs": [
    {
     "name": "stdout",
     "output_type": "stream",
     "text": [
      "56\r\n",
      "104\r\n"
     ]
    }
   ],
   "source": [
    "# Make a file to break at a particular line number(csplit file_name number):\n",
    "# The output of the command is number of the bytes in which the files are broken. \n",
    "# After executing the command two new files xx00 and xx01 are \n",
    "# created of 56 and 85 bytes respectively.\n",
    "csplit csplit.txt 5"
   ]
  },
  {
   "cell_type": "code",
   "execution_count": 12,
   "metadata": {
    "collapsed": false
   },
   "outputs": [
    {
     "name": "stdout",
     "output_type": "stream",
     "text": [
      "-rw-r--r--. 1 liheyi root   160 Aug  7 13:53 csplit.txt\r\n",
      "-rw-rw-r--. 1 liheyi liheyi  56 Aug  7 13:55 xx00\r\n",
      "-rw-rw-r--. 1 liheyi liheyi 104 Aug  7 13:55 xx01\r\n"
     ]
    }
   ],
   "source": [
    "ls -l csplit.txt x*"
   ]
  },
  {
   "cell_type": "code",
   "execution_count": 13,
   "metadata": {
    "collapsed": false
   },
   "outputs": [
    {
     "name": "stdout",
     "output_type": "stream",
     "text": [
      "The line of 1\r\n",
      "The line of 2\r\n",
      "The line of 3\r\n",
      "The line of 4\r\n"
     ]
    }
   ],
   "source": [
    "cat xx00"
   ]
  },
  {
   "cell_type": "code",
   "execution_count": 14,
   "metadata": {
    "collapsed": false
   },
   "outputs": [
    {
     "name": "stdout",
     "output_type": "stream",
     "text": [
      "The line of 5\r\n",
      "The line of middle\r\n",
      "The line of 6\r\n",
      "The line of 7\r\n",
      "The line of 8\r\n",
      "The line of 9\r\n",
      "The line of 10\r\n"
     ]
    }
   ],
   "source": [
    "cat xx01"
   ]
  },
  {
   "cell_type": "code",
   "execution_count": 6,
   "metadata": {
    "collapsed": false
   },
   "outputs": [
    {
     "name": "stdout",
     "output_type": "stream",
     "text": [
      "The line of 1\r\n",
      "The line of 2\r\n",
      "The line of 3\r\n",
      "The line of 4\r\n",
      "The line of 5\r\n",
      "The line of middle\r\n",
      "The line of 6\r\n",
      "The line of 7\r\n",
      "The line of 8\r\n",
      "The line of 9\r\n",
      "The line of 10\r\n"
     ]
    }
   ],
   "source": [
    "# To split files at a regular expression(csplit file_name reg_expression) \n",
    "# the file is break at a point where a regular expression string”6″ \n",
    "# has appeared in the file and two different files,xx00 and xx01 are created.\n",
    "cat csplit.txt"
   ]
  },
  {
   "cell_type": "code",
   "execution_count": 7,
   "metadata": {
    "collapsed": false
   },
   "outputs": [
    {
     "name": "stdout",
     "output_type": "stream",
     "text": [
      "70\r\n",
      "90\r\n"
     ]
    }
   ],
   "source": [
    "csplit csplit.txt /'middle'/"
   ]
  },
  {
   "cell_type": "code",
   "execution_count": 8,
   "metadata": {
    "collapsed": false
   },
   "outputs": [
    {
     "name": "stdout",
     "output_type": "stream",
     "text": [
      "-rw-r--r--. 1 liheyi root   160 Aug  7 13:53 csplit.txt\r\n",
      "-rw-rw-r--. 1 liheyi liheyi  70 Aug  7 13:54 xx00\r\n",
      "-rw-rw-r--. 1 liheyi liheyi  90 Aug  7 13:54 xx01\r\n"
     ]
    }
   ],
   "source": [
    "ls -lh csplit.txt xx*"
   ]
  },
  {
   "cell_type": "code",
   "execution_count": 9,
   "metadata": {
    "collapsed": false
   },
   "outputs": [
    {
     "name": "stdout",
     "output_type": "stream",
     "text": [
      "The line of 1\r\n",
      "The line of 2\r\n",
      "The line of 3\r\n",
      "The line of 4\r\n",
      "The line of 5\r\n"
     ]
    }
   ],
   "source": [
    "cat xx00"
   ]
  },
  {
   "cell_type": "code",
   "execution_count": 10,
   "metadata": {
    "collapsed": false
   },
   "outputs": [
    {
     "name": "stdout",
     "output_type": "stream",
     "text": [
      "The line of middle\r\n",
      "The line of 6\r\n",
      "The line of 7\r\n",
      "The line of 8\r\n",
      "The line of 9\r\n",
      "The line of 10\r\n"
     ]
    }
   ],
   "source": [
    "cat xx01"
   ]
  },
  {
   "cell_type": "code",
   "execution_count": 16,
   "metadata": {
    "collapsed": false
   },
   "outputs": [
    {
     "name": "stdout",
     "output_type": "stream",
     "text": [
      "0\r\n",
      "160\r\n"
     ]
    }
   ],
   "source": [
    "# Also if expression is found at starting a empty file xx00 is created.\n",
    "csplit csplit.txt /'line'/"
   ]
  },
  {
   "cell_type": "code",
   "execution_count": 17,
   "metadata": {
    "collapsed": false
   },
   "outputs": [
    {
     "name": "stdout",
     "output_type": "stream",
     "text": [
      "-rw-r--r--. 1 liheyi root   160 Aug  7 13:53 csplit.txt\r\n",
      "-rw-rw-r--. 1 liheyi liheyi   0 Aug  7 13:57 xx00\r\n",
      "-rw-rw-r--. 1 liheyi liheyi 160 Aug  7 13:57 xx01\r\n"
     ]
    }
   ],
   "source": [
    "ls -lh csplit.txt xx*"
   ]
  },
  {
   "cell_type": "code",
   "execution_count": 18,
   "metadata": {
    "collapsed": false
   },
   "outputs": [
    {
     "name": "stdout",
     "output_type": "stream",
     "text": [
      "0\r\n",
      "14\r\n",
      "14\r\n",
      "14\r\n",
      "14\r\n",
      "14\r\n",
      "19\r\n",
      "14\r\n",
      "14\r\n",
      "14\r\n",
      "29\r\n"
     ]
    }
   ],
   "source": [
    "# passed '1' as the pattern and 9 as integer for repeat.\n",
    "# Thus the file was split 9 times and having 1 line in each file \n",
    "# and after 9 times all the remaining contents are filled in the final file.\n",
    "csplit csplit.txt 1 {9}"
   ]
  },
  {
   "cell_type": "code",
   "execution_count": 19,
   "metadata": {
    "collapsed": false
   },
   "outputs": [
    {
     "name": "stdout",
     "output_type": "stream",
     "text": [
      "-rw-r--r--. 1 liheyi root   160 Aug  7 13:53 csplit.txt\r\n",
      "-rw-rw-r--. 1 liheyi liheyi   0 Aug  7 14:10 xx00\r\n",
      "-rw-rw-r--. 1 liheyi liheyi  14 Aug  7 14:10 xx01\r\n",
      "-rw-rw-r--. 1 liheyi liheyi  14 Aug  7 14:10 xx02\r\n",
      "-rw-rw-r--. 1 liheyi liheyi  14 Aug  7 14:10 xx03\r\n",
      "-rw-rw-r--. 1 liheyi liheyi  14 Aug  7 14:10 xx04\r\n",
      "-rw-rw-r--. 1 liheyi liheyi  14 Aug  7 14:10 xx05\r\n",
      "-rw-rw-r--. 1 liheyi liheyi  19 Aug  7 14:10 xx06\r\n",
      "-rw-rw-r--. 1 liheyi liheyi  14 Aug  7 14:10 xx07\r\n",
      "-rw-rw-r--. 1 liheyi liheyi  14 Aug  7 14:10 xx08\r\n",
      "-rw-rw-r--. 1 liheyi liheyi  14 Aug  7 14:10 xx09\r\n",
      "-rw-rw-r--. 1 liheyi liheyi  29 Aug  7 14:10 xx10\r\n"
     ]
    }
   ],
   "source": [
    "# Notice:\n",
    "# the first splited file xx00 is empty.\n",
    "ls -lh csplit.txt xx*"
   ]
  },
  {
   "cell_type": "code",
   "execution_count": 20,
   "metadata": {
    "collapsed": false
   },
   "outputs": [
    {
     "name": "stdout",
     "output_type": "stream",
     "text": [
      "The line of 1\r\n"
     ]
    }
   ],
   "source": [
    "cat xx01"
   ]
  },
  {
   "cell_type": "code",
   "execution_count": 24,
   "metadata": {
    "collapsed": false
   },
   "outputs": [
    {
     "name": "stdout",
     "output_type": "stream",
     "text": [
      "The line of 2\r\n"
     ]
    }
   ],
   "source": [
    "cat xx02"
   ]
  },
  {
   "cell_type": "code",
   "execution_count": 25,
   "metadata": {
    "collapsed": false
   },
   "outputs": [
    {
     "name": "stdout",
     "output_type": "stream",
     "text": [
      "The line of middle\r\n"
     ]
    }
   ],
   "source": [
    "cat xx06"
   ]
  },
  {
   "cell_type": "code",
   "execution_count": 22,
   "metadata": {
    "collapsed": false
   },
   "outputs": [
    {
     "name": "stdout",
     "output_type": "stream",
     "text": [
      "The line of 8\r\n"
     ]
    }
   ],
   "source": [
    "cat xx09"
   ]
  },
  {
   "cell_type": "code",
   "execution_count": 23,
   "metadata": {
    "collapsed": false
   },
   "outputs": [
    {
     "name": "stdout",
     "output_type": "stream",
     "text": [
      "The line of 9\r\n",
      "The line of 10\r\n"
     ]
    }
   ],
   "source": [
    "cat xx10"
   ]
  },
  {
   "cell_type": "code",
   "execution_count": 26,
   "metadata": {
    "collapsed": false
   },
   "outputs": [
    {
     "name": "stdout",
     "output_type": "stream",
     "text": [
      "28\r\n",
      "42\r\n",
      "47\r\n",
      "43\r\n"
     ]
    }
   ],
   "source": [
    "# # passed '3' as the pattern and 2 as integer for repeat.\n",
    "csplit csplit.txt 3 {2}"
   ]
  },
  {
   "cell_type": "code",
   "execution_count": 27,
   "metadata": {
    "collapsed": false
   },
   "outputs": [
    {
     "name": "stdout",
     "output_type": "stream",
     "text": [
      "-rw-r--r--. 1 liheyi root 160 Aug  7 13:53 csplit.txt\r\n",
      "-rw-r--r--. 1 liheyi root  28 Aug  7 14:14 xx00\r\n",
      "-rw-r--r--. 1 liheyi root  42 Aug  7 14:14 xx01\r\n",
      "-rw-r--r--. 1 liheyi root  47 Aug  7 14:14 xx02\r\n",
      "-rw-r--r--. 1 liheyi root  43 Aug  7 14:14 xx03\r\n"
     ]
    }
   ],
   "source": [
    "ls -lh csplit.txt xx*"
   ]
  },
  {
   "cell_type": "code",
   "execution_count": 28,
   "metadata": {
    "collapsed": false
   },
   "outputs": [
    {
     "name": "stdout",
     "output_type": "stream",
     "text": [
      "The line of 1\r\n",
      "The line of 2\r\n"
     ]
    }
   ],
   "source": [
    "cat xx00"
   ]
  },
  {
   "cell_type": "code",
   "execution_count": 29,
   "metadata": {
    "collapsed": false
   },
   "outputs": [
    {
     "name": "stdout",
     "output_type": "stream",
     "text": [
      "The line of 3\r\n",
      "The line of 4\r\n",
      "The line of 5\r\n"
     ]
    }
   ],
   "source": [
    "cat xx01"
   ]
  },
  {
   "cell_type": "code",
   "execution_count": 30,
   "metadata": {
    "collapsed": false
   },
   "outputs": [
    {
     "name": "stdout",
     "output_type": "stream",
     "text": [
      "The line of middle\r\n",
      "The line of 6\r\n",
      "The line of 7\r\n"
     ]
    }
   ],
   "source": [
    "cat xx02"
   ]
  },
  {
   "cell_type": "code",
   "execution_count": 31,
   "metadata": {
    "collapsed": false
   },
   "outputs": [
    {
     "name": "stdout",
     "output_type": "stream",
     "text": [
      "The line of 8\r\n",
      "The line of 9\r\n",
      "The line of 10\r\n"
     ]
    }
   ],
   "source": [
    "cat xx03"
   ]
  },
  {
   "cell_type": "code",
   "execution_count": 32,
   "metadata": {
    "collapsed": false
   },
   "outputs": [
    {
     "name": "stdout",
     "output_type": "stream",
     "text": [
      "28\r\n",
      "42\r\n",
      "47\r\n",
      "43\r\n",
      "csplit: `3': line number out of range on repetition 3\r\n"
     ]
    }
   ],
   "source": [
    "# But, \n",
    "# if number of lines are enough to break files in given number of lines, \n",
    "# we get error message as:\n",
    "csplit csplit.txt 3 {3}"
   ]
  },
  {
   "cell_type": "code",
   "execution_count": 48,
   "metadata": {
    "collapsed": false
   },
   "outputs": [
    {
     "name": "stdout",
     "output_type": "stream",
     "text": [
      "0\r\n",
      "14\r\n",
      "14\r\n",
      "14\r\n",
      "14\r\n",
      "14\r\n",
      "19\r\n",
      "14\r\n",
      "14\r\n",
      "14\r\n",
      "14\r\n",
      "15\r\n"
     ]
    }
   ],
   "source": [
    "# break down in a pattern with “{*}” option \n",
    "# which indicates the whole file\n",
    "csplit csplit.txt /line/ {*}"
   ]
  },
  {
   "cell_type": "code",
   "execution_count": 49,
   "metadata": {
    "collapsed": false
   },
   "outputs": [
    {
     "name": "stdout",
     "output_type": "stream",
     "text": [
      "-rw-r--r--. 1 liheyi root   160 Aug  7 13:53 csplit.txt\r\n",
      "-rw-rw-r--. 1 liheyi liheyi   0 Aug  7 15:12 xx00\r\n",
      "-rw-rw-r--. 1 liheyi liheyi  14 Aug  7 15:12 xx01\r\n",
      "-rw-rw-r--. 1 liheyi liheyi  14 Aug  7 15:12 xx02\r\n",
      "-rw-rw-r--. 1 liheyi liheyi  14 Aug  7 15:12 xx03\r\n",
      "-rw-rw-r--. 1 liheyi liheyi  14 Aug  7 15:12 xx04\r\n",
      "-rw-rw-r--. 1 liheyi liheyi  14 Aug  7 15:12 xx05\r\n",
      "-rw-rw-r--. 1 liheyi liheyi  19 Aug  7 15:12 xx06\r\n",
      "-rw-rw-r--. 1 liheyi liheyi  14 Aug  7 15:12 xx07\r\n",
      "-rw-rw-r--. 1 liheyi liheyi  14 Aug  7 15:12 xx08\r\n",
      "-rw-rw-r--. 1 liheyi liheyi  14 Aug  7 15:12 xx09\r\n",
      "-rw-rw-r--. 1 liheyi liheyi  14 Aug  7 15:12 xx10\r\n",
      "-rw-rw-r--. 1 liheyi liheyi  15 Aug  7 15:12 xx11\r\n"
     ]
    }
   ],
   "source": [
    "ls -lh csplit.txt xx*"
   ]
  },
  {
   "cell_type": "code",
   "execution_count": 50,
   "metadata": {
    "collapsed": false
   },
   "outputs": [
    {
     "name": "stdout",
     "output_type": "stream",
     "text": [
      "42\r\n",
      "61\r\n",
      "57\r\n"
     ]
    }
   ],
   "source": [
    "# All the above command line options \n",
    "# can be used with more numbers of break points\n",
    "csplit csplit.txt 4 8"
   ]
  },
  {
   "cell_type": "code",
   "execution_count": 51,
   "metadata": {
    "collapsed": false
   },
   "outputs": [
    {
     "name": "stdout",
     "output_type": "stream",
     "text": [
      "-rw-r--r--. 1 liheyi root   160 Aug  7 13:53 csplit.txt\r\n",
      "-rw-rw-r--. 1 liheyi liheyi  42 Aug  7 15:13 xx00\r\n",
      "-rw-rw-r--. 1 liheyi liheyi  61 Aug  7 15:13 xx01\r\n",
      "-rw-rw-r--. 1 liheyi liheyi  57 Aug  7 15:13 xx02\r\n"
     ]
    }
   ],
   "source": [
    "ls -lh csplit.txt xx*"
   ]
  },
  {
   "cell_type": "code",
   "execution_count": 52,
   "metadata": {
    "collapsed": false
   },
   "outputs": [
    {
     "name": "stdout",
     "output_type": "stream",
     "text": [
      "The line of 1\r\n",
      "The line of 2\r\n",
      "The line of 3\r\n"
     ]
    }
   ],
   "source": [
    "cat xx00"
   ]
  },
  {
   "cell_type": "code",
   "execution_count": 53,
   "metadata": {
    "collapsed": false
   },
   "outputs": [
    {
     "name": "stdout",
     "output_type": "stream",
     "text": [
      "The line of 4\r\n",
      "The line of 5\r\n",
      "The line of middle\r\n",
      "The line of 6\r\n"
     ]
    }
   ],
   "source": [
    "cat xx01"
   ]
  },
  {
   "cell_type": "code",
   "execution_count": 54,
   "metadata": {
    "collapsed": false
   },
   "outputs": [
    {
     "name": "stdout",
     "output_type": "stream",
     "text": [
      "The line of 7\r\n",
      "The line of 8\r\n",
      "The line of 9\r\n",
      "The line of 10\r\n"
     ]
    }
   ],
   "source": [
    "cat xx02"
   ]
  },
  {
   "cell_type": "markdown",
   "metadata": {},
   "source": [
    "###### -b, --suffix-format=FORMAT\n",
    "    use sprintf FORMAT instead of %02d"
   ]
  },
  {
   "cell_type": "code",
   "execution_count": 57,
   "metadata": {
    "collapsed": false
   },
   "outputs": [
    {
     "name": "stdout",
     "output_type": "stream",
     "text": [
      "70\r\n",
      "90\r\n"
     ]
    }
   ],
   "source": [
    "csplit -b '.%05d' csplit.txt /middle/"
   ]
  },
  {
   "cell_type": "code",
   "execution_count": 58,
   "metadata": {
    "collapsed": false
   },
   "outputs": [
    {
     "name": "stdout",
     "output_type": "stream",
     "text": [
      "-rw-r--r--. 1 liheyi root   160 Aug  7 13:53 csplit.txt\r\n",
      "-rw-rw-r--. 1 liheyi liheyi  70 Aug  7 15:19 xx.00000\r\n",
      "-rw-rw-r--. 1 liheyi liheyi  90 Aug  7 15:19 xx.00001\r\n"
     ]
    }
   ],
   "source": [
    "ls -lh csplit.txt xx*"
   ]
  },
  {
   "cell_type": "markdown",
   "metadata": {},
   "source": [
    "###### -f, --prefix=PREFIX\n",
    "    use PREFIX instead of ‘xx’"
   ]
  },
  {
   "cell_type": "code",
   "execution_count": 37,
   "metadata": {
    "collapsed": false
   },
   "outputs": [
    {
     "name": "stdout",
     "output_type": "stream",
     "text": [
      "70\r\n",
      "90\r\n"
     ]
    }
   ],
   "source": [
    "# Set output file perfix to 'abc'\n",
    "csplit -fabc csplit.txt /'middle'/"
   ]
  },
  {
   "cell_type": "code",
   "execution_count": 38,
   "metadata": {
    "collapsed": false
   },
   "outputs": [
    {
     "name": "stdout",
     "output_type": "stream",
     "text": [
      "-rw-rw-r--. 1 liheyi liheyi  70 Aug  7 14:30 abc00\r\n",
      "-rw-rw-r--. 1 liheyi liheyi  90 Aug  7 14:30 abc01\r\n",
      "-rw-r--r--. 1 liheyi root   160 Aug  7 13:53 csplit.txt\r\n"
     ]
    }
   ],
   "source": [
    "ls -lh csplit.txt abc*"
   ]
  },
  {
   "cell_type": "markdown",
   "metadata": {},
   "source": [
    "###### -k, --keep-files\n",
    "    do not remove output files on errors"
   ]
  },
  {
   "cell_type": "code",
   "execution_count": 59,
   "metadata": {
    "collapsed": false
   },
   "outputs": [
    {
     "name": "stdout",
     "output_type": "stream",
     "text": [
      "28\r\n",
      "42\r\n",
      "47\r\n",
      "43\r\n",
      "csplit: `3': line number out of range on repetition 3\r\n"
     ]
    }
   ],
   "source": [
    "# without -k option\n",
    "# if number of lines are enough to break files in given number of lines, \n",
    "# we get error message as:\n",
    "# and,output files will be removed.\n",
    "csplit csplit.txt 3 {3}"
   ]
  },
  {
   "cell_type": "code",
   "execution_count": 60,
   "metadata": {
    "collapsed": false
   },
   "outputs": [
    {
     "name": "stdout",
     "output_type": "stream",
     "text": [
      "ls: cannot access xx*: No such file or directory\r\n",
      "-rw-r--r--. 1 liheyi root 160 Aug  7 13:53 csplit.txt\r\n"
     ]
    }
   ],
   "source": [
    "ls -lh csplit.txt xx*"
   ]
  },
  {
   "cell_type": "code",
   "execution_count": 61,
   "metadata": {
    "collapsed": false
   },
   "outputs": [
    {
     "name": "stdout",
     "output_type": "stream",
     "text": [
      "28\r\n",
      "42\r\n",
      "47\r\n",
      "43\r\n",
      "csplit: `3': line number out of range on repetition 3\r\n"
     ]
    }
   ],
   "source": [
    "# with -k option\n",
    "# do not remove output files on errors\n",
    "csplit -k csplit.txt 3 {3}"
   ]
  },
  {
   "cell_type": "code",
   "execution_count": 62,
   "metadata": {
    "collapsed": false
   },
   "outputs": [
    {
     "name": "stdout",
     "output_type": "stream",
     "text": [
      "-rw-r--r--. 1 liheyi root   160 Aug  7 13:53 csplit.txt\r\n",
      "-rw-rw-r--. 1 liheyi liheyi  28 Aug  7 15:31 xx00\r\n",
      "-rw-rw-r--. 1 liheyi liheyi  42 Aug  7 15:31 xx01\r\n",
      "-rw-rw-r--. 1 liheyi liheyi  47 Aug  7 15:31 xx02\r\n",
      "-rw-rw-r--. 1 liheyi liheyi  43 Aug  7 15:31 xx03\r\n"
     ]
    }
   ],
   "source": [
    "ls -lh csplit.txt xx*"
   ]
  },
  {
   "cell_type": "markdown",
   "metadata": {},
   "source": [
    "###### -n, --digits=DIGITS\n",
    "    use specified number of digits instead of 2"
   ]
  },
  {
   "cell_type": "code",
   "execution_count": 39,
   "metadata": {
    "collapsed": false
   },
   "outputs": [
    {
     "name": "stdout",
     "output_type": "stream",
     "text": [
      "70\r\n",
      "90\r\n"
     ]
    }
   ],
   "source": [
    "# with “-n” option you can fix \n",
    "# the how many digits should come after the prefix\n",
    "csplit -n5 csplit.txt /'middle'/"
   ]
  },
  {
   "cell_type": "code",
   "execution_count": 40,
   "metadata": {
    "collapsed": false
   },
   "outputs": [
    {
     "name": "stdout",
     "output_type": "stream",
     "text": [
      "-rw-r--r--. 1 liheyi root   160 Aug  7 13:53 csplit.txt\r\n",
      "-rw-rw-r--. 1 liheyi liheyi  70 Aug  7 14:57 xx00000\r\n",
      "-rw-rw-r--. 1 liheyi liheyi  90 Aug  7 14:57 xx00001\r\n"
     ]
    }
   ],
   "source": [
    "ls -lh csplit.txt xx*"
   ]
  },
  {
   "cell_type": "markdown",
   "metadata": {},
   "source": [
    "###### -s, --quiet, --silent\n",
    "    do not print counts of output file sizes"
   ]
  },
  {
   "cell_type": "code",
   "execution_count": 41,
   "metadata": {
    "collapsed": false
   },
   "outputs": [
    {
     "name": "stdout",
     "output_type": "stream",
     "text": []
    }
   ],
   "source": [
    "csplit -s csplit.txt /'middle'/"
   ]
  },
  {
   "cell_type": "code",
   "execution_count": 42,
   "metadata": {
    "collapsed": false
   },
   "outputs": [
    {
     "name": "stdout",
     "output_type": "stream",
     "text": [
      "-rw-r--r--. 1 liheyi root   160 Aug  7 13:53 csplit.txt\r\n",
      "-rw-rw-r--. 1 liheyi liheyi  70 Aug  7 14:59 xx00\r\n",
      "-rw-rw-r--. 1 liheyi liheyi  90 Aug  7 14:59 xx01\r\n"
     ]
    }
   ],
   "source": [
    "ls -lh csplit.txt xx*"
   ]
  },
  {
   "cell_type": "markdown",
   "metadata": {},
   "source": [
    "###### -z, --elide-empty-files\n",
    "    remove empty output files"
   ]
  },
  {
   "cell_type": "code",
   "execution_count": 44,
   "metadata": {
    "collapsed": false
   },
   "outputs": [
    {
     "name": "stdout",
     "output_type": "stream",
     "text": [
      "0\r\n",
      "14\r\n",
      "14\r\n",
      "14\r\n",
      "14\r\n",
      "14\r\n",
      "19\r\n",
      "14\r\n",
      "57\r\n"
     ]
    }
   ],
   "source": [
    "# without -z option\n",
    "# the first splited file xx00 is empty.\n",
    "csplit csplit.txt 1 {7}"
   ]
  },
  {
   "cell_type": "code",
   "execution_count": 45,
   "metadata": {
    "collapsed": false
   },
   "outputs": [
    {
     "name": "stdout",
     "output_type": "stream",
     "text": [
      "-rw-r--r--. 1 liheyi root   160 Aug  7 13:53 csplit.txt\r\n",
      "-rw-rw-r--. 1 liheyi liheyi   0 Aug  7 15:02 xx00\r\n",
      "-rw-rw-r--. 1 liheyi liheyi  14 Aug  7 15:02 xx01\r\n",
      "-rw-rw-r--. 1 liheyi liheyi  14 Aug  7 15:02 xx02\r\n",
      "-rw-rw-r--. 1 liheyi liheyi  14 Aug  7 15:02 xx03\r\n",
      "-rw-rw-r--. 1 liheyi liheyi  14 Aug  7 15:02 xx04\r\n",
      "-rw-rw-r--. 1 liheyi liheyi  14 Aug  7 15:02 xx05\r\n",
      "-rw-rw-r--. 1 liheyi liheyi  19 Aug  7 15:02 xx06\r\n",
      "-rw-rw-r--. 1 liheyi liheyi  14 Aug  7 15:02 xx07\r\n",
      "-rw-rw-r--. 1 liheyi liheyi  57 Aug  7 15:02 xx08\r\n"
     ]
    }
   ],
   "source": [
    "ls -lh csplit.txt xx*"
   ]
  },
  {
   "cell_type": "code",
   "execution_count": 46,
   "metadata": {
    "collapsed": false
   },
   "outputs": [
    {
     "name": "stdout",
     "output_type": "stream",
     "text": [
      "14\r\n",
      "14\r\n",
      "14\r\n",
      "14\r\n",
      "14\r\n",
      "19\r\n",
      "14\r\n",
      "57\r\n"
     ]
    }
   ],
   "source": [
    "# -z option remove empty file xx00\n",
    "csplit -z csplit.txt 1 {7}"
   ]
  },
  {
   "cell_type": "code",
   "execution_count": 47,
   "metadata": {
    "collapsed": false
   },
   "outputs": [
    {
     "name": "stdout",
     "output_type": "stream",
     "text": [
      "-rw-r--r--. 1 liheyi root   160 Aug  7 13:53 csplit.txt\r\n",
      "-rw-rw-r--. 1 liheyi liheyi  14 Aug  7 15:03 xx00\r\n",
      "-rw-rw-r--. 1 liheyi liheyi  14 Aug  7 15:03 xx01\r\n",
      "-rw-rw-r--. 1 liheyi liheyi  14 Aug  7 15:03 xx02\r\n",
      "-rw-rw-r--. 1 liheyi liheyi  14 Aug  7 15:03 xx03\r\n",
      "-rw-rw-r--. 1 liheyi liheyi  14 Aug  7 15:03 xx04\r\n",
      "-rw-rw-r--. 1 liheyi liheyi  19 Aug  7 15:03 xx05\r\n",
      "-rw-rw-r--. 1 liheyi liheyi  14 Aug  7 15:03 xx06\r\n",
      "-rw-rw-r--. 1 liheyi liheyi  57 Aug  7 15:03 xx07\r\n"
     ]
    }
   ],
   "source": [
    "ls -lh csplit.txt xx*"
   ]
  },
  {
   "cell_type": "code",
   "execution_count": null,
   "metadata": {
    "collapsed": true
   },
   "outputs": [],
   "source": []
  }
 ],
 "metadata": {
  "kernelspec": {
   "display_name": "Bash",
   "language": "bash",
   "name": "bash"
  },
  "language_info": {
   "codemirror_mode": "shell",
   "file_extension": ".sh",
   "mimetype": "text/x-sh",
   "name": "bash"
  }
 },
 "nbformat": 4,
 "nbformat_minor": 0
}
