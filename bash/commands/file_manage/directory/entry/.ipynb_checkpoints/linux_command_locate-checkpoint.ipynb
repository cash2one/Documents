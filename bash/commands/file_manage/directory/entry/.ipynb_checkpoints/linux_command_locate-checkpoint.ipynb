{
 "cells": [
  {
   "cell_type": "markdown",
   "metadata": {},
   "source": [
    "#### NAME\n",
    "    locate - find files by name\n",
    "#### SYNOPSIS\n",
    "    locate [OPTION]... PATTERN...\n",
    "#### DESCRIPTION\n",
    "    locate reads one or more databases prepared by updatedb command \n",
    "    and writes file names matching at least one of the PATTERNs to standard output, one per line.\n",
    "    \n",
    "    If --regex is not specified, PATTERNs can contain globbing characters.\n",
    "    If any PATTERN contains no globbing characters,locate behaves as if the pattern were *PATTERN*.\n",
    "    \n",
    "    By default, locate does not check whether files found in database still exist, \n",
    "    but it does require all parent directories to exist if the database was built with --require-visibility no.\n",
    "    locate can never report files  created  after the most recent update of the relevant database."
   ]
  },
  {
   "cell_type": "markdown",
   "metadata": {},
   "source": [
    "#### EXIT STATUS\n",
    "    locate  exits with status 0 if any match was found or if locate was invoked with one of the --limit 0, --help, --statistics or --version options.  If no match was found or a fatal error was encountered, locate exits with status 1.\n",
    "    Errors encountered while reading a database are not fatal, search continues in other specified databases, if any."
   ]
  },
  {
   "cell_type": "markdown",
   "metadata": {},
   "source": [
    "#### OPTIONS\n",
    "###### default"
   ]
  },
  {
   "cell_type": "code",
   "execution_count": 1,
   "metadata": {
    "collapsed": false
   },
   "outputs": [
    {
     "name": "stdout",
     "output_type": "stream",
     "text": [
      "/etc/alternatives/vimdiff\r\n",
      "/usr/bin/vimdiff\r\n",
      "/usr/lib/git-core/mergetools/gvimdiff\r\n",
      "/usr/lib/git-core/mergetools/gvimdiff2\r\n",
      "/usr/lib/git-core/mergetools/vimdiff\r\n",
      "/usr/lib/git-core/mergetools/vimdiff2\r\n",
      "/usr/share/man/fr/man1/vimdiff.1.gz\r\n",
      "/usr/share/man/it/man1/vimdiff.1.gz\r\n",
      "/usr/share/man/ja/man1/vimdiff.1.gz\r\n",
      "/usr/share/man/man1/vimdiff.1.gz\r\n",
      "/usr/share/man/pl/man1/vimdiff.1.gz\r\n",
      "/usr/share/man/ru/man1/vimdiff.1.gz\r\n",
      "/var/lib/dpkg/alternatives/vimdiff\r\n"
     ]
    }
   ],
   "source": [
    "locate vimdiff"
   ]
  },
  {
   "cell_type": "markdown",
   "metadata": {},
   "source": [
    "###### -A, --all\n",
    "    Print only entries that match all PATTERNs instead of requiring only one of them to match."
   ]
  },
  {
   "cell_type": "code",
   "execution_count": 3,
   "metadata": {
    "collapsed": false
   },
   "outputs": [
    {
     "name": "stdout",
     "output_type": "stream",
     "text": [
      "/etc/alternatives/vimdiff\r\n",
      "/usr/bin/vimdiff\r\n",
      "/usr/lib/git-core/mergetools/gvimdiff\r\n",
      "/usr/lib/git-core/mergetools/gvimdiff2\r\n",
      "/usr/lib/git-core/mergetools/vimdiff\r\n",
      "/usr/lib/git-core/mergetools/vimdiff2\r\n",
      "/usr/share/man/fr/man1/vimdiff.1.gz\r\n",
      "/usr/share/man/it/man1/vimdiff.1.gz\r\n",
      "/usr/share/man/ja/man1/vimdiff.1.gz\r\n",
      "/usr/share/man/man1/vimdiff.1.gz\r\n",
      "/usr/share/man/pl/man1/vimdiff.1.gz\r\n",
      "/usr/share/man/ru/man1/vimdiff.1.gz\r\n",
      "/var/lib/dpkg/alternatives/vimdiff\r\n"
     ]
    }
   ],
   "source": [
    "locate -A vimdiff"
   ]
  },
  {
   "cell_type": "code",
   "execution_count": 4,
   "metadata": {
    "collapsed": false
   },
   "outputs": [
    {
     "name": "stdout",
     "output_type": "stream",
     "text": [
      "/usr/lib/git-core/mergetools/gvimdiff2\r\n",
      "/usr/lib/git-core/mergetools/vimdiff2\r\n"
     ]
    }
   ],
   "source": [
    "locate -A vimdiff2"
   ]
  },
  {
   "cell_type": "markdown",
   "metadata": {},
   "source": [
    "###### -b, --basename\n",
    "    Match only the base name against the specified patterns.  \n",
    "    This is the opposite of --wholename."
   ]
  },
  {
   "cell_type": "code",
   "execution_count": 5,
   "metadata": {
    "collapsed": false
   },
   "outputs": [
    {
     "name": "stdout",
     "output_type": "stream",
     "text": [
      "/usr/share/bug/vim-tiny\r\n",
      "/usr/share/doc/vim-tiny\r\n",
      "/usr/share/lintian/overrides/vim-tiny\r\n",
      "/usr/share/vim/vim74/doc/help.txt.vim-tiny\r\n",
      "/usr/share/vim/vim74/doc/tags.vim-tiny\r\n",
      "/var/lib/dpkg/info/vim-tiny.conffiles\r\n",
      "/var/lib/dpkg/info/vim-tiny.list\r\n",
      "/var/lib/dpkg/info/vim-tiny.md5sums\r\n",
      "/var/lib/dpkg/info/vim-tiny.postinst\r\n",
      "/var/lib/dpkg/info/vim-tiny.prerm\r\n"
     ]
    }
   ],
   "source": [
    "locate -b vim-tiny"
   ]
  },
  {
   "cell_type": "markdown",
   "metadata": {},
   "source": [
    "######  -w, --wholename\n",
    "    Match only the whole path name against the specified patterns.\n",
    "    This is the default behavior.  \n",
    "    The opposite can be specified using --basename."
   ]
  },
  {
   "cell_type": "markdown",
   "metadata": {},
   "source": [
    "###### -c, --count\n",
    "    Instead of writing file names on standard output, write the number of matching entries only."
   ]
  },
  {
   "cell_type": "code",
   "execution_count": 6,
   "metadata": {
    "collapsed": false
   },
   "outputs": [
    {
     "name": "stdout",
     "output_type": "stream",
     "text": [
      "12\r\n"
     ]
    }
   ],
   "source": [
    "locate -c vim-tiny"
   ]
  },
  {
   "cell_type": "code",
   "execution_count": 7,
   "metadata": {
    "collapsed": false
   },
   "outputs": [
    {
     "name": "stdout",
     "output_type": "stream",
     "text": [
      "1745\r\n"
     ]
    }
   ],
   "source": [
    "locate -c vim"
   ]
  },
  {
   "cell_type": "markdown",
   "metadata": {},
   "source": [
    "###### -d, --database DBPATH\n",
    "    Replace the default database with DBPATH.  DBPATH is a :-separated list of database file names.  \n",
    "    If more than one --database option is specified, \n",
    "    the resulting path is a concatenation of the separate paths.\n",
    "    \n",
    "    An empty database file name is replaced by the default database.  \n",
    "    A database file name - refers to the standard input.\n",
    "    \n",
    "    Note that a database can be read from the standard input only once."
   ]
  },
  {
   "cell_type": "markdown",
   "metadata": {},
   "source": [
    "######  -e, --existing\n",
    "    Print only entries that refer to files existing at the time locate is run."
   ]
  },
  {
   "cell_type": "markdown",
   "metadata": {},
   "source": [
    "###### -L, --follow\n",
    "    When check whether files exist (if the --existing option is specified), follow trailing symbolic links.\n",
    "    This causes broken symbolic links to be omitted from the output.\n",
    "    This is the default behavior.  \n",
    "    The opposite can be specified using --nofollow."
   ]
  },
  {
   "cell_type": "markdown",
   "metadata": {},
   "source": [
    "###### -P, --nofollow, -H\n",
    "    When check whether files exist (if the --existing option is specified), \n",
    "    do not follow trailing symbolic  links.\n",
    "    \n",
    "    This causes broken symbolic links to be reported like other files.\n",
    "    This is the opposite of --follow."
   ]
  },
  {
   "cell_type": "markdown",
   "metadata": {},
   "source": [
    "###### -i, --ignore-case\n",
    "    Ignore case distinctions when matching patterns."
   ]
  },
  {
   "cell_type": "markdown",
   "metadata": {},
   "source": [
    "###### -l, --limit, -n LIMIT\n",
    "    Exit successfully after finding LIMIT entries.\n",
    "    If the --count option is specified, the resulting count is also limited to LIMIT."
   ]
  },
  {
   "cell_type": "markdown",
   "metadata": {},
   "source": [
    "###### -0, --null\n",
    "    Separate the entries on output using the ASCII NUL character instead of writing each entry on a separate line.  \n",
    "    This option is designed for interoperability with the --null option of GNU xargs(1)."
   ]
  },
  {
   "cell_type": "markdown",
   "metadata": {},
   "source": [
    "###### -S, --statistics\n",
    "    Write statistics about each read database to standard output instead of searching for files and exit successfully."
   ]
  },
  {
   "cell_type": "code",
   "execution_count": 1,
   "metadata": {
    "collapsed": false
   },
   "outputs": [
    {
     "name": "stdout",
     "output_type": "stream",
     "text": [
      "Database /var/lib/mlocate/mlocate.db:\r\n",
      "\t22,521 directories\r\n",
      "\t271,088 files\r\n",
      "\t17,028,267 bytes in file names\r\n",
      "\t6,227,856 bytes used to store database\r\n"
     ]
    }
   ],
   "source": [
    "locate -S"
   ]
  },
  {
   "cell_type": "markdown",
   "metadata": {},
   "source": [
    "###### -q, --quiet\n",
    "    Write no messages about errors encountered while reading and processing databases."
   ]
  },
  {
   "cell_type": "markdown",
   "metadata": {},
   "source": [
    "###### -r, --regexp REGEXP\n",
    "    Search for a basic regexp REGEXP.  \n",
    "    No PATTERNs are allowed if this option is used, \n",
    "    but this option can be  specified multiple times."
   ]
  },
  {
   "cell_type": "markdown",
   "metadata": {},
   "source": [
    "###### --regex\n",
    "    Interpret all PATTERNs as extended regexps."
   ]
  },
  {
   "cell_type": "markdown",
   "metadata": {},
   "source": [
    "###### -m, --mmap\n",
    "    Ignored, for compatibility with BSD and GNU locate."
   ]
  },
  {
   "cell_type": "markdown",
   "metadata": {},
   "source": [
    "###### -s, --stdio\n",
    "    Ignored, for compatibility with BSD and GNU locate."
   ]
  },
  {
   "cell_type": "code",
   "execution_count": null,
   "metadata": {
    "collapsed": true
   },
   "outputs": [],
   "source": []
  }
 ],
 "metadata": {
  "kernelspec": {
   "display_name": "Bash",
   "language": "bash",
   "name": "bash"
  },
  "language_info": {
   "codemirror_mode": "shell",
   "file_extension": ".sh",
   "mimetype": "text/x-sh",
   "name": "bash"
  }
 },
 "nbformat": 4,
 "nbformat_minor": 0
}
