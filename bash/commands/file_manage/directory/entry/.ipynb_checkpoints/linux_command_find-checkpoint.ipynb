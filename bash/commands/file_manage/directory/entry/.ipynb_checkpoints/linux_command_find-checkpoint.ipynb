{
 "cells": [
  {
   "cell_type": "markdown",
   "metadata": {},
   "source": [
    "#### NAME\n",
    "    find - search for files in a directory hierarchy\n",
    "#### SYNOPSIS\n",
    "    find [-H] [-L] [-P] [-D debugopts] [-Olevel] [path...] [expression]"
   ]
  },
  {
   "cell_type": "markdown",
   "metadata": {},
   "source": [
    "#### DESCRIPTION\n",
    "    This manual page documents the GNU version of find.\n",
    "    GNU find searches the directory tree rooted at each given file name by evaluating the given expression from left to right, according  to the rules of precedence (see section OPERATORS), until the outcome i  known (the left hand side is false for and operations, true  for or), at which point find moves on to the next file name.\n",
    "\n",
    "    If you are using find in an environment where security is important (for example if you are using it to search directories that  are  writable  by other users), you should read the \"Security Considerations\" chapter of the findutils documentation,which is called Finding Files and comes with findutils.That document also includes a lot more detail and discussion than this manual page, so you may find it a more useful source of information."
   ]
  },
  {
   "cell_type": "markdown",
   "metadata": {},
   "source": [
    "#### OPTIONS\n",
    "    The  -H, -L and -P options control the treatment of symbolic links.\n",
    "    Command-line arguments following these are taken to be names of files or directories to be examined, \n",
    "    up to the first argument that begins with `-', or the argument  `('  or  `!'.\n",
    "    \n",
    "    That argument and any following arguments are taken to be the expression describing what is to be searched for.\n",
    "    If no paths are given,the current directory is used.\n",
    "    If no expression is given,the expression -print is used (but you should probably consider using -print0 instead, anyway).\n",
    "       \n",
    "    This manual page talks about `options' within the expression list.\n",
    "    These options control the behaviour of find but are specified immediately after the last path name.  \n",
    "    The five `real' options -H, -L, -P, -D and -O must appear before the first path name,if at all.  \n",
    "    A double dash -- can also be used to signal that any remaining arguments are not options (though ensuring that all start point \n",
    "    begin with either `./' or `/' is generally safer if you use wildcards in the list  of  start points)."
   ]
  },
  {
   "cell_type": "markdown",
   "metadata": {},
   "source": [
    "###### -P     \n",
    "    Never follow symbolic links.This is the default behaviour.\n",
    "    When find examines or prints information a file, and the file is a symbolic link, the information used \n",
    "    shall be taken from the properties of the symbolic link itself."
   ]
  },
  {
   "cell_type": "markdown",
   "metadata": {},
   "source": [
    "###### -L     \n",
    "    Follow symbolic links.\n",
    "    When find examines or prints information about files, the information used shall be taken from the properties of the file to which the link points, not from the link itself \n",
    "    (unless it is a broken symbolic link or find is unable to examine the file to which the link points).\n",
    "    \n",
    "    Use of this option implies -noleaf.\n",
    "    If you later use the -P option, -noleaf will still be in effect. \n",
    "    If -L is in effect and find discovers a symbolic link to a subdirectory during its search, the subdirectory pointed to by the symbolic link will be searched.\n",
    "    \n",
    "     When the -L option is in effect, the -type predicate will always match against the type of the file that a symbolic link points to \n",
    "     rather than the link itself (unless the symbolic link is broken).\n",
    "     Using -L causes the -lname and -ilname predicates always to return false."
   ]
  },
  {
   "cell_type": "markdown",
   "metadata": {},
   "source": [
    "###### -H     \n",
    "    Do not follow symbolic links, except while processing the command line arguments.\n",
    "    When find examines or prints information about files,the information used shall be taken from the properties of the symbolic link itself.\n",
    "    \n",
    "    The only exception to this behaviour is when a file specified on the command line is a symbolic link, and the link can be resolved.\n",
    "    For that situation,the information used is taken from whatever the link points to (that is,the link is followed).\n",
    "    The information about the link itself is used as a fallback if the file pointed to by the symbolic link cannot be examined.\n",
    "    If -H is in effect and one of the paths specified on the command line is a symbolic link to a directory, the contents of that \n",
    "    directory will be examined (though of course -maxdepth 0 would prevent this)."
   ]
  },
  {
   "cell_type": "markdown",
   "metadata": {},
   "source": [
    "If more than one of -H, -L and -P is specified, each overrides the others; the last one appearing on the command line takes effect.Since it is the default, the -P option should be considered to be in effect unless either -H or -L is specified.\n",
    "\n",
    "GNU find frequently stats files during the processing of the command line itself, before any searching has begun.  These options also affect how those arguments are processed.Specifically, there are a number of tests that compare files listed on the command line against a file we are currently considering.In each case,the file specified on the command line will have been examined and some of its properties will have been saved.If the named file is in fact a symbolic link, and  the -P option is in effect (or if neither -H nor -L were specified), the information used for the comparison will be taken from the properties of the symbolic link.  Otherwise, it will be taken from the properties of the file the link points to.If find  cannot  follow the link (for example because it has insufficient privileges or the link points to a nonexistent file) the properties of the link itself will be used.\n",
    "\n",
    "When the -H or -L options are in effect, any symbolic links listed as the argument of -newer will be dereferenced, and the timestamp will be taken from the file to which the symbolic link points.The same consideration applies to -newerXY, -anewer and -cnewer.\n",
    "\n",
    "The -follow option has a similar effect to -L, though it takes effect at the point where it appears (that is, if -L is not used but -follow is, any symbolic links appearing after -follow on the command line will be dereferenced, and those before it will not)."
   ]
  },
  {
   "cell_type": "markdown",
   "metadata": {},
   "source": [
    "###### -D debugoptions\n",
    "    Print diagnostic information;this can be helpful to diagnose problems with why find is not doing what you want. \n",
    "    The list of debug options should be comma separated.\n",
    "    Compatibility of the debug options is not guaranteed between releases of findutils.\n",
    "    For a complete list of valid debug options, see the output of find  -D  help.\n",
    "    Valid debug options include:\n",
    "        help   Explain the debugging options\n",
    "        \n",
    "        tree   Show the expression tree in its original and optimised form.\n",
    "        \n",
    "        stat   Print messages as files are examined with the stat and lstat system calls.The find program tries to minimise such calls.\n",
    "             \n",
    "        opt    Prints diagnostic information relating to the optimisation of the expression tree;see the -O option.\n",
    "\n",
    "        rates   Prints a summary indicating how often each predicate succeeded or failed."
   ]
  },
  {
   "cell_type": "markdown",
   "metadata": {},
   "source": [
    "###### -Olevel\n",
    "    Enables query optimisation.\n",
    "    The find program reorders tests to speed up execution while preserving the overall effect; \n",
    "    that is, predicates with side effects are not reordered relative to each other.\n",
    "    The optimisations performed at each optimisation level are as follows.\n",
    "    \n",
    "    0      Equivalent to optimisation level 1.\n",
    "    \n",
    "    1      This is the default optimisation level and corresponds to the traditional behaviour.\n",
    "           Expressions are reordered so that tests based only on the names of files \n",
    "           (for example -name and -regex) are performed first.\n",
    "           \n",
    "    2      Any -type or -xtype tests are performed after any tests based only on the names of files, \n",
    "           but before any tests that require information from the inode.\n",
    "           On many modern versions of Unix, file types are  returned  by readdir() and so these predicates\n",
    "           are faster to evaluate than predicates which need to stat the file first.\n",
    "           \n",
    "    3      At this optimisation level, the full cost-based query optimiser is enabled.\n",
    "           The order of tests is modified so that cheap (i.e. fast) tests are performed first and more\n",
    "           expensive ones are performed  later,if  necessary.\n",
    "           Within each cost band, predicates are evaluated earlier or later according to whether \n",
    "           they are likely to succeed or not.  \n",
    "           For -o, predicates which are likely to succeed are evaluated earlier, and for -a,  \n",
    "           predicates which are likely to fail are evaluated earlier."
   ]
  },
  {
   "cell_type": "markdown",
   "metadata": {},
   "source": [
    "The cost-based optimiser has a fixed idea of how likely any given test is to succeed.\n",
    "In some cases the probability takes account of the specific nature of the test (for example, -type f is assumed to be more likely to succeed than -type c).The cost-based optimiser is currently being evaluated.If it does not actually improve the performance of find, it will be removed again.  Conversely, optimisations that prove to be reliable, robust and effective may be enabled at lower optimisation levels over time.However, the default behaviour (i.e. optimisation level 1) will not be changed in the 4.3.x release series.The findutils test suite runs all the tests on find at each optimisationlevel and ensures that the result is the same."
   ]
  },
  {
   "cell_type": "markdown",
   "metadata": {},
   "source": [
    "#### EXPRESSIONS\n",
    "    The expression is made up of \n",
    "    options (which affect overall operation rather than the processing of a specific file, and always return true), \n",
    "    tests (which return a true or false value), \n",
    "    and actions (which have side effects and return a true or false value), \n",
    "    all separated by operators.-and is assumed where the operator is omitted.\n",
    "\n",
    "    If the expression contains no actions other than -prune, -print is performed on all files for which the expression is true."
   ]
  },
  {
   "cell_type": "markdown",
   "metadata": {},
   "source": [
    "#### A.OPTIONS\n",
    "All options always return true.\n",
    "Except for -daystart, -follow and -regextype, the options affect all tests, including tests specified before the option. This is because the options are processed when the command line is parsed,while the tests don't do anything until files are examined. The -daystart, -follow and -regextype options are different in this respect, and have an effect only on tests which appear later in the command line.Therefore, for clarity, it is best to place them at the beginning of the expression.A warning is issued if you don't do this."
   ]
  },
  {
   "cell_type": "markdown",
   "metadata": {},
   "source": [
    "###### -d     \n",
    "    A synonym for -depth, for compatibility with FreeBSD, NetBSD, MacOS X and OpenBSD."
   ]
  },
  {
   "cell_type": "markdown",
   "metadata": {},
   "source": [
    "###### -daystart\n",
    "    Measure times (for -amin, -atime, -cmin, -ctime, -mmin, and -mtime) from the beginning of today rather than from 24 hours ago.\n",
    "    This option only affects tests which appear later on the command line."
   ]
  },
  {
   "cell_type": "markdown",
   "metadata": {},
   "source": [
    "###### -depth \n",
    "    Process each directory's contents before the directory itself.\n",
    "    The -delete action also implies -depth."
   ]
  },
  {
   "cell_type": "markdown",
   "metadata": {},
   "source": [
    "###### -follow\n",
    "    Deprecated; use the -L option instead.\n",
    "    Dereference symbolic links.Implies -noleaf.\n",
    "    The -follow option affects only those tests which appear after it on the command line.Unless the -H or -L option has been specified,\n",
    "    the position of the -follow option changes the behaviour of the -newer predicate; \n",
    "    any files listed as the argument of -newer will be dereferenced if they are symbolic links.\n",
    "    \n",
    "    The same consideration applies to -newerXY, -anewer and -cnewer.\n",
    "    Similarly,the -type predicate will always match against the type of the file that a symbolic link points to rather than the link itself.\n",
    "    Using -follow causes the -lname and -ilname predicates always to return false."
   ]
  },
  {
   "cell_type": "markdown",
   "metadata": {},
   "source": [
    "######  -help, --help\n",
    "    Print a summary of the command-line usage of find and exit."
   ]
  },
  {
   "cell_type": "markdown",
   "metadata": {},
   "source": [
    "###### -ignore_readdir_race\n",
    "    Normally, find will emit an error message when it fails to stat a file.\n",
    "    If you give this option and a file is deleted between the time find reads the name of the file from the directory and the time it\n",
    "    to stat the file, no error message will be issued.\n",
    "    This also applies to files or directories whose names are given on the command line.  \n",
    "    This option takes effect at the ime the command line is read, which means that you cannot search one part of the filesystem with this option on and part of it with this option off \n",
    "    (if you need to do that, you will need to ssue two find commands instead, one with the option and one without it)."
   ]
  },
  {
   "cell_type": "markdown",
   "metadata": {},
   "source": [
    "###### -noignore_readdir_race\n",
    "    Turns off the effect of -ignore_readdir_race."
   ]
  },
  {
   "cell_type": "markdown",
   "metadata": {},
   "source": [
    "###### -maxdepth levels\n",
    "    Descend at most levels (a non-negative integer) levels of directories below the command line arguments.\n",
    "    -maxdepth 0 means only apply the tests and actions to the command line arguments."
   ]
  },
  {
   "cell_type": "markdown",
   "metadata": {},
   "source": [
    "###### -mindepth levels\n",
    "    Do not apply any tests or actions at levels less than levels (a non-negative integer).\n",
    "    -mindepth 1 means process all files except the command line arguments."
   ]
  },
  {
   "cell_type": "markdown",
   "metadata": {},
   "source": [
    "###### -mount \n",
    "    Don't descend directories on other filesystems.\n",
    "    An alternate name for -xdev, for compatibility with some other versions of find."
   ]
  },
  {
   "cell_type": "markdown",
   "metadata": {},
   "source": [
    "###### -noleaf\n",
    "    Do not optimize by assuming that directories contain 2 fewer subdirectories than their hard link count.  \n",
    "    This option is needed when searching filesystems that do not follow the Unix directory-link convention,\n",
    "    such as CD-ROM or MS-DOS filesystems or AFS volume mount points.\n",
    "    \n",
    "    Each directory on a normal Unix filesystem has at least 2 hard links: its name and its `.' entry.\n",
    "    Additionally, its subdirectories (if any) each have a `..' entry linked to that directory.\n",
    "    When find is examining a directory, after it has statted 2 fewer subdirectories than the directory's link count, \n",
    "    it knows that the rest of the entries in the directory are non-directories (`leaf' files in the directory tree).\n",
    "    \n",
    "    If only the files' names need to be examined, there is no need to stat them; this gives a significant increase in search speed."
   ]
  },
  {
   "cell_type": "markdown",
   "metadata": {},
   "source": [
    "###### -regextype type\n",
    "    Changes the regular expression syntax understood by -regex and -iregex tests which occur later on the command line.\n",
    "    Currently-implemented types are emacs(this is the default),  posix-awk,posix-basic, posix-egrep and posix-extended."
   ]
  },
  {
   "cell_type": "markdown",
   "metadata": {},
   "source": [
    "###### -version, --version\n",
    "    Print the find version number and exit."
   ]
  },
  {
   "cell_type": "markdown",
   "metadata": {},
   "source": [
    "###### -warn, -nowarn\n",
    "    Turn  warning  messages on or off.\n",
    "    These warnings apply only to the command line usage, \n",
    "    not to any conditions that find might encounter when it searches directories.\n",
    "    \n",
    "    The default behaviour corresponds to -warn if standard input is a tty, and to -nowarn otherwise."
   ]
  },
  {
   "cell_type": "markdown",
   "metadata": {},
   "source": [
    "###### -xdev \n",
    "    Don't descend directories on other filesystems."
   ]
  },
  {
   "cell_type": "markdown",
   "metadata": {},
   "source": [
    "#### TESTS\n",
    "    Some tests, for example -newerXY and -samefile,allow comparison between the file currently being examined and some reference file specified on the command line.When these tests are used,the interpretation of the reference file is determined by the options -H, -L and -P and any previous -follow, but the reference file is only examined once, at the time the command line is parsed.If the reference file cannot be examined (for example, the stat(2) system call fails for it), an error message is issued, and find exits with a nonzero status."
   ]
  },
  {
   "cell_type": "code",
   "execution_count": null,
   "metadata": {
    "collapsed": true
   },
   "outputs": [],
   "source": []
  }
 ],
 "metadata": {
  "kernelspec": {
   "display_name": "Bash",
   "language": "bash",
   "name": "bash"
  },
  "language_info": {
   "codemirror_mode": "shell",
   "file_extension": ".sh",
   "mimetype": "text/x-sh",
   "name": "bash"
  }
 },
 "nbformat": 4,
 "nbformat_minor": 0
}
