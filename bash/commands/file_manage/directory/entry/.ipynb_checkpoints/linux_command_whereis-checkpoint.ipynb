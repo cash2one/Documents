{
 "cells": [
  {
   "cell_type": "markdown",
   "metadata": {},
   "source": [
    "#### NAME\n",
    "    whereis - locate the binary, source, and manual page files for a command\n",
    "#### SYNOPSIS\n",
    "    whereis [-bmsu] [-BMS directory...  -f] filename...\n",
    "#### DESCRIPTION\n",
    "    whereis locates source/binary and manuals sections for specified files.  \n",
    "    The supplied names are first stripped of leading pathname components and any (single) trailing extension of the form .ext, for example, .c.  Prefixes of s.  resulting  from use of source code control are also  dealt with. whereis then attempts to locate the desired program in a list of standard Linux places."
   ]
  },
  {
   "cell_type": "markdown",
   "metadata": {},
   "source": [
    "#### OPTIONS\n",
    "###### default"
   ]
  },
  {
   "cell_type": "code",
   "execution_count": 1,
   "metadata": {
    "collapsed": false
   },
   "outputs": [
    {
     "name": "stdout",
     "output_type": "stream",
     "text": [
      "rm: /bin/rm /usr/share/man/man1/rm.1.gz\r\n"
     ]
    }
   ],
   "source": [
    "# All locate source,binary and manuals sections for the specified files.\n",
    "whereis rm"
   ]
  },
  {
   "cell_type": "code",
   "execution_count": 10,
   "metadata": {
    "collapsed": false
   },
   "outputs": [
    {
     "name": "stdout",
     "output_type": "stream",
     "text": [
      "mysql: /usr/bin/mysql /etc/mysql /usr/lib/mysql /usr/bin/X11/mysql /usr/include/mysql /usr/share/mysql /usr/share/man/man1/mysql.1.gz\r\n"
     ]
    }
   ],
   "source": [
    "whereis mysql"
   ]
  },
  {
   "cell_type": "code",
   "execution_count": 6,
   "metadata": {
    "collapsed": false
   },
   "outputs": [
    {
     "name": "stdout",
     "output_type": "stream",
     "text": [
      "ls: /bin/ls /usr/share/man/man1/ls.1.gz\r\n",
      "rm: /bin/rm /usr/share/man/man1/rm.1.gz\r\n",
      "iptables: /sbin/iptables /usr/share/iptables /usr/share/man/man8/iptables.8.gz\r\n"
     ]
    }
   ],
   "source": [
    "# locate one more than files\n",
    "whereis ls rm iptables"
   ]
  },
  {
   "cell_type": "markdown",
   "metadata": {},
   "source": [
    "###### -b     \n",
    "    Search only for binaries."
   ]
  },
  {
   "cell_type": "code",
   "execution_count": 7,
   "metadata": {
    "collapsed": false
   },
   "outputs": [
    {
     "name": "stdout",
     "output_type": "stream",
     "text": [
      "rm: /bin/rm\r\n"
     ]
    }
   ],
   "source": [
    "whereis -b rm"
   ]
  },
  {
   "cell_type": "code",
   "execution_count": 9,
   "metadata": {
    "collapsed": false
   },
   "outputs": [
    {
     "name": "stdout",
     "output_type": "stream",
     "text": [
      "mysql: /usr/bin/mysql /etc/mysql /usr/lib/mysql /usr/bin/X11/mysql /usr/include/mysql /usr/share/mysql\r\n"
     ]
    }
   ],
   "source": [
    "whereis -b mysql"
   ]
  },
  {
   "cell_type": "markdown",
   "metadata": {},
   "source": [
    "###### -m     \n",
    "    Search only for manual sections."
   ]
  },
  {
   "cell_type": "code",
   "execution_count": 11,
   "metadata": {
    "collapsed": false
   },
   "outputs": [
    {
     "name": "stdout",
     "output_type": "stream",
     "text": [
      "rm: /usr/share/man/man1/rm.1.gz\r\n"
     ]
    }
   ],
   "source": [
    "whereis -m rm"
   ]
  },
  {
   "cell_type": "code",
   "execution_count": 12,
   "metadata": {
    "collapsed": false
   },
   "outputs": [
    {
     "name": "stdout",
     "output_type": "stream",
     "text": [
      "mysql: /usr/share/man/man1/mysql.1.gz\r\n"
     ]
    }
   ],
   "source": [
    "whereis -m mysql"
   ]
  },
  {
   "cell_type": "markdown",
   "metadata": {},
   "source": [
    "###### -s     \n",
    "    Search only for sources."
   ]
  },
  {
   "cell_type": "code",
   "execution_count": 13,
   "metadata": {
    "collapsed": false
   },
   "outputs": [
    {
     "name": "stdout",
     "output_type": "stream",
     "text": [
      "perl:\r\n"
     ]
    }
   ],
   "source": [
    "whereis -s perl"
   ]
  },
  {
   "cell_type": "code",
   "execution_count": 14,
   "metadata": {
    "collapsed": false
   },
   "outputs": [
    {
     "name": "stdout",
     "output_type": "stream",
     "text": [
      "python:\r\n"
     ]
    }
   ],
   "source": [
    "whereis -s python"
   ]
  },
  {
   "cell_type": "markdown",
   "metadata": {},
   "source": [
    "###### -u     \n",
    "    Search for unusual entries.\n",
    "    A file is said to be unusual if it does not have one entry of each requested type.\n",
    "    Thus `whereis  -m  -u  *' asks for those files in the current directory which have no documentation."
   ]
  },
  {
   "cell_type": "markdown",
   "metadata": {},
   "source": [
    "###### -f     \n",
    "    Terminate  the  last directory list and signals the start of file names, \n",
    "    and must be used when any of the -B, -M, or -S options are used."
   ]
  },
  {
   "cell_type": "markdown",
   "metadata": {},
   "source": [
    "###### -B     \n",
    "    Change or otherwise limit the places where whereis searches for binaries."
   ]
  },
  {
   "cell_type": "code",
   "execution_count": 15,
   "metadata": {
    "collapsed": false
   },
   "outputs": [
    {
     "name": "stdout",
     "output_type": "stream",
     "text": [
      "perl: /usr/bin/perl /etc/perl /usr/lib/perl /usr/bin/X11/perl /usr/share/perl /usr/share/man/man1/perl.1.gz\r\n"
     ]
    }
   ],
   "source": [
    "whereis perl"
   ]
  },
  {
   "cell_type": "code",
   "execution_count": 18,
   "metadata": {
    "collapsed": false
   },
   "outputs": [
    {
     "name": "stdout",
     "output_type": "stream",
     "text": [
      "perl: /usr/bin/perl /usr/share/man/man1/perl.1.gz\r\n"
     ]
    }
   ],
   "source": [
    "whereis -B /usr/bin -f perl"
   ]
  },
  {
   "cell_type": "code",
   "execution_count": 20,
   "metadata": {
    "collapsed": false
   },
   "outputs": [
    {
     "name": "stdout",
     "output_type": "stream",
     "text": [
      "perl: /usr/share/man/man1/perl.1.gz\r\n"
     ]
    }
   ],
   "source": [
    "whereis -B /bin -f perl"
   ]
  },
  {
   "cell_type": "markdown",
   "metadata": {},
   "source": [
    "###### -M     \n",
    "    Change or otherwise limit the places where whereis searches for manual sections."
   ]
  },
  {
   "cell_type": "code",
   "execution_count": 21,
   "metadata": {
    "collapsed": false
   },
   "outputs": [
    {
     "name": "stdout",
     "output_type": "stream",
     "text": [
      "perl: /usr/bin/perl /etc/perl /usr/lib/perl /usr/bin/X11/perl /usr/share/perl /usr/share/man/man1/perl.1.gz\r\n"
     ]
    }
   ],
   "source": [
    "whereis perl"
   ]
  },
  {
   "cell_type": "code",
   "execution_count": 22,
   "metadata": {
    "collapsed": false
   },
   "outputs": [
    {
     "name": "stdout",
     "output_type": "stream",
     "text": [
      "perl: /usr/bin/perl /etc/perl /usr/lib/perl /usr/bin/X11/perl /usr/share/perl /usr/bin/perl\r\n"
     ]
    }
   ],
   "source": [
    "whereis -M /usr/bin -f perl"
   ]
  },
  {
   "cell_type": "code",
   "execution_count": 24,
   "metadata": {
    "collapsed": false
   },
   "outputs": [
    {
     "name": "stdout",
     "output_type": "stream",
     "text": [
      "perl: /usr/bin/perl /etc/perl /usr/lib/perl /usr/bin/X11/perl /usr/share/perl\r\n"
     ]
    }
   ],
   "source": [
    "whereis -M /bin -f perl"
   ]
  },
  {
   "cell_type": "markdown",
   "metadata": {},
   "source": [
    "###### -S     \n",
    "    Change or otherwise limit the places where whereis searches for sources."
   ]
  }
 ],
 "metadata": {
  "kernelspec": {
   "display_name": "Bash",
   "language": "bash",
   "name": "bash"
  },
  "language_info": {
   "codemirror_mode": "shell",
   "file_extension": ".sh",
   "mimetype": "text/x-sh",
   "name": "bash"
  }
 },
 "nbformat": 4,
 "nbformat_minor": 0
}
