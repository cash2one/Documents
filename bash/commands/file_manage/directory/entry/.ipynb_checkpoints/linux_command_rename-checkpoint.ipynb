{
 "cells": [
  {
   "cell_type": "markdown",
   "metadata": {},
   "source": [
    "#### NAME\n",
    "    rename - renames multiple files\n",
    "#### SYNOPSIS\n",
    "    rename [ -v ] [ -n ] [ -f ] perlexpr [ files ]\n",
    "#### DESCRIPTION\n",
    "    \"rename\" renames the filenames supplied according to the rule specified as the first argument.  \n",
    "    The perlexpr argument is a Perl expression which is expected to modify \n",
    "    the \\$_ string in Perl for at least some of the filenames specified. \n",
    "    If a given filename is not modified by the expression, it will not be renamed.  \n",
    "    If no filenames are given on the command line, filenames will be read via standard input."
   ]
  },
  {
   "cell_type": "markdown",
   "metadata": {},
   "source": [
    "#### OPTIONS"
   ]
  },
  {
   "cell_type": "markdown",
   "metadata": {},
   "source": [
    "###### default"
   ]
  },
  {
   "cell_type": "code",
   "execution_count": 1,
   "metadata": {
    "collapsed": false
   },
   "outputs": [
    {
     "name": "stdout",
     "output_type": "stream",
     "text": [
      "total 0\r\n",
      "-rw-rw-r-- 1 liheyi liheyi 0  8月  5 15:08 chapter0.txt\r\n",
      "-rw-rw-r-- 1 liheyi liheyi 0  8月  5 15:08 chapter1.txt\r\n",
      "-rw-rw-r-- 1 liheyi liheyi 0  8月  5 15:08 chapter2.txt\r\n",
      "-rw-rw-r-- 1 liheyi liheyi 0  8月  5 15:08 chapter3.txt\r\n",
      "-rw-rw-r-- 1 liheyi liheyi 0  8月  5 15:08 chapter4.txt\r\n",
      "-rw-rw-r-- 1 liheyi liheyi 0  8月  5 15:08 chapter5.txt\r\n",
      "-rw-rw-r-- 1 liheyi liheyi 0  8月  5 15:09 paragraph1.config\r\n",
      "-rw-rw-r-- 1 liheyi liheyi 0  8月  5 15:09 paragraph2.config\r\n",
      "-rw-rw-r-- 1 liheyi liheyi 0  8月  5 15:09 paragraph3.config\r\n"
     ]
    }
   ],
   "source": [
    "# Modify multiple files suffer in the same directory.\n",
    "ls -l book/"
   ]
  },
  {
   "cell_type": "code",
   "execution_count": 3,
   "metadata": {
    "collapsed": false
   },
   "outputs": [
    {
     "name": "stdout",
     "output_type": "stream",
     "text": [
      "total 0\r\n",
      "-rw-rw-r-- 1 liheyi liheyi 0  8月  5 15:08 chapter0.pdf\r\n",
      "-rw-rw-r-- 1 liheyi liheyi 0  8月  5 15:08 chapter1.pdf\r\n",
      "-rw-rw-r-- 1 liheyi liheyi 0  8月  5 15:08 chapter2.pdf\r\n",
      "-rw-rw-r-- 1 liheyi liheyi 0  8月  5 15:08 chapter3.pdf\r\n",
      "-rw-rw-r-- 1 liheyi liheyi 0  8月  5 15:08 chapter4.pdf\r\n",
      "-rw-rw-r-- 1 liheyi liheyi 0  8月  5 15:08 chapter5.pdf\r\n",
      "-rw-rw-r-- 1 liheyi liheyi 0  8月  5 15:09 paragraph1.config\r\n",
      "-rw-rw-r-- 1 liheyi liheyi 0  8月  5 15:09 paragraph2.config\r\n",
      "-rw-rw-r-- 1 liheyi liheyi 0  8月  5 15:09 paragraph3.config\r\n"
     ]
    }
   ],
   "source": [
    "rename 's/\\.txt/\\.pdf/' book/*\n",
    "ls -l book/"
   ]
  },
  {
   "cell_type": "code",
   "execution_count": 4,
   "metadata": {
    "collapsed": false
   },
   "outputs": [
    {
     "name": "stdout",
     "output_type": "stream",
     "text": [
      "\u001b[01;34mbook\u001b[00m\r\n",
      "├── chapter0.pdf\r\n",
      "├── chapter1.pdf\r\n",
      "├── chapter2.pdf\r\n",
      "├── chapter3.pdf\r\n",
      "├── chapter4.pdf\r\n",
      "└── chapter5.pdf\r\n",
      "\u001b[01;34mtest\u001b[00m\r\n",
      "├── paragraph1.pdf\r\n",
      "├── paragraph2.pdf\r\n",
      "└── paragraph3.pdf\r\n",
      "\r\n",
      "0 directories, 9 files\r\n"
     ]
    }
   ],
   "source": [
    "# Modify multiple files suffer in the differents directories.\n",
    "tree book test"
   ]
  },
  {
   "cell_type": "code",
   "execution_count": 5,
   "metadata": {
    "collapsed": false
   },
   "outputs": [
    {
     "name": "stdout",
     "output_type": "stream",
     "text": [
      "\u001b[01;34mbook\u001b[00m\r\n",
      "├── chapter0.sh\r\n",
      "├── chapter1.sh\r\n",
      "├── chapter2.sh\r\n",
      "├── chapter3.sh\r\n",
      "├── chapter4.sh\r\n",
      "└── chapter5.sh\r\n",
      "\u001b[01;34mtest\u001b[00m\r\n",
      "├── paragraph1.sh\r\n",
      "├── paragraph2.sh\r\n",
      "└── paragraph3.sh\r\n",
      "\r\n",
      "0 directories, 9 files\r\n"
     ]
    }
   ],
   "source": [
    "rename 's/\\.pdf/\\.sh/' {book,test}/*\n",
    "tree book test"
   ]
  },
  {
   "cell_type": "code",
   "execution_count": 8,
   "metadata": {
    "collapsed": false
   },
   "outputs": [
    {
     "name": "stdout",
     "output_type": "stream",
     "text": [
      "\u001b[01;34m.\u001b[00m\r\n",
      "├── \u001b[01;34mbook\u001b[00m\r\n",
      "│   ├── config.sh\r\n",
      "│   ├── master.sh\r\n",
      "│   ├── \u001b[01;34mscript\u001b[00m\r\n",
      "│   │   ├── chapter0.sh\r\n",
      "│   │   ├── chapter1.sh\r\n",
      "│   │   ├── chapter2.sh\r\n",
      "│   │   ├── chapter3.sh\r\n",
      "│   │   ├── chapter4.sh\r\n",
      "│   │   └── chapter5.sh\r\n",
      "│   └── slave.sh\r\n",
      "├── linux_command_link.ipynb\r\n",
      "├── linux_command_ln.ipynb\r\n",
      "├── linux_command_ls.ipynb\r\n",
      "├── linux_command_rename.ipynb\r\n",
      "├── linux_command_unlink.ipynb\r\n",
      "└── \u001b[01;34mtest\u001b[00m\r\n",
      "    ├── \u001b[01;34mconfig\u001b[00m\r\n",
      "    │   ├── prog1.config\r\n",
      "    │   ├── prog2.config\r\n",
      "    │   └── prog3.config\r\n",
      "    ├── paragraph1.sh\r\n",
      "    ├── paragraph2.sh\r\n",
      "    ├── paragraph3.sh\r\n",
      "    └── \u001b[01;34msrc\u001b[00m\r\n",
      "        └── linux.so\r\n",
      "\r\n",
      "5 directories, 21 files\r\n"
     ]
    }
   ],
   "source": [
    "# find and rename\n",
    "tree ."
   ]
  },
  {
   "cell_type": "code",
   "execution_count": 9,
   "metadata": {
    "collapsed": false
   },
   "outputs": [
    {
     "name": "stdout",
     "output_type": "stream",
     "text": [
      "\u001b[01;34m.\u001b[00m\r\n",
      "├── \u001b[01;34mbook\u001b[00m\r\n",
      "│   ├── config.zsh\r\n",
      "│   ├── master.zsh\r\n",
      "│   ├── \u001b[01;34mscript\u001b[00m\r\n",
      "│   │   ├── chapter0.zsh\r\n",
      "│   │   ├── chapter1.zsh\r\n",
      "│   │   ├── chapter2.zsh\r\n",
      "│   │   ├── chapter3.zsh\r\n",
      "│   │   ├── chapter4.zsh\r\n",
      "│   │   └── chapter5.zsh\r\n",
      "│   └── slave.zsh\r\n",
      "├── linux_command_link.ipynb\r\n",
      "├── linux_command_ln.ipynb\r\n",
      "├── linux_command_ls.ipynb\r\n",
      "├── linux_command_rename.ipynb\r\n",
      "├── linux_command_unlink.ipynb\r\n",
      "└── \u001b[01;34mtest\u001b[00m\r\n",
      "    ├── \u001b[01;34mconfig\u001b[00m\r\n",
      "    │   ├── prog1.config\r\n",
      "    │   ├── prog2.config\r\n",
      "    │   └── prog3.config\r\n",
      "    ├── paragraph1.zsh\r\n",
      "    ├── paragraph2.zsh\r\n",
      "    ├── paragraph3.zsh\r\n",
      "    └── \u001b[01;34msrc\u001b[00m\r\n",
      "        └── linux.so\r\n",
      "\r\n",
      "5 directories, 21 files\r\n"
     ]
    }
   ],
   "source": [
    "find . -iname \"*.sh\" -exec rename 's/\\.sh/\\.zsh/' {} \\;\n",
    "tree ."
   ]
  },
  {
   "cell_type": "markdown",
   "metadata": {},
   "source": [
    "###### -v, --verbose\n",
    "    Verbose: print names of files successfully renamed."
   ]
  },
  {
   "cell_type": "code",
   "execution_count": 11,
   "metadata": {
    "collapsed": false
   },
   "outputs": [
    {
     "name": "stdout",
     "output_type": "stream",
     "text": [
      "\u001b[01;34mbook\u001b[00m\r\n",
      "├── config.zsh\r\n",
      "├── master.zsh\r\n",
      "└── slave.zsh\r\n",
      "\r\n",
      "0 directories, 3 files\r\n"
     ]
    }
   ],
   "source": [
    "tree book"
   ]
  },
  {
   "cell_type": "code",
   "execution_count": 1,
   "metadata": {
    "collapsed": false
   },
   "outputs": [
    {
     "name": "stdout",
     "output_type": "stream",
     "text": [
      "book/config.zsh renamed as book/config.sh\r\n",
      "book/master.zsh renamed as book/master.sh\r\n",
      "book/slave.zsh renamed as book/slave.sh\r\n"
     ]
    }
   ],
   "source": [
    "rename -v 's/\\.zsh/\\.sh/' book/*"
   ]
  },
  {
   "cell_type": "code",
   "execution_count": 2,
   "metadata": {
    "collapsed": false
   },
   "outputs": [
    {
     "name": "stdout",
     "output_type": "stream",
     "text": [
      "\u001b[01;34mbook\u001b[00m\r\n",
      "├── config.sh\r\n",
      "├── master.sh\r\n",
      "└── slave.sh\r\n",
      "\r\n",
      "0 directories, 3 files\r\n"
     ]
    }
   ],
   "source": [
    "tree book"
   ]
  },
  {
   "cell_type": "markdown",
   "metadata": {},
   "source": [
    "###### -n, --no-act\n",
    "    No Action: show what files would have been renamed."
   ]
  },
  {
   "cell_type": "code",
   "execution_count": 5,
   "metadata": {
    "collapsed": false
   },
   "outputs": [
    {
     "name": "stdout",
     "output_type": "stream",
     "text": [
      "\u001b[01;34mtest\u001b[00m\r\n",
      "├── \u001b[01;34mconfig\u001b[00m\r\n",
      "│   ├── prog1.config\r\n",
      "│   ├── prog2.config\r\n",
      "│   └── prog3.config\r\n",
      "├── paragraph1.zsh\r\n",
      "├── paragraph2.zsh\r\n",
      "├── paragraph3.zsh\r\n",
      "└── \u001b[01;34msrc\u001b[00m\r\n",
      "    └── linux.so\r\n",
      "\r\n",
      "2 directories, 7 files\r\n"
     ]
    }
   ],
   "source": [
    "tree test"
   ]
  },
  {
   "cell_type": "code",
   "execution_count": 4,
   "metadata": {
    "collapsed": false
   },
   "outputs": [
    {
     "name": "stdout",
     "output_type": "stream",
     "text": [
      "test/paragraph1.zsh renamed as test/paragraph1.sh\r\n",
      "test/paragraph2.zsh renamed as test/paragraph2.sh\r\n",
      "test/paragraph3.zsh renamed as test/paragraph3.sh\r\n"
     ]
    }
   ],
   "source": [
    "rename -n 's/\\.zsh/\\.sh/' test/*"
   ]
  },
  {
   "cell_type": "code",
   "execution_count": 6,
   "metadata": {
    "collapsed": false
   },
   "outputs": [
    {
     "name": "stdout",
     "output_type": "stream",
     "text": [
      "\u001b[01;34mtest\u001b[00m\r\n",
      "├── \u001b[01;34mconfig\u001b[00m\r\n",
      "│   ├── prog1.config\r\n",
      "│   ├── prog2.config\r\n",
      "│   └── prog3.config\r\n",
      "├── paragraph1.zsh\r\n",
      "├── paragraph2.zsh\r\n",
      "├── paragraph3.zsh\r\n",
      "└── \u001b[01;34msrc\u001b[00m\r\n",
      "    └── linux.so\r\n",
      "\r\n",
      "2 directories, 7 files\r\n"
     ]
    }
   ],
   "source": [
    "tree test"
   ]
  },
  {
   "cell_type": "markdown",
   "metadata": {},
   "source": [
    "###### -f, --force\n",
    "    Force: overwrite existing files."
   ]
  },
  {
   "cell_type": "code",
   "execution_count": 7,
   "metadata": {
    "collapsed": false
   },
   "outputs": [
    {
     "name": "stdout",
     "output_type": "stream",
     "text": [
      "\u001b[01;34mtest\u001b[00m\r\n",
      "├── paragraph1.sh\r\n",
      "├── paragraph1.zsh\r\n",
      "├── paragraph2.sh\r\n",
      "├── paragraph2.zsh\r\n",
      "├── paragraph3.sh\r\n",
      "└── paragraph3.zsh\r\n",
      "\r\n",
      "0 directories, 6 files\r\n"
     ]
    }
   ],
   "source": [
    "tree test"
   ]
  },
  {
   "cell_type": "code",
   "execution_count": 8,
   "metadata": {
    "collapsed": false
   },
   "outputs": [
    {
     "name": "stdout",
     "output_type": "stream",
     "text": [
      "test/paragraph1.zsh not renamed: test/paragraph1.sh already exists\r\n",
      "test/paragraph2.zsh not renamed: test/paragraph2.sh already exists\r\n",
      "test/paragraph3.zsh not renamed: test/paragraph3.sh already exists\r\n"
     ]
    }
   ],
   "source": [
    "# Without '-f' option: no overwrite\n",
    "rename 's/\\.zsh/\\.sh/' test/*"
   ]
  },
  {
   "cell_type": "code",
   "execution_count": 9,
   "metadata": {
    "collapsed": false
   },
   "outputs": [
    {
     "name": "stdout",
     "output_type": "stream",
     "text": [
      "\u001b[01;34mtest\u001b[00m\r\n",
      "├── paragraph1.sh\r\n",
      "├── paragraph1.zsh\r\n",
      "├── paragraph2.sh\r\n",
      "├── paragraph2.zsh\r\n",
      "├── paragraph3.sh\r\n",
      "└── paragraph3.zsh\r\n",
      "\r\n",
      "0 directories, 6 files\r\n"
     ]
    }
   ],
   "source": [
    "tree test"
   ]
  },
  {
   "cell_type": "code",
   "execution_count": 10,
   "metadata": {
    "collapsed": false
   },
   "outputs": [
    {
     "name": "stdout",
     "output_type": "stream",
     "text": [
      "\u001b[01;34mtest\u001b[00m\r\n",
      "├── paragraph1.sh\r\n",
      "├── paragraph2.sh\r\n",
      "└── paragraph3.sh\r\n",
      "\r\n",
      "0 directories, 3 files\r\n"
     ]
    }
   ],
   "source": [
    "# With '-f' option: overwirte existing files.\n",
    "rename -f 's/\\.zsh/\\.sh/' test/*\n",
    "tree test"
   ]
  }
 ],
 "metadata": {
  "kernelspec": {
   "display_name": "Bash",
   "language": "bash",
   "name": "bash"
  },
  "language_info": {
   "codemirror_mode": "shell",
   "file_extension": ".sh",
   "mimetype": "text/x-sh",
   "name": "bash"
  }
 },
 "nbformat": 4,
 "nbformat_minor": 0
}
