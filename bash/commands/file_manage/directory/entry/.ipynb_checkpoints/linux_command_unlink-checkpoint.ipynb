{
 "cells": [
  {
   "cell_type": "markdown",
   "metadata": {},
   "source": [
    "### NAME\n",
    "call the unlink function to remove the specified file\n",
    "### SYNOPSIS\n",
    "unlink FILE\n",
    "\n",
    "unlink OPTION\n",
    "### DESCRIPTION\n",
    "Call the unlink function to remove the specified FILE."
   ]
  },
  {
   "cell_type": "markdown",
   "metadata": {},
   "source": [
    "## OPTIONS\n",
    "#### --help\n",
    "Display this help and exit"
   ]
  },
  {
   "cell_type": "code",
   "execution_count": 3,
   "metadata": {
    "collapsed": false
   },
   "outputs": [
    {
     "name": "stdout",
     "output_type": "stream",
     "text": [
      "Usage: unlink FILE\r\n",
      "  or:  unlink OPTION\r\n",
      "Call the unlink function to remove the specified FILE.\r\n",
      "\r\n",
      "      --help     display this help and exit\r\n",
      "      --version  output version information and exit\r\n",
      "\r\n",
      "Report unlink bugs to bug-coreutils@gnu.org\r\n",
      "GNU coreutils home page: <http://www.gnu.org/software/coreutils/>\r\n",
      "General help using GNU software: <http://www.gnu.org/gethelp/>\r\n",
      "For complete documentation, run: info coreutils 'unlink invocation'\r\n"
     ]
    }
   ],
   "source": [
    "unlink --help"
   ]
  },
  {
   "cell_type": "markdown",
   "metadata": {},
   "source": [
    "#### --version\n",
    "output version information and exit"
   ]
  },
  {
   "cell_type": "code",
   "execution_count": 4,
   "metadata": {
    "collapsed": false
   },
   "outputs": [
    {
     "name": "stdout",
     "output_type": "stream",
     "text": [
      "unlink (GNU coreutils) 8.4\r\n",
      "Copyright (C) 2010 Free Software Foundation, Inc.\r\n",
      "License GPLv3+: GNU GPL version 3 or later <http://gnu.org/licenses/gpl.html>.\r\n",
      "This is free software: you are free to change and redistribute it.\r\n",
      "There is NO WARRANTY, to the extent permitted by law.\r\n",
      "\r\n",
      "Written by Michael Stone.\r\n"
     ]
    }
   ],
   "source": [
    "unlink --version"
   ]
  },
  {
   "cell_type": "markdown",
   "metadata": {},
   "source": [
    "'unlink' command is used to remove the specified file"
   ]
  },
  {
   "cell_type": "code",
   "execution_count": 6,
   "metadata": {
    "collapsed": false
   },
   "outputs": [
    {
     "name": "stdout",
     "output_type": "stream",
     "text": [
      "total 12\r\n",
      "drwxrwxr-x. 17 liheyi liheyi 4096 Jun 30 00:01 anaconda2\r\n",
      "drwxrwxr-x.  4 liheyi liheyi 4096 Jun 30 13:38 jupyter\r\n",
      "-rw-rw-r--.  1 liheyi liheyi   22 Jun 30 14:34 link.txt\r\n"
     ]
    }
   ],
   "source": [
    "ls -l ~"
   ]
  },
  {
   "cell_type": "code",
   "execution_count": 8,
   "metadata": {
    "collapsed": false
   },
   "outputs": [
    {
     "name": "stdout",
     "output_type": "stream",
     "text": [
      "unlink: cannot unlink `/home/liheyi/link.txt': No such file or directory\r\n",
      "total 8\r\n",
      "drwxrwxr-x. 17 liheyi liheyi 4096 Jun 30 00:01 anaconda2\r\n",
      "drwxrwxr-x.  4 liheyi liheyi 4096 Jun 30 13:38 jupyter\r\n"
     ]
    }
   ],
   "source": [
    "unlink ~/link.txt\n",
    "ls -l ~"
   ]
  },
  {
   "cell_type": "markdown",
   "metadata": {},
   "source": [
    "'unlink' command remove one file at a time,otherwise error occurs."
   ]
  },
  {
   "cell_type": "code",
   "execution_count": 9,
   "metadata": {
    "collapsed": false
   },
   "outputs": [
    {
     "name": "stdout",
     "output_type": "stream",
     "text": [
      "total 16\r\n",
      "drwxrwxr-x. 17 liheyi liheyi 4096 Jun 30 00:01 anaconda2\r\n",
      "drwxrwxr-x.  4 liheyi liheyi 4096 Jun 30 13:38 jupyter\r\n",
      "-rw-rw-r--.  1 liheyi liheyi   22 Jun 30 14:48 link_other.txt\r\n",
      "-rw-rw-r--.  1 liheyi liheyi   22 Jun 30 14:48 link.txt\r\n"
     ]
    }
   ],
   "source": [
    "ls -l ~"
   ]
  },
  {
   "cell_type": "code",
   "execution_count": 10,
   "metadata": {
    "collapsed": false
   },
   "outputs": [
    {
     "name": "stdout",
     "output_type": "stream",
     "text": [
      "unlink: extra operand `/home/liheyi/link_other.txt'\r\n",
      "Try `unlink --help' for more information.\r\n"
     ]
    }
   ],
   "source": [
    "unlink ~/link.txt ~/link_other.txt"
   ]
  }
 ],
 "metadata": {
  "kernelspec": {
   "display_name": "Bash",
   "language": "bash",
   "name": "bash"
  },
  "language_info": {
   "codemirror_mode": "shell",
   "file_extension": ".sh",
   "mimetype": "text/x-sh",
   "name": "bash"
  }
 },
 "nbformat": 4,
 "nbformat_minor": 0
}
