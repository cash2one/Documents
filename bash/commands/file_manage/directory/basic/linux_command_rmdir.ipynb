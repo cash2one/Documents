{
 "cells": [
  {
   "cell_type": "markdown",
   "metadata": {},
   "source": [
    "#### NAME\n",
    "    rmdir - remove empty directories\n",
    "\n",
    "#### SYNOPSIS\n",
    "    rmdir [OPTION]... DIRECTORY...\n",
    "\n",
    "#### DESCRIPTION\n",
    "    Remove the DIRECTORY(ies), if they are empty."
   ]
  },
  {
   "cell_type": "markdown",
   "metadata": {},
   "source": [
    "#### OPTIONS\n",
    "###### default"
   ]
  },
  {
   "cell_type": "code",
   "execution_count": 2,
   "metadata": {
    "collapsed": false
   },
   "outputs": [
    {
     "name": "stdout",
     "output_type": "stream",
     "text": [
      "total 0\r\n"
     ]
    }
   ],
   "source": [
    "# remove the empty directory.\n",
    "ls -l empty_dir/"
   ]
  },
  {
   "cell_type": "code",
   "execution_count": 3,
   "metadata": {
    "collapsed": false
   },
   "outputs": [
    {
     "name": "stdout",
     "output_type": "stream",
     "text": []
    }
   ],
   "source": [
    "rmdir empty_dir"
   ]
  },
  {
   "cell_type": "code",
   "execution_count": 4,
   "metadata": {
    "collapsed": false
   },
   "outputs": [
    {
     "name": "stdout",
     "output_type": "stream",
     "text": [
      "total 0\r\n",
      "-rw-rw-r-- 1 liheyi liheyi 0  8月  5 11:03 README.md\r\n"
     ]
    }
   ],
   "source": [
    "# If a directory is not empty,will get an error:\n",
    "ls -l no_empty_dir/"
   ]
  },
  {
   "cell_type": "code",
   "execution_count": 5,
   "metadata": {
    "collapsed": false
   },
   "outputs": [
    {
     "name": "stdout",
     "output_type": "stream",
     "text": [
      "rmdir: failed to remove ‘no_empty_dir’: Directory not empty\r\n"
     ]
    }
   ],
   "source": [
    "rmdir no_empty_dir"
   ]
  },
  {
   "cell_type": "markdown",
   "metadata": {},
   "source": [
    "###### --ignore-fail-on-non-empty\n",
    "    ignore each failure that is solely because a directory is non-empty"
   ]
  },
  {
   "cell_type": "code",
   "execution_count": 6,
   "metadata": {
    "collapsed": false
   },
   "outputs": [
    {
     "name": "stdout",
     "output_type": "stream",
     "text": [
      "total 0\r\n",
      "-rw-rw-r-- 1 liheyi liheyi 0  8月  5 11:03 README.md\r\n"
     ]
    }
   ],
   "source": [
    "ls -l no_empty_dir/"
   ]
  },
  {
   "cell_type": "code",
   "execution_count": 9,
   "metadata": {
    "collapsed": false
   },
   "outputs": [
    {
     "name": "stdout",
     "output_type": "stream",
     "text": []
    }
   ],
   "source": [
    "# ignore error\n",
    "rmdir --ignore-fail-on-non-empty no_empty_dir"
   ]
  },
  {
   "cell_type": "code",
   "execution_count": 8,
   "metadata": {
    "collapsed": false
   },
   "outputs": [
    {
     "name": "stdout",
     "output_type": "stream",
     "text": [
      "total 0\r\n",
      "-rw-rw-r-- 1 liheyi liheyi 0  8月  5 11:03 README.md\r\n"
     ]
    }
   ],
   "source": [
    "# nothing change...\n",
    "ls -l no_empty_dir/"
   ]
  },
  {
   "cell_type": "markdown",
   "metadata": {},
   "source": [
    "###### -p, --parents\n",
    "    remove DIRECTORY and its ancestors; \n",
    "    e.g., 'rmdir -p a/b/c' is similar to 'rmdir a/b/c a/b a'"
   ]
  },
  {
   "cell_type": "code",
   "execution_count": 16,
   "metadata": {
    "collapsed": false
   },
   "outputs": [
    {
     "name": "stdout",
     "output_type": "stream",
     "text": [
      "\u001b[01;34m.\u001b[00m\r\n",
      "├── \u001b[01;34mdir\u001b[00m\r\n",
      "│   └── \u001b[01;34msub_dir\u001b[00m\r\n",
      "│       └── \u001b[01;34msub_sub_dir\u001b[00m\r\n",
      "├── linux_command_basename.ipynb\r\n",
      "├── linux_command_dirname.ipynb\r\n",
      "├── linux_command_mkdir.ipynb\r\n",
      "└── linux_command_rmdir.ipynb\r\n",
      "\r\n",
      "3 directories, 4 files\r\n"
     ]
    }
   ],
   "source": [
    "tree"
   ]
  },
  {
   "cell_type": "code",
   "execution_count": 17,
   "metadata": {
    "collapsed": false
   },
   "outputs": [
    {
     "name": "stdout",
     "output_type": "stream",
     "text": []
    }
   ],
   "source": [
    "# the subdircetories 'sub_dir' and 'sub_sub_dir'\n",
    "# are all empty directories.\n",
    "rmdir -p dir/sub_dir/sub_sub_dir"
   ]
  },
  {
   "cell_type": "code",
   "execution_count": 18,
   "metadata": {
    "collapsed": false
   },
   "outputs": [
    {
     "name": "stdout",
     "output_type": "stream",
     "text": [
      "\u001b[01;34m.\u001b[00m\r\n",
      "├── linux_command_basename.ipynb\r\n",
      "├── linux_command_dirname.ipynb\r\n",
      "├── linux_command_mkdir.ipynb\r\n",
      "└── linux_command_rmdir.ipynb\r\n",
      "\r\n",
      "0 directories, 4 files\r\n"
     ]
    }
   ],
   "source": [
    "tree"
   ]
  },
  {
   "cell_type": "markdown",
   "metadata": {},
   "source": [
    "###### -v, --verbose\n",
    "    output a diagnostic for every directory processed"
   ]
  },
  {
   "cell_type": "code",
   "execution_count": 20,
   "metadata": {
    "collapsed": false
   },
   "outputs": [
    {
     "name": "stdout",
     "output_type": "stream",
     "text": [
      "total 0\r\n"
     ]
    }
   ],
   "source": [
    "ls -l project/"
   ]
  },
  {
   "cell_type": "code",
   "execution_count": 21,
   "metadata": {
    "collapsed": false
   },
   "outputs": [
    {
     "name": "stdout",
     "output_type": "stream",
     "text": [
      "rmdir: removing directory, ‘project’\r\n"
     ]
    }
   ],
   "source": [
    "rmdir -v project"
   ]
  },
  {
   "cell_type": "code",
   "execution_count": 22,
   "metadata": {
    "collapsed": false
   },
   "outputs": [
    {
     "name": "stdout",
     "output_type": "stream",
     "text": [
      "\u001b[01;34m.\u001b[00m\r\n",
      "├── \u001b[01;34mdir\u001b[00m\r\n",
      "│   └── \u001b[01;34msub_dir\u001b[00m\r\n",
      "│       └── \u001b[01;34msub_sub_dir\u001b[00m\r\n",
      "├── linux_command_basename.ipynb\r\n",
      "├── linux_command_dirname.ipynb\r\n",
      "├── linux_command_mkdir.ipynb\r\n",
      "└── linux_command_rmdir.ipynb\r\n",
      "\r\n",
      "3 directories, 4 files\r\n"
     ]
    }
   ],
   "source": [
    "tree"
   ]
  },
  {
   "cell_type": "code",
   "execution_count": 24,
   "metadata": {
    "collapsed": false
   },
   "outputs": [
    {
     "name": "stdout",
     "output_type": "stream",
     "text": [
      "rmdir: removing directory, ‘dir/sub_dir/sub_sub_dir’\r\n",
      "rmdir: removing directory, ‘dir/sub_dir’\r\n",
      "rmdir: removing directory, ‘dir’\r\n"
     ]
    }
   ],
   "source": [
    "rmdir -pv dir/sub_dir/sub_sub_dir"
   ]
  },
  {
   "cell_type": "code",
   "execution_count": 25,
   "metadata": {
    "collapsed": false
   },
   "outputs": [
    {
     "name": "stdout",
     "output_type": "stream",
     "text": [
      "\u001b[01;34m.\u001b[00m\r\n",
      "├── linux_command_basename.ipynb\r\n",
      "├── linux_command_dirname.ipynb\r\n",
      "├── linux_command_mkdir.ipynb\r\n",
      "└── linux_command_rmdir.ipynb\r\n",
      "\r\n",
      "0 directories, 4 files\r\n"
     ]
    }
   ],
   "source": [
    "tree"
   ]
  }
 ],
 "metadata": {
  "kernelspec": {
   "display_name": "Bash",
   "language": "bash",
   "name": "bash"
  },
  "language_info": {
   "codemirror_mode": "shell",
   "file_extension": ".sh",
   "mimetype": "text/x-sh",
   "name": "bash"
  }
 },
 "nbformat": 4,
 "nbformat_minor": 0
}
