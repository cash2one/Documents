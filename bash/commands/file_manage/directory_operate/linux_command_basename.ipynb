{
 "cells": [
  {
   "cell_type": "markdown",
   "metadata": {},
   "source": [
    "#### NAME\n",
    "    basename - strip directory and suffix from filenames\n",
    "#### SYNOPSIS\n",
    "    basename NAME [SUFFIX]\n",
    "    basename OPTION... NAME...\n",
    "#### DESCRIPTION\n",
    "    Print NAME with any leading directory components removed.\n",
    "    If specified, also remove a trailing SUFFIX."
   ]
  },
  {
   "cell_type": "markdown",
   "metadata": {},
   "source": [
    "#### OPTIONS"
   ]
  },
  {
   "cell_type": "markdown",
   "metadata": {},
   "source": [
    "###### default"
   ]
  },
  {
   "cell_type": "code",
   "execution_count": 1,
   "metadata": {
    "collapsed": false
   },
   "outputs": [
    {
     "name": "stdout",
     "output_type": "stream",
     "text": [
      "halt\r\n"
     ]
    }
   ],
   "source": [
    "# \"halt\" is a file \n",
    "basename /etc/init.d/halt"
   ]
  },
  {
   "cell_type": "code",
   "execution_count": 2,
   "metadata": {
    "collapsed": false
   },
   "outputs": [
    {
     "name": "stdout",
     "output_type": "stream",
     "text": [
      "halt\r\n"
     ]
    }
   ],
   "source": [
    "basename /etc/init.d/halt/"
   ]
  },
  {
   "cell_type": "code",
   "execution_count": 3,
   "metadata": {
    "collapsed": false
   },
   "outputs": [
    {
     "name": "stdout",
     "output_type": "stream",
     "text": [
      "include\r\n"
     ]
    }
   ],
   "source": [
    "# \"include\" is a directory\n",
    "basename /home/liheyi/anaconda2/include"
   ]
  },
  {
   "cell_type": "code",
   "execution_count": 4,
   "metadata": {
    "collapsed": false
   },
   "outputs": [
    {
     "name": "stdout",
     "output_type": "stream",
     "text": [
      "include\r\n"
     ]
    }
   ],
   "source": [
    "basename /home/liheyi/anaconda2/include/"
   ]
  },
  {
   "cell_type": "markdown",
   "metadata": {},
   "source": [
    "###### -a, --multiple\n",
    "    support multiple arguments and treat each as a NAME"
   ]
  },
  {
   "cell_type": "code",
   "execution_count": null,
   "metadata": {
    "collapsed": true
   },
   "outputs": [],
   "source": []
  }
 ],
 "metadata": {
  "kernelspec": {
   "display_name": "Bash",
   "language": "bash",
   "name": "bash"
  },
  "language_info": {
   "codemirror_mode": "shell",
   "file_extension": ".sh",
   "mimetype": "text/x-sh",
   "name": "bash"
  }
 },
 "nbformat": 4,
 "nbformat_minor": 0
}
