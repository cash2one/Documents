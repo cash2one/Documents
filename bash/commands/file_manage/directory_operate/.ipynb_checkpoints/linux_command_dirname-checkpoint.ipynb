{
 "cells": [
  {
   "cell_type": "markdown",
   "metadata": {},
   "source": [
    "#### NAME\n",
    "    strip last component from file name\n",
    "#### SYNOPSIS\n",
    "    dirname NAME\n",
    "    dirname OPTION\n",
    "#### DESCRIPTION\n",
    "    Output NAME with its last non-slash component and trailing slashes removed; \n",
    "    if NAME contains no /'s,output '.' (meaning the current directory)."
   ]
  },
  {
   "cell_type": "markdown",
   "metadata": {},
   "source": [
    "#### OPTIONS"
   ]
  },
  {
   "cell_type": "markdown",
   "metadata": {},
   "source": [
    "###### default"
   ]
  },
  {
   "cell_type": "code",
   "execution_count": 5,
   "metadata": {
    "collapsed": false
   },
   "outputs": [
    {
     "name": "stdout",
     "output_type": "stream",
     "text": [
      "/home/liheyi/jupyter/bash\r\n"
     ]
    }
   ],
   "source": [
    "dirname /home/liheyi/jupyter/bash/basics"
   ]
  },
  {
   "cell_type": "code",
   "execution_count": 10,
   "metadata": {
    "collapsed": false
   },
   "outputs": [
    {
     "name": "stdout",
     "output_type": "stream",
     "text": [
      "/home/liheyi/jupyter\r\n"
     ]
    }
   ],
   "source": [
    "# Absolute path\n",
    "dirname /home/liheyi/jupyter/bash/"
   ]
  },
  {
   "cell_type": "code",
   "execution_count": 11,
   "metadata": {
    "collapsed": false
   },
   "outputs": [
    {
     "name": "stdout",
     "output_type": "stream",
     "text": [
      "/home/liheyi/jupyter\r\n"
     ]
    }
   ],
   "source": [
    "dirname /home/liheyi/jupyter/bash"
   ]
  },
  {
   "cell_type": "code",
   "execution_count": 13,
   "metadata": {
    "collapsed": false
   },
   "outputs": [
    {
     "name": "stdout",
     "output_type": "stream",
     "text": [
      "/\r\n"
     ]
    }
   ],
   "source": [
    "dirname /home/"
   ]
  },
  {
   "cell_type": "code",
   "execution_count": 14,
   "metadata": {
    "collapsed": false
   },
   "outputs": [
    {
     "name": "stdout",
     "output_type": "stream",
     "text": [
      "/\r\n"
     ]
    }
   ],
   "source": [
    "dirname /home"
   ]
  },
  {
   "cell_type": "code",
   "execution_count": 16,
   "metadata": {
    "collapsed": false
   },
   "outputs": [
    {
     "name": "stdout",
     "output_type": "stream",
     "text": [
      "liheyi/jupyter\r\n"
     ]
    }
   ],
   "source": [
    "dirname liheyi/jupyter/python/"
   ]
  },
  {
   "cell_type": "code",
   "execution_count": 17,
   "metadata": {
    "collapsed": false
   },
   "outputs": [
    {
     "name": "stdout",
     "output_type": "stream",
     "text": [
      "liheyi/jupyter\r\n"
     ]
    }
   ],
   "source": [
    "dirname liheyi/jupyter/python/"
   ]
  },
  {
   "cell_type": "code",
   "execution_count": 18,
   "metadata": {
    "collapsed": false
   },
   "outputs": [
    {
     "name": "stdout",
     "output_type": "stream",
     "text": [
      ".\r\n"
     ]
    }
   ],
   "source": [
    "dirname linux_command_dirname.ipynb"
   ]
  },
  {
   "cell_type": "markdown",
   "metadata": {},
   "source": [
    "###### -z, --zero\n",
    "    separate output with NUL rather than newline\n",
    "    only on some version of basename,example in Ubuntu 14.04:\n",
    "    liheyi@ubuntu:~$ dirname -z /etc/init.d/halt\n",
    "/etc/init.dliheyi@ubuntu:~$\n",
    "    "
   ]
  },
  {
   "cell_type": "markdown",
   "metadata": {},
   "source": [
    "###### --help \n",
    "    display this help and exit"
   ]
  },
  {
   "cell_type": "code",
   "execution_count": 19,
   "metadata": {
    "collapsed": false
   },
   "outputs": [
    {
     "name": "stdout",
     "output_type": "stream",
     "text": [
      "Usage: dirname NAME\r\n",
      "  or:  dirname OPTION\r\n",
      "Print NAME with its trailing /component removed; if NAME contains no /'s,\r\n",
      "output `.' (meaning the current directory).\r\n",
      "\r\n",
      "      --help     display this help and exit\r\n",
      "      --version  output version information and exit\r\n",
      "\r\n",
      "Examples:\r\n",
      "  dirname /usr/bin/sort  Output \"/usr/bin\".\r\n",
      "  dirname stdio.h        Output \".\".\r\n",
      "\r\n",
      "Report dirname bugs to bug-coreutils@gnu.org\r\n",
      "GNU coreutils home page: <http://www.gnu.org/software/coreutils/>\r\n",
      "General help using GNU software: <http://www.gnu.org/gethelp/>\r\n",
      "For complete documentation, run: info coreutils 'dirname invocation'\r\n"
     ]
    }
   ],
   "source": [
    "dirname --help"
   ]
  },
  {
   "cell_type": "markdown",
   "metadata": {},
   "source": [
    "###### --version\n",
    "    output version information and exit"
   ]
  },
  {
   "cell_type": "code",
   "execution_count": 20,
   "metadata": {
    "collapsed": false
   },
   "outputs": [
    {
     "name": "stdout",
     "output_type": "stream",
     "text": [
      "dirname (GNU coreutils) 8.4\r\n",
      "Copyright (C) 2010 Free Software Foundation, Inc.\r\n",
      "License GPLv3+: GNU GPL version 3 or later <http://gnu.org/licenses/gpl.html>.\r\n",
      "This is free software: you are free to change and redistribute it.\r\n",
      "There is NO WARRANTY, to the extent permitted by law.\r\n",
      "\r\n",
      "Written by David MacKenzie and Jim Meyering.\r\n"
     ]
    }
   ],
   "source": [
    "dirname --version"
   ]
  }
 ],
 "metadata": {
  "kernelspec": {
   "display_name": "Bash",
   "language": "bash",
   "name": "bash"
  },
  "language_info": {
   "codemirror_mode": "shell",
   "file_extension": ".sh",
   "mimetype": "text/x-sh",
   "name": "bash"
  }
 },
 "nbformat": 4,
 "nbformat_minor": 0
}
