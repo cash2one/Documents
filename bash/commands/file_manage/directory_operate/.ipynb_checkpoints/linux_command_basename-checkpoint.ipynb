{
 "cells": [
  {
   "cell_type": "markdown",
   "metadata": {},
   "source": [
    "#### NAME\n",
    "    basename - strip directory and suffix from filenames\n",
    "#### SYNOPSIS\n",
    "    basename NAME [SUFFIX]\n",
    "    basename OPTION... NAME...\n",
    "#### DESCRIPTION\n",
    "    Print NAME with any leading directory components removed.\n",
    "    If specified, also remove a trailing SUFFIX."
   ]
  },
  {
   "cell_type": "markdown",
   "metadata": {},
   "source": [
    "#### OPTIONS"
   ]
  },
  {
   "cell_type": "markdown",
   "metadata": {},
   "source": [
    "###### default"
   ]
  },
  {
   "cell_type": "code",
   "execution_count": 1,
   "metadata": {
    "collapsed": false
   },
   "outputs": [
    {
     "name": "stdout",
     "output_type": "stream",
     "text": [
      "halt\r\n"
     ]
    }
   ],
   "source": [
    "# Absolute path\n",
    "# \"halt\" is a file \n",
    "basename /etc/init.d/halt"
   ]
  },
  {
   "cell_type": "code",
   "execution_count": 2,
   "metadata": {
    "collapsed": false
   },
   "outputs": [
    {
     "name": "stdout",
     "output_type": "stream",
     "text": [
      "halt\r\n"
     ]
    }
   ],
   "source": [
    "basename /etc/init.d/halt/"
   ]
  },
  {
   "cell_type": "code",
   "execution_count": 3,
   "metadata": {
    "collapsed": false
   },
   "outputs": [
    {
     "name": "stdout",
     "output_type": "stream",
     "text": [
      "include\r\n"
     ]
    }
   ],
   "source": [
    "# \"include\" is a directory\n",
    "basename /home/liheyi/anaconda2/include"
   ]
  },
  {
   "cell_type": "code",
   "execution_count": 4,
   "metadata": {
    "collapsed": false
   },
   "outputs": [
    {
     "name": "stdout",
     "output_type": "stream",
     "text": [
      "include\r\n"
     ]
    }
   ],
   "source": [
    "basename /home/liheyi/anaconda2/include/"
   ]
  },
  {
   "cell_type": "code",
   "execution_count": 1,
   "metadata": {
    "collapsed": false
   },
   "outputs": [
    {
     "name": "stdout",
     "output_type": "stream",
     "text": [
      "start.sh\r\n"
     ]
    }
   ],
   "source": [
    "# Relative path\n",
    "basename jupyter/start.sh"
   ]
  },
  {
   "cell_type": "code",
   "execution_count": 2,
   "metadata": {
    "collapsed": false
   },
   "outputs": [
    {
     "name": "stdout",
     "output_type": "stream",
     "text": [
      "commands\r\n"
     ]
    }
   ],
   "source": [
    "basename jupyter/bash/commands"
   ]
  },
  {
   "cell_type": "markdown",
   "metadata": {},
   "source": [
    "###### -a, --multiple(only on debain system)\n",
    "    support multiple arguments and treat each as a NAME\n",
    "    only on some version of basename,example in Ubuntu 14.04:\n",
    "    $ basename -a /etc/init.d/halt /usr/sbin/cron\n",
    "      halt\n",
    "      cron"
   ]
  },
  {
   "cell_type": "markdown",
   "metadata": {
    "collapsed": true
   },
   "source": [
    "###### -s, --suffix=SUFFIX\n",
    "    remove a trailing SUFFIX\n",
    "    only on some version of basename,example in Ubuntu 14.04:\n",
    "    $ basename -s .sh /etc/libreoffice/soffice.sh\n",
    "      soffice\n",
    "    but,we can use this funciton as follows:"
   ]
  },
  {
   "cell_type": "code",
   "execution_count": 5,
   "metadata": {
    "collapsed": false
   },
   "outputs": [
    {
     "name": "stdout",
     "output_type": "stream",
     "text": [
      "linux_command_basename\r\n"
     ]
    }
   ],
   "source": [
    "basename linux_command_basename.ipynb .ipynb"
   ]
  },
  {
   "cell_type": "code",
   "execution_count": 4,
   "metadata": {
    "collapsed": false
   },
   "outputs": [
    {
     "name": "stdout",
     "output_type": "stream",
     "text": [
      "stdio\r\n"
     ]
    }
   ],
   "source": [
    "basename include/stdio.h .h"
   ]
  },
  {
   "cell_type": "markdown",
   "metadata": {},
   "source": [
    "###### -z, --zero\n",
    "    separate output with NULL rather than newline\n",
    "    only on some version of basename,example in Ubuntu 14.0:\n",
    "    liheyi@ubuntu:~$ basename -z /etc/init.d/halt \n",
    "haltliheyi@ubuntu:~$\n",
    "    liheyi@ubuntu:~$ basename -z -a /etc/init.d/halt /usr/sbin/cron\n",
    "haltcronliheyi@ubuntu:~$"
   ]
  },
  {
   "cell_type": "markdown",
   "metadata": {},
   "source": [
    "###### --help \n",
    "    display this help and exit"
   ]
  },
  {
   "cell_type": "code",
   "execution_count": 6,
   "metadata": {
    "collapsed": false
   },
   "outputs": [
    {
     "name": "stdout",
     "output_type": "stream",
     "text": [
      "Usage: basename NAME [SUFFIX]\r\n",
      "  or:  basename OPTION\r\n",
      "Print NAME with any leading directory components removed.\r\n",
      "If specified, also remove a trailing SUFFIX.\r\n",
      "\r\n",
      "      --help     display this help and exit\r\n",
      "      --version  output version information and exit\r\n",
      "\r\n",
      "Examples:\r\n",
      "  basename /usr/bin/sort       Output \"sort\".\r\n",
      "  basename include/stdio.h .h  Output \"stdio\".\r\n",
      "\r\n",
      "Report basename bugs to bug-coreutils@gnu.org\r\n",
      "GNU coreutils home page: <http://www.gnu.org/software/coreutils/>\r\n",
      "General help using GNU software: <http://www.gnu.org/gethelp/>\r\n",
      "For complete documentation, run: info coreutils 'basename invocation'\r\n"
     ]
    }
   ],
   "source": [
    "basename --help"
   ]
  },
  {
   "cell_type": "markdown",
   "metadata": {},
   "source": [
    "###### --version\n",
    "    output version information and exit"
   ]
  },
  {
   "cell_type": "code",
   "execution_count": 7,
   "metadata": {
    "collapsed": false
   },
   "outputs": [
    {
     "name": "stdout",
     "output_type": "stream",
     "text": [
      "basename (GNU coreutils) 8.4\r\n",
      "Copyright (C) 2010 Free Software Foundation, Inc.\r\n",
      "License GPLv3+: GNU GPL version 3 or later <http://gnu.org/licenses/gpl.html>.\r\n",
      "This is free software: you are free to change and redistribute it.\r\n",
      "There is NO WARRANTY, to the extent permitted by law.\r\n",
      "\r\n",
      "Written by David MacKenzie.\r\n"
     ]
    }
   ],
   "source": [
    "basename --version"
   ]
  }
 ],
 "metadata": {
  "kernelspec": {
   "display_name": "Bash",
   "language": "bash",
   "name": "bash"
  },
  "language_info": {
   "codemirror_mode": "shell",
   "file_extension": ".sh",
   "mimetype": "text/x-sh",
   "name": "bash"
  }
 },
 "nbformat": 4,
 "nbformat_minor": 0
}
