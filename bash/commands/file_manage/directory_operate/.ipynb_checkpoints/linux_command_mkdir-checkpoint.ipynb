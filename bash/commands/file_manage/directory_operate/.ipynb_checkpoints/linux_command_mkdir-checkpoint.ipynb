{
 "cells": [
  {
   "cell_type": "markdown",
   "metadata": {},
   "source": [
    "#### NAME\n",
    "    mkdir - make directories\n",
    "#### SYNOPSIS\n",
    "    mkdir [OPTION]... DIRECTORY...\n",
    "#### DESCRIPTION\n",
    "    Create the DIRECTORY(ies), if they do not already exist."
   ]
  },
  {
   "cell_type": "markdown",
   "metadata": {},
   "source": [
    "#### OPTIONS\n",
    "###### default"
   ]
  },
  {
   "cell_type": "code",
   "execution_count": 5,
   "metadata": {
    "collapsed": false
   },
   "outputs": [
    {
     "name": "stdout",
     "output_type": "stream",
     "text": [
      "drwxrwxr-x. 2 liheyi liheyi 4096 Aug  4 22:30 \u001b[0m\u001b[01;34mproject\u001b[0m\r\n",
      "\u001b[m"
     ]
    }
   ],
   "source": [
    "# Create a single directory in the current directory\n",
    "mkdir project\n",
    "ls -ld project"
   ]
  },
  {
   "cell_type": "code",
   "execution_count": 3,
   "metadata": {
    "collapsed": false
   },
   "outputs": [
    {
     "name": "stdout",
     "output_type": "stream",
     "text": [
      "mkdir: cannot create directory `project': File exists\r\n"
     ]
    }
   ],
   "source": [
    "# If the directory created has existed,arise error\n",
    "mkdir project"
   ]
  },
  {
   "cell_type": "code",
   "execution_count": 7,
   "metadata": {
    "collapsed": false
   },
   "outputs": [
    {
     "name": "stdout",
     "output_type": "stream",
     "text": [
      "drwxrwxr-x. 2 liheyi liheyi 4096 Aug  4 22:31 \u001b[0m\u001b[01;34m/tmp/gameserver\u001b[0m\r\n",
      "\u001b[m"
     ]
    }
   ],
   "source": [
    "# Create a single directory in the specified directory\n",
    "mkdir /tmp/gameserver\n",
    "ls -ld /tmp/gameserver"
   ]
  },
  {
   "cell_type": "code",
   "execution_count": 8,
   "metadata": {
    "collapsed": false
   },
   "outputs": [
    {
     "name": "stdout",
     "output_type": "stream",
     "text": [
      "drwxrwxr-x. 2 liheyi liheyi 4096 Aug  4 22:33 \u001b[0m\u001b[01;34mproject\u001b[0m\r\n",
      "drwxrwxr-x. 2 liheyi liheyi 4096 Aug  4 22:33 \u001b[01;34m/tmp/gameserver\u001b[0m\r\n",
      "\u001b[m"
     ]
    }
   ],
   "source": [
    "# Create multiple directories at the same time\n",
    "# in the current or specified directory\n",
    "mkdir project /tmp/gameserver\n",
    "ls -ld project /tmp/gameserver"
   ]
  },
  {
   "cell_type": "markdown",
   "metadata": {},
   "source": [
    "###### -v, --verbose\n",
    "    print a message for each created directory"
   ]
  },
  {
   "cell_type": "code",
   "execution_count": 20,
   "metadata": {
    "collapsed": false
   },
   "outputs": [
    {
     "name": "stdout",
     "output_type": "stream",
     "text": [
      "mkdir: created directory `project'\r\n",
      "mkdir: created directory `/tmp/gameserver'\r\n"
     ]
    }
   ],
   "source": [
    "mkdir -v project /tmp/gameserver"
   ]
  },
  {
   "cell_type": "code",
   "execution_count": 21,
   "metadata": {
    "collapsed": false
   },
   "outputs": [
    {
     "name": "stdout",
     "output_type": "stream",
     "text": [
      "mkdir: created directory `dir'\r\n",
      "mkdir: created directory `dir/sub_dir'\r\n",
      "mkdir: created directory `dir/sub_dir/sub_sub_dir'\r\n"
     ]
    }
   ],
   "source": [
    "mkdir -pv dir/sub_dir/sub_sub_dir"
   ]
  },
  {
   "cell_type": "markdown",
   "metadata": {},
   "source": [
    "###### -p, --parents\n",
    "    no error if directory created has existed, make parent directories as needed"
   ]
  },
  {
   "cell_type": "code",
   "execution_count": 9,
   "metadata": {
    "collapsed": false
   },
   "outputs": [
    {
     "name": "stdout",
     "output_type": "stream",
     "text": [
      "drwxrwxr-x. 2 liheyi liheyi 4096 Aug  4 22:33 \u001b[0m\u001b[01;34mproject\u001b[0m\r\n",
      "\u001b[m"
     ]
    }
   ],
   "source": [
    "# In the current directory,the 'project' directory has existd\n",
    "# we can create it again with '-p' option,without error \n",
    "ls -ld project"
   ]
  },
  {
   "cell_type": "code",
   "execution_count": 10,
   "metadata": {
    "collapsed": false
   },
   "outputs": [
    {
     "name": "stdout",
     "output_type": "stream",
     "text": [
      "drwxrwxr-x. 2 liheyi liheyi 4096 Aug  4 22:33 \u001b[0m\u001b[01;34mproject\u001b[0m\r\n",
      "\u001b[m"
     ]
    }
   ],
   "source": [
    "mkdir -p project\n",
    "ls -ld project"
   ]
  },
  {
   "cell_type": "code",
   "execution_count": 13,
   "metadata": {
    "collapsed": false
   },
   "outputs": [
    {
     "name": "stdout",
     "output_type": "stream",
     "text": [
      "drwxrwxr-x. 2 liheyi liheyi 4096 Aug  4 22:33 \u001b[0m\u001b[01;34mproject\u001b[0m\r\n",
      "drwxrwxr-x. 2 liheyi liheyi 4096 Aug  4 22:33 \u001b[01;34m/tmp/gameserver\u001b[0m\r\n",
      "\u001b[m"
     ]
    }
   ],
   "source": [
    "# Create multiple directories existing is also fine.\n",
    "ls -ld project /tmp/gameserver"
   ]
  },
  {
   "cell_type": "code",
   "execution_count": 14,
   "metadata": {
    "collapsed": false
   },
   "outputs": [
    {
     "name": "stdout",
     "output_type": "stream",
     "text": [
      "drwxrwxr-x. 2 liheyi liheyi 4096 Aug  4 22:33 \u001b[0m\u001b[01;34mproject\u001b[0m\r\n",
      "drwxrwxr-x. 2 liheyi liheyi 4096 Aug  4 22:33 \u001b[01;34m/tmp/gameserver\u001b[0m\r\n",
      "\u001b[m"
     ]
    }
   ],
   "source": [
    "mkdir -p project /tmp/gameserver\n",
    "ls -ld project /tmp/gameserver"
   ]
  },
  {
   "cell_type": "code",
   "execution_count": 18,
   "metadata": {
    "collapsed": false
   },
   "outputs": [
    {
     "name": "stdout",
     "output_type": "stream",
     "text": [
      "dir\r\n",
      "└── sub_dir\r\n",
      "    └── sub_sub_dir\r\n",
      "\r\n",
      "2 directories, 0 files\r\n"
     ]
    }
   ],
   "source": [
    "# create directories recursively \n",
    "mkdir -p dir/sub_dir/sub_sub_dir\n",
    "tree dir"
   ]
  },
  {
   "cell_type": "code",
   "execution_count": 19,
   "metadata": {
    "collapsed": false
   },
   "outputs": [
    {
     "name": "stdout",
     "output_type": "stream",
     "text": [
      "mkdir: created directory `project/lib/'\r\n",
      "mkdir: created directory `project/bin/'\r\n",
      "mkdir: created directory `project/doc'\r\n",
      "mkdir: created directory `project/doc/info'\r\n",
      "mkdir: created directory `project/doc/product'\r\n",
      "mkdir: created directory `project/logs'\r\n",
      "mkdir: created directory `project/logs/info'\r\n",
      "mkdir: created directory `project/logs/product'\r\n",
      "mkdir: created directory `project/service'\r\n",
      "mkdir: created directory `project/service/deploy'\r\n",
      "mkdir: created directory `project/service/deploy/info'\r\n",
      "mkdir: created directory `project/service/deploy/product'\r\n",
      "project\r\n",
      "├── bin\r\n",
      "├── doc\r\n",
      "│   ├── info\r\n",
      "│   └── product\r\n",
      "├── lib\r\n",
      "├── logs\r\n",
      "│   ├── info\r\n",
      "│   └── product\r\n",
      "└── service\r\n",
      "    └── deploy\r\n",
      "        ├── info\r\n",
      "        └── product\r\n",
      "\r\n",
      "12 directories, 0 files\r\n"
     ]
    }
   ],
   "source": [
    "# Create complex directory hierarchy\n",
    "mkdir -vp project/{lib/,bin/,doc/{info,product},logs/{info,product},service/deploy/{info,product}}\n",
    "tree project"
   ]
  },
  {
   "cell_type": "markdown",
   "metadata": {},
   "source": [
    "###### -m, --mode=MODE\n",
    "    set file mode (as in chmod), not a=rwx - umask"
   ]
  },
  {
   "cell_type": "code",
   "execution_count": 22,
   "metadata": {
    "collapsed": false
   },
   "outputs": [
    {
     "name": "stdout",
     "output_type": "stream",
     "text": [
      "drwxrwxr-x. 2 liheyi liheyi 4096 Aug  4 22:56 \u001b[0m\u001b[01;34mproject\u001b[0m\r\n",
      "\u001b[m"
     ]
    }
   ],
   "source": [
    "# default permissions of directory created:755\n",
    "mkdir project\n",
    "ls -ld project"
   ]
  },
  {
   "cell_type": "code",
   "execution_count": 24,
   "metadata": {
    "collapsed": false
   },
   "outputs": [
    {
     "name": "stdout",
     "output_type": "stream",
     "text": [
      "drw-r--r--. 2 liheyi liheyi 4096 Aug  4 22:58 \u001b[0m\u001b[01;34mproject\u001b[0m\r\n",
      "\u001b[m"
     ]
    }
   ],
   "source": [
    "# create directory with permissions:644\n",
    "mkdir -m 644 project\n",
    "ls -ld project"
   ]
  },
  {
   "cell_type": "code",
   "execution_count": 27,
   "metadata": {
    "collapsed": false
   },
   "outputs": [
    {
     "name": "stdout",
     "output_type": "stream",
     "text": [
      "project:\r\n",
      "total 20\r\n",
      "drwxr-xr-x. 2 liheyi liheyi 4096 Aug  4 23:06 \u001b[0m\u001b[01;34mbin\u001b[0m\r\n",
      "drwxrwxr-x. 4 liheyi liheyi 4096 Aug  4 23:06 \u001b[01;34mdoc\u001b[0m\r\n",
      "drwxr-xr-x. 2 liheyi liheyi 4096 Aug  4 23:06 \u001b[01;34mlib\u001b[0m\r\n",
      "drwxrwxr-x. 4 liheyi liheyi 4096 Aug  4 23:06 \u001b[01;34mlogs\u001b[0m\r\n",
      "drwxrwxr-x. 3 liheyi liheyi 4096 Aug  4 23:06 \u001b[01;34mservice\u001b[0m\r\n",
      "\r\n",
      "project/bin:\r\n",
      "total 0\r\n",
      "\r\n",
      "project/doc:\r\n",
      "total 8\r\n",
      "drwxr-xr-x. 2 liheyi liheyi 4096 Aug  4 23:06 \u001b[01;34minfo\u001b[0m\r\n",
      "drwxr-xr-x. 2 liheyi liheyi 4096 Aug  4 23:06 \u001b[01;34mproduct\u001b[0m\r\n",
      "\r\n",
      "project/doc/info:\r\n",
      "total 0\r\n",
      "\r\n",
      "project/doc/product:\r\n",
      "total 0\r\n",
      "\r\n",
      "project/lib:\r\n",
      "total 0\r\n",
      "\r\n",
      "project/logs:\r\n",
      "total 8\r\n",
      "drwxr-xr-x. 2 liheyi liheyi 4096 Aug  4 23:06 \u001b[01;34minfo\u001b[0m\r\n",
      "drwxr-xr-x. 2 liheyi liheyi 4096 Aug  4 23:06 \u001b[01;34mproduct\u001b[0m\r\n",
      "\r\n",
      "project/logs/info:\r\n",
      "total 0\r\n",
      "\r\n",
      "project/logs/product:\r\n",
      "total 0\r\n",
      "\r\n",
      "project/service:\r\n",
      "total 4\r\n",
      "drwxrwxr-x. 4 liheyi liheyi 4096 Aug  4 23:06 \u001b[01;34mdeploy\u001b[0m\r\n",
      "\r\n",
      "project/service/deploy:\r\n",
      "total 8\r\n",
      "drwxr-xr-x. 2 liheyi liheyi 4096 Aug  4 23:06 \u001b[01;34minfo\u001b[0m\r\n",
      "drwxr-xr-x. 2 liheyi liheyi 4096 Aug  4 23:06 \u001b[01;34mproduct\u001b[0m\r\n",
      "\r\n",
      "project/service/deploy/info:\r\n",
      "total 0\r\n",
      "\r\n",
      "project/service/deploy/product:\r\n",
      "total 0\r\n",
      "\u001b[m"
     ]
    }
   ],
   "source": [
    "# create directory hierarchy with permissions:755\n",
    "mkdir -pm 755 project/{lib/,bin/,doc/{info,product},logs/{info,product},service/deploy/{info,product}}\n",
    "ls -lR project"
   ]
  },
  {
   "cell_type": "markdown",
   "metadata": {},
   "source": [
    "###### -Z, --context=CTX\n",
    "    set the SELinux security context of each created directory to CTX"
   ]
  }
 ],
 "metadata": {
  "kernelspec": {
   "display_name": "Bash",
   "language": "bash",
   "name": "bash"
  },
  "language_info": {
   "codemirror_mode": "shell",
   "file_extension": ".sh",
   "mimetype": "text/x-sh",
   "name": "bash"
  }
 },
 "nbformat": 4,
 "nbformat_minor": 0
}
