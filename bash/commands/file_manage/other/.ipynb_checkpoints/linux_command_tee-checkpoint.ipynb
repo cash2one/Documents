{
 "cells": [
  {
   "cell_type": "markdown",
   "metadata": {},
   "source": [
    "#### NAME\n",
    "    Read from standard input and write to standard output and files.\n",
    "#### SYNOPSIS\n",
    "    tee [OPTION]... [FILE]...\n",
    "####  DESCRIPTION\n",
    "    Copy standard input to each FILE, and also to standard output.\n",
    "    If a FILE is -, copy again to standard output."
   ]
  },
  {
   "cell_type": "markdown",
   "metadata": {},
   "source": [
    "### OPTIONS"
   ]
  },
  {
   "cell_type": "markdown",
   "metadata": {},
   "source": [
    "###### default\n",
    "The following command displays output only on the screen (stdout)."
   ]
  },
  {
   "cell_type": "code",
   "execution_count": 4,
   "metadata": {
    "collapsed": false
   },
   "outputs": [
    {
     "name": "stdout",
     "output_type": "stream",
     "text": [
      "total 88\r\n",
      "drwxrwxr-x.   2 liheyi liheyi  4096 Jun 30 00:01 bin\r\n",
      "drwxrwxr-x.   2 liheyi liheyi 12288 Jun 30 00:01 conda-meta\r\n",
      "drwxrwxr-x.   2 liheyi liheyi  4096 Jun 30 00:01 envs\r\n",
      "drwxrwxr-x.   3 liheyi liheyi  4096 Jun 30 00:01 etc\r\n",
      "drwxrwxr-x.   3 liheyi liheyi  4096 Jun 30 00:01 Examples\r\n",
      "drwxrwxr-x.   4 liheyi liheyi  4096 Jun 30 00:01 imports\r\n",
      "drwxrwxr-x.  38 liheyi liheyi  4096 Jun 30 00:01 include\r\n",
      "drwxrwxr-x.  10 liheyi liheyi 12288 Jun 30 00:01 lib\r\n",
      "-rw-rw-r--.   1 liheyi liheyi  4524 Feb  5 04:46 LICENSE.txt\r\n",
      "drwxrwxr-x. 111 liheyi liheyi  4096 Jun 30 00:01 mkspecs\r\n",
      "drwxrwxr-x. 178 liheyi liheyi 12288 Jun 30 00:01 pkgs\r\n",
      "drwxrwxr-x.  13 liheyi liheyi  4096 Jun 30 00:01 plugins\r\n",
      "drwxrwxr-x.  12 liheyi liheyi  4096 Jun 30 00:01 share\r\n",
      "drwxrwxr-x.   3 liheyi liheyi  4096 Jun 30 00:01 ssl\r\n",
      "drwxrwxr-x.   3 liheyi liheyi  4096 Jun 30 00:01 tests\r\n"
     ]
    }
   ],
   "source": [
    "ls -l /home/liheyi/anaconda2"
   ]
  },
  {
   "cell_type": "markdown",
   "metadata": {},
   "source": [
    "The following command writes the output only to the file and not to the screen."
   ]
  },
  {
   "cell_type": "code",
   "execution_count": 8,
   "metadata": {
    "collapsed": false
   },
   "outputs": [
    {
     "name": "stdout",
     "output_type": "stream",
     "text": [
      "total 88\r\n",
      "drwxrwxr-x.   2 liheyi liheyi  4096 Jun 30 00:01 bin\r\n",
      "drwxrwxr-x.   2 liheyi liheyi 12288 Jun 30 00:01 conda-meta\r\n",
      "drwxrwxr-x.   2 liheyi liheyi  4096 Jun 30 00:01 envs\r\n",
      "drwxrwxr-x.   3 liheyi liheyi  4096 Jun 30 00:01 etc\r\n",
      "drwxrwxr-x.   3 liheyi liheyi  4096 Jun 30 00:01 Examples\r\n",
      "drwxrwxr-x.   4 liheyi liheyi  4096 Jun 30 00:01 imports\r\n",
      "drwxrwxr-x.  38 liheyi liheyi  4096 Jun 30 00:01 include\r\n",
      "drwxrwxr-x.  10 liheyi liheyi 12288 Jun 30 00:01 lib\r\n",
      "-rw-rw-r--.   1 liheyi liheyi  4524 Feb  5 04:46 LICENSE.txt\r\n",
      "drwxrwxr-x. 111 liheyi liheyi  4096 Jun 30 00:01 mkspecs\r\n",
      "drwxrwxr-x. 178 liheyi liheyi 12288 Jun 30 00:01 pkgs\r\n",
      "drwxrwxr-x.  13 liheyi liheyi  4096 Jun 30 00:01 plugins\r\n",
      "drwxrwxr-x.  12 liheyi liheyi  4096 Jun 30 00:01 share\r\n",
      "drwxrwxr-x.   3 liheyi liheyi  4096 Jun 30 00:01 ssl\r\n",
      "drwxrwxr-x.   3 liheyi liheyi  4096 Jun 30 00:01 tests\r\n"
     ]
    }
   ],
   "source": [
    "ls -l /home/liheyi/anaconda2 > ls.txt\n",
    "cat ls.txt"
   ]
  },
  {
   "cell_type": "markdown",
   "metadata": {},
   "source": [
    "The following command (with the help of tee command) writes the output both to the screen (stdout) and to the file."
   ]
  },
  {
   "cell_type": "code",
   "execution_count": 10,
   "metadata": {
    "collapsed": false
   },
   "outputs": [
    {
     "name": "stdout",
     "output_type": "stream",
     "text": [
      "total 8\r\n",
      "-rw-rw-r--. 1 liheyi liheyi 4038 Jun 30 14:01 linux_command_tee.ipynb\r\n",
      "-rw-rw-r--. 1 liheyi liheyi  846 Jun 30 14:01 ls.txt\r\n"
     ]
    }
   ],
   "source": [
    "ls -l | tee tee_ls.txt"
   ]
  },
  {
   "cell_type": "code",
   "execution_count": 11,
   "metadata": {
    "collapsed": false
   },
   "outputs": [
    {
     "name": "stdout",
     "output_type": "stream",
     "text": [
      "total 8\r\n",
      "-rw-rw-r--. 1 liheyi liheyi 4038 Jun 30 14:01 linux_command_tee.ipynb\r\n",
      "-rw-rw-r--. 1 liheyi liheyi  846 Jun 30 14:01 ls.txt\r\n"
     ]
    }
   ],
   "source": [
    "cat tee_ls.txt"
   ]
  },
  {
   "cell_type": "markdown",
   "metadata": {},
   "source": [
    "Write to the output and multiple files at the same time"
   ]
  },
  {
   "cell_type": "code",
   "execution_count": 12,
   "metadata": {
    "collapsed": false
   },
   "outputs": [
    {
     "name": "stdout",
     "output_type": "stream",
     "text": [
      "total 16\r\n",
      "-rw-rw-r--. 1 liheyi liheyi 5153 Jun 30 14:05 linux_command_tee.ipynb\r\n",
      "-rw-rw-r--. 1 liheyi liheyi    0 Jun 30 14:06 ls_file1.txt\r\n",
      "-rw-rw-r--. 1 liheyi liheyi    0 Jun 30 14:06 ls_file2.txt\r\n",
      "-rw-rw-r--. 1 liheyi liheyi    0 Jun 30 14:06 ls_file3.txt\r\n",
      "-rw-rw-r--. 1 liheyi liheyi  846 Jun 30 14:01 ls.txt\r\n",
      "-rw-rw-r--. 1 liheyi liheyi  131 Jun 30 14:02 tee_ls.txt\r\n"
     ]
    }
   ],
   "source": [
    "ls -l | tee ls_file1.txt ls_file2.txt ls_file3.txt"
   ]
  },
  {
   "cell_type": "code",
   "execution_count": 13,
   "metadata": {
    "collapsed": false
   },
   "outputs": [
    {
     "name": "stdout",
     "output_type": "stream",
     "text": [
      "total 16\r\n",
      "-rw-rw-r--. 1 liheyi liheyi 5153 Jun 30 14:05 linux_command_tee.ipynb\r\n",
      "-rw-rw-r--. 1 liheyi liheyi    0 Jun 30 14:06 ls_file1.txt\r\n",
      "-rw-rw-r--. 1 liheyi liheyi    0 Jun 30 14:06 ls_file2.txt\r\n",
      "-rw-rw-r--. 1 liheyi liheyi    0 Jun 30 14:06 ls_file3.txt\r\n",
      "-rw-rw-r--. 1 liheyi liheyi  846 Jun 30 14:01 ls.txt\r\n",
      "-rw-rw-r--. 1 liheyi liheyi  131 Jun 30 14:02 tee_ls.txt\r\n"
     ]
    }
   ],
   "source": [
    "cat ls_file1.txt"
   ]
  },
  {
   "cell_type": "code",
   "execution_count": 14,
   "metadata": {
    "collapsed": false
   },
   "outputs": [
    {
     "name": "stdout",
     "output_type": "stream",
     "text": [
      "total 16\r\n",
      "-rw-rw-r--. 1 liheyi liheyi 5153 Jun 30 14:05 linux_command_tee.ipynb\r\n",
      "-rw-rw-r--. 1 liheyi liheyi    0 Jun 30 14:06 ls_file1.txt\r\n",
      "-rw-rw-r--. 1 liheyi liheyi    0 Jun 30 14:06 ls_file2.txt\r\n",
      "-rw-rw-r--. 1 liheyi liheyi    0 Jun 30 14:06 ls_file3.txt\r\n",
      "-rw-rw-r--. 1 liheyi liheyi  846 Jun 30 14:01 ls.txt\r\n",
      "-rw-rw-r--. 1 liheyi liheyi  131 Jun 30 14:02 tee_ls.txt\r\n"
     ]
    }
   ],
   "source": [
    "cat ls_file2.txt"
   ]
  },
  {
   "cell_type": "code",
   "execution_count": 15,
   "metadata": {
    "collapsed": false
   },
   "outputs": [
    {
     "name": "stdout",
     "output_type": "stream",
     "text": [
      "total 16\r\n",
      "-rw-rw-r--. 1 liheyi liheyi 5153 Jun 30 14:05 linux_command_tee.ipynb\r\n",
      "-rw-rw-r--. 1 liheyi liheyi    0 Jun 30 14:06 ls_file1.txt\r\n",
      "-rw-rw-r--. 1 liheyi liheyi    0 Jun 30 14:06 ls_file2.txt\r\n",
      "-rw-rw-r--. 1 liheyi liheyi    0 Jun 30 14:06 ls_file3.txt\r\n",
      "-rw-rw-r--. 1 liheyi liheyi  846 Jun 30 14:01 ls.txt\r\n",
      "-rw-rw-r--. 1 liheyi liheyi  131 Jun 30 14:02 tee_ls.txt\r\n"
     ]
    }
   ],
   "source": [
    "cat ls_file3.txt"
   ]
  },
  {
   "cell_type": "markdown",
   "metadata": {},
   "source": [
    "###### -a,--append\n",
    "    Append to the given FILEs, do not overwrite"
   ]
  },
  {
   "cell_type": "markdown",
   "metadata": {},
   "source": [
    "Without '-a' option,the content of a file is overwrited. "
   ]
  },
  {
   "cell_type": "code",
   "execution_count": 18,
   "metadata": {
    "collapsed": false
   },
   "outputs": [
    {
     "name": "stdout",
     "output_type": "stream",
     "text": [
      "total 8\r\n",
      "-rw-rw-r--. 1 liheyi liheyi 4038 Jun 30 14:01 linux_command_tee.ipynb\r\n",
      "-rw-rw-r--. 1 liheyi liheyi  846 Jun 30 14:01 ls.txt\r\n"
     ]
    }
   ],
   "source": [
    "cat tee_ls.txt"
   ]
  },
  {
   "cell_type": "code",
   "execution_count": 19,
   "metadata": {
    "collapsed": false
   },
   "outputs": [
    {
     "name": "stdout",
     "output_type": "stream",
     "text": [
      "Filesystem      Size  Used Avail Use% Mounted on\r\n",
      "/dev/sda3        77G   25G   49G  34% /\r\n",
      "tmpfs           996M   84K  996M   1% /dev/shm\r\n",
      "/dev/sda1       194M   34M  151M  19% /boot\r\n"
     ]
    }
   ],
   "source": [
    "df -lh | tee tee_ls.txt"
   ]
  },
  {
   "cell_type": "code",
   "execution_count": 20,
   "metadata": {
    "collapsed": false
   },
   "outputs": [
    {
     "name": "stdout",
     "output_type": "stream",
     "text": [
      "Filesystem      Size  Used Avail Use% Mounted on\r\n",
      "/dev/sda3        77G   25G   49G  34% /\r\n",
      "tmpfs           996M   84K  996M   1% /dev/shm\r\n",
      "/dev/sda1       194M   34M  151M  19% /boot\r\n"
     ]
    }
   ],
   "source": [
    "cat tee_ls.txt"
   ]
  },
  {
   "cell_type": "markdown",
   "metadata": {},
   "source": [
    "Note:This is similar to bash  redirection operator '>'"
   ]
  },
  {
   "cell_type": "markdown",
   "metadata": {},
   "source": [
    "With '-a' option,append the output to the end of file."
   ]
  },
  {
   "cell_type": "code",
   "execution_count": 22,
   "metadata": {
    "collapsed": false
   },
   "outputs": [
    {
     "name": "stdout",
     "output_type": "stream",
     "text": [
      "Filesystem      Size  Used Avail Use% Mounted on\r\n",
      "/dev/sda3        77G   25G   49G  34% /\r\n",
      "tmpfs           996M   84K  996M   1% /dev/shm\r\n",
      "/dev/sda1       194M   34M  151M  19% /boot\r\n"
     ]
    }
   ],
   "source": [
    "cat tee_ls.txt"
   ]
  },
  {
   "cell_type": "code",
   "execution_count": 23,
   "metadata": {
    "collapsed": false
   },
   "outputs": [
    {
     "name": "stdout",
     "output_type": "stream",
     "text": [
      "total 88\r\n",
      "drwxrwxr-x.   2 liheyi liheyi  4096 Jun 30 00:01 bin\r\n",
      "drwxrwxr-x.   2 liheyi liheyi 12288 Jun 30 00:01 conda-meta\r\n",
      "drwxrwxr-x.   2 liheyi liheyi  4096 Jun 30 00:01 envs\r\n",
      "drwxrwxr-x.   3 liheyi liheyi  4096 Jun 30 00:01 etc\r\n",
      "drwxrwxr-x.   3 liheyi liheyi  4096 Jun 30 00:01 Examples\r\n",
      "drwxrwxr-x.   4 liheyi liheyi  4096 Jun 30 00:01 imports\r\n",
      "drwxrwxr-x.  38 liheyi liheyi  4096 Jun 30 00:01 include\r\n",
      "drwxrwxr-x.  10 liheyi liheyi 12288 Jun 30 00:01 lib\r\n",
      "-rw-rw-r--.   1 liheyi liheyi  4524 Feb  5 04:46 LICENSE.txt\r\n",
      "drwxrwxr-x. 111 liheyi liheyi  4096 Jun 30 00:01 mkspecs\r\n",
      "drwxrwxr-x. 178 liheyi liheyi 12288 Jun 30 00:01 pkgs\r\n",
      "drwxrwxr-x.  13 liheyi liheyi  4096 Jun 30 00:01 plugins\r\n",
      "drwxrwxr-x.  12 liheyi liheyi  4096 Jun 30 00:01 share\r\n",
      "drwxrwxr-x.   3 liheyi liheyi  4096 Jun 30 00:01 ssl\r\n",
      "drwxrwxr-x.   3 liheyi liheyi  4096 Jun 30 00:01 tests\r\n"
     ]
    }
   ],
   "source": [
    "ls -l /home/liheyi/anaconda2 | tee -a tee_ls.txt"
   ]
  },
  {
   "cell_type": "code",
   "execution_count": 25,
   "metadata": {
    "collapsed": false,
    "scrolled": true
   },
   "outputs": [
    {
     "name": "stdout",
     "output_type": "stream",
     "text": [
      "Filesystem      Size  Used Avail Use% Mounted on\r\n",
      "/dev/sda3        77G   25G   49G  34% /\r\n",
      "tmpfs           996M   84K  996M   1% /dev/shm\r\n",
      "/dev/sda1       194M   34M  151M  19% /boot\r\n",
      "total 88\r\n",
      "drwxrwxr-x.   2 liheyi liheyi  4096 Jun 30 00:01 bin\r\n",
      "drwxrwxr-x.   2 liheyi liheyi 12288 Jun 30 00:01 conda-meta\r\n",
      "drwxrwxr-x.   2 liheyi liheyi  4096 Jun 30 00:01 envs\r\n",
      "drwxrwxr-x.   3 liheyi liheyi  4096 Jun 30 00:01 etc\r\n",
      "drwxrwxr-x.   3 liheyi liheyi  4096 Jun 30 00:01 Examples\r\n",
      "drwxrwxr-x.   4 liheyi liheyi  4096 Jun 30 00:01 imports\r\n",
      "drwxrwxr-x.  38 liheyi liheyi  4096 Jun 30 00:01 include\r\n",
      "drwxrwxr-x.  10 liheyi liheyi 12288 Jun 30 00:01 lib\r\n",
      "-rw-rw-r--.   1 liheyi liheyi  4524 Feb  5 04:46 LICENSE.txt\r\n",
      "drwxrwxr-x. 111 liheyi liheyi  4096 Jun 30 00:01 mkspecs\r\n",
      "drwxrwxr-x. 178 liheyi liheyi 12288 Jun 30 00:01 pkgs\r\n",
      "drwxrwxr-x.  13 liheyi liheyi  4096 Jun 30 00:01 plugins\r\n",
      "drwxrwxr-x.  12 liheyi liheyi  4096 Jun 30 00:01 share\r\n",
      "drwxrwxr-x.   3 liheyi liheyi  4096 Jun 30 00:01 ssl\r\n",
      "drwxrwxr-x.   3 liheyi liheyi  4096 Jun 30 00:01 tests\r\n"
     ]
    }
   ],
   "source": [
    "cat tee_ls.txt"
   ]
  },
  {
   "cell_type": "markdown",
   "metadata": {},
   "source": [
    "Note:This is similar to bash redirection operator '>>'"
   ]
  },
  {
   "cell_type": "markdown",
   "metadata": {},
   "source": [
    "#### -i, --ignore-interrupts\n",
    "ignore interrupt signals"
   ]
  }
 ],
 "metadata": {
  "kernelspec": {
   "display_name": "Bash",
   "language": "bash",
   "name": "bash"
  },
  "language_info": {
   "codemirror_mode": "shell",
   "file_extension": ".sh",
   "mimetype": "text/x-sh",
   "name": "bash"
  }
 },
 "nbformat": 4,
 "nbformat_minor": 0
}
