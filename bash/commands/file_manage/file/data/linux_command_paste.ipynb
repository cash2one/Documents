{
 "cells": [
  {
   "cell_type": "markdown",
   "metadata": {},
   "source": [
    "###### NAME\n",
    "    paste - merge lines of files\n",
    "###### SYNOPSIS\n",
    "    paste [OPTION]... [FILE]...\n",
    "###### DESCRIPTION\n",
    "    Write lines consisting of the sequentially corresponding lines from each FILE,    separated by TABs, to standard output.  \n",
    "    With no  FILE,  or when FILE is -, read standard input."
   ]
  },
  {
   "cell_type": "markdown",
   "metadata": {},
   "source": [
    "#### OPTIONS\n",
    "###### default"
   ]
  },
  {
   "cell_type": "code",
   "execution_count": 9,
   "metadata": {
    "collapsed": false
   },
   "outputs": [
    {
     "name": "stdout",
     "output_type": "stream",
     "text": [
      "zzgame10\r\n",
      "zzgame17\r\n",
      "zzgame33\r\n",
      "zzgame49\r\n",
      "zzgame65\r\n",
      "zzgame89\r\n"
     ]
    }
   ],
   "source": [
    "# paste command without any options is \n",
    "# as good as the cat command when operated on a single file.\n",
    "cat servername.txt"
   ]
  },
  {
   "cell_type": "code",
   "execution_count": 10,
   "metadata": {
    "collapsed": false
   },
   "outputs": [
    {
     "name": "stdout",
     "output_type": "stream",
     "text": [
      "zzgame10\r\n",
      "zzgame17\r\n",
      "zzgame33\r\n",
      "zzgame49\r\n",
      "zzgame65\r\n",
      "zzgame89\r\n"
     ]
    }
   ],
   "source": [
    "paste servername.txt"
   ]
  },
  {
   "cell_type": "markdown",
   "metadata": {},
   "source": [
    "Merge a file by pasting the data into 2/3 columns  \n",
    "The '-' reads a line from the standard input.   \n",
    "Two '-' reads 2 lines and pastes them side by side.  "
   ]
  },
  {
   "cell_type": "code",
   "execution_count": 11,
   "metadata": {
    "collapsed": false
   },
   "outputs": [
    {
     "name": "stdout",
     "output_type": "stream",
     "text": [
      "zzgame10\r\n",
      "zzgame17\r\n",
      "zzgame33\r\n",
      "zzgame49\r\n",
      "zzgame65\r\n",
      "zzgame89\r\n"
     ]
    }
   ],
   "source": [
    "cat servername.txt"
   ]
  },
  {
   "cell_type": "code",
   "execution_count": 12,
   "metadata": {
    "collapsed": false
   },
   "outputs": [
    {
     "name": "stdout",
     "output_type": "stream",
     "text": [
      "zzgame10\r\n",
      "zzgame17\r\n",
      "zzgame33\r\n",
      "zzgame49\r\n",
      "zzgame65\r\n",
      "zzgame89\r\n"
     ]
    }
   ],
   "source": [
    "paste - < servername.txt"
   ]
  },
  {
   "cell_type": "code",
   "execution_count": 13,
   "metadata": {
    "collapsed": false
   },
   "outputs": [
    {
     "name": "stdout",
     "output_type": "stream",
     "text": [
      "zzgame10\tzzgame17\r\n",
      "zzgame33\tzzgame49\r\n",
      "zzgame65\tzzgame89\r\n"
     ]
    }
   ],
   "source": [
    "paste - - < servername.txt"
   ]
  },
  {
   "cell_type": "code",
   "execution_count": 17,
   "metadata": {
    "collapsed": false
   },
   "outputs": [
    {
     "name": "stdout",
     "output_type": "stream",
     "text": [
      "zzgame10\tzzgame17\tzzgame33\r\n",
      "zzgame49\tzzgame65\tzzgame89\r\n"
     ]
    }
   ],
   "source": [
    "paste - - - < servername.txt"
   ]
  },
  {
   "cell_type": "code",
   "execution_count": 14,
   "metadata": {
    "collapsed": false
   },
   "outputs": [
    {
     "name": "stdout",
     "output_type": "stream",
     "text": [
      "175.25.18.171\tzzgame10\r\n",
      "175.25.18.137\tzzgame17\r\n",
      "175.25.18.138\tzzgame33\r\n",
      "175.25.18.144\tzzgame49\r\n",
      "175.25.18.143\tzzgame65\r\n",
      "175.25.18.139\tzzgame89\r\n"
     ]
    }
   ],
   "source": [
    "# paste contents of 2 files side by side\n",
    "paste serverip.txt servername.txt"
   ]
  },
  {
   "cell_type": "markdown",
   "metadata": {},
   "source": [
    "###### -s, --serial\n",
    "    paste one file at a time instead of in parallel"
   ]
  },
  {
   "cell_type": "code",
   "execution_count": 15,
   "metadata": {
    "collapsed": false
   },
   "outputs": [
    {
     "name": "stdout",
     "output_type": "stream",
     "text": [
      "zzgame10\tzzgame17\tzzgame33\tzzgame49\tzzgame65\tzzgame89\r\n"
     ]
    }
   ],
   "source": [
    "paste -s servername.txt"
   ]
  },
  {
   "cell_type": "code",
   "execution_count": 16,
   "metadata": {
    "collapsed": false
   },
   "outputs": [
    {
     "name": "stdout",
     "output_type": "stream",
     "text": [
      "zzgame10,zzgame17,zzgame33,zzgame49,zzgame65,zzgame89\r\n"
     ]
    }
   ],
   "source": [
    "# Join all lines using the comma delimiter\n",
    "paste -s -d, servername.txt"
   ]
  },
  {
   "cell_type": "code",
   "execution_count": 27,
   "metadata": {
    "collapsed": false
   },
   "outputs": [
    {
     "name": "stdout",
     "output_type": "stream",
     "text": [
      "zzgame10,zzgame17,zzgame33,zzgame49,zzgame65,zzgame89\r\n",
      "175.25.18.171,175.25.18.137,175.25.18.138,175.25.18.144,175.25.18.143,175.25.18.139\r\n"
     ]
    }
   ],
   "source": [
    "# For multiple files，\n",
    "# paste per file at a time instead of in parallel\n",
    "paste -s -d, servername.txt serverip.txt"
   ]
  },
  {
   "cell_type": "markdown",
   "metadata": {},
   "source": [
    "###### -d, --delimiters=LIST\n",
    "    reuse characters from LIST instead of TABs"
   ]
  },
  {
   "cell_type": "code",
   "execution_count": 18,
   "metadata": {
    "collapsed": false
   },
   "outputs": [
    {
     "name": "stdout",
     "output_type": "stream",
     "text": [
      "zzgame10:zzgame17\r\n",
      "zzgame33:zzgame49\r\n",
      "zzgame65:zzgame89\r\n"
     ]
    }
   ],
   "source": [
    "# Merge a file by pasting the data \n",
    "# into 2 columns using a colon separator\n",
    "paste -d: - - < servername.txt"
   ]
  },
  {
   "cell_type": "code",
   "execution_count": 19,
   "metadata": {
    "collapsed": false
   },
   "outputs": [
    {
     "name": "stdout",
     "output_type": "stream",
     "text": [
      "zzgame10:zzgame17:zzgame33\r\n",
      "zzgame49:zzgame65:zzgame89\r\n"
     ]
    }
   ],
   "source": [
    "# Merge a file by pasting the data \n",
    "# into 3 columns using a colon separator\n",
    "paste -d: - - - < servername.txt"
   ]
  },
  {
   "cell_type": "code",
   "execution_count": 21,
   "metadata": {
    "collapsed": false
   },
   "outputs": [
    {
     "name": "stdout",
     "output_type": "stream",
     "text": [
      "zzgame10,175.25.18.171\r\n",
      "zzgame17,175.25.18.137\r\n",
      "zzgame33,175.25.18.138\r\n",
      "zzgame49,175.25.18.144\r\n",
      "zzgame65,175.25.18.143\r\n",
      "zzgame89,175.25.18.139\r\n"
     ]
    }
   ],
   "source": [
    "# paste contents of 2 files \n",
    "# side by side with a comma separator\n",
    "\n",
    "# Method One\n",
    "paste -d, servername.txt serverip.txt"
   ]
  },
  {
   "cell_type": "code",
   "execution_count": 22,
   "metadata": {
    "collapsed": false
   },
   "outputs": [
    {
     "name": "stdout",
     "output_type": "stream",
     "text": [
      "zzgame10,175.25.18.171\r\n",
      "zzgame17,175.25.18.137\r\n",
      "zzgame33,175.25.18.138\r\n",
      "zzgame49,175.25.18.144\r\n",
      "zzgame65,175.25.18.143\r\n",
      "zzgame89,175.25.18.139\r\n"
     ]
    }
   ],
   "source": [
    "# Method Two\n",
    "cat serverip.txt | paste -d, servername.txt -"
   ]
  },
  {
   "cell_type": "code",
   "execution_count": 23,
   "metadata": {
    "collapsed": false
   },
   "outputs": [
    {
     "name": "stdout",
     "output_type": "stream",
     "text": [
      "zzgame10,175.25.18.171\r\n",
      "zzgame17,175.25.18.137\r\n",
      "zzgame33,175.25.18.138\r\n",
      "zzgame49,175.25.18.144\r\n",
      "zzgame65,175.25.18.143\r\n",
      "zzgame89,175.25.18.139\r\n"
     ]
    }
   ],
   "source": [
    "# Method Three\n",
    "cat servername.txt | paste -d, - serverip.txt"
   ]
  },
  {
   "cell_type": "code",
   "execution_count": 24,
   "metadata": {
    "collapsed": false
   },
   "outputs": [
    {
     "name": "stdout",
     "output_type": "stream",
     "text": [
      "zzgame10,zzgame17\r\n",
      "zzgame33,zzgame49\r\n",
      "zzgame65,zzgame89\r\n",
      "175.25.18.171,175.25.18.137\r\n",
      "175.25.18.138,175.25.18.144\r\n",
      "175.25.18.143,175.25.18.139\r\n"
     ]
    }
   ],
   "source": [
    "# The incorrect result:\n",
    "cat servername.txt serverip.txt | paste -d, - -"
   ]
  },
  {
   "cell_type": "code",
   "execution_count": 25,
   "metadata": {
    "collapsed": false
   },
   "outputs": [
    {
     "name": "stdout",
     "output_type": "stream",
     "text": [
      "zzgame10\r\n",
      "175.25.18.171\r\n",
      "zzgame17\r\n",
      "175.25.18.137\r\n",
      "zzgame33\r\n",
      "175.25.18.138\r\n",
      "zzgame49\r\n",
      "175.25.18.144\r\n",
      "zzgame65\r\n",
      "175.25.18.143\r\n",
      "zzgame89\r\n",
      "175.25.18.139\r\n"
     ]
    }
   ],
   "source": [
    "# Read lines in both the files alternatively\n",
    "paste -d'\\n' servername.txt serverip.txt"
   ]
  }
 ],
 "metadata": {
  "kernelspec": {
   "display_name": "Bash",
   "language": "bash",
   "name": "bash"
  },
  "language_info": {
   "codemirror_mode": "shell",
   "file_extension": ".sh",
   "mimetype": "text/x-sh",
   "name": "bash"
  }
 },
 "nbformat": 4,
 "nbformat_minor": 0
}
