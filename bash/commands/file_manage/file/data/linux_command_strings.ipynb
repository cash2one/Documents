{
 "cells": [
  {
   "cell_type": "markdown",
   "metadata": {},
   "source": [
    "#### NAME\n",
    "    strings - print the strings of printable characters in files.\n",
    "#### SYNOPSIS\n",
    "    strings [-afovV] [-min-len]\n",
    "         [-n min-len] [--bytes=min-len]\n",
    "         [-t radix] [--radix=radix]\n",
    "         [-e encoding] [--encoding=encoding]\n",
    "         [-] [--all] [--print-file-name]\n",
    "         [-T bfdname] [--target=bfdname]\n",
    "         [--help] [--version] file...\n",
    "#### DESCRIPTION\n",
    "    For each file given, GNU strings prints the printable character sequences that are at least 4 characters long (or the number given with the options below) and are followed by an unprintable character.\n",
    "\n",
    "    Depending upon how the strings program was configured it will default to either displaying all the printable sequences that it can find in each file, or only those sequences that are in loadable, initialized data sections.  If the file type in unrecognizable, or if strings is reading from stdin then it will always display all of the printable sequences that it can find.\n",
    "\n",
    "    For backwards compatibility any file that occurs after a command line option of just - will also be scanned in full,regardless of the presence of any -d option.\n",
    "\n",
    "    strings is mainly useful for determining the contents of non-text files."
   ]
  },
  {
   "cell_type": "markdown",
   "metadata": {},
   "source": [
    "#### OPTIONS\n",
    "###### default"
   ]
  },
  {
   "cell_type": "code",
   "execution_count": 1,
   "metadata": {
    "collapsed": false
   },
   "outputs": [
    {
     "name": "stdout",
     "output_type": "stream",
     "text": [
      "/lib64/ld-linux-x86-64.so.2\r\n",
      "|fUa\r\n",
      "libc.so.6\r\n",
      "fflush\r\n",
      "strcpy\r\n",
      "__printf_chk\r\n",
      "readdir\r\n",
      "setlocale\r\n",
      "mbrtowc\r\n",
      "strncmp\r\n"
     ]
    }
   ],
   "source": [
    "strings /bin/rm | head"
   ]
  },
  {
   "cell_type": "code",
   "execution_count": 3,
   "metadata": {
    "collapsed": false
   },
   "outputs": [
    {
     "name": "stdout",
     "output_type": "stream",
     "text": [
      "http://www.gnu.org/software/coreutils/\r\n",
      "General help using GNU software: <http://www.gnu.org/gethelp/>\r\n",
      "bug-coreutils@gnu.org\r\n",
      "GNU coreutils\r\n",
      "License GPLv3+: GNU GPL version 3 or later <http://gnu.org/licenses/gpl.html>.\r\n",
      ".note.gnu.build-id\r\n",
      ".gnu.hash\r\n",
      ".gnu.version\r\n",
      ".gnu.version_r\r\n",
      ".gnu_debuglink\r\n"
     ]
    }
   ],
   "source": [
    "strings /bin/rm | grep -i gnu"
   ]
  },
  {
   "cell_type": "markdown",
   "metadata": {},
   "source": [
    "###### -,-a,--all\n",
    "    Scan the whole file, regardless of what sections it contains or whether those sections are loaded or initialized.\n",
    "    Normally this is the default behaviour, but strings can be configured so that the -d is the default instead.\n",
    "    \n",
    "    The - option is position dependent and forces strings to perform full scans of any file that is mentioned after the - on the command  line, even if the -d option has been specified."
   ]
  },
  {
   "cell_type": "markdown",
   "metadata": {},
   "source": [
    "###### -d,--data\n",
    "    Only print strings from initialized, loaded data sections in the file.  \n",
    "    This may reduce the amount of garbage in the output, but it also exposes the strings program to any security flaws that may be present in the BFD library used to scan and load sections.  \n",
    "    Strings can be configured so that this option is the default behaviour.  \n",
    "    In such cases the -a option can be used to avoid using the BFD library and instead just print all of the strings found in the file."
   ]
  },
  {
   "cell_type": "markdown",
   "metadata": {},
   "source": [
    "###### -f,--print-file-name\n",
    "    Print the name of the file before each string."
   ]
  },
  {
   "cell_type": "markdown",
   "metadata": {},
   "source": [
    "###### -min-len, -n min-len, --bytes=min-len\n",
    "    Print sequences of characters that are at least min-len characters long, instead of the default 4."
   ]
  },
  {
   "cell_type": "markdown",
   "metadata": {},
   "source": [
    "###### -t radix, --radix=radix\n",
    "    Print the offset within the file before each string.  \n",
    "    The single character argument specifies the radix of the offset:\n",
    "    o for octal\n",
    "    x for hexadecimal\n",
    "    d for decimal."
   ]
  },
  {
   "cell_type": "markdown",
   "metadata": {},
   "source": [
    "###### -o  \n",
    "    Like -t o.  \n",
    "    Some other versions of strings have -o act like -t d instead.  \n",
    "    Since we can not be compatible with both ways, we simply chose one."
   ]
  },
  {
   "cell_type": "markdown",
   "metadata": {},
   "source": [
    "###### -e encoding, --encoding=encoding\n",
    "    Select the character encoding of the strings that are to be found.  \n",
    "    Possible values for encoding are: \n",
    "    s = single-7-bit-byte characters (ASCII, ISO 8859, etc., default)\n",
    "    S = single-8-bit-byte characters, \n",
    "    b = 16-bit bigendian,\n",
    "    l = 16-bit littleendian, \n",
    "    B = 32-bit bigendian, \n",
    "    L = 32-bit littleendian. \n",
    "    \n",
    "    Useful for finding wide character strings. \n",
    "    (land b apply to, for example, Unicode UTF-16/UCS-2 encodings)."
   ]
  },
  {
   "cell_type": "markdown",
   "metadata": {},
   "source": [
    "######  -T bfdname, --target=bfdname\n",
    "    Specify an object code format other than your system's default format."
   ]
  },
  {
   "cell_type": "markdown",
   "metadata": {},
   "source": [
    "###### @file\n",
    "    Read command-line options from file.  The options read are inserted in place of the original @file option.\n",
    "    If file does not exist, or cannot be read, then the option will be treated literally, and not removed.\n",
    "\n",
    "    Options in file are separated by whitespace.  \n",
    "    A whitespace character may be included in an option by surrounding the entire option in either single or double quotes.\n",
    "    Any character (including a backslash) may be included by prefixing the character to be included with a backslash.\n",
    "    The file may itself contain additional @file options; any such options will be processed recursively."
   ]
  }
 ],
 "metadata": {
  "kernelspec": {
   "display_name": "Bash",
   "language": "bash",
   "name": "bash"
  },
  "language_info": {
   "codemirror_mode": "shell",
   "file_extension": ".sh",
   "mimetype": "text/x-sh",
   "name": "bash"
  }
 },
 "nbformat": 4,
 "nbformat_minor": 0
}
