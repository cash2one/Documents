{
 "cells": [
  {
   "cell_type": "markdown",
   "metadata": {},
   "source": [
    "#### NAME\n",
    "    cat - concatenate files and print on the standard output\n",
    "#### SYNOPSIS\n",
    "    cat [OPTION]... [FILE]...\n",
    "#### DESCRIPTION\n",
    "    Concatenate FILE(s), or standard input, to standard output."
   ]
  },
  {
   "cell_type": "markdown",
   "metadata": {},
   "source": [
    "#### OPTIONS\n",
    "###### default"
   ]
  },
  {
   "cell_type": "code",
   "execution_count": 2,
   "metadata": {
    "collapsed": false
   },
   "outputs": [
    {
     "name": "stdout",
     "output_type": "stream",
     "text": [
      "# The master ip\r\n",
      "175.25.18.153  192.168.1.1\r\n",
      "175.25.18.154  192.168.1.2\r\n",
      "175.25.18.155  192.168.1.3\r\n",
      "175.25.18.156  192.168.1.4\r\n",
      "175.25.18.157  192.168.1.5\r\n",
      "175.25.18.158  192.168.1.6\r\n"
     ]
    }
   ],
   "source": [
    "# look at a single file.\n",
    "cat master.ip"
   ]
  },
  {
   "cell_type": "code",
   "execution_count": 3,
   "metadata": {
    "collapsed": false
   },
   "outputs": [
    {
     "name": "stdout",
     "output_type": "stream",
     "text": [
      "# The master ip\r\n",
      "175.25.18.153  192.168.1.1\r\n",
      "175.25.18.154  192.168.1.2\r\n",
      "175.25.18.155  192.168.1.3\r\n",
      "175.25.18.156  192.168.1.4\r\n",
      "175.25.18.157  192.168.1.5\r\n",
      "175.25.18.158  192.168.1.6\r\n",
      "# The slave ip\r\n",
      "1 175.25.18.165  192.168.1.37\r\n",
      "2 175.25.18.166  192.168.1.38\r\n",
      "3 175.25.18.167  192.168.1.39\r\n",
      "4 175.25.18.168  192.168.1.40\r\n",
      "5 175.25.18.169  192.168.1.41\r\n",
      "6 175.25.18.170  192.168.1.42\r\n",
      "7 175.25.18.171  192.168.1.43\r\n",
      "8 175.25.18.172  192.168.1.44\r\n"
     ]
    }
   ],
   "source": [
    "cat master.ip slave.ip"
   ]
  },
  {
   "cell_type": "markdown",
   "metadata": {},
   "source": [
    "###### -b, --number-nonblank\n",
    "    number nonempty output lines, overrides -n\n",
    "    This option is equal to the '-bt' option of nl command."
   ]
  },
  {
   "cell_type": "code",
   "execution_count": 4,
   "metadata": {
    "collapsed": false
   },
   "outputs": [
    {
     "name": "stdout",
     "output_type": "stream",
     "text": [
      "     1\t# The master ip\r\n",
      "\r\n",
      "     2\t175.25.18.153  192.168.1.1\r\n",
      "     3\t175.25.18.154  192.168.1.2\r\n",
      "     4\t175.25.18.155  192.168.1.3\r\n",
      "\r\n",
      "\r\n",
      "     5\t175.25.18.156  192.168.1.4\r\n",
      "     6\t175.25.18.157  192.168.1.5\r\n",
      "     7\t175.25.18.158  192.168.1.6\r\n"
     ]
    }
   ],
   "source": [
    "cat -b master.ip"
   ]
  },
  {
   "cell_type": "code",
   "execution_count": 5,
   "metadata": {
    "collapsed": false
   },
   "outputs": [
    {
     "name": "stdout",
     "output_type": "stream",
     "text": [
      "     1\t# The master ip\r\n",
      "       \r\n",
      "     2\t175.25.18.153  192.168.1.1\r\n",
      "     3\t175.25.18.154  192.168.1.2\r\n",
      "     4\t175.25.18.155  192.168.1.3\r\n",
      "       \r\n",
      "       \r\n",
      "     5\t175.25.18.156  192.168.1.4\r\n",
      "     6\t175.25.18.157  192.168.1.5\r\n",
      "     7\t175.25.18.158  192.168.1.6\r\n"
     ]
    }
   ],
   "source": [
    "nl -bt master.ip"
   ]
  },
  {
   "cell_type": "markdown",
   "metadata": {},
   "source": [
    "###### -n, --number\n",
    "    number all output lines\n",
    "    This option is equal to the '-ba' option of nl command."
   ]
  },
  {
   "cell_type": "code",
   "execution_count": 6,
   "metadata": {
    "collapsed": false
   },
   "outputs": [
    {
     "name": "stdout",
     "output_type": "stream",
     "text": [
      "     1\t# The master ip\r\n",
      "     2\t\r\n",
      "     3\t175.25.18.153  192.168.1.1\r\n",
      "     4\t175.25.18.154  192.168.1.2\r\n",
      "     5\t175.25.18.155  192.168.1.3\r\n",
      "     6\t\r\n",
      "     7\t\r\n",
      "     8\t175.25.18.156  192.168.1.4\r\n",
      "     9\t175.25.18.157  192.168.1.5\r\n",
      "    10\t175.25.18.158  192.168.1.6\r\n"
     ]
    }
   ],
   "source": [
    "cat -n master.ip"
   ]
  },
  {
   "cell_type": "code",
   "execution_count": 7,
   "metadata": {
    "collapsed": false
   },
   "outputs": [
    {
     "name": "stdout",
     "output_type": "stream",
     "text": [
      "     1\t# The master ip\r\n",
      "     2\t\r\n",
      "     3\t175.25.18.153  192.168.1.1\r\n",
      "     4\t175.25.18.154  192.168.1.2\r\n",
      "     5\t175.25.18.155  192.168.1.3\r\n",
      "     6\t\r\n",
      "     7\t\r\n",
      "     8\t175.25.18.156  192.168.1.4\r\n",
      "     9\t175.25.18.157  192.168.1.5\r\n",
      "    10\t175.25.18.158  192.168.1.6\r\n"
     ]
    }
   ],
   "source": [
    "nl -ba master.ip"
   ]
  },
  {
   "cell_type": "markdown",
   "metadata": {},
   "source": [
    "###### -s, --squeeze-blank\n",
    "    suppress repeated empty output lines"
   ]
  },
  {
   "cell_type": "code",
   "execution_count": 8,
   "metadata": {
    "collapsed": false
   },
   "outputs": [
    {
     "name": "stdout",
     "output_type": "stream",
     "text": [
      "# The master ip\r\n",
      "\r\n",
      "175.25.18.153  192.168.1.1\r\n",
      "175.25.18.154  192.168.1.2\r\n",
      "\r\n",
      "\r\n",
      "175.25.18.155  192.168.1.3\r\n",
      "175.25.18.156  192.168.1.4\r\n",
      "\r\n",
      "\r\n",
      "\r\n",
      "\r\n",
      "175.25.18.157  192.168.1.5\r\n",
      "175.25.18.158  192.168.1.6\r\n"
     ]
    }
   ],
   "source": [
    "cat master.ip"
   ]
  },
  {
   "cell_type": "code",
   "execution_count": 9,
   "metadata": {
    "collapsed": false
   },
   "outputs": [
    {
     "name": "stdout",
     "output_type": "stream",
     "text": [
      "# The master ip\r\n",
      "\r\n",
      "175.25.18.153  192.168.1.1\r\n",
      "175.25.18.154  192.168.1.2\r\n",
      "\r\n",
      "175.25.18.155  192.168.1.3\r\n",
      "175.25.18.156  192.168.1.4\r\n",
      "\r\n",
      "175.25.18.157  192.168.1.5\r\n",
      "175.25.18.158  192.168.1.6\r\n"
     ]
    }
   ],
   "source": [
    "cat -s master.ip"
   ]
  },
  {
   "cell_type": "code",
   "execution_count": 10,
   "metadata": {
    "collapsed": false
   },
   "outputs": [
    {
     "name": "stdout",
     "output_type": "stream",
     "text": [
      "# The master ip\r\n",
      "175.25.18.153  192.168.1.1\r\n",
      "175.25.18.154  192.168.1.2\r\n",
      "175.25.18.155  192.168.1.3\r\n",
      "175.25.18.156  192.168.1.4\r\n",
      "175.25.18.157  192.168.1.5\r\n",
      "175.25.18.158  192.168.1.6\r\n"
     ]
    }
   ],
   "source": [
    "# If you want to remove all empty lines,\n",
    "# here there are two ways to get it.\n",
    "\n",
    "# way 1 -- the '-s' option of tr command\n",
    "tr -s '\\n' < master.ip"
   ]
  },
  {
   "cell_type": "code",
   "execution_count": 11,
   "metadata": {
    "collapsed": false
   },
   "outputs": [
    {
     "name": "stdout",
     "output_type": "stream",
     "text": [
      "# The master ip\r\n",
      "175.25.18.153  192.168.1.1\r\n",
      "175.25.18.154  192.168.1.2\r\n",
      "175.25.18.155  192.168.1.3\r\n",
      "175.25.18.156  192.168.1.4\r\n",
      "175.25.18.157  192.168.1.5\r\n",
      "175.25.18.158  192.168.1.6\r\n"
     ]
    }
   ],
   "source": [
    "# way 2 -- the 'd' subcommand of sed\n",
    "sed '/^ *$/d' master.ip"
   ]
  },
  {
   "cell_type": "markdown",
   "metadata": {},
   "source": [
    "###### -v, --show-nonprinting\n",
    "    use ^ and M- notation, except for LFD and TAB"
   ]
  },
  {
   "cell_type": "code",
   "execution_count": 12,
   "metadata": {
    "collapsed": false
   },
   "outputs": [
    {
     "name": "stdout",
     "output_type": "stream",
     "text": [
      "# The master ip\r\n",
      "\r",
      "\u0014\r\n",
      "175.25.18.153  192.168.1.1\r",
      "\r",
      "\r\n",
      "175.25.18.154  192.168.1.2\r",
      "\u000e\r\n",
      "175.25.18.155  192.168.1.3\u000e\u0010\r\n",
      "175.25.18.156  192.168.1.4\u000e\u0002\r\n",
      "175.25.18.157  192.168.1.5\u000e\u0003\r\n",
      "175.25.18.158  192.168.1.6\u000e\u0004\r\n"
     ]
    }
   ],
   "source": [
    "cat master.ip"
   ]
  },
  {
   "cell_type": "code",
   "execution_count": 13,
   "metadata": {
    "collapsed": false
   },
   "outputs": [
    {
     "name": "stdout",
     "output_type": "stream",
     "text": [
      "# The master ip\r\n",
      "^M^T\r\n",
      "175.25.18.153  192.168.1.1^M^M\r\n",
      "175.25.18.154  192.168.1.2^M^N\r\n",
      "175.25.18.155  192.168.1.3^N^P\r\n",
      "175.25.18.156  192.168.1.4^N^B\r\n",
      "175.25.18.157  192.168.1.5^N^C\r\n",
      "175.25.18.158  192.168.1.6^N^D\r\n"
     ]
    }
   ],
   "source": [
    "cat -v master.ip"
   ]
  },
  {
   "cell_type": "markdown",
   "metadata": {},
   "source": [
    "###### -T, --show-tabs\n",
    "    display TAB characters as ^I"
   ]
  },
  {
   "cell_type": "code",
   "execution_count": 18,
   "metadata": {
    "collapsed": false
   },
   "outputs": [
    {
     "name": "stdout",
     "output_type": "stream",
     "text": [
      "# The slave ip\r\n",
      "\r\n",
      "1 175.25.18.165\t192.168.1.37\r\n",
      "2 175.25.18.166\t192.168.1.38\r\n",
      "3 175.25.18.167\t192.168.1.39\r\n",
      "4 175.25.18.168\t192.168.1.40\r\n",
      "5 175.25.18.169\t192.168.1.41\r\n",
      "6 175.25.18.170\t192.168.1.42\r\n",
      "7 175.25.18.171\t192.168.1.43\r\n",
      "8 175.25.18.172\t192.168.1.44\r\n"
     ]
    }
   ],
   "source": [
    "cat slave.ip"
   ]
  },
  {
   "cell_type": "code",
   "execution_count": 19,
   "metadata": {
    "collapsed": false
   },
   "outputs": [
    {
     "name": "stdout",
     "output_type": "stream",
     "text": [
      "# The slave ip\r\n",
      "\r\n",
      "1 175.25.18.165^I192.168.1.37\r\n",
      "2 175.25.18.166^I192.168.1.38\r\n",
      "3 175.25.18.167^I192.168.1.39\r\n",
      "4 175.25.18.168^I192.168.1.40\r\n",
      "5 175.25.18.169^I192.168.1.41\r\n",
      "6 175.25.18.170^I192.168.1.42\r\n",
      "7 175.25.18.171^I192.168.1.43\r\n",
      "8 175.25.18.172^I192.168.1.44\r\n"
     ]
    }
   ],
   "source": [
    "cat -T slave.ip"
   ]
  },
  {
   "cell_type": "markdown",
   "metadata": {},
   "source": [
    "###### -E, --show-ends\n",
    "    display $ at end of each line"
   ]
  },
  {
   "cell_type": "code",
   "execution_count": 20,
   "metadata": {
    "collapsed": false
   },
   "outputs": [
    {
     "name": "stdout",
     "output_type": "stream",
     "text": [
      "# The slave ip\r\n",
      "\r\n",
      "1 175.25.18.165\t192.168.1.37\r\n",
      "2 175.25.18.166\t192.168.1.38\r\n",
      "3 175.25.18.167\t192.168.1.39\r\n",
      "4 175.25.18.168\t192.168.1.40\r\n",
      "5 175.25.18.169\t192.168.1.41\r\n",
      "6 175.25.18.170\t192.168.1.42\r\n",
      "7 175.25.18.171\t192.168.1.43\r\n",
      "8 175.25.18.172\t192.168.1.44\r\n"
     ]
    }
   ],
   "source": [
    "cat slave.ip"
   ]
  },
  {
   "cell_type": "code",
   "execution_count": 21,
   "metadata": {
    "collapsed": false
   },
   "outputs": [
    {
     "name": "stdout",
     "output_type": "stream",
     "text": [
      "# The slave ip$\r\n",
      "$\r\n",
      "1 175.25.18.165\t192.168.1.37$\r\n",
      "2 175.25.18.166\t192.168.1.38$\r\n",
      "3 175.25.18.167\t192.168.1.39$\r\n",
      "4 175.25.18.168\t192.168.1.40$\r\n",
      "5 175.25.18.169\t192.168.1.41$\r\n",
      "6 175.25.18.170\t192.168.1.42$\r\n",
      "7 175.25.18.171\t192.168.1.43$\r\n",
      "8 175.25.18.172\t192.168.1.44$\r\n"
     ]
    }
   ],
   "source": [
    "cat -E slave.ip"
   ]
  },
  {
   "cell_type": "markdown",
   "metadata": {},
   "source": [
    "###### -e     \n",
    "    equivalent to -vE"
   ]
  },
  {
   "cell_type": "code",
   "execution_count": 22,
   "metadata": {
    "collapsed": false
   },
   "outputs": [
    {
     "name": "stdout",
     "output_type": "stream",
     "text": [
      "# The master ip$\r\n",
      "^M^T$\r\n",
      "175.25.18.153  192.168.1.1^M^M$\r\n",
      "175.25.18.154  192.168.1.2^M^N$\r\n",
      "175.25.18.155  192.168.1.3^N^P$\r\n",
      "175.25.18.156  192.168.1.4^N^B$\r\n",
      "175.25.18.157  192.168.1.5^N^C$\r\n",
      "175.25.18.158  192.168.1.6^N^D$\r\n"
     ]
    }
   ],
   "source": [
    "cat -e master.ip"
   ]
  },
  {
   "cell_type": "markdown",
   "metadata": {},
   "source": [
    "###### -t     \n",
    "    equivalent to -vT"
   ]
  },
  {
   "cell_type": "code",
   "execution_count": 23,
   "metadata": {
    "collapsed": false
   },
   "outputs": [
    {
     "name": "stdout",
     "output_type": "stream",
     "text": [
      "# The master ip\r\n",
      "^M^T\r\n",
      "175.25.18.153 ^I 192.168.1.1^M^M\r\n",
      "175.25.18.154 ^I 192.168.1.2^M^N\r\n",
      "175.25.18.155 ^I 192.168.1.3^N^P\r\n",
      "175.25.18.156 ^I 192.168.1.4^N^B\r\n",
      "175.25.18.157 ^I 192.168.1.5^N^C\r\n",
      "175.25.18.158 ^I 192.168.1.6^N^D\r\n"
     ]
    }
   ],
   "source": [
    "cat -t master.ip"
   ]
  },
  {
   "cell_type": "markdown",
   "metadata": {},
   "source": [
    "###### -A, --show-all\n",
    "    equivalent to -vET"
   ]
  },
  {
   "cell_type": "code",
   "execution_count": 24,
   "metadata": {
    "collapsed": false
   },
   "outputs": [
    {
     "name": "stdout",
     "output_type": "stream",
     "text": [
      "# The master ip$\r\n",
      "^M^T$\r\n",
      "175.25.18.153 ^I 192.168.1.1^M^M$\r\n",
      "175.25.18.154 ^I 192.168.1.2^M^N$\r\n",
      "175.25.18.155 ^I 192.168.1.3^N^P$\r\n",
      "175.25.18.156 ^I 192.168.1.4^N^B$\r\n",
      "175.25.18.157 ^I 192.168.1.5^N^C$\r\n",
      "175.25.18.158 ^I 192.168.1.6^N^D$\r\n"
     ]
    }
   ],
   "source": [
    "cat -A master.ip"
   ]
  }
 ],
 "metadata": {
  "kernelspec": {
   "display_name": "Bash",
   "language": "bash",
   "name": "bash"
  },
  "language_info": {
   "codemirror_mode": "shell",
   "file_extension": ".sh",
   "mimetype": "text/x-sh",
   "name": "bash"
  }
 },
 "nbformat": 4,
 "nbformat_minor": 0
}
