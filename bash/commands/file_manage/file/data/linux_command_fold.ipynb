{
 "cells": [
  {
   "cell_type": "markdown",
   "metadata": {},
   "source": [
    "#### NAME\n",
    "    fold - wrap each input line to fit in specified width\n",
    "#### SYNOPSIS\n",
    "    fold [OPTION]... [FILE]...\n",
    "#### DESCRIPTION\n",
    "    Wrap input lines in each FILE (standard input by default), \n",
    "    writing to standard output."
   ]
  },
  {
   "cell_type": "markdown",
   "metadata": {},
   "source": [
    "#### OPTIONS"
   ]
  },
  {
   "cell_type": "markdown",
   "metadata": {},
   "source": [
    "#### -b, --bytes\n",
    "    count bytes rather than columns"
   ]
  },
  {
   "cell_type": "code",
   "execution_count": 11,
   "metadata": {
    "collapsed": false
   },
   "outputs": [
    {
     "name": "stdout",
     "output_type": "stream",
     "text": [
      "line1line2line3line4line5line6line7line8line9\r\n"
     ]
    }
   ],
   "source": [
    "cat file"
   ]
  },
  {
   "cell_type": "code",
   "execution_count": 12,
   "metadata": {
    "collapsed": false
   },
   "outputs": [
    {
     "name": "stdout",
     "output_type": "stream",
     "text": [
      "line1\r\n",
      "line2\r\n",
      "line3\r\n",
      "line4\r\n",
      "line5\r\n",
      "line6\r\n",
      "line7\r\n",
      "line8\r\n",
      "line9\r\n",
      "\r\n"
     ]
    }
   ],
   "source": [
    "# 60 bytes per line\n",
    "fold -b5 file"
   ]
  },
  {
   "cell_type": "markdown",
   "metadata": {},
   "source": [
    "###### -c, --characters\n",
    "    count characters rather than columns"
   ]
  },
  {
   "cell_type": "code",
   "execution_count": 13,
   "metadata": {
    "collapsed": false
   },
   "outputs": [
    {
     "name": "stdout",
     "output_type": "stream",
     "text": [
      "line1line2line3line4line5line6line7line8line9\r\n"
     ]
    }
   ],
   "source": [
    "cat file"
   ]
  },
  {
   "cell_type": "code",
   "execution_count": 14,
   "metadata": {
    "collapsed": false
   },
   "outputs": [
    {
     "name": "stdout",
     "output_type": "stream",
     "text": [
      "line1\r\n",
      "line2\r\n",
      "line3\r\n",
      "line4\r\n",
      "line5\r\n",
      "line6\r\n",
      "line7\r\n",
      "line8\r\n",
      "line9\r\n",
      "\r\n"
     ]
    }
   ],
   "source": [
    "fold -c5 file"
   ]
  },
  {
   "cell_type": "code",
   "execution_count": 15,
   "metadata": {
    "collapsed": false
   },
   "outputs": [
    {
     "name": "stdout",
     "output_type": "stream",
     "text": [
      "日曜日月曜日火曜日水曜日木曜日金曜日土曜日\r\n"
     ]
    }
   ],
   "source": [
    "cat week"
   ]
  },
  {
   "cell_type": "code",
   "execution_count": 16,
   "metadata": {
    "collapsed": false
   },
   "outputs": [
    {
     "name": "stdout",
     "output_type": "stream",
     "text": [
      "日曜日\r\n",
      "月曜日\r\n",
      "火曜日\r\n",
      "水曜日\r\n",
      "木曜日\r\n",
      "金曜日\r\n",
      "土曜日\r\n",
      "\r\n"
     ]
    }
   ],
   "source": [
    "fold -c3 week"
   ]
  },
  {
   "cell_type": "markdown",
   "metadata": {},
   "source": [
    "#### -s, --spaces\n",
    "    break at spaces"
   ]
  },
  {
   "cell_type": "code",
   "execution_count": 17,
   "metadata": {
    "collapsed": false
   },
   "outputs": [
    {
     "name": "stdout",
     "output_type": "stream",
     "text": [
      "line1line2line3line4line5line6line7line8line9\r\n"
     ]
    }
   ],
   "source": [
    "cat file"
   ]
  },
  {
   "cell_type": "code",
   "execution_count": 18,
   "metadata": {
    "collapsed": false
   },
   "outputs": [
    {
     "name": "stdout",
     "output_type": "stream",
     "text": [
      "line1\r\n",
      "line2\r\n",
      "line3\r\n",
      "line4\r\n",
      "line5\r\n",
      "line6\r\n",
      "line7\r\n",
      "line8\r\n",
      "line9\r\n",
      "\r\n"
     ]
    }
   ],
   "source": [
    "# Maybe nothing work.\n",
    "fold -s -b5 file"
   ]
  },
  {
   "cell_type": "code",
   "execution_count": 19,
   "metadata": {
    "collapsed": false
   },
   "outputs": [
    {
     "name": "stdout",
     "output_type": "stream",
     "text": [
      "日曜日月曜日火曜日水曜日木曜日金曜日土曜日\r\n"
     ]
    }
   ],
   "source": [
    "cat week"
   ]
  },
  {
   "cell_type": "code",
   "execution_count": 20,
   "metadata": {
    "collapsed": false
   },
   "outputs": [
    {
     "name": "stdout",
     "output_type": "stream",
     "text": [
      "日曜日\r\n",
      "月曜日\r\n",
      "火曜日\r\n",
      "水曜日\r\n",
      "木曜日\r\n",
      "金曜日\r\n",
      "土曜日\r\n",
      "\r\n"
     ]
    }
   ],
   "source": [
    "fold -s -c3 week"
   ]
  },
  {
   "cell_type": "markdown",
   "metadata": {},
   "source": [
    "#### -w, --width=WIDTH\n",
    "    use WIDTH columns instead of 80"
   ]
  },
  {
   "cell_type": "code",
   "execution_count": 21,
   "metadata": {
    "collapsed": false
   },
   "outputs": [
    {
     "name": "stdout",
     "output_type": "stream",
     "text": [
      "line1line2line3line4line5line6line7line8line9\r\n"
     ]
    }
   ],
   "source": [
    "cat file"
   ]
  },
  {
   "cell_type": "code",
   "execution_count": 22,
   "metadata": {
    "collapsed": false
   },
   "outputs": [
    {
     "name": "stdout",
     "output_type": "stream",
     "text": [
      "line1line2line3line4\r\n",
      "line5line6line7line8\r\n",
      "line9\r\n"
     ]
    }
   ],
   "source": [
    "fold -w20 file"
   ]
  },
  {
   "cell_type": "code",
   "execution_count": 23,
   "metadata": {
    "collapsed": false
   },
   "outputs": [
    {
     "name": "stdout",
     "output_type": "stream",
     "text": [
      "日曜日月曜日火曜日水曜日木曜日金曜日土曜日\r\n"
     ]
    }
   ],
   "source": [
    "cat week"
   ]
  },
  {
   "cell_type": "code",
   "execution_count": 24,
   "metadata": {
    "collapsed": false
   },
   "outputs": [
    {
     "name": "stdout",
     "output_type": "stream",
     "text": [
      "日曜日月曜日\r\n",
      "火曜日水曜日\r\n",
      "木曜日金曜日\r\n",
      "土曜日\r\n"
     ]
    }
   ],
   "source": [
    "fold -w12 week"
   ]
  }
 ],
 "metadata": {
  "kernelspec": {
   "display_name": "Bash",
   "language": "bash",
   "name": "bash"
  },
  "language_info": {
   "codemirror_mode": "shell",
   "file_extension": ".sh",
   "mimetype": "text/x-sh",
   "name": "bash"
  }
 },
 "nbformat": 4,
 "nbformat_minor": 0
}
