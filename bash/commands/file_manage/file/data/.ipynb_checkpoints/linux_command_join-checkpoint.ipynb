{
 "cells": [
  {
   "cell_type": "markdown",
   "metadata": {},
   "source": [
    "###### NAME\n",
    "    join - join lines of two files on a common field\n",
    "###### SYNOPSIS\n",
    "    join [OPTION]... FILE1 FILE2\n",
    "###### DESCRIPTION\n",
    "    For each pair of input lines with identical join fields,write a line to standard output.\n",
    "    The default join field is the first,delimited by whitespace.  \n",
    "    When FILE1 or FILE2 (not both) is -, read standard input."
   ]
  },
  {
   "cell_type": "markdown",
   "metadata": {},
   "source": [
    "#### OPTIONS"
   ]
  },
  {
   "cell_type": "markdown",
   "metadata": {},
   "source": [
    "###### default"
   ]
  },
  {
   "cell_type": "code",
   "execution_count": 21,
   "metadata": {
    "collapsed": false
   },
   "outputs": [
    {
     "name": "stdout",
     "output_type": "stream",
     "text": [
      "A  zzgame10\r\n",
      "B  zzgame17\r\n",
      "C  zzgame33\r\n",
      "D  zzgame49\r\n",
      "E  zzgame65\r\n",
      "F  zzgame89\r\n"
     ]
    }
   ],
   "source": [
    "# join works on sorted files\n",
    "cat servername.txt"
   ]
  },
  {
   "cell_type": "code",
   "execution_count": 22,
   "metadata": {
    "collapsed": false
   },
   "outputs": [
    {
     "name": "stdout",
     "output_type": "stream",
     "text": [
      "A  175.25.18.171\r\n",
      "B  175.25.18.137\r\n",
      "C  175.25.18.138\r\n",
      "D  175.25.18.144\r\n",
      "E  175.25.18.139\r\n",
      "F  175.25.18.143\r\n"
     ]
    }
   ],
   "source": [
    "cat serverip.txt"
   ]
  },
  {
   "cell_type": "code",
   "execution_count": 23,
   "metadata": {
    "collapsed": false
   },
   "outputs": [
    {
     "name": "stdout",
     "output_type": "stream",
     "text": [
      "A zzgame10 175.25.18.171\r\n",
      "B zzgame17 175.25.18.137\r\n",
      "C zzgame33 175.25.18.138\r\n",
      "D zzgame49 175.25.18.144\r\n",
      "E zzgame65 175.25.18.139\r\n",
      "F zzgame89 175.25.18.143\r\n"
     ]
    }
   ],
   "source": [
    "join servername.txt serverip.txt"
   ]
  },
  {
   "cell_type": "code",
   "execution_count": 6,
   "metadata": {
    "collapsed": false
   },
   "outputs": [
    {
     "name": "stdout",
     "output_type": "stream",
     "text": [
      "1  zzgame10\r\n",
      "2  zzgame17\r\n",
      "3  zzgame33\r\n",
      "4  zzgame49\r\n",
      "5  zzgame65\r\n",
      "6  zzgame89\r\n"
     ]
    }
   ],
   "source": [
    "# if files is not sorted\n",
    "# it will display a warning/error message.\n",
    "cat serverna"
   ]
  },
  {
   "cell_type": "code",
   "execution_count": 7,
   "metadata": {
    "collapsed": false
   },
   "outputs": [
    {
     "name": "stdout",
     "output_type": "stream",
     "text": [
      "1  175.25.18.171\r\n",
      "2  175.25.18.137\r\n",
      "3  175.25.18.138\r\n",
      "4  175.25.18.144\r\n",
      "6  175.25.18.139\r\n",
      "5  175.25.18.143\r\n"
     ]
    }
   ],
   "source": [
    "cat serverip.txt"
   ]
  },
  {
   "cell_type": "code",
   "execution_count": 8,
   "metadata": {
    "collapsed": false
   },
   "outputs": [
    {
     "name": "stdout",
     "output_type": "stream",
     "text": [
      "1 zzgame10 175.25.18.171\r\n",
      "2 zzgame17 175.25.18.137\r\n",
      "3 zzgame33 175.25.18.138\r\n",
      "4 zzgame49 175.25.18.144\r\n",
      "join: file 2 is not in sorted order\r\n",
      "6 zzgame89 175.25.18.139\r\n"
     ]
    }
   ],
   "source": [
    "join servername.txt serverip.txt"
   ]
  },
  {
   "cell_type": "markdown",
   "metadata": {},
   "source": [
    "###### -a FILENUM\n",
    "    print unpairable lines coming from file FILENUM, \n",
    "    where FILENUM is 1 or 2, corresponding to FILE1 or FILE2"
   ]
  },
  {
   "cell_type": "code",
   "execution_count": 14,
   "metadata": {
    "collapsed": false
   },
   "outputs": [
    {
     "name": "stdout",
     "output_type": "stream",
     "text": [
      "A  zzgame10\r\n",
      "B  zzgame17\r\n",
      "C  zzgame33\r\n",
      "D  zzgame49\r\n",
      "E  zzgame65\r\n",
      "F  zzgame89\r\n"
     ]
    }
   ],
   "source": [
    "cat servername.txt"
   ]
  },
  {
   "cell_type": "code",
   "execution_count": 15,
   "metadata": {
    "collapsed": false,
    "scrolled": true
   },
   "outputs": [
    {
     "name": "stdout",
     "output_type": "stream",
     "text": [
      "A  175.25.18.171\r\n",
      "b  175.25.18.137\r\n",
      "C  175.25.18.138\r\n",
      "d  175.25.18.144\r\n",
      "e  175.25.18.139\r\n",
      "F  175.25.18.143\r\n"
     ]
    }
   ],
   "source": [
    "cat serverip.txt"
   ]
  },
  {
   "cell_type": "code",
   "execution_count": 16,
   "metadata": {
    "collapsed": false
   },
   "outputs": [
    {
     "name": "stdout",
     "output_type": "stream",
     "text": [
      "A zzgame10 175.25.18.171\r\n",
      "B zzgame17\r\n",
      "C zzgame33 175.25.18.138\r\n",
      "D zzgame49\r\n",
      "E zzgame65\r\n",
      "F zzgame89 175.25.18.143\r\n"
     ]
    }
   ],
   "source": [
    "# print unpairable lines \n",
    "# coming from servername.txt\n",
    "join -a1 servername.txt serverip.txt"
   ]
  },
  {
   "cell_type": "code",
   "execution_count": 17,
   "metadata": {
    "collapsed": false
   },
   "outputs": [
    {
     "name": "stdout",
     "output_type": "stream",
     "text": [
      "A zzgame10 175.25.18.171\r\n",
      "b 175.25.18.137\r\n",
      "C zzgame33 175.25.18.138\r\n",
      "d 175.25.18.144\r\n",
      "e 175.25.18.139\r\n",
      "F zzgame89 175.25.18.143\r\n"
     ]
    }
   ],
   "source": [
    "# print unpairable lines \n",
    "# coming from serverip.txt\n",
    "join -a2 servername.txt serverip.txt"
   ]
  },
  {
   "cell_type": "markdown",
   "metadata": {},
   "source": [
    "###### -v FILENUM\n",
    "    like -a FILENUM, but suppress joined output lines"
   ]
  },
  {
   "cell_type": "code",
   "execution_count": 24,
   "metadata": {
    "collapsed": false
   },
   "outputs": [
    {
     "name": "stdout",
     "output_type": "stream",
     "text": [
      "A  zzgame10\r\n",
      "B  zzgame17\r\n",
      "C  zzgame33\r\n",
      "D  zzgame49\r\n",
      "E  zzgame65\r\n",
      "F  zzgame89\r\n"
     ]
    }
   ],
   "source": [
    "cat servername.txt"
   ]
  },
  {
   "cell_type": "code",
   "execution_count": 25,
   "metadata": {
    "collapsed": false
   },
   "outputs": [
    {
     "name": "stdout",
     "output_type": "stream",
     "text": [
      "A  175.25.18.171\r\n",
      "b  175.25.18.137\r\n",
      "C  175.25.18.138\r\n",
      "d  175.25.18.144\r\n",
      "e  175.25.18.139\r\n",
      "F  175.25.18.143\r\n"
     ]
    }
   ],
   "source": [
    "cat serverip.txt"
   ]
  },
  {
   "cell_type": "code",
   "execution_count": 26,
   "metadata": {
    "collapsed": false
   },
   "outputs": [
    {
     "name": "stdout",
     "output_type": "stream",
     "text": [
      "B zzgame17\r\n",
      "D zzgame49\r\n",
      "E zzgame65\r\n"
     ]
    }
   ],
   "source": [
    "# print unpairable lines \n",
    "# coming from servername.txt\n",
    "join -v1 servername.txt serverip.txt"
   ]
  },
  {
   "cell_type": "code",
   "execution_count": 27,
   "metadata": {
    "collapsed": false
   },
   "outputs": [
    {
     "name": "stdout",
     "output_type": "stream",
     "text": [
      "b 175.25.18.137\r\n",
      "d 175.25.18.144\r\n",
      "e 175.25.18.139\r\n"
     ]
    }
   ],
   "source": [
    "# print unpairable lines \n",
    "# coming from serverip.txt\n",
    "join -v2 servername.txt serverip.txt"
   ]
  },
  {
   "cell_type": "markdown",
   "metadata": {},
   "source": [
    "###### -i, --ignore-case\n",
    "    ignore differences in case when comparing fields"
   ]
  },
  {
   "cell_type": "code",
   "execution_count": 9,
   "metadata": {
    "collapsed": false
   },
   "outputs": [
    {
     "name": "stdout",
     "output_type": "stream",
     "text": [
      "A  zzgame10\r\n",
      "B  zzgame17\r\n",
      "C  zzgame33\r\n",
      "D  zzgame49\r\n",
      "E  zzgame65\r\n",
      "F  zzgame89\r\n"
     ]
    }
   ],
   "source": [
    "cat servername.txt"
   ]
  },
  {
   "cell_type": "code",
   "execution_count": 10,
   "metadata": {
    "collapsed": false
   },
   "outputs": [
    {
     "name": "stdout",
     "output_type": "stream",
     "text": [
      "A  175.25.18.171\r\n",
      "b  175.25.18.137\r\n",
      "C  175.25.18.138\r\n",
      "d  175.25.18.144\r\n",
      "e  175.25.18.139\r\n",
      "F  175.25.18.143\r\n"
     ]
    }
   ],
   "source": [
    "cat serverip.txt"
   ]
  },
  {
   "cell_type": "code",
   "execution_count": 11,
   "metadata": {
    "collapsed": false
   },
   "outputs": [
    {
     "name": "stdout",
     "output_type": "stream",
     "text": [
      "A zzgame10 175.25.18.171\r\n",
      "C zzgame33 175.25.18.138\r\n",
      "F zzgame89 175.25.18.143\r\n"
     ]
    }
   ],
   "source": [
    "# without -i option\n",
    "join servername.txt serverip.txt"
   ]
  },
  {
   "cell_type": "code",
   "execution_count": 12,
   "metadata": {
    "collapsed": false
   },
   "outputs": [
    {
     "name": "stdout",
     "output_type": "stream",
     "text": [
      "A zzgame10 175.25.18.171\r\n",
      "B zzgame17 175.25.18.137\r\n",
      "C zzgame33 175.25.18.138\r\n",
      "D zzgame49 175.25.18.144\r\n",
      "E zzgame65 175.25.18.139\r\n",
      "F zzgame89 175.25.18.143\r\n"
     ]
    }
   ],
   "source": [
    "# with -i option\n",
    "join -i servername.txt serverip.txt"
   ]
  },
  {
   "cell_type": "code",
   "execution_count": 13,
   "metadata": {
    "collapsed": false
   },
   "outputs": [
    {
     "name": "stdout",
     "output_type": "stream",
     "text": [
      "A 175.25.18.171 zzgame10\r\n",
      "b 175.25.18.137 zzgame17\r\n",
      "C 175.25.18.138 zzgame33\r\n",
      "d 175.25.18.144 zzgame49\r\n",
      "e 175.25.18.139 zzgame65\r\n",
      "F 175.25.18.143 zzgame89\r\n"
     ]
    }
   ],
   "source": [
    "join -i serverip.txt servername.txt"
   ]
  },
  {
   "cell_type": "code",
   "execution_count": null,
   "metadata": {
    "collapsed": true
   },
   "outputs": [],
   "source": []
  },
  {
   "cell_type": "markdown",
   "metadata": {},
   "source": [
    "###### -j FIELD\n",
    "    equivalent to ‘-1 FIELD -2 FIELD’"
   ]
  },
  {
   "cell_type": "markdown",
   "metadata": {},
   "source": [
    "###### -t CHAR\n",
    "    use CHAR as input and output field separator"
   ]
  },
  {
   "cell_type": "markdown",
   "metadata": {},
   "source": [
    "###### -1 FIELD\n",
    "    join on this FIELD of file 1"
   ]
  },
  {
   "cell_type": "markdown",
   "metadata": {},
   "source": [
    "###### -2 FIELD\n",
    "    join on this FIELD of file 2"
   ]
  },
  {
   "cell_type": "code",
   "execution_count": 1,
   "metadata": {
    "collapsed": false
   },
   "outputs": [
    {
     "name": "stdout",
     "output_type": "stream",
     "text": [
      "1 libing\r\n",
      "2 liheyi\r\n",
      "3 liyuan\r\n"
     ]
    }
   ],
   "source": [
    "cat 1.txt"
   ]
  },
  {
   "cell_type": "code",
   "execution_count": 2,
   "metadata": {
    "collapsed": false
   },
   "outputs": [
    {
     "name": "stdout",
     "output_type": "stream",
     "text": [
      "1 libing\r\n",
      "2 liheyi\r\n",
      "3 dousan\r\n"
     ]
    }
   ],
   "source": [
    "cat 2.txt"
   ]
  },
  {
   "cell_type": "code",
   "execution_count": 3,
   "metadata": {
    "collapsed": false
   },
   "outputs": [
    {
     "name": "stdout",
     "output_type": "stream",
     "text": [
      "libing 1 1\r\n",
      "liheyi 2 2\r\n"
     ]
    }
   ],
   "source": [
    "join -1 2 -2 2 1.txt 2.txt"
   ]
  },
  {
   "cell_type": "code",
   "execution_count": 4,
   "metadata": {
    "collapsed": false
   },
   "outputs": [
    {
     "name": "stdout",
     "output_type": "stream",
     "text": [
      "libing 1 1\r\n",
      "liheyi 2 2\r\n",
      "liyuan 3\r\n"
     ]
    }
   ],
   "source": [
    "# \"-a1\" says include all the records from the first file 1.txt\n",
    "join -a1 -1 2 -2 2 1.txt 2.txt"
   ]
  },
  {
   "cell_type": "code",
   "execution_count": 5,
   "metadata": {
    "collapsed": false
   },
   "outputs": [
    {
     "name": "stdout",
     "output_type": "stream",
     "text": [
      "libing 1 1\r\n",
      "liheyi 2 2\r\n",
      "dousan 3\r\n"
     ]
    }
   ],
   "source": [
    "# \"-a2\" says include all the records from the second file 2.txt\n",
    "join -a2 -1 2 -2 2 1.txt 2.txt"
   ]
  },
  {
   "cell_type": "code",
   "execution_count": 6,
   "metadata": {
    "collapsed": false
   },
   "outputs": [
    {
     "name": "stdout",
     "output_type": "stream",
     "text": [
      "libing 1 1\r\n",
      "liheyi 2 2\r\n",
      "dousan 3\r\n",
      "liyuan 3\r\n"
     ]
    }
   ],
   "source": [
    "# this example comes from:\n",
    "# http://www.albany.edu/~ig4895/join.htm\n",
    "\n",
    "# \"-a1\" and \"-a2\"  says include all the records \n",
    "# from the first file 1.txt and the second file 2.txt\n",
    "join -a1 -a2 -1 2 -2 2 1.txt 2.txt\n",
    "# Which has all of the records. \n",
    "# This is an example of a full outer join \n",
    "# since it has all of the rows from both files."
   ]
  },
  {
   "cell_type": "markdown",
   "metadata": {},
   "source": [
    "###### -o FORMAT\n",
    "    obey FORMAT while constructing output line"
   ]
  },
  {
   "cell_type": "markdown",
   "metadata": {},
   "source": [
    "###### -e EMPTY\n",
    "    replace missing input fields with EMPTY"
   ]
  },
  {
   "cell_type": "code",
   "execution_count": 8,
   "metadata": {
    "collapsed": false
   },
   "outputs": [
    {
     "name": "stdout",
     "output_type": "stream",
     "text": [
      "libing 1 1\r\n",
      "liheyi 2 2\r\n",
      "dousan 0 3\r\n",
      "liyuan 3 0\r\n"
     ]
    }
   ],
   "source": [
    "# this example comes from:\n",
    "# http://www.albany.edu/~ig4895/join.htm\n",
    "\n",
    "# The options for \"-o\" are as follows:\n",
    "# 1.a 0 (that.s a zero) means display the join field\n",
    "# 2.a number in the format of X.Y means to display the Y field from the X file\n",
    "# such as:2.1 means display the first field from the second file\n",
    "\n",
    "# The options for \"-e\" are as follows:\n",
    "# -e \"0\" says to replace any missing data fields \n",
    "# with whatever is in-between the quotes (in this case a zero).\n",
    "join -a1 -a2 -1 2 -2 2 -o 0 1.1 2.1 -e \"0\" 1.txt 2.txt\n",
    "\n",
    "# which has all of the records, and fills in the zeros for us."
   ]
  },
  {
   "cell_type": "markdown",
   "metadata": {},
   "source": [
    "###### --check-order\n",
    "    check that the input is correctly sorted, \n",
    "    even if all input lines are pairable"
   ]
  },
  {
   "cell_type": "markdown",
   "metadata": {},
   "source": [
    "###### --nocheck-order\n",
    "    do not check that the input is correctly sorted"
   ]
  },
  {
   "cell_type": "markdown",
   "metadata": {},
   "source": [
    "Unless -t CHAR is given, leading blanks separate fields and are ignored, else fields are separated by CHAR.Any FIELD is a field number counted from 1.FORMAT is one or more comma or blank separated specifications, each being ‘FILENUM.FIELD’ or ‘0’.Default FORMAT outputs the join field, the remaining fields from FILE1, the remaining fields from FILE2, all separated by CHAR."
   ]
  },
  {
   "cell_type": "markdown",
   "metadata": {},
   "source": [
    "###### Important:  \n",
    "FILE1 and FILE2 must be sorted on the join fields. E.g., use‘sort -k 1b,1’ if‘join’ has no options. Note,comparisons honor the rules specified by‘LC_COLLATE'.If the input is not sorted and some lines cannot be joined, a warning message will be given."
   ]
  },
  {
   "cell_type": "code",
   "execution_count": null,
   "metadata": {
    "collapsed": true
   },
   "outputs": [],
   "source": []
  }
 ],
 "metadata": {
  "kernelspec": {
   "display_name": "Bash",
   "language": "bash",
   "name": "bash"
  },
  "language_info": {
   "codemirror_mode": "shell",
   "file_extension": ".sh",
   "mimetype": "text/x-sh",
   "name": "bash"
  }
 },
 "nbformat": 4,
 "nbformat_minor": 0
}
