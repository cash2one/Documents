{
 "cells": [
  {
   "cell_type": "markdown",
   "metadata": {},
   "source": [
    "#### NAME\n",
    "    tac - concatenate and print files in reverse\n",
    "#### SYNOPSIS\n",
    "    tac [OPTION]... [FILE]...\n",
    "#### DESCRIPTION\n",
    "    Write each FILE to standard output, last line first.  \n",
    "    With no FILE, or when FILE is -, read standard input."
   ]
  },
  {
   "cell_type": "markdown",
   "metadata": {},
   "source": [
    "#### OPTIONS\n",
    "###### default"
   ]
  },
  {
   "cell_type": "code",
   "execution_count": 9,
   "metadata": {
    "collapsed": false
   },
   "outputs": [
    {
     "name": "stdout",
     "output_type": "stream",
     "text": [
      "1 175.25.18.165\t192.168.1.37\r\n",
      "2 175.25.18.166\t192.168.1.38\r\n",
      "3 175.25.18.167\t192.168.1.39\r\n",
      "4 175.25.18.168\t192.168.1.40\r\n",
      "5 175.25.18.169\t192.168.1.41\r\n",
      "6 175.25.18.170\t192.168.1.42\r\n",
      "7 175.25.18.171\t192.168.1.43\r\n",
      "8 175.25.18.172\t192.168.1.44\r\n",
      "9 175.25.18.173\t192.168.1.45\r\n"
     ]
    }
   ],
   "source": [
    "cat slave.ip"
   ]
  },
  {
   "cell_type": "code",
   "execution_count": 10,
   "metadata": {
    "collapsed": false,
    "scrolled": true
   },
   "outputs": [
    {
     "name": "stdout",
     "output_type": "stream",
     "text": [
      "9 175.25.18.173\t192.168.1.45\r\n",
      "8 175.25.18.172\t192.168.1.44\r\n",
      "7 175.25.18.171\t192.168.1.43\r\n",
      "6 175.25.18.170\t192.168.1.42\r\n",
      "5 175.25.18.169\t192.168.1.41\r\n",
      "4 175.25.18.168\t192.168.1.40\r\n",
      "3 175.25.18.167\t192.168.1.39\r\n",
      "2 175.25.18.166\t192.168.1.38\r\n",
      "1 175.25.18.165\t192.168.1.37\r\n"
     ]
    }
   ],
   "source": [
    "tac slave.ip"
   ]
  },
  {
   "cell_type": "markdown",
   "metadata": {},
   "source": [
    "###### -b, --before\n",
    "    attach the separator before instead of after"
   ]
  },
  {
   "cell_type": "markdown",
   "metadata": {},
   "source": [
    "###### -s, --separator=STRING\n",
    "    use STRING as the separator instead of newline"
   ]
  },
  {
   "cell_type": "code",
   "execution_count": 14,
   "metadata": {
    "collapsed": false
   },
   "outputs": [
    {
     "name": "stdout",
     "output_type": "stream",
     "text": [
      "1^I175.25.18.165^I192.168.1.37\r\n",
      "2^I175.25.18.166^I192.168.1.38\r\n",
      "3^I175.25.18.167^I192.168.1.39\r\n",
      "4^I175.25.18.168^I192.168.1.40\r\n",
      "5^I175.25.18.169^I192.168.1.41\r\n",
      "6^I175.25.18.170^I192.168.1.42\r\n",
      "7^I175.25.18.171^I192.168.1.43\r\n",
      "8^I175.25.18.172^I192.168.1.44\r\n",
      "9^I175.25.18.173^I192.168.1.45\r\n",
      "10^I\r\n"
     ]
    }
   ],
   "source": [
    "# Use Tab as the separator\n",
    "cat -T slave.ip"
   ]
  },
  {
   "cell_type": "code",
   "execution_count": 15,
   "metadata": {
    "collapsed": false
   },
   "outputs": [
    {
     "name": "stdout",
     "output_type": "stream",
     "text": [
      "1\t175.25.18.165\t192.168.1.37\r\n",
      "2\t175.25.18.166\t192.168.1.38\r\n",
      "3\t175.25.18.167\t192.168.1.39\r\n",
      "4\t175.25.18.168\t192.168.1.40\r\n",
      "5\t175.25.18.169\t192.168.1.41\r\n",
      "6\t175.25.18.170\t192.168.1.42\r\n",
      "7\t175.25.18.171\t192.168.1.43\r\n",
      "8\t175.25.18.172\t192.168.1.44\r\n",
      "9\t175.25.18.173\t192.168.1.45\r\n",
      "10\t\r\n"
     ]
    }
   ],
   "source": [
    "tac --before -s ' ' slave.ip"
   ]
  },
  {
   "cell_type": "markdown",
   "metadata": {},
   "source": [
    "###### -r, --regex\n",
    "    with -s,interpret the separator as a regular expression"
   ]
  },
  {
   "cell_type": "code",
   "execution_count": 16,
   "metadata": {
    "collapsed": false
   },
   "outputs": [
    {
     "name": "stdout",
     "output_type": "stream",
     "text": [
      "# ---server1---\r\n",
      "1 175.25.18.165\t192.168.1.37\r\n",
      "2 175.25.18.166\t192.168.1.38\r\n",
      "3 175.25.18.167\t192.168.1.39\r\n",
      "# ---server2---\r\n",
      "4 175.25.18.168\t192.168.1.40\r\n",
      "5 175.25.18.169\t192.168.1.41\r\n",
      "6 175.25.18.170\t192.168.1.42\r\n",
      "# ---server3---\r\n",
      "7 175.25.18.171\t192.168.1.43\r\n",
      "8 175.25.18.172\t192.168.1.44\r\n",
      "9 175.25.18.173\t192.168.1.45\r\n"
     ]
    }
   ],
   "source": [
    "cat slave.ip"
   ]
  },
  {
   "cell_type": "code",
   "execution_count": 17,
   "metadata": {
    "collapsed": false
   },
   "outputs": [
    {
     "name": "stdout",
     "output_type": "stream",
     "text": [
      "# ---server1---\r\n",
      "1 175.25.18.165\t192.168.1.37\r\n",
      "2 175.25.18.166\t192.168.1.38\r\n",
      "3 175.25.18.167\t192.168.1.39\r\n",
      "# ---server2---\r\n",
      "4 175.25.18.168\t192.168.1.40\r\n",
      "5 175.25.18.169\t192.168.1.41\r\n",
      "6 175.25.18.170\t192.168.1.42\r\n",
      "# ---server3---\r\n",
      "7 175.25.18.171\t192.168.1.43\r\n",
      "8 175.25.18.172\t192.168.1.44\r\n",
      "9 175.25.18.173\t192.168.1.45\r\n"
     ]
    }
   ],
   "source": [
    "# Maybe nothing work.\n",
    "tac --before --regex --separator='^---server[0-9]+-*$' slave.ip"
   ]
  }
 ],
 "metadata": {
  "kernelspec": {
   "display_name": "Bash",
   "language": "bash",
   "name": "bash"
  },
  "language_info": {
   "codemirror_mode": "shell",
   "file_extension": ".sh",
   "mimetype": "text/x-sh",
   "name": "bash"
  }
 },
 "nbformat": 4,
 "nbformat_minor": 0
}
