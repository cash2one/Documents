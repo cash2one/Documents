{
 "cells": [
  {
   "cell_type": "markdown",
   "metadata": {},
   "source": [
    "#### NAME\n",
    "    grep, egrep, fgrep, rgrep - print lines matching a pattern\n",
    "#### SYNOPSIS\n",
    "    grep [OPTIONS] PATTERN [FILE...]\n",
    "    grep [OPTIONS] [-e PATTERN | -f FILE] [FILE...]\n",
    "#### DESCRIPTION\n",
    "    grep searches the named input FILEs (or standard input if no files are named, \n",
    "    or if a single hyphen-minus (-) is given as file name) for lines containing a match to the given PATTERN.  \n",
    "    By default, grep prints the matching lines.\n",
    "\n",
    "    In addition, three variant programs egrep, fgrep and rgrep are available.  \n",
    "    egrep is the same as grep -E.  \n",
    "    fgrep is the same as  grep -F. \n",
    "    rgrep  is the same as grep -r.  \n",
    "    Direct invocation as either egrep or fgrep is deprecated, \n",
    "    but is provided to allow historical applications that rely on them to run unmodified."
   ]
  },
  {
   "cell_type": "markdown",
   "metadata": {},
   "source": [
    "#### OPTIONS\n",
    "##### A.Generic Program Information"
   ]
  },
  {
   "cell_type": "markdown",
   "metadata": {},
   "source": [
    "###### --help \n",
    "    Print a usage message briefly summarizing these command-line options and the bug-reporting address, then exit."
   ]
  },
  {
   "cell_type": "markdown",
   "metadata": {},
   "source": [
    "###### -V, --version\n",
    "    Print the version number of grep to the standard output stream.\n",
    "    This version number should be included in all bug reports (see below)."
   ]
  },
  {
   "cell_type": "markdown",
   "metadata": {},
   "source": [
    "##### B.Matcher Selection"
   ]
  },
  {
   "cell_type": "markdown",
   "metadata": {},
   "source": [
    "###### -E, --extended-regexp\n",
    "    Interpret PATTERN as an extended regular expression (ERE, see below).\n",
    "    (-E is specified by POSIX.)"
   ]
  },
  {
   "cell_type": "markdown",
   "metadata": {},
   "source": [
    "###### -F, --fixed-strings\n",
    "    Interpret PATTERN as a lis of fixed strings,separated by newlines,any of which is to be matched.\n",
    "    (-F is specified by POSIX.)"
   ]
  },
  {
   "cell_type": "markdown",
   "metadata": {},
   "source": [
    "######  -G, --basic-regexp\n",
    "    Interpret PATTERN as a basic regular expression (BRE, see below).\n",
    "    This is the default."
   ]
  },
  {
   "cell_type": "markdown",
   "metadata": {},
   "source": [
    "###### -P, --perl-regexp\n",
    "    Interpret PATTERN as a Perl regular expression (PCRE, see below).\n",
    "    This is highly experimental and grep -P may warn of unimplemented features."
   ]
  },
  {
   "cell_type": "markdown",
   "metadata": {},
   "source": [
    "##### C.Matching Control"
   ]
  },
  {
   "cell_type": "markdown",
   "metadata": {},
   "source": [
    "######  -e PATTERN, --regexp=PATTERN\n",
    "    Use PATTERN as the pattern.\n",
    "    This can be used to specify multiple search patterns,or to protect a pattern beginning with a hyphen (-).\n",
    "    (-e is specified by POSIX.)"
   ]
  },
  {
   "cell_type": "markdown",
   "metadata": {},
   "source": [
    "###### -f FILE, --file=FILE\n",
    "    Obtain patterns from FILE, one per line.\n",
    "    The empty file contains zero patterns, and therefore matches nothing.\n",
    "    (-f is specified by POSIX.)"
   ]
  },
  {
   "cell_type": "markdown",
   "metadata": {},
   "source": [
    "###### -i, --ignore-case\n",
    "    Ignore case distinctions in both the PATTERN and the input files.\n",
    "    (-i is specified by POSIX.)"
   ]
  },
  {
   "cell_type": "markdown",
   "metadata": {},
   "source": [
    "######  -v, --invert-match\n",
    "    Invert the sense of matching, to select non-matching lines.\n",
    "    (-v is specified by POSIX.)"
   ]
  },
  {
   "cell_type": "markdown",
   "metadata": {},
   "source": [
    "###### -w, --word-regexp\n",
    "    Select only those lines containing matches that form whole words.\n",
    "    The test is that the matching substring must either be at the beginning of the line,\n",
    "    or preceded by a non-word constituent character.\n",
    "    \n",
    "    Similarly,it must be either at the end of the line or followed by a non-word constituent character.\n",
    "    Word-constituent characters are letters,digits,and the underscore."
   ]
  },
  {
   "cell_type": "markdown",
   "metadata": {},
   "source": [
    "###### -x, --line-regexp\n",
    "    Select only those matches that exactly match the whole line.\n",
    "    (-x is specified by POSIX.)"
   ]
  },
  {
   "cell_type": "markdown",
   "metadata": {},
   "source": [
    "###### -y     \n",
    "    Obsolete synonym for -i."
   ]
  },
  {
   "cell_type": "markdown",
   "metadata": {},
   "source": [
    "##### D.General Output Control"
   ]
  },
  {
   "cell_type": "markdown",
   "metadata": {},
   "source": [
    "###### -c, --count\n",
    "    Suppress normal output; instead print a count of matching lines for each input file.\n",
    "    With the -v, --invert-match option (see below),count non-matching lines.\n",
    "    (-c is specified by POSIX.)"
   ]
  },
  {
   "cell_type": "markdown",
   "metadata": {},
   "source": [
    "###### --color[=WHEN], --colour[=WHEN]\n",
    "    Surround the matched (non-empty) strings,matching lines,context lines,file names,line numbers, \n",
    "    byte offsets, and separators (for fields and groups of context lines) with escape sequences \n",
    "    to display them in color on the terminal. \n",
    "    \n",
    "    The colors are defined by the environment variable GREP_COLORS.\n",
    "    The deprecated environment variable GREP_COLOR is still supported,but its setting does not have priority. \n",
    "    WHEN is never, always, or auto."
   ]
  },
  {
   "cell_type": "markdown",
   "metadata": {},
   "source": [
    "###### -L, --files-without-match\n",
    "    Suppress normal output; instead print the name of each input file from which no output would normally have been printed.\n",
    "    The scanning will stop on the first match."
   ]
  },
  {
   "cell_type": "markdown",
   "metadata": {},
   "source": [
    "######  -l, --files-with-matches\n",
    "    Suppress normal output;instead print the name of each input file from which output would normally have been printed.\n",
    "    The scanning will stop on the first match.  (-l is specified by POSIX.)"
   ]
  },
  {
   "cell_type": "markdown",
   "metadata": {},
   "source": [
    "###### -m NUM, --max-count=NUM\n",
    "    Stop reading a file after NUM matching lines.\n",
    "    \n",
    "    If the input is standard input from a regular file,and NUM matching lines are output,\n",
    "    grep ensures that the standard input is positioned to just after the last matching line before exiting,\n",
    "    regardless of the presence of trailing context lines.\n",
    "    \n",
    "    This enables a calling process to resume a search.\n",
    "    When grep stops after NUM matching lines,it outputs any trailing context lines.\n",
    "    When the -c or --count option is also used,grep does not output a count greater than NUM.\n",
    "    When the -v or --invert-match option is also used,grep stops after outputting NUM non-matching lines."
   ]
  },
  {
   "cell_type": "markdown",
   "metadata": {},
   "source": [
    "###### -o, --only-matching\n",
    "    Print only the matched(non-empty) parts of a matching line,with each such part on a separate output line."
   ]
  },
  {
   "cell_type": "markdown",
   "metadata": {},
   "source": [
    "###### -q, --quiet, --silent\n",
    "    Quiet;do not write anything to standard output.\n",
    "    Exit immediately with zero status if any match is found, even if an error was detected.\n",
    "    Also see the -s or --no-messages option.\n",
    "    (-q is specified by POSIX.)"
   ]
  },
  {
   "cell_type": "markdown",
   "metadata": {},
   "source": [
    "###### -s, --no-messages\n",
    "    Suppress error messages about nonexistent or unreadable files.\n",
    "    \n",
    "    Portability note:\n",
    "    unlike GNU grep, 7th Edition Unix grep did not conform to POSIX,\n",
    "    because it lacked -q and its -s option behaved like GNU grep's -q option.\n",
    "    USG-style grep also lacked -q but its -s option behaved like GNU grep.\n",
    "    Portable shell scripts should avoid both -q and -s and should redirect standard and error output to /dev/null instead.  \n",
    "    (-s is specified by POSIX.)"
   ]
  },
  {
   "cell_type": "markdown",
   "metadata": {},
   "source": [
    "##### E.Output Line Prefix Control"
   ]
  },
  {
   "cell_type": "markdown",
   "metadata": {},
   "source": [
    "###### -b, --byte-offset\n",
    "    Print the 0-based byte offset within the input file before each line of output.\n",
    "    If -o (--only-matching) is specified, print the offset of the matching part itself."
   ]
  },
  {
   "cell_type": "markdown",
   "metadata": {},
   "source": [
    "###### -H, --with-filename\n",
    "    Print the file name for each match.\n",
    "    This is the default when there is more than one file to search."
   ]
  },
  {
   "cell_type": "markdown",
   "metadata": {},
   "source": [
    "###### -h, --no-filename\n",
    "    Suppress the prefixing of file names on output.\n",
    "    This is the default when there is only one file (or only standard input) to search."
   ]
  },
  {
   "cell_type": "markdown",
   "metadata": {},
   "source": [
    "###### --label=LABEL\n",
    "    Display input actually coming from standard input as input coming from file LABEL.\n",
    "    This is especially useful when implementing tools like zgrep, \n",
    "    e.g., gzip -cd foo.gz | grep --label=foo -H something.\n",
    "    See also the -H option."
   ]
  },
  {
   "cell_type": "markdown",
   "metadata": {},
   "source": [
    "###### -n, --line-number\n",
    "    Prefix each line of output with the 1-based line number within its input file.\n",
    "    (-n is specified by POSIX.)"
   ]
  },
  {
   "cell_type": "markdown",
   "metadata": {},
   "source": [
    "###### -T, --initial-tab\n",
    "    Make sure that the first character of actual line content lies on a tab stop,so that the alignment of tabs  looks normal.\n",
    "    This  is  useful  with options that prefix their output to the actual content: -H,-n, and -b.\n",
    "    In order to improve the probability that lines from a single file will all start at the same column,\n",
    "    this also causes  the  line number and byte offset (if present) to be printed in a minimum size field width."
   ]
  },
  {
   "cell_type": "markdown",
   "metadata": {},
   "source": [
    "###### -u, --unix-byte-offsets\n",
    "    Report Unix-style byte offsets.\n",
    "    This switch causes grep to report byte offsets as if the file were a Unix-style text file, \n",
    "    i.e., with CR characters stripped off.\n",
    "    \n",
    "    This will produce results identical to running grep on a Unix machine.\n",
    "    This option has no effect unless -b option is also used; \n",
    "    it has no effect on platforms other than MS-DOS and MS-Windows."
   ]
  },
  {
   "cell_type": "markdown",
   "metadata": {},
   "source": [
    "###### -Z, --null\n",
    "    Output a zero byte (the ASCII NUL character) instead of the character that normally follows a file  name.\n",
    "    For example,grep -lZ outputs a zero byte after each file name instead of the usual newline.\n",
    "    This option makes the output unambiguous,even in the presence of file names containing unusual characters like newlines.\n",
    "    This option can be used with commands like find -print0,perl -0,sort -z and xargs -0 to process arbitrary file names, \n",
    "    even those that contain newline characters."
   ]
  },
  {
   "cell_type": "markdown",
   "metadata": {},
   "source": [
    "##### F.Context Line Control"
   ]
  },
  {
   "cell_type": "markdown",
   "metadata": {},
   "source": [
    "######  -A NUM, --after-context=NUM\n",
    "    Print NUM lines of trailing context after matching lines.\n",
    "    Places a line containing a group separator (--) between contiguous groups of matches.\n",
    "    With the -o or --only-matching option, this has no effect and a warning is given."
   ]
  },
  {
   "cell_type": "markdown",
   "metadata": {},
   "source": [
    "###### -B NUM, --before-context=NUM\n",
    "    Print NUM lines of leading context before matching lines.\n",
    "    Places a line containing a group separator (--) between contiguous groups of matches.\n",
    "    With the -o or --only-matching option, this has no effect and a warning is given."
   ]
  },
  {
   "cell_type": "markdown",
   "metadata": {},
   "source": [
    "###### -C NUM, -NUM, --context=NUM\n",
    "    Print NUM lines of output context.\n",
    "    Places a line containing a group separator (--) between contiguous groups of matches.\n",
    "    With the -o or --only-matching option,this has no effect and a warning is given."
   ]
  },
  {
   "cell_type": "markdown",
   "metadata": {},
   "source": [
    "##### G.File and Directory Selection"
   ]
  },
  {
   "cell_type": "markdown",
   "metadata": {},
   "source": [
    "######  -a, --text\n",
    "    Process a binary file as if it were text;\n",
    "    this is equivalent to the --binary-files=text option."
   ]
  },
  {
   "cell_type": "markdown",
   "metadata": {},
   "source": [
    "###### --binary-files=TYPE\n",
    "    If the first few bytes of a file indicate that the file contains binary data,assume that the file is of type TYPE.\n",
    "    By default,TYPE is binary,and grep normally outputs either a one-line message saying that a binary file  matches,or no message if there is no match.\n",
    "    If TYPE is without-match, grep assumes that a binary file does not match;this is equivalent to the -I option.\n",
    "    If TYPE is text,grep processes a binary file as if it were text;this is equivalent to the -a option.\n",
    "    \n",
    "    Warning: \n",
    "    grep --binary-files=text might output binary garbage, \n",
    "    which can have nasty side effects if the output is a terminal and if the terminal driver interprets some of it as commands."
   ]
  },
  {
   "cell_type": "markdown",
   "metadata": {},
   "source": [
    "###### -D ACTION, --devices=ACTION\n",
    "    If an input file is a device, FIFO or socket, use ACTION to process it.\n",
    "    By default, ACTION is read, which means that devices are read just as if they were ordinary files.\n",
    "    If ACTION is skip, devices are silently skipped."
   ]
  },
  {
   "cell_type": "markdown",
   "metadata": {},
   "source": [
    "###### -d ACTION, --directories=ACTION\n",
    "    If an input file is a directory, use ACTION to process it.\n",
    "    By default, ACTION is read, i.e., read directories just as if they were ordinary files.\n",
    "    If ACTION is skip, silently skip directories.\n",
    "    If ACTION is recurse,read all files under each directory,recursively,\n",
    "    following symbolic links only if they are on the command line.\n",
    "    This is equivalent to the -r option."
   ]
  },
  {
   "cell_type": "markdown",
   "metadata": {},
   "source": [
    "###### --exclude=GLOB\n",
    "    Skip files whose base name matches GLOB (using wildcard matching).\n",
    "    A file-name glob can use *,  ?,  and  [...] as wildcards, \n",
    "    and \\ to quote a wildcard or backslash character literally."
   ]
  },
  {
   "cell_type": "markdown",
   "metadata": {},
   "source": [
    "###### --exclude-from=FILE\n",
    "    Skip files whose base name matches any of the file-name globs read from FILE \n",
    "    (using wildcard matching as described under --exclude)."
   ]
  },
  {
   "cell_type": "markdown",
   "metadata": {},
   "source": [
    "######  --exclude-dir=DIR\n",
    "    Exclude directories matching the pattern DIR from recursive searches."
   ]
  },
  {
   "cell_type": "markdown",
   "metadata": {},
   "source": [
    "###### -I     \n",
    "    Process a binary file as if it did not contain matching data;\n",
    "    this is equivalent to the --binary-files=without-match option."
   ]
  },
  {
   "cell_type": "markdown",
   "metadata": {},
   "source": [
    "###### --include=GLOB\n",
    "    Search only files whose base name matches GLOB \n",
    "    (using wildcard matching as described under --exclude)."
   ]
  },
  {
   "cell_type": "markdown",
   "metadata": {},
   "source": [
    "###### -r, --recursive\n",
    "    Read all files under each directory,recursively,\n",
    "    following symbolic links only if they are on the command line.\n",
    "    This is equivalent to the -d recurse option."
   ]
  },
  {
   "cell_type": "markdown",
   "metadata": {},
   "source": [
    "###### -R, --dereference-recursive\n",
    "    Read all files under each directory, recursively.\n",
    "    Follow all symbolic links, unlike -r."
   ]
  },
  {
   "cell_type": "markdown",
   "metadata": {},
   "source": [
    "##### H.Other Options"
   ]
  },
  {
   "cell_type": "markdown",
   "metadata": {},
   "source": [
    "###### --line-buffered\n",
    "    Use line buffering on output.\n",
    "    This can cause a performance penalty."
   ]
  },
  {
   "cell_type": "markdown",
   "metadata": {},
   "source": [
    "###### --mmap \n",
    "    If possible,use the mmap(2) system call to read input,instead of the default read(2) system call.\n",
    "    In some situations, --mmap yields better performance.\n",
    "    However, --mmap can cause undefined behavior (including core dumps) \n",
    "    if an input file shrinks while grep is operating, or if an I/O error occurs."
   ]
  },
  {
   "cell_type": "markdown",
   "metadata": {},
   "source": [
    "###### -U, --binary\n",
    "    Treat the file(s) as binary.\n",
    "    By default, under MS-DOS and MS-Windows,grep guesses the file type by looking at the contents of the first 32KB read from the file.\n",
    "    If grep decides the file is a text file,it strips the CR characters from the original file contents \n",
    "    (to make regular expressions with ^ and \\$ work correctly).\n",
    "    Specifying -U overrules this guesswork,causing all files to be read and passed to the matching mechanism verbatim; \n",
    "    if the file is a text file with CR/LF pairs at the end of each line, this will cause some regular expressions to fail. \n",
    "    This option has no effect on platforms other than MS-DOS and MS-Windows."
   ]
  },
  {
   "cell_type": "markdown",
   "metadata": {},
   "source": [
    "###### -z, --null-data\n",
    "    Treat the input as a set of lines,each terminated by a zero byte (the ASCII NUL character) instead of a newline. \n",
    "    Like the -Z or --null option, this option can be used with commands like sort -z to process arbitrary file names."
   ]
  },
  {
   "cell_type": "markdown",
   "metadata": {},
   "source": [
    "#### ENVIRONMENT VARIABLES"
   ]
  },
  {
   "cell_type": "markdown",
   "metadata": {},
   "source": [
    "The behavior of grep is affected by the following environment variables.  \n",
    "The locale for category LC_foo is specified by examining the three environment variables LC_ALL, LC_foo, LANG, in that order. The first of these variables that is set specifies the locale. For example, if LC_ALL is not set, but  LC_MESSAGES is set to pt_BR, then the Brazilian Portuguese locale is used for the LC_MESSAGES category. The C locale is used if none of these environment variables are set, if the locale catalog is not installed, or if grep was not compiled  with  national language support (NLS)."
   ]
  },
  {
   "cell_type": "markdown",
   "metadata": {},
   "source": [
    "#####  GREP_OPTIONS\n",
    "This variable specifies default options to be placed in front of any explicit options. For example, if GREP_OPTIONS is '--binary-files=without-match --directories=skip', grep behaves as if the two options --binary-files=without-match and --directories=skip had been specified before any explicit options. Option specifications are separated by whitespace. A backslash escapes the next character, so it can be used to specify an option containing whitespace or a backslash."
   ]
  },
  {
   "cell_type": "markdown",
   "metadata": {},
   "source": [
    "##### GREP_COLOR\n",
    "This variable specifies the color used to highlight  matched (non-empty) text.It is deprecated in favor of GREP_COLORS, but still supported. The mt, ms, and mc capabilities of GREP_COLORS have priority  over  it. It can only specify the color used to highlight the matching non-empty text in any matching line (a selected line when the -v command-line option is omitted, or a context line when -v is specified). The default is  01;31, which  means a bold red foreground text on the terminal's default background."
   ]
  },
  {
   "cell_type": "markdown",
   "metadata": {},
   "source": [
    "##### GREP_COLORS\n",
    "Specifies the colors and other attributes used to highlight various parts of the output. Its value is a colon-separated list of capabilities that defaults to ms=01;31:mc=01;31:sl=:cx=:fn=35:ln=32:bn=32:se=36 with the rv and ne boolean capabilities omitted (i.e., false).Supported capabilities are as follows."
   ]
  },
  {
   "cell_type": "markdown",
   "metadata": {},
   "source": [
    "###### sl=    \n",
    "    SGR substring for whole selected lines \n",
    "    (i.e., matching lines when the -v command-line option is omitted,or non-matching lines when -v is specified).\n",
    "    If however the boolean rv capability and the -v command-line option are both specified, \n",
    "    it applies to context matching lines instead.  \n",
    "    The default is empty (i.e., the terminal's default color pair)."
   ]
  },
  {
   "cell_type": "markdown",
   "metadata": {},
   "source": [
    "######  cx=    \n",
    "    SGR substring for whole context lines \n",
    "    (i.e., non-matching lines when the -v command-line option is omitted, or matching lines when -v is specified).\n",
    "    If however the boolean rv capability and the -v command-line option are both specified, \n",
    "    it applies to selected non-matching lines instead.\n",
    "    The default is empty (i.e.,the terminal's default color pair)."
   ]
  },
  {
   "cell_type": "markdown",
   "metadata": {},
   "source": [
    "###### rv     \n",
    "    Boolean value that reverses (swaps) the meanings of the sl= and cx= capabilities when the -v command-line option is specified.\n",
    "    The default is false (i.e., the capability is omitted)."
   ]
  },
  {
   "cell_type": "markdown",
   "metadata": {},
   "source": [
    "###### mt=01;31\n",
    "    SGR substring for matching non-empty text in any matching line \n",
    "    (i.e.,a selected line when the -v command- line option is omitted, or a context line when -v is specified).\n",
    "    Setting this is equivalent to setting both ms= and mc= at once to the same value.\n",
    "    The default is a bold red text foreground over the current line background."
   ]
  },
  {
   "cell_type": "markdown",
   "metadata": {},
   "source": [
    "###### ms=01;31\n",
    "    SGR substring for matching non-empty text in a selected line.\n",
    "    (This is only used when the -v command-line option is omitted.) \n",
    "    The effect of the sl= (or cx= if rv) capability remains active when this kicks in.\n",
    "    The default is a bold red text foreground over the current line background."
   ]
  },
  {
   "cell_type": "markdown",
   "metadata": {},
   "source": [
    "###### mc=01;31\n",
    "    SGR substring for matching non-empty text in a context line.\n",
    "    (This is only used when the -v command-line option is specified.)\n",
    "    The effect of the cx= (or sl= if rv) capability remains active when this kicks in.\n",
    "    The default is a bold red text foreground over the current line background."
   ]
  },
  {
   "cell_type": "markdown",
   "metadata": {},
   "source": [
    "###### fn=35  \n",
    "    SGR substring for file names prefixing any content line.\n",
    "    The default is a magenta text foreground over the terminal's default background."
   ]
  },
  {
   "cell_type": "markdown",
   "metadata": {},
   "source": [
    "###### ln=32  \n",
    "    SGR substring for line numbers prefixing any content line.\n",
    "    The default is a green text foreground over the terminal's default background."
   ]
  },
  {
   "cell_type": "markdown",
   "metadata": {},
   "source": [
    "###### bn=32  \n",
    "    SGR substring for byte offsets prefixing any content line.\n",
    "    The default is a green text foreground over the terminal's default background."
   ]
  },
  {
   "cell_type": "markdown",
   "metadata": {},
   "source": [
    "###### se=36  \n",
    "    SGR substring for separators that are inserted between selected line fields (:),between context line fields,\n",
    "    (-), and between groups of adjacent lines when nonzero context is specified (--).  \n",
    "    The default is a cyan text foreground over the terminal's default background."
   ]
  },
  {
   "cell_type": "markdown",
   "metadata": {},
   "source": [
    "######  ne     \n",
    "    Boolean value that prevents clearing to the end of line using Erase in Line (EL) to Right (\\33[K) each time a colorized item ends.\n",
    "    This is needed on terminals on which EL is not supported.\n",
    "    It is otherwise useful on terminals for which the back_color_erase (bce) boolean terminfo capability does not apply, \n",
    "    when the chosen highlight colors do not affect the background,or when EL is too slow or causes too much flicker.  \n",
    "    The default is false (i.e., the capability is omitted)."
   ]
  },
  {
   "cell_type": "markdown",
   "metadata": {},
   "source": [
    "Note that boolean capabilities have no =...  part.   \n",
    "They are omitted (i.e., false) by default and become true when specified."
   ]
  },
  {
   "cell_type": "markdown",
   "metadata": {},
   "source": [
    "See the Select Graphic Rendition (SGR) section in the documentation of the text terminal that is used for permitted values and their meaning as character attributes.These substring values are integers in decimal representation and can be concatenated with semicolons.grep takes care of assembling the result into a complete SGR sequence (\\33[...m). Common values to concatenate include 1 for bold, 4 for underline, 5 for blink, 7 for  inverse, 39 for default foreground color, 30 to 37 for foreground colors, 90 to 97 for 16-color mode foreground colors, 38;5;0 to 38;5;255 for 88-color and 256-color modes foreground colors,49 for default background color,  40 to 47 for background colors, 100 to 107 for 16-color mode background colors, and 48;5;0 to 48;5;255 for 88-color and 256-color modes background colors."
   ]
  },
  {
   "cell_type": "markdown",
   "metadata": {},
   "source": [
    "###### LC_ALL, LC_COLLATE, LANG\n",
    "    These variables specify the locale for the LC_COLLATE category, \n",
    "    which determines the collating sequence used to interpret range expressions like [a-z]."
   ]
  },
  {
   "cell_type": "markdown",
   "metadata": {},
   "source": [
    "######  LC_ALL, LC_CTYPE, LANG\n",
    "    These variables specify the locale for the LC_CTYPE category, \n",
    "    which determines the type of characters, e.g., which characters are whitespace."
   ]
  },
  {
   "cell_type": "markdown",
   "metadata": {},
   "source": [
    "###### LC_ALL, LC_MESSAGES, LANG\n",
    "    These variables specify the locale for the LC_MESSAGES category, \n",
    "    which determines the language that grep  uses for messages.  \n",
    "    The default C locale uses American English messages."
   ]
  },
  {
   "cell_type": "markdown",
   "metadata": {},
   "source": [
    "###### POSIXLY_CORRECT\n",
    "    If set,grep behaves as POSIX requires; otherwise, grep behaves more like other GNU programs.\n",
    "    POSIX requires that options that follow file names must be treated as file names; \n",
    "    by default, such options are permuted to the front of the operand list and are treated as options.\n",
    "    Also, POSIX requires that unrecognized options be diagnosed as “illegal”, \n",
    "    but since they are not really against the law the default is to diagnose them as “invalid”.\n",
    "    POSIXLY_CORRECT also disables _N_GNU_nonoption_argv_flags_, described below."
   ]
  },
  {
   "cell_type": "markdown",
   "metadata": {},
   "source": [
    "###### _N_GNU_nonoption_argv_flags_\n",
    "    (Here N is grep's numeric  process  ID.) \n",
    "    If the ith character of this environment variable's value is 1, \n",
    "    do not consider the ith operand of grep to be an option, even if it appears to be one.\n",
    "    A shell can put this variable in the environment for each command it runs, \n",
    "    specifying which operands are the results of file name wildcard expansion and therefore should not be treated as options.\n",
    "    This behavior is available only with the GNU C library, and only when POSIXLY_CORRECT is not set."
   ]
  },
  {
   "cell_type": "markdown",
   "metadata": {},
   "source": [
    "#### EXIT STATUS\n",
    "The exit status is 0 if selected lines are found, and 1 if not found.  \n",
    "If an error occurred the exit status is 2.  \n",
    "(Note:POSIX error handling code should check for '2' or greater.)"
   ]
  },
  {
   "cell_type": "code",
   "execution_count": null,
   "metadata": {
    "collapsed": true
   },
   "outputs": [],
   "source": []
  }
 ],
 "metadata": {
  "kernelspec": {
   "display_name": "Bash",
   "language": "bash",
   "name": "bash"
  },
  "language_info": {
   "codemirror_mode": "shell",
   "file_extension": ".sh",
   "mimetype": "text/x-sh",
   "name": "bash"
  }
 },
 "nbformat": 4,
 "nbformat_minor": 0
}
