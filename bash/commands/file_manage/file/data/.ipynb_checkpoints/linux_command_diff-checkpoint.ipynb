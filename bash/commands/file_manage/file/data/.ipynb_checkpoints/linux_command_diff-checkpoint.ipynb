{
 "cells": [
  {
   "cell_type": "markdown",
   "metadata": {},
   "source": [
    "#### NAME\n",
    "    diff - compare files line by line\n",
    "#### SYNOPSIS\n",
    "    diff [OPTION]... FILES\n",
    "#### DESCRIPTION\n",
    "    Compare FILES line by line."
   ]
  },
  {
   "cell_type": "markdown",
   "metadata": {},
   "source": [
    "#### OPTIONS\n",
    "###### default"
   ]
  },
  {
   "cell_type": "code",
   "execution_count": 6,
   "metadata": {
    "collapsed": false
   },
   "outputs": [
    {
     "name": "stdout",
     "output_type": "stream",
     "text": [
      "==> file1.sh <==\r\n",
      "alias sshzz600='ssh admin@192.168.1.25'\r\n",
      "alias sshzz601='ssh admin@192.168.1.28'\r\n",
      "alias sshzz602='ssh admin@192.168.1.29'\r\n",
      "alias sshzz603='ssh admin@192.168.1.36'\r\n",
      "alias sshzz604='ssh admin@192.168.1.37'\r\n",
      "alias sshzz605='ssh admin@192.168.1.38'\r\n",
      "\r\n",
      "==> file2.sh <==\r\n",
      "alias sshzz500='ssh admin@192.168.1.25'\r\n",
      "alias sshzz601='ssh admin@192.168.1.28'\r\n",
      "alias sshzz602='ssh admin@192.168.1.29'\r\n",
      "alias sshzz603='ssh admin@192.168.1.36'\r\n",
      "alias sshzz604='ssh admin@192.168.1.37'\r\n",
      "alias sshzz605='ssh admin@192.168.1.38'\r\n"
     ]
    }
   ],
   "source": [
    "head file1.sh file2.sh"
   ]
  },
  {
   "cell_type": "code",
   "execution_count": 3,
   "metadata": {
    "collapsed": false
   },
   "outputs": [
    {
     "name": "stdout",
     "output_type": "stream",
     "text": [
      "1c1\r\n",
      "< alias sshzz600='ssh admin@192.168.1.25'\r\n",
      "---\r\n",
      "> alias sshzz500='ssh admin@192.168.1.25'\r\n"
     ]
    }
   ],
   "source": [
    "diff file1.sh file2.sh"
   ]
  },
  {
   "cell_type": "markdown",
   "metadata": {},
   "source": [
    "###### --normal\n",
    "    output a normal diff (the default)"
   ]
  },
  {
   "cell_type": "code",
   "execution_count": 5,
   "metadata": {
    "collapsed": false
   },
   "outputs": [
    {
     "name": "stdout",
     "output_type": "stream",
     "text": [
      "==> file1.sh <==\r\n",
      "alias sshzz600='ssh admin@192.168.1.25'\r\n",
      "alias sshzz601='ssh admin@192.168.1.28'\r\n",
      "alias sshzz602='ssh admin@192.168.1.29'\r\n",
      "alias sshzz603='ssh admin@192.168.1.36'\r\n",
      "alias sshzz604='ssh admin@192.168.1.37'\r\n",
      "alias sshzz605='ssh admin@192.168.1.38'\r\n",
      "\r\n",
      "==> file2.sh <==\r\n",
      "alias sshzz500='ssh admin@192.168.1.25'\r\n",
      "alias sshzz601='ssh admin@192.168.1.28'\r\n",
      "alias sshzz602='ssh admin@192.168.1.29'\r\n",
      "alias sshzz603='ssh admin@192.168.1.36'\r\n",
      "alias sshzz604='ssh admin@192.168.1.37'\r\n",
      "alias sshzz605='ssh admin@192.168.1.38'\r\n"
     ]
    }
   ],
   "source": [
    "head file1.sh file2.sh"
   ]
  },
  {
   "cell_type": "code",
   "execution_count": 4,
   "metadata": {
    "collapsed": false
   },
   "outputs": [
    {
     "name": "stdout",
     "output_type": "stream",
     "text": [
      "1c1\r\n",
      "< alias sshzz600='ssh admin@192.168.1.25'\r\n",
      "---\r\n",
      "> alias sshzz500='ssh admin@192.168.1.25'\r\n"
     ]
    }
   ],
   "source": [
    "diff --normal file1.sh file2.sh"
   ]
  },
  {
   "cell_type": "markdown",
   "metadata": {},
   "source": [
    "###### -q, --brief\n",
    "    report only when files differ"
   ]
  },
  {
   "cell_type": "code",
   "execution_count": 7,
   "metadata": {
    "collapsed": false
   },
   "outputs": [
    {
     "name": "stdout",
     "output_type": "stream",
     "text": [
      "==> file1.sh <==\r\n",
      "alias sshzz600='ssh admin@192.168.1.25'\r\n",
      "alias sshzz601='ssh admin@192.168.1.28'\r\n",
      "alias sshzz602='ssh admin@192.168.1.29'\r\n",
      "alias sshzz603='ssh admin@192.168.1.36'\r\n",
      "alias sshzz604='ssh admin@192.168.1.37'\r\n",
      "alias sshzz605='ssh admin@192.168.1.38'\r\n",
      "\r\n",
      "==> file2.sh <==\r\n",
      "alias sshzz500='ssh admin@192.168.1.25'\r\n",
      "alias sshzz601='ssh admin@192.168.1.28'\r\n",
      "alias sshzz602='ssh admin@192.168.1.29'\r\n",
      "alias sshzz603='ssh admin@192.168.1.36'\r\n",
      "alias sshzz604='ssh admin@192.168.1.37'\r\n",
      "alias sshzz605='ssh admin@192.168.1.38'\r\n"
     ]
    }
   ],
   "source": [
    "head file1.sh file2.sh"
   ]
  },
  {
   "cell_type": "code",
   "execution_count": 8,
   "metadata": {
    "collapsed": false
   },
   "outputs": [
    {
     "name": "stdout",
     "output_type": "stream",
     "text": [
      "Files file1.sh and file2.sh differ\r\n"
     ]
    }
   ],
   "source": [
    "diff -q file1.sh file2.sh"
   ]
  },
  {
   "cell_type": "markdown",
   "metadata": {},
   "source": [
    "###### -s, --report-identical-files\n",
    "    report when two files are the same"
   ]
  },
  {
   "cell_type": "code",
   "execution_count": 9,
   "metadata": {
    "collapsed": false
   },
   "outputs": [
    {
     "name": "stdout",
     "output_type": "stream",
     "text": [
      "==> file1.sh <==\r\n",
      "alias sshzz600='ssh admin@192.168.1.25'\r\n",
      "alias sshzz601='ssh admin@192.168.1.28'\r\n",
      "alias sshzz602='ssh admin@192.168.1.29'\r\n",
      "alias sshzz603='ssh admin@192.168.1.36'\r\n",
      "alias sshzz604='ssh admin@192.168.1.37'\r\n",
      "alias sshzz605='ssh admin@192.168.1.38'\r\n",
      "\r\n",
      "==> file2.sh <==\r\n",
      "alias sshzz600='ssh admin@192.168.1.25'\r\n",
      "alias sshzz601='ssh admin@192.168.1.28'\r\n",
      "alias sshzz602='ssh admin@192.168.1.29'\r\n",
      "alias sshzz603='ssh admin@192.168.1.36'\r\n",
      "alias sshzz604='ssh admin@192.168.1.37'\r\n",
      "alias sshzz605='ssh admin@192.168.1.38'\r\n"
     ]
    }
   ],
   "source": [
    "head file1.sh file2.sh"
   ]
  },
  {
   "cell_type": "code",
   "execution_count": 10,
   "metadata": {
    "collapsed": false
   },
   "outputs": [
    {
     "name": "stdout",
     "output_type": "stream",
     "text": [
      "Files file1.sh and file2.sh are identical\r\n"
     ]
    }
   ],
   "source": [
    "diff -s file1.sh file2.sh"
   ]
  },
  {
   "cell_type": "code",
   "execution_count": 11,
   "metadata": {
    "collapsed": false
   },
   "outputs": [
    {
     "name": "stdout",
     "output_type": "stream",
     "text": [
      "==> file1.sh <==\r\n",
      "alias sshzz600='ssh admin@192.168.1.25'\r\n",
      "alias sshzz601='ssh admin@192.168.1.28'\r\n",
      "alias sshzz602='ssh admin@192.168.1.29'\r\n",
      "alias sshzz603='ssh admin@192.168.1.36'\r\n",
      "alias sshzz604='ssh admin@192.168.1.37'\r\n",
      "alias sshzz605='ssh admin@192.168.1.38'\r\n",
      "\r\n",
      "==> file2.sh <==\r\n",
      "alias sshzz500='ssh admin@192.168.1.25'\r\n",
      "alias sshzz601='ssh admin@192.168.1.28'\r\n",
      "alias sshzz602='ssh admin@192.168.1.29'\r\n",
      "alias sshzz603='ssh admin@192.168.1.36'\r\n",
      "alias sshzz604='ssh admin@192.168.1.37'\r\n",
      "alias sshzz605='ssh admin@192.168.1.38'\r\n"
     ]
    }
   ],
   "source": [
    "head file1.sh file2.sh"
   ]
  },
  {
   "cell_type": "code",
   "execution_count": 12,
   "metadata": {
    "collapsed": false
   },
   "outputs": [
    {
     "name": "stdout",
     "output_type": "stream",
     "text": [
      "1c1\r\n",
      "< alias sshzz600='ssh admin@192.168.1.25'\r\n",
      "---\r\n",
      "> alias sshzz500='ssh admin@192.168.1.25'\r\n"
     ]
    }
   ],
   "source": [
    "diff -s file1.sh file2.sh"
   ]
  },
  {
   "cell_type": "markdown",
   "metadata": {},
   "source": [
    "###### -c, -C NUM, --context[=NUM]\n",
    "    output NUM (default 3) lines of copied context\n",
    "    \n",
    "    说明:分别输出不同行已经其前后三行(默认)"
   ]
  },
  {
   "cell_type": "code",
   "execution_count": 13,
   "metadata": {
    "collapsed": false
   },
   "outputs": [
    {
     "name": "stdout",
     "output_type": "stream",
     "text": [
      "==> file1.sh <==\r\n",
      "alias sshzz600='ssh admin@192.168.1.25'\r\n",
      "alias sshzz601='ssh admin@192.168.1.28'\r\n",
      "alias sshzz602='ssh admin@192.168.1.29'\r\n",
      "alias sshzz603='ssh admin@192.168.1.36'\r\n",
      "alias sshzz604='ssh admin@192.168.1.37'\r\n",
      "alias sshzz605='ssh admin@192.168.1.38'\r\n",
      "\r\n",
      "==> file2.sh <==\r\n",
      "alias sshzz500='ssh admin@192.168.1.25'\r\n",
      "alias sshzz601='ssh admin@192.168.1.28'\r\n",
      "alias sshzz602='ssh admin@192.168.1.29'\r\n",
      "alias sshzz603='ssh admin@192.168.1.36'\r\n",
      "alias sshzz604='ssh admin@192.168.1.37'\r\n",
      "alias sshzz605='ssh admin@192.168.1.38'\r\n"
     ]
    }
   ],
   "source": [
    "head file1.sh file2.sh"
   ]
  },
  {
   "cell_type": "code",
   "execution_count": 14,
   "metadata": {
    "collapsed": false
   },
   "outputs": [
    {
     "name": "stdout",
     "output_type": "stream",
     "text": [
      "*** file1.sh\t2016-08-11 16:07:09.619840780 +0800\r\n",
      "--- file2.sh\t2016-08-11 16:14:02.699847890 +0800\r\n",
      "***************\r\n",
      "*** 1,4 ****\r\n",
      "! alias sshzz600='ssh admin@192.168.1.25'\r\n",
      "  alias sshzz601='ssh admin@192.168.1.28'\r\n",
      "  alias sshzz602='ssh admin@192.168.1.29'\r\n",
      "  alias sshzz603='ssh admin@192.168.1.36'\r\n",
      "--- 1,4 ----\r\n",
      "! alias sshzz500='ssh admin@192.168.1.25'\r\n",
      "  alias sshzz601='ssh admin@192.168.1.28'\r\n",
      "  alias sshzz602='ssh admin@192.168.1.29'\r\n",
      "  alias sshzz603='ssh admin@192.168.1.36'\r\n"
     ]
    }
   ],
   "source": [
    "diff -c file1.sh file2.sh"
   ]
  },
  {
   "cell_type": "code",
   "execution_count": 15,
   "metadata": {
    "collapsed": false
   },
   "outputs": [
    {
     "name": "stdout",
     "output_type": "stream",
     "text": [
      "==> file1.sh <==\r\n",
      "alias sshzz600='ssh admin@192.168.1.25'\r\n",
      "alias sshzz601='ssh admin@192.168.1.28'\r\n",
      "alias sshzz602='ssh admin@192.168.1.29'\r\n",
      "alias sshzz603='ssh admin@192.168.1.36'\r\n",
      "alias sshzz604='ssh admin@192.168.1.37'\r\n",
      "alias sshzz605='ssh admin@192.168.1.38'\r\n",
      "\r\n",
      "==> file2.sh <==\r\n",
      "alias sshzz600='ssh admin@192.168.1.25'\r\n",
      "alias sshzz601='ssh admin@192.168.1.28'\r\n",
      "alias sshzz602='ssh admin@192.168.1.29'\r\n",
      "alias sshzz503='ssh admin@192.168.1.36'\r\n",
      "alias sshzz604='ssh admin@192.168.1.37'\r\n",
      "alias sshzz605='ssh admin@192.168.1.38'\r\n"
     ]
    }
   ],
   "source": [
    "head file1.sh file2.sh"
   ]
  },
  {
   "cell_type": "code",
   "execution_count": 16,
   "metadata": {
    "collapsed": false
   },
   "outputs": [
    {
     "name": "stdout",
     "output_type": "stream",
     "text": [
      "*** file1.sh\t2016-08-11 16:07:09.619840780 +0800\r\n",
      "--- file2.sh\t2016-08-11 16:20:22.883854435 +0800\r\n",
      "***************\r\n",
      "*** 1,6 ****\r\n",
      "  alias sshzz600='ssh admin@192.168.1.25'\r\n",
      "  alias sshzz601='ssh admin@192.168.1.28'\r\n",
      "  alias sshzz602='ssh admin@192.168.1.29'\r\n",
      "! alias sshzz603='ssh admin@192.168.1.36'\r\n",
      "  alias sshzz604='ssh admin@192.168.1.37'\r\n",
      "  alias sshzz605='ssh admin@192.168.1.38'\r\n",
      "--- 1,6 ----\r\n",
      "  alias sshzz600='ssh admin@192.168.1.25'\r\n",
      "  alias sshzz601='ssh admin@192.168.1.28'\r\n",
      "  alias sshzz602='ssh admin@192.168.1.29'\r\n",
      "! alias sshzz503='ssh admin@192.168.1.36'\r\n",
      "  alias sshzz604='ssh admin@192.168.1.37'\r\n",
      "  alias sshzz605='ssh admin@192.168.1.38'\r\n"
     ]
    }
   ],
   "source": [
    "diff -c file1.sh file2.sh"
   ]
  },
  {
   "cell_type": "markdown",
   "metadata": {},
   "source": [
    "###### -u, -U NUM, --unified[=NUM]\n",
    "    output NUM (default 3) lines of unified context\n",
    "    说明:输出不同的两行以及前后相同的三行"
   ]
  },
  {
   "cell_type": "code",
   "execution_count": 17,
   "metadata": {
    "collapsed": false
   },
   "outputs": [
    {
     "name": "stdout",
     "output_type": "stream",
     "text": [
      "==> file1.sh <==\r\n",
      "alias sshzz600='ssh admin@192.168.1.25'\r\n",
      "alias sshzz601='ssh admin@192.168.1.28'\r\n",
      "alias sshzz602='ssh admin@192.168.1.29'\r\n",
      "alias sshzz603='ssh admin@192.168.1.36'\r\n",
      "alias sshzz604='ssh admin@192.168.1.37'\r\n",
      "alias sshzz605='ssh admin@192.168.1.38'\r\n",
      "\r\n",
      "==> file2.sh <==\r\n",
      "alias sshzz500='ssh admin@192.168.1.25'\r\n",
      "alias sshzz601='ssh admin@192.168.1.28'\r\n",
      "alias sshzz602='ssh admin@192.168.1.29'\r\n",
      "alias sshzz603='ssh admin@192.168.1.36'\r\n",
      "alias sshzz604='ssh admin@192.168.1.37'\r\n",
      "alias sshzz605='ssh admin@192.168.1.38'\r\n"
     ]
    }
   ],
   "source": [
    "head file1.sh file2.sh"
   ]
  },
  {
   "cell_type": "code",
   "execution_count": 18,
   "metadata": {
    "collapsed": false
   },
   "outputs": [
    {
     "name": "stdout",
     "output_type": "stream",
     "text": [
      "--- file1.sh\t2016-08-11 16:07:09.619840780 +0800\r\n",
      "+++ file2.sh\t2016-08-11 16:40:35.847875314 +0800\r\n",
      "@@ -1,4 +1,4 @@\r\n",
      "-alias sshzz600='ssh admin@192.168.1.25'\r\n",
      "+alias sshzz500='ssh admin@192.168.1.25'\r\n",
      " alias sshzz601='ssh admin@192.168.1.28'\r\n",
      " alias sshzz602='ssh admin@192.168.1.29'\r\n",
      " alias sshzz603='ssh admin@192.168.1.36'\r\n"
     ]
    }
   ],
   "source": [
    "diff -u file1.sh file2.sh"
   ]
  },
  {
   "cell_type": "code",
   "execution_count": 19,
   "metadata": {
    "collapsed": false
   },
   "outputs": [
    {
     "name": "stdout",
     "output_type": "stream",
     "text": [
      "==> file1.sh <==\r\n",
      "alias sshzz600='ssh admin@192.168.1.25'\r\n",
      "alias sshzz601='ssh admin@192.168.1.28'\r\n",
      "alias sshzz602='ssh admin@192.168.1.29'\r\n",
      "alias sshzz603='ssh admin@192.168.1.36'\r\n",
      "alias sshzz604='ssh admin@192.168.1.37'\r\n",
      "alias sshzz605='ssh admin@192.168.1.38'\r\n",
      "\r\n",
      "==> file2.sh <==\r\n",
      "alias sshzz600='ssh admin@192.168.1.25'\r\n",
      "alias sshzz601='ssh admin@192.168.1.28'\r\n",
      "alias sshzz602='ssh admin@192.168.1.29'\r\n",
      "alias sshzz603='ssh admin@192.168.1.36'\r\n",
      "alias sshzz704='ssh admin@192.168.1.37'\r\n",
      "alias sshzz605='ssh admin@192.168.1.38'\r\n"
     ]
    }
   ],
   "source": [
    "head file1.sh file2.sh"
   ]
  },
  {
   "cell_type": "code",
   "execution_count": 20,
   "metadata": {
    "collapsed": false
   },
   "outputs": [
    {
     "name": "stdout",
     "output_type": "stream",
     "text": [
      "--- file1.sh\t2016-08-11 16:07:09.619840780 +0800\r\n",
      "+++ file2.sh\t2016-08-11 16:43:00.271877800 +0800\r\n",
      "@@ -2,5 +2,5 @@\r\n",
      " alias sshzz601='ssh admin@192.168.1.28'\r\n",
      " alias sshzz602='ssh admin@192.168.1.29'\r\n",
      " alias sshzz603='ssh admin@192.168.1.36'\r\n",
      "-alias sshzz604='ssh admin@192.168.1.37'\r\n",
      "+alias sshzz704='ssh admin@192.168.1.37'\r\n",
      " alias sshzz605='ssh admin@192.168.1.38'\r\n"
     ]
    }
   ],
   "source": [
    "diff -u file1.sh file2.sh"
   ]
  },
  {
   "cell_type": "markdown",
   "metadata": {},
   "source": [
    "###### -e, --ed\n",
    "    output an ed script"
   ]
  },
  {
   "cell_type": "code",
   "execution_count": 21,
   "metadata": {
    "collapsed": false
   },
   "outputs": [
    {
     "name": "stdout",
     "output_type": "stream",
     "text": [
      "==> file1.sh <==\r\n",
      "alias sshzz600='ssh admin@192.168.1.25'\r\n",
      "alias sshzz601='ssh admin@192.168.1.28'\r\n",
      "alias sshzz602='ssh admin@192.168.1.29'\r\n",
      "alias sshzz603='ssh admin@192.168.1.36'\r\n",
      "alias sshzz604='ssh admin@192.168.1.37'\r\n",
      "alias sshzz605='ssh admin@192.168.1.38'\r\n",
      "\r\n",
      "==> file2.sh <==\r\n",
      "alias sshzz600='ssh admin@192.168.1.25'\r\n",
      "alias sshzz601='ssh admin@192.168.1.28'\r\n",
      "alias sshzz602='ssh admin@192.168.1.29'\r\n",
      "alias sshzz603='ssh admin@192.168.1.36'\r\n",
      "alias sshzz704='ssh admin@192.168.1.37'\r\n",
      "alias sshzz605='ssh admin@192.168.1.38'\r\n"
     ]
    }
   ],
   "source": [
    "head file1.sh file2.sh"
   ]
  },
  {
   "cell_type": "code",
   "execution_count": 22,
   "metadata": {
    "collapsed": false
   },
   "outputs": [
    {
     "name": "stdout",
     "output_type": "stream",
     "text": [
      "5c\r\n",
      "alias sshzz704='ssh admin@192.168.1.37'\r\n",
      ".\r\n"
     ]
    }
   ],
   "source": [
    "diff -e file1.sh file2.sh"
   ]
  },
  {
   "cell_type": "code",
   "execution_count": 23,
   "metadata": {
    "collapsed": false
   },
   "outputs": [
    {
     "name": "stdout",
     "output_type": "stream",
     "text": [
      "==> file1.sh <==\r\n",
      "alias sshzz600='ssh admin@192.168.1.25'\r\n",
      "alias sshzz601='ssh admin@192.168.1.28'\r\n",
      "alias sshzz602='ssh admin@192.168.1.29'\r\n",
      "alias sshzz603='ssh admin@192.168.1.36'\r\n",
      "alias sshzz604='ssh admin@192.168.1.37'\r\n",
      "alias sshzz605='ssh admin@192.168.1.38'\r\n",
      "\r\n",
      "==> file2.sh <==\r\n",
      "alias sshzz500='ssh admin@192.168.1.25'\r\n",
      "alias sshzz601='ssh admin@192.168.1.28'\r\n",
      "alias sshzz602='ssh admin@192.168.1.29'\r\n",
      "alias sshzz603='ssh admin@192.168.1.36'\r\n",
      "alias sshzz704='ssh admin@192.168.1.37'\r\n",
      "alias sshzz605='ssh admin@192.168.1.38'\r\n"
     ]
    }
   ],
   "source": [
    "head file1.sh file2.sh"
   ]
  },
  {
   "cell_type": "code",
   "execution_count": 24,
   "metadata": {
    "collapsed": false
   },
   "outputs": [
    {
     "name": "stdout",
     "output_type": "stream",
     "text": [
      "5c\r\n",
      "alias sshzz704='ssh admin@192.168.1.37'\r\n",
      ".\r\n",
      "1c\r\n",
      "alias sshzz500='ssh admin@192.168.1.25'\r\n",
      ".\r\n"
     ]
    }
   ],
   "source": [
    "diff -e file1.sh file2.sh"
   ]
  },
  {
   "cell_type": "markdown",
   "metadata": {},
   "source": [
    "###### -n, --rcs\n",
    "    output an RCS format diff"
   ]
  },
  {
   "cell_type": "code",
   "execution_count": 25,
   "metadata": {
    "collapsed": false
   },
   "outputs": [
    {
     "name": "stdout",
     "output_type": "stream",
     "text": [
      "==> file1.sh <==\r\n",
      "alias sshzz600='ssh admin@192.168.1.25'\r\n",
      "alias sshzz601='ssh admin@192.168.1.28'\r\n",
      "alias sshzz602='ssh admin@192.168.1.29'\r\n",
      "alias sshzz603='ssh admin@192.168.1.36'\r\n",
      "alias sshzz604='ssh admin@192.168.1.37'\r\n",
      "alias sshzz605='ssh admin@192.168.1.38'\r\n",
      "\r\n",
      "==> file2.sh <==\r\n",
      "alias sshzz500='ssh admin@192.168.1.25'\r\n",
      "alias sshzz601='ssh admin@192.168.1.28'\r\n",
      "alias sshzz602='ssh admin@192.168.1.29'\r\n",
      "alias sshzz603='ssh admin@192.168.1.36'\r\n",
      "alias sshzz704='ssh admin@192.168.1.37'\r\n",
      "alias sshzz605='ssh admin@192.168.1.38'\r\n"
     ]
    }
   ],
   "source": [
    "head file1.sh file2.sh"
   ]
  },
  {
   "cell_type": "code",
   "execution_count": 26,
   "metadata": {
    "collapsed": false
   },
   "outputs": [
    {
     "name": "stdout",
     "output_type": "stream",
     "text": [
      "d1 1\r\n",
      "a1 1\r\n",
      "alias sshzz500='ssh admin@192.168.1.25'\r\n",
      "d5 1\r\n",
      "a5 1\r\n",
      "alias sshzz704='ssh admin@192.168.1.37'\r\n"
     ]
    }
   ],
   "source": [
    "diff -n file1.sh file2.sh"
   ]
  },
  {
   "cell_type": "markdown",
   "metadata": {},
   "source": [
    "###### -y, --side-by-side\n",
    "    output in two columns"
   ]
  },
  {
   "cell_type": "code",
   "execution_count": 27,
   "metadata": {
    "collapsed": false
   },
   "outputs": [
    {
     "name": "stdout",
     "output_type": "stream",
     "text": [
      "==> file1.sh <==\r\n",
      "alias sshzz600='ssh admin@192.168.1.25'\r\n",
      "alias sshzz601='ssh admin@192.168.1.28'\r\n",
      "alias sshzz602='ssh admin@192.168.1.29'\r\n",
      "alias sshzz603='ssh admin@192.168.1.36'\r\n",
      "alias sshzz604='ssh admin@192.168.1.37'\r\n",
      "alias sshzz605='ssh admin@192.168.1.38'\r\n",
      "\r\n",
      "==> file2.sh <==\r\n",
      "alias sshzz500='ssh admin@192.168.1.25'\r\n",
      "alias sshzz601='ssh admin@192.168.1.28'\r\n",
      "alias sshzz602='ssh admin@192.168.1.29'\r\n",
      "alias sshzz603='ssh admin@192.168.1.36'\r\n",
      "alias sshzz704='ssh admin@192.168.1.37'\r\n",
      "alias sshzz605='ssh admin@192.168.1.38'\r\n"
     ]
    }
   ],
   "source": [
    "head file1.sh file2.sh"
   ]
  },
  {
   "cell_type": "code",
   "execution_count": 28,
   "metadata": {
    "collapsed": false
   },
   "outputs": [
    {
     "name": "stdout",
     "output_type": "stream",
     "text": [
      "alias sshzz600='ssh admin@192.168.1.25'\t\t\t      |\talias sshzz500='ssh admin@192.168.1.25'\r\n",
      "alias sshzz601='ssh admin@192.168.1.28'\t\t\t\talias sshzz601='ssh admin@192.168.1.28'\r\n",
      "alias sshzz602='ssh admin@192.168.1.29'\t\t\t\talias sshzz602='ssh admin@192.168.1.29'\r\n",
      "alias sshzz603='ssh admin@192.168.1.36'\t\t\t\talias sshzz603='ssh admin@192.168.1.36'\r\n",
      "alias sshzz604='ssh admin@192.168.1.37'\t\t\t      |\talias sshzz704='ssh admin@192.168.1.37'\r\n",
      "alias sshzz605='ssh admin@192.168.1.38'\t\t\t\talias sshzz605='ssh admin@192.168.1.38'\r\n"
     ]
    }
   ],
   "source": [
    "diff -y file1.sh file2.sh"
   ]
  },
  {
   "cell_type": "markdown",
   "metadata": {},
   "source": [
    "###### -W, --width=NUM\n",
    "    output at most NUM (default 130) print columns"
   ]
  },
  {
   "cell_type": "code",
   "execution_count": 29,
   "metadata": {
    "collapsed": false
   },
   "outputs": [
    {
     "name": "stdout",
     "output_type": "stream",
     "text": [
      "==> file1.sh <==\r\n",
      "alias sshzz600='ssh admin@192.168.1.25'\r\n",
      "alias sshzz601='ssh admin@192.168.1.28'\r\n",
      "alias sshzz602='ssh admin@192.168.1.29'\r\n",
      "alias sshzz603='ssh admin@192.168.1.36'\r\n",
      "alias sshzz604='ssh admin@192.168.1.37'\r\n",
      "alias sshzz605='ssh admin@192.168.1.38'\r\n",
      "\r\n",
      "==> file2.sh <==\r\n",
      "alias sshzz500='ssh admin@192.168.1.25'\r\n",
      "alias sshzz601='ssh admin@192.168.1.28'\r\n",
      "alias sshzz602='ssh admin@192.168.1.29'\r\n",
      "alias sshzz603='ssh admin@192.168.1.36'\r\n",
      "alias sshzz704='ssh admin@192.168.1.37'\r\n",
      "alias sshzz605='ssh admin@192.168.1.38'\r\n"
     ]
    }
   ],
   "source": [
    "head file1.sh file2.sh"
   ]
  },
  {
   "cell_type": "code",
   "execution_count": 32,
   "metadata": {
    "collapsed": false
   },
   "outputs": [
    {
     "name": "stdout",
     "output_type": "stream",
     "text": [
      "alias sshzz600='ssh admin@192.168.1.25'\t      |\talias sshzz500='ssh admin@192.168.1.25'\r\n",
      "alias sshzz601='ssh admin@192.168.1.28'\t\talias sshzz601='ssh admin@192.168.1.28'\r\n",
      "alias sshzz602='ssh admin@192.168.1.29'\t\talias sshzz602='ssh admin@192.168.1.29'\r\n",
      "alias sshzz603='ssh admin@192.168.1.36'\t\talias sshzz603='ssh admin@192.168.1.36'\r\n",
      "alias sshzz604='ssh admin@192.168.1.37'\t      |\talias sshzz704='ssh admin@192.168.1.37'\r\n",
      "alias sshzz605='ssh admin@192.168.1.38'\t\talias sshzz605='ssh admin@192.168.1.38'\r\n"
     ]
    }
   ],
   "source": [
    "diff -yW100 file1.sh file2.sh"
   ]
  },
  {
   "cell_type": "markdown",
   "metadata": {},
   "source": [
    "###### --left-column\n",
    "    output only the left column of common lines"
   ]
  },
  {
   "cell_type": "markdown",
   "metadata": {},
   "source": [
    "###### --suppress-common-lines\n",
    "    do not output common lines"
   ]
  },
  {
   "cell_type": "markdown",
   "metadata": {},
   "source": [
    "###### -p, --show-c-function\n",
    "    show which C function each change is in"
   ]
  },
  {
   "cell_type": "markdown",
   "metadata": {},
   "source": [
    "###### -F, --show-function-line=RE\n",
    "    show the most recent line matching RE"
   ]
  },
  {
   "cell_type": "markdown",
   "metadata": {},
   "source": [
    "###### --label LABEL\n",
    "    use LABEL instead of file name (can be repeated)"
   ]
  },
  {
   "cell_type": "markdown",
   "metadata": {},
   "source": [
    "###### -t, --expand-tabs\n",
    "    expand tabs to spaces in output"
   ]
  },
  {
   "cell_type": "markdown",
   "metadata": {},
   "source": [
    "###### -T, --initial-tab\n",
    "    make tabs line up by prepending a tab"
   ]
  },
  {
   "cell_type": "markdown",
   "metadata": {},
   "source": [
    "###### --tabsize=NUM\n",
    "    tab stops every NUM (default 8) print columns"
   ]
  },
  {
   "cell_type": "markdown",
   "metadata": {},
   "source": [
    "###### --suppress-blank-empty\n",
    "    suppress space or tab before empty output lines"
   ]
  },
  {
   "cell_type": "markdown",
   "metadata": {},
   "source": [
    "###### -l, --paginate\n",
    "    pass output through `pr' to paginate it"
   ]
  },
  {
   "cell_type": "markdown",
   "metadata": {},
   "source": [
    "###### -r, --recursive\n",
    "    recursively compare any subdirectories found"
   ]
  },
  {
   "cell_type": "markdown",
   "metadata": {},
   "source": [
    "###### -N, --new-file\n",
    "    treat absent files as empty"
   ]
  },
  {
   "cell_type": "markdown",
   "metadata": {},
   "source": [
    "###### --unidirectional-new-file\n",
    "    treat absent first files as empty"
   ]
  },
  {
   "cell_type": "markdown",
   "metadata": {},
   "source": [
    "###### --ignore-file-name-case\n",
    "    ignore case when comparing file names"
   ]
  },
  {
   "cell_type": "markdown",
   "metadata": {},
   "source": [
    "###### --no-ignore-file-name-case\n",
    "    consider case when comparing file names"
   ]
  },
  {
   "cell_type": "markdown",
   "metadata": {},
   "source": [
    "###### -x, --exclude=PAT\n",
    "    exclude files that match PAT"
   ]
  },
  {
   "cell_type": "markdown",
   "metadata": {},
   "source": [
    "###### -X, --exclude-from=FILE\n",
    "    exclude files that match any pattern in FILE"
   ]
  },
  {
   "cell_type": "markdown",
   "metadata": {},
   "source": [
    "###### -S, --starting-file=FILE\n",
    "    start with FILE when comparing directories"
   ]
  },
  {
   "cell_type": "markdown",
   "metadata": {},
   "source": [
    "###### --from-file=FILE1\n",
    "    compare FILE1 to all operands; FILE1 can be a directory"
   ]
  },
  {
   "cell_type": "markdown",
   "metadata": {},
   "source": [
    "###### -i, --ignore-case\n",
    "    ignore case differences in file contents"
   ]
  },
  {
   "cell_type": "markdown",
   "metadata": {},
   "source": [
    "###### -E, --ignore-tab-expansion\n",
    "    ignore changes due to tab expansion"
   ]
  },
  {
   "cell_type": "markdown",
   "metadata": {},
   "source": [
    "###### -Z, --ignore-trailing-space\n",
    "    ignore white space at line end"
   ]
  },
  {
   "cell_type": "markdown",
   "metadata": {},
   "source": [
    "###### -b, --ignore-space-change\n",
    "    ignore changes in the amount of white space"
   ]
  },
  {
   "cell_type": "markdown",
   "metadata": {},
   "source": [
    "###### -w, --ignore-all-space\n",
    "    ignore all white space"
   ]
  },
  {
   "cell_type": "markdown",
   "metadata": {},
   "source": [
    "###### -B, --ignore-blank-lines\n",
    "    ignore changes whose lines are all blank"
   ]
  },
  {
   "cell_type": "markdown",
   "metadata": {},
   "source": [
    "###### -I, --ignore-matching-lines=RE\n",
    "    ignore changes whose lines all match RE"
   ]
  },
  {
   "cell_type": "markdown",
   "metadata": {},
   "source": [
    "###### -a, --text\n",
    "    treat all files as text"
   ]
  },
  {
   "cell_type": "markdown",
   "metadata": {},
   "source": [
    "###### --strip-trailing-cr\n",
    "    strip trailing carriage return on input"
   ]
  },
  {
   "cell_type": "markdown",
   "metadata": {},
   "source": [
    "###### -D, --ifdef=NAME\n",
    "    output merged file with `#ifdef NAME' diffs"
   ]
  },
  {
   "cell_type": "markdown",
   "metadata": {},
   "source": [
    "###### --GTYPE-group-format=GFMT\n",
    "    format GTYPE input groups with GFMT"
   ]
  },
  {
   "cell_type": "markdown",
   "metadata": {},
   "source": [
    "###### --line-format=LFMT\n",
    "    format all input lines with LFMT"
   ]
  },
  {
   "cell_type": "code",
   "execution_count": null,
   "metadata": {
    "collapsed": true
   },
   "outputs": [],
   "source": []
  }
 ],
 "metadata": {
  "kernelspec": {
   "display_name": "Bash",
   "language": "bash",
   "name": "bash"
  },
  "language_info": {
   "codemirror_mode": "shell",
   "file_extension": ".sh",
   "mimetype": "text/x-sh",
   "name": "bash"
  }
 },
 "nbformat": 4,
 "nbformat_minor": 0
}
