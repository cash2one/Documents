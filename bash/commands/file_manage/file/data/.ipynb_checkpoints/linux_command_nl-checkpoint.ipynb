{
 "cells": [
  {
   "cell_type": "markdown",
   "metadata": {},
   "source": [
    "#### NAME\n",
    "    nl - number lines of files\n",
    "#### SYNOPSIS\n",
    "    nl [OPTION]... [FILE]...\n",
    "#### DESCRIPTION\n",
    "    Write each FILE to standard output, with line numbers added.  \n",
    "    With no FILE, or when FILE is -, read standard input."
   ]
  },
  {
   "cell_type": "markdown",
   "metadata": {},
   "source": [
    "#### OPTIONS\n",
    "###### defaut"
   ]
  },
  {
   "cell_type": "markdown",
   "metadata": {},
   "source": [
    "The default options:  \n",
    "-v1   \n",
    "-i1   \n",
    "-l1   \n",
    "-sTAB   \n",
    "-w6   \n",
    "-nrn   \n",
    "-hn   \n",
    "-bt   \n",
    "-fn  "
   ]
  },
  {
   "cell_type": "code",
   "execution_count": 1,
   "metadata": {
    "collapsed": false
   },
   "outputs": [
    {
     "name": "stdout",
     "output_type": "stream",
     "text": [
      "175.25.18.153  192.168.1.1\r\n",
      "175.25.18.154  192.168.1.2\r\n",
      "175.25.18.155  192.168.1.3\r\n",
      "175.25.18.156  192.168.1.4\r\n",
      "175.25.18.157  192.168.1.5\r\n",
      "175.25.18.158  192.168.1.6\r\n",
      "175.25.18.159  192.168.1.7\r\n",
      "175.25.18.160  192.168.1.8\r\n",
      "175.25.18.161  192.168.1.9\r\n",
      "175.25.18.162  192.168.1.10\r\n",
      "175.25.18.163  192.168.1.11\r\n",
      "175.25.18.164  192.168.1.12\r\n"
     ]
    }
   ],
   "source": [
    "# Just watch the contents of file,\n",
    "# with line numbers added.\n",
    "cat master.ip"
   ]
  },
  {
   "cell_type": "code",
   "execution_count": 2,
   "metadata": {
    "collapsed": false
   },
   "outputs": [
    {
     "name": "stdout",
     "output_type": "stream",
     "text": [
      "     1\t175.25.18.153  192.168.1.1\r\n",
      "     2\t175.25.18.154  192.168.1.2\r\n",
      "     3\t175.25.18.155  192.168.1.3\r\n",
      "     4\t175.25.18.156  192.168.1.4\r\n",
      "     5\t175.25.18.157  192.168.1.5\r\n",
      "     6\t175.25.18.158  192.168.1.6\r\n",
      "     7\t175.25.18.159  192.168.1.7\r\n",
      "     8\t175.25.18.160  192.168.1.8\r\n",
      "     9\t175.25.18.161  192.168.1.9\r\n",
      "    10\t175.25.18.162  192.168.1.10\r\n",
      "    11\t175.25.18.163  192.168.1.11\r\n",
      "    12\t175.25.18.164  192.168.1.12\r\n"
     ]
    }
   ],
   "source": [
    "nl master.ip"
   ]
  },
  {
   "cell_type": "markdown",
   "metadata": {},
   "source": [
    "###### -b, --body-numbering=STYLE\n",
    "    use STYLE for numbering body lines\n",
    "    \n",
    "    STYLE is one of: \n",
    "    a      number all lines\n",
    "    t      number only nonempty lines\n",
    "    n      number no lines\n",
    "    pBRE   number only lines that contain a match for the basic regular expression, BRE"
   ]
  },
  {
   "cell_type": "code",
   "execution_count": 4,
   "metadata": {
    "collapsed": false
   },
   "outputs": [
    {
     "name": "stdout",
     "output_type": "stream",
     "text": [
      "     1\t175.25.18.153  192.168.1.1\r\n",
      "     2\t175.25.18.154  192.168.1.2\r\n",
      "     3\t175.25.18.155  192.168.1.3\r\n",
      "       \r\n",
      "     4\t175.25.18.156  192.168.1.4\r\n",
      "     5\t175.25.18.157  192.168.1.5\r\n",
      "     6\t175.25.18.158  192.168.1.6\r\n",
      "       \r\n",
      "     7\t175.25.18.159  192.168.1.7\r\n",
      "     8\t175.25.18.160  192.168.1.8\r\n",
      "     9\t175.25.18.161  192.168.1.9\r\n",
      "       \r\n",
      "    10\t175.25.18.162  192.168.1.10\r\n",
      "    11\t175.25.18.163  192.168.1.11\r\n",
      "    12\t175.25.18.164  192.168.1.12\r\n"
     ]
    }
   ],
   "source": [
    "nl master.ip"
   ]
  },
  {
   "cell_type": "code",
   "execution_count": 5,
   "metadata": {
    "collapsed": false
   },
   "outputs": [
    {
     "name": "stdout",
     "output_type": "stream",
     "text": [
      "     1\t175.25.18.153  192.168.1.1\r\n",
      "     2\t175.25.18.154  192.168.1.2\r\n",
      "     3\t175.25.18.155  192.168.1.3\r\n",
      "     4\t\r\n",
      "     5\t175.25.18.156  192.168.1.4\r\n",
      "     6\t175.25.18.157  192.168.1.5\r\n",
      "     7\t175.25.18.158  192.168.1.6\r\n",
      "     8\t\r\n",
      "     9\t175.25.18.159  192.168.1.7\r\n",
      "    10\t175.25.18.160  192.168.1.8\r\n",
      "    11\t175.25.18.161  192.168.1.9\r\n",
      "    12\t\r\n",
      "    13\t175.25.18.162  192.168.1.10\r\n",
      "    14\t175.25.18.163  192.168.1.11\r\n",
      "    15\t175.25.18.164  192.168.1.12\r\n"
     ]
    }
   ],
   "source": [
    "# -ba:number all lines\n",
    "# this is equal to 'cat -n'\n",
    "nl -ba master.ip"
   ]
  },
  {
   "cell_type": "code",
   "execution_count": 1,
   "metadata": {
    "collapsed": false
   },
   "outputs": [
    {
     "name": "stdout",
     "output_type": "stream",
     "text": [
      "     1\t175.25.18.153  192.168.1.1\r\n",
      "     2\t175.25.18.154  192.168.1.2\r\n",
      "     3\t175.25.18.155  192.168.1.3\r\n",
      "     4\t\r\n",
      "     5\t175.25.18.156  192.168.1.4\r\n",
      "     6\t175.25.18.157  192.168.1.5\r\n",
      "     7\t175.25.18.158  192.168.1.6\r\n",
      "     8\t\r\n",
      "     9\t175.25.18.159  192.168.1.7\r\n",
      "    10\t175.25.18.160  192.168.1.8\r\n",
      "    11\t175.25.18.161  192.168.1.9\r\n",
      "    12\t\r\n",
      "    13\t175.25.18.162  192.168.1.10\r\n",
      "    14\t175.25.18.163  192.168.1.11\r\n",
      "    15\t175.25.18.164  192.168.1.12\r\n"
     ]
    }
   ],
   "source": [
    "cat -n master.ip"
   ]
  },
  {
   "cell_type": "code",
   "execution_count": 6,
   "metadata": {
    "collapsed": false
   },
   "outputs": [
    {
     "name": "stdout",
     "output_type": "stream",
     "text": [
      "     1\t175.25.18.153  192.168.1.1\r\n",
      "     2\t175.25.18.154  192.168.1.2\r\n",
      "     3\t175.25.18.155  192.168.1.3\r\n",
      "       \r\n",
      "     4\t175.25.18.156  192.168.1.4\r\n",
      "     5\t175.25.18.157  192.168.1.5\r\n",
      "     6\t175.25.18.158  192.168.1.6\r\n",
      "       \r\n",
      "     7\t175.25.18.159  192.168.1.7\r\n",
      "     8\t175.25.18.160  192.168.1.8\r\n",
      "     9\t175.25.18.161  192.168.1.9\r\n",
      "       \r\n",
      "    10\t175.25.18.162  192.168.1.10\r\n",
      "    11\t175.25.18.163  192.168.1.11\r\n",
      "    12\t175.25.18.164  192.168.1.12\r\n"
     ]
    }
   ],
   "source": [
    "# -bt(default):number only nonempty lines\n",
    "# this is equal to 'cat -b'\n",
    "nl -bt master.ip"
   ]
  },
  {
   "cell_type": "code",
   "execution_count": 2,
   "metadata": {
    "collapsed": false
   },
   "outputs": [
    {
     "name": "stdout",
     "output_type": "stream",
     "text": [
      "     1\t175.25.18.153  192.168.1.1\r\n",
      "     2\t175.25.18.154  192.168.1.2\r\n",
      "     3\t175.25.18.155  192.168.1.3\r\n",
      "\r\n",
      "     4\t175.25.18.156  192.168.1.4\r\n",
      "     5\t175.25.18.157  192.168.1.5\r\n",
      "     6\t175.25.18.158  192.168.1.6\r\n",
      "\r\n",
      "     7\t175.25.18.159  192.168.1.7\r\n",
      "     8\t175.25.18.160  192.168.1.8\r\n",
      "     9\t175.25.18.161  192.168.1.9\r\n",
      "\r\n",
      "    10\t175.25.18.162  192.168.1.10\r\n",
      "    11\t175.25.18.163  192.168.1.11\r\n",
      "    12\t175.25.18.164  192.168.1.12\r\n"
     ]
    }
   ],
   "source": [
    "cat -b master.ip"
   ]
  },
  {
   "cell_type": "code",
   "execution_count": 7,
   "metadata": {
    "collapsed": false
   },
   "outputs": [
    {
     "name": "stdout",
     "output_type": "stream",
     "text": [
      "       175.25.18.153  192.168.1.1\r\n",
      "       175.25.18.154  192.168.1.2\r\n",
      "       175.25.18.155  192.168.1.3\r\n",
      "       \r\n",
      "       175.25.18.156  192.168.1.4\r\n",
      "       175.25.18.157  192.168.1.5\r\n",
      "       175.25.18.158  192.168.1.6\r\n",
      "       \r\n",
      "       175.25.18.159  192.168.1.7\r\n",
      "       175.25.18.160  192.168.1.8\r\n",
      "       175.25.18.161  192.168.1.9\r\n",
      "       \r\n",
      "       175.25.18.162  192.168.1.10\r\n",
      "       175.25.18.163  192.168.1.11\r\n",
      "       175.25.18.164  192.168.1.12\r\n"
     ]
    }
   ],
   "source": [
    "# -bn:number no lines\n",
    "nl -bn master.ip"
   ]
  },
  {
   "cell_type": "code",
   "execution_count": 9,
   "metadata": {
    "collapsed": false
   },
   "outputs": [
    {
     "name": "stdout",
     "output_type": "stream",
     "text": [
      "       175.25.18.153  192.168.1.1\r\n",
      "       175.25.18.154  192.168.1.2\r\n",
      "       175.25.18.155  192.168.1.3\r\n",
      "       \r\n",
      "       175.25.18.156  192.168.1.4\r\n",
      "       175.25.18.157  192.168.1.5\r\n",
      "       175.25.18.158  192.168.1.6\r\n",
      "       \r\n",
      "     1\t175.25.18.159  192.168.1.7\r\n",
      "     2\t175.25.18.160  192.168.1.8\r\n",
      "     3\t175.25.18.161  192.168.1.9\r\n",
      "       \r\n",
      "       175.25.18.162  192.168.1.10\r\n",
      "       175.25.18.163  192.168.1.11\r\n",
      "       175.25.18.164  192.168.1.12\r\n"
     ]
    }
   ],
   "source": [
    "# -bpBRE:\n",
    "# number only lines that contain a match for the basic regular expression, BRE\n",
    "nl -bp'[\\.789]$' master.ip"
   ]
  },
  {
   "cell_type": "code",
   "execution_count": 10,
   "metadata": {
    "collapsed": false
   },
   "outputs": [
    {
     "name": "stdout",
     "output_type": "stream",
     "text": [
      "       175.25.18.153  192.168.1.1\r\n",
      "       175.25.18.154  192.168.1.2\r\n",
      "       175.25.18.155  192.168.1.3\r\n",
      "     1\t\r\n",
      "       175.25.18.156  192.168.1.4\r\n",
      "       175.25.18.157  192.168.1.5\r\n",
      "       175.25.18.158  192.168.1.6\r\n",
      "     2\t\r\n",
      "       175.25.18.159  192.168.1.7\r\n",
      "       175.25.18.160  192.168.1.8\r\n",
      "       175.25.18.161  192.168.1.9\r\n",
      "     3\t\r\n",
      "       175.25.18.162  192.168.1.10\r\n",
      "       175.25.18.163  192.168.1.11\r\n",
      "       175.25.18.164  192.168.1.12\r\n"
     ]
    }
   ],
   "source": [
    "# space lines\n",
    "nl -bp'^$' master.ip"
   ]
  },
  {
   "cell_type": "markdown",
   "metadata": {},
   "source": [
    "###### -f, --footer-numbering=STYLE\n",
    "    use STYLE for numbering footer lines"
   ]
  },
  {
   "cell_type": "markdown",
   "metadata": {},
   "source": [
    "###### -h, --header-numbering=STYLE\n",
    "    use STYLE for numbering header lines"
   ]
  },
  {
   "cell_type": "markdown",
   "metadata": {},
   "source": [
    "###### -d, --section-delimiter=CC\n",
    "    use CC for separating logical pages\n",
    "    \n",
    "    CC are two delimiter characters for separating logical pages,\n",
    "    a missing second character implies :.  Type \\\\ for \\."
   ]
  },
  {
   "cell_type": "markdown",
   "metadata": {},
   "source": [
    "###### -i, --line-increment=NUMBER\n",
    "    line number increment at each line\n",
    "    NUMBER must  be a positive integer."
   ]
  },
  {
   "cell_type": "code",
   "execution_count": 12,
   "metadata": {
    "collapsed": false
   },
   "outputs": [
    {
     "name": "stdout",
     "output_type": "stream",
     "text": [
      "     1\t175.25.18.153  192.168.1.1\r\n",
      "     2\t175.25.18.154  192.168.1.2\r\n",
      "     3\t175.25.18.155  192.168.1.3\r\n",
      "     4\t175.25.18.156  192.168.1.4\r\n",
      "     5\t175.25.18.157  192.168.1.5\r\n",
      "     6\t175.25.18.158  192.168.1.6\r\n",
      "     7\t175.25.18.159  192.168.1.7\r\n",
      "     8\t175.25.18.160  192.168.1.8\r\n",
      "     9\t175.25.18.161  192.168.1.9\r\n",
      "    10\t175.25.18.162  192.168.1.10\r\n",
      "    11\t175.25.18.163  192.168.1.11\r\n",
      "    12\t175.25.18.164  192.168.1.12\r\n"
     ]
    }
   ],
   "source": [
    "nl master.ip"
   ]
  },
  {
   "cell_type": "code",
   "execution_count": 13,
   "metadata": {
    "collapsed": false
   },
   "outputs": [
    {
     "name": "stdout",
     "output_type": "stream",
     "text": [
      "     1\t175.25.18.153  192.168.1.1\r\n",
      "     3\t175.25.18.154  192.168.1.2\r\n",
      "     5\t175.25.18.155  192.168.1.3\r\n",
      "     7\t175.25.18.156  192.168.1.4\r\n",
      "     9\t175.25.18.157  192.168.1.5\r\n",
      "    11\t175.25.18.158  192.168.1.6\r\n",
      "    13\t175.25.18.159  192.168.1.7\r\n",
      "    15\t175.25.18.160  192.168.1.8\r\n",
      "    17\t175.25.18.161  192.168.1.9\r\n",
      "    19\t175.25.18.162  192.168.1.10\r\n",
      "    21\t175.25.18.163  192.168.1.11\r\n",
      "    23\t175.25.18.164  192.168.1.12\r\n"
     ]
    }
   ],
   "source": [
    "nl -i2 master.ip"
   ]
  },
  {
   "cell_type": "markdown",
   "metadata": {},
   "source": [
    "Is it possible to set line-increment in awk to a float number"
   ]
  },
  {
   "cell_type": "code",
   "execution_count": 14,
   "metadata": {
    "collapsed": false
   },
   "outputs": [
    {
     "name": "stdout",
     "output_type": "stream",
     "text": [
      "1 175.25.18.153  192.168.1.1\r\n",
      "1.1 175.25.18.154  192.168.1.2\r\n",
      "1.2 175.25.18.155  192.168.1.3\r\n",
      "1.3 175.25.18.156  192.168.1.4\r\n",
      "1.4 175.25.18.157  192.168.1.5\r\n",
      "1.5 175.25.18.158  192.168.1.6\r\n",
      "1.6 175.25.18.159  192.168.1.7\r\n",
      "1.7 175.25.18.160  192.168.1.8\r\n",
      "1.8 175.25.18.161  192.168.1.9\r\n",
      "1.9 175.25.18.162  192.168.1.10\r\n",
      "2 175.25.18.163  192.168.1.11\r\n",
      "2.1 175.25.18.164  192.168.1.12\r\n"
     ]
    }
   ],
   "source": [
    "# A little flaw:\n",
    "# print '1' instead of '1.0'\n",
    "awk '{print 0.9+(x=x+.1) FS $0}' master.ip"
   ]
  },
  {
   "cell_type": "code",
   "execution_count": 16,
   "metadata": {
    "collapsed": false
   },
   "outputs": [
    {
     "name": "stdout",
     "output_type": "stream",
     "text": [
      "1.0    175.25.18.153  192.168.1.1\r\n",
      "1.1    175.25.18.154  192.168.1.2\r\n",
      "1.2    175.25.18.155  192.168.1.3\r\n",
      "1.3    175.25.18.156  192.168.1.4\r\n",
      "1.4    175.25.18.157  192.168.1.5\r\n",
      "1.5    175.25.18.158  192.168.1.6\r\n",
      "1.6    175.25.18.159  192.168.1.7\r\n",
      "1.7    175.25.18.160  192.168.1.8\r\n",
      "1.8    175.25.18.161  192.168.1.9\r\n",
      "1.9    175.25.18.162  192.168.1.10\r\n",
      "2.0    175.25.18.163  192.168.1.11\r\n",
      "2.1    175.25.18.164  192.168.1.12\r\n"
     ]
    }
   ],
   "source": [
    "# Modify the above flaw:\n",
    "# up to 99999 lines, for more add higher number in printf\n",
    "awk '{printf \"%-7.1f%s\\n\",0.9+(x=x+.1),$0}' master.ip"
   ]
  },
  {
   "cell_type": "markdown",
   "metadata": {},
   "source": [
    "###### -l, --join-blank-lines=NUMBER\n",
    "    group of NUMBER empty lines counted as one"
   ]
  },
  {
   "cell_type": "markdown",
   "metadata": {},
   "source": [
    "###### -v, --starting-line-number=NUMBER\n",
    "    first line number on each logical page"
   ]
  },
  {
   "cell_type": "markdown",
   "metadata": {},
   "source": [
    "###### -w, --number-width=NUMBER\n",
    "    use NUMBER columns for line numbers"
   ]
  },
  {
   "cell_type": "code",
   "execution_count": 18,
   "metadata": {
    "collapsed": false
   },
   "outputs": [
    {
     "name": "stdout",
     "output_type": "stream",
     "text": [
      "     1\t175.25.18.153  192.168.1.1\r\n",
      "     2\t175.25.18.154  192.168.1.2\r\n",
      "     3\t175.25.18.155  192.168.1.3\r\n",
      "     4\t175.25.18.156  192.168.1.4\r\n",
      "     5\t175.25.18.157  192.168.1.5\r\n",
      "     6\t175.25.18.158  192.168.1.6\r\n",
      "     7\t175.25.18.159  192.168.1.7\r\n",
      "     8\t175.25.18.160  192.168.1.8\r\n",
      "     9\t175.25.18.161  192.168.1.9\r\n",
      "    10\t175.25.18.162  192.168.1.10\r\n",
      "    11\t175.25.18.163  192.168.1.11\r\n",
      "    12\t175.25.18.164  192.168.1.12\r\n"
     ]
    }
   ],
   "source": [
    "# -w6 is the default\n",
    "nl master.ip"
   ]
  },
  {
   "cell_type": "code",
   "execution_count": 19,
   "metadata": {
    "collapsed": false
   },
   "outputs": [
    {
     "name": "stdout",
     "output_type": "stream",
     "text": [
      "1\t175.25.18.153  192.168.1.1\r\n",
      "2\t175.25.18.154  192.168.1.2\r\n",
      "3\t175.25.18.155  192.168.1.3\r\n",
      "4\t175.25.18.156  192.168.1.4\r\n",
      "5\t175.25.18.157  192.168.1.5\r\n",
      "6\t175.25.18.158  192.168.1.6\r\n",
      "7\t175.25.18.159  192.168.1.7\r\n",
      "8\t175.25.18.160  192.168.1.8\r\n",
      "9\t175.25.18.161  192.168.1.9\r\n",
      "10\t175.25.18.162  192.168.1.10\r\n",
      "11\t175.25.18.163  192.168.1.11\r\n",
      "12\t175.25.18.164  192.168.1.12\r\n"
     ]
    }
   ],
   "source": [
    "# -w1\n",
    "# equal to -nln\n",
    "nl -w1 master.ip"
   ]
  },
  {
   "cell_type": "markdown",
   "metadata": {},
   "source": [
    "###### -n, --number-format=FORMAT\n",
    "    insert line numbers according to FORMAT\n",
    "    \n",
    "    FORMAT is one of:\n",
    "    ln     left justified, no leading zeros\n",
    "    rn     right justified, no leading zeros\n",
    "    rz     right justified, leading zeros"
   ]
  },
  {
   "cell_type": "code",
   "execution_count": 20,
   "metadata": {
    "collapsed": false
   },
   "outputs": [
    {
     "name": "stdout",
     "output_type": "stream",
     "text": [
      "1     \t175.25.18.153  192.168.1.1\r\n",
      "2     \t175.25.18.154  192.168.1.2\r\n",
      "3     \t175.25.18.155  192.168.1.3\r\n",
      "4     \t175.25.18.156  192.168.1.4\r\n",
      "5     \t175.25.18.157  192.168.1.5\r\n",
      "6     \t175.25.18.158  192.168.1.6\r\n",
      "7     \t175.25.18.159  192.168.1.7\r\n",
      "8     \t175.25.18.160  192.168.1.8\r\n",
      "9     \t175.25.18.161  192.168.1.9\r\n",
      "10    \t175.25.18.162  192.168.1.10\r\n",
      "11    \t175.25.18.163  192.168.1.11\r\n",
      "12    \t175.25.18.164  192.168.1.12\r\n"
     ]
    }
   ],
   "source": [
    "# -nln\n",
    "# this is equal to -w1\n",
    "nl -nln master.ip"
   ]
  },
  {
   "cell_type": "code",
   "execution_count": 21,
   "metadata": {
    "collapsed": false
   },
   "outputs": [
    {
     "name": "stdout",
     "output_type": "stream",
     "text": [
      "     1\t175.25.18.153  192.168.1.1\r\n",
      "     2\t175.25.18.154  192.168.1.2\r\n",
      "     3\t175.25.18.155  192.168.1.3\r\n",
      "     4\t175.25.18.156  192.168.1.4\r\n",
      "     5\t175.25.18.157  192.168.1.5\r\n",
      "     6\t175.25.18.158  192.168.1.6\r\n",
      "     7\t175.25.18.159  192.168.1.7\r\n",
      "     8\t175.25.18.160  192.168.1.8\r\n",
      "     9\t175.25.18.161  192.168.1.9\r\n",
      "    10\t175.25.18.162  192.168.1.10\r\n",
      "    11\t175.25.18.163  192.168.1.11\r\n",
      "    12\t175.25.18.164  192.168.1.12\r\n"
     ]
    }
   ],
   "source": [
    "# -nrn\n",
    "# this is equal to -w6,the nl command defaultly\n",
    "nl -nrn master.ip"
   ]
  },
  {
   "cell_type": "code",
   "execution_count": 22,
   "metadata": {
    "collapsed": false
   },
   "outputs": [
    {
     "name": "stdout",
     "output_type": "stream",
     "text": [
      "000001\t175.25.18.153  192.168.1.1\r\n",
      "000002\t175.25.18.154  192.168.1.2\r\n",
      "000003\t175.25.18.155  192.168.1.3\r\n",
      "000004\t175.25.18.156  192.168.1.4\r\n",
      "000005\t175.25.18.157  192.168.1.5\r\n",
      "000006\t175.25.18.158  192.168.1.6\r\n",
      "000007\t175.25.18.159  192.168.1.7\r\n",
      "000008\t175.25.18.160  192.168.1.8\r\n",
      "000009\t175.25.18.161  192.168.1.9\r\n",
      "000010\t175.25.18.162  192.168.1.10\r\n",
      "000011\t175.25.18.163  192.168.1.11\r\n",
      "000012\t175.25.18.164  192.168.1.12\r\n"
     ]
    }
   ],
   "source": [
    "# -nrz\n",
    "nl -nrz master.ip"
   ]
  },
  {
   "cell_type": "markdown",
   "metadata": {},
   "source": [
    "###### -p, --no-renumber\n",
    "    do not reset line numbers at logical pages"
   ]
  },
  {
   "cell_type": "markdown",
   "metadata": {},
   "source": [
    "###### -s, --number-separator=STRING\n",
    "    add STRING after (possible) line number"
   ]
  },
  {
   "cell_type": "code",
   "execution_count": 23,
   "metadata": {
    "collapsed": false
   },
   "outputs": [
    {
     "name": "stdout",
     "output_type": "stream",
     "text": [
      "     1.1   175.25.18.153  192.168.1.1\r\n",
      "     2.1   175.25.18.154  192.168.1.2\r\n",
      "     3.1   175.25.18.155  192.168.1.3\r\n",
      "     4.1   175.25.18.156  192.168.1.4\r\n",
      "     5.1   175.25.18.157  192.168.1.5\r\n",
      "     6.1   175.25.18.158  192.168.1.6\r\n",
      "     7.1   175.25.18.159  192.168.1.7\r\n",
      "     8.1   175.25.18.160  192.168.1.8\r\n",
      "     9.1   175.25.18.161  192.168.1.9\r\n",
      "    10.1   175.25.18.162  192.168.1.10\r\n",
      "    11.1   175.25.18.163  192.168.1.11\r\n",
      "    12.1   175.25.18.164  192.168.1.12\r\n"
     ]
    }
   ],
   "source": [
    "nl  -s'.1   ' master.ip"
   ]
  },
  {
   "cell_type": "code",
   "execution_count": 24,
   "metadata": {
    "collapsed": false
   },
   "outputs": [
    {
     "name": "stdout",
     "output_type": "stream",
     "text": [
      "     1.1   175.25.18.153  192.168.1.1\r\n",
      "     3.1   175.25.18.154  192.168.1.2\r\n",
      "     5.1   175.25.18.155  192.168.1.3\r\n",
      "     7.1   175.25.18.156  192.168.1.4\r\n",
      "     9.1   175.25.18.157  192.168.1.5\r\n",
      "    11.1   175.25.18.158  192.168.1.6\r\n",
      "    13.1   175.25.18.159  192.168.1.7\r\n",
      "    15.1   175.25.18.160  192.168.1.8\r\n",
      "    17.1   175.25.18.161  192.168.1.9\r\n",
      "    19.1   175.25.18.162  192.168.1.10\r\n",
      "    21.1   175.25.18.163  192.168.1.11\r\n",
      "    23.1   175.25.18.164  192.168.1.12\r\n"
     ]
    }
   ],
   "source": [
    "nl -i2  -s'.1   ' master.ip"
   ]
  }
 ],
 "metadata": {
  "kernelspec": {
   "display_name": "Bash",
   "language": "bash",
   "name": "bash"
  },
  "language_info": {
   "codemirror_mode": "shell",
   "file_extension": ".sh",
   "mimetype": "text/x-sh",
   "name": "bash"
  }
 },
 "nbformat": 4,
 "nbformat_minor": 0
}
