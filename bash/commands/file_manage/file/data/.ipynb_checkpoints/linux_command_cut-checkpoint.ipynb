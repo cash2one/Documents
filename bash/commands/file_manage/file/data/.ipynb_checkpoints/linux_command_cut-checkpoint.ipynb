{
 "cells": [
  {
   "cell_type": "markdown",
   "metadata": {},
   "source": [
    "###### NAME\n",
    "    cut - remove sections from each line of files\n",
    "###### SYNOPSIS\n",
    "    cut OPTION... [FILE]...\n",
    "###### DESCRIPTION\n",
    "    Print selected parts of lines from each FILE to standard output."
   ]
  },
  {
   "cell_type": "markdown",
   "metadata": {},
   "source": [
    "Instance file：part of the content of the /etc/passwd"
   ]
  },
  {
   "cell_type": "code",
   "execution_count": 1,
   "metadata": {
    "collapsed": false
   },
   "outputs": [
    {
     "name": "stdout",
     "output_type": "stream",
     "text": [
      "root:x:0:0:root:/root:/bin/bash\r\n",
      "halt:x:7:0:halt:/sbin:/sbin/halt\r\n",
      "mail:x:8:12:mail:/var/spool/mail:/sbin/nologin\r\n",
      "uucp:x:10:14:uucp:/var/spool/uucp:/sbin/nologin\r\n",
      "dbus:x:81:81:System message bus:/:/sbin/nologin\r\n",
      "vcsa:x:69:69:virtual console memory owner:/dev:/sbin/nologin\r\n",
      "sshd:x:74:74:Privilege-separated SSH:/var/empty/sshd:/sbin/nologin\r\n"
     ]
    }
   ],
   "source": [
    "cat passwd"
   ]
  },
  {
   "cell_type": "markdown",
   "metadata": {},
   "source": [
    "#### OPTIONS"
   ]
  },
  {
   "cell_type": "markdown",
   "metadata": {},
   "source": [
    "###### -b, --bytes=LIST\n",
    "    select only these bytes"
   ]
  },
  {
   "cell_type": "markdown",
   "metadata": {},
   "source": [
    "LIST  \n",
    "Use one, and only one of -b, -c or -f.  \n",
    "Each LIST is made up of one range, or many ranges separated by commas.  \n",
    "Selected input is written in the same order that it is read, and is written exactly once.  \n",
    "Each range is one of:\n",
    "###### N      \n",
    "    N’th byte, character or field, counted from 1\n",
    "###### N-     \n",
    "    from N’th byte, character or field, to end of line\n",
    "###### N-M    \n",
    "    from N’th to M’th (included) byte, character or field\n",
    "###### -M     \n",
    "    from first to M’th (included) byte, character or field"
   ]
  },
  {
   "cell_type": "code",
   "execution_count": 2,
   "metadata": {
    "collapsed": false
   },
   "outputs": [
    {
     "name": "stdout",
     "output_type": "stream",
     "text": [
      "o\r\n",
      "a\r\n",
      "a\r\n",
      "u\r\n",
      "b\r\n",
      "c\r\n",
      "s\r\n"
     ]
    }
   ],
   "source": [
    "# Get second byte per line in the passswd file.\n",
    "cut -b2 passwd"
   ]
  },
  {
   "cell_type": "code",
   "execution_count": 6,
   "metadata": {
    "collapsed": false
   },
   "outputs": [
    {
     "name": "stdout",
     "output_type": "stream",
     "text": [
      "0:0:root:/root:/bin/bash\r\n",
      "7:0:halt:/sbin:/sbin/halt\r\n",
      "8:2:mail:/var/spool/mail:/sbin/nologin\r\n",
      "1:4:uucp:/var/spool/uucp:/sbin/nologin\r\n",
      "8:1:System message bus:/:/sbin/nologin\r\n",
      "6:9:virtual console memory owner:/dev:/sbin/nologin\r\n",
      "7:4:Privilege-separated SSH:/var/empty/sshd:/sbin/nologin\r\n"
     ]
    }
   ],
   "source": [
    "# Get bytes from 8 to the end of line per line.\n",
    "cut -b8- passwd"
   ]
  },
  {
   "cell_type": "code",
   "execution_count": 7,
   "metadata": {
    "collapsed": false,
    "scrolled": true
   },
   "outputs": [
    {
     "name": "stdout",
     "output_type": "stream",
     "text": [
      ":x:0:0:\r\n",
      ":x:7:0:\r\n",
      ":x:8:2:\r\n",
      ":x:1:4:\r\n",
      ":x:8:1:\r\n",
      ":x:6:9:\r\n",
      ":x:7:4:\r\n"
     ]
    }
   ],
   "source": [
    "# Get bytes from 5 to 7 per line\n",
    "cut -b5-11 passwd"
   ]
  },
  {
   "cell_type": "code",
   "execution_count": 8,
   "metadata": {
    "collapsed": false
   },
   "outputs": [
    {
     "name": "stdout",
     "output_type": "stream",
     "text": [
      "root:x:\r\n",
      "halt:x:\r\n",
      "mail:x:\r\n",
      "uucp:x:\r\n",
      "dbus:x:\r\n",
      "vcsa:x:\r\n",
      "sshd:x:\r\n"
     ]
    }
   ],
   "source": [
    "# Get bytes from the start of line to 7 per line.\n",
    "cut -b-7 passwd"
   ]
  },
  {
   "cell_type": "code",
   "execution_count": 11,
   "metadata": {
    "collapsed": false
   },
   "outputs": [
    {
     "name": "stdout",
     "output_type": "stream",
     "text": [
      "rootx0:0\r\n",
      "haltx7:0\r\n",
      "mailx8:2\r\n",
      "uucpx1:4\r\n",
      "dbusx8:1\r\n",
      "vcsax6:9\r\n",
      "sshdx7:4\r\n"
     ]
    }
   ],
   "source": [
    "# combination\n",
    "cut -b-4,6,8-10 passwd"
   ]
  },
  {
   "cell_type": "markdown",
   "metadata": {},
   "source": [
    "###### -c, --characters=LIST\n",
    "    select only these characters"
   ]
  },
  {
   "cell_type": "markdown",
   "metadata": {},
   "source": [
    "###### 注意\n",
    "对于单字节字符(如英文字符)，使用-b选项和-c选项无区别"
   ]
  },
  {
   "cell_type": "code",
   "execution_count": 12,
   "metadata": {
    "collapsed": false
   },
   "outputs": [
    {
     "name": "stdout",
     "output_type": "stream",
     "text": [
      "root\r\n",
      "halt\r\n",
      "mail\r\n",
      "uucp\r\n",
      "dbus\r\n",
      "vcsa\r\n",
      "sshd\r\n"
     ]
    }
   ],
   "source": [
    "cut -c1-4 passwd"
   ]
  },
  {
   "cell_type": "markdown",
   "metadata": {},
   "source": [
    "对于多字节字符(如中文字符),-c选项能正常工作"
   ]
  },
  {
   "cell_type": "markdown",
   "metadata": {},
   "source": [
    "Instance file:"
   ]
  },
  {
   "cell_type": "code",
   "execution_count": 13,
   "metadata": {
    "collapsed": false
   },
   "outputs": [
    {
     "name": "stdout",
     "output_type": "stream",
     "text": [
      "2016年 08月 01日 星期一 08:11:32 CST\r\n",
      "2016年 08月 02日 星期二 11:11:11 CST\r\n",
      "2016年 08月 03日 星期三 14:55:30 CST\r\n",
      "2016年 08月 04日 星期四 18:05:09 CST\r\n",
      "2016年 08月 05日 星期五 23:03:35 CST\r\n"
     ]
    }
   ],
   "source": [
    "cat time.txt"
   ]
  },
  {
   "cell_type": "code",
   "execution_count": 14,
   "metadata": {
    "collapsed": false
   },
   "outputs": [
    {
     "name": "stdout",
     "output_type": "stream",
     "text": [
      "年\r\n",
      "年\r\n",
      "年\r\n",
      "年\r\n",
      "年\r\n"
     ]
    }
   ],
   "source": [
    "# with -c option can get correct result.\n",
    "cut -c5 time.txt"
   ]
  },
  {
   "cell_type": "markdown",
   "metadata": {},
   "source": [
    "而-b选项可能会得到正常的结果，但是需要手动计算字符所占字节数"
   ]
  },
  {
   "cell_type": "code",
   "execution_count": 1,
   "metadata": {
    "collapsed": false
   },
   "outputs": [
    {
     "name": "stdout",
     "output_type": "stream",
     "text": [
      "年\r\n",
      "年\r\n",
      "年\r\n",
      "年\r\n",
      "年\r\n"
     ]
    }
   ],
   "source": [
    "cut -b5-7 time.txt"
   ]
  },
  {
   "cell_type": "code",
   "execution_count": 2,
   "metadata": {
    "collapsed": false
   },
   "outputs": [
    {
     "name": "stdout",
     "output_type": "stream",
     "text": [
      "星期一 08:11:32 CST\r\n",
      "星期二 11:11:11 CST\r\n",
      "星期三 14:55:30 CST\r\n",
      "星期四 18:05:09 CST\r\n",
      "星期五 23:03:35 CST\r\n"
     ]
    }
   ],
   "source": [
    "# N-\n",
    "cut -c15- time.txt"
   ]
  },
  {
   "cell_type": "code",
   "execution_count": 3,
   "metadata": {
    "collapsed": false
   },
   "outputs": [
    {
     "name": "stdout",
     "output_type": "stream",
     "text": [
      "2016年 08月 01日\r\n",
      "2016年 08月 02日\r\n",
      "2016年 08月 03日\r\n",
      "2016年 08月 04日\r\n",
      "2016年 08月 05日\r\n"
     ]
    }
   ],
   "source": [
    "# -M\n",
    "cut -c-13 time.txt"
   ]
  },
  {
   "cell_type": "code",
   "execution_count": 4,
   "metadata": {
    "collapsed": false
   },
   "outputs": [
    {
     "name": "stdout",
     "output_type": "stream",
     "text": [
      "星期一\r\n",
      "星期二\r\n",
      "星期三\r\n",
      "星期四\r\n",
      "星期五\r\n"
     ]
    }
   ],
   "source": [
    "# M-N\n",
    "cut -c15-17 time.txt"
   ]
  },
  {
   "cell_type": "markdown",
   "metadata": {},
   "source": [
    "###### -n     \n",
    "    with -b: don’t split multibyte characters"
   ]
  },
  {
   "cell_type": "markdown",
   "metadata": {},
   "source": [
    "说明:文件time.txt中,'年'占第5,6,7字节  \n",
    "如果不使用-n选项，则在如下cut操作中出现乱码\n",
    "[liheyi@analysis data]$ cut -b6-10 time.txt  \n",
    "¹  ´   08  \n",
    "¹  ´   08  \n",
    "¹  ´   08  \n",
    "¹  ´   08  \n",
    "¹  ´   08  \n",
    "\n",
    "[liheyi@analysis data]$ cut -b7-10 time.txt  \n",
    "´ 08  \n",
    "´ 08  \n",
    "´ 08  \n",
    "´ 08  \n",
    "´ 08  \n",
    "\n",
    "当然，如果从第5字节开始，则正常工作  \n",
    "[liheyi@analysis data]$ cut -b5-10 time.txt \n",
    "年 08  \n",
    "年 08  \n",
    "年 08  \n",
    "年 08  \n",
    "年 08  \n",
    "\n",
    "但是，如果-b选项结合-n使用，则会避免分割多字节字符  \n",
    "且无论从多字节字符的哪个字节开始，都会正常显示"
   ]
  },
  {
   "cell_type": "code",
   "execution_count": 1,
   "metadata": {
    "collapsed": false
   },
   "outputs": [
    {
     "name": "stdout",
     "output_type": "stream",
     "text": [
      "年 08\r\n",
      "年 08\r\n",
      "年 08\r\n",
      "年 08\r\n",
      "年 08\r\n"
     ]
    }
   ],
   "source": [
    "# 从第5字节开始\n",
    "cut -nb5-10 time.txt"
   ]
  },
  {
   "cell_type": "code",
   "execution_count": 2,
   "metadata": {
    "collapsed": false
   },
   "outputs": [
    {
     "name": "stdout",
     "output_type": "stream",
     "text": [
      "年 08\r\n",
      "年 08\r\n",
      "年 08\r\n",
      "年 08\r\n",
      "年 08\r\n"
     ]
    }
   ],
   "source": [
    "# 从第6字节开始\n",
    "cut -nb6-10 time.txt"
   ]
  },
  {
   "cell_type": "code",
   "execution_count": 3,
   "metadata": {
    "collapsed": false
   },
   "outputs": [
    {
     "name": "stdout",
     "output_type": "stream",
     "text": [
      "年 08\r\n",
      "年 08\r\n",
      "年 08\r\n",
      "年 08\r\n",
      "年 08\r\n"
     ]
    }
   ],
   "source": [
    "# 从第7字节开始\n",
    "cut -nb7-10 time.txt"
   ]
  },
  {
   "cell_type": "markdown",
   "metadata": {},
   "source": [
    "###### -d, --delimiter=DELIM\n",
    "    with -f: use DELIM instead of TAB for field delimiter"
   ]
  },
  {
   "cell_type": "markdown",
   "metadata": {},
   "source": [
    "###### -f, --fields=LIST\n",
    "    select only these fields;  \n",
    "    also print any line that contains no delimiter character, unless the -s option is specified"
   ]
  },
  {
   "cell_type": "code",
   "execution_count": 4,
   "metadata": {
    "collapsed": false
   },
   "outputs": [
    {
     "name": "stdout",
     "output_type": "stream",
     "text": [
      "星期一\r\n",
      "星期二\r\n",
      "星期三\r\n",
      "星期四\r\n",
      "星期五\r\n"
     ]
    }
   ],
   "source": [
    "# N\n",
    "cut -d' ' -f4 time.txt"
   ]
  },
  {
   "cell_type": "code",
   "execution_count": 5,
   "metadata": {
    "collapsed": false
   },
   "outputs": [
    {
     "name": "stdout",
     "output_type": "stream",
     "text": [
      "/bin/bash\r\n",
      "/sbin/halt\r\n",
      "/sbin/nologin\r\n",
      "/sbin/nologin\r\n",
      "/sbin/nologin\r\n",
      "/sbin/nologin\r\n",
      "/sbin/nologin\r\n"
     ]
    }
   ],
   "source": [
    "cut -d: -f7 passwd"
   ]
  },
  {
   "cell_type": "code",
   "execution_count": 6,
   "metadata": {
    "collapsed": false
   },
   "outputs": [
    {
     "name": "stdout",
     "output_type": "stream",
     "text": [
      "星期一 08:11:32 CST\r\n",
      "星期二 11:11:11 CST\r\n",
      "星期三 14:55:30 CST\r\n",
      "星期四 18:05:09 CST\r\n",
      "星期五 23:03:35 CST\r\n"
     ]
    }
   ],
   "source": [
    "# N-\n",
    "cut -d' ' -f4- time.txt"
   ]
  },
  {
   "cell_type": "code",
   "execution_count": 7,
   "metadata": {
    "collapsed": false
   },
   "outputs": [
    {
     "name": "stdout",
     "output_type": "stream",
     "text": [
      "/root:/bin/bash\r\n",
      "/sbin:/sbin/halt\r\n",
      "/var/spool/mail:/sbin/nologin\r\n",
      "/var/spool/uucp:/sbin/nologin\r\n",
      "/:/sbin/nologin\r\n",
      "/dev:/sbin/nologin\r\n",
      "/var/empty/sshd:/sbin/nologin\r\n"
     ]
    }
   ],
   "source": [
    "cut -d: -f6- passwd"
   ]
  },
  {
   "cell_type": "code",
   "execution_count": 8,
   "metadata": {
    "collapsed": false
   },
   "outputs": [
    {
     "name": "stdout",
     "output_type": "stream",
     "text": [
      "2016年 08月 01日\r\n",
      "2016年 08月 02日\r\n",
      "2016年 08月 03日\r\n",
      "2016年 08月 04日\r\n",
      "2016年 08月 05日\r\n"
     ]
    }
   ],
   "source": [
    "# -M\n",
    "cut -d' ' -f-3 time.txt"
   ]
  },
  {
   "cell_type": "code",
   "execution_count": 9,
   "metadata": {
    "collapsed": false
   },
   "outputs": [
    {
     "name": "stdout",
     "output_type": "stream",
     "text": [
      "root:x:0:0:root\r\n",
      "halt:x:7:0:halt\r\n",
      "mail:x:8:2:mail\r\n",
      "uucp:x:1:4:uucp\r\n",
      "dbus:x:8:1:System message bus\r\n",
      "vcsa:x:6:9:virtual console memory owner\r\n",
      "sshd:x:7:4:Privilege-separated SSH\r\n"
     ]
    }
   ],
   "source": [
    "cut -d: -f-5 passwd"
   ]
  },
  {
   "cell_type": "code",
   "execution_count": 10,
   "metadata": {
    "collapsed": false
   },
   "outputs": [
    {
     "name": "stdout",
     "output_type": "stream",
     "text": [
      "08月 01日 星期一 08:11:32\r\n",
      "08月 02日 星期二 11:11:11\r\n",
      "08月 03日 星期三 14:55:30\r\n",
      "08月 04日 星期四 18:05:09\r\n",
      "08月 05日 星期五 23:03:35\r\n"
     ]
    }
   ],
   "source": [
    "# M-N\n",
    "cut -d' ' -f2-5 time.txt"
   ]
  },
  {
   "cell_type": "code",
   "execution_count": 11,
   "metadata": {
    "collapsed": false
   },
   "outputs": [
    {
     "name": "stdout",
     "output_type": "stream",
     "text": [
      "x:0:0:root:/root\r\n",
      "x:7:0:halt:/sbin\r\n",
      "x:8:2:mail:/var/spool/mail\r\n",
      "x:1:4:uucp:/var/spool/uucp\r\n",
      "x:8:1:System message bus:/\r\n",
      "x:6:9:virtual console memory owner:/dev\r\n",
      "x:7:4:Privilege-separated SSH:/var/empty/sshd\r\n"
     ]
    }
   ],
   "source": [
    "cut -d: -f2-6 passwd"
   ]
  },
  {
   "cell_type": "markdown",
   "metadata": {},
   "source": [
    "###### --complement\n",
    "    complement the set of selected bytes, characters or fields"
   ]
  },
  {
   "cell_type": "code",
   "execution_count": 14,
   "metadata": {
    "collapsed": false
   },
   "outputs": [
    {
     "name": "stdout",
     "output_type": "stream",
     "text": [
      "root:x:0:0:root:/root:/bin/bash\r\n",
      "halt:x:7:0:halt:/sbin:/sbin/halt\r\n",
      "mail:x:8:2:mail:/var/spool/mail:/sbin/nologin\r\n",
      "uucp:x:1:4:uucp:/var/spool/uucp:/sbin/nologin\r\n",
      "dbus:x:8:1:System message bus:/:/sbin/nologin\r\n",
      "vcsa:x:6:9:virtual console memory owner:/dev:/sbin/nologin\r\n",
      "sshd:x:7:4:Privilege-separated SSH:/var/empty/sshd:/sbin/nologin\r\n"
     ]
    }
   ],
   "source": [
    "cat passwd"
   ]
  },
  {
   "cell_type": "code",
   "execution_count": 12,
   "metadata": {
    "collapsed": false
   },
   "outputs": [
    {
     "name": "stdout",
     "output_type": "stream",
     "text": [
      "0:0:root:/root:/bin/bash\r\n",
      "7:0:halt:/sbin:/sbin/halt\r\n",
      "8:2:mail:/var/spool/mail:/sbin/nologin\r\n",
      "1:4:uucp:/var/spool/uucp:/sbin/nologin\r\n",
      "8:1:System message bus:/:/sbin/nologin\r\n",
      "6:9:virtual console memory owner:/dev:/sbin/nologin\r\n",
      "7:4:Privilege-separated SSH:/var/empty/sshd:/sbin/nologin\r\n"
     ]
    }
   ],
   "source": [
    "# -b\n",
    "cut -b8- passwd"
   ]
  },
  {
   "cell_type": "code",
   "execution_count": 13,
   "metadata": {
    "collapsed": false
   },
   "outputs": [
    {
     "name": "stdout",
     "output_type": "stream",
     "text": [
      "root:x:\r\n",
      "halt:x:\r\n",
      "mail:x:\r\n",
      "uucp:x:\r\n",
      "dbus:x:\r\n",
      "vcsa:x:\r\n",
      "sshd:x:\r\n"
     ]
    }
   ],
   "source": [
    "cut --complement -b8- passwd"
   ]
  },
  {
   "cell_type": "code",
   "execution_count": 15,
   "metadata": {
    "collapsed": false
   },
   "outputs": [
    {
     "name": "stdout",
     "output_type": "stream",
     "text": [
      "08:11:32 CST\r\n",
      "11:11:11 CST\r\n",
      "14:55:30 CST\r\n",
      "18:05:09 CST\r\n",
      "23:03:35 CST\r\n"
     ]
    }
   ],
   "source": [
    "# -c\n",
    "cut -c19- time.txt"
   ]
  },
  {
   "cell_type": "code",
   "execution_count": 16,
   "metadata": {
    "collapsed": false
   },
   "outputs": [
    {
     "name": "stdout",
     "output_type": "stream",
     "text": [
      "2016年 08月 01日 星期一 \r\n",
      "2016年 08月 02日 星期二 \r\n",
      "2016年 08月 03日 星期三 \r\n",
      "2016年 08月 04日 星期四 \r\n",
      "2016年 08月 05日 星期五 \r\n"
     ]
    }
   ],
   "source": [
    "cut --complement -c19- time.txt"
   ]
  },
  {
   "cell_type": "code",
   "execution_count": 17,
   "metadata": {
    "collapsed": false
   },
   "outputs": [
    {
     "name": "stdout",
     "output_type": "stream",
     "text": [
      "星期一 CST\r\n",
      "星期二 CST\r\n",
      "星期三 CST\r\n",
      "星期四 CST\r\n",
      "星期五 CST\r\n"
     ]
    }
   ],
   "source": [
    "# -f\n",
    "cut -d' ' -f4,6 time.txt"
   ]
  },
  {
   "cell_type": "code",
   "execution_count": 18,
   "metadata": {
    "collapsed": false
   },
   "outputs": [
    {
     "name": "stdout",
     "output_type": "stream",
     "text": [
      "2016年 08月 01日 08:11:32\r\n",
      "2016年 08月 02日 11:11:11\r\n",
      "2016年 08月 03日 14:55:30\r\n",
      "2016年 08月 04日 18:05:09\r\n",
      "2016年 08月 05日 23:03:35\r\n"
     ]
    }
   ],
   "source": [
    "cut --complement -d' ' -f4,6 time.txt"
   ]
  },
  {
   "cell_type": "code",
   "execution_count": 21,
   "metadata": {
    "collapsed": false
   },
   "outputs": [
    {
     "name": "stdout",
     "output_type": "stream",
     "text": [
      "x:0:0:root:/root\r\n",
      "x:7:0:halt:/sbin\r\n",
      "x:8:2:mail:/var/spool/mail\r\n",
      "x:1:4:uucp:/var/spool/uucp\r\n",
      "x:8:1:System message bus:/\r\n",
      "x:6:9:virtual console memory owner:/dev\r\n",
      "x:7:4:Privilege-separated SSH:/var/empty/sshd\r\n"
     ]
    }
   ],
   "source": [
    "cut -d: -f2-6 passwd"
   ]
  },
  {
   "cell_type": "code",
   "execution_count": 23,
   "metadata": {
    "collapsed": false
   },
   "outputs": [
    {
     "name": "stdout",
     "output_type": "stream",
     "text": [
      "root:/bin/bash\r\n",
      "halt:/sbin/halt\r\n",
      "mail:/sbin/nologin\r\n",
      "uucp:/sbin/nologin\r\n",
      "dbus:/sbin/nologin\r\n",
      "vcsa:/sbin/nologin\r\n",
      "sshd:/sbin/nologin\r\n"
     ]
    }
   ],
   "source": [
    "cut --complement -d: -f2-6 passwd"
   ]
  },
  {
   "cell_type": "markdown",
   "metadata": {},
   "source": [
    "###### -s, --only-delimited\n",
    "    do not print lines not containing delimiters"
   ]
  },
  {
   "cell_type": "code",
   "execution_count": null,
   "metadata": {
    "collapsed": true
   },
   "outputs": [],
   "source": []
  },
  {
   "cell_type": "markdown",
   "metadata": {},
   "source": [
    "###### --output-delimiter=STRING\n",
    "    use STRING as the output delimiter the default is to use the input delimiter"
   ]
  },
  {
   "cell_type": "code",
   "execution_count": 24,
   "metadata": {
    "collapsed": false
   },
   "outputs": [
    {
     "name": "stdout",
     "output_type": "stream",
     "text": [
      "root,x,0,0,root\r\n",
      "halt,x,7,0,halt\r\n",
      "mail,x,8,2,mail\r\n",
      "uucp,x,1,4,uucp\r\n",
      "dbus,x,8,1,System message bus\r\n",
      "vcsa,x,6,9,virtual console memory owner\r\n",
      "sshd,x,7,4,Privilege-separated SSH\r\n"
     ]
    }
   ],
   "source": [
    "cut -d: -f-5 --output-delimiter=',' passwd"
   ]
  },
  {
   "cell_type": "code",
   "execution_count": 25,
   "metadata": {
    "collapsed": false
   },
   "outputs": [
    {
     "name": "stdout",
     "output_type": "stream",
     "text": [
      "root\r\n",
      "/root\r\n",
      "/bin/bash\r\n"
     ]
    }
   ],
   "source": [
    "grep 'bash' passwd | cut -d: -f1,6,7 --output-delimiter=$'\\n'"
   ]
  },
  {
   "cell_type": "code",
   "execution_count": 26,
   "metadata": {
    "collapsed": false
   },
   "outputs": [
    {
     "name": "stdout",
     "output_type": "stream",
     "text": [
      "root\\n/root\\n/bin/bash\r\n"
     ]
    }
   ],
   "source": [
    "# if '$' is omit.\n",
    "grep 'bash' passwd | cut -d: -f1,6,7 --output-delimiter='\\n'"
   ]
  }
 ],
 "metadata": {
  "kernelspec": {
   "display_name": "Bash",
   "language": "bash",
   "name": "bash"
  },
  "language_info": {
   "codemirror_mode": "shell",
   "file_extension": ".sh",
   "mimetype": "text/x-sh",
   "name": "bash"
  }
 },
 "nbformat": 4,
 "nbformat_minor": 0
}
