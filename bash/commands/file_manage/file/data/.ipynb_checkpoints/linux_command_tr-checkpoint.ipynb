{
 "cells": [
  {
   "cell_type": "markdown",
   "metadata": {},
   "source": [
    "#### NAME\n",
    "    tr - translate or delete characters\n",
    "#### SYNOPSIS\n",
    "    tr [OPTION]... SET1 [SET2]\n",
    "#### DESCRIPTION\n",
    "    Translate, squeeze, and/or delete characters from standard input, writing to standard output."
   ]
  },
  {
   "cell_type": "markdown",
   "metadata": {},
   "source": [
    "#### OPTIONS"
   ]
  },
  {
   "cell_type": "markdown",
   "metadata": {},
   "source": [
    "###### default"
   ]
  },
  {
   "cell_type": "code",
   "execution_count": 1,
   "metadata": {
    "collapsed": false
   },
   "outputs": [
    {
     "name": "stdout",
     "output_type": "stream",
     "text": [
      "hello bash\r\n"
     ]
    }
   ],
   "source": [
    "# Conversion between upper and lower case characters.\n",
    "echo \"HELLO BASH\" | tr 'A-Z' 'a-z'"
   ]
  },
  {
   "cell_type": "code",
   "execution_count": 2,
   "metadata": {
    "collapsed": false
   },
   "outputs": [
    {
     "name": "stdout",
     "output_type": "stream",
     "text": [
      "HELLO JUPYTER\r\n"
     ]
    }
   ],
   "source": [
    "echo 'hello jupyter' | tr 'a-z' 'A-Z'"
   ]
  },
  {
   "cell_type": "code",
   "execution_count": 3,
   "metadata": {
    "collapsed": false
   },
   "outputs": [
    {
     "name": "stdout",
     "output_type": "stream",
     "text": [
      "192.168.1.30\r\n",
      "192.168.1.33\r\n",
      "192.168.1.34\r\n",
      "192.168.1.40\r\n",
      "192.168.1.48\r\n"
     ]
    }
   ],
   "source": [
    "# Multiple rows are merged into one line, \n",
    "# separated by a comma\n",
    "cat ip.list"
   ]
  },
  {
   "cell_type": "code",
   "execution_count": 4,
   "metadata": {
    "collapsed": false
   },
   "outputs": [
    {
     "name": "stdout",
     "output_type": "stream",
     "text": [
      "192.168.1.30,192.168.1.33,192.168.1.34,192.168.1.40,192.168.1.48,"
     ]
    }
   ],
   "source": [
    "tr '\\n' ',' < ip.list"
   ]
  },
  {
   "cell_type": "code",
   "execution_count": 5,
   "metadata": {
    "collapsed": false
   },
   "outputs": [
    {
     "name": "stdout",
     "output_type": "stream",
     "text": [
      "192.168.1.30,192.168.1.33,192.168.1.34,192.168.1.40,192.168.1.48,"
     ]
    }
   ],
   "source": [
    "# The same as:\n",
    "cat ip.list | tr '\\n' ','"
   ]
  },
  {
   "cell_type": "markdown",
   "metadata": {},
   "source": [
    "###### -d, --delete\n",
    "    delete characters in SET1, do not translate"
   ]
  },
  {
   "cell_type": "code",
   "execution_count": 6,
   "metadata": {
    "collapsed": false
   },
   "outputs": [
    {
     "name": "stdout",
     "output_type": "stream",
     "text": [
      "hello  world \r\n"
     ]
    }
   ],
   "source": [
    "# Remove numbers\n",
    "echo 'hello 123 world 456' | tr -d '0-9'"
   ]
  },
  {
   "cell_type": "code",
   "execution_count": 7,
   "metadata": {
    "collapsed": false
   },
   "outputs": [
    {
     "name": "stdout",
     "output_type": "stream",
     "text": [
      "helloworld\r\n"
     ]
    }
   ],
   "source": [
    "# Remove numbers and spaces\n",
    "echo 'hello 123 world 456' | tr -d '0-9 '"
   ]
  },
  {
   "cell_type": "code",
   "execution_count": 16,
   "metadata": {
    "collapsed": false
   },
   "outputs": [
    {
     "name": "stdout",
     "output_type": "stream",
     "text": [
      "'192.168.1.30'\r\n",
      "'192.168.1.33'\r\n",
      "'192.168.1.34'\r\n",
      "'192.168.1.40'\r\n",
      "'192.168.1.48'\r\n"
     ]
    }
   ],
   "source": [
    "# Delete quotation marks for each line in the ip.list\n",
    "cat ip.list"
   ]
  },
  {
   "cell_type": "code",
   "execution_count": 10,
   "metadata": {
    "collapsed": false
   },
   "outputs": [
    {
     "name": "stdout",
     "output_type": "stream",
     "text": [
      "192.168.1.30\r\n",
      "192.168.1.33\r\n",
      "192.168.1.34\r\n",
      "192.168.1.40\r\n",
      "192.168.1.48\r\n"
     ]
    }
   ],
   "source": [
    "tr -d \"'\" < ip.list"
   ]
  },
  {
   "cell_type": "code",
   "execution_count": 11,
   "metadata": {
    "collapsed": false
   },
   "outputs": [
    {
     "name": "stdout",
     "output_type": "stream",
     "text": [
      " 192.168.1.30\r\n",
      "  192.168.1.33\r\n",
      "   192.168.1.34\r\n",
      "    192.168.1.40\r\n",
      "     192.168.1.48\r\n"
     ]
    }
   ],
   "source": [
    "# Remove the space for each line\n",
    "# The Tab space is similar.\n",
    "cat ip.list"
   ]
  },
  {
   "cell_type": "code",
   "execution_count": 12,
   "metadata": {
    "collapsed": false
   },
   "outputs": [
    {
     "name": "stdout",
     "output_type": "stream",
     "text": [
      "192.168.1.30\r\n",
      "192.168.1.33\r\n",
      "192.168.1.34\r\n",
      "192.168.1.40\r\n",
      "192.168.1.48\r\n"
     ]
    }
   ],
   "source": [
    "tr -d ' ' < ip.list"
   ]
  },
  {
   "cell_type": "code",
   "execution_count": null,
   "metadata": {
    "collapsed": true
   },
   "outputs": [],
   "source": []
  }
 ],
 "metadata": {
  "kernelspec": {
   "display_name": "Bash",
   "language": "bash",
   "name": "bash"
  },
  "language_info": {
   "codemirror_mode": "shell",
   "file_extension": ".sh",
   "mimetype": "text/x-sh",
   "name": "bash"
  }
 },
 "nbformat": 4,
 "nbformat_minor": 0
}
