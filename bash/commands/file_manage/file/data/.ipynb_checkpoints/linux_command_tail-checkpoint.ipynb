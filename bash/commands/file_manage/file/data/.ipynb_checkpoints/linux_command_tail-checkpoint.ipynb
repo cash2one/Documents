{
 "cells": [
  {
   "cell_type": "markdown",
   "metadata": {},
   "source": [
    "#### NAME\n",
    "    tail - output the last part of files\n",
    "#### SYNOPSIS\n",
    "    tail [OPTION]... [FILE]...\n",
    "#### DESCRIPTION\n",
    "    Print the last 10 lines of each FILE to standard output.  \n",
    "    With more than one FILE, precede each with a header giving the file name.  \n",
    "    With no FILE, or when FILE is -, read standard input."
   ]
  },
  {
   "cell_type": "code",
   "execution_count": 26,
   "metadata": {
    "collapsed": false
   },
   "outputs": [
    {
     "name": "stdout",
     "output_type": "stream",
     "text": [
      "175.25.18.153  192.168.1.1\r\n",
      "175.25.18.154  192.168.1.2\r\n",
      "175.25.18.155  192.168.1.3\r\n",
      "175.25.18.156  192.168.1.4\r\n",
      "175.25.18.157  192.168.1.5\r\n",
      "175.25.18.158  192.168.1.6\r\n",
      "175.25.18.159  192.168.1.7\r\n",
      "175.25.18.160  192.168.1.8\r\n",
      "175.25.18.161  192.168.1.9\r\n",
      "175.25.18.162  192.168.1.10\r\n",
      "175.25.18.163  192.168.1.11\r\n",
      "175.25.18.164  192.168.1.12\r\n"
     ]
    }
   ],
   "source": [
    "cat master.ip"
   ]
  },
  {
   "cell_type": "code",
   "execution_count": 27,
   "metadata": {
    "collapsed": false
   },
   "outputs": [
    {
     "name": "stdout",
     "output_type": "stream",
     "text": [
      "175.25.18.165  192.168.1.37\r\n",
      "175.25.18.166  192.168.1.38\r\n",
      "175.25.18.167  192.168.1.39\r\n",
      "175.25.18.168  192.168.1.40\r\n",
      "175.25.18.169  192.168.1.41\r\n",
      "175.25.18.170  192.168.1.42\r\n",
      "175.25.18.171  192.168.1.43\r\n",
      "175.25.18.172  192.168.1.44\r\n",
      "175.25.18.173  192.168.1.45\r\n",
      "175.25.18.174  192.168.1.46\r\n",
      "175.25.18.175  192.168.1.47\r\n",
      "175.25.18.176  192.168.1.48\r\n"
     ]
    }
   ],
   "source": [
    "cat slave.ip"
   ]
  },
  {
   "cell_type": "markdown",
   "metadata": {},
   "source": [
    "#### OPTIONS\n",
    "###### default"
   ]
  },
  {
   "cell_type": "code",
   "execution_count": 3,
   "metadata": {
    "collapsed": false
   },
   "outputs": [
    {
     "name": "stdout",
     "output_type": "stream",
     "text": [
      "175.25.18.155  1192.168.1.3\r\n",
      "175.25.18.156  1192.168.1.4\r\n",
      "175.25.18.157  1192.168.1.5\r\n",
      "175.25.18.158  1192.168.1.6\r\n",
      "175.25.18.159  1192.168.1.7\r\n",
      "175.25.18.160  1192.168.1.8\r\n",
      "175.25.18.161  1192.168.1.9\r\n",
      "175.25.18.162  1192.168.1.10\r\n",
      "175.25.18.163  1192.168.1.11\r\n",
      "175.25.18.164  1192.168.1.12\r\n"
     ]
    }
   ],
   "source": [
    "# Look over the last 10 lines of the single file.\n",
    "tail master.ip"
   ]
  },
  {
   "cell_type": "code",
   "execution_count": 9,
   "metadata": {
    "collapsed": false
   },
   "outputs": [
    {
     "name": "stdout",
     "output_type": "stream",
     "text": [
      "==> master.ip <==\r\n",
      "175.25.18.155  192.168.1.3\r\n",
      "175.25.18.156  192.168.1.4\r\n",
      "175.25.18.157  192.168.1.5\r\n",
      "175.25.18.158  192.168.1.6\r\n",
      "175.25.18.159  192.168.1.7\r\n",
      "175.25.18.160  192.168.1.8\r\n",
      "175.25.18.161  192.168.1.9\r\n",
      "175.25.18.162  192.168.1.10\r\n",
      "175.25.18.163  192.168.1.11\r\n",
      "175.25.18.164  192.168.1.12\r\n",
      "\r\n",
      "==> slave.ip <==\r\n",
      "175.25.18.167  192.168.1.39\r\n",
      "175.25.18.168  192.168.1.40\r\n",
      "175.25.18.169  192.168.1.41\r\n",
      "175.25.18.170  192.168.1.42\r\n",
      "175.25.18.171  192.168.1.43\r\n",
      "175.25.18.172  192.168.1.44\r\n",
      "175.25.18.173  192.168.1.45\r\n",
      "175.25.18.174  192.168.1.46\r\n",
      "175.25.18.175  192.168.1.47\r\n",
      "175.25.18.176  192.168.1.48\r\n"
     ]
    }
   ],
   "source": [
    "# Look over the last 10 lines per file.\n",
    "tail master.ip slave.ip"
   ]
  },
  {
   "cell_type": "markdown",
   "metadata": {},
   "source": [
    "###### -c, --bytes=K\n",
    "    output the last K bytes; \n",
    "    alternatively, use -c +K to output bytes starting with the Kth of each file\n",
    "    \n",
    "    If the first character of K (the number of bytes or lines) is a '+', print beginning with the Kth item   from the start of each file, otherwise, print the last K items in the file.  \n",
    "    \n",
    "    K may have a multiplier suffix: \n",
    "    b  512,  \n",
    "    kB  1000,  \n",
    "    K  1024,  \n",
    "    MB 1000*1000, \n",
    "    M 1024*1024, \n",
    "    GB 1000*1000*1000, \n",
    "    G 1024*1024*1024, \n",
    "    and so on for T, P, E, Z, Y."
   ]
  },
  {
   "cell_type": "code",
   "execution_count": 10,
   "metadata": {
    "collapsed": false
   },
   "outputs": [
    {
     "name": "stdout",
     "output_type": "stream",
     "text": [
      "192.168.1.12\r\n"
     ]
    }
   ],
   "source": [
    "# output the last K bytes\n",
    "tail -c13 master.ip"
   ]
  },
  {
   "cell_type": "code",
   "execution_count": 11,
   "metadata": {
    "collapsed": false
   },
   "outputs": [
    {
     "name": "stdout",
     "output_type": "stream",
     "text": [
      "\r\n",
      "175.25.18.164  192.168.1.12\r\n"
     ]
    }
   ],
   "source": [
    "tail -c29 master.ip"
   ]
  },
  {
   "cell_type": "code",
   "execution_count": 12,
   "metadata": {
    "collapsed": false
   },
   "outputs": [
    {
     "name": "stdout",
     "output_type": "stream",
     "text": [
      "==> master.ip <==\r\n",
      "192.168.1.12\r\n",
      "\r\n",
      "==> slave.ip <==\r\n",
      "192.168.1.48\r\n"
     ]
    }
   ],
   "source": [
    "tail -c13 master.ip slave.ip"
   ]
  },
  {
   "cell_type": "code",
   "execution_count": 13,
   "metadata": {
    "collapsed": false
   },
   "outputs": [
    {
     "name": "stdout",
     "output_type": "stream",
     "text": [
      "==> master.ip <==\r\n",
      "\r\n",
      "175.25.18.164  192.168.1.12\r\n",
      "\r\n",
      "==> slave.ip <==\r\n",
      "\r\n",
      "175.25.18.176  192.168.1.48\r\n"
     ]
    }
   ],
   "source": [
    "tail -c29 master.ip slave.ip"
   ]
  },
  {
   "cell_type": "code",
   "execution_count": 14,
   "metadata": {
    "collapsed": false
   },
   "outputs": [
    {
     "name": "stdout",
     "output_type": "stream",
     "text": [
      "175.25.18.156  192.168.1.4\r\n",
      "175.25.18.157  192.168.1.5\r\n",
      "175.25.18.158  192.168.1.6\r\n",
      "175.25.18.159  192.168.1.7\r\n",
      "175.25.18.160  192.168.1.8\r\n",
      "175.25.18.161  192.168.1.9\r\n",
      "175.25.18.162  192.168.1.10\r\n",
      "175.25.18.163  192.168.1.11\r\n",
      "175.25.18.164  192.168.1.12\r\n"
     ]
    }
   ],
   "source": [
    "# use -c +K to output bytes \n",
    "# starting with the Kth of each file\n",
    "\n",
    "# do not print the first 3 lines/82 bytes of master.ip\n",
    "tail -c+82 master.ip"
   ]
  },
  {
   "cell_type": "markdown",
   "metadata": {},
   "source": [
    "###### -n, --lines=K\n",
    "    output the last K lines, instead of the last 10; \n",
    "    or use -n +K to output lines starting with the Kth"
   ]
  },
  {
   "cell_type": "code",
   "execution_count": 16,
   "metadata": {
    "collapsed": false
   },
   "outputs": [
    {
     "name": "stdout",
     "output_type": "stream",
     "text": [
      "175.25.18.162  192.168.1.10\r\n",
      "175.25.18.163  192.168.1.11\r\n",
      "175.25.18.164  192.168.1.12\r\n"
     ]
    }
   ],
   "source": [
    "# output the last K lines, instead of the last 10\n",
    "tail -n3 master.ip"
   ]
  },
  {
   "cell_type": "code",
   "execution_count": 17,
   "metadata": {
    "collapsed": false
   },
   "outputs": [
    {
     "name": "stdout",
     "output_type": "stream",
     "text": [
      "==> master.ip <==\r\n",
      "175.25.18.162  192.168.1.10\r\n",
      "175.25.18.163  192.168.1.11\r\n",
      "175.25.18.164  192.168.1.12\r\n",
      "\r\n",
      "==> slave.ip <==\r\n",
      "175.25.18.174  192.168.1.46\r\n",
      "175.25.18.175  192.168.1.47\r\n",
      "175.25.18.176  192.168.1.48\r\n"
     ]
    }
   ],
   "source": [
    "tail -n3 master.ip slave.ip"
   ]
  },
  {
   "cell_type": "code",
   "execution_count": 19,
   "metadata": {
    "collapsed": false
   },
   "outputs": [
    {
     "name": "stdout",
     "output_type": "stream",
     "text": [
      "175.25.18.159  192.168.1.7\r\n",
      "175.25.18.160  192.168.1.8\r\n",
      "175.25.18.161  192.168.1.9\r\n",
      "175.25.18.162  192.168.1.10\r\n",
      "175.25.18.163  192.168.1.11\r\n",
      "175.25.18.164  192.168.1.12\r\n"
     ]
    }
   ],
   "source": [
    "# use -n +K to output lines starting with the Kth\n",
    "tail -n+7 master.ip"
   ]
  },
  {
   "cell_type": "code",
   "execution_count": 20,
   "metadata": {
    "collapsed": false
   },
   "outputs": [
    {
     "name": "stdout",
     "output_type": "stream",
     "text": [
      "==> master.ip <==\r\n",
      "175.25.18.161  192.168.1.9\r\n",
      "175.25.18.162  192.168.1.10\r\n",
      "175.25.18.163  192.168.1.11\r\n",
      "175.25.18.164  192.168.1.12\r\n",
      "\r\n",
      "==> slave.ip <==\r\n",
      "175.25.18.173  192.168.1.45\r\n",
      "175.25.18.174  192.168.1.46\r\n",
      "175.25.18.175  192.168.1.47\r\n",
      "175.25.18.176  192.168.1.48\r\n"
     ]
    }
   ],
   "source": [
    "tail -n+9 master.ip slave.ip"
   ]
  },
  {
   "cell_type": "markdown",
   "metadata": {},
   "source": [
    "###### -q, --quiet, --silent\n",
    "    never output headers giving file names"
   ]
  },
  {
   "cell_type": "code",
   "execution_count": 21,
   "metadata": {
    "collapsed": false
   },
   "outputs": [
    {
     "name": "stdout",
     "output_type": "stream",
     "text": [
      "175.25.18.155  192.168.1.3\r\n",
      "175.25.18.156  192.168.1.4\r\n",
      "175.25.18.157  192.168.1.5\r\n",
      "175.25.18.158  192.168.1.6\r\n",
      "175.25.18.159  192.168.1.7\r\n",
      "175.25.18.160  192.168.1.8\r\n",
      "175.25.18.161  192.168.1.9\r\n",
      "175.25.18.162  192.168.1.10\r\n",
      "175.25.18.163  192.168.1.11\r\n",
      "175.25.18.164  192.168.1.12\r\n"
     ]
    }
   ],
   "source": [
    "# for single file,defaultly\n",
    "tail master.ip"
   ]
  },
  {
   "cell_type": "code",
   "execution_count": 22,
   "metadata": {
    "collapsed": false
   },
   "outputs": [
    {
     "name": "stdout",
     "output_type": "stream",
     "text": [
      "175.25.18.163  192.168.1.11\r\n",
      "175.25.18.164  192.168.1.12\r\n",
      "175.25.18.175  192.168.1.47\r\n",
      "175.25.18.176  192.168.1.48\r\n"
     ]
    }
   ],
   "source": [
    "# for one more than files.\n",
    "# never output headers giving file names\n",
    "tail -q -n2 master.ip slave.ip"
   ]
  },
  {
   "cell_type": "markdown",
   "metadata": {},
   "source": [
    "###### -v, --verbose\n",
    "    always output headers giving file names"
   ]
  },
  {
   "cell_type": "code",
   "execution_count": 23,
   "metadata": {
    "collapsed": false
   },
   "outputs": [
    {
     "name": "stdout",
     "output_type": "stream",
     "text": [
      "==> master.ip <==\r\n",
      "175.25.18.163  192.168.1.11\r\n",
      "175.25.18.164  192.168.1.12\r\n",
      "\r\n",
      "==> slave.ip <==\r\n",
      "175.25.18.175  192.168.1.47\r\n",
      "175.25.18.176  192.168.1.48\r\n"
     ]
    }
   ],
   "source": [
    "# for one more than files,defaultly\n",
    "tail -n2 master.ip slave.ip"
   ]
  },
  {
   "cell_type": "code",
   "execution_count": 25,
   "metadata": {
    "collapsed": false
   },
   "outputs": [
    {
     "name": "stdout",
     "output_type": "stream",
     "text": [
      "==> master.ip <==\r\n",
      "175.25.18.160  192.168.1.8\r\n",
      "175.25.18.161  192.168.1.9\r\n",
      "175.25.18.162  192.168.1.10\r\n",
      "175.25.18.163  192.168.1.11\r\n",
      "175.25.18.164  192.168.1.12\r\n"
     ]
    }
   ],
   "source": [
    "# for single file\n",
    "# always output headers giving file names\n",
    "tail -v -n5 master.ip"
   ]
  },
  {
   "cell_type": "markdown",
   "metadata": {},
   "source": [
    "###### -f, --follow[={name|descriptor}]\n",
    "    output appended data as the file grows; \n",
    "    -f, --follow, and --follow=descriptor are equivalent\n",
    "    \n",
    "    With --follow (-f), tail defaults to following the file descriptor, which means that even if a tail'ed   file is renamed,tail will continue to track its end. This default behavior is not desirable when you     really want to track the actual  name of  the file, not the file descriptor (e.g., log rotation).  Use --follow=name in that case.  That causes tail to track the named file in a way that accommodates renaming, removal and creation."
   ]
  },
  {
   "cell_type": "markdown",
   "metadata": {},
   "source": [
    "###### --pid=PID\n",
    "    with -f, terminate after process ID, PID dies"
   ]
  },
  {
   "cell_type": "markdown",
   "metadata": {},
   "source": [
    "###### -s, --sleep-interval=N\n",
    "    with -f, sleep for approximately N seconds (default 1.0) between  iterations.   \n",
    "    With  inotify  and  --pid=P,  check process P at least once every N seconds."
   ]
  },
  {
   "cell_type": "markdown",
   "metadata": {},
   "source": [
    "######  --retry\n",
    "    keep trying to open a file even when it is or becomes inaccessible; \n",
    "    useful when following by name, i.e., with --follow=name"
   ]
  },
  {
   "cell_type": "markdown",
   "metadata": {},
   "source": [
    "###### -F     \n",
    "    same as --follow=name --retry"
   ]
  },
  {
   "cell_type": "markdown",
   "metadata": {},
   "source": [
    "###### --max-unchanged-stats=N\n",
    "    with --follow=name, reopen a FILE which has not changed size after N (default 5) iterations to see if it  unlinked or renamed (this is the usual case of rotated log files).  \n",
    "    With inotify, this option is rarely useful."
   ]
  }
 ],
 "metadata": {
  "kernelspec": {
   "display_name": "Bash",
   "language": "bash",
   "name": "bash"
  },
  "language_info": {
   "codemirror_mode": "shell",
   "file_extension": ".sh",
   "mimetype": "text/x-sh",
   "name": "bash"
  }
 },
 "nbformat": 4,
 "nbformat_minor": 0
}
