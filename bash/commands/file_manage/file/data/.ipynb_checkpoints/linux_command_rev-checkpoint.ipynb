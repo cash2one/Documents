{
 "cells": [
  {
   "cell_type": "markdown",
   "metadata": {},
   "source": [
    "#### NAME\n",
    "    rev — reverse lines of a file or files\n",
    "#### SYNOPSIS\n",
    "    rev [-V] [-h] [file ...]\n",
    "#### DESCRIPTION\n",
    "    The rev utility copies the specified files to standard output, \n",
    "    reversing the order of characters in every line.  \n",
    "    If no files are specified, standard input is read."
   ]
  },
  {
   "cell_type": "markdown",
   "metadata": {},
   "source": [
    "#### OPTIONS\n",
    "###### default"
   ]
  },
  {
   "cell_type": "code",
   "execution_count": 1,
   "metadata": {
    "collapsed": false
   },
   "outputs": [
    {
     "name": "stdout",
     "output_type": "stream",
     "text": [
      "123456789\r\n",
      "abcdefghigklmnopqrstuvwxyz\r\n",
      "ABCDEFGHIGKLMNOPQRSTUVWXYZ\r\n"
     ]
    }
   ],
   "source": [
    "cat reverse.txt"
   ]
  },
  {
   "cell_type": "code",
   "execution_count": 2,
   "metadata": {
    "collapsed": false
   },
   "outputs": [
    {
     "name": "stdout",
     "output_type": "stream",
     "text": [
      "987654321\r\n",
      "zyxwvutsrqponmlkgihgfedcba\r\n",
      "ZYXWVUTSRQPONMLKGIHGFEDCBA\r\n"
     ]
    }
   ],
   "source": [
    "rev reverse.txt"
   ]
  },
  {
   "cell_type": "markdown",
   "metadata": {},
   "source": [
    "###### -h, --help\n",
    "    Output help and exit."
   ]
  },
  {
   "cell_type": "code",
   "execution_count": 3,
   "metadata": {
    "collapsed": false
   },
   "outputs": [
    {
     "name": "stdout",
     "output_type": "stream",
     "text": [
      "Usage: rev [options] [file ...]\r\n",
      "\r\n",
      "Options:\r\n",
      " -V, --version   output version information and exit\r\n",
      " -h, --help      display this help and exit\r\n",
      "\r\n",
      "For more information see rev(1).\r\n"
     ]
    }
   ],
   "source": [
    "rev --help"
   ]
  },
  {
   "cell_type": "markdown",
   "metadata": {},
   "source": [
    "###### -V, --version\n",
    "    Output version information and exit."
   ]
  },
  {
   "cell_type": "code",
   "execution_count": 4,
   "metadata": {
    "collapsed": false
   },
   "outputs": [
    {
     "name": "stdout",
     "output_type": "stream",
     "text": [
      "rev from util-linux 2.20.1\r\n"
     ]
    }
   ],
   "source": [
    "rev --version"
   ]
  }
 ],
 "metadata": {
  "kernelspec": {
   "display_name": "Bash",
   "language": "bash",
   "name": "bash"
  },
  "language_info": {
   "codemirror_mode": "shell",
   "file_extension": ".sh",
   "mimetype": "text/x-sh",
   "name": "bash"
  }
 },
 "nbformat": 4,
 "nbformat_minor": 0
}
