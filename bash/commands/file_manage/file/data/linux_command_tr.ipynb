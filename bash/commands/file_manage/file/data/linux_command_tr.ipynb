{
 "cells": [
  {
   "cell_type": "markdown",
   "metadata": {},
   "source": [
    "#### NAME\n",
    "    tr - translate or delete characters\n",
    "#### SYNOPSIS\n",
    "    tr [OPTION]... SET1 [SET2]\n",
    "#### DESCRIPTION\n",
    "    Translate, squeeze, and/or delete characters from standard input, writing to standard output."
   ]
  },
  {
   "cell_type": "markdown",
   "metadata": {},
   "source": [
    "#### OPTIONS"
   ]
  },
  {
   "cell_type": "markdown",
   "metadata": {},
   "source": [
    "###### default"
   ]
  },
  {
   "cell_type": "code",
   "execution_count": 1,
   "metadata": {
    "collapsed": false
   },
   "outputs": [
    {
     "name": "stdout",
     "output_type": "stream",
     "text": [
      "hello bash\r\n"
     ]
    }
   ],
   "source": [
    "# Conversion between upper and lower case characters.\n",
    "echo \"HELLO BASH\" | tr 'A-Z' 'a-z'"
   ]
  },
  {
   "cell_type": "code",
   "execution_count": 2,
   "metadata": {
    "collapsed": false
   },
   "outputs": [
    {
     "name": "stdout",
     "output_type": "stream",
     "text": [
      "HELLO JUPYTER\r\n"
     ]
    }
   ],
   "source": [
    "echo 'hello jupyter' | tr 'a-z' 'A-Z'"
   ]
  },
  {
   "cell_type": "code",
   "execution_count": 3,
   "metadata": {
    "collapsed": false
   },
   "outputs": [
    {
     "name": "stdout",
     "output_type": "stream",
     "text": [
      "192.168.1.30\r\n",
      "192.168.1.33\r\n",
      "192.168.1.34\r\n",
      "192.168.1.40\r\n",
      "192.168.1.48\r\n"
     ]
    }
   ],
   "source": [
    "# Multiple rows are merged into one line, \n",
    "# separated by a comma\n",
    "cat ip.list"
   ]
  },
  {
   "cell_type": "code",
   "execution_count": 4,
   "metadata": {
    "collapsed": false
   },
   "outputs": [
    {
     "name": "stdout",
     "output_type": "stream",
     "text": [
      "192.168.1.30,192.168.1.33,192.168.1.34,192.168.1.40,192.168.1.48,"
     ]
    }
   ],
   "source": [
    "tr '\\n' ',' < ip.list"
   ]
  },
  {
   "cell_type": "code",
   "execution_count": 5,
   "metadata": {
    "collapsed": false
   },
   "outputs": [
    {
     "name": "stdout",
     "output_type": "stream",
     "text": [
      "192.168.1.30,192.168.1.33,192.168.1.34,192.168.1.40,192.168.1.48,"
     ]
    }
   ],
   "source": [
    "# The same as:\n",
    "cat ip.list | tr '\\n' ','"
   ]
  },
  {
   "cell_type": "markdown",
   "metadata": {},
   "source": [
    "###### -d, --delete\n",
    "    delete characters in SET1, do not translate"
   ]
  },
  {
   "cell_type": "code",
   "execution_count": 6,
   "metadata": {
    "collapsed": false
   },
   "outputs": [
    {
     "name": "stdout",
     "output_type": "stream",
     "text": [
      "hello  world \r\n"
     ]
    }
   ],
   "source": [
    "# Remove numbers\n",
    "echo 'hello 123 world 456' | tr -d '0-9'"
   ]
  },
  {
   "cell_type": "code",
   "execution_count": 7,
   "metadata": {
    "collapsed": false
   },
   "outputs": [
    {
     "name": "stdout",
     "output_type": "stream",
     "text": [
      "helloworld\r\n"
     ]
    }
   ],
   "source": [
    "# Remove numbers and spaces\n",
    "echo 'hello 123 world 456' | tr -d '0-9 '"
   ]
  },
  {
   "cell_type": "code",
   "execution_count": 16,
   "metadata": {
    "collapsed": false
   },
   "outputs": [
    {
     "name": "stdout",
     "output_type": "stream",
     "text": [
      "'192.168.1.30'\r\n",
      "'192.168.1.33'\r\n",
      "'192.168.1.34'\r\n",
      "'192.168.1.40'\r\n",
      "'192.168.1.48'\r\n"
     ]
    }
   ],
   "source": [
    "# Delete quotation marks for each line in the ip.list\n",
    "cat ip.list"
   ]
  },
  {
   "cell_type": "code",
   "execution_count": 10,
   "metadata": {
    "collapsed": false
   },
   "outputs": [
    {
     "name": "stdout",
     "output_type": "stream",
     "text": [
      "192.168.1.30\r\n",
      "192.168.1.33\r\n",
      "192.168.1.34\r\n",
      "192.168.1.40\r\n",
      "192.168.1.48\r\n"
     ]
    }
   ],
   "source": [
    "tr -d \"'\" < ip.list"
   ]
  },
  {
   "cell_type": "code",
   "execution_count": 11,
   "metadata": {
    "collapsed": false
   },
   "outputs": [
    {
     "name": "stdout",
     "output_type": "stream",
     "text": [
      " 192.168.1.30\r\n",
      "  192.168.1.33\r\n",
      "   192.168.1.34\r\n",
      "    192.168.1.40\r\n",
      "     192.168.1.48\r\n"
     ]
    }
   ],
   "source": [
    "# Remove the space for each line\n",
    "# The Tab space is similar.\n",
    "cat ip.list"
   ]
  },
  {
   "cell_type": "code",
   "execution_count": 12,
   "metadata": {
    "collapsed": false
   },
   "outputs": [
    {
     "name": "stdout",
     "output_type": "stream",
     "text": [
      "192.168.1.30\r\n",
      "192.168.1.33\r\n",
      "192.168.1.34\r\n",
      "192.168.1.40\r\n",
      "192.168.1.48\r\n"
     ]
    }
   ],
   "source": [
    "tr -d ' ' < ip.list"
   ]
  },
  {
   "cell_type": "code",
   "execution_count": 4,
   "metadata": {
    "collapsed": false
   },
   "outputs": [
    {
     "name": "stdout",
     "output_type": "stream",
     "text": [
      "Windows file ends with '\\r\\n'^M$\r\n",
      "So,you can delete '\\r' with 'tr -d'^M$\r\n",
      "Yes,you can do it.!^M$\r\n"
     ]
    }
   ],
   "source": [
    "# Convert Windows newline to Unix newline.\n",
    "cat -A Windows.txt"
   ]
  },
  {
   "cell_type": "code",
   "execution_count": 5,
   "metadata": {
    "collapsed": false
   },
   "outputs": [
    {
     "name": "stdout",
     "output_type": "stream",
     "text": [
      "Windows file ends with '\\r\\n'$\r\n",
      "So,you can delete '\\r' with 'tr -d'$\r\n",
      "Yes,you can do it.!$\r\n"
     ]
    }
   ],
   "source": [
    "tr -d '\\r' < Windows.txt > Linux.txt\n",
    "cat -A Linux.txt"
   ]
  },
  {
   "cell_type": "markdown",
   "metadata": {
    "collapsed": true
   },
   "source": [
    "###### -s, --squeeze-repeats\n",
    "    replace  each  input  sequence of a repeated character that is listed in SET1 \n",
    "    with a single occurrence of that character"
   ]
  },
  {
   "cell_type": "code",
   "execution_count": 3,
   "metadata": {
    "collapsed": false
   },
   "outputs": [
    {
     "name": "stdout",
     "output_type": "stream",
     "text": [
      "This is a text line.\r\n"
     ]
    }
   ],
   "source": [
    "echo 'Thisssss iss a text linnne.' | tr -s 'sn'"
   ]
  },
  {
   "cell_type": "code",
   "execution_count": 6,
   "metadata": {
    "collapsed": false
   },
   "outputs": [
    {
     "name": "stdout",
     "output_type": "stream",
     "text": [
      "This is the first line.\r\n",
      "\r\n",
      "This is the second line.\r\n",
      "\r\n",
      "\r\n",
      "This is the third line.\r\n",
      "\r\n",
      "\r\n",
      "\r\n",
      "\r\n",
      "This is the four line.\r\n",
      "This is the five line.\r\n"
     ]
    }
   ],
   "source": [
    "# Remove all blank lines in the file\n",
    "cat lines.txt"
   ]
  },
  {
   "cell_type": "code",
   "execution_count": 7,
   "metadata": {
    "collapsed": false
   },
   "outputs": [
    {
     "name": "stdout",
     "output_type": "stream",
     "text": [
      "This is the first line.\r\n",
      "This is the second line.\r\n",
      "This is the third line.\r\n",
      "This is the four line.\r\n",
      "This is the five line.\r\n"
     ]
    }
   ],
   "source": [
    "tr -s '\\n' < lines.txt"
   ]
  },
  {
   "cell_type": "markdown",
   "metadata": {},
   "source": [
    "###### -c, -C, --complement\n",
    "    use the complement of SET1"
   ]
  },
  {
   "cell_type": "code",
   "execution_count": 8,
   "metadata": {
    "collapsed": false
   },
   "outputs": [
    {
     "name": "stdout",
     "output_type": "stream",
     "text": [
      " 1  2  3  4\r\n"
     ]
    }
   ],
   "source": [
    "echo 'aa.,a 1 b#$bb 2 c*/cc 3 ddd 4' | tr -d -c '0-9 \\n'"
   ]
  },
  {
   "cell_type": "markdown",
   "metadata": {},
   "source": [
    "###### -t, --truncate-set1\n",
    "    first truncate SET1 to length of SET2"
   ]
  },
  {
   "cell_type": "markdown",
   "metadata": {},
   "source": [
    "SETs are specified as strings of characters.  \n",
    "Most represent themselves.   \n",
    "Interpreted sequences are:"
   ]
  },
  {
   "cell_type": "markdown",
   "metadata": {},
   "source": [
    "###### \\NNN   \n",
    "    character with octal value NNN (1 to 3 octal digits)\n",
    "###### \\\\     \n",
    "    backslash\n",
    "###### \\a     \n",
    "    audible BEL\n",
    "###### \\b     \n",
    "    backspace\n",
    "###### \\f    \n",
    "    form feed\n",
    "###### \\n    \n",
    "    new line\n",
    "###### \\r     \n",
    "    return\n",
    "###### \\t     \n",
    "    horizontal tab\n",
    "###### \\v     \n",
    "    vertical tab\n",
    "###### CHAR1-CHAR2\n",
    "    all characters from CHAR1 to CHAR2 in ascending order\n",
    "###### [CHAR*]\n",
    "    in SET2, copies of CHAR until length of SET1\n",
    "###### [CHAR*REPEAT]\n",
    "    REPEAT copies of CHAR, REPEAT octal if starting with 0\n",
    "###### [:alnum:]\n",
    "    all letters and digits\n",
    "###### [:alpha:]\n",
    "    all letters\n",
    "###### [:blank:]\n",
    "    all horizontal whitespace\n",
    "###### [:cntrl:]\n",
    "    all control characters\n",
    "###### [:digit:]\n",
    "    all digits\n",
    "###### [:graph:]\n",
    "    all printable characters, not including space\n",
    "###### [:lower:]\n",
    "    all lower case letters\n",
    "###### [:print:]\n",
    "    all printable characters, including space\n",
    "###### [:punct:]\n",
    "    all punctuation characters\n",
    "###### [:space:]\n",
    "    all horizontal or vertical whitespace\n",
    "###### [:upper:]\n",
    "    all upper case letters\n",
    "###### [:xdigit:]\n",
    "    all hexadecimal digits\n",
    "###### [=CHAR=]\n",
    "    all characters which are equivalent to CHAR"
   ]
  },
  {
   "cell_type": "markdown",
   "metadata": {},
   "source": [
    "Translation  occurs  if  -d  is not given and both SET1 and SET2 appear.-t may be used only when translating.  SET2 is extended to length of SET1 by repeating its  last character as necessary.Excess characters of SET2 are ignored.Only [:lower:] and [:upper:] are guaranteed to expand in ascending order; used in SET2 while translating, they may only be used in pairs to specify case conversion. -s uses SET1 if not translating nor deleting; else squeezing uses SET2 and occurs after translation or deletion."
   ]
  },
  {
   "cell_type": "code",
   "execution_count": 9,
   "metadata": {
    "collapsed": false
   },
   "outputs": [
    {
     "name": "stdout",
     "output_type": "stream",
     "text": [
      "THIS IS THE TEST LINE.\r\n"
     ]
    }
   ],
   "source": [
    "# Conversion between upper and lower case characters.\n",
    "echo 'this is the test line.' | tr [:lower:] [:upper:]"
   ]
  },
  {
   "cell_type": "code",
   "execution_count": 13,
   "metadata": {
    "collapsed": false
   },
   "outputs": [
    {
     "name": "stdout",
     "output_type": "stream",
     "text": [
      "This^Iis^Ifor^Itesting.^I"
     ]
    }
   ],
   "source": [
    "# translate all the white-space to tabs\n",
    "echo \"This is for testing.\" | tr [:space:] '\\t' | cat -A"
   ]
  },
  {
   "cell_type": "code",
   "execution_count": 14,
   "metadata": {
    "collapsed": false
   },
   "outputs": [
    {
     "name": "stdout",
     "output_type": "stream",
     "text": [
      "This^I^Iis^I^I^Ifor^I^I^I^Itesting.^I"
     ]
    }
   ],
   "source": [
    "# squeeze the repetition of white-space and translate it to tabs\n",
    "echo \"This  is   for    testing.\" | tr [:space:] '\\t' | cat -A"
   ]
  },
  {
   "cell_type": "code",
   "execution_count": 15,
   "metadata": {
    "collapsed": false
   },
   "outputs": [
    {
     "name": "stdout",
     "output_type": "stream",
     "text": [
      "This^Iis^Ifor^Itesting.^I"
     ]
    }
   ],
   "source": [
    "echo \"This  is   for    testing.\" | tr -s [:space:] '\\t' | cat -A"
   ]
  }
 ],
 "metadata": {
  "kernelspec": {
   "display_name": "Bash",
   "language": "bash",
   "name": "bash"
  },
  "language_info": {
   "codemirror_mode": "shell",
   "file_extension": ".sh",
   "mimetype": "text/x-sh",
   "name": "bash"
  }
 },
 "nbformat": 4,
 "nbformat_minor": 0
}
