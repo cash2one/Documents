{
 "cells": [
  {
   "cell_type": "markdown",
   "metadata": {},
   "source": [
    "#### NAME\n",
    "    head - output the first part of files\n",
    "#### SYNOPSIS\n",
    "    head [OPTION]... [FILE]...\n",
    "#### DESCRIPTION\n",
    "    Print the first 10 lines of each FILE to standard output.  \n",
    "    With more than one FILE, precede each with a header giving the file name.  \n",
    "    With no FILE, or when  FILE  is  -,  read standard input."
   ]
  },
  {
   "cell_type": "markdown",
   "metadata": {},
   "source": [
    "#### OPTIONS\n",
    "###### default"
   ]
  },
  {
   "cell_type": "code",
   "execution_count": 1,
   "metadata": {
    "collapsed": false
   },
   "outputs": [
    {
     "name": "stdout",
     "output_type": "stream",
     "text": [
      "192.168.1.1\r\n",
      "192.168.1.4\r\n",
      "192.168.1.5\r\n",
      "192.168.1.7\r\n",
      "192.168.1.8\r\n",
      "192.168.1.9\r\n",
      "192.168.1.13\r\n",
      "192.168.1.14\r\n",
      "192.168.1.16\r\n",
      "192.168.1.17\r\n"
     ]
    }
   ],
   "source": [
    "# Look over the first lines of the single file.\n",
    "head master.ip"
   ]
  },
  {
   "cell_type": "code",
   "execution_count": 2,
   "metadata": {
    "collapsed": false
   },
   "outputs": [
    {
     "name": "stdout",
     "output_type": "stream",
     "text": [
      "==> master.ip <==\r\n",
      "192.168.1.1\r\n",
      "192.168.1.4\r\n",
      "192.168.1.5\r\n",
      "192.168.1.7\r\n",
      "192.168.1.8\r\n",
      "192.168.1.9\r\n",
      "192.168.1.13\r\n",
      "192.168.1.14\r\n",
      "192.168.1.16\r\n",
      "192.168.1.17\r\n",
      "\r\n",
      "==> slave.ip <==\r\n",
      "192.168.1.2\r\n",
      "192.168.1.6\r\n",
      "192.168.1.10\r\n",
      "192.168.1.11\r\n",
      "192.168.1.12\r\n",
      "192.168.1.15\r\n",
      "192.168.1.19\r\n",
      "192.168.1.23\r\n",
      "192.168.1.24\r\n",
      "192.168.1.26\r\n"
     ]
    }
   ],
   "source": [
    "# Look over the first lines per file.\n",
    "head master.ip slave.ip"
   ]
  },
  {
   "cell_type": "markdown",
   "metadata": {},
   "source": [
    "###### -c, --bytes=[-]K\n",
    "    print the first K bytes of each file; \n",
    "    with the leading ‘-’, print all but the last K bytes of each file.\n",
    "    \n",
    "    K may have a multiplier suffix: \n",
    "    b 512, \n",
    "    kB 1000, \n",
    "    K 1024, \n",
    "    MB 1000*1000, \n",
    "    M 1024*1024, \n",
    "    GB 1000*1000*1000, \n",
    "    G 1024*1024*1024, \n",
    "    and so on for T, P, E, Z, Y."
   ]
  },
  {
   "cell_type": "code",
   "execution_count": 5,
   "metadata": {
    "collapsed": false
   },
   "outputs": [
    {
     "name": "stdout",
     "output_type": "stream",
     "text": [
      "192.168.1.1\r\n"
     ]
    }
   ],
   "source": [
    "# print the first K bytes of each file;\n",
    "head -c12 master.ip"
   ]
  },
  {
   "cell_type": "code",
   "execution_count": 6,
   "metadata": {
    "collapsed": false
   },
   "outputs": [
    {
     "name": "stdout",
     "output_type": "stream",
     "text": [
      "192.168.1.1\r\n",
      "192.168.1.4\r\n"
     ]
    }
   ],
   "source": [
    "head -c24 master.ip"
   ]
  },
  {
   "cell_type": "code",
   "execution_count": 8,
   "metadata": {
    "collapsed": false
   },
   "outputs": [
    {
     "name": "stdout",
     "output_type": "stream",
     "text": [
      "192.168.1.1\r\n",
      "192.168.1.4\r\n",
      "192.168"
     ]
    }
   ],
   "source": [
    "head -c31 master.ip"
   ]
  },
  {
   "cell_type": "code",
   "execution_count": 9,
   "metadata": {
    "collapsed": false
   },
   "outputs": [
    {
     "name": "stdout",
     "output_type": "stream",
     "text": [
      "==> master.ip <==\r\n",
      "192.168.1.1\r\n",
      "192.168.1.4\r\n",
      "\r\n",
      "==> slave.ip <==\r\n",
      "192.168.1.2\r\n",
      "192.168.1.6\r\n"
     ]
    }
   ],
   "source": [
    "head -c24 master.ip slave.ip"
   ]
  },
  {
   "cell_type": "code",
   "execution_count": 15,
   "metadata": {
    "collapsed": false
   },
   "outputs": [
    {
     "name": "stdout",
     "output_type": "stream",
     "text": [
      "     1\t192.168.1.1\r\n",
      "     2\t192.168.1.4\r\n",
      "     3\t192.168.1.5\r\n",
      "     4\t192.168.1.7\r\n",
      "     5\t192.168.1.8\r\n",
      "     6\t192.168.1.9\r\n",
      "     7\t192.168.1.13\r\n",
      "     8\t192.168.1.14\r\n",
      "     9\t192.168.1.16\r\n",
      "    10\t192.168.1.17\r\n",
      "    11\t192.168.1.18\r\n",
      "    12\t192.168.1.20\r\n"
     ]
    }
   ],
   "source": [
    "# with the leading ‘-’, \n",
    "# print all but the last K bytes of each file.\n",
    "\n",
    "# Do not print the last four lines.\n",
    "nl master.ip"
   ]
  },
  {
   "cell_type": "code",
   "execution_count": 14,
   "metadata": {
    "collapsed": false
   },
   "outputs": [
    {
     "name": "stdout",
     "output_type": "stream",
     "text": [
      "     1\t192.168.1.1\r\n",
      "     2\t192.168.1.4\r\n",
      "     3\t192.168.1.5\r\n",
      "     4\t192.168.1.7\r\n",
      "     5\t192.168.1.8\r\n",
      "     6\t192.168.1.9\r\n",
      "     7\t192.168.1.13\r\n",
      "     8\t192.168.1.14\r\n"
     ]
    }
   ],
   "source": [
    "head -c-52 master.ip | nl"
   ]
  },
  {
   "cell_type": "code",
   "execution_count": 17,
   "metadata": {
    "collapsed": false
   },
   "outputs": [
    {
     "name": "stdout",
     "output_type": "stream",
     "text": [
      "==> master.ip <==\r\n",
      "192.168.1.1\r\n",
      "192.168.1.4\r\n",
      "192.168.1.5\r\n",
      "192.168.1.7\r\n",
      "192.168.1.8\r\n",
      "192.168.1.9\r\n",
      "192.168.1.13\r\n",
      "192.168.1.14\r\n",
      "\r\n",
      "==> slave.ip <==\r\n",
      "192.168.1.2\r\n",
      "192.168.1.6\r\n",
      "192.168.1.10\r\n",
      "192.168.1.11\r\n",
      "192.168.1.12\r\n",
      "192.168.1.15\r\n",
      "192.168.1.19\r\n",
      "192.168.1.23\r\n"
     ]
    }
   ],
   "source": [
    "head -c-52 master.ip slave.ip"
   ]
  },
  {
   "cell_type": "markdown",
   "metadata": {},
   "source": [
    "###### -n, --lines=[-]K\n",
    "    print the first K lines instead of the first 10; \n",
    "    with the leading ‘-’, print  all but the last K lines of each file"
   ]
  },
  {
   "cell_type": "code",
   "execution_count": 18,
   "metadata": {
    "collapsed": false
   },
   "outputs": [
    {
     "name": "stdout",
     "output_type": "stream",
     "text": [
      "192.168.1.1\r\n",
      "192.168.1.4\r\n",
      "192.168.1.5\r\n",
      "192.168.1.7\r\n",
      "192.168.1.8\r\n",
      "192.168.1.9\r\n"
     ]
    }
   ],
   "source": [
    "# print the first K lines instead of the first 10\n",
    "head -n6 master.ip"
   ]
  },
  {
   "cell_type": "code",
   "execution_count": 22,
   "metadata": {
    "collapsed": false
   },
   "outputs": [
    {
     "name": "stdout",
     "output_type": "stream",
     "text": [
      "==> master.ip <==\r\n",
      "192.168.1.1\r\n",
      "192.168.1.4\r\n",
      "\r\n",
      "==> slave.ip <==\r\n",
      "192.168.1.2\r\n",
      "192.168.1.6\r\n"
     ]
    }
   ],
   "source": [
    "head -n2 master.ip slave.ip"
   ]
  },
  {
   "cell_type": "code",
   "execution_count": 23,
   "metadata": {
    "collapsed": false
   },
   "outputs": [
    {
     "name": "stdout",
     "output_type": "stream",
     "text": [
      "192.168.1.1\r\n",
      "192.168.1.4\r\n",
      "192.168.1.5\r\n",
      "192.168.1.7\r\n",
      "192.168.1.8\r\n",
      "192.168.1.9\r\n"
     ]
    }
   ],
   "source": [
    "# with the leading ‘-’, \n",
    "# print  all but the last K lines of each file\n",
    "head -n-6 master.ip"
   ]
  },
  {
   "cell_type": "code",
   "execution_count": 24,
   "metadata": {
    "collapsed": false
   },
   "outputs": [
    {
     "name": "stdout",
     "output_type": "stream",
     "text": [
      "==> master.ip <==\r\n",
      "192.168.1.1\r\n",
      "192.168.1.4\r\n",
      "192.168.1.5\r\n",
      "192.168.1.7\r\n",
      "192.168.1.8\r\n",
      "192.168.1.9\r\n",
      "\r\n",
      "==> slave.ip <==\r\n",
      "192.168.1.2\r\n",
      "192.168.1.6\r\n",
      "192.168.1.10\r\n",
      "192.168.1.11\r\n",
      "192.168.1.12\r\n",
      "192.168.1.15\r\n"
     ]
    }
   ],
   "source": [
    "head -n-6 master.ip slave.ip"
   ]
  },
  {
   "cell_type": "markdown",
   "metadata": {},
   "source": [
    "###### -q, --quiet, --silent\n",
    "    never print headers giving file names"
   ]
  },
  {
   "cell_type": "code",
   "execution_count": 25,
   "metadata": {
    "collapsed": false
   },
   "outputs": [
    {
     "name": "stdout",
     "output_type": "stream",
     "text": [
      "192.168.1.1\r\n",
      "192.168.1.4\r\n",
      "192.168.1.5\r\n",
      "192.168.1.7\r\n",
      "192.168.1.8\r\n",
      "192.168.1.9\r\n",
      "192.168.1.13\r\n",
      "192.168.1.14\r\n",
      "192.168.1.16\r\n",
      "192.168.1.17\r\n"
     ]
    }
   ],
   "source": [
    "# 'head' single file is default.\n",
    "head master.ip"
   ]
  },
  {
   "cell_type": "code",
   "execution_count": 27,
   "metadata": {
    "collapsed": false
   },
   "outputs": [
    {
     "name": "stdout",
     "output_type": "stream",
     "text": [
      "192.168.1.1\r\n",
      "192.168.1.4\r\n",
      "192.168.1.5\r\n",
      "192.168.1.7\r\n",
      "192.168.1.8\r\n",
      "192.168.1.9\r\n",
      "192.168.1.13\r\n",
      "192.168.1.14\r\n",
      "192.168.1.16\r\n",
      "192.168.1.17\r\n",
      "192.168.1.2\r\n",
      "192.168.1.6\r\n",
      "192.168.1.10\r\n",
      "192.168.1.11\r\n",
      "192.168.1.12\r\n",
      "192.168.1.15\r\n",
      "192.168.1.19\r\n",
      "192.168.1.23\r\n",
      "192.168.1.24\r\n",
      "192.168.1.26\r\n"
     ]
    }
   ],
   "source": [
    "# for one more than files.\n",
    "# never print headers giving file names\n",
    "head -q master.ip slave.ip"
   ]
  },
  {
   "cell_type": "markdown",
   "metadata": {},
   "source": [
    "###### -v, --verbose\n",
    "    always print headers giving file names"
   ]
  },
  {
   "cell_type": "code",
   "execution_count": 28,
   "metadata": {
    "collapsed": false
   },
   "outputs": [
    {
     "name": "stdout",
     "output_type": "stream",
     "text": [
      "==> master.ip <==\r\n",
      "192.168.1.1\r\n",
      "192.168.1.4\r\n",
      "192.168.1.5\r\n",
      "192.168.1.7\r\n",
      "192.168.1.8\r\n",
      "192.168.1.9\r\n",
      "192.168.1.13\r\n",
      "192.168.1.14\r\n",
      "192.168.1.16\r\n",
      "192.168.1.17\r\n"
     ]
    }
   ],
   "source": [
    "# for single file\n",
    "# always print headers giving file names\n",
    "head -v master.ip"
   ]
  },
  {
   "cell_type": "code",
   "execution_count": 29,
   "metadata": {
    "collapsed": false
   },
   "outputs": [
    {
     "name": "stdout",
     "output_type": "stream",
     "text": [
      "==> master.ip <==\r\n",
      "192.168.1.1\r\n",
      "192.168.1.4\r\n",
      "192.168.1.5\r\n",
      "192.168.1.7\r\n",
      "192.168.1.8\r\n",
      "192.168.1.9\r\n",
      "192.168.1.13\r\n",
      "192.168.1.14\r\n",
      "192.168.1.16\r\n",
      "192.168.1.17\r\n",
      "\r\n",
      "==> slave.ip <==\r\n",
      "192.168.1.2\r\n",
      "192.168.1.6\r\n",
      "192.168.1.10\r\n",
      "192.168.1.11\r\n",
      "192.168.1.12\r\n",
      "192.168.1.15\r\n",
      "192.168.1.19\r\n",
      "192.168.1.23\r\n",
      "192.168.1.24\r\n",
      "192.168.1.26\r\n"
     ]
    }
   ],
   "source": [
    "# for one more than files.\n",
    "# print headers are default\n",
    "head master.ip slave.ip"
   ]
  }
 ],
 "metadata": {
  "kernelspec": {
   "display_name": "Bash",
   "language": "bash",
   "name": "bash"
  },
  "language_info": {
   "codemirror_mode": "shell",
   "file_extension": ".sh",
   "mimetype": "text/x-sh",
   "name": "bash"
  }
 },
 "nbformat": 4,
 "nbformat_minor": 0
}
