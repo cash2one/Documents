{
 "cells": [
  {
   "cell_type": "markdown",
   "metadata": {},
   "source": [
    "#### NAME\n",
    "    touch - change file timestamps\n",
    "#### SYNOPSIS\n",
    "    touch [OPTION]... FILE...\n",
    "#### DESCRIPTION\n",
    "    Update the access and modification times of each FILE to the current time.\n",
    "    A FILE argument that does not exist is created empty, unless -c or -h is supplied.\n",
    "    A FILE argument string of - is handled specially and causes touch to change the times of the file associated with standard output."
   ]
  },
  {
   "cell_type": "markdown",
   "metadata": {},
   "source": [
    "#### OPTIONS\n",
    "###### default"
   ]
  },
  {
   "cell_type": "code",
   "execution_count": 2,
   "metadata": {
    "collapsed": false
   },
   "outputs": [
    {
     "name": "stdout",
     "output_type": "stream",
     "text": [
      "Access: (0755/-rwxr-xr-x)  Uid: ( 1000/  liheyi)   Gid: ( 1000/  liheyi)\r\n",
      "Access: 2016-08-02 18:36:38.044791521 +0800\r\n",
      "Modify: 2016-07-07 14:59:11.880027317 +0800\r\n",
      "Change: 2016-07-07 16:17:57.352108660 +0800\r\n"
     ]
    }
   ],
   "source": [
    "# If the file is existing.\n",
    "# Update the access and modification times to the current time.\n",
    "\n",
    "stat /home/liheyi/jupyter/start.sh | grep -E \"Access|Modify|Change\""
   ]
  },
  {
   "cell_type": "code",
   "execution_count": 3,
   "metadata": {
    "collapsed": false
   },
   "outputs": [
    {
     "name": "stdout",
     "output_type": "stream",
     "text": [
      "Access: (0755/-rwxr-xr-x)  Uid: ( 1000/  liheyi)   Gid: ( 1000/  liheyi)\r\n",
      "Access: 2016-08-05 12:47:30.759591356 +0800\r\n",
      "Modify: 2016-08-05 12:47:30.759591356 +0800\r\n",
      "Change: 2016-08-05 12:47:30.759591356 +0800\r\n"
     ]
    }
   ],
   "source": [
    "touch /home/liheyi/jupyter/start.sh\n",
    "stat /home/liheyi/jupyter/start.sh | grep -E \"Access|Modify|Change\""
   ]
  },
  {
   "cell_type": "code",
   "execution_count": 4,
   "metadata": {
    "collapsed": false
   },
   "outputs": [
    {
     "name": "stdout",
     "output_type": "stream",
     "text": [
      "total 0\r\n"
     ]
    }
   ],
   "source": [
    "# If the file is not existing.\n",
    "# Create the empty file\n",
    "\n",
    "ls -lh project/"
   ]
  },
  {
   "cell_type": "code",
   "execution_count": 5,
   "metadata": {
    "collapsed": false
   },
   "outputs": [
    {
     "name": "stdout",
     "output_type": "stream",
     "text": [
      "total 0\r\n",
      "-rw-rw-r-- 1 liheyi liheyi 0  8月  5 12:51 README.md\r\n"
     ]
    }
   ],
   "source": [
    "touch project/README.md\n",
    "ls -lh project/"
   ]
  },
  {
   "cell_type": "code",
   "execution_count": 6,
   "metadata": {
    "collapsed": false
   },
   "outputs": [
    {
     "name": "stdout",
     "output_type": "stream",
     "text": [
      "total 0\r\n",
      "-rw-rw-r-- 1 liheyi liheyi 0  8月  5 12:54 Section1.txt\r\n",
      "-rw-rw-r-- 1 liheyi liheyi 0  8月  5 12:54 Section2.txt\r\n",
      "-rw-rw-r-- 1 liheyi liheyi 0  8月  5 12:54 Section3.txt\r\n",
      "-rw-rw-r-- 1 liheyi liheyi 0  8月  5 12:54 Section4.txt\r\n",
      "-rw-rw-r-- 1 liheyi liheyi 0  8月  5 12:54 Section5.txt\r\n",
      "-rw-rw-r-- 1 liheyi liheyi 0  8月  5 12:54 Section6.txt\r\n"
     ]
    }
   ],
   "source": [
    "# Use touch command\n",
    "# We can create multiple empty files at the same time\n",
    "touch project/Section{1..6}.txt\n",
    "ls -lh project/"
   ]
  },
  {
   "cell_type": "markdown",
   "metadata": {},
   "source": [
    "#### -a\n",
    "    change only the access time"
   ]
  },
  {
   "cell_type": "code",
   "execution_count": 7,
   "metadata": {
    "collapsed": false
   },
   "outputs": [
    {
     "name": "stdout",
     "output_type": "stream",
     "text": [
      "Access: (0755/-rwxr-xr-x)  Uid: ( 1000/  liheyi)   Gid: ( 1000/  liheyi)\r\n",
      "Access: 2016-08-05 12:47:30.759591356 +0800\r\n",
      "Modify: 2016-08-05 12:47:30.759591356 +0800\r\n",
      "Change: 2016-08-05 12:47:30.759591356 +0800\r\n"
     ]
    }
   ],
   "source": [
    "stat /home/liheyi/jupyter/start.sh | grep -E \"Access|Modify|Change\""
   ]
  },
  {
   "cell_type": "code",
   "execution_count": 8,
   "metadata": {
    "collapsed": false
   },
   "outputs": [
    {
     "name": "stdout",
     "output_type": "stream",
     "text": [
      "Access: (0755/-rwxr-xr-x)  Uid: ( 1000/  liheyi)   Gid: ( 1000/  liheyi)\r\n",
      "Access: 2016-08-05 12:55:34.299599680 +0800\r\n",
      "Modify: 2016-08-05 12:47:30.759591356 +0800\r\n",
      "Change: 2016-08-05 12:55:34.299599680 +0800\r\n"
     ]
    }
   ],
   "source": [
    "touch -a /home/liheyi/jupyter/start.sh\n",
    "stat /home/liheyi/jupyter/start.sh | grep -E \"Access|Modify|Change\""
   ]
  },
  {
   "cell_type": "markdown",
   "metadata": {},
   "source": [
    "###### -m     \n",
    "    change only the modification time"
   ]
  },
  {
   "cell_type": "code",
   "execution_count": 13,
   "metadata": {
    "collapsed": false,
    "scrolled": true
   },
   "outputs": [
    {
     "name": "stdout",
     "output_type": "stream",
     "text": [
      "Access: (0755/-rwxr-xr-x)  Uid: ( 1000/  liheyi)   Gid: ( 1000/  liheyi)\r\n",
      "Access: 2016-08-05 13:01:33.407605861 +0800\r\n",
      "Modify: 2016-08-05 13:01:33.407605861 +0800\r\n",
      "Change: 2016-08-05 13:01:33.407605861 +0800\r\n"
     ]
    }
   ],
   "source": [
    "stat /home/liheyi/jupyter/start.sh | grep -E \"Access|Modify|Change\""
   ]
  },
  {
   "cell_type": "code",
   "execution_count": 14,
   "metadata": {
    "collapsed": false,
    "scrolled": true
   },
   "outputs": [
    {
     "name": "stdout",
     "output_type": "stream",
     "text": [
      "Access: (0755/-rwxr-xr-x)  Uid: ( 1000/  liheyi)   Gid: ( 1000/  liheyi)\r\n",
      "Access: 2016-08-05 13:01:33.407605861 +0800\r\n",
      "Modify: 2016-08-05 13:03:49.671608207 +0800\r\n",
      "Change: 2016-08-05 13:03:49.671608207 +0800\r\n"
     ]
    }
   ],
   "source": [
    "touch -m /home/liheyi/jupyter/start.sh\n",
    "stat /home/liheyi/jupyter/start.sh | grep -E \"Access|Modify|Change\""
   ]
  },
  {
   "cell_type": "markdown",
   "metadata": {},
   "source": [
    "###### --time=WORD\n",
    "    change  the  specified  time:  \n",
    "    WORD is access, atime, or use: equivalent to -a \n",
    "    WORD is modify or mtime: equivalent to -m"
   ]
  },
  {
   "cell_type": "markdown",
   "metadata": {},
   "source": [
    "#### -c, --no-create\n",
    "    do not create any files"
   ]
  },
  {
   "cell_type": "code",
   "execution_count": 9,
   "metadata": {
    "collapsed": false
   },
   "outputs": [
    {
     "name": "stdout",
     "output_type": "stream",
     "text": [
      "ls: cannot access no_exist_file: No such file or directory\r\n"
     ]
    }
   ],
   "source": [
    "# If the file is not existing.\n",
    "# Not create it.\n",
    "ls -lh no_exist_file"
   ]
  },
  {
   "cell_type": "code",
   "execution_count": 10,
   "metadata": {
    "collapsed": false
   },
   "outputs": [
    {
     "name": "stdout",
     "output_type": "stream",
     "text": [
      "ls: cannot access no_exist_file: No such file or directory\r\n"
     ]
    }
   ],
   "source": [
    "touch -c no_exist_file\n",
    "ls -lh no_exist_file"
   ]
  },
  {
   "cell_type": "code",
   "execution_count": 11,
   "metadata": {
    "collapsed": false
   },
   "outputs": [
    {
     "name": "stdout",
     "output_type": "stream",
     "text": [
      "Access: (0755/-rwxr-xr-x)  Uid: ( 1000/  liheyi)   Gid: ( 1000/  liheyi)\r\n",
      "Access: 2016-08-05 12:55:34.299599680 +0800\r\n",
      "Modify: 2016-08-05 12:47:30.759591356 +0800\r\n",
      "Change: 2016-08-05 12:55:34.299599680 +0800\r\n"
     ]
    }
   ],
   "source": [
    "# If the file is existing.\n",
    "# Same as the default:\n",
    "# Update the access and modification times to the current time.\n",
    "stat /home/liheyi/jupyter/start.sh | grep -E \"Access|Modify|Change\""
   ]
  },
  {
   "cell_type": "code",
   "execution_count": 12,
   "metadata": {
    "collapsed": false
   },
   "outputs": [
    {
     "name": "stdout",
     "output_type": "stream",
     "text": [
      "Access: (0755/-rwxr-xr-x)  Uid: ( 1000/  liheyi)   Gid: ( 1000/  liheyi)\r\n",
      "Access: 2016-08-05 13:01:33.407605861 +0800\r\n",
      "Modify: 2016-08-05 13:01:33.407605861 +0800\r\n",
      "Change: 2016-08-05 13:01:33.407605861 +0800\r\n"
     ]
    }
   ],
   "source": [
    "touch -c /home/liheyi/jupyter/start.sh\n",
    "stat /home/liheyi/jupyter/start.sh | grep -E \"Access|Modify|Change\""
   ]
  },
  {
   "cell_type": "markdown",
   "metadata": {},
   "source": [
    "###### -d, --date=STRING\n",
    "    parse STRING and use it instead of current time"
   ]
  },
  {
   "cell_type": "raw",
   "metadata": {},
   "source": [
    "DATE STRING\n",
    "    The --date=STRING is a mostly free format human readable date string such as \"Sun, 29 Feb  2004  16:21:42-0800\" or \"2004-02-29 16:21:42\" or even \"next Thursday\".  A date string may contain items indicating calendar date, time of day, time zone, day of week, relative time, relative date,  and  numbers.An empty string indicates  the beginning of the day. The date string format is more complex than is easily documented here but is fully described in the info documentation."
   ]
  },
  {
   "cell_type": "code",
   "execution_count": 15,
   "metadata": {
    "collapsed": false
   },
   "outputs": [
    {
     "name": "stdout",
     "output_type": "stream",
     "text": [
      "Access: (0664/-rw-rw-r--)  Uid: ( 1000/  liheyi)   Gid: ( 1000/  liheyi)\r\n",
      "Access: 2016-08-05 12:03:00.267545387 +0800\r\n",
      "Modify: 2016-08-05 12:03:00.267545387 +0800\r\n",
      "Change: 2016-08-05 12:03:00.267545387 +0800\r\n"
     ]
    }
   ],
   "source": [
    "# Set date format:\"2016-03-09 12:00:00\"\n",
    "stat README.md | grep -E \"Access|Modify|Change\""
   ]
  },
  {
   "cell_type": "code",
   "execution_count": 16,
   "metadata": {
    "collapsed": false
   },
   "outputs": [
    {
     "name": "stdout",
     "output_type": "stream",
     "text": [
      "Access: (0664/-rw-rw-r--)  Uid: ( 1000/  liheyi)   Gid: ( 1000/  liheyi)\r\n",
      "Access: 2016-03-09 12:00:00.000000000 +0800\r\n",
      "Modify: 2016-03-09 12:00:00.000000000 +0800\r\n",
      "Change: 2016-08-05 13:10:28.983615080 +0800\r\n"
     ]
    }
   ],
   "source": [
    "touch -d \"2016-03-09 12:00:00\" README.md\n",
    "stat README.md | grep -E \"Access|Modify|Change\""
   ]
  },
  {
   "cell_type": "markdown",
   "metadata": {},
   "source": [
    "###### -t STAMP\n",
    "    use [[CC]YY]MMDDhhmm[.ss] instead of current time"
   ]
  },
  {
   "cell_type": "code",
   "execution_count": 27,
   "metadata": {
    "collapsed": false
   },
   "outputs": [
    {
     "name": "stdout",
     "output_type": "stream",
     "text": [
      "Access: (0664/-rw-rw-r--)  Uid: ( 1000/  liheyi)   Gid: ( 1000/  liheyi)\r\n",
      "Access: 2016-08-05 14:17:02.779683828 +0800\r\n",
      "Modify: 2016-08-05 14:17:02.779683828 +0800\r\n",
      "Change: 2016-08-05 14:17:02.779683828 +0800\r\n"
     ]
    }
   ],
   "source": [
    "stat README.md | grep -E \"Access|Modify|Change\""
   ]
  },
  {
   "cell_type": "code",
   "execution_count": 28,
   "metadata": {
    "collapsed": false
   },
   "outputs": [
    {
     "name": "stdout",
     "output_type": "stream",
     "text": [
      "Access: (0664/-rw-rw-r--)  Uid: ( 1000/  liheyi)   Gid: ( 1000/  liheyi)\r\n",
      "Access: 2000-03-09 03:09:39.000000000 +0800\r\n",
      "Modify: 2000-03-09 03:09:39.000000000 +0800\r\n",
      "Change: 2016-08-05 14:29:42.143696900 +0800\r\n"
     ]
    }
   ],
   "source": [
    "touch -t '200003090309.39' README.md\n",
    "stat README.md | grep -E \"Access|Modify|Change\""
   ]
  },
  {
   "cell_type": "markdown",
   "metadata": {},
   "source": [
    "#### -r, --reference=FILE\n",
    "    use this file's times instead of current time"
   ]
  },
  {
   "cell_type": "code",
   "execution_count": 23,
   "metadata": {
    "collapsed": false
   },
   "outputs": [
    {
     "name": "stdout",
     "output_type": "stream",
     "text": [
      "  File: ‘/home/liheyi/jupyter/ntp.sh’\r\n",
      "Access: (0775/-rwxrwxr-x)  Uid: ( 1000/  liheyi)   Gid: ( 1000/  liheyi)\r\n",
      "Access: 2016-08-04 12:55:16.243905000 +0800\r\n",
      "Modify: 2016-07-07 18:32:48.280247934 +0800\r\n",
      "Change: 2016-07-07 18:32:48.280247934 +0800\r\n",
      "  File: ‘/home/liheyi/jupyter/start.sh’\r\n",
      "Access: (0755/-rwxr-xr-x)  Uid: ( 1000/  liheyi)   Gid: ( 1000/  liheyi)\r\n",
      "Access: 2016-08-05 13:01:33.407605861 +0800\r\n",
      "Modify: 2016-08-05 13:03:49.671608207 +0800\r\n",
      "Change: 2016-08-05 13:03:49.671608207 +0800\r\n"
     ]
    }
   ],
   "source": [
    "stat ~/jupyter/ntp.sh ~/jupyter/start.sh | grep -E \"File|Access|Modify|Change\""
   ]
  },
  {
   "cell_type": "code",
   "execution_count": 24,
   "metadata": {
    "collapsed": false
   },
   "outputs": [
    {
     "name": "stdout",
     "output_type": "stream",
     "text": [
      "  File: ‘/home/liheyi/jupyter/ntp.sh’\r\n",
      "Access: (0775/-rwxrwxr-x)  Uid: ( 1000/  liheyi)   Gid: ( 1000/  liheyi)\r\n",
      "Access: 2016-08-04 12:55:16.243905000 +0800\r\n",
      "Modify: 2016-07-07 18:32:48.280247934 +0800\r\n",
      "Change: 2016-07-07 18:32:48.280247934 +0800\r\n",
      "  File: ‘/home/liheyi/jupyter/start.sh’\r\n",
      "Access: (0755/-rwxr-xr-x)  Uid: ( 1000/  liheyi)   Gid: ( 1000/  liheyi)\r\n",
      "Access: 2016-08-04 12:55:16.243905000 +0800\r\n",
      "Modify: 2016-07-07 18:32:48.280247934 +0800\r\n",
      "Change: 2016-08-05 14:24:36.807691644 +0800\r\n"
     ]
    }
   ],
   "source": [
    "touch -r '/home/liheyi/jupyter/ntp.sh' /home/liheyi/jupyter/start.sh\n",
    "stat ~/jupyter/ntp.sh ~/jupyter/start.sh | grep -E \"File|Access|Modify|Change\""
   ]
  },
  {
   "cell_type": "markdown",
   "metadata": {},
   "source": [
    "###### -h, --no-dereference\n",
    "    affect each symbolic link instead of any referenced file \n",
    "    (useful only on systems that  can  change the timestamps of a symlink)"
   ]
  },
  {
   "cell_type": "code",
   "execution_count": 18,
   "metadata": {
    "collapsed": false
   },
   "outputs": [
    {
     "name": "stdout",
     "output_type": "stream",
     "text": [
      "  File: ‘README.link’ -> ‘README.md’\r\n",
      "Access: (0777/lrwxrwxrwx)  Uid: ( 1000/  liheyi)   Gid: ( 1000/  liheyi)\r\n",
      "Access: 2016-08-05 14:12:25.211679050 +0800\r\n",
      "Modify: 2016-08-05 14:12:21.475678986 +0800\r\n",
      "Change: 2016-08-05 14:12:21.475678986 +0800\r\n",
      "  File: ‘README.md’\r\n",
      "Access: (0664/-rw-rw-r--)  Uid: ( 1000/  liheyi)   Gid: ( 1000/  liheyi)\r\n",
      "Access: 2016-08-05 14:12:09.563678781 +0800\r\n",
      "Modify: 2016-08-05 14:12:09.563678781 +0800\r\n",
      "Change: 2016-08-05 14:12:09.563678781 +0800\r\n"
     ]
    }
   ],
   "source": [
    "# the default is affect referenced file:‘README.md’\n",
    "stat README.* |  grep -E \"File|Access|Modify|Change\""
   ]
  },
  {
   "cell_type": "code",
   "execution_count": 19,
   "metadata": {
    "collapsed": false
   },
   "outputs": [
    {
     "name": "stdout",
     "output_type": "stream",
     "text": [
      "  File: ‘README.link’ -> ‘README.md’\r\n",
      "Access: (0777/lrwxrwxrwx)  Uid: ( 1000/  liheyi)   Gid: ( 1000/  liheyi)\r\n",
      "Access: 2016-08-05 14:12:25.211679050 +0800\r\n",
      "Modify: 2016-08-05 14:12:21.475678986 +0800\r\n",
      "Change: 2016-08-05 14:12:21.475678986 +0800\r\n",
      "  File: ‘README.md’\r\n",
      "Access: (0664/-rw-rw-r--)  Uid: ( 1000/  liheyi)   Gid: ( 1000/  liheyi)\r\n",
      "Access: 2016-08-05 14:17:02.779683828 +0800\r\n",
      "Modify: 2016-08-05 14:17:02.779683828 +0800\r\n",
      "Change: 2016-08-05 14:17:02.779683828 +0800\r\n"
     ]
    }
   ],
   "source": [
    "touch README.link\n",
    "stat README.* |  grep -E \"File|Access|Modify|Change\""
   ]
  },
  {
   "cell_type": "code",
   "execution_count": 20,
   "metadata": {
    "collapsed": false
   },
   "outputs": [
    {
     "name": "stdout",
     "output_type": "stream",
     "text": [
      "  File: ‘README.link’ -> ‘README.md’\r\n",
      "Access: (0777/lrwxrwxrwx)  Uid: ( 1000/  liheyi)   Gid: ( 1000/  liheyi)\r\n",
      "Access: 2016-08-05 14:12:25.211679050 +0800\r\n",
      "Modify: 2016-08-05 14:12:21.475678986 +0800\r\n",
      "Change: 2016-08-05 14:12:21.475678986 +0800\r\n",
      "  File: ‘README.md’\r\n",
      "Access: (0664/-rw-rw-r--)  Uid: ( 1000/  liheyi)   Gid: ( 1000/  liheyi)\r\n",
      "Access: 2016-08-05 14:17:02.779683828 +0800\r\n",
      "Modify: 2016-08-05 14:17:02.779683828 +0800\r\n",
      "Change: 2016-08-05 14:17:02.779683828 +0800\r\n"
     ]
    }
   ],
   "source": [
    "# With the '-h' option,\n",
    "# affect symbolic link 'README.link' instead of referenced file 'README.md'\n",
    "stat README.* |  grep -E \"File|Access|Modify|Change\""
   ]
  },
  {
   "cell_type": "code",
   "execution_count": 21,
   "metadata": {
    "collapsed": false
   },
   "outputs": [
    {
     "name": "stdout",
     "output_type": "stream",
     "text": [
      "  File: ‘README.link’ -> ‘README.md’\r\n",
      "Access: (0777/lrwxrwxrwx)  Uid: ( 1000/  liheyi)   Gid: ( 1000/  liheyi)\r\n",
      "Access: 2016-08-05 14:19:09.703686013 +0800\r\n",
      "Modify: 2016-08-05 14:19:09.703686013 +0800\r\n",
      "Change: 2016-08-05 14:19:09.703686013 +0800\r\n",
      "  File: ‘README.md’\r\n",
      "Access: (0664/-rw-rw-r--)  Uid: ( 1000/  liheyi)   Gid: ( 1000/  liheyi)\r\n",
      "Access: 2016-08-05 14:17:02.779683828 +0800\r\n",
      "Modify: 2016-08-05 14:17:02.779683828 +0800\r\n",
      "Change: 2016-08-05 14:17:02.779683828 +0800\r\n"
     ]
    }
   ],
   "source": [
    "touch -h README.link\n",
    "stat README.* |  grep -E \"File|Access|Modify|Change\""
   ]
  }
 ],
 "metadata": {
  "kernelspec": {
   "display_name": "Bash",
   "language": "bash",
   "name": "bash"
  },
  "language_info": {
   "codemirror_mode": "shell",
   "file_extension": ".sh",
   "mimetype": "text/x-sh",
   "name": "bash"
  }
 },
 "nbformat": 4,
 "nbformat_minor": 0
}
