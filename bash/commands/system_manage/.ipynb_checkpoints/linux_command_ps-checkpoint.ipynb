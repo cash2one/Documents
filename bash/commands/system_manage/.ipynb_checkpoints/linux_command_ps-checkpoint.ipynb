{
 "cells": [
  {
   "cell_type": "markdown",
   "metadata": {},
   "source": [
    "#### NAME\n",
    "    ps - report a snapshot of the current processes.\n",
    "#### SYNOPSIS\n",
    "    ps [options]\n",
    "#### DESCRIPTION\n",
    "    ps displays information about a selection of the active processes.\n",
    "    If you want a repetitive update of the selection and the displayed information, use top instead.\n",
    "    This version of ps accepts several kinds of options:\n",
    "    \n",
    "    1   UNIX options, which may be grouped and must be preceded by a dash.\n",
    "    2   BSD options, which may be grouped and must not be used with a dash.\n",
    "    3   GNU long options, which are preceded by two dashes.\n",
    "    \n",
    "    Options of different types may be freely mixed, but conflicts can appear.\n",
    "    There are some synonymous options, which are functionally identical, \n",
    "    due to the many standards and ps implementations that this ps is compatible with.\n",
    "    \n",
    "    Note that \"ps -aux\" is distinct from \"ps aux\".  \n",
    "    The POSIX and UNIX standards require that \"ps -aux\" print all processes owned by a user named \"x\", \n",
    "    as well as printing all processes that would be selected by the -a option.\n",
    "    \n",
    "    If user named  \"x\" don't exist,this ps may interpret the command as \"ps aux\" instead and print a warning.\n",
    "    This behavior is intended to aid in transitioning old scripts and habits.\n",
    "    It is fragile, subject to change, and thus should not be relied upon.\n",
    "    \n",
    "    By default,ps selects all processes with the same effective user ID (euid=EUID) \n",
    "    as the current user and associated with the same terminal as the invoker.\n",
    "    \n",
    "    It displays the process ID (pid=PID), the terminal associated with the process (tname=TTY), \n",
    "    the cumulated CPU time in [DD-]hh:mm:ss format (time=TIME), and the executable name (ucmd=CMD).\n",
    "    Output is unsorted by default.\n",
    "    \n",
    "    The use of BSD-style options will add process state (stat=STAT) to the default display \n",
    "    and show the command args (args=COMMAND) instead of the executable name.\n",
    "    \n",
    "    You can override this with the PS_FORMAT environment variable. \n",
    "    The use of BSD-style options will also change the process selection to include processes \n",
    "    on other terminals (TTYs) that are owned by you; alternately, this may be described \n",
    "    as setting the selection to be the set of all processes filtered to exclude processes\n",
    "    owned by other users or not on a terminal.\n",
    "    \n",
    "    These effects are not considered when options are described as being \"identical\" below, \n",
    "    so -M will be considered identical to Z and so on.\n",
    "    \n",
    "    Except as described below, process selection options are additive.\n",
    "    The default selection is discarded, and then the selected processes \n",
    "    are added to the set of processes to be displayed.\n",
    "    \n",
    "    A process will thus be shown if it meets any of the given selection criteria."
   ]
  },
  {
   "cell_type": "markdown",
   "metadata": {},
   "source": [
    "#### EXAMPLES\n",
    "##### A.To see every process on the system using standard syntax:"
   ]
  },
  {
   "cell_type": "code",
   "execution_count": 36,
   "metadata": {
    "collapsed": false
   },
   "outputs": [
    {
     "name": "stdout",
     "output_type": "stream",
     "text": [
      "   PID TTY          TIME CMD\r\n",
      "     1 ?        00:00:06 init\r\n",
      "     2 ?        00:00:00 kthreadd\r\n",
      "     3 ?        00:01:30 ksoftirqd/0\r\n",
      "     5 ?        00:00:00 kworker/0:0H\r\n",
      "     7 ?        00:07:50 rcu_sched\r\n",
      "     8 ?        00:02:10 rcuos/0\r\n",
      "     9 ?        00:03:01 rcuos/1\r\n",
      "    10 ?        00:03:01 rcuos/2\r\n",
      "    11 ?        00:03:00 rcuos/3\r\n"
     ]
    }
   ],
   "source": [
    "ps -e | head"
   ]
  },
  {
   "cell_type": "code",
   "execution_count": 35,
   "metadata": {
    "collapsed": false
   },
   "outputs": [
    {
     "name": "stdout",
     "output_type": "stream",
     "text": [
      "UID         PID   PPID  C STIME TTY          TIME CMD\r\n",
      "root          1      0  0  8月11 ?      00:00:06 /sbin/init\r\n",
      "root          2      0  0  8月11 ?      00:00:00 [kthreadd]\r\n",
      "root          3      2  0  8月11 ?      00:01:30 [ksoftirqd/0]\r\n",
      "root          5      2  0  8月11 ?      00:00:00 [kworker/0:0H]\r\n",
      "root          7      2  0  8月11 ?      00:07:50 [rcu_sched]\r\n",
      "root          8      2  0  8月11 ?      00:02:10 [rcuos/0]\r\n",
      "root          9      2  0  8月11 ?      00:03:01 [rcuos/1]\r\n",
      "root         10      2  0  8月11 ?      00:03:01 [rcuos/2]\r\n",
      "root         11      2  0  8月11 ?      00:03:00 [rcuos/3]\r\n"
     ]
    }
   ],
   "source": [
    "ps -ef | head"
   ]
  },
  {
   "cell_type": "code",
   "execution_count": 34,
   "metadata": {
    "collapsed": false
   },
   "outputs": [
    {
     "name": "stdout",
     "output_type": "stream",
     "text": [
      "UID         PID   PPID  C    SZ   RSS PSR STIME TTY          TIME CMD\r\n",
      "root          1      0  0  8478  1972   0  8月11 ?      00:00:06 /sbin/init\r\n",
      "root          2      0  0     0     0   1  8月11 ?      00:00:00 [kthreadd]\r\n",
      "root          3      2  0     0     0   0  8月11 ?      00:01:30 [ksoftirqd/0]\r\n",
      "root          5      2  0     0     0   0  8月11 ?      00:00:00 [kworker/0:0H]\r\n",
      "root          7      2  0     0     0   1  8月11 ?      00:07:50 [rcu_sched]\r\n",
      "root          8      2  0     0     0   2  8月11 ?      00:02:10 [rcuos/0]\r\n",
      "root          9      2  0     0     0   0  8月11 ?      00:03:01 [rcuos/1]\r\n",
      "root         10      2  0     0     0   2  8月11 ?      00:03:01 [rcuos/2]\r\n",
      "root         11      2  0     0     0   0  8月11 ?      00:03:00 [rcuos/3]\r\n"
     ]
    }
   ],
   "source": [
    "ps -eF | head"
   ]
  },
  {
   "cell_type": "code",
   "execution_count": 33,
   "metadata": {
    "collapsed": false
   },
   "outputs": [
    {
     "name": "stdout",
     "output_type": "stream",
     "text": [
      "S   UID    PID   PPID  C PRI  NI   RSS    SZ WCHAN  TTY          TIME CMD\r\n",
      "S     0      1      0  0  80   0  1972  8478 poll_s ?        00:00:06 init\r\n",
      "S     0      2      0  0  80   0     0     0 kthrea ?        00:00:00 kthreadd\r\n",
      "S     0      3      2  0  80   0     0     0 smpboo ?        00:01:30 ksoftirqd/0\r\n",
      "S     0      5      2  0  60 -20     0     0 worker ?        00:00:00 kworker/0:0H\r\n",
      "S     0      7      2  0  80   0     0     0 rcu_gp ?        00:07:50 rcu_sched\r\n",
      "R     0      8      2  0  80   0     0     0 rcu_no ?        00:02:10 rcuos/0\r\n",
      "S     0      9      2  0  80   0     0     0 rcu_no ?        00:03:01 rcuos/1\r\n",
      "S     0     10      2  0  80   0     0     0 rcu_no ?        00:03:01 rcuos/2\r\n",
      "R     0     11      2  0  80   0     0     0 rcu_no ?        00:03:00 rcuos/3\r\n"
     ]
    }
   ],
   "source": [
    "ps -ely | head"
   ]
  },
  {
   "cell_type": "markdown",
   "metadata": {},
   "source": [
    "##### B.To see every process on the system using BSD syntax:"
   ]
  },
  {
   "cell_type": "code",
   "execution_count": 32,
   "metadata": {
    "collapsed": false
   },
   "outputs": [
    {
     "name": "stdout",
     "output_type": "stream",
     "text": [
      "   PID TTY      STAT   TIME COMMAND\r\n",
      "     1 ?        Ss     0:06 /sbin/init\r\n",
      "     2 ?        S      0:00 [kthreadd]\r\n",
      "     3 ?        S      1:30 [ksoftirqd/0]\r\n",
      "     5 ?        S<     0:00 [kworker/0:0H]\r\n",
      "     7 ?        S      7:50 [rcu_sched]\r\n",
      "     8 ?        S      2:10 [rcuos/0]\r\n",
      "     9 ?        R      3:01 [rcuos/1]\r\n",
      "    10 ?        S      3:01 [rcuos/2]\r\n",
      "    11 ?        S      3:00 [rcuos/3]\r\n"
     ]
    }
   ],
   "source": [
    "ps ax | head"
   ]
  },
  {
   "cell_type": "code",
   "execution_count": 31,
   "metadata": {
    "collapsed": false
   },
   "outputs": [
    {
     "name": "stdout",
     "output_type": "stream",
     "text": [
      "USER        PID %CPU %MEM    VSZ   RSS TTY      STAT START   TIME COMMAND\r\n",
      "root          1  0.0  0.0  33912  1972 ?        Ss    8月11   0:06 /sbin/init\r\n",
      "root          2  0.0  0.0      0     0 ?        S     8月11   0:00 [kthreadd]\r\n",
      "root          3  0.0  0.0      0     0 ?        S     8月11   1:30 [ksoftirqd/0]\r\n",
      "root          5  0.0  0.0      0     0 ?        S<    8月11   0:00 [kworker/0:0H]\r\n",
      "root          7  0.0  0.0      0     0 ?        S     8月11   7:50 [rcu_sched]\r\n",
      "root          8  0.0  0.0      0     0 ?        S     8月11   2:10 [rcuos/0]\r\n",
      "root          9  0.0  0.0      0     0 ?        S     8月11   3:01 [rcuos/1]\r\n",
      "root         10  0.0  0.0      0     0 ?        S     8月11   3:01 [rcuos/2]\r\n",
      "root         11  0.0  0.0      0     0 ?        S     8月11   3:00 [rcuos/3]\r\n"
     ]
    }
   ],
   "source": [
    "ps axu | head"
   ]
  },
  {
   "cell_type": "markdown",
   "metadata": {},
   "source": [
    "##### C.To print a process tree:"
   ]
  },
  {
   "cell_type": "code",
   "execution_count": 12,
   "metadata": {
    "collapsed": false
   },
   "outputs": [
    {
     "name": "stdout",
     "output_type": "stream",
     "text": [
      "   PID   PGID    SID TTY          TIME CMD\r\n",
      "     2      0      0 ?        00:00:00 kthreadd\r\n",
      "     3      0      0 ?        00:01:30   ksoftirqd/0\r\n",
      "     5      0      0 ?        00:00:00   kworker/0:0H\r\n",
      "     7      0      0 ?        00:07:50   rcu_sched\r\n",
      "     8      0      0 ?        00:02:10   rcuos/0\r\n",
      "     9      0      0 ?        00:03:01   rcuos/1\r\n",
      "    10      0      0 ?        00:03:01   rcuos/2\r\n",
      "    11      0      0 ?        00:03:00   rcuos/3\r\n",
      "    12      0      0 ?        00:00:00   rcuos/4\r\n"
     ]
    }
   ],
   "source": [
    "ps -ejH | head"
   ]
  },
  {
   "cell_type": "code",
   "execution_count": 14,
   "metadata": {
    "collapsed": false
   },
   "outputs": [
    {
     "name": "stdout",
     "output_type": "stream",
     "text": [
      "  PPID    PID   PGID    SID TTY       TPGID STAT   UID   TIME COMMAND\r\n",
      "     0      2      0      0 ?            -1 S        0   0:00 [kthreadd]\r\n",
      "     2      3      0      0 ?            -1 S        0   1:30  \\_ [ksoftirqd/0]\r\n",
      "     2      5      0      0 ?            -1 S<       0   0:00  \\_ [kworker/0:0H]\r\n",
      "     2      7      0      0 ?            -1 S        0   7:50  \\_ [rcu_sched]\r\n",
      "     2      8      0      0 ?            -1 S        0   2:10  \\_ [rcuos/0]\r\n",
      "     2      9      0      0 ?            -1 S        0   3:01  \\_ [rcuos/1]\r\n",
      "     2     10      0      0 ?            -1 S        0   3:01  \\_ [rcuos/2]\r\n",
      "     2     11      0      0 ?            -1 S        0   3:00  \\_ [rcuos/3]\r\n",
      "     2     12      0      0 ?            -1 S        0   0:00  \\_ [rcuos/4]\r\n"
     ]
    }
   ],
   "source": [
    "ps axjf |head"
   ]
  },
  {
   "cell_type": "markdown",
   "metadata": {},
   "source": [
    "##### D.To get info about threads:"
   ]
  },
  {
   "cell_type": "code",
   "execution_count": 18,
   "metadata": {
    "collapsed": false
   },
   "outputs": [
    {
     "name": "stdout",
     "output_type": "stream",
     "text": [
      "UID         PID   PPID    LWP  C NLWP STIME TTY          TIME CMD\r\n",
      "root          1      0      1  0    1  8月11 ?      00:00:06 /sbin/init\r\n",
      "root          2      0      2  0    1  8月11 ?      00:00:00 [kthreadd]\r\n",
      "root          3      2      3  0    1  8月11 ?      00:01:30 [ksoftirqd/0]\r\n",
      "root          5      2      5  0    1  8月11 ?      00:00:00 [kworker/0:0H]\r\n",
      "root          7      2      7  0    1  8月11 ?      00:07:50 [rcu_sched]\r\n",
      "root          8      2      8  0    1  8月11 ?      00:02:10 [rcuos/0]\r\n",
      "root          9      2      9  0    1  8月11 ?      00:03:01 [rcuos/1]\r\n",
      "root         10      2     10  0    1  8月11 ?      00:03:01 [rcuos/2]\r\n",
      "root         11      2     11  0    1  8月11 ?      00:03:00 [rcuos/3]\r\n"
     ]
    }
   ],
   "source": [
    "ps -eLf | head"
   ]
  },
  {
   "cell_type": "code",
   "execution_count": 30,
   "metadata": {
    "collapsed": false
   },
   "outputs": [
    {
     "name": "stdout",
     "output_type": "stream",
     "text": [
      "  UID    PID          PENDING          BLOCKED          IGNORED           CAUGHT STAT TTY        TIME COMMAND\r\n",
      "    0      1 0000000000000000                -                -                - -    ?          0:06 /sbin/init\r\n",
      "    0      - 0000000000000000 0000000000000000 0000000000001000 00000001a0016623 Ss   -          0:06 -\r\n",
      "    0      2 0000000000000000                -                -                - -    ?          0:00 [kthreadd]\r\n",
      "    0      - 0000000000000000 0000000000000000 ffffffffffffffff 0000000000000000 S    -          0:00 -\r\n",
      "    0      3 0000000000000000                -                -                - -    ?          1:30 [ksoftirqd/0]\r\n",
      "    0      - 0000000000000000 0000000000000000 ffffffffffffffff 0000000000000000 S    -          1:30 -\r\n",
      "    0      5 0000000000000000                -                -                - -    ?          0:00 [kworker/0:0H]\r\n",
      "    0      - 0000000000000000 0000000000000000 ffffffffffffffff 0000000000000000 S<   -          0:00 -\r\n",
      "    0      7 0000000000000000                -                -                - -    ?          7:50 [rcu_sched]\r\n"
     ]
    }
   ],
   "source": [
    "ps axms | head"
   ]
  },
  {
   "cell_type": "markdown",
   "metadata": {},
   "source": [
    "##### E.To get security info"
   ]
  },
  {
   "cell_type": "code",
   "execution_count": 29,
   "metadata": {
    "collapsed": false
   },
   "outputs": [
    {
     "name": "stdout",
     "output_type": "stream",
     "text": [
      "EUSER    RUSER    SUSER    FUSER    F COMMAND         LABEL\r\n",
      "root     root     root     root     4 init            unconfined\r\n",
      "root     root     root     root     1 kthreadd        unconfined\r\n",
      "root     root     root     root     1 ksoftirqd/0     unconfined\r\n",
      "root     root     root     root     1 kworker/0:0H    unconfined\r\n",
      "root     root     root     root     1 rcu_sched       unconfined\r\n",
      "root     root     root     root     1 rcuos/0         unconfined\r\n",
      "root     root     root     root     1 rcuos/1         unconfined\r\n",
      "root     root     root     root     1 rcuos/2         unconfined\r\n",
      "root     root     root     root     1 rcuos/3         unconfined\r\n"
     ]
    }
   ],
   "source": [
    "ps -eo euser,ruser,suser,fuser,f,comm,label | head"
   ]
  },
  {
   "cell_type": "code",
   "execution_count": 28,
   "metadata": {
    "collapsed": false
   },
   "outputs": [
    {
     "name": "stdout",
     "output_type": "stream",
     "text": [
      "LABEL                              PID TTY      STAT   TIME COMMAND\r\n",
      "unconfined                           1 ?        Ss     0:06 /sbin/init\r\n",
      "unconfined                           2 ?        S      0:00 [kthreadd]\r\n",
      "unconfined                           3 ?        S      1:30 [ksoftirqd/0]\r\n",
      "unconfined                           5 ?        S<     0:00 [kworker/0:0H]\r\n",
      "unconfined                           7 ?        S      7:50 [rcu_sched]\r\n",
      "unconfined                           8 ?        S      2:10 [rcuos/0]\r\n",
      "unconfined                           9 ?        S      3:01 [rcuos/1]\r\n",
      "unconfined                          10 ?        S      3:01 [rcuos/2]\r\n",
      "unconfined                          11 ?        S      3:00 [rcuos/3]\r\n"
     ]
    }
   ],
   "source": [
    "ps axZ | head"
   ]
  },
  {
   "cell_type": "code",
   "execution_count": 37,
   "metadata": {
    "collapsed": false
   },
   "outputs": [
    {
     "name": "stdout",
     "output_type": "stream",
     "text": [
      "LABEL                              PID TTY          TIME CMD\r\n",
      "unconfined                           1 ?        00:00:06 init\r\n",
      "unconfined                           2 ?        00:00:00 kthreadd\r\n",
      "unconfined                           3 ?        00:01:30 ksoftirqd/0\r\n",
      "unconfined                           5 ?        00:00:00 kworker/0:0H\r\n",
      "unconfined                           7 ?        00:07:50 rcu_sched\r\n",
      "unconfined                           8 ?        00:02:10 rcuos/0\r\n",
      "unconfined                           9 ?        00:03:01 rcuos/1\r\n",
      "unconfined                          10 ?        00:03:01 rcuos/2\r\n",
      "unconfined                          11 ?        00:03:00 rcuos/3\r\n"
     ]
    }
   ],
   "source": [
    "ps -eM | head"
   ]
  },
  {
   "cell_type": "markdown",
   "metadata": {},
   "source": [
    "##### F.To see every process running as root (real & effective ID) in user format:"
   ]
  },
  {
   "cell_type": "code",
   "execution_count": 40,
   "metadata": {
    "collapsed": false
   },
   "outputs": [
    {
     "name": "stdout",
     "output_type": "stream",
     "text": [
      "USER        PID %CPU %MEM    VSZ   RSS TTY      STAT START   TIME COMMAND\r\n",
      "root          1  0.0  0.0  33912  1972 ?        Ss    8月11   0:06 /sbin/init\r\n",
      "root          2  0.0  0.0      0     0 ?        S     8月11   0:00 [kthreadd]\r\n",
      "root          3  0.0  0.0      0     0 ?        S     8月11   1:30 [ksoftirqd/0]\r\n",
      "root          5  0.0  0.0      0     0 ?        S<    8月11   0:00 [kworker/0:0H]\r\n",
      "root          7  0.0  0.0      0     0 ?        S     8月11   7:50 [rcu_sched]\r\n",
      "root          8  0.0  0.0      0     0 ?        S     8月11   2:10 [rcuos/0]\r\n",
      "root          9  0.0  0.0      0     0 ?        S     8月11   3:01 [rcuos/1]\r\n",
      "root         10  0.0  0.0      0     0 ?        S     8月11   3:01 [rcuos/2]\r\n",
      "root         11  0.0  0.0      0     0 ?        S     8月11   3:00 [rcuos/3]\r\n"
     ]
    }
   ],
   "source": [
    "ps -U root -u root u | head"
   ]
  },
  {
   "cell_type": "markdown",
   "metadata": {},
   "source": [
    "###### G.To see every process with a user-defined format:"
   ]
  },
  {
   "cell_type": "code",
   "execution_count": 42,
   "metadata": {
    "collapsed": false
   },
   "outputs": [
    {
     "name": "stdout",
     "output_type": "stream",
     "text": [
      "   PID    TID CLS RTPRIO  NI PRI PSR %CPU STAT WCHAN          COMMAND\r\n",
      "     1      1 TS       -   0  19   0  0.0 Ss   poll_schedule_ init\r\n",
      "     2      2 TS       -   0  19   1  0.0 S    kthreadd       kthreadd\r\n",
      "     3      3 TS       -   0  19   0  0.0 S    smpboot_thread ksoftirqd/0\r\n",
      "     5      5 TS       - -20  39   0  0.0 S<   worker_thread  kworker/0:0H\r\n",
      "     7      7 TS       -   0  19   3  0.0 S    rcu_gp_kthread rcu_sched\r\n",
      "     8      8 TS       -   0  19   0  0.0 S    rcu_nocb_kthre rcuos/0\r\n",
      "     9      9 TS       -   0  19   1  0.0 S    rcu_nocb_kthre rcuos/1\r\n",
      "    10     10 TS       -   0  19   0  0.0 S    rcu_nocb_kthre rcuos/2\r\n",
      "    11     11 TS       -   0  19   2  0.0 S    rcu_nocb_kthre rcuos/3\r\n"
     ]
    }
   ],
   "source": [
    "ps -eo pid,tid,class,rtprio,ni,pri,psr,pcpu,stat,wchan:14,comm | head"
   ]
  },
  {
   "cell_type": "code",
   "execution_count": 43,
   "metadata": {
    "collapsed": false
   },
   "outputs": [
    {
     "name": "stdout",
     "output_type": "stream",
     "text": [
      "STAT  EUID  RUID TT        TPGID   SESS   PGRP   PPID    PID %CPU COMMAND\r\n",
      "Ss       0     0 ?            -1      1      1      0      1  0.0 init\r\n",
      "S        0     0 ?            -1      0      0      0      2  0.0 kthreadd\r\n",
      "S        0     0 ?            -1      0      0      2      3  0.0 ksoftirqd/0\r\n",
      "S<       0     0 ?            -1      0      0      2      5  0.0 kworker/0:0H\r\n",
      "R        0     0 ?            -1      0      0      2      7  0.0 rcu_sched\r\n",
      "S        0     0 ?            -1      0      0      2      8  0.0 rcuos/0\r\n",
      "S        0     0 ?            -1      0      0      2      9  0.0 rcuos/1\r\n",
      "S        0     0 ?            -1      0      0      2     10  0.0 rcuos/2\r\n",
      "R        0     0 ?            -1      0      0      2     11  0.0 rcuos/3\r\n"
     ]
    }
   ],
   "source": [
    "ps axo stat,euid,ruid,tty,tpgid,sess,pgrp,ppid,pid,pcpu,comm | head"
   ]
  },
  {
   "cell_type": "code",
   "execution_count": 44,
   "metadata": {
    "collapsed": false
   },
   "outputs": [
    {
     "name": "stdout",
     "output_type": "stream",
     "text": [
      "   PID TT       USER     COMMAND  TMOUT F WCHAN\r\n",
      "     1 ?        root     init         - 4 poll_schedule_timeout\r\n",
      "     2 ?        root     kthreadd     - 1 kthreadd\r\n",
      "     3 ?        root     ksoftirq     - 1 smpboot_thread_fn\r\n",
      "     5 ?        root     kworker/     - 1 worker_thread\r\n",
      "     7 ?        root     rcu_sche     - 1 rcu_gp_kthread\r\n",
      "     8 ?        root     rcuos/0      - 1 rcu_nocb_kthread\r\n",
      "     9 ?        root     rcuos/1      - 1 rcu_nocb_kthread\r\n",
      "    10 ?        root     rcuos/2      - 1 rcu_nocb_kthread\r\n",
      "    11 ?        root     rcuos/3      - 1 ?\r\n"
     ]
    }
   ],
   "source": [
    "ps -Ao pid,tt,user,fname,tmout,f,wchan | head"
   ]
  },
  {
   "cell_type": "markdown",
   "metadata": {},
   "source": [
    "##### H.Print only the process IDs of syslogd:"
   ]
  },
  {
   "cell_type": "code",
   "execution_count": 46,
   "metadata": {
    "collapsed": false
   },
   "outputs": [
    {
     "name": "stdout",
     "output_type": "stream",
     "text": []
    }
   ],
   "source": [
    "ps -C syslogd -o pid="
   ]
  },
  {
   "cell_type": "markdown",
   "metadata": {},
   "source": [
    "##### I.Print only the name of PID 42:"
   ]
  },
  {
   "cell_type": "code",
   "execution_count": 47,
   "metadata": {
    "collapsed": false
   },
   "outputs": [
    {
     "name": "stdout",
     "output_type": "stream",
     "text": [
      "rcuos/34\r\n"
     ]
    }
   ],
   "source": [
    "ps -p 42 -o comm="
   ]
  },
  {
   "cell_type": "markdown",
   "metadata": {},
   "source": [
    "#### SIMPLE PROCESS SELECTION"
   ]
  },
  {
   "cell_type": "markdown",
   "metadata": {},
   "source": [
    "###### a      \n",
    "    Lift the BSD-style \"only yourself\" restriction, which is imposed upon the set of all processes \n",
    "    when some BSD-style (without \"-\") options are used or when the ps personality setting is BSD-like.\n",
    "    \n",
    "    The set of processes selected in this manner is in addition to the set of processes selected by other means.\n",
    "    An alternate description is that this option causes ps to list all processes with a terminal (tty), \n",
    "    or to list all processes when used together with the x option."
   ]
  },
  {
   "cell_type": "markdown",
   "metadata": {},
   "source": [
    "###### -A     \n",
    "    Select all processes.\n",
    "    Identical to -e."
   ]
  },
  {
   "cell_type": "markdown",
   "metadata": {},
   "source": [
    "###### -a\n",
    "    Select all processes except both session leaders and processes not associated with a terminal."
   ]
  },
  {
   "cell_type": "markdown",
   "metadata": {},
   "source": [
    "###### -d\n",
    "    Select all processes except session leaders."
   ]
  },
  {
   "cell_type": "markdown",
   "metadata": {},
   "source": [
    "###### --deselect\n",
    "    Select all processes except those that fulfill the specified conditions (negates the selection).\n",
    "    Identical to -N."
   ]
  },
  {
   "cell_type": "markdown",
   "metadata": {},
   "source": [
    "###### -e\n",
    "    Select all processes.\n",
    "    Identical to -A."
   ]
  },
  {
   "cell_type": "markdown",
   "metadata": {},
   "source": [
    "######  g\n",
    "    Really all, even session leaders.\n",
    "    This flag is obsolete and may be discontinued in a future release.\n",
    "    It is normally implied by the a flag,and is only useful when operating in the sunos4 personality."
   ]
  },
  {
   "cell_type": "markdown",
   "metadata": {},
   "source": [
    "###### -N     \n",
    "    Select all processes except those that fulfill the specified conditions (negates the selection).\n",
    "    Identical to --deselect."
   ]
  },
  {
   "cell_type": "markdown",
   "metadata": {},
   "source": [
    "###### T \n",
    "    Select all processes associated with this terminal.\n",
    "    Identical to the t option without any argument."
   ]
  },
  {
   "cell_type": "markdown",
   "metadata": {},
   "source": [
    "###### r\n",
    "    Restrict the selection to only running processes."
   ]
  },
  {
   "cell_type": "markdown",
   "metadata": {},
   "source": [
    "###### x      \n",
    "    Lift the BSD-style \"must have a tty\" restriction, which is imposed upon the set of all processes \n",
    "    when some BSD-style (without \"-\") options are used or when the ps personality setting is BSD-like.\n",
    "    The set of processes selected in this manner is in addition to the set of processes selected by other means.\n",
    "    An alternate description is that this option causes ps to list all processes owned by you (same EUID as ps),\n",
    "    or to list all processes when used together with the a option."
   ]
  },
  {
   "cell_type": "markdown",
   "metadata": {},
   "source": [
    "#### PROCESS SELECTION BY LIST"
   ]
  },
  {
   "cell_type": "markdown",
   "metadata": {},
   "source": [
    "These options accept a single argument in the form of a blank-separated or comma-separated list.  \n",
    "They can be used multiple times.  \n",
    "For example: ps -p \"1 2\" -p 3,4"
   ]
  },
  {
   "cell_type": "markdown",
   "metadata": {},
   "source": [
    "###### -123   \n",
    "    Identical to --pid 123."
   ]
  },
  {
   "cell_type": "markdown",
   "metadata": {},
   "source": [
    " ###### 123    \n",
    "     Identical to --pid 123."
   ]
  },
  {
   "cell_type": "markdown",
   "metadata": {},
   "source": [
    "###### -C cmdlist\n",
    "    Select by command name.\n",
    "    This selects the processes whose executable name is given in cmdlist."
   ]
  },
  {
   "cell_type": "markdown",
   "metadata": {},
   "source": [
    "###### -G grplist\n",
    "    Select by real group ID (RGID) or name.\n",
    "    This selects the processes whose real group name or ID is in the grplist list.\n",
    "    The real group ID identifies the group of the user who created the process, see getgid(2)."
   ]
  },
  {
   "cell_type": "markdown",
   "metadata": {},
   "source": [
    "###### -g grplist\n",
    "    Select by session OR by effective group name.\n",
    "    Selection by session is specified by many standards, \n",
    "    but selection by effective group is the logical behavior that several other operating systems use.\n",
    "    This ps will select by session when the list is completely numeric (as sessionsare).\n",
    "    Group ID numbers will work only when some group names are also specified.\n",
    "    See the -s and --group options."
   ]
  },
  {
   "cell_type": "markdown",
   "metadata": {},
   "source": [
    "######  --Group grplist\n",
    "    Select by real group ID (RGID) or name.\n",
    "    Identical to -G."
   ]
  },
  {
   "cell_type": "markdown",
   "metadata": {},
   "source": [
    "###### --group grplist\n",
    "    Select by effective group ID (EGID) or name.\n",
    "    This selects the processes whose effective group name or ID is in grplist.\n",
    "    The effective group ID describes the group whose file access permissions are used by the process (see getegid(2)).\n",
    "    The -g option is often an alternative to --group."
   ]
  },
  {
   "cell_type": "markdown",
   "metadata": {},
   "source": [
    " ###### p pidlist\n",
    "    Select by process ID.\n",
    "    Identical to -p and --pid."
   ]
  },
  {
   "cell_type": "markdown",
   "metadata": {},
   "source": [
    "###### -p pidlist\n",
    "    Select by PID.\n",
    "    This selects the processes whose process ID numbers appear in pidlist.\n",
    "    Identical to p and --pid."
   ]
  },
  {
   "cell_type": "markdown",
   "metadata": {},
   "source": [
    "###### --pid pidlist\n",
    "    Select by process ID.\n",
    "    Identical to -p and p."
   ]
  },
  {
   "cell_type": "markdown",
   "metadata": {},
   "source": [
    "###### --ppid pidlist\n",
    "    Select by parent process ID.\n",
    "    This selects the processes with a parent process ID in pidlist.\n",
    "    That is, it selects processes that are children of those listed in pidlist."
   ]
  },
  {
   "cell_type": "markdown",
   "metadata": {},
   "source": [
    "###### -s sesslist\n",
    "    Select by session ID.\n",
    "    This selects the processes with a session ID specified in sesslist."
   ]
  },
  {
   "cell_type": "markdown",
   "metadata": {},
   "source": [
    "###### --sid sesslist\n",
    "    Select by session ID.\n",
    "    Identical to -s."
   ]
  },
  {
   "cell_type": "markdown",
   "metadata": {},
   "source": [
    "###### t ttylist\n",
    "    Select by tty.\n",
    "    Nearly identical to -t and --tty, but can also be used with an empty ttylist to \n",
    "    indicate the terminal associated with ps.\n",
    "    Using the T option is considered cleaner than using t with an empty ttylist."
   ]
  },
  {
   "cell_type": "markdown",
   "metadata": {},
   "source": [
    "###### -t ttylist\n",
    "    Select by tty.\n",
    "    This selects the processes associated with the terminals given in ttylist.\n",
    "    Terminals (ttys, or screens for text output) can be specified in several forms: /dev/ttyS1, ttyS1, S1.\n",
    "    A plain \"-\" may be used to select processes not attached to any terminal."
   ]
  },
  {
   "cell_type": "markdown",
   "metadata": {},
   "source": [
    "###### --tty ttylist\n",
    "    Select by terminal.\n",
    "    Identical to -t and t."
   ]
  },
  {
   "cell_type": "markdown",
   "metadata": {},
   "source": [
    "######  U userlist\n",
    "    Select by effective user ID (EUID) or name.\n",
    "    This selects the processes whose effective user name or ID is in userlist.\n",
    "    The effective user ID describes the user whose file access permissions are used by the process (see geteuid(2)).\n",
    "    Identical to -u and --user."
   ]
  },
  {
   "cell_type": "markdown",
   "metadata": {},
   "source": [
    "###### -U userlist\n",
    "    Select by real user ID (RUID) or name.\n",
    "    It selects the processes whose real user name or ID is in the userlist list.\n",
    "    The real user ID identifies the user who created the process, see getuid(2)."
   ]
  },
  {
   "cell_type": "markdown",
   "metadata": {},
   "source": [
    "###### -u userlist\n",
    "    Select by effective user ID (EUID) or name.\n",
    "    This selects the processes whose effective user name or ID is in userlist.\n",
    "    The effective user ID describes the user whose file access permissions are used by the process (see geteuid(2)).\n",
    "    Identical to U and --user."
   ]
  },
  {
   "cell_type": "markdown",
   "metadata": {},
   "source": [
    "###### --User userlist\n",
    "    Select by real user ID (RUID) or name.\n",
    "    Identical to -U."
   ]
  },
  {
   "cell_type": "markdown",
   "metadata": {},
   "source": [
    "######  --user userlist\n",
    "    Select by effective user ID (EUID) or name.\n",
    "    Identical to -u and U."
   ]
  },
  {
   "cell_type": "markdown",
   "metadata": {},
   "source": [
    "#### OUTPUT FORMAT CONTROL"
   ]
  },
  {
   "cell_type": "markdown",
   "metadata": {},
   "source": [
    "These options are used to choose the information displayed by ps.  \n",
    "The output may differ by personality."
   ]
  },
  {
   "cell_type": "markdown",
   "metadata": {},
   "source": [
    "######  -c     \n",
    "    Show different scheduler information for the -l option."
   ]
  },
  {
   "cell_type": "markdown",
   "metadata": {},
   "source": [
    "######  --context\n",
    "    Display security context format (for SELinux)."
   ]
  },
  {
   "cell_type": "markdown",
   "metadata": {},
   "source": [
    "######  -f     \n",
    "    Do full-format listing.\n",
    "    This option can be combined with many other UNIX-style options to add additional columns.\n",
    "    It also causes the command arguments to be printed.\n",
    "    When used with -L, the NLWP (number of threads) and LWP (thread ID) columns will be added.\n",
    "    See the c option, the format keyword args, and the format keyword comm."
   ]
  },
  {
   "cell_type": "markdown",
   "metadata": {},
   "source": [
    "###### -F \n",
    "    Extra full format.\n",
    "    See the -f option, which -F implies."
   ]
  },
  {
   "cell_type": "markdown",
   "metadata": {},
   "source": [
    "###### --format format\n",
    "    user-defined format.\n",
    "    Identical to -o and o."
   ]
  },
  {
   "cell_type": "markdown",
   "metadata": {},
   "source": [
    "###### j\n",
    "    BSD job control format."
   ]
  },
  {
   "cell_type": "markdown",
   "metadata": {},
   "source": [
    "###### -j     \n",
    "    Jobs format."
   ]
  },
  {
   "cell_type": "markdown",
   "metadata": {},
   "source": [
    "###### l \n",
    "    Display BSD long format."
   ]
  },
  {
   "cell_type": "markdown",
   "metadata": {},
   "source": [
    "###### -l \n",
    "    Long format.\n",
    "    The -y option is often useful with this."
   ]
  },
  {
   "cell_type": "markdown",
   "metadata": {},
   "source": [
    "######  -M\n",
    "    Add a column of security data.\n",
    "    Identical to Z (for SELinux)."
   ]
  },
  {
   "cell_type": "markdown",
   "metadata": {},
   "source": [
    "###### O format\n",
    "    is preloaded o (overloaded).\n",
    "    The BSD O option can act like -O (user-defined output format with some common fields predefined) \n",
    "    or can be used to specify sort order.  \n",
    "    \n",
    "    Heuristics are used to determine the behavior of this option.\n",
    "    To ensure that the desired behavior is obtained (sorting or formatting), \n",
    "    specify the option in some other way (e.g. with -O or --sort).\n",
    "    \n",
    "    When used as a formatting option, it is identical to -O, with the BSD personality."
   ]
  },
  {
   "cell_type": "markdown",
   "metadata": {},
   "source": [
    "######  -O format\n",
    "    Like -o, but preloaded with some default columns.\n",
    "    Identical to -o pid,format,state,tname,time,command or -o pid,format,tname,time,cmd,see -o below."
   ]
  },
  {
   "cell_type": "markdown",
   "metadata": {},
   "source": [
    "###### o format\n",
    "    Specify user-defined format.\n",
    "    Identical to -o and --format."
   ]
  },
  {
   "cell_type": "markdown",
   "metadata": {},
   "source": [
    "###### -o format\n",
    "    User-defined format.\n",
    "    format is a single argument in the form of a blank-separated or comma-separated list,\n",
    "    which offers a way to specify individual output columns.  \n",
    "    \n",
    "    The recognized keywords are described in the STANDARD FORMAT SPECIFIERS section below.\n",
    "    Headers may be renamed (ps -o pid,ruser=RealUser -o comm=Command) as desired.\n",
    "    If all column headers are empty (ps -o pid= -o comm=) then the header line will not be output.\n",
    "    Column width will increase as needed for wide headers; \n",
    "    this may be used to widen up columns such as WCHAN (ps -o pid,wchan=WIDE-WCHAN-COLUMN -o comm).\n",
    "    Explicit width control (ps opid,wchan:42,cmd) is offered too.\n",
    "    The behavior of ps -o pid=X,comm=Y varies  with personality; \n",
    "    output may be one column named \"X,comm=Y\" or two columns named \"X\" and \"Y\".\n",
    "    Use multiple -o  options when in doubt.\n",
    "    Use the PS_FORMAT environment variable to specify a default as desired; \n",
    "    DefSysV and DefBSD are macros that may be used to choose the default UNIX or BSD columns."
   ]
  },
  {
   "cell_type": "markdown",
   "metadata": {},
   "source": [
    "###### s \n",
    "    Display signal format."
   ]
  },
  {
   "cell_type": "markdown",
   "metadata": {},
   "source": [
    "###### u\n",
    "    Display user-oriented format."
   ]
  },
  {
   "cell_type": "markdown",
   "metadata": {},
   "source": [
    "###### v\n",
    "    Display virtual memory format."
   ]
  },
  {
   "cell_type": "markdown",
   "metadata": {},
   "source": [
    "###### X\n",
    "    Register format."
   ]
  },
  {
   "cell_type": "markdown",
   "metadata": {},
   "source": [
    "###### -y\n",
    "    Do not show flags; show rss in place of addr.\n",
    "    This option can only be used with -l."
   ]
  },
  {
   "cell_type": "markdown",
   "metadata": {},
   "source": [
    "###### Z\n",
    "    Add a column of security data.\n",
    "    Identical to -M (for SELinux)."
   ]
  },
  {
   "cell_type": "markdown",
   "metadata": {},
   "source": [
    "#### OUTPUT MODIFIERS"
   ]
  },
  {
   "cell_type": "markdown",
   "metadata": {},
   "source": [
    "###### c\n",
    "    Show the true command name.\n",
    "    This is derived from the name of the executable file, rather than from the argv value.\n",
    "    Command arguments and any modifications to them are thus not shown.\n",
    "    This option effectively turns the args format keyword into the comm format keyword; \n",
    "    it is useful with the -f format option and with the various BSD-style format options, \n",
    "    which all normally display the command arguments.\n",
    "    See the -f option, the format keyword args, and the format keyword comm."
   ]
  },
  {
   "cell_type": "markdown",
   "metadata": {},
   "source": [
    "######  --cols n\n",
    "    Set screen width."
   ]
  },
  {
   "cell_type": "markdown",
   "metadata": {},
   "source": [
    "###### --columns n\n",
    "    Set screen width."
   ]
  },
  {
   "cell_type": "markdown",
   "metadata": {},
   "source": [
    "###### --cumulative\n",
    "    Include some dead child process data (as a sum with the parent)."
   ]
  },
  {
   "cell_type": "markdown",
   "metadata": {},
   "source": [
    "###### e      \n",
    "    Show the environment after the command."
   ]
  },
  {
   "cell_type": "markdown",
   "metadata": {},
   "source": [
    "###### f\n",
    "    ASCII art process hierarchy (forest)."
   ]
  },
  {
   "cell_type": "markdown",
   "metadata": {},
   "source": [
    "###### --forest\n",
    "    ASCII art process tree."
   ]
  },
  {
   "cell_type": "markdown",
   "metadata": {},
   "source": [
    "###### h \n",
    "    No header.(or, one header per screen in the BSD personality).\n",
    "    The h option is problematic.\n",
    "    Standard BSD ps uses this option to print a header on each page of output, \n",
    "    but older Linux ps uses this option to totally disable the header.\n",
    "    This version of ps follows the Linux usage of not printing the header \n",
    "    unless the BSD personality has been selected, in which case it prints a header on each page of output.\n",
    "    Regardless of the current personality, you can use the long options --headers and --no-headers \n",
    "    to enable printing headers each page or disable headers entirely,respectively."
   ]
  },
  {
   "cell_type": "markdown",
   "metadata": {},
   "source": [
    "######  -H\n",
    "    Show process hierarchy (forest)."
   ]
  },
  {
   "cell_type": "markdown",
   "metadata": {},
   "source": [
    "###### --headers\n",
    "    Repeat header lines, one per page of output."
   ]
  },
  {
   "cell_type": "markdown",
   "metadata": {},
   "source": [
    "###### k spec \n",
    "    Specify sorting order.\n",
    "    Sorting syntax is [+|-]key[,[+|-]key[,...]].\n",
    "    Choose a multi-letter key from the STANDARD FORMAT SPECIFIERS section.\n",
    "    The \"+\" is optional since default direction is increasing numerical or lexicographic order.\n",
    "    Identical to --sort.\n",
    "    \n",
    "    Examples:\n",
    "    ps jaxkuid,-ppid,+pid\n",
    "    ps axk comm o comm,args\n",
    "    ps kstart_time -ef"
   ]
  },
  {
   "cell_type": "markdown",
   "metadata": {},
   "source": [
    "###### --lines n\n",
    "    Set screen height."
   ]
  },
  {
   "cell_type": "markdown",
   "metadata": {},
   "source": [
    "###### -n namelist\n",
    "    Set namelist file.\n",
    "    Identical to N.\n",
    "    The namelist file is needed for a proper WCHAN display, \n",
    "    and must match the current Linux kernel exactly for correct output.\n",
    "    Without this option, the default search path for the namelist is:\n",
    "    \n",
    "    \\$PS_SYSMAP\n",
    "    \\$PS_SYSTEM_MAP\n",
    "    /proc/*/wchan\n",
    "    /boot/System.map-\\$(uname -r)\n",
    "    /boot/System.map\n",
    "    /lib/modules/\\$(uname -r)/System.map\n",
    "    /usr/src/linux/System.map\n",
    "    /System.map"
   ]
  },
  {
   "cell_type": "markdown",
   "metadata": {},
   "source": [
    "###### n\n",
    "    Numeric output for WCHAN and USER (including all types of UID and GID)."
   ]
  },
  {
   "cell_type": "markdown",
   "metadata": {},
   "source": [
    "###### N namelist\n",
    "    Specify namelist file.\n",
    "    Identical to -n, see -n above"
   ]
  },
  {
   "cell_type": "markdown",
   "metadata": {},
   "source": [
    "###### --no-headers\n",
    "    Print no header line at all.\n",
    "    --no-heading is an alias for this option."
   ]
  },
  {
   "cell_type": "markdown",
   "metadata": {},
   "source": [
    "###### O order\n",
    "    Sorting order (overloaded).\n",
    "    The BSD O option can act like -O (user-defined output format with some common fields predefined) \n",
    "    or can be used to specify sort order.\n",
    "    \n",
    "    Heuristics are used to determine the behavior of this option.\n",
    "    To ensure that the desired behavior is obtained (sorting or formatting), specify the option in some other way (e.g.with -O or --sort).\n",
    "\n",
    "    For sorting, obsolete BSD O option syntax is O[+|-]k1[,[+|-]k2[,...]].\n",
    "    It orders the processes listing according to the multilevel sort specified by the sequence \n",
    "    of one-letter short keys k1,k2, ...  described in the OBSOLETE SORT KEYS section below.\n",
    "    The \"+\" is currently optional, merely re-iterating the default direction on a key, \n",
    "    but may help to distinguish an O sort from an O format.\n",
    "    The \"-\" reverses direction only on the key it precedes."
   ]
  },
  {
   "cell_type": "markdown",
   "metadata": {},
   "source": [
    "###### --rows n\n",
    "    Set screen height."
   ]
  },
  {
   "cell_type": "markdown",
   "metadata": {},
   "source": [
    "###### S\n",
    "    Sum up some information, such as CPU usage, from dead child processes into their parent.\n",
    "    This is useful for examining a system where a parent process repeatedly forks off short-lived children to do work."
   ]
  },
  {
   "cell_type": "markdown",
   "metadata": {},
   "source": [
    "###### --sort spec\n",
    "    Specify sorting order.\n",
    "    Sorting syntax is [+|-]key[,[+|-]key[,...]].\n",
    "    Choose a multi-letter key from the STANDARD FORMAT SPECIFIERS section.\n",
    "    The \"+\" is optional since default direction is increasing numerical or lexicographic order.\n",
    "    Identical to k.\n",
    "    For example: \n",
    "    ps jax --sort=uid,-ppid,+pid"
   ]
  },
  {
   "cell_type": "markdown",
   "metadata": {},
   "source": [
    "###### w\n",
    "    Wide output.\n",
    "    Use this option twice for unlimited width."
   ]
  },
  {
   "cell_type": "markdown",
   "metadata": {},
   "source": [
    "###### -w\n",
    "    Wide output.\n",
    "    Use this option twice for unlimited width."
   ]
  },
  {
   "cell_type": "markdown",
   "metadata": {},
   "source": [
    "###### --width n\n",
    "    Set screen width."
   ]
  },
  {
   "cell_type": "markdown",
   "metadata": {},
   "source": [
    "#### THREAD DISPLAY"
   ]
  },
  {
   "cell_type": "markdown",
   "metadata": {},
   "source": [
    "###### H\n",
    "    Show threads as if they were processes."
   ]
  },
  {
   "cell_type": "markdown",
   "metadata": {},
   "source": [
    "###### -L\n",
    "    Show threads, possibly with LWP and NLWP columns."
   ]
  },
  {
   "cell_type": "markdown",
   "metadata": {},
   "source": [
    "###### m\n",
    "    Show threads after processes."
   ]
  },
  {
   "cell_type": "markdown",
   "metadata": {},
   "source": [
    "###### -m\n",
    "    Show threads after processes."
   ]
  },
  {
   "cell_type": "markdown",
   "metadata": {},
   "source": [
    "###### -T \n",
    "    Show threads, possibly with SPID column."
   ]
  },
  {
   "cell_type": "markdown",
   "metadata": {},
   "source": [
    "#### OTHER INFORMATION"
   ]
  },
  {
   "cell_type": "markdown",
   "metadata": {},
   "source": [
    "###### --help section\n",
    "    Print a help message.\n",
    "    The section argument can be one of simple, list, output, threads, misc or all.\n",
    "    The argument can be shortened to one of the underlined letters as in: s|l|o|t|m|a."
   ]
  },
  {
   "cell_type": "markdown",
   "metadata": {},
   "source": [
    "###### --info \n",
    "    Print debugging info."
   ]
  },
  {
   "cell_type": "markdown",
   "metadata": {},
   "source": [
    "###### L\n",
    "    List all format specifiers."
   ]
  },
  {
   "cell_type": "markdown",
   "metadata": {},
   "source": [
    "###### V \n",
    "    Print the procps-ng version."
   ]
  },
  {
   "cell_type": "markdown",
   "metadata": {},
   "source": [
    "###### -V\n",
    "    Print the procps-ng version"
   ]
  },
  {
   "cell_type": "markdown",
   "metadata": {},
   "source": [
    "###### --version\n",
    "    Print the procps-ng version."
   ]
  },
  {
   "cell_type": "markdown",
   "metadata": {},
   "source": [
    "#### NOTES"
   ]
  },
  {
   "cell_type": "markdown",
   "metadata": {},
   "source": [
    "This ps works by reading the virtual files in /proc.  \n",
    "This ps does not need to be setuid kmem or have any privileges to run.  \n",
    "Do not give this ps any special permissions.  \n",
    "\n",
    "This ps needs access to namelist data for proper WCHAN display.  \n",
    "For kernels prior to 2.6, the System.map file must be installed.  \n",
    "\n",
    "CPU usage is currently expressed as the percentage of time spent running during the entire lifetime of a process.  \n",
    "This is not ideal, and it does not conform to the standards that ps otherwise conforms to.  \n",
    "CPU usage is unlikely to add up to exactly 100%.\n",
    "\n",
    "The SIZE and RSS fields don't count some parts of a process including   \n",
    "the page tables, kernel stack, struct thread_info, and struct task_struct.  \n",
    "This is usually at least 20 KiB of memory that is always resident.  \n",
    "SIZE is the virtual size of the process (code+data+stack).\n",
    "\n",
    "Processes marked <defunct> are dead processes (so-called \"zombies\")   \n",
    "that remain because their parent has not destroyed them properly.    \n",
    "These processes will be destroyed by init(8) if the parent process exits.  \n",
    "\n",
    "If the length of the username is greater than the length of the display column,   \n",
    "the numeric user ID is displayed instead.\n",
    "\n",
    "Commands options such as ps -aux are not recommended as it is a confusion of two different standards.  \n",
    "According to the POSIX and UNIX standards, the above command asks to display all processes   \n",
    "with a TTY (generally the commands users are running) plus all processes owned by a user named \"x\".  \n",
    "If that user doesn't exist, then ps will assume you really meant \"ps aux\"."
   ]
  },
  {
   "cell_type": "markdown",
   "metadata": {},
   "source": [
    "#### PROCESS FLAGS\n",
    "The sum of these values is displayed in the \"F\" column, which is provided by the flags output specifier:  \n",
    "\n",
    "    1    forked but didn't exec\n",
    "    4    used super-user privileges"
   ]
  },
  {
   "cell_type": "markdown",
   "metadata": {},
   "source": [
    "#### PROCESS STATE CODES"
   ]
  },
  {
   "cell_type": "markdown",
   "metadata": {},
   "source": [
    "Here are the different values that the s, stat and state output specifiers (header \"STAT\" or \"S\") \n",
    "will display to describe the state of a process:\n",
    "\n",
    "    D    uninterruptible sleep (usually IO)\n",
    "    R    running or runnable (on run queue)\n",
    "    S    interruptible sleep (waiting for an event to complete)\n",
    "    T    stopped, either by a job control signal or because it is being traced\n",
    "    W    paging (not valid since the 2.6.xx kernel)\n",
    "    X    dead (should never be seen)\n",
    "    Z    defunct (\"zombie\") process, terminated but not reaped by its parent"
   ]
  },
  {
   "cell_type": "markdown",
   "metadata": {},
   "source": [
    "For BSD formats and when the stat keyword is used, additional characters may be displayed:\n",
    "\n",
    "    <    high-priority (not nice to other users)\n",
    "    N    low-priority (nice to other users)\n",
    "    L    has pages locked into memory (for real-time and custom IO)\n",
    "    s    is a session leader\n",
    "    l    is multi-threaded (using CLONE_THREAD, like NPTL pthreads do)\n",
    "    +    is in the foreground process group"
   ]
  },
  {
   "cell_type": "markdown",
   "metadata": {},
   "source": [
    "#### AIX FORMAT DESCRIPTORS\n",
    "This ps supports AIX format descriptors, which work somewhat like the formatting codes of printf(1) and printf.  \n",
    "For example, the normal default output can be produced with this: ps -eo \"%p %y %x %c\".  \n",
    "The NORMAL codes are described in the next section."
   ]
  },
  {
   "cell_type": "raw",
   "metadata": {},
   "source": [
    "       CODE   NORMAL   HEADER\n",
    "       %C     pcpu     %CPU\n",
    "       %G     group    GROUP\n",
    "       %P     ppid     PPID\n",
    "       %U     user     USER\n",
    "       %a     args     COMMAND\n",
    "       %c     comm     COMMAND\n",
    "       %g     rgroup   RGROUP\n",
    "       %n     nice     NI\n",
    "       %p     pid      PID\n",
    "\n",
    "       %r     pgid     PGID\n",
    "       %t     etime    ELAPSED\n",
    "       %u     ruser    RUSER\n",
    "       %x     time     TIME\n",
    "       %y     tty      TTY\n",
    "       %z     vsz      VSZ"
   ]
  },
  {
   "cell_type": "markdown",
   "metadata": {},
   "source": [
    "#### STANDARD FORMAT SPECIFIERS\n",
    "    Here are the different keywords that may be used to control the output format (e.g. with option -o) \n",
    "    or to sort the selected processes with the GNU-style --sort option.\n",
    "    \n",
    "    For example: \n",
    "    ps -eo pid,user,args --sort user\n",
    "    \n",
    "    This version of ps tries to recognize most of the keywords used in other implementations of ps.\n",
    "    \n",
    "    The following user-defined format specifiers may contain spaces: \n",
    "    args, cmd, comm, command, fname, ucmd, ucomm,lstart, bsdstart, start.\n",
    "    \n",
    "    Some keywords may not be available for sorting."
   ]
  },
  {
   "cell_type": "raw",
   "metadata": {},
   "source": [
    "CODE        HEADER    DESCRIPTION\n",
    "%cpu        %CPU     cpu utilization of the process in \"##.#\" format.  \n",
    "                  Currently, it is the CPU time used divided by the time the process has been running\n",
    "                  (cputime/realtime ratio), expressed as a percentage.\n",
    "                  It will not add up to 100% unless you are lucky.  (alias pcpu).\n",
    "                  \n",
    "%mem        %MEM     ratio of the process's resident set size  to the physical memory on the machine,\n",
    "                  expressed as a percentage.  (alias pmem).\n",
    "                  \n",
    "args        COMMAND   command with all its arguments as a string. Modifications to the arguments may be \n",
    "                  shown.  The output in this column may contain spaces.A process marked <defunct> is\n",
    "                  partly dead, waiting to be fully destroyed by its parent.  \n",
    "                  Sometimes the process args will be unavailable; when this happens, ps will instead\n",
    "                  print the executable name in brackets.(alias cmd, command).See also the comm format\n",
    "                  keyword, the -f option, and the c option.When specified last, this column will extend \n",
    "                  to the edge of the display.  If ps can not determine display width, as when output is\n",
    "                  redirected (piped) into a file or another command, the output width is undefined \n",
    "                  (it may be 80, unlimited, determined by the TERM variable, and so on).  The COLUMNS\n",
    "                  environment variable or --cols option may be used to exactly determine the width in\n",
    "                  this case.  The w or -w option may be also be used to adjust width.\n",
    "                  \n",
    "blocked      BLOCKED    mask of the blocked signals, see signal(7).According to the width of the field, a 32\n",
    "                   or 64-bit mask in hexadecimal format is displayed.  (alias sig_block, sigmask).\n",
    "                  \n",
    "bsdstart     START      time the command started.If the process was started less than 24 hours ago, \n",
    "                   \" HH:MM\", else it is \" Mmm:SS\" (where Mmm is the three letters of the month).  \n",
    "                   See also lstart, start, start_time, and stime.\n",
    "                 \n",
    "bsdtime      TIME      accumulated cpu time, user + system.  The display format is usually \"MMM:SS\", \n",
    "                  but can be shifted to the right if the process used more than 999 minutes of cpu time.\n",
    "                  \n",
    "c           C       processor utilization. Currently, this is the integer value of the percent usage over\n",
    "                   the lifetime of the process.  (see %cpu).\n",
    "                   \n",
    "caught      CAUGHT      mask of the caught signals, see signal(7).  According to the width of the field, a 32\n",
    "                   or 64 bits mask in hexadecimal format is displayed.  (alias sig_catch, sigcatch).\n",
    "                   \n",
    "cgroup      CGROUP      display control groups to which the process belongs.\n",
    "\n",
    "class       CLS       scheduling class of the process.  (alias policy, cls).  \n",
    "                   Field's possible values are:\n",
    "                   -    not reported\n",
    "                   TS   SCHED_OTHER\n",
    "                   FF   SCHED_FIFO\n",
    "                   RR   SCHED_RR\n",
    "                   B    SCHED_BATCH\n",
    "                   ISO  SCHED_ISO\n",
    "                   IDL  SCHED_IDLE\n",
    "                   ?   unknown value\n",
    "                   \n",
    "cls         CLS       scheduling class of the process.  (alias policy, cls).  \n",
    "                    Field's possible values are:\n",
    "                    -    not reported\n",
    "                    TS   SCHED_OTHER\n",
    "                    FF   SCHED_FIFO\n",
    "                    RR   SCHED_RR\n",
    "                    B   SCHED_BATCH\n",
    "                    ISO  SCHED_ISO\n",
    "                    IDL  SCHED_IDLE\n",
    "                    ?   unknown value\n",
    "                    \n",
    "cmd         CMD       see args.  (alias args, command).\n",
    "\n",
    "comm        COMMAND     command name (only the executable name).  Modifications to the command name will not\n",
    "                    be shown.  A process marked <defunct> is partly dead, waiting to be fully destroyed \n",
    "                    by its parent.  The output in this column may contain spaces.  (alias ucmd, ucomm).  \n",
    "                    See also the args format keyword, the -f option, and the c option.\n",
    "                    When specified last, this column will extend to the edge of the display.  \n",
    "                    If ps can not determine display width, as when output is redirected (piped) into \n",
    "                    a file or another command, the output width is undefined (it may be 80, unlimited, \n",
    "                    determined by the TERM variable, and so on).  The COLUMNS environment variable or \n",
    "                    --cols option may be used to exactly determine the width in this case.  \n",
    "                    The w or -w option may be also be used to adjust width.\n",
    "                    \n",
    "command     COMMAND      See args.  (alias args, command).\n",
    "\n",
    "cp          CP        per-mill (tenths of a percent) CPU usage.  (see %cpu).\n",
    "\n",
    "cputime     TIME        cumulative CPU time, \"[DD-]hh:mm:ss\" format.  (alias time).\n",
    "\n",
    "egid        EGID       effective group ID number of the process as a decimal integer.  (alias gid).\n",
    "\n",
    "egroup      EGROUP       effective group ID of the process.This will be the textual group ID, \n",
    "                    if it can be obtained and the field width permits, or a decimal representation\n",
    "                    otherwise.  (alias group).\n",
    "                    \n",
    "eip         EIP       instruction pointer.\n",
    "\n",
    "esp         ESP       stack pointer.\n",
    "\n",
    "etime       ELAPSED     elapsed time since the process was started, in the form [[DD-]hh:]mm:ss.\n",
    "\n",
    "etimes      ELAPSED      elapsed time since the process was started, in seconds.\n",
    "\n",
    "euid        EUID       effective user ID (alias uid).\n",
    "\n",
    "euser       EUSER      effective user name.This will be the textual user ID, if it can be obtained and the\n",
    "                   field width permits, or a decimal representation otherwise.  The n option can be used \n",
    "                   to force the decimal representation.  (alias uname, user).\n",
    "                   \n",
    "f           F       flags associated with the process, see the PROCESS FLAGS section.  \n",
    "                   (alias flag, flags).\n",
    "                   \n",
    "fgid        FGID       filesystem access group ID.  (alias fsgid).\n",
    "\n",
    "fgroup      FGROUP      filesystem access group ID.  This will be the textual group ID, if it can be obtained\n",
    "                   and the field width permits, or a decimal representation otherwise.  (alias fsgroup).\n",
    "                   \n",
    "flag        F         see f.  (alias f, flags).\n",
    "\n",
    "flags       F         see f.  (alias f, flag).\n",
    "\n",
    "fname       COMMAND     first 8 bytes of the base name of the process's executable file.  \n",
    "                    The output in this column may contain spaces.\n",
    "                    \n",
    "fuid        FUID       filesystem access user ID.  (alias fsuid).\n",
    "\n",
    "fuser       FUSER      filesystem access user ID.  This will be the textual user ID, \n",
    "                   if it can be obtained and the field width permits, \n",
    "                   or a decimal representation otherwise.\n",
    "                   \n",
    "gid         GID       see egid.  (alias egid).\n",
    "\n",
    "group       GROUP     see egroup.  (alias egroup).\n",
    "\n",
    "ignored     IGNORED     mask of the ignored signals, see signal(7).  According to the width of the field, \n",
    "                   a 32 or 64 bits mask in hexadecimal format is displayed.  \n",
    "                   (alias sig_ignore, sigignore).\n",
    "                   \n",
    "ipcns       IPCNS      Unique inode number describing the namespace the process belongs to. \n",
    "                   See namespaces(7).\n",
    "                   \n",
    "label       LABEL      security label, most commonly used for SELinux context data.  \n",
    "                   This is for the Mandatory Access Control (\"MAC\") found on high-security systems.\n",
    "                   \n",
    "lstart      STARTED     time the command started.  See also bsdstart, start, start_time, and stime.\n",
    "\n",
    "lsession    SESSION      displays login session identifier of a process.\n",
    "\n",
    "lwp         LWP       light weight process (thread) ID of the dispatchable entity (alias spid, tid).  \n",
    "                    See tid for additional information.\n",
    "                    \n",
    "machine     MACHINE      displays machine name for processes assigned to VM or container.\n",
    "\n",
    "maj_flt     MAJFLT      The number of major page faults that have occurred with this process.\n",
    "\n",
    "min_flt     MINFLT      The number of minor page faults that have occurred with this process.\n",
    "\n",
    "mntns       MNTNS      Unique inode number describing the namespace the process belongs to. \n",
    "                   See namespaces(7).\n",
    "                   \n",
    "netns       NETNS      Unique inode number describing the namespace the process belongs to. \n",
    "                   See namespaces(7).\n",
    "                   \n",
    "ni          NI       nice value. This ranges from 19 (nicest) to -20 (not nice to others), \n",
    "                   see nice(1).  (alias nice).\n",
    "                   \n",
    "nice        NI        see ni.(alias ni).\n",
    "\n",
    "nlwp        NLWP      number of lwps (threads) in the process.  (alias thcount).\n",
    "\n",
    "nwchan      WCHAN      address of the kernel function where the process is sleeping (use wchan if you want \n",
    "                  the kernel function name).  Running tasks will display a dash ('-') in this column.\n",
    "                  \n",
    "ouid        OWNER     displays the Unix user identifier of the owner of the session of a process.\n",
    "\n",
    "pcpu        %CPU      see %cpu.  (alias %cpu).\n",
    "\n",
    "pending     PENDING     mask of the pending signals. See signal(7).  \n",
    "                   Signals pending on the process are distinct from signals pending on individual\n",
    "                   threads.  Use the m option or the -m option to see both.  According to the width of\n",
    "                   the field, a 32 or 64 bits mask in hexadecimal format is displayed.  (alias sig).\n",
    "                   \n",
    "pgid        PGID      process group ID or, equivalently, the process ID of the process group leader.  \n",
    "                  (alias pgrp).\n",
    "                  \n",
    "pgrp        PGRP      see pgid.  (alias pgid).\n",
    "\n",
    "pid         PID      a number representing the process ID (alias tgid).\n",
    "\n",
    "pidns       PIDNS     Unique inode number describing the namespace the process belongs to. \n",
    "                  See namespaces(7).\n",
    "                  \n",
    "pmem        %MEM      see %mem.  (alias %mem).\n",
    "\n",
    "policy       POL      scheduling class of the process.  (alias class, cls).  \n",
    "                   Possible values are:\n",
    "\n",
    "                   -   not reported\n",
    "                   TS  SCHED_OTHER\n",
    "                   FF  SCHED_FIFO\n",
    "                   RR  SCHED_RR\n",
    "                   B   SCHED_BATCH\n",
    "                   ISO SCHED_ISO\n",
    "                   IDL SCHED_IDLE\n",
    "                   ?   unknown value\n",
    "                   \n",
    "ppid        PPID      parent process ID.\n",
    "\n",
    "pri         PRI      priority of the process.  Higher number means lower priority.\n",
    "\n",
    "psr         PSR      processor that process is currently assigned to.\n",
    "\n",
    "rgid        RGID      real group ID.\n",
    "\n",
    "rgroup      RGROUP     real group name. This will be the textual group ID, if it can be obtained \n",
    "                  and the field width permits, or a decimal representation otherwise.\n",
    "                  \n",
    "rss         RSS      resident set size, the non-swapped physical memory that a task has used \n",
    "                  (inkiloBytes).  (alias rssize, rsz).\n",
    "                  \n",
    "rssize       RSS      see rss.  (alias rss, rsz).\n",
    "\n",
    "rsz         RSZ      see rss.  (alias rss, rssize).\n",
    "\n",
    "rtprio       RTPRIO    realtime priority.\n",
    "\n",
    "ruid         RUID     real user ID.\n",
    "\n",
    "ruser       RUSER      real user ID.  This will be the textual user ID, if it can be obtained and \n",
    "                   the field width permits,or a decimal representation otherwise.\n",
    "                   \n",
    "s           S       minimal state display (one character).  See section PROCESS STATE CODES for the\n",
    "                   different values.See also stat if you want additional information displayed.  \n",
    "                   (alias state).\n",
    "                   \n",
    "sched       SCH       scheduling policy of the process.  The policies SCHED_OTHER (SCHED_NORMAL),\n",
    "                   SCHED_FIFO, SCHED_RR,SCHED_BATCH, SCHED_ISO, and SCHED_IDLE are respectively\n",
    "                   displayed as 0, 1, 2, 3, 4, and 5.\n",
    "                   \n",
    "seat        SEAT      displays login session identifier of a process.\n",
    "\n",
    "sess        SESS      session ID or, equivalently, the process ID of the session leader.  \n",
    "                  (alias session, sid).\n",
    "                  \n",
    "sgi_p       P        processor that the process is currently executing on.  \n",
    "                  Displays \"*\" if the process is not currently running or runnable."
   ]
  },
  {
   "cell_type": "raw",
   "metadata": {},
   "source": [
    "sgid        SGID      saved group ID.  (alias svgid).\n",
    "\n",
    "sgroup      SGROUP     saved group name.  This will be the textual group ID, if it can be obtained and \n",
    "                  the field width permits, or a decimal representation otherwise.\n",
    "                  \n",
    "sid         SID      see sess.  (alias sess, session).\n",
    "\n",
    "sig         PENDING   see pending.  (alias pending, sig_pend).\n",
    "\n",
    "sigcatch     CAUGHT    see caught.  (alias caught, sig_catch).\n",
    "\n",
    "sigignore    IGNORED   see ignored.  (alias ignored, sig_ignore).\n",
    "\n",
    "sigmask     BLOCKED   see blocked.  (alias blocked, sig_block).\n",
    "\n",
    "size        SIZE     approximate amount of swap space that would be required if the process were to \n",
    "                  dirty all writable pages and then be swapped out.  This number is very rough!\n",
    "                  \n",
    "slice       SLICE     displays slice unit which a process belongs to.\n",
    "\n",
    "spid        SPID      see lwp.  (alias lwp, tid).\n",
    "\n",
    "stackp      STACKP    address of the bottom (start) of stack for the process.\n",
    "\n",
    "start      STARTED    time the command started. If the process was started less than 24 hours ago, \n",
    "                 the output format is \"HH:MM:SS\", else it is \"  Mmm dd\" \n",
    "                 (where Mmm is a three-letter month name).  \n",
    "                 See also lstart, bsdstart, start_time, and stime.\n",
    "                 \n",
    "start_time   START     starting time or date of the process.  \n",
    "                  Only the year will be displayed if the process was not started the same year ps was\n",
    "                  invoked, or \"MmmDD\" if it was not started the same day, or \"HH:MM\" otherwise.\n",
    "                  See also bsdstart, start, lstart, and stime.\n",
    "                  \n",
    "stat        STAT      multi-character process state.  \n",
    "                  See section PROCESS STATE CODES for the different values meaning.\n",
    "                  See also s and state if you just want the first character displayed.\n",
    "                  \n",
    "state       S        see s. (alias s).\n",
    "\n",
    "suid        SUID      saved user ID.  (alias svuid).\n",
    "\n",
    "supgid      SUPGID     group ids of supplementary groups, if any.  See getgroups(2).\n",
    "\n",
    "supgrp      SUPGRP     group names of supplementary groups, if any.  See getgroups(2).\n",
    "\n",
    "suser       SUSER     saved user name.  This will be the textual user ID, \n",
    "                  if it can be obtained and the field width  permits, \n",
    "                  or a decimal representation otherwise.  (alias svuser).\n",
    "                  \n",
    "svgid       SVGID     see sgid.  (alias sgid).\n",
    "\n",
    "svuid       SVUID     see suid.  (alias suid).\n",
    "\n",
    "sz          SZ       size in physical pages of the core image of the process.  \n",
    "                   This includes text, data, and stack space.\n",
    "                   Device mappings are currently excluded; this is subject to change.\n",
    "                   See vsz and rss.\n",
    "                   \n",
    "tgid        TGID      a number representing the thread group to which a task belongs (alias pid).  \n",
    "                   It is the process ID of the thread group leader.\n",
    "                   \n",
    "thcount      THCNT     see nlwp.  (alias nlwp).  number of kernel threads owned by the process.\n",
    "\n",
    "tid         TID      the unique number representing a dispatacable entity (alias lwp, spid).  \n",
    "                   This value may also appear as: a process ID (pid); a process group ID (pgrp); \n",
    "                   a session ID for the session leader (sid); a thread group ID for the thread group\n",
    "                   leader (tgid); and a tty process group ID for the process group leader (tpgid).\n",
    "                   \n",
    "time        TIME      cumulative CPU time, \"[DD-]HH:MM:SS\" format.  (alias cputime).\n",
    "\n",
    "tname       TTY       controlling tty (terminal).  (alias tt, tty).\n",
    "\n",
    "tpgid       TPGID      ID of the foreground process group on the tty (terminal) that the process is \n",
    "                   connected to, or -1 if the process is not connected to a tty.\n",
    "                   \n",
    "tt          TT        controlling tty (terminal).  (alias tname, tty).\n",
    "\n",
    "tty         TT        controlling tty (terminal).  (alias tname, tt)."
   ]
  },
  {
   "cell_type": "code",
   "execution_count": null,
   "metadata": {
    "collapsed": true
   },
   "outputs": [],
   "source": []
  },
  {
   "cell_type": "code",
   "execution_count": null,
   "metadata": {
    "collapsed": true
   },
   "outputs": [],
   "source": []
  },
  {
   "cell_type": "code",
   "execution_count": null,
   "metadata": {
    "collapsed": true
   },
   "outputs": [],
   "source": []
  },
  {
   "cell_type": "code",
   "execution_count": null,
   "metadata": {
    "collapsed": true
   },
   "outputs": [],
   "source": []
  },
  {
   "cell_type": "code",
   "execution_count": null,
   "metadata": {
    "collapsed": true
   },
   "outputs": [],
   "source": []
  },
  {
   "cell_type": "code",
   "execution_count": null,
   "metadata": {
    "collapsed": true
   },
   "outputs": [],
   "source": []
  },
  {
   "cell_type": "code",
   "execution_count": null,
   "metadata": {
    "collapsed": true
   },
   "outputs": [],
   "source": []
  },
  {
   "cell_type": "code",
   "execution_count": null,
   "metadata": {
    "collapsed": true
   },
   "outputs": [],
   "source": []
  },
  {
   "cell_type": "code",
   "execution_count": null,
   "metadata": {
    "collapsed": true
   },
   "outputs": [],
   "source": []
  },
  {
   "cell_type": "code",
   "execution_count": null,
   "metadata": {
    "collapsed": true
   },
   "outputs": [],
   "source": []
  },
  {
   "cell_type": "code",
   "execution_count": null,
   "metadata": {
    "collapsed": true
   },
   "outputs": [],
   "source": []
  },
  {
   "cell_type": "code",
   "execution_count": null,
   "metadata": {
    "collapsed": true
   },
   "outputs": [],
   "source": []
  },
  {
   "cell_type": "code",
   "execution_count": null,
   "metadata": {
    "collapsed": true
   },
   "outputs": [],
   "source": []
  },
  {
   "cell_type": "code",
   "execution_count": null,
   "metadata": {
    "collapsed": true
   },
   "outputs": [],
   "source": []
  },
  {
   "cell_type": "code",
   "execution_count": null,
   "metadata": {
    "collapsed": true
   },
   "outputs": [],
   "source": []
  },
  {
   "cell_type": "code",
   "execution_count": null,
   "metadata": {
    "collapsed": true
   },
   "outputs": [],
   "source": []
  },
  {
   "cell_type": "code",
   "execution_count": null,
   "metadata": {
    "collapsed": true
   },
   "outputs": [],
   "source": []
  },
  {
   "cell_type": "code",
   "execution_count": null,
   "metadata": {
    "collapsed": true
   },
   "outputs": [],
   "source": []
  },
  {
   "cell_type": "code",
   "execution_count": null,
   "metadata": {
    "collapsed": true
   },
   "outputs": [],
   "source": []
  },
  {
   "cell_type": "code",
   "execution_count": null,
   "metadata": {
    "collapsed": true
   },
   "outputs": [],
   "source": []
  },
  {
   "cell_type": "code",
   "execution_count": null,
   "metadata": {
    "collapsed": true
   },
   "outputs": [],
   "source": []
  },
  {
   "cell_type": "code",
   "execution_count": null,
   "metadata": {
    "collapsed": true
   },
   "outputs": [],
   "source": []
  },
  {
   "cell_type": "code",
   "execution_count": null,
   "metadata": {
    "collapsed": true
   },
   "outputs": [],
   "source": []
  },
  {
   "cell_type": "code",
   "execution_count": null,
   "metadata": {
    "collapsed": true
   },
   "outputs": [],
   "source": []
  },
  {
   "cell_type": "code",
   "execution_count": null,
   "metadata": {
    "collapsed": true
   },
   "outputs": [],
   "source": []
  },
  {
   "cell_type": "code",
   "execution_count": null,
   "metadata": {
    "collapsed": true
   },
   "outputs": [],
   "source": []
  },
  {
   "cell_type": "code",
   "execution_count": null,
   "metadata": {
    "collapsed": true
   },
   "outputs": [],
   "source": []
  },
  {
   "cell_type": "code",
   "execution_count": null,
   "metadata": {
    "collapsed": true
   },
   "outputs": [],
   "source": []
  },
  {
   "cell_type": "code",
   "execution_count": null,
   "metadata": {
    "collapsed": true
   },
   "outputs": [],
   "source": []
  },
  {
   "cell_type": "code",
   "execution_count": null,
   "metadata": {
    "collapsed": true
   },
   "outputs": [],
   "source": []
  },
  {
   "cell_type": "code",
   "execution_count": null,
   "metadata": {
    "collapsed": true
   },
   "outputs": [],
   "source": []
  },
  {
   "cell_type": "code",
   "execution_count": null,
   "metadata": {
    "collapsed": true
   },
   "outputs": [],
   "source": []
  },
  {
   "cell_type": "code",
   "execution_count": null,
   "metadata": {
    "collapsed": true
   },
   "outputs": [],
   "source": []
  },
  {
   "cell_type": "code",
   "execution_count": null,
   "metadata": {
    "collapsed": true
   },
   "outputs": [],
   "source": []
  },
  {
   "cell_type": "code",
   "execution_count": null,
   "metadata": {
    "collapsed": true
   },
   "outputs": [],
   "source": []
  },
  {
   "cell_type": "code",
   "execution_count": null,
   "metadata": {
    "collapsed": true
   },
   "outputs": [],
   "source": []
  },
  {
   "cell_type": "code",
   "execution_count": null,
   "metadata": {
    "collapsed": true
   },
   "outputs": [],
   "source": []
  },
  {
   "cell_type": "code",
   "execution_count": null,
   "metadata": {
    "collapsed": true
   },
   "outputs": [],
   "source": []
  },
  {
   "cell_type": "code",
   "execution_count": null,
   "metadata": {
    "collapsed": true
   },
   "outputs": [],
   "source": []
  },
  {
   "cell_type": "code",
   "execution_count": null,
   "metadata": {
    "collapsed": true
   },
   "outputs": [],
   "source": []
  },
  {
   "cell_type": "code",
   "execution_count": null,
   "metadata": {
    "collapsed": true
   },
   "outputs": [],
   "source": []
  },
  {
   "cell_type": "code",
   "execution_count": null,
   "metadata": {
    "collapsed": true
   },
   "outputs": [],
   "source": []
  },
  {
   "cell_type": "code",
   "execution_count": null,
   "metadata": {
    "collapsed": true
   },
   "outputs": [],
   "source": []
  },
  {
   "cell_type": "code",
   "execution_count": null,
   "metadata": {
    "collapsed": true
   },
   "outputs": [],
   "source": []
  },
  {
   "cell_type": "code",
   "execution_count": null,
   "metadata": {
    "collapsed": true
   },
   "outputs": [],
   "source": []
  },
  {
   "cell_type": "code",
   "execution_count": null,
   "metadata": {
    "collapsed": true
   },
   "outputs": [],
   "source": []
  },
  {
   "cell_type": "code",
   "execution_count": null,
   "metadata": {
    "collapsed": true
   },
   "outputs": [],
   "source": []
  },
  {
   "cell_type": "code",
   "execution_count": null,
   "metadata": {
    "collapsed": true
   },
   "outputs": [],
   "source": []
  },
  {
   "cell_type": "code",
   "execution_count": null,
   "metadata": {
    "collapsed": true
   },
   "outputs": [],
   "source": []
  },
  {
   "cell_type": "code",
   "execution_count": null,
   "metadata": {
    "collapsed": true
   },
   "outputs": [],
   "source": []
  },
  {
   "cell_type": "code",
   "execution_count": null,
   "metadata": {
    "collapsed": true
   },
   "outputs": [],
   "source": []
  },
  {
   "cell_type": "code",
   "execution_count": null,
   "metadata": {
    "collapsed": true
   },
   "outputs": [],
   "source": []
  },
  {
   "cell_type": "code",
   "execution_count": null,
   "metadata": {
    "collapsed": true
   },
   "outputs": [],
   "source": []
  },
  {
   "cell_type": "code",
   "execution_count": null,
   "metadata": {
    "collapsed": true
   },
   "outputs": [],
   "source": []
  },
  {
   "cell_type": "code",
   "execution_count": null,
   "metadata": {
    "collapsed": true
   },
   "outputs": [],
   "source": []
  },
  {
   "cell_type": "code",
   "execution_count": null,
   "metadata": {
    "collapsed": true
   },
   "outputs": [],
   "source": []
  },
  {
   "cell_type": "code",
   "execution_count": null,
   "metadata": {
    "collapsed": true
   },
   "outputs": [],
   "source": []
  },
  {
   "cell_type": "code",
   "execution_count": null,
   "metadata": {
    "collapsed": true
   },
   "outputs": [],
   "source": []
  },
  {
   "cell_type": "code",
   "execution_count": null,
   "metadata": {
    "collapsed": true
   },
   "outputs": [],
   "source": []
  },
  {
   "cell_type": "code",
   "execution_count": null,
   "metadata": {
    "collapsed": true
   },
   "outputs": [],
   "source": []
  },
  {
   "cell_type": "code",
   "execution_count": null,
   "metadata": {
    "collapsed": true
   },
   "outputs": [],
   "source": []
  },
  {
   "cell_type": "code",
   "execution_count": null,
   "metadata": {
    "collapsed": true
   },
   "outputs": [],
   "source": []
  },
  {
   "cell_type": "code",
   "execution_count": null,
   "metadata": {
    "collapsed": true
   },
   "outputs": [],
   "source": []
  },
  {
   "cell_type": "code",
   "execution_count": null,
   "metadata": {
    "collapsed": true
   },
   "outputs": [],
   "source": []
  },
  {
   "cell_type": "code",
   "execution_count": null,
   "metadata": {
    "collapsed": true
   },
   "outputs": [],
   "source": []
  },
  {
   "cell_type": "code",
   "execution_count": null,
   "metadata": {
    "collapsed": true
   },
   "outputs": [],
   "source": []
  },
  {
   "cell_type": "code",
   "execution_count": null,
   "metadata": {
    "collapsed": true
   },
   "outputs": [],
   "source": []
  },
  {
   "cell_type": "code",
   "execution_count": null,
   "metadata": {
    "collapsed": true
   },
   "outputs": [],
   "source": []
  },
  {
   "cell_type": "code",
   "execution_count": null,
   "metadata": {
    "collapsed": true
   },
   "outputs": [],
   "source": []
  },
  {
   "cell_type": "code",
   "execution_count": null,
   "metadata": {
    "collapsed": true
   },
   "outputs": [],
   "source": []
  },
  {
   "cell_type": "code",
   "execution_count": null,
   "metadata": {
    "collapsed": true
   },
   "outputs": [],
   "source": []
  },
  {
   "cell_type": "code",
   "execution_count": null,
   "metadata": {
    "collapsed": true
   },
   "outputs": [],
   "source": []
  },
  {
   "cell_type": "code",
   "execution_count": null,
   "metadata": {
    "collapsed": true
   },
   "outputs": [],
   "source": []
  },
  {
   "cell_type": "code",
   "execution_count": null,
   "metadata": {
    "collapsed": true
   },
   "outputs": [],
   "source": []
  },
  {
   "cell_type": "code",
   "execution_count": null,
   "metadata": {
    "collapsed": true
   },
   "outputs": [],
   "source": []
  },
  {
   "cell_type": "code",
   "execution_count": null,
   "metadata": {
    "collapsed": true
   },
   "outputs": [],
   "source": []
  },
  {
   "cell_type": "code",
   "execution_count": null,
   "metadata": {
    "collapsed": true
   },
   "outputs": [],
   "source": []
  },
  {
   "cell_type": "code",
   "execution_count": null,
   "metadata": {
    "collapsed": true
   },
   "outputs": [],
   "source": []
  },
  {
   "cell_type": "code",
   "execution_count": null,
   "metadata": {
    "collapsed": true
   },
   "outputs": [],
   "source": []
  },
  {
   "cell_type": "code",
   "execution_count": null,
   "metadata": {
    "collapsed": true
   },
   "outputs": [],
   "source": []
  },
  {
   "cell_type": "code",
   "execution_count": null,
   "metadata": {
    "collapsed": true
   },
   "outputs": [],
   "source": []
  },
  {
   "cell_type": "code",
   "execution_count": null,
   "metadata": {
    "collapsed": true
   },
   "outputs": [],
   "source": []
  },
  {
   "cell_type": "code",
   "execution_count": null,
   "metadata": {
    "collapsed": true
   },
   "outputs": [],
   "source": []
  },
  {
   "cell_type": "code",
   "execution_count": null,
   "metadata": {
    "collapsed": true
   },
   "outputs": [],
   "source": []
  },
  {
   "cell_type": "code",
   "execution_count": null,
   "metadata": {
    "collapsed": true
   },
   "outputs": [],
   "source": []
  },
  {
   "cell_type": "code",
   "execution_count": null,
   "metadata": {
    "collapsed": true
   },
   "outputs": [],
   "source": []
  },
  {
   "cell_type": "code",
   "execution_count": null,
   "metadata": {
    "collapsed": true
   },
   "outputs": [],
   "source": []
  },
  {
   "cell_type": "code",
   "execution_count": null,
   "metadata": {
    "collapsed": true
   },
   "outputs": [],
   "source": []
  },
  {
   "cell_type": "code",
   "execution_count": null,
   "metadata": {
    "collapsed": true
   },
   "outputs": [],
   "source": []
  },
  {
   "cell_type": "code",
   "execution_count": null,
   "metadata": {
    "collapsed": true
   },
   "outputs": [],
   "source": []
  }
 ],
 "metadata": {
  "kernelspec": {
   "display_name": "Bash",
   "language": "bash",
   "name": "bash"
  },
  "language_info": {
   "codemirror_mode": "shell",
   "file_extension": ".sh",
   "mimetype": "text/x-sh",
   "name": "bash"
  }
 },
 "nbformat": 4,
 "nbformat_minor": 0
}
