{
 "cells": [
  {
   "cell_type": "markdown",
   "metadata": {},
   "source": [
    "File objects are implemented using C’s stdio package and can be created with the built-in open() function.  \n",
    "File objects are also returned by some other built-in functions and methods, such as os.popen() and os.fdopen() and the makefile() method of socket objects.  \n",
    "\n",
    "Temporary files can be created using the tempfile module, and high-level file operations such as copying, moving, and deleting files and directories can be achieved with the shutil module.  \n",
    "When a file operation fails for an I/O-related reason, the exception IOError is raised.  \n",
    "This includes situations where the operation is not defined for some reason, like seek() on a tty device or writing a file opened for reading."
   ]
  },
  {
   "cell_type": "markdown",
   "metadata": {},
   "source": [
    "### File Methods\n",
    "Files have the following methods:"
   ]
  },
  {
   "cell_type": "markdown",
   "metadata": {},
   "source": [
    "###### f.close() -> None or (perhaps) an integer.\n",
    "Close the file.   "
   ]
  },
  {
   "cell_type": "code",
   "execution_count": 2,
   "metadata": {
    "collapsed": false
   },
   "outputs": [
    {
     "name": "stdout",
     "output_type": "stream",
     "text": [
      "182.97.18.85  \n",
      "171.35.156.201\n",
      "182.97.24.135 \n",
      "106.225.5.220 \n",
      "106.225.21.146\n"
     ]
    }
   ],
   "source": [
    "f = open('/home/liheyi/file')\n",
    "try:\n",
    "    for line in f:\n",
    "        print line,\n",
    "finally:\n",
    "        f.close()"
   ]
  },
  {
   "cell_type": "markdown",
   "metadata": {},
   "source": [
    "As of Python 2.5, you can avoid having to call this method explicitly if you use the with statement.   \n",
    "For example, the following code will automatically close f when the with block is exited:"
   ]
  },
  {
   "cell_type": "code",
   "execution_count": 30,
   "metadata": {
    "collapsed": false
   },
   "outputs": [
    {
     "name": "stdout",
     "output_type": "stream",
     "text": [
      "182.97.18.85\n",
      "171.35.156.201\n",
      "182.97.24.135\n",
      "106.225.5.220\n",
      "106.225.21.146\n"
     ]
    }
   ],
   "source": [
    "with open('/home/liheyi/file') as f:\n",
    "    for line in f:\n",
    "        print line,"
   ]
  },
  {
   "cell_type": "raw",
   "metadata": {},
   "source": [
    "Note: \n",
    "Not all “file-like” types in Python support use as a context manager for the with statement. \n",
    "If your code is intended to work with any file-like object, you can use the function contextlib.closing() instead of using the object directly."
   ]
  },
  {
   "cell_type": "markdown",
   "metadata": {},
   "source": [
    "A closed file cannot be read or written any more.   \n",
    "Any operation which requires that the file be open will raise a ValueError after the file has been closed.    "
   ]
  },
  {
   "cell_type": "code",
   "execution_count": 31,
   "metadata": {
    "collapsed": false
   },
   "outputs": [
    {
     "ename": "ValueError",
     "evalue": "I/O operation on closed file",
     "output_type": "error",
     "traceback": [
      "\u001b[1;31m---------------------------------------------------------------------------\u001b[0m",
      "\u001b[1;31mValueError\u001b[0m                                Traceback (most recent call last)",
      "\u001b[1;32m<ipython-input-31-71ca3fe3e378>\u001b[0m in \u001b[0;36m<module>\u001b[1;34m()\u001b[0m\n\u001b[1;32m----> 1\u001b[1;33m \u001b[0mf\u001b[0m\u001b[1;33m.\u001b[0m\u001b[0mreadlines\u001b[0m\u001b[1;33m(\u001b[0m\u001b[1;33m)\u001b[0m\u001b[1;33m\u001b[0m\u001b[0m\n\u001b[0m",
      "\u001b[1;31mValueError\u001b[0m: I/O operation on closed file"
     ]
    }
   ],
   "source": [
    "f.readlines()"
   ]
  },
  {
   "cell_type": "markdown",
   "metadata": {},
   "source": [
    "Calling close() more than once is allowed. "
   ]
  },
  {
   "cell_type": "code",
   "execution_count": 32,
   "metadata": {
    "collapsed": true
   },
   "outputs": [],
   "source": [
    "f.close()"
   ]
  },
  {
   "cell_type": "code",
   "execution_count": 33,
   "metadata": {
    "collapsed": true
   },
   "outputs": [],
   "source": [
    "f.close()"
   ]
  },
  {
   "cell_type": "markdown",
   "metadata": {},
   "source": [
    "###### f.fileno() -> integer \"file descriptor\"\n",
    "Return the integer “file descriptor” that is used by the underlying implementation to request I/O operations from the operating system.   \n",
    "This can be useful for other, lower level interfaces that use file descriptors, such as the fcntl module or os.read() and friends.  \n",
    "Note File-like objects which do not have a real file descriptor should not provide this method!"
   ]
  },
  {
   "cell_type": "code",
   "execution_count": 34,
   "metadata": {
    "collapsed": false
   },
   "outputs": [
    {
     "name": "stdout",
     "output_type": "stream",
     "text": [
      "62\n"
     ]
    }
   ],
   "source": [
    "with open('/home/liheyi/file') as f:\n",
    "    print f.fileno()"
   ]
  },
  {
   "cell_type": "markdown",
   "metadata": {},
   "source": [
    "###### f.flush() -> None\n",
    "Flush the internal I/O buffer,like stdio‘s fflush().   \n",
    "This may be a no-op on some file-like objects.  \n",
    "Note: flush() does not necessarily write the file’s data to disk. Use flush() followed by os.fsync() to ensure this behavior."
   ]
  },
  {
   "cell_type": "code",
   "execution_count": null,
   "metadata": {
    "collapsed": true
   },
   "outputs": [],
   "source": []
  },
  {
   "cell_type": "markdown",
   "metadata": {},
   "source": [
    "###### f.isatty() -> true or false\n",
    "Return True if the file is connected to a tty(-like) device, else False.\n",
    "Note: If a file-like object is not associated with a real file, this method should not be implemented."
   ]
  },
  {
   "cell_type": "code",
   "execution_count": 35,
   "metadata": {
    "collapsed": false
   },
   "outputs": [
    {
     "name": "stdout",
     "output_type": "stream",
     "text": [
      "False\n"
     ]
    }
   ],
   "source": [
    "with open('/home/liheyi/file') as f:\n",
    "    print f.isatty()"
   ]
  },
  {
   "cell_type": "code",
   "execution_count": 36,
   "metadata": {
    "collapsed": false
   },
   "outputs": [
    {
     "name": "stdout",
     "output_type": "stream",
     "text": [
      "True\n"
     ]
    }
   ],
   "source": [
    "with open('/dev/tty1') as f:\n",
    "    print f.isatty()"
   ]
  },
  {
   "cell_type": "markdown",
   "metadata": {},
   "source": [
    "###### f.next()\n",
    "A file object is its own iterator, for example iter(f) returns f (unless f is closed).   \n",
    "When a file is used as an iterator, typically in a for loop (for example, for line in f: print line.strip()), the next() method is called repeatedly.   \n",
    "This method returns the next input line, or raises StopIteration when EOF is hit when the file is open for reading   \n",
    "(behavior is undefined when the file is open for writing).   \n",
    "\n",
    "In order to make a for loop the most efficient way of looping over the lines of a file (a very common operation), the next() method uses a hidden read-ahead buffer.   \n",
    "As a consequence of using a read-ahead buffer, combining next() with other file methods (like readline()) does not work right.   \n",
    "However, using seek() to reposition the file to an absolute position will flush the read-ahead buffer."
   ]
  },
  {
   "cell_type": "code",
   "execution_count": 37,
   "metadata": {
    "collapsed": true
   },
   "outputs": [],
   "source": [
    "f = open('/home/liheyi/file')"
   ]
  },
  {
   "cell_type": "code",
   "execution_count": 38,
   "metadata": {
    "collapsed": false
   },
   "outputs": [
    {
     "data": {
      "text/plain": [
       "'182.97.18.85\\n'"
      ]
     },
     "execution_count": 38,
     "metadata": {},
     "output_type": "execute_result"
    }
   ],
   "source": [
    "f.next()"
   ]
  },
  {
   "cell_type": "code",
   "execution_count": 39,
   "metadata": {
    "collapsed": false
   },
   "outputs": [
    {
     "data": {
      "text/plain": [
       "'171.35.156.201\\n'"
      ]
     },
     "execution_count": 39,
     "metadata": {},
     "output_type": "execute_result"
    }
   ],
   "source": [
    "f.next()"
   ]
  },
  {
   "cell_type": "code",
   "execution_count": 40,
   "metadata": {
    "collapsed": false
   },
   "outputs": [
    {
     "data": {
      "text/plain": [
       "'182.97.24.135\\n'"
      ]
     },
     "execution_count": 40,
     "metadata": {},
     "output_type": "execute_result"
    }
   ],
   "source": [
    "f.next()"
   ]
  },
  {
   "cell_type": "code",
   "execution_count": 41,
   "metadata": {
    "collapsed": false
   },
   "outputs": [
    {
     "data": {
      "text/plain": [
       "'106.225.5.220\\n'"
      ]
     },
     "execution_count": 41,
     "metadata": {},
     "output_type": "execute_result"
    }
   ],
   "source": [
    "f.next()"
   ]
  },
  {
   "cell_type": "code",
   "execution_count": 42,
   "metadata": {
    "collapsed": false
   },
   "outputs": [
    {
     "data": {
      "text/plain": [
       "'106.225.21.146\\n'"
      ]
     },
     "execution_count": 42,
     "metadata": {},
     "output_type": "execute_result"
    }
   ],
   "source": [
    "f.next()"
   ]
  },
  {
   "cell_type": "code",
   "execution_count": 43,
   "metadata": {
    "collapsed": false
   },
   "outputs": [
    {
     "ename": "StopIteration",
     "evalue": "",
     "output_type": "error",
     "traceback": [
      "\u001b[1;31m---------------------------------------------------------------------------\u001b[0m",
      "\u001b[1;31mStopIteration\u001b[0m                             Traceback (most recent call last)",
      "\u001b[1;32m<ipython-input-43-c3e65e5362fb>\u001b[0m in \u001b[0;36m<module>\u001b[1;34m()\u001b[0m\n\u001b[1;32m----> 1\u001b[1;33m \u001b[0mf\u001b[0m\u001b[1;33m.\u001b[0m\u001b[0mnext\u001b[0m\u001b[1;33m(\u001b[0m\u001b[1;33m)\u001b[0m\u001b[1;33m\u001b[0m\u001b[0m\n\u001b[0m",
      "\u001b[1;31mStopIteration\u001b[0m: "
     ]
    }
   ],
   "source": [
    "f.next()"
   ]
  },
  {
   "cell_type": "code",
   "execution_count": 44,
   "metadata": {
    "collapsed": false
   },
   "outputs": [],
   "source": [
    "f.close()"
   ]
  },
  {
   "cell_type": "markdown",
   "metadata": {},
   "source": [
    "###### f.read([size])\n",
    "Read at most size bytes from the file (less if the read hits EOF before obtaining size bytes).   \n",
    "If the size argument is negative or omitted, read all data until EOF is reached.   \n",
    "The bytes are returned as a string object.   \n",
    "An empty string is returned when EOF is encountered immediately.   \n",
    "(For certain files, like ttys, it makes sense to continue reading after an EOF is hit.)   \n",
    "\n",
    "Note that this method may call the underlying C function fread() more than once in an effort to acquire as close to size bytes as possible.  \n",
    "Also note that when in non-blocking mode, less data than was requested may be returned, even if no size parameter was given.\n",
    "\n",
    "Note This function is simply a wrapper for the underlying fread() C function, and will behave the same in corner cases, such as whether the EOF value is cached."
   ]
  },
  {
   "cell_type": "code",
   "execution_count": 45,
   "metadata": {
    "collapsed": false
   },
   "outputs": [
    {
     "data": {
      "text/plain": [
       "'182.97.18.85\\n171.35.156.201\\n182.97.24.135\\n106.225.5.220\\n106.225.21.146\\n'"
      ]
     },
     "execution_count": 45,
     "metadata": {},
     "output_type": "execute_result"
    }
   ],
   "source": [
    "# no 'size' argument, read all contents form file as a string object.\n",
    "f = open('/home/liheyi/file')\n",
    "f.read()"
   ]
  },
  {
   "cell_type": "code",
   "execution_count": 46,
   "metadata": {
    "collapsed": true
   },
   "outputs": [],
   "source": [
    "f.close()"
   ]
  },
  {
   "cell_type": "code",
   "execution_count": 47,
   "metadata": {
    "collapsed": false
   },
   "outputs": [
    {
     "data": {
      "text/plain": [
       "'182.97.18.85\\n'"
      ]
     },
     "execution_count": 47,
     "metadata": {},
     "output_type": "execute_result"
    }
   ],
   "source": [
    "# read specified size byte\n",
    "f = open('/home/liheyi/file')\n",
    "f.read(13)"
   ]
  },
  {
   "cell_type": "code",
   "execution_count": 48,
   "metadata": {
    "collapsed": false
   },
   "outputs": [
    {
     "data": {
      "text/plain": [
       "'171.35.156.2'"
      ]
     },
     "execution_count": 48,
     "metadata": {},
     "output_type": "execute_result"
    }
   ],
   "source": [
    "f.read(12)"
   ]
  },
  {
   "cell_type": "code",
   "execution_count": 49,
   "metadata": {
    "collapsed": false
   },
   "outputs": [
    {
     "data": {
      "text/plain": [
       "'01\\n182.97.24.135\\n106.225.5.220\\n106.225.21.146\\n'"
      ]
     },
     "execution_count": 49,
     "metadata": {},
     "output_type": "execute_result"
    }
   ],
   "source": [
    "f.read(50)"
   ]
  },
  {
   "cell_type": "code",
   "execution_count": 50,
   "metadata": {
    "collapsed": false
   },
   "outputs": [
    {
     "data": {
      "text/plain": [
       "46"
      ]
     },
     "execution_count": 50,
     "metadata": {},
     "output_type": "execute_result"
    }
   ],
   "source": [
    "len('01\\n182.97.24.135\\n106.225.5.220\\n106.225.21.146\\n')"
   ]
  },
  {
   "cell_type": "code",
   "execution_count": 51,
   "metadata": {
    "collapsed": true
   },
   "outputs": [],
   "source": [
    "f.close()"
   ]
  },
  {
   "cell_type": "markdown",
   "metadata": {
    "collapsed": true
   },
   "source": [
    "###### f.readline([size])\n",
    "Read one entire line from the file.   \n",
    "A trailing newline character is kept in the string (but may be absent when a file ends with an incomplete line).   \n",
    "If the size argument is present and non-negative, it is a maximum byte count (including the trailing newline) and an incomplete line may be returned.   \n",
    "When size is not 0, an empty string is returned only when EOF is encountered immediately.  \n",
    "Note: Unlike stdio‘s fgets(), the returned string contains null characters ('\\0') if they occurred in the input."
   ]
  },
  {
   "cell_type": "code",
   "execution_count": 52,
   "metadata": {
    "collapsed": false
   },
   "outputs": [
    {
     "data": {
      "text/plain": [
       "'182.97.18.85\\n'"
      ]
     },
     "execution_count": 52,
     "metadata": {},
     "output_type": "execute_result"
    }
   ],
   "source": [
    "f = open('/home/liheyi/file')\n",
    "# read the first line in file\n",
    "f.readline()"
   ]
  },
  {
   "cell_type": "code",
   "execution_count": 54,
   "metadata": {
    "collapsed": false
   },
   "outputs": [
    {
     "data": {
      "text/plain": [
       "'182.97.24.'"
      ]
     },
     "execution_count": 54,
     "metadata": {},
     "output_type": "execute_result"
    }
   ],
   "source": [
    "# rand the start 10 chars of the second line in file\n",
    "f.readline(10)"
   ]
  },
  {
   "cell_type": "code",
   "execution_count": 55,
   "metadata": {
    "collapsed": false
   },
   "outputs": [
    {
     "data": {
      "text/plain": [
       "'135\\n'"
      ]
     },
     "execution_count": 55,
     "metadata": {},
     "output_type": "execute_result"
    }
   ],
   "source": [
    "# no 'size' argument\n",
    "# read the rest of the second line in file\n",
    "f.readline()"
   ]
  },
  {
   "cell_type": "code",
   "execution_count": 56,
   "metadata": {
    "collapsed": false
   },
   "outputs": [
    {
     "data": {
      "text/plain": [
       "'106.225.5.220\\n'"
      ]
     },
     "execution_count": 56,
     "metadata": {},
     "output_type": "execute_result"
    }
   ],
   "source": [
    "# go on reading\n",
    "f.readline()"
   ]
  },
  {
   "cell_type": "code",
   "execution_count": 57,
   "metadata": {
    "collapsed": false
   },
   "outputs": [
    {
     "data": {
      "text/plain": [
       "'106.225.21.146\\n'"
      ]
     },
     "execution_count": 57,
     "metadata": {},
     "output_type": "execute_result"
    }
   ],
   "source": [
    "f.readline()"
   ]
  },
  {
   "cell_type": "code",
   "execution_count": 58,
   "metadata": {
    "collapsed": false
   },
   "outputs": [
    {
     "data": {
      "text/plain": [
       "''"
      ]
     },
     "execution_count": 58,
     "metadata": {},
     "output_type": "execute_result"
    }
   ],
   "source": [
    "# When reach the end of file,\n",
    "# go on reading will return null string ''\n",
    "# no error accur or raise exception\n",
    "f.readline()"
   ]
  },
  {
   "cell_type": "code",
   "execution_count": 59,
   "metadata": {
    "collapsed": false
   },
   "outputs": [
    {
     "data": {
      "text/plain": [
       "''"
      ]
     },
     "execution_count": 59,
     "metadata": {},
     "output_type": "execute_result"
    }
   ],
   "source": [
    "f.readline()"
   ]
  },
  {
   "cell_type": "code",
   "execution_count": 60,
   "metadata": {
    "collapsed": true
   },
   "outputs": [],
   "source": [
    "f.close()"
   ]
  },
  {
   "cell_type": "markdown",
   "metadata": {},
   "source": [
    "###### f.readlines([sizehint])\n",
    "Read until EOF using readline() and return a list containing the lines thus read.   \n",
    "If the optional sizehint argument is present, instead of reading up to EOF, whole lines totalling approximately sizehint bytes (possibly after rounding up to an internal buffer size) are read.   \n",
    "Objects implementing a file-like interface may choose to ignore sizehint if it cannot be implemented, or cannot be implemented efficiently."
   ]
  },
  {
   "cell_type": "code",
   "execution_count": 61,
   "metadata": {
    "collapsed": false
   },
   "outputs": [
    {
     "data": {
      "text/plain": [
       "['182.97.18.85\\n',\n",
       " '171.35.156.201\\n',\n",
       " '182.97.24.135\\n',\n",
       " '106.225.5.220\\n',\n",
       " '106.225.21.146\\n']"
      ]
     },
     "execution_count": 61,
     "metadata": {},
     "output_type": "execute_result"
    }
   ],
   "source": [
    "f = open('/home/liheyi/file')\n",
    "f.readlines()"
   ]
  },
  {
   "cell_type": "code",
   "execution_count": 62,
   "metadata": {
    "collapsed": true
   },
   "outputs": [],
   "source": [
    "f.close()"
   ]
  },
  {
   "cell_type": "markdown",
   "metadata": {},
   "source": [
    "###### f.xreadlines()\n",
    "This method returns the same thing as iter(f).  \n",
    "For backward compatibility. File objects now include the performance optimizations previously implemented in the xreadlines module.  \n",
    "Deprecated since version 2.3: Use 'for line in file' instead."
   ]
  },
  {
   "cell_type": "markdown",
   "metadata": {},
   "source": [
    "###### f.seek(offset[, whence])\n",
    "Set the file’s current position, like stdio‘s fseek().   \n",
    "The whence argument is optional and defaults to os.SEEK_SET or 0 (absolute file positioning);   \n",
    "ther values are os.SEEK_CUR or 1 (seek relative to the current position);  \n",
    "and os.SEEK_END or 2 (seek relative to the file’s end).  \n",
    "\n",
    "There is no return value.  \n",
    "For example, f.seek(2, os.SEEK_CUR) advances the position by two and f.seek(-3, os.SEEK_END) sets the position to the third to last.\n",
    "\n",
    "Note that if the file is opened for appending (mode 'a' or 'a+'), any seek() operations will be undone at the next write.   \n",
    "If the file is only opened for writing in append mode (mode 'a'), this method is essentially a no-op, but it remains useful for files opened in append mode with reading enabled (mode 'a+').   \n",
    "If the file is opened in text mode (without 'b'), only offsets returned by tell() are legal.   \n",
    "Use of other offsets causes undefined behavior.\n",
    "\n",
    "Note that not all file objects are seekable."
   ]
  },
  {
   "cell_type": "markdown",
   "metadata": {},
   "source": [
    "###### f.tell()\n",
    "Return the file’s current position, like stdio‘s ftell()."
   ]
  },
  {
   "cell_type": "code",
   "execution_count": 63,
   "metadata": {
    "collapsed": false
   },
   "outputs": [
    {
     "data": {
      "text/plain": [
       "0"
      ]
     },
     "execution_count": 63,
     "metadata": {},
     "output_type": "execute_result"
    }
   ],
   "source": [
    "f = open('/home/liheyi/file')\n",
    "f.tell()"
   ]
  },
  {
   "cell_type": "code",
   "execution_count": 64,
   "metadata": {
    "collapsed": false
   },
   "outputs": [
    {
     "data": {
      "text/plain": [
       "'182.97.18.85\\n'"
      ]
     },
     "execution_count": 64,
     "metadata": {},
     "output_type": "execute_result"
    }
   ],
   "source": [
    "f.readline()"
   ]
  },
  {
   "cell_type": "code",
   "execution_count": 65,
   "metadata": {
    "collapsed": false
   },
   "outputs": [
    {
     "data": {
      "text/plain": [
       "13"
      ]
     },
     "execution_count": 65,
     "metadata": {},
     "output_type": "execute_result"
    }
   ],
   "source": [
    "f.tell()"
   ]
  },
  {
   "cell_type": "code",
   "execution_count": 68,
   "metadata": {
    "collapsed": false
   },
   "outputs": [
    {
     "data": {
      "text/plain": [
       "20"
      ]
     },
     "execution_count": 68,
     "metadata": {},
     "output_type": "execute_result"
    }
   ],
   "source": [
    "# set absolute file positioning\n",
    "f.seek(20, 0)\n",
    "f.tell()"
   ]
  },
  {
   "cell_type": "code",
   "execution_count": 69,
   "metadata": {
    "collapsed": false
   },
   "outputs": [
    {
     "data": {
      "text/plain": [
       "32"
      ]
     },
     "execution_count": 69,
     "metadata": {},
     "output_type": "execute_result"
    }
   ],
   "source": [
    "# set relative to the current position\n",
    "f.seek(12, 1)\n",
    "f.tell()"
   ]
  },
  {
   "cell_type": "code",
   "execution_count": 70,
   "metadata": {
    "collapsed": false
   },
   "outputs": [
    {
     "data": {
      "text/plain": [
       "12"
      ]
     },
     "execution_count": 70,
     "metadata": {},
     "output_type": "execute_result"
    }
   ],
   "source": [
    "f.seek(-20, 1)\n",
    "f.tell()"
   ]
  },
  {
   "cell_type": "code",
   "execution_count": 71,
   "metadata": {
    "collapsed": false
   },
   "outputs": [
    {
     "data": {
      "text/plain": [
       "71"
      ]
     },
     "execution_count": 71,
     "metadata": {},
     "output_type": "execute_result"
    }
   ],
   "source": [
    "# set relative to the file’s end\n",
    "# count the number of chars in file\n",
    "f.seek(0, 2)\n",
    "f.tell()"
   ]
  },
  {
   "cell_type": "code",
   "execution_count": 72,
   "metadata": {
    "collapsed": false
   },
   "outputs": [
    {
     "data": {
      "text/plain": [
       "1"
      ]
     },
     "execution_count": 72,
     "metadata": {},
     "output_type": "execute_result"
    }
   ],
   "source": [
    "f.seek(-70, 2)\n",
    "f.tell()"
   ]
  },
  {
   "cell_type": "code",
   "execution_count": 73,
   "metadata": {
    "collapsed": false
   },
   "outputs": [
    {
     "data": {
      "text/plain": [
       "81"
      ]
     },
     "execution_count": 73,
     "metadata": {},
     "output_type": "execute_result"
    }
   ],
   "source": [
    "# add hole to file\n",
    "f.seek(10, 2)\n",
    "f.tell()"
   ]
  },
  {
   "cell_type": "code",
   "execution_count": 74,
   "metadata": {
    "collapsed": true
   },
   "outputs": [],
   "source": [
    "f.close()"
   ]
  },
  {
   "cell_type": "markdown",
   "metadata": {},
   "source": [
    "###### f.truncate([size])\n",
    "Truncate the file’s size.   \n",
    "If the optional size argument is present, the file is truncated to (at most) that size.   \n",
    "The size defaults to the current position.   \n",
    "The current file position is not changed.   \n",
    "Note that if a specified size exceeds the file’s current size, the result is platform-dependent:   \n",
    "possibilities include that the file may remain unchanged, increase to the specified size as if zero-filled,   \n",
    "or increase to the specified size with undefined new content.   \n",
    "Availability: Windows, many Unix variants."
   ]
  },
  {
   "cell_type": "code",
   "execution_count": 83,
   "metadata": {
    "collapsed": false
   },
   "outputs": [
    {
     "data": {
      "text/plain": [
       "['182.97.18.85\\n',\n",
       " '171.35.156.201\\n',\n",
       " '182.97.24.135\\n',\n",
       " '106.225.5.220\\n',\n",
       " '106.225.21.146\\n']"
      ]
     },
     "execution_count": 83,
     "metadata": {},
     "output_type": "execute_result"
    }
   ],
   "source": [
    "f = open('/home/liheyi/file', 'r+')\n",
    "f.readlines()"
   ]
  },
  {
   "cell_type": "code",
   "execution_count": 85,
   "metadata": {
    "collapsed": false
   },
   "outputs": [
    {
     "data": {
      "text/plain": [
       "[]"
      ]
     },
     "execution_count": 85,
     "metadata": {},
     "output_type": "execute_result"
    }
   ],
   "source": [
    "# No 'size' argument,\n",
    "# clear all contents of file\n",
    "f.truncate()\n",
    "f.readlines()"
   ]
  },
  {
   "cell_type": "code",
   "execution_count": 93,
   "metadata": {
    "collapsed": true
   },
   "outputs": [],
   "source": [
    "f.close()"
   ]
  },
  {
   "cell_type": "code",
   "execution_count": 95,
   "metadata": {
    "collapsed": false
   },
   "outputs": [
    {
     "data": {
      "text/plain": [
       "['182.97.18.85\\n',\n",
       " '171.35.156.201\\n',\n",
       " '182.97.24.135\\n',\n",
       " '106.225.5.220\\n',\n",
       " '106.225.21.146\\n']"
      ]
     },
     "execution_count": 95,
     "metadata": {},
     "output_type": "execute_result"
    }
   ],
   "source": [
    "# Specify 'size' argument less than the length of file\n",
    "f = open('/home/liheyi/file', 'r+')\n",
    "f.readlines()"
   ]
  },
  {
   "cell_type": "code",
   "execution_count": 96,
   "metadata": {
    "collapsed": false
   },
   "outputs": [
    {
     "data": {
      "text/plain": [
       "['182.97.18.85\\n', '171.35.156.201\\n', '182.97.24.135\\n', '106.225.']"
      ]
     },
     "execution_count": 96,
     "metadata": {},
     "output_type": "execute_result"
    }
   ],
   "source": [
    "f.truncate(50)\n",
    "f.seek(0,0)\n",
    "f.readlines()"
   ]
  },
  {
   "cell_type": "code",
   "execution_count": 97,
   "metadata": {
    "collapsed": true
   },
   "outputs": [],
   "source": [
    "f.close()"
   ]
  },
  {
   "cell_type": "markdown",
   "metadata": {},
   "source": [
    "###### f.write(str)\n",
    "Write a string to the file.   \n",
    "There is no return value.   \n",
    "Due to buffering, the string may not actually show up in the file until the flush() or close() method is called."
   ]
  },
  {
   "cell_type": "code",
   "execution_count": 98,
   "metadata": {
    "collapsed": false
   },
   "outputs": [
    {
     "data": {
      "text/plain": [
       "['182.97.18.85\\n',\n",
       " '171.35.156.201\\n',\n",
       " '182.97.24.135\\n',\n",
       " '106.225.5.220\\n',\n",
       " '106.225.21.146\\n']"
      ]
     },
     "execution_count": 98,
     "metadata": {},
     "output_type": "execute_result"
    }
   ],
   "source": [
    "f = open('/home/liheyi/file', 'r+')\n",
    "f.readlines()"
   ]
  },
  {
   "cell_type": "code",
   "execution_count": 99,
   "metadata": {
    "collapsed": false
   },
   "outputs": [
    {
     "data": {
      "text/plain": [
       "['182.97.18.85\\n',\n",
       " '171.35.156.201\\n',\n",
       " '182.97.24.135\\n',\n",
       " '106.225.5.220\\n',\n",
       " '106.225.21.146\\n',\n",
       " '127.0.0.0\\n',\n",
       " '127.0.0.1\\n']"
      ]
     },
     "execution_count": 99,
     "metadata": {},
     "output_type": "execute_result"
    }
   ],
   "source": [
    "f.write('127.0.0.0\\n127.0.0.1\\n')\n",
    "f.seek(0,0)\n",
    "f.readlines()"
   ]
  },
  {
   "cell_type": "code",
   "execution_count": 100,
   "metadata": {
    "collapsed": true
   },
   "outputs": [],
   "source": [
    "f.close()"
   ]
  },
  {
   "cell_type": "markdown",
   "metadata": {},
   "source": [
    "###### f.writelines(sequence)\n",
    "Write a sequence of strings to the file.   \n",
    "The sequence can be any iterable object producing strings, typically a list of strings.   \n",
    "There is no return value.   \n",
    "(The name is intended to match readlines(); writelines() does not add line separators.)"
   ]
  },
  {
   "cell_type": "code",
   "execution_count": 101,
   "metadata": {
    "collapsed": false
   },
   "outputs": [
    {
     "data": {
      "text/plain": [
       "['182.97.18.85\\n',\n",
       " '171.35.156.201\\n',\n",
       " '182.97.24.135\\n',\n",
       " '106.225.5.220\\n',\n",
       " '106.225.21.146\\n']"
      ]
     },
     "execution_count": 101,
     "metadata": {},
     "output_type": "execute_result"
    }
   ],
   "source": [
    "f = open('/home/liheyi/file', 'r+')\n",
    "f.readlines()"
   ]
  },
  {
   "cell_type": "code",
   "execution_count": 102,
   "metadata": {
    "collapsed": false
   },
   "outputs": [
    {
     "data": {
      "text/plain": [
       "['182.97.18.85\\n',\n",
       " '171.35.156.201\\n',\n",
       " '182.97.24.135\\n',\n",
       " '106.225.5.220\\n',\n",
       " '106.225.21.146\\n',\n",
       " '192.168.1.0\\n',\n",
       " '192.168.1.1\\n']"
      ]
     },
     "execution_count": 102,
     "metadata": {},
     "output_type": "execute_result"
    }
   ],
   "source": [
    "f.writelines(['192.168.1.0\\n', '192.168.1.1\\n'])\n",
    "f.seek(0,0)\n",
    "f.readlines()"
   ]
  },
  {
   "cell_type": "code",
   "execution_count": 103,
   "metadata": {
    "collapsed": true
   },
   "outputs": [],
   "source": [
    "f.close()"
   ]
  },
  {
   "cell_type": "markdown",
   "metadata": {},
   "source": [
    "Files support the iterator protocol.   \n",
    "Each iteration returns the same result as readline(), and iteration ends when the readline() method returns an empty string."
   ]
  },
  {
   "cell_type": "markdown",
   "metadata": {},
   "source": [
    "File objects also offer a number of other interesting attributes.   \n",
    "These are not required for file-like objects, but should be implemented if they make sense for the particular object."
   ]
  },
  {
   "cell_type": "markdown",
   "metadata": {},
   "source": [
    "### Data descriptors"
   ]
  },
  {
   "cell_type": "markdown",
   "metadata": {},
   "source": [
    "###### f.closed\n",
    "bool indicating the current state of the file object.   \n",
    "This is a read-only attribute; the close() method changes the value.   \n",
    "It may not be available on all file-like objects."
   ]
  },
  {
   "cell_type": "code",
   "execution_count": 104,
   "metadata": {
    "collapsed": false
   },
   "outputs": [
    {
     "data": {
      "text/plain": [
       "['182.97.18.85\\n',\n",
       " '171.35.156.201\\n',\n",
       " '182.97.24.135\\n',\n",
       " '106.225.5.220\\n',\n",
       " '106.225.21.146\\n',\n",
       " '192.168.1.0\\n',\n",
       " '192.168.1.1\\n']"
      ]
     },
     "execution_count": 104,
     "metadata": {},
     "output_type": "execute_result"
    }
   ],
   "source": [
    "f = open('/home/liheyi/file', 'r+')\n",
    "f.readlines()"
   ]
  },
  {
   "cell_type": "code",
   "execution_count": 105,
   "metadata": {
    "collapsed": false
   },
   "outputs": [
    {
     "data": {
      "text/plain": [
       "False"
      ]
     },
     "execution_count": 105,
     "metadata": {},
     "output_type": "execute_result"
    }
   ],
   "source": [
    "f.closed"
   ]
  },
  {
   "cell_type": "code",
   "execution_count": 106,
   "metadata": {
    "collapsed": true
   },
   "outputs": [],
   "source": [
    "f.close()"
   ]
  },
  {
   "cell_type": "code",
   "execution_count": 107,
   "metadata": {
    "collapsed": false
   },
   "outputs": [
    {
     "data": {
      "text/plain": [
       "True"
      ]
     },
     "execution_count": 107,
     "metadata": {},
     "output_type": "execute_result"
    }
   ],
   "source": [
    "f.closed"
   ]
  },
  {
   "cell_type": "code",
   "execution_count": 110,
   "metadata": {
    "collapsed": false
   },
   "outputs": [
    {
     "name": "stdout",
     "output_type": "stream",
     "text": [
      "['182.97.18.85\\n', '171.35.156.201\\n', '182.97.24.135\\n', '106.225.5.220\\n', '106.225.21.146\\n']\n"
     ]
    }
   ],
   "source": [
    "# use 'with open(pathname) as f' statement,\n",
    "# auto shutdown the file\n",
    "with open('/home/liheyi/file') as f:\n",
    "    print f.readlines()"
   ]
  },
  {
   "cell_type": "code",
   "execution_count": 111,
   "metadata": {
    "collapsed": false
   },
   "outputs": [
    {
     "data": {
      "text/plain": [
       "True"
      ]
     },
     "execution_count": 111,
     "metadata": {},
     "output_type": "execute_result"
    }
   ],
   "source": [
    "f.closed"
   ]
  },
  {
   "cell_type": "markdown",
   "metadata": {},
   "source": [
    "###### f.encoding\n",
    "The encoding that this file uses.   \n",
    "When Unicode strings are written to a file, they will be converted to byte strings using this encoding.   \n",
    "In addition, when the file is connected to a terminal, the attribute gives the encoding that the terminal is likely to use   \n",
    "(that information might be incorrect if the user has misconfigured the terminal).   \n",
    "The attribute is read-only and may not be present on all file-like objects.   \n",
    "It may also be None, in which case the file uses the system default encoding for converting Unicode strings."
   ]
  },
  {
   "cell_type": "code",
   "execution_count": 112,
   "metadata": {
    "collapsed": false
   },
   "outputs": [
    {
     "name": "stdout",
     "output_type": "stream",
     "text": [
      "None\n"
     ]
    }
   ],
   "source": [
    "with open('/home/liheyi/file') as f:\n",
    "    print f.encoding"
   ]
  },
  {
   "cell_type": "markdown",
   "metadata": {},
   "source": [
    "###### f.errors\n",
    "The Unicode error handler used along with the encoding."
   ]
  },
  {
   "cell_type": "code",
   "execution_count": 113,
   "metadata": {
    "collapsed": false
   },
   "outputs": [
    {
     "name": "stdout",
     "output_type": "stream",
     "text": [
      "None\n"
     ]
    }
   ],
   "source": [
    "with open('/home/liheyi/file') as f:\n",
    "    print f.errors"
   ]
  },
  {
   "cell_type": "markdown",
   "metadata": {},
   "source": [
    "###### f.mode\n",
    "The I/O mode for the file.   \n",
    "If the file was created using the open() built-in function, this will be the value of the mode parameter.   \n",
    "This is a read-only attribute and may not be present on all file-like objects."
   ]
  },
  {
   "cell_type": "code",
   "execution_count": 114,
   "metadata": {
    "collapsed": false
   },
   "outputs": [
    {
     "name": "stdout",
     "output_type": "stream",
     "text": [
      "r\n"
     ]
    }
   ],
   "source": [
    "with open('/home/liheyi/file', 'r') as f:\n",
    "    print f.mode"
   ]
  },
  {
   "cell_type": "code",
   "execution_count": 115,
   "metadata": {
    "collapsed": false
   },
   "outputs": [
    {
     "name": "stdout",
     "output_type": "stream",
     "text": [
      "r+\n"
     ]
    }
   ],
   "source": [
    "with open('/home/liheyi/file', 'r+') as f:\n",
    "    print f.mode"
   ]
  },
  {
   "cell_type": "code",
   "execution_count": 116,
   "metadata": {
    "collapsed": false
   },
   "outputs": [
    {
     "name": "stdout",
     "output_type": "stream",
     "text": [
      "a+\n"
     ]
    }
   ],
   "source": [
    "with open('/home/liheyi/file', 'a+') as f:\n",
    "    print f.mode"
   ]
  },
  {
   "cell_type": "markdown",
   "metadata": {},
   "source": [
    "###### f.name\n",
    "If the file object was created using open(), the name of the file.   \n",
    "Otherwise, some string that indicates the source of the file object, of the form <...>.   \n",
    "This is a read-only attribute and may not be present on all file-like objects."
   ]
  },
  {
   "cell_type": "code",
   "execution_count": 117,
   "metadata": {
    "collapsed": false
   },
   "outputs": [
    {
     "name": "stdout",
     "output_type": "stream",
     "text": [
      "/home/liheyi/file\n"
     ]
    }
   ],
   "source": [
    "with open('/home/liheyi/file', 'r') as f:\n",
    "    print f.name"
   ]
  },
  {
   "cell_type": "markdown",
   "metadata": {},
   "source": [
    "###### f.newlines\n",
    "If Python was built with universal newlines enabled (the default) this read-only attribute exists, and for files opened in universal newline read mode it keeps track of the types of newlines encountered while reading the file.   \n",
    "The values it can take are '\\r', '\\n', '\\r\\n', None (unknown, no newlines read yet) or a tuple containing all the newline types seen, to indicate that multiple newline conventions were encountered.   \n",
    "For files not opened in universal newlines read mode the value of this attribute will be None."
   ]
  },
  {
   "cell_type": "code",
   "execution_count": 118,
   "metadata": {
    "collapsed": false
   },
   "outputs": [
    {
     "name": "stdout",
     "output_type": "stream",
     "text": [
      "None\n"
     ]
    }
   ],
   "source": [
    "with open('/home/liheyi/file', 'r') as f:\n",
    "    print f.newlines"
   ]
  },
  {
   "cell_type": "markdown",
   "metadata": {},
   "source": [
    "###### f.softspace\n",
    "Boolean that indicates whether a space character needs to be printed before another value when using the print statement.   \n",
    "Classes that are trying to simulate a file object should also have a writable softspace attribute, which should be initialized to zero.   \n",
    "This will be automatic for most classes implemented in Python (care may be needed for objects that override attribute access); types implemented in C will have to provide a writable softspace attribute."
   ]
  },
  {
   "cell_type": "code",
   "execution_count": 119,
   "metadata": {
    "collapsed": false
   },
   "outputs": [
    {
     "name": "stdout",
     "output_type": "stream",
     "text": [
      "0\n"
     ]
    }
   ],
   "source": [
    "with open('/home/liheyi/file', 'r') as f:\n",
    "    print f.softspace"
   ]
  },
  {
   "cell_type": "markdown",
   "metadata": {},
   "source": [
    "Note:   \n",
    "This attribute is not used to control the print statement, but to allow the implementation of print to keep track of its internal state."
   ]
  },
  {
   "cell_type": "code",
   "execution_count": null,
   "metadata": {
    "collapsed": true
   },
   "outputs": [],
   "source": []
  }
 ],
 "metadata": {
  "kernelspec": {
   "display_name": "Python 2",
   "language": "python",
   "name": "python2"
  },
  "language_info": {
   "codemirror_mode": {
    "name": "ipython",
    "version": 2
   },
   "file_extension": ".py",
   "mimetype": "text/x-python",
   "name": "python",
   "nbconvert_exporter": "python",
   "pygments_lexer": "ipython2",
   "version": "2.7.11"
  }
 },
 "nbformat": 4,
 "nbformat_minor": 0
}
