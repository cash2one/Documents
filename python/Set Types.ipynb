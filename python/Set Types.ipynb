{
 "cells": [
  {
   "cell_type": "markdown",
   "metadata": {},
   "source": [
    "A set object is an unordered collection of distinct hashable objects.   \n",
    "Common uses include membership testing, removing duplicates from a sequence, and computing mathematical operations such as intersection, union, difference, and symmetric difference.  \n",
    "\n",
    "Like other collections, sets support x in set, len(set), and for x in set.   \n",
    "Being an unordered collection, sets do not record element position or order of insertion.   \n",
    "Accordingly, sets do not support indexing, slicing, or other sequence-like behavior.  \n",
    "\n",
    "There are currently two built-in set types, set and frozenset.   \n",
    "The set type is mutable — the contents can be changed using methods like add() and remove().   \n",
    "Since it is mutable, it has no hash value and cannot be used as either a dictionary key or as an element of another set.   \n",
    "\n",
    "The frozenset type is immutable and hashable — its contents cannot be altered after it is created;   \n",
    "it can therefore be used as a dictionary key or as an element of another set.\n",
    "\n",
    "As of Python 2.7, non-empty sets (not frozensets) can be created by placing a comma-separated list of elements within braces,   \n",
    "for example: {'jack', 'sjoerd'}, in addition to the set constructor.\n",
    "\n",
    "The constructors for both classes work the same:\n",
    "###### class set([iterable])\n",
    "###### class frozenset([iterable])\n",
    "Return a new set or frozenset object whose elements are taken from iterable.   \n",
    "The elements of a set must be hashable.   \n",
    "To represent sets of sets, the inner sets must be frozenset objects.   \n",
    "If iterable is not specified, a new empty set is returned."
   ]
  },
  {
   "cell_type": "markdown",
   "metadata": {},
   "source": [
    "### Universal set operations"
   ]
  },
  {
   "cell_type": "markdown",
   "metadata": {},
   "source": [
    "Note, s stands for the object of set, however S stands for object of frozenset."
   ]
  },
  {
   "cell_type": "markdown",
   "metadata": {},
   "source": [
    "###### len(s)\n",
    "Return the number of elements in set s (cardinality of s)."
   ]
  },
  {
   "cell_type": "code",
   "execution_count": 10,
   "metadata": {
    "collapsed": false
   },
   "outputs": [
    {
     "data": {
      "text/plain": [
       "{'1', '2', '3', '4', 'a', 'b', 'c', 'd'}"
      ]
     },
     "execution_count": 10,
     "metadata": {},
     "output_type": "execute_result"
    }
   ],
   "source": [
    "s = set('abcd1234')\n",
    "s"
   ]
  },
  {
   "cell_type": "code",
   "execution_count": 9,
   "metadata": {
    "collapsed": false
   },
   "outputs": [
    {
     "data": {
      "text/plain": [
       "8"
      ]
     },
     "execution_count": 9,
     "metadata": {},
     "output_type": "execute_result"
    }
   ],
   "source": [
    "len(s)"
   ]
  },
  {
   "cell_type": "code",
   "execution_count": 11,
   "metadata": {
    "collapsed": false
   },
   "outputs": [
    {
     "data": {
      "text/plain": [
       "frozenset({'!', '#', '$', '@', 'A', 'B', 'C', 'D'})"
      ]
     },
     "execution_count": 11,
     "metadata": {},
     "output_type": "execute_result"
    }
   ],
   "source": [
    "S = frozenset('ABCD!@#$')\n",
    "S"
   ]
  },
  {
   "cell_type": "code",
   "execution_count": 12,
   "metadata": {
    "collapsed": false
   },
   "outputs": [
    {
     "data": {
      "text/plain": [
       "8"
      ]
     },
     "execution_count": 12,
     "metadata": {},
     "output_type": "execute_result"
    }
   ],
   "source": [
    "len(S)"
   ]
  },
  {
   "cell_type": "markdown",
   "metadata": {},
   "source": [
    "###### x in s\n",
    "Test x for membership in s."
   ]
  },
  {
   "cell_type": "code",
   "execution_count": 14,
   "metadata": {
    "collapsed": false
   },
   "outputs": [
    {
     "data": {
      "text/plain": [
       "(True, False)"
      ]
     },
     "execution_count": 14,
     "metadata": {},
     "output_type": "execute_result"
    }
   ],
   "source": [
    "s = set(['liheyi', 'liheyuan', 'libin'])\n",
    "'liheyi' in s, 'lanlan' in s"
   ]
  },
  {
   "cell_type": "code",
   "execution_count": 19,
   "metadata": {
    "collapsed": false
   },
   "outputs": [
    {
     "data": {
      "text/plain": [
       "(True, False)"
      ]
     },
     "execution_count": 19,
     "metadata": {},
     "output_type": "execute_result"
    }
   ],
   "source": [
    "S = frozenset(('LIHEYI', 'LIHEYUAN', 'LIBIN'))\n",
    "'LIHEYUAN' in S, 'LANLAN' in S"
   ]
  },
  {
   "cell_type": "markdown",
   "metadata": {},
   "source": [
    "###### x not in s\n",
    "Test x for non-membership in s."
   ]
  },
  {
   "cell_type": "code",
   "execution_count": 20,
   "metadata": {
    "collapsed": false
   },
   "outputs": [
    {
     "data": {
      "text/plain": [
       "(False, True)"
      ]
     },
     "execution_count": 20,
     "metadata": {},
     "output_type": "execute_result"
    }
   ],
   "source": [
    "s = set(['liheyi', 'liheyuan', 'libin'])\n",
    "'liheyi' not in s, 'lanlan' not in s"
   ]
  },
  {
   "cell_type": "code",
   "execution_count": 22,
   "metadata": {
    "collapsed": false
   },
   "outputs": [
    {
     "data": {
      "text/plain": [
       "(False, True)"
      ]
     },
     "execution_count": 22,
     "metadata": {},
     "output_type": "execute_result"
    }
   ],
   "source": [
    "S = frozenset(('LIHEYI', 'LIHEYUAN', 'LIBIN'))\n",
    "'LIHEYUAN' not in S, 'LANLAN' not in S"
   ]
  },
  {
   "cell_type": "markdown",
   "metadata": {},
   "source": [
    "###### set <= other\n",
    "Test whether every element in the set is in other."
   ]
  },
  {
   "cell_type": "markdown",
   "metadata": {},
   "source": [
    "###### set < other\n",
    "Test whether the set is a proper subset of other, that is, set <= other and set != other."
   ]
  },
  {
   "cell_type": "markdown",
   "metadata": {},
   "source": [
    "###### set >= other\n",
    "Test whether every element in other is in the set."
   ]
  },
  {
   "cell_type": "markdown",
   "metadata": {},
   "source": [
    "###### set > other\n",
    "Test whether the set is a proper superset of other, that is, set >= other and set != other."
   ]
  },
  {
   "cell_type": "markdown",
   "metadata": {},
   "source": [
    "###### set | other | ...\n",
    "Return a new set with elements from the set and all others."
   ]
  },
  {
   "cell_type": "markdown",
   "metadata": {},
   "source": [
    "###### set & other & ...\n",
    "Return a new set with elements common to the set and all others."
   ]
  },
  {
   "cell_type": "markdown",
   "metadata": {},
   "source": [
    "###### set - other - ...\n",
    "Return a new set with elements in the set that are not in the others."
   ]
  },
  {
   "cell_type": "markdown",
   "metadata": {},
   "source": [
    "###### set ^ other\n",
    "Return a new set with elements in either the set or other but not both."
   ]
  },
  {
   "cell_type": "markdown",
   "metadata": {},
   "source": [
    "###### set |= other | ...\n",
    "Update the set, adding elements from all others."
   ]
  },
  {
   "cell_type": "markdown",
   "metadata": {},
   "source": [
    "###### set &= other & ...\n",
    "Update the set, keeping only elements found in it and all others."
   ]
  },
  {
   "cell_type": "markdown",
   "metadata": {},
   "source": [
    "###### set -= other | ...\n",
    "Update the set, removing elements found in others."
   ]
  },
  {
   "cell_type": "markdown",
   "metadata": {},
   "source": [
    "###### set ^= other\n",
    "Update the set, keeping only elements found in either set, but not in both."
   ]
  },
  {
   "cell_type": "markdown",
   "metadata": {},
   "source": [
    "### Set Methods"
   ]
  },
  {
   "cell_type": "markdown",
   "metadata": {},
   "source": [
    "###### add(elem)\n",
    "Add element elem to the set."
   ]
  },
  {
   "cell_type": "code",
   "execution_count": 24,
   "metadata": {
    "collapsed": false
   },
   "outputs": [
    {
     "data": {
      "text/plain": [
       "{'lanlan', 'libin', 'liheyi', 'liheyuan'}"
      ]
     },
     "execution_count": 24,
     "metadata": {},
     "output_type": "execute_result"
    }
   ],
   "source": [
    "s = set(['libin', 'liheyi', 'liheyuan'])\n",
    "s.add('lanlan')\n",
    "s"
   ]
  },
  {
   "cell_type": "markdown",
   "metadata": {},
   "source": [
    "This has no effect if the element is already present."
   ]
  },
  {
   "cell_type": "code",
   "execution_count": 25,
   "metadata": {
    "collapsed": false
   },
   "outputs": [
    {
     "data": {
      "text/plain": [
       "{'lanlan', 'libin', 'liheyi', 'liheyuan'}"
      ]
     },
     "execution_count": 25,
     "metadata": {},
     "output_type": "execute_result"
    }
   ],
   "source": [
    "s.add('liheyi')\n",
    "s"
   ]
  },
  {
   "cell_type": "markdown",
   "metadata": {},
   "source": [
    "###### clear()\n",
    "Remove all elements from this set."
   ]
  },
  {
   "cell_type": "code",
   "execution_count": 26,
   "metadata": {
    "collapsed": false
   },
   "outputs": [
    {
     "data": {
      "text/plain": [
       "{'libin', 'liheyi', 'liheyuan'}"
      ]
     },
     "execution_count": 26,
     "metadata": {},
     "output_type": "execute_result"
    }
   ],
   "source": [
    "s = set(['liheyi', 'liheyuan', 'libin'])\n",
    "s"
   ]
  },
  {
   "cell_type": "code",
   "execution_count": 27,
   "metadata": {
    "collapsed": false
   },
   "outputs": [
    {
     "data": {
      "text/plain": [
       "set()"
      ]
     },
     "execution_count": 27,
     "metadata": {},
     "output_type": "execute_result"
    }
   ],
   "source": [
    "s.clear()\n",
    "s"
   ]
  },
  {
   "cell_type": "markdown",
   "metadata": {},
   "source": [
    "###### copy()\n",
    "Return a shallow copy of a set."
   ]
  },
  {
   "cell_type": "code",
   "execution_count": 28,
   "metadata": {
    "collapsed": false
   },
   "outputs": [
    {
     "data": {
      "text/plain": [
       "False"
      ]
     },
     "execution_count": 28,
     "metadata": {},
     "output_type": "execute_result"
    }
   ],
   "source": [
    "s = set(['liheyi', 'liheyuan', 'libin'])\n",
    "sc = s.copy()\n",
    "sc is s"
   ]
  },
  {
   "cell_type": "markdown",
   "metadata": {},
   "source": [
    "###### difference(other, ...)\n",
    "This  is equivalent to: set - other - ...   \n",
    "Return a new set with elements in the set that are not in the others."
   ]
  },
  {
   "cell_type": "code",
   "execution_count": 1,
   "metadata": {
    "collapsed": false
   },
   "outputs": [
    {
     "data": {
      "text/plain": [
       "{'a', 'b'}"
      ]
     },
     "execution_count": 1,
     "metadata": {},
     "output_type": "execute_result"
    }
   ],
   "source": [
    "s = set(list('abcd'))\n",
    "o = list('cdef')\n",
    "s.difference(o)"
   ]
  },
  {
   "cell_type": "markdown",
   "metadata": {
    "collapsed": true
   },
   "source": [
    "###### difference_update(other, ...)\n",
    "This is equivalent to: set -= other | ...  \n",
    "Update the set, removing elements found in others."
   ]
  },
  {
   "cell_type": "markdown",
   "metadata": {},
   "source": [
    "###### discard(elem)\n",
    "Remove an element from a set if it is a member.  \n",
    "If the element is not a member, do nothing."
   ]
  },
  {
   "cell_type": "markdown",
   "metadata": {},
   "source": [
    "###### intersection(other, ...)\n",
    "This is equivalent to: set & other & ...  \n",
    "Return the intersection of two or more sets as a new set.  \n",
    "(i.e. elements that are common to all of the sets.)"
   ]
  },
  {
   "cell_type": "markdown",
   "metadata": {},
   "source": [
    "###### intersection_update(other, ...)\n",
    "This is equivalent to: set &= other & ...  \n",
    "Update a set with the intersection of itself and another."
   ]
  },
  {
   "cell_type": "markdown",
   "metadata": {},
   "source": [
    "###### isdisjoint(other)\n",
    "Return True if the set has no elements in common with other.   \n",
    "Sets are disjoint if and only if their intersection is the empty set."
   ]
  },
  {
   "cell_type": "markdown",
   "metadata": {},
   "source": [
    "###### issubset(other)\n",
    "This is equivalent to: set <= other   \n",
    "Test whether every element in the set is in other."
   ]
  },
  {
   "cell_type": "markdown",
   "metadata": {},
   "source": [
    "###### issuperset(other)\n",
    "This is equivalent to: set >= other  \n",
    "Test whether every element in other is in the set."
   ]
  },
  {
   "cell_type": "markdown",
   "metadata": {},
   "source": [
    "###### pop()\n",
    "Remove and return an arbitrary element from the set.   \n",
    "Raises KeyError if the set is empty."
   ]
  },
  {
   "cell_type": "markdown",
   "metadata": {},
   "source": [
    "###### remove(elem)\n",
    "Remove element elem from the set.   \n",
    "Raises KeyError if elem is not contained in the set."
   ]
  },
  {
   "cell_type": "markdown",
   "metadata": {},
   "source": [
    "###### symmetric_difference(other)\n",
    "This is equivalent to:set ^ other   \n",
    "Return the symmetric difference of two sets as a new set.  \n",
    "(i.e. all elements that are in exactly one of the sets.)"
   ]
  },
  {
   "cell_type": "markdown",
   "metadata": {},
   "source": [
    "###### symmetric_difference_update(other)\n",
    "This is equivalent to: set ^= other   \n",
    "Update a set with the symmetric difference of itself and another. "
   ]
  },
  {
   "cell_type": "markdown",
   "metadata": {},
   "source": [
    "###### union(other, ...)\n",
    "This is equivalent to: set | other | ...  \n",
    "Return the union of sets as a new set.  \n",
    "(i.e. all elements that are in either set.)"
   ]
  },
  {
   "cell_type": "markdown",
   "metadata": {},
   "source": [
    "###### update(other, ...)\n",
    "This is equivalent to: set |= other | ...  \n",
    "Update a set with the union of itself and others."
   ]
  }
 ],
 "metadata": {
  "kernelspec": {
   "display_name": "Python 2",
   "language": "python",
   "name": "python2"
  },
  "language_info": {
   "codemirror_mode": {
    "name": "ipython",
    "version": 2
   },
   "file_extension": ".py",
   "mimetype": "text/x-python",
   "name": "python",
   "nbconvert_exporter": "python",
   "pygments_lexer": "ipython2",
   "version": "2.7.11"
  }
 },
 "nbformat": 4,
 "nbformat_minor": 0
}
