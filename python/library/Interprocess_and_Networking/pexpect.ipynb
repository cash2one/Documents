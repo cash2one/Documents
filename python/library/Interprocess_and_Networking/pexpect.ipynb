{
 "cells": [
  {
   "cell_type": "markdown",
   "metadata": {},
   "source": [
    "# API Overview"
   ]
  },
  {
   "cell_type": "markdown",
   "metadata": {},
   "source": [
    "Pexpect can be used for automating interactive applications such as ssh, ftp, mencoder, passwd, etc. The Pexpect interface was designed to be easy to use.  \n",
    "\n",
    "Here is an example of Pexpect in action:"
   ]
  },
  {
   "cell_type": "code",
   "execution_count": 5,
   "metadata": {
    "collapsed": false
   },
   "outputs": [
    {
     "name": "stdout",
     "output_type": "stream",
     "text": [
      " \r\n",
      "ls -lhtr /home/admin/\r\n",
      "total 440K\r\n",
      "-rw-rw-r--    1 admin admin  74K Jul 28  2014 script0728.tar.gz\r\n",
      "drwxrwxr-x    2 admin admin 4.0K Nov  3  2014 gameserbk_20141103\r\n",
      "drwxrwxr-x    6 admin admin 4.0K Nov  4  2014 gameserbk_20141016\r\n",
      "drwxrwxr-x    2 admin admin 4.0K Nov  4  2014 gameserbk_20141104\r\n",
      "drwxrwxr-x    2 admin admin 4.0K Jan 24  2015 gameserbk_20141208\r\n",
      "drwxrwxr-x    2 admin admin 4.0K Feb  3  2015 gameserbk_20150203\r\n",
      "drwxrwxr-x    2 admin admin 4.0K Apr 27  2015 appgroup_bkdb\r\n",
      "drwxrwxr-x    2 admin admin 4.0K May 25  2015 upmysql\r\n",
      "drwxrwxr-x    7 admin admin 4.0K Dec  8  2015 python\r\n",
      "drwxrwxr-x   10 admin admin 4.0K Mar 24 23:56 rsync\r\n",
      "-rw-r-----    1 admin admin 284K Mar 25 17:00 erl_crash.dump\r\n",
      "drwxr-xr-x    4 root  root  4.0K May  4 15:41 backup\r\n",
      "drwxrwxr-x    2 admin admin 4.0K Jun  5 10:35 20160605\r\n",
      "drwxrwxr-x    4 admin admin 4.0K Jun 30 14:22 ad_server\r\n",
      "drwxrwxr-x   17 admin admin 4.0K Jul  1 00:16 anaconda2\r\n",
      "drwxr-xr-x.  13 admin admin 4.0K Jul  1 18:06 server\r\n",
      "drwxrwxr-x    5 admin admin 4.0K Jul  6 10:04 kanri\r\n",
      "drwxrwxr-x. 567 admin admin  20K Jul  9 00:03 upload\r\n",
      "\n"
     ]
    }
   ],
   "source": [
    "# This connects to the sgz platform server and\n",
    "# list all files and directories in /home/admin.\n",
    "import pexpect\n",
    "ssh_child = pexpect.spawn(\"ssh -p2009 admin@88.88.88.88 'ls -lhtr /home/admin/'\")\n",
    "try:\n",
    "    verify = ssh_child.expect(['password:', 'continue connecting (yes/no)?'], timeout=10)\n",
    "    if verify == 0:\n",
    "        ssh_child.sendline('Skymoons')\n",
    "    elif verify == 1:\n",
    "        ssh_child.sendline('yes\\n')\n",
    "        ssh_child.expect('password: ')\n",
    "        ssh_child.sendline('Skymoons')\n",
    "    ssh_child.sendline('ls -lhtr /home/admin/')\n",
    "    ls_output = ssh_child.read()\n",
    "    print ls_output\n",
    "except pexpect.EOF:\n",
    "        print \"EOF\"\n",
    "        ssh.close()\n",
    "except pexpect.TIMEOUT:\n",
    "        print \"TIMEOUT\"\n",
    "        ssh.close()"
   ]
  },
  {
   "cell_type": "markdown",
   "metadata": {},
   "source": [
    "You can use this technique with any application.   \n",
    "This is especially handy if you are writing automated test tools."
   ]
  },
  {
   "cell_type": "markdown",
   "metadata": {},
   "source": [
    "There are two important methods in Pexpect – expect() and send() (or sendline() which is like send() with a linefeed). The expect() method waits for the child application to return a given string. The string you specify is a regular expression, so you can match complicated patterns. The send() method writes a string to the child application. From the child’s point of view it looks just like someone typed the text from a terminal. After each call to expect() the before and after properties will be set to the text printed by child application. The before property will contain all text up to the expected string pattern. The after string will contain the text that was matched by the expected pattern. The match property is set to the re match object."
   ]
  },
  {
   "cell_type": "code",
   "execution_count": 6,
   "metadata": {
    "collapsed": false
   },
   "outputs": [
    {
     "ename": "TIMEOUT",
     "evalue": "Timeout exceeded.\n<pexpect.pty_spawn.spawn object at 0x7fe7c8073050>\ncommand: /usr/bin/ftp\nargs: ['/usr/bin/ftp', 'ftp.openbsd.org']\nbuffer (last 100 chars): 'ftp: connect: Connection refused\\r\\nftp> '\nbefore (last 100 chars): 'ftp: connect: Connection refused\\r\\nftp> '\nafter: <class 'pexpect.exceptions.TIMEOUT'>\nmatch: None\nmatch_index: None\nexitstatus: None\nflag_eof: False\npid: 29246\nchild_fd: 69\nclosed: False\ntimeout: 30\ndelimiter: <class 'pexpect.exceptions.EOF'>\nlogfile: None\nlogfile_read: None\nlogfile_send: None\nmaxread: 2000\nignorecase: False\nsearchwindowsize: None\ndelaybeforesend: 0.05\ndelayafterclose: 0.1\ndelayafterterminate: 0.1\nsearcher: searcher_re:\n    0: re.compile(\"Name .*: \")",
     "output_type": "error",
     "traceback": [
      "\u001b[1;31m---------------------------------------------------------------------------\u001b[0m",
      "\u001b[1;31mTIMEOUT\u001b[0m                                   Traceback (most recent call last)",
      "\u001b[1;32m<ipython-input-6-7eeda53fb469>\u001b[0m in \u001b[0;36m<module>\u001b[1;34m()\u001b[0m\n\u001b[0;32m      1\u001b[0m \u001b[1;32mimport\u001b[0m \u001b[0mpexpect\u001b[0m\u001b[1;33m\u001b[0m\u001b[0m\n\u001b[0;32m      2\u001b[0m \u001b[0mchild\u001b[0m \u001b[1;33m=\u001b[0m \u001b[0mpexpect\u001b[0m\u001b[1;33m.\u001b[0m\u001b[0mspawn\u001b[0m \u001b[1;33m(\u001b[0m\u001b[1;34m'ftp ftp.openbsd.org'\u001b[0m\u001b[1;33m)\u001b[0m\u001b[1;33m\u001b[0m\u001b[0m\n\u001b[1;32m----> 3\u001b[1;33m \u001b[0mchild\u001b[0m\u001b[1;33m.\u001b[0m\u001b[0mexpect\u001b[0m \u001b[1;33m(\u001b[0m\u001b[1;34m'Name .*: '\u001b[0m\u001b[1;33m)\u001b[0m\u001b[1;33m\u001b[0m\u001b[0m\n\u001b[0m\u001b[0;32m      4\u001b[0m \u001b[0mchild\u001b[0m\u001b[1;33m.\u001b[0m\u001b[0msendline\u001b[0m \u001b[1;33m(\u001b[0m\u001b[1;34m'anonymous'\u001b[0m\u001b[1;33m)\u001b[0m\u001b[1;33m\u001b[0m\u001b[0m\n\u001b[0;32m      5\u001b[0m \u001b[0mchild\u001b[0m\u001b[1;33m.\u001b[0m\u001b[0mexpect\u001b[0m \u001b[1;33m(\u001b[0m\u001b[1;34m'Password:'\u001b[0m\u001b[1;33m)\u001b[0m\u001b[1;33m\u001b[0m\u001b[0m\n",
      "\u001b[1;32m/home/liheyi/anaconda2/lib/python2.7/site-packages/pexpect/spawnbase.pyc\u001b[0m in \u001b[0;36mexpect\u001b[1;34m(self, pattern, timeout, searchwindowsize, async)\u001b[0m\n\u001b[0;32m    319\u001b[0m         \u001b[0mcompiled_pattern_list\u001b[0m \u001b[1;33m=\u001b[0m \u001b[0mself\u001b[0m\u001b[1;33m.\u001b[0m\u001b[0mcompile_pattern_list\u001b[0m\u001b[1;33m(\u001b[0m\u001b[0mpattern\u001b[0m\u001b[1;33m)\u001b[0m\u001b[1;33m\u001b[0m\u001b[0m\n\u001b[0;32m    320\u001b[0m         return self.expect_list(compiled_pattern_list,\n\u001b[1;32m--> 321\u001b[1;33m                 timeout, searchwindowsize, async)\n\u001b[0m\u001b[0;32m    322\u001b[0m \u001b[1;33m\u001b[0m\u001b[0m\n\u001b[0;32m    323\u001b[0m     def expect_list(self, pattern_list, timeout=-1, searchwindowsize=-1,\n",
      "\u001b[1;32m/home/liheyi/anaconda2/lib/python2.7/site-packages/pexpect/spawnbase.pyc\u001b[0m in \u001b[0;36mexpect_list\u001b[1;34m(self, pattern_list, timeout, searchwindowsize, async)\u001b[0m\n\u001b[0;32m    343\u001b[0m             \u001b[1;32mreturn\u001b[0m \u001b[0mexpect_async\u001b[0m\u001b[1;33m(\u001b[0m\u001b[0mexp\u001b[0m\u001b[1;33m,\u001b[0m \u001b[0mtimeout\u001b[0m\u001b[1;33m)\u001b[0m\u001b[1;33m\u001b[0m\u001b[0m\n\u001b[0;32m    344\u001b[0m         \u001b[1;32melse\u001b[0m\u001b[1;33m:\u001b[0m\u001b[1;33m\u001b[0m\u001b[0m\n\u001b[1;32m--> 345\u001b[1;33m             \u001b[1;32mreturn\u001b[0m \u001b[0mexp\u001b[0m\u001b[1;33m.\u001b[0m\u001b[0mexpect_loop\u001b[0m\u001b[1;33m(\u001b[0m\u001b[0mtimeout\u001b[0m\u001b[1;33m)\u001b[0m\u001b[1;33m\u001b[0m\u001b[0m\n\u001b[0m\u001b[0;32m    346\u001b[0m \u001b[1;33m\u001b[0m\u001b[0m\n\u001b[0;32m    347\u001b[0m     def expect_exact(self, pattern_list, timeout=-1, searchwindowsize=-1,\n",
      "\u001b[1;32m/home/liheyi/anaconda2/lib/python2.7/site-packages/pexpect/expect.pyc\u001b[0m in \u001b[0;36mexpect_loop\u001b[1;34m(self, timeout)\u001b[0m\n\u001b[0;32m    105\u001b[0m             \u001b[1;32mreturn\u001b[0m \u001b[0mself\u001b[0m\u001b[1;33m.\u001b[0m\u001b[0meof\u001b[0m\u001b[1;33m(\u001b[0m\u001b[0me\u001b[0m\u001b[1;33m)\u001b[0m\u001b[1;33m\u001b[0m\u001b[0m\n\u001b[0;32m    106\u001b[0m         \u001b[1;32mexcept\u001b[0m \u001b[0mTIMEOUT\u001b[0m \u001b[1;32mas\u001b[0m \u001b[0me\u001b[0m\u001b[1;33m:\u001b[0m\u001b[1;33m\u001b[0m\u001b[0m\n\u001b[1;32m--> 107\u001b[1;33m             \u001b[1;32mreturn\u001b[0m \u001b[0mself\u001b[0m\u001b[1;33m.\u001b[0m\u001b[0mtimeout\u001b[0m\u001b[1;33m(\u001b[0m\u001b[0me\u001b[0m\u001b[1;33m)\u001b[0m\u001b[1;33m\u001b[0m\u001b[0m\n\u001b[0m\u001b[0;32m    108\u001b[0m         \u001b[1;32mexcept\u001b[0m\u001b[1;33m:\u001b[0m\u001b[1;33m\u001b[0m\u001b[0m\n\u001b[0;32m    109\u001b[0m             \u001b[0mself\u001b[0m\u001b[1;33m.\u001b[0m\u001b[0merrored\u001b[0m\u001b[1;33m(\u001b[0m\u001b[1;33m)\u001b[0m\u001b[1;33m\u001b[0m\u001b[0m\n",
      "\u001b[1;32m/home/liheyi/anaconda2/lib/python2.7/site-packages/pexpect/expect.pyc\u001b[0m in \u001b[0;36mtimeout\u001b[1;34m(self, err)\u001b[0m\n\u001b[0;32m     68\u001b[0m             \u001b[1;32mif\u001b[0m \u001b[0merr\u001b[0m \u001b[1;32mis\u001b[0m \u001b[1;32mnot\u001b[0m \u001b[0mNone\u001b[0m\u001b[1;33m:\u001b[0m\u001b[1;33m\u001b[0m\u001b[0m\n\u001b[0;32m     69\u001b[0m                 \u001b[0mmsg\u001b[0m \u001b[1;33m=\u001b[0m \u001b[0mstr\u001b[0m\u001b[1;33m(\u001b[0m\u001b[0merr\u001b[0m\u001b[1;33m)\u001b[0m \u001b[1;33m+\u001b[0m \u001b[1;34m'\\n'\u001b[0m \u001b[1;33m+\u001b[0m \u001b[0mmsg\u001b[0m\u001b[1;33m\u001b[0m\u001b[0m\n\u001b[1;32m---> 70\u001b[1;33m             \u001b[1;32mraise\u001b[0m \u001b[0mTIMEOUT\u001b[0m\u001b[1;33m(\u001b[0m\u001b[0mmsg\u001b[0m\u001b[1;33m)\u001b[0m\u001b[1;33m\u001b[0m\u001b[0m\n\u001b[0m\u001b[0;32m     71\u001b[0m \u001b[1;33m\u001b[0m\u001b[0m\n\u001b[0;32m     72\u001b[0m     \u001b[1;32mdef\u001b[0m \u001b[0merrored\u001b[0m\u001b[1;33m(\u001b[0m\u001b[0mself\u001b[0m\u001b[1;33m)\u001b[0m\u001b[1;33m:\u001b[0m\u001b[1;33m\u001b[0m\u001b[0m\n",
      "\u001b[1;31mTIMEOUT\u001b[0m: Timeout exceeded.\n<pexpect.pty_spawn.spawn object at 0x7fe7c8073050>\ncommand: /usr/bin/ftp\nargs: ['/usr/bin/ftp', 'ftp.openbsd.org']\nbuffer (last 100 chars): 'ftp: connect: Connection refused\\r\\nftp> '\nbefore (last 100 chars): 'ftp: connect: Connection refused\\r\\nftp> '\nafter: <class 'pexpect.exceptions.TIMEOUT'>\nmatch: None\nmatch_index: None\nexitstatus: None\nflag_eof: False\npid: 29246\nchild_fd: 69\nclosed: False\ntimeout: 30\ndelimiter: <class 'pexpect.exceptions.EOF'>\nlogfile: None\nlogfile_read: None\nlogfile_send: None\nmaxread: 2000\nignorecase: False\nsearchwindowsize: None\ndelaybeforesend: 0.05\ndelayafterclose: 0.1\ndelayafterterminate: 0.1\nsearcher: searcher_re:\n    0: re.compile(\"Name .*: \")"
     ]
    }
   ],
   "source": [
    "import pexpect\n",
    "child = pexpect.spawn ('ftp ftp.openbsd.org')\n",
    "child.expect ('Name .*: ')\n",
    "child.sendline ('anonymous')\n",
    "child.expect ('Password:')\n",
    "child.sendline ('noah@example.com')\n",
    "child.expect ('ftp> ')\n",
    "child.sendline ('ls /pub/OpenBSD/')\n",
    "child.expect ('ftp> ')\n",
    "print child.before   # Print the result of the ls command.\n",
    "child.interact()     # Give control of the child to the user."
   ]
  }
 ],
 "metadata": {
  "kernelspec": {
   "display_name": "Python 2",
   "language": "python",
   "name": "python2"
  },
  "language_info": {
   "codemirror_mode": {
    "name": "ipython",
    "version": 2
   },
   "file_extension": ".py",
   "mimetype": "text/x-python",
   "name": "python",
   "nbconvert_exporter": "python",
   "pygments_lexer": "ipython2",
   "version": "2.7.11"
  }
 },
 "nbformat": 4,
 "nbformat_minor": 0
}
