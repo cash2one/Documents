{
 "cells": [
  {
   "cell_type": "markdown",
   "metadata": {},
   "source": [
    "## Subprocess management"
   ]
  },
  {
   "cell_type": "markdown",
   "metadata": {},
   "source": [
    "The subprocess module allows you to spawn new processes, connect to their input/output/error pipes, and obtain their return codes.   \n",
    "This module intends to replace several older modules and functions:\n",
    "###### os.system  \n",
    "###### os.spawn*  \n",
    "###### os.popen*  \n",
    "###### popen2.*  \n",
    "###### commands.*  \n",
    "Information about how this module can be used to replace the older functions can be found in the subprocess-replacements section.  \n",
    "\n",
    "###### POSIX users (Linux, BSD, etc.) are strongly encouraged to install and use the much more recent subprocess32 module instead of the version included with python 2.7. It is a drop in replacement with better behavior in many situations."
   ]
  },
  {
   "cell_type": "markdown",
   "metadata": {},
   "source": [
    "### Using the subprocess Module"
   ]
  },
  {
   "cell_type": "markdown",
   "metadata": {},
   "source": [
    "The recommended way to launch subprocesses is to use the following convenience functions.  \n",
    "For more advanced use cases when these do not meet your needs, use the underlying Popen interface."
   ]
  },
  {
   "cell_type": "markdown",
   "metadata": {},
   "source": [
    "###### subprocess.call(args, *, stdin=None, stdout=None, stderr=None, shell=False)\n",
    "Run the command described by args.   \n",
    "Wait for command to complete, then return the returncode attribute.\n",
    "\n",
    "The arguments shown above are merely the most common ones, described below in Frequently Used Arguments (hence the slightly odd notation in the abbreviated signature).   \n",
    "\n",
    "The full function signature is the same as that of the Popen constructor - this functions passes all supplied arguments directly through to that interface."
   ]
  },
  {
   "cell_type": "code",
   "execution_count": 9,
   "metadata": {
    "collapsed": false
   },
   "outputs": [
    {
     "data": {
      "text/plain": [
       "0"
      ]
     },
     "execution_count": 9,
     "metadata": {},
     "output_type": "execute_result"
    }
   ],
   "source": [
    "import subprocess as sp\n",
    "sp.call(['ls', '-lh'])"
   ]
  },
  {
   "cell_type": "code",
   "execution_count": 10,
   "metadata": {
    "collapsed": false
   },
   "outputs": [
    {
     "data": {
      "text/plain": [
       "0"
      ]
     },
     "execution_count": 10,
     "metadata": {},
     "output_type": "execute_result"
    }
   ],
   "source": [
    "sp.call('df -lh', shell=True)"
   ]
  },
  {
   "cell_type": "markdown",
   "metadata": {},
   "source": [
    "Warning:  \n",
    "Using shell=True can be a security hazard.   \n",
    "See the warning under Frequently Used Arguments for details.  \n",
    "\n",
    "Note:   \n",
    "Do not use stdout=PIPE or stderr=PIPE with this function as that can deadlock based on the child process output volume.   \n",
    "Use Popen with the communicate() method when you need pipes."
   ]
  },
  {
   "cell_type": "markdown",
   "metadata": {},
   "source": [
    "###### subprocess.check_call(args, *, stdin=None, stdout=None, stderr=None, shell=False)\n",
    "Run command with arguments.   \n",
    "Wait for command to complete.   \n",
    "If the return code was zero then return, otherwise raise CalledProcessError.   \n",
    "The CalledProcessError object will have the return code in the returncode attribute."
   ]
  },
  {
   "cell_type": "code",
   "execution_count": 12,
   "metadata": {
    "collapsed": false
   },
   "outputs": [
    {
     "data": {
      "text/plain": [
       "0"
      ]
     },
     "execution_count": 12,
     "metadata": {},
     "output_type": "execute_result"
    }
   ],
   "source": [
    "sp.check_call([\"ls\", \"-lh\"])"
   ]
  },
  {
   "cell_type": "code",
   "execution_count": 13,
   "metadata": {
    "collapsed": false
   },
   "outputs": [
    {
     "ename": "CalledProcessError",
     "evalue": "Command 'exit 1' returned non-zero exit status 1",
     "output_type": "error",
     "traceback": [
      "\u001b[1;31m---------------------------------------------------------------------------\u001b[0m",
      "\u001b[1;31mCalledProcessError\u001b[0m                        Traceback (most recent call last)",
      "\u001b[1;32m<ipython-input-13-9ad706dd1b4b>\u001b[0m in \u001b[0;36m<module>\u001b[1;34m()\u001b[0m\n\u001b[1;32m----> 1\u001b[1;33m \u001b[0msp\u001b[0m\u001b[1;33m.\u001b[0m\u001b[0mcheck_call\u001b[0m\u001b[1;33m(\u001b[0m\u001b[1;34m\"exit 1\"\u001b[0m\u001b[1;33m,\u001b[0m \u001b[0mshell\u001b[0m\u001b[1;33m=\u001b[0m\u001b[0mTrue\u001b[0m\u001b[1;33m)\u001b[0m\u001b[1;33m\u001b[0m\u001b[0m\n\u001b[0m",
      "\u001b[1;32m/home/liheyi/anaconda2/lib/python2.7/subprocess.pyc\u001b[0m in \u001b[0;36mcheck_call\u001b[1;34m(*popenargs, **kwargs)\u001b[0m\n\u001b[0;32m    538\u001b[0m         \u001b[1;32mif\u001b[0m \u001b[0mcmd\u001b[0m \u001b[1;32mis\u001b[0m \u001b[0mNone\u001b[0m\u001b[1;33m:\u001b[0m\u001b[1;33m\u001b[0m\u001b[0m\n\u001b[0;32m    539\u001b[0m             \u001b[0mcmd\u001b[0m \u001b[1;33m=\u001b[0m \u001b[0mpopenargs\u001b[0m\u001b[1;33m[\u001b[0m\u001b[1;36m0\u001b[0m\u001b[1;33m]\u001b[0m\u001b[1;33m\u001b[0m\u001b[0m\n\u001b[1;32m--> 540\u001b[1;33m         \u001b[1;32mraise\u001b[0m \u001b[0mCalledProcessError\u001b[0m\u001b[1;33m(\u001b[0m\u001b[0mretcode\u001b[0m\u001b[1;33m,\u001b[0m \u001b[0mcmd\u001b[0m\u001b[1;33m)\u001b[0m\u001b[1;33m\u001b[0m\u001b[0m\n\u001b[0m\u001b[0;32m    541\u001b[0m     \u001b[1;32mreturn\u001b[0m \u001b[1;36m0\u001b[0m\u001b[1;33m\u001b[0m\u001b[0m\n\u001b[0;32m    542\u001b[0m \u001b[1;33m\u001b[0m\u001b[0m\n",
      "\u001b[1;31mCalledProcessError\u001b[0m: Command 'exit 1' returned non-zero exit status 1"
     ]
    }
   ],
   "source": [
    "sp.check_call(\"exit 1\", shell=True)"
   ]
  },
  {
   "cell_type": "markdown",
   "metadata": {},
   "source": [
    "###### subprocess.check_output(args, *, stdin=None, stderr=None, shell=False, universal_newlines=False)\n",
    "Run command with arguments and return its output as a byte string.   \n",
    "If the return code was non-zero it raises a CalledProcessError.   \n",
    "The CalledProcessError object will have the return code in the returncode attribute and any output in the output attribute."
   ]
  },
  {
   "cell_type": "code",
   "execution_count": 15,
   "metadata": {
    "collapsed": false
   },
   "outputs": [
    {
     "data": {
      "text/plain": [
       "'192.168.112.108\\n192.168.112.109\\n192.168.112.110\\n192.168.112.111\\n'"
      ]
     },
     "execution_count": 15,
     "metadata": {},
     "output_type": "execute_result"
    }
   ],
   "source": [
    "sp.check_output([\"cat\", '/home/liheyi/ip.txt'])"
   ]
  },
  {
   "cell_type": "code",
   "execution_count": 16,
   "metadata": {
    "collapsed": false
   },
   "outputs": [
    {
     "ename": "CalledProcessError",
     "evalue": "Command 'cat file' returned non-zero exit status 1",
     "output_type": "error",
     "traceback": [
      "\u001b[1;31m---------------------------------------------------------------------------\u001b[0m",
      "\u001b[1;31mCalledProcessError\u001b[0m                        Traceback (most recent call last)",
      "\u001b[1;32m<ipython-input-16-88dd43b0320c>\u001b[0m in \u001b[0;36m<module>\u001b[1;34m()\u001b[0m\n\u001b[1;32m----> 1\u001b[1;33m \u001b[0msp\u001b[0m\u001b[1;33m.\u001b[0m\u001b[0mcheck_output\u001b[0m\u001b[1;33m(\u001b[0m\u001b[1;34m\"cat file\"\u001b[0m\u001b[1;33m,\u001b[0m \u001b[0mshell\u001b[0m\u001b[1;33m=\u001b[0m\u001b[0mTrue\u001b[0m\u001b[1;33m)\u001b[0m\u001b[1;33m\u001b[0m\u001b[0m\n\u001b[0m",
      "\u001b[1;32m/home/liheyi/anaconda2/lib/python2.7/subprocess.pyc\u001b[0m in \u001b[0;36mcheck_output\u001b[1;34m(*popenargs, **kwargs)\u001b[0m\n\u001b[0;32m    571\u001b[0m         \u001b[1;32mif\u001b[0m \u001b[0mcmd\u001b[0m \u001b[1;32mis\u001b[0m \u001b[0mNone\u001b[0m\u001b[1;33m:\u001b[0m\u001b[1;33m\u001b[0m\u001b[0m\n\u001b[0;32m    572\u001b[0m             \u001b[0mcmd\u001b[0m \u001b[1;33m=\u001b[0m \u001b[0mpopenargs\u001b[0m\u001b[1;33m[\u001b[0m\u001b[1;36m0\u001b[0m\u001b[1;33m]\u001b[0m\u001b[1;33m\u001b[0m\u001b[0m\n\u001b[1;32m--> 573\u001b[1;33m         \u001b[1;32mraise\u001b[0m \u001b[0mCalledProcessError\u001b[0m\u001b[1;33m(\u001b[0m\u001b[0mretcode\u001b[0m\u001b[1;33m,\u001b[0m \u001b[0mcmd\u001b[0m\u001b[1;33m,\u001b[0m \u001b[0moutput\u001b[0m\u001b[1;33m=\u001b[0m\u001b[0moutput\u001b[0m\u001b[1;33m)\u001b[0m\u001b[1;33m\u001b[0m\u001b[0m\n\u001b[0m\u001b[0;32m    574\u001b[0m     \u001b[1;32mreturn\u001b[0m \u001b[0moutput\u001b[0m\u001b[1;33m\u001b[0m\u001b[0m\n\u001b[0;32m    575\u001b[0m \u001b[1;33m\u001b[0m\u001b[0m\n",
      "\u001b[1;31mCalledProcessError\u001b[0m: Command 'cat file' returned non-zero exit status 1"
     ]
    }
   ],
   "source": [
    "sp.check_output(\"cat file\", shell=True)"
   ]
  },
  {
   "cell_type": "markdown",
   "metadata": {},
   "source": [
    "To also capture standard error in the result, use stderr=subprocess.STDOUT:"
   ]
  },
  {
   "cell_type": "code",
   "execution_count": 19,
   "metadata": {
    "collapsed": false
   },
   "outputs": [
    {
     "data": {
      "text/plain": [
       "'ls: cannot access non_existent_file: No such file or directory\\n'"
      ]
     },
     "execution_count": 19,
     "metadata": {},
     "output_type": "execute_result"
    }
   ],
   "source": [
    "sp.check_output(\n",
    "    \"ls non_existent_file; exit 0\",\n",
    "    stderr=sp.STDOUT,\n",
    "    shell=True)"
   ]
  },
  {
   "cell_type": "markdown",
   "metadata": {},
   "source": [
    "###### subprocess.PIPE\n",
    "Special value that can be used as the stdin, stdout or stderr argument to Popen and indicates that a pipe to the standard stream should be opened."
   ]
  },
  {
   "cell_type": "markdown",
   "metadata": {},
   "source": [
    "###### subprocess.STDOUT\n",
    "Special value that can be used as the stderr argument to Popen and indicates that standard error should go into the same handle as standard output."
   ]
  },
  {
   "cell_type": "markdown",
   "metadata": {},
   "source": [
    "###### exception subprocess.CalledProcessError(retcode, cmd, output=output)\n",
    "Exception raised when a process run by check_call() or check_output() returns a non-zero exit status.\n",
    "\n",
    "returncode\n",
    "Exit status of the child process.  \n",
    "\n",
    "cmd  \n",
    "Command that was used to spawn the child process.  \n",
    "\n",
    "output  \n",
    "Output of the child process if this exception is raised by check_output(). Otherwise, None.\n"
   ]
  },
  {
   "cell_type": "markdown",
   "metadata": {},
   "source": [
    "####  Frequently Used Arguments"
   ]
  },
  {
   "cell_type": "markdown",
   "metadata": {},
   "source": [
    "To support a wide variety of use cases, the Popen constructor (and the convenience functions) accept a large number of optional arguments.   \n",
    "For most typical use cases, many of these arguments can be safely left at their default values.   \n",
    "The arguments that are most commonly needed are:"
   ]
  },
  {
   "cell_type": "markdown",
   "metadata": {},
   "source": [
    "###### args\n",
    "args is required for all calls and should be a string, or a sequence of program arguments.  \n",
    "\n",
    "Providing a sequence of arguments is generally preferred, as it allows the module to take care of any required escaping and quoting of arguments (e.g. to permit spaces in file names).   \n",
    "If passing a single string, either shell must be True (see below) or else the string must simply name the program to be executed without specifying any arguments."
   ]
  },
  {
   "cell_type": "markdown",
   "metadata": {},
   "source": [
    "###### stdin, stdout and stderr\n",
    "stdin, stdout and stderr specify the executed program’s standard input, standard output and standard error file handles, respectively.   \n",
    "Valid values are PIPE, an existing file descriptor (a positive integer), an existing file object, and None.  \n",
    "PIPE indicates that a new pipe to the child should be created.   \n",
    "With the default settings of None, no redirection will occur; the child’s file handles will be inherited from the parent.   \n",
    "Additionally, stderr can be STDOUT, which indicates that the stderr data from the child process should be captured into the same file handle as for stdout.  \n",
    "\n",
    "When stdout or stderr are pipes and universal_newlines is True then all line endings will be converted to '\\n' as described for the universal newlines 'U' mode argument to open()."
   ]
  },
  {
   "cell_type": "markdown",
   "metadata": {},
   "source": [
    "###### shell\n",
    "If shell is True, the specified command will be executed through the shell.   \n",
    "This can be useful if you are using Python primarily for the enhanced control flow it offers over most system shells and still want convenient access to other shell features such as shell pipes, filename wildcards, environment variable expansion, and expansion of ~ to a user’s home directory.   \n",
    "However, note that Python itself offers implementations of many shell-like features (in particular, glob, fnmatch, os.walk(), os.path.expandvars(), os.path.expanduser(), and shutil).  \n",
    "Warning:  \n",
    "Executing shell commands that incorporate sanitized input from an untrusted source makes a program vulnerable to shell injection, a serious security flaw which can result in arbitrary command execution.   \n",
    "For this reason, the use of shell=True is strongly discouraged in cases where the command string is constructed from external input:  \n",
    ">>> from subprocess import call  \n",
    ">>> filename = input(\"What file would you like to display?\\n\")  \n",
    "What file would you like to display?  \n",
    "non_existent; rm -rf / #  \n",
    ">>> call(\"cat \" + filename, shell=True) # Uh-oh. This will end badly...  \n",
    "\n",
    "shell=False disables all shell based features, but does not suffer from this vulnerability;   \n",
    "see the Note in the Popen constructor documentation for helpful hints in getting shell=False to work.  \n",
    "\n",
    "When using shell=True, pipes.quote() can be used to properly escape whitespace and shell metacharacters in strings that are going to be used to construct shell commands."
   ]
  },
  {
   "cell_type": "markdown",
   "metadata": {},
   "source": [
    "### Popen Constructor"
   ]
  },
  {
   "cell_type": "markdown",
   "metadata": {},
   "source": [
    "The underlying process creation and management in this module is handled by the Popen class.   \n",
    "It offers a lot of flexibility so that developers are able to handle the less common cases not covered by the convenience functions."
   ]
  },
  {
   "cell_type": "markdown",
   "metadata": {},
   "source": [
    "###### class subprocess.Popen(args, bufsize=0, executable=None, stdin=None, stdout=None, stderr=None, preexec_fn=None, close_fds=False, shell=False, cwd=None, env=None, universal_newlines=False, startupinfo=None, creationflags=0)\n",
    "Execute a child program in a new process.   \n",
    "On Unix, the class uses os.execvp()-like behavior to execute the child program.   \n",
    "On Windows, the class uses the Windows CreateProcess() function.   \n",
    "The arguments to Popen are as follows:"
   ]
  },
  {
   "cell_type": "markdown",
   "metadata": {},
   "source": [
    "###### args\n",
    "args should be a sequence of program arguments or else a single string.   \n",
    "By default, the program to execute is the first item in args if args is a sequence.   \n",
    "If args is a string, the interpretation is platform-dependent and described below.   \n",
    "See the shell and executable arguments for additional differences from the default behavior.   \n",
    "Unless otherwise stated, it is recommended to pass args as a sequence.  \n",
    "\n",
    "On Unix, if args is a string, the string is interpreted as the name or path of the program to execute.   \n",
    "However, this can only be done if not passing arguments to the program.  \n",
    "Note:   \n",
    "shlex.split() can be useful when determining the correct tokenization for args, especially in complex cases:"
   ]
  },
  {
   "cell_type": "code",
   "execution_count": 20,
   "metadata": {
    "collapsed": false
   },
   "outputs": [
    {
     "name": "stdout",
     "output_type": "stream",
     "text": [
      "['mysql', '-uroot', '-S', '/tmp/mysql.sock', '-e', 'show databases;']\n"
     ]
    }
   ],
   "source": [
    "import shlex, subprocess\n",
    "command_line = 'mysql -uroot -S /tmp/mysql.sock -e \"show databases;\"'\n",
    "args = shlex.split(command_line)\n",
    "print args"
   ]
  },
  {
   "cell_type": "code",
   "execution_count": 25,
   "metadata": {
    "collapsed": false
   },
   "outputs": [],
   "source": [
    "p = subprocess.Popen(args)"
   ]
  },
  {
   "cell_type": "markdown",
   "metadata": {},
   "source": [
    "###### shell\n",
    "The shell argument (which defaults to False) specifies whether to use the shell as the program to execute.   \n",
    "If shell is True, it is recommended to pass args as a string rather than as a sequence.\n",
    "\n",
    "On Unix with shell=True, the shell defaults to /bin/sh.   \n",
    "If args is a string, the string specifies the command to execute through the shell.   \n",
    "This means that the string must be formatted exactly as it would be when typed at the shell prompt.   \n",
    "This includes, for example, quoting or backslash escaping filenames with spaces in them.   \n",
    "If args is a sequence, the first item specifies the command string, and any additional items will be treated as additional arguments to the shell itself.   \n",
    "That is to say, Popen does the equivalent of:  \n",
    ">Popen(['/bin/sh', '-c', args[0], args[1], ...])  \n",
    "\n",
    "Warning:  \n",
    "Passing shell=True can be a security hazard if combined with untrusted input.   \n",
    "See the warning under Frequently Used Arguments for details."
   ]
  },
  {
   "cell_type": "markdown",
   "metadata": {},
   "source": [
    "###### bufsize\n",
    "bufsize, if given, has the same meaning as the corresponding argument to the built-in open() function: 0 means unbuffered, 1 means line buffered, any other positive value means use a buffer of (approximately) that size.   \n",
    "A negative bufsize means to use the system default, which usually means fully buffered.   \n",
    "The default value for bufsize is 0 (unbuffered).  \n",
    "Note:  \n",
    "If you experience performance issues, it is recommended that you try to enable buffering by setting bufsize to either -1 or a large enough positive value (such as 4096).  "
   ]
  },
  {
   "cell_type": "markdown",
   "metadata": {},
   "source": [
    "###### executable \n",
    "The executable argument specifies a replacement program to execute.   \n",
    "It is very seldom needed.   \n",
    "When shell=False, executable replaces the program to execute specified by args.   \n",
    "However, the original args is still passed to the program.   \n",
    "Most programs treat the program specified by args as the command name, which can then be different from the program actually executed.   \n",
    "On Unix, the args name becomes the display name for the executable in utilities such as ps.   \n",
    "If shell=True, on Unix the executable argument specifies a replacement shell for the default /bin/sh."
   ]
  },
  {
   "cell_type": "markdown",
   "metadata": {},
   "source": [
    "###### stdin, stdout and stderr\n",
    "stdin, stdout and stderr specify the executed program’s standard input, standard output and standard error file handles, respectively.   \n",
    "Valid values are PIPE, an existing file descriptor (a positive integer), an existing file object, and None.   \n",
    "PIPE indicates that a new pipe to the child should be created.   \n",
    "With the default settings of None, no redirection will occur; the child’s file handles will be inherited from the parent.   \n",
    "Additionally, stderr can be STDOUT, which indicates that the stderr data from the child process should be captured into the same file handle as for stdout."
   ]
  },
  {
   "cell_type": "markdown",
   "metadata": {},
   "source": [
    "###### preexec_fn \n",
    "If preexec_fn is set to a callable object, this object will be called in the child process just before the child is executed. (Unix only)"
   ]
  },
  {
   "cell_type": "markdown",
   "metadata": {},
   "source": [
    "###### close_fds \n",
    "If close_fds is true, all file descriptors except 0, 1 and 2 will be closed before the child process is executed.(Unix only)."
   ]
  },
  {
   "cell_type": "markdown",
   "metadata": {},
   "source": [
    "###### cwd \n",
    "If cwd is not None, the child’s current directory will be changed to cwd before it is executed.   \n",
    "Note that this directory is not considered when searching the executable, so you can’t specify the program’s path relative to cwd.  "
   ]
  },
  {
   "cell_type": "markdown",
   "metadata": {},
   "source": [
    "###### env \n",
    "If env is not None, it must be a mapping that defines the environment variables for the new process; these are used instead of inheriting the current process’ environment, which is the default behavior.  \n",
    "Note:  \n",
    "If specified, env must provide any variables required for the program to execute. "
   ]
  },
  {
   "cell_type": "markdown",
   "metadata": {},
   "source": [
    "###### universal_newlines \n",
    "If universal_newlines is True, the file objects stdout and stderr are opened as text files in universal newlines mode.   \n",
    "Lines may be terminated by any of '\\n', the Unix end-of-line convention, '\\r', the old Macintosh convention or '\\r\\n', the Windows convention.   \n",
    "All of these external representations are seen as '\\n' by the Python program.  \n",
    "Note:  \n",
    "This feature is only available if Python is built with universal newline support (the default).   \n",
    "Also, the newlines attribute of the file objects stdout, stdin and stderr are not updated by the communicate() method."
   ]
  },
  {
   "cell_type": "markdown",
   "metadata": {},
   "source": [
    "###### startupinfo \n",
    "If given, startupinfo will be a STARTUPINFO object, which is passed to the underlying CreateProcess function.  "
   ]
  },
  {
   "cell_type": "markdown",
   "metadata": {},
   "source": [
    "###### creationflags\n",
    "creationflags, if given, can be CREATE_NEW_CONSOLE or CREATE_NEW_PROCESS_GROUP. (Windows only)"
   ]
  },
  {
   "cell_type": "markdown",
   "metadata": {},
   "source": [
    "### Exceptions"
   ]
  },
  {
   "cell_type": "markdown",
   "metadata": {},
   "source": [
    "Exceptions raised in the child process, before the new program has started to execute, will be re-raised in the parent.   \n",
    "Additionally, the exception object will have one extra attribute called child_traceback, which is a string containing traceback information from the child’s point of view.  "
   ]
  },
  {
   "cell_type": "markdown",
   "metadata": {},
   "source": [
    "###### OSError\n",
    "The most common exception raised is OSError.   \n",
    "This occurs, for example, when trying to execute a non-existent file.   \n",
    "Applications should prepare for OSError exceptions."
   ]
  },
  {
   "cell_type": "markdown",
   "metadata": {},
   "source": [
    "###### ValueError\n",
    "A ValueError will be raised if Popen is called with invalid arguments."
   ]
  },
  {
   "cell_type": "markdown",
   "metadata": {},
   "source": [
    "###### CalledProcessError\n",
    "check_call() and check_output() will raise CalledProcessError if the called process returns a non-zero return code."
   ]
  },
  {
   "cell_type": "markdown",
   "metadata": {},
   "source": [
    "### Security"
   ]
  },
  {
   "cell_type": "markdown",
   "metadata": {},
   "source": [
    "Unlike some other popen functions, this implementation will never call a system shell implicitly.   \n",
    "This means that all characters, including shell metacharacters, can safely be passed to child processes.   Obviously, if the shell is invoked explicitly, then it is the application’s responsibility to ensure that all whitespace and metacharacters are quoted appropriately."
   ]
  },
  {
   "cell_type": "code",
   "execution_count": null,
   "metadata": {
    "collapsed": true
   },
   "outputs": [],
   "source": []
  }
 ],
 "metadata": {
  "kernelspec": {
   "display_name": "Python 2",
   "language": "python",
   "name": "python2"
  },
  "language_info": {
   "codemirror_mode": {
    "name": "ipython",
    "version": 2
   },
   "file_extension": ".py",
   "mimetype": "text/x-python",
   "name": "python",
   "nbconvert_exporter": "python",
   "pygments_lexer": "ipython2",
   "version": "2.7.11"
  }
 },
 "nbformat": 4,
 "nbformat_minor": 0
}
