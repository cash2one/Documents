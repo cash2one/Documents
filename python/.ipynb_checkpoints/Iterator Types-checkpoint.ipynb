{
 "cells": [
  {
   "cell_type": "markdown",
   "metadata": {},
   "source": [
    "Python supports a concept of iteration over containers.   \n",
    "This is implemented using two distinct methods:  \n",
    "1.These are used to allow user-defined classes to support iteration.   \n",
    "2.Sequences, described below in more detail, always support the iteration methods.  \n",
    "\n",
    "One method needs to be defined for container objects to provide iteration support:  \n",
    "###### container.__iter__()\n",
    "Return an iterator object.   \n",
    "The object is required to support the iterator protocol described below.   \n",
    "If a container supports different types of iteration, additional methods can be provided to specifically request iterators for those iteration types.   \n",
    "(An example of an object supporting multiple forms of iteration would be a tree structure which supports both breadth-first and depth-first traversal.)   \n",
    "This method corresponds to the tp_iter slot of the type structure for Python objects in the Python/C API.  \n",
    "\n",
    "###### The iterator objects themselves are required to support the following two methods, which together form the iterator protocol:\n",
    "###### iterator.__iter__()\n",
    "Return the iterator object itself.   \n",
    "This is required to allow both containers and iterators to be used with the for and in statements.   \n",
    "This method corresponds to the tp_iter slot of the type structure for Python objects in the Python/C API.  \n",
    "\n",
    "###### iterator.next()\n",
    "Return the next item from the container.   \n",
    "If there are no further items, raise the StopIteration exception.   \n",
    "This method corresponds to the tp_iternext slot of the type structure for Python objects in the Python/C API.  \n",
    "\n",
    "Python defines several iterator objects to support iteration over general and specific sequence types, dictionaries, and other more specialized forms.   \n",
    "The specific types are not important beyond their implementation of the iterator protocol.\n",
    "\n",
    "The intention of the protocol is that once an iterator’s next() method raises StopIteration, it will continue to do so on subsequent calls.  \n",
    "Implementations that do not obey this property are deemed broken.   \n",
    "(This constraint was added in Python 2.3; in Python 2.2, various iterators are broken according to this rule.)\n"
   ]
  },
  {
   "cell_type": "code",
   "execution_count": null,
   "metadata": {
    "collapsed": true
   },
   "outputs": [],
   "source": []
  }
 ],
 "metadata": {
  "kernelspec": {
   "display_name": "Python 2",
   "language": "python",
   "name": "python2"
  },
  "language_info": {
   "codemirror_mode": {
    "name": "ipython",
    "version": 2
   },
   "file_extension": ".py",
   "mimetype": "text/x-python",
   "name": "python",
   "nbconvert_exporter": "python",
   "pygments_lexer": "ipython2",
   "version": "2.7.11"
  }
 },
 "nbformat": 4,
 "nbformat_minor": 0
}
